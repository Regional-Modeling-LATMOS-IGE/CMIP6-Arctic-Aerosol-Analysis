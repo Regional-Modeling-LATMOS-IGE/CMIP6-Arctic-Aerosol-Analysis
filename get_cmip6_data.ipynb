{
 "cells": [
  {
   "cell_type": "markdown",
   "id": "5dc97a7c-a97e-4464-9d20-e22becb5685b",
   "metadata": {},
   "source": [
    "# Downloading and preparing an ensemble of CMIP6 data obtained with a series of criterias thanks to intake-esgf"
   ]
  },
  {
   "cell_type": "markdown",
   "id": "ed8b1ede-2de5-487c-9602-6b1b339c6e44",
   "metadata": {},
   "source": [
    "---\n",
    "\n",
    "## Purpose of the notebook\n",
    "\n",
    "---"
   ]
  },
  {
   "cell_type": "markdown",
   "id": "ed44b794",
   "metadata": {},
   "source": [
    "This notebook aims at **downloading an ensemble of CMIP6 variables from python** thanks to a dictionary of **user-defined criterias**. It then **process to prepare the raw data** to make it more usable in a python code.\n",
    "\n",
    "All the links of the documents were accessed on the **25/03/2025**.\n",
    "\n",
    "It uses the *intake-esgf* library : https://github.com/esgf2-us/intake-esgf?tab=readme-ov-file. A beginner guide for this library can be found there : https://intake-esgf.readthedocs.io/en/latest/beginner.html.\n",
    "\n",
    "A detailed documentation for the CMIP6 can be found here : https://wcrp-cmip.org/cmip-model-and-experiment-documentation/.\n",
    "\n",
    "\n",
    "\n",
    "Feel free to share, use and improve the following code according to the provided license on the repository."
   ]
  },
  {
   "cell_type": "markdown",
   "id": "a63dc94a-da9d-4935-b2f2-980f174b2e94",
   "metadata": {},
   "source": [
    "---\n",
    "\n",
    "## Model outputs searched\n",
    "\n",
    "---"
   ]
  },
  {
   "cell_type": "markdown",
   "id": "01a3801d",
   "metadata": {},
   "source": [
    "Every search needs to be constrained by the attributes of the model outputs we are looking for. A detailed document listing these attributes can be found here : https://docs.google.com/document/d/1h0r8RZr_f3-8egBMMh7aqLwy3snpD6_MrDz1q8n5XUk/edit?tab=t.0."
   ]
  },
  {
   "cell_type": "markdown",
   "id": "79fed764-1686-4617-b8db-4eb9124a0030",
   "metadata": {},
   "source": [
    "### Experiments"
   ]
  },
  {
   "cell_type": "markdown",
   "id": "8e7090b8-596e-4ed9-bab7-6ace8abf1da2",
   "metadata": {},
   "source": [
    "We use two experiments realized during the CMIP6  : **piClim-control** and **piClim-aer**. These are both atmosphere-only climate model simulations in which sea surface temperatures (SSTs) and sea icea concentrations (SICs) are fixed at model-specific preindustrial climatological values. The description of the experiments can be found here : https://wcrp-cmip.github.io/CMIP6_CVs/docs/CMIP6_experiment_id.html.\n",
    "\n",
    "> **piClim-control** : assumes aerosols' burdens set to their preindustrial levels, it is the control experiment.\n",
    "> \n",
    "> **piClim-aer** : uses present-day, present-day being 2014, aerosols burdens' levels."
   ]
  },
  {
   "cell_type": "markdown",
   "id": "b9468df7-ef52-4b1f-a170-d8aaef381f57",
   "metadata": {},
   "source": [
    "### Variables"
   ]
  },
  {
   "cell_type": "markdown",
   "id": "a780d594-a1a1-4332-8a62-bb9aae82697f",
   "metadata": {},
   "source": [
    "The variable used are listed and explicited below according to : https://clipc-services.ceda.ac.uk/dreq/mipVars.html.\n",
    "\n",
    "> <span style=\"color:SkyBlue\">**clt**</span>  : Total cloud area fraction (%) for the whole atmospheric column\n",
    ">\n",
    "> <span style=\"color:gold\">**rsdt**</span> : Shortwave radiation ($W/m^{2}$) **incident** at the TOA\n",
    "> \n",
    "> <span style=\"color:orange\">**rsut**</span> : Shortwave radiation ($W/m^{2}$) **going out**  at the TOA\n",
    ">\n",
    "> <span style=\"color:orangered\">**rsutcs**</span> : Shortwave radiation ($W/m^{2}$) **going out**  at TOA for **clear-sky conditions**\n",
    "> \n",
    "> <span style=\"color:Orchid\">**rsds**</span> : Shortwave **downwelling** radiation ($W/m^{2}$) at the surface\n",
    "> \n",
    "> <span style=\"color:Indigo \">**rsdscs**</span>  : Shortwave **downwelling** radiation ($W/m^{2}$) at the surface for **clear-sky conditions**\n",
    "> \n",
    "> <span style=\"color:YellowGreen\">**rsus**</span> : Shortwave **upwelling** radiation ($W/m^{2}$) at the surface\n",
    ">\n",
    "> <span style=\"color:Darkgreen\">**rsuscs**</span>: Shortwave **upwelling** radiation ($W/m^{2}$) at the surface for **clear-sky conditions**\n",
    ">\n",
    "> **areacella** : For every grid, the latitude-dependent surface associated to each grid point."
   ]
  },
  {
   "cell_type": "markdown",
   "id": "389886f6-2e8d-4d99-b4cc-71ebd86e01fb",
   "metadata": {},
   "source": [
    "### Table"
   ]
  },
  {
   "cell_type": "markdown",
   "id": "cf7a82e4-19a5-4bb9-aa5d-ccb2c6260107",
   "metadata": {},
   "source": [
    "The table sets how the variables are organized. We use the **AERmon** table. The details about the tables can be found here : https://clipc-services.ceda.ac.uk/dreq/index/miptable.html.\n",
    "\n",
    "> **Amon** stands for a set of monthly atmospheric data"
   ]
  },
  {
   "cell_type": "markdown",
   "id": "19fb1cc5-febe-4ebf-8dca-b8700098e548",
   "metadata": {},
   "source": [
    "---\n",
    "\n",
    "## Initialisation\n",
    "\n",
    "---"
   ]
  },
  {
   "cell_type": "markdown",
   "id": "cbdebe37-a1de-4df2-a44b-1115d2a8c4dd",
   "metadata": {},
   "source": [
    "### Importations"
   ]
  },
  {
   "cell_type": "markdown",
   "id": "bb63355f-8ed1-4a49-aef4-82919ba07cf8",
   "metadata": {},
   "source": [
    "We import the needed libraries."
   ]
  },
  {
   "cell_type": "code",
   "execution_count": 1,
   "id": "16dab12c-5141-4e6f-a908-aa5792b296ea",
   "metadata": {},
   "outputs": [],
   "source": [
    "# ================ IMPORTATIONS ================ #\n",
    "\n",
    "### DOWNLADING THE ENTRIES ###\n",
    "\n",
    "import intake_esgf  # this gives us access to the ESGF catalog to make queries\n",
    "\n",
    "### DATA OBJECTS AND ASSOCIATED COMPUTATION ###\n",
    "\n",
    "import pandas as pd  # to manage the product of the search\n",
    "\n",
    "import numpy as np  # to manage the pandas arrays\n",
    "\n",
    "### HANDLE PATHS ###\n",
    "\n",
    "import os  # to get access to commands related to path setting and creation of directories\n",
    "\n",
    "### HOMEMADE ROUTINES ###\n",
    "\n",
    "## Bash folder routines from python ##\n",
    "\n",
    "from utilities.get_cmip6_data.folders_handle.create import (\n",
    "    create_dir, # function to create a cleaned downloading directory\n",
    ")  \n",
    "\n",
    "## Per-entry download routine ##\n",
    "\n",
    "from utilities.get_cmip6_data.load_raw_data.load_cmip6 import (\n",
    "    update_single_entry_keys, # makes the good key format for the full cmip6 dictionary\n",
    "    generate_single_model_search_criterias # generates search criterias for a single model\n",
    ") "
   ]
  },
  {
   "cell_type": "markdown",
   "id": "9474b9b5-edeb-4cc5-829c-035af5c986ff",
   "metadata": {},
   "source": [
    "### Set our search criterias "
   ]
  },
  {
   "cell_type": "markdown",
   "id": "68d13d48-a18d-4f4c-ae0c-32719909fdc6",
   "metadata": {},
   "source": [
    "Here the user may define its search criterias. We create a dictionary structure whose keys are the search criterias."
   ]
  },
  {
   "cell_type": "code",
   "execution_count": 2,
   "id": "d8159458-7777-4fe5-83af-84d953ea377f",
   "metadata": {},
   "outputs": [],
   "source": [
    "# ================ SEARCH CRITERIAS FOR OUR ANALYSIS ================ #\n",
    "\n",
    "### EXPERIMENTS ###\n",
    "\n",
    "experiment_id = [\n",
    "    \"piClim-control\",\n",
    "    \"piClim-aer\",\n",
    "]\n",
    "\n",
    "### VARIABLES ###\n",
    "\n",
    "variable_id = [\n",
    "    \"clt\",\n",
    "    \"rsdt\",\n",
    "    \"rsut\",\n",
    "    \"rsutcs\",\n",
    "    \"rsds\",\n",
    "    \"rsus\",\n",
    "    \"rsdscs\",\n",
    "    \"rsuscs\",\n",
    "]\n",
    "\n",
    "### TABLE ###\n",
    "\n",
    "table_id = \"Amon\"\n",
    "\n",
    "### DEFINE SEARCH CRITERIAS dictionary ###\n",
    "\n",
    "search = {\n",
    "    \"experiment_id\" : experiment_id,\n",
    "    \"variable_id\" : variable_id,\n",
    "    \"table_id\" : table_id\n",
    "}"
   ]
  },
  {
   "cell_type": "markdown",
   "id": "39c9f4bd-93d4-48be-8384-917bc9a707c2",
   "metadata": {},
   "source": [
    "### Create the folder in which the data will be stored"
   ]
  },
  {
   "cell_type": "markdown",
   "id": "9c11ada8",
   "metadata": {},
   "source": [
    "Here the user can chose to create the folder to store the data. It will erase a pre-existing folder if the *do_we_clear* option is set to **True**. This can be quite slow if the data folder is already holding some heavy data."
   ]
  },
  {
   "cell_type": "code",
   "execution_count": null,
   "id": "9a6e8437",
   "metadata": {},
   "outputs": [],
   "source": [
    "# ================ CHOSE IF WE CLEAR AN ALREADY EXISTING FOLDER ================ #\n",
    "\n",
    "do_we_clear = False"
   ]
  },
  {
   "cell_type": "code",
   "execution_count": 4,
   "id": "415429ca-8b8a-4fbb-9aa5-75775894c60c",
   "metadata": {},
   "outputs": [
    {
     "name": "stdout",
     "output_type": "stream",
     "text": [
      "The downloading folder CMIP6-DATA is under the path /home/jovyan/certainty-data/CMIP6-DATA.\n"
     ]
    }
   ],
   "source": [
    "# ================ CREATE THE FOLDER TO STORE THE DOWNLOADED DATA ================ #\n",
    "\n",
    "### DEFINE WHERE TO MOVE THE FILES AT THE END ###\n",
    "\n",
    "## Home directory ##\n",
    "\n",
    "homedir_path = os.path.expanduser(\"~\")\n",
    "\n",
    "## Parent directory ##\n",
    "\n",
    "parent_path = homedir_path + \"/certainty-data\"\n",
    "\n",
    "## Name of the created folder ##\n",
    "\n",
    "downloading_folder_name = \"CMIP6-DATA\"\n",
    "\n",
    "### CREATE THE DIRECTORY AND EMPTY IF MAKE_A_NEW_FOLDER ###\n",
    "\n",
    "downloading_path = create_dir(\n",
    "    parent_path=parent_path, name=downloading_folder_name, clear=do_we_clear\n",
    ")\n",
    "\n",
    "print(\n",
    "    \"The downloading folder {} is under the path {}.\".format(\n",
    "        downloading_folder_name, downloading_path\n",
    "    )\n",
    ")"
   ]
  },
  {
   "cell_type": "markdown",
   "id": "b10c8be4-7c3d-4206-8519-af1898501d0c",
   "metadata": {},
   "source": [
    "---\n",
    "## Configure the ESGFCatalog\n",
    "\n",
    "\n",
    "---"
   ]
  },
  {
   "cell_type": "markdown",
   "id": "2856c1ec-613e-414c-9690-086a43e26a16",
   "metadata": {},
   "source": [
    "The ESGFCatalog is initially parametrized with default values one may want to change. We will focus on three main changes :\n",
    "\n",
    "* **defining the nodes that the query will investigate** \n",
    "\n",
    "* **setting where the data will be downloaded** \n",
    "\n",
    "* **adding a path that is specific to our cluster to search for CMIP6 outputs locally** \n",
    "\n",
    "The default configuration of the catalog can be accessed through the following line of code. More details on the configuration may be found here : https://intake-esgf.readthedocs.io/en/latest/configure.html."
   ]
  },
  {
   "cell_type": "code",
   "execution_count": 5,
   "id": "a8a4a1db-5472-4a50-87d1-eb44f75d0218",
   "metadata": {},
   "outputs": [
    {
     "name": "stdout",
     "output_type": "stream",
     "text": [
      "additional_df_cols: []\n",
      "break_on_error: true\n",
      "download_db: ~/.config/intake-esgf/download.db\n",
      "esg_dataroot:\n",
      "- /p/css03/esgf_publish\n",
      "- /eagle/projects/ESGF2/esg_dataroot\n",
      "- /global/cfs/projectdirs/m3522/cmip6/\n",
      "globus_indices:\n",
      "  anl-dev: true\n",
      "  ornl-dev: true\n",
      "local_cache:\n",
      "- /home/jovyan/certainty-data/CMIP6-DATA\n",
      "logfile: ~/.config/intake-esgf/esgf.log\n",
      "num_threads: 6\n",
      "solr_indices:\n",
      "  esg-dn1.nsc.liu.se: true\n",
      "  esgf-data.dkrz.de: true\n",
      "  esgf-node.ipsl.upmc.fr: true\n",
      "  esgf-node.llnl.gov: true\n",
      "  esgf-node.ornl.gov: true\n",
      "  esgf.ceda.ac.uk: true\n",
      "  esgf.nci.org.au: true\n",
      "\n"
     ]
    }
   ],
   "source": [
    "print(intake_esgf.conf)"
   ]
  },
  {
   "cell_type": "markdown",
   "id": "37676875-e50f-443d-98ef-50ef80c75b5a",
   "metadata": {},
   "source": [
    "There are some variables that are of interest to us :\n",
    "\n",
    "* The *solr_indices* and the *globus_indices* variables define on which nodes the query is realized. \n",
    "\n",
    "* The *local_cache* variable sets where the data will be downloaded.\n",
    "\n",
    "* The *esg_dataroot* variable sets local path to explore before downloading any data.\n",
    "\n",
    "We can see that, as said in the documentation of the intake_esgf library, the search is done by default with Globus-based indices at the holdings of OLCF (Oak Ridge Leadership Computing Facility) and ALCF (Argonne Leadership Computing Facility). We may extend the search to all the possible ESGF nodes in order to not miss any model output. Note that the solr nodes are way much slower than the globus ones.\n",
    "\n",
    "By default, the folder in which is stored the downloaded data is ~/.esgf/. This is a hidden folder in your home repository. It is more convenient, if you are working on a shared resource such as an institutional cluster or group workstation, to define it on a directory dedicated to data.\n",
    "\n",
    "Finally, if we are working on a cluster having some access to CMIP6 data, it is worth adding the path of this data in our cluster to avoid useless downloading.\n",
    "\n",
    "In the following part we will show how to modify these variables. \n",
    "\n",
    "**To decide if you want to modify them you need to set the following variables to True or define them.**"
   ]
  },
  {
   "cell_type": "code",
   "execution_count": 6,
   "id": "01235f6e",
   "metadata": {},
   "outputs": [],
   "source": [
    "# ================ CONFIGURE THE ESGF CATALOG ================ #\n",
    "\n",
    "### USE ALL NODES FOR SEARCH ###\n",
    "\n",
    "all_indices = True\n",
    "\n",
    "### SET A NEW DOWNLOADING PATH ###\n",
    "\n",
    "set_new_downloading_path = True\n",
    "\n",
    "### SET A CLUSTER SPECIFIC CMIP6 PATH ###\n",
    "\n",
    "cluster_local_CMIP6_path = \"\""
   ]
  },
  {
   "cell_type": "markdown",
   "id": "d24386ed-c4b0-43fd-bb75-2ad48ef07bca",
   "metadata": {},
   "source": [
    "### Define the nodes for the research"
   ]
  },
  {
   "cell_type": "markdown",
   "id": "5732995b",
   "metadata": {},
   "source": [
    "We may decide to look at all the nodes. Note that the solr nodes are way much slower than the globus ones. "
   ]
  },
  {
   "cell_type": "code",
   "execution_count": 7,
   "id": "3b5f5807-44b0-4152-af85-c23a574394ac",
   "metadata": {},
   "outputs": [
    {
     "name": "stdout",
     "output_type": "stream",
     "text": [
      "We are looking at all the nodes.\n"
     ]
    }
   ],
   "source": [
    "intake_esgf.conf.set(all_indices=all_indices)\n",
    "\n",
    "if all_indices:\n",
    "\n",
    "    print(\"We are looking at all the nodes.\")\n",
    "\n",
    "else:\n",
    "\n",
    "    print(\"We are only looking at the globus nodes\")"
   ]
  },
  {
   "cell_type": "markdown",
   "id": "0137085e-e87b-4539-b175-ce77c775195b",
   "metadata": {},
   "source": [
    "### Set where the data will be downloaded"
   ]
  },
  {
   "cell_type": "code",
   "execution_count": 8,
   "id": "0e35ff08-7788-4199-8596-f977b9f9c783",
   "metadata": {},
   "outputs": [
    {
     "name": "stdout",
     "output_type": "stream",
     "text": [
      "The CMIP6 data will be downloaded at the path : ['/home/jovyan/certainty-data/CMIP6-DATA']\n"
     ]
    }
   ],
   "source": [
    "if set_new_downloading_path:\n",
    "\n",
    "    intake_esgf.conf.set(local_cache=downloading_path)\n",
    "\n",
    "    print(\n",
    "        \"The CMIP6 data will be downloaded at the path : {}\".format(\n",
    "            intake_esgf.conf[\"local_cache\"]\n",
    "        )\n",
    "    )"
   ]
  },
  {
   "cell_type": "markdown",
   "id": "28d4aaaf-d574-4f92-af6e-47c8d0673075",
   "metadata": {},
   "source": [
    "### Add a cluster-specific CMIP6 path"
   ]
  },
  {
   "cell_type": "code",
   "execution_count": 9,
   "id": "74c98fe2-3864-4373-a6cd-ebbc2dded7fe",
   "metadata": {},
   "outputs": [
    {
     "name": "stdout",
     "output_type": "stream",
     "text": [
      "No local cluster-specific CMIP6 path\n"
     ]
    }
   ],
   "source": [
    "if cluster_local_CMIP6_path != \"\":\n",
    "\n",
    "    intake_esgf.conf.set(esg_dataroot=cluster_local_CMIP6_path)\n",
    "\n",
    "    print(\n",
    "        \"The CMIP6 data will be searched beforehand at the path : {}\".format(\n",
    "            intake_esgf.conf[\"esg_dataroot\"]\n",
    "        )\n",
    "    )\n",
    "\n",
    "else:\n",
    "    print(\"No local cluster-specific CMIP6 path\")"
   ]
  },
  {
   "cell_type": "markdown",
   "id": "589d5d09",
   "metadata": {},
   "source": [
    "### Print the new configuration"
   ]
  },
  {
   "cell_type": "code",
   "execution_count": 10,
   "id": "a08fbf98",
   "metadata": {},
   "outputs": [
    {
     "name": "stdout",
     "output_type": "stream",
     "text": [
      "additional_df_cols: []\n",
      "break_on_error: true\n",
      "download_db: ~/.config/intake-esgf/download.db\n",
      "esg_dataroot:\n",
      "- /p/css03/esgf_publish\n",
      "- /eagle/projects/ESGF2/esg_dataroot\n",
      "- /global/cfs/projectdirs/m3522/cmip6/\n",
      "globus_indices:\n",
      "  anl-dev: true\n",
      "  ornl-dev: true\n",
      "local_cache:\n",
      "- /home/jovyan/certainty-data/CMIP6-DATA\n",
      "logfile: ~/.config/intake-esgf/esgf.log\n",
      "num_threads: 6\n",
      "solr_indices:\n",
      "  esg-dn1.nsc.liu.se: true\n",
      "  esgf-data.dkrz.de: true\n",
      "  esgf-node.ipsl.upmc.fr: true\n",
      "  esgf-node.llnl.gov: true\n",
      "  esgf-node.ornl.gov: true\n",
      "  esgf.ceda.ac.uk: true\n",
      "  esgf.nci.org.au: true\n",
      "\n"
     ]
    }
   ],
   "source": [
    "print(intake_esgf.conf)"
   ]
  },
  {
   "cell_type": "markdown",
   "id": "99a19cd6-d165-428f-984f-9133f7339dc9",
   "metadata": {},
   "source": [
    "---\n",
    "\n",
    "## Make the query to the ESGFCatalog\n",
    "\n",
    "---"
   ]
  },
  {
   "cell_type": "markdown",
   "id": "b380bc91-38b4-4748-9041-5c43fe523818",
   "metadata": {},
   "source": [
    "### Initialise the catalog"
   ]
  },
  {
   "cell_type": "markdown",
   "id": "5a145bbb-ad2d-4545-a8ed-625365507741",
   "metadata": {},
   "source": [
    "The catalog variable is initially empty and will be filled given the criterias that we will impose for the query. "
   ]
  },
  {
   "cell_type": "code",
   "execution_count": 11,
   "id": "f2d445ed-8924-4f62-ba7c-7e4644e0d1b9",
   "metadata": {},
   "outputs": [
    {
     "name": "stdout",
     "output_type": "stream",
     "text": [
      "Perform a search() to populate the catalog.\n"
     ]
    }
   ],
   "source": [
    "catalog = intake_esgf.ESGFCatalog()\n",
    "\n",
    "print(catalog)"
   ]
  },
  {
   "cell_type": "markdown",
   "id": "9e0d3079-ebc4-41a0-aa62-38c62de2e50c",
   "metadata": {},
   "source": [
    "### Constrain the catalog"
   ]
  },
  {
   "cell_type": "markdown",
   "id": "f25edd29",
   "metadata": {},
   "source": [
    "We apply the criterias defined earlier to the catalog."
   ]
  },
  {
   "cell_type": "code",
   "execution_count": 12,
   "id": "093ebabc-cb5d-48de-86d2-a45172e67696",
   "metadata": {},
   "outputs": [
    {
     "data": {
      "application/vnd.jupyter.widget-view+json": {
       "model_id": "2a7dc1106160471e9d6a12f60af75784",
       "version_major": 2,
       "version_minor": 0
      },
      "text/plain": [
       "   Searching indices:   0%|          |0/9 [       ?index/s]"
      ]
     },
     "metadata": {},
     "output_type": "display_data"
    },
    {
     "data": {
      "text/plain": [
       "Summary information for 549 results:\n",
       "mip_era                                                     [CMIP6]\n",
       "activity_drs                                    [RFMIP, AerChemMIP]\n",
       "institution_id    [IPSL, CNRM-CERFACS, NCC, NASA-GISS, CCCma, MR...\n",
       "source_id         [IPSL-CM6A-LR, CNRM-ESM2-1, CNRM-CM6-1, IPSL-C...\n",
       "experiment_id                          [piClim-aer, piClim-control]\n",
       "member_id         [r1i1p1f1, r2i1p1f1, r4i1p1f1, r3i1p1f1, r1i1p...\n",
       "table_id                                                     [Amon]\n",
       "variable_id       [rsuscs, rsutcs, rsut, rsds, clt, rsdscs, rsus...\n",
       "grid_label                                            [gr, gn, gr1]\n",
       "dtype: object"
      ]
     },
     "execution_count": 12,
     "metadata": {},
     "output_type": "execute_result"
    }
   ],
   "source": [
    "catalog.search(**search)"
   ]
  },
  {
   "cell_type": "markdown",
   "id": "bc077191",
   "metadata": {},
   "source": [
    "### Convert the catalog results into a pandas dataframe"
   ]
  },
  {
   "cell_type": "markdown",
   "id": "6b067741",
   "metadata": {},
   "source": [
    "The resulting catalog can be converted to a pandas dataframe. This is convenient to isolate some properties of the catalog like the models' names that it has found also known as the *source_id*."
   ]
  },
  {
   "cell_type": "code",
   "execution_count": 13,
   "id": "1a2c7686",
   "metadata": {},
   "outputs": [
    {
     "name": "stdout",
     "output_type": "stream",
     "text": [
      "The list of found models' names is : \n",
      "['IPSL-CM6A-LR' 'CNRM-ESM2-1' 'CNRM-CM6-1' 'IPSL-CM6A-LR-INCA'\n",
      " 'NorESM2-LM' 'GISS-E2-1-G' 'CanESM5' 'NorESM2-MM' 'MRI-ESM2-0'\n",
      " 'MPI-ESM1-2-LR' 'EC-Earth3' 'ACCESS-ESM1-5' 'CESM2' 'HadGEM3-GC31-LL'\n",
      " 'MIROC6' 'GFDL-ESM4' 'E3SM-2-0' 'BCC-ESM1' 'GFDL-CM4' 'UKESM1-0-LL'\n",
      " 'ACCESS-CM2' 'MPI-ESM-1-2-HAM' 'EC-Earth3-AerChem' 'TaiESM1'\n",
      " 'CESM2-WACCM']\n"
     ]
    }
   ],
   "source": [
    "# ================ CONVERT TO PANDAS DATAFRAME ================ #\n",
    "\n",
    "initial_search_df = catalog.df\n",
    "\n",
    "### SHOW THE SOURCE_ID THAT APPEAR AT LEAST ONCE ###\n",
    "\n",
    "## Extract the list of the models' names ##\n",
    "\n",
    "# Retrieve the source_id column and take only one example for every duplicate #\n",
    "\n",
    "list_model_names = initial_search_df.source_id.unique()\n",
    "\n",
    "## Print the result ##\n",
    "\n",
    "print(\"The list of found models' names is : \\n{}\".format(list_model_names))"
   ]
  },
  {
   "cell_type": "markdown",
   "id": "c2028de0",
   "metadata": {},
   "source": [
    "### Regroup the results by model"
   ]
  },
  {
   "cell_type": "markdown",
   "id": "c4cc6fb3",
   "metadata": {},
   "source": [
    "The number of found results is very large. They are numerous duplicates that come from the different *member_id*  and *grid_label* available for each model. \n",
    "\n",
    "The *member_id* or *variant_label* is described by 4 indices defining an ensemble member: *r* for realization, *i* for initialization, *p* for physics, and *f* for forcing. These parameters define an ensemble of experiments that correspond to the main experiment conditions for a given model. Actually, modellers may initialize their model from a different point in time, change the parametrization of a given parameter and so on.\n",
    "\n",
    "Let's regroup the results according to **(model, variant, grid)** tuples. From now on, we will refer one row of this table as an **entry**, that is to say, the whole bunch of variables and experiments associated to one tuple."
   ]
  },
  {
   "cell_type": "code",
   "execution_count": 14,
   "id": "5f50635c",
   "metadata": {},
   "outputs": [
    {
     "name": "stdout",
     "output_type": "stream",
     "text": [
      "source_id          member_id  grid_label\n",
      "ACCESS-CM2         r1i1p1f1   gn            16\n",
      "ACCESS-ESM1-5      r1i1p1f1   gn            16\n",
      "BCC-ESM1           r1i1p1f1   gn            16\n",
      "CanESM5            r1i1p2f1   gn            16\n",
      "CESM2              r1i1p1f1   gn            16\n",
      "CESM2-WACCM        r1i2p1f1   gn             8\n",
      "CNRM-CM6-1         r1i1p1f2   gr            16\n",
      "CNRM-ESM2-1        r1i1p1f2   gr            16\n",
      "E3SM-2-0           r1i1p1f1   gr             8\n",
      "EC-Earth3          r1i1p1f1   gr            16\n",
      "                   r2i1p1f1   gr            16\n",
      "EC-Earth3-AerChem  r1i1p1f1   gr            12\n",
      "                   r1i1p4f1   gr            12\n",
      "GFDL-CM4           r1i1p1f1   gr1           16\n",
      "GFDL-ESM4          r1i1p1f1   gr1           13\n",
      "GISS-E2-1-G        r1i1p1f1   gn            16\n",
      "                   r1i1p1f2   gn            16\n",
      "                   r1i1p3f1   gn            16\n",
      "                   r1i1p3f2   gn             8\n",
      "HadGEM3-GC31-LL    r1i1p1f3   gn            16\n",
      "IPSL-CM6A-LR       r1i1p1f1   gr            16\n",
      "                   r2i1p1f1   gr            16\n",
      "                   r3i1p1f1   gr            16\n",
      "                   r4i1p1f1   gr            16\n",
      "                   r5i1p1f1   gr             8\n",
      "IPSL-CM6A-LR-INCA  r1i1p1f1   gr            16\n",
      "MIROC6             r1i1p1f1   gn            16\n",
      "                   r11i1p1f1  gn            16\n",
      "MPI-ESM-1-2-HAM    r1i1p1f1   gn            16\n",
      "MPI-ESM1-2-LR      r1i1p1f1   gn             8\n",
      "                   r2i1p1f1   gn             8\n",
      "                   r3i1p1f1   gn             8\n",
      "MRI-ESM2-0         r1i1p1f1   gn            16\n",
      "NorESM2-LM         r1i1p1f1   gn            16\n",
      "                   r1i1p2f1   gn            16\n",
      "                   r1i1p4f1   gn            16\n",
      "NorESM2-MM         r1i1p1f1   gn            16\n",
      "TaiESM1            r1i1p1f1   gn             8\n",
      "UKESM1-0-LL        r1i1p1f4   gn            16\n",
      "Name: project, dtype: int64\n"
     ]
    }
   ],
   "source": [
    "grouped_models = catalog.model_groups()\n",
    "\n",
    "print(grouped_models)"
   ]
  },
  {
   "cell_type": "markdown",
   "id": "fe084874",
   "metadata": {},
   "source": [
    "An interesting thing to note is the ultimate column that tells us the number of found results for a given model, variant and grid. In our case since we are looking for **8** variables for **two experiments**, the search will be deemed complete if we find **16 resulting files**.\n",
    "\n",
    "The next step is therefore to get rid of the incomplete results according to an user-defined criteria."
   ]
  },
  {
   "cell_type": "markdown",
   "id": "62922b20",
   "metadata": {},
   "source": [
    "### Investigate for a specific model lacking variables"
   ]
  },
  {
   "cell_type": "markdown",
   "id": "c05928fa",
   "metadata": {},
   "source": [
    "From what we have seen from the previous method, some models lack the expected number of variables. Thanks to the pandas' dataframe structure, we may investigate what are the variables missing for which experiment."
   ]
  },
  {
   "cell_type": "code",
   "execution_count": 15,
   "id": "f93d7824",
   "metadata": {},
   "outputs": [
    {
     "name": "stdout",
     "output_type": "stream",
     "text": [
      "Variables missing in both experiments of GFDL-ESM4.r1i1p1f1 : \n",
      "\n",
      "[]\n",
      "\n",
      "Only the control experiment of GFDL-ESM4.r1i1p1f1 is lacking these variables :\n",
      "\n",
      "['clt' 'rsds' 'rsus']\n"
     ]
    }
   ],
   "source": [
    "# ================ SEE WHAT VARIABLES ARE MISSING ================ #\n",
    "\n",
    "### LOOK AT A GIVEN MODEL ###\n",
    "\n",
    "## Define source_id and member_id ##\n",
    "\n",
    "# Source_id #\n",
    "\n",
    "looked_source_id = \"GFDL-ESM4\"\n",
    "\n",
    "# Member_id #\n",
    "\n",
    "looked_member_id = \"r1i1p1f1\"\n",
    "\n",
    "## Select the given source_id and member_id ##\n",
    "\n",
    "# Source_id #\n",
    "\n",
    "selected_source_id = initial_search_df[initial_search_df.source_id == looked_source_id]\n",
    "\n",
    "# Member_id #\n",
    "\n",
    "selected_model = selected_source_id[selected_source_id.member_id == looked_member_id]\n",
    "\n",
    "## Generate the variable_id series for the piClim-control experiment ##\n",
    "\n",
    "variable_id_for_control_exp = selected_model[selected_model.experiment_id == \"piClim-control\"].variable_id\n",
    "\n",
    "## Generate the variable_id series for the piClim-aer experiment ##\n",
    "\n",
    "variable_id_for_aer_exp = selected_model[selected_model.experiment_id == \"piClim-aer\"].variable_id\n",
    "\n",
    "### FIND VARIABLES THAT ARE MISSING FOR BOTH EXPERIMENTS ###\n",
    "\n",
    "## Make the criteria variable_id list as a panda series ##\n",
    "\n",
    "searched_variable_ids = pd.Series(variable_id, dtype = str)\n",
    "\n",
    "## Get the variables that are found in at least one experiment ##\n",
    "\n",
    "var_in_at_least_one = pd.Series(np.union1d(variable_id_for_control_exp, variable_id_for_aer_exp), dtype = str) \n",
    "\n",
    "## See the missing ones compared to the variable_id list ##\n",
    "\n",
    "print(\"Variables missing in both experiments of {}.{} : \\n\".format(looked_source_id, looked_member_id))\n",
    "\n",
    "missing_variables_from_both = searched_variable_ids[~searched_variable_ids.isin(var_in_at_least_one)].values\n",
    "\n",
    "print(missing_variables_from_both)\n",
    "\n",
    "### GET THE VARIABLES MISSING IN ONLY ONE EXPERIMENT ###\n",
    "\n",
    "## Extract the variables found in both experiments ##\n",
    "\n",
    "var_in_both = pd.Series(np.intersect1d(variable_id_for_control_exp, variable_id_for_aer_exp), dtype = str) \n",
    "\n",
    "## Get the variables not in common between the experiments ##\n",
    "\n",
    "# we keep the variables that are not in both experiments \n",
    "# by removing the ones that are found in both\n",
    "\n",
    "var_not_in_common = var_in_at_least_one[~var_in_at_least_one.isin(var_in_both)] \n",
    "\n",
    "## See the missing ones compared to the variable_id list ##\n",
    "\n",
    "missing_variables_not_in_common = searched_variable_ids[searched_variable_ids.isin(var_not_in_common)].values\n",
    "\n",
    "## Find the concerned experiment if missing_variables_not_in_common is not empty ##\n",
    "\n",
    "# Check if it's empty #\n",
    "\n",
    "if (missing_variables_not_in_common.size > 0) :\n",
    "\n",
    "    # Get the number of variables found for each experiment #\n",
    "\n",
    "    number_variables_control = len(variable_id_for_control_exp.values)\n",
    "\n",
    "    number_variables_aer = len(variable_id_for_aer_exp.values)\n",
    "\n",
    "    # Get the least furnished experiment #\n",
    "\n",
    "    if number_variables_control < number_variables_aer :\n",
    "\n",
    "        print(\"\\nOnly the control experiment of {}.{} is lacking these variables :\\n\".format(looked_source_id, looked_member_id))\n",
    "\n",
    "        print(missing_variables_not_in_common)\n",
    "\n",
    "    else :\n",
    "        \n",
    "        print(\"\\nOnly the aerosol experiment of {}.{} is lacking these variables :\\n\".format(looked_source_id, looked_member_id))\n",
    "\n",
    "        print(missing_variables_not_in_common)"
   ]
  },
  {
   "cell_type": "markdown",
   "id": "f90eaf6a",
   "metadata": {},
   "source": [
    "### Test some filters on the incomplete results"
   ]
  },
  {
   "cell_type": "markdown",
   "id": "02cb2ee9",
   "metadata": {},
   "source": [
    "The user may define an expected number of netcdf files for a given (model, variant,grid) tuple. In our case this is **16** as explained before. Let's impose this result by keeping only the results that match this condition. We will produce a panda series that will allow us to check if our filter is what we want.\n",
    "\n",
    "You may define a more refined filter for the results. Please look at the intake-esgf documentation for more information : https://intake-esgf.readthedocs.io/en/latest/modelgroups.html."
   ]
  },
  {
   "cell_type": "code",
   "execution_count": 16,
   "id": "d816ff37",
   "metadata": {},
   "outputs": [
    {
     "name": "stdout",
     "output_type": "stream",
     "text": [
      "source_id          member_id  grid_label\n",
      "ACCESS-CM2         r1i1p1f1   gn            16\n",
      "ACCESS-ESM1-5      r1i1p1f1   gn            16\n",
      "BCC-ESM1           r1i1p1f1   gn            16\n",
      "CanESM5            r1i1p2f1   gn            16\n",
      "CESM2              r1i1p1f1   gn            16\n",
      "CNRM-CM6-1         r1i1p1f2   gr            16\n",
      "CNRM-ESM2-1        r1i1p1f2   gr            16\n",
      "EC-Earth3          r1i1p1f1   gr            16\n",
      "                   r2i1p1f1   gr            16\n",
      "GFDL-CM4           r1i1p1f1   gr1           16\n",
      "GISS-E2-1-G        r1i1p1f1   gn            16\n",
      "                   r1i1p1f2   gn            16\n",
      "                   r1i1p3f1   gn            16\n",
      "HadGEM3-GC31-LL    r1i1p1f3   gn            16\n",
      "IPSL-CM6A-LR       r1i1p1f1   gr            16\n",
      "                   r2i1p1f1   gr            16\n",
      "                   r3i1p1f1   gr            16\n",
      "                   r4i1p1f1   gr            16\n",
      "IPSL-CM6A-LR-INCA  r1i1p1f1   gr            16\n",
      "MIROC6             r1i1p1f1   gn            16\n",
      "                   r11i1p1f1  gn            16\n",
      "MPI-ESM-1-2-HAM    r1i1p1f1   gn            16\n",
      "MRI-ESM2-0         r1i1p1f1   gn            16\n",
      "NorESM2-LM         r1i1p1f1   gn            16\n",
      "                   r1i1p2f1   gn            16\n",
      "                   r1i1p4f1   gn            16\n",
      "NorESM2-MM         r1i1p1f1   gn            16\n",
      "UKESM1-0-LL        r1i1p1f4   gn            16\n",
      "Name: project, dtype: int64\n"
     ]
    }
   ],
   "source": [
    "# ================ TEST A FILTER BY GROUPING BY MODELS ================ #\n",
    "\n",
    "### SET THE EXPECTED NUMBER OF FILES ###\n",
    "\n",
    "expected_number_of_files = 16\n",
    "\n",
    "### FILTER THE INCOMPLETE RESULTS ACCORDING TO OUR CRITERIE ###\n",
    "\n",
    "filtered_results = grouped_models[grouped_models == expected_number_of_files]\n",
    "\n",
    "### PRINT THE FILTERED CATALOG ###\n",
    "\n",
    "print(filtered_results)"
   ]
  },
  {
   "cell_type": "markdown",
   "id": "06b2be0a",
   "metadata": {},
   "source": [
    "The result is a pandas series that we can manipulate as so. For example if we want to retrieve all the member_id and grid_label associated to a single modell like the *IPSL-CM6A-LR*"
   ]
  },
  {
   "cell_type": "code",
   "execution_count": 17,
   "id": "d4e56605",
   "metadata": {},
   "outputs": [
    {
     "data": {
      "text/plain": [
       "member_id  grid_label\n",
       "r1i1p1f1   gr            16\n",
       "r2i1p1f1   gr            16\n",
       "r3i1p1f1   gr            16\n",
       "r4i1p1f1   gr            16\n",
       "Name: project, dtype: int64"
      ]
     },
     "execution_count": 17,
     "metadata": {},
     "output_type": "execute_result"
    }
   ],
   "source": [
    "filtered_results[\"IPSL-CM6A-LR\"]"
   ]
  },
  {
   "cell_type": "markdown",
   "id": "ea9d67fe",
   "metadata": {},
   "source": [
    "Good, let's have a look at the quantity of results we have left."
   ]
  },
  {
   "cell_type": "code",
   "execution_count": 18,
   "id": "8332a924",
   "metadata": {},
   "outputs": [
    {
     "name": "stdout",
     "output_type": "stream",
     "text": [
      "The number of remaining (model, variant, grid) tuples is 28.\n"
     ]
    }
   ],
   "source": [
    "print(\n",
    "    \"The number of remaining (model, variant, grid) tuples is {}.\".format(\n",
    "        filtered_results.shape[0]\n",
    "    )\n",
    ")"
   ]
  },
  {
   "cell_type": "markdown",
   "id": "4980174f",
   "metadata": {},
   "source": [
    "### Applying the filter on the catalog"
   ]
  },
  {
   "cell_type": "markdown",
   "id": "59e9c50d",
   "metadata": {},
   "source": [
    "If that's satisfy us, we need to code a small function that will be **applied to the catalog**. The test will be executed on each model group that we have showed in the previous section. \n",
    "\n",
    "What's more, the pandas dataframe structure of the model groups is quite convenient as it allows us to apply more complex filters. One may want to select some specific models and variant label for example. In our case, we wish to reproduce the results from *Zelinka and al (2023)*. Therefore, we keep only the matching models and variant couples with a the provided list in the article.\n",
    "\n",
    "Firstly, we define the model.variant list of Zelinka's article.\n",
    "\n",
    "**Reference**\n",
    "\n",
    "Zelinka, M. D., Smith, C. J., Qin, Y., and Taylor, K. E.: Comparison of methods to estimate aerosol effective radiative forcings in climate models, Atmos. Chem. Phys., 23, 8879–8898, https://doi.org/10.5194/acp-23-8879-2023, 2023."
   ]
  },
  {
   "cell_type": "code",
   "execution_count": 19,
   "id": "0383623f",
   "metadata": {},
   "outputs": [],
   "source": [
    "# ================ DEFINE THE MODEL.VARIANT LIST OF ZELINKA'S ARTICLE ================ #\n",
    "\n",
    "source_id_zelinka_2023 = [\n",
    "    \"ACCESS-CM2\",\n",
    "    \"ACCESS-ESM1-5\",\n",
    "    \"BCC-ESM1\",\n",
    "    \"CESM2\",\n",
    "    \"CNRM-CM6-1\",\n",
    "    \"CNRM-ESM2-1\",\n",
    "    \"CanESM5\",\n",
    "    \"GFDL-CM4\",\n",
    "    \"GFDL-ESM4\",\n",
    "    \"GISS-E2-1-G\",\n",
    "    \"GISS-E2-1-G\",\n",
    "    \"GISS-E2-1-G\",\n",
    "    \"HadGEM3-GC31-LL\",\n",
    "    \"IPSL-CM6A-LR-INCA\",\n",
    "    \"IPSL-CM6A-LR\",\n",
    "    \"IPSL-CM6A-LR\",\n",
    "    \"IPSL-CM6A-LR\",\n",
    "    \"IPSL-CM6A-LR\",\n",
    "    \"MIROC6\",\n",
    "    \"MIROC6\",\n",
    "    \"MPI-ESM-1-2-HAM\",\n",
    "    \"MRI-ESM2-0\",\n",
    "    \"NorESM2-LM\",\n",
    "    \"NorESM2-LM\",\n",
    "    \"NorESM2-MM\",\n",
    "    \"UKESM1-0-LL\" \n",
    "]\n",
    "\n",
    "member_id_zelinka_2023 = [\n",
    "    \"r1i1p1f1\",\n",
    "    \"r1i1p1f1\",\n",
    "    \"r1i1p1f1\",\n",
    "    \"r1i1p1f1\",\n",
    "    \"r1i1p1f2\",\n",
    "    \"r1i1p1f2\",\n",
    "    \"r1i1p2f1\",\n",
    "    \"r1i1p1f1\",\n",
    "    \"r1i1p1f1\",\n",
    "    \"r1i1p1f1\",\n",
    "    \"r1i1p1f2\",\n",
    "    \"r1i1p3f1\",\n",
    "    \"r1i1p1f3\",\n",
    "    \"r1i1p1f1\",\n",
    "    \"r1i1p1f1\",\n",
    "    \"r2i1p1f1\",\n",
    "    \"r3i1p1f1\",\n",
    "    \"r4i1p1f1\",\n",
    "    \"r11i1p1f1\",\n",
    "    \"r1i1p1f1\",\n",
    "    \"r1i1p1f1\",\n",
    "    \"r1i1p1f1\",\n",
    "    \"r1i1p1f1\",\n",
    "    \"r1i1p2f1\",\n",
    "    \"r1i1p1f1\",\n",
    "    \"r1i1p1f4\"\n",
    "]\n",
    "\n",
    "zelinka_2023_model_variant_table = pd.DataFrame({\"source_id\" : source_id_zelinka_2023, \"member_id\" : member_id_zelinka_2023}, dtype = str)"
   ]
  },
  {
   "cell_type": "markdown",
   "id": "aaf8c8a4",
   "metadata": {},
   "source": [
    "Then we are able to define a filtering function that will be applied to each grouped mdoel entry individually."
   ]
  },
  {
   "cell_type": "code",
   "execution_count": 20,
   "id": "ed2bac0e",
   "metadata": {},
   "outputs": [],
   "source": [
    "# ================ DEFINING THE FILTERING FUNCTION ================ #\n",
    "\n",
    "### SET THE EXPECTED NUMBER OF FILES ###\n",
    "\n",
    "expected_number_of_files = 16\n",
    "\n",
    "### DEFINE THE GLOBAL OPTIONAL PARAMETERS OF THE FILTERING FUNCTION ###\n",
    "\n",
    "filtering_by_name = True\n",
    "\n",
    "keep_only_dataframe = zelinka_2023_model_variant_table\n",
    "\n",
    "### DEFINE THE FILTERING FUNCTION ###\n",
    "\n",
    "def filtering_function(grouped_model_entry : pd.DataFrame) -> bool:\n",
    "    \"\"\"\n",
    "\n",
    "    ### DEFINITION ###\n",
    "\n",
    "    This function allows the intake-esgf catalog to be cleaned of the entries that are not complete.\n",
    "    In the default case it means entries that do not meet the expected number of files. \n",
    "\n",
    "    The user can also set a condition that only the model and variant couples present in a provided pandas dataframe are kept.\n",
    "    Since the nature of this function is to be an input for the intake-esgf package, we define the optional arguments outside\n",
    "    of the function.\n",
    "\n",
    "    ### INPUTS\n",
    "\n",
    "    GROUPED_MODEL_ENTRY : Pandas DataFrame | sub dataframe containing all the variables of a given source_id, member_id and grid tuple.\n",
    "\n",
    "    ### OPTIONAL ARGUMENTS (DEFINED GLOBALLY)\n",
    "\n",
    "    FILTERING_BY_NAME : BOOL | defines if we filter the entry by source_id and member_id or not\n",
    "\n",
    "    KEEP_ONLY_DATAFRAME : Pandas DataFrame | associated dataframe holding the source_id and member_id to conserve\n",
    "    \n",
    "    ### OUTPUTS\n",
    "\n",
    "    BOOL | whether we keep this model group or not\n",
    "    \"\"\"\n",
    "\n",
    "    ### TEST THE NUMBER OF VARIBALES ###\n",
    "\n",
    "    if len(grouped_model_entry) == expected_number_of_files:\n",
    "\n",
    "        ### NUMBER OF VARIABLES' TEST SUCCEEDED ###\n",
    "\n",
    "        ## Do we keep only the Zelinka's article model and variant couples ? ##\n",
    "\n",
    "        # NO : We keep everything that matched the variable number's test #\n",
    "\n",
    "        if not(filtering_by_name):\n",
    "\n",
    "            return True\n",
    "        \n",
    "        ### YES : KEEPING ONLY THE COUPLES PRESENT IN ZELINKA 2023 ###\n",
    "\n",
    "        else :\n",
    "            \n",
    "            ## Doing the test on the grouped_model_entry's source_id and member_id ##\n",
    "\n",
    "            # Extract the grouped_model_entry data #\n",
    "\n",
    "            grouped_model_entry_source_id = grouped_model_entry.source_id.unique()[0]\n",
    "\n",
    "            grouped_model_entry_member_id = grouped_model_entry.member_id.unique()[0]\n",
    "\n",
    "            # Can we find the grouped_model_entry's source_id and member_id in one row of is_in_keep_only_dataframe ? #\n",
    "\n",
    "            is_in_keep_only_dataframe = ((keep_only_dataframe['source_id'] == grouped_model_entry_source_id) \n",
    "            & (keep_only_dataframe['member_id'] == grouped_model_entry_member_id)).any()\n",
    "\n",
    "            # Return the result of the test #\n",
    "\n",
    "            return is_in_keep_only_dataframe\n",
    "    \n",
    "    ### NUMBER OF VARIABLES' TEST FAILED ###\n",
    "\n",
    "    else :\n",
    "\n",
    "        return False"
   ]
  },
  {
   "cell_type": "markdown",
   "id": "ae9c222d",
   "metadata": {},
   "source": [
    "The following function allows us to apply the filtering function we have just defined."
   ]
  },
  {
   "cell_type": "code",
   "execution_count": 21,
   "id": "08053c4e",
   "metadata": {},
   "outputs": [],
   "source": [
    "catalog = catalog.remove_incomplete(filtering_function)"
   ]
  },
  {
   "cell_type": "markdown",
   "id": "14f22bd4",
   "metadata": {},
   "source": [
    "Looking at the resulting dataframe we see that we have indeed filtered the unwanted entries :"
   ]
  },
  {
   "cell_type": "code",
   "execution_count": 22,
   "id": "80a8e8ff",
   "metadata": {},
   "outputs": [
    {
     "name": "stdout",
     "output_type": "stream",
     "text": [
      "     project mip_era activity_drs institution_id        source_id  \\\n",
      "0      CMIP6   CMIP6        RFMIP           IPSL     IPSL-CM6A-LR   \n",
      "1      CMIP6   CMIP6        RFMIP           IPSL     IPSL-CM6A-LR   \n",
      "2      CMIP6   CMIP6        RFMIP           IPSL     IPSL-CM6A-LR   \n",
      "3      CMIP6   CMIP6        RFMIP           IPSL     IPSL-CM6A-LR   \n",
      "4      CMIP6   CMIP6        RFMIP           IPSL     IPSL-CM6A-LR   \n",
      "...      ...     ...          ...            ...              ...   \n",
      "1588   CMIP6   CMIP6        RFMIP           MOHC  HadGEM3-GC31-LL   \n",
      "1589   CMIP6   CMIP6        RFMIP           MOHC  HadGEM3-GC31-LL   \n",
      "1590   CMIP6   CMIP6        RFMIP           MOHC  HadGEM3-GC31-LL   \n",
      "1591   CMIP6   CMIP6        RFMIP           MOHC  HadGEM3-GC31-LL   \n",
      "1595   CMIP6   CMIP6        RFMIP           MOHC  HadGEM3-GC31-LL   \n",
      "\n",
      "       experiment_id member_id table_id variable_id grid_label   version  \\\n",
      "0         piClim-aer  r1i1p1f1     Amon      rsuscs         gr  20190118   \n",
      "1         piClim-aer  r1i1p1f1     Amon      rsutcs         gr  20190118   \n",
      "2         piClim-aer  r1i1p1f1     Amon        rsut         gr  20190118   \n",
      "3         piClim-aer  r2i1p1f1     Amon      rsutcs         gr  20190118   \n",
      "4         piClim-aer  r4i1p1f1     Amon        rsds         gr  20190118   \n",
      "...              ...       ...      ...         ...        ...       ...   \n",
      "1588      piClim-aer  r1i1p1f3     Amon        rsus         gn  20191113   \n",
      "1589      piClim-aer  r1i1p1f3     Amon      rsuscs         gn  20191113   \n",
      "1590      piClim-aer  r1i1p1f3     Amon        rsut         gn  20191113   \n",
      "1591      piClim-aer  r1i1p1f3     Amon      rsutcs         gn  20191113   \n",
      "1595  piClim-control  r1i1p1f3     Amon        rsdt         gn  20191113   \n",
      "\n",
      "                                                     id  \n",
      "0     [CMIP6.RFMIP.IPSL.IPSL-CM6A-LR.piClim-aer.r1i1...  \n",
      "1     [CMIP6.RFMIP.IPSL.IPSL-CM6A-LR.piClim-aer.r1i1...  \n",
      "2     [CMIP6.RFMIP.IPSL.IPSL-CM6A-LR.piClim-aer.r1i1...  \n",
      "3     [CMIP6.RFMIP.IPSL.IPSL-CM6A-LR.piClim-aer.r2i1...  \n",
      "4     [CMIP6.RFMIP.IPSL.IPSL-CM6A-LR.piClim-aer.r4i1...  \n",
      "...                                                 ...  \n",
      "1588  [CMIP6.RFMIP.MOHC.HadGEM3-GC31-LL.piClim-aer.r...  \n",
      "1589  [CMIP6.RFMIP.MOHC.HadGEM3-GC31-LL.piClim-aer.r...  \n",
      "1590  [CMIP6.RFMIP.MOHC.HadGEM3-GC31-LL.piClim-aer.r...  \n",
      "1591  [CMIP6.RFMIP.MOHC.HadGEM3-GC31-LL.piClim-aer.r...  \n",
      "1595  [CMIP6.RFMIP.MOHC.HadGEM3-GC31-LL.piClim-contr...  \n",
      "\n",
      "[400 rows x 12 columns]\n"
     ]
    }
   ],
   "source": [
    "remaining_entries_dataframe = catalog.df\n",
    "\n",
    "print(remaining_entries_dataframe)"
   ]
  },
  {
   "cell_type": "markdown",
   "id": "e7101798",
   "metadata": {},
   "source": [
    "This final catalog can be transformed into a table written for a *.md* readme file. This can be useful if one wants to show the data they use on github for example."
   ]
  },
  {
   "cell_type": "code",
   "execution_count": 23,
   "id": "bdfc1b29",
   "metadata": {},
   "outputs": [
    {
     "name": "stdout",
     "output_type": "stream",
     "text": [
      "|    | source_id         | member_id   | grid_label   |\n",
      "|---:|:------------------|:------------|:-------------|\n",
      "|  0 | ACCESS-CM2        | r1i1p1f1    | gn           |\n",
      "|  1 | ACCESS-ESM1-5     | r1i1p1f1    | gn           |\n",
      "|  2 | BCC-ESM1          | r1i1p1f1    | gn           |\n",
      "|  3 | CESM2             | r1i1p1f1    | gn           |\n",
      "|  4 | CNRM-CM6-1        | r1i1p1f2    | gr           |\n",
      "|  5 | CNRM-ESM2-1       | r1i1p1f2    | gr           |\n",
      "|  6 | CanESM5           | r1i1p2f1    | gn           |\n",
      "|  7 | GFDL-CM4          | r1i1p1f1    | gr1          |\n",
      "|  8 | GISS-E2-1-G       | r1i1p1f1    | gn           |\n",
      "|  9 | GISS-E2-1-G       | r1i1p1f2    | gn           |\n",
      "| 10 | GISS-E2-1-G       | r1i1p3f1    | gn           |\n",
      "| 11 | HadGEM3-GC31-LL   | r1i1p1f3    | gn           |\n",
      "| 12 | IPSL-CM6A-LR      | r1i1p1f1    | gr           |\n",
      "| 13 | IPSL-CM6A-LR      | r3i1p1f1    | gr           |\n",
      "| 14 | IPSL-CM6A-LR      | r4i1p1f1    | gr           |\n",
      "| 15 | IPSL-CM6A-LR      | r2i1p1f1    | gr           |\n",
      "| 16 | IPSL-CM6A-LR-INCA | r1i1p1f1    | gr           |\n",
      "| 17 | MIROC6            | r11i1p1f1   | gn           |\n",
      "| 18 | MIROC6            | r1i1p1f1    | gn           |\n",
      "| 19 | MPI-ESM-1-2-HAM   | r1i1p1f1    | gn           |\n",
      "| 20 | MRI-ESM2-0        | r1i1p1f1    | gn           |\n",
      "| 21 | NorESM2-LM        | r1i1p2f1    | gn           |\n",
      "| 22 | NorESM2-LM        | r1i1p1f1    | gn           |\n",
      "| 23 | NorESM2-MM        | r1i1p1f1    | gn           |\n",
      "| 24 | UKESM1-0-LL       | r1i1p1f4    | gn           |\n"
     ]
    }
   ],
   "source": [
    "# ================ TURN THE CATALOG INTO A TABLE FOR GITHUB ================ #\n",
    "\n",
    "### GENERATE THE TABLE ###\n",
    "\n",
    "## We extract only the needed information to describe the selected entries once ### \n",
    "\n",
    "remaining_grouped_models_dataframe = remaining_entries_dataframe[[\"source_id\",\"member_id\",\"grid_label\"]].drop_duplicates()\n",
    "\n",
    "## We sort the models' names by alphabetical order ##\n",
    "\n",
    "remaining_entries_dataframe_sorted = remaining_grouped_models_dataframe.sort_values('source_id').reset_index(drop = True)\n",
    "\n",
    "\n",
    "### PRINTING IT FOR COPY ###\n",
    "\n",
    "print(remaining_entries_dataframe_sorted.to_markdown())"
   ]
  },
  {
   "cell_type": "markdown",
   "id": "c7907795",
   "metadata": {},
   "source": [
    "---\n",
    "\n",
    "## Downloading the files and load a dictionary in memory\n",
    "\n",
    "---"
   ]
  },
  {
   "cell_type": "markdown",
   "id": "5b1e5884",
   "metadata": {},
   "source": [
    "The intake-esgf library proposes to store the found results in memory under the form of a dictionary holding xarray datasets for every single netcdf file found. This process also saves the netcdf files at the previously defined *local_cache path*. This part is less general than the previous sections as we have developed more complex routines that what the intake-esgf package provides. Still, if your request is pretty straightforward it may be relevant to first look at the intake-esgf documentation : https://intake-esgf.readthedocs.io/en/latest/quickstart.html.\n",
    "\n",
    "We have indeed developed a specific downloading routine. This is because there is an issue that may be encountered if, as in this example, the user tried to download a lot of different entries from the solr index nodes. Indeed, the downloading of some variables of the data present on these nodes will fail. A solution that has been found in this case is to make a request for a **(source_id, member_id, grid_label)** tuple at once. That is to say, **download each entry independently and then regroup them under the same dictionary**.\n",
    "\n",
    "In addition, by default, the package is looking for the **areacella** variable automatically. Areacella is the variable associated to the model's grid. It tells us the surface associated to each grid point and allows us to easily do spatial averages accross grid points. So, intake-esgf does look for areacella but it does it **rather slowly** as it first looks for an areacella variable for our full search facets, which may lead to no results, and then expands the search. Moreover, it does so for for every single variable of a given model which is redundant. In our analysis, we would rather load the dictionary with *add_measures* set to **False** and then download (and load) the areacella netcdf files apart with a homemade routine. An example of this process is given afterward."
   ]
  },
  {
   "cell_type": "markdown",
   "id": "6371e2d7",
   "metadata": {},
   "source": [
    "### Download of a lot of entries from the solr nodes."
   ]
  },
  {
   "cell_type": "markdown",
   "id": "324ab6b0",
   "metadata": {},
   "source": [
    "We prepare the download of each individual set of variables for a given model. We use for that two functions that can be found in the *load_cmip6.py* submodule in the same folder as this notebook.\n",
    "\n",
    "- The *generate_single_model_search_criterias* function which generates the *search_criterias* used to download a single entry. It is done by the needed tuple of (source_id, member_id, grid_label) criterias to the global *search* dictionary.\n",
    "\n",
    "- The *update_single_entry_keys* function which updates, once we downloaded it, the keys of the one entry dictionary to allow to concatenate all dictionaries together.\n",
    "\n",
    "With these two functions, we can generate a dictionnary holding all entries even though we downloaded them separatly.\n",
    "\n",
    "Before using them, we need to extract some information out the filtered catalog."
   ]
  },
  {
   "cell_type": "code",
   "execution_count": 24,
   "id": "0eaf4be9",
   "metadata": {},
   "outputs": [],
   "source": [
    "# ================ EXTRACT THE FILTERED CATALOG'S INFORMATION ================ #\n",
    "\n",
    "### GET THE INFORMATIONS THAT THE CATALOG EXTRACTED ###\n",
    "\n",
    "## Generate the full dataframe of the files found by the search ##\n",
    "\n",
    "selected_entries_full_dataframe = catalog.df\n",
    "\n",
    "## Save the grouped model pandas series for the areacella part ##\n",
    "\n",
    "series_grouped_models = catalog.model_groups()\n",
    "\n",
    "### GET ONLY THE NEEDED INFORMATION ###\n",
    "\n",
    "## We extract the (source_id, member_id, grid_label) tuples from the full dataframe ##\n",
    "\n",
    "# we remove the duplicates to only keep one row per tuple\n",
    "\n",
    "grouped_models_dataframe = selected_entries_full_dataframe[[\"source_id\",\"member_id\",\"grid_label\"]].drop_duplicates().reset_index(drop = True)\n"
   ]
  },
  {
   "cell_type": "markdown",
   "id": "dc0b6725",
   "metadata": {},
   "source": [
    "Once we have all the needed variables, the following routine builds the full dictionary by downloading every single entry independently."
   ]
  },
  {
   "cell_type": "code",
   "execution_count": 25,
   "id": "f92d1d0d",
   "metadata": {},
   "outputs": [
    {
     "name": "stdout",
     "output_type": "stream",
     "text": [
      "Downloading and/or loading the data one entry at a time...\n",
      "\n",
      "\n",
      "Downloading IPSL-CM6A-LR.r1i1p1f1.gr ...\n",
      "\n"
     ]
    },
    {
     "data": {
      "application/vnd.jupyter.widget-view+json": {
       "model_id": "201e82a8114f4245b923d5e349a9a804",
       "version_major": 2,
       "version_minor": 0
      },
      "text/plain": [
       "   Searching indices:   0%|          |0/9 [       ?index/s]"
      ]
     },
     "metadata": {},
     "output_type": "display_data"
    },
    {
     "name": "stderr",
     "output_type": "stream",
     "text": [
      "/home/jovyan/my-conda-envs/cmip6-download/lib/python3.13/site-packages/intake_esgf/catalog.py:450: UserWarning: SolrESGFIndex('esgf.ceda.ac.uk') failed to return a response, info may be incomplete\n",
      "  warnings.warn(\n",
      "/home/jovyan/my-conda-envs/cmip6-download/lib/python3.13/site-packages/intake_esgf/catalog.py:450: UserWarning: SolrESGFIndex('esgf-data.dkrz.de') failed to return a response, info may be incomplete\n",
      "  warnings.warn(\n",
      "/home/jovyan/my-conda-envs/cmip6-download/lib/python3.13/site-packages/intake_esgf/catalog.py:450: UserWarning: SolrESGFIndex('esgf-node.ipsl.upmc.fr') failed to return a response, info may be incomplete\n",
      "  warnings.warn(\n",
      "/home/jovyan/my-conda-envs/cmip6-download/lib/python3.13/site-packages/intake_esgf/catalog.py:450: UserWarning: SolrESGFIndex('esg-dn1.nsc.liu.se') failed to return a response, info may be incomplete\n",
      "  warnings.warn(\n",
      "/home/jovyan/my-conda-envs/cmip6-download/lib/python3.13/site-packages/intake_esgf/catalog.py:450: UserWarning: SolrESGFIndex('esgf-node.ornl.gov') failed to return a response, info may be incomplete\n",
      "  warnings.warn(\n",
      "/home/jovyan/my-conda-envs/cmip6-download/lib/python3.13/site-packages/intake_esgf/catalog.py:450: UserWarning: SolrESGFIndex('esgf-node.llnl.gov') failed to return a response, info may be incomplete\n",
      "  warnings.warn(\n",
      "/home/jovyan/my-conda-envs/cmip6-download/lib/python3.13/site-packages/intake_esgf/catalog.py:450: UserWarning: SolrESGFIndex('esgf.nci.org.au') failed to return a response, info may be incomplete\n",
      "  warnings.warn(\n"
     ]
    },
    {
     "data": {
      "application/vnd.jupyter.widget-view+json": {
       "model_id": "a22a352c4ab74295a5fa11ce15d20f80",
       "version_major": 2,
       "version_minor": 0
      },
      "text/plain": [
       "rsut_Amon_IPSL-CM6A-LR_piClim-aer_r1i...:   0%|          |0.00/20.8M [?B/s]"
      ]
     },
     "metadata": {},
     "output_type": "display_data"
    },
    {
     "data": {
      "application/vnd.jupyter.widget-view+json": {
       "model_id": "3e3a925410224c57a519a147b3a4cb4c",
       "version_major": 2,
       "version_minor": 0
      },
      "text/plain": [
       "rsuscs_Amon_IPSL-CM6A-LR_piClim-aer_r...:   0%|          |0.00/19.7M [?B/s]"
      ]
     },
     "metadata": {},
     "output_type": "display_data"
    },
    {
     "data": {
      "application/vnd.jupyter.widget-view+json": {
       "model_id": "1f59c7d539104b0cb036e65b14f9aec2",
       "version_major": 2,
       "version_minor": 0
      },
      "text/plain": [
       "rsut_Amon_IPSL-CM6A-LR_piClim-control...:   0%|          |0.00/20.8M [?B/s]"
      ]
     },
     "metadata": {},
     "output_type": "display_data"
    },
    {
     "data": {
      "application/vnd.jupyter.widget-view+json": {
       "model_id": "72c2b778433f4ae9a51ce57e3f0312c5",
       "version_major": 2,
       "version_minor": 0
      },
      "text/plain": [
       "rsdscs_Amon_IPSL-CM6A-LR_piClim-aer_r...:   0%|          |0.00/17.6M [?B/s]"
      ]
     },
     "metadata": {},
     "output_type": "display_data"
    },
    {
     "data": {
      "application/vnd.jupyter.widget-view+json": {
       "model_id": "77f62d73e64f4cff8d9fad955db280bf",
       "version_major": 2,
       "version_minor": 0
      },
      "text/plain": [
       "rsutcs_Amon_IPSL-CM6A-LR_piClim-aer_r...:   0%|          |0.00/19.0M [?B/s]"
      ]
     },
     "metadata": {},
     "output_type": "display_data"
    },
    {
     "data": {
      "application/vnd.jupyter.widget-view+json": {
       "model_id": "619090a4dc70479e98cc17c48b447b8c",
       "version_major": 2,
       "version_minor": 0
      },
      "text/plain": [
       "rsus_Amon_IPSL-CM6A-LR_piClim-aer_r1i...:   0%|          |0.00/21.3M [?B/s]"
      ]
     },
     "metadata": {},
     "output_type": "display_data"
    },
    {
     "data": {
      "application/vnd.jupyter.widget-view+json": {
       "model_id": "dac7e2aeb9d5486f99643c12211848d0",
       "version_major": 2,
       "version_minor": 0
      },
      "text/plain": [
       "clt_Amon_IPSL-CM6A-LR_piClim-control_...:   0%|          |0.00/22.1M [?B/s]"
      ]
     },
     "metadata": {},
     "output_type": "display_data"
    },
    {
     "data": {
      "application/vnd.jupyter.widget-view+json": {
       "model_id": "f6b5ad8df89a4c84b4201844b8c9e447",
       "version_major": 2,
       "version_minor": 0
      },
      "text/plain": [
       "rsdt_Amon_IPSL-CM6A-LR_piClim-control...:   0%|          |0.00/13.5M [?B/s]"
      ]
     },
     "metadata": {},
     "output_type": "display_data"
    },
    {
     "data": {
      "application/vnd.jupyter.widget-view+json": {
       "model_id": "33a9a98d0a2643e0a69036afc180b9be",
       "version_major": 2,
       "version_minor": 0
      },
      "text/plain": [
       "rsdt_Amon_IPSL-CM6A-LR_piClim-aer_r1i...:   0%|          |0.00/13.5M [?B/s]"
      ]
     },
     "metadata": {},
     "output_type": "display_data"
    },
    {
     "data": {
      "application/vnd.jupyter.widget-view+json": {
       "model_id": "23b97815b78f4db49374ab29e5f1d0f6",
       "version_major": 2,
       "version_minor": 0
      },
      "text/plain": [
       "rsds_Amon_IPSL-CM6A-LR_piClim-aer_r1i...:   0%|          |0.00/20.7M [?B/s]"
      ]
     },
     "metadata": {},
     "output_type": "display_data"
    },
    {
     "data": {
      "application/vnd.jupyter.widget-view+json": {
       "model_id": "d5ef5ded0ad4497f99fb9fcb15337bbf",
       "version_major": 2,
       "version_minor": 0
      },
      "text/plain": [
       "clt_Amon_IPSL-CM6A-LR_piClim-aer_r1i1...:   0%|          |0.00/22.1M [?B/s]"
      ]
     },
     "metadata": {},
     "output_type": "display_data"
    },
    {
     "data": {
      "application/vnd.jupyter.widget-view+json": {
       "model_id": "e3a7c6bf0c894f70b8ff6b5552a78508",
       "version_major": 2,
       "version_minor": 0
      },
      "text/plain": [
       "rsdscs_Amon_IPSL-CM6A-LR_piClim-contr...:   0%|          |0.00/17.5M [?B/s]"
      ]
     },
     "metadata": {},
     "output_type": "display_data"
    },
    {
     "data": {
      "application/vnd.jupyter.widget-view+json": {
       "model_id": "aaebcd0c7b384542b17403076ce627ed",
       "version_major": 2,
       "version_minor": 0
      },
      "text/plain": [
       "rsus_Amon_IPSL-CM6A-LR_piClim-control...:   0%|          |0.00/21.3M [?B/s]"
      ]
     },
     "metadata": {},
     "output_type": "display_data"
    },
    {
     "data": {
      "application/vnd.jupyter.widget-view+json": {
       "model_id": "47d106405e8346e9b4a1c9ad5df9200f",
       "version_major": 2,
       "version_minor": 0
      },
      "text/plain": [
       "rsuscs_Amon_IPSL-CM6A-LR_piClim-contr...:   0%|          |0.00/19.7M [?B/s]"
      ]
     },
     "metadata": {},
     "output_type": "display_data"
    },
    {
     "data": {
      "application/vnd.jupyter.widget-view+json": {
       "model_id": "2fb2c35405fc479e8c41d1a537c4882e",
       "version_major": 2,
       "version_minor": 0
      },
      "text/plain": [
       "rsds_Amon_IPSL-CM6A-LR_piClim-control...:   0%|          |0.00/20.7M [?B/s]"
      ]
     },
     "metadata": {},
     "output_type": "display_data"
    },
    {
     "data": {
      "application/vnd.jupyter.widget-view+json": {
       "model_id": "c5458f321a9f465b8cacdc611fa63bbc",
       "version_major": 2,
       "version_minor": 0
      },
      "text/plain": [
       "rsutcs_Amon_IPSL-CM6A-LR_piClim-contr...:   0%|          |0.00/19.0M [?B/s]"
      ]
     },
     "metadata": {},
     "output_type": "display_data"
    },
    {
     "name": "stdout",
     "output_type": "stream",
     "text": [
      "\n",
      "Downloading IPSL-CM6A-LR.r2i1p1f1.gr ...\n",
      "\n"
     ]
    },
    {
     "data": {
      "application/vnd.jupyter.widget-view+json": {
       "model_id": "e1499ba6bc274b799abd982bd69a5411",
       "version_major": 2,
       "version_minor": 0
      },
      "text/plain": [
       "   Searching indices:   0%|          |0/9 [       ?index/s]"
      ]
     },
     "metadata": {},
     "output_type": "display_data"
    },
    {
     "name": "stderr",
     "output_type": "stream",
     "text": [
      "/home/jovyan/my-conda-envs/cmip6-download/lib/python3.13/site-packages/intake_esgf/catalog.py:450: UserWarning: SolrESGFIndex('esgf-node.ipsl.upmc.fr') failed to return a response, info may be incomplete\n",
      "  warnings.warn(\n",
      "/home/jovyan/my-conda-envs/cmip6-download/lib/python3.13/site-packages/intake_esgf/catalog.py:450: UserWarning: SolrESGFIndex('esgf.ceda.ac.uk') failed to return a response, info may be incomplete\n",
      "  warnings.warn(\n",
      "/home/jovyan/my-conda-envs/cmip6-download/lib/python3.13/site-packages/intake_esgf/catalog.py:450: UserWarning: SolrESGFIndex('esgf-data.dkrz.de') failed to return a response, info may be incomplete\n",
      "  warnings.warn(\n",
      "/home/jovyan/my-conda-envs/cmip6-download/lib/python3.13/site-packages/intake_esgf/catalog.py:450: UserWarning: SolrESGFIndex('esg-dn1.nsc.liu.se') failed to return a response, info may be incomplete\n",
      "  warnings.warn(\n",
      "/home/jovyan/my-conda-envs/cmip6-download/lib/python3.13/site-packages/intake_esgf/catalog.py:450: UserWarning: SolrESGFIndex('esgf-node.ornl.gov') failed to return a response, info may be incomplete\n",
      "  warnings.warn(\n",
      "/home/jovyan/my-conda-envs/cmip6-download/lib/python3.13/site-packages/intake_esgf/catalog.py:450: UserWarning: SolrESGFIndex('esgf-node.llnl.gov') failed to return a response, info may be incomplete\n",
      "  warnings.warn(\n",
      "/home/jovyan/my-conda-envs/cmip6-download/lib/python3.13/site-packages/intake_esgf/catalog.py:450: UserWarning: SolrESGFIndex('esgf.nci.org.au') failed to return a response, info may be incomplete\n",
      "  warnings.warn(\n"
     ]
    },
    {
     "data": {
      "application/vnd.jupyter.widget-view+json": {
       "model_id": "492f9803e1e24fcaaf71cca4a4a55117",
       "version_major": 2,
       "version_minor": 0
      },
      "text/plain": [
       "rsdt_Amon_IPSL-CM6A-LR_piClim-control...:   0%|          |0.00/13.5M [?B/s]"
      ]
     },
     "metadata": {},
     "output_type": "display_data"
    },
    {
     "data": {
      "application/vnd.jupyter.widget-view+json": {
       "model_id": "22cdf80ee9614ddc9282dd35fe868723",
       "version_major": 2,
       "version_minor": 0
      },
      "text/plain": [
       "rsdscs_Amon_IPSL-CM6A-LR_piClim-aer_r...:   0%|          |0.00/17.6M [?B/s]"
      ]
     },
     "metadata": {},
     "output_type": "display_data"
    },
    {
     "data": {
      "application/vnd.jupyter.widget-view+json": {
       "model_id": "bb5af8b045154d07a8e879bdd8158479",
       "version_major": 2,
       "version_minor": 0
      },
      "text/plain": [
       "rsus_Amon_IPSL-CM6A-LR_piClim-control...:   0%|          |0.00/21.3M [?B/s]"
      ]
     },
     "metadata": {},
     "output_type": "display_data"
    },
    {
     "data": {
      "application/vnd.jupyter.widget-view+json": {
       "model_id": "29480821d34a41a9ad320e124f7e6e3b",
       "version_major": 2,
       "version_minor": 0
      },
      "text/plain": [
       "rsuscs_Amon_IPSL-CM6A-LR_piClim-contr...:   0%|          |0.00/19.7M [?B/s]"
      ]
     },
     "metadata": {},
     "output_type": "display_data"
    },
    {
     "data": {
      "application/vnd.jupyter.widget-view+json": {
       "model_id": "d5f6132f82bc4ab09110b849b7ccae73",
       "version_major": 2,
       "version_minor": 0
      },
      "text/plain": [
       "clt_Amon_IPSL-CM6A-LR_piClim-aer_r2i1...:   0%|          |0.00/22.1M [?B/s]"
      ]
     },
     "metadata": {},
     "output_type": "display_data"
    },
    {
     "data": {
      "application/vnd.jupyter.widget-view+json": {
       "model_id": "2297fec6c6fb4207aa68351adacfda7f",
       "version_major": 2,
       "version_minor": 0
      },
      "text/plain": [
       "rsuscs_Amon_IPSL-CM6A-LR_piClim-aer_r...:   0%|          |0.00/19.7M [?B/s]"
      ]
     },
     "metadata": {},
     "output_type": "display_data"
    },
    {
     "data": {
      "application/vnd.jupyter.widget-view+json": {
       "model_id": "024f4872cac040d48ffdf0bfe698d503",
       "version_major": 2,
       "version_minor": 0
      },
      "text/plain": [
       "rsutcs_Amon_IPSL-CM6A-LR_piClim-aer_r...:   0%|          |0.00/19.0M [?B/s]"
      ]
     },
     "metadata": {},
     "output_type": "display_data"
    },
    {
     "data": {
      "application/vnd.jupyter.widget-view+json": {
       "model_id": "d0f61c6d5edc456cb09029d6b692c400",
       "version_major": 2,
       "version_minor": 0
      },
      "text/plain": [
       "rsds_Amon_IPSL-CM6A-LR_piClim-aer_r2i...:   0%|          |0.00/20.7M [?B/s]"
      ]
     },
     "metadata": {},
     "output_type": "display_data"
    },
    {
     "data": {
      "application/vnd.jupyter.widget-view+json": {
       "model_id": "a471d0cda9c5421db23b46408e74fa3b",
       "version_major": 2,
       "version_minor": 0
      },
      "text/plain": [
       "rsut_Amon_IPSL-CM6A-LR_piClim-control...:   0%|          |0.00/20.8M [?B/s]"
      ]
     },
     "metadata": {},
     "output_type": "display_data"
    },
    {
     "data": {
      "application/vnd.jupyter.widget-view+json": {
       "model_id": "104006202338475e8944b15002476561",
       "version_major": 2,
       "version_minor": 0
      },
      "text/plain": [
       "rsutcs_Amon_IPSL-CM6A-LR_piClim-contr...:   0%|          |0.00/19.0M [?B/s]"
      ]
     },
     "metadata": {},
     "output_type": "display_data"
    },
    {
     "data": {
      "application/vnd.jupyter.widget-view+json": {
       "model_id": "bba26c6f3ab6426ea1b00c48b00842ab",
       "version_major": 2,
       "version_minor": 0
      },
      "text/plain": [
       "rsus_Amon_IPSL-CM6A-LR_piClim-aer_r2i...:   0%|          |0.00/21.3M [?B/s]"
      ]
     },
     "metadata": {},
     "output_type": "display_data"
    },
    {
     "data": {
      "application/vnd.jupyter.widget-view+json": {
       "model_id": "c374df85360b4374b54ff52739fb99f4",
       "version_major": 2,
       "version_minor": 0
      },
      "text/plain": [
       "clt_Amon_IPSL-CM6A-LR_piClim-control_...:   0%|          |0.00/22.1M [?B/s]"
      ]
     },
     "metadata": {},
     "output_type": "display_data"
    },
    {
     "data": {
      "application/vnd.jupyter.widget-view+json": {
       "model_id": "aef8b2ba63044d9da7759580e859e16e",
       "version_major": 2,
       "version_minor": 0
      },
      "text/plain": [
       "rsdscs_Amon_IPSL-CM6A-LR_piClim-contr...:   0%|          |0.00/17.5M [?B/s]"
      ]
     },
     "metadata": {},
     "output_type": "display_data"
    },
    {
     "data": {
      "application/vnd.jupyter.widget-view+json": {
       "model_id": "c45ad32f26da4011a6b42a1c31e7da08",
       "version_major": 2,
       "version_minor": 0
      },
      "text/plain": [
       "rsut_Amon_IPSL-CM6A-LR_piClim-aer_r2i...:   0%|          |0.00/20.8M [?B/s]"
      ]
     },
     "metadata": {},
     "output_type": "display_data"
    },
    {
     "data": {
      "application/vnd.jupyter.widget-view+json": {
       "model_id": "6a231019f4384f289f1508170e5fef2e",
       "version_major": 2,
       "version_minor": 0
      },
      "text/plain": [
       "rsdt_Amon_IPSL-CM6A-LR_piClim-aer_r2i...:   0%|          |0.00/13.5M [?B/s]"
      ]
     },
     "metadata": {},
     "output_type": "display_data"
    },
    {
     "data": {
      "application/vnd.jupyter.widget-view+json": {
       "model_id": "2b34f4396e21466eab04d787ba052f0b",
       "version_major": 2,
       "version_minor": 0
      },
      "text/plain": [
       "rsds_Amon_IPSL-CM6A-LR_piClim-control...:   0%|          |0.00/20.7M [?B/s]"
      ]
     },
     "metadata": {},
     "output_type": "display_data"
    },
    {
     "name": "stdout",
     "output_type": "stream",
     "text": [
      "\n",
      "Downloading IPSL-CM6A-LR.r4i1p1f1.gr ...\n",
      "\n"
     ]
    },
    {
     "data": {
      "application/vnd.jupyter.widget-view+json": {
       "model_id": "fda0bb304b844357ba608beb15148918",
       "version_major": 2,
       "version_minor": 0
      },
      "text/plain": [
       "   Searching indices:   0%|          |0/9 [       ?index/s]"
      ]
     },
     "metadata": {},
     "output_type": "display_data"
    },
    {
     "name": "stderr",
     "output_type": "stream",
     "text": [
      "/home/jovyan/my-conda-envs/cmip6-download/lib/python3.13/site-packages/intake_esgf/catalog.py:450: UserWarning: SolrESGFIndex('esgf.ceda.ac.uk') failed to return a response, info may be incomplete\n",
      "  warnings.warn(\n",
      "/home/jovyan/my-conda-envs/cmip6-download/lib/python3.13/site-packages/intake_esgf/catalog.py:450: UserWarning: SolrESGFIndex('esgf-node.ipsl.upmc.fr') failed to return a response, info may be incomplete\n",
      "  warnings.warn(\n",
      "/home/jovyan/my-conda-envs/cmip6-download/lib/python3.13/site-packages/intake_esgf/catalog.py:450: UserWarning: SolrESGFIndex('esgf-data.dkrz.de') failed to return a response, info may be incomplete\n",
      "  warnings.warn(\n",
      "/home/jovyan/my-conda-envs/cmip6-download/lib/python3.13/site-packages/intake_esgf/catalog.py:450: UserWarning: SolrESGFIndex('esg-dn1.nsc.liu.se') failed to return a response, info may be incomplete\n",
      "  warnings.warn(\n",
      "/home/jovyan/my-conda-envs/cmip6-download/lib/python3.13/site-packages/intake_esgf/catalog.py:450: UserWarning: SolrESGFIndex('esgf-node.ornl.gov') failed to return a response, info may be incomplete\n",
      "  warnings.warn(\n",
      "/home/jovyan/my-conda-envs/cmip6-download/lib/python3.13/site-packages/intake_esgf/catalog.py:450: UserWarning: SolrESGFIndex('esgf-node.llnl.gov') failed to return a response, info may be incomplete\n",
      "  warnings.warn(\n",
      "/home/jovyan/my-conda-envs/cmip6-download/lib/python3.13/site-packages/intake_esgf/catalog.py:450: UserWarning: SolrESGFIndex('esgf.nci.org.au') failed to return a response, info may be incomplete\n",
      "  warnings.warn(\n"
     ]
    },
    {
     "data": {
      "application/vnd.jupyter.widget-view+json": {
       "model_id": "bfb5c1f265b242f7a8116128fdc7e0db",
       "version_major": 2,
       "version_minor": 0
      },
      "text/plain": [
       "rsdt_Amon_IPSL-CM6A-LR_piClim-aer_r4i...:   0%|          |0.00/13.5M [?B/s]"
      ]
     },
     "metadata": {},
     "output_type": "display_data"
    },
    {
     "data": {
      "application/vnd.jupyter.widget-view+json": {
       "model_id": "0915f6659a164bae99bb6b3e91eeb505",
       "version_major": 2,
       "version_minor": 0
      },
      "text/plain": [
       "rsuscs_Amon_IPSL-CM6A-LR_piClim-aer_r...:   0%|          |0.00/19.7M [?B/s]"
      ]
     },
     "metadata": {},
     "output_type": "display_data"
    },
    {
     "data": {
      "application/vnd.jupyter.widget-view+json": {
       "model_id": "d46cbc14e3a44900874cb3e019c11e83",
       "version_major": 2,
       "version_minor": 0
      },
      "text/plain": [
       "rsuscs_Amon_IPSL-CM6A-LR_piClim-contr...:   0%|          |0.00/19.7M [?B/s]"
      ]
     },
     "metadata": {},
     "output_type": "display_data"
    },
    {
     "data": {
      "application/vnd.jupyter.widget-view+json": {
       "model_id": "ab132ab0b564499d8f9ee7bb21b16d3a",
       "version_major": 2,
       "version_minor": 0
      },
      "text/plain": [
       "rsut_Amon_IPSL-CM6A-LR_piClim-aer_r4i...:   0%|          |0.00/20.8M [?B/s]"
      ]
     },
     "metadata": {},
     "output_type": "display_data"
    },
    {
     "data": {
      "application/vnd.jupyter.widget-view+json": {
       "model_id": "4cdd758a49f94bb6a34e32e0d9df93d7",
       "version_major": 2,
       "version_minor": 0
      },
      "text/plain": [
       "rsds_Amon_IPSL-CM6A-LR_piClim-control...:   0%|          |0.00/20.7M [?B/s]"
      ]
     },
     "metadata": {},
     "output_type": "display_data"
    },
    {
     "data": {
      "application/vnd.jupyter.widget-view+json": {
       "model_id": "0862ce6a2282476eb2b6326af4545ab4",
       "version_major": 2,
       "version_minor": 0
      },
      "text/plain": [
       "rsdscs_Amon_IPSL-CM6A-LR_piClim-contr...:   0%|          |0.00/17.5M [?B/s]"
      ]
     },
     "metadata": {},
     "output_type": "display_data"
    },
    {
     "data": {
      "application/vnd.jupyter.widget-view+json": {
       "model_id": "77c86c1a5d674a549844d2380044b690",
       "version_major": 2,
       "version_minor": 0
      },
      "text/plain": [
       "rsdscs_Amon_IPSL-CM6A-LR_piClim-aer_r...:   0%|          |0.00/17.6M [?B/s]"
      ]
     },
     "metadata": {},
     "output_type": "display_data"
    },
    {
     "data": {
      "application/vnd.jupyter.widget-view+json": {
       "model_id": "926471345c8d431c98fd5ba2c399f7b7",
       "version_major": 2,
       "version_minor": 0
      },
      "text/plain": [
       "rsutcs_Amon_IPSL-CM6A-LR_piClim-aer_r...:   0%|          |0.00/19.0M [?B/s]"
      ]
     },
     "metadata": {},
     "output_type": "display_data"
    },
    {
     "data": {
      "application/vnd.jupyter.widget-view+json": {
       "model_id": "4cc1c75491c64d0c8c9fd3023c7dc9b7",
       "version_major": 2,
       "version_minor": 0
      },
      "text/plain": [
       "rsus_Amon_IPSL-CM6A-LR_piClim-aer_r4i...:   0%|          |0.00/21.3M [?B/s]"
      ]
     },
     "metadata": {},
     "output_type": "display_data"
    },
    {
     "data": {
      "application/vnd.jupyter.widget-view+json": {
       "model_id": "76f78c395806470f9bd4e6a5e645a853",
       "version_major": 2,
       "version_minor": 0
      },
      "text/plain": [
       "clt_Amon_IPSL-CM6A-LR_piClim-control_...:   0%|          |0.00/22.1M [?B/s]"
      ]
     },
     "metadata": {},
     "output_type": "display_data"
    },
    {
     "data": {
      "application/vnd.jupyter.widget-view+json": {
       "model_id": "4a8101e9d0164603a044a499c675fdc8",
       "version_major": 2,
       "version_minor": 0
      },
      "text/plain": [
       "clt_Amon_IPSL-CM6A-LR_piClim-aer_r4i1...:   0%|          |0.00/22.1M [?B/s]"
      ]
     },
     "metadata": {},
     "output_type": "display_data"
    },
    {
     "data": {
      "application/vnd.jupyter.widget-view+json": {
       "model_id": "45e4c759a4dc4484a394b58211d065d4",
       "version_major": 2,
       "version_minor": 0
      },
      "text/plain": [
       "rsdt_Amon_IPSL-CM6A-LR_piClim-control...:   0%|          |0.00/13.5M [?B/s]"
      ]
     },
     "metadata": {},
     "output_type": "display_data"
    },
    {
     "data": {
      "application/vnd.jupyter.widget-view+json": {
       "model_id": "61215872787f4a339ff0dd2f7fea16ce",
       "version_major": 2,
       "version_minor": 0
      },
      "text/plain": [
       "rsutcs_Amon_IPSL-CM6A-LR_piClim-contr...:   0%|          |0.00/19.0M [?B/s]"
      ]
     },
     "metadata": {},
     "output_type": "display_data"
    },
    {
     "data": {
      "application/vnd.jupyter.widget-view+json": {
       "model_id": "0e97b12e145b407d802b687768bbbf2d",
       "version_major": 2,
       "version_minor": 0
      },
      "text/plain": [
       "rsus_Amon_IPSL-CM6A-LR_piClim-control...:   0%|          |0.00/21.3M [?B/s]"
      ]
     },
     "metadata": {},
     "output_type": "display_data"
    },
    {
     "data": {
      "application/vnd.jupyter.widget-view+json": {
       "model_id": "4c4b5020351247fa951c2ebd111eefa6",
       "version_major": 2,
       "version_minor": 0
      },
      "text/plain": [
       "rsut_Amon_IPSL-CM6A-LR_piClim-control...:   0%|          |0.00/20.8M [?B/s]"
      ]
     },
     "metadata": {},
     "output_type": "display_data"
    },
    {
     "data": {
      "application/vnd.jupyter.widget-view+json": {
       "model_id": "8b44e3caa6d349f0bc53addfc3cb51e4",
       "version_major": 2,
       "version_minor": 0
      },
      "text/plain": [
       "rsds_Amon_IPSL-CM6A-LR_piClim-aer_r4i...:   0%|          |0.00/20.7M [?B/s]"
      ]
     },
     "metadata": {},
     "output_type": "display_data"
    },
    {
     "name": "stdout",
     "output_type": "stream",
     "text": [
      "\n",
      "Downloading IPSL-CM6A-LR.r3i1p1f1.gr ...\n",
      "\n"
     ]
    },
    {
     "data": {
      "application/vnd.jupyter.widget-view+json": {
       "model_id": "217b14d27e0b4041bae0ed79d8e51530",
       "version_major": 2,
       "version_minor": 0
      },
      "text/plain": [
       "   Searching indices:   0%|          |0/9 [       ?index/s]"
      ]
     },
     "metadata": {},
     "output_type": "display_data"
    },
    {
     "name": "stderr",
     "output_type": "stream",
     "text": [
      "/home/jovyan/my-conda-envs/cmip6-download/lib/python3.13/site-packages/intake_esgf/catalog.py:450: UserWarning: SolrESGFIndex('esgf-node.ipsl.upmc.fr') failed to return a response, info may be incomplete\n",
      "  warnings.warn(\n",
      "/home/jovyan/my-conda-envs/cmip6-download/lib/python3.13/site-packages/intake_esgf/catalog.py:450: UserWarning: SolrESGFIndex('esgf-data.dkrz.de') failed to return a response, info may be incomplete\n",
      "  warnings.warn(\n",
      "/home/jovyan/my-conda-envs/cmip6-download/lib/python3.13/site-packages/intake_esgf/catalog.py:450: UserWarning: SolrESGFIndex('esgf.ceda.ac.uk') failed to return a response, info may be incomplete\n",
      "  warnings.warn(\n",
      "/home/jovyan/my-conda-envs/cmip6-download/lib/python3.13/site-packages/intake_esgf/catalog.py:450: UserWarning: SolrESGFIndex('esg-dn1.nsc.liu.se') failed to return a response, info may be incomplete\n",
      "  warnings.warn(\n",
      "/home/jovyan/my-conda-envs/cmip6-download/lib/python3.13/site-packages/intake_esgf/catalog.py:450: UserWarning: SolrESGFIndex('esgf-node.ornl.gov') failed to return a response, info may be incomplete\n",
      "  warnings.warn(\n",
      "/home/jovyan/my-conda-envs/cmip6-download/lib/python3.13/site-packages/intake_esgf/catalog.py:450: UserWarning: SolrESGFIndex('esgf-node.llnl.gov') failed to return a response, info may be incomplete\n",
      "  warnings.warn(\n",
      "/home/jovyan/my-conda-envs/cmip6-download/lib/python3.13/site-packages/intake_esgf/catalog.py:450: UserWarning: SolrESGFIndex('esgf.nci.org.au') failed to return a response, info may be incomplete\n",
      "  warnings.warn(\n"
     ]
    },
    {
     "data": {
      "application/vnd.jupyter.widget-view+json": {
       "model_id": "716cddcaa701423abf93ac68e4365e14",
       "version_major": 2,
       "version_minor": 0
      },
      "text/plain": [
       "rsut_Amon_IPSL-CM6A-LR_piClim-aer_r3i...:   0%|          |0.00/20.8M [?B/s]"
      ]
     },
     "metadata": {},
     "output_type": "display_data"
    },
    {
     "data": {
      "application/vnd.jupyter.widget-view+json": {
       "model_id": "eca2e1313b98479fb717bbafc6780949",
       "version_major": 2,
       "version_minor": 0
      },
      "text/plain": [
       "clt_Amon_IPSL-CM6A-LR_piClim-aer_r3i1...:   0%|          |0.00/22.1M [?B/s]"
      ]
     },
     "metadata": {},
     "output_type": "display_data"
    },
    {
     "data": {
      "application/vnd.jupyter.widget-view+json": {
       "model_id": "24a9eb8e545546ee93e045749543fb8a",
       "version_major": 2,
       "version_minor": 0
      },
      "text/plain": [
       "rsds_Amon_IPSL-CM6A-LR_piClim-aer_r3i...:   0%|          |0.00/20.7M [?B/s]"
      ]
     },
     "metadata": {},
     "output_type": "display_data"
    },
    {
     "data": {
      "application/vnd.jupyter.widget-view+json": {
       "model_id": "2f06b0faaad24f0980201e5761e04fd7",
       "version_major": 2,
       "version_minor": 0
      },
      "text/plain": [
       "clt_Amon_IPSL-CM6A-LR_piClim-control_...:   0%|          |0.00/22.1M [?B/s]"
      ]
     },
     "metadata": {},
     "output_type": "display_data"
    },
    {
     "data": {
      "application/vnd.jupyter.widget-view+json": {
       "model_id": "6502a35ef2df40bc9b03d6f447277ffb",
       "version_major": 2,
       "version_minor": 0
      },
      "text/plain": [
       "rsus_Amon_IPSL-CM6A-LR_piClim-control...:   0%|          |0.00/21.3M [?B/s]"
      ]
     },
     "metadata": {},
     "output_type": "display_data"
    },
    {
     "data": {
      "application/vnd.jupyter.widget-view+json": {
       "model_id": "299664b9d49b4edbb94325ad7f382e8e",
       "version_major": 2,
       "version_minor": 0
      },
      "text/plain": [
       "rsuscs_Amon_IPSL-CM6A-LR_piClim-contr...:   0%|          |0.00/19.7M [?B/s]"
      ]
     },
     "metadata": {},
     "output_type": "display_data"
    },
    {
     "data": {
      "application/vnd.jupyter.widget-view+json": {
       "model_id": "1fee8cd1c2b14e869bb432284b406550",
       "version_major": 2,
       "version_minor": 0
      },
      "text/plain": [
       "rsutcs_Amon_IPSL-CM6A-LR_piClim-contr...:   0%|          |0.00/19.0M [?B/s]"
      ]
     },
     "metadata": {},
     "output_type": "display_data"
    },
    {
     "data": {
      "application/vnd.jupyter.widget-view+json": {
       "model_id": "be10c47374e84ae8945db6b0578350ad",
       "version_major": 2,
       "version_minor": 0
      },
      "text/plain": [
       "rsus_Amon_IPSL-CM6A-LR_piClim-aer_r3i...:   0%|          |0.00/21.3M [?B/s]"
      ]
     },
     "metadata": {},
     "output_type": "display_data"
    },
    {
     "data": {
      "application/vnd.jupyter.widget-view+json": {
       "model_id": "995e0a2edec644c5ab742f3b042f9c1c",
       "version_major": 2,
       "version_minor": 0
      },
      "text/plain": [
       "rsdt_Amon_IPSL-CM6A-LR_piClim-aer_r3i...:   0%|          |0.00/13.5M [?B/s]"
      ]
     },
     "metadata": {},
     "output_type": "display_data"
    },
    {
     "data": {
      "application/vnd.jupyter.widget-view+json": {
       "model_id": "85db91397da84643aab712ade32e1914",
       "version_major": 2,
       "version_minor": 0
      },
      "text/plain": [
       "rsdscs_Amon_IPSL-CM6A-LR_piClim-aer_r...:   0%|          |0.00/17.6M [?B/s]"
      ]
     },
     "metadata": {},
     "output_type": "display_data"
    },
    {
     "data": {
      "application/vnd.jupyter.widget-view+json": {
       "model_id": "c225e235e4bb4c6ea270ed71dcd2deff",
       "version_major": 2,
       "version_minor": 0
      },
      "text/plain": [
       "rsuscs_Amon_IPSL-CM6A-LR_piClim-aer_r...:   0%|          |0.00/19.7M [?B/s]"
      ]
     },
     "metadata": {},
     "output_type": "display_data"
    },
    {
     "data": {
      "application/vnd.jupyter.widget-view+json": {
       "model_id": "1b597ad2c33f429f9ab7c71dbe1fe6a5",
       "version_major": 2,
       "version_minor": 0
      },
      "text/plain": [
       "rsds_Amon_IPSL-CM6A-LR_piClim-control...:   0%|          |0.00/20.7M [?B/s]"
      ]
     },
     "metadata": {},
     "output_type": "display_data"
    },
    {
     "data": {
      "application/vnd.jupyter.widget-view+json": {
       "model_id": "06ecce50d64f461d905b261dddd78996",
       "version_major": 2,
       "version_minor": 0
      },
      "text/plain": [
       "rsut_Amon_IPSL-CM6A-LR_piClim-control...:   0%|          |0.00/20.8M [?B/s]"
      ]
     },
     "metadata": {},
     "output_type": "display_data"
    },
    {
     "data": {
      "application/vnd.jupyter.widget-view+json": {
       "model_id": "7258e9a09c8043529ef8880a7b96400d",
       "version_major": 2,
       "version_minor": 0
      },
      "text/plain": [
       "rsutcs_Amon_IPSL-CM6A-LR_piClim-aer_r...:   0%|          |0.00/19.0M [?B/s]"
      ]
     },
     "metadata": {},
     "output_type": "display_data"
    },
    {
     "data": {
      "application/vnd.jupyter.widget-view+json": {
       "model_id": "6d5063668663432dbc12f3470d2a410d",
       "version_major": 2,
       "version_minor": 0
      },
      "text/plain": [
       "rsdscs_Amon_IPSL-CM6A-LR_piClim-contr...:   0%|          |0.00/17.5M [?B/s]"
      ]
     },
     "metadata": {},
     "output_type": "display_data"
    },
    {
     "data": {
      "application/vnd.jupyter.widget-view+json": {
       "model_id": "e4bfb0c289d04924a891566b58c3efba",
       "version_major": 2,
       "version_minor": 0
      },
      "text/plain": [
       "rsdt_Amon_IPSL-CM6A-LR_piClim-control...:   0%|          |0.00/13.5M [?B/s]"
      ]
     },
     "metadata": {},
     "output_type": "display_data"
    },
    {
     "name": "stdout",
     "output_type": "stream",
     "text": [
      "\n",
      "Downloading CNRM-ESM2-1.r1i1p1f2.gr ...\n",
      "\n"
     ]
    },
    {
     "data": {
      "application/vnd.jupyter.widget-view+json": {
       "model_id": "cae66a6942464896a4427bbb114c0c72",
       "version_major": 2,
       "version_minor": 0
      },
      "text/plain": [
       "   Searching indices:   0%|          |0/9 [       ?index/s]"
      ]
     },
     "metadata": {},
     "output_type": "display_data"
    },
    {
     "name": "stderr",
     "output_type": "stream",
     "text": [
      "/home/jovyan/my-conda-envs/cmip6-download/lib/python3.13/site-packages/intake_esgf/catalog.py:450: UserWarning: SolrESGFIndex('esgf-node.ipsl.upmc.fr') failed to return a response, info may be incomplete\n",
      "  warnings.warn(\n",
      "/home/jovyan/my-conda-envs/cmip6-download/lib/python3.13/site-packages/intake_esgf/catalog.py:450: UserWarning: SolrESGFIndex('esgf-data.dkrz.de') failed to return a response, info may be incomplete\n",
      "  warnings.warn(\n",
      "/home/jovyan/my-conda-envs/cmip6-download/lib/python3.13/site-packages/intake_esgf/catalog.py:450: UserWarning: SolrESGFIndex('esgf.ceda.ac.uk') failed to return a response, info may be incomplete\n",
      "  warnings.warn(\n",
      "/home/jovyan/my-conda-envs/cmip6-download/lib/python3.13/site-packages/intake_esgf/catalog.py:450: UserWarning: SolrESGFIndex('esg-dn1.nsc.liu.se') failed to return a response, info may be incomplete\n",
      "  warnings.warn(\n",
      "/home/jovyan/my-conda-envs/cmip6-download/lib/python3.13/site-packages/intake_esgf/catalog.py:450: UserWarning: SolrESGFIndex('esgf-node.ornl.gov') failed to return a response, info may be incomplete\n",
      "  warnings.warn(\n",
      "/home/jovyan/my-conda-envs/cmip6-download/lib/python3.13/site-packages/intake_esgf/catalog.py:450: UserWarning: SolrESGFIndex('esgf-node.llnl.gov') failed to return a response, info may be incomplete\n",
      "  warnings.warn(\n",
      "/home/jovyan/my-conda-envs/cmip6-download/lib/python3.13/site-packages/intake_esgf/catalog.py:450: UserWarning: SolrESGFIndex('esgf.nci.org.au') failed to return a response, info may be incomplete\n",
      "  warnings.warn(\n"
     ]
    },
    {
     "data": {
      "application/vnd.jupyter.widget-view+json": {
       "model_id": "df3c2f1fc6824988a6b3fc776503d19e",
       "version_major": 2,
       "version_minor": 0
      },
      "text/plain": [
       "rsutcs_Amon_CNRM-ESM2-1_piClim-contro...:   0%|          |0.00/29.6M [?B/s]"
      ]
     },
     "metadata": {},
     "output_type": "display_data"
    },
    {
     "data": {
      "application/vnd.jupyter.widget-view+json": {
       "model_id": "cf0c731414c5449a85b84c66aa239eb0",
       "version_major": 2,
       "version_minor": 0
      },
      "text/plain": [
       "rsuscs_Amon_CNRM-ESM2-1_piClim-aer_r1...:   0%|          |0.00/30.1M [?B/s]"
      ]
     },
     "metadata": {},
     "output_type": "display_data"
    },
    {
     "data": {
      "application/vnd.jupyter.widget-view+json": {
       "model_id": "b6c8185b0d4c49d790ee4c1e5fee9af7",
       "version_major": 2,
       "version_minor": 0
      },
      "text/plain": [
       "rsut_Amon_CNRM-ESM2-1_piClim-control_...:   0%|          |0.00/32.5M [?B/s]"
      ]
     },
     "metadata": {},
     "output_type": "display_data"
    },
    {
     "data": {
      "application/vnd.jupyter.widget-view+json": {
       "model_id": "fb4ca24276024abe97f577d30c653caa",
       "version_major": 2,
       "version_minor": 0
      },
      "text/plain": [
       "rsds_Amon_CNRM-ESM2-1_piClim-control_...:   0%|          |0.00/31.7M [?B/s]"
      ]
     },
     "metadata": {},
     "output_type": "display_data"
    },
    {
     "data": {
      "application/vnd.jupyter.widget-view+json": {
       "model_id": "ce8bc30d7f8a4f61a862f6133fe95553",
       "version_major": 2,
       "version_minor": 0
      },
      "text/plain": [
       "rsutcs_Amon_CNRM-ESM2-1_piClim-aer_r1...:   0%|          |0.00/29.6M [?B/s]"
      ]
     },
     "metadata": {},
     "output_type": "display_data"
    },
    {
     "data": {
      "application/vnd.jupyter.widget-view+json": {
       "model_id": "4a861d17f4834c4cbab4cf19b083bbe6",
       "version_major": 2,
       "version_minor": 0
      },
      "text/plain": [
       "clt_Amon_CNRM-ESM2-1_piClim-aer_r1i1p...:   0%|          |0.00/33.4M [?B/s]"
      ]
     },
     "metadata": {},
     "output_type": "display_data"
    },
    {
     "data": {
      "application/vnd.jupyter.widget-view+json": {
       "model_id": "df275d2aafea41a49fb8915e3c91bdf1",
       "version_major": 2,
       "version_minor": 0
      },
      "text/plain": [
       "clt_Amon_CNRM-ESM2-1_piClim-control_r...:   0%|          |0.00/33.4M [?B/s]"
      ]
     },
     "metadata": {},
     "output_type": "display_data"
    },
    {
     "data": {
      "application/vnd.jupyter.widget-view+json": {
       "model_id": "f56cd7e2038e4d1ba2fc8375542e9086",
       "version_major": 2,
       "version_minor": 0
      },
      "text/plain": [
       "rsdscs_Amon_CNRM-ESM2-1_piClim-aer_r1...:   0%|          |0.00/26.7M [?B/s]"
      ]
     },
     "metadata": {},
     "output_type": "display_data"
    },
    {
     "data": {
      "application/vnd.jupyter.widget-view+json": {
       "model_id": "71905b4c552644ffa88371d047506d1c",
       "version_major": 2,
       "version_minor": 0
      },
      "text/plain": [
       "rsdt_Amon_CNRM-ESM2-1_piClim-aer_r1i1...:   0%|          |0.00/20.5M [?B/s]"
      ]
     },
     "metadata": {},
     "output_type": "display_data"
    },
    {
     "data": {
      "application/vnd.jupyter.widget-view+json": {
       "model_id": "0805acd6767d490d9602b5b704c7b11d",
       "version_major": 2,
       "version_minor": 0
      },
      "text/plain": [
       "rsdt_Amon_CNRM-ESM2-1_piClim-control_...:   0%|          |0.00/20.5M [?B/s]"
      ]
     },
     "metadata": {},
     "output_type": "display_data"
    },
    {
     "data": {
      "application/vnd.jupyter.widget-view+json": {
       "model_id": "dd8d87833f9b4ac2be8c250f2f918d69",
       "version_major": 2,
       "version_minor": 0
      },
      "text/plain": [
       "rsdscs_Amon_CNRM-ESM2-1_piClim-contro...:   0%|          |0.00/26.6M [?B/s]"
      ]
     },
     "metadata": {},
     "output_type": "display_data"
    },
    {
     "data": {
      "application/vnd.jupyter.widget-view+json": {
       "model_id": "e5bac54181dd42838acd2015a18490ab",
       "version_major": 2,
       "version_minor": 0
      },
      "text/plain": [
       "rsuscs_Amon_CNRM-ESM2-1_piClim-contro...:   0%|          |0.00/30.0M [?B/s]"
      ]
     },
     "metadata": {},
     "output_type": "display_data"
    },
    {
     "data": {
      "application/vnd.jupyter.widget-view+json": {
       "model_id": "33abc0bda49e412a8cf267d2a3d195cc",
       "version_major": 2,
       "version_minor": 0
      },
      "text/plain": [
       "rsds_Amon_CNRM-ESM2-1_piClim-aer_r1i1...:   0%|          |0.00/31.7M [?B/s]"
      ]
     },
     "metadata": {},
     "output_type": "display_data"
    },
    {
     "data": {
      "application/vnd.jupyter.widget-view+json": {
       "model_id": "8317aabcd33f4a65bd4c1ac24b9aab18",
       "version_major": 2,
       "version_minor": 0
      },
      "text/plain": [
       "rsut_Amon_CNRM-ESM2-1_piClim-aer_r1i1...:   0%|          |0.00/32.5M [?B/s]"
      ]
     },
     "metadata": {},
     "output_type": "display_data"
    },
    {
     "data": {
      "application/vnd.jupyter.widget-view+json": {
       "model_id": "4f7ac3a654fc4cbd89a39e67feee0184",
       "version_major": 2,
       "version_minor": 0
      },
      "text/plain": [
       "rsus_Amon_CNRM-ESM2-1_piClim-control_...:   0%|          |0.00/32.9M [?B/s]"
      ]
     },
     "metadata": {},
     "output_type": "display_data"
    },
    {
     "data": {
      "application/vnd.jupyter.widget-view+json": {
       "model_id": "5f322b539bd449e19584aa71ae6bbb29",
       "version_major": 2,
       "version_minor": 0
      },
      "text/plain": [
       "rsus_Amon_CNRM-ESM2-1_piClim-aer_r1i1...:   0%|          |0.00/32.9M [?B/s]"
      ]
     },
     "metadata": {},
     "output_type": "display_data"
    },
    {
     "name": "stdout",
     "output_type": "stream",
     "text": [
      "\n",
      "Downloading CNRM-CM6-1.r1i1p1f2.gr ...\n",
      "\n"
     ]
    },
    {
     "data": {
      "application/vnd.jupyter.widget-view+json": {
       "model_id": "2ff10ee7e4d54e16a15aa7b2c8f880fc",
       "version_major": 2,
       "version_minor": 0
      },
      "text/plain": [
       "   Searching indices:   0%|          |0/9 [       ?index/s]"
      ]
     },
     "metadata": {},
     "output_type": "display_data"
    },
    {
     "name": "stderr",
     "output_type": "stream",
     "text": [
      "/home/jovyan/my-conda-envs/cmip6-download/lib/python3.13/site-packages/intake_esgf/catalog.py:450: UserWarning: SolrESGFIndex('esgf-node.ipsl.upmc.fr') failed to return a response, info may be incomplete\n",
      "  warnings.warn(\n",
      "/home/jovyan/my-conda-envs/cmip6-download/lib/python3.13/site-packages/intake_esgf/catalog.py:450: UserWarning: SolrESGFIndex('esg-dn1.nsc.liu.se') failed to return a response, info may be incomplete\n",
      "  warnings.warn(\n",
      "/home/jovyan/my-conda-envs/cmip6-download/lib/python3.13/site-packages/intake_esgf/catalog.py:450: UserWarning: SolrESGFIndex('esgf-data.dkrz.de') failed to return a response, info may be incomplete\n",
      "  warnings.warn(\n",
      "/home/jovyan/my-conda-envs/cmip6-download/lib/python3.13/site-packages/intake_esgf/catalog.py:450: UserWarning: SolrESGFIndex('esgf.ceda.ac.uk') failed to return a response, info may be incomplete\n",
      "  warnings.warn(\n",
      "/home/jovyan/my-conda-envs/cmip6-download/lib/python3.13/site-packages/intake_esgf/catalog.py:450: UserWarning: SolrESGFIndex('esgf-node.ornl.gov') failed to return a response, info may be incomplete\n",
      "  warnings.warn(\n",
      "/home/jovyan/my-conda-envs/cmip6-download/lib/python3.13/site-packages/intake_esgf/catalog.py:450: UserWarning: SolrESGFIndex('esgf-node.llnl.gov') failed to return a response, info may be incomplete\n",
      "  warnings.warn(\n",
      "/home/jovyan/my-conda-envs/cmip6-download/lib/python3.13/site-packages/intake_esgf/catalog.py:450: UserWarning: SolrESGFIndex('esgf.nci.org.au') failed to return a response, info may be incomplete\n",
      "  warnings.warn(\n"
     ]
    },
    {
     "data": {
      "application/vnd.jupyter.widget-view+json": {
       "model_id": "ab7b226a89cd4a768832669f3f709973",
       "version_major": 2,
       "version_minor": 0
      },
      "text/plain": [
       "rsds_Amon_CNRM-CM6-1_piClim-aer_r1i1p...:   0%|          |0.00/31.7M [?B/s]"
      ]
     },
     "metadata": {},
     "output_type": "display_data"
    },
    {
     "data": {
      "application/vnd.jupyter.widget-view+json": {
       "model_id": "823c18d48e4544c5aecc247c99ca9363",
       "version_major": 2,
       "version_minor": 0
      },
      "text/plain": [
       "clt_Amon_CNRM-CM6-1_piClim-control_r1...:   0%|          |0.00/33.3M [?B/s]"
      ]
     },
     "metadata": {},
     "output_type": "display_data"
    },
    {
     "data": {
      "application/vnd.jupyter.widget-view+json": {
       "model_id": "605ad84aadef4aa8b848792cc1a980cf",
       "version_major": 2,
       "version_minor": 0
      },
      "text/plain": [
       "rsus_Amon_CNRM-CM6-1_piClim-control_r...:   0%|          |0.00/32.9M [?B/s]"
      ]
     },
     "metadata": {},
     "output_type": "display_data"
    },
    {
     "data": {
      "application/vnd.jupyter.widget-view+json": {
       "model_id": "c590fc4e479a4147b5402850b0d3c721",
       "version_major": 2,
       "version_minor": 0
      },
      "text/plain": [
       "rsut_Amon_CNRM-CM6-1_piClim-aer_r1i1p...:   0%|          |0.00/32.4M [?B/s]"
      ]
     },
     "metadata": {},
     "output_type": "display_data"
    },
    {
     "data": {
      "application/vnd.jupyter.widget-view+json": {
       "model_id": "61e53dea55b2460190c1315d2c2a86b7",
       "version_major": 2,
       "version_minor": 0
      },
      "text/plain": [
       "rsutcs_Amon_CNRM-CM6-1_piClim-aer_r1i...:   0%|          |0.00/29.3M [?B/s]"
      ]
     },
     "metadata": {},
     "output_type": "display_data"
    },
    {
     "data": {
      "application/vnd.jupyter.widget-view+json": {
       "model_id": "934ecd7f0f1b4e43bf41c83bc52c1ecc",
       "version_major": 2,
       "version_minor": 0
      },
      "text/plain": [
       "rsds_Amon_CNRM-CM6-1_piClim-control_r...:   0%|          |0.00/31.7M [?B/s]"
      ]
     },
     "metadata": {},
     "output_type": "display_data"
    },
    {
     "data": {
      "application/vnd.jupyter.widget-view+json": {
       "model_id": "c8053accbe904baa918755a7d0ed1704",
       "version_major": 2,
       "version_minor": 0
      },
      "text/plain": [
       "rsuscs_Amon_CNRM-CM6-1_piClim-control...:   0%|          |0.00/29.9M [?B/s]"
      ]
     },
     "metadata": {},
     "output_type": "display_data"
    },
    {
     "data": {
      "application/vnd.jupyter.widget-view+json": {
       "model_id": "19ddcad66fd34fb19dcf7e4df0878209",
       "version_major": 2,
       "version_minor": 0
      },
      "text/plain": [
       "rsdt_Amon_CNRM-CM6-1_piClim-aer_r1i1p...:   0%|          |0.00/20.5M [?B/s]"
      ]
     },
     "metadata": {},
     "output_type": "display_data"
    },
    {
     "data": {
      "application/vnd.jupyter.widget-view+json": {
       "model_id": "795df8bd973e419b875533d5e09d711e",
       "version_major": 2,
       "version_minor": 0
      },
      "text/plain": [
       "clt_Amon_CNRM-CM6-1_piClim-aer_r1i1p1...:   0%|          |0.00/33.3M [?B/s]"
      ]
     },
     "metadata": {},
     "output_type": "display_data"
    },
    {
     "data": {
      "application/vnd.jupyter.widget-view+json": {
       "model_id": "54abc0b4cf88478caafc441b4c0d1c61",
       "version_major": 2,
       "version_minor": 0
      },
      "text/plain": [
       "rsus_Amon_CNRM-CM6-1_piClim-aer_r1i1p...:   0%|          |0.00/32.9M [?B/s]"
      ]
     },
     "metadata": {},
     "output_type": "display_data"
    },
    {
     "data": {
      "application/vnd.jupyter.widget-view+json": {
       "model_id": "1dd8b4eb7760445a8ab65d11b4ceb6d9",
       "version_major": 2,
       "version_minor": 0
      },
      "text/plain": [
       "rsutcs_Amon_CNRM-CM6-1_piClim-control...:   0%|          |0.00/29.3M [?B/s]"
      ]
     },
     "metadata": {},
     "output_type": "display_data"
    },
    {
     "data": {
      "application/vnd.jupyter.widget-view+json": {
       "model_id": "2b3e4585bb294c1ebd782f19cc9a6e5f",
       "version_major": 2,
       "version_minor": 0
      },
      "text/plain": [
       "rsuscs_Amon_CNRM-CM6-1_piClim-aer_r1i...:   0%|          |0.00/30.0M [?B/s]"
      ]
     },
     "metadata": {},
     "output_type": "display_data"
    },
    {
     "data": {
      "application/vnd.jupyter.widget-view+json": {
       "model_id": "c7eade7f71974752bf4e3cea2e53adc8",
       "version_major": 2,
       "version_minor": 0
      },
      "text/plain": [
       "rsut_Amon_CNRM-CM6-1_piClim-control_r...:   0%|          |0.00/32.4M [?B/s]"
      ]
     },
     "metadata": {},
     "output_type": "display_data"
    },
    {
     "data": {
      "application/vnd.jupyter.widget-view+json": {
       "model_id": "a84960b9192344bca1364ff80783761c",
       "version_major": 2,
       "version_minor": 0
      },
      "text/plain": [
       "rsdscs_Amon_CNRM-CM6-1_piClim-aer_r1i...:   0%|          |0.00/26.5M [?B/s]"
      ]
     },
     "metadata": {},
     "output_type": "display_data"
    },
    {
     "data": {
      "application/vnd.jupyter.widget-view+json": {
       "model_id": "094b9fcdd8134d17ab97e86b73f2bd0c",
       "version_major": 2,
       "version_minor": 0
      },
      "text/plain": [
       "rsdscs_Amon_CNRM-CM6-1_piClim-control...:   0%|          |0.00/26.3M [?B/s]"
      ]
     },
     "metadata": {},
     "output_type": "display_data"
    },
    {
     "data": {
      "application/vnd.jupyter.widget-view+json": {
       "model_id": "2baa6b1e488d43f38f6a0c2cab56de1b",
       "version_major": 2,
       "version_minor": 0
      },
      "text/plain": [
       "rsdt_Amon_CNRM-CM6-1_piClim-control_r...:   0%|          |0.00/20.5M [?B/s]"
      ]
     },
     "metadata": {},
     "output_type": "display_data"
    },
    {
     "name": "stdout",
     "output_type": "stream",
     "text": [
      "\n",
      "Downloading IPSL-CM6A-LR-INCA.r1i1p1f1.gr ...\n",
      "\n"
     ]
    },
    {
     "data": {
      "application/vnd.jupyter.widget-view+json": {
       "model_id": "49eb5f2b941b49b39d575a7301e6ee7c",
       "version_major": 2,
       "version_minor": 0
      },
      "text/plain": [
       "   Searching indices:   0%|          |0/9 [       ?index/s]"
      ]
     },
     "metadata": {},
     "output_type": "display_data"
    },
    {
     "name": "stderr",
     "output_type": "stream",
     "text": [
      "/home/jovyan/my-conda-envs/cmip6-download/lib/python3.13/site-packages/intake_esgf/catalog.py:450: UserWarning: SolrESGFIndex('esgf-node.ipsl.upmc.fr') failed to return a response, info may be incomplete\n",
      "  warnings.warn(\n",
      "/home/jovyan/my-conda-envs/cmip6-download/lib/python3.13/site-packages/intake_esgf/catalog.py:450: UserWarning: SolrESGFIndex('esgf.ceda.ac.uk') failed to return a response, info may be incomplete\n",
      "  warnings.warn(\n",
      "/home/jovyan/my-conda-envs/cmip6-download/lib/python3.13/site-packages/intake_esgf/catalog.py:450: UserWarning: SolrESGFIndex('esgf-data.dkrz.de') failed to return a response, info may be incomplete\n",
      "  warnings.warn(\n",
      "/home/jovyan/my-conda-envs/cmip6-download/lib/python3.13/site-packages/intake_esgf/catalog.py:450: UserWarning: SolrESGFIndex('esg-dn1.nsc.liu.se') failed to return a response, info may be incomplete\n",
      "  warnings.warn(\n",
      "/home/jovyan/my-conda-envs/cmip6-download/lib/python3.13/site-packages/intake_esgf/catalog.py:450: UserWarning: SolrESGFIndex('esgf-node.ornl.gov') failed to return a response, info may be incomplete\n",
      "  warnings.warn(\n",
      "/home/jovyan/my-conda-envs/cmip6-download/lib/python3.13/site-packages/intake_esgf/catalog.py:450: UserWarning: SolrESGFIndex('esgf-node.llnl.gov') failed to return a response, info may be incomplete\n",
      "  warnings.warn(\n",
      "/home/jovyan/my-conda-envs/cmip6-download/lib/python3.13/site-packages/intake_esgf/catalog.py:450: UserWarning: SolrESGFIndex('esgf.nci.org.au') failed to return a response, info may be incomplete\n",
      "  warnings.warn(\n"
     ]
    },
    {
     "data": {
      "application/vnd.jupyter.widget-view+json": {
       "model_id": "84e6bb38b96d44bf88ab9aa44f8ca4b2",
       "version_major": 2,
       "version_minor": 0
      },
      "text/plain": [
       "rsuscs_Amon_IPSL-CM6A-LR-INCA_piClim-...:   0%|          |0.00/19.9M [?B/s]"
      ]
     },
     "metadata": {},
     "output_type": "display_data"
    },
    {
     "data": {
      "application/vnd.jupyter.widget-view+json": {
       "model_id": "c886cc1eedcf4cbfb13821c377178cad",
       "version_major": 2,
       "version_minor": 0
      },
      "text/plain": [
       "clt_Amon_IPSL-CM6A-LR-INCA_piClim-aer...:   0%|          |0.00/22.2M [?B/s]"
      ]
     },
     "metadata": {},
     "output_type": "display_data"
    },
    {
     "data": {
      "application/vnd.jupyter.widget-view+json": {
       "model_id": "71853b330b624ca490efdd43f2432662",
       "version_major": 2,
       "version_minor": 0
      },
      "text/plain": [
       "rsutcs_Amon_IPSL-CM6A-LR-INCA_piClim-...:   0%|          |0.00/19.4M [?B/s]"
      ]
     },
     "metadata": {},
     "output_type": "display_data"
    },
    {
     "data": {
      "application/vnd.jupyter.widget-view+json": {
       "model_id": "724fb091fe0f4a3698fc3351e68d9a4c",
       "version_major": 2,
       "version_minor": 0
      },
      "text/plain": [
       "rsdt_Amon_IPSL-CM6A-LR-INCA_piClim-co...:   0%|          |0.00/13.6M [?B/s]"
      ]
     },
     "metadata": {},
     "output_type": "display_data"
    },
    {
     "data": {
      "application/vnd.jupyter.widget-view+json": {
       "model_id": "697f6139a793414786e11f6e64788860",
       "version_major": 2,
       "version_minor": 0
      },
      "text/plain": [
       "rsds_Amon_IPSL-CM6A-LR-INCA_piClim-co...:   0%|          |0.00/20.8M [?B/s]"
      ]
     },
     "metadata": {},
     "output_type": "display_data"
    },
    {
     "data": {
      "application/vnd.jupyter.widget-view+json": {
       "model_id": "2ec39c2350ea40dea2566c223be122ae",
       "version_major": 2,
       "version_minor": 0
      },
      "text/plain": [
       "rsutcs_Amon_IPSL-CM6A-LR-INCA_piClim-...:   0%|          |0.00/19.3M [?B/s]"
      ]
     },
     "metadata": {},
     "output_type": "display_data"
    },
    {
     "data": {
      "application/vnd.jupyter.widget-view+json": {
       "model_id": "62a7fc6cef424da2a78141fa79ee5ed9",
       "version_major": 2,
       "version_minor": 0
      },
      "text/plain": [
       "rsdscs_Amon_IPSL-CM6A-LR-INCA_piClim-...:   0%|          |0.00/17.8M [?B/s]"
      ]
     },
     "metadata": {},
     "output_type": "display_data"
    },
    {
     "data": {
      "application/vnd.jupyter.widget-view+json": {
       "model_id": "243816f58b614045a706ec59d1b36120",
       "version_major": 2,
       "version_minor": 0
      },
      "text/plain": [
       "rsut_Amon_IPSL-CM6A-LR-INCA_piClim-ae...:   0%|          |0.00/20.9M [?B/s]"
      ]
     },
     "metadata": {},
     "output_type": "display_data"
    },
    {
     "data": {
      "application/vnd.jupyter.widget-view+json": {
       "model_id": "9f06c3f6daab46b29b16707083075537",
       "version_major": 2,
       "version_minor": 0
      },
      "text/plain": [
       "rsus_Amon_IPSL-CM6A-LR-INCA_piClim-co...:   0%|          |0.00/21.4M [?B/s]"
      ]
     },
     "metadata": {},
     "output_type": "display_data"
    },
    {
     "data": {
      "application/vnd.jupyter.widget-view+json": {
       "model_id": "3be97bbdff5346e58fc8e785ff648485",
       "version_major": 2,
       "version_minor": 0
      },
      "text/plain": [
       "rsut_Amon_IPSL-CM6A-LR-INCA_piClim-co...:   0%|          |0.00/20.9M [?B/s]"
      ]
     },
     "metadata": {},
     "output_type": "display_data"
    },
    {
     "data": {
      "application/vnd.jupyter.widget-view+json": {
       "model_id": "0946cddddb0d4003a146f267cea711e4",
       "version_major": 2,
       "version_minor": 0
      },
      "text/plain": [
       "rsus_Amon_IPSL-CM6A-LR-INCA_piClim-ae...:   0%|          |0.00/21.4M [?B/s]"
      ]
     },
     "metadata": {},
     "output_type": "display_data"
    },
    {
     "data": {
      "application/vnd.jupyter.widget-view+json": {
       "model_id": "bdddb245526145b28ac93326cd2bfd64",
       "version_major": 2,
       "version_minor": 0
      },
      "text/plain": [
       "clt_Amon_IPSL-CM6A-LR-INCA_piClim-con...:   0%|          |0.00/22.2M [?B/s]"
      ]
     },
     "metadata": {},
     "output_type": "display_data"
    },
    {
     "data": {
      "application/vnd.jupyter.widget-view+json": {
       "model_id": "467b307b5b7c42dc9866431c13d884b6",
       "version_major": 2,
       "version_minor": 0
      },
      "text/plain": [
       "rsdscs_Amon_IPSL-CM6A-LR-INCA_piClim-...:   0%|          |0.00/17.9M [?B/s]"
      ]
     },
     "metadata": {},
     "output_type": "display_data"
    },
    {
     "data": {
      "application/vnd.jupyter.widget-view+json": {
       "model_id": "8c16a9296e50449c88fd8f8fa8712a3c",
       "version_major": 2,
       "version_minor": 0
      },
      "text/plain": [
       "rsds_Amon_IPSL-CM6A-LR-INCA_piClim-ae...:   0%|          |0.00/20.8M [?B/s]"
      ]
     },
     "metadata": {},
     "output_type": "display_data"
    },
    {
     "data": {
      "application/vnd.jupyter.widget-view+json": {
       "model_id": "6fe96ffd4942420da65275f95db5fa12",
       "version_major": 2,
       "version_minor": 0
      },
      "text/plain": [
       "rsdt_Amon_IPSL-CM6A-LR-INCA_piClim-ae...:   0%|          |0.00/13.6M [?B/s]"
      ]
     },
     "metadata": {},
     "output_type": "display_data"
    },
    {
     "data": {
      "application/vnd.jupyter.widget-view+json": {
       "model_id": "23080a36daaa4d54ab49a1a1f842a356",
       "version_major": 2,
       "version_minor": 0
      },
      "text/plain": [
       "rsuscs_Amon_IPSL-CM6A-LR-INCA_piClim-...:   0%|          |0.00/19.9M [?B/s]"
      ]
     },
     "metadata": {},
     "output_type": "display_data"
    },
    {
     "name": "stdout",
     "output_type": "stream",
     "text": [
      "\n",
      "Downloading NorESM2-LM.r1i1p2f1.gn ...\n",
      "\n"
     ]
    },
    {
     "data": {
      "application/vnd.jupyter.widget-view+json": {
       "model_id": "2587de11ff6e40b18bcc1bcc434e8590",
       "version_major": 2,
       "version_minor": 0
      },
      "text/plain": [
       "   Searching indices:   0%|          |0/9 [       ?index/s]"
      ]
     },
     "metadata": {},
     "output_type": "display_data"
    },
    {
     "name": "stderr",
     "output_type": "stream",
     "text": [
      "/home/jovyan/my-conda-envs/cmip6-download/lib/python3.13/site-packages/intake_esgf/catalog.py:450: UserWarning: SolrESGFIndex('esg-dn1.nsc.liu.se') failed to return a response, info may be incomplete\n",
      "  warnings.warn(\n"
     ]
    },
    {
     "data": {
      "application/vnd.jupyter.widget-view+json": {
       "model_id": "b2bdb25d59ab435abf69265b7ddc141c",
       "version_major": 2,
       "version_minor": 0
      },
      "text/plain": [
       "rsds_Amon_NorESM2-LM_piClim-aer_r1i1p...:   0%|          |0.00/4.73M [?B/s]"
      ]
     },
     "metadata": {},
     "output_type": "display_data"
    },
    {
     "data": {
      "application/vnd.jupyter.widget-view+json": {
       "model_id": "3fb5d07345894476bc3aacd009d724a1",
       "version_major": 2,
       "version_minor": 0
      },
      "text/plain": [
       "rsds_Amon_NorESM2-LM_piClim-aer_r1i1p...:   0%|          |0.00/4.73M [?B/s]"
      ]
     },
     "metadata": {},
     "output_type": "display_data"
    },
    {
     "data": {
      "application/vnd.jupyter.widget-view+json": {
       "model_id": "b0dd9f60c008472699beb8883fce71c2",
       "version_major": 2,
       "version_minor": 0
      },
      "text/plain": [
       "clt_Amon_NorESM2-LM_piClim-aer_r1i1p2...:   0%|          |0.00/5.00M [?B/s]"
      ]
     },
     "metadata": {},
     "output_type": "display_data"
    },
    {
     "data": {
      "application/vnd.jupyter.widget-view+json": {
       "model_id": "81ab7044324e4f42884243d80ff8a5fa",
       "version_major": 2,
       "version_minor": 0
      },
      "text/plain": [
       "rsds_Amon_NorESM2-LM_piClim-aer_r1i1p...:   0%|          |0.00/4.73M [?B/s]"
      ]
     },
     "metadata": {},
     "output_type": "display_data"
    },
    {
     "data": {
      "application/vnd.jupyter.widget-view+json": {
       "model_id": "b74db652f9ad428fb8b641e95d647dfa",
       "version_major": 2,
       "version_minor": 0
      },
      "text/plain": [
       "clt_Amon_NorESM2-LM_piClim-aer_r1i1p2...:   0%|          |0.00/5.00M [?B/s]"
      ]
     },
     "metadata": {},
     "output_type": "display_data"
    },
    {
     "data": {
      "application/vnd.jupyter.widget-view+json": {
       "model_id": "c0ff67dd2ecd490fb15544b50b9955f9",
       "version_major": 2,
       "version_minor": 0
      },
      "text/plain": [
       "clt_Amon_NorESM2-LM_piClim-aer_r1i1p2...:   0%|          |0.00/5.00M [?B/s]"
      ]
     },
     "metadata": {},
     "output_type": "display_data"
    },
    {
     "data": {
      "application/vnd.jupyter.widget-view+json": {
       "model_id": "8e27fe7ed1f2428cb14ac6d87c203f1d",
       "version_major": 2,
       "version_minor": 0
      },
      "text/plain": [
       "rsdscs_Amon_NorESM2-LM_piClim-aer_r1i...:   0%|          |0.00/4.06M [?B/s]"
      ]
     },
     "metadata": {},
     "output_type": "display_data"
    },
    {
     "data": {
      "application/vnd.jupyter.widget-view+json": {
       "model_id": "c85e96af36534baeb7a8a7701005189f",
       "version_major": 2,
       "version_minor": 0
      },
      "text/plain": [
       "rsdscs_Amon_NorESM2-LM_piClim-aer_r1i...:   0%|          |0.00/4.06M [?B/s]"
      ]
     },
     "metadata": {},
     "output_type": "display_data"
    },
    {
     "data": {
      "application/vnd.jupyter.widget-view+json": {
       "model_id": "9d8f294e80c4418593680eedce70f8bf",
       "version_major": 2,
       "version_minor": 0
      },
      "text/plain": [
       "rsdscs_Amon_NorESM2-LM_piClim-aer_r1i...:   0%|          |0.00/4.06M [?B/s]"
      ]
     },
     "metadata": {},
     "output_type": "display_data"
    },
    {
     "data": {
      "application/vnd.jupyter.widget-view+json": {
       "model_id": "db6cb1ccd2844859945185192733c16d",
       "version_major": 2,
       "version_minor": 0
      },
      "text/plain": [
       "rsdt_Amon_NorESM2-LM_piClim-aer_r1i1p...:   0%|          |0.00/3.23M [?B/s]"
      ]
     },
     "metadata": {},
     "output_type": "display_data"
    },
    {
     "data": {
      "application/vnd.jupyter.widget-view+json": {
       "model_id": "6abbea24772849c68245443bc8a37eb2",
       "version_major": 2,
       "version_minor": 0
      },
      "text/plain": [
       "rsdt_Amon_NorESM2-LM_piClim-aer_r1i1p...:   0%|          |0.00/3.23M [?B/s]"
      ]
     },
     "metadata": {},
     "output_type": "display_data"
    },
    {
     "data": {
      "application/vnd.jupyter.widget-view+json": {
       "model_id": "97f1785da88c46e68a994429ca8b8254",
       "version_major": 2,
       "version_minor": 0
      },
      "text/plain": [
       "rsdt_Amon_NorESM2-LM_piClim-aer_r1i1p...:   0%|          |0.00/3.23M [?B/s]"
      ]
     },
     "metadata": {},
     "output_type": "display_data"
    },
    {
     "data": {
      "application/vnd.jupyter.widget-view+json": {
       "model_id": "24b706765fc047f09d6d3dd2dc0c5a78",
       "version_major": 2,
       "version_minor": 0
      },
      "text/plain": [
       "rsus_Amon_NorESM2-LM_piClim-aer_r1i1p...:   0%|          |0.00/4.59M [?B/s]"
      ]
     },
     "metadata": {},
     "output_type": "display_data"
    },
    {
     "data": {
      "application/vnd.jupyter.widget-view+json": {
       "model_id": "22d1b093a2c54b2cbc2d35de4f7159b5",
       "version_major": 2,
       "version_minor": 0
      },
      "text/plain": [
       "rsus_Amon_NorESM2-LM_piClim-aer_r1i1p...:   0%|          |0.00/4.59M [?B/s]"
      ]
     },
     "metadata": {},
     "output_type": "display_data"
    },
    {
     "data": {
      "application/vnd.jupyter.widget-view+json": {
       "model_id": "4391b5ba30ff48dd82b1cac075a17709",
       "version_major": 2,
       "version_minor": 0
      },
      "text/plain": [
       "rsus_Amon_NorESM2-LM_piClim-aer_r1i1p...:   0%|          |0.00/4.59M [?B/s]"
      ]
     },
     "metadata": {},
     "output_type": "display_data"
    },
    {
     "data": {
      "application/vnd.jupyter.widget-view+json": {
       "model_id": "d6b24e3dde1042d9946ec8b6877149cd",
       "version_major": 2,
       "version_minor": 0
      },
      "text/plain": [
       "rsuscs_Amon_NorESM2-LM_piClim-aer_r1i...:   0%|          |0.00/4.26M [?B/s]"
      ]
     },
     "metadata": {},
     "output_type": "display_data"
    },
    {
     "data": {
      "application/vnd.jupyter.widget-view+json": {
       "model_id": "39c9f4bd94834b0089112165adec7597",
       "version_major": 2,
       "version_minor": 0
      },
      "text/plain": [
       "rsuscs_Amon_NorESM2-LM_piClim-aer_r1i...:   0%|          |0.00/4.26M [?B/s]"
      ]
     },
     "metadata": {},
     "output_type": "display_data"
    },
    {
     "data": {
      "application/vnd.jupyter.widget-view+json": {
       "model_id": "94e589f2c0bd4885a37346a4e5e2a30c",
       "version_major": 2,
       "version_minor": 0
      },
      "text/plain": [
       "rsuscs_Amon_NorESM2-LM_piClim-aer_r1i...:   0%|          |0.00/4.26M [?B/s]"
      ]
     },
     "metadata": {},
     "output_type": "display_data"
    },
    {
     "data": {
      "application/vnd.jupyter.widget-view+json": {
       "model_id": "d8df133cd4704f188a7bbadbe4cceba9",
       "version_major": 2,
       "version_minor": 0
      },
      "text/plain": [
       "rsut_Amon_NorESM2-LM_piClim-aer_r1i1p...:   0%|          |0.00/4.72M [?B/s]"
      ]
     },
     "metadata": {},
     "output_type": "display_data"
    },
    {
     "data": {
      "application/vnd.jupyter.widget-view+json": {
       "model_id": "6fab9adf67b8440e8226dc38b450750c",
       "version_major": 2,
       "version_minor": 0
      },
      "text/plain": [
       "rsut_Amon_NorESM2-LM_piClim-aer_r1i1p...:   0%|          |0.00/4.72M [?B/s]"
      ]
     },
     "metadata": {},
     "output_type": "display_data"
    },
    {
     "data": {
      "application/vnd.jupyter.widget-view+json": {
       "model_id": "6f746752f5ab4fa5ad7a2509c1b4d6b7",
       "version_major": 2,
       "version_minor": 0
      },
      "text/plain": [
       "rsut_Amon_NorESM2-LM_piClim-aer_r1i1p...:   0%|          |0.00/4.72M [?B/s]"
      ]
     },
     "metadata": {},
     "output_type": "display_data"
    },
    {
     "data": {
      "application/vnd.jupyter.widget-view+json": {
       "model_id": "0a9342742b374c7d96991edfb7d74727",
       "version_major": 2,
       "version_minor": 0
      },
      "text/plain": [
       "rsutcs_Amon_NorESM2-LM_piClim-aer_r1i...:   0%|          |0.00/4.32M [?B/s]"
      ]
     },
     "metadata": {},
     "output_type": "display_data"
    },
    {
     "data": {
      "application/vnd.jupyter.widget-view+json": {
       "model_id": "186e7d11770d43b1a921f67dff64bc99",
       "version_major": 2,
       "version_minor": 0
      },
      "text/plain": [
       "clt_Amon_NorESM2-LM_piClim-control_r1...:   0%|          |0.00/5.00M [?B/s]"
      ]
     },
     "metadata": {},
     "output_type": "display_data"
    },
    {
     "data": {
      "application/vnd.jupyter.widget-view+json": {
       "model_id": "068fb2b8b09f46a88c7a5ffef6cb478a",
       "version_major": 2,
       "version_minor": 0
      },
      "text/plain": [
       "rsutcs_Amon_NorESM2-LM_piClim-aer_r1i...:   0%|          |0.00/4.32M [?B/s]"
      ]
     },
     "metadata": {},
     "output_type": "display_data"
    },
    {
     "data": {
      "application/vnd.jupyter.widget-view+json": {
       "model_id": "f596c63439b04bf9ab303a5bcf23a7d7",
       "version_major": 2,
       "version_minor": 0
      },
      "text/plain": [
       "rsut_Amon_NorESM2-LM_piClim-control_r...:   0%|          |0.00/4.72M [?B/s]"
      ]
     },
     "metadata": {},
     "output_type": "display_data"
    },
    {
     "data": {
      "application/vnd.jupyter.widget-view+json": {
       "model_id": "f5899d3fcb854401b7243f70a7d3620b",
       "version_major": 2,
       "version_minor": 0
      },
      "text/plain": [
       "rsutcs_Amon_NorESM2-LM_piClim-control...:   0%|          |0.00/4.32M [?B/s]"
      ]
     },
     "metadata": {},
     "output_type": "display_data"
    },
    {
     "data": {
      "application/vnd.jupyter.widget-view+json": {
       "model_id": "b487611b45bf47d399c1563e3e0fb969",
       "version_major": 2,
       "version_minor": 0
      },
      "text/plain": [
       "rsutcs_Amon_NorESM2-LM_piClim-control...:   0%|          |0.00/4.32M [?B/s]"
      ]
     },
     "metadata": {},
     "output_type": "display_data"
    },
    {
     "data": {
      "application/vnd.jupyter.widget-view+json": {
       "model_id": "4f852d049b364758ad10b0285b880d1b",
       "version_major": 2,
       "version_minor": 0
      },
      "text/plain": [
       "rsutcs_Amon_NorESM2-LM_piClim-aer_r1i...:   0%|          |0.00/4.32M [?B/s]"
      ]
     },
     "metadata": {},
     "output_type": "display_data"
    },
    {
     "data": {
      "application/vnd.jupyter.widget-view+json": {
       "model_id": "bb1c7b35f4bf44ef870dbb0ba13b0b74",
       "version_major": 2,
       "version_minor": 0
      },
      "text/plain": [
       "rsds_Amon_NorESM2-LM_piClim-control_r...:   0%|          |0.00/4.72M [?B/s]"
      ]
     },
     "metadata": {},
     "output_type": "display_data"
    },
    {
     "data": {
      "application/vnd.jupyter.widget-view+json": {
       "model_id": "df5bb05b038848aa9940e17b708de50a",
       "version_major": 2,
       "version_minor": 0
      },
      "text/plain": [
       "rsds_Amon_NorESM2-LM_piClim-control_r...:   0%|          |0.00/4.72M [?B/s]"
      ]
     },
     "metadata": {},
     "output_type": "display_data"
    },
    {
     "data": {
      "application/vnd.jupyter.widget-view+json": {
       "model_id": "f96a9c8ce49f4f14a1763a3a8666a5f9",
       "version_major": 2,
       "version_minor": 0
      },
      "text/plain": [
       "rsds_Amon_NorESM2-LM_piClim-control_r...:   0%|          |0.00/4.72M [?B/s]"
      ]
     },
     "metadata": {},
     "output_type": "display_data"
    },
    {
     "data": {
      "application/vnd.jupyter.widget-view+json": {
       "model_id": "ca88f964ce5f49e488d6c3c6c3e90455",
       "version_major": 2,
       "version_minor": 0
      },
      "text/plain": [
       "clt_Amon_NorESM2-LM_piClim-control_r1...:   0%|          |0.00/5.01M [?B/s]"
      ]
     },
     "metadata": {},
     "output_type": "display_data"
    },
    {
     "data": {
      "application/vnd.jupyter.widget-view+json": {
       "model_id": "c68e6930ff244cdd95c4d2d6159c7fca",
       "version_major": 2,
       "version_minor": 0
      },
      "text/plain": [
       "rsdt_Amon_NorESM2-LM_piClim-control_r...:   0%|          |0.00/3.23M [?B/s]"
      ]
     },
     "metadata": {},
     "output_type": "display_data"
    },
    {
     "data": {
      "application/vnd.jupyter.widget-view+json": {
       "model_id": "44bd52032b9d48feaa93171176a8ee05",
       "version_major": 2,
       "version_minor": 0
      },
      "text/plain": [
       "rsdt_Amon_NorESM2-LM_piClim-control_r...:   0%|          |0.00/3.23M [?B/s]"
      ]
     },
     "metadata": {},
     "output_type": "display_data"
    },
    {
     "data": {
      "application/vnd.jupyter.widget-view+json": {
       "model_id": "ef0963fe512d4b528656c21e92fd5db9",
       "version_major": 2,
       "version_minor": 0
      },
      "text/plain": [
       "rsus_Amon_NorESM2-LM_piClim-control_r...:   0%|          |0.00/4.58M [?B/s]"
      ]
     },
     "metadata": {},
     "output_type": "display_data"
    },
    {
     "data": {
      "application/vnd.jupyter.widget-view+json": {
       "model_id": "5d775356f5f942f2899c3f1f11ba8cf6",
       "version_major": 2,
       "version_minor": 0
      },
      "text/plain": [
       "rsus_Amon_NorESM2-LM_piClim-control_r...:   0%|          |0.00/4.58M [?B/s]"
      ]
     },
     "metadata": {},
     "output_type": "display_data"
    },
    {
     "data": {
      "application/vnd.jupyter.widget-view+json": {
       "model_id": "6236416f8b1b426da3433cc12e9c4553",
       "version_major": 2,
       "version_minor": 0
      },
      "text/plain": [
       "rsus_Amon_NorESM2-LM_piClim-control_r...:   0%|          |0.00/4.59M [?B/s]"
      ]
     },
     "metadata": {},
     "output_type": "display_data"
    },
    {
     "data": {
      "application/vnd.jupyter.widget-view+json": {
       "model_id": "d22daf098cfc44d581b9282fa366bf4e",
       "version_major": 2,
       "version_minor": 0
      },
      "text/plain": [
       "rsutcs_Amon_NorESM2-LM_piClim-control...:   0%|          |0.00/4.31M [?B/s]"
      ]
     },
     "metadata": {},
     "output_type": "display_data"
    },
    {
     "data": {
      "application/vnd.jupyter.widget-view+json": {
       "model_id": "d343ea3d60524b2e97f1ab0a293bfdb5",
       "version_major": 2,
       "version_minor": 0
      },
      "text/plain": [
       "rsutcs_Amon_NorESM2-LM_piClim-control...:   0%|          |0.00/4.32M [?B/s]"
      ]
     },
     "metadata": {},
     "output_type": "display_data"
    },
    {
     "data": {
      "application/vnd.jupyter.widget-view+json": {
       "model_id": "4f49db3489204dac94a906bf28acca6e",
       "version_major": 2,
       "version_minor": 0
      },
      "text/plain": [
       "clt_Amon_NorESM2-LM_piClim-control_r1...:   0%|          |0.00/5.00M [?B/s]"
      ]
     },
     "metadata": {},
     "output_type": "display_data"
    },
    {
     "data": {
      "application/vnd.jupyter.widget-view+json": {
       "model_id": "40b1abf1047545b1afb83f526fa669b5",
       "version_major": 2,
       "version_minor": 0
      },
      "text/plain": [
       "rsutcs_Amon_NorESM2-LM_piClim-control...:   0%|          |0.00/4.32M [?B/s]"
      ]
     },
     "metadata": {},
     "output_type": "display_data"
    },
    {
     "data": {
      "application/vnd.jupyter.widget-view+json": {
       "model_id": "f7e6a7ba62aa462db141c8748c222110",
       "version_major": 2,
       "version_minor": 0
      },
      "text/plain": [
       "rsdscs_Amon_NorESM2-LM_piClim-control...:   0%|          |0.00/4.05M [?B/s]"
      ]
     },
     "metadata": {},
     "output_type": "display_data"
    },
    {
     "data": {
      "application/vnd.jupyter.widget-view+json": {
       "model_id": "b81fc38af5ab4142a1746959d4f7b773",
       "version_major": 2,
       "version_minor": 0
      },
      "text/plain": [
       "rsds_Amon_NorESM2-LM_piClim-control_r...:   0%|          |0.00/4.72M [?B/s]"
      ]
     },
     "metadata": {},
     "output_type": "display_data"
    },
    {
     "data": {
      "application/vnd.jupyter.widget-view+json": {
       "model_id": "02906cc61c5b4fdea29fde21e1278b33",
       "version_major": 2,
       "version_minor": 0
      },
      "text/plain": [
       "rsds_Amon_NorESM2-LM_piClim-control_r...:   0%|          |0.00/4.72M [?B/s]"
      ]
     },
     "metadata": {},
     "output_type": "display_data"
    },
    {
     "data": {
      "application/vnd.jupyter.widget-view+json": {
       "model_id": "bbeaa33c12874c6abc48477ff4033750",
       "version_major": 2,
       "version_minor": 0
      },
      "text/plain": [
       "rsdscs_Amon_NorESM2-LM_piClim-control...:   0%|          |0.00/4.05M [?B/s]"
      ]
     },
     "metadata": {},
     "output_type": "display_data"
    },
    {
     "data": {
      "application/vnd.jupyter.widget-view+json": {
       "model_id": "00e8329d889d4ff098f96d3aefbfb41e",
       "version_major": 2,
       "version_minor": 0
      },
      "text/plain": [
       "rsuscs_Amon_NorESM2-LM_piClim-control...:   0%|          |0.00/4.26M [?B/s]"
      ]
     },
     "metadata": {},
     "output_type": "display_data"
    },
    {
     "data": {
      "application/vnd.jupyter.widget-view+json": {
       "model_id": "1f701b678307476b9944bfa48f8bdeff",
       "version_major": 2,
       "version_minor": 0
      },
      "text/plain": [
       "rsut_Amon_NorESM2-LM_piClim-control_r...:   0%|          |0.00/4.72M [?B/s]"
      ]
     },
     "metadata": {},
     "output_type": "display_data"
    },
    {
     "data": {
      "application/vnd.jupyter.widget-view+json": {
       "model_id": "81b4564e1eb34332bf4d7e05c203f4ef",
       "version_major": 2,
       "version_minor": 0
      },
      "text/plain": [
       "rsut_Amon_NorESM2-LM_piClim-control_r...:   0%|          |0.00/4.72M [?B/s]"
      ]
     },
     "metadata": {},
     "output_type": "display_data"
    },
    {
     "data": {
      "application/vnd.jupyter.widget-view+json": {
       "model_id": "bbe1fb19233b470a9f3ebcaaa47d0e30",
       "version_major": 2,
       "version_minor": 0
      },
      "text/plain": [
       "rsut_Amon_NorESM2-LM_piClim-control_r...:   0%|          |0.00/4.72M [?B/s]"
      ]
     },
     "metadata": {},
     "output_type": "display_data"
    },
    {
     "data": {
      "application/vnd.jupyter.widget-view+json": {
       "model_id": "1adc5c1bb85a4f1dba6c2bb225e11b43",
       "version_major": 2,
       "version_minor": 0
      },
      "text/plain": [
       "rsdscs_Amon_NorESM2-LM_piClim-control...:   0%|          |0.00/4.05M [?B/s]"
      ]
     },
     "metadata": {},
     "output_type": "display_data"
    },
    {
     "data": {
      "application/vnd.jupyter.widget-view+json": {
       "model_id": "efc58a3bba544dc58c694760535c5e8d",
       "version_major": 2,
       "version_minor": 0
      },
      "text/plain": [
       "rsdt_Amon_NorESM2-LM_piClim-control_r...:   0%|          |0.00/3.23M [?B/s]"
      ]
     },
     "metadata": {},
     "output_type": "display_data"
    },
    {
     "data": {
      "application/vnd.jupyter.widget-view+json": {
       "model_id": "edb52fb02e7044d897ca876cd2bc9234",
       "version_major": 2,
       "version_minor": 0
      },
      "text/plain": [
       "rsdt_Amon_NorESM2-LM_piClim-control_r...:   0%|          |0.00/3.23M [?B/s]"
      ]
     },
     "metadata": {},
     "output_type": "display_data"
    },
    {
     "data": {
      "application/vnd.jupyter.widget-view+json": {
       "model_id": "617d85f3cc3647d98da0d75399e09933",
       "version_major": 2,
       "version_minor": 0
      },
      "text/plain": [
       "rsuscs_Amon_NorESM2-LM_piClim-control...:   0%|          |0.00/4.26M [?B/s]"
      ]
     },
     "metadata": {},
     "output_type": "display_data"
    },
    {
     "data": {
      "application/vnd.jupyter.widget-view+json": {
       "model_id": "07f7d0036b6c4f578a818710b51e4da5",
       "version_major": 2,
       "version_minor": 0
      },
      "text/plain": [
       "rsut_Amon_NorESM2-LM_piClim-control_r...:   0%|          |0.00/4.72M [?B/s]"
      ]
     },
     "metadata": {},
     "output_type": "display_data"
    },
    {
     "data": {
      "application/vnd.jupyter.widget-view+json": {
       "model_id": "9bc68969a50d4918bf9c60d09c17f829",
       "version_major": 2,
       "version_minor": 0
      },
      "text/plain": [
       "clt_Amon_NorESM2-LM_piClim-control_r1...:   0%|          |0.00/5.00M [?B/s]"
      ]
     },
     "metadata": {},
     "output_type": "display_data"
    },
    {
     "data": {
      "application/vnd.jupyter.widget-view+json": {
       "model_id": "603973d0dd904b91a8bf74094af880d5",
       "version_major": 2,
       "version_minor": 0
      },
      "text/plain": [
       "rsds_Amon_NorESM2-LM_piClim-control_r...:   0%|          |0.00/4.72M [?B/s]"
      ]
     },
     "metadata": {},
     "output_type": "display_data"
    },
    {
     "data": {
      "application/vnd.jupyter.widget-view+json": {
       "model_id": "fbb0791b6aa24c5993eb0fd48e6a5e8f",
       "version_major": 2,
       "version_minor": 0
      },
      "text/plain": [
       "rsds_Amon_NorESM2-LM_piClim-control_r...:   0%|          |0.00/4.72M [?B/s]"
      ]
     },
     "metadata": {},
     "output_type": "display_data"
    },
    {
     "data": {
      "application/vnd.jupyter.widget-view+json": {
       "model_id": "1884e87ef1544195a8bebe1265c66b50",
       "version_major": 2,
       "version_minor": 0
      },
      "text/plain": [
       "rsds_Amon_NorESM2-LM_piClim-control_r...:   0%|          |0.00/4.72M [?B/s]"
      ]
     },
     "metadata": {},
     "output_type": "display_data"
    },
    {
     "data": {
      "application/vnd.jupyter.widget-view+json": {
       "model_id": "2489be44b0de4fe0ae5630fe32d55c1b",
       "version_major": 2,
       "version_minor": 0
      },
      "text/plain": [
       "rsus_Amon_NorESM2-LM_piClim-control_r...:   0%|          |0.00/4.58M [?B/s]"
      ]
     },
     "metadata": {},
     "output_type": "display_data"
    },
    {
     "data": {
      "application/vnd.jupyter.widget-view+json": {
       "model_id": "8d1ef383b9624370941ad846407f6087",
       "version_major": 2,
       "version_minor": 0
      },
      "text/plain": [
       "rsuscs_Amon_NorESM2-LM_piClim-control...:   0%|          |0.00/4.26M [?B/s]"
      ]
     },
     "metadata": {},
     "output_type": "display_data"
    },
    {
     "data": {
      "application/vnd.jupyter.widget-view+json": {
       "model_id": "3c335804521540a6a5e9ceabbb08faf7",
       "version_major": 2,
       "version_minor": 0
      },
      "text/plain": [
       "rsuscs_Amon_NorESM2-LM_piClim-control...:   0%|          |0.00/4.26M [?B/s]"
      ]
     },
     "metadata": {},
     "output_type": "display_data"
    },
    {
     "data": {
      "application/vnd.jupyter.widget-view+json": {
       "model_id": "c7a9677b66cc4f62b6e2b92fb1ea82cc",
       "version_major": 2,
       "version_minor": 0
      },
      "text/plain": [
       "rsuscs_Amon_NorESM2-LM_piClim-control...:   0%|          |0.00/4.26M [?B/s]"
      ]
     },
     "metadata": {},
     "output_type": "display_data"
    },
    {
     "data": {
      "application/vnd.jupyter.widget-view+json": {
       "model_id": "53e0e99ad6ac44bdb47b0e926d4c83a8",
       "version_major": 2,
       "version_minor": 0
      },
      "text/plain": [
       "rsutcs_Amon_NorESM2-LM_piClim-control...:   0%|          |0.00/4.31M [?B/s]"
      ]
     },
     "metadata": {},
     "output_type": "display_data"
    },
    {
     "data": {
      "application/vnd.jupyter.widget-view+json": {
       "model_id": "df508c50045e4adab37539937afc48de",
       "version_major": 2,
       "version_minor": 0
      },
      "text/plain": [
       "rsutcs_Amon_NorESM2-LM_piClim-control...:   0%|          |0.00/4.32M [?B/s]"
      ]
     },
     "metadata": {},
     "output_type": "display_data"
    },
    {
     "data": {
      "application/vnd.jupyter.widget-view+json": {
       "model_id": "44432ca6484940948a3ca250aa79d37b",
       "version_major": 2,
       "version_minor": 0
      },
      "text/plain": [
       "rsdscs_Amon_NorESM2-LM_piClim-control...:   0%|          |0.00/4.05M [?B/s]"
      ]
     },
     "metadata": {},
     "output_type": "display_data"
    },
    {
     "data": {
      "application/vnd.jupyter.widget-view+json": {
       "model_id": "fc7cb817843f437d848c7e8d9685059b",
       "version_major": 2,
       "version_minor": 0
      },
      "text/plain": [
       "rsdt_Amon_NorESM2-LM_piClim-control_r...:   0%|          |0.00/3.23M [?B/s]"
      ]
     },
     "metadata": {},
     "output_type": "display_data"
    },
    {
     "data": {
      "application/vnd.jupyter.widget-view+json": {
       "model_id": "c6017930c57346debf40a50c456b5ef8",
       "version_major": 2,
       "version_minor": 0
      },
      "text/plain": [
       "rsdt_Amon_NorESM2-LM_piClim-control_r...:   0%|          |0.00/3.23M [?B/s]"
      ]
     },
     "metadata": {},
     "output_type": "display_data"
    },
    {
     "data": {
      "application/vnd.jupyter.widget-view+json": {
       "model_id": "300aa8eb816f4b21a4eb84694241cc6c",
       "version_major": 2,
       "version_minor": 0
      },
      "text/plain": [
       "rsus_Amon_NorESM2-LM_piClim-control_r...:   0%|          |0.00/4.58M [?B/s]"
      ]
     },
     "metadata": {},
     "output_type": "display_data"
    },
    {
     "data": {
      "application/vnd.jupyter.widget-view+json": {
       "model_id": "3ea1a9135c5341e5907f09e0ad1a014f",
       "version_major": 2,
       "version_minor": 0
      },
      "text/plain": [
       "rsus_Amon_NorESM2-LM_piClim-control_r...:   0%|          |0.00/4.58M [?B/s]"
      ]
     },
     "metadata": {},
     "output_type": "display_data"
    },
    {
     "data": {
      "application/vnd.jupyter.widget-view+json": {
       "model_id": "74619ff9f14b4046809dca9be0783974",
       "version_major": 2,
       "version_minor": 0
      },
      "text/plain": [
       "rsus_Amon_NorESM2-LM_piClim-control_r...:   0%|          |0.00/4.59M [?B/s]"
      ]
     },
     "metadata": {},
     "output_type": "display_data"
    },
    {
     "data": {
      "application/vnd.jupyter.widget-view+json": {
       "model_id": "3aaf1e9e8bb84dd3b5fc4b23cabaac60",
       "version_major": 2,
       "version_minor": 0
      },
      "text/plain": [
       "rsuscs_Amon_NorESM2-LM_piClim-control...:   0%|          |0.00/4.26M [?B/s]"
      ]
     },
     "metadata": {},
     "output_type": "display_data"
    },
    {
     "data": {
      "application/vnd.jupyter.widget-view+json": {
       "model_id": "432e535a329144588940e550b4487544",
       "version_major": 2,
       "version_minor": 0
      },
      "text/plain": [
       "rsuscs_Amon_NorESM2-LM_piClim-control...:   0%|          |0.00/4.26M [?B/s]"
      ]
     },
     "metadata": {},
     "output_type": "display_data"
    },
    {
     "data": {
      "application/vnd.jupyter.widget-view+json": {
       "model_id": "5fba3fae4f6c40cb84e0b79b2b1882c1",
       "version_major": 2,
       "version_minor": 0
      },
      "text/plain": [
       "clt_Amon_NorESM2-LM_piClim-control_r1...:   0%|          |0.00/5.01M [?B/s]"
      ]
     },
     "metadata": {},
     "output_type": "display_data"
    },
    {
     "data": {
      "application/vnd.jupyter.widget-view+json": {
       "model_id": "1f3c1457b2144b44b0014846e3541afc",
       "version_major": 2,
       "version_minor": 0
      },
      "text/plain": [
       "clt_Amon_NorESM2-LM_piClim-control_r1...:   0%|          |0.00/5.00M [?B/s]"
      ]
     },
     "metadata": {},
     "output_type": "display_data"
    },
    {
     "data": {
      "application/vnd.jupyter.widget-view+json": {
       "model_id": "00a35380eb7446899c9e4142f975e2e3",
       "version_major": 2,
       "version_minor": 0
      },
      "text/plain": [
       "rsut_Amon_NorESM2-LM_piClim-control_r...:   0%|          |0.00/4.72M [?B/s]"
      ]
     },
     "metadata": {},
     "output_type": "display_data"
    },
    {
     "data": {
      "application/vnd.jupyter.widget-view+json": {
       "model_id": "854fdcfa188840ce901c16aff76a51ee",
       "version_major": 2,
       "version_minor": 0
      },
      "text/plain": [
       "rsdscs_Amon_NorESM2-LM_piClim-control...:   0%|          |0.00/4.05M [?B/s]"
      ]
     },
     "metadata": {},
     "output_type": "display_data"
    },
    {
     "data": {
      "application/vnd.jupyter.widget-view+json": {
       "model_id": "2702e9feceb94ba49e3806c6e65d5dbb",
       "version_major": 2,
       "version_minor": 0
      },
      "text/plain": [
       "rsdscs_Amon_NorESM2-LM_piClim-control...:   0%|          |0.00/4.05M [?B/s]"
      ]
     },
     "metadata": {},
     "output_type": "display_data"
    },
    {
     "data": {
      "application/vnd.jupyter.widget-view+json": {
       "model_id": "ba55c8e9420f4fe28fd54fa27db815f5",
       "version_major": 2,
       "version_minor": 0
      },
      "text/plain": [
       "rsdscs_Amon_NorESM2-LM_piClim-control...:   0%|          |0.00/4.05M [?B/s]"
      ]
     },
     "metadata": {},
     "output_type": "display_data"
    },
    {
     "data": {
      "application/vnd.jupyter.widget-view+json": {
       "model_id": "b85232a551b84a6a9928f969f3e2dff8",
       "version_major": 2,
       "version_minor": 0
      },
      "text/plain": [
       "rsdt_Amon_NorESM2-LM_piClim-control_r...:   0%|          |0.00/3.23M [?B/s]"
      ]
     },
     "metadata": {},
     "output_type": "display_data"
    },
    {
     "data": {
      "application/vnd.jupyter.widget-view+json": {
       "model_id": "79a702216ae848b9bf566c3df4898150",
       "version_major": 2,
       "version_minor": 0
      },
      "text/plain": [
       "rsdt_Amon_NorESM2-LM_piClim-control_r...:   0%|          |0.00/3.23M [?B/s]"
      ]
     },
     "metadata": {},
     "output_type": "display_data"
    },
    {
     "data": {
      "application/vnd.jupyter.widget-view+json": {
       "model_id": "d438108d1bee4861bb3f1063605b4300",
       "version_major": 2,
       "version_minor": 0
      },
      "text/plain": [
       "rsdt_Amon_NorESM2-LM_piClim-control_r...:   0%|          |0.00/3.23M [?B/s]"
      ]
     },
     "metadata": {},
     "output_type": "display_data"
    },
    {
     "data": {
      "application/vnd.jupyter.widget-view+json": {
       "model_id": "31f88e731f4f41fab08756df31b79e72",
       "version_major": 2,
       "version_minor": 0
      },
      "text/plain": [
       "rsutcs_Amon_NorESM2-LM_piClim-control...:   0%|          |0.00/4.31M [?B/s]"
      ]
     },
     "metadata": {},
     "output_type": "display_data"
    },
    {
     "data": {
      "application/vnd.jupyter.widget-view+json": {
       "model_id": "c69dc70f27014847bc14f68636b1d43a",
       "version_major": 2,
       "version_minor": 0
      },
      "text/plain": [
       "clt_Amon_NorESM2-LM_piClim-control_r1...:   0%|          |0.00/5.00M [?B/s]"
      ]
     },
     "metadata": {},
     "output_type": "display_data"
    },
    {
     "data": {
      "application/vnd.jupyter.widget-view+json": {
       "model_id": "8a896bfc013e4ddb827e057957eca63a",
       "version_major": 2,
       "version_minor": 0
      },
      "text/plain": [
       "rsds_Amon_NorESM2-LM_piClim-control_r...:   0%|          |0.00/4.72M [?B/s]"
      ]
     },
     "metadata": {},
     "output_type": "display_data"
    },
    {
     "data": {
      "application/vnd.jupyter.widget-view+json": {
       "model_id": "d674599dd9e24c1e879c9714d156d7bb",
       "version_major": 2,
       "version_minor": 0
      },
      "text/plain": [
       "rsus_Amon_NorESM2-LM_piClim-control_r...:   0%|          |0.00/4.59M [?B/s]"
      ]
     },
     "metadata": {},
     "output_type": "display_data"
    },
    {
     "data": {
      "application/vnd.jupyter.widget-view+json": {
       "model_id": "c0bfac87ee934f939f7757118bc0ac56",
       "version_major": 2,
       "version_minor": 0
      },
      "text/plain": [
       "rsdscs_Amon_NorESM2-LM_piClim-control...:   0%|          |0.00/4.05M [?B/s]"
      ]
     },
     "metadata": {},
     "output_type": "display_data"
    },
    {
     "data": {
      "application/vnd.jupyter.widget-view+json": {
       "model_id": "bee49f0f764441b395067d1f3ff81165",
       "version_major": 2,
       "version_minor": 0
      },
      "text/plain": [
       "rsus_Amon_NorESM2-LM_piClim-control_r...:   0%|          |0.00/4.58M [?B/s]"
      ]
     },
     "metadata": {},
     "output_type": "display_data"
    },
    {
     "data": {
      "application/vnd.jupyter.widget-view+json": {
       "model_id": "a9f8bf39f2dd4d2898e42d1443b426a1",
       "version_major": 2,
       "version_minor": 0
      },
      "text/plain": [
       "rsuscs_Amon_NorESM2-LM_piClim-control...:   0%|          |0.00/4.26M [?B/s]"
      ]
     },
     "metadata": {},
     "output_type": "display_data"
    },
    {
     "data": {
      "application/vnd.jupyter.widget-view+json": {
       "model_id": "3da1729a22c343818c53629b92aa91e3",
       "version_major": 2,
       "version_minor": 0
      },
      "text/plain": [
       "rsut_Amon_NorESM2-LM_piClim-control_r...:   0%|          |0.00/4.72M [?B/s]"
      ]
     },
     "metadata": {},
     "output_type": "display_data"
    },
    {
     "data": {
      "application/vnd.jupyter.widget-view+json": {
       "model_id": "deacf1b7c8864071bfa8691dee2b93c8",
       "version_major": 2,
       "version_minor": 0
      },
      "text/plain": [
       "clt_Amon_NorESM2-LM_piClim-control_r1...:   0%|          |0.00/5.00M [?B/s]"
      ]
     },
     "metadata": {},
     "output_type": "display_data"
    },
    {
     "data": {
      "application/vnd.jupyter.widget-view+json": {
       "model_id": "b4d190b9f4fa4497893bcac1401f02ac",
       "version_major": 2,
       "version_minor": 0
      },
      "text/plain": [
       "clt_Amon_NorESM2-LM_piClim-control_r1...:   0%|          |0.00/5.00M [?B/s]"
      ]
     },
     "metadata": {},
     "output_type": "display_data"
    },
    {
     "data": {
      "application/vnd.jupyter.widget-view+json": {
       "model_id": "cb015480ab8e451493fe2dd84e0c8800",
       "version_major": 2,
       "version_minor": 0
      },
      "text/plain": [
       "rsdscs_Amon_NorESM2-LM_piClim-control...:   0%|          |0.00/4.05M [?B/s]"
      ]
     },
     "metadata": {},
     "output_type": "display_data"
    },
    {
     "data": {
      "application/vnd.jupyter.widget-view+json": {
       "model_id": "a083eb093a0441f0a0a7a9b251c54b4a",
       "version_major": 2,
       "version_minor": 0
      },
      "text/plain": [
       "rsuscs_Amon_NorESM2-LM_piClim-control...:   0%|          |0.00/4.26M [?B/s]"
      ]
     },
     "metadata": {},
     "output_type": "display_data"
    },
    {
     "data": {
      "application/vnd.jupyter.widget-view+json": {
       "model_id": "a22f425559b54922b1261bb0f58948e1",
       "version_major": 2,
       "version_minor": 0
      },
      "text/plain": [
       "rsut_Amon_NorESM2-LM_piClim-control_r...:   0%|          |0.00/4.72M [?B/s]"
      ]
     },
     "metadata": {},
     "output_type": "display_data"
    },
    {
     "data": {
      "application/vnd.jupyter.widget-view+json": {
       "model_id": "8d3d8c4306cc486fac89f2512200f2d6",
       "version_major": 2,
       "version_minor": 0
      },
      "text/plain": [
       "rsut_Amon_NorESM2-LM_piClim-control_r...:   0%|          |0.00/4.72M [?B/s]"
      ]
     },
     "metadata": {},
     "output_type": "display_data"
    },
    {
     "data": {
      "application/vnd.jupyter.widget-view+json": {
       "model_id": "11896ee7eab14c09acb2a5bccd59739e",
       "version_major": 2,
       "version_minor": 0
      },
      "text/plain": [
       "rsutcs_Amon_NorESM2-LM_piClim-control...:   0%|          |0.00/4.32M [?B/s]"
      ]
     },
     "metadata": {},
     "output_type": "display_data"
    },
    {
     "name": "stdout",
     "output_type": "stream",
     "text": [
      "\n",
      "Downloading NorESM2-LM.r1i1p1f1.gn ...\n",
      "\n"
     ]
    },
    {
     "data": {
      "application/vnd.jupyter.widget-view+json": {
       "model_id": "6264f41125794388a99761022445ec32",
       "version_major": 2,
       "version_minor": 0
      },
      "text/plain": [
       "   Searching indices:   0%|          |0/9 [       ?index/s]"
      ]
     },
     "metadata": {},
     "output_type": "display_data"
    },
    {
     "name": "stderr",
     "output_type": "stream",
     "text": [
      "/home/jovyan/my-conda-envs/cmip6-download/lib/python3.13/site-packages/intake_esgf/catalog.py:450: UserWarning: SolrESGFIndex('esgf.ceda.ac.uk') failed to return a response, info may be incomplete\n",
      "  warnings.warn(\n",
      "/home/jovyan/my-conda-envs/cmip6-download/lib/python3.13/site-packages/intake_esgf/catalog.py:450: UserWarning: SolrESGFIndex('esgf-data.dkrz.de') failed to return a response, info may be incomplete\n",
      "  warnings.warn(\n",
      "/home/jovyan/my-conda-envs/cmip6-download/lib/python3.13/site-packages/intake_esgf/catalog.py:450: UserWarning: SolrESGFIndex('esgf-node.ipsl.upmc.fr') failed to return a response, info may be incomplete\n",
      "  warnings.warn(\n",
      "/home/jovyan/my-conda-envs/cmip6-download/lib/python3.13/site-packages/intake_esgf/catalog.py:450: UserWarning: SolrESGFIndex('esg-dn1.nsc.liu.se') failed to return a response, info may be incomplete\n",
      "  warnings.warn(\n",
      "/home/jovyan/my-conda-envs/cmip6-download/lib/python3.13/site-packages/intake_esgf/catalog.py:450: UserWarning: SolrESGFIndex('esgf-node.ornl.gov') failed to return a response, info may be incomplete\n",
      "  warnings.warn(\n",
      "/home/jovyan/my-conda-envs/cmip6-download/lib/python3.13/site-packages/intake_esgf/catalog.py:450: UserWarning: SolrESGFIndex('esgf-node.llnl.gov') failed to return a response, info may be incomplete\n",
      "  warnings.warn(\n",
      "/home/jovyan/my-conda-envs/cmip6-download/lib/python3.13/site-packages/intake_esgf/catalog.py:450: UserWarning: SolrESGFIndex('esgf.nci.org.au') failed to return a response, info may be incomplete\n",
      "  warnings.warn(\n"
     ]
    },
    {
     "data": {
      "application/vnd.jupyter.widget-view+json": {
       "model_id": "5a79c497052e4b51833d2f9118d79080",
       "version_major": 2,
       "version_minor": 0
      },
      "text/plain": [
       "rsuscs_Amon_NorESM2-LM_piClim-control...:   0%|          |0.00/4.25M [?B/s]"
      ]
     },
     "metadata": {},
     "output_type": "display_data"
    },
    {
     "data": {
      "application/vnd.jupyter.widget-view+json": {
       "model_id": "c9ae43c07a6b48a98ff8fbf5166c08dd",
       "version_major": 2,
       "version_minor": 0
      },
      "text/plain": [
       "clt_Amon_NorESM2-LM_piClim-aer_r1i1p1...:   0%|          |0.00/5.00M [?B/s]"
      ]
     },
     "metadata": {},
     "output_type": "display_data"
    },
    {
     "data": {
      "application/vnd.jupyter.widget-view+json": {
       "model_id": "499b582f74a94583b902e106c7435809",
       "version_major": 2,
       "version_minor": 0
      },
      "text/plain": [
       "clt_Amon_NorESM2-LM_piClim-control_r1...:   0%|          |0.00/5.00M [?B/s]"
      ]
     },
     "metadata": {},
     "output_type": "display_data"
    },
    {
     "data": {
      "application/vnd.jupyter.widget-view+json": {
       "model_id": "aa942db1107f4dbea59e3115aa001e1f",
       "version_major": 2,
       "version_minor": 0
      },
      "text/plain": [
       "rsuscs_Amon_NorESM2-LM_piClim-control...:   0%|          |0.00/4.25M [?B/s]"
      ]
     },
     "metadata": {},
     "output_type": "display_data"
    },
    {
     "data": {
      "application/vnd.jupyter.widget-view+json": {
       "model_id": "62fc0935aa214187a98ddacbf4848e33",
       "version_major": 2,
       "version_minor": 0
      },
      "text/plain": [
       "rsutcs_Amon_NorESM2-LM_piClim-aer_r1i...:   0%|          |0.00/4.33M [?B/s]"
      ]
     },
     "metadata": {},
     "output_type": "display_data"
    },
    {
     "data": {
      "application/vnd.jupyter.widget-view+json": {
       "model_id": "80ea7d3a1e4043418aec2ba03a3ce459",
       "version_major": 2,
       "version_minor": 0
      },
      "text/plain": [
       "rsutcs_Amon_NorESM2-LM_piClim-control...:   0%|          |0.00/4.32M [?B/s]"
      ]
     },
     "metadata": {},
     "output_type": "display_data"
    },
    {
     "data": {
      "application/vnd.jupyter.widget-view+json": {
       "model_id": "1c4b3f98a228464c91366c79f4cdadfb",
       "version_major": 2,
       "version_minor": 0
      },
      "text/plain": [
       "rsds_Amon_NorESM2-LM_piClim-control_r...:   0%|          |0.00/4.72M [?B/s]"
      ]
     },
     "metadata": {},
     "output_type": "display_data"
    },
    {
     "data": {
      "application/vnd.jupyter.widget-view+json": {
       "model_id": "f05584f27e684765b2a05c20927e1a20",
       "version_major": 2,
       "version_minor": 0
      },
      "text/plain": [
       "rsdt_Amon_NorESM2-LM_piClim-control_r...:   0%|          |0.00/3.23M [?B/s]"
      ]
     },
     "metadata": {},
     "output_type": "display_data"
    },
    {
     "data": {
      "application/vnd.jupyter.widget-view+json": {
       "model_id": "003dc0bd66e94bbb875825450f333b67",
       "version_major": 2,
       "version_minor": 0
      },
      "text/plain": [
       "rsuscs_Amon_NorESM2-LM_piClim-control...:   0%|          |0.00/4.25M [?B/s]"
      ]
     },
     "metadata": {},
     "output_type": "display_data"
    },
    {
     "data": {
      "application/vnd.jupyter.widget-view+json": {
       "model_id": "17e9f6ab383f428eb34a6cfacd95d976",
       "version_major": 2,
       "version_minor": 0
      },
      "text/plain": [
       "rsdscs_Amon_NorESM2-LM_piClim-aer_r1i...:   0%|          |0.00/4.07M [?B/s]"
      ]
     },
     "metadata": {},
     "output_type": "display_data"
    },
    {
     "data": {
      "application/vnd.jupyter.widget-view+json": {
       "model_id": "33a488d21e8944d7ae86961c31592acb",
       "version_major": 2,
       "version_minor": 0
      },
      "text/plain": [
       "rsdt_Amon_NorESM2-LM_piClim-aer_r1i1p...:   0%|          |0.00/3.23M [?B/s]"
      ]
     },
     "metadata": {},
     "output_type": "display_data"
    },
    {
     "data": {
      "application/vnd.jupyter.widget-view+json": {
       "model_id": "f9e72170131c4a32b2ded0b3dbc39f64",
       "version_major": 2,
       "version_minor": 0
      },
      "text/plain": [
       "rsuscs_Amon_NorESM2-LM_piClim-aer_r1i...:   0%|          |0.00/4.25M [?B/s]"
      ]
     },
     "metadata": {},
     "output_type": "display_data"
    },
    {
     "data": {
      "application/vnd.jupyter.widget-view+json": {
       "model_id": "c248c7f549e5445aa407bd6c561e8d3d",
       "version_major": 2,
       "version_minor": 0
      },
      "text/plain": [
       "rsdt_Amon_NorESM2-LM_piClim-control_r...:   0%|          |0.00/3.23M [?B/s]"
      ]
     },
     "metadata": {},
     "output_type": "display_data"
    },
    {
     "data": {
      "application/vnd.jupyter.widget-view+json": {
       "model_id": "47151cd945c84b289a5eac1002d7a4f8",
       "version_major": 2,
       "version_minor": 0
      },
      "text/plain": [
       "rsut_Amon_NorESM2-LM_piClim-control_r...:   0%|          |0.00/4.72M [?B/s]"
      ]
     },
     "metadata": {},
     "output_type": "display_data"
    },
    {
     "data": {
      "application/vnd.jupyter.widget-view+json": {
       "model_id": "19c5fb7e40ba4cf08def764b7539f859",
       "version_major": 2,
       "version_minor": 0
      },
      "text/plain": [
       "rsutcs_Amon_NorESM2-LM_piClim-control...:   0%|          |0.00/4.32M [?B/s]"
      ]
     },
     "metadata": {},
     "output_type": "display_data"
    },
    {
     "data": {
      "application/vnd.jupyter.widget-view+json": {
       "model_id": "83b8770f7c9a4b9bac1ff94061ff77ac",
       "version_major": 2,
       "version_minor": 0
      },
      "text/plain": [
       "rsdt_Amon_NorESM2-LM_piClim-aer_r1i1p...:   0%|          |0.00/3.23M [?B/s]"
      ]
     },
     "metadata": {},
     "output_type": "display_data"
    },
    {
     "data": {
      "application/vnd.jupyter.widget-view+json": {
       "model_id": "b1a7864d48b54533aa208bedf114d453",
       "version_major": 2,
       "version_minor": 0
      },
      "text/plain": [
       "rsdt_Amon_NorESM2-LM_piClim-aer_r1i1p...:   0%|          |0.00/3.23M [?B/s]"
      ]
     },
     "metadata": {},
     "output_type": "display_data"
    },
    {
     "data": {
      "application/vnd.jupyter.widget-view+json": {
       "model_id": "6fbea0f6fc54457d818cd73bd705190e",
       "version_major": 2,
       "version_minor": 0
      },
      "text/plain": [
       "rsut_Amon_NorESM2-LM_piClim-aer_r1i1p...:   0%|          |0.00/4.72M [?B/s]"
      ]
     },
     "metadata": {},
     "output_type": "display_data"
    },
    {
     "data": {
      "application/vnd.jupyter.widget-view+json": {
       "model_id": "3e816ec704c14ba98e4ac63f65d555f8",
       "version_major": 2,
       "version_minor": 0
      },
      "text/plain": [
       "rsutcs_Amon_NorESM2-LM_piClim-aer_r1i...:   0%|          |0.00/4.33M [?B/s]"
      ]
     },
     "metadata": {},
     "output_type": "display_data"
    },
    {
     "data": {
      "application/vnd.jupyter.widget-view+json": {
       "model_id": "804d50954ed64f8a8363d1b2d1934fbb",
       "version_major": 2,
       "version_minor": 0
      },
      "text/plain": [
       "clt_Amon_NorESM2-LM_piClim-control_r1...:   0%|          |0.00/5.00M [?B/s]"
      ]
     },
     "metadata": {},
     "output_type": "display_data"
    },
    {
     "data": {
      "application/vnd.jupyter.widget-view+json": {
       "model_id": "628e6d7e8d1e435a9bb87a30298e416d",
       "version_major": 2,
       "version_minor": 0
      },
      "text/plain": [
       "rsdscs_Amon_NorESM2-LM_piClim-control...:   0%|          |0.00/4.06M [?B/s]"
      ]
     },
     "metadata": {},
     "output_type": "display_data"
    },
    {
     "data": {
      "application/vnd.jupyter.widget-view+json": {
       "model_id": "0595bf5b36974b488cf85981a3b3b58a",
       "version_major": 2,
       "version_minor": 0
      },
      "text/plain": [
       "rsdt_Amon_NorESM2-LM_piClim-control_r...:   0%|          |0.00/3.23M [?B/s]"
      ]
     },
     "metadata": {},
     "output_type": "display_data"
    },
    {
     "data": {
      "application/vnd.jupyter.widget-view+json": {
       "model_id": "aca8df69400a41d0b5301b19143c2934",
       "version_major": 2,
       "version_minor": 0
      },
      "text/plain": [
       "rsutcs_Amon_NorESM2-LM_piClim-control...:   0%|          |0.00/4.32M [?B/s]"
      ]
     },
     "metadata": {},
     "output_type": "display_data"
    },
    {
     "data": {
      "application/vnd.jupyter.widget-view+json": {
       "model_id": "7ce74a1b9858454eba0ac2c43d071c3e",
       "version_major": 2,
       "version_minor": 0
      },
      "text/plain": [
       "rsds_Amon_NorESM2-LM_piClim-aer_r1i1p...:   0%|          |0.00/4.73M [?B/s]"
      ]
     },
     "metadata": {},
     "output_type": "display_data"
    },
    {
     "data": {
      "application/vnd.jupyter.widget-view+json": {
       "model_id": "02cd2e05e74a406181358f2dc98fa874",
       "version_major": 2,
       "version_minor": 0
      },
      "text/plain": [
       "rsus_Amon_NorESM2-LM_piClim-aer_r1i1p...:   0%|          |0.00/4.59M [?B/s]"
      ]
     },
     "metadata": {},
     "output_type": "display_data"
    },
    {
     "data": {
      "application/vnd.jupyter.widget-view+json": {
       "model_id": "f3e45318aeca4f7a8fb244e1389abc38",
       "version_major": 2,
       "version_minor": 0
      },
      "text/plain": [
       "clt_Amon_NorESM2-LM_piClim-control_r1...:   0%|          |0.00/5.00M [?B/s]"
      ]
     },
     "metadata": {},
     "output_type": "display_data"
    },
    {
     "data": {
      "application/vnd.jupyter.widget-view+json": {
       "model_id": "6e3bcaa7ac8d45adaec64598c5bb04c6",
       "version_major": 2,
       "version_minor": 0
      },
      "text/plain": [
       "rsut_Amon_NorESM2-LM_piClim-aer_r1i1p...:   0%|          |0.00/4.72M [?B/s]"
      ]
     },
     "metadata": {},
     "output_type": "display_data"
    },
    {
     "data": {
      "application/vnd.jupyter.widget-view+json": {
       "model_id": "75b27649912d4111bd0dd23ac8dcd5e7",
       "version_major": 2,
       "version_minor": 0
      },
      "text/plain": [
       "rsus_Amon_NorESM2-LM_piClim-control_r...:   0%|          |0.00/4.58M [?B/s]"
      ]
     },
     "metadata": {},
     "output_type": "display_data"
    },
    {
     "data": {
      "application/vnd.jupyter.widget-view+json": {
       "model_id": "704f9d07012f4d309e75a7473065e3c8",
       "version_major": 2,
       "version_minor": 0
      },
      "text/plain": [
       "rsus_Amon_NorESM2-LM_piClim-control_r...:   0%|          |0.00/4.58M [?B/s]"
      ]
     },
     "metadata": {},
     "output_type": "display_data"
    },
    {
     "data": {
      "application/vnd.jupyter.widget-view+json": {
       "model_id": "bbf6ae04ba3d48eea5a4aec2df0da99a",
       "version_major": 2,
       "version_minor": 0
      },
      "text/plain": [
       "rsdscs_Amon_NorESM2-LM_piClim-aer_r1i...:   0%|          |0.00/4.07M [?B/s]"
      ]
     },
     "metadata": {},
     "output_type": "display_data"
    },
    {
     "data": {
      "application/vnd.jupyter.widget-view+json": {
       "model_id": "558ddb3d13c944c3a09cf18ae393c8cf",
       "version_major": 2,
       "version_minor": 0
      },
      "text/plain": [
       "rsus_Amon_NorESM2-LM_piClim-aer_r1i1p...:   0%|          |0.00/4.59M [?B/s]"
      ]
     },
     "metadata": {},
     "output_type": "display_data"
    },
    {
     "data": {
      "application/vnd.jupyter.widget-view+json": {
       "model_id": "fa1b313348ef4b249ce92d373c97dfde",
       "version_major": 2,
       "version_minor": 0
      },
      "text/plain": [
       "clt_Amon_NorESM2-LM_piClim-aer_r1i1p1...:   0%|          |0.00/5.00M [?B/s]"
      ]
     },
     "metadata": {},
     "output_type": "display_data"
    },
    {
     "data": {
      "application/vnd.jupyter.widget-view+json": {
       "model_id": "61c74656301f4386aba72345b8c075d8",
       "version_major": 2,
       "version_minor": 0
      },
      "text/plain": [
       "clt_Amon_NorESM2-LM_piClim-aer_r1i1p1...:   0%|          |0.00/5.00M [?B/s]"
      ]
     },
     "metadata": {},
     "output_type": "display_data"
    },
    {
     "data": {
      "application/vnd.jupyter.widget-view+json": {
       "model_id": "02b042bfe11b41e6ac077dbe973d40f9",
       "version_major": 2,
       "version_minor": 0
      },
      "text/plain": [
       "rsuscs_Amon_NorESM2-LM_piClim-aer_r1i...:   0%|          |0.00/4.26M [?B/s]"
      ]
     },
     "metadata": {},
     "output_type": "display_data"
    },
    {
     "data": {
      "application/vnd.jupyter.widget-view+json": {
       "model_id": "5fb048913c3141048e4436ec1c869413",
       "version_major": 2,
       "version_minor": 0
      },
      "text/plain": [
       "rsut_Amon_NorESM2-LM_piClim-aer_r1i1p...:   0%|          |0.00/4.72M [?B/s]"
      ]
     },
     "metadata": {},
     "output_type": "display_data"
    },
    {
     "data": {
      "application/vnd.jupyter.widget-view+json": {
       "model_id": "9e2305406f9e47bf9c96aca22ecc5884",
       "version_major": 2,
       "version_minor": 0
      },
      "text/plain": [
       "rsuscs_Amon_NorESM2-LM_piClim-aer_r1i...:   0%|          |0.00/4.25M [?B/s]"
      ]
     },
     "metadata": {},
     "output_type": "display_data"
    },
    {
     "data": {
      "application/vnd.jupyter.widget-view+json": {
       "model_id": "5de6bfd26b26406a83e4e21fde3facfd",
       "version_major": 2,
       "version_minor": 0
      },
      "text/plain": [
       "rsutcs_Amon_NorESM2-LM_piClim-aer_r1i...:   0%|          |0.00/4.33M [?B/s]"
      ]
     },
     "metadata": {},
     "output_type": "display_data"
    },
    {
     "data": {
      "application/vnd.jupyter.widget-view+json": {
       "model_id": "0c792317786a4798b8fb5a44366f096a",
       "version_major": 2,
       "version_minor": 0
      },
      "text/plain": [
       "rsds_Amon_NorESM2-LM_piClim-control_r...:   0%|          |0.00/4.72M [?B/s]"
      ]
     },
     "metadata": {},
     "output_type": "display_data"
    },
    {
     "data": {
      "application/vnd.jupyter.widget-view+json": {
       "model_id": "870a4e64255249a8b8c38f59d9927338",
       "version_major": 2,
       "version_minor": 0
      },
      "text/plain": [
       "rsds_Amon_NorESM2-LM_piClim-control_r...:   0%|          |0.00/4.72M [?B/s]"
      ]
     },
     "metadata": {},
     "output_type": "display_data"
    },
    {
     "data": {
      "application/vnd.jupyter.widget-view+json": {
       "model_id": "d3b3903e14e44ab3872b56890c2d7e43",
       "version_major": 2,
       "version_minor": 0
      },
      "text/plain": [
       "rsdscs_Amon_NorESM2-LM_piClim-control...:   0%|          |0.00/4.05M [?B/s]"
      ]
     },
     "metadata": {},
     "output_type": "display_data"
    },
    {
     "data": {
      "application/vnd.jupyter.widget-view+json": {
       "model_id": "18571ab892fc4c5b95929f796d288ec4",
       "version_major": 2,
       "version_minor": 0
      },
      "text/plain": [
       "rsut_Amon_NorESM2-LM_piClim-control_r...:   0%|          |0.00/4.72M [?B/s]"
      ]
     },
     "metadata": {},
     "output_type": "display_data"
    },
    {
     "data": {
      "application/vnd.jupyter.widget-view+json": {
       "model_id": "11a78fdfd26b41a5b91fd1fce470d0ba",
       "version_major": 2,
       "version_minor": 0
      },
      "text/plain": [
       "rsdscs_Amon_NorESM2-LM_piClim-control...:   0%|          |0.00/4.05M [?B/s]"
      ]
     },
     "metadata": {},
     "output_type": "display_data"
    },
    {
     "data": {
      "application/vnd.jupyter.widget-view+json": {
       "model_id": "52dc0e58f3874057a4f665a6c54c09dd",
       "version_major": 2,
       "version_minor": 0
      },
      "text/plain": [
       "rsds_Amon_NorESM2-LM_piClim-aer_r1i1p...:   0%|          |0.00/4.73M [?B/s]"
      ]
     },
     "metadata": {},
     "output_type": "display_data"
    },
    {
     "data": {
      "application/vnd.jupyter.widget-view+json": {
       "model_id": "7dfcabbd0de5450d8976eef58512b6ba",
       "version_major": 2,
       "version_minor": 0
      },
      "text/plain": [
       "rsus_Amon_NorESM2-LM_piClim-control_r...:   0%|          |0.00/4.58M [?B/s]"
      ]
     },
     "metadata": {},
     "output_type": "display_data"
    },
    {
     "data": {
      "application/vnd.jupyter.widget-view+json": {
       "model_id": "9b1737b307d844ff80abba8ef5500962",
       "version_major": 2,
       "version_minor": 0
      },
      "text/plain": [
       "rsut_Amon_NorESM2-LM_piClim-control_r...:   0%|          |0.00/4.72M [?B/s]"
      ]
     },
     "metadata": {},
     "output_type": "display_data"
    },
    {
     "data": {
      "application/vnd.jupyter.widget-view+json": {
       "model_id": "ecfaea3adb4b461bbafb15a6ac443555",
       "version_major": 2,
       "version_minor": 0
      },
      "text/plain": [
       "rsds_Amon_NorESM2-LM_piClim-aer_r1i1p...:   0%|          |0.00/4.73M [?B/s]"
      ]
     },
     "metadata": {},
     "output_type": "display_data"
    },
    {
     "data": {
      "application/vnd.jupyter.widget-view+json": {
       "model_id": "4a38cd83b1444bbcb9c618611ac69dfe",
       "version_major": 2,
       "version_minor": 0
      },
      "text/plain": [
       "rsdscs_Amon_NorESM2-LM_piClim-aer_r1i...:   0%|          |0.00/4.07M [?B/s]"
      ]
     },
     "metadata": {},
     "output_type": "display_data"
    },
    {
     "data": {
      "application/vnd.jupyter.widget-view+json": {
       "model_id": "7cdaa9503ef34088851b473964c92023",
       "version_major": 2,
       "version_minor": 0
      },
      "text/plain": [
       "rsus_Amon_NorESM2-LM_piClim-aer_r1i1p...:   0%|          |0.00/4.59M [?B/s]"
      ]
     },
     "metadata": {},
     "output_type": "display_data"
    },
    {
     "name": "stdout",
     "output_type": "stream",
     "text": [
      "\n",
      "Downloading GISS-E2-1-G.r1i1p1f1.gn ...\n",
      "\n"
     ]
    },
    {
     "data": {
      "application/vnd.jupyter.widget-view+json": {
       "model_id": "ef3fdfe5260d4aefbe38827c2fd8c21d",
       "version_major": 2,
       "version_minor": 0
      },
      "text/plain": [
       "   Searching indices:   0%|          |0/9 [       ?index/s]"
      ]
     },
     "metadata": {},
     "output_type": "display_data"
    },
    {
     "name": "stderr",
     "output_type": "stream",
     "text": [
      "/home/jovyan/my-conda-envs/cmip6-download/lib/python3.13/site-packages/intake_esgf/catalog.py:450: UserWarning: SolrESGFIndex('esgf-node.ipsl.upmc.fr') failed to return a response, info may be incomplete\n",
      "  warnings.warn(\n",
      "/home/jovyan/my-conda-envs/cmip6-download/lib/python3.13/site-packages/intake_esgf/catalog.py:450: UserWarning: SolrESGFIndex('esgf.ceda.ac.uk') failed to return a response, info may be incomplete\n",
      "  warnings.warn(\n",
      "/home/jovyan/my-conda-envs/cmip6-download/lib/python3.13/site-packages/intake_esgf/catalog.py:450: UserWarning: SolrESGFIndex('esgf-data.dkrz.de') failed to return a response, info may be incomplete\n",
      "  warnings.warn(\n",
      "/home/jovyan/my-conda-envs/cmip6-download/lib/python3.13/site-packages/intake_esgf/catalog.py:450: UserWarning: SolrESGFIndex('esg-dn1.nsc.liu.se') failed to return a response, info may be incomplete\n",
      "  warnings.warn(\n",
      "/home/jovyan/my-conda-envs/cmip6-download/lib/python3.13/site-packages/intake_esgf/catalog.py:450: UserWarning: SolrESGFIndex('esgf-node.ornl.gov') failed to return a response, info may be incomplete\n",
      "  warnings.warn(\n",
      "/home/jovyan/my-conda-envs/cmip6-download/lib/python3.13/site-packages/intake_esgf/catalog.py:450: UserWarning: SolrESGFIndex('esgf-node.llnl.gov') failed to return a response, info may be incomplete\n",
      "  warnings.warn(\n",
      "/home/jovyan/my-conda-envs/cmip6-download/lib/python3.13/site-packages/intake_esgf/catalog.py:450: UserWarning: SolrESGFIndex('esgf.nci.org.au') failed to return a response, info may be incomplete\n",
      "  warnings.warn(\n"
     ]
    },
    {
     "data": {
      "application/vnd.jupyter.widget-view+json": {
       "model_id": "3fb903cab4f640da9b1bfb06433e51a6",
       "version_major": 2,
       "version_minor": 0
      },
      "text/plain": [
       "clt_Amon_GISS-E2-1-G_piClim-aer_r1i1p...:   0%|          |0.00/19.3M [?B/s]"
      ]
     },
     "metadata": {},
     "output_type": "display_data"
    },
    {
     "data": {
      "application/vnd.jupyter.widget-view+json": {
       "model_id": "09ba7118e5864470ba97d3a4fc62d0b9",
       "version_major": 2,
       "version_minor": 0
      },
      "text/plain": [
       "rsdscs_Amon_GISS-E2-1-G_piClim-contro...:   0%|          |0.00/19.3M [?B/s]"
      ]
     },
     "metadata": {},
     "output_type": "display_data"
    },
    {
     "data": {
      "application/vnd.jupyter.widget-view+json": {
       "model_id": "ab438bc7a80947d2ac79f3330f7760fb",
       "version_major": 2,
       "version_minor": 0
      },
      "text/plain": [
       "rsus_Amon_GISS-E2-1-G_piClim-control_...:   0%|          |0.00/19.3M [?B/s]"
      ]
     },
     "metadata": {},
     "output_type": "display_data"
    },
    {
     "data": {
      "application/vnd.jupyter.widget-view+json": {
       "model_id": "d23537d3181c43c1bdb42509d2f6cbe4",
       "version_major": 2,
       "version_minor": 0
      },
      "text/plain": [
       "rsutcs_Amon_GISS-E2-1-G_piClim-contro...:   0%|          |0.00/19.3M [?B/s]"
      ]
     },
     "metadata": {},
     "output_type": "display_data"
    },
    {
     "data": {
      "application/vnd.jupyter.widget-view+json": {
       "model_id": "7bb25816e18446b697422f61c162a013",
       "version_major": 2,
       "version_minor": 0
      },
      "text/plain": [
       "rsut_Amon_GISS-E2-1-G_piClim-aer_r1i1...:   0%|          |0.00/19.3M [?B/s]"
      ]
     },
     "metadata": {},
     "output_type": "display_data"
    },
    {
     "data": {
      "application/vnd.jupyter.widget-view+json": {
       "model_id": "b7582abae8124ccbb2a669e2d7664879",
       "version_major": 2,
       "version_minor": 0
      },
      "text/plain": [
       "rsdscs_Amon_GISS-E2-1-G_piClim-aer_r1...:   0%|          |0.00/19.3M [?B/s]"
      ]
     },
     "metadata": {},
     "output_type": "display_data"
    },
    {
     "data": {
      "application/vnd.jupyter.widget-view+json": {
       "model_id": "0fcf92fac182461c9779ec825e6cc009",
       "version_major": 2,
       "version_minor": 0
      },
      "text/plain": [
       "rsds_Amon_GISS-E2-1-G_piClim-control_...:   0%|          |0.00/19.3M [?B/s]"
      ]
     },
     "metadata": {},
     "output_type": "display_data"
    },
    {
     "data": {
      "application/vnd.jupyter.widget-view+json": {
       "model_id": "1b66a6f02c1e49fc9c92c45c0a071273",
       "version_major": 2,
       "version_minor": 0
      },
      "text/plain": [
       "clt_Amon_GISS-E2-1-G_piClim-control_r...:   0%|          |0.00/19.3M [?B/s]"
      ]
     },
     "metadata": {},
     "output_type": "display_data"
    },
    {
     "data": {
      "application/vnd.jupyter.widget-view+json": {
       "model_id": "f3e7e63504b046dc96d8c2d041a2dd17",
       "version_major": 2,
       "version_minor": 0
      },
      "text/plain": [
       "rsuscs_Amon_GISS-E2-1-G_piClim-contro...:   0%|          |0.00/19.3M [?B/s]"
      ]
     },
     "metadata": {},
     "output_type": "display_data"
    },
    {
     "data": {
      "application/vnd.jupyter.widget-view+json": {
       "model_id": "e44830e01c384678b1b013a63587fb0a",
       "version_major": 2,
       "version_minor": 0
      },
      "text/plain": [
       "rsus_Amon_GISS-E2-1-G_piClim-aer_r1i1...:   0%|          |0.00/19.3M [?B/s]"
      ]
     },
     "metadata": {},
     "output_type": "display_data"
    },
    {
     "data": {
      "application/vnd.jupyter.widget-view+json": {
       "model_id": "41014fc5b4c1464fa699f58e024fc3f6",
       "version_major": 2,
       "version_minor": 0
      },
      "text/plain": [
       "rsdt_Amon_GISS-E2-1-G_piClim-aer_r1i1...:   0%|          |0.00/19.3M [?B/s]"
      ]
     },
     "metadata": {},
     "output_type": "display_data"
    },
    {
     "data": {
      "application/vnd.jupyter.widget-view+json": {
       "model_id": "04d93464fa044252873814a3a17d588d",
       "version_major": 2,
       "version_minor": 0
      },
      "text/plain": [
       "rsuscs_Amon_GISS-E2-1-G_piClim-aer_r1...:   0%|          |0.00/19.3M [?B/s]"
      ]
     },
     "metadata": {},
     "output_type": "display_data"
    },
    {
     "data": {
      "application/vnd.jupyter.widget-view+json": {
       "model_id": "3c207bba137e4a1f9e6c5a0700d15e3a",
       "version_major": 2,
       "version_minor": 0
      },
      "text/plain": [
       "rsdt_Amon_GISS-E2-1-G_piClim-control_...:   0%|          |0.00/19.3M [?B/s]"
      ]
     },
     "metadata": {},
     "output_type": "display_data"
    },
    {
     "data": {
      "application/vnd.jupyter.widget-view+json": {
       "model_id": "51aa65b417d9408c94c42b3958c45284",
       "version_major": 2,
       "version_minor": 0
      },
      "text/plain": [
       "rsutcs_Amon_GISS-E2-1-G_piClim-aer_r1...:   0%|          |0.00/19.3M [?B/s]"
      ]
     },
     "metadata": {},
     "output_type": "display_data"
    },
    {
     "data": {
      "application/vnd.jupyter.widget-view+json": {
       "model_id": "d7e93776b3eb4bb59163d0596dffbdff",
       "version_major": 2,
       "version_minor": 0
      },
      "text/plain": [
       "rsds_Amon_GISS-E2-1-G_piClim-aer_r1i1...:   0%|          |0.00/19.3M [?B/s]"
      ]
     },
     "metadata": {},
     "output_type": "display_data"
    },
    {
     "data": {
      "application/vnd.jupyter.widget-view+json": {
       "model_id": "54e4e00b774149cb8398d3b7ed919155",
       "version_major": 2,
       "version_minor": 0
      },
      "text/plain": [
       "rsut_Amon_GISS-E2-1-G_piClim-control_...:   0%|          |0.00/19.3M [?B/s]"
      ]
     },
     "metadata": {},
     "output_type": "display_data"
    },
    {
     "name": "stdout",
     "output_type": "stream",
     "text": [
      "\n",
      "Downloading GISS-E2-1-G.r1i1p1f2.gn ...\n",
      "\n"
     ]
    },
    {
     "data": {
      "application/vnd.jupyter.widget-view+json": {
       "model_id": "e1bdb9f9b1a04f5298dedecdda7144ec",
       "version_major": 2,
       "version_minor": 0
      },
      "text/plain": [
       "   Searching indices:   0%|          |0/9 [       ?index/s]"
      ]
     },
     "metadata": {},
     "output_type": "display_data"
    },
    {
     "name": "stderr",
     "output_type": "stream",
     "text": [
      "/home/jovyan/my-conda-envs/cmip6-download/lib/python3.13/site-packages/intake_esgf/catalog.py:450: UserWarning: SolrESGFIndex('esgf-data.dkrz.de') failed to return a response, info may be incomplete\n",
      "  warnings.warn(\n",
      "/home/jovyan/my-conda-envs/cmip6-download/lib/python3.13/site-packages/intake_esgf/catalog.py:450: UserWarning: SolrESGFIndex('esgf-node.ipsl.upmc.fr') failed to return a response, info may be incomplete\n",
      "  warnings.warn(\n",
      "/home/jovyan/my-conda-envs/cmip6-download/lib/python3.13/site-packages/intake_esgf/catalog.py:450: UserWarning: SolrESGFIndex('esgf.ceda.ac.uk') failed to return a response, info may be incomplete\n",
      "  warnings.warn(\n",
      "/home/jovyan/my-conda-envs/cmip6-download/lib/python3.13/site-packages/intake_esgf/catalog.py:450: UserWarning: SolrESGFIndex('esg-dn1.nsc.liu.se') failed to return a response, info may be incomplete\n",
      "  warnings.warn(\n",
      "/home/jovyan/my-conda-envs/cmip6-download/lib/python3.13/site-packages/intake_esgf/catalog.py:450: UserWarning: SolrESGFIndex('esgf-node.ornl.gov') failed to return a response, info may be incomplete\n",
      "  warnings.warn(\n",
      "/home/jovyan/my-conda-envs/cmip6-download/lib/python3.13/site-packages/intake_esgf/catalog.py:450: UserWarning: SolrESGFIndex('esgf-node.llnl.gov') failed to return a response, info may be incomplete\n",
      "  warnings.warn(\n",
      "/home/jovyan/my-conda-envs/cmip6-download/lib/python3.13/site-packages/intake_esgf/catalog.py:450: UserWarning: SolrESGFIndex('esgf.nci.org.au') failed to return a response, info may be incomplete\n",
      "  warnings.warn(\n"
     ]
    },
    {
     "data": {
      "application/vnd.jupyter.widget-view+json": {
       "model_id": "439cd57f2643434d9678418b5319cd24",
       "version_major": 2,
       "version_minor": 0
      },
      "text/plain": [
       "rsds_Amon_GISS-E2-1-G_piClim-control_...:   0%|          |0.00/19.3M [?B/s]"
      ]
     },
     "metadata": {},
     "output_type": "display_data"
    },
    {
     "data": {
      "application/vnd.jupyter.widget-view+json": {
       "model_id": "413d4da7ad48485fbd97cdc0fda800a9",
       "version_major": 2,
       "version_minor": 0
      },
      "text/plain": [
       "clt_Amon_GISS-E2-1-G_piClim-aer_r1i1p...:   0%|          |0.00/19.3M [?B/s]"
      ]
     },
     "metadata": {},
     "output_type": "display_data"
    },
    {
     "data": {
      "application/vnd.jupyter.widget-view+json": {
       "model_id": "deac38e19b83415da1164f8a37754b31",
       "version_major": 2,
       "version_minor": 0
      },
      "text/plain": [
       "rsus_Amon_GISS-E2-1-G_piClim-aer_r1i1...:   0%|          |0.00/19.3M [?B/s]"
      ]
     },
     "metadata": {},
     "output_type": "display_data"
    },
    {
     "data": {
      "application/vnd.jupyter.widget-view+json": {
       "model_id": "8925b15cc0254479b6009abe1ba7ace9",
       "version_major": 2,
       "version_minor": 0
      },
      "text/plain": [
       "rsutcs_Amon_GISS-E2-1-G_piClim-contro...:   0%|          |0.00/19.3M [?B/s]"
      ]
     },
     "metadata": {},
     "output_type": "display_data"
    },
    {
     "data": {
      "application/vnd.jupyter.widget-view+json": {
       "model_id": "6bf3d2b3e5e441dfb3c1bb6be5bd954a",
       "version_major": 2,
       "version_minor": 0
      },
      "text/plain": [
       "clt_Amon_GISS-E2-1-G_piClim-control_r...:   0%|          |0.00/19.3M [?B/s]"
      ]
     },
     "metadata": {},
     "output_type": "display_data"
    },
    {
     "data": {
      "application/vnd.jupyter.widget-view+json": {
       "model_id": "d90c4773f0e6428abd36020daeb73498",
       "version_major": 2,
       "version_minor": 0
      },
      "text/plain": [
       "rsus_Amon_GISS-E2-1-G_piClim-control_...:   0%|          |0.00/19.3M [?B/s]"
      ]
     },
     "metadata": {},
     "output_type": "display_data"
    },
    {
     "data": {
      "application/vnd.jupyter.widget-view+json": {
       "model_id": "6f9f9c517b0b47b2acf2c65e020b7bfa",
       "version_major": 2,
       "version_minor": 0
      },
      "text/plain": [
       "rsdscs_Amon_GISS-E2-1-G_piClim-contro...:   0%|          |0.00/19.3M [?B/s]"
      ]
     },
     "metadata": {},
     "output_type": "display_data"
    },
    {
     "data": {
      "application/vnd.jupyter.widget-view+json": {
       "model_id": "b149b03506b14431b6119b1651f0cad8",
       "version_major": 2,
       "version_minor": 0
      },
      "text/plain": [
       "rsdscs_Amon_GISS-E2-1-G_piClim-aer_r1...:   0%|          |0.00/19.3M [?B/s]"
      ]
     },
     "metadata": {},
     "output_type": "display_data"
    },
    {
     "data": {
      "application/vnd.jupyter.widget-view+json": {
       "model_id": "52fa8dc5ad2f48b795da1dd58b89fd8a",
       "version_major": 2,
       "version_minor": 0
      },
      "text/plain": [
       "rsut_Amon_GISS-E2-1-G_piClim-aer_r1i1...:   0%|          |0.00/19.3M [?B/s]"
      ]
     },
     "metadata": {},
     "output_type": "display_data"
    },
    {
     "data": {
      "application/vnd.jupyter.widget-view+json": {
       "model_id": "661c6033e23e4a0491951746052baffe",
       "version_major": 2,
       "version_minor": 0
      },
      "text/plain": [
       "rsdt_Amon_GISS-E2-1-G_piClim-control_...:   0%|          |0.00/19.3M [?B/s]"
      ]
     },
     "metadata": {},
     "output_type": "display_data"
    },
    {
     "data": {
      "application/vnd.jupyter.widget-view+json": {
       "model_id": "bf086ae9d0d44e3994efe863abd18250",
       "version_major": 2,
       "version_minor": 0
      },
      "text/plain": [
       "rsdt_Amon_GISS-E2-1-G_piClim-aer_r1i1...:   0%|          |0.00/19.3M [?B/s]"
      ]
     },
     "metadata": {},
     "output_type": "display_data"
    },
    {
     "data": {
      "application/vnd.jupyter.widget-view+json": {
       "model_id": "725558909c8a452b9c40fc946cc7f592",
       "version_major": 2,
       "version_minor": 0
      },
      "text/plain": [
       "rsuscs_Amon_GISS-E2-1-G_piClim-aer_r1...:   0%|          |0.00/19.3M [?B/s]"
      ]
     },
     "metadata": {},
     "output_type": "display_data"
    },
    {
     "data": {
      "application/vnd.jupyter.widget-view+json": {
       "model_id": "5031fa4280dd4a9b963d14498587aa8c",
       "version_major": 2,
       "version_minor": 0
      },
      "text/plain": [
       "rsuscs_Amon_GISS-E2-1-G_piClim-contro...:   0%|          |0.00/19.3M [?B/s]"
      ]
     },
     "metadata": {},
     "output_type": "display_data"
    },
    {
     "data": {
      "application/vnd.jupyter.widget-view+json": {
       "model_id": "71542f36d47f4c5cb1e732bdba707b89",
       "version_major": 2,
       "version_minor": 0
      },
      "text/plain": [
       "rsds_Amon_GISS-E2-1-G_piClim-aer_r1i1...:   0%|          |0.00/19.3M [?B/s]"
      ]
     },
     "metadata": {},
     "output_type": "display_data"
    },
    {
     "data": {
      "application/vnd.jupyter.widget-view+json": {
       "model_id": "d26f487e7f2a495dac013d09c285de1e",
       "version_major": 2,
       "version_minor": 0
      },
      "text/plain": [
       "rsutcs_Amon_GISS-E2-1-G_piClim-aer_r1...:   0%|          |0.00/19.3M [?B/s]"
      ]
     },
     "metadata": {},
     "output_type": "display_data"
    },
    {
     "data": {
      "application/vnd.jupyter.widget-view+json": {
       "model_id": "e15a08de3c684842ac93626450c95901",
       "version_major": 2,
       "version_minor": 0
      },
      "text/plain": [
       "rsut_Amon_GISS-E2-1-G_piClim-control_...:   0%|          |0.00/19.3M [?B/s]"
      ]
     },
     "metadata": {},
     "output_type": "display_data"
    },
    {
     "name": "stdout",
     "output_type": "stream",
     "text": [
      "\n",
      "Downloading GISS-E2-1-G.r1i1p3f1.gn ...\n",
      "\n"
     ]
    },
    {
     "data": {
      "application/vnd.jupyter.widget-view+json": {
       "model_id": "00e1dd96569c40e2adfca4d3ef7dab1a",
       "version_major": 2,
       "version_minor": 0
      },
      "text/plain": [
       "   Searching indices:   0%|          |0/9 [       ?index/s]"
      ]
     },
     "metadata": {},
     "output_type": "display_data"
    },
    {
     "name": "stderr",
     "output_type": "stream",
     "text": [
      "/home/jovyan/my-conda-envs/cmip6-download/lib/python3.13/site-packages/intake_esgf/catalog.py:450: UserWarning: SolrESGFIndex('esgf-node.ipsl.upmc.fr') failed to return a response, info may be incomplete\n",
      "  warnings.warn(\n",
      "/home/jovyan/my-conda-envs/cmip6-download/lib/python3.13/site-packages/intake_esgf/catalog.py:450: UserWarning: SolrESGFIndex('esgf.ceda.ac.uk') failed to return a response, info may be incomplete\n",
      "  warnings.warn(\n",
      "/home/jovyan/my-conda-envs/cmip6-download/lib/python3.13/site-packages/intake_esgf/catalog.py:450: UserWarning: SolrESGFIndex('esgf-data.dkrz.de') failed to return a response, info may be incomplete\n",
      "  warnings.warn(\n",
      "/home/jovyan/my-conda-envs/cmip6-download/lib/python3.13/site-packages/intake_esgf/catalog.py:450: UserWarning: SolrESGFIndex('esg-dn1.nsc.liu.se') failed to return a response, info may be incomplete\n",
      "  warnings.warn(\n",
      "/home/jovyan/my-conda-envs/cmip6-download/lib/python3.13/site-packages/intake_esgf/catalog.py:450: UserWarning: SolrESGFIndex('esgf-node.ornl.gov') failed to return a response, info may be incomplete\n",
      "  warnings.warn(\n",
      "/home/jovyan/my-conda-envs/cmip6-download/lib/python3.13/site-packages/intake_esgf/catalog.py:450: UserWarning: SolrESGFIndex('esgf-node.llnl.gov') failed to return a response, info may be incomplete\n",
      "  warnings.warn(\n",
      "/home/jovyan/my-conda-envs/cmip6-download/lib/python3.13/site-packages/intake_esgf/catalog.py:450: UserWarning: SolrESGFIndex('esgf.nci.org.au') failed to return a response, info may be incomplete\n",
      "  warnings.warn(\n"
     ]
    },
    {
     "data": {
      "application/vnd.jupyter.widget-view+json": {
       "model_id": "d5f0bccdd50c43f5bdd8ab4f6882f44e",
       "version_major": 2,
       "version_minor": 0
      },
      "text/plain": [
       "rsutcs_Amon_GISS-E2-1-G_piClim-contro...:   0%|          |0.00/25.5M [?B/s]"
      ]
     },
     "metadata": {},
     "output_type": "display_data"
    },
    {
     "data": {
      "application/vnd.jupyter.widget-view+json": {
       "model_id": "6ac8fd3f239c499c865725ecc03e32f5",
       "version_major": 2,
       "version_minor": 0
      },
      "text/plain": [
       "rsut_Amon_GISS-E2-1-G_piClim-control_...:   0%|          |0.00/25.5M [?B/s]"
      ]
     },
     "metadata": {},
     "output_type": "display_data"
    },
    {
     "data": {
      "application/vnd.jupyter.widget-view+json": {
       "model_id": "cf8d8a26851f48648f86567eeba749b2",
       "version_major": 2,
       "version_minor": 0
      },
      "text/plain": [
       "rsus_Amon_GISS-E2-1-G_piClim-aer_r1i1...:   0%|          |0.00/25.5M [?B/s]"
      ]
     },
     "metadata": {},
     "output_type": "display_data"
    },
    {
     "data": {
      "application/vnd.jupyter.widget-view+json": {
       "model_id": "53a4bb585ad54cbba094390727dd06ae",
       "version_major": 2,
       "version_minor": 0
      },
      "text/plain": [
       "rsuscs_Amon_GISS-E2-1-G_piClim-aer_r1...:   0%|          |0.00/25.5M [?B/s]"
      ]
     },
     "metadata": {},
     "output_type": "display_data"
    },
    {
     "data": {
      "application/vnd.jupyter.widget-view+json": {
       "model_id": "61213ee9c01342d09979076f8f25046e",
       "version_major": 2,
       "version_minor": 0
      },
      "text/plain": [
       "rsuscs_Amon_GISS-E2-1-G_piClim-contro...:   0%|          |0.00/25.5M [?B/s]"
      ]
     },
     "metadata": {},
     "output_type": "display_data"
    },
    {
     "data": {
      "application/vnd.jupyter.widget-view+json": {
       "model_id": "831bc39d8879433b8655aecaa88e38cb",
       "version_major": 2,
       "version_minor": 0
      },
      "text/plain": [
       "rsus_Amon_GISS-E2-1-G_piClim-control_...:   0%|          |0.00/25.5M [?B/s]"
      ]
     },
     "metadata": {},
     "output_type": "display_data"
    },
    {
     "data": {
      "application/vnd.jupyter.widget-view+json": {
       "model_id": "cb1c03829e384bd29b809aaec28b3fc8",
       "version_major": 2,
       "version_minor": 0
      },
      "text/plain": [
       "rsutcs_Amon_GISS-E2-1-G_piClim-aer_r1...:   0%|          |0.00/25.5M [?B/s]"
      ]
     },
     "metadata": {},
     "output_type": "display_data"
    },
    {
     "data": {
      "application/vnd.jupyter.widget-view+json": {
       "model_id": "fbb21680487c497495c8267f68c962ae",
       "version_major": 2,
       "version_minor": 0
      },
      "text/plain": [
       "rsdscs_Amon_GISS-E2-1-G_piClim-contro...:   0%|          |0.00/25.5M [?B/s]"
      ]
     },
     "metadata": {},
     "output_type": "display_data"
    },
    {
     "data": {
      "application/vnd.jupyter.widget-view+json": {
       "model_id": "46ab48a7fc5e4efab08e5c18b92c87e6",
       "version_major": 2,
       "version_minor": 0
      },
      "text/plain": [
       "rsdscs_Amon_GISS-E2-1-G_piClim-aer_r1...:   0%|          |0.00/25.5M [?B/s]"
      ]
     },
     "metadata": {},
     "output_type": "display_data"
    },
    {
     "data": {
      "application/vnd.jupyter.widget-view+json": {
       "model_id": "2d302fa2f73c4a1d8d7f0c5f2aa05582",
       "version_major": 2,
       "version_minor": 0
      },
      "text/plain": [
       "clt_Amon_GISS-E2-1-G_piClim-aer_r1i1p...:   0%|          |0.00/25.5M [?B/s]"
      ]
     },
     "metadata": {},
     "output_type": "display_data"
    },
    {
     "data": {
      "application/vnd.jupyter.widget-view+json": {
       "model_id": "d5bcbab1c67e49458d96cdf291ff4cba",
       "version_major": 2,
       "version_minor": 0
      },
      "text/plain": [
       "rsds_Amon_GISS-E2-1-G_piClim-control_...:   0%|          |0.00/25.5M [?B/s]"
      ]
     },
     "metadata": {},
     "output_type": "display_data"
    },
    {
     "data": {
      "application/vnd.jupyter.widget-view+json": {
       "model_id": "8e70baa84be647a7974423b9950c53ac",
       "version_major": 2,
       "version_minor": 0
      },
      "text/plain": [
       "rsdt_Amon_GISS-E2-1-G_piClim-aer_r1i1...:   0%|          |0.00/25.5M [?B/s]"
      ]
     },
     "metadata": {},
     "output_type": "display_data"
    },
    {
     "data": {
      "application/vnd.jupyter.widget-view+json": {
       "model_id": "e6215574d6874033ab50ee0cd84967d8",
       "version_major": 2,
       "version_minor": 0
      },
      "text/plain": [
       "rsdt_Amon_GISS-E2-1-G_piClim-control_...:   0%|          |0.00/25.5M [?B/s]"
      ]
     },
     "metadata": {},
     "output_type": "display_data"
    },
    {
     "data": {
      "application/vnd.jupyter.widget-view+json": {
       "model_id": "6bf87dfc135c4cdf85ef58ce285ad983",
       "version_major": 2,
       "version_minor": 0
      },
      "text/plain": [
       "rsds_Amon_GISS-E2-1-G_piClim-aer_r1i1...:   0%|          |0.00/25.5M [?B/s]"
      ]
     },
     "metadata": {},
     "output_type": "display_data"
    },
    {
     "data": {
      "application/vnd.jupyter.widget-view+json": {
       "model_id": "78b7fabc2aa14f86a91514d4c103eff9",
       "version_major": 2,
       "version_minor": 0
      },
      "text/plain": [
       "rsut_Amon_GISS-E2-1-G_piClim-aer_r1i1...:   0%|          |0.00/25.5M [?B/s]"
      ]
     },
     "metadata": {},
     "output_type": "display_data"
    },
    {
     "data": {
      "application/vnd.jupyter.widget-view+json": {
       "model_id": "3ed491112ee74a4a99a31c639fa1b522",
       "version_major": 2,
       "version_minor": 0
      },
      "text/plain": [
       "clt_Amon_GISS-E2-1-G_piClim-control_r...:   0%|          |0.00/25.5M [?B/s]"
      ]
     },
     "metadata": {},
     "output_type": "display_data"
    },
    {
     "name": "stdout",
     "output_type": "stream",
     "text": [
      "\n",
      "Downloading CanESM5.r1i1p2f1.gn ...\n",
      "\n"
     ]
    },
    {
     "data": {
      "application/vnd.jupyter.widget-view+json": {
       "model_id": "39a03843e724417785168aca2d9edb14",
       "version_major": 2,
       "version_minor": 0
      },
      "text/plain": [
       "   Searching indices:   0%|          |0/9 [       ?index/s]"
      ]
     },
     "metadata": {},
     "output_type": "display_data"
    },
    {
     "name": "stderr",
     "output_type": "stream",
     "text": [
      "/home/jovyan/my-conda-envs/cmip6-download/lib/python3.13/site-packages/intake_esgf/catalog.py:450: UserWarning: SolrESGFIndex('esgf-node.ipsl.upmc.fr') failed to return a response, info may be incomplete\n",
      "  warnings.warn(\n",
      "/home/jovyan/my-conda-envs/cmip6-download/lib/python3.13/site-packages/intake_esgf/catalog.py:450: UserWarning: SolrESGFIndex('esgf.ceda.ac.uk') failed to return a response, info may be incomplete\n",
      "  warnings.warn(\n",
      "/home/jovyan/my-conda-envs/cmip6-download/lib/python3.13/site-packages/intake_esgf/catalog.py:450: UserWarning: SolrESGFIndex('esgf-data.dkrz.de') failed to return a response, info may be incomplete\n",
      "  warnings.warn(\n",
      "/home/jovyan/my-conda-envs/cmip6-download/lib/python3.13/site-packages/intake_esgf/catalog.py:450: UserWarning: SolrESGFIndex('esg-dn1.nsc.liu.se') failed to return a response, info may be incomplete\n",
      "  warnings.warn(\n",
      "/home/jovyan/my-conda-envs/cmip6-download/lib/python3.13/site-packages/intake_esgf/catalog.py:450: UserWarning: SolrESGFIndex('esgf-node.ornl.gov') failed to return a response, info may be incomplete\n",
      "  warnings.warn(\n",
      "/home/jovyan/my-conda-envs/cmip6-download/lib/python3.13/site-packages/intake_esgf/catalog.py:450: UserWarning: SolrESGFIndex('esgf-node.llnl.gov') failed to return a response, info may be incomplete\n",
      "  warnings.warn(\n",
      "/home/jovyan/my-conda-envs/cmip6-download/lib/python3.13/site-packages/intake_esgf/catalog.py:450: UserWarning: SolrESGFIndex('esgf.nci.org.au') failed to return a response, info may be incomplete\n",
      "  warnings.warn(\n"
     ]
    },
    {
     "data": {
      "application/vnd.jupyter.widget-view+json": {
       "model_id": "2ef100efeb6c4568befa51d1b2155c90",
       "version_major": 2,
       "version_minor": 0
      },
      "text/plain": [
       "rsus_Amon_CanESM5_piClim-control_r1i1...:   0%|          |0.00/16.8M [?B/s]"
      ]
     },
     "metadata": {},
     "output_type": "display_data"
    },
    {
     "data": {
      "application/vnd.jupyter.widget-view+json": {
       "model_id": "e116bcfb1c124aec973d84cf77cc46aa",
       "version_major": 2,
       "version_minor": 0
      },
      "text/plain": [
       "rsutcs_Amon_CanESM5_piClim-aer_r1i1p2...:   0%|          |0.00/16.4M [?B/s]"
      ]
     },
     "metadata": {},
     "output_type": "display_data"
    },
    {
     "data": {
      "application/vnd.jupyter.widget-view+json": {
       "model_id": "060a118bc2a2404bae2d56a3358c4fdd",
       "version_major": 2,
       "version_minor": 0
      },
      "text/plain": [
       "rsdt_Amon_CanESM5_piClim-aer_r1i1p2f1...:   0%|          |0.00/14.5M [?B/s]"
      ]
     },
     "metadata": {},
     "output_type": "display_data"
    },
    {
     "data": {
      "application/vnd.jupyter.widget-view+json": {
       "model_id": "31e02b22597a4effa2fcd0b3aceb0b56",
       "version_major": 2,
       "version_minor": 0
      },
      "text/plain": [
       "rsuscs_Amon_CanESM5_piClim-control_r1...:   0%|          |0.00/16.5M [?B/s]"
      ]
     },
     "metadata": {},
     "output_type": "display_data"
    },
    {
     "data": {
      "application/vnd.jupyter.widget-view+json": {
       "model_id": "880935f72d5949118a485b1881f00968",
       "version_major": 2,
       "version_minor": 0
      },
      "text/plain": [
       "rsds_Amon_CanESM5_piClim-control_r1i1...:   0%|          |0.00/16.5M [?B/s]"
      ]
     },
     "metadata": {},
     "output_type": "display_data"
    },
    {
     "data": {
      "application/vnd.jupyter.widget-view+json": {
       "model_id": "fa2dbfb925f04e62bd79c3a7d15df515",
       "version_major": 2,
       "version_minor": 0
      },
      "text/plain": [
       "rsdscs_Amon_CanESM5_piClim-control_r1...:   0%|          |0.00/16.1M [?B/s]"
      ]
     },
     "metadata": {},
     "output_type": "display_data"
    },
    {
     "data": {
      "application/vnd.jupyter.widget-view+json": {
       "model_id": "519733a154c543b9a9ab820cf6e29577",
       "version_major": 2,
       "version_minor": 0
      },
      "text/plain": [
       "rsdscs_Amon_CanESM5_piClim-aer_r1i1p2...:   0%|          |0.00/16.1M [?B/s]"
      ]
     },
     "metadata": {},
     "output_type": "display_data"
    },
    {
     "data": {
      "application/vnd.jupyter.widget-view+json": {
       "model_id": "bde9307501f64f43aa95dd3f7db6e9e8",
       "version_major": 2,
       "version_minor": 0
      },
      "text/plain": [
       "clt_Amon_CanESM5_piClim-aer_r1i1p2f1_...:   0%|          |0.00/16.6M [?B/s]"
      ]
     },
     "metadata": {},
     "output_type": "display_data"
    },
    {
     "data": {
      "application/vnd.jupyter.widget-view+json": {
       "model_id": "3fafac41213b4f7a8360b926a249793c",
       "version_major": 2,
       "version_minor": 0
      },
      "text/plain": [
       "clt_Amon_CanESM5_piClim-control_r1i1p...:   0%|          |0.00/16.6M [?B/s]"
      ]
     },
     "metadata": {},
     "output_type": "display_data"
    },
    {
     "data": {
      "application/vnd.jupyter.widget-view+json": {
       "model_id": "e4291afd4ee8443c89f0245740933d4e",
       "version_major": 2,
       "version_minor": 0
      },
      "text/plain": [
       "rsuscs_Amon_CanESM5_piClim-aer_r1i1p2...:   0%|          |0.00/16.5M [?B/s]"
      ]
     },
     "metadata": {},
     "output_type": "display_data"
    },
    {
     "data": {
      "application/vnd.jupyter.widget-view+json": {
       "model_id": "af05219d37b14d39962d9a674b1cb237",
       "version_major": 2,
       "version_minor": 0
      },
      "text/plain": [
       "rsut_Amon_CanESM5_piClim-control_r1i1...:   0%|          |0.00/16.5M [?B/s]"
      ]
     },
     "metadata": {},
     "output_type": "display_data"
    },
    {
     "data": {
      "application/vnd.jupyter.widget-view+json": {
       "model_id": "705d2fe5456c41a682acff231809d2b0",
       "version_major": 2,
       "version_minor": 0
      },
      "text/plain": [
       "rsds_Amon_CanESM5_piClim-aer_r1i1p2f1...:   0%|          |0.00/16.5M [?B/s]"
      ]
     },
     "metadata": {},
     "output_type": "display_data"
    },
    {
     "data": {
      "application/vnd.jupyter.widget-view+json": {
       "model_id": "5b53f145f88c45a69f0deaa97b714fd6",
       "version_major": 2,
       "version_minor": 0
      },
      "text/plain": [
       "rsutcs_Amon_CanESM5_piClim-control_r1...:   0%|          |0.00/16.4M [?B/s]"
      ]
     },
     "metadata": {},
     "output_type": "display_data"
    },
    {
     "data": {
      "application/vnd.jupyter.widget-view+json": {
       "model_id": "5b2ff96594554beb88e763cb8b0b6a0a",
       "version_major": 2,
       "version_minor": 0
      },
      "text/plain": [
       "rsut_Amon_CanESM5_piClim-aer_r1i1p2f1...:   0%|          |0.00/16.5M [?B/s]"
      ]
     },
     "metadata": {},
     "output_type": "display_data"
    },
    {
     "data": {
      "application/vnd.jupyter.widget-view+json": {
       "model_id": "b0e3b0e3e1e9481494578a946c4299b8",
       "version_major": 2,
       "version_minor": 0
      },
      "text/plain": [
       "rsus_Amon_CanESM5_piClim-aer_r1i1p2f1...:   0%|          |0.00/16.8M [?B/s]"
      ]
     },
     "metadata": {},
     "output_type": "display_data"
    },
    {
     "data": {
      "application/vnd.jupyter.widget-view+json": {
       "model_id": "9a260b4bd0be4912ba7cb984d82d333b",
       "version_major": 2,
       "version_minor": 0
      },
      "text/plain": [
       "rsdt_Amon_CanESM5_piClim-control_r1i1...:   0%|          |0.00/14.5M [?B/s]"
      ]
     },
     "metadata": {},
     "output_type": "display_data"
    },
    {
     "name": "stdout",
     "output_type": "stream",
     "text": [
      "\n",
      "Downloading NorESM2-MM.r1i1p1f1.gn ...\n",
      "\n"
     ]
    },
    {
     "data": {
      "application/vnd.jupyter.widget-view+json": {
       "model_id": "08503852918441ff94f1a37470ec5509",
       "version_major": 2,
       "version_minor": 0
      },
      "text/plain": [
       "   Searching indices:   0%|          |0/9 [       ?index/s]"
      ]
     },
     "metadata": {},
     "output_type": "display_data"
    },
    {
     "name": "stderr",
     "output_type": "stream",
     "text": [
      "/home/jovyan/my-conda-envs/cmip6-download/lib/python3.13/site-packages/intake_esgf/catalog.py:450: UserWarning: SolrESGFIndex('esgf.ceda.ac.uk') failed to return a response, info may be incomplete\n",
      "  warnings.warn(\n",
      "/home/jovyan/my-conda-envs/cmip6-download/lib/python3.13/site-packages/intake_esgf/catalog.py:450: UserWarning: SolrESGFIndex('esgf-data.dkrz.de') failed to return a response, info may be incomplete\n",
      "  warnings.warn(\n",
      "/home/jovyan/my-conda-envs/cmip6-download/lib/python3.13/site-packages/intake_esgf/catalog.py:450: UserWarning: SolrESGFIndex('esgf-node.ipsl.upmc.fr') failed to return a response, info may be incomplete\n",
      "  warnings.warn(\n",
      "/home/jovyan/my-conda-envs/cmip6-download/lib/python3.13/site-packages/intake_esgf/catalog.py:450: UserWarning: SolrESGFIndex('esg-dn1.nsc.liu.se') failed to return a response, info may be incomplete\n",
      "  warnings.warn(\n",
      "/home/jovyan/my-conda-envs/cmip6-download/lib/python3.13/site-packages/intake_esgf/catalog.py:450: UserWarning: SolrESGFIndex('esgf-node.ornl.gov') failed to return a response, info may be incomplete\n",
      "  warnings.warn(\n",
      "/home/jovyan/my-conda-envs/cmip6-download/lib/python3.13/site-packages/intake_esgf/catalog.py:450: UserWarning: SolrESGFIndex('esgf-node.llnl.gov') failed to return a response, info may be incomplete\n",
      "  warnings.warn(\n",
      "/home/jovyan/my-conda-envs/cmip6-download/lib/python3.13/site-packages/intake_esgf/catalog.py:450: UserWarning: SolrESGFIndex('esgf.nci.org.au') failed to return a response, info may be incomplete\n",
      "  warnings.warn(\n"
     ]
    },
    {
     "data": {
      "application/vnd.jupyter.widget-view+json": {
       "model_id": "dd56f86957214c96a958682b55f40293",
       "version_major": 2,
       "version_minor": 0
      },
      "text/plain": [
       "clt_Amon_NorESM2-MM_piClim-control_r1...:   0%|          |0.00/19.1M [?B/s]"
      ]
     },
     "metadata": {},
     "output_type": "display_data"
    },
    {
     "data": {
      "application/vnd.jupyter.widget-view+json": {
       "model_id": "2df87aecca51440d9bc82a370a4e0a27",
       "version_major": 2,
       "version_minor": 0
      },
      "text/plain": [
       "rsds_Amon_NorESM2-MM_piClim-aer_r1i1p...:   0%|          |0.00/18.0M [?B/s]"
      ]
     },
     "metadata": {},
     "output_type": "display_data"
    },
    {
     "data": {
      "application/vnd.jupyter.widget-view+json": {
       "model_id": "199923203cf74b3293b02ed9796bbf00",
       "version_major": 2,
       "version_minor": 0
      },
      "text/plain": [
       "rsds_Amon_NorESM2-MM_piClim-aer_r1i1p...:   0%|          |0.00/18.1M [?B/s]"
      ]
     },
     "metadata": {},
     "output_type": "display_data"
    },
    {
     "data": {
      "application/vnd.jupyter.widget-view+json": {
       "model_id": "a4b9e176317d42fd91d7e20d8e40b2d0",
       "version_major": 2,
       "version_minor": 0
      },
      "text/plain": [
       "rsdt_Amon_NorESM2-MM_piClim-aer_r1i1p...:   0%|          |0.00/12.1M [?B/s]"
      ]
     },
     "metadata": {},
     "output_type": "display_data"
    },
    {
     "data": {
      "application/vnd.jupyter.widget-view+json": {
       "model_id": "e1fc8f1a58a8447bb29831600a58e7b7",
       "version_major": 2,
       "version_minor": 0
      },
      "text/plain": [
       "rsdscs_Amon_NorESM2-MM_piClim-aer_r1i...:   0%|          |0.00/15.0M [?B/s]"
      ]
     },
     "metadata": {},
     "output_type": "display_data"
    },
    {
     "data": {
      "application/vnd.jupyter.widget-view+json": {
       "model_id": "509fbf930dab4ea39ad5e7973aaf824f",
       "version_major": 2,
       "version_minor": 0
      },
      "text/plain": [
       "rsds_Amon_NorESM2-MM_piClim-control_r...:   0%|          |0.00/18.0M [?B/s]"
      ]
     },
     "metadata": {},
     "output_type": "display_data"
    },
    {
     "data": {
      "application/vnd.jupyter.widget-view+json": {
       "model_id": "0ed0901f1e2d4ca8b7dcaf11ef550ec1",
       "version_major": 2,
       "version_minor": 0
      },
      "text/plain": [
       "rsdscs_Amon_NorESM2-MM_piClim-control...:   0%|          |0.00/14.9M [?B/s]"
      ]
     },
     "metadata": {},
     "output_type": "display_data"
    },
    {
     "data": {
      "application/vnd.jupyter.widget-view+json": {
       "model_id": "c651d710c09c47b3a9d0e525ac2dd756",
       "version_major": 2,
       "version_minor": 0
      },
      "text/plain": [
       "rsdscs_Amon_NorESM2-MM_piClim-control...:   0%|          |0.00/14.9M [?B/s]"
      ]
     },
     "metadata": {},
     "output_type": "display_data"
    },
    {
     "data": {
      "application/vnd.jupyter.widget-view+json": {
       "model_id": "77032e16aa0a4b56bb04cb4c2771736c",
       "version_major": 2,
       "version_minor": 0
      },
      "text/plain": [
       "rsdt_Amon_NorESM2-MM_piClim-control_r...:   0%|          |0.00/12.1M [?B/s]"
      ]
     },
     "metadata": {},
     "output_type": "display_data"
    },
    {
     "data": {
      "application/vnd.jupyter.widget-view+json": {
       "model_id": "0cb5202eede245fdbfd687fa7bdc6e26",
       "version_major": 2,
       "version_minor": 0
      },
      "text/plain": [
       "rsutcs_Amon_NorESM2-MM_piClim-control...:   0%|          |0.00/15.7M [?B/s]"
      ]
     },
     "metadata": {},
     "output_type": "display_data"
    },
    {
     "data": {
      "application/vnd.jupyter.widget-view+json": {
       "model_id": "a9a31f31f3e04f5a831b29a0fd1e3298",
       "version_major": 2,
       "version_minor": 0
      },
      "text/plain": [
       "clt_Amon_NorESM2-MM_piClim-control_r1...:   0%|          |0.00/19.1M [?B/s]"
      ]
     },
     "metadata": {},
     "output_type": "display_data"
    },
    {
     "data": {
      "application/vnd.jupyter.widget-view+json": {
       "model_id": "e817274e318a4e8fa0d1ee2c646e4eb6",
       "version_major": 2,
       "version_minor": 0
      },
      "text/plain": [
       "rsus_Amon_NorESM2-MM_piClim-control_r...:   0%|          |0.00/17.2M [?B/s]"
      ]
     },
     "metadata": {},
     "output_type": "display_data"
    },
    {
     "data": {
      "application/vnd.jupyter.widget-view+json": {
       "model_id": "fdd4c0d69f5f4c889f87d753ca437f6e",
       "version_major": 2,
       "version_minor": 0
      },
      "text/plain": [
       "rsut_Amon_NorESM2-MM_piClim-control_r...:   0%|          |0.00/18.1M [?B/s]"
      ]
     },
     "metadata": {},
     "output_type": "display_data"
    },
    {
     "data": {
      "application/vnd.jupyter.widget-view+json": {
       "model_id": "facd456e4cec48efab7212fa2e5a012c",
       "version_major": 2,
       "version_minor": 0
      },
      "text/plain": [
       "rsdscs_Amon_NorESM2-MM_piClim-aer_r1i...:   0%|          |0.00/15.0M [?B/s]"
      ]
     },
     "metadata": {},
     "output_type": "display_data"
    },
    {
     "data": {
      "application/vnd.jupyter.widget-view+json": {
       "model_id": "5795892009394fc79742fa3d265ccc72",
       "version_major": 2,
       "version_minor": 0
      },
      "text/plain": [
       "rsuscs_Amon_NorESM2-MM_piClim-aer_r1i...:   0%|          |0.00/15.4M [?B/s]"
      ]
     },
     "metadata": {},
     "output_type": "display_data"
    },
    {
     "data": {
      "application/vnd.jupyter.widget-view+json": {
       "model_id": "8fb7bdf7672747a791f0b57db816437b",
       "version_major": 2,
       "version_minor": 0
      },
      "text/plain": [
       "rsdscs_Amon_NorESM2-MM_piClim-aer_r1i...:   0%|          |0.00/15.0M [?B/s]"
      ]
     },
     "metadata": {},
     "output_type": "display_data"
    },
    {
     "data": {
      "application/vnd.jupyter.widget-view+json": {
       "model_id": "d8e0cf6229bd45a3aaa6515f7c93b1d6",
       "version_major": 2,
       "version_minor": 0
      },
      "text/plain": [
       "rsutcs_Amon_NorESM2-MM_piClim-aer_r1i...:   0%|          |0.00/15.8M [?B/s]"
      ]
     },
     "metadata": {},
     "output_type": "display_data"
    },
    {
     "data": {
      "application/vnd.jupyter.widget-view+json": {
       "model_id": "9d1d42ede0494e47bc51d87ae3c3c4f8",
       "version_major": 2,
       "version_minor": 0
      },
      "text/plain": [
       "rsuscs_Amon_NorESM2-MM_piClim-aer_r1i...:   0%|          |0.00/15.4M [?B/s]"
      ]
     },
     "metadata": {},
     "output_type": "display_data"
    },
    {
     "data": {
      "application/vnd.jupyter.widget-view+json": {
       "model_id": "68c671cf70484e3a8eaa0690cf5cb17b",
       "version_major": 2,
       "version_minor": 0
      },
      "text/plain": [
       "rsuscs_Amon_NorESM2-MM_piClim-control...:   0%|          |0.00/15.4M [?B/s]"
      ]
     },
     "metadata": {},
     "output_type": "display_data"
    },
    {
     "data": {
      "application/vnd.jupyter.widget-view+json": {
       "model_id": "e1abbe74a9fc47e08459c28412470917",
       "version_major": 2,
       "version_minor": 0
      },
      "text/plain": [
       "rsutcs_Amon_NorESM2-MM_piClim-aer_r1i...:   0%|          |0.00/15.8M [?B/s]"
      ]
     },
     "metadata": {},
     "output_type": "display_data"
    },
    {
     "data": {
      "application/vnd.jupyter.widget-view+json": {
       "model_id": "dc2dc8cdb6b2401795bb4a2e3d5f1228",
       "version_major": 2,
       "version_minor": 0
      },
      "text/plain": [
       "rsus_Amon_NorESM2-MM_piClim-control_r...:   0%|          |0.00/17.2M [?B/s]"
      ]
     },
     "metadata": {},
     "output_type": "display_data"
    },
    {
     "data": {
      "application/vnd.jupyter.widget-view+json": {
       "model_id": "d78f8222ecbb462aa56d74b2dd651862",
       "version_major": 2,
       "version_minor": 0
      },
      "text/plain": [
       "rsut_Amon_NorESM2-MM_piClim-control_r...:   0%|          |0.00/18.1M [?B/s]"
      ]
     },
     "metadata": {},
     "output_type": "display_data"
    },
    {
     "data": {
      "application/vnd.jupyter.widget-view+json": {
       "model_id": "ded197142bb1466abd6be362879089bb",
       "version_major": 2,
       "version_minor": 0
      },
      "text/plain": [
       "clt_Amon_NorESM2-MM_piClim-aer_r1i1p1...:   0%|          |0.00/19.1M [?B/s]"
      ]
     },
     "metadata": {},
     "output_type": "display_data"
    },
    {
     "data": {
      "application/vnd.jupyter.widget-view+json": {
       "model_id": "fdee5aadf31045998babb7fb76619a8a",
       "version_major": 2,
       "version_minor": 0
      },
      "text/plain": [
       "rsdscs_Amon_NorESM2-MM_piClim-control...:   0%|          |0.00/14.9M [?B/s]"
      ]
     },
     "metadata": {},
     "output_type": "display_data"
    },
    {
     "data": {
      "application/vnd.jupyter.widget-view+json": {
       "model_id": "3134f29a30f34d24955eace1a2c587c1",
       "version_major": 2,
       "version_minor": 0
      },
      "text/plain": [
       "rsdt_Amon_NorESM2-MM_piClim-aer_r1i1p...:   0%|          |0.00/12.1M [?B/s]"
      ]
     },
     "metadata": {},
     "output_type": "display_data"
    },
    {
     "data": {
      "application/vnd.jupyter.widget-view+json": {
       "model_id": "ab7903d1f11e40d8b23a2de2d6a407ca",
       "version_major": 2,
       "version_minor": 0
      },
      "text/plain": [
       "rsds_Amon_NorESM2-MM_piClim-aer_r1i1p...:   0%|          |0.00/18.0M [?B/s]"
      ]
     },
     "metadata": {},
     "output_type": "display_data"
    },
    {
     "data": {
      "application/vnd.jupyter.widget-view+json": {
       "model_id": "a440ebc372c64f8b8a99c865f465498c",
       "version_major": 2,
       "version_minor": 0
      },
      "text/plain": [
       "rsut_Amon_NorESM2-MM_piClim-aer_r1i1p...:   0%|          |0.00/18.1M [?B/s]"
      ]
     },
     "metadata": {},
     "output_type": "display_data"
    },
    {
     "data": {
      "application/vnd.jupyter.widget-view+json": {
       "model_id": "9f6e4c101c59417587cb0d97c50f1838",
       "version_major": 2,
       "version_minor": 0
      },
      "text/plain": [
       "rsds_Amon_NorESM2-MM_piClim-control_r...:   0%|          |0.00/18.0M [?B/s]"
      ]
     },
     "metadata": {},
     "output_type": "display_data"
    },
    {
     "data": {
      "application/vnd.jupyter.widget-view+json": {
       "model_id": "80e7c9bdd0684160a06d0644df1f353f",
       "version_major": 2,
       "version_minor": 0
      },
      "text/plain": [
       "rsuscs_Amon_NorESM2-MM_piClim-aer_r1i...:   0%|          |0.00/15.4M [?B/s]"
      ]
     },
     "metadata": {},
     "output_type": "display_data"
    },
    {
     "data": {
      "application/vnd.jupyter.widget-view+json": {
       "model_id": "ee9a410dc10d4e9c89e1e59c652de810",
       "version_major": 2,
       "version_minor": 0
      },
      "text/plain": [
       "rsdt_Amon_NorESM2-MM_piClim-control_r...:   0%|          |0.00/12.1M [?B/s]"
      ]
     },
     "metadata": {},
     "output_type": "display_data"
    },
    {
     "data": {
      "application/vnd.jupyter.widget-view+json": {
       "model_id": "77cd7678b531415287a09255785d7afb",
       "version_major": 2,
       "version_minor": 0
      },
      "text/plain": [
       "clt_Amon_NorESM2-MM_piClim-control_r1...:   0%|          |0.00/19.1M [?B/s]"
      ]
     },
     "metadata": {},
     "output_type": "display_data"
    },
    {
     "data": {
      "application/vnd.jupyter.widget-view+json": {
       "model_id": "4fcbfc6812244988a4584b98910dd9c6",
       "version_major": 2,
       "version_minor": 0
      },
      "text/plain": [
       "rsutcs_Amon_NorESM2-MM_piClim-control...:   0%|          |0.00/15.7M [?B/s]"
      ]
     },
     "metadata": {},
     "output_type": "display_data"
    },
    {
     "data": {
      "application/vnd.jupyter.widget-view+json": {
       "model_id": "8e7a6706c56743049e3e8baa9c28e648",
       "version_major": 2,
       "version_minor": 0
      },
      "text/plain": [
       "rsuscs_Amon_NorESM2-MM_piClim-control...:   0%|          |0.00/15.4M [?B/s]"
      ]
     },
     "metadata": {},
     "output_type": "display_data"
    },
    {
     "data": {
      "application/vnd.jupyter.widget-view+json": {
       "model_id": "1439e80af2c44a44a1afd777a721d430",
       "version_major": 2,
       "version_minor": 0
      },
      "text/plain": [
       "rsus_Amon_NorESM2-MM_piClim-control_r...:   0%|          |0.00/17.2M [?B/s]"
      ]
     },
     "metadata": {},
     "output_type": "display_data"
    },
    {
     "data": {
      "application/vnd.jupyter.widget-view+json": {
       "model_id": "8d4519e9b18e43b0bb4d67984544e378",
       "version_major": 2,
       "version_minor": 0
      },
      "text/plain": [
       "rsds_Amon_NorESM2-MM_piClim-control_r...:   0%|          |0.00/18.0M [?B/s]"
      ]
     },
     "metadata": {},
     "output_type": "display_data"
    },
    {
     "data": {
      "application/vnd.jupyter.widget-view+json": {
       "model_id": "40026b936d124af9be3031815e995eaa",
       "version_major": 2,
       "version_minor": 0
      },
      "text/plain": [
       "rsus_Amon_NorESM2-MM_piClim-aer_r1i1p...:   0%|          |0.00/17.2M [?B/s]"
      ]
     },
     "metadata": {},
     "output_type": "display_data"
    },
    {
     "data": {
      "application/vnd.jupyter.widget-view+json": {
       "model_id": "6aaaf15f383b4668ab5746123cebee15",
       "version_major": 2,
       "version_minor": 0
      },
      "text/plain": [
       "rsut_Amon_NorESM2-MM_piClim-aer_r1i1p...:   0%|          |0.00/18.1M [?B/s]"
      ]
     },
     "metadata": {},
     "output_type": "display_data"
    },
    {
     "data": {
      "application/vnd.jupyter.widget-view+json": {
       "model_id": "5cca790e2dd44c42a6c0ebad7dcfa654",
       "version_major": 2,
       "version_minor": 0
      },
      "text/plain": [
       "rsutcs_Amon_NorESM2-MM_piClim-control...:   0%|          |0.00/15.7M [?B/s]"
      ]
     },
     "metadata": {},
     "output_type": "display_data"
    },
    {
     "data": {
      "application/vnd.jupyter.widget-view+json": {
       "model_id": "be5625daf0d840bf8f4def870b501cce",
       "version_major": 2,
       "version_minor": 0
      },
      "text/plain": [
       "rsuscs_Amon_NorESM2-MM_piClim-control...:   0%|          |0.00/15.4M [?B/s]"
      ]
     },
     "metadata": {},
     "output_type": "display_data"
    },
    {
     "data": {
      "application/vnd.jupyter.widget-view+json": {
       "model_id": "f2175eb7fc05492698945c4d2ed7b863",
       "version_major": 2,
       "version_minor": 0
      },
      "text/plain": [
       "rsus_Amon_NorESM2-MM_piClim-aer_r1i1p...:   0%|          |0.00/17.2M [?B/s]"
      ]
     },
     "metadata": {},
     "output_type": "display_data"
    },
    {
     "data": {
      "application/vnd.jupyter.widget-view+json": {
       "model_id": "a2665986b08a43e984109dd247a83c46",
       "version_major": 2,
       "version_minor": 0
      },
      "text/plain": [
       "rsdt_Amon_NorESM2-MM_piClim-aer_r1i1p...:   0%|          |0.00/12.1M [?B/s]"
      ]
     },
     "metadata": {},
     "output_type": "display_data"
    },
    {
     "data": {
      "application/vnd.jupyter.widget-view+json": {
       "model_id": "aede82a5833e417c887222598089ea52",
       "version_major": 2,
       "version_minor": 0
      },
      "text/plain": [
       "rsutcs_Amon_NorESM2-MM_piClim-aer_r1i...:   0%|          |0.00/15.8M [?B/s]"
      ]
     },
     "metadata": {},
     "output_type": "display_data"
    },
    {
     "data": {
      "application/vnd.jupyter.widget-view+json": {
       "model_id": "e9c5c2f4a9fa4af38998b80d5f94449d",
       "version_major": 2,
       "version_minor": 0
      },
      "text/plain": [
       "rsut_Amon_NorESM2-MM_piClim-control_r...:   0%|          |0.00/18.1M [?B/s]"
      ]
     },
     "metadata": {},
     "output_type": "display_data"
    },
    {
     "data": {
      "application/vnd.jupyter.widget-view+json": {
       "model_id": "6eb6cbb8eea04b71821507a245260251",
       "version_major": 2,
       "version_minor": 0
      },
      "text/plain": [
       "clt_Amon_NorESM2-MM_piClim-aer_r1i1p1...:   0%|          |0.00/19.1M [?B/s]"
      ]
     },
     "metadata": {},
     "output_type": "display_data"
    },
    {
     "data": {
      "application/vnd.jupyter.widget-view+json": {
       "model_id": "bb5edf3978d349ec94173f531fd29878",
       "version_major": 2,
       "version_minor": 0
      },
      "text/plain": [
       "rsdt_Amon_NorESM2-MM_piClim-control_r...:   0%|          |0.00/12.1M [?B/s]"
      ]
     },
     "metadata": {},
     "output_type": "display_data"
    },
    {
     "data": {
      "application/vnd.jupyter.widget-view+json": {
       "model_id": "711b1b55c0bf4cce9625c69968da312c",
       "version_major": 2,
       "version_minor": 0
      },
      "text/plain": [
       "clt_Amon_NorESM2-MM_piClim-aer_r1i1p1...:   0%|          |0.00/19.1M [?B/s]"
      ]
     },
     "metadata": {},
     "output_type": "display_data"
    },
    {
     "data": {
      "application/vnd.jupyter.widget-view+json": {
       "model_id": "d19615707a9442f892bea6e48c66e7f2",
       "version_major": 2,
       "version_minor": 0
      },
      "text/plain": [
       "rsus_Amon_NorESM2-MM_piClim-aer_r1i1p...:   0%|          |0.00/17.2M [?B/s]"
      ]
     },
     "metadata": {},
     "output_type": "display_data"
    },
    {
     "data": {
      "application/vnd.jupyter.widget-view+json": {
       "model_id": "c04a7ab6fb704d19a4246f8659870cb0",
       "version_major": 2,
       "version_minor": 0
      },
      "text/plain": [
       "rsut_Amon_NorESM2-MM_piClim-aer_r1i1p...:   0%|          |0.00/18.1M [?B/s]"
      ]
     },
     "metadata": {},
     "output_type": "display_data"
    },
    {
     "name": "stdout",
     "output_type": "stream",
     "text": [
      "\n",
      "Downloading MRI-ESM2-0.r1i1p1f1.gn ...\n",
      "\n"
     ]
    },
    {
     "data": {
      "application/vnd.jupyter.widget-view+json": {
       "model_id": "f880715a376b48f5ac9239ac70762e60",
       "version_major": 2,
       "version_minor": 0
      },
      "text/plain": [
       "   Searching indices:   0%|          |0/9 [       ?index/s]"
      ]
     },
     "metadata": {},
     "output_type": "display_data"
    },
    {
     "name": "stderr",
     "output_type": "stream",
     "text": [
      "/home/jovyan/my-conda-envs/cmip6-download/lib/python3.13/site-packages/intake_esgf/catalog.py:450: UserWarning: SolrESGFIndex('esgf-data.dkrz.de') failed to return a response, info may be incomplete\n",
      "  warnings.warn(\n",
      "/home/jovyan/my-conda-envs/cmip6-download/lib/python3.13/site-packages/intake_esgf/catalog.py:450: UserWarning: SolrESGFIndex('esgf.ceda.ac.uk') failed to return a response, info may be incomplete\n",
      "  warnings.warn(\n",
      "/home/jovyan/my-conda-envs/cmip6-download/lib/python3.13/site-packages/intake_esgf/catalog.py:450: UserWarning: SolrESGFIndex('esgf-node.ipsl.upmc.fr') failed to return a response, info may be incomplete\n",
      "  warnings.warn(\n",
      "/home/jovyan/my-conda-envs/cmip6-download/lib/python3.13/site-packages/intake_esgf/catalog.py:450: UserWarning: SolrESGFIndex('esg-dn1.nsc.liu.se') failed to return a response, info may be incomplete\n",
      "  warnings.warn(\n",
      "/home/jovyan/my-conda-envs/cmip6-download/lib/python3.13/site-packages/intake_esgf/catalog.py:450: UserWarning: SolrESGFIndex('esgf-node.ornl.gov') failed to return a response, info may be incomplete\n",
      "  warnings.warn(\n",
      "/home/jovyan/my-conda-envs/cmip6-download/lib/python3.13/site-packages/intake_esgf/catalog.py:450: UserWarning: SolrESGFIndex('esgf-node.llnl.gov') failed to return a response, info may be incomplete\n",
      "  warnings.warn(\n",
      "/home/jovyan/my-conda-envs/cmip6-download/lib/python3.13/site-packages/intake_esgf/catalog.py:450: UserWarning: SolrESGFIndex('esgf.nci.org.au') failed to return a response, info may be incomplete\n",
      "  warnings.warn(\n"
     ]
    },
    {
     "data": {
      "application/vnd.jupyter.widget-view+json": {
       "model_id": "aa5a6ad134934f5d9e924498310c7c70",
       "version_major": 2,
       "version_minor": 0
      },
      "text/plain": [
       "rsuscs_Amon_MRI-ESM2-0_piClim-aer_r1i...:   0%|          |0.00/47.3M [?B/s]"
      ]
     },
     "metadata": {},
     "output_type": "display_data"
    },
    {
     "data": {
      "application/vnd.jupyter.widget-view+json": {
       "model_id": "f21c9582c7884b2e867b3cd950c3a885",
       "version_major": 2,
       "version_minor": 0
      },
      "text/plain": [
       "rsuscs_Amon_MRI-ESM2-0_piClim-control...:   0%|          |0.00/47.2M [?B/s]"
      ]
     },
     "metadata": {},
     "output_type": "display_data"
    },
    {
     "data": {
      "application/vnd.jupyter.widget-view+json": {
       "model_id": "7eec558fce524150a28218c7a27be4c3",
       "version_major": 2,
       "version_minor": 0
      },
      "text/plain": [
       "rsutcs_Amon_MRI-ESM2-0_piClim-aer_r1i...:   0%|          |0.00/46.0M [?B/s]"
      ]
     },
     "metadata": {},
     "output_type": "display_data"
    },
    {
     "data": {
      "application/vnd.jupyter.widget-view+json": {
       "model_id": "c9d1d77931564b8dbef4a77e838978ee",
       "version_major": 2,
       "version_minor": 0
      },
      "text/plain": [
       "rsdt_Amon_MRI-ESM2-0_piClim-control_r...:   0%|          |0.00/8.73M [?B/s]"
      ]
     },
     "metadata": {},
     "output_type": "display_data"
    },
    {
     "data": {
      "application/vnd.jupyter.widget-view+json": {
       "model_id": "7f42fea1c8f44513a3c25c6ae31c3fb5",
       "version_major": 2,
       "version_minor": 0
      },
      "text/plain": [
       "rsds_Amon_MRI-ESM2-0_piClim-control_r...:   0%|          |0.00/1.69M [?B/s]"
      ]
     },
     "metadata": {},
     "output_type": "display_data"
    },
    {
     "data": {
      "application/vnd.jupyter.widget-view+json": {
       "model_id": "190ae3b5495c4460822cbca88e9f2c66",
       "version_major": 2,
       "version_minor": 0
      },
      "text/plain": [
       "rsds_Amon_MRI-ESM2-0_piClim-aer_r1i1p...:   0%|          |0.00/1.69M [?B/s]"
      ]
     },
     "metadata": {},
     "output_type": "display_data"
    },
    {
     "data": {
      "application/vnd.jupyter.widget-view+json": {
       "model_id": "21903a39322548728f3a5cceeb78b399",
       "version_major": 2,
       "version_minor": 0
      },
      "text/plain": [
       "rsdt_Amon_MRI-ESM2-0_piClim-aer_r1i1p...:   0%|          |0.00/347k [?B/s]"
      ]
     },
     "metadata": {},
     "output_type": "display_data"
    },
    {
     "data": {
      "application/vnd.jupyter.widget-view+json": {
       "model_id": "82617ae7b0b549fb8a3aad9989789401",
       "version_major": 2,
       "version_minor": 0
      },
      "text/plain": [
       "rsus_Amon_MRI-ESM2-0_piClim-aer_r1i1p...:   0%|          |0.00/51.2M [?B/s]"
      ]
     },
     "metadata": {},
     "output_type": "display_data"
    },
    {
     "data": {
      "application/vnd.jupyter.widget-view+json": {
       "model_id": "5109bd8993164fb290091a6483351f90",
       "version_major": 2,
       "version_minor": 0
      },
      "text/plain": [
       "rsus_Amon_MRI-ESM2-0_piClim-aer_r1i1p...:   0%|          |0.00/1.76M [?B/s]"
      ]
     },
     "metadata": {},
     "output_type": "display_data"
    },
    {
     "data": {
      "application/vnd.jupyter.widget-view+json": {
       "model_id": "75b3971dc9c44c0cbf87a6f9c62a7c1c",
       "version_major": 2,
       "version_minor": 0
      },
      "text/plain": [
       "rsuscs_Amon_MRI-ESM2-0_piClim-aer_r1i...:   0%|          |0.00/1.63M [?B/s]"
      ]
     },
     "metadata": {},
     "output_type": "display_data"
    },
    {
     "data": {
      "application/vnd.jupyter.widget-view+json": {
       "model_id": "77207c34d1b5446ab27af70dffdeee6d",
       "version_major": 2,
       "version_minor": 0
      },
      "text/plain": [
       "rsdt_Amon_MRI-ESM2-0_piClim-control_r...:   0%|          |0.00/347k [?B/s]"
      ]
     },
     "metadata": {},
     "output_type": "display_data"
    },
    {
     "data": {
      "application/vnd.jupyter.widget-view+json": {
       "model_id": "7d6e76e9222243ea840cdbe4809b3095",
       "version_major": 2,
       "version_minor": 0
      },
      "text/plain": [
       "rsus_Amon_MRI-ESM2-0_piClim-control_r...:   0%|          |0.00/51.1M [?B/s]"
      ]
     },
     "metadata": {},
     "output_type": "display_data"
    },
    {
     "data": {
      "application/vnd.jupyter.widget-view+json": {
       "model_id": "36590fab2c054540ac2dc4462b9bf255",
       "version_major": 2,
       "version_minor": 0
      },
      "text/plain": [
       "rsut_Amon_MRI-ESM2-0_piClim-control_r...:   0%|          |0.00/50.4M [?B/s]"
      ]
     },
     "metadata": {},
     "output_type": "display_data"
    },
    {
     "data": {
      "application/vnd.jupyter.widget-view+json": {
       "model_id": "3db9a3bdd0804dcd9a422ea5b7043b39",
       "version_major": 2,
       "version_minor": 0
      },
      "text/plain": [
       "rsdt_Amon_MRI-ESM2-0_piClim-aer_r1i1p...:   0%|          |0.00/8.73M [?B/s]"
      ]
     },
     "metadata": {},
     "output_type": "display_data"
    },
    {
     "data": {
      "application/vnd.jupyter.widget-view+json": {
       "model_id": "5d159be372eb4c078da3043841fcd934",
       "version_major": 2,
       "version_minor": 0
      },
      "text/plain": [
       "clt_Amon_MRI-ESM2-0_piClim-control_r1...:   0%|          |0.00/1.84M [?B/s]"
      ]
     },
     "metadata": {},
     "output_type": "display_data"
    },
    {
     "data": {
      "application/vnd.jupyter.widget-view+json": {
       "model_id": "11b55e4ac4fe41e39b72714d5bc37f9a",
       "version_major": 2,
       "version_minor": 0
      },
      "text/plain": [
       "rsuscs_Amon_MRI-ESM2-0_piClim-control...:   0%|          |0.00/1.63M [?B/s]"
      ]
     },
     "metadata": {},
     "output_type": "display_data"
    },
    {
     "data": {
      "application/vnd.jupyter.widget-view+json": {
       "model_id": "778e34c1657145dc90038897f29d8a8f",
       "version_major": 2,
       "version_minor": 0
      },
      "text/plain": [
       "rsutcs_Amon_MRI-ESM2-0_piClim-control...:   0%|          |0.00/1.58M [?B/s]"
      ]
     },
     "metadata": {},
     "output_type": "display_data"
    },
    {
     "data": {
      "application/vnd.jupyter.widget-view+json": {
       "model_id": "1b2ed1639d564c07a953ec747a6d5754",
       "version_major": 2,
       "version_minor": 0
      },
      "text/plain": [
       "rsds_Amon_MRI-ESM2-0_piClim-control_r...:   0%|          |0.00/48.9M [?B/s]"
      ]
     },
     "metadata": {},
     "output_type": "display_data"
    },
    {
     "data": {
      "application/vnd.jupyter.widget-view+json": {
       "model_id": "5c25038e54894979a61eb59122bee79e",
       "version_major": 2,
       "version_minor": 0
      },
      "text/plain": [
       "rsdscs_Amon_MRI-ESM2-0_piClim-control...:   0%|          |0.00/42.0M [?B/s]"
      ]
     },
     "metadata": {},
     "output_type": "display_data"
    },
    {
     "data": {
      "application/vnd.jupyter.widget-view+json": {
       "model_id": "83b7f1b59b564a5d9139f03a17002130",
       "version_major": 2,
       "version_minor": 0
      },
      "text/plain": [
       "rsdscs_Amon_MRI-ESM2-0_piClim-control...:   0%|          |0.00/1.46M [?B/s]"
      ]
     },
     "metadata": {},
     "output_type": "display_data"
    },
    {
     "data": {
      "application/vnd.jupyter.widget-view+json": {
       "model_id": "5e0ec47e35c842a3a9bf2638f5966c04",
       "version_major": 2,
       "version_minor": 0
      },
      "text/plain": [
       "rsus_Amon_MRI-ESM2-0_piClim-control_r...:   0%|          |0.00/1.76M [?B/s]"
      ]
     },
     "metadata": {},
     "output_type": "display_data"
    },
    {
     "data": {
      "application/vnd.jupyter.widget-view+json": {
       "model_id": "7ca5c1bb72764b1bb8ca03d5aade5827",
       "version_major": 2,
       "version_minor": 0
      },
      "text/plain": [
       "clt_Amon_MRI-ESM2-0_piClim-aer_r1i1p1...:   0%|          |0.00/1.84M [?B/s]"
      ]
     },
     "metadata": {},
     "output_type": "display_data"
    },
    {
     "data": {
      "application/vnd.jupyter.widget-view+json": {
       "model_id": "9d3b00c2cb084699959a955ecfadc42e",
       "version_major": 2,
       "version_minor": 0
      },
      "text/plain": [
       "rsutcs_Amon_MRI-ESM2-0_piClim-aer_r1i...:   0%|          |0.00/1.59M [?B/s]"
      ]
     },
     "metadata": {},
     "output_type": "display_data"
    },
    {
     "data": {
      "application/vnd.jupyter.widget-view+json": {
       "model_id": "60222b7fd7804df7affbbe7a2b9a1d33",
       "version_major": 2,
       "version_minor": 0
      },
      "text/plain": [
       "clt_Amon_MRI-ESM2-0_piClim-aer_r1i1p1...:   0%|          |0.00/53.4M [?B/s]"
      ]
     },
     "metadata": {},
     "output_type": "display_data"
    },
    {
     "data": {
      "application/vnd.jupyter.widget-view+json": {
       "model_id": "c0a084892f31485caed38b169f7c6770",
       "version_major": 2,
       "version_minor": 0
      },
      "text/plain": [
       "rsds_Amon_MRI-ESM2-0_piClim-aer_r1i1p...:   0%|          |0.00/49.1M [?B/s]"
      ]
     },
     "metadata": {},
     "output_type": "display_data"
    },
    {
     "data": {
      "application/vnd.jupyter.widget-view+json": {
       "model_id": "d775a4c572494f0d992a5c37d4757af6",
       "version_major": 2,
       "version_minor": 0
      },
      "text/plain": [
       "rsdscs_Amon_MRI-ESM2-0_piClim-aer_r1i...:   0%|          |0.00/42.3M [?B/s]"
      ]
     },
     "metadata": {},
     "output_type": "display_data"
    },
    {
     "data": {
      "application/vnd.jupyter.widget-view+json": {
       "model_id": "a5ec4fbb9ecb400cb9d29499141dbdf3",
       "version_major": 2,
       "version_minor": 0
      },
      "text/plain": [
       "rsdscs_Amon_MRI-ESM2-0_piClim-aer_r1i...:   0%|          |0.00/1.47M [?B/s]"
      ]
     },
     "metadata": {},
     "output_type": "display_data"
    },
    {
     "data": {
      "application/vnd.jupyter.widget-view+json": {
       "model_id": "ce0dbbf225ec4498aa77972a41a9fa24",
       "version_major": 2,
       "version_minor": 0
      },
      "text/plain": [
       "rsut_Amon_MRI-ESM2-0_piClim-aer_r1i1p...:   0%|          |0.00/1.74M [?B/s]"
      ]
     },
     "metadata": {},
     "output_type": "display_data"
    },
    {
     "data": {
      "application/vnd.jupyter.widget-view+json": {
       "model_id": "726eed3b85c441c7b95c9e9ad74db54a",
       "version_major": 2,
       "version_minor": 0
      },
      "text/plain": [
       "rsut_Amon_MRI-ESM2-0_piClim-control_r...:   0%|          |0.00/1.74M [?B/s]"
      ]
     },
     "metadata": {},
     "output_type": "display_data"
    },
    {
     "data": {
      "application/vnd.jupyter.widget-view+json": {
       "model_id": "102912801a504e5399633e00a9beac93",
       "version_major": 2,
       "version_minor": 0
      },
      "text/plain": [
       "rsutcs_Amon_MRI-ESM2-0_piClim-control...:   0%|          |0.00/45.8M [?B/s]"
      ]
     },
     "metadata": {},
     "output_type": "display_data"
    },
    {
     "data": {
      "application/vnd.jupyter.widget-view+json": {
       "model_id": "d13d1ea30c744b968999672abf0f48a0",
       "version_major": 2,
       "version_minor": 0
      },
      "text/plain": [
       "clt_Amon_MRI-ESM2-0_piClim-control_r1...:   0%|          |0.00/53.5M [?B/s]"
      ]
     },
     "metadata": {},
     "output_type": "display_data"
    },
    {
     "data": {
      "application/vnd.jupyter.widget-view+json": {
       "model_id": "6ac7f6c5ffc34d78832d3b89b176effa",
       "version_major": 2,
       "version_minor": 0
      },
      "text/plain": [
       "rsut_Amon_MRI-ESM2-0_piClim-aer_r1i1p...:   0%|          |0.00/50.4M [?B/s]"
      ]
     },
     "metadata": {},
     "output_type": "display_data"
    },
    {
     "name": "stdout",
     "output_type": "stream",
     "text": [
      "\n",
      "Downloading ACCESS-ESM1-5.r1i1p1f1.gn ...\n",
      "\n"
     ]
    },
    {
     "data": {
      "application/vnd.jupyter.widget-view+json": {
       "model_id": "9274dbe514d44f83912a9cefd561da0a",
       "version_major": 2,
       "version_minor": 0
      },
      "text/plain": [
       "   Searching indices:   0%|          |0/9 [       ?index/s]"
      ]
     },
     "metadata": {},
     "output_type": "display_data"
    },
    {
     "name": "stderr",
     "output_type": "stream",
     "text": [
      "/home/jovyan/my-conda-envs/cmip6-download/lib/python3.13/site-packages/intake_esgf/catalog.py:450: UserWarning: SolrESGFIndex('esgf-node.ipsl.upmc.fr') failed to return a response, info may be incomplete\n",
      "  warnings.warn(\n",
      "/home/jovyan/my-conda-envs/cmip6-download/lib/python3.13/site-packages/intake_esgf/catalog.py:450: UserWarning: SolrESGFIndex('esgf.ceda.ac.uk') failed to return a response, info may be incomplete\n",
      "  warnings.warn(\n",
      "/home/jovyan/my-conda-envs/cmip6-download/lib/python3.13/site-packages/intake_esgf/catalog.py:450: UserWarning: SolrESGFIndex('esgf-data.dkrz.de') failed to return a response, info may be incomplete\n",
      "  warnings.warn(\n",
      "/home/jovyan/my-conda-envs/cmip6-download/lib/python3.13/site-packages/intake_esgf/catalog.py:450: UserWarning: SolrESGFIndex('esg-dn1.nsc.liu.se') failed to return a response, info may be incomplete\n",
      "  warnings.warn(\n",
      "/home/jovyan/my-conda-envs/cmip6-download/lib/python3.13/site-packages/intake_esgf/catalog.py:450: UserWarning: SolrESGFIndex('esgf-node.ornl.gov') failed to return a response, info may be incomplete\n",
      "  warnings.warn(\n",
      "/home/jovyan/my-conda-envs/cmip6-download/lib/python3.13/site-packages/intake_esgf/catalog.py:450: UserWarning: SolrESGFIndex('esgf-node.llnl.gov') failed to return a response, info may be incomplete\n",
      "  warnings.warn(\n",
      "/home/jovyan/my-conda-envs/cmip6-download/lib/python3.13/site-packages/intake_esgf/catalog.py:450: UserWarning: SolrESGFIndex('esgf.nci.org.au') failed to return a response, info may be incomplete\n",
      "  warnings.warn(\n"
     ]
    },
    {
     "data": {
      "application/vnd.jupyter.widget-view+json": {
       "model_id": "f3e189f266bc4e9b95af27fa09c732e1",
       "version_major": 2,
       "version_minor": 0
      },
      "text/plain": [
       "rsus_Amon_ACCESS-ESM1-5_piClim-contro...:   0%|          |0.00/31.4M [?B/s]"
      ]
     },
     "metadata": {},
     "output_type": "display_data"
    },
    {
     "data": {
      "application/vnd.jupyter.widget-view+json": {
       "model_id": "2d5f9960409d45c0a5301965a0b5e828",
       "version_major": 2,
       "version_minor": 0
      },
      "text/plain": [
       "rsdscs_Amon_ACCESS-ESM1-5_piClim-aer_...:   0%|          |0.00/31.3M [?B/s]"
      ]
     },
     "metadata": {},
     "output_type": "display_data"
    },
    {
     "data": {
      "application/vnd.jupyter.widget-view+json": {
       "model_id": "ec713efd65ab4756ab7c27c4c91aaf43",
       "version_major": 2,
       "version_minor": 0
      },
      "text/plain": [
       "rsds_Amon_ACCESS-ESM1-5_piClim-contro...:   0%|          |0.00/32.4M [?B/s]"
      ]
     },
     "metadata": {},
     "output_type": "display_data"
    },
    {
     "data": {
      "application/vnd.jupyter.widget-view+json": {
       "model_id": "9c0d67c6beca4cd7924f835a163f26b8",
       "version_major": 2,
       "version_minor": 0
      },
      "text/plain": [
       "rsutcs_Amon_ACCESS-ESM1-5_piClim-aer_...:   0%|          |0.00/31.9M [?B/s]"
      ]
     },
     "metadata": {},
     "output_type": "display_data"
    },
    {
     "data": {
      "application/vnd.jupyter.widget-view+json": {
       "model_id": "672f822fd5ca42689dfdd48e219f5cfc",
       "version_major": 2,
       "version_minor": 0
      },
      "text/plain": [
       "rsds_Amon_ACCESS-ESM1-5_piClim-aer_r1...:   0%|          |0.00/32.4M [?B/s]"
      ]
     },
     "metadata": {},
     "output_type": "display_data"
    },
    {
     "data": {
      "application/vnd.jupyter.widget-view+json": {
       "model_id": "83bfa8f731704ae79d28d5397df000f4",
       "version_major": 2,
       "version_minor": 0
      },
      "text/plain": [
       "rsdt_Amon_ACCESS-ESM1-5_piClim-contro...:   0%|          |0.00/549k [?B/s]"
      ]
     },
     "metadata": {},
     "output_type": "display_data"
    },
    {
     "data": {
      "application/vnd.jupyter.widget-view+json": {
       "model_id": "47c57e0eb1aa4b97a559628bc1ecaf73",
       "version_major": 2,
       "version_minor": 0
      },
      "text/plain": [
       "rsdscs_Amon_ACCESS-ESM1-5_piClim-cont...:   0%|          |0.00/31.3M [?B/s]"
      ]
     },
     "metadata": {},
     "output_type": "display_data"
    },
    {
     "data": {
      "application/vnd.jupyter.widget-view+json": {
       "model_id": "6d9dc18fa80d44d784f09134a634df06",
       "version_major": 2,
       "version_minor": 0
      },
      "text/plain": [
       "rsutcs_Amon_ACCESS-ESM1-5_piClim-cont...:   0%|          |0.00/31.9M [?B/s]"
      ]
     },
     "metadata": {},
     "output_type": "display_data"
    },
    {
     "data": {
      "application/vnd.jupyter.widget-view+json": {
       "model_id": "832997a71b0d4766ac2a063894716a0e",
       "version_major": 2,
       "version_minor": 0
      },
      "text/plain": [
       "rsut_Amon_ACCESS-ESM1-5_piClim-aer_r1...:   0%|          |0.00/32.5M [?B/s]"
      ]
     },
     "metadata": {},
     "output_type": "display_data"
    },
    {
     "data": {
      "application/vnd.jupyter.widget-view+json": {
       "model_id": "fb7350e6f2e24ef587c4bd726e4a3da0",
       "version_major": 2,
       "version_minor": 0
      },
      "text/plain": [
       "rsuscs_Amon_ACCESS-ESM1-5_piClim-aer_...:   0%|          |0.00/32.4M [?B/s]"
      ]
     },
     "metadata": {},
     "output_type": "display_data"
    },
    {
     "data": {
      "application/vnd.jupyter.widget-view+json": {
       "model_id": "87f8e179bf0d45759609b1f8233ff8b2",
       "version_major": 2,
       "version_minor": 0
      },
      "text/plain": [
       "rsuscs_Amon_ACCESS-ESM1-5_piClim-cont...:   0%|          |0.00/32.4M [?B/s]"
      ]
     },
     "metadata": {},
     "output_type": "display_data"
    },
    {
     "data": {
      "application/vnd.jupyter.widget-view+json": {
       "model_id": "2f655d579bcc439bafb15e076d58dbf5",
       "version_major": 2,
       "version_minor": 0
      },
      "text/plain": [
       "clt_Amon_ACCESS-ESM1-5_piClim-control...:   0%|          |0.00/34.1M [?B/s]"
      ]
     },
     "metadata": {},
     "output_type": "display_data"
    },
    {
     "data": {
      "application/vnd.jupyter.widget-view+json": {
       "model_id": "72684ad5199d4f14905fb6c4b96848d9",
       "version_major": 2,
       "version_minor": 0
      },
      "text/plain": [
       "rsut_Amon_ACCESS-ESM1-5_piClim-contro...:   0%|          |0.00/32.5M [?B/s]"
      ]
     },
     "metadata": {},
     "output_type": "display_data"
    },
    {
     "data": {
      "application/vnd.jupyter.widget-view+json": {
       "model_id": "6ee1e8308ce84614bd1ba6f77ea93055",
       "version_major": 2,
       "version_minor": 0
      },
      "text/plain": [
       "rsdt_Amon_ACCESS-ESM1-5_piClim-aer_r1...:   0%|          |0.00/549k [?B/s]"
      ]
     },
     "metadata": {},
     "output_type": "display_data"
    },
    {
     "data": {
      "application/vnd.jupyter.widget-view+json": {
       "model_id": "ed345d41d8d14e0cad39fbe55703d4be",
       "version_major": 2,
       "version_minor": 0
      },
      "text/plain": [
       "rsus_Amon_ACCESS-ESM1-5_piClim-aer_r1...:   0%|          |0.00/31.4M [?B/s]"
      ]
     },
     "metadata": {},
     "output_type": "display_data"
    },
    {
     "data": {
      "application/vnd.jupyter.widget-view+json": {
       "model_id": "45cbfd36c4454108b814b8ba95fe1ac1",
       "version_major": 2,
       "version_minor": 0
      },
      "text/plain": [
       "clt_Amon_ACCESS-ESM1-5_piClim-aer_r1i...:   0%|          |0.00/34.1M [?B/s]"
      ]
     },
     "metadata": {},
     "output_type": "display_data"
    },
    {
     "name": "stdout",
     "output_type": "stream",
     "text": [
      "\n",
      "Downloading CESM2.r1i1p1f1.gn ...\n",
      "\n"
     ]
    },
    {
     "data": {
      "application/vnd.jupyter.widget-view+json": {
       "model_id": "997ef34ce1b543a6b57f2eef8ea8f2a8",
       "version_major": 2,
       "version_minor": 0
      },
      "text/plain": [
       "   Searching indices:   0%|          |0/9 [       ?index/s]"
      ]
     },
     "metadata": {},
     "output_type": "display_data"
    },
    {
     "name": "stderr",
     "output_type": "stream",
     "text": [
      "/home/jovyan/my-conda-envs/cmip6-download/lib/python3.13/site-packages/intake_esgf/catalog.py:450: UserWarning: SolrESGFIndex('esgf.ceda.ac.uk') failed to return a response, info may be incomplete\n",
      "  warnings.warn(\n",
      "/home/jovyan/my-conda-envs/cmip6-download/lib/python3.13/site-packages/intake_esgf/catalog.py:450: UserWarning: SolrESGFIndex('esgf-node.ipsl.upmc.fr') failed to return a response, info may be incomplete\n",
      "  warnings.warn(\n",
      "/home/jovyan/my-conda-envs/cmip6-download/lib/python3.13/site-packages/intake_esgf/catalog.py:450: UserWarning: SolrESGFIndex('esgf-data.dkrz.de') failed to return a response, info may be incomplete\n",
      "  warnings.warn(\n",
      "/home/jovyan/my-conda-envs/cmip6-download/lib/python3.13/site-packages/intake_esgf/catalog.py:450: UserWarning: SolrESGFIndex('esg-dn1.nsc.liu.se') failed to return a response, info may be incomplete\n",
      "  warnings.warn(\n",
      "/home/jovyan/my-conda-envs/cmip6-download/lib/python3.13/site-packages/intake_esgf/catalog.py:450: UserWarning: SolrESGFIndex('esgf-node.ornl.gov') failed to return a response, info may be incomplete\n",
      "  warnings.warn(\n",
      "/home/jovyan/my-conda-envs/cmip6-download/lib/python3.13/site-packages/intake_esgf/catalog.py:450: UserWarning: SolrESGFIndex('esgf-node.llnl.gov') failed to return a response, info may be incomplete\n",
      "  warnings.warn(\n",
      "/home/jovyan/my-conda-envs/cmip6-download/lib/python3.13/site-packages/intake_esgf/catalog.py:450: UserWarning: SolrESGFIndex('esgf.nci.org.au') failed to return a response, info may be incomplete\n",
      "  warnings.warn(\n"
     ]
    },
    {
     "data": {
      "application/vnd.jupyter.widget-view+json": {
       "model_id": "5b89474adce14f02b5ce2d663416e0e6",
       "version_major": 2,
       "version_minor": 0
      },
      "text/plain": [
       "rsus_Amon_CESM2_piClim-aer_r1i1p1f1_g...:   0%|          |0.00/51.7M [?B/s]"
      ]
     },
     "metadata": {},
     "output_type": "display_data"
    },
    {
     "data": {
      "application/vnd.jupyter.widget-view+json": {
       "model_id": "4ef1477a875b4acda64134ca1cafe802",
       "version_major": 2,
       "version_minor": 0
      },
      "text/plain": [
       "rsutcs_Amon_CESM2_piClim-control_r1i1...:   0%|          |0.00/47.1M [?B/s]"
      ]
     },
     "metadata": {},
     "output_type": "display_data"
    },
    {
     "data": {
      "application/vnd.jupyter.widget-view+json": {
       "model_id": "8aa7eedf7c344005a6928c9681cbe0e0",
       "version_major": 2,
       "version_minor": 0
      },
      "text/plain": [
       "clt_Amon_CESM2_piClim-aer_r1i1p1f1_gn...:   0%|          |0.00/55.7M [?B/s]"
      ]
     },
     "metadata": {},
     "output_type": "display_data"
    },
    {
     "data": {
      "application/vnd.jupyter.widget-view+json": {
       "model_id": "80fb4dd458aa4af48f96e0fed4d4b8fb",
       "version_major": 2,
       "version_minor": 0
      },
      "text/plain": [
       "rsus_Amon_CESM2_piClim-control_r1i1p1...:   0%|          |0.00/51.6M [?B/s]"
      ]
     },
     "metadata": {},
     "output_type": "display_data"
    },
    {
     "data": {
      "application/vnd.jupyter.widget-view+json": {
       "model_id": "568f5ab440674413bf8be08df0ba9b86",
       "version_major": 2,
       "version_minor": 0
      },
      "text/plain": [
       "clt_Amon_CESM2_piClim-control_r1i1p1f...:   0%|          |0.00/55.8M [?B/s]"
      ]
     },
     "metadata": {},
     "output_type": "display_data"
    },
    {
     "data": {
      "application/vnd.jupyter.widget-view+json": {
       "model_id": "3156a925bd494f6a91424e61cd98f704",
       "version_major": 2,
       "version_minor": 0
      },
      "text/plain": [
       "rsuscs_Amon_CESM2_piClim-control_r1i1...:   0%|          |0.00/46.7M [?B/s]"
      ]
     },
     "metadata": {},
     "output_type": "display_data"
    },
    {
     "data": {
      "application/vnd.jupyter.widget-view+json": {
       "model_id": "cd96ea15e997469ab8124947d93bffb6",
       "version_major": 2,
       "version_minor": 0
      },
      "text/plain": [
       "rsut_Amon_CESM2_piClim-aer_r1i1p1f1_g...:   0%|          |0.00/54.2M [?B/s]"
      ]
     },
     "metadata": {},
     "output_type": "display_data"
    },
    {
     "data": {
      "application/vnd.jupyter.widget-view+json": {
       "model_id": "b2b76f58b7c348f1bf2988e105ee6b92",
       "version_major": 2,
       "version_minor": 0
      },
      "text/plain": [
       "rsdscs_Amon_CESM2_piClim-aer_r1i1p1f1...:   0%|          |0.00/45.1M [?B/s]"
      ]
     },
     "metadata": {},
     "output_type": "display_data"
    },
    {
     "data": {
      "application/vnd.jupyter.widget-view+json": {
       "model_id": "9b7b97142710402b8edcebbaaad8066c",
       "version_major": 2,
       "version_minor": 0
      },
      "text/plain": [
       "rsds_Amon_CESM2_piClim-control_r1i1p1...:   0%|          |0.00/53.5M [?B/s]"
      ]
     },
     "metadata": {},
     "output_type": "display_data"
    },
    {
     "data": {
      "application/vnd.jupyter.widget-view+json": {
       "model_id": "0fc28479ec6849f4b9e4aed5dc5283c5",
       "version_major": 2,
       "version_minor": 0
      },
      "text/plain": [
       "rsuscs_Amon_CESM2_piClim-aer_r1i1p1f1...:   0%|          |0.00/46.8M [?B/s]"
      ]
     },
     "metadata": {},
     "output_type": "display_data"
    },
    {
     "data": {
      "application/vnd.jupyter.widget-view+json": {
       "model_id": "689517e28dd146d0a10002d813fd59ad",
       "version_major": 2,
       "version_minor": 0
      },
      "text/plain": [
       "rsdt_Amon_CESM2_piClim-aer_r1i1p1f1_g...:   0%|          |0.00/36.7M [?B/s]"
      ]
     },
     "metadata": {},
     "output_type": "display_data"
    },
    {
     "data": {
      "application/vnd.jupyter.widget-view+json": {
       "model_id": "a82f4660ec93471798b13116a93edc4e",
       "version_major": 2,
       "version_minor": 0
      },
      "text/plain": [
       "rsutcs_Amon_CESM2_piClim-aer_r1i1p1f1...:   0%|          |0.00/47.1M [?B/s]"
      ]
     },
     "metadata": {},
     "output_type": "display_data"
    },
    {
     "data": {
      "application/vnd.jupyter.widget-view+json": {
       "model_id": "fc051c8a725d46f3a532a824575c97fe",
       "version_major": 2,
       "version_minor": 0
      },
      "text/plain": [
       "rsut_Amon_CESM2_piClim-control_r1i1p1...:   0%|          |0.00/54.2M [?B/s]"
      ]
     },
     "metadata": {},
     "output_type": "display_data"
    },
    {
     "data": {
      "application/vnd.jupyter.widget-view+json": {
       "model_id": "1b17a48e336540c081825af7c15aa18e",
       "version_major": 2,
       "version_minor": 0
      },
      "text/plain": [
       "rsdscs_Amon_CESM2_piClim-control_r1i1...:   0%|          |0.00/44.9M [?B/s]"
      ]
     },
     "metadata": {},
     "output_type": "display_data"
    },
    {
     "data": {
      "application/vnd.jupyter.widget-view+json": {
       "model_id": "039e42ef3dd34d1e83261d07745953b3",
       "version_major": 2,
       "version_minor": 0
      },
      "text/plain": [
       "rsds_Amon_CESM2_piClim-aer_r1i1p1f1_g...:   0%|          |0.00/53.7M [?B/s]"
      ]
     },
     "metadata": {},
     "output_type": "display_data"
    },
    {
     "data": {
      "application/vnd.jupyter.widget-view+json": {
       "model_id": "e5c8e92842754c448090f252a4e6f89b",
       "version_major": 2,
       "version_minor": 0
      },
      "text/plain": [
       "rsdt_Amon_CESM2_piClim-control_r1i1p1...:   0%|          |0.00/36.7M [?B/s]"
      ]
     },
     "metadata": {},
     "output_type": "display_data"
    },
    {
     "name": "stdout",
     "output_type": "stream",
     "text": [
      "\n",
      "Downloading HadGEM3-GC31-LL.r1i1p1f3.gn ...\n",
      "\n"
     ]
    },
    {
     "data": {
      "application/vnd.jupyter.widget-view+json": {
       "model_id": "a6e2b8db7dd0454ca8442a736e827bc5",
       "version_major": 2,
       "version_minor": 0
      },
      "text/plain": [
       "   Searching indices:   0%|          |0/9 [       ?index/s]"
      ]
     },
     "metadata": {},
     "output_type": "display_data"
    },
    {
     "data": {
      "application/vnd.jupyter.widget-view+json": {
       "model_id": "84d92e1fd7f04b21b1ffd72438a7e618",
       "version_major": 2,
       "version_minor": 0
      },
      "text/plain": [
       "rsus_Amon_HadGEM3-GC31-LL_piClim-cont...:   0%|          |0.00/26.7M [?B/s]"
      ]
     },
     "metadata": {},
     "output_type": "display_data"
    },
    {
     "data": {
      "application/vnd.jupyter.widget-view+json": {
       "model_id": "94f74165f50c4074b7603f3431d2ffb9",
       "version_major": 2,
       "version_minor": 0
      },
      "text/plain": [
       "clt_Amon_HadGEM3-GC31-LL_piClim-contr...:   0%|          |0.00/23.8M [?B/s]"
      ]
     },
     "metadata": {},
     "output_type": "display_data"
    },
    {
     "data": {
      "application/vnd.jupyter.widget-view+json": {
       "model_id": "7f3812131f57426585edea437a999ba9",
       "version_major": 2,
       "version_minor": 0
      },
      "text/plain": [
       "rsds_Amon_HadGEM3-GC31-LL_piClim-cont...:   0%|          |0.00/27.5M [?B/s]"
      ]
     },
     "metadata": {},
     "output_type": "display_data"
    },
    {
     "data": {
      "application/vnd.jupyter.widget-view+json": {
       "model_id": "e029fa6997cf4ebd96740029f3ae52b0",
       "version_major": 2,
       "version_minor": 0
      },
      "text/plain": [
       "rsut_Amon_HadGEM3-GC31-LL_piClim-cont...:   0%|          |0.00/27.8M [?B/s]"
      ]
     },
     "metadata": {},
     "output_type": "display_data"
    },
    {
     "data": {
      "application/vnd.jupyter.widget-view+json": {
       "model_id": "30fa29a3bebb4353927d37bf24d13bdd",
       "version_major": 2,
       "version_minor": 0
      },
      "text/plain": [
       "rsdscs_Amon_HadGEM3-GC31-LL_piClim-co...:   0%|          |0.00/23.5M [?B/s]"
      ]
     },
     "metadata": {},
     "output_type": "display_data"
    },
    {
     "data": {
      "application/vnd.jupyter.widget-view+json": {
       "model_id": "d7efebb9026446dcb9e996f560f317e5",
       "version_major": 2,
       "version_minor": 0
      },
      "text/plain": [
       "rsuscs_Amon_HadGEM3-GC31-LL_piClim-co...:   0%|          |0.00/26.3M [?B/s]"
      ]
     },
     "metadata": {},
     "output_type": "display_data"
    },
    {
     "data": {
      "application/vnd.jupyter.widget-view+json": {
       "model_id": "73a777f97bb74e99ae2ab34738d80110",
       "version_major": 2,
       "version_minor": 0
      },
      "text/plain": [
       "clt_Amon_HadGEM3-GC31-LL_piClim-aer_r...:   0%|          |0.00/23.8M [?B/s]"
      ]
     },
     "metadata": {},
     "output_type": "display_data"
    },
    {
     "data": {
      "application/vnd.jupyter.widget-view+json": {
       "model_id": "7c7c967d5ae949f78c0693cd1bcc215d",
       "version_major": 2,
       "version_minor": 0
      },
      "text/plain": [
       "rsds_Amon_HadGEM3-GC31-LL_piClim-aer_...:   0%|          |0.00/27.6M [?B/s]"
      ]
     },
     "metadata": {},
     "output_type": "display_data"
    },
    {
     "data": {
      "application/vnd.jupyter.widget-view+json": {
       "model_id": "4566a43b59b440d0b9ff8eb6a8c134ac",
       "version_major": 2,
       "version_minor": 0
      },
      "text/plain": [
       "rsdscs_Amon_HadGEM3-GC31-LL_piClim-ae...:   0%|          |0.00/23.7M [?B/s]"
      ]
     },
     "metadata": {},
     "output_type": "display_data"
    },
    {
     "data": {
      "application/vnd.jupyter.widget-view+json": {
       "model_id": "ac35d04fcec7489781e702d12d1f9eea",
       "version_major": 2,
       "version_minor": 0
      },
      "text/plain": [
       "rsdt_Amon_HadGEM3-GC31-LL_piClim-aer_...:   0%|          |0.00/627k [?B/s]"
      ]
     },
     "metadata": {},
     "output_type": "display_data"
    },
    {
     "data": {
      "application/vnd.jupyter.widget-view+json": {
       "model_id": "83f0e935073f42a3a2c365fb13dd27ce",
       "version_major": 2,
       "version_minor": 0
      },
      "text/plain": [
       "rsutcs_Amon_HadGEM3-GC31-LL_piClim-co...:   0%|          |0.00/25.5M [?B/s]"
      ]
     },
     "metadata": {},
     "output_type": "display_data"
    },
    {
     "data": {
      "application/vnd.jupyter.widget-view+json": {
       "model_id": "24202a0ddac7414b94e56e1fe7496fee",
       "version_major": 2,
       "version_minor": 0
      },
      "text/plain": [
       "rsus_Amon_HadGEM3-GC31-LL_piClim-aer_...:   0%|          |0.00/26.7M [?B/s]"
      ]
     },
     "metadata": {},
     "output_type": "display_data"
    },
    {
     "data": {
      "application/vnd.jupyter.widget-view+json": {
       "model_id": "51e4585572054ad0ba79240c9ee248aa",
       "version_major": 2,
       "version_minor": 0
      },
      "text/plain": [
       "rsuscs_Amon_HadGEM3-GC31-LL_piClim-ae...:   0%|          |0.00/26.3M [?B/s]"
      ]
     },
     "metadata": {},
     "output_type": "display_data"
    },
    {
     "data": {
      "application/vnd.jupyter.widget-view+json": {
       "model_id": "66d2dddfdaba4418be69c983e96580ea",
       "version_major": 2,
       "version_minor": 0
      },
      "text/plain": [
       "rsut_Amon_HadGEM3-GC31-LL_piClim-aer_...:   0%|          |0.00/27.8M [?B/s]"
      ]
     },
     "metadata": {},
     "output_type": "display_data"
    },
    {
     "data": {
      "application/vnd.jupyter.widget-view+json": {
       "model_id": "ca71103a526f4ea38e871cfc85299642",
       "version_major": 2,
       "version_minor": 0
      },
      "text/plain": [
       "rsutcs_Amon_HadGEM3-GC31-LL_piClim-ae...:   0%|          |0.00/25.5M [?B/s]"
      ]
     },
     "metadata": {},
     "output_type": "display_data"
    },
    {
     "data": {
      "application/vnd.jupyter.widget-view+json": {
       "model_id": "0cf7d078efc74c92856bcc913e5e05fa",
       "version_major": 2,
       "version_minor": 0
      },
      "text/plain": [
       "rsdt_Amon_HadGEM3-GC31-LL_piClim-cont...:   0%|          |0.00/627k [?B/s]"
      ]
     },
     "metadata": {},
     "output_type": "display_data"
    },
    {
     "name": "stdout",
     "output_type": "stream",
     "text": [
      "\n",
      "Downloading MIROC6.r11i1p1f1.gn ...\n",
      "\n"
     ]
    },
    {
     "data": {
      "application/vnd.jupyter.widget-view+json": {
       "model_id": "8e1f4bd9609d4a8ebec350c57695f7c0",
       "version_major": 2,
       "version_minor": 0
      },
      "text/plain": [
       "   Searching indices:   0%|          |0/9 [       ?index/s]"
      ]
     },
     "metadata": {},
     "output_type": "display_data"
    },
    {
     "name": "stderr",
     "output_type": "stream",
     "text": [
      "/home/jovyan/my-conda-envs/cmip6-download/lib/python3.13/site-packages/intake_esgf/catalog.py:450: UserWarning: SolrESGFIndex('esgf.ceda.ac.uk') failed to return a response, info may be incomplete\n",
      "  warnings.warn(\n",
      "/home/jovyan/my-conda-envs/cmip6-download/lib/python3.13/site-packages/intake_esgf/catalog.py:450: UserWarning: SolrESGFIndex('esgf-node.ipsl.upmc.fr') failed to return a response, info may be incomplete\n",
      "  warnings.warn(\n",
      "/home/jovyan/my-conda-envs/cmip6-download/lib/python3.13/site-packages/intake_esgf/catalog.py:450: UserWarning: SolrESGFIndex('esgf-data.dkrz.de') failed to return a response, info may be incomplete\n",
      "  warnings.warn(\n",
      "/home/jovyan/my-conda-envs/cmip6-download/lib/python3.13/site-packages/intake_esgf/catalog.py:450: UserWarning: SolrESGFIndex('esg-dn1.nsc.liu.se') failed to return a response, info may be incomplete\n",
      "  warnings.warn(\n",
      "/home/jovyan/my-conda-envs/cmip6-download/lib/python3.13/site-packages/intake_esgf/catalog.py:450: UserWarning: SolrESGFIndex('esgf-node.ornl.gov') failed to return a response, info may be incomplete\n",
      "  warnings.warn(\n",
      "/home/jovyan/my-conda-envs/cmip6-download/lib/python3.13/site-packages/intake_esgf/catalog.py:450: UserWarning: SolrESGFIndex('esgf-node.llnl.gov') failed to return a response, info may be incomplete\n",
      "  warnings.warn(\n",
      "/home/jovyan/my-conda-envs/cmip6-download/lib/python3.13/site-packages/intake_esgf/catalog.py:450: UserWarning: SolrESGFIndex('esgf.nci.org.au') failed to return a response, info may be incomplete\n",
      "  warnings.warn(\n"
     ]
    },
    {
     "data": {
      "application/vnd.jupyter.widget-view+json": {
       "model_id": "9a49b602ca18496c8f05dd4f23785cf8",
       "version_major": 2,
       "version_minor": 0
      },
      "text/plain": [
       "rsuscs_Amon_MIROC6_piClim-control_r11...:   0%|          |0.00/31.7M [?B/s]"
      ]
     },
     "metadata": {},
     "output_type": "display_data"
    },
    {
     "data": {
      "application/vnd.jupyter.widget-view+json": {
       "model_id": "4ed9b7fb353b413ba719c2fea1f47e04",
       "version_major": 2,
       "version_minor": 0
      },
      "text/plain": [
       "rsds_Amon_MIROC6_piClim-aer_r11i1p1f1...:   0%|          |0.00/32.4M [?B/s]"
      ]
     },
     "metadata": {},
     "output_type": "display_data"
    },
    {
     "data": {
      "application/vnd.jupyter.widget-view+json": {
       "model_id": "4c67c09d125444f1819c74e4bf0c1269",
       "version_major": 2,
       "version_minor": 0
      },
      "text/plain": [
       "rsds_Amon_MIROC6_piClim-control_r11i1...:   0%|          |0.00/32.4M [?B/s]"
      ]
     },
     "metadata": {},
     "output_type": "display_data"
    },
    {
     "data": {
      "application/vnd.jupyter.widget-view+json": {
       "model_id": "2fa32d3777d048aa979f1d9a0e7cf5a1",
       "version_major": 2,
       "version_minor": 0
      },
      "text/plain": [
       "rsut_Amon_MIROC6_piClim-control_r11i1...:   0%|          |0.00/32.5M [?B/s]"
      ]
     },
     "metadata": {},
     "output_type": "display_data"
    },
    {
     "data": {
      "application/vnd.jupyter.widget-view+json": {
       "model_id": "c524a06c367a443baac9aa10ec4466c3",
       "version_major": 2,
       "version_minor": 0
      },
      "text/plain": [
       "rsus_Amon_MIROC6_piClim-aer_r11i1p1f1...:   0%|          |0.00/33.0M [?B/s]"
      ]
     },
     "metadata": {},
     "output_type": "display_data"
    },
    {
     "data": {
      "application/vnd.jupyter.widget-view+json": {
       "model_id": "6ce8fefdaeb04a00b481b769dedefa2d",
       "version_major": 2,
       "version_minor": 0
      },
      "text/plain": [
       "rsdscs_Amon_MIROC6_piClim-aer_r11i1p1...:   0%|          |0.00/26.3M [?B/s]"
      ]
     },
     "metadata": {},
     "output_type": "display_data"
    },
    {
     "data": {
      "application/vnd.jupyter.widget-view+json": {
       "model_id": "f592ae70a2a64e23a4c0eb4223ec0c07",
       "version_major": 2,
       "version_minor": 0
      },
      "text/plain": [
       "rsut_Amon_MIROC6_piClim-aer_r11i1p1f1...:   0%|          |0.00/32.5M [?B/s]"
      ]
     },
     "metadata": {},
     "output_type": "display_data"
    },
    {
     "data": {
      "application/vnd.jupyter.widget-view+json": {
       "model_id": "8c03a190f6694b928904837084bdeb0f",
       "version_major": 2,
       "version_minor": 0
      },
      "text/plain": [
       "clt_Amon_MIROC6_piClim-control_r11i1p...:   0%|          |0.00/34.6M [?B/s]"
      ]
     },
     "metadata": {},
     "output_type": "display_data"
    },
    {
     "data": {
      "application/vnd.jupyter.widget-view+json": {
       "model_id": "ba9f5a64b4bf4e51b4c75b0db9850fb6",
       "version_major": 2,
       "version_minor": 0
      },
      "text/plain": [
       "rsus_Amon_MIROC6_piClim-control_r11i1...:   0%|          |0.00/32.9M [?B/s]"
      ]
     },
     "metadata": {},
     "output_type": "display_data"
    },
    {
     "data": {
      "application/vnd.jupyter.widget-view+json": {
       "model_id": "faa2a99f6af549bea3e422cc5ade94a4",
       "version_major": 2,
       "version_minor": 0
      },
      "text/plain": [
       "rsdt_Amon_MIROC6_piClim-aer_r11i1p1f1...:   0%|          |0.00/12.6M [?B/s]"
      ]
     },
     "metadata": {},
     "output_type": "display_data"
    },
    {
     "data": {
      "application/vnd.jupyter.widget-view+json": {
       "model_id": "59cfeb1d08734d70b58ce5626072b0e1",
       "version_major": 2,
       "version_minor": 0
      },
      "text/plain": [
       "rsuscs_Amon_MIROC6_piClim-aer_r11i1p1...:   0%|          |0.00/31.8M [?B/s]"
      ]
     },
     "metadata": {},
     "output_type": "display_data"
    },
    {
     "data": {
      "application/vnd.jupyter.widget-view+json": {
       "model_id": "155419c2b7394923814651074d5abd96",
       "version_major": 2,
       "version_minor": 0
      },
      "text/plain": [
       "rsdscs_Amon_MIROC6_piClim-control_r11...:   0%|          |0.00/26.2M [?B/s]"
      ]
     },
     "metadata": {},
     "output_type": "display_data"
    },
    {
     "data": {
      "application/vnd.jupyter.widget-view+json": {
       "model_id": "d2978e6aed7346e498f4f92ffd160b82",
       "version_major": 2,
       "version_minor": 0
      },
      "text/plain": [
       "rsdt_Amon_MIROC6_piClim-control_r11i1...:   0%|          |0.00/12.6M [?B/s]"
      ]
     },
     "metadata": {},
     "output_type": "display_data"
    },
    {
     "data": {
      "application/vnd.jupyter.widget-view+json": {
       "model_id": "a224719b0a2049c4aad0ce845cccef17",
       "version_major": 2,
       "version_minor": 0
      },
      "text/plain": [
       "rsutcs_Amon_MIROC6_piClim-aer_r11i1p1...:   0%|          |0.00/28.6M [?B/s]"
      ]
     },
     "metadata": {},
     "output_type": "display_data"
    },
    {
     "data": {
      "application/vnd.jupyter.widget-view+json": {
       "model_id": "4d3bb92d44144994a6bd1b22a300feef",
       "version_major": 2,
       "version_minor": 0
      },
      "text/plain": [
       "rsutcs_Amon_MIROC6_piClim-control_r11...:   0%|          |0.00/28.5M [?B/s]"
      ]
     },
     "metadata": {},
     "output_type": "display_data"
    },
    {
     "data": {
      "application/vnd.jupyter.widget-view+json": {
       "model_id": "e1a6bed28512433eb926881ad6b746d4",
       "version_major": 2,
       "version_minor": 0
      },
      "text/plain": [
       "clt_Amon_MIROC6_piClim-aer_r11i1p1f1_...:   0%|          |0.00/34.6M [?B/s]"
      ]
     },
     "metadata": {},
     "output_type": "display_data"
    },
    {
     "name": "stdout",
     "output_type": "stream",
     "text": [
      "\n",
      "Downloading MIROC6.r1i1p1f1.gn ...\n",
      "\n"
     ]
    },
    {
     "data": {
      "application/vnd.jupyter.widget-view+json": {
       "model_id": "be73234a1ebd47ed943c51c220064a84",
       "version_major": 2,
       "version_minor": 0
      },
      "text/plain": [
       "   Searching indices:   0%|          |0/9 [       ?index/s]"
      ]
     },
     "metadata": {},
     "output_type": "display_data"
    },
    {
     "name": "stderr",
     "output_type": "stream",
     "text": [
      "/home/jovyan/my-conda-envs/cmip6-download/lib/python3.13/site-packages/intake_esgf/catalog.py:450: UserWarning: SolrESGFIndex('esgf-node.ipsl.upmc.fr') failed to return a response, info may be incomplete\n",
      "  warnings.warn(\n",
      "/home/jovyan/my-conda-envs/cmip6-download/lib/python3.13/site-packages/intake_esgf/catalog.py:450: UserWarning: SolrESGFIndex('esgf.ceda.ac.uk') failed to return a response, info may be incomplete\n",
      "  warnings.warn(\n",
      "/home/jovyan/my-conda-envs/cmip6-download/lib/python3.13/site-packages/intake_esgf/catalog.py:450: UserWarning: SolrESGFIndex('esgf-data.dkrz.de') failed to return a response, info may be incomplete\n",
      "  warnings.warn(\n",
      "/home/jovyan/my-conda-envs/cmip6-download/lib/python3.13/site-packages/intake_esgf/catalog.py:450: UserWarning: SolrESGFIndex('esg-dn1.nsc.liu.se') failed to return a response, info may be incomplete\n",
      "  warnings.warn(\n",
      "/home/jovyan/my-conda-envs/cmip6-download/lib/python3.13/site-packages/intake_esgf/catalog.py:450: UserWarning: SolrESGFIndex('esgf-node.ornl.gov') failed to return a response, info may be incomplete\n",
      "  warnings.warn(\n",
      "/home/jovyan/my-conda-envs/cmip6-download/lib/python3.13/site-packages/intake_esgf/catalog.py:450: UserWarning: SolrESGFIndex('esgf-node.llnl.gov') failed to return a response, info may be incomplete\n",
      "  warnings.warn(\n",
      "/home/jovyan/my-conda-envs/cmip6-download/lib/python3.13/site-packages/intake_esgf/catalog.py:450: UserWarning: SolrESGFIndex('esgf.nci.org.au') failed to return a response, info may be incomplete\n",
      "  warnings.warn(\n"
     ]
    },
    {
     "data": {
      "application/vnd.jupyter.widget-view+json": {
       "model_id": "7a3a7e41465b412c81493ff37f50e63e",
       "version_major": 2,
       "version_minor": 0
      },
      "text/plain": [
       "rsuscs_Amon_MIROC6_piClim-control_r1i...:   0%|          |0.00/31.7M [?B/s]"
      ]
     },
     "metadata": {},
     "output_type": "display_data"
    },
    {
     "data": {
      "application/vnd.jupyter.widget-view+json": {
       "model_id": "45b4ea5850ee47ce8e2890e03fea4a13",
       "version_major": 2,
       "version_minor": 0
      },
      "text/plain": [
       "clt_Amon_MIROC6_piClim-aer_r1i1p1f1_g...:   0%|          |0.00/34.5M [?B/s]"
      ]
     },
     "metadata": {},
     "output_type": "display_data"
    },
    {
     "data": {
      "application/vnd.jupyter.widget-view+json": {
       "model_id": "7a733bd5b9314a6ea373c176fbab7edf",
       "version_major": 2,
       "version_minor": 0
      },
      "text/plain": [
       "rsuscs_Amon_MIROC6_piClim-aer_r1i1p1f...:   0%|          |0.00/31.7M [?B/s]"
      ]
     },
     "metadata": {},
     "output_type": "display_data"
    },
    {
     "data": {
      "application/vnd.jupyter.widget-view+json": {
       "model_id": "fa7de705b68649f5a8501b995ce57fab",
       "version_major": 2,
       "version_minor": 0
      },
      "text/plain": [
       "rsds_Amon_MIROC6_piClim-aer_r1i1p1f1_...:   0%|          |0.00/32.4M [?B/s]"
      ]
     },
     "metadata": {},
     "output_type": "display_data"
    },
    {
     "data": {
      "application/vnd.jupyter.widget-view+json": {
       "model_id": "ce734ce1c6e54378a083d01126b7949f",
       "version_major": 2,
       "version_minor": 0
      },
      "text/plain": [
       "rsutcs_Amon_MIROC6_piClim-aer_r1i1p1f...:   0%|          |0.00/28.6M [?B/s]"
      ]
     },
     "metadata": {},
     "output_type": "display_data"
    },
    {
     "data": {
      "application/vnd.jupyter.widget-view+json": {
       "model_id": "7a136785d88f44378b3c2956bdb075d6",
       "version_major": 2,
       "version_minor": 0
      },
      "text/plain": [
       "rsut_Amon_MIROC6_piClim-aer_r1i1p1f1_...:   0%|          |0.00/32.4M [?B/s]"
      ]
     },
     "metadata": {},
     "output_type": "display_data"
    },
    {
     "data": {
      "application/vnd.jupyter.widget-view+json": {
       "model_id": "1fb866c9588d476b863c35277ea1dc9a",
       "version_major": 2,
       "version_minor": 0
      },
      "text/plain": [
       "rsdscs_Amon_MIROC6_piClim-control_r1i...:   0%|          |0.00/26.2M [?B/s]"
      ]
     },
     "metadata": {},
     "output_type": "display_data"
    },
    {
     "data": {
      "application/vnd.jupyter.widget-view+json": {
       "model_id": "83fb569ed48d405ab6b06af34483bad7",
       "version_major": 2,
       "version_minor": 0
      },
      "text/plain": [
       "rsds_Amon_MIROC6_piClim-control_r1i1p...:   0%|          |0.00/32.3M [?B/s]"
      ]
     },
     "metadata": {},
     "output_type": "display_data"
    },
    {
     "data": {
      "application/vnd.jupyter.widget-view+json": {
       "model_id": "e613444ac8c140629a6dd1f4292c397e",
       "version_major": 2,
       "version_minor": 0
      },
      "text/plain": [
       "rsus_Amon_MIROC6_piClim-aer_r1i1p1f1_...:   0%|          |0.00/32.9M [?B/s]"
      ]
     },
     "metadata": {},
     "output_type": "display_data"
    },
    {
     "data": {
      "application/vnd.jupyter.widget-view+json": {
       "model_id": "f70457db38dd4657bb9a577fbcc13b4f",
       "version_major": 2,
       "version_minor": 0
      },
      "text/plain": [
       "rsut_Amon_MIROC6_piClim-control_r1i1p...:   0%|          |0.00/32.4M [?B/s]"
      ]
     },
     "metadata": {},
     "output_type": "display_data"
    },
    {
     "data": {
      "application/vnd.jupyter.widget-view+json": {
       "model_id": "56daa79491a040aeb23eb61ca0a4eb47",
       "version_major": 2,
       "version_minor": 0
      },
      "text/plain": [
       "rsutcs_Amon_MIROC6_piClim-control_r1i...:   0%|          |0.00/28.5M [?B/s]"
      ]
     },
     "metadata": {},
     "output_type": "display_data"
    },
    {
     "data": {
      "application/vnd.jupyter.widget-view+json": {
       "model_id": "f064a44758404de7b22cac213116fbee",
       "version_major": 2,
       "version_minor": 0
      },
      "text/plain": [
       "rsdscs_Amon_MIROC6_piClim-aer_r1i1p1f...:   0%|          |0.00/26.3M [?B/s]"
      ]
     },
     "metadata": {},
     "output_type": "display_data"
    },
    {
     "data": {
      "application/vnd.jupyter.widget-view+json": {
       "model_id": "3a4384e573224091a6380c8de2056f24",
       "version_major": 2,
       "version_minor": 0
      },
      "text/plain": [
       "clt_Amon_MIROC6_piClim-control_r1i1p1...:   0%|          |0.00/34.5M [?B/s]"
      ]
     },
     "metadata": {},
     "output_type": "display_data"
    },
    {
     "data": {
      "application/vnd.jupyter.widget-view+json": {
       "model_id": "e0279bb9186f4377b21ac758e22f3736",
       "version_major": 2,
       "version_minor": 0
      },
      "text/plain": [
       "rsdt_Amon_MIROC6_piClim-aer_r1i1p1f1_...:   0%|          |0.00/12.6M [?B/s]"
      ]
     },
     "metadata": {},
     "output_type": "display_data"
    },
    {
     "data": {
      "application/vnd.jupyter.widget-view+json": {
       "model_id": "e8dd3e0de27545c495e15d07ffdcc453",
       "version_major": 2,
       "version_minor": 0
      },
      "text/plain": [
       "rsus_Amon_MIROC6_piClim-control_r1i1p...:   0%|          |0.00/32.9M [?B/s]"
      ]
     },
     "metadata": {},
     "output_type": "display_data"
    },
    {
     "data": {
      "application/vnd.jupyter.widget-view+json": {
       "model_id": "17c4bd0ce1704ad4a8375491d6733b21",
       "version_major": 2,
       "version_minor": 0
      },
      "text/plain": [
       "rsdt_Amon_MIROC6_piClim-control_r1i1p...:   0%|          |0.00/12.6M [?B/s]"
      ]
     },
     "metadata": {},
     "output_type": "display_data"
    },
    {
     "name": "stdout",
     "output_type": "stream",
     "text": [
      "\n",
      "Downloading BCC-ESM1.r1i1p1f1.gn ...\n",
      "\n"
     ]
    },
    {
     "data": {
      "application/vnd.jupyter.widget-view+json": {
       "model_id": "2a0225e250804b5fa4a979562f651fb7",
       "version_major": 2,
       "version_minor": 0
      },
      "text/plain": [
       "   Searching indices:   0%|          |0/9 [       ?index/s]"
      ]
     },
     "metadata": {},
     "output_type": "display_data"
    },
    {
     "name": "stderr",
     "output_type": "stream",
     "text": [
      "/home/jovyan/my-conda-envs/cmip6-download/lib/python3.13/site-packages/intake_esgf/catalog.py:450: UserWarning: SolrESGFIndex('esgf-node.ipsl.upmc.fr') failed to return a response, info may be incomplete\n",
      "  warnings.warn(\n",
      "/home/jovyan/my-conda-envs/cmip6-download/lib/python3.13/site-packages/intake_esgf/catalog.py:450: UserWarning: SolrESGFIndex('esgf.ceda.ac.uk') failed to return a response, info may be incomplete\n",
      "  warnings.warn(\n",
      "/home/jovyan/my-conda-envs/cmip6-download/lib/python3.13/site-packages/intake_esgf/catalog.py:450: UserWarning: SolrESGFIndex('esgf-data.dkrz.de') failed to return a response, info may be incomplete\n",
      "  warnings.warn(\n",
      "/home/jovyan/my-conda-envs/cmip6-download/lib/python3.13/site-packages/intake_esgf/catalog.py:450: UserWarning: SolrESGFIndex('esg-dn1.nsc.liu.se') failed to return a response, info may be incomplete\n",
      "  warnings.warn(\n",
      "/home/jovyan/my-conda-envs/cmip6-download/lib/python3.13/site-packages/intake_esgf/catalog.py:450: UserWarning: SolrESGFIndex('esgf-node.ornl.gov') failed to return a response, info may be incomplete\n",
      "  warnings.warn(\n",
      "/home/jovyan/my-conda-envs/cmip6-download/lib/python3.13/site-packages/intake_esgf/catalog.py:450: UserWarning: SolrESGFIndex('esgf-node.llnl.gov') failed to return a response, info may be incomplete\n",
      "  warnings.warn(\n",
      "/home/jovyan/my-conda-envs/cmip6-download/lib/python3.13/site-packages/intake_esgf/catalog.py:450: UserWarning: SolrESGFIndex('esgf.nci.org.au') failed to return a response, info may be incomplete\n",
      "  warnings.warn(\n"
     ]
    },
    {
     "data": {
      "application/vnd.jupyter.widget-view+json": {
       "model_id": "f35fef877edb4994880e74489551362a",
       "version_major": 2,
       "version_minor": 0
      },
      "text/plain": [
       "rsdscs_Amon_BCC-ESM1_piClim-aer_r1i1p...:   0%|          |0.00/12.2M [?B/s]"
      ]
     },
     "metadata": {},
     "output_type": "display_data"
    },
    {
     "data": {
      "application/vnd.jupyter.widget-view+json": {
       "model_id": "87514d397bd349d5a56aedb5fc4a5e5b",
       "version_major": 2,
       "version_minor": 0
      },
      "text/plain": [
       "rsutcs_Amon_BCC-ESM1_piClim-aer_r1i1p...:   0%|          |0.00/12.2M [?B/s]"
      ]
     },
     "metadata": {},
     "output_type": "display_data"
    },
    {
     "data": {
      "application/vnd.jupyter.widget-view+json": {
       "model_id": "c6e0625bc5ed4877963c9217f68f2870",
       "version_major": 2,
       "version_minor": 0
      },
      "text/plain": [
       "rsdt_Amon_BCC-ESM1_piClim-control_r1i...:   0%|          |0.00/12.2M [?B/s]"
      ]
     },
     "metadata": {},
     "output_type": "display_data"
    },
    {
     "data": {
      "application/vnd.jupyter.widget-view+json": {
       "model_id": "3ed1a6497fc1406db230ee9865e5a01b",
       "version_major": 2,
       "version_minor": 0
      },
      "text/plain": [
       "rsut_Amon_BCC-ESM1_piClim-aer_r1i1p1f...:   0%|          |0.00/12.2M [?B/s]"
      ]
     },
     "metadata": {},
     "output_type": "display_data"
    },
    {
     "data": {
      "application/vnd.jupyter.widget-view+json": {
       "model_id": "855dcb68787341b3b4ddc9a1886947c1",
       "version_major": 2,
       "version_minor": 0
      },
      "text/plain": [
       "rsus_Amon_BCC-ESM1_piClim-control_r1i...:   0%|          |0.00/12.2M [?B/s]"
      ]
     },
     "metadata": {},
     "output_type": "display_data"
    },
    {
     "data": {
      "application/vnd.jupyter.widget-view+json": {
       "model_id": "46b4f9f0d84a46e3883410cb13ffec1d",
       "version_major": 2,
       "version_minor": 0
      },
      "text/plain": [
       "rsdscs_Amon_BCC-ESM1_piClim-control_r...:   0%|          |0.00/12.2M [?B/s]"
      ]
     },
     "metadata": {},
     "output_type": "display_data"
    },
    {
     "data": {
      "application/vnd.jupyter.widget-view+json": {
       "model_id": "3acffacd653942c6a9a10200cba05e5d",
       "version_major": 2,
       "version_minor": 0
      },
      "text/plain": [
       "rsus_Amon_BCC-ESM1_piClim-aer_r1i1p1f...:   0%|          |0.00/12.2M [?B/s]"
      ]
     },
     "metadata": {},
     "output_type": "display_data"
    },
    {
     "data": {
      "application/vnd.jupyter.widget-view+json": {
       "model_id": "5b63d026f7f1414da6cccff6728f2b38",
       "version_major": 2,
       "version_minor": 0
      },
      "text/plain": [
       "rsdt_Amon_BCC-ESM1_piClim-aer_r1i1p1f...:   0%|          |0.00/12.2M [?B/s]"
      ]
     },
     "metadata": {},
     "output_type": "display_data"
    },
    {
     "data": {
      "application/vnd.jupyter.widget-view+json": {
       "model_id": "403dc8d8360649f2a1cff4d1bd4007e4",
       "version_major": 2,
       "version_minor": 0
      },
      "text/plain": [
       "rsuscs_Amon_BCC-ESM1_piClim-control_r...:   0%|          |0.00/12.2M [?B/s]"
      ]
     },
     "metadata": {},
     "output_type": "display_data"
    },
    {
     "data": {
      "application/vnd.jupyter.widget-view+json": {
       "model_id": "ca87cf91ecaf4250af76b07521f0308f",
       "version_major": 2,
       "version_minor": 0
      },
      "text/plain": [
       "rsutcs_Amon_BCC-ESM1_piClim-control_r...:   0%|          |0.00/12.2M [?B/s]"
      ]
     },
     "metadata": {},
     "output_type": "display_data"
    },
    {
     "data": {
      "application/vnd.jupyter.widget-view+json": {
       "model_id": "fc76317509cb435da8d0d2f5b4786283",
       "version_major": 2,
       "version_minor": 0
      },
      "text/plain": [
       "rsds_Amon_BCC-ESM1_piClim-control_r1i...:   0%|          |0.00/12.2M [?B/s]"
      ]
     },
     "metadata": {},
     "output_type": "display_data"
    },
    {
     "data": {
      "application/vnd.jupyter.widget-view+json": {
       "model_id": "fdfd599d2d33427593a71b857ed58cc5",
       "version_major": 2,
       "version_minor": 0
      },
      "text/plain": [
       "clt_Amon_BCC-ESM1_piClim-aer_r1i1p1f1...:   0%|          |0.00/12.2M [?B/s]"
      ]
     },
     "metadata": {},
     "output_type": "display_data"
    },
    {
     "data": {
      "application/vnd.jupyter.widget-view+json": {
       "model_id": "45b0164580f247beb37615727c672d78",
       "version_major": 2,
       "version_minor": 0
      },
      "text/plain": [
       "rsut_Amon_BCC-ESM1_piClim-control_r1i...:   0%|          |0.00/12.2M [?B/s]"
      ]
     },
     "metadata": {},
     "output_type": "display_data"
    },
    {
     "data": {
      "application/vnd.jupyter.widget-view+json": {
       "model_id": "d30cae0e413e4fc3b5c705491e04cac5",
       "version_major": 2,
       "version_minor": 0
      },
      "text/plain": [
       "rsuscs_Amon_BCC-ESM1_piClim-aer_r1i1p...:   0%|          |0.00/12.2M [?B/s]"
      ]
     },
     "metadata": {},
     "output_type": "display_data"
    },
    {
     "data": {
      "application/vnd.jupyter.widget-view+json": {
       "model_id": "9e15da0078d9461b90da2b7babaae270",
       "version_major": 2,
       "version_minor": 0
      },
      "text/plain": [
       "clt_Amon_BCC-ESM1_piClim-control_r1i1...:   0%|          |0.00/12.2M [?B/s]"
      ]
     },
     "metadata": {},
     "output_type": "display_data"
    },
    {
     "data": {
      "application/vnd.jupyter.widget-view+json": {
       "model_id": "ad0ecb528a2b410ab7dfa630d09d7cc7",
       "version_major": 2,
       "version_minor": 0
      },
      "text/plain": [
       "rsds_Amon_BCC-ESM1_piClim-aer_r1i1p1f...:   0%|          |0.00/12.2M [?B/s]"
      ]
     },
     "metadata": {},
     "output_type": "display_data"
    },
    {
     "name": "stdout",
     "output_type": "stream",
     "text": [
      "\n",
      "Downloading GFDL-CM4.r1i1p1f1.gr1 ...\n",
      "\n"
     ]
    },
    {
     "data": {
      "application/vnd.jupyter.widget-view+json": {
       "model_id": "69763b02d48e47b0b22934bc5bbf3de0",
       "version_major": 2,
       "version_minor": 0
      },
      "text/plain": [
       "   Searching indices:   0%|          |0/9 [       ?index/s]"
      ]
     },
     "metadata": {},
     "output_type": "display_data"
    },
    {
     "data": {
      "application/vnd.jupyter.widget-view+json": {
       "model_id": "1e1fc9fa9e934b74b59698adac131973",
       "version_major": 2,
       "version_minor": 0
      },
      "text/plain": [
       "rsut_Amon_GFDL-CM4_piClim-aer_r1i1p1f...:   0%|          |0.00/51.3M [?B/s]"
      ]
     },
     "metadata": {},
     "output_type": "display_data"
    },
    {
     "data": {
      "application/vnd.jupyter.widget-view+json": {
       "model_id": "3668c68b51c74222b3e9c68409e231a9",
       "version_major": 2,
       "version_minor": 0
      },
      "text/plain": [
       "rsdscs_Amon_GFDL-CM4_piClim-aer_r1i1p...:   0%|          |0.00/43.7M [?B/s]"
      ]
     },
     "metadata": {},
     "output_type": "display_data"
    },
    {
     "data": {
      "application/vnd.jupyter.widget-view+json": {
       "model_id": "54544b8e7c3247b6b6bbc3f01bea03d3",
       "version_major": 2,
       "version_minor": 0
      },
      "text/plain": [
       "rsdt_Amon_GFDL-CM4_piClim-aer_r1i1p1f...:   0%|          |0.00/36.4M [?B/s]"
      ]
     },
     "metadata": {},
     "output_type": "display_data"
    },
    {
     "data": {
      "application/vnd.jupyter.widget-view+json": {
       "model_id": "9bd7629a6a624a44a13b0d9cbab8c486",
       "version_major": 2,
       "version_minor": 0
      },
      "text/plain": [
       "rsds_Amon_GFDL-CM4_piClim-control_r1i...:   0%|          |0.00/50.3M [?B/s]"
      ]
     },
     "metadata": {},
     "output_type": "display_data"
    },
    {
     "data": {
      "application/vnd.jupyter.widget-view+json": {
       "model_id": "e235428cee354e76b547cdf9ac18f786",
       "version_major": 2,
       "version_minor": 0
      },
      "text/plain": [
       "rsutcs_Amon_GFDL-CM4_piClim-aer_r1i1p...:   0%|          |0.00/47.1M [?B/s]"
      ]
     },
     "metadata": {},
     "output_type": "display_data"
    },
    {
     "data": {
      "application/vnd.jupyter.widget-view+json": {
       "model_id": "2636e630d9594dcd8bca02c54c2eb3ce",
       "version_major": 2,
       "version_minor": 0
      },
      "text/plain": [
       "rsuscs_Amon_GFDL-CM4_piClim-aer_r1i1p...:   0%|          |0.00/48.0M [?B/s]"
      ]
     },
     "metadata": {},
     "output_type": "display_data"
    },
    {
     "data": {
      "application/vnd.jupyter.widget-view+json": {
       "model_id": "948f67b290344b0cb9b9c097f9be3f58",
       "version_major": 2,
       "version_minor": 0
      },
      "text/plain": [
       "rsdt_Amon_GFDL-CM4_piClim-control_r1i...:   0%|          |0.00/36.4M [?B/s]"
      ]
     },
     "metadata": {},
     "output_type": "display_data"
    },
    {
     "data": {
      "application/vnd.jupyter.widget-view+json": {
       "model_id": "51095ee323204b3eba50d83d71891f77",
       "version_major": 2,
       "version_minor": 0
      },
      "text/plain": [
       "rsuscs_Amon_GFDL-CM4_piClim-control_r...:   0%|          |0.00/47.9M [?B/s]"
      ]
     },
     "metadata": {},
     "output_type": "display_data"
    },
    {
     "data": {
      "application/vnd.jupyter.widget-view+json": {
       "model_id": "7815410f44344951bcd0a865530307d9",
       "version_major": 2,
       "version_minor": 0
      },
      "text/plain": [
       "rsdscs_Amon_GFDL-CM4_piClim-control_r...:   0%|          |0.00/43.5M [?B/s]"
      ]
     },
     "metadata": {},
     "output_type": "display_data"
    },
    {
     "data": {
      "application/vnd.jupyter.widget-view+json": {
       "model_id": "ee1f38c40e384f5faf02f6371b19256f",
       "version_major": 2,
       "version_minor": 0
      },
      "text/plain": [
       "rsut_Amon_GFDL-CM4_piClim-control_r1i...:   0%|          |0.00/51.4M [?B/s]"
      ]
     },
     "metadata": {},
     "output_type": "display_data"
    },
    {
     "data": {
      "application/vnd.jupyter.widget-view+json": {
       "model_id": "e0fb827b0aec4ee4ae9e213d0acec38a",
       "version_major": 2,
       "version_minor": 0
      },
      "text/plain": [
       "rsutcs_Amon_GFDL-CM4_piClim-control_r...:   0%|          |0.00/47.0M [?B/s]"
      ]
     },
     "metadata": {},
     "output_type": "display_data"
    },
    {
     "data": {
      "application/vnd.jupyter.widget-view+json": {
       "model_id": "61cb808b096648bebc79f0cc0d6a782b",
       "version_major": 2,
       "version_minor": 0
      },
      "text/plain": [
       "clt_Amon_GFDL-CM4_piClim-control_r1i1...:   0%|          |0.00/52.0M [?B/s]"
      ]
     },
     "metadata": {},
     "output_type": "display_data"
    },
    {
     "data": {
      "application/vnd.jupyter.widget-view+json": {
       "model_id": "d066a32c56de470fbc33d29241331fa6",
       "version_major": 2,
       "version_minor": 0
      },
      "text/plain": [
       "clt_Amon_GFDL-CM4_piClim-aer_r1i1p1f1...:   0%|          |0.00/52.0M [?B/s]"
      ]
     },
     "metadata": {},
     "output_type": "display_data"
    },
    {
     "data": {
      "application/vnd.jupyter.widget-view+json": {
       "model_id": "5c39ae7e13ed4e3b8fd7f3024dc41c1b",
       "version_major": 2,
       "version_minor": 0
      },
      "text/plain": [
       "rsus_Amon_GFDL-CM4_piClim-control_r1i...:   0%|          |0.00/52.0M [?B/s]"
      ]
     },
     "metadata": {},
     "output_type": "display_data"
    },
    {
     "data": {
      "application/vnd.jupyter.widget-view+json": {
       "model_id": "3ae4a8bd95af422d9cf10332c740779f",
       "version_major": 2,
       "version_minor": 0
      },
      "text/plain": [
       "rsus_Amon_GFDL-CM4_piClim-aer_r1i1p1f...:   0%|          |0.00/52.0M [?B/s]"
      ]
     },
     "metadata": {},
     "output_type": "display_data"
    },
    {
     "data": {
      "application/vnd.jupyter.widget-view+json": {
       "model_id": "75d6974e760442b29f2c1352d87ce179",
       "version_major": 2,
       "version_minor": 0
      },
      "text/plain": [
       "rsds_Amon_GFDL-CM4_piClim-aer_r1i1p1f...:   0%|          |0.00/50.4M [?B/s]"
      ]
     },
     "metadata": {},
     "output_type": "display_data"
    },
    {
     "name": "stdout",
     "output_type": "stream",
     "text": [
      "\n",
      "Downloading UKESM1-0-LL.r1i1p1f4.gn ...\n",
      "\n"
     ]
    },
    {
     "data": {
      "application/vnd.jupyter.widget-view+json": {
       "model_id": "61ecb370d92247a78801b08d4e115135",
       "version_major": 2,
       "version_minor": 0
      },
      "text/plain": [
       "   Searching indices:   0%|          |0/9 [       ?index/s]"
      ]
     },
     "metadata": {},
     "output_type": "display_data"
    },
    {
     "name": "stderr",
     "output_type": "stream",
     "text": [
      "/home/jovyan/my-conda-envs/cmip6-download/lib/python3.13/site-packages/intake_esgf/catalog.py:450: UserWarning: SolrESGFIndex('esgf-node.ipsl.upmc.fr') failed to return a response, info may be incomplete\n",
      "  warnings.warn(\n",
      "/home/jovyan/my-conda-envs/cmip6-download/lib/python3.13/site-packages/intake_esgf/catalog.py:450: UserWarning: SolrESGFIndex('esgf.ceda.ac.uk') failed to return a response, info may be incomplete\n",
      "  warnings.warn(\n",
      "/home/jovyan/my-conda-envs/cmip6-download/lib/python3.13/site-packages/intake_esgf/catalog.py:450: UserWarning: SolrESGFIndex('esgf-data.dkrz.de') failed to return a response, info may be incomplete\n",
      "  warnings.warn(\n",
      "/home/jovyan/my-conda-envs/cmip6-download/lib/python3.13/site-packages/intake_esgf/catalog.py:450: UserWarning: SolrESGFIndex('esg-dn1.nsc.liu.se') failed to return a response, info may be incomplete\n",
      "  warnings.warn(\n",
      "/home/jovyan/my-conda-envs/cmip6-download/lib/python3.13/site-packages/intake_esgf/catalog.py:450: UserWarning: SolrESGFIndex('esgf-node.ornl.gov') failed to return a response, info may be incomplete\n",
      "  warnings.warn(\n",
      "/home/jovyan/my-conda-envs/cmip6-download/lib/python3.13/site-packages/intake_esgf/catalog.py:450: UserWarning: SolrESGFIndex('esgf-node.llnl.gov') failed to return a response, info may be incomplete\n",
      "  warnings.warn(\n",
      "/home/jovyan/my-conda-envs/cmip6-download/lib/python3.13/site-packages/intake_esgf/catalog.py:450: UserWarning: SolrESGFIndex('esgf.nci.org.au') failed to return a response, info may be incomplete\n",
      "  warnings.warn(\n"
     ]
    },
    {
     "data": {
      "application/vnd.jupyter.widget-view+json": {
       "model_id": "c99384a13e3948a28a39578fd8b38235",
       "version_major": 2,
       "version_minor": 0
      },
      "text/plain": [
       "rsus_Amon_UKESM1-0-LL_piClim-aer_r1i1...:   0%|          |0.00/40.1M [?B/s]"
      ]
     },
     "metadata": {},
     "output_type": "display_data"
    },
    {
     "data": {
      "application/vnd.jupyter.widget-view+json": {
       "model_id": "6c716da064424525845fdf592cc1cb6f",
       "version_major": 2,
       "version_minor": 0
      },
      "text/plain": [
       "clt_Amon_UKESM1-0-LL_piClim-aer_r1i1p...:   0%|          |0.00/35.6M [?B/s]"
      ]
     },
     "metadata": {},
     "output_type": "display_data"
    },
    {
     "data": {
      "application/vnd.jupyter.widget-view+json": {
       "model_id": "9d25119011f242d38cec83295a37d754",
       "version_major": 2,
       "version_minor": 0
      },
      "text/plain": [
       "rsdscs_Amon_UKESM1-0-LL_piClim-aer_r1...:   0%|          |0.00/35.5M [?B/s]"
      ]
     },
     "metadata": {},
     "output_type": "display_data"
    },
    {
     "data": {
      "application/vnd.jupyter.widget-view+json": {
       "model_id": "da6b85222f9749e79e5eac41148e7910",
       "version_major": 2,
       "version_minor": 0
      },
      "text/plain": [
       "rsdt_Amon_UKESM1-0-LL_piClim-aer_r1i1...:   0%|          |0.00/901k [?B/s]"
      ]
     },
     "metadata": {},
     "output_type": "display_data"
    },
    {
     "data": {
      "application/vnd.jupyter.widget-view+json": {
       "model_id": "95e53588e6ad4f0fa4dae43ad44d1455",
       "version_major": 2,
       "version_minor": 0
      },
      "text/plain": [
       "rsut_Amon_UKESM1-0-LL_piClim-control_...:   0%|          |0.00/41.6M [?B/s]"
      ]
     },
     "metadata": {},
     "output_type": "display_data"
    },
    {
     "data": {
      "application/vnd.jupyter.widget-view+json": {
       "model_id": "7276f56e2afe4429a0507afa879d9ea6",
       "version_major": 2,
       "version_minor": 0
      },
      "text/plain": [
       "rsds_Amon_UKESM1-0-LL_piClim-control_...:   0%|          |0.00/41.3M [?B/s]"
      ]
     },
     "metadata": {},
     "output_type": "display_data"
    },
    {
     "data": {
      "application/vnd.jupyter.widget-view+json": {
       "model_id": "6c8096fef87f486ba7cf7ad1bb33b215",
       "version_major": 2,
       "version_minor": 0
      },
      "text/plain": [
       "rsut_Amon_UKESM1-0-LL_piClim-aer_r1i1...:   0%|          |0.00/41.6M [?B/s]"
      ]
     },
     "metadata": {},
     "output_type": "display_data"
    },
    {
     "data": {
      "application/vnd.jupyter.widget-view+json": {
       "model_id": "215e462f35b542c5b1164d9e13ca67e4",
       "version_major": 2,
       "version_minor": 0
      },
      "text/plain": [
       "rsutcs_Amon_UKESM1-0-LL_piClim-contro...:   0%|          |0.00/38.1M [?B/s]"
      ]
     },
     "metadata": {},
     "output_type": "display_data"
    },
    {
     "data": {
      "application/vnd.jupyter.widget-view+json": {
       "model_id": "ee7c73a7096f4bd59370ff61de45effe",
       "version_major": 2,
       "version_minor": 0
      },
      "text/plain": [
       "rsutcs_Amon_UKESM1-0-LL_piClim-aer_r1...:   0%|          |0.00/38.1M [?B/s]"
      ]
     },
     "metadata": {},
     "output_type": "display_data"
    },
    {
     "data": {
      "application/vnd.jupyter.widget-view+json": {
       "model_id": "a92d3e9f76e24503bf3146b41cb04c82",
       "version_major": 2,
       "version_minor": 0
      },
      "text/plain": [
       "rsdscs_Amon_UKESM1-0-LL_piClim-contro...:   0%|          |0.00/35.3M [?B/s]"
      ]
     },
     "metadata": {},
     "output_type": "display_data"
    },
    {
     "data": {
      "application/vnd.jupyter.widget-view+json": {
       "model_id": "f0c3a8237edb415093c3bac0f9cb2498",
       "version_major": 2,
       "version_minor": 0
      },
      "text/plain": [
       "rsuscs_Amon_UKESM1-0-LL_piClim-aer_r1...:   0%|          |0.00/39.3M [?B/s]"
      ]
     },
     "metadata": {},
     "output_type": "display_data"
    },
    {
     "data": {
      "application/vnd.jupyter.widget-view+json": {
       "model_id": "48be2a5924d0474297c5d2bd5c6d587c",
       "version_major": 2,
       "version_minor": 0
      },
      "text/plain": [
       "rsuscs_Amon_UKESM1-0-LL_piClim-contro...:   0%|          |0.00/39.3M [?B/s]"
      ]
     },
     "metadata": {},
     "output_type": "display_data"
    },
    {
     "data": {
      "application/vnd.jupyter.widget-view+json": {
       "model_id": "6401fad0fcc14c729068d41a56cb5722",
       "version_major": 2,
       "version_minor": 0
      },
      "text/plain": [
       "rsds_Amon_UKESM1-0-LL_piClim-aer_r1i1...:   0%|          |0.00/41.4M [?B/s]"
      ]
     },
     "metadata": {},
     "output_type": "display_data"
    },
    {
     "data": {
      "application/vnd.jupyter.widget-view+json": {
       "model_id": "cf431a62d86d45a4be5c41343e8d8299",
       "version_major": 2,
       "version_minor": 0
      },
      "text/plain": [
       "rsdt_Amon_UKESM1-0-LL_piClim-control_...:   0%|          |0.00/901k [?B/s]"
      ]
     },
     "metadata": {},
     "output_type": "display_data"
    },
    {
     "data": {
      "application/vnd.jupyter.widget-view+json": {
       "model_id": "23f44c7fc21543eb9b64a22169da2c05",
       "version_major": 2,
       "version_minor": 0
      },
      "text/plain": [
       "rsus_Amon_UKESM1-0-LL_piClim-control_...:   0%|          |0.00/40.1M [?B/s]"
      ]
     },
     "metadata": {},
     "output_type": "display_data"
    },
    {
     "data": {
      "application/vnd.jupyter.widget-view+json": {
       "model_id": "dcd326bcd4ba4811a6d264d4330b4773",
       "version_major": 2,
       "version_minor": 0
      },
      "text/plain": [
       "clt_Amon_UKESM1-0-LL_piClim-control_r...:   0%|          |0.00/35.6M [?B/s]"
      ]
     },
     "metadata": {},
     "output_type": "display_data"
    },
    {
     "name": "stdout",
     "output_type": "stream",
     "text": [
      "\n",
      "Downloading ACCESS-CM2.r1i1p1f1.gn ...\n",
      "\n"
     ]
    },
    {
     "data": {
      "application/vnd.jupyter.widget-view+json": {
       "model_id": "17b2892effcf4e298c2a8a12df9ca8f2",
       "version_major": 2,
       "version_minor": 0
      },
      "text/plain": [
       "   Searching indices:   0%|          |0/9 [       ?index/s]"
      ]
     },
     "metadata": {},
     "output_type": "display_data"
    },
    {
     "data": {
      "application/vnd.jupyter.widget-view+json": {
       "model_id": "3e6625943fb3452d8c64c3832343e1bc",
       "version_major": 2,
       "version_minor": 0
      },
      "text/plain": [
       "rsut_Amon_ACCESS-CM2_piClim-aer_r1i1p...:   0%|          |0.00/32.5M [?B/s]"
      ]
     },
     "metadata": {},
     "output_type": "display_data"
    },
    {
     "data": {
      "application/vnd.jupyter.widget-view+json": {
       "model_id": "0d6447fe94214783a38d83dc3fd2b2fd",
       "version_major": 2,
       "version_minor": 0
      },
      "text/plain": [
       "rsutcs_Amon_ACCESS-CM2_piClim-aer_r1i...:   0%|          |0.00/32.0M [?B/s]"
      ]
     },
     "metadata": {},
     "output_type": "display_data"
    },
    {
     "data": {
      "application/vnd.jupyter.widget-view+json": {
       "model_id": "6e85daafd7e94cb590bc954e0e078a5f",
       "version_major": 2,
       "version_minor": 0
      },
      "text/plain": [
       "rsdscs_Amon_ACCESS-CM2_piClim-control...:   0%|          |0.00/31.3M [?B/s]"
      ]
     },
     "metadata": {},
     "output_type": "display_data"
    },
    {
     "data": {
      "application/vnd.jupyter.widget-view+json": {
       "model_id": "2adde27446eb4af5b0bf1810ab0a4de2",
       "version_major": 2,
       "version_minor": 0
      },
      "text/plain": [
       "rsdt_Amon_ACCESS-CM2_piClim-aer_r1i1p...:   0%|          |0.00/547k [?B/s]"
      ]
     },
     "metadata": {},
     "output_type": "display_data"
    },
    {
     "data": {
      "application/vnd.jupyter.widget-view+json": {
       "model_id": "8dda69b66f2a4bc8865691de01960956",
       "version_major": 2,
       "version_minor": 0
      },
      "text/plain": [
       "rsdscs_Amon_ACCESS-CM2_piClim-aer_r1i...:   0%|          |0.00/31.4M [?B/s]"
      ]
     },
     "metadata": {},
     "output_type": "display_data"
    },
    {
     "data": {
      "application/vnd.jupyter.widget-view+json": {
       "model_id": "7603b493eb6a4784a42442ac40b72b7e",
       "version_major": 2,
       "version_minor": 0
      },
      "text/plain": [
       "rsuscs_Amon_ACCESS-CM2_piClim-aer_r1i...:   0%|          |0.00/32.4M [?B/s]"
      ]
     },
     "metadata": {},
     "output_type": "display_data"
    },
    {
     "data": {
      "application/vnd.jupyter.widget-view+json": {
       "model_id": "e27cd193514c4d44b230c03574d7d55c",
       "version_major": 2,
       "version_minor": 0
      },
      "text/plain": [
       "rsdt_Amon_ACCESS-CM2_piClim-control_r...:   0%|          |0.00/547k [?B/s]"
      ]
     },
     "metadata": {},
     "output_type": "display_data"
    },
    {
     "data": {
      "application/vnd.jupyter.widget-view+json": {
       "model_id": "42f75b01b3c149af835855a84888ff36",
       "version_major": 2,
       "version_minor": 0
      },
      "text/plain": [
       "rsut_Amon_ACCESS-CM2_piClim-control_r...:   0%|          |0.00/32.5M [?B/s]"
      ]
     },
     "metadata": {},
     "output_type": "display_data"
    },
    {
     "data": {
      "application/vnd.jupyter.widget-view+json": {
       "model_id": "a23d15e6883d4a608169640a204b4943",
       "version_major": 2,
       "version_minor": 0
      },
      "text/plain": [
       "rsuscs_Amon_ACCESS-CM2_piClim-control...:   0%|          |0.00/32.4M [?B/s]"
      ]
     },
     "metadata": {},
     "output_type": "display_data"
    },
    {
     "data": {
      "application/vnd.jupyter.widget-view+json": {
       "model_id": "dc933f42bc9d4c8e8c15f97a667a762b",
       "version_major": 2,
       "version_minor": 0
      },
      "text/plain": [
       "rsutcs_Amon_ACCESS-CM2_piClim-control...:   0%|          |0.00/32.0M [?B/s]"
      ]
     },
     "metadata": {},
     "output_type": "display_data"
    },
    {
     "data": {
      "application/vnd.jupyter.widget-view+json": {
       "model_id": "8f6ebc7c9dfc47f4b116114196dff0b7",
       "version_major": 2,
       "version_minor": 0
      },
      "text/plain": [
       "clt_Amon_ACCESS-CM2_piClim-aer_r1i1p1...:   0%|          |0.00/26.9M [?B/s]"
      ]
     },
     "metadata": {},
     "output_type": "display_data"
    },
    {
     "data": {
      "application/vnd.jupyter.widget-view+json": {
       "model_id": "7364bd190e3442f09ef5ec57f9e932b4",
       "version_major": 2,
       "version_minor": 0
      },
      "text/plain": [
       "rsds_Amon_ACCESS-CM2_piClim-aer_r1i1p...:   0%|          |0.00/32.5M [?B/s]"
      ]
     },
     "metadata": {},
     "output_type": "display_data"
    },
    {
     "data": {
      "application/vnd.jupyter.widget-view+json": {
       "model_id": "13e62ff4b0314efc9df1905c3eb15d36",
       "version_major": 2,
       "version_minor": 0
      },
      "text/plain": [
       "rsus_Amon_ACCESS-CM2_piClim-aer_r1i1p...:   0%|          |0.00/31.4M [?B/s]"
      ]
     },
     "metadata": {},
     "output_type": "display_data"
    },
    {
     "data": {
      "application/vnd.jupyter.widget-view+json": {
       "model_id": "b65f0d16eac849878b0034d5ee50098f",
       "version_major": 2,
       "version_minor": 0
      },
      "text/plain": [
       "rsus_Amon_ACCESS-CM2_piClim-control_r...:   0%|          |0.00/31.4M [?B/s]"
      ]
     },
     "metadata": {},
     "output_type": "display_data"
    },
    {
     "data": {
      "application/vnd.jupyter.widget-view+json": {
       "model_id": "56e726742e0843b2bf702a166da16572",
       "version_major": 2,
       "version_minor": 0
      },
      "text/plain": [
       "rsds_Amon_ACCESS-CM2_piClim-control_r...:   0%|          |0.00/32.5M [?B/s]"
      ]
     },
     "metadata": {},
     "output_type": "display_data"
    },
    {
     "data": {
      "application/vnd.jupyter.widget-view+json": {
       "model_id": "4932396857c94f1f86e02786e8792eaf",
       "version_major": 2,
       "version_minor": 0
      },
      "text/plain": [
       "clt_Amon_ACCESS-CM2_piClim-control_r1...:   0%|          |0.00/26.9M [?B/s]"
      ]
     },
     "metadata": {},
     "output_type": "display_data"
    },
    {
     "name": "stdout",
     "output_type": "stream",
     "text": [
      "\n",
      "Downloading MPI-ESM-1-2-HAM.r1i1p1f1.gn ...\n",
      "\n"
     ]
    },
    {
     "data": {
      "application/vnd.jupyter.widget-view+json": {
       "model_id": "70c55693c571458e82ec848b97e27e35",
       "version_major": 2,
       "version_minor": 0
      },
      "text/plain": [
       "   Searching indices:   0%|          |0/9 [       ?index/s]"
      ]
     },
     "metadata": {},
     "output_type": "display_data"
    },
    {
     "name": "stderr",
     "output_type": "stream",
     "text": [
      "/home/jovyan/my-conda-envs/cmip6-download/lib/python3.13/site-packages/intake_esgf/catalog.py:450: UserWarning: SolrESGFIndex('esgf-node.ipsl.upmc.fr') failed to return a response, info may be incomplete\n",
      "  warnings.warn(\n",
      "/home/jovyan/my-conda-envs/cmip6-download/lib/python3.13/site-packages/intake_esgf/catalog.py:450: UserWarning: SolrESGFIndex('esgf.ceda.ac.uk') failed to return a response, info may be incomplete\n",
      "  warnings.warn(\n",
      "/home/jovyan/my-conda-envs/cmip6-download/lib/python3.13/site-packages/intake_esgf/catalog.py:450: UserWarning: SolrESGFIndex('esgf-data.dkrz.de') failed to return a response, info may be incomplete\n",
      "  warnings.warn(\n",
      "/home/jovyan/my-conda-envs/cmip6-download/lib/python3.13/site-packages/intake_esgf/catalog.py:450: UserWarning: SolrESGFIndex('esg-dn1.nsc.liu.se') failed to return a response, info may be incomplete\n",
      "  warnings.warn(\n",
      "/home/jovyan/my-conda-envs/cmip6-download/lib/python3.13/site-packages/intake_esgf/catalog.py:450: UserWarning: SolrESGFIndex('esgf-node.ornl.gov') failed to return a response, info may be incomplete\n",
      "  warnings.warn(\n",
      "/home/jovyan/my-conda-envs/cmip6-download/lib/python3.13/site-packages/intake_esgf/catalog.py:450: UserWarning: SolrESGFIndex('esgf-node.llnl.gov') failed to return a response, info may be incomplete\n",
      "  warnings.warn(\n",
      "/home/jovyan/my-conda-envs/cmip6-download/lib/python3.13/site-packages/intake_esgf/catalog.py:450: UserWarning: SolrESGFIndex('esgf.nci.org.au') failed to return a response, info may be incomplete\n",
      "  warnings.warn(\n"
     ]
    },
    {
     "data": {
      "application/vnd.jupyter.widget-view+json": {
       "model_id": "bb9963ee4eb04318a309c94954b411f9",
       "version_major": 2,
       "version_minor": 0
      },
      "text/plain": [
       "clt_Amon_MPI-ESM-1-2-HAM_piClim-aer_r...:   0%|          |0.00/11.9M [?B/s]"
      ]
     },
     "metadata": {},
     "output_type": "display_data"
    },
    {
     "data": {
      "application/vnd.jupyter.widget-view+json": {
       "model_id": "ba16837f9ed14254abfc7a344366cc20",
       "version_major": 2,
       "version_minor": 0
      },
      "text/plain": [
       "rsdt_Amon_MPI-ESM-1-2-HAM_piClim-cont...:   0%|          |0.00/1.25M [?B/s]"
      ]
     },
     "metadata": {},
     "output_type": "display_data"
    },
    {
     "data": {
      "application/vnd.jupyter.widget-view+json": {
       "model_id": "894de7653d124a6b881aa48c2afc93a9",
       "version_major": 2,
       "version_minor": 0
      },
      "text/plain": [
       "clt_Amon_MPI-ESM-1-2-HAM_piClim-aer_r...:   0%|          |0.00/5.99M [?B/s]"
      ]
     },
     "metadata": {},
     "output_type": "display_data"
    },
    {
     "data": {
      "application/vnd.jupyter.widget-view+json": {
       "model_id": "8acf42c268eb4acc85e568a03d874d66",
       "version_major": 2,
       "version_minor": 0
      },
      "text/plain": [
       "rsuscs_Amon_MPI-ESM-1-2-HAM_piClim-ae...:   0%|          |0.00/7.19M [?B/s]"
      ]
     },
     "metadata": {},
     "output_type": "display_data"
    },
    {
     "data": {
      "application/vnd.jupyter.widget-view+json": {
       "model_id": "f172b3528d274167b80a2e13ceedc7e0",
       "version_major": 2,
       "version_minor": 0
      },
      "text/plain": [
       "rsdscs_Amon_MPI-ESM-1-2-HAM_piClim-ae...:   0%|          |0.00/3.19M [?B/s]"
      ]
     },
     "metadata": {},
     "output_type": "display_data"
    },
    {
     "data": {
      "application/vnd.jupyter.widget-view+json": {
       "model_id": "42a3187d2db94dcb9c72010a03a5cb59",
       "version_major": 2,
       "version_minor": 0
      },
      "text/plain": [
       "rsut_Amon_MPI-ESM-1-2-HAM_piClim-cont...:   0%|          |0.00/4.37M [?B/s]"
      ]
     },
     "metadata": {},
     "output_type": "display_data"
    },
    {
     "data": {
      "application/vnd.jupyter.widget-view+json": {
       "model_id": "733200a8b1f74572af3136987c709458",
       "version_major": 2,
       "version_minor": 0
      },
      "text/plain": [
       "rsuscs_Amon_MPI-ESM-1-2-HAM_piClim-ae...:   0%|          |0.00/3.62M [?B/s]"
      ]
     },
     "metadata": {},
     "output_type": "display_data"
    },
    {
     "data": {
      "application/vnd.jupyter.widget-view+json": {
       "model_id": "ae936450316b4d77a97f14205e827901",
       "version_major": 2,
       "version_minor": 0
      },
      "text/plain": [
       "rsut_Amon_MPI-ESM-1-2-HAM_piClim-aer_...:   0%|          |0.00/4.36M [?B/s]"
      ]
     },
     "metadata": {},
     "output_type": "display_data"
    },
    {
     "data": {
      "application/vnd.jupyter.widget-view+json": {
       "model_id": "9c327530789b445cb1ec30575156b383",
       "version_major": 2,
       "version_minor": 0
      },
      "text/plain": [
       "clt_Amon_MPI-ESM-1-2-HAM_piClim-contr...:   0%|          |0.00/11.9M [?B/s]"
      ]
     },
     "metadata": {},
     "output_type": "display_data"
    },
    {
     "data": {
      "application/vnd.jupyter.widget-view+json": {
       "model_id": "94453c2ab86b4c258682e00245f5668a",
       "version_major": 2,
       "version_minor": 0
      },
      "text/plain": [
       "rsdt_Amon_MPI-ESM-1-2-HAM_piClim-aer_...:   0%|          |0.00/2.44M [?B/s]"
      ]
     },
     "metadata": {},
     "output_type": "display_data"
    },
    {
     "data": {
      "application/vnd.jupyter.widget-view+json": {
       "model_id": "ed12025fd45c4375b62823ceadfc368b",
       "version_major": 2,
       "version_minor": 0
      },
      "text/plain": [
       "rsus_Amon_MPI-ESM-1-2-HAM_piClim-aer_...:   0%|          |0.00/4.14M [?B/s]"
      ]
     },
     "metadata": {},
     "output_type": "display_data"
    },
    {
     "data": {
      "application/vnd.jupyter.widget-view+json": {
       "model_id": "75df8bea056040e3ac2db75eb8ba1a5e",
       "version_major": 2,
       "version_minor": 0
      },
      "text/plain": [
       "rsut_Amon_MPI-ESM-1-2-HAM_piClim-aer_...:   0%|          |0.00/8.71M [?B/s]"
      ]
     },
     "metadata": {},
     "output_type": "display_data"
    },
    {
     "data": {
      "application/vnd.jupyter.widget-view+json": {
       "model_id": "0bcad26e5fee4c1a8b995e8cba4045b0",
       "version_major": 2,
       "version_minor": 0
      },
      "text/plain": [
       "rsdt_Amon_MPI-ESM-1-2-HAM_piClim-cont...:   0%|          |0.00/2.44M [?B/s]"
      ]
     },
     "metadata": {},
     "output_type": "display_data"
    },
    {
     "data": {
      "application/vnd.jupyter.widget-view+json": {
       "model_id": "0c1cdc41640045e292108358885e3e92",
       "version_major": 2,
       "version_minor": 0
      },
      "text/plain": [
       "rsuscs_Amon_MPI-ESM-1-2-HAM_piClim-co...:   0%|          |0.00/7.17M [?B/s]"
      ]
     },
     "metadata": {},
     "output_type": "display_data"
    },
    {
     "data": {
      "application/vnd.jupyter.widget-view+json": {
       "model_id": "6b977d80e9244d17b785518807ddb191",
       "version_major": 2,
       "version_minor": 0
      },
      "text/plain": [
       "rsds_Amon_MPI-ESM-1-2-HAM_piClim-aer_...:   0%|          |0.00/4.46M [?B/s]"
      ]
     },
     "metadata": {},
     "output_type": "display_data"
    },
    {
     "data": {
      "application/vnd.jupyter.widget-view+json": {
       "model_id": "f95ef172195d4968883af5b98a3513e3",
       "version_major": 2,
       "version_minor": 0
      },
      "text/plain": [
       "rsutcs_Amon_MPI-ESM-1-2-HAM_piClim-ae...:   0%|          |0.00/3.43M [?B/s]"
      ]
     },
     "metadata": {},
     "output_type": "display_data"
    },
    {
     "data": {
      "application/vnd.jupyter.widget-view+json": {
       "model_id": "ec1bc35c641c4f869a07aecdedb329af",
       "version_major": 2,
       "version_minor": 0
      },
      "text/plain": [
       "clt_Amon_MPI-ESM-1-2-HAM_piClim-contr...:   0%|          |0.00/5.99M [?B/s]"
      ]
     },
     "metadata": {},
     "output_type": "display_data"
    },
    {
     "data": {
      "application/vnd.jupyter.widget-view+json": {
       "model_id": "504627b973de4f5f8a322acc1d48b9e5",
       "version_major": 2,
       "version_minor": 0
      },
      "text/plain": [
       "rsus_Amon_MPI-ESM-1-2-HAM_piClim-cont...:   0%|          |0.00/8.27M [?B/s]"
      ]
     },
     "metadata": {},
     "output_type": "display_data"
    },
    {
     "data": {
      "application/vnd.jupyter.widget-view+json": {
       "model_id": "726356c53b924145b40c74d250b77902",
       "version_major": 2,
       "version_minor": 0
      },
      "text/plain": [
       "rsds_Amon_MPI-ESM-1-2-HAM_piClim-aer_...:   0%|          |0.00/8.89M [?B/s]"
      ]
     },
     "metadata": {},
     "output_type": "display_data"
    },
    {
     "data": {
      "application/vnd.jupyter.widget-view+json": {
       "model_id": "36d8f865d8e749d5b52a88d353dff602",
       "version_major": 2,
       "version_minor": 0
      },
      "text/plain": [
       "rsus_Amon_MPI-ESM-1-2-HAM_piClim-aer_...:   0%|          |0.00/8.27M [?B/s]"
      ]
     },
     "metadata": {},
     "output_type": "display_data"
    },
    {
     "data": {
      "application/vnd.jupyter.widget-view+json": {
       "model_id": "5c7a8b754f714ec1b5e779ca4bfa3753",
       "version_major": 2,
       "version_minor": 0
      },
      "text/plain": [
       "rsutcs_Amon_MPI-ESM-1-2-HAM_piClim-ae...:   0%|          |0.00/6.80M [?B/s]"
      ]
     },
     "metadata": {},
     "output_type": "display_data"
    },
    {
     "data": {
      "application/vnd.jupyter.widget-view+json": {
       "model_id": "bd57977ea10f44e5b9b68c8d698aa386",
       "version_major": 2,
       "version_minor": 0
      },
      "text/plain": [
       "rsdscs_Amon_MPI-ESM-1-2-HAM_piClim-co...:   0%|          |0.00/3.15M [?B/s]"
      ]
     },
     "metadata": {},
     "output_type": "display_data"
    },
    {
     "data": {
      "application/vnd.jupyter.widget-view+json": {
       "model_id": "86ce904711b34ff99059ec6d16a2fe2d",
       "version_major": 2,
       "version_minor": 0
      },
      "text/plain": [
       "rsus_Amon_MPI-ESM-1-2-HAM_piClim-cont...:   0%|          |0.00/4.16M [?B/s]"
      ]
     },
     "metadata": {},
     "output_type": "display_data"
    },
    {
     "data": {
      "application/vnd.jupyter.widget-view+json": {
       "model_id": "ce78be2d820c49a9b04e113dd2f20bab",
       "version_major": 2,
       "version_minor": 0
      },
      "text/plain": [
       "rsut_Amon_MPI-ESM-1-2-HAM_piClim-cont...:   0%|          |0.00/8.70M [?B/s]"
      ]
     },
     "metadata": {},
     "output_type": "display_data"
    },
    {
     "data": {
      "application/vnd.jupyter.widget-view+json": {
       "model_id": "4c9e819f02fb421895b642918e45fc2b",
       "version_major": 2,
       "version_minor": 0
      },
      "text/plain": [
       "rsutcs_Amon_MPI-ESM-1-2-HAM_piClim-co...:   0%|          |0.00/3.41M [?B/s]"
      ]
     },
     "metadata": {},
     "output_type": "display_data"
    },
    {
     "data": {
      "application/vnd.jupyter.widget-view+json": {
       "model_id": "08092065a1c34b6c92b8323101182e60",
       "version_major": 2,
       "version_minor": 0
      },
      "text/plain": [
       "rsdt_Amon_MPI-ESM-1-2-HAM_piClim-aer_...:   0%|          |0.00/1.25M [?B/s]"
      ]
     },
     "metadata": {},
     "output_type": "display_data"
    },
    {
     "data": {
      "application/vnd.jupyter.widget-view+json": {
       "model_id": "69e7304074cc42f183003cc99184f71d",
       "version_major": 2,
       "version_minor": 0
      },
      "text/plain": [
       "rsds_Amon_MPI-ESM-1-2-HAM_piClim-cont...:   0%|          |0.00/8.86M [?B/s]"
      ]
     },
     "metadata": {},
     "output_type": "display_data"
    },
    {
     "data": {
      "application/vnd.jupyter.widget-view+json": {
       "model_id": "d031b75a4fc3414fa22d6d3ed8a8f18e",
       "version_major": 2,
       "version_minor": 0
      },
      "text/plain": [
       "rsds_Amon_MPI-ESM-1-2-HAM_piClim-cont...:   0%|          |0.00/4.45M [?B/s]"
      ]
     },
     "metadata": {},
     "output_type": "display_data"
    },
    {
     "data": {
      "application/vnd.jupyter.widget-view+json": {
       "model_id": "f4e251081ec148b3a90ad6f005c78886",
       "version_major": 2,
       "version_minor": 0
      },
      "text/plain": [
       "rsdscs_Amon_MPI-ESM-1-2-HAM_piClim-co...:   0%|          |0.00/6.26M [?B/s]"
      ]
     },
     "metadata": {},
     "output_type": "display_data"
    },
    {
     "data": {
      "application/vnd.jupyter.widget-view+json": {
       "model_id": "32ebe32504664bd58cd1ca6661e7f28e",
       "version_major": 2,
       "version_minor": 0
      },
      "text/plain": [
       "rsuscs_Amon_MPI-ESM-1-2-HAM_piClim-co...:   0%|          |0.00/3.61M [?B/s]"
      ]
     },
     "metadata": {},
     "output_type": "display_data"
    },
    {
     "data": {
      "application/vnd.jupyter.widget-view+json": {
       "model_id": "011bb7534cfa4da6a3c935fd77a126d8",
       "version_major": 2,
       "version_minor": 0
      },
      "text/plain": [
       "rsdscs_Amon_MPI-ESM-1-2-HAM_piClim-ae...:   0%|          |0.00/6.32M [?B/s]"
      ]
     },
     "metadata": {},
     "output_type": "display_data"
    },
    {
     "data": {
      "application/vnd.jupyter.widget-view+json": {
       "model_id": "a3fa610686a848558494cfa936de953a",
       "version_major": 2,
       "version_minor": 0
      },
      "text/plain": [
       "rsutcs_Amon_MPI-ESM-1-2-HAM_piClim-co...:   0%|          |0.00/6.78M [?B/s]"
      ]
     },
     "metadata": {},
     "output_type": "display_data"
    }
   ],
   "source": [
    "# ================ DOWNLOAD EVERY SINGLE OUTPUT ================ #\n",
    "\n",
    "### DOWNLOAD EVERY SINGLE ENTRY AND COMBINE THEM INTO A DICTIONARY ###\n",
    "\n",
    "## Initialize the full dictionary ##\n",
    "\n",
    "full_cmip6_dict = {}\n",
    "\n",
    "## Downloading all the models one entry at a time ##\n",
    "\n",
    "print(\"Downloading and/or loading the data one entry at a time...\\n\")\n",
    "\n",
    "for index in grouped_models_dataframe.index :\n",
    "\n",
    "    ## Reset the catalog ##\n",
    "\n",
    "    catalog = intake_esgf.ESGFCatalog()\n",
    "\n",
    "    ## Generate the associated search criterias ##\n",
    "    \n",
    "    search_criterias_given_row, single_model_name = generate_single_model_search_criterias(\n",
    "        search_facets = search, \n",
    "        grouped_models_dataframe = grouped_models_dataframe,\n",
    "        index = index\n",
    "        )\n",
    "    \n",
    "    ## Generate the single model's output name ##\n",
    "\n",
    "    print(\"\\nDownloading {} ...\\n\".format(single_model_name))\n",
    "\n",
    "    ## Apply the search criterias ##\n",
    "\n",
    "    catalog.search(\n",
    "            **search_criterias_given_row,\n",
    "        )\n",
    "\n",
    "    ## Downloading the output... ##\n",
    "\n",
    "    single_model_dictionary = catalog.to_dataset_dict(\n",
    "            add_measures=False,\n",
    "            ignore_facets=[\"project\",\"mip_era\",\"activtity_drs\", \"institution_id, table_id\",\"grid_label\",\"version\"],\n",
    "            quiet=True,\n",
    "        )\n",
    "    \n",
    "    ## Updating its keys ##\n",
    "\n",
    "    single_model_dictionary = update_single_entry_keys(single_model_dictionary, single_model_name)\n",
    "\n",
    "    ## Updating the full dictionary ##\n",
    "\n",
    "    full_cmip6_dict = full_cmip6_dict | single_model_dictionary"
   ]
  },
  {
   "cell_type": "markdown",
   "id": "ca0ebc1e",
   "metadata": {},
   "source": [
    "### Homemade routine to retrieve the areacella of a given entry only once"
   ]
  },
  {
   "cell_type": "markdown",
   "id": "d1398b16",
   "metadata": {},
   "source": [
    "As we have said in the introduction of this section, the main default of the intake-esgf package when it comes to look for measures is that it does so for every single variable. And this is independent of the fact that our 8 variables fore one experiment would share the same areacella grid. What's more, it always start by looking for our full set of facets which is irrevelant. \n",
    "\n",
    "Indeed, the only three parameters that define areacella are the **source_id**, **member_id** and obviously the **grid_label**. Conveniently enough, we can group our search results according to these three parameters with the *.model_groups* method. In the end, it may be that our experiment won't hold the areacella variable but it does not really matter, we just need to find one. This is the spirit of this routine made to still get areacella but significantly faster. It is worth noting that this method is not useful if you need to import a small number of models and variables as you won't really see the time difference. \n",
    "\n",
    "Let's be sure that we look at all the nodes for this part."
   ]
  },
  {
   "cell_type": "code",
   "execution_count": 26,
   "id": "83e379d4",
   "metadata": {},
   "outputs": [],
   "source": [
    "all_indices = True"
   ]
  },
  {
   "cell_type": "code",
   "execution_count": 27,
   "id": "b5877905",
   "metadata": {},
   "outputs": [
    {
     "name": "stdout",
     "output_type": "stream",
     "text": [
      "We are looking at all the nodes.\n"
     ]
    }
   ],
   "source": [
    "intake_esgf.conf.set(all_indices=all_indices)\n",
    "\n",
    "if all_indices:\n",
    "\n",
    "    print(\"We are looking at all the nodes.\")\n",
    "\n",
    "else:\n",
    "\n",
    "    print(\"We are only looking at the globus nodes\")"
   ]
  },
  {
   "cell_type": "markdown",
   "id": "e39a808a",
   "metadata": {},
   "source": [
    "Then we apply the following routine to produce the areacella dictionary."
   ]
  },
  {
   "cell_type": "code",
   "execution_count": 28,
   "id": "8ff61345",
   "metadata": {},
   "outputs": [
    {
     "name": "stdout",
     "output_type": "stream",
     "text": [
      "\n",
      "Downloading areacella for ACCESS-CM2.r1i1p1f1.gn ...\n",
      "\n"
     ]
    },
    {
     "data": {
      "application/vnd.jupyter.widget-view+json": {
       "model_id": "5a2c645618cd46e28ac1c518cf149c75",
       "version_major": 2,
       "version_minor": 0
      },
      "text/plain": [
       "areacella_fx_ACCESS-CM2_historical_r1...:   0%|          |0.00/48.4k [?B/s]"
      ]
     },
     "metadata": {},
     "output_type": "display_data"
    },
    {
     "name": "stdout",
     "output_type": "stream",
     "text": [
      "\n",
      "Downloading areacella for ACCESS-ESM1-5.r1i1p1f1.gn ...\n",
      "\n"
     ]
    },
    {
     "data": {
      "application/vnd.jupyter.widget-view+json": {
       "model_id": "6e5f64ad7bbc4c049974888ebfafe46e",
       "version_major": 2,
       "version_minor": 0
      },
      "text/plain": [
       "areacella_fx_ACCESS-ESM1-5_historical...:   0%|          |0.00/48.4k [?B/s]"
      ]
     },
     "metadata": {},
     "output_type": "display_data"
    },
    {
     "name": "stdout",
     "output_type": "stream",
     "text": [
      "\n",
      "Downloading areacella for BCC-ESM1.r1i1p1f1.gn ...\n",
      "\n"
     ]
    },
    {
     "data": {
      "application/vnd.jupyter.widget-view+json": {
       "model_id": "bfd2bc823d814b0ba6fc7cfb30afbca7",
       "version_major": 2,
       "version_minor": 0
      },
      "text/plain": [
       "areacella_fx_BCC-ESM1_1pctCO2_r1i1p1f...:   0%|          |0.00/50.8k [?B/s]"
      ]
     },
     "metadata": {},
     "output_type": "display_data"
    },
    {
     "name": "stdout",
     "output_type": "stream",
     "text": [
      "\n",
      "Downloading areacella for CanESM5.r1i1p2f1.gn ...\n",
      "\n"
     ]
    },
    {
     "data": {
      "application/vnd.jupyter.widget-view+json": {
       "model_id": "5cbcf45b967649e6b0cfa02b189cbd7f",
       "version_major": 2,
       "version_minor": 0
      },
      "text/plain": [
       "areacella_fx_CanESM5_amip_r1i1p1f1_gn...:   0%|          |0.00/48.0k [?B/s]"
      ]
     },
     "metadata": {},
     "output_type": "display_data"
    },
    {
     "name": "stdout",
     "output_type": "stream",
     "text": [
      "\n",
      "Downloading areacella for CESM2.r1i1p1f1.gn ...\n",
      "\n"
     ]
    },
    {
     "data": {
      "application/vnd.jupyter.widget-view+json": {
       "model_id": "6b2ffb68c1f74aaf8557cf7f29b7c97b",
       "version_major": 2,
       "version_minor": 0
      },
      "text/plain": [
       "areacella_fx_CESM2_ssp126_r10i1p1f1_g...:   0%|          |0.00/44.7k [?B/s]"
      ]
     },
     "metadata": {},
     "output_type": "display_data"
    },
    {
     "name": "stdout",
     "output_type": "stream",
     "text": [
      "\n",
      "Downloading areacella for CNRM-CM6-1.r1i1p1f2.gr ...\n",
      "\n"
     ]
    },
    {
     "data": {
      "application/vnd.jupyter.widget-view+json": {
       "model_id": "28f11fafc422408ca76bde3071ed7f25",
       "version_major": 2,
       "version_minor": 0
      },
      "text/plain": [
       "areacella_fx_CNRM-CM6-1_amip_r1i1p1f2...:   0%|          |0.00/30.5k [?B/s]"
      ]
     },
     "metadata": {},
     "output_type": "display_data"
    },
    {
     "name": "stdout",
     "output_type": "stream",
     "text": [
      "\n",
      "Downloading areacella for CNRM-ESM2-1.r1i1p1f2.gr ...\n",
      "\n"
     ]
    },
    {
     "data": {
      "application/vnd.jupyter.widget-view+json": {
       "model_id": "0f9e48affd3f434baec7547e6b2a36eb",
       "version_major": 2,
       "version_minor": 0
      },
      "text/plain": [
       "areacella_fx_CNRM-ESM2-1_historical_r...:   0%|          |0.00/30.5k [?B/s]"
      ]
     },
     "metadata": {},
     "output_type": "display_data"
    },
    {
     "name": "stdout",
     "output_type": "stream",
     "text": [
      "\n",
      "Downloading areacella for GFDL-CM4.r1i1p1f1.gr1 ...\n",
      "\n"
     ]
    },
    {
     "data": {
      "application/vnd.jupyter.widget-view+json": {
       "model_id": "26b05443413a4626961ac3d56864d1e2",
       "version_major": 2,
       "version_minor": 0
      },
      "text/plain": [
       "areacella_fx_GFDL-CM4_1pctCO2_r1i1p1f...:   0%|          |0.00/41.7k [?B/s]"
      ]
     },
     "metadata": {},
     "output_type": "display_data"
    },
    {
     "name": "stdout",
     "output_type": "stream",
     "text": [
      "\n",
      "Downloading areacella for GISS-E2-1-G.r1i1p1f1.gn ...\n",
      "\n"
     ]
    },
    {
     "data": {
      "application/vnd.jupyter.widget-view+json": {
       "model_id": "d039ea9914d04f398a097b0eb69d66b1",
       "version_major": 2,
       "version_minor": 0
      },
      "text/plain": [
       "areacella_fx_GISS-E2-1-G_piControl_r1...:   0%|          |0.00/71.5k [?B/s]"
      ]
     },
     "metadata": {},
     "output_type": "display_data"
    },
    {
     "name": "stdout",
     "output_type": "stream",
     "text": [
      "\n",
      "Downloading areacella for GISS-E2-1-G.r1i1p1f2.gn ...\n",
      "\n",
      "\n",
      "Downloading areacella for GISS-E2-1-G.r1i1p3f1.gn ...\n",
      "\n",
      "\n",
      "Downloading areacella for HadGEM3-GC31-LL.r1i1p1f3.gn ...\n",
      "\n"
     ]
    },
    {
     "data": {
      "application/vnd.jupyter.widget-view+json": {
       "model_id": "ab203f70105548d59c2bd296d9e3ed01",
       "version_major": 2,
       "version_minor": 0
      },
      "text/plain": [
       "areacella_fx_HadGEM3-GC31-LL_piContro...:   0%|          |0.00/65.5k [?B/s]"
      ]
     },
     "metadata": {},
     "output_type": "display_data"
    },
    {
     "name": "stdout",
     "output_type": "stream",
     "text": [
      "\n",
      "Downloading areacella for IPSL-CM6A-LR.r1i1p1f1.gr ...\n",
      "\n"
     ]
    },
    {
     "data": {
      "application/vnd.jupyter.widget-view+json": {
       "model_id": "2f2ab2427d454b5b8e1a9048071fef89",
       "version_major": 2,
       "version_minor": 0
      },
      "text/plain": [
       "areacella_fx_IPSL-CM6A-LR_historical_...:   0%|          |0.00/30.3k [?B/s]"
      ]
     },
     "metadata": {},
     "output_type": "display_data"
    },
    {
     "name": "stdout",
     "output_type": "stream",
     "text": [
      "\n",
      "Downloading areacella for IPSL-CM6A-LR.r2i1p1f1.gr ...\n",
      "\n",
      "\n",
      "Downloading areacella for IPSL-CM6A-LR.r3i1p1f1.gr ...\n",
      "\n",
      "\n",
      "Downloading areacella for IPSL-CM6A-LR.r4i1p1f1.gr ...\n",
      "\n",
      "\n",
      "Downloading areacella for IPSL-CM6A-LR-INCA.r1i1p1f1.gr ...\n",
      "\n",
      "\n",
      "Downloading areacella for MIROC6.r1i1p1f1.gn ...\n",
      "\n"
     ]
    },
    {
     "data": {
      "application/vnd.jupyter.widget-view+json": {
       "model_id": "0389c23c5e3c44f9931965c9eb998013",
       "version_major": 2,
       "version_minor": 0
      },
      "text/plain": [
       "areacella_fx_MIROC6_historical_r1i1p1...:   0%|          |0.00/49.2k [?B/s]"
      ]
     },
     "metadata": {},
     "output_type": "display_data"
    },
    {
     "name": "stdout",
     "output_type": "stream",
     "text": [
      "\n",
      "Downloading areacella for MIROC6.r11i1p1f1.gn ...\n",
      "\n",
      "\n",
      "Downloading areacella for MPI-ESM-1-2-HAM.r1i1p1f1.gn ...\n",
      "\n"
     ]
    },
    {
     "data": {
      "application/vnd.jupyter.widget-view+json": {
       "model_id": "4b7dd9214fc74939b2711c588b9746b8",
       "version_major": 2,
       "version_minor": 0
      },
      "text/plain": [
       "areacella_fx_MPI-ESM-1-2-HAM_historic...:   0%|          |0.00/50.9k [?B/s]"
      ]
     },
     "metadata": {},
     "output_type": "display_data"
    },
    {
     "name": "stdout",
     "output_type": "stream",
     "text": [
      "\n",
      "Downloading areacella for MRI-ESM2-0.r1i1p1f1.gn ...\n",
      "\n"
     ]
    },
    {
     "data": {
      "application/vnd.jupyter.widget-view+json": {
       "model_id": "1c5d3dfa2d8546f39427b593fcf3ac35",
       "version_major": 2,
       "version_minor": 0
      },
      "text/plain": [
       "areacella_fx_MRI-ESM2-0_ssp534-over_r...:   0%|          |0.00/51.0k [?B/s]"
      ]
     },
     "metadata": {},
     "output_type": "display_data"
    },
    {
     "name": "stdout",
     "output_type": "stream",
     "text": [
      "\n",
      "Downloading areacella for NorESM2-LM.r1i1p1f1.gn ...\n",
      "\n"
     ]
    },
    {
     "data": {
      "application/vnd.jupyter.widget-view+json": {
       "model_id": "23133aba74cf4fd891f155fa2119bf87",
       "version_major": 2,
       "version_minor": 0
      },
      "text/plain": [
       "areacella_fx_NorESM2-LM_ssp370_r1i1p1...:   0%|          |0.00/48.2k [?B/s]"
      ]
     },
     "metadata": {},
     "output_type": "display_data"
    },
    {
     "name": "stdout",
     "output_type": "stream",
     "text": [
      "\n",
      "Downloading areacella for NorESM2-LM.r1i1p2f1.gn ...\n",
      "\n",
      "\n",
      "Downloading areacella for NorESM2-MM.r1i1p1f1.gn ...\n",
      "\n"
     ]
    },
    {
     "data": {
      "application/vnd.jupyter.widget-view+json": {
       "model_id": "a0cd428a7fe742e7b7d1445e8dd58752",
       "version_major": 2,
       "version_minor": 0
      },
      "text/plain": [
       "areacella_fx_NorESM2-MM_ssp126_r1i1p1...:   0%|          |0.00/56.2k [?B/s]"
      ]
     },
     "metadata": {},
     "output_type": "display_data"
    },
    {
     "name": "stdout",
     "output_type": "stream",
     "text": [
      "\n",
      "Downloading areacella for UKESM1-0-LL.r1i1p1f4.gn ...\n",
      "\n"
     ]
    },
    {
     "data": {
      "application/vnd.jupyter.widget-view+json": {
       "model_id": "2898ac834afd4789a9a3089150df9431",
       "version_major": 2,
       "version_minor": 0
      },
      "text/plain": [
       "areacella_fx_UKESM1-0-LL_piControl_r1...:   0%|          |0.00/65.5k [?B/s]"
      ]
     },
     "metadata": {},
     "output_type": "display_data"
    }
   ],
   "source": [
    "# ================ HOMEMADE ROUTINE TO GET AREACELLA GRIDS FASTER ================ #\n",
    "\n",
    "### INITIALISATION  ###\n",
    "\n",
    "## Initialise the full dictionary ##\n",
    "\n",
    "dict_areacella = {}\n",
    "\n",
    "## Number of rows ##\n",
    "\n",
    "n_rows = series_grouped_models.size\n",
    "\n",
    "### GO THROUGH EVERY ROW OF THE PANDA SERIES ###\n",
    "\n",
    "for ii in range(n_rows):\n",
    "\n",
    "    ## Get the SOURCE_ID | MEMBER_ID | GRID_LABEL of the row ##\n",
    "\n",
    "    # Retrieve the row ##\n",
    "\n",
    "    row_ii = series_grouped_models.index[ii]\n",
    "\n",
    "    # Extract the labels #\n",
    "\n",
    "    source_id, member_id, grid_label = row_ii\n",
    "\n",
    "    # Build the key for this dictionary entry ##\n",
    "\n",
    "    full_key = source_id + \".\" + member_id + \".\" + grid_label\n",
    "\n",
    "    ## Special case for the IPSL-CM6A-LR-INCA model ##\n",
    "\n",
    "    if source_id == \"IPSL-CM6A-LR-INCA\":\n",
    "\n",
    "        source_id = \"IPSL-CM6A-LR\"\n",
    "\n",
    "    ## Do the full search ##\n",
    "\n",
    "    areacella_search_full = catalog.search(\n",
    "        source_id=source_id,\n",
    "        grid_label=grid_label,\n",
    "        variable_id=\"areacella\",\n",
    "        quiet=True,\n",
    "    ).df  # silence the progress bar\n",
    "\n",
    "    ## Extract the first experiment id that gives an areacella entry ##\n",
    "\n",
    "    only_first_exp_id = areacella_search_full.experiment_id.values[0]\n",
    "\n",
    "    ## Extract the first member id that gives an areacella entry ##\n",
    "\n",
    "    only_first_member_id = areacella_search_full.member_id.values[0]\n",
    "\n",
    "    ## Get the areacella for the given row ##\n",
    "\n",
    "    # Search and download it #\n",
    "\n",
    "    print(\"\\nDownloading areacella for {} ...\\n\".format(full_key))\n",
    "\n",
    "    areacella_ii = catalog.search(\n",
    "        source_id=source_id,\n",
    "        grid_label=grid_label,\n",
    "        variable_id=\"areacella\",\n",
    "        experiment_id=only_first_exp_id,\n",
    "        member_id=only_first_member_id,\n",
    "        quiet=True\n",
    "    ).to_dataset_dict(\n",
    "        add_measures=False, \n",
    "        quiet=True\n",
    "    )  # silence the progress bar\n",
    "\n",
    "    # Store it in dictionary #\n",
    "\n",
    "    dict_areacella[full_key] = areacella_ii[\"areacella\"]"
   ]
  },
  {
   "cell_type": "markdown",
   "id": "4925f40d",
   "metadata": {},
   "source": [
    "---\n",
    "\n",
    "## Combine the extracted data into full xarray datasets with monthly climatologies and saves them on disk\n",
    "\n",
    "---"
   ]
  },
  {
   "cell_type": "markdown",
   "id": "fd6f6050",
   "metadata": {},
   "source": [
    "The next step is to treat this data to make it usable for our analysis, in this case we wish to have monthly climatologies for every variable. In this case we start now from a bunch of netcdf files on disk associated to each entry we wished to have. \n",
    "\n",
    "However, if we wanted to retrieve this raw data in another script, we would have to call again this whole routine with intake-esgf that would, this time, find the files locally. What's more, each variable is separated under a dictionary key. This is not convenient for the generation of the climatologies as we would prefer full xarray datasets that are way more flexible.\n",
    "\n",
    "A solution that has been found here is to regroup every variable for a given experiment and a given entry under the **same xarray dataset**, generate the **monthly climatologies of every variable** and then save the datasets as **netcdf files**. The **paths** of these netcdf files are saved in a **pandas data series** that can be loaded at the beginning of a script. As a result, we can reload a simpler dictionary holding pre-treated datasets that are easier objects to manipulate without calling the ESGF catalog. "
   ]
  },
  {
   "cell_type": "markdown",
   "id": "653a11e7",
   "metadata": {},
   "source": [
    "### Generate monthly climatologies for every experiment and entry "
   ]
  },
  {
   "cell_type": "markdown",
   "id": "1ff2cf24",
   "metadata": {},
   "source": [
    "SEPARATE THE CLIMATOLOGY SCRIPT FROM THE GENERATE THE XARRAY FILES \n",
    "\n",
    "MOVE GET_CMIP6_DATA IN THE MAIN"
   ]
  },
  {
   "cell_type": "markdown",
   "id": "9e9b809c",
   "metadata": {},
   "source": [
    "## I'm stupid"
   ]
  },
  {
   "cell_type": "markdown",
   "id": "064ed184",
   "metadata": {},
   "source": [
    "print('caca')"
   ]
  },
  {
   "cell_type": "code",
   "execution_count": 29,
   "id": "81082598",
   "metadata": {},
   "outputs": [
    {
     "name": "stdout",
     "output_type": "stream",
     "text": [
      "caca\n"
     ]
    }
   ],
   "source": [
    "print(\"caca\")"
   ]
  },
  {
   "cell_type": "code",
   "execution_count": null,
   "id": "ce20c195",
   "metadata": {},
   "outputs": [],
   "source": []
  }
 ],
 "metadata": {
  "kernelspec": {
   "display_name": "cmip6-download",
   "language": "python",
   "name": "cmip6-download"
  }
 },
 "nbformat": 4,
 "nbformat_minor": 5
}
