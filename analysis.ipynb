{
 "cells": [
  {
   "cell_type": "code",
   "execution_count": null,
   "metadata": {},
   "outputs": [],
   "source": []
  }
 ],
 "metadata": {
  "kernelspec": {
   "display_name": "cmip6-download",
   "language": "python",
   "name": "cmip6-download"
  }
 },
 "nbformat": 4,
 "nbformat_minor": 2
}
