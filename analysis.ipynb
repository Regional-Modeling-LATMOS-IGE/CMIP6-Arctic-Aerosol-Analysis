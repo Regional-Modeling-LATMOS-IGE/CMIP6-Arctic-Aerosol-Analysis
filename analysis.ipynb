{
 "cells": [
  {
   "cell_type": "markdown",
   "metadata": {},
   "source": [
    "# CMIP6 Arctic Case Study : Compute the aerosol-cloud interaction effective radiative forcing\n",
    "\n",
    "## What this notebook holds \n",
    "\n",
    "This notebook aims at showing the effective radiative forcing that is caused by the aerosol burdens' levels of 2014.\n",
    "\n",
    "**WRITE ABOUT THE APRP METHOD !!!!**\n",
    "\n",
    "### The use of CMIP6 data\n",
    "\n",
    "We use two experiments realized during the CMIP6  : **piClim-control** and **piClim-aer**. These are both atmosphere-only climate model simulations in which sea surface temperatures (SSTs) and sea icea concentrations (SICs) are fixed at model-specific preindustrial climatological values. The description of the experiments can be found here : https://wcrp-cmip.github.io/CMIP6_CVs/docs/CMIP6_experiment_id.html. On the one hand, the **piClim-control** realization assumes aerosols burdens set to their preindustrial levels hence why it is dubbed as the control experiment. On the other hand, the **piClim-aer** realization uses present-day, present-day being 2014, aerosols burdens' levels.\n",
    "\n",
    "The variable used are listed and explicited below according to : https://clipc-services.ceda.ac.uk/dreq/mipVars.html. All the variables are monthly timeseries over 30 years . We use the monthly climatology of each of these variables.\n",
    "\n",
    "> <span style=\"color:SkyBlue\">**clt**</span>  : Total cloud area fraction (%) for the whole atmospheric column\n",
    ">\n",
    "> <span style=\"color:gold\">**rsdt / rldt**</span> : Shortwave / Longwave radiation ($W/m^{2}$) **incident** at the TOA\n",
    "> \n",
    "> <span style=\"color:orange\">**rsut / rlut**</span> : Shortwave / Longwave radiation ($W/m^{2}$) **going out**  at the TOA\n",
    ">\n",
    "> <span style=\"color:orangered\">**rsutcs / rlutcs**</span> : Shortwave / Longwave radiation ($W/m^{2}$) **going out**  at TOA for **clear-sky conditions**\n",
    "> \n",
    "> <span style=\"color:Orchid\">**rsds / rlds**</span> : Shortwave / Longwave **downwelling** radiation ($W/m^{2}$) at the surface\n",
    "> \n",
    "> <span style=\"color:Indigo \">**rsdscs / rldscs**</span>  : Shortwave / Longwave **downwelling** radiation ($W/m^{2}$) at the surface for **clear-sky conditions**\n",
    "> \n",
    "> <span style=\"color:YellowGreen\">**rsus / rlus**</span> : Shortwave / Longwave **upwelling** radiation ($W/m^{2}$) at the surface\n",
    ">\n",
    "> <span style=\"color:Darkgreen\">**rsuscs / rluscs**</span>: Shortwave / Longwave **upwelling** radiation ($W/m^{2}$) at the surface for **clear-sky conditions**\n",
    ">\n",
    "> **areacella** : For every grid, the latitude-dependent surface associated to each grid point.\n",
    "\n",
    "### Treatment of the clouds in the atmosphere column :\n",
    "\n",
    "We divide each grid cell into two distinct areas : the <span style=\"color:orange\">**clear-sky**</span> areas known as <span style=\"color:orange\">$cs$</span> and the cloudy areas known as <span style=\"color:purple\">**overcast**</span> or <span style=\"color:purple\">$oc$</span>. The variables we get from the models' outputs are only the <span style=\"color:orange\">**clear-sky**</span> and the <span style=\"color:red\">**all-sky**</span> variables though. \n",
    "\n",
    "For a given all-sky flux <span style=\"color:red\">$R$</span> value taken on a grid point, one can express it as a function of the clt written <span style=\"color:skyblue\">**c**</span>, the clear-sky flux written <span style=\"color:orange\">$R_{cs}$</span> and the overcast flux <span style=\"color:purple\">$R_{oc}$</span>. The total cloud fraction, <span style=\"color:skyblue\">**c**</span>, gives us the proportion of the atmosphere column that can be seen as cloudy from space. In turn the proportion of the atmosphere that knows a clear_sky is $1-$ <span style=\"color:skyblue\">**c**</span>. The expression derived is simply : \n",
    "\n",
    "> Equation (1) : $R = cR_{oc} + (1-c)R_{cs}$\n",
    "\n",
    "Therefore, the <span style=\"color:purple\">$R_{oc}$</span> can be computed as :\n",
    "\n",
    "> Equation (2) : $R_{oc} = \\frac{(R - (1-c)R_{cs})}{c}$\n",
    "\n",
    "Thus, <span style=\"color:purple\">$R_{oc}$</span> embodies the flux that can be found over cloudy areas. What's more, we make the hypothesis that **the noncloud atmospheric constituents absorb and scatter the same proportion of the radiation stream as they would if clouds were abruptly cleared from the region** (Taylor, K. E. et al. (2007)). This approximation means that, within an unit square meter of overcast atmosphere column, the observed <span style=\"color:purple\">$R_{oc}$</span> flux would be the sum of the clear sky flux, <span style=\"color:orange\">$R_{cs}$</span>, and of the flux coming out of the cloud. We call this flux <span style=\"color:blue\">$R_{cloud}$</span>.\n",
    "\n",
    "Therefore, by taking the difference between the overcast flux and the clear-sky flux, one could grasp the sole contribution of the clouds on the grid cell. As a result, the cloud contribution to the all-sky flux <span style=\"color:blue\">$R_{cloud}$</span> can be obtained through the following equation :\n",
    "\n",
    "> Equation (3) : $R_{cloud} = R_{oc} - R_{cs}$\n",
    "\n",
    "The following figure explicits the decomposition behind our hypothesis :\n",
    "\n",
    "![title](img/clouds.svg)\n",
    "\n",
    "In addition, our hypothesis allows us to introduce another decomposition of the all-sky flux :\n",
    "\n",
    "> $R = cR_{oc} + (1-c)R_{cs}$\n",
    "> \n",
    "> $R = c(R_{oc} - R_{cs}) + R_{cs}$\n",
    "> \n",
    "> Equation (4) : $R = c$<span style=\"color:blue\">$R_{cloud}$</span> + <span style=\"color:orange\">$R_{cs}$</span>\n",
    "\n",
    "### Computing the variation of a flux between the two experiments \n",
    "\n",
    "Having the expression of any all-sky flux in function of the <span style=\"color:purple\">**overcast**</span> and <span style=\"color:orange\">**clear-sky**</span> fluxes, one can derive $\\Delta R$, which is the contribution of the 2014 aerosols' content in the atmosphere compared to the pre-industrial concentrations. \n",
    "\n",
    "As a reminder, a full-sky flux of one experiment, noted as $exp$, can be expressed as in the following.\n",
    "\n",
    "> $[R]_{exp} = [c]_{exp}[R_{oc}]_{exp} + (1-[c]_{exp})[R_{cs}]_{exp}$\n",
    "\n",
    "We may then derive $\\Delta R$. Any expression noted with a $\\Delta$ is the difference between the $aer$ and the $ctrl$ experiment. Without any approximation, one can find that $\\Delta R$ can be written as the differential of R where the fluxes and total cloud fractions are taken as their mean values between the two experiments. Indeed, by giving $c = \\frac{[c]_{aer}+[c]_{ctrl}}{2}$, $R_{oc} = \\frac{[R_{oc}]_{aer}+[R_{oc}]_{ctrl}}{2}$ and $R_{cs} = \\frac{[R_{cs}]_{aer}+[R_{cs}]_{ctrl}}{2}$,  we find the expression written below.\n",
    "\n",
    "> $\\Delta R = R_{aer} - R_{control} $\n",
    ">\n",
    "> $\\Delta R = [c]_{aer}[R_{oc}]_{aer} + (1-[c]_{aer})[R_{cs}]_{aer}$ - $[R]_{ctrl} = [c]_{ctr}[R_{oc}]_{ctrl} + (1-[c]_{ctrl})[R_{cs}]_{ctrl}$\n",
    ">\n",
    "> $\\Delta R =$ <span style=\"color:orange\">$\\Delta R_{cs}$</span> + <span style=\"color:SkyBlue\">$\\Delta c (R_{oc} - R_{cs})$</span> + <span style=\"color:SteelBlue\">$c (\\Delta R_{oc} - \\Delta R_{cs})$</span>\n",
    "\n",
    "From this equation, we get three different effects of changing the aerosols' burdens on the all-sky flux.\n",
    "\n",
    "> $\\Delta R_{cs}$ : the variation in R due to <span style=\"color:orange\">**the effect of aerosols in the absence of clouds**</span>\n",
    "> \n",
    "> <span style=\"color:SkyBlue\">$\\Delta c (R_{oc} - R_{cs})$</span> : the mean change in R caused by <span style=\"color:SkyBlue\">**the variation of the total cloud-cover**</span>\n",
    "> \n",
    "> <span style=\"color:SteelBlue\">$c (\\Delta R_{oc} - \\Delta R_{cs})$</span> : the mean contribution in R of <span style=\"color:SteelBlue\">**the variation in the clouds' flux for a mean cloud coverage**</span>\n",
    "\n",
    "The two final terms sum up the **cloud contribution** in the difference between the aerosol and control experiments. However, as noted in Taylor, K. E. et al. (2007), these two effects cannot be considered as the cloud feedback. Actually, even if the clouds variables $c$ and $R_{oc}$ do not vary making $\\Delta c$ and $\\Delta R_{oc}$ zero, a sole variation in the clear-sky direct effect will make the final term non-zero.\n",
    "\n",
    "### APRP METHOD FOR THE SW\n",
    "\n",
    "\n",
    "Done by Lucas Giboni,\n",
    "\n",
    "Reference :\n",
    "\n",
    "Taylor, K. E. et al. (2007), Estimating shortwave radiative forcing and response in \n",
    "    climate models, J. Clim., 20(11), 2530-2543, doi:10.1175/JCLI4143.1."
   ]
  },
  {
   "cell_type": "markdown",
   "metadata": {},
   "source": []
  },
  {
   "cell_type": "markdown",
   "metadata": {},
   "source": [
    "## Importations"
   ]
  },
  {
   "cell_type": "code",
   "execution_count": 1,
   "metadata": {},
   "outputs": [],
   "source": [
    "### LOAD AND NAVIGATE THROUGH THE DATA ###\n",
    "\n",
    "import os  # to get access to commands related to path setting and creation of directories\n",
    "\n",
    "### DATA OBJECTS AND ASSOCIATED COMPUTATION ###\n",
    "\n",
    "import numpy as np  # to handle numpy arrays and the associated tools\n",
    "\n",
    "import xarray as xr  # to manage the data\n",
    "\n",
    "import xcdat as xc  # to handle climate model outputs with xarray\n",
    "\n",
    "### REPRESENTING DATA ###\n",
    "\n",
    "import matplotlib.pyplot as plt  # to handle plotting routines\n",
    "\n",
    "import cartopy.crs as ccrs  # to handle map projections\n",
    "\n",
    "### HOMEMADE LIBRARIES ###\n",
    "\n",
    "from utilities.prepare_data.extract_climatologies import (\n",
    "    create_climatology_dict,\n",
    "    get_model_entries__only_from_clim,\n",
    "    add_one_variable_to_dataset,\n",
    ")  # function to create the climatology dictionnary from the raw data\n",
    "\n",
    "from utilities.aprp_library.code.aprp import APRP  # APRP routine\n",
    "\n",
    "from utilities.store_data.save_and_load_data import (\n",
    "    netcdf_to_dict,\n",
    ")  # to load the climatology dictionnary"
   ]
  },
  {
   "cell_type": "markdown",
   "metadata": {},
   "source": [
    "## Define the paths for saving and loading data"
   ]
  },
  {
   "cell_type": "code",
   "execution_count": 2,
   "metadata": {},
   "outputs": [],
   "source": [
    "#######################\n",
    "#### INITIALISATION ###\n",
    "#######################\n",
    "\n",
    "# ================ DEFINE THE FOLDERS WHERE IS STORED THE DATA ================ #\n",
    "\n",
    "### DEFINE THE HOME DIRECTORY ###\n",
    "\n",
    "## Home directory ##\n",
    "\n",
    "homedir_path = os.path.expanduser(\"~\")\n",
    "\n",
    "### DEFINE WHERE IS THE DOWNLOADED RAW DATA ###\n",
    "\n",
    "## Parent directory of the download folder ##\n",
    "\n",
    "parent_path_download = homedir_path + \"/certainty-data\"\n",
    "\n",
    "## Name of the download folder ##\n",
    "\n",
    "download_folder_name = \"CMIP6-DATA\"\n",
    "\n",
    "### DEFINE WHERE TO SAVE THE CLIMATOLOGIES ###\n",
    "\n",
    "## Path of the save directory ##\n",
    "\n",
    "parent_path_save_clim = (\n",
    "    homedir_path + \"/certainty-data/\" + download_folder_name + \"/climatologies\"\n",
    ")"
   ]
  },
  {
   "cell_type": "markdown",
   "metadata": {},
   "source": [
    "## Generate the CMIP6 climatology"
   ]
  },
  {
   "cell_type": "code",
   "execution_count": 3,
   "metadata": {},
   "outputs": [],
   "source": [
    "##################################\n",
    "### GENERATE CMIP6 CLIMATOLOGY ###\n",
    "##################################\n",
    "\"\"\"\n",
    "create_climatology_dict(data_path = parent_path_download, data_folder_name = download_folder_name,\n",
    "                        save_path = parent_path_save_clim)\n",
    "\"\"\""
   ]
  },
  {
   "cell_type": "markdown",
   "metadata": {},
   "source": [
    "## Load the CMIP6 climatology"
   ]
  },
  {
   "cell_type": "code",
   "execution_count": 4,
   "metadata": {},
   "outputs": [],
   "source": [
    "##################################\n",
    "### LOAD THE CMIP6 CLIMATOLOGY ###\n",
    "##################################\n",
    "\n",
    "data_cmip6_clim = netcdf_to_dict(save_path=parent_path_save_clim)"
   ]
  },
  {
   "cell_type": "markdown",
   "metadata": {},
   "source": [
    "## APRP METHOD"
   ]
  },
  {
   "cell_type": "code",
   "execution_count": 6,
   "metadata": {},
   "outputs": [],
   "source": [
    "clim_keys = list(data_cmip6_clim.keys())\n",
    "\n",
    "clim_keys_without_exp = [\n",
    "    get_model_entries__only_from_clim(key_with_exp) for key_with_exp in clim_keys\n",
    "]\n",
    "\n",
    "\n",
    "# np.unique(clim_keys_without_exp) + \".piClim-control\"\n",
    "\n",
    "# np.unique(clim_keys_without_exp) + \".piClim-aer\""
   ]
  },
  {
   "cell_type": "code",
   "execution_count": 7,
   "metadata": {},
   "outputs": [],
   "source": [
    "dict_aprp = {}\n",
    "\n",
    "for key in clim_keys_without_exp:\n",
    "\n",
    "    key_control = key + \".piClim-control\"\n",
    "\n",
    "    key_aer = key + \".piClim-aer\"\n",
    "\n",
    "    output = APRP(data_cmip6_clim[key_control], data_cmip6_clim[key_aer])\n",
    "\n",
    "    dict_aprp[key] = output\n",
    "\n",
    "# add units to lat when building the dataset"
   ]
  },
  {
   "cell_type": "code",
   "execution_count": 8,
   "metadata": {},
   "outputs": [],
   "source": [
    "dict_aprp[clim_keys_without_exp[0]]"
   ]
  },
  {
   "cell_type": "markdown",
   "metadata": {},
   "source": [
    "when to regrid ????"
   ]
  },
  {
   "cell_type": "markdown",
   "metadata": {},
   "source": [
    "## REGRIDDING"
   ]
  },
  {
   "cell_type": "markdown",
   "metadata": {},
   "source": [
    "create output grid"
   ]
  },
  {
   "cell_type": "code",
   "execution_count": 9,
   "metadata": {},
   "outputs": [],
   "source": [
    "import numpy.typing as npt\n",
    "\n",
    "\n",
    "def get_step(coordinate_array: npt.NDArray[np.float64]) -> float:\n",
    "    \"\"\" \"\"\"\n",
    "\n",
    "    return np.max(np.diff(coordinate_array))"
   ]
  },
  {
   "cell_type": "code",
   "execution_count": 10,
   "metadata": {},
   "outputs": [],
   "source": [
    "list_steps_lat = [get_step(dict_aprp[key].lat.values) for key in clim_keys_without_exp]\n",
    "\n",
    "list_steps_lon = [get_step(dict_aprp[key].lon.values) for key in clim_keys_without_exp]"
   ]
  },
  {
   "cell_type": "code",
   "execution_count": null,
   "metadata": {},
   "outputs": [],
   "source": [
    "max_step_lon = np.max(list_steps_lon)\n",
    "\n",
    "max_step_lat = np.max(list_steps_lat)"
   ]
  },
  {
   "cell_type": "markdown",
   "metadata": {},
   "source": [
    "to have a regular grid "
   ]
  },
  {
   "cell_type": "code",
   "execution_count": 21,
   "metadata": {},
   "outputs": [],
   "source": [
    "from math import floor\n",
    "\n",
    "n_steps_lon = floor(360 / max_step_lon)  # bc we want a step greater than max_step_lat\n",
    "\n",
    "new_step_lon = 360 / n_steps_lon"
   ]
  },
  {
   "cell_type": "code",
   "execution_count": 22,
   "metadata": {},
   "outputs": [],
   "source": [
    "n_steps_lat = floor(180 / max_step_lat)  # bc we want a step greater than max_step_lat\n",
    "\n",
    "new_step_lat = 180 / n_steps_lat"
   ]
  },
  {
   "cell_type": "code",
   "execution_count": 23,
   "metadata": {},
   "outputs": [],
   "source": [
    "(90 - new_step_lat / 2) - (-90 + new_step_lat / 2)"
   ]
  },
  {
   "cell_type": "code",
   "execution_count": 24,
   "metadata": {},
   "outputs": [],
   "source": [
    "lat_axis = xc.create_axis(\n",
    "    \"lat\", np.arange(-90 + new_step_lat / 2, 90 + new_step_lat / 2, new_step_lat)\n",
    ")\n",
    "\n",
    "# since we have peaked the step such that the latitude range is divded into an integer number of intervals we may center its bounds on -90 / 90.\n",
    "\n",
    "lon_axis = xc.create_axis(\"lon\", np.arange(0, 360, new_step_lon))\n",
    "\n",
    "output_grid = xc.create_grid(x=lon_axis, y=lat_axis)"
   ]
  },
  {
   "cell_type": "markdown",
   "metadata": {},
   "source": [
    "If performing conservative regridding from a high/medium resolution lat/lon grid to a coarse lat/lon target, Regrid2 may provide better results as it assumes grid cells with constant latitudes and longitudes while xESMF assumes the cells are connected by Great Circles : https://xcdat.readthedocs.io/en/latest/generated/xarray.Dataset.regridder.horizontal.html\n",
    "\n",
    "\n",
    "BASE ARRAY NO VALUE AT THE POLES ??? "
   ]
  },
  {
   "cell_type": "code",
   "execution_count": 26,
   "metadata": {},
   "outputs": [],
   "source": [
    "output = ds.regridder.horizontal(\"sfc_alb\", output_grid, tool=\"regrid2\")\n",
    "\n",
    "fig, axes = plt.subplots(ncols=2, figsize=(16, 4))\n",
    "\n",
    "ds.sfc_alb.isel(time=0).plot(\n",
    "    ax=axes[0], vmin=-40, vmax=40, extend=\"both\", cmap=\"RdBu_r\"\n",
    ")\n",
    "\n",
    "output.sfc_alb.isel(time=0).plot(\n",
    "    ax=axes[1], vmin=-40, vmax=40, extend=\"both\", cmap=\"RdBu_r\"\n",
    ")\n",
    "axes[1].set_title(\"Output data\")\n",
    "\n",
    "plt.tight_layout()"
   ]
  },
  {
   "cell_type": "code",
   "execution_count": 27,
   "metadata": {},
   "outputs": [],
   "source": [
    "ds"
   ]
  },
  {
   "cell_type": "code",
   "execution_count": 28,
   "metadata": {},
   "outputs": [],
   "source": [
    "max_step_lat"
   ]
  },
  {
   "cell_type": "markdown",
   "metadata": {},
   "source": [
    "extraire une même variable, regrid toute la variable et combiner sur le nb de modèles.\n"
   ]
  },
  {
   "cell_type": "code",
   "execution_count": 31,
   "metadata": {},
   "outputs": [],
   "source": [
    "def regrid_field(ds, field: str):\n",
    "    \"\"\" \"\"\"\n",
    "\n",
    "    field_regridded = ds.regridder.horizontal(field, output_grid, tool=\"regrid2\")\n",
    "\n",
    "    return field_regridded"
   ]
  },
  {
   "cell_type": "code",
   "execution_count": 65,
   "metadata": {},
   "outputs": [],
   "source": [
    "keys_aprp = dict_aprp.keys()\n",
    "\n",
    "\n",
    "fields = [\n",
    "    \"cld\",\n",
    "    \"sfc_alb\",\n",
    "    \"noncld\",\n",
    "    \"noncld_scat\",\n",
    "    \"noncld_abs\",\n",
    "    \"cld_amt\",\n",
    "    \"cld_scat\",\n",
    "    \"cld_abs\",\n",
    "]\n",
    "\n",
    "# initialize\n",
    "\n",
    "field = \"cld\"\n",
    "\n",
    "dict_aprp_regridded_full = {\n",
    "    key: dict_aprp[key].regridder.horizontal(field, output_grid, tool=\"regrid2\")\n",
    "    for key in keys_aprp\n",
    "}\n",
    "\n",
    "\n",
    "for field in fields[1:]:\n",
    "\n",
    "    # generate the dictionnary of all models for one field\n",
    "\n",
    "    dict_aprp_regridded_given_field = {\n",
    "        key: dict_aprp[key].regridder.horizontal(field, output_grid, tool=\"regrid2\")\n",
    "        for key in keys_aprp\n",
    "    }\n",
    "\n",
    "    # add this one field to the full dictionnary\n",
    "\n",
    "    dict_aprp_regridded_full = {\n",
    "        key: add_one_variable_to_dataset(\n",
    "            variable_name=field,\n",
    "            var_datarray=dict_aprp_regridded_given_field[key],\n",
    "            modify_data=True,\n",
    "            dataset=dict_aprp_regridded_full[key],\n",
    "            do_clim=False,\n",
    "        )\n",
    "        for key in keys_aprp\n",
    "    }"
   ]
  },
  {
   "cell_type": "code",
   "execution_count": 62,
   "metadata": {},
   "outputs": [],
   "source": [
    "keys_aprp"
   ]
  },
  {
   "cell_type": "code",
   "execution_count": 66,
   "metadata": {},
   "outputs": [],
   "source": [
    "keys_aprp = [\n",
    "    \"BCC-ESM1.r1i1p1f1\",\n",
    "    \"UKESM1-0-LL.r1i1p1f4\",\n",
    "    \"CanESM5.r1i1p2f1\",\n",
    "    \"CNRM-CM6-1.r1i1p1f2\",\n",
    "    \"CNRM-ESM2-1.r1i1p1f2\",\n",
    "    \"ACCESS-ESM1-5.r1i1p1f1\",\n",
    "    \"MPI-ESM-1-2-HAM.r1i1p1f1\",\n",
    "    \"IPSL-CM6A-LR.r1i1p1f1\",\n",
    "    \"IPSL-CM6A-LR-INCA.r1i1p1f1\",\n",
    "    \"MIROC6.r1i1p1f1\",\n",
    "    \"MRI-ESM2-0.r1i1p1f1\",\n",
    "    \"GISS-E2-1-G.r1i1p1f1\",\n",
    "    \"CESM2.r1i1p1f1\",\n",
    "    \"NorESM2-LM.r1i1p1f1\",\n",
    "    \"NorESM2-MM.r1i1p1f1\",\n",
    "    \"GFDL-CM4.r1i1p1f1\",\n",
    "]"
   ]
  },
  {
   "cell_type": "code",
   "execution_count": 67,
   "metadata": {},
   "outputs": [],
   "source": [
    "# needed for the concat function to work\n",
    "\n",
    "dict_aprp_regridded_full = {\n",
    "    key: dict_aprp_regridded_full[key]\n",
    "    .groupby(dict_aprp_regridded_full[key].time.dt.month)\n",
    "    .mean()\n",
    "    for key in keys_aprp\n",
    "}"
   ]
  },
  {
   "cell_type": "code",
   "execution_count": 68,
   "metadata": {},
   "outputs": [],
   "source": [
    "# let's make the entry average\n",
    "\n",
    "ensemble_aprp_avg = xr.concat(dict_aprp_regridded_full.values(), \"entry\").mean(\n",
    "    dim=\"entry\"\n",
    ")"
   ]
  },
  {
   "cell_type": "markdown",
   "metadata": {},
   "source": [
    "## PLOT MAP OF APRP COMPONENTS"
   ]
  },
  {
   "cell_type": "code",
   "execution_count": 69,
   "metadata": {},
   "outputs": [],
   "source": [
    "output = ensemble_aprp_avg\n",
    "\n",
    "fields = [\n",
    "    \"cld\",\n",
    "    \"sfc_alb\",\n",
    "    \"noncld\",\n",
    "    \"noncld_scat\",\n",
    "    \"noncld_abs\",\n",
    "    \"cld_amt\",\n",
    "    \"cld_scat\",\n",
    "    \"cld_abs\",\n",
    "]\n",
    "\n",
    "fig = plt.figure(figsize=(12, 12))\n",
    "plt.suptitle(\"APRP Components\", fontsize=16, x=0, ha=\"left\")\n",
    "axes = fig.subplots(nrows=4, ncols=2, subplot_kw={\"projection\": ccrs.Robinson()})\n",
    "cnt = -1\n",
    "for row in range(4):\n",
    "    for col in range(2):\n",
    "        cnt += 1\n",
    "        var = fields[cnt]\n",
    "        avgmap = output.mean(\"month\")\n",
    "        avg = avgmap.spatial.average(var, axis=[\"X\", \"Y\"])[var].values\n",
    "        pl = avgmap[var].plot(\n",
    "            ax=axes[row, col],\n",
    "            transform=ccrs.PlateCarree(),\n",
    "            vmin=-7.5,\n",
    "            vmax=7.5,\n",
    "            cmap=\"RdBu_r\",\n",
    "            add_colorbar=False,\n",
    "        )\n",
    "        axes[row, col].set_title(var + \" (\" + str(np.round(avg, 3)) + \")\")\n",
    "        axes[row, col].coastlines()\n",
    "\n",
    "plt.tight_layout(w_pad=2.5, h_pad=-2)\n",
    "\n",
    "fig.colorbar(\n",
    "    pl, ax=axes.ravel().tolist(), pad=0.02, shrink=0.5, aspect=15, label=\"W/m$^2$\"\n",
    ")"
   ]
  },
  {
   "cell_type": "code",
   "execution_count": null,
   "metadata": {},
   "outputs": [],
   "source": []
  }
 ],
 "metadata": {
  "kernelspec": {
   "display_name": "Python [conda env:cmip6-analysis]",
   "language": "python",
   "name": "conda-env-cmip6-analysis-py"
  }
 },
 "nbformat": 4,
 "nbformat_minor": 2
}
