{
 "cells": [
  {
   "cell_type": "markdown",
   "metadata": {},
   "source": [
    "# CMIP6 Arctic Case Study : Compute the aerosol-cloud interaction effective radiative forcing\n",
    "\n",
    "## What this notebook holds \n",
    "\n",
    "This notebook aims at showing the effective radiative forcing that is caused by the aerosol burdens' levels of 2014.\n",
    "\n",
    "**WRITE ABOUT THE APRP METHOD !!!!**\n",
    "\n",
    "### The use of CMIP6 data\n",
    "\n",
    "We use two experiments realized during the CMIP6  : **piClim-control** and **piClim-aer**. These are both atmosphere-only climate model simulations in which sea surface temperatures (SSTs) and sea icea concentrations (SICs) are fixed at model-specific preindustrial climatological values. The description of the experiments can be found here : https://wcrp-cmip.github.io/CMIP6_CVs/docs/CMIP6_experiment_id.html. On the one hand, the **piClim-control** realization assumes aerosols burdens set to their preindustrial levels hence why it is dubbed as the control experiment. On the other hand, the **piClim-aer** realization uses present-day, present-day being 2014, aerosols burdens' levels.\n",
    "\n",
    "The variable used are listed and explicited below according to : https://clipc-services.ceda.ac.uk/dreq/mipVars.html. All the variables are monthly timeseries over 30 years . We use the monthly climatology of each of these variables.\n",
    "\n",
    "> <span style=\"color:SkyBlue\">**clt**</span>  : Total cloud area fraction (%) for the whole atmospheric column\n",
    ">\n",
    "> <span style=\"color:gold\">**rsdt / rldt**</span> : Shortwave / Longwave radiation ($W/m^{2}$) **incident** at the TOA\n",
    "> \n",
    "> <span style=\"color:orange\">**rsut / rlut**</span> : Shortwave / Longwave radiation ($W/m^{2}$) **going out**  at the TOA\n",
    ">\n",
    "> <span style=\"color:orangered\">**rsutcs / rlutcs**</span> : Shortwave / Longwave radiation ($W/m^{2}$) **going out**  at TOA for **clear-sky conditions**\n",
    "> \n",
    "> <span style=\"color:Orchid\">**rsds / rlds**</span> : Shortwave / Longwave **downwelling** radiation ($W/m^{2}$) at the surface\n",
    "> \n",
    "> <span style=\"color:Indigo \">**rsdscs / rldscs**</span>  : Shortwave / Longwave **downwelling** radiation ($W/m^{2}$) at the surface for **clear-sky conditions**\n",
    "> \n",
    "> <span style=\"color:YellowGreen\">**rsus / rlus**</span> : Shortwave / Longwave **upwelling** radiation ($W/m^{2}$) at the surface\n",
    ">\n",
    "> <span style=\"color:Darkgreen\">**rsuscs / rluscs**</span>: Shortwave / Longwave **upwelling** radiation ($W/m^{2}$) at the surface for **clear-sky conditions**\n",
    ">\n",
    "> **areacella** : For every grid, the latitude-dependent surface associated to each grid point.\n",
    "\n",
    "### Treatment of the clouds in the atmosphere column :\n",
    "\n",
    "We divide each grid cell into two distinct areas : the <span style=\"color:orange\">**clear-sky**</span> areas known as <span style=\"color:orange\">$cs$</span> and the cloudy areas known as <span style=\"color:purple\">**overcast**</span> or <span style=\"color:purple\">$oc$</span>. The variables we get from the models' outputs are only the <span style=\"color:orange\">**clear-sky**</span> and the <span style=\"color:red\">**all-sky**</span> variables though. \n",
    "\n",
    "For a given all-sky flux <span style=\"color:red\">$R$</span> value taken on a grid point, one can express it as a function of the clt written <span style=\"color:skyblue\">**c**</span>, the clear-sky flux written <span style=\"color:orange\">$R_{cs}$</span> and the overcast flux <span style=\"color:purple\">$R_{oc}$</span>. The total cloud fraction, <span style=\"color:skyblue\">**c**</span>, gives us the proportion of the atmosphere column that can be seen as cloudy from space. In turn the proportion of the atmosphere that knows a clear_sky is $1-$ <span style=\"color:skyblue\">**c**</span>. The expression derived is simply : \n",
    "\n",
    "> Equation (1) : $R = cR_{oc} + (1-c)R_{cs}$\n",
    "\n",
    "Therefore, the <span style=\"color:purple\">$R_{oc}$</span> can be computed as :\n",
    "\n",
    "> Equation (2) : $R_{oc} = \\frac{(R - (1-c)R_{cs})}{c}$\n",
    "\n",
    "Thus, <span style=\"color:purple\">$R_{oc}$</span> embodies the flux that can be found over cloudy areas. What's more, we make the hypothesis that **the noncloud atmospheric constituents absorb and scatter the same proportion of the radiation stream as they would if clouds were abruptly cleared from the region** (Taylor, K. E. et al. (2007)). This approximation means that, within an unit square meter of overcast atmosphere column, the observed <span style=\"color:purple\">$R_{oc}$</span> flux would be the sum of the clear sky flux, <span style=\"color:orange\">$R_{cs}$</span>, and of the flux coming out of the cloud. We call this flux <span style=\"color:blue\">$R_{cloud}$</span>.\n",
    "\n",
    "Therefore, by taking the difference between the overcast flux and the clear-sky flux, one could grasp the sole contribution of the clouds on the grid cell. As a result, the cloud contribution to the all-sky flux <span style=\"color:blue\">$R_{cloud}$</span> can be obtained through the following equation :\n",
    "\n",
    "> Equation (3) : $R_{cloud} = R_{oc} - R_{cs}$\n",
    "\n",
    "The following figure explicits the decomposition behind our hypothesis :\n",
    "\n",
    "![title](img/clouds.svg)\n",
    "\n",
    "In addition, our hypothesis allows us to introduce another decomposition of the all-sky flux :\n",
    "\n",
    "> $R = cR_{oc} + (1-c)R_{cs}$\n",
    "> \n",
    "> $R = c(R_{oc} - R_{cs}) + R_{cs}$\n",
    "> \n",
    "> Equation (4) : $R = c$<span style=\"color:blue\">$R_{cloud}$</span> + <span style=\"color:orange\">$R_{cs}$</span>\n",
    "\n",
    "### Computing the variation of a flux between the two experiments \n",
    "\n",
    "Having the expression of any all-sky flux in function of the <span style=\"color:purple\">**overcast**</span> and <span style=\"color:orange\">**clear-sky**</span> fluxes, one can derive $\\Delta R$, which is the contribution of the 2014 aerosols' content in the atmosphere compared to the pre-industrial concentrations. \n",
    "\n",
    "As a reminder, a full-sky flux of one experiment, noted as $exp$, can be expressed as in the following.\n",
    "\n",
    "> $[R]_{exp} = [c]_{exp}[R_{oc}]_{exp} + (1-[c]_{exp})[R_{cs}]_{exp}$\n",
    "\n",
    "We may then derive $\\Delta R$. Any expression noted with a $\\Delta$ is the difference between the $aer$ and the $ctrl$ experiment. Without any approximation, one can find that $\\Delta R$ can be written as the differential of R where the fluxes and total cloud fractions are taken as their mean values between the two experiments. Indeed, by giving $c = \\frac{[c]_{aer}+[c]_{ctrl}}{2}$, $R_{oc} = \\frac{[R_{oc}]_{aer}+[R_{oc}]_{ctrl}}{2}$ and $R_{cs} = \\frac{[R_{cs}]_{aer}+[R_{cs}]_{ctrl}}{2}$,  we find the expression written below.\n",
    "\n",
    "> $\\Delta R = R_{aer} - R_{control} $\n",
    ">\n",
    "> $\\Delta R = [c]_{aer}[R_{oc}]_{aer} + (1-[c]_{aer})[R_{cs}]_{aer}$ - $[R]_{ctrl} = [c]_{ctr}[R_{oc}]_{ctrl} + (1-[c]_{ctrl})[R_{cs}]_{ctrl}$\n",
    ">\n",
    "> $\\Delta R =$ <span style=\"color:orange\">$\\Delta R_{cs}$</span> + <span style=\"color:SkyBlue\">$\\Delta c (R_{oc} - R_{cs})$</span> + <span style=\"color:SteelBlue\">$c (\\Delta R_{oc} - \\Delta R_{cs})$</span>\n",
    "\n",
    "From this equation, we get three different effects of changing the aerosols' burdens on the all-sky flux.\n",
    "\n",
    "> $\\Delta R_{cs}$ : the variation in R due to <span style=\"color:orange\">**the effect of aerosols in the absence of clouds**</span>\n",
    "> \n",
    "> <span style=\"color:SkyBlue\">$\\Delta c (R_{oc} - R_{cs})$</span> : the mean change in R caused by <span style=\"color:SkyBlue\">**the variation of the total cloud-cover**</span>\n",
    "> \n",
    "> <span style=\"color:SteelBlue\">$c (\\Delta R_{oc} - \\Delta R_{cs})$</span> : the mean contribution in R of <span style=\"color:SteelBlue\">**the variation in the clouds' flux for a mean cloud coverage**</span>\n",
    "\n",
    "The two final terms sum up the **cloud contribution** in the difference between the aerosol and control experiments. However, as noted in Taylor, K. E. et al. (2007), these two effects cannot be considered as the cloud feedback. Actually, even if the clouds variables $c$ and $R_{oc}$ do not vary making $\\Delta c$ and $\\Delta R_{oc}$ zero, a sole variation in the clear-sky direct effect will make the final term non-zero.\n",
    "\n",
    "### APRP METHOD FOR THE SW\n",
    "\n",
    "\n",
    "Done by Lucas Giboni,\n",
    "\n",
    "Reference :\n",
    "\n",
    "Taylor, K. E. et al. (2007), Estimating shortwave radiative forcing and response in \n",
    "    climate models, J. Clim., 20(11), 2530-2543, doi:10.1175/JCLI4143.1."
   ]
  },
  {
   "cell_type": "markdown",
   "metadata": {},
   "source": []
  },
  {
   "cell_type": "markdown",
   "metadata": {},
   "source": [
    "## Importations"
   ]
  },
  {
   "cell_type": "code",
   "execution_count": 3,
   "metadata": {},
   "outputs": [
    {
     "ename": "ModuleNotFoundError",
     "evalue": "No module named 'utilities.prepare_data'",
     "output_type": "error",
     "traceback": [
      "\u001b[31m---------------------------------------------------------------------------\u001b[39m",
      "\u001b[31mModuleNotFoundError\u001b[39m                       Traceback (most recent call last)",
      "\u001b[36mCell\u001b[39m\u001b[36m \u001b[39m\u001b[32mIn[3]\u001b[39m\u001b[32m, line 15\u001b[39m\n\u001b[32m     11\u001b[39m \u001b[38;5;28;01mimport\u001b[39;00m\u001b[38;5;250m \u001b[39m\u001b[34;01mxcdat\u001b[39;00m\u001b[38;5;250m \u001b[39m\u001b[38;5;28;01mas\u001b[39;00m\u001b[38;5;250m \u001b[39m\u001b[34;01mxc\u001b[39;00m  \u001b[38;5;66;03m# to handle climate model outputs with xarray\u001b[39;00m\n\u001b[32m     13\u001b[39m \u001b[38;5;66;03m### HOMEMADE LIBRARIES ###\u001b[39;00m\n\u001b[32m---> \u001b[39m\u001b[32m15\u001b[39m \u001b[38;5;28;01mfrom\u001b[39;00m\u001b[38;5;250m \u001b[39m\u001b[34;01mutilities\u001b[39;00m\u001b[34;01m.\u001b[39;00m\u001b[34;01mprepare_data\u001b[39;00m\u001b[34;01m.\u001b[39;00m\u001b[34;01mextract_climatologies\u001b[39;00m\u001b[38;5;250m \u001b[39m\u001b[38;5;28;01mimport\u001b[39;00m create_climatology_dict \u001b[38;5;66;03m# function to create the climatology dictionnary from the raw data\u001b[39;00m\n\u001b[32m     17\u001b[39m \u001b[38;5;28;01mfrom\u001b[39;00m\u001b[38;5;250m \u001b[39m\u001b[34;01mutilities\u001b[39;00m\u001b[34;01m.\u001b[39;00m\u001b[34;01maprp_library\u001b[39;00m\u001b[34;01m.\u001b[39;00m\u001b[34;01mcode\u001b[39;00m\u001b[34;01m.\u001b[39;00m\u001b[34;01maprp\u001b[39;00m\u001b[38;5;250m \u001b[39m\u001b[38;5;28;01mimport\u001b[39;00m APRP \u001b[38;5;66;03m# APRP routine\u001b[39;00m\n\u001b[32m     19\u001b[39m \u001b[38;5;28;01mfrom\u001b[39;00m\u001b[38;5;250m \u001b[39m\u001b[34;01mutilities\u001b[39;00m\u001b[34;01m.\u001b[39;00m\u001b[34;01mstore_data\u001b[39;00m\u001b[34;01m.\u001b[39;00m\u001b[34;01msave_and_load_data\u001b[39;00m\u001b[38;5;250m \u001b[39m\u001b[38;5;28;01mimport\u001b[39;00m netcdf_to_dict \u001b[38;5;66;03m# to load the climatology dictionnary\u001b[39;00m\n",
      "\u001b[31mModuleNotFoundError\u001b[39m: No module named 'utilities.prepare_data'"
     ]
    }
   ],
   "source": [
    "### LOAD AND NAVIGATE THROUGH THE DATA ###\n",
    "\n",
    "import os  # to get access to commands related to path setting and creation of directories\n",
    "\n",
    "### DATA OBJECTS AND ASSOCIATED COMPUTATION ###\n",
    "\n",
    "import numpy as np  # to handle numpy arrays and the associated tools\n",
    "\n",
    "import xarray as xr  # to manage the data\n",
    "\n",
    "import xcdat as xc  # to handle climate model outputs with xarray\n",
    "\n",
    "### HOMEMADE LIBRARIES ###\n",
    "\n",
    "from utilities.prepare_data.extract_climatologies import create_climatology_dict # function to create the climatology dictionnary from the raw data\n",
    "\n",
    "from utilities.aprp_library.code.aprp import APRP # APRP routine\n",
    "\n",
    "from utilities.store_data.save_and_load_data import netcdf_to_dict # to load the climatology dictionnary\n"
   ]
  },
  {
   "cell_type": "markdown",
   "metadata": {},
   "source": [
    "## Define the paths for saving and loading data"
   ]
  },
  {
   "cell_type": "code",
   "execution_count": null,
   "metadata": {},
   "outputs": [],
   "source": [
    "#######################\n",
    "#### INITIALISATION ###\n",
    "#######################\n",
    "\n",
    "# ================ DEFINE THE FOLDERS WHERE IS STORED THE DATA ================ #\n",
    "\n",
    "### DEFINE THE HOME DIRECTORY ###\n",
    "\n",
    "## Home directory ##\n",
    "\n",
    "homedir_path = os.path.expanduser(\"~\")\n",
    "\n",
    "### DEFINE WHERE IS THE DOWNLOADED RAW DATA ###\n",
    "\n",
    "## Parent directory of the download folder ##\n",
    "\n",
    "parent_path_download = homedir_path + \"/certainty-data\"\n",
    "\n",
    "## Name of the download folder ##\n",
    "\n",
    "download_folder_name = \"CMIP6-DATA\"\n",
    "\n",
    "### DEFINE WHERE TO SAVE THE CLIMATOLOGIES ###\n",
    "\n",
    "## Path of the save directory ##\n",
    "\n",
    "parent_path_save_clim = homedir_path + \"/certainty-data/\" + download_folder_name + \"/climatologies\"\n"
   ]
  },
  {
   "cell_type": "markdown",
   "metadata": {},
   "source": [
    "## Generate the CMIP6 climatology"
   ]
  },
  {
   "cell_type": "code",
   "execution_count": null,
   "metadata": {},
   "outputs": [],
   "source": [
    "##################################\n",
    "### GENERATE CMIP6 CLIMATOLOGY ###\n",
    "##################################\n",
    "\n",
    "create_climatology_dict(data_path = parent_path_download, data_folder_name = download_folder_name, \n",
    "                        save_path = parent_path_save_clim)"
   ]
  },
  {
   "cell_type": "markdown",
   "metadata": {},
   "source": [
    "## Load the CMIP6 climatology"
   ]
  },
  {
   "cell_type": "code",
   "execution_count": null,
   "metadata": {},
   "outputs": [],
   "source": [
    "##################################\n",
    "### LOAD THE CMIP6 CLIMATOLOGY ###\n",
    "##################################\n",
    "\n",
    "netcdf_to_dict(save_path = parent_path_save_clim)"
   ]
  },
  {
   "cell_type": "code",
   "execution_count": null,
   "metadata": {},
   "outputs": [
    {
     "name": "stderr",
     "output_type": "stream",
     "text": [
      "The 'lat' coordinate variable is missing a 'units' attribute. Assuming 'units' is 'degrees_north'.\n"
     ]
    }
   ],
   "source": [
    "\"\"\"output = APRP(\n",
    "    dict_cmip6_clim[\"IPSL-CM6A-LR.r1i1p1f1.piClim-control\"],\n",
    "    dict_cmip6_clim[\"IPSL-CM6A-LR.r1i1p1f1.piClim-aer\"],\n",
    ")\"\"\""
   ]
  },
  {
   "cell_type": "code",
   "execution_count": null,
   "metadata": {},
   "outputs": [
    {
     "data": {
      "text/plain": [
       "'/home/jovyan/certainty-data/CMIP6-DATA/treated-data'"
      ]
     },
     "execution_count": 16,
     "metadata": {},
     "output_type": "execute_result"
    }
   ],
   "source": [
    "# create given folder\n",
    "\n",
    "homedir_path = os.path.expanduser(\"~\")\n",
    "\n",
    "## Parent directory ##\n",
    "\n",
    "parent_path = homedir_path + \"/certainty-data/CMIP6-DATA/\"\n",
    "\n",
    "saving_folder_name = \"treated-data\"\n",
    "\n",
    "\n",
    "saving_path = create_dir(parent_path=parent_path, name=saving_folder_name, clear=True)\n",
    "\n",
    "saving_path"
   ]
  },
  {
   "cell_type": "code",
   "execution_count": null,
   "metadata": {},
   "outputs": [],
   "source": [
    "# create the dictionnary\n",
    "\n",
    "dict_cmip6_clim = {}\n",
    "\n",
    "# loading the data once it is saved\n",
    "\n",
    "key_paths_table = pd.read_pickle(saving_path + \"/\" + \"key_paths_table.pkl\")\n",
    "\n",
    "# rebuild the dictionnary\n",
    "\n",
    "list_keys = key_paths_table[\"key\"].to_list()\n",
    "\n",
    "paths = key_paths_table[\"path\"].to_list()\n",
    "\n",
    "for ii, key in enumerate(list_keys):\n",
    "\n",
    "    path_to_nc = paths[ii]\n",
    "\n",
    "    dict_cmip6_clim[key] = xr.open_dataset(path_to_nc)"
   ]
  },
  {
   "cell_type": "markdown",
   "metadata": {},
   "source": []
  },
  {
   "cell_type": "markdown",
   "metadata": {},
   "source": []
  },
  {
   "cell_type": "markdown",
   "metadata": {},
   "source": []
  }
 ],
 "metadata": {
  "kernelspec": {
   "display_name": "Python [conda env:cmip6-analysis]",
   "language": "python",
   "name": "conda-env-cmip6-analysis-py"
  },
  "language_info": {
   "codemirror_mode": {
    "name": "ipython",
    "version": 3
   },
   "file_extension": ".py",
   "mimetype": "text/x-python",
   "name": "python",
   "nbconvert_exporter": "python",
   "pygments_lexer": "ipython3",
   "version": "3.13.2"
  }
 },
 "nbformat": 4,
 "nbformat_minor": 2
}
