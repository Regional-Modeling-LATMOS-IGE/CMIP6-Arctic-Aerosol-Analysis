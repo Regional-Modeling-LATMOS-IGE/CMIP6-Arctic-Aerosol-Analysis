{
 "cells": [
  {
   "cell_type": "markdown",
   "id": "5dc97a7c-a97e-4464-9d20-e22becb5685b",
   "metadata": {},
   "source": [
    "# Downloading needed ensemble CMIP6 data from model.variant entries in a .txt file"
   ]
  },
  {
   "cell_type": "markdown",
   "id": "ed8b1ede-2de5-487c-9602-6b1b339c6e44",
   "metadata": {},
   "source": [
    "## Purpose of the notebook"
   ]
  },
  {
   "cell_type": "markdown",
   "id": "2a42285e-309f-4a3a-8e6d-e8499d2c1112",
   "metadata": {},
   "source": [
    "This notebook aims at retrieving the wget script to download an ensemble of CMIP6 variables from a list of models.variant couples with all the criterias written in a *.csv* file. One example of such a file can be found in the repository. The main criterias, common to the whole ensemble, are defined **within this jupyter**.\n",
    "\n",
    "It uses the *esgf-pyclient* library : https://esgf-pyclient.readthedocs.io/en/latest/index.html. Then it creates temporary folders to download the associated *.nc* files and moves these files to a more permanent storage folder. All the folders are cleaned up to insure that no mess is done. The path of the temporary downloading and the permanent storage folders are **user-defined**.\n",
    "\n",
    "Feel free to share, use and improve the following code according to the provided license on the repository."
   ]
  },
  {
   "cell_type": "markdown",
   "id": "5e4b4f66-3223-46b9-94e9-c104451a5da6",
   "metadata": {},
   "source": [
    "## Initialization "
   ]
  },
  {
   "cell_type": "markdown",
   "id": "fd20cd4b-ca18-4a76-a7cd-a804554c6a3a",
   "metadata": {},
   "source": [
    "### Set environment parameters"
   ]
  },
  {
   "cell_type": "markdown",
   "id": "48f9e340-7abb-4040-ad01-de943ca53a2e",
   "metadata": {},
   "source": [
    "We set this parameter in order to avoid the display of needless and impactless errors regarding the *facets* variable."
   ]
  },
  {
   "cell_type": "code",
   "execution_count": 1,
   "id": "deb9cd2c-7a8a-4b03-b95d-2cc2ae643773",
   "metadata": {},
   "outputs": [
    {
     "name": "stdout",
     "output_type": "stream",
     "text": [
      "env: ESGF_PYCLIENT_NO_FACETS_STAR_WARNING=42\n"
     ]
    }
   ],
   "source": [
    "# ================ SET ENVIRONMENT PARAMETERS ================ #\n",
    "\n",
    "### NO FACETS WARNING ###\n",
    "\n",
    "%env ESGF_PYCLIENT_NO_FACETS_STAR_WARNING = 42"
   ]
  },
  {
   "cell_type": "markdown",
   "id": "19fb1cc5-febe-4ebf-8dca-b8700098e548",
   "metadata": {},
   "source": [
    "### Importations"
   ]
  },
  {
   "cell_type": "code",
   "execution_count": 9,
   "id": "16dab12c-5141-4e6f-a908-aa5792b296ea",
   "metadata": {},
   "outputs": [],
   "source": [
    "# ================ IMPORTATIONS ================ #\n",
    "\n",
    "from pyesgf.search import SearchConnection  # the query package of pyesgf for cmip6 data\n",
    "\n",
    "import os  # to handle path's management\n",
    "\n",
    "import subprocess  # to run the wget code from python\n",
    "\n",
    "import random # to generate the name of our downloading scripts\n",
    "\n",
    "import pandas as pd # to retrieve the .csv data \n",
    "\n",
    "from library_for_download_notebooks import * # set of functions used in the notebook : to make it more readable"
   ]
  },
  {
   "cell_type": "markdown",
   "id": "96bb63dd-c8ae-4720-901d-a63e306221fc",
   "metadata": {},
   "source": [
    "### Set the user-defined paths"
   ]
  },
  {
   "cell_type": "markdown",
   "id": "f91ac1a3-9c30-4fc1-b182-248e4f040ce7",
   "metadata": {},
   "source": [
    "These user defined paths are essential to make the program know \n",
    "\n",
    "* where it will create its **temporary download folder**\n",
    "* where it will created its **permanent storage folder**\n",
    "* where *research-criterias.csv* is located "
   ]
  },
  {
   "cell_type": "code",
   "execution_count": 6,
   "id": "edbd40b3-f2d7-4f42-9f73-3e739a88553d",
   "metadata": {},
   "outputs": [],
   "source": [
    "# ================ USER-DEFINED PATHS ================ #\n",
    "\n",
    "### DEFINE TEMPORARY DOWNLOAD FOLDER'S PATH ###\n",
    "\n",
    "download_dir = \"/data/lgiboni/downloaded-cmip6-datadir-example\"\n",
    "\n",
    "### DEFINE PERMANENT STORAGE FOLDER'S PATH ###\n",
    "\n",
    "storage_dir = \"/scratchu/lgiboni/CMIP6_DATA\"\n",
    "\n",
    "### DEFINE LOCATION OF RESARCH-CRITERIAS.CSV ###\n",
    "\n",
    "path_csv_file = \"/home/lgiboni/CMIP6-Arctic-Aerosol-Analysis/utilities/download/research-criterias.csv\""
   ]
  },
  {
   "cell_type": "markdown",
   "id": "e5365a34-a79c-49c6-8cb5-d35e51ce7324",
   "metadata": {},
   "source": [
    "## Extract the criterias from the .csv file "
   ]
  },
  {
   "cell_type": "markdown",
   "id": "9373b63a-af65-425e-a9ed-d25d317935de",
   "metadata": {},
   "source": [
    "### Open the .csv file in a pandas dataframe"
   ]
  },
  {
   "cell_type": "code",
   "execution_count": 12,
   "id": "46746af3-c23a-4802-926a-37d102ecaba5",
   "metadata": {},
   "outputs": [
    {
     "data": {
      "text/html": [
       "<div>\n",
       "<style scoped>\n",
       "    .dataframe tbody tr th:only-of-type {\n",
       "        vertical-align: middle;\n",
       "    }\n",
       "\n",
       "    .dataframe tbody tr th {\n",
       "        vertical-align: top;\n",
       "    }\n",
       "\n",
       "    .dataframe thead th {\n",
       "        text-align: right;\n",
       "    }\n",
       "</style>\n",
       "<table border=\"1\" class=\"dataframe\">\n",
       "  <thead>\n",
       "    <tr style=\"text-align: right;\">\n",
       "      <th></th>\n",
       "      <th>project</th>\n",
       "      <th>variables</th>\n",
       "      <th>frequency</th>\n",
       "      <th>model</th>\n",
       "      <th>variant</th>\n",
       "      <th>experiment_id</th>\n",
       "    </tr>\n",
       "  </thead>\n",
       "  <tbody>\n",
       "    <tr>\n",
       "      <th>0</th>\n",
       "      <td>CMIP6</td>\n",
       "      <td>[\"clt\",\"rsdt\",\"rsut\",\"rsutcs\",\"rsds\",\"rsus\",\"r...</td>\n",
       "      <td>mon</td>\n",
       "      <td>ACCESS-CM2</td>\n",
       "      <td>r1i1p1f1</td>\n",
       "      <td>[\"piClim-control, piClim-aer\"]</td>\n",
       "    </tr>\n",
       "    <tr>\n",
       "      <th>1</th>\n",
       "      <td>CMIP6</td>\n",
       "      <td>[\"clt\",\"rsdt\",\"rsut\",\"rsutcs\",\"rsds\",\"rsus\",\"r...</td>\n",
       "      <td>mon</td>\n",
       "      <td>ACCESS-ESM1-5</td>\n",
       "      <td>r1i1p1f1</td>\n",
       "      <td>[\"piClim-control, piClim-aer\"]</td>\n",
       "    </tr>\n",
       "    <tr>\n",
       "      <th>2</th>\n",
       "      <td>CMIP6</td>\n",
       "      <td>[\"clt\",\"rsdt\",\"rsut\",\"rsutcs\",\"rsds\",\"rsus\",\"r...</td>\n",
       "      <td>mon</td>\n",
       "      <td>BCC-ESM1</td>\n",
       "      <td>r1i1p1f1</td>\n",
       "      <td>[\"piClim-control, piClim-aer\"]</td>\n",
       "    </tr>\n",
       "    <tr>\n",
       "      <th>3</th>\n",
       "      <td>CMIP6</td>\n",
       "      <td>[\"clt\",\"rsdt\",\"rsut\",\"rsutcs\",\"rsds\",\"rsus\",\"r...</td>\n",
       "      <td>mon</td>\n",
       "      <td>CESM2</td>\n",
       "      <td>r1i1p1f1</td>\n",
       "      <td>[\"piClim-control, piClim-aer\"]</td>\n",
       "    </tr>\n",
       "    <tr>\n",
       "      <th>4</th>\n",
       "      <td>CMIP6</td>\n",
       "      <td>[\"clt\",\"rsdt\",\"rsut\",\"rsutcs\",\"rsds\",\"rsus\",\"r...</td>\n",
       "      <td>mon</td>\n",
       "      <td>CNRM-CM6-1</td>\n",
       "      <td>r1i1p1f2</td>\n",
       "      <td>[\"piClim-control, piClim-aer\"]</td>\n",
       "    </tr>\n",
       "    <tr>\n",
       "      <th>5</th>\n",
       "      <td>CMIP6</td>\n",
       "      <td>[\"clt\",\"rsdt\",\"rsut\",\"rsutcs\",\"rsds\",\"rsus\",\"r...</td>\n",
       "      <td>mon</td>\n",
       "      <td>CNRM-ESM2-1</td>\n",
       "      <td>r1i1p1f2</td>\n",
       "      <td>[\"piClim-control, piClim-aer\"]</td>\n",
       "    </tr>\n",
       "    <tr>\n",
       "      <th>6</th>\n",
       "      <td>CMIP6</td>\n",
       "      <td>[\"clt\",\"rsdt\",\"rsut\",\"rsutcs\",\"rsds\",\"rsus\",\"r...</td>\n",
       "      <td>mon</td>\n",
       "      <td>CanESM5</td>\n",
       "      <td>r1i1p2f1</td>\n",
       "      <td>[\"piClim-control, piClim-aer\"]</td>\n",
       "    </tr>\n",
       "    <tr>\n",
       "      <th>7</th>\n",
       "      <td>CMIP6</td>\n",
       "      <td>[\"clt\",\"rsdt\",\"rsut\",\"rsutcs\",\"rsds\",\"rsus\",\"r...</td>\n",
       "      <td>mon</td>\n",
       "      <td>GFDL-CM4</td>\n",
       "      <td>r1i1p1f1</td>\n",
       "      <td>[\"piClim-control, piClim-aer\"]</td>\n",
       "    </tr>\n",
       "    <tr>\n",
       "      <th>8</th>\n",
       "      <td>CMIP6</td>\n",
       "      <td>[\"clt\",\"rsdt\",\"rsut\",\"rsutcs\",\"rsds\",\"rsus\",\"r...</td>\n",
       "      <td>mon</td>\n",
       "      <td>GFDL-ESM4</td>\n",
       "      <td>r1i1p1f1</td>\n",
       "      <td>[\"piClim-control, piClim-aer\"]</td>\n",
       "    </tr>\n",
       "    <tr>\n",
       "      <th>9</th>\n",
       "      <td>CMIP6</td>\n",
       "      <td>[\"clt\",\"rsdt\",\"rsut\",\"rsutcs\",\"rsds\",\"rsus\",\"r...</td>\n",
       "      <td>mon</td>\n",
       "      <td>GISS-E2-1-G</td>\n",
       "      <td>r1i1p1f1</td>\n",
       "      <td>[\"piClim-control, piClim-aer\"]</td>\n",
       "    </tr>\n",
       "    <tr>\n",
       "      <th>10</th>\n",
       "      <td>CMIP6</td>\n",
       "      <td>[\"clt\",\"rsdt\",\"rsut\",\"rsutcs\",\"rsds\",\"rsus\",\"r...</td>\n",
       "      <td>mon</td>\n",
       "      <td>GISS-E2-1-G</td>\n",
       "      <td>r1i1p1f2</td>\n",
       "      <td>[\"piClim-control, piClim-aer\"]</td>\n",
       "    </tr>\n",
       "    <tr>\n",
       "      <th>11</th>\n",
       "      <td>CMIP6</td>\n",
       "      <td>[\"clt\",\"rsdt\",\"rsut\",\"rsutcs\",\"rsds\",\"rsus\",\"r...</td>\n",
       "      <td>mon</td>\n",
       "      <td>GISS-E2-1-G</td>\n",
       "      <td>r1i1p3f1</td>\n",
       "      <td>[\"piClim-control, piClim-aer\"]</td>\n",
       "    </tr>\n",
       "    <tr>\n",
       "      <th>12</th>\n",
       "      <td>CMIP6</td>\n",
       "      <td>[\"clt\",\"rsdt\",\"rsut\",\"rsutcs\",\"rsds\",\"rsus\",\"r...</td>\n",
       "      <td>mon</td>\n",
       "      <td>HadGEM3-GC31-LL</td>\n",
       "      <td>r1i1p1f3</td>\n",
       "      <td>[\"piClim-control, piClim-aer\"]</td>\n",
       "    </tr>\n",
       "    <tr>\n",
       "      <th>13</th>\n",
       "      <td>CMIP6</td>\n",
       "      <td>[\"clt\",\"rsdt\",\"rsut\",\"rsutcs\",\"rsds\",\"rsus\",\"r...</td>\n",
       "      <td>mon</td>\n",
       "      <td>IPSL-CM6A-LR-INCA</td>\n",
       "      <td>r1i1p1f1</td>\n",
       "      <td>[\"piClim-control, piClim-aer\"]</td>\n",
       "    </tr>\n",
       "    <tr>\n",
       "      <th>14</th>\n",
       "      <td>CMIP6</td>\n",
       "      <td>[\"clt\",\"rsdt\",\"rsut\",\"rsutcs\",\"rsds\",\"rsus\",\"r...</td>\n",
       "      <td>mon</td>\n",
       "      <td>IPSL-CM6A-LR</td>\n",
       "      <td>r1i1p1f1</td>\n",
       "      <td>[\"piClim-control, piClim-aer\"]</td>\n",
       "    </tr>\n",
       "    <tr>\n",
       "      <th>15</th>\n",
       "      <td>CMIP6</td>\n",
       "      <td>[\"clt\",\"rsdt\",\"rsut\",\"rsutcs\",\"rsds\",\"rsus\",\"r...</td>\n",
       "      <td>mon</td>\n",
       "      <td>IPSL-CM6A-LR</td>\n",
       "      <td>r2i1p1f1</td>\n",
       "      <td>[\"piClim-control, piClim-aer\"]</td>\n",
       "    </tr>\n",
       "    <tr>\n",
       "      <th>16</th>\n",
       "      <td>CMIP6</td>\n",
       "      <td>[\"clt\",\"rsdt\",\"rsut\",\"rsutcs\",\"rsds\",\"rsus\",\"r...</td>\n",
       "      <td>mon</td>\n",
       "      <td>IPSL-CM6A-LR</td>\n",
       "      <td>r3i1p1f1</td>\n",
       "      <td>[\"piClim-control, piClim-aer\"]</td>\n",
       "    </tr>\n",
       "    <tr>\n",
       "      <th>17</th>\n",
       "      <td>CMIP6</td>\n",
       "      <td>[\"clt\",\"rsdt\",\"rsut\",\"rsutcs\",\"rsds\",\"rsus\",\"r...</td>\n",
       "      <td>mon</td>\n",
       "      <td>IPSL-CM6A-LR</td>\n",
       "      <td>r4i1p1f1</td>\n",
       "      <td>[\"piClim-control, piClim-aer\"]</td>\n",
       "    </tr>\n",
       "    <tr>\n",
       "      <th>18</th>\n",
       "      <td>CMIP6</td>\n",
       "      <td>[\"clt\",\"rsdt\",\"rsut\",\"rsutcs\",\"rsds\",\"rsus\",\"r...</td>\n",
       "      <td>mon</td>\n",
       "      <td>MIROC6</td>\n",
       "      <td>r11i1p1f1</td>\n",
       "      <td>[\"piClim-control, piClim-aer\"]</td>\n",
       "    </tr>\n",
       "    <tr>\n",
       "      <th>19</th>\n",
       "      <td>CMIP6</td>\n",
       "      <td>[\"clt\",\"rsdt\",\"rsut\",\"rsutcs\",\"rsds\",\"rsus\",\"r...</td>\n",
       "      <td>mon</td>\n",
       "      <td>MIROC6</td>\n",
       "      <td>r1i1p1f1</td>\n",
       "      <td>[\"piClim-control, piClim-aer\"]</td>\n",
       "    </tr>\n",
       "    <tr>\n",
       "      <th>20</th>\n",
       "      <td>CMIP6</td>\n",
       "      <td>[\"clt\",\"rsdt\",\"rsut\",\"rsutcs\",\"rsds\",\"rsus\",\"r...</td>\n",
       "      <td>mon</td>\n",
       "      <td>MPI-ESM-1-2-HAM</td>\n",
       "      <td>r1i1p1f1</td>\n",
       "      <td>[\"piClim-control, piClim-aer\"]</td>\n",
       "    </tr>\n",
       "    <tr>\n",
       "      <th>21</th>\n",
       "      <td>CMIP6</td>\n",
       "      <td>[\"clt\",\"rsdt\",\"rsut\",\"rsutcs\",\"rsds\",\"rsus\",\"r...</td>\n",
       "      <td>mon</td>\n",
       "      <td>MRI-ESM2-0</td>\n",
       "      <td>r1i1p1f1</td>\n",
       "      <td>[\"piClim-control, piClim-aer\"]</td>\n",
       "    </tr>\n",
       "    <tr>\n",
       "      <th>22</th>\n",
       "      <td>CMIP6</td>\n",
       "      <td>[\"clt\",\"rsdt\",\"rsut\",\"rsutcs\",\"rsds\",\"rsus\",\"r...</td>\n",
       "      <td>mon</td>\n",
       "      <td>NorESM2-LM</td>\n",
       "      <td>r1i1p1f1</td>\n",
       "      <td>[\"piClim-control, piClim-aer\"]</td>\n",
       "    </tr>\n",
       "    <tr>\n",
       "      <th>23</th>\n",
       "      <td>CMIP6</td>\n",
       "      <td>[\"clt\",\"rsdt\",\"rsut\",\"rsutcs\",\"rsds\",\"rsus\",\"r...</td>\n",
       "      <td>mon</td>\n",
       "      <td>NorESM2-LM</td>\n",
       "      <td>r1i1p2f1</td>\n",
       "      <td>[\"piClim-control, piClim-aer\"]</td>\n",
       "    </tr>\n",
       "    <tr>\n",
       "      <th>24</th>\n",
       "      <td>CMIP6</td>\n",
       "      <td>[\"clt\",\"rsdt\",\"rsut\",\"rsutcs\",\"rsds\",\"rsus\",\"r...</td>\n",
       "      <td>mon</td>\n",
       "      <td>NorESM2-MM</td>\n",
       "      <td>r1i1p1f1</td>\n",
       "      <td>[\"piClim-control, piClim-aer\"]</td>\n",
       "    </tr>\n",
       "    <tr>\n",
       "      <th>25</th>\n",
       "      <td>CMIP6</td>\n",
       "      <td>[\"clt\",\"rsdt\",\"rsut\",\"rsutcs\",\"rsds\",\"rsus\",\"r...</td>\n",
       "      <td>mon</td>\n",
       "      <td>UKESM1-0-LL</td>\n",
       "      <td>r1i1p1f4</td>\n",
       "      <td>[\"piClim-control, piClim-aer\"]</td>\n",
       "    </tr>\n",
       "  </tbody>\n",
       "</table>\n",
       "</div>"
      ],
      "text/plain": [
       "   project                                          variables frequency  \\\n",
       "0    CMIP6  [\"clt\",\"rsdt\",\"rsut\",\"rsutcs\",\"rsds\",\"rsus\",\"r...       mon   \n",
       "1    CMIP6  [\"clt\",\"rsdt\",\"rsut\",\"rsutcs\",\"rsds\",\"rsus\",\"r...       mon   \n",
       "2    CMIP6  [\"clt\",\"rsdt\",\"rsut\",\"rsutcs\",\"rsds\",\"rsus\",\"r...       mon   \n",
       "3    CMIP6  [\"clt\",\"rsdt\",\"rsut\",\"rsutcs\",\"rsds\",\"rsus\",\"r...       mon   \n",
       "4    CMIP6  [\"clt\",\"rsdt\",\"rsut\",\"rsutcs\",\"rsds\",\"rsus\",\"r...       mon   \n",
       "5    CMIP6  [\"clt\",\"rsdt\",\"rsut\",\"rsutcs\",\"rsds\",\"rsus\",\"r...       mon   \n",
       "6    CMIP6  [\"clt\",\"rsdt\",\"rsut\",\"rsutcs\",\"rsds\",\"rsus\",\"r...       mon   \n",
       "7    CMIP6  [\"clt\",\"rsdt\",\"rsut\",\"rsutcs\",\"rsds\",\"rsus\",\"r...       mon   \n",
       "8    CMIP6  [\"clt\",\"rsdt\",\"rsut\",\"rsutcs\",\"rsds\",\"rsus\",\"r...       mon   \n",
       "9    CMIP6  [\"clt\",\"rsdt\",\"rsut\",\"rsutcs\",\"rsds\",\"rsus\",\"r...       mon   \n",
       "10   CMIP6  [\"clt\",\"rsdt\",\"rsut\",\"rsutcs\",\"rsds\",\"rsus\",\"r...       mon   \n",
       "11   CMIP6  [\"clt\",\"rsdt\",\"rsut\",\"rsutcs\",\"rsds\",\"rsus\",\"r...       mon   \n",
       "12   CMIP6  [\"clt\",\"rsdt\",\"rsut\",\"rsutcs\",\"rsds\",\"rsus\",\"r...       mon   \n",
       "13   CMIP6  [\"clt\",\"rsdt\",\"rsut\",\"rsutcs\",\"rsds\",\"rsus\",\"r...       mon   \n",
       "14   CMIP6  [\"clt\",\"rsdt\",\"rsut\",\"rsutcs\",\"rsds\",\"rsus\",\"r...       mon   \n",
       "15   CMIP6  [\"clt\",\"rsdt\",\"rsut\",\"rsutcs\",\"rsds\",\"rsus\",\"r...       mon   \n",
       "16   CMIP6  [\"clt\",\"rsdt\",\"rsut\",\"rsutcs\",\"rsds\",\"rsus\",\"r...       mon   \n",
       "17   CMIP6  [\"clt\",\"rsdt\",\"rsut\",\"rsutcs\",\"rsds\",\"rsus\",\"r...       mon   \n",
       "18   CMIP6  [\"clt\",\"rsdt\",\"rsut\",\"rsutcs\",\"rsds\",\"rsus\",\"r...       mon   \n",
       "19   CMIP6  [\"clt\",\"rsdt\",\"rsut\",\"rsutcs\",\"rsds\",\"rsus\",\"r...       mon   \n",
       "20   CMIP6  [\"clt\",\"rsdt\",\"rsut\",\"rsutcs\",\"rsds\",\"rsus\",\"r...       mon   \n",
       "21   CMIP6  [\"clt\",\"rsdt\",\"rsut\",\"rsutcs\",\"rsds\",\"rsus\",\"r...       mon   \n",
       "22   CMIP6  [\"clt\",\"rsdt\",\"rsut\",\"rsutcs\",\"rsds\",\"rsus\",\"r...       mon   \n",
       "23   CMIP6  [\"clt\",\"rsdt\",\"rsut\",\"rsutcs\",\"rsds\",\"rsus\",\"r...       mon   \n",
       "24   CMIP6  [\"clt\",\"rsdt\",\"rsut\",\"rsutcs\",\"rsds\",\"rsus\",\"r...       mon   \n",
       "25   CMIP6  [\"clt\",\"rsdt\",\"rsut\",\"rsutcs\",\"rsds\",\"rsus\",\"r...       mon   \n",
       "\n",
       "                model    variant                   experiment_id  \n",
       "0          ACCESS-CM2   r1i1p1f1  [\"piClim-control, piClim-aer\"]  \n",
       "1       ACCESS-ESM1-5   r1i1p1f1  [\"piClim-control, piClim-aer\"]  \n",
       "2            BCC-ESM1   r1i1p1f1  [\"piClim-control, piClim-aer\"]  \n",
       "3               CESM2   r1i1p1f1  [\"piClim-control, piClim-aer\"]  \n",
       "4          CNRM-CM6-1   r1i1p1f2  [\"piClim-control, piClim-aer\"]  \n",
       "5         CNRM-ESM2-1   r1i1p1f2  [\"piClim-control, piClim-aer\"]  \n",
       "6             CanESM5   r1i1p2f1  [\"piClim-control, piClim-aer\"]  \n",
       "7            GFDL-CM4   r1i1p1f1  [\"piClim-control, piClim-aer\"]  \n",
       "8           GFDL-ESM4   r1i1p1f1  [\"piClim-control, piClim-aer\"]  \n",
       "9         GISS-E2-1-G   r1i1p1f1  [\"piClim-control, piClim-aer\"]  \n",
       "10        GISS-E2-1-G   r1i1p1f2  [\"piClim-control, piClim-aer\"]  \n",
       "11        GISS-E2-1-G   r1i1p3f1  [\"piClim-control, piClim-aer\"]  \n",
       "12    HadGEM3-GC31-LL   r1i1p1f3  [\"piClim-control, piClim-aer\"]  \n",
       "13  IPSL-CM6A-LR-INCA   r1i1p1f1  [\"piClim-control, piClim-aer\"]  \n",
       "14       IPSL-CM6A-LR   r1i1p1f1  [\"piClim-control, piClim-aer\"]  \n",
       "15       IPSL-CM6A-LR   r2i1p1f1  [\"piClim-control, piClim-aer\"]  \n",
       "16       IPSL-CM6A-LR   r3i1p1f1  [\"piClim-control, piClim-aer\"]  \n",
       "17       IPSL-CM6A-LR   r4i1p1f1  [\"piClim-control, piClim-aer\"]  \n",
       "18             MIROC6  r11i1p1f1  [\"piClim-control, piClim-aer\"]  \n",
       "19             MIROC6   r1i1p1f1  [\"piClim-control, piClim-aer\"]  \n",
       "20    MPI-ESM-1-2-HAM   r1i1p1f1  [\"piClim-control, piClim-aer\"]  \n",
       "21         MRI-ESM2-0   r1i1p1f1  [\"piClim-control, piClim-aer\"]  \n",
       "22         NorESM2-LM   r1i1p1f1  [\"piClim-control, piClim-aer\"]  \n",
       "23         NorESM2-LM   r1i1p2f1  [\"piClim-control, piClim-aer\"]  \n",
       "24         NorESM2-MM   r1i1p1f1  [\"piClim-control, piClim-aer\"]  \n",
       "25        UKESM1-0-LL   r1i1p1f4  [\"piClim-control, piClim-aer\"]  "
      ]
     },
     "execution_count": 12,
     "metadata": {},
     "output_type": "execute_result"
    }
   ],
   "source": [
    "# ================ OPEN THE CSV FILE ================ #\n",
    "\n",
    "criterias = pd.read_csv(path_csv_file, delimiter = \";\")"
   ]
  },
  {
   "cell_type": "markdown",
   "id": "48f6d95c-5026-47a8-bb9b-c586cc0b7479",
   "metadata": {},
   "source": [
    "We define all the specific information that are specific to our model.variant search as well as for the given experiment we are looking for."
   ]
  },
  {
   "cell_type": "code",
   "execution_count": 7,
   "id": "1946b009-9cf2-429b-a17e-557f12258488",
   "metadata": {},
   "outputs": [],
   "source": [
    "# ================ DEFINE THE ADDITiONNAL SEARCH CRITERIAS FOR A GiVEN MODEL'S OUTPUT ================ #\n",
    "\n",
    "### SOURCE ID : NAME OF THE CHOSEN MODEL ###\n",
    "\n",
    "source_id = [\"IPSL-CM6A-LR\"]\n",
    "\n",
    "### VARIANT OF THE MODEL RUN ###\n",
    "\n",
    "variant_label = [\"r1i1p1f1\"]\n",
    "\n",
    "### EXPERIMENT ID ###\n",
    "\n",
    "experiment_id = [\"piClim-control\"]\n",
    "\n",
    "### WHOLE SET OF QUERY PARAMETERS ###\n",
    "\n",
    "facets = (\n",
    "    \"project,frequency,variable,source_id,variant_label,experiment_id,latest,replica\"\n",
    ")"
   ]
  },
  {
   "cell_type": "markdown",
   "id": "b911593f-ae7e-401a-9282-5f116077d65c",
   "metadata": {},
   "source": [
    "*facets* will be used to confirm that our query holds all the parameters we are looking for.\\\n",
    "The element *latest* is to specify we want the latest data.\\\n",
    "The element *replica* is to specify whether we want duplicates to be included in our search results."
   ]
  },
  {
   "cell_type": "markdown",
   "id": "42db0070-7616-4b32-b04e-e1318cc8aa21",
   "metadata": {},
   "source": [
    "### Run the actual search\n",
    "\n",
    "We start the search with the IPSL node. Since the variable *distrib* is set to **True**, we will extend the search to all the esgf nodes in case of lack of match."
   ]
  },
  {
   "cell_type": "code",
   "execution_count": 8,
   "id": "32b23462-c0c3-47d6-be20-e25301db13b2",
   "metadata": {},
   "outputs": [
    {
     "name": "stdout",
     "output_type": "stream",
     "text": [
      "The search has returned 12 results\n"
     ]
    }
   ],
   "source": [
    "# ================ RUN THE QUERY FOR THE PICLIM-CONTROL EXPERIMENT ================ #\n",
    "\n",
    "### SET THE STARTING NODE FOR THE SEARCH ###\n",
    "\n",
    "conn = SearchConnection(\"https://esgf-node.ipsl.upmc.fr/esg-search\", distrib=True)\n",
    "\n",
    "### QUERY ###\n",
    "\n",
    "## Launch the query ##\n",
    "\n",
    "query = conn.new_context(\n",
    "    project=project,\n",
    "    frequency=frequency,\n",
    "    variable=variables,\n",
    "    source_id=source_id,\n",
    "    variant_label=variant_label,\n",
    "    experiment_id=experiment_id,\n",
    "    latest=True,  # Set to \"True\" to get the latest version\n",
    "    replica=False,  # Set to \"False\" to avoid getting duplicate in the search results\n",
    "    facets=facets,\n",
    ")  # facets confirms the search criterias we have made\n",
    "\n",
    "\n",
    "## Number of results ##\n",
    "\n",
    "results_count = query.hit_count\n",
    "\n",
    "## Print the number of results ##\n",
    "\n",
    "print(f\"The search has returned {results_count} results\")"
   ]
  },
  {
   "cell_type": "markdown",
   "id": "ad025e35-db91-484a-9e05-2b1abd212781",
   "metadata": {},
   "source": [
    "Since we have 12 variables, we have one result per variable for the researched model.variant couple and experiment."
   ]
  },
  {
   "cell_type": "markdown",
   "id": "32da42d9-2b39-4856-8abc-3b65707dafb0",
   "metadata": {},
   "source": [
    "## Create the folders for the downloading routine"
   ]
  },
  {
   "cell_type": "markdown",
   "id": "791f6b44-5bcf-4271-82c8-e230f79abf4a",
   "metadata": {},
   "source": [
    "Before saving the script and launching it, we need to make the folder associated to our given request. To do so, we create a temporary main folder for the downloading of the CMIP6 data and then make a subfolder for our given request."
   ]
  },
  {
   "cell_type": "markdown",
   "id": "d1135632-dca3-465d-9b6d-28848cf10602",
   "metadata": {},
   "source": [
    "### Make the temporary main folder for downloading the data"
   ]
  },
  {
   "cell_type": "markdown",
   "id": "df81c463-addf-4809-ab4e-fe5236205e0c",
   "metadata": {},
   "source": [
    "We create the folder cmip6-download-tmp at the path defined by the storage_dir variable thanks to the create_dir function."
   ]
  },
  {
   "cell_type": "code",
   "execution_count": 9,
   "id": "bc1fb58e-997c-4345-b5a9-2218b86bb96b",
   "metadata": {
    "scrolled": true
   },
   "outputs": [
    {
     "name": "stdout",
     "output_type": "stream",
     "text": [
      "Pre-existing folder at /scratchu/lgiboni/CMIP6_DATA/cmip6-download-tmp removed\n",
      "New folder at /scratchu/lgiboni/CMIP6_DATA/cmip6-download-tmp created\n"
     ]
    }
   ],
   "source": [
    "# ================ MAKE THE MAIN TEMPORARY DOWNLOADING FOLDER ================ #\n",
    "\n",
    "### USE OF THE CREATE DIR FUNCTION ###\n",
    "\n",
    "temporary_downloading_folder_path = create_dir(storage_dir,  \"cmip6-download-tmp\")"
   ]
  },
  {
   "cell_type": "markdown",
   "id": "62a404b3-02b7-476b-8d11-e219e2597423",
   "metadata": {},
   "source": [
    "### Make the temporary subfolders for our given request"
   ]
  },
  {
   "cell_type": "markdown",
   "id": "4af83b97-dd58-47e2-99ca-925d609fd979",
   "metadata": {},
   "source": [
    "We first define the name of the subfolders for our given request and call the create_dir function."
   ]
  },
  {
   "cell_type": "code",
   "execution_count": 10,
   "id": "550490cd-4466-4156-b996-481c225ca0ed",
   "metadata": {},
   "outputs": [
    {
     "name": "stdout",
     "output_type": "stream",
     "text": [
      "We will create IPSL-CM6A-LR.r1i1p1f1/piClim-control at /scratchu/lgiboni/CMIP6_DATA/cmip6-download-tmp\n"
     ]
    }
   ],
   "source": [
    "# ================ BUILD THE FOLDERS' NAME ================ #\n",
    "\n",
    "### DEFINE THE SUBFOLDERS' PATH FOR OUR GIVEN REQUEST ###\n",
    "\n",
    "## Define the model.variant folder's name ##\n",
    "\n",
    "model_variant_name = source_id[0] + \".\" + variant_label[0]\n",
    "\n",
    "## Define the model.variant/experiment subfolder's path ##\n",
    "\n",
    "subfolder_request = model_variant_name + \"/\" + experiment_id[0]\n",
    "\n",
    "### PRINT THE NAME ###\n",
    "\n",
    "print(\"We will create {} at {}\".format(subfolder_request, temporary_downloading_folder_path))"
   ]
  },
  {
   "cell_type": "code",
   "execution_count": 11,
   "id": "0493f2f7-8d43-4907-9a37-a5d857d9750b",
   "metadata": {},
   "outputs": [
    {
     "name": "stdout",
     "output_type": "stream",
     "text": [
      "New folder at /scratchu/lgiboni/CMIP6_DATA/cmip6-download-tmp/IPSL-CM6A-LR.r1i1p1f1/piClim-control created\n"
     ]
    }
   ],
   "source": [
    "# ================ MAKE THE MAIN TEMPORARY DOWNLOADING FOLDER ================ #\n",
    "\n",
    "### USE OF THE CREATE DIR FUNCTION ###\n",
    "\n",
    "downloading_path_for_given_request = create_dir(temporary_downloading_folder_path,  subfolder_request)"
   ]
  },
  {
   "cell_type": "markdown",
   "id": "d908ba17-8ba3-47ce-892f-88cdf0781507",
   "metadata": {},
   "source": [
    "## Launch the wget script for the request"
   ]
  },
  {
   "cell_type": "markdown",
   "id": "5262f970-fa44-40d5-ac05-c97bca2010e1",
   "metadata": {},
   "source": [
    "Now that the folders have been created, we only have to write the wget script and download the data."
   ]
  },
  {
   "cell_type": "markdown",
   "id": "d4b0df45-deef-4790-9866-813aca4af3c6",
   "metadata": {},
   "source": [
    "### Define its name and path"
   ]
  },
  {
   "cell_type": "code",
   "execution_count": 12,
   "id": "b21ac948-72e6-468a-9936-aae72d636b53",
   "metadata": {},
   "outputs": [],
   "source": [
    "# ================ DEFINE ITS NAME AND PATH ================ #\n",
    "\n",
    "### DEFINE ITS NAME ###\n",
    "\n",
    "## Use of the random library to generate a unique downloading name\n",
    "\n",
    "# Set the random number identifier #\n",
    "\n",
    "random_id  = int(random.uniform(1,10)*1000) # we extract a random decimal number between 1 and 10 and keep the 4 first decimals\n",
    "\n",
    "# Turn it into a str #\n",
    "\n",
    "random_id = str(random_id)\n",
    "\n",
    "## Define the downloading script's name ## \n",
    "\n",
    "downloading_script_name = \"download-\" + random_id + \".sh\"\n",
    "\n",
    "### DEFINE ITS PATH ###\n",
    "\n",
    "downloading_script_path = downloading_path_for_given_request + \"/\" + downloading_script_name"
   ]
  },
  {
   "cell_type": "markdown",
   "id": "969e9baf-0ba1-46d5-88dc-7aa4c86bb7a9",
   "metadata": {},
   "source": [
    "### Write the downloading script"
   ]
  },
  {
   "cell_type": "code",
   "execution_count": 13,
   "id": "d6f75a8e-9aa5-4f2d-ae82-d6eb33f793d9",
   "metadata": {},
   "outputs": [],
   "source": [
    "# ================ WRITE THE WGET SCRIPT ================ #\n",
    "\n",
    "### RETRIEVE THE SCRIPT ###\n",
    "\n",
    "wget_script_content = query.get_download_script()\n",
    "\n",
    "### STORE IT IN THE DOWNLOADING FOLDER ###\n",
    "\n",
    "## Write the wget script ##\n",
    "\n",
    "with open(downloading_script_path, \"w\") as writer:\n",
    "\n",
    "    # Writing it #\n",
    "    \n",
    "    writer.write(wget_script_content)\n",
    "\n",
    "## Make it readable, writable and executable for the user ##\n",
    "\n",
    "os.chmod(downloading_script_path, 0o750)  # it is also executable and readable by other users"
   ]
  },
  {
   "cell_type": "markdown",
   "id": "cd228072-90e9-4b0d-b079-d9897f927ce3",
   "metadata": {},
   "source": [
    "### Run the downloading script "
   ]
  },
  {
   "cell_type": "code",
   "execution_count": 14,
   "id": "7e166491-6318-40ae-ac04-928fcfc1616c",
   "metadata": {},
   "outputs": [],
   "source": [
    "# ================ RUN THE WGET SCRIPT ================ #\n",
    "\n",
    "### RUN THE WGET SCRIPT ###\n",
    "\n",
    "## We store the results in the download_process variable to produce a log ##\n",
    "\n",
    "download_process = subprocess.run(\n",
    "    \"bash \" + downloading_script_name + \" -s\",\n",
    "    cwd=downloading_path_for_given_request,\n",
    "    shell=True,\n",
    "    check=True,\n",
    "    text=True,\n",
    "    stdout=subprocess.PIPE,\n",
    "    stderr=subprocess.STDOUT,\n",
    ") \n",
    "\n",
    "# -s option to run the script without credential | cwd is the directory of the script\n",
    "\n",
    "## Store the log ##\n",
    "\n",
    "with open(downloading_path_for_given_request + \"/log.txt\", \"w\") as log_file:\n",
    "\n",
    "    log_file.write(download_process.stdout)"
   ]
  },
  {
   "cell_type": "markdown",
   "id": "6415a8eb-9064-4fbd-a22d-b0f9591200eb",
   "metadata": {},
   "source": [
    "## Move the files to a more sustainable folder"
   ]
  },
  {
   "cell_type": "markdown",
   "id": "ee77beb5-1086-43da-bc57-0ff1d7e4f9f4",
   "metadata": {},
   "source": [
    "After having downloaded the files for one model.variant couple, we would like the files to be stored in a place on our server that is known to not be cleaned often. For that, the user needs to define the variable *download_dir* that is a path."
   ]
  },
  {
   "cell_type": "markdown",
   "id": "55777419-14a6-4879-a04b-d9c42684e959",
   "metadata": {},
   "source": [
    "### Create the folder at the download_dir path"
   ]
  },
  {
   "cell_type": "markdown",
   "id": "56fd597b-c38e-44cb-9e15-e5122acf8667",
   "metadata": {},
   "source": [
    "Since we do a fresh download, we clean up the folder at the download_dir path and make a new one."
   ]
  },
  {
   "cell_type": "code",
   "execution_count": 15,
   "id": "1922fdfa-85a3-40d0-aec6-54f68e9fd71c",
   "metadata": {},
   "outputs": [
    {
     "name": "stdout",
     "output_type": "stream",
     "text": [
      "Pre-existing folder at /data/lgiboni/downloaded-cmip6-datadir-example removed\n",
      "New folder at /data/lgiboni/downloaded-cmip6-datadir-example created\n"
     ]
    }
   ],
   "source": [
    "# ================ MAKE A FRESH DATA SAVING FOLDER ================ #\n",
    "\n",
    "### EXTRACT THE PATH OF THE DIRECTORY IN WHICH LIES OUR SAVING DIRECTORY ###\n",
    "\n",
    "download_dir_directory_path = os.path.dirname(download_dir)\n",
    "\n",
    "### EXTRACT THE NAME OF THE SAVING DIRECTORY  ###\n",
    "\n",
    "name_of_download_dir = os.path.basename(download_dir)\n",
    "\n",
    "### USE OF THE CREATE DIR FUNCTION ###\n",
    "\n",
    "download_dir = create_dir(download_dir_directory_path,  name_of_download_dir)"
   ]
  },
  {
   "cell_type": "markdown",
   "id": "448c8661-6617-451e-b70d-dda94ab23bc9",
   "metadata": {},
   "source": [
    "### Move the files from python"
   ]
  },
  {
   "cell_type": "markdown",
   "id": "4cd5cb59-3150-417c-9b75-1352012de942",
   "metadata": {},
   "source": [
    "To move the model.variant folder, we will use the *mv_downloaded_data* function."
   ]
  },
  {
   "cell_type": "code",
   "execution_count": 16,
   "id": "07999eed-f3d9-45bd-9b90-b419927a62ff",
   "metadata": {},
   "outputs": [
    {
     "name": "stdout",
     "output_type": "stream",
     "text": [
      "The IPSL-CM6A-LR.r1i1p1f1 folder was moved to the path /data/lgiboni/downloaded-cmip6-datadir-example\n"
     ]
    }
   ],
   "source": [
    "# ================ MOVING THE DOWNLOADED FILES TO download_dir PATH ================ #\n",
    "\n",
    "### GET THE MODEL.VARIANT FOLDER ###\n",
    "\n",
    "model_variant_folder_path = os.path.dirname(downloading_path_for_given_request)\n",
    "\n",
    "### RUNNING THE MV BASH COMMAND FROM PYTHON ###\n",
    "\n",
    "subprocess.run(\n",
    "            \"mv {} {}\".format(model_variant_folder_path, download_dir), shell=True, check=True\n",
    "        )\n",
    "    \n",
    "print(\"The {} folder was moved to the path {}\".format(model_variant_name, download_dir))"
   ]
  }
 ],
 "metadata": {
  "kernelspec": {
   "display_name": "download-cmip6",
   "language": "python",
   "name": "download-cmip6"
  },
  "language_info": {
   "codemirror_mode": {
    "name": "ipython",
    "version": 3
   },
   "file_extension": ".py",
   "mimetype": "text/x-python",
   "name": "python",
   "nbconvert_exporter": "python",
   "pygments_lexer": "ipython3",
   "version": "3.9.21"
  }
 },
 "nbformat": 4,
 "nbformat_minor": 5
}
