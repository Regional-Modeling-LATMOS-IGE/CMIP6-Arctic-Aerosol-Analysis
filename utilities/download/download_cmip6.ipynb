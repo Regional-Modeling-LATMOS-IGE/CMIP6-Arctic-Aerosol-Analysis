{
 "cells": [
  {
   "cell_type": "markdown",
   "id": "5dc97a7c-a97e-4464-9d20-e22becb5685b",
   "metadata": {},
   "source": [
    "# Downloading an ensemble of CMIP6 data with a series of criterias thanks to intake-esgf"
   ]
  },
  {
   "cell_type": "markdown",
   "id": "ed8b1ede-2de5-487c-9602-6b1b339c6e44",
   "metadata": {},
   "source": [
    "---\n",
    "\n",
    "## Purpose of the notebook\n",
    "\n",
    "---"
   ]
  },
  {
   "cell_type": "markdown",
   "id": "2a42285e-309f-4a3a-8e6d-e8499d2c1112",
   "metadata": {},
   "source": [
    "This notebook aims at **downloading an ensemble of CMIP6 variables from python** thanks to a dictionnary of **user-defined criterias**.  \n",
    "\n",
    "All the links of the documents were accessed on the **25/03/2025**.\n",
    "\n",
    "It uses the *intake-esgf* library : https://github.com/esgf2-us/intake-esgf?tab=readme-ov-file. A beginner guide for this library can be found there : https://intake-esgf.readthedocs.io/en/latest/beginner.html.\n",
    "\n",
    "A detailed documentation for the CMIP6 can be found here : https://wcrp-cmip.org/cmip-model-and-experiment-documentation/.\n",
    "\n",
    "\n",
    "\n",
    "Feel free to share, use and improve the following code according to the provided license on the repository."
   ]
  },
  {
   "cell_type": "markdown",
   "id": "a63dc94a-da9d-4935-b2f2-980f174b2e94",
   "metadata": {},
   "source": [
    "---\n",
    "\n",
    "## Model outputs searched\n",
    "\n",
    "---"
   ]
  },
  {
   "cell_type": "markdown",
   "id": "01a3801d",
   "metadata": {},
   "source": [
    "Every search needs to be constrained by the attributes of the model outputs we are looking for. A detailed document listing these attributes can be found here : https://docs.google.com/document/d/1h0r8RZr_f3-8egBMMh7aqLwy3snpD6_MrDz1q8n5XUk/edit?tab=t.0."
   ]
  },
  {
   "cell_type": "markdown",
   "id": "79fed764-1686-4617-b8db-4eb9124a0030",
   "metadata": {},
   "source": [
    "### Experiments"
   ]
  },
  {
   "cell_type": "markdown",
   "id": "8e7090b8-596e-4ed9-bab7-6ace8abf1da2",
   "metadata": {},
   "source": [
    "We use two experiments realized during the CMIP6  : **piClim-control** and **piClim-aer**. These are both atmosphere-only climate model simulations in which sea surface temperatures (SSTs) and sea icea concentrations (SICs) are fixed at model-specific preindustrial climatological values. The description of the experiments can be found here : https://wcrp-cmip.github.io/CMIP6_CVs/docs/CMIP6_experiment_id.html.\n",
    "\n",
    "> **piClim-control** : assumes aerosols' burdens set to their preindustrial levels, it is the control experiment.\n",
    "> \n",
    "> **piClim-aer** : uses present-day, present-day being 2014, aerosols burdens' levels."
   ]
  },
  {
   "cell_type": "markdown",
   "id": "b9468df7-ef52-4b1f-a170-d8aaef381f57",
   "metadata": {},
   "source": [
    "### Variables"
   ]
  },
  {
   "cell_type": "markdown",
   "id": "a780d594-a1a1-4332-8a62-bb9aae82697f",
   "metadata": {},
   "source": [
    "The variable used are listed and explicited below according to : https://clipc-services.ceda.ac.uk/dreq/mipVars.html.\n",
    "\n",
    "> <span style=\"color:SkyBlue\">**clt**</span>  : Total cloud area fraction (%) for the whole atmospheric column\n",
    ">\n",
    "> <span style=\"color:gold\">**rsdt / rldt**</span> : Shortwave / Longwave radiation ($W/m^{2}$) **incident** at the TOA\n",
    "> \n",
    "> <span style=\"color:orange\">**rsut / rlut**</span> : Shortwave / Longwave radiation ($W/m^{2}$) **going out**  at the TOA\n",
    ">\n",
    "> <span style=\"color:orangered\">**rsutcs / rlutcs**</span> : Shortwave / Longwave radiation ($W/m^{2}$) **going out**  at TOA for **clear-sky conditions**\n",
    "> \n",
    "> <span style=\"color:Orchid\">**rsds / rlds**</span> : Shortwave / Longwave **downwelling** radiation ($W/m^{2}$) at the surface\n",
    "> \n",
    "> <span style=\"color:Indigo \">**rsdscs / rldscs**</span>  : Shortwave / Longwave **downwelling** radiation ($W/m^{2}$) at the surface for **clear-sky conditions**\n",
    "> \n",
    "> <span style=\"color:YellowGreen\">**rsus / rlus**</span> : Shortwave / Longwave **upwelling** radiation ($W/m^{2}$) at the surface\n",
    ">\n",
    "> <span style=\"color:Darkgreen\">**rsuscs / rluscs**</span>: Shortwave / Longwave **upwelling** radiation ($W/m^{2}$) at the surface for **clear-sky conditions**\n",
    ">\n",
    "> **areacella** : For every grid, the latitude-dependent surface associated to each grid point."
   ]
  },
  {
   "cell_type": "markdown",
   "id": "389886f6-2e8d-4d99-b4cc-71ebd86e01fb",
   "metadata": {},
   "source": [
    "### Table"
   ]
  },
  {
   "cell_type": "markdown",
   "id": "cf7a82e4-19a5-4bb9-aa5d-ccb2c6260107",
   "metadata": {},
   "source": [
    "The table sets how the variables are organized. We use the **AERmon** table. The details about the tables can be found here : https://clipc-services.ceda.ac.uk/dreq/index/miptable.html.\n",
    "\n",
    "> **Amon** stands for a set of monthly atmospheric data"
   ]
  },
  {
   "cell_type": "markdown",
   "id": "19fb1cc5-febe-4ebf-8dca-b8700098e548",
   "metadata": {},
   "source": [
    "---\n",
    "\n",
    "## Initialisation\n",
    "\n",
    "---"
   ]
  },
  {
   "cell_type": "markdown",
   "id": "cbdebe37-a1de-4df2-a44b-1115d2a8c4dd",
   "metadata": {},
   "source": [
    "### Importations"
   ]
  },
  {
   "cell_type": "markdown",
   "id": "bb63355f-8ed1-4a49-aef4-82919ba07cf8",
   "metadata": {},
   "source": [
    "We import the needed libraries."
   ]
  },
  {
   "cell_type": "code",
   "execution_count": 1,
   "id": "16dab12c-5141-4e6f-a908-aa5792b296ea",
   "metadata": {},
   "outputs": [],
   "source": [
    "# ================ IMPORTATIONS ================ #\n",
    "\n",
    "import intake_esgf  # this gives us access to the ESGF catalog to make queries\n",
    "\n",
    "import pandas as pd  # to manage the product of the search\n",
    "\n",
    "import numpy as np  # to manage the pandas arrays\n",
    "\n",
    "import os  # to get access to commands related to path setting and creation of directories\n",
    "\n",
    "from folders_handle.create import (\n",
    "    create_dir,\n",
    ")  # function to create a cleaned downloading directory"
   ]
  },
  {
   "cell_type": "markdown",
   "id": "9474b9b5-edeb-4cc5-829c-035af5c986ff",
   "metadata": {},
   "source": [
    "### Set our search criterias "
   ]
  },
  {
   "cell_type": "markdown",
   "id": "68d13d48-a18d-4f4c-ae0c-32719909fdc6",
   "metadata": {},
   "source": [
    "Here the user may define its search criterias. We create a dictionnary structure that we update with determined variables."
   ]
  },
  {
   "cell_type": "code",
   "execution_count": 2,
   "id": "d8159458-7777-4fe5-83af-84d953ea377f",
   "metadata": {},
   "outputs": [],
   "source": [
    "# ================ SEARCH CRITERIAS FOR OUR ANALYSIS ================ #\n",
    "\n",
    "### EXPERIMENTS ###\n",
    "\n",
    "experiment_id = [\n",
    "    \"piClim-control\",\n",
    "    \"piClim-aer\",\n",
    "]\n",
    "\n",
    "### VARIABLES ###\n",
    "\n",
    "variable_id = [\n",
    "    \"clt\",\n",
    "    \"rsdt\",\n",
    "    \"rsut\",\n",
    "    \"rsutcs\",\n",
    "    \"rsds\",\n",
    "    \"rsus\",\n",
    "    \"rsdscs\",\n",
    "    \"rsuscs\",\n",
    "    \"rlut\",\n",
    "    \"rlutcs\",\n",
    "    \"rlds\",\n",
    "    \"rlus\",\n",
    "]\n",
    "\n",
    "### TABLE ###\n",
    "\n",
    "table_id = \"Amon\""
   ]
  },
  {
   "cell_type": "markdown",
   "id": "39c9f4bd-93d4-48be-8384-917bc9a707c2",
   "metadata": {},
   "source": [
    "### Create the folder in which the data will be stored"
   ]
  },
  {
   "cell_type": "markdown",
   "id": "9c11ada8",
   "metadata": {},
   "source": [
    "Here the user can chose to create the folder to store the data. It will erase a pre-existing folder if the *make_a_new_folder* option is set to **True**. This can be quite slow if the data folder is already holding some heavy data."
   ]
  },
  {
   "cell_type": "code",
   "execution_count": 3,
   "id": "9a6e8437",
   "metadata": {},
   "outputs": [],
   "source": [
    "# ================ CHOSE IF WE CLEAR AN ALREADY EXISTING FOLDER ================ #\n",
    "\n",
    "do_we_clear = False"
   ]
  },
  {
   "cell_type": "code",
   "execution_count": 4,
   "id": "415429ca-8b8a-4fbb-9aa5-75775894c60c",
   "metadata": {},
   "outputs": [
    {
     "name": "stdout",
     "output_type": "stream",
     "text": [
      "The downloading folder CMIP6-DATA is under the path /home/jovyan/certainty-data/CMIP6-DATA.\n"
     ]
    }
   ],
   "source": [
    "# ================ CREATE THE FOLDER TO STORE THE DOWNLOADED DATA ================ #\n",
    "\n",
    "### DEFINE WHERE TO MOVE THE FILES AT THE END ###\n",
    "\n",
    "## Home directory ##\n",
    "\n",
    "homedir_path = os.path.expanduser(\"~\")\n",
    "\n",
    "## Parent directory ##\n",
    "\n",
    "parent_path = homedir_path + \"/certainty-data\"\n",
    "\n",
    "## Name of the created folder ##\n",
    "\n",
    "downloading_folder_name = \"CMIP6-DATA\"\n",
    "\n",
    "### CREATE THE DIRECTORY AND EMPTY IF MAKE_A_NEW_FOLDER ###\n",
    "\n",
    "downloading_path = create_dir(\n",
    "    parent_path=parent_path, name=downloading_folder_name, clear=do_we_clear\n",
    ")\n",
    "\n",
    "print(\n",
    "    \"The downloading folder {} is under the path {}.\".format(\n",
    "        downloading_folder_name, downloading_path\n",
    "    )\n",
    ")"
   ]
  },
  {
   "cell_type": "markdown",
   "id": "b10c8be4-7c3d-4206-8519-af1898501d0c",
   "metadata": {},
   "source": [
    "---\n",
    "## Configure the ESGFCatalog\n",
    "\n",
    "\n",
    "---"
   ]
  },
  {
   "cell_type": "markdown",
   "id": "2856c1ec-613e-414c-9690-086a43e26a16",
   "metadata": {},
   "source": [
    "The ESGFCatalog is initially parametrized with default values on may want to change. We will focus on three main changes :\n",
    "\n",
    "* **defining the nodes that the query will investigate** \n",
    "\n",
    "* **setting where the data will be downloaded** \n",
    "\n",
    "* **adding a path that is specific to our cluster to search for CMIP6 outputs locally** \n",
    "\n",
    "The default configuration of the catalog can be accessed through the following line of code. More details on the configuration may be found here : https://intake-esgf.readthedocs.io/en/latest/configure.html."
   ]
  },
  {
   "cell_type": "code",
   "execution_count": 5,
   "id": "a8a4a1db-5472-4a50-87d1-eb44f75d0218",
   "metadata": {},
   "outputs": [
    {
     "name": "stdout",
     "output_type": "stream",
     "text": [
      "additional_df_cols: []\n",
      "break_on_error: true\n",
      "download_db: ~/.config/intake-esgf/download.db\n",
      "esg_dataroot:\n",
      "- /p/css03/esgf_publish\n",
      "- /eagle/projects/ESGF2/esg_dataroot\n",
      "- /global/cfs/projectdirs/m3522/cmip6/\n",
      "globus_indices:\n",
      "  anl-dev: true\n",
      "  ornl-dev: true\n",
      "local_cache:\n",
      "- ~/.esgf/\n",
      "logfile: ~/.config/intake-esgf/esgf.log\n",
      "num_threads: 6\n",
      "solr_indices:\n",
      "  esg-dn1.nsc.liu.se: false\n",
      "  esgf-data.dkrz.de: false\n",
      "  esgf-node.ipsl.upmc.fr: false\n",
      "  esgf-node.llnl.gov: false\n",
      "  esgf-node.ornl.gov: false\n",
      "  esgf.ceda.ac.uk: false\n",
      "  esgf.nci.org.au: false\n",
      "\n"
     ]
    }
   ],
   "source": [
    "print(intake_esgf.conf)"
   ]
  },
  {
   "cell_type": "markdown",
   "id": "37676875-e50f-443d-98ef-50ef80c75b5a",
   "metadata": {},
   "source": [
    "There are some variables that are of interest to us :\n",
    "\n",
    "* The *solr_indices* and the *globus_indices* variables define on which nodes the query is realized. \n",
    "\n",
    "* The *local_cache* variable sets where the data will be downloaded.\n",
    "\n",
    "* The *esg_dataroot* variable sets local path to explore before downloading any data.\n",
    "\n",
    "We can see that, as said in the documentation of the intake_esgf library, the search is done by default with Globus-based indices at the holdings of OLCF (Oak Ridge Leadership Computing Facility) and ALCF (Argonne Leadership Computing Facility). We may extend the search to all the possible ESGF nodes in order to not miss any model output. Note that the solr nodes are way much slower than the globus ones.\n",
    "\n",
    "By default, the folder in which is stored the downloaded data is ~/.esgf/. This is a hidden folder in your home repository. It is more convenient, if you are working on a shared resource such as an institutional cluster or group workstation, to define it on a directory dedicated to data.\n",
    "\n",
    "Finally, if we are working on a cluster having some access to CMIP6 data, it is worth adding the path of this data in our cluster to avoid useless downloading.\n",
    "\n",
    "In the following part we will show how to modify these variables. \n",
    "\n",
    "**To decide if you want to modify them you need to set the following variables to True.**"
   ]
  },
  {
   "cell_type": "code",
   "execution_count": 6,
   "id": "01235f6e",
   "metadata": {},
   "outputs": [],
   "source": [
    "# ================ CONFIGURE THE ESGF CATALOG ================ #\n",
    "\n",
    "### USE ALL NODES FOR SEARCH ###\n",
    "\n",
    "all_indices = False\n",
    "\n",
    "### SET A NEW DOWNLOADING PATH ###\n",
    "\n",
    "set_new_downloading_path = True\n",
    "\n",
    "### SET A CLUSTER SPECIFIC CMIP6 PATH ###\n",
    "\n",
    "cluster_local_CMIP6_path = \"\""
   ]
  },
  {
   "cell_type": "markdown",
   "id": "d24386ed-c4b0-43fd-bb75-2ad48ef07bca",
   "metadata": {},
   "source": [
    "### Define the nodes for the research"
   ]
  },
  {
   "cell_type": "markdown",
   "id": "5732995b",
   "metadata": {},
   "source": [
    "We may decide to look at all the nodes. Note that the solr nodes are way much slower than the globus ones. "
   ]
  },
  {
   "cell_type": "code",
   "execution_count": 7,
   "id": "3b5f5807-44b0-4152-af85-c23a574394ac",
   "metadata": {},
   "outputs": [
    {
     "name": "stdout",
     "output_type": "stream",
     "text": [
      "We are only looking at the globus nodes\n"
     ]
    }
   ],
   "source": [
    "intake_esgf.conf.set(all_indices=all_indices)\n",
    "\n",
    "if all_indices:\n",
    "\n",
    "    print(\"We are looking at all the nodes.\")\n",
    "\n",
    "else:\n",
    "\n",
    "    print(\"We are only looking at the globus nodes\")"
   ]
  },
  {
   "cell_type": "markdown",
   "id": "0137085e-e87b-4539-b175-ce77c775195b",
   "metadata": {},
   "source": [
    "### Set where the data will be downloaded"
   ]
  },
  {
   "cell_type": "code",
   "execution_count": 8,
   "id": "0e35ff08-7788-4199-8596-f977b9f9c783",
   "metadata": {},
   "outputs": [
    {
     "name": "stdout",
     "output_type": "stream",
     "text": [
      "The CMIP6 data will be downloaded at the path : ['/home/jovyan/certainty-data/CMIP6-DATA']\n"
     ]
    }
   ],
   "source": [
    "if set_new_downloading_path:\n",
    "\n",
    "    intake_esgf.conf.set(local_cache=downloading_path)\n",
    "\n",
    "    print(\n",
    "        \"The CMIP6 data will be downloaded at the path : {}\".format(\n",
    "            intake_esgf.conf[\"local_cache\"]\n",
    "        )\n",
    "    )"
   ]
  },
  {
   "cell_type": "markdown",
   "id": "28d4aaaf-d574-4f92-af6e-47c8d0673075",
   "metadata": {},
   "source": [
    "### Add a cluster-specific CMIP6 path"
   ]
  },
  {
   "cell_type": "code",
   "execution_count": 9,
   "id": "74c98fe2-3864-4373-a6cd-ebbc2dded7fe",
   "metadata": {},
   "outputs": [
    {
     "name": "stdout",
     "output_type": "stream",
     "text": [
      "No local cluster-specific CMIP6 path\n"
     ]
    }
   ],
   "source": [
    "intake_esgf.conf.set(esg_dataroot=cluster_local_CMIP6_path)\n",
    "\n",
    "if cluster_local_CMIP6_path != \"\":\n",
    "\n",
    "    print(\n",
    "        \"The CMIP6 data will be searched beforehand at the path : {}\".format(\n",
    "            intake_esgf.conf[\"esg_dataroot\"]\n",
    "        )\n",
    "    )\n",
    "\n",
    "else:\n",
    "    print(\"No local cluster-specific CMIP6 path\")"
   ]
  },
  {
   "cell_type": "markdown",
   "id": "589d5d09",
   "metadata": {},
   "source": [
    "### Print the new configuration"
   ]
  },
  {
   "cell_type": "code",
   "execution_count": 10,
   "id": "a08fbf98",
   "metadata": {},
   "outputs": [
    {
     "name": "stdout",
     "output_type": "stream",
     "text": [
      "additional_df_cols: []\n",
      "break_on_error: true\n",
      "download_db: ~/.config/intake-esgf/download.db\n",
      "esg_dataroot:\n",
      "- ''\n",
      "globus_indices:\n",
      "  anl-dev: true\n",
      "  ornl-dev: true\n",
      "local_cache:\n",
      "- /home/jovyan/certainty-data/CMIP6-DATA\n",
      "logfile: ~/.config/intake-esgf/esgf.log\n",
      "num_threads: 6\n",
      "solr_indices:\n",
      "  esg-dn1.nsc.liu.se: false\n",
      "  esgf-data.dkrz.de: false\n",
      "  esgf-node.ipsl.upmc.fr: false\n",
      "  esgf-node.llnl.gov: false\n",
      "  esgf-node.ornl.gov: false\n",
      "  esgf.ceda.ac.uk: false\n",
      "  esgf.nci.org.au: false\n",
      "\n"
     ]
    }
   ],
   "source": [
    "print(intake_esgf.conf)"
   ]
  },
  {
   "cell_type": "markdown",
   "id": "99a19cd6-d165-428f-984f-9133f7339dc9",
   "metadata": {},
   "source": [
    "---\n",
    "\n",
    "## Make the query to the ESGFCatalog\n",
    "\n",
    "---"
   ]
  },
  {
   "cell_type": "markdown",
   "id": "b380bc91-38b4-4748-9041-5c43fe523818",
   "metadata": {},
   "source": [
    "### Initialise the catalog"
   ]
  },
  {
   "cell_type": "markdown",
   "id": "5a145bbb-ad2d-4545-a8ed-625365507741",
   "metadata": {},
   "source": [
    "The catalog variable is initially empty and will be filled given the criterias that we will impose for the query. "
   ]
  },
  {
   "cell_type": "code",
   "execution_count": 11,
   "id": "f2d445ed-8924-4f62-ba7c-7e4644e0d1b9",
   "metadata": {},
   "outputs": [
    {
     "name": "stdout",
     "output_type": "stream",
     "text": [
      "Perform a search() to populate the catalog.\n"
     ]
    }
   ],
   "source": [
    "catalog = intake_esgf.ESGFCatalog()\n",
    "\n",
    "print(catalog)"
   ]
  },
  {
   "cell_type": "markdown",
   "id": "9e0d3079-ebc4-41a0-aa62-38c62de2e50c",
   "metadata": {},
   "source": [
    "### Constrain the catalog"
   ]
  },
  {
   "cell_type": "markdown",
   "id": "f25edd29",
   "metadata": {},
   "source": [
    "We apply the criterias defined earlier to the catalog."
   ]
  },
  {
   "cell_type": "code",
   "execution_count": 12,
   "id": "093ebabc-cb5d-48de-86d2-a45172e67696",
   "metadata": {},
   "outputs": [
    {
     "data": {
      "application/vnd.jupyter.widget-view+json": {
       "model_id": "bc109b4d0c9646458317830b7ac584f4",
       "version_major": 2,
       "version_minor": 0
      },
      "text/plain": [
       "   Searching indices:   0%|          |0/2 [       ?index/s]"
      ]
     },
     "metadata": {},
     "output_type": "display_data"
    },
    {
     "data": {
      "text/plain": [
       "Summary information for 747 results:\n",
       "mip_era                                                     [CMIP6]\n",
       "activity_drs                                    [RFMIP, AerChemMIP]\n",
       "institution_id    [NCC, NASA-GISS, CCCma, MRI, MPI-M, EC-Earth-C...\n",
       "source_id         [NorESM2-LM, GISS-E2-1-G, CanESM5, NorESM2-MM,...\n",
       "experiment_id                          [piClim-aer, piClim-control]\n",
       "member_id         [r1i1p2f1, r1i1p1f1, r1i1p1f2, r1i1p3f1, r1i1p...\n",
       "table_id                                                     [Amon]\n",
       "variable_id       [rsdt, rlut, rlus, rsuscs, rlutcs, rsut, rsds,...\n",
       "grid_label                                            [gn, gr, gr1]\n",
       "dtype: object"
      ]
     },
     "execution_count": 12,
     "metadata": {},
     "output_type": "execute_result"
    }
   ],
   "source": [
    "catalog.search(experiment_id=experiment_id, variable_id=variable_id, table_id=table_id)"
   ]
  },
  {
   "cell_type": "markdown",
   "id": "bc077191",
   "metadata": {},
   "source": [
    "### Convert the catalog results into a pandas dataframe"
   ]
  },
  {
   "cell_type": "markdown",
   "id": "6b067741",
   "metadata": {},
   "source": [
    "The resulting catalog can be converted to a pandas dataframe. This is convenient to isolate some properties of the catalog like the models that it has found also known as the *source_id*."
   ]
  },
  {
   "cell_type": "code",
   "execution_count": 13,
   "id": "1a2c7686",
   "metadata": {},
   "outputs": [
    {
     "name": "stdout",
     "output_type": "stream",
     "text": [
      "The list of found models' names is : \n",
      "['NorESM2-LM' 'GISS-E2-1-G' 'CanESM5' 'NorESM2-MM' 'MRI-ESM2-0'\n",
      " 'MPI-ESM1-2-LR' 'EC-Earth3' 'ACCESS-ESM1-5' 'CESM2' 'HadGEM3-GC31-LL'\n",
      " 'CNRM-ESM2-1' 'IPSL-CM6A-LR-INCA' 'IPSL-CM6A-LR' 'MPI-ESM-1-2-HAM'\n",
      " 'EC-Earth3-AerChem' 'MIROC6' 'GFDL-ESM4' 'UKESM1-0-LL' 'E3SM-2-0'\n",
      " 'BCC-ESM1' 'GFDL-CM4' 'CNRM-CM6-1' 'ACCESS-CM2' 'TaiESM1' 'CESM2-WACCM']\n"
     ]
    }
   ],
   "source": [
    "# ================ CONVERT TO PANDAS DATAFRAME ================ #\n",
    "\n",
    "initial_search_df = catalog.df\n",
    "\n",
    "### SHOW THE SOURCE_ID THAT APPEAR AT LEAST ONCE ###\n",
    "\n",
    "## Extract the list of the models' names ##\n",
    "\n",
    "# Retrieve the source_id column and take only one example for every duplicate #\n",
    "\n",
    "list_model_names = initial_search_df.source_id.unique()\n",
    "\n",
    "## Print the result ##\n",
    "\n",
    "print(\"The list of found models' names is : \\n{}\".format(list_model_names))"
   ]
  },
  {
   "cell_type": "markdown",
   "id": "c2028de0",
   "metadata": {},
   "source": [
    "### Regroup the results by model"
   ]
  },
  {
   "cell_type": "markdown",
   "id": "c4cc6fb3",
   "metadata": {},
   "source": [
    "The number of found results is very large. They are numerous duplicates that come from the different *member_id*  and *grid_label* available for each model. \n",
    "\n",
    "The *member_id* or *variant_label* is described by 4 indices defining an ensemble member: *r* for realization, *i* for initialization, *p* for physics, and *f* for forcing. These parameters define an ensemble of experiments that correspond to the main experiment conditions for a given model. Actually, modellers may initialize their model from a different point in time, change the parametrization of a given parameter and so on.\n",
    "\n",
    "Let's regroup the results according to **(model, variant, grid)** tuples. The result here is truncated."
   ]
  },
  {
   "cell_type": "code",
   "execution_count": 14,
   "id": "5f50635c",
   "metadata": {},
   "outputs": [
    {
     "name": "stdout",
     "output_type": "stream",
     "text": [
      "source_id          member_id  grid_label\n",
      "ACCESS-CM2         r1i1p1f1   gn             8\n",
      "ACCESS-ESM1-5      r1i1p1f1   gn            24\n",
      "BCC-ESM1           r1i1p1f1   gn            24\n",
      "CanESM5            r1i1p2f1   gn            24\n",
      "CESM2              r1i1p1f1   gn            24\n",
      "CESM2-WACCM        r1i2p1f1   gn            12\n",
      "CNRM-CM6-1         r1i1p1f2   gr            24\n",
      "CNRM-ESM2-1        r1i1p1f2   gr            24\n",
      "E3SM-2-0           r1i1p1f1   gr            12\n",
      "EC-Earth3          r1i1p1f1   gr            24\n",
      "                   r2i1p1f1   gr            24\n",
      "EC-Earth3-AerChem  r1i1p1f1   gr            20\n",
      "GFDL-CM4           r1i1p1f1   gr1           24\n",
      "GFDL-ESM4          r1i1p1f1   gr1           14\n",
      "GISS-E2-1-G        r1i1p1f1   gn            24\n",
      "                   r1i1p1f2   gn            24\n",
      "                   r1i1p3f1   gn            24\n",
      "                   r1i1p3f2   gn            12\n",
      "HadGEM3-GC31-LL    r1i1p1f3   gn            11\n",
      "IPSL-CM6A-LR       r1i1p1f1   gr            24\n",
      "                   r2i1p1f1   gr            24\n",
      "                   r3i1p1f1   gr            24\n",
      "                   r4i1p1f1   gr            24\n",
      "                   r5i1p1f1   gr            12\n",
      "IPSL-CM6A-LR-INCA  r1i1p1f1   gr            24\n",
      "MIROC6             r1i1p1f1   gn            24\n",
      "                   r11i1p1f1  gn            24\n",
      "MPI-ESM-1-2-HAM    r1i1p1f1   gn            24\n",
      "MPI-ESM1-2-LR      r1i1p1f1   gn            10\n",
      "                   r2i1p1f1   gn            12\n",
      "                   r3i1p1f1   gn            12\n",
      "MRI-ESM2-0         r1i1p1f1   gn            24\n",
      "NorESM2-LM         r1i1p1f1   gn            24\n",
      "                   r1i1p2f1   gn            24\n",
      "NorESM2-MM         r1i1p1f1   gn            24\n",
      "TaiESM1            r1i1p1f1   gn            12\n",
      "UKESM1-0-LL        r1i1p1f4   gn            24\n",
      "Name: project, dtype: int64\n"
     ]
    }
   ],
   "source": [
    "grouped_models = catalog.model_groups()\n",
    "\n",
    "print(grouped_models)"
   ]
  },
  {
   "cell_type": "markdown",
   "id": "fe084874",
   "metadata": {},
   "source": [
    "An interesting thing to note is the ultimate column that tells us the number of found results for a given model, variant and grid. In our case since we are looking for **12** variables for **two experiments**, the search will be deemed complete if we find **24 resulting files**.\n",
    "\n",
    "The next step is therefore to get rid of the incomplete results."
   ]
  },
  {
   "cell_type": "markdown",
   "id": "f90eaf6a",
   "metadata": {},
   "source": [
    "### Test some filters on the incomplete results"
   ]
  },
  {
   "cell_type": "markdown",
   "id": "02cb2ee9",
   "metadata": {},
   "source": [
    "The user may define an expected number of netcdf files for a given (model, variant,grid) tuple. In our case this is **24** as explained before. Let's impose this result by keeping only the results that match this condition. We will produce a panda series that will allow us to check if our filter is what we want.\n",
    "\n",
    "You may define a more refined filter for the results. Please look at the intake-esgf documentation for more information : https://intake-esgf.readthedocs.io/en/latest/modelgroups.html."
   ]
  },
  {
   "cell_type": "code",
   "execution_count": 15,
   "id": "d816ff37",
   "metadata": {},
   "outputs": [
    {
     "name": "stdout",
     "output_type": "stream",
     "text": [
      "source_id          member_id  grid_label\n",
      "ACCESS-ESM1-5      r1i1p1f1   gn            24\n",
      "BCC-ESM1           r1i1p1f1   gn            24\n",
      "CanESM5            r1i1p2f1   gn            24\n",
      "CESM2              r1i1p1f1   gn            24\n",
      "CNRM-CM6-1         r1i1p1f2   gr            24\n",
      "CNRM-ESM2-1        r1i1p1f2   gr            24\n",
      "EC-Earth3          r1i1p1f1   gr            24\n",
      "                   r2i1p1f1   gr            24\n",
      "GFDL-CM4           r1i1p1f1   gr1           24\n",
      "GISS-E2-1-G        r1i1p1f1   gn            24\n",
      "                   r1i1p1f2   gn            24\n",
      "                   r1i1p3f1   gn            24\n",
      "IPSL-CM6A-LR       r1i1p1f1   gr            24\n",
      "                   r2i1p1f1   gr            24\n",
      "                   r3i1p1f1   gr            24\n",
      "                   r4i1p1f1   gr            24\n",
      "IPSL-CM6A-LR-INCA  r1i1p1f1   gr            24\n",
      "MIROC6             r1i1p1f1   gn            24\n",
      "                   r11i1p1f1  gn            24\n",
      "MPI-ESM-1-2-HAM    r1i1p1f1   gn            24\n",
      "MRI-ESM2-0         r1i1p1f1   gn            24\n",
      "NorESM2-LM         r1i1p1f1   gn            24\n",
      "                   r1i1p2f1   gn            24\n",
      "NorESM2-MM         r1i1p1f1   gn            24\n",
      "UKESM1-0-LL        r1i1p1f4   gn            24\n",
      "Name: project, dtype: int64\n"
     ]
    }
   ],
   "source": [
    "# ================ TEST A FILTER BY GROUPING BY MODELS ================ #\n",
    "\n",
    "### SET THE EXPECTED NUMBER OF FILES ###\n",
    "\n",
    "expected_number_of_files = 24\n",
    "\n",
    "### FILTER THE INCOMPLETE RESULTS ACCORDING TO OUR CRITERIE ###\n",
    "\n",
    "filtered_results = grouped_models[grouped_models == expected_number_of_files]\n",
    "\n",
    "### PRINT THE FILTERED CATALOG ###\n",
    "\n",
    "print(filtered_results)"
   ]
  },
  {
   "cell_type": "markdown",
   "id": "06b2be0a",
   "metadata": {},
   "source": [
    "The result is a pandas series that we can manipulate as so. For example if we want to retrieve all the member_id and grid_label associated to a single modell like the *IPSL-CM6A-LR*"
   ]
  },
  {
   "cell_type": "code",
   "execution_count": 16,
   "id": "d4e56605",
   "metadata": {},
   "outputs": [
    {
     "data": {
      "text/plain": [
       "member_id  grid_label\n",
       "r1i1p1f1   gr            24\n",
       "r2i1p1f1   gr            24\n",
       "r3i1p1f1   gr            24\n",
       "r4i1p1f1   gr            24\n",
       "Name: project, dtype: int64"
      ]
     },
     "execution_count": 16,
     "metadata": {},
     "output_type": "execute_result"
    }
   ],
   "source": [
    "filtered_results[\"IPSL-CM6A-LR\"]"
   ]
  },
  {
   "cell_type": "markdown",
   "id": "ea9d67fe",
   "metadata": {},
   "source": [
    "Good, let's have a look at the quantity of results we have left."
   ]
  },
  {
   "cell_type": "code",
   "execution_count": 17,
   "id": "8332a924",
   "metadata": {},
   "outputs": [
    {
     "name": "stdout",
     "output_type": "stream",
     "text": [
      "The number of remaining (model, variant, grid) tuples is 25.\n"
     ]
    }
   ],
   "source": [
    "print(\n",
    "    \"The number of remaining (model, variant, grid) tuples is {}.\".format(\n",
    "        filtered_results.shape[0]\n",
    "    )\n",
    ")"
   ]
  },
  {
   "cell_type": "markdown",
   "id": "4980174f",
   "metadata": {},
   "source": [
    "### Applying the filter on the catalog"
   ]
  },
  {
   "cell_type": "markdown",
   "id": "59e9c50d",
   "metadata": {},
   "source": [
    "If that's satisfy us, we need to code a small function that will be **applied to the catalog**. The test will be executed on each model group that we have showed in the previous section."
   ]
  },
  {
   "cell_type": "code",
   "execution_count": 18,
   "id": "ed2bac0e",
   "metadata": {},
   "outputs": [],
   "source": [
    "# ================ DEFINING THE FILTERING FUNCTION ================ #\n",
    "\n",
    "### SET THE EXPECTED NUMBER OF FILES ###\n",
    "\n",
    "expected_number_of_files = 24\n",
    "\n",
    "\n",
    "def filtering_function(model_group):\n",
    "    if len(model_group) == expected_number_of_files:\n",
    "        return True"
   ]
  },
  {
   "cell_type": "code",
   "execution_count": 19,
   "id": "08053c4e",
   "metadata": {},
   "outputs": [],
   "source": [
    "catalog = catalog.remove_incomplete(filtering_function)"
   ]
  },
  {
   "cell_type": "code",
   "execution_count": 20,
   "id": "479f196f",
   "metadata": {},
   "outputs": [],
   "source": [
    "catalog = catalog.remove_ensembles()"
   ]
  },
  {
   "cell_type": "markdown",
   "id": "c7907795",
   "metadata": {},
   "source": [
    "## Downloading the files and load a dictionnary in memory"
   ]
  },
  {
   "cell_type": "markdown",
   "id": "5b1e5884",
   "metadata": {},
   "source": [
    "The intake-esgf library proposes to store the found results in memory under the form of a dictionnary holding xarray datasets for every single netcdf file found. This process also saves the dictionnary at the previously defined local_cache path. \n",
    "\n",
    "By default, the package is looking for the **areacella** variable automatically. But it does it **rather slowly** and does not look first at what is stored on the local_cache. In our analysis, we would rather load the dictionnary with *add_measures* set to **False** and then download (and load) the areacella netcdf files apart with a homemade routine. An example of this process is given afterward.\n",
    "\n",
    "What's more, we may describe some facets as irrelevant to build the keys of the dictionnary. Indeed, by default, the intake_esgf package will build keys out of the facet values that are different among the entries in the output dictionary. But, some of these facets might not be of any interest for our analysis and we can drop them with the *ignore_facet*."
   ]
  },
  {
   "cell_type": "code",
   "execution_count": 21,
   "id": "42bf9b3e",
   "metadata": {},
   "outputs": [
    {
     "data": {
      "application/vnd.jupyter.widget-view+json": {
       "model_id": "32b66a01c6264416af2eb699693f40c8",
       "version_major": 2,
       "version_minor": 0
      },
      "text/plain": [
       "Get file information:   0%|          |0/2 [       ?index/s]"
      ]
     },
     "metadata": {},
     "output_type": "display_data"
    },
    {
     "ename": "KeyboardInterrupt",
     "evalue": "",
     "output_type": "error",
     "traceback": [
      "\u001b[31m---------------------------------------------------------------------------\u001b[39m",
      "\u001b[31mKeyError\u001b[39m                                  Traceback (most recent call last)",
      "\u001b[36mFile \u001b[39m\u001b[32m~/my-conda-envs/cmip6-download/lib/python3.13/site-packages/xarray/backends/file_manager.py:211\u001b[39m, in \u001b[36mCachingFileManager._acquire_with_cache_info\u001b[39m\u001b[34m(self, needs_lock)\u001b[39m\n\u001b[32m    210\u001b[39m \u001b[38;5;28;01mtry\u001b[39;00m:\n\u001b[32m--> \u001b[39m\u001b[32m211\u001b[39m     file = \u001b[38;5;28;43mself\u001b[39;49m\u001b[43m.\u001b[49m\u001b[43m_cache\u001b[49m\u001b[43m[\u001b[49m\u001b[38;5;28;43mself\u001b[39;49m\u001b[43m.\u001b[49m\u001b[43m_key\u001b[49m\u001b[43m]\u001b[49m\n\u001b[32m    212\u001b[39m \u001b[38;5;28;01mexcept\u001b[39;00m \u001b[38;5;167;01mKeyError\u001b[39;00m:\n",
      "\u001b[36mFile \u001b[39m\u001b[32m~/my-conda-envs/cmip6-download/lib/python3.13/site-packages/xarray/backends/lru_cache.py:56\u001b[39m, in \u001b[36mLRUCache.__getitem__\u001b[39m\u001b[34m(self, key)\u001b[39m\n\u001b[32m     55\u001b[39m \u001b[38;5;28;01mwith\u001b[39;00m \u001b[38;5;28mself\u001b[39m._lock:\n\u001b[32m---> \u001b[39m\u001b[32m56\u001b[39m     value = \u001b[38;5;28;43mself\u001b[39;49m\u001b[43m.\u001b[49m\u001b[43m_cache\u001b[49m\u001b[43m[\u001b[49m\u001b[43mkey\u001b[49m\u001b[43m]\u001b[49m\n\u001b[32m     57\u001b[39m     \u001b[38;5;28mself\u001b[39m._cache.move_to_end(key)\n",
      "\u001b[31mKeyError\u001b[39m: [<class 'netCDF4._netCDF4.Dataset'>, ('/home/jovyan/certainty-data/CMIP6-DATA/CMIP6/RFMIP/EC-Earth-Consortium/EC-Earth3/piClim-aer/r1i1p1f1/Amon/rsdt/gr/v20200324/rsdt_Amon_EC-Earth3_piClim-aer_r1i1p1f1_gr_187801-187812.nc',), 'r', (('clobber', True), ('diskless', False), ('format', 'NETCDF4'), ('persist', False)), '2eb9ee56-ab43-4b90-81cd-b0e01388416f']",
      "\nDuring handling of the above exception, another exception occurred:\n",
      "\u001b[31mKeyboardInterrupt\u001b[39m                         Traceback (most recent call last)",
      "\u001b[36mCell\u001b[39m\u001b[36m \u001b[39m\u001b[32mIn[21]\u001b[39m\u001b[32m, line 1\u001b[39m\n\u001b[32m----> \u001b[39m\u001b[32m1\u001b[39m dataset_dict = \u001b[43mcatalog\u001b[49m\u001b[43m.\u001b[49m\u001b[43mto_dataset_dict\u001b[49m\u001b[43m(\u001b[49m\u001b[43madd_measures\u001b[49m\u001b[43m \u001b[49m\u001b[43m=\u001b[49m\u001b[43m \u001b[49m\u001b[38;5;28;43;01mFalse\u001b[39;49;00m\u001b[43m,\u001b[49m\u001b[43m \u001b[49m\u001b[43mignore_facets\u001b[49m\u001b[43m=\u001b[49m\u001b[43m[\u001b[49m\u001b[33;43m\"\u001b[39;49m\u001b[33;43mactivtity_drs\u001b[39;49m\u001b[33;43m\"\u001b[39;49m\u001b[43m,\u001b[49m\u001b[43m \u001b[49m\u001b[33;43m\"\u001b[39;49m\u001b[33;43minstitution_id, table_id\u001b[39;49m\u001b[33;43m\"\u001b[39;49m\u001b[43m]\u001b[49m\u001b[43m)\u001b[49m\n",
      "\u001b[36mFile \u001b[39m\u001b[32m~/my-conda-envs/cmip6-download/lib/python3.13/site-packages/intake_esgf/catalog.py:703\u001b[39m, in \u001b[36mESGFCatalog.to_dataset_dict\u001b[39m\u001b[34m(self, prefer_streaming, globus_endpoint, globus_path, add_measures, minimal_keys, ignore_facets, separator, quiet)\u001b[39m\n\u001b[32m    701\u001b[39m \u001b[38;5;28;01melif\u001b[39;00m \u001b[38;5;28mlen\u001b[39m(files) > \u001b[32m1\u001b[39m:\n\u001b[32m    702\u001b[39m     \u001b[38;5;28;01mtry\u001b[39;00m:\n\u001b[32m--> \u001b[39m\u001b[32m703\u001b[39m         ds[key] = \u001b[43mxr\u001b[49m\u001b[43m.\u001b[49m\u001b[43mopen_mfdataset\u001b[49m\u001b[43m(\u001b[49m\u001b[38;5;28;43msorted\u001b[39;49m\u001b[43m(\u001b[49m\u001b[43mfiles\u001b[49m\u001b[43m)\u001b[49m\u001b[43m)\u001b[49m\n\u001b[32m    704\u001b[39m     \u001b[38;5;28;01mexcept\u001b[39;00m \u001b[38;5;167;01mException\u001b[39;00m \u001b[38;5;28;01mas\u001b[39;00m ex:\n\u001b[32m    705\u001b[39m         warnings.warn(\n\u001b[32m    706\u001b[39m             \u001b[33mf\u001b[39m\u001b[33m\"\u001b[39m\u001b[33mxarray threw an exception opening these files: \u001b[39m\u001b[38;5;132;01m{\u001b[39;00mfiles\u001b[38;5;132;01m}\u001b[39;00m\u001b[33m\"\u001b[39m\n\u001b[32m    707\u001b[39m         )\n",
      "\u001b[36mFile \u001b[39m\u001b[32m~/my-conda-envs/cmip6-download/lib/python3.13/site-packages/xarray/backends/api.py:1634\u001b[39m, in \u001b[36mopen_mfdataset\u001b[39m\u001b[34m(paths, chunks, concat_dim, compat, preprocess, engine, data_vars, coords, combine, parallel, join, attrs_file, combine_attrs, **kwargs)\u001b[39m\n\u001b[32m   1631\u001b[39m     open_ = open_dataset\n\u001b[32m   1632\u001b[39m     getattr_ = \u001b[38;5;28mgetattr\u001b[39m\n\u001b[32m-> \u001b[39m\u001b[32m1634\u001b[39m datasets = [\u001b[43mopen_\u001b[49m\u001b[43m(\u001b[49m\u001b[43mp\u001b[49m\u001b[43m,\u001b[49m\u001b[43m \u001b[49m\u001b[43m*\u001b[49m\u001b[43m*\u001b[49m\u001b[43mopen_kwargs\u001b[49m\u001b[43m)\u001b[49m \u001b[38;5;28;01mfor\u001b[39;00m p \u001b[38;5;129;01min\u001b[39;00m paths1d]\n\u001b[32m   1635\u001b[39m closers = [getattr_(ds, \u001b[33m\"\u001b[39m\u001b[33m_close\u001b[39m\u001b[33m\"\u001b[39m) \u001b[38;5;28;01mfor\u001b[39;00m ds \u001b[38;5;129;01min\u001b[39;00m datasets]\n\u001b[32m   1636\u001b[39m \u001b[38;5;28;01mif\u001b[39;00m preprocess \u001b[38;5;129;01mis\u001b[39;00m \u001b[38;5;129;01mnot\u001b[39;00m \u001b[38;5;28;01mNone\u001b[39;00m:\n",
      "\u001b[36mFile \u001b[39m\u001b[32m~/my-conda-envs/cmip6-download/lib/python3.13/site-packages/xarray/backends/api.py:686\u001b[39m, in \u001b[36mopen_dataset\u001b[39m\u001b[34m(filename_or_obj, engine, chunks, cache, decode_cf, mask_and_scale, decode_times, decode_timedelta, use_cftime, concat_characters, decode_coords, drop_variables, inline_array, chunked_array_type, from_array_kwargs, backend_kwargs, **kwargs)\u001b[39m\n\u001b[32m    674\u001b[39m decoders = _resolve_decoders_kwargs(\n\u001b[32m    675\u001b[39m     decode_cf,\n\u001b[32m    676\u001b[39m     open_backend_dataset_parameters=backend.open_dataset_parameters,\n\u001b[32m   (...)\u001b[39m\u001b[32m    682\u001b[39m     decode_coords=decode_coords,\n\u001b[32m    683\u001b[39m )\n\u001b[32m    685\u001b[39m overwrite_encoded_chunks = kwargs.pop(\u001b[33m\"\u001b[39m\u001b[33moverwrite_encoded_chunks\u001b[39m\u001b[33m\"\u001b[39m, \u001b[38;5;28;01mNone\u001b[39;00m)\n\u001b[32m--> \u001b[39m\u001b[32m686\u001b[39m backend_ds = \u001b[43mbackend\u001b[49m\u001b[43m.\u001b[49m\u001b[43mopen_dataset\u001b[49m\u001b[43m(\u001b[49m\n\u001b[32m    687\u001b[39m \u001b[43m    \u001b[49m\u001b[43mfilename_or_obj\u001b[49m\u001b[43m,\u001b[49m\n\u001b[32m    688\u001b[39m \u001b[43m    \u001b[49m\u001b[43mdrop_variables\u001b[49m\u001b[43m=\u001b[49m\u001b[43mdrop_variables\u001b[49m\u001b[43m,\u001b[49m\n\u001b[32m    689\u001b[39m \u001b[43m    \u001b[49m\u001b[43m*\u001b[49m\u001b[43m*\u001b[49m\u001b[43mdecoders\u001b[49m\u001b[43m,\u001b[49m\n\u001b[32m    690\u001b[39m \u001b[43m    \u001b[49m\u001b[43m*\u001b[49m\u001b[43m*\u001b[49m\u001b[43mkwargs\u001b[49m\u001b[43m,\u001b[49m\n\u001b[32m    691\u001b[39m \u001b[43m\u001b[49m\u001b[43m)\u001b[49m\n\u001b[32m    692\u001b[39m ds = _dataset_from_backend_dataset(\n\u001b[32m    693\u001b[39m     backend_ds,\n\u001b[32m    694\u001b[39m     filename_or_obj,\n\u001b[32m   (...)\u001b[39m\u001b[32m    704\u001b[39m     **kwargs,\n\u001b[32m    705\u001b[39m )\n\u001b[32m    706\u001b[39m \u001b[38;5;28;01mreturn\u001b[39;00m ds\n",
      "\u001b[36mFile \u001b[39m\u001b[32m~/my-conda-envs/cmip6-download/lib/python3.13/site-packages/xarray/backends/netCDF4_.py:666\u001b[39m, in \u001b[36mNetCDF4BackendEntrypoint.open_dataset\u001b[39m\u001b[34m(self, filename_or_obj, mask_and_scale, decode_times, concat_characters, decode_coords, drop_variables, use_cftime, decode_timedelta, group, mode, format, clobber, diskless, persist, auto_complex, lock, autoclose)\u001b[39m\n\u001b[32m    644\u001b[39m \u001b[38;5;28;01mdef\u001b[39;00m\u001b[38;5;250m \u001b[39m\u001b[34mopen_dataset\u001b[39m(\n\u001b[32m    645\u001b[39m     \u001b[38;5;28mself\u001b[39m,\n\u001b[32m    646\u001b[39m     filename_or_obj: \u001b[38;5;28mstr\u001b[39m | os.PathLike[Any] | ReadBuffer | AbstractDataStore,\n\u001b[32m   (...)\u001b[39m\u001b[32m    663\u001b[39m     autoclose=\u001b[38;5;28;01mFalse\u001b[39;00m,\n\u001b[32m    664\u001b[39m ) -> Dataset:\n\u001b[32m    665\u001b[39m     filename_or_obj = _normalize_path(filename_or_obj)\n\u001b[32m--> \u001b[39m\u001b[32m666\u001b[39m     store = \u001b[43mNetCDF4DataStore\u001b[49m\u001b[43m.\u001b[49m\u001b[43mopen\u001b[49m\u001b[43m(\u001b[49m\n\u001b[32m    667\u001b[39m \u001b[43m        \u001b[49m\u001b[43mfilename_or_obj\u001b[49m\u001b[43m,\u001b[49m\n\u001b[32m    668\u001b[39m \u001b[43m        \u001b[49m\u001b[43mmode\u001b[49m\u001b[43m=\u001b[49m\u001b[43mmode\u001b[49m\u001b[43m,\u001b[49m\n\u001b[32m    669\u001b[39m \u001b[43m        \u001b[49m\u001b[38;5;28;43mformat\u001b[39;49m\u001b[43m=\u001b[49m\u001b[38;5;28;43mformat\u001b[39;49m\u001b[43m,\u001b[49m\n\u001b[32m    670\u001b[39m \u001b[43m        \u001b[49m\u001b[43mgroup\u001b[49m\u001b[43m=\u001b[49m\u001b[43mgroup\u001b[49m\u001b[43m,\u001b[49m\n\u001b[32m    671\u001b[39m \u001b[43m        \u001b[49m\u001b[43mclobber\u001b[49m\u001b[43m=\u001b[49m\u001b[43mclobber\u001b[49m\u001b[43m,\u001b[49m\n\u001b[32m    672\u001b[39m \u001b[43m        \u001b[49m\u001b[43mdiskless\u001b[49m\u001b[43m=\u001b[49m\u001b[43mdiskless\u001b[49m\u001b[43m,\u001b[49m\n\u001b[32m    673\u001b[39m \u001b[43m        \u001b[49m\u001b[43mpersist\u001b[49m\u001b[43m=\u001b[49m\u001b[43mpersist\u001b[49m\u001b[43m,\u001b[49m\n\u001b[32m    674\u001b[39m \u001b[43m        \u001b[49m\u001b[43mauto_complex\u001b[49m\u001b[43m=\u001b[49m\u001b[43mauto_complex\u001b[49m\u001b[43m,\u001b[49m\n\u001b[32m    675\u001b[39m \u001b[43m        \u001b[49m\u001b[43mlock\u001b[49m\u001b[43m=\u001b[49m\u001b[43mlock\u001b[49m\u001b[43m,\u001b[49m\n\u001b[32m    676\u001b[39m \u001b[43m        \u001b[49m\u001b[43mautoclose\u001b[49m\u001b[43m=\u001b[49m\u001b[43mautoclose\u001b[49m\u001b[43m,\u001b[49m\n\u001b[32m    677\u001b[39m \u001b[43m    \u001b[49m\u001b[43m)\u001b[49m\n\u001b[32m    679\u001b[39m     store_entrypoint = StoreBackendEntrypoint()\n\u001b[32m    680\u001b[39m     \u001b[38;5;28;01mwith\u001b[39;00m close_on_error(store):\n",
      "\u001b[36mFile \u001b[39m\u001b[32m~/my-conda-envs/cmip6-download/lib/python3.13/site-packages/xarray/backends/netCDF4_.py:452\u001b[39m, in \u001b[36mNetCDF4DataStore.open\u001b[39m\u001b[34m(cls, filename, mode, format, group, clobber, diskless, persist, auto_complex, lock, lock_maker, autoclose)\u001b[39m\n\u001b[32m    448\u001b[39m     kwargs[\u001b[33m\"\u001b[39m\u001b[33mauto_complex\u001b[39m\u001b[33m\"\u001b[39m] = auto_complex\n\u001b[32m    449\u001b[39m manager = CachingFileManager(\n\u001b[32m    450\u001b[39m     netCDF4.Dataset, filename, mode=mode, kwargs=kwargs\n\u001b[32m    451\u001b[39m )\n\u001b[32m--> \u001b[39m\u001b[32m452\u001b[39m \u001b[38;5;28;01mreturn\u001b[39;00m \u001b[38;5;28;43mcls\u001b[39;49m\u001b[43m(\u001b[49m\u001b[43mmanager\u001b[49m\u001b[43m,\u001b[49m\u001b[43m \u001b[49m\u001b[43mgroup\u001b[49m\u001b[43m=\u001b[49m\u001b[43mgroup\u001b[49m\u001b[43m,\u001b[49m\u001b[43m \u001b[49m\u001b[43mmode\u001b[49m\u001b[43m=\u001b[49m\u001b[43mmode\u001b[49m\u001b[43m,\u001b[49m\u001b[43m \u001b[49m\u001b[43mlock\u001b[49m\u001b[43m=\u001b[49m\u001b[43mlock\u001b[49m\u001b[43m,\u001b[49m\u001b[43m \u001b[49m\u001b[43mautoclose\u001b[49m\u001b[43m=\u001b[49m\u001b[43mautoclose\u001b[49m\u001b[43m)\u001b[49m\n",
      "\u001b[36mFile \u001b[39m\u001b[32m~/my-conda-envs/cmip6-download/lib/python3.13/site-packages/xarray/backends/netCDF4_.py:393\u001b[39m, in \u001b[36mNetCDF4DataStore.__init__\u001b[39m\u001b[34m(self, manager, group, mode, lock, autoclose)\u001b[39m\n\u001b[32m    391\u001b[39m \u001b[38;5;28mself\u001b[39m._group = group\n\u001b[32m    392\u001b[39m \u001b[38;5;28mself\u001b[39m._mode = mode\n\u001b[32m--> \u001b[39m\u001b[32m393\u001b[39m \u001b[38;5;28mself\u001b[39m.format = \u001b[38;5;28;43mself\u001b[39;49m\u001b[43m.\u001b[49m\u001b[43mds\u001b[49m.data_model\n\u001b[32m    394\u001b[39m \u001b[38;5;28mself\u001b[39m._filename = \u001b[38;5;28mself\u001b[39m.ds.filepath()\n\u001b[32m    395\u001b[39m \u001b[38;5;28mself\u001b[39m.is_remote = is_remote_uri(\u001b[38;5;28mself\u001b[39m._filename)\n",
      "\u001b[36mFile \u001b[39m\u001b[32m~/my-conda-envs/cmip6-download/lib/python3.13/site-packages/xarray/backends/netCDF4_.py:461\u001b[39m, in \u001b[36mNetCDF4DataStore.ds\u001b[39m\u001b[34m(self)\u001b[39m\n\u001b[32m    459\u001b[39m \u001b[38;5;129m@property\u001b[39m\n\u001b[32m    460\u001b[39m \u001b[38;5;28;01mdef\u001b[39;00m\u001b[38;5;250m \u001b[39m\u001b[34mds\u001b[39m(\u001b[38;5;28mself\u001b[39m):\n\u001b[32m--> \u001b[39m\u001b[32m461\u001b[39m     \u001b[38;5;28;01mreturn\u001b[39;00m \u001b[38;5;28;43mself\u001b[39;49m\u001b[43m.\u001b[49m\u001b[43m_acquire\u001b[49m\u001b[43m(\u001b[49m\u001b[43m)\u001b[49m\n",
      "\u001b[36mFile \u001b[39m\u001b[32m~/my-conda-envs/cmip6-download/lib/python3.13/site-packages/xarray/backends/netCDF4_.py:455\u001b[39m, in \u001b[36mNetCDF4DataStore._acquire\u001b[39m\u001b[34m(self, needs_lock)\u001b[39m\n\u001b[32m    454\u001b[39m \u001b[38;5;28;01mdef\u001b[39;00m\u001b[38;5;250m \u001b[39m\u001b[34m_acquire\u001b[39m(\u001b[38;5;28mself\u001b[39m, needs_lock=\u001b[38;5;28;01mTrue\u001b[39;00m):\n\u001b[32m--> \u001b[39m\u001b[32m455\u001b[39m     \u001b[38;5;28;01mwith\u001b[39;00m \u001b[38;5;28mself\u001b[39m._manager.acquire_context(needs_lock) \u001b[38;5;28;01mas\u001b[39;00m root:\n\u001b[32m    456\u001b[39m         ds = _nc4_require_group(root, \u001b[38;5;28mself\u001b[39m._group, \u001b[38;5;28mself\u001b[39m._mode)\n\u001b[32m    457\u001b[39m     \u001b[38;5;28;01mreturn\u001b[39;00m ds\n",
      "\u001b[36mFile \u001b[39m\u001b[32m~/my-conda-envs/cmip6-download/lib/python3.13/contextlib.py:141\u001b[39m, in \u001b[36m_GeneratorContextManager.__enter__\u001b[39m\u001b[34m(self)\u001b[39m\n\u001b[32m    139\u001b[39m \u001b[38;5;28;01mdel\u001b[39;00m \u001b[38;5;28mself\u001b[39m.args, \u001b[38;5;28mself\u001b[39m.kwds, \u001b[38;5;28mself\u001b[39m.func\n\u001b[32m    140\u001b[39m \u001b[38;5;28;01mtry\u001b[39;00m:\n\u001b[32m--> \u001b[39m\u001b[32m141\u001b[39m     \u001b[38;5;28;01mreturn\u001b[39;00m \u001b[38;5;28;43mnext\u001b[39;49m\u001b[43m(\u001b[49m\u001b[38;5;28;43mself\u001b[39;49m\u001b[43m.\u001b[49m\u001b[43mgen\u001b[49m\u001b[43m)\u001b[49m\n\u001b[32m    142\u001b[39m \u001b[38;5;28;01mexcept\u001b[39;00m \u001b[38;5;167;01mStopIteration\u001b[39;00m:\n\u001b[32m    143\u001b[39m     \u001b[38;5;28;01mraise\u001b[39;00m \u001b[38;5;167;01mRuntimeError\u001b[39;00m(\u001b[33m\"\u001b[39m\u001b[33mgenerator didn\u001b[39m\u001b[33m'\u001b[39m\u001b[33mt yield\u001b[39m\u001b[33m\"\u001b[39m) \u001b[38;5;28;01mfrom\u001b[39;00m\u001b[38;5;250m \u001b[39m\u001b[38;5;28;01mNone\u001b[39;00m\n",
      "\u001b[36mFile \u001b[39m\u001b[32m~/my-conda-envs/cmip6-download/lib/python3.13/site-packages/xarray/backends/file_manager.py:199\u001b[39m, in \u001b[36mCachingFileManager.acquire_context\u001b[39m\u001b[34m(self, needs_lock)\u001b[39m\n\u001b[32m    196\u001b[39m \u001b[38;5;129m@contextlib\u001b[39m.contextmanager\n\u001b[32m    197\u001b[39m \u001b[38;5;28;01mdef\u001b[39;00m\u001b[38;5;250m \u001b[39m\u001b[34macquire_context\u001b[39m(\u001b[38;5;28mself\u001b[39m, needs_lock=\u001b[38;5;28;01mTrue\u001b[39;00m):\n\u001b[32m    198\u001b[39m \u001b[38;5;250m    \u001b[39m\u001b[33;03m\"\"\"Context manager for acquiring a file.\"\"\"\u001b[39;00m\n\u001b[32m--> \u001b[39m\u001b[32m199\u001b[39m     file, cached = \u001b[38;5;28;43mself\u001b[39;49m\u001b[43m.\u001b[49m\u001b[43m_acquire_with_cache_info\u001b[49m\u001b[43m(\u001b[49m\u001b[43mneeds_lock\u001b[49m\u001b[43m)\u001b[49m\n\u001b[32m    200\u001b[39m     \u001b[38;5;28;01mtry\u001b[39;00m:\n\u001b[32m    201\u001b[39m         \u001b[38;5;28;01myield\u001b[39;00m file\n",
      "\u001b[36mFile \u001b[39m\u001b[32m~/my-conda-envs/cmip6-download/lib/python3.13/site-packages/xarray/backends/file_manager.py:217\u001b[39m, in \u001b[36mCachingFileManager._acquire_with_cache_info\u001b[39m\u001b[34m(self, needs_lock)\u001b[39m\n\u001b[32m    215\u001b[39m     kwargs = kwargs.copy()\n\u001b[32m    216\u001b[39m     kwargs[\u001b[33m\"\u001b[39m\u001b[33mmode\u001b[39m\u001b[33m\"\u001b[39m] = \u001b[38;5;28mself\u001b[39m._mode\n\u001b[32m--> \u001b[39m\u001b[32m217\u001b[39m file = \u001b[38;5;28;43mself\u001b[39;49m\u001b[43m.\u001b[49m\u001b[43m_opener\u001b[49m\u001b[43m(\u001b[49m\u001b[43m*\u001b[49m\u001b[38;5;28;43mself\u001b[39;49m\u001b[43m.\u001b[49m\u001b[43m_args\u001b[49m\u001b[43m,\u001b[49m\u001b[43m \u001b[49m\u001b[43m*\u001b[49m\u001b[43m*\u001b[49m\u001b[43mkwargs\u001b[49m\u001b[43m)\u001b[49m\n\u001b[32m    218\u001b[39m \u001b[38;5;28;01mif\u001b[39;00m \u001b[38;5;28mself\u001b[39m._mode == \u001b[33m\"\u001b[39m\u001b[33mw\u001b[39m\u001b[33m\"\u001b[39m:\n\u001b[32m    219\u001b[39m     \u001b[38;5;66;03m# ensure file doesn't get overridden when opened again\u001b[39;00m\n\u001b[32m    220\u001b[39m     \u001b[38;5;28mself\u001b[39m._mode = \u001b[33m\"\u001b[39m\u001b[33ma\u001b[39m\u001b[33m\"\u001b[39m\n",
      "\u001b[36mFile \u001b[39m\u001b[32msrc/netCDF4/_netCDF4.pyx:2540\u001b[39m, in \u001b[36mnetCDF4._netCDF4.Dataset.__init__\u001b[39m\u001b[34m()\u001b[39m\n",
      "\u001b[36mFile \u001b[39m\u001b[32msrc/netCDF4/_netCDF4.pyx:2133\u001b[39m, in \u001b[36mgenexpr\u001b[39m\u001b[34m()\u001b[39m\n",
      "\u001b[36mFile \u001b[39m\u001b[32msrc/netCDF4/_netCDF4.pyx:2133\u001b[39m, in \u001b[36mgenexpr\u001b[39m\u001b[34m()\u001b[39m\n",
      "\u001b[36mFile \u001b[39m\u001b[32m~/my-conda-envs/cmip6-download/lib/python3.13/site-packages/netCDF4/utils.py:32\u001b[39m, in \u001b[36m_find_dim\u001b[39m\u001b[34m(grp, dimname)\u001b[39m\n\u001b[32m     28\u001b[39m \u001b[38;5;28;01mdef\u001b[39;00m\u001b[38;5;250m \u001b[39m\u001b[34m_sortbylist\u001b[39m(A,B):\n\u001b[32m     29\u001b[39m     \u001b[38;5;66;03m# sort one list (A) using the values from another list (B)\u001b[39;00m\n\u001b[32m     30\u001b[39m     \u001b[38;5;28;01mreturn\u001b[39;00m [A[i] \u001b[38;5;28;01mfor\u001b[39;00m i \u001b[38;5;129;01min\u001b[39;00m \u001b[38;5;28msorted\u001b[39m(\u001b[38;5;28mrange\u001b[39m(\u001b[38;5;28mlen\u001b[39m(A)), key=B.\u001b[34m__getitem__\u001b[39m)]\n\u001b[32m---> \u001b[39m\u001b[32m32\u001b[39m \u001b[38;5;28;01mdef\u001b[39;00m\u001b[38;5;250m \u001b[39m\u001b[34m_find_dim\u001b[39m(grp, dimname):\n\u001b[32m     33\u001b[39m     \u001b[38;5;66;03m# find Dimension instance given group and name.\u001b[39;00m\n\u001b[32m     34\u001b[39m     \u001b[38;5;66;03m# look in current group, and parents.\u001b[39;00m\n\u001b[32m     35\u001b[39m     group = grp\n\u001b[32m     36\u001b[39m     dim = \u001b[38;5;28;01mNone\u001b[39;00m\n",
      "\u001b[31mKeyboardInterrupt\u001b[39m: "
     ]
    }
   ],
   "source": [
    "dataset_dict = catalog.to_dataset_dict(\n",
    "    add_measures=False, ignore_facets=[\"activtity_drs\", \"institution_id, table_id\"]\n",
    ")"
   ]
  },
  {
   "cell_type": "markdown",
   "id": "ca0ebc1e",
   "metadata": {},
   "source": [
    "## Homemade routine to retrieve the areacella of a given model, variant, grid_label tuple only once"
   ]
  },
  {
   "cell_type": "markdown",
   "id": "d1398b16",
   "metadata": {},
   "source": [
    "The main default of the intake-esgf package when it comes to look for measures is that it does so for every single variable. And this is independent of the fact that our 12 variables fore one experiment would share the same areacella grid. What's more, it always start by looking for our full set of facets which is irrevelant. \n",
    "\n",
    "Indeed, the only three parameters that define areacella are the **source_id**, **member_id** and obviously the **grid_label**. Conveniently enough, we can group our search results according to these three parameters with the *.model_groups* method. In the end, it may be that our experiment won't hold the areacella variable but it does not really matter, we just need to find one. This is the spirit of this routine made to still get areacella but significantly faster.\n",
    "\n",
    "It is worth noting that this method is not useful if you need to import a small number of models and variables as you won't really see the time difference."
   ]
  },
  {
   "cell_type": "code",
   "execution_count": null,
   "id": "83e379d4",
   "metadata": {},
   "outputs": [],
   "source": [
    "all_indices = True"
   ]
  },
  {
   "cell_type": "code",
   "execution_count": null,
   "id": "b5877905",
   "metadata": {},
   "outputs": [],
   "source": [
    "intake_esgf.conf.set(all_indices=all_indices)\n",
    "\n",
    "if all_indices:\n",
    "\n",
    "    print(\"We are looking at all the nodes.\")\n",
    "\n",
    "else:\n",
    "\n",
    "    print(\"We are only looking at the globus nodes\")"
   ]
  },
  {
   "cell_type": "code",
   "execution_count": null,
   "id": "8ff61345",
   "metadata": {},
   "outputs": [
    {
     "ename": "KeyError",
     "evalue": "'areacella'",
     "output_type": "error",
     "traceback": [
      "\u001b[31m---------------------------------------------------------------------------\u001b[39m",
      "\u001b[31mKeyError\u001b[39m                                  Traceback (most recent call last)",
      "\u001b[36mCell\u001b[39m\u001b[36m \u001b[39m\u001b[32mIn[96]\u001b[39m\u001b[32m, line 52\u001b[39m\n\u001b[32m     47\u001b[39m areacella_ii = catalog.search(source_id = source_id, grid_label = grid_label,\n\u001b[32m     48\u001b[39m             variable_id = \u001b[33m\"\u001b[39m\u001b[33mareacella\u001b[39m\u001b[33m\"\u001b[39m, experiment_id = only_first_exp_id, quiet = \u001b[38;5;28;01mTrue\u001b[39;00m).to_dataset_dict(add_measures = \u001b[38;5;28;01mFalse\u001b[39;00m, quiet = \u001b[38;5;28;01mTrue\u001b[39;00m) \u001b[38;5;66;03m# silence the progress bar\u001b[39;00m\n\u001b[32m     50\u001b[39m \u001b[38;5;66;03m# Store it in dictionnary #\u001b[39;00m\n\u001b[32m---> \u001b[39m\u001b[32m52\u001b[39m dict_areacella[full_key] = \u001b[43mareacella_ii\u001b[49m\u001b[43m[\u001b[49m\u001b[33;43m\"\u001b[39;49m\u001b[33;43mareacella\u001b[39;49m\u001b[33;43m\"\u001b[39;49m\u001b[43m]\u001b[49m\n",
      "\u001b[31mKeyError\u001b[39m: 'areacella'"
     ]
    }
   ],
   "source": [
    "# ================ HOMEMADE ROUTINE TO GET AREACELLA GRIDS FASTER ================ #\n",
    "\n",
    "### INITIALISATION  ###\n",
    "\n",
    "## Initialise the full dictionnary ##\n",
    "\n",
    "dict_areacella = {}\n",
    "\n",
    "## Models grouped by SOURCE_ID | MEMBER_ID | GRID_LABEL ##\n",
    "\n",
    "series_grouped_models = catalog.model_groups()\n",
    "\n",
    "## Number of rows ##\n",
    "\n",
    "n_rows = series_grouped_models.size\n",
    "\n",
    "### GO THROUGH EVERY ROW OF THE PANDA SERIES ###\n",
    "\n",
    "for ii in range(n_rows):\n",
    "\n",
    "    ## Get the SOURCE_ID | MEMBER_ID | GRID_LABEL of the row ##\n",
    "\n",
    "    # Retrieve the row ##\n",
    "\n",
    "    row_ii = series_grouped_models.index[ii]\n",
    "\n",
    "    # Extract the labels #\n",
    "\n",
    "    source_id, member_id, grid_label = row_ii\n",
    "\n",
    "    # Build the key for this dictionnary entry ##\n",
    "\n",
    "    full_key = source_id + \".\" + member_id + \".\" + grid_label\n",
    "\n",
    "    ## Do the full search ##\n",
    "\n",
    "    areacella_search_full = catalog.search(\n",
    "        source_id=source_id, grid_label=grid_label, variable_id=\"areacella\", quiet=True\n",
    "    ).df  # silence the progress bar\n",
    "\n",
    "    ## Extract the first experiment id that gives an areacella entry ##\n",
    "\n",
    "    only_first_exp_id = areacella_search_full.experiment_id.values[0]\n",
    "\n",
    "    ## Get the areacella for the given row ##\n",
    "\n",
    "    # Search and download it #\n",
    "\n",
    "    areacella_ii = catalog.search(\n",
    "        source_id=source_id,\n",
    "        grid_label=grid_label,\n",
    "        variable_id=\"areacella\",\n",
    "        experiment_id=only_first_exp_id,\n",
    "        quiet=True,\n",
    "    ).to_dataset_dict(\n",
    "        add_measures=False, quiet=True\n",
    "    )  # silence the progress bar\n",
    "\n",
    "    # Store it in dictionnary #\n",
    "\n",
    "    dict_areacella[full_key] = areacella_ii[\"areacella\"]"
   ]
  },
  {
   "cell_type": "code",
   "execution_count": null,
   "id": "0730175d",
   "metadata": {},
   "outputs": [
    {
     "data": {
      "text/plain": [
       "'gr'"
      ]
     },
     "execution_count": 99,
     "metadata": {},
     "output_type": "execute_result"
    }
   ],
   "source": []
  },
  {
   "cell_type": "code",
   "execution_count": null,
   "id": "7d5b7731",
   "metadata": {},
   "outputs": [
    {
     "data": {
      "text/plain": [
       "{'piClim-control.rlus': <xarray.Dataset> Size: 30MB\n",
       " Dimensions:      (lat: 143, lon: 144, time: 360, axis_nbounds: 2)\n",
       " Coordinates:\n",
       "   * lat          (lat) float32 572B -90.0 -88.73 -87.46 ... 87.46 88.73 90.0\n",
       "   * lon          (lon) float32 576B 0.0 2.5 5.0 7.5 ... 350.0 352.5 355.0 357.5\n",
       "   * time         (time) object 3kB 2014-01-16 12:00:00 ... 2043-12-16 12:00:00\n",
       " Dimensions without coordinates: axis_nbounds\n",
       " Data variables:\n",
       "     time_bounds  (time, axis_nbounds) object 6kB ...\n",
       "     rlus         (time, lat, lon) float32 30MB ...\n",
       " Attributes: (12/53)\n",
       "     name:                   /ccc/work/cont003/gencmip6/p25sima/IGCM_OUT/LMDZO...\n",
       "     Conventions:            CF-1.7 CMIP-6.2\n",
       "     creation_date:          2018-10-03T12:57:01Z\n",
       "     tracking_id:            hdl:21.14100/6acc2ba1-ea91-490e-80a4-3f609ca6045d\n",
       "     description:            30-year atmosphere only integration using preindu...\n",
       "     title:                  IPSL-CM6A-LR model output prepared for CMIP6 / RF...\n",
       "     ...                     ...\n",
       "     EXPID:                  piClim-control\n",
       "     CMIP6_CV_version:       cv=6.2.3.5-2-g63b123e\n",
       "     dr2xml_md5sum:          92ddb3d0d8ce79f498d792fc8e559dcf\n",
       "     model_version:          6.1.6\n",
       "     activity_drs:           RFMIP\n",
       "     member_id:              r1i1p1f1,\n",
       " 'piClim-aer.rlutcs': <xarray.Dataset> Size: 30MB\n",
       " Dimensions:      (lat: 143, lon: 144, time: 360, axis_nbounds: 2)\n",
       " Coordinates:\n",
       "   * lat          (lat) float32 572B -90.0 -88.73 -87.46 ... 87.46 88.73 90.0\n",
       "   * lon          (lon) float32 576B 0.0 2.5 5.0 7.5 ... 350.0 352.5 355.0 357.5\n",
       "   * time         (time) object 3kB 2014-01-16 12:00:00 ... 2043-12-16 12:00:00\n",
       " Dimensions without coordinates: axis_nbounds\n",
       " Data variables:\n",
       "     time_bounds  (time, axis_nbounds) object 6kB ...\n",
       "     rlutcs       (time, lat, lon) float32 30MB ...\n",
       " Attributes: (12/53)\n",
       "     name:                   /ccc/work/cont003/gencmip6/p25sima/IGCM_OUT/LMDZO...\n",
       "     Conventions:            CF-1.7 CMIP-6.2\n",
       "     creation_date:          2018-10-19T12:43:02Z\n",
       "     tracking_id:            hdl:21.14100/e82cc461-6846-4c3a-820a-1cfdc7b0983a\n",
       "     description:            As in RFMIP-ERF-PI-Cntrl but with with present-da...\n",
       "     title:                  IPSL-CM6A-LR model output prepared for CMIP6 / RF...\n",
       "     ...                     ...\n",
       "     EXPID:                  piClim-aer\n",
       "     CMIP6_CV_version:       cv=6.2.3.5-2-g63b123e\n",
       "     dr2xml_md5sum:          92ddb3d0d8ce79f498d792fc8e559dcf\n",
       "     model_version:          6.1.6\n",
       "     activity_drs:           RFMIP\n",
       "     member_id:              r1i1p1f1,\n",
       " 'piClim-aer.rsus': <xarray.Dataset> Size: 30MB\n",
       " Dimensions:      (lat: 143, lon: 144, time: 360, axis_nbounds: 2)\n",
       " Coordinates:\n",
       "   * lat          (lat) float32 572B -90.0 -88.73 -87.46 ... 87.46 88.73 90.0\n",
       "   * lon          (lon) float32 576B 0.0 2.5 5.0 7.5 ... 350.0 352.5 355.0 357.5\n",
       "   * time         (time) object 3kB 2014-01-16 12:00:00 ... 2043-12-16 12:00:00\n",
       " Dimensions without coordinates: axis_nbounds\n",
       " Data variables:\n",
       "     time_bounds  (time, axis_nbounds) object 6kB ...\n",
       "     rsus         (time, lat, lon) float32 30MB ...\n",
       " Attributes: (12/53)\n",
       "     name:                   /ccc/work/cont003/gencmip6/p25sima/IGCM_OUT/LMDZO...\n",
       "     Conventions:            CF-1.7 CMIP-6.2\n",
       "     creation_date:          2018-10-19T12:43:02Z\n",
       "     tracking_id:            hdl:21.14100/acee9c7f-60e2-408b-802a-159fd68f4b61\n",
       "     description:            As in RFMIP-ERF-PI-Cntrl but with with present-da...\n",
       "     title:                  IPSL-CM6A-LR model output prepared for CMIP6 / RF...\n",
       "     ...                     ...\n",
       "     EXPID:                  piClim-aer\n",
       "     CMIP6_CV_version:       cv=6.2.3.5-2-g63b123e\n",
       "     dr2xml_md5sum:          92ddb3d0d8ce79f498d792fc8e559dcf\n",
       "     model_version:          6.1.6\n",
       "     activity_drs:           RFMIP\n",
       "     member_id:              r1i1p1f1,\n",
       " 'piClim-control.rsdscs': <xarray.Dataset> Size: 30MB\n",
       " Dimensions:      (lat: 143, lon: 144, time: 360, axis_nbounds: 2)\n",
       " Coordinates:\n",
       "   * lat          (lat) float32 572B -90.0 -88.73 -87.46 ... 87.46 88.73 90.0\n",
       "   * lon          (lon) float32 576B 0.0 2.5 5.0 7.5 ... 350.0 352.5 355.0 357.5\n",
       "   * time         (time) object 3kB 2014-01-16 12:00:00 ... 2043-12-16 12:00:00\n",
       " Dimensions without coordinates: axis_nbounds\n",
       " Data variables:\n",
       "     time_bounds  (time, axis_nbounds) object 6kB ...\n",
       "     rsdscs       (time, lat, lon) float32 30MB ...\n",
       " Attributes: (12/53)\n",
       "     name:                   /ccc/work/cont003/gencmip6/p25sima/IGCM_OUT/LMDZO...\n",
       "     Conventions:            CF-1.7 CMIP-6.2\n",
       "     creation_date:          2018-10-03T12:57:00Z\n",
       "     tracking_id:            hdl:21.14100/8194ec5d-dff9-41b7-8167-573e55584bf6\n",
       "     description:            30-year atmosphere only integration using preindu...\n",
       "     title:                  IPSL-CM6A-LR model output prepared for CMIP6 / RF...\n",
       "     ...                     ...\n",
       "     EXPID:                  piClim-control\n",
       "     CMIP6_CV_version:       cv=6.2.3.5-2-g63b123e\n",
       "     dr2xml_md5sum:          92ddb3d0d8ce79f498d792fc8e559dcf\n",
       "     model_version:          6.1.6\n",
       "     activity_drs:           RFMIP\n",
       "     member_id:              r1i1p1f1,\n",
       " 'piClim-aer.rlus': <xarray.Dataset> Size: 30MB\n",
       " Dimensions:      (lat: 143, lon: 144, time: 360, axis_nbounds: 2)\n",
       " Coordinates:\n",
       "   * lat          (lat) float32 572B -90.0 -88.73 -87.46 ... 87.46 88.73 90.0\n",
       "   * lon          (lon) float32 576B 0.0 2.5 5.0 7.5 ... 350.0 352.5 355.0 357.5\n",
       "   * time         (time) object 3kB 2014-01-16 12:00:00 ... 2043-12-16 12:00:00\n",
       " Dimensions without coordinates: axis_nbounds\n",
       " Data variables:\n",
       "     time_bounds  (time, axis_nbounds) object 6kB ...\n",
       "     rlus         (time, lat, lon) float32 30MB ...\n",
       " Attributes: (12/53)\n",
       "     name:                   /ccc/work/cont003/gencmip6/p25sima/IGCM_OUT/LMDZO...\n",
       "     Conventions:            CF-1.7 CMIP-6.2\n",
       "     creation_date:          2018-10-19T12:43:02Z\n",
       "     tracking_id:            hdl:21.14100/a99e24d6-c109-4c37-95bd-ead17a1744d4\n",
       "     description:            As in RFMIP-ERF-PI-Cntrl but with with present-da...\n",
       "     title:                  IPSL-CM6A-LR model output prepared for CMIP6 / RF...\n",
       "     ...                     ...\n",
       "     EXPID:                  piClim-aer\n",
       "     CMIP6_CV_version:       cv=6.2.3.5-2-g63b123e\n",
       "     dr2xml_md5sum:          92ddb3d0d8ce79f498d792fc8e559dcf\n",
       "     model_version:          6.1.6\n",
       "     activity_drs:           RFMIP\n",
       "     member_id:              r1i1p1f1,\n",
       " 'piClim-aer.rsdscs': <xarray.Dataset> Size: 30MB\n",
       " Dimensions:      (lat: 143, lon: 144, time: 360, axis_nbounds: 2)\n",
       " Coordinates:\n",
       "   * lat          (lat) float32 572B -90.0 -88.73 -87.46 ... 87.46 88.73 90.0\n",
       "   * lon          (lon) float32 576B 0.0 2.5 5.0 7.5 ... 350.0 352.5 355.0 357.5\n",
       "   * time         (time) object 3kB 2014-01-16 12:00:00 ... 2043-12-16 12:00:00\n",
       " Dimensions without coordinates: axis_nbounds\n",
       " Data variables:\n",
       "     time_bounds  (time, axis_nbounds) object 6kB ...\n",
       "     rsdscs       (time, lat, lon) float32 30MB ...\n",
       " Attributes: (12/53)\n",
       "     name:                   /ccc/work/cont003/gencmip6/p25sima/IGCM_OUT/LMDZO...\n",
       "     Conventions:            CF-1.7 CMIP-6.2\n",
       "     creation_date:          2018-10-19T12:43:02Z\n",
       "     tracking_id:            hdl:21.14100/e259a1a2-a1f6-4836-832e-56db839b166a\n",
       "     description:            As in RFMIP-ERF-PI-Cntrl but with with present-da...\n",
       "     title:                  IPSL-CM6A-LR model output prepared for CMIP6 / RF...\n",
       "     ...                     ...\n",
       "     EXPID:                  piClim-aer\n",
       "     CMIP6_CV_version:       cv=6.2.3.5-2-g63b123e\n",
       "     dr2xml_md5sum:          92ddb3d0d8ce79f498d792fc8e559dcf\n",
       "     model_version:          6.1.6\n",
       "     activity_drs:           RFMIP\n",
       "     member_id:              r1i1p1f1,\n",
       " 'piClim-aer.rsds': <xarray.Dataset> Size: 30MB\n",
       " Dimensions:      (lat: 143, lon: 144, time: 360, axis_nbounds: 2)\n",
       " Coordinates:\n",
       "   * lat          (lat) float32 572B -90.0 -88.73 -87.46 ... 87.46 88.73 90.0\n",
       "   * lon          (lon) float32 576B 0.0 2.5 5.0 7.5 ... 350.0 352.5 355.0 357.5\n",
       "   * time         (time) object 3kB 2014-01-16 12:00:00 ... 2043-12-16 12:00:00\n",
       " Dimensions without coordinates: axis_nbounds\n",
       " Data variables:\n",
       "     time_bounds  (time, axis_nbounds) object 6kB ...\n",
       "     rsds         (time, lat, lon) float32 30MB ...\n",
       " Attributes: (12/53)\n",
       "     name:                   /ccc/work/cont003/gencmip6/p25sima/IGCM_OUT/LMDZO...\n",
       "     Conventions:            CF-1.7 CMIP-6.2\n",
       "     creation_date:          2018-10-19T12:43:02Z\n",
       "     tracking_id:            hdl:21.14100/8d4d3b48-bb5d-4122-a558-abad8b57832c\n",
       "     description:            As in RFMIP-ERF-PI-Cntrl but with with present-da...\n",
       "     title:                  IPSL-CM6A-LR model output prepared for CMIP6 / RF...\n",
       "     ...                     ...\n",
       "     EXPID:                  piClim-aer\n",
       "     CMIP6_CV_version:       cv=6.2.3.5-2-g63b123e\n",
       "     dr2xml_md5sum:          92ddb3d0d8ce79f498d792fc8e559dcf\n",
       "     model_version:          6.1.6\n",
       "     activity_drs:           RFMIP\n",
       "     member_id:              r1i1p1f1,\n",
       " 'piClim-aer.rsdt': <xarray.Dataset> Size: 30MB\n",
       " Dimensions:      (lat: 143, lon: 144, time: 360, axis_nbounds: 2)\n",
       " Coordinates:\n",
       "   * lat          (lat) float32 572B -90.0 -88.73 -87.46 ... 87.46 88.73 90.0\n",
       "   * lon          (lon) float32 576B 0.0 2.5 5.0 7.5 ... 350.0 352.5 355.0 357.5\n",
       "   * time         (time) object 3kB 2014-01-16 12:00:00 ... 2043-12-16 12:00:00\n",
       " Dimensions without coordinates: axis_nbounds\n",
       " Data variables:\n",
       "     time_bounds  (time, axis_nbounds) object 6kB ...\n",
       "     rsdt         (time, lat, lon) float32 30MB ...\n",
       " Attributes: (12/53)\n",
       "     name:                   /ccc/work/cont003/gencmip6/p25sima/IGCM_OUT/LMDZO...\n",
       "     Conventions:            CF-1.7 CMIP-6.2\n",
       "     creation_date:          2018-10-19T12:43:02Z\n",
       "     tracking_id:            hdl:21.14100/4cf6df7c-5ee0-4796-872a-78e47d7fca8e\n",
       "     description:            As in RFMIP-ERF-PI-Cntrl but with with present-da...\n",
       "     title:                  IPSL-CM6A-LR model output prepared for CMIP6 / RF...\n",
       "     ...                     ...\n",
       "     EXPID:                  piClim-aer\n",
       "     CMIP6_CV_version:       cv=6.2.3.5-2-g63b123e\n",
       "     dr2xml_md5sum:          92ddb3d0d8ce79f498d792fc8e559dcf\n",
       "     model_version:          6.1.6\n",
       "     activity_drs:           RFMIP\n",
       "     member_id:              r1i1p1f1,\n",
       " 'piClim-control.rlut': <xarray.Dataset> Size: 30MB\n",
       " Dimensions:      (lat: 143, lon: 144, time: 360, axis_nbounds: 2)\n",
       " Coordinates:\n",
       "   * lat          (lat) float32 572B -90.0 -88.73 -87.46 ... 87.46 88.73 90.0\n",
       "   * lon          (lon) float32 576B 0.0 2.5 5.0 7.5 ... 350.0 352.5 355.0 357.5\n",
       "   * time         (time) object 3kB 2014-01-16 12:00:00 ... 2043-12-16 12:00:00\n",
       " Dimensions without coordinates: axis_nbounds\n",
       " Data variables:\n",
       "     time_bounds  (time, axis_nbounds) object 6kB ...\n",
       "     rlut         (time, lat, lon) float32 30MB ...\n",
       " Attributes: (12/53)\n",
       "     name:                   /ccc/work/cont003/gencmip6/p25sima/IGCM_OUT/LMDZO...\n",
       "     Conventions:            CF-1.7 CMIP-6.2\n",
       "     creation_date:          2018-10-03T12:57:00Z\n",
       "     tracking_id:            hdl:21.14100/feabc4ef-6983-418b-8b5d-754dcb6f842b\n",
       "     description:            30-year atmosphere only integration using preindu...\n",
       "     title:                  IPSL-CM6A-LR model output prepared for CMIP6 / RF...\n",
       "     ...                     ...\n",
       "     EXPID:                  piClim-control\n",
       "     CMIP6_CV_version:       cv=6.2.3.5-2-g63b123e\n",
       "     dr2xml_md5sum:          92ddb3d0d8ce79f498d792fc8e559dcf\n",
       "     model_version:          6.1.6\n",
       "     activity_drs:           RFMIP\n",
       "     member_id:              r1i1p1f1,\n",
       " 'piClim-control.rsuscs': <xarray.Dataset> Size: 30MB\n",
       " Dimensions:      (lat: 143, lon: 144, time: 360, axis_nbounds: 2)\n",
       " Coordinates:\n",
       "   * lat          (lat) float32 572B -90.0 -88.73 -87.46 ... 87.46 88.73 90.0\n",
       "   * lon          (lon) float32 576B 0.0 2.5 5.0 7.5 ... 350.0 352.5 355.0 357.5\n",
       "   * time         (time) object 3kB 2014-01-16 12:00:00 ... 2043-12-16 12:00:00\n",
       " Dimensions without coordinates: axis_nbounds\n",
       " Data variables:\n",
       "     time_bounds  (time, axis_nbounds) object 6kB ...\n",
       "     rsuscs       (time, lat, lon) float32 30MB ...\n",
       " Attributes: (12/53)\n",
       "     name:                   /ccc/work/cont003/gencmip6/p25sima/IGCM_OUT/LMDZO...\n",
       "     Conventions:            CF-1.7 CMIP-6.2\n",
       "     creation_date:          2018-10-03T12:57:00Z\n",
       "     tracking_id:            hdl:21.14100/8a742896-24db-4208-9997-87289b479e53\n",
       "     description:            30-year atmosphere only integration using preindu...\n",
       "     title:                  IPSL-CM6A-LR model output prepared for CMIP6 / RF...\n",
       "     ...                     ...\n",
       "     EXPID:                  piClim-control\n",
       "     CMIP6_CV_version:       cv=6.2.3.5-2-g63b123e\n",
       "     dr2xml_md5sum:          92ddb3d0d8ce79f498d792fc8e559dcf\n",
       "     model_version:          6.1.6\n",
       "     activity_drs:           RFMIP\n",
       "     member_id:              r1i1p1f1,\n",
       " 'piClim-aer.rsuscs': <xarray.Dataset> Size: 30MB\n",
       " Dimensions:      (lat: 143, lon: 144, time: 360, axis_nbounds: 2)\n",
       " Coordinates:\n",
       "   * lat          (lat) float32 572B -90.0 -88.73 -87.46 ... 87.46 88.73 90.0\n",
       "   * lon          (lon) float32 576B 0.0 2.5 5.0 7.5 ... 350.0 352.5 355.0 357.5\n",
       "   * time         (time) object 3kB 2014-01-16 12:00:00 ... 2043-12-16 12:00:00\n",
       " Dimensions without coordinates: axis_nbounds\n",
       " Data variables:\n",
       "     time_bounds  (time, axis_nbounds) object 6kB ...\n",
       "     rsuscs       (time, lat, lon) float32 30MB ...\n",
       " Attributes: (12/53)\n",
       "     name:                   /ccc/work/cont003/gencmip6/p25sima/IGCM_OUT/LMDZO...\n",
       "     Conventions:            CF-1.7 CMIP-6.2\n",
       "     creation_date:          2018-10-19T12:43:02Z\n",
       "     tracking_id:            hdl:21.14100/24b13061-58c4-4176-9125-3d4cc6e36e1a\n",
       "     description:            As in RFMIP-ERF-PI-Cntrl but with with present-da...\n",
       "     title:                  IPSL-CM6A-LR model output prepared for CMIP6 / RF...\n",
       "     ...                     ...\n",
       "     EXPID:                  piClim-aer\n",
       "     CMIP6_CV_version:       cv=6.2.3.5-2-g63b123e\n",
       "     dr2xml_md5sum:          92ddb3d0d8ce79f498d792fc8e559dcf\n",
       "     model_version:          6.1.6\n",
       "     activity_drs:           RFMIP\n",
       "     member_id:              r1i1p1f1,\n",
       " 'piClim-control.rsutcs': <xarray.Dataset> Size: 30MB\n",
       " Dimensions:      (lat: 143, lon: 144, time: 360, axis_nbounds: 2)\n",
       " Coordinates:\n",
       "   * lat          (lat) float32 572B -90.0 -88.73 -87.46 ... 87.46 88.73 90.0\n",
       "   * lon          (lon) float32 576B 0.0 2.5 5.0 7.5 ... 350.0 352.5 355.0 357.5\n",
       "   * time         (time) object 3kB 2014-01-16 12:00:00 ... 2043-12-16 12:00:00\n",
       " Dimensions without coordinates: axis_nbounds\n",
       " Data variables:\n",
       "     time_bounds  (time, axis_nbounds) object 6kB ...\n",
       "     rsutcs       (time, lat, lon) float32 30MB ...\n",
       " Attributes: (12/53)\n",
       "     name:                   /ccc/work/cont003/gencmip6/p25sima/IGCM_OUT/LMDZO...\n",
       "     Conventions:            CF-1.7 CMIP-6.2\n",
       "     creation_date:          2018-10-03T12:57:00Z\n",
       "     tracking_id:            hdl:21.14100/23cfe01d-6b7d-4a3b-bd97-d60155a8c1d5\n",
       "     description:            30-year atmosphere only integration using preindu...\n",
       "     title:                  IPSL-CM6A-LR model output prepared for CMIP6 / RF...\n",
       "     ...                     ...\n",
       "     EXPID:                  piClim-control\n",
       "     CMIP6_CV_version:       cv=6.2.3.5-2-g63b123e\n",
       "     dr2xml_md5sum:          92ddb3d0d8ce79f498d792fc8e559dcf\n",
       "     model_version:          6.1.6\n",
       "     activity_drs:           RFMIP\n",
       "     member_id:              r1i1p1f1,\n",
       " 'piClim-control.rlutcs': <xarray.Dataset> Size: 30MB\n",
       " Dimensions:      (lat: 143, lon: 144, time: 360, axis_nbounds: 2)\n",
       " Coordinates:\n",
       "   * lat          (lat) float32 572B -90.0 -88.73 -87.46 ... 87.46 88.73 90.0\n",
       "   * lon          (lon) float32 576B 0.0 2.5 5.0 7.5 ... 350.0 352.5 355.0 357.5\n",
       "   * time         (time) object 3kB 2014-01-16 12:00:00 ... 2043-12-16 12:00:00\n",
       " Dimensions without coordinates: axis_nbounds\n",
       " Data variables:\n",
       "     time_bounds  (time, axis_nbounds) object 6kB ...\n",
       "     rlutcs       (time, lat, lon) float32 30MB ...\n",
       " Attributes: (12/53)\n",
       "     name:                   /ccc/work/cont003/gencmip6/p25sima/IGCM_OUT/LMDZO...\n",
       "     Conventions:            CF-1.7 CMIP-6.2\n",
       "     creation_date:          2018-10-03T12:57:00Z\n",
       "     tracking_id:            hdl:21.14100/cc899cd1-4ed0-45c3-8577-ceab367b16d2\n",
       "     description:            30-year atmosphere only integration using preindu...\n",
       "     title:                  IPSL-CM6A-LR model output prepared for CMIP6 / RF...\n",
       "     ...                     ...\n",
       "     EXPID:                  piClim-control\n",
       "     CMIP6_CV_version:       cv=6.2.3.5-2-g63b123e\n",
       "     dr2xml_md5sum:          92ddb3d0d8ce79f498d792fc8e559dcf\n",
       "     model_version:          6.1.6\n",
       "     activity_drs:           RFMIP\n",
       "     member_id:              r1i1p1f1,\n",
       " 'piClim-control.rsdt': <xarray.Dataset> Size: 30MB\n",
       " Dimensions:      (lat: 143, lon: 144, time: 360, axis_nbounds: 2)\n",
       " Coordinates:\n",
       "   * lat          (lat) float32 572B -90.0 -88.73 -87.46 ... 87.46 88.73 90.0\n",
       "   * lon          (lon) float32 576B 0.0 2.5 5.0 7.5 ... 350.0 352.5 355.0 357.5\n",
       "   * time         (time) object 3kB 2014-01-16 12:00:00 ... 2043-12-16 12:00:00\n",
       " Dimensions without coordinates: axis_nbounds\n",
       " Data variables:\n",
       "     time_bounds  (time, axis_nbounds) object 6kB ...\n",
       "     rsdt         (time, lat, lon) float32 30MB ...\n",
       " Attributes: (12/53)\n",
       "     name:                   /ccc/work/cont003/gencmip6/p25sima/IGCM_OUT/LMDZO...\n",
       "     Conventions:            CF-1.7 CMIP-6.2\n",
       "     creation_date:          2018-10-03T12:57:00Z\n",
       "     tracking_id:            hdl:21.14100/0bff32e7-fa71-479f-af94-788654f8423d\n",
       "     description:            30-year atmosphere only integration using preindu...\n",
       "     title:                  IPSL-CM6A-LR model output prepared for CMIP6 / RF...\n",
       "     ...                     ...\n",
       "     EXPID:                  piClim-control\n",
       "     CMIP6_CV_version:       cv=6.2.3.5-2-g63b123e\n",
       "     dr2xml_md5sum:          92ddb3d0d8ce79f498d792fc8e559dcf\n",
       "     model_version:          6.1.6\n",
       "     activity_drs:           RFMIP\n",
       "     member_id:              r1i1p1f1,\n",
       " 'piClim-control.rsut': <xarray.Dataset> Size: 30MB\n",
       " Dimensions:      (lat: 143, lon: 144, time: 360, axis_nbounds: 2)\n",
       " Coordinates:\n",
       "   * lat          (lat) float32 572B -90.0 -88.73 -87.46 ... 87.46 88.73 90.0\n",
       "   * lon          (lon) float32 576B 0.0 2.5 5.0 7.5 ... 350.0 352.5 355.0 357.5\n",
       "   * time         (time) object 3kB 2014-01-16 12:00:00 ... 2043-12-16 12:00:00\n",
       " Dimensions without coordinates: axis_nbounds\n",
       " Data variables:\n",
       "     time_bounds  (time, axis_nbounds) object 6kB ...\n",
       "     rsut         (time, lat, lon) float32 30MB ...\n",
       " Attributes: (12/53)\n",
       "     name:                   /ccc/work/cont003/gencmip6/p25sima/IGCM_OUT/LMDZO...\n",
       "     Conventions:            CF-1.7 CMIP-6.2\n",
       "     creation_date:          2018-10-03T12:57:00Z\n",
       "     tracking_id:            hdl:21.14100/214c0ed1-c790-4e70-8435-4fdae97df50d\n",
       "     description:            30-year atmosphere only integration using preindu...\n",
       "     title:                  IPSL-CM6A-LR model output prepared for CMIP6 / RF...\n",
       "     ...                     ...\n",
       "     EXPID:                  piClim-control\n",
       "     CMIP6_CV_version:       cv=6.2.3.5-2-g63b123e\n",
       "     dr2xml_md5sum:          92ddb3d0d8ce79f498d792fc8e559dcf\n",
       "     model_version:          6.1.6\n",
       "     activity_drs:           RFMIP\n",
       "     member_id:              r1i1p1f1,\n",
       " 'piClim-aer.clt': <xarray.Dataset> Size: 30MB\n",
       " Dimensions:      (lat: 143, lon: 144, time: 360, axis_nbounds: 2)\n",
       " Coordinates:\n",
       "   * lat          (lat) float32 572B -90.0 -88.73 -87.46 ... 87.46 88.73 90.0\n",
       "   * lon          (lon) float32 576B 0.0 2.5 5.0 7.5 ... 350.0 352.5 355.0 357.5\n",
       "   * time         (time) object 3kB 2014-01-16 12:00:00 ... 2043-12-16 12:00:00\n",
       " Dimensions without coordinates: axis_nbounds\n",
       " Data variables:\n",
       "     time_bounds  (time, axis_nbounds) object 6kB ...\n",
       "     clt          (time, lat, lon) float32 30MB ...\n",
       " Attributes: (12/53)\n",
       "     name:                   /ccc/work/cont003/gencmip6/p25sima/IGCM_OUT/LMDZO...\n",
       "     Conventions:            CF-1.7 CMIP-6.2\n",
       "     creation_date:          2018-10-19T12:43:03Z\n",
       "     tracking_id:            hdl:21.14100/90ce6a84-4600-45c9-b725-7913bfcbd018\n",
       "     description:            As in RFMIP-ERF-PI-Cntrl but with with present-da...\n",
       "     title:                  IPSL-CM6A-LR model output prepared for CMIP6 / RF...\n",
       "     ...                     ...\n",
       "     EXPID:                  piClim-aer\n",
       "     CMIP6_CV_version:       cv=6.2.3.5-2-g63b123e\n",
       "     dr2xml_md5sum:          92ddb3d0d8ce79f498d792fc8e559dcf\n",
       "     model_version:          6.1.6\n",
       "     activity_drs:           RFMIP\n",
       "     member_id:              r1i1p1f1,\n",
       " 'piClim-aer.rsut': <xarray.Dataset> Size: 30MB\n",
       " Dimensions:      (lat: 143, lon: 144, time: 360, axis_nbounds: 2)\n",
       " Coordinates:\n",
       "   * lat          (lat) float32 572B -90.0 -88.73 -87.46 ... 87.46 88.73 90.0\n",
       "   * lon          (lon) float32 576B 0.0 2.5 5.0 7.5 ... 350.0 352.5 355.0 357.5\n",
       "   * time         (time) object 3kB 2014-01-16 12:00:00 ... 2043-12-16 12:00:00\n",
       " Dimensions without coordinates: axis_nbounds\n",
       " Data variables:\n",
       "     time_bounds  (time, axis_nbounds) object 6kB ...\n",
       "     rsut         (time, lat, lon) float32 30MB ...\n",
       " Attributes: (12/53)\n",
       "     name:                   /ccc/work/cont003/gencmip6/p25sima/IGCM_OUT/LMDZO...\n",
       "     Conventions:            CF-1.7 CMIP-6.2\n",
       "     creation_date:          2018-10-19T12:43:02Z\n",
       "     tracking_id:            hdl:21.14100/9bc92053-2b06-44b0-b115-3d0bf95d94fc\n",
       "     description:            As in RFMIP-ERF-PI-Cntrl but with with present-da...\n",
       "     title:                  IPSL-CM6A-LR model output prepared for CMIP6 / RF...\n",
       "     ...                     ...\n",
       "     EXPID:                  piClim-aer\n",
       "     CMIP6_CV_version:       cv=6.2.3.5-2-g63b123e\n",
       "     dr2xml_md5sum:          92ddb3d0d8ce79f498d792fc8e559dcf\n",
       "     model_version:          6.1.6\n",
       "     activity_drs:           RFMIP\n",
       "     member_id:              r1i1p1f1,\n",
       " 'piClim-control.clt': <xarray.Dataset> Size: 30MB\n",
       " Dimensions:      (lat: 143, lon: 144, time: 360, axis_nbounds: 2)\n",
       " Coordinates:\n",
       "   * lat          (lat) float32 572B -90.0 -88.73 -87.46 ... 87.46 88.73 90.0\n",
       "   * lon          (lon) float32 576B 0.0 2.5 5.0 7.5 ... 350.0 352.5 355.0 357.5\n",
       "   * time         (time) object 3kB 2014-01-16 12:00:00 ... 2043-12-16 12:00:00\n",
       " Dimensions without coordinates: axis_nbounds\n",
       " Data variables:\n",
       "     time_bounds  (time, axis_nbounds) object 6kB ...\n",
       "     clt          (time, lat, lon) float32 30MB ...\n",
       " Attributes: (12/53)\n",
       "     name:                   /ccc/work/cont003/gencmip6/p25sima/IGCM_OUT/LMDZO...\n",
       "     Conventions:            CF-1.7 CMIP-6.2\n",
       "     creation_date:          2018-10-03T12:57:00Z\n",
       "     tracking_id:            hdl:21.14100/ac2b9185-e814-4298-9c1d-6ce3c7333b4e\n",
       "     description:            30-year atmosphere only integration using preindu...\n",
       "     title:                  IPSL-CM6A-LR model output prepared for CMIP6 / RF...\n",
       "     ...                     ...\n",
       "     EXPID:                  piClim-control\n",
       "     CMIP6_CV_version:       cv=6.2.3.5-2-g63b123e\n",
       "     dr2xml_md5sum:          92ddb3d0d8ce79f498d792fc8e559dcf\n",
       "     model_version:          6.1.6\n",
       "     activity_drs:           RFMIP\n",
       "     member_id:              r1i1p1f1,\n",
       " 'piClim-aer.rsutcs': <xarray.Dataset> Size: 30MB\n",
       " Dimensions:      (lat: 143, lon: 144, time: 360, axis_nbounds: 2)\n",
       " Coordinates:\n",
       "   * lat          (lat) float32 572B -90.0 -88.73 -87.46 ... 87.46 88.73 90.0\n",
       "   * lon          (lon) float32 576B 0.0 2.5 5.0 7.5 ... 350.0 352.5 355.0 357.5\n",
       "   * time         (time) object 3kB 2014-01-16 12:00:00 ... 2043-12-16 12:00:00\n",
       " Dimensions without coordinates: axis_nbounds\n",
       " Data variables:\n",
       "     time_bounds  (time, axis_nbounds) object 6kB ...\n",
       "     rsutcs       (time, lat, lon) float32 30MB ...\n",
       " Attributes: (12/53)\n",
       "     name:                   /ccc/work/cont003/gencmip6/p25sima/IGCM_OUT/LMDZO...\n",
       "     Conventions:            CF-1.7 CMIP-6.2\n",
       "     creation_date:          2018-10-19T12:43:02Z\n",
       "     tracking_id:            hdl:21.14100/efebca20-c09d-4a1f-9e8e-b000b11c28d3\n",
       "     description:            As in RFMIP-ERF-PI-Cntrl but with with present-da...\n",
       "     title:                  IPSL-CM6A-LR model output prepared for CMIP6 / RF...\n",
       "     ...                     ...\n",
       "     EXPID:                  piClim-aer\n",
       "     CMIP6_CV_version:       cv=6.2.3.5-2-g63b123e\n",
       "     dr2xml_md5sum:          92ddb3d0d8ce79f498d792fc8e559dcf\n",
       "     model_version:          6.1.6\n",
       "     activity_drs:           RFMIP\n",
       "     member_id:              r1i1p1f1,\n",
       " 'piClim-aer.rlds': <xarray.Dataset> Size: 30MB\n",
       " Dimensions:      (lat: 143, lon: 144, time: 360, axis_nbounds: 2)\n",
       " Coordinates:\n",
       "   * lat          (lat) float32 572B -90.0 -88.73 -87.46 ... 87.46 88.73 90.0\n",
       "   * lon          (lon) float32 576B 0.0 2.5 5.0 7.5 ... 350.0 352.5 355.0 357.5\n",
       "   * time         (time) object 3kB 2014-01-16 12:00:00 ... 2043-12-16 12:00:00\n",
       " Dimensions without coordinates: axis_nbounds\n",
       " Data variables:\n",
       "     time_bounds  (time, axis_nbounds) object 6kB ...\n",
       "     rlds         (time, lat, lon) float32 30MB ...\n",
       " Attributes: (12/53)\n",
       "     name:                   /ccc/work/cont003/gencmip6/p25sima/IGCM_OUT/LMDZO...\n",
       "     Conventions:            CF-1.7 CMIP-6.2\n",
       "     creation_date:          2018-10-19T12:43:02Z\n",
       "     tracking_id:            hdl:21.14100/71674546-cec7-4c2f-a80b-50a50b5ec73a\n",
       "     description:            As in RFMIP-ERF-PI-Cntrl but with with present-da...\n",
       "     title:                  IPSL-CM6A-LR model output prepared for CMIP6 / RF...\n",
       "     ...                     ...\n",
       "     EXPID:                  piClim-aer\n",
       "     CMIP6_CV_version:       cv=6.2.3.5-2-g63b123e\n",
       "     dr2xml_md5sum:          92ddb3d0d8ce79f498d792fc8e559dcf\n",
       "     model_version:          6.1.6\n",
       "     activity_drs:           RFMIP\n",
       "     member_id:              r1i1p1f1,\n",
       " 'piClim-aer.rlut': <xarray.Dataset> Size: 30MB\n",
       " Dimensions:      (lat: 143, lon: 144, time: 360, axis_nbounds: 2)\n",
       " Coordinates:\n",
       "   * lat          (lat) float32 572B -90.0 -88.73 -87.46 ... 87.46 88.73 90.0\n",
       "   * lon          (lon) float32 576B 0.0 2.5 5.0 7.5 ... 350.0 352.5 355.0 357.5\n",
       "   * time         (time) object 3kB 2014-01-16 12:00:00 ... 2043-12-16 12:00:00\n",
       " Dimensions without coordinates: axis_nbounds\n",
       " Data variables:\n",
       "     time_bounds  (time, axis_nbounds) object 6kB ...\n",
       "     rlut         (time, lat, lon) float32 30MB ...\n",
       " Attributes: (12/53)\n",
       "     name:                   /ccc/work/cont003/gencmip6/p25sima/IGCM_OUT/LMDZO...\n",
       "     Conventions:            CF-1.7 CMIP-6.2\n",
       "     creation_date:          2018-10-19T12:43:02Z\n",
       "     tracking_id:            hdl:21.14100/f100ab37-4638-462c-af07-643f6d91db5a\n",
       "     description:            As in RFMIP-ERF-PI-Cntrl but with with present-da...\n",
       "     title:                  IPSL-CM6A-LR model output prepared for CMIP6 / RF...\n",
       "     ...                     ...\n",
       "     EXPID:                  piClim-aer\n",
       "     CMIP6_CV_version:       cv=6.2.3.5-2-g63b123e\n",
       "     dr2xml_md5sum:          92ddb3d0d8ce79f498d792fc8e559dcf\n",
       "     model_version:          6.1.6\n",
       "     activity_drs:           RFMIP\n",
       "     member_id:              r1i1p1f1,\n",
       " 'piClim-control.rlds': <xarray.Dataset> Size: 30MB\n",
       " Dimensions:      (lat: 143, lon: 144, time: 360, axis_nbounds: 2)\n",
       " Coordinates:\n",
       "   * lat          (lat) float32 572B -90.0 -88.73 -87.46 ... 87.46 88.73 90.0\n",
       "   * lon          (lon) float32 576B 0.0 2.5 5.0 7.5 ... 350.0 352.5 355.0 357.5\n",
       "   * time         (time) object 3kB 2014-01-16 12:00:00 ... 2043-12-16 12:00:00\n",
       " Dimensions without coordinates: axis_nbounds\n",
       " Data variables:\n",
       "     time_bounds  (time, axis_nbounds) object 6kB ...\n",
       "     rlds         (time, lat, lon) float32 30MB ...\n",
       " Attributes: (12/53)\n",
       "     name:                   /ccc/work/cont003/gencmip6/p25sima/IGCM_OUT/LMDZO...\n",
       "     Conventions:            CF-1.7 CMIP-6.2\n",
       "     creation_date:          2018-10-03T12:57:00Z\n",
       "     tracking_id:            hdl:21.14100/f864ddd0-95bf-4034-b25c-aa2ea1715d73\n",
       "     description:            30-year atmosphere only integration using preindu...\n",
       "     title:                  IPSL-CM6A-LR model output prepared for CMIP6 / RF...\n",
       "     ...                     ...\n",
       "     EXPID:                  piClim-control\n",
       "     CMIP6_CV_version:       cv=6.2.3.5-2-g63b123e\n",
       "     dr2xml_md5sum:          92ddb3d0d8ce79f498d792fc8e559dcf\n",
       "     model_version:          6.1.6\n",
       "     activity_drs:           RFMIP\n",
       "     member_id:              r1i1p1f1,\n",
       " 'piClim-control.rsds': <xarray.Dataset> Size: 30MB\n",
       " Dimensions:      (lat: 143, lon: 144, time: 360, axis_nbounds: 2)\n",
       " Coordinates:\n",
       "   * lat          (lat) float32 572B -90.0 -88.73 -87.46 ... 87.46 88.73 90.0\n",
       "   * lon          (lon) float32 576B 0.0 2.5 5.0 7.5 ... 350.0 352.5 355.0 357.5\n",
       "   * time         (time) object 3kB 2014-01-16 12:00:00 ... 2043-12-16 12:00:00\n",
       " Dimensions without coordinates: axis_nbounds\n",
       " Data variables:\n",
       "     time_bounds  (time, axis_nbounds) object 6kB ...\n",
       "     rsds         (time, lat, lon) float32 30MB ...\n",
       " Attributes: (12/53)\n",
       "     name:                   /ccc/work/cont003/gencmip6/p25sima/IGCM_OUT/LMDZO...\n",
       "     Conventions:            CF-1.7 CMIP-6.2\n",
       "     creation_date:          2018-10-03T12:57:00Z\n",
       "     tracking_id:            hdl:21.14100/9f06b598-1e40-4a06-8ffc-8d8c1c4d00d4\n",
       "     description:            30-year atmosphere only integration using preindu...\n",
       "     title:                  IPSL-CM6A-LR model output prepared for CMIP6 / RF...\n",
       "     ...                     ...\n",
       "     EXPID:                  piClim-control\n",
       "     CMIP6_CV_version:       cv=6.2.3.5-2-g63b123e\n",
       "     dr2xml_md5sum:          92ddb3d0d8ce79f498d792fc8e559dcf\n",
       "     model_version:          6.1.6\n",
       "     activity_drs:           RFMIP\n",
       "     member_id:              r1i1p1f1,\n",
       " 'piClim-control.rsus': <xarray.Dataset> Size: 30MB\n",
       " Dimensions:      (lat: 143, lon: 144, time: 360, axis_nbounds: 2)\n",
       " Coordinates:\n",
       "   * lat          (lat) float32 572B -90.0 -88.73 -87.46 ... 87.46 88.73 90.0\n",
       "   * lon          (lon) float32 576B 0.0 2.5 5.0 7.5 ... 350.0 352.5 355.0 357.5\n",
       "   * time         (time) object 3kB 2014-01-16 12:00:00 ... 2043-12-16 12:00:00\n",
       " Dimensions without coordinates: axis_nbounds\n",
       " Data variables:\n",
       "     time_bounds  (time, axis_nbounds) object 6kB ...\n",
       "     rsus         (time, lat, lon) float32 30MB ...\n",
       " Attributes: (12/53)\n",
       "     name:                   /ccc/work/cont003/gencmip6/p25sima/IGCM_OUT/LMDZO...\n",
       "     Conventions:            CF-1.7 CMIP-6.2\n",
       "     creation_date:          2018-10-03T12:57:00Z\n",
       "     tracking_id:            hdl:21.14100/d20d65b1-948f-4b39-a3ab-9743dc7b6a21\n",
       "     description:            30-year atmosphere only integration using preindu...\n",
       "     title:                  IPSL-CM6A-LR model output prepared for CMIP6 / RF...\n",
       "     ...                     ...\n",
       "     EXPID:                  piClim-control\n",
       "     CMIP6_CV_version:       cv=6.2.3.5-2-g63b123e\n",
       "     dr2xml_md5sum:          92ddb3d0d8ce79f498d792fc8e559dcf\n",
       "     model_version:          6.1.6\n",
       "     activity_drs:           RFMIP\n",
       "     member_id:              r1i1p1f1}"
      ]
     },
     "execution_count": 65,
     "metadata": {},
     "output_type": "execute_result"
    }
   ],
   "source": [
    "dataset_dict"
   ]
  },
  {
   "cell_type": "code",
   "execution_count": null,
   "id": "39fb0cc0",
   "metadata": {},
   "outputs": [],
   "source": []
  }
 ],
 "metadata": {
  "kernelspec": {
   "display_name": "cmip6-download",
   "language": "python",
   "name": "cmip6-download"
  },
  "language_info": {
   "codemirror_mode": {
    "name": "ipython",
    "version": 3
   },
   "file_extension": ".py",
   "mimetype": "text/x-python",
   "name": "python",
   "nbconvert_exporter": "python",
   "pygments_lexer": "ipython3",
   "version": "3.13.2"
  }
 },
 "nbformat": 4,
 "nbformat_minor": 5
}
