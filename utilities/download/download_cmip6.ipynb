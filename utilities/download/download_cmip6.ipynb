{
 "cells": [
  {
   "cell_type": "markdown",
   "id": "5dc97a7c-a97e-4464-9d20-e22becb5685b",
   "metadata": {},
   "source": [
    "# Downloading an ensemble of CMIP6 data with a series of criterias thanks to intake-esgf"
   ]
  },
  {
   "cell_type": "markdown",
   "id": "ed8b1ede-2de5-487c-9602-6b1b339c6e44",
   "metadata": {},
   "source": [
    "---\n",
    "\n",
    "## Purpose of the notebook\n",
    "\n",
    "---"
   ]
  },
  {
   "cell_type": "markdown",
   "id": "2a42285e-309f-4a3a-8e6d-e8499d2c1112",
   "metadata": {},
   "source": [
    "This notebook aims at **downloading an ensemble of CMIP6 variables from python** thanks to a dictionnary of **user-defined criterias**.  \n",
    "\n",
    "All the links of the documents were accessed on the **25/03/2025**.\n",
    "\n",
    "It uses the *intake-esgf* library : https://github.com/esgf2-us/intake-esgf?tab=readme-ov-file. A beginner guide for this library can be found there : https://intake-esgf.readthedocs.io/en/latest/beginner.html.\n",
    "\n",
    "A detailed documentation for the CMIP6 can be found here : https://wcrp-cmip.org/cmip-model-and-experiment-documentation/.\n",
    "\n",
    "\n",
    "\n",
    "Feel free to share, use and improve the following code according to the provided license on the repository."
   ]
  },
  {
   "cell_type": "markdown",
   "id": "a63dc94a-da9d-4935-b2f2-980f174b2e94",
   "metadata": {},
   "source": [
    "---\n",
    "\n",
    "## Model outputs searched\n",
    "\n",
    "---"
   ]
  },
  {
   "cell_type": "markdown",
   "id": "01a3801d",
   "metadata": {},
   "source": [
    "Every search needs to be constrained by the attributes of the model outputs we are looking for. A detailed document listing these attributes can be found here : https://docs.google.com/document/d/1h0r8RZr_f3-8egBMMh7aqLwy3snpD6_MrDz1q8n5XUk/edit?tab=t.0."
   ]
  },
  {
   "cell_type": "markdown",
   "id": "79fed764-1686-4617-b8db-4eb9124a0030",
   "metadata": {},
   "source": [
    "### Experiments"
   ]
  },
  {
   "cell_type": "markdown",
   "id": "8e7090b8-596e-4ed9-bab7-6ace8abf1da2",
   "metadata": {},
   "source": [
    "We use two experiments realized during the CMIP6  : **piClim-control** and **piClim-aer**. These are both atmosphere-only climate model simulations in which sea surface temperatures (SSTs) and sea icea concentrations (SICs) are fixed at model-specific preindustrial climatological values. The description of the experiments can be found here : https://wcrp-cmip.github.io/CMIP6_CVs/docs/CMIP6_experiment_id.html.\n",
    "\n",
    "> **piClim-control** : assumes aerosols' burdens set to their preindustrial levels, it is the control experiment.\n",
    "> \n",
    "> **piClim-aer** : uses present-day, present-day being 2014, aerosols burdens' levels."
   ]
  },
  {
   "cell_type": "markdown",
   "id": "b9468df7-ef52-4b1f-a170-d8aaef381f57",
   "metadata": {},
   "source": [
    "### Variables"
   ]
  },
  {
   "cell_type": "markdown",
   "id": "a780d594-a1a1-4332-8a62-bb9aae82697f",
   "metadata": {},
   "source": [
    "The variable used are listed and explicited below according to : https://clipc-services.ceda.ac.uk/dreq/mipVars.html.\n",
    "\n",
    "> <span style=\"color:SkyBlue\">**clt**</span>  : Total cloud area fraction (%) for the whole atmospheric column\n",
    ">\n",
    "> <span style=\"color:gold\">**rsdt / rldt**</span> : Shortwave / Longwave radiation ($W/m^{2}$) **incident** at the TOA\n",
    "> \n",
    "> <span style=\"color:orange\">**rsut / rlut**</span> : Shortwave / Longwave radiation ($W/m^{2}$) **going out**  at the TOA\n",
    ">\n",
    "> <span style=\"color:orangered\">**rsutcs / rlutcs**</span> : Shortwave / Longwave radiation ($W/m^{2}$) **going out**  at TOA for **clear-sky conditions**\n",
    "> \n",
    "> <span style=\"color:Orchid\">**rsds / rlds**</span> : Shortwave / Longwave **downwelling** radiation ($W/m^{2}$) at the surface\n",
    "> \n",
    "> <span style=\"color:Indigo \">**rsdscs / rldscs**</span>  : Shortwave / Longwave **downwelling** radiation ($W/m^{2}$) at the surface for **clear-sky conditions**\n",
    "> \n",
    "> <span style=\"color:YellowGreen\">**rsus / rlus**</span> : Shortwave / Longwave **upwelling** radiation ($W/m^{2}$) at the surface\n",
    ">\n",
    "> <span style=\"color:Darkgreen\">**rsuscs / rluscs**</span>: Shortwave / Longwave **upwelling** radiation ($W/m^{2}$) at the surface for **clear-sky conditions**\n",
    ">\n",
    "> **areacella** : For every grid, the latitude-dependent surface associated to each grid point."
   ]
  },
  {
   "cell_type": "markdown",
   "id": "389886f6-2e8d-4d99-b4cc-71ebd86e01fb",
   "metadata": {},
   "source": [
    "### Table"
   ]
  },
  {
   "cell_type": "markdown",
   "id": "cf7a82e4-19a5-4bb9-aa5d-ccb2c6260107",
   "metadata": {},
   "source": [
    "The table sets how the variables are organized. We use the **AERmon** table. The details about the tables can be found here : https://clipc-services.ceda.ac.uk/dreq/index/miptable.html.\n",
    "\n",
    "> **Amon** stands for a set of monthly atmospheric data"
   ]
  },
  {
   "cell_type": "markdown",
   "id": "19fb1cc5-febe-4ebf-8dca-b8700098e548",
   "metadata": {},
   "source": [
    "---\n",
    "\n",
    "## Initialisation\n",
    "\n",
    "---"
   ]
  },
  {
   "cell_type": "markdown",
   "id": "cbdebe37-a1de-4df2-a44b-1115d2a8c4dd",
   "metadata": {},
   "source": [
    "### Importations"
   ]
  },
  {
   "cell_type": "markdown",
   "id": "bb63355f-8ed1-4a49-aef4-82919ba07cf8",
   "metadata": {},
   "source": [
    "We import the needed libraries."
   ]
  },
  {
   "cell_type": "code",
   "execution_count": 2,
   "id": "16dab12c-5141-4e6f-a908-aa5792b296ea",
   "metadata": {},
   "outputs": [
    {
     "ename": "ModuleNotFoundError",
     "evalue": "No module named 'folders_handle'",
     "output_type": "error",
     "traceback": [
      "\u001b[31m---------------------------------------------------------------------------\u001b[39m",
      "\u001b[31mModuleNotFoundError\u001b[39m                       Traceback (most recent call last)",
      "\u001b[36mCell\u001b[39m\u001b[36m \u001b[39m\u001b[32mIn[2]\u001b[39m\u001b[32m, line 11\u001b[39m\n\u001b[32m      7\u001b[39m \u001b[38;5;28;01mimport\u001b[39;00m\u001b[38;5;250m \u001b[39m\u001b[34;01mnumpy\u001b[39;00m\u001b[38;5;250m \u001b[39m\u001b[38;5;28;01mas\u001b[39;00m\u001b[38;5;250m \u001b[39m\u001b[34;01mnp\u001b[39;00m  \u001b[38;5;66;03m# to manage the pandas arrays\u001b[39;00m\n\u001b[32m      9\u001b[39m \u001b[38;5;28;01mimport\u001b[39;00m\u001b[38;5;250m \u001b[39m\u001b[34;01mos\u001b[39;00m  \u001b[38;5;66;03m# to get access to commands related to path setting and creation of directories\u001b[39;00m\n\u001b[32m---> \u001b[39m\u001b[32m11\u001b[39m \u001b[38;5;28;01mfrom\u001b[39;00m\u001b[38;5;250m \u001b[39m\u001b[34;01mfolders_handle\u001b[39;00m\u001b[34;01m.\u001b[39;00m\u001b[34;01mcreate\u001b[39;00m\u001b[38;5;250m \u001b[39m\u001b[38;5;28;01mimport\u001b[39;00m (\n\u001b[32m     12\u001b[39m     create_dir,\n\u001b[32m     13\u001b[39m )  \u001b[38;5;66;03m# function to create a cleaned downloading directory\u001b[39;00m\n",
      "\u001b[31mModuleNotFoundError\u001b[39m: No module named 'folders_handle'"
     ]
    }
   ],
   "source": [
    "# ================ IMPORTATIONS ================ #\n",
    "\n",
    "import intake_esgf  # this gives us access to the ESGF catalog to make queries\n",
    "\n",
    "import pandas as pd  # to manage the product of the search\n",
    "\n",
    "import numpy as np  # to manage the pandas arrays\n",
    "\n",
    "import os  # to get access to commands related to path setting and creation of directories\n",
    "\n",
    "from folders_handle.create import (\n",
    "    create_dir,\n",
    ")  # function to create a cleaned downloading directory"
   ]
  },
  {
   "cell_type": "code",
   "execution_count": 3,
   "id": "cd99e64b",
   "metadata": {},
   "outputs": [],
   "source": [
    "# temporary\n",
    "from utilities.download.folders_handle.create import create_dir"
   ]
  },
  {
   "cell_type": "markdown",
   "id": "9474b9b5-edeb-4cc5-829c-035af5c986ff",
   "metadata": {},
   "source": [
    "### Set our search criterias "
   ]
  },
  {
   "cell_type": "markdown",
   "id": "68d13d48-a18d-4f4c-ae0c-32719909fdc6",
   "metadata": {},
   "source": [
    "Here the user may define its search criterias. We create a dictionnary structure that we update with determined variables."
   ]
  },
  {
   "cell_type": "code",
   "execution_count": 4,
   "id": "d8159458-7777-4fe5-83af-84d953ea377f",
   "metadata": {},
   "outputs": [],
   "source": [
    "# ================ SEARCH CRITERIAS FOR OUR ANALYSIS ================ #\n",
    "\n",
    "### EXPERIMENTS ###\n",
    "\n",
    "experiment_id = [\n",
    "    \"piClim-control\",\n",
    "    \"piClim-aer\",\n",
    "]\n",
    "\n",
    "### VARIABLES ###\n",
    "\n",
    "variable_id = [\n",
    "    \"clt\",\n",
    "    \"rsdt\",\n",
    "    \"rsut\",\n",
    "    \"rsutcs\",\n",
    "    \"rsds\",\n",
    "    \"rsus\",\n",
    "    \"rsdscs\",\n",
    "    \"rsuscs\",\n",
    "    \"rlut\",\n",
    "    \"rlutcs\",\n",
    "    \"rlds\",\n",
    "    \"rlus\",\n",
    "]\n",
    "\n",
    "### TABLE ###\n",
    "\n",
    "table_id = \"Amon\""
   ]
  },
  {
   "cell_type": "markdown",
   "id": "39c9f4bd-93d4-48be-8384-917bc9a707c2",
   "metadata": {},
   "source": [
    "### Create the folder in which the data will be stored"
   ]
  },
  {
   "cell_type": "markdown",
   "id": "9c11ada8",
   "metadata": {},
   "source": [
    "Here the user can chose to create the folder to store the data. It will erase a pre-existing folder if the *do_we_clear* option is set to **True**. This can be quite slow if the data folder is already holding some heavy data."
   ]
  },
  {
   "cell_type": "code",
   "execution_count": 5,
   "id": "9a6e8437",
   "metadata": {},
   "outputs": [],
   "source": [
    "# ================ CHOSE IF WE CLEAR AN ALREADY EXISTING FOLDER ================ #\n",
    "\n",
    "do_we_clear = False"
   ]
  },
  {
   "cell_type": "code",
   "execution_count": 6,
   "id": "415429ca-8b8a-4fbb-9aa5-75775894c60c",
   "metadata": {},
   "outputs": [
    {
     "name": "stdout",
     "output_type": "stream",
     "text": [
      "The downloading folder CMIP6-DATA is under the path /home/jovyan/certainty-data/CMIP6-DATA.\n"
     ]
    }
   ],
   "source": [
    "# ================ CREATE THE FOLDER TO STORE THE DOWNLOADED DATA ================ #\n",
    "\n",
    "### DEFINE WHERE TO MOVE THE FILES AT THE END ###\n",
    "\n",
    "## Home directory ##\n",
    "\n",
    "homedir_path = os.path.expanduser(\"~\")\n",
    "\n",
    "## Parent directory ##\n",
    "\n",
    "parent_path = homedir_path + \"/certainty-data\"\n",
    "\n",
    "## Name of the created folder ##\n",
    "\n",
    "downloading_folder_name = \"CMIP6-DATA\"\n",
    "\n",
    "### CREATE THE DIRECTORY AND EMPTY IF MAKE_A_NEW_FOLDER ###\n",
    "\n",
    "downloading_path = create_dir(\n",
    "    parent_path=parent_path, name=downloading_folder_name, clear=do_we_clear\n",
    ")\n",
    "\n",
    "print(\n",
    "    \"The downloading folder {} is under the path {}.\".format(\n",
    "        downloading_folder_name, downloading_path\n",
    "    )\n",
    ")"
   ]
  },
  {
   "cell_type": "markdown",
   "id": "b10c8be4-7c3d-4206-8519-af1898501d0c",
   "metadata": {},
   "source": [
    "---\n",
    "## Configure the ESGFCatalog\n",
    "\n",
    "\n",
    "---"
   ]
  },
  {
   "cell_type": "markdown",
   "id": "2856c1ec-613e-414c-9690-086a43e26a16",
   "metadata": {},
   "source": [
    "The ESGFCatalog is initially parametrized with default values on may want to change. We will focus on three main changes :\n",
    "\n",
    "* **defining the nodes that the query will investigate** \n",
    "\n",
    "* **setting where the data will be downloaded** \n",
    "\n",
    "* **adding a path that is specific to our cluster to search for CMIP6 outputs locally** \n",
    "\n",
    "The default configuration of the catalog can be accessed through the following line of code. More details on the configuration may be found here : https://intake-esgf.readthedocs.io/en/latest/configure.html."
   ]
  },
  {
   "cell_type": "code",
   "execution_count": 7,
   "id": "a8a4a1db-5472-4a50-87d1-eb44f75d0218",
   "metadata": {},
   "outputs": [
    {
     "name": "stdout",
     "output_type": "stream",
     "text": [
      "additional_df_cols: []\n",
      "break_on_error: true\n",
      "download_db: ~/.config/intake-esgf/download.db\n",
      "esg_dataroot:\n",
      "- /p/css03/esgf_publish\n",
      "- /eagle/projects/ESGF2/esg_dataroot\n",
      "- /global/cfs/projectdirs/m3522/cmip6/\n",
      "globus_indices:\n",
      "  anl-dev: true\n",
      "  ornl-dev: true\n",
      "local_cache:\n",
      "- ~/.esgf/\n",
      "logfile: ~/.config/intake-esgf/esgf.log\n",
      "num_threads: 6\n",
      "solr_indices:\n",
      "  esg-dn1.nsc.liu.se: false\n",
      "  esgf-data.dkrz.de: false\n",
      "  esgf-node.ipsl.upmc.fr: false\n",
      "  esgf-node.llnl.gov: false\n",
      "  esgf-node.ornl.gov: false\n",
      "  esgf.ceda.ac.uk: false\n",
      "  esgf.nci.org.au: false\n",
      "\n"
     ]
    }
   ],
   "source": [
    "print(intake_esgf.conf)"
   ]
  },
  {
   "cell_type": "markdown",
   "id": "37676875-e50f-443d-98ef-50ef80c75b5a",
   "metadata": {},
   "source": [
    "There are some variables that are of interest to us :\n",
    "\n",
    "* The *solr_indices* and the *globus_indices* variables define on which nodes the query is realized. \n",
    "\n",
    "* The *local_cache* variable sets where the data will be downloaded.\n",
    "\n",
    "* The *esg_dataroot* variable sets local path to explore before downloading any data.\n",
    "\n",
    "We can see that, as said in the documentation of the intake_esgf library, the search is done by default with Globus-based indices at the holdings of OLCF (Oak Ridge Leadership Computing Facility) and ALCF (Argonne Leadership Computing Facility). We may extend the search to all the possible ESGF nodes in order to not miss any model output. Note that the solr nodes are way much slower than the globus ones.\n",
    "\n",
    "By default, the folder in which is stored the downloaded data is ~/.esgf/. This is a hidden folder in your home repository. It is more convenient, if you are working on a shared resource such as an institutional cluster or group workstation, to define it on a directory dedicated to data.\n",
    "\n",
    "Finally, if we are working on a cluster having some access to CMIP6 data, it is worth adding the path of this data in our cluster to avoid useless downloading.\n",
    "\n",
    "In the following part we will show how to modify these variables. \n",
    "\n",
    "**To decide if you want to modify them you need to set the following variables to True.**"
   ]
  },
  {
   "cell_type": "code",
   "execution_count": 8,
   "id": "01235f6e",
   "metadata": {},
   "outputs": [],
   "source": [
    "# ================ CONFIGURE THE ESGF CATALOG ================ #\n",
    "\n",
    "### USE ALL NODES FOR SEARCH ###\n",
    "\n",
    "all_indices = True\n",
    "\n",
    "### SET A NEW DOWNLOADING PATH ###\n",
    "\n",
    "set_new_downloading_path = True\n",
    "\n",
    "### SET A CLUSTER SPECIFIC CMIP6 PATH ###\n",
    "\n",
    "cluster_local_CMIP6_path = \"\""
   ]
  },
  {
   "cell_type": "markdown",
   "id": "d24386ed-c4b0-43fd-bb75-2ad48ef07bca",
   "metadata": {},
   "source": [
    "### Define the nodes for the research"
   ]
  },
  {
   "cell_type": "markdown",
   "id": "5732995b",
   "metadata": {},
   "source": [
    "We may decide to look at all the nodes. Note that the solr nodes are way much slower than the globus ones. "
   ]
  },
  {
   "cell_type": "code",
   "execution_count": 9,
   "id": "3b5f5807-44b0-4152-af85-c23a574394ac",
   "metadata": {},
   "outputs": [
    {
     "name": "stdout",
     "output_type": "stream",
     "text": [
      "We are looking at all the nodes.\n"
     ]
    }
   ],
   "source": [
    "intake_esgf.conf.set(all_indices=all_indices)\n",
    "\n",
    "if all_indices:\n",
    "\n",
    "    print(\"We are looking at all the nodes.\")\n",
    "\n",
    "else:\n",
    "\n",
    "    print(\"We are only looking at the globus nodes\")"
   ]
  },
  {
   "cell_type": "markdown",
   "id": "0137085e-e87b-4539-b175-ce77c775195b",
   "metadata": {},
   "source": [
    "### Set where the data will be downloaded"
   ]
  },
  {
   "cell_type": "code",
   "execution_count": 10,
   "id": "0e35ff08-7788-4199-8596-f977b9f9c783",
   "metadata": {},
   "outputs": [
    {
     "name": "stdout",
     "output_type": "stream",
     "text": [
      "The CMIP6 data will be downloaded at the path : ['/home/jovyan/certainty-data/CMIP6-DATA']\n"
     ]
    }
   ],
   "source": [
    "if set_new_downloading_path:\n",
    "\n",
    "    intake_esgf.conf.set(local_cache=downloading_path)\n",
    "\n",
    "    print(\n",
    "        \"The CMIP6 data will be downloaded at the path : {}\".format(\n",
    "            intake_esgf.conf[\"local_cache\"]\n",
    "        )\n",
    "    )"
   ]
  },
  {
   "cell_type": "markdown",
   "id": "28d4aaaf-d574-4f92-af6e-47c8d0673075",
   "metadata": {},
   "source": [
    "### Add a cluster-specific CMIP6 path"
   ]
  },
  {
   "cell_type": "code",
   "execution_count": null,
   "id": "74c98fe2-3864-4373-a6cd-ebbc2dded7fe",
   "metadata": {},
   "outputs": [
    {
     "name": "stdout",
     "output_type": "stream",
     "text": [
      "No local cluster-specific CMIP6 path\n"
     ]
    }
   ],
   "source": [
    "if cluster_local_CMIP6_path != \"\":\n",
    "\n",
    "    intake_esgf.conf.set(esg_dataroot=cluster_local_CMIP6_path)\n",
    "\n",
    "    print(\n",
    "        \"The CMIP6 data will be searched beforehand at the path : {}\".format(\n",
    "            intake_esgf.conf[\"esg_dataroot\"]\n",
    "        )\n",
    "    )\n",
    "\n",
    "else:\n",
    "    print(\"No local cluster-specific CMIP6 path\")"
   ]
  },
  {
   "cell_type": "markdown",
   "id": "589d5d09",
   "metadata": {},
   "source": [
    "### Print the new configuration"
   ]
  },
  {
   "cell_type": "code",
   "execution_count": 12,
   "id": "a08fbf98",
   "metadata": {},
   "outputs": [
    {
     "name": "stdout",
     "output_type": "stream",
     "text": [
      "additional_df_cols: []\n",
      "break_on_error: true\n",
      "download_db: ~/.config/intake-esgf/download.db\n",
      "esg_dataroot:\n",
      "- ''\n",
      "globus_indices:\n",
      "  anl-dev: true\n",
      "  ornl-dev: true\n",
      "local_cache:\n",
      "- /home/jovyan/certainty-data/CMIP6-DATA\n",
      "logfile: ~/.config/intake-esgf/esgf.log\n",
      "num_threads: 6\n",
      "solr_indices:\n",
      "  esg-dn1.nsc.liu.se: true\n",
      "  esgf-data.dkrz.de: true\n",
      "  esgf-node.ipsl.upmc.fr: true\n",
      "  esgf-node.llnl.gov: true\n",
      "  esgf-node.ornl.gov: true\n",
      "  esgf.ceda.ac.uk: true\n",
      "  esgf.nci.org.au: true\n",
      "\n"
     ]
    }
   ],
   "source": [
    "print(intake_esgf.conf)"
   ]
  },
  {
   "cell_type": "markdown",
   "id": "99a19cd6-d165-428f-984f-9133f7339dc9",
   "metadata": {},
   "source": [
    "---\n",
    "\n",
    "## Make the query to the ESGFCatalog\n",
    "\n",
    "---"
   ]
  },
  {
   "cell_type": "markdown",
   "id": "b380bc91-38b4-4748-9041-5c43fe523818",
   "metadata": {},
   "source": [
    "### Initialise the catalog"
   ]
  },
  {
   "cell_type": "markdown",
   "id": "5a145bbb-ad2d-4545-a8ed-625365507741",
   "metadata": {},
   "source": [
    "The catalog variable is initially empty and will be filled given the criterias that we will impose for the query. "
   ]
  },
  {
   "cell_type": "code",
   "execution_count": 13,
   "id": "f2d445ed-8924-4f62-ba7c-7e4644e0d1b9",
   "metadata": {},
   "outputs": [
    {
     "name": "stdout",
     "output_type": "stream",
     "text": [
      "Perform a search() to populate the catalog.\n"
     ]
    }
   ],
   "source": [
    "catalog = intake_esgf.ESGFCatalog()\n",
    "\n",
    "print(catalog)"
   ]
  },
  {
   "cell_type": "markdown",
   "id": "9e0d3079-ebc4-41a0-aa62-38c62de2e50c",
   "metadata": {},
   "source": [
    "### Constrain the catalog"
   ]
  },
  {
   "cell_type": "markdown",
   "id": "f25edd29",
   "metadata": {},
   "source": [
    "We apply the criterias defined earlier to the catalog."
   ]
  },
  {
   "cell_type": "code",
   "execution_count": 14,
   "id": "093ebabc-cb5d-48de-86d2-a45172e67696",
   "metadata": {},
   "outputs": [
    {
     "data": {
      "application/vnd.jupyter.widget-view+json": {
       "model_id": "535e7c6db9a9475e89b05055c54df6ba",
       "version_major": 2,
       "version_minor": 0
      },
      "text/plain": [
       "   Searching indices:   0%|          |0/9 [       ?index/s]"
      ]
     },
     "metadata": {},
     "output_type": "display_data"
    },
    {
     "name": "stderr",
     "output_type": "stream",
     "text": [
      "/home/jovyan/my-conda-envs/cmip6-download/lib/python3.13/site-packages/intake_esgf/catalog.py:298: UserWarning: SolrESGFIndex('esgf-node.llnl.gov') failed to return a response, results may be incomplete\n",
      "  warnings.warn(\n"
     ]
    },
    {
     "data": {
      "text/plain": [
       "Summary information for 825 results:\n",
       "mip_era                                                     [CMIP6]\n",
       "activity_drs                                    [RFMIP, AerChemMIP]\n",
       "institution_id    [NCC, NASA-GISS, CCCma, MRI, MPI-M, EC-Earth-C...\n",
       "source_id         [NorESM2-LM, GISS-E2-1-G, CanESM5, NorESM2-MM,...\n",
       "experiment_id                          [piClim-aer, piClim-control]\n",
       "member_id         [r1i1p2f1, r1i1p1f1, r1i1p1f2, r1i1p3f1, r1i1p...\n",
       "table_id                                                     [Amon]\n",
       "variable_id       [rsdt, rlut, rlus, rsuscs, rlutcs, rsut, rsds,...\n",
       "grid_label                                            [gn, gr, gr1]\n",
       "dtype: object"
      ]
     },
     "execution_count": 14,
     "metadata": {},
     "output_type": "execute_result"
    }
   ],
   "source": [
    "catalog.search(experiment_id=experiment_id, variable_id=variable_id, table_id=table_id)"
   ]
  },
  {
   "cell_type": "markdown",
   "id": "bc077191",
   "metadata": {},
   "source": [
    "### Convert the catalog results into a pandas dataframe"
   ]
  },
  {
   "cell_type": "markdown",
   "id": "6b067741",
   "metadata": {},
   "source": [
    "The resulting catalog can be converted to a pandas dataframe. This is convenient to isolate some properties of the catalog like the models that it has found also known as the *source_id*."
   ]
  },
  {
   "cell_type": "code",
   "execution_count": 15,
   "id": "1a2c7686",
   "metadata": {},
   "outputs": [
    {
     "name": "stdout",
     "output_type": "stream",
     "text": [
      "The list of found models' names is : \n",
      "['NorESM2-LM' 'GISS-E2-1-G' 'CanESM5' 'NorESM2-MM' 'MRI-ESM2-0'\n",
      " 'MPI-ESM1-2-LR' 'EC-Earth3' 'ACCESS-ESM1-5' 'CESM2' 'HadGEM3-GC31-LL'\n",
      " 'CNRM-ESM2-1' 'IPSL-CM6A-LR-INCA' 'IPSL-CM6A-LR' 'MPI-ESM-1-2-HAM'\n",
      " 'EC-Earth3-AerChem' 'MIROC6' 'GFDL-ESM4' 'UKESM1-0-LL' 'E3SM-2-0'\n",
      " 'BCC-ESM1' 'GFDL-CM4' 'CNRM-CM6-1' 'ACCESS-CM2' 'TaiESM1' 'CESM2-WACCM']\n"
     ]
    }
   ],
   "source": [
    "# ================ CONVERT TO PANDAS DATAFRAME ================ #\n",
    "\n",
    "initial_search_df = catalog.df\n",
    "\n",
    "### SHOW THE SOURCE_ID THAT APPEAR AT LEAST ONCE ###\n",
    "\n",
    "## Extract the list of the models' names ##\n",
    "\n",
    "# Retrieve the source_id column and take only one example for every duplicate #\n",
    "\n",
    "list_model_names = initial_search_df.source_id.unique()\n",
    "\n",
    "## Print the result ##\n",
    "\n",
    "print(\"The list of found models' names is : \\n{}\".format(list_model_names))"
   ]
  },
  {
   "cell_type": "markdown",
   "id": "c2028de0",
   "metadata": {},
   "source": [
    "### Regroup the results by model"
   ]
  },
  {
   "cell_type": "markdown",
   "id": "c4cc6fb3",
   "metadata": {},
   "source": [
    "The number of found results is very large. They are numerous duplicates that come from the different *member_id*  and *grid_label* available for each model. \n",
    "\n",
    "The *member_id* or *variant_label* is described by 4 indices defining an ensemble member: *r* for realization, *i* for initialization, *p* for physics, and *f* for forcing. These parameters define an ensemble of experiments that correspond to the main experiment conditions for a given model. Actually, modellers may initialize their model from a different point in time, change the parametrization of a given parameter and so on.\n",
    "\n",
    "Let's regroup the results according to **(model, variant, grid)** tuples. The result here is truncated."
   ]
  },
  {
   "cell_type": "code",
   "execution_count": 16,
   "id": "5f50635c",
   "metadata": {},
   "outputs": [
    {
     "name": "stdout",
     "output_type": "stream",
     "text": [
      "source_id          member_id  grid_label\n",
      "ACCESS-CM2         r1i1p1f1   gn            22\n",
      "ACCESS-ESM1-5      r1i1p1f1   gn            24\n",
      "BCC-ESM1           r1i1p1f1   gn            24\n",
      "CanESM5            r1i1p2f1   gn            24\n",
      "CESM2              r1i1p1f1   gn            24\n",
      "CESM2-WACCM        r1i2p1f1   gn            12\n",
      "CNRM-CM6-1         r1i1p1f2   gr            24\n",
      "CNRM-ESM2-1        r1i1p1f2   gr            24\n",
      "E3SM-2-0           r1i1p1f1   gr            12\n",
      "EC-Earth3          r1i1p1f1   gr            24\n",
      "                   r2i1p1f1   gr            24\n",
      "EC-Earth3-AerChem  r1i1p1f1   gr            20\n",
      "                   r1i1p4f1   gr            20\n",
      "GFDL-CM4           r1i1p1f1   gr1           24\n",
      "GFDL-ESM4          r1i1p1f1   gr1           19\n",
      "GISS-E2-1-G        r1i1p1f1   gn            24\n",
      "                   r1i1p1f2   gn            24\n",
      "                   r1i1p3f1   gn            24\n",
      "                   r1i1p3f2   gn            12\n",
      "HadGEM3-GC31-LL    r1i1p1f3   gn            24\n",
      "IPSL-CM6A-LR       r1i1p1f1   gr            24\n",
      "                   r2i1p1f1   gr            24\n",
      "                   r3i1p1f1   gr            24\n",
      "                   r4i1p1f1   gr            24\n",
      "                   r5i1p1f1   gr            12\n",
      "IPSL-CM6A-LR-INCA  r1i1p1f1   gr            24\n",
      "MIROC6             r1i1p1f1   gn            24\n",
      "                   r11i1p1f1  gn            24\n",
      "MPI-ESM-1-2-HAM    r1i1p1f1   gn            24\n",
      "MPI-ESM1-2-LR      r1i1p1f1   gn            12\n",
      "                   r2i1p1f1   gn            12\n",
      "                   r3i1p1f1   gn            12\n",
      "MRI-ESM2-0         r1i1p1f1   gn            24\n",
      "NorESM2-LM         r1i1p1f1   gn            24\n",
      "                   r1i1p2f1   gn            24\n",
      "                   r1i1p4f1   gn            24\n",
      "NorESM2-MM         r1i1p1f1   gn            24\n",
      "TaiESM1            r1i1p1f1   gn            12\n",
      "UKESM1-0-LL        r1i1p1f4   gn            24\n",
      "Name: project, dtype: int64\n"
     ]
    }
   ],
   "source": [
    "grouped_models = catalog.model_groups()\n",
    "\n",
    "print(grouped_models)"
   ]
  },
  {
   "cell_type": "markdown",
   "id": "fe084874",
   "metadata": {},
   "source": [
    "An interesting thing to note is the ultimate column that tells us the number of found results for a given model, variant and grid. In our case since we are looking for **12** variables for **two experiments**, the search will be deemed complete if we find **24 resulting files**.\n",
    "\n",
    "The next step is therefore to get rid of the incomplete results according to an user-defined criteria."
   ]
  },
  {
   "cell_type": "markdown",
   "id": "62922b20",
   "metadata": {},
   "source": [
    "### Investigate for a specific model lacking variables"
   ]
  },
  {
   "cell_type": "markdown",
   "id": "c05928fa",
   "metadata": {},
   "source": [
    "From what we have seen from the previous method, some models lack the expected number of variables. Thanks to the pandas' dataframe structure, we may investigate what are the variables missing for which experiment."
   ]
  },
  {
   "cell_type": "code",
   "execution_count": 94,
   "id": "f93d7824",
   "metadata": {},
   "outputs": [
    {
     "name": "stdout",
     "output_type": "stream",
     "text": [
      "Variables missing in both experiments of ACCESS-CM2.r1i1p1f1 : \n",
      "\n",
      "['rlus']\n"
     ]
    }
   ],
   "source": [
    "# ================ SEE WHAT VARIABLES ARE MISSING ================ #\n",
    "\n",
    "### LOOK AT A GIVEN MODEL ###\n",
    "\n",
    "## Define source_id and member_id ##\n",
    "\n",
    "# Source_id #\n",
    "\n",
    "looked_source_id = \"ACCESS-CM2\"\n",
    "\n",
    "# Member_id #\n",
    "\n",
    "looked_member_id = \"r1i1p1f1\"\n",
    "\n",
    "## Select the given source_id and member_id ##\n",
    "\n",
    "# Source_id #\n",
    "\n",
    "selected_source_id = initial_search_df[initial_search_df.source_id == looked_source_id]\n",
    "\n",
    "# Member_id #\n",
    "\n",
    "selected_model = selected_source_id[selected_source_id.member_id == looked_member_id]\n",
    "\n",
    "## Generate the variable_id series for the piClim-control experiment ##\n",
    "\n",
    "variable_id_for_control_exp = selected_model[selected_model.experiment_id == \"piClim-control\"].variable_id\n",
    "\n",
    "## Generate the variable_id series for the piClim-aer experiment ##\n",
    "\n",
    "variable_id_for_aer_exp = selected_model[selected_model.experiment_id == \"piClim-aer\"].variable_id\n",
    "\n",
    "### FIND VARIABLES THAT ARE MISSING FOR BOTH EXPERIMENTS ###\n",
    "\n",
    "## Make the criteria variable_id list as a panda series ##\n",
    "\n",
    "searched_variable_ids = pd.Series(variable_id, dtype = str)\n",
    "\n",
    "## Get the variables that are found in at least one experiment ##\n",
    "\n",
    "var_in_at_least_one = pd.Series(np.union1d(variable_id_for_control_exp, variable_id_for_aer_exp), dtype = str) \n",
    "\n",
    "## See the missing ones compared to the variable_id list ##\n",
    "\n",
    "print(\"Variables missing in both experiments of {}.{} : \\n\".format(looked_source_id, looked_member_id))\n",
    "\n",
    "missing_variables_from_both = searched_variable_ids[~searched_variable_ids.isin(var_in_at_least_one)].values\n",
    "\n",
    "print(missing_variables_from_both)\n",
    "\n",
    "### GET THE VARIABLES MISSING IN ONLY ONE EXPERIMENT ###\n",
    "\n",
    "## Extract the variables found in both experiments ##\n",
    "\n",
    "var_in_both = pd.Series(np.intersect1d(variable_id_for_control_exp, variable_id_for_aer_exp), dtype = str) \n",
    "\n",
    "## Get the variables not in common between the experiments ##\n",
    "\n",
    "# we keep the variables that are not in both experiments \n",
    "# by removing the ones that are found in both\n",
    "\n",
    "var_not_in_common = var_in_at_least_one[~var_in_at_least_one.isin(var_in_both)] \n",
    "\n",
    "## See the missing ones compared to the variable_id list ##\n",
    "\n",
    "missing_variables_not_in_common = searched_variable_ids[searched_variable_ids.isin(var_not_in_common)].values\n",
    "\n",
    "## Find the concerned experiment if missing_variables_not_in_common is not empty ##\n",
    "\n",
    "# Check if it's empty #\n",
    "\n",
    "if (missing_variables_not_in_common.size > 0) :\n",
    "\n",
    "    # Get the number of variables found for each experiment #\n",
    "\n",
    "    number_variables_control = len(variable_id_for_control_exp.values)\n",
    "\n",
    "    number_variables_aer = len(variable_id_for_aer_exp.values)\n",
    "\n",
    "    # Get the least furnished experiment #\n",
    "\n",
    "    if number_variables_control < number_variables_aer :\n",
    "\n",
    "        print(\"\\nOnly the control experiment of {}.{} is lacking these variables :\\n\".format(looked_source_id, looked_member_id))\n",
    "\n",
    "        print(missing_variables_not_in_common)\n",
    "\n",
    "    else :\n",
    "        \n",
    "        print(\"\\nOnly the aerosol experiment of {}.{} is lacking these variables :\\n\".format(looked_source_id, looked_member_id))\n",
    "\n",
    "        print(missing_variables_not_in_common)"
   ]
  },
  {
   "cell_type": "markdown",
   "id": "f90eaf6a",
   "metadata": {},
   "source": [
    "### Test some filters on the incomplete results"
   ]
  },
  {
   "cell_type": "markdown",
   "id": "02cb2ee9",
   "metadata": {},
   "source": [
    "The user may define an expected number of netcdf files for a given (model, variant,grid) tuple. In our case this is **24** as explained before. Let's impose this result by keeping only the results that match this condition. We will produce a panda series that will allow us to check if our filter is what we want.\n",
    "\n",
    "You may define a more refined filter for the results. Please look at the intake-esgf documentation for more information : https://intake-esgf.readthedocs.io/en/latest/modelgroups.html."
   ]
  },
  {
   "cell_type": "code",
   "execution_count": 15,
   "id": "d816ff37",
   "metadata": {},
   "outputs": [
    {
     "name": "stdout",
     "output_type": "stream",
     "text": [
      "source_id          member_id  grid_label\n",
      "ACCESS-ESM1-5      r1i1p1f1   gn            24\n",
      "BCC-ESM1           r1i1p1f1   gn            24\n",
      "CanESM5            r1i1p2f1   gn            24\n",
      "CESM2              r1i1p1f1   gn            24\n",
      "CNRM-CM6-1         r1i1p1f2   gr            24\n",
      "CNRM-ESM2-1        r1i1p1f2   gr            24\n",
      "EC-Earth3          r1i1p1f1   gr            24\n",
      "                   r2i1p1f1   gr            24\n",
      "GFDL-CM4           r1i1p1f1   gr1           24\n",
      "GISS-E2-1-G        r1i1p1f1   gn            24\n",
      "                   r1i1p1f2   gn            24\n",
      "                   r1i1p3f1   gn            24\n",
      "HadGEM3-GC31-LL    r1i1p1f3   gn            24\n",
      "IPSL-CM6A-LR       r1i1p1f1   gr            24\n",
      "                   r2i1p1f1   gr            24\n",
      "                   r3i1p1f1   gr            24\n",
      "                   r4i1p1f1   gr            24\n",
      "IPSL-CM6A-LR-INCA  r1i1p1f1   gr            24\n",
      "MIROC6             r1i1p1f1   gn            24\n",
      "                   r11i1p1f1  gn            24\n",
      "MPI-ESM-1-2-HAM    r1i1p1f1   gn            24\n",
      "MRI-ESM2-0         r1i1p1f1   gn            24\n",
      "NorESM2-LM         r1i1p1f1   gn            24\n",
      "                   r1i1p2f1   gn            24\n",
      "                   r1i1p4f1   gn            24\n",
      "NorESM2-MM         r1i1p1f1   gn            24\n",
      "UKESM1-0-LL        r1i1p1f4   gn            24\n",
      "Name: project, dtype: int64\n"
     ]
    }
   ],
   "source": [
    "# ================ TEST A FILTER BY GROUPING BY MODELS ================ #\n",
    "\n",
    "### SET THE EXPECTED NUMBER OF FILES ###\n",
    "\n",
    "expected_number_of_files = 24\n",
    "\n",
    "### FILTER THE INCOMPLETE RESULTS ACCORDING TO OUR CRITERIE ###\n",
    "\n",
    "filtered_results = grouped_models[grouped_models == expected_number_of_files]\n",
    "\n",
    "### PRINT THE FILTERED CATALOG ###\n",
    "\n",
    "print(filtered_results)"
   ]
  },
  {
   "cell_type": "markdown",
   "id": "06b2be0a",
   "metadata": {},
   "source": [
    "The result is a pandas series that we can manipulate as so. For example if we want to retrieve all the member_id and grid_label associated to a single modell like the *IPSL-CM6A-LR*"
   ]
  },
  {
   "cell_type": "code",
   "execution_count": null,
   "id": "d4e56605",
   "metadata": {},
   "outputs": [
    {
     "data": {
      "text/plain": [
       "member_id  grid_label\n",
       "r1i1p1f1   gr            24\n",
       "r2i1p1f1   gr            24\n",
       "r3i1p1f1   gr            24\n",
       "r4i1p1f1   gr            24\n",
       "Name: project, dtype: int64"
      ]
     },
     "execution_count": 17,
     "metadata": {},
     "output_type": "execute_result"
    }
   ],
   "source": [
    "filtered_results[\"IPSL-CM6A-LR\"]"
   ]
  },
  {
   "cell_type": "markdown",
   "id": "ea9d67fe",
   "metadata": {},
   "source": [
    "Good, let's have a look at the quantity of results we have left."
   ]
  },
  {
   "cell_type": "code",
   "execution_count": null,
   "id": "8332a924",
   "metadata": {},
   "outputs": [
    {
     "name": "stdout",
     "output_type": "stream",
     "text": [
      "The number of remaining (model, variant, grid) tuples is 25.\n"
     ]
    }
   ],
   "source": [
    "print(\n",
    "    \"The number of remaining (model, variant, grid) tuples is {}.\".format(\n",
    "        filtered_results.shape[0]\n",
    "    )\n",
    ")"
   ]
  },
  {
   "cell_type": "markdown",
   "id": "4980174f",
   "metadata": {},
   "source": [
    "### Applying the filter on the catalog"
   ]
  },
  {
   "cell_type": "markdown",
   "id": "59e9c50d",
   "metadata": {},
   "source": [
    "If that's satisfy us, we need to code a small function that will be **applied to the catalog**. The test will be executed on each model group that we have showed in the previous section."
   ]
  },
  {
   "cell_type": "code",
   "execution_count": null,
   "id": "ed2bac0e",
   "metadata": {},
   "outputs": [],
   "source": [
    "# ================ DEFINING THE FILTERING FUNCTION ================ #\n",
    "\n",
    "### SET THE EXPECTED NUMBER OF FILES ###\n",
    "\n",
    "expected_number_of_files = 24\n",
    "\n",
    "\n",
    "def filtering_function(model_group):\n",
    "    if len(model_group) == expected_number_of_files:\n",
    "        return True"
   ]
  },
  {
   "cell_type": "code",
   "execution_count": null,
   "id": "08053c4e",
   "metadata": {},
   "outputs": [],
   "source": [
    "catalog = catalog.remove_incomplete(filtering_function)"
   ]
  },
  {
   "cell_type": "code",
   "execution_count": null,
   "id": "479f196f",
   "metadata": {},
   "outputs": [],
   "source": [
    "catalog = catalog.remove_ensembles()"
   ]
  },
  {
   "cell_type": "markdown",
   "id": "c7907795",
   "metadata": {},
   "source": [
    "## Downloading the files and load a dictionnary in memory"
   ]
  },
  {
   "cell_type": "markdown",
   "id": "5b1e5884",
   "metadata": {},
   "source": [
    "The intake-esgf library proposes to store the found results in memory under the form of a dictionnary holding xarray datasets for every single netcdf file found. This process also saves the dictionnary at the previously defined local_cache path. \n",
    "\n",
    "By default, the package is looking for the **areacella** variable automatically. But it does it **rather slowly** and does not look first at what is stored on the local_cache. In our analysis, we would rather load the dictionnary with *add_measures* set to **False** and then download (and load) the areacella netcdf files apart with a homemade routine. An example of this process is given afterward.\n",
    "\n",
    "What's more, we may describe some facets as irrelevant to build the keys of the dictionnary. Indeed, by default, the intake_esgf package will build keys out of the facet values that are different among the entries in the output dictionary. But, some of these facets might not be of any interest for our analysis and we can drop them with the *ignore_facet*."
   ]
  },
  {
   "cell_type": "code",
   "execution_count": null,
   "id": "42bf9b3e",
   "metadata": {},
   "outputs": [
    {
     "data": {
      "application/vnd.jupyter.widget-view+json": {
       "model_id": "4a6ae0e6aff44dd1bafeb912c6a473df",
       "version_major": 2,
       "version_minor": 0
      },
      "text/plain": [
       "Get file information:   0%|          |0/2 [       ?index/s]"
      ]
     },
     "metadata": {},
     "output_type": "display_data"
    },
    {
     "name": "stdout",
     "output_type": "stream",
     "text": [
      "Downloading 14.6 [Gb]...\n"
     ]
    },
    {
     "data": {
      "application/vnd.jupyter.widget-view+json": {
       "model_id": "46b2416e34a54f3ca9063c5ffb8e990d",
       "version_major": 2,
       "version_minor": 0
      },
      "text/plain": [
       "rsutcs_Amon_NorESM2-LM_piClim-control...:   0%|          |0.00/4.32M [?B/s]"
      ]
     },
     "metadata": {},
     "output_type": "display_data"
    },
    {
     "data": {
      "application/vnd.jupyter.widget-view+json": {
       "model_id": "7e369cad749a459eb0abb11268142d5a",
       "version_major": 2,
       "version_minor": 0
      },
      "text/plain": [
       "rsuscs_Amon_NorESM2-LM_piClim-control...:   0%|          |0.00/4.25M [?B/s]"
      ]
     },
     "metadata": {},
     "output_type": "display_data"
    },
    {
     "data": {
      "application/vnd.jupyter.widget-view+json": {
       "model_id": "3baa8edb1d6e4fc4a39d9ac2fcc93ef3",
       "version_major": 2,
       "version_minor": 0
      },
      "text/plain": [
       "clt_Amon_NorESM2-LM_piClim-control_r1...:   0%|          |0.00/5.00M [?B/s]"
      ]
     },
     "metadata": {},
     "output_type": "display_data"
    },
    {
     "data": {
      "application/vnd.jupyter.widget-view+json": {
       "model_id": "667db2ab7cb048f092577aeee6ab4686",
       "version_major": 2,
       "version_minor": 0
      },
      "text/plain": [
       "rsuscs_Amon_NorESM2-LM_piClim-control...:   0%|          |0.00/4.25M [?B/s]"
      ]
     },
     "metadata": {},
     "output_type": "display_data"
    },
    {
     "data": {
      "application/vnd.jupyter.widget-view+json": {
       "model_id": "a9db713d3d01496f8191ca0f7534703c",
       "version_major": 2,
       "version_minor": 0
      },
      "text/plain": [
       "clt_Amon_GISS-E2-1-G_piClim-aer_r1i1p...:   0%|          |0.00/19.3M [?B/s]"
      ]
     },
     "metadata": {},
     "output_type": "display_data"
    },
    {
     "data": {
      "application/vnd.jupyter.widget-view+json": {
       "model_id": "db32509abe504c829e57267bff4cb9a2",
       "version_major": 2,
       "version_minor": 0
      },
      "text/plain": [
       "rsut_Amon_GISS-E2-1-G_piClim-aer_r1i1...:   0%|          |0.00/19.3M [?B/s]"
      ]
     },
     "metadata": {},
     "output_type": "display_data"
    },
    {
     "data": {
      "application/vnd.jupyter.widget-view+json": {
       "model_id": "22cca70f0339473faa20d2a204e36dc9",
       "version_major": 2,
       "version_minor": 0
      },
      "text/plain": [
       "rsus_Amon_GISS-E2-1-G_piClim-control_...:   0%|          |0.00/19.3M [?B/s]"
      ]
     },
     "metadata": {},
     "output_type": "display_data"
    },
    {
     "data": {
      "application/vnd.jupyter.widget-view+json": {
       "model_id": "32fa3b5120aa40b6a3a23ec6e0497e03",
       "version_major": 2,
       "version_minor": 0
      },
      "text/plain": [
       "rsutcs_Amon_GISS-E2-1-G_piClim-contro...:   0%|          |0.00/19.3M [?B/s]"
      ]
     },
     "metadata": {},
     "output_type": "display_data"
    },
    {
     "data": {
      "application/vnd.jupyter.widget-view+json": {
       "model_id": "77b3897e763f4dc1a59efaed9cd9ad73",
       "version_major": 2,
       "version_minor": 0
      },
      "text/plain": [
       "rlus_Amon_CanESM5_piClim-control_r1i1...:   0%|          |0.00/16.9M [?B/s]"
      ]
     },
     "metadata": {},
     "output_type": "display_data"
    },
    {
     "data": {
      "application/vnd.jupyter.widget-view+json": {
       "model_id": "a904d6f26a38416fbf4a9a81281c3bd4",
       "version_major": 2,
       "version_minor": 0
      },
      "text/plain": [
       "rsds_Amon_CanESM5_piClim-control_r1i1...:   0%|          |0.00/16.5M [?B/s]"
      ]
     },
     "metadata": {},
     "output_type": "display_data"
    },
    {
     "data": {
      "application/vnd.jupyter.widget-view+json": {
       "model_id": "0330fe0001494b918d27a866a42575e2",
       "version_major": 2,
       "version_minor": 0
      },
      "text/plain": [
       "rlutcs_Amon_NorESM2-MM_piClim-control...:   0%|          |0.00/15.8M [?B/s]"
      ]
     },
     "metadata": {},
     "output_type": "display_data"
    },
    {
     "data": {
      "application/vnd.jupyter.widget-view+json": {
       "model_id": "1034c86d315043be8b1c8b0605d684b1",
       "version_major": 2,
       "version_minor": 0
      },
      "text/plain": [
       "rsds_Amon_NorESM2-MM_piClim-control_r...:   0%|          |0.00/18.0M [?B/s]"
      ]
     },
     "metadata": {},
     "output_type": "display_data"
    },
    {
     "data": {
      "application/vnd.jupyter.widget-view+json": {
       "model_id": "6e4765a736fe42ab91efb7e6f376e2fb",
       "version_major": 2,
       "version_minor": 0
      },
      "text/plain": [
       "rlutcs_Amon_MRI-ESM2-0_piClim-aer_r1i...:   0%|          |0.00/44.6M [?B/s]"
      ]
     },
     "metadata": {},
     "output_type": "display_data"
    },
    {
     "data": {
      "application/vnd.jupyter.widget-view+json": {
       "model_id": "04c29bf76e8e4d00950696b79ae8ecc7",
       "version_major": 2,
       "version_minor": 0
      },
      "text/plain": [
       "rlus_Amon_MRI-ESM2-0_piClim-aer_r1i1p...:   0%|          |0.00/1.61M [?B/s]"
      ]
     },
     "metadata": {},
     "output_type": "display_data"
    },
    {
     "data": {
      "application/vnd.jupyter.widget-view+json": {
       "model_id": "704d8ccec2ac47f18d625f7921894561",
       "version_major": 2,
       "version_minor": 0
      },
      "text/plain": [
       "rsdt_Amon_MRI-ESM2-0_piClim-aer_r1i1p...:   0%|          |0.00/347k [?B/s]"
      ]
     },
     "metadata": {},
     "output_type": "display_data"
    },
    {
     "data": {
      "application/vnd.jupyter.widget-view+json": {
       "model_id": "94d1487972cf40f780882bf4bcc02d6a",
       "version_major": 2,
       "version_minor": 0
      },
      "text/plain": [
       "rlds_Amon_EC-Earth3_piClim-aer_r1i1p1...:   0%|          |0.00/5.26M [?B/s]"
      ]
     },
     "metadata": {},
     "output_type": "display_data"
    },
    {
     "data": {
      "application/vnd.jupyter.widget-view+json": {
       "model_id": "248d494e1160473f92a4cc1018a77912",
       "version_major": 2,
       "version_minor": 0
      },
      "text/plain": [
       "rlds_Amon_EC-Earth3_piClim-aer_r1i1p1...:   0%|          |0.00/5.26M [?B/s]"
      ]
     },
     "metadata": {},
     "output_type": "display_data"
    },
    {
     "data": {
      "application/vnd.jupyter.widget-view+json": {
       "model_id": "2325ec664f2e4ddda4f5a6e2d4b4ace9",
       "version_major": 2,
       "version_minor": 0
      },
      "text/plain": [
       "rlds_Amon_EC-Earth3_piClim-aer_r1i1p1...:   0%|          |0.00/5.26M [?B/s]"
      ]
     },
     "metadata": {},
     "output_type": "display_data"
    },
    {
     "data": {
      "application/vnd.jupyter.widget-view+json": {
       "model_id": "5f9bd79210b0430da13562e9c3ad454a",
       "version_major": 2,
       "version_minor": 0
      },
      "text/plain": [
       "rlds_Amon_EC-Earth3_piClim-aer_r1i1p1...:   0%|          |0.00/5.25M [?B/s]"
      ]
     },
     "metadata": {},
     "output_type": "display_data"
    },
    {
     "data": {
      "application/vnd.jupyter.widget-view+json": {
       "model_id": "7a0be38987a14e72afcc3ade590d489d",
       "version_major": 2,
       "version_minor": 0
      },
      "text/plain": [
       "rlus_Amon_EC-Earth3_piClim-aer_r1i1p1...:   0%|          |0.00/5.19M [?B/s]"
      ]
     },
     "metadata": {},
     "output_type": "display_data"
    },
    {
     "data": {
      "application/vnd.jupyter.widget-view+json": {
       "model_id": "e206f68d72da4aa2ad7f7eac744907be",
       "version_major": 2,
       "version_minor": 0
      },
      "text/plain": [
       "rlus_Amon_EC-Earth3_piClim-aer_r1i1p1...:   0%|          |0.00/5.19M [?B/s]"
      ]
     },
     "metadata": {},
     "output_type": "display_data"
    },
    {
     "data": {
      "application/vnd.jupyter.widget-view+json": {
       "model_id": "9a237e4faf3443d487bbb17c0b9787c5",
       "version_major": 2,
       "version_minor": 0
      },
      "text/plain": [
       "rlus_Amon_EC-Earth3_piClim-aer_r1i1p1...:   0%|          |0.00/5.19M [?B/s]"
      ]
     },
     "metadata": {},
     "output_type": "display_data"
    },
    {
     "data": {
      "application/vnd.jupyter.widget-view+json": {
       "model_id": "cf98203682c341dead54796c264bc2fa",
       "version_major": 2,
       "version_minor": 0
      },
      "text/plain": [
       "rlus_Amon_EC-Earth3_piClim-aer_r1i1p1...:   0%|          |0.00/5.19M [?B/s]"
      ]
     },
     "metadata": {},
     "output_type": "display_data"
    },
    {
     "data": {
      "application/vnd.jupyter.widget-view+json": {
       "model_id": "e4af61eaca81445f94480f3e06745e6a",
       "version_major": 2,
       "version_minor": 0
      },
      "text/plain": [
       "rlut_Amon_EC-Earth3_piClim-aer_r1i1p1...:   0%|          |0.00/5.23M [?B/s]"
      ]
     },
     "metadata": {},
     "output_type": "display_data"
    },
    {
     "data": {
      "application/vnd.jupyter.widget-view+json": {
       "model_id": "bf58d8b0600142ef95183a98d377a979",
       "version_major": 2,
       "version_minor": 0
      },
      "text/plain": [
       "rlut_Amon_EC-Earth3_piClim-aer_r1i1p1...:   0%|          |0.00/5.22M [?B/s]"
      ]
     },
     "metadata": {},
     "output_type": "display_data"
    },
    {
     "data": {
      "application/vnd.jupyter.widget-view+json": {
       "model_id": "1602763806b145a48bb86e173d69c43a",
       "version_major": 2,
       "version_minor": 0
      },
      "text/plain": [
       "rlutcs_Amon_EC-Earth3_piClim-aer_r1i1...:   0%|          |0.00/5.08M [?B/s]"
      ]
     },
     "metadata": {},
     "output_type": "display_data"
    },
    {
     "data": {
      "application/vnd.jupyter.widget-view+json": {
       "model_id": "d8b09fd9a2f2486c82df9193f334d721",
       "version_major": 2,
       "version_minor": 0
      },
      "text/plain": [
       "rlutcs_Amon_EC-Earth3_piClim-aer_r1i1...:   0%|          |0.00/5.08M [?B/s]"
      ]
     },
     "metadata": {},
     "output_type": "display_data"
    },
    {
     "data": {
      "application/vnd.jupyter.widget-view+json": {
       "model_id": "9178eb73ac0b44cc86832c802af13088",
       "version_major": 2,
       "version_minor": 0
      },
      "text/plain": [
       "rsds_Amon_EC-Earth3_piClim-aer_r1i1p1...:   0%|          |0.00/5.07M [?B/s]"
      ]
     },
     "metadata": {},
     "output_type": "display_data"
    },
    {
     "data": {
      "application/vnd.jupyter.widget-view+json": {
       "model_id": "19f2687e079949e4abadc04184c20449",
       "version_major": 2,
       "version_minor": 0
      },
      "text/plain": [
       "rsdscs_Amon_EC-Earth3_piClim-aer_r1i1...:   0%|          |0.00/4.88M [?B/s]"
      ]
     },
     "metadata": {},
     "output_type": "display_data"
    },
    {
     "data": {
      "application/vnd.jupyter.widget-view+json": {
       "model_id": "54b4f4bee99643b09537747af144ffd0",
       "version_major": 2,
       "version_minor": 0
      },
      "text/plain": [
       "rsdscs_Amon_EC-Earth3_piClim-aer_r1i1...:   0%|          |0.00/4.89M [?B/s]"
      ]
     },
     "metadata": {},
     "output_type": "display_data"
    },
    {
     "data": {
      "application/vnd.jupyter.widget-view+json": {
       "model_id": "d80246d8646f438c9905b667abf80159",
       "version_major": 2,
       "version_minor": 0
      },
      "text/plain": [
       "rsdscs_Amon_EC-Earth3_piClim-aer_r1i1...:   0%|          |0.00/4.88M [?B/s]"
      ]
     },
     "metadata": {},
     "output_type": "display_data"
    },
    {
     "data": {
      "application/vnd.jupyter.widget-view+json": {
       "model_id": "0b9cd7b5f90c4566870694407db9531a",
       "version_major": 2,
       "version_minor": 0
      },
      "text/plain": [
       "rsdscs_Amon_EC-Earth3_piClim-aer_r1i1...:   0%|          |0.00/4.88M [?B/s]"
      ]
     },
     "metadata": {},
     "output_type": "display_data"
    },
    {
     "data": {
      "application/vnd.jupyter.widget-view+json": {
       "model_id": "32446cfec036472996eeb129f84e4ef9",
       "version_major": 2,
       "version_minor": 0
      },
      "text/plain": [
       "rsdscs_Amon_EC-Earth3_piClim-aer_r1i1...:   0%|          |0.00/4.88M [?B/s]"
      ]
     },
     "metadata": {},
     "output_type": "display_data"
    },
    {
     "data": {
      "application/vnd.jupyter.widget-view+json": {
       "model_id": "c86c24d16184415e8c34d6aa2bd137b2",
       "version_major": 2,
       "version_minor": 0
      },
      "text/plain": [
       "rsdt_Amon_EC-Earth3_piClim-aer_r1i1p1...:   0%|          |0.00/4.02M [?B/s]"
      ]
     },
     "metadata": {},
     "output_type": "display_data"
    },
    {
     "data": {
      "application/vnd.jupyter.widget-view+json": {
       "model_id": "aa0f9957f401404e825c4156bf79784f",
       "version_major": 2,
       "version_minor": 0
      },
      "text/plain": [
       "rsdt_Amon_EC-Earth3_piClim-aer_r1i1p1...:   0%|          |0.00/4.02M [?B/s]"
      ]
     },
     "metadata": {},
     "output_type": "display_data"
    },
    {
     "data": {
      "application/vnd.jupyter.widget-view+json": {
       "model_id": "f2885e99d80d4ba89a093c35e5a19e09",
       "version_major": 2,
       "version_minor": 0
      },
      "text/plain": [
       "rsdt_Amon_EC-Earth3_piClim-aer_r1i1p1...:   0%|          |0.00/4.02M [?B/s]"
      ]
     },
     "metadata": {},
     "output_type": "display_data"
    },
    {
     "data": {
      "application/vnd.jupyter.widget-view+json": {
       "model_id": "aa50d88f485f4d8991ccd1e49a882708",
       "version_major": 2,
       "version_minor": 0
      },
      "text/plain": [
       "rsus_Amon_EC-Earth3_piClim-aer_r1i1p1...:   0%|          |0.00/5.17M [?B/s]"
      ]
     },
     "metadata": {},
     "output_type": "display_data"
    },
    {
     "data": {
      "application/vnd.jupyter.widget-view+json": {
       "model_id": "0ec697d3b57e4840803fd96645aaea7c",
       "version_major": 2,
       "version_minor": 0
      },
      "text/plain": [
       "rsus_Amon_EC-Earth3_piClim-aer_r1i1p1...:   0%|          |0.00/5.17M [?B/s]"
      ]
     },
     "metadata": {},
     "output_type": "display_data"
    },
    {
     "data": {
      "application/vnd.jupyter.widget-view+json": {
       "model_id": "1bb30b61a087452d804186dc2ed86ecf",
       "version_major": 2,
       "version_minor": 0
      },
      "text/plain": [
       "rsus_Amon_EC-Earth3_piClim-aer_r1i1p1...:   0%|          |0.00/5.17M [?B/s]"
      ]
     },
     "metadata": {},
     "output_type": "display_data"
    },
    {
     "data": {
      "application/vnd.jupyter.widget-view+json": {
       "model_id": "a0e545ee09b34be0a2f18dfe91ccb535",
       "version_major": 2,
       "version_minor": 0
      },
      "text/plain": [
       "rsus_Amon_EC-Earth3_piClim-aer_r1i1p1...:   0%|          |0.00/5.17M [?B/s]"
      ]
     },
     "metadata": {},
     "output_type": "display_data"
    },
    {
     "data": {
      "application/vnd.jupyter.widget-view+json": {
       "model_id": "c9a2408660c840d78f5b9d0f8696716d",
       "version_major": 2,
       "version_minor": 0
      },
      "text/plain": [
       "rsus_Amon_EC-Earth3_piClim-aer_r1i1p1...:   0%|          |0.00/5.17M [?B/s]"
      ]
     },
     "metadata": {},
     "output_type": "display_data"
    },
    {
     "data": {
      "application/vnd.jupyter.widget-view+json": {
       "model_id": "2488af9515464ce4a8267ae1e3940623",
       "version_major": 2,
       "version_minor": 0
      },
      "text/plain": [
       "rsuscs_Amon_EC-Earth3_piClim-aer_r1i1...:   0%|          |0.00/5.17M [?B/s]"
      ]
     },
     "metadata": {},
     "output_type": "display_data"
    },
    {
     "data": {
      "application/vnd.jupyter.widget-view+json": {
       "model_id": "fcaaf8ef99b54a7ea839e5b633aac185",
       "version_major": 2,
       "version_minor": 0
      },
      "text/plain": [
       "rsus_Amon_EC-Earth3_piClim-aer_r1i1p1...:   0%|          |0.00/5.17M [?B/s]"
      ]
     },
     "metadata": {},
     "output_type": "display_data"
    },
    {
     "data": {
      "application/vnd.jupyter.widget-view+json": {
       "model_id": "99953fdfe6f2407e9c656f524b88b259",
       "version_major": 2,
       "version_minor": 0
      },
      "text/plain": [
       "rsuscs_Amon_EC-Earth3_piClim-aer_r1i1...:   0%|          |0.00/5.17M [?B/s]"
      ]
     },
     "metadata": {},
     "output_type": "display_data"
    },
    {
     "data": {
      "application/vnd.jupyter.widget-view+json": {
       "model_id": "f4f11fea555941dba38bdc66ffa94cdd",
       "version_major": 2,
       "version_minor": 0
      },
      "text/plain": [
       "rsuscs_Amon_EC-Earth3_piClim-aer_r1i1...:   0%|          |0.00/5.16M [?B/s]"
      ]
     },
     "metadata": {},
     "output_type": "display_data"
    },
    {
     "data": {
      "application/vnd.jupyter.widget-view+json": {
       "model_id": "ad9614d694794c9a872adca6401f9e84",
       "version_major": 2,
       "version_minor": 0
      },
      "text/plain": [
       "rsuscs_Amon_EC-Earth3_piClim-aer_r1i1...:   0%|          |0.00/5.17M [?B/s]"
      ]
     },
     "metadata": {},
     "output_type": "display_data"
    },
    {
     "data": {
      "application/vnd.jupyter.widget-view+json": {
       "model_id": "36f46d561e3b4d0d8c5d13546e3b43e3",
       "version_major": 2,
       "version_minor": 0
      },
      "text/plain": [
       "rsuscs_Amon_EC-Earth3_piClim-aer_r1i1...:   0%|          |0.00/5.17M [?B/s]"
      ]
     },
     "metadata": {},
     "output_type": "display_data"
    },
    {
     "data": {
      "application/vnd.jupyter.widget-view+json": {
       "model_id": "2c8bd666f5e24b779689f4083539f0f9",
       "version_major": 2,
       "version_minor": 0
      },
      "text/plain": [
       "rsut_Amon_EC-Earth3_piClim-aer_r1i1p1...:   0%|          |0.00/5.11M [?B/s]"
      ]
     },
     "metadata": {},
     "output_type": "display_data"
    },
    {
     "data": {
      "application/vnd.jupyter.widget-view+json": {
       "model_id": "974667197bce48d8805451c50c163929",
       "version_major": 2,
       "version_minor": 0
      },
      "text/plain": [
       "rsut_Amon_EC-Earth3_piClim-aer_r1i1p1...:   0%|          |0.00/5.11M [?B/s]"
      ]
     },
     "metadata": {},
     "output_type": "display_data"
    },
    {
     "data": {
      "application/vnd.jupyter.widget-view+json": {
       "model_id": "d4dff75864984474912e9bed23a19c3d",
       "version_major": 2,
       "version_minor": 0
      },
      "text/plain": [
       "rsutcs_Amon_EC-Earth3_piClim-aer_r1i1...:   0%|          |0.00/4.98M [?B/s]"
      ]
     },
     "metadata": {},
     "output_type": "display_data"
    },
    {
     "data": {
      "application/vnd.jupyter.widget-view+json": {
       "model_id": "fd6e0ed056d84064b86da04c8840721c",
       "version_major": 2,
       "version_minor": 0
      },
      "text/plain": [
       "rsutcs_Amon_EC-Earth3_piClim-aer_r1i1...:   0%|          |0.00/4.99M [?B/s]"
      ]
     },
     "metadata": {},
     "output_type": "display_data"
    },
    {
     "data": {
      "application/vnd.jupyter.widget-view+json": {
       "model_id": "e9a2f783ba9a4966b0d3e9ec4262c36c",
       "version_major": 2,
       "version_minor": 0
      },
      "text/plain": [
       "rsutcs_Amon_EC-Earth3_piClim-aer_r1i1...:   0%|          |0.00/4.98M [?B/s]"
      ]
     },
     "metadata": {},
     "output_type": "display_data"
    },
    {
     "data": {
      "application/vnd.jupyter.widget-view+json": {
       "model_id": "2521d2e521f2470f9e017b99a589899f",
       "version_major": 2,
       "version_minor": 0
      },
      "text/plain": [
       "clt_Amon_EC-Earth3_piClim-aer_r1i1p1f...:   0%|          |0.00/5.35M [?B/s]"
      ]
     },
     "metadata": {},
     "output_type": "display_data"
    },
    {
     "data": {
      "application/vnd.jupyter.widget-view+json": {
       "model_id": "486b1b8cde214a048be65b4ec011dfdc",
       "version_major": 2,
       "version_minor": 0
      },
      "text/plain": [
       "clt_Amon_EC-Earth3_piClim-aer_r1i1p1f...:   0%|          |0.00/5.35M [?B/s]"
      ]
     },
     "metadata": {},
     "output_type": "display_data"
    },
    {
     "data": {
      "application/vnd.jupyter.widget-view+json": {
       "model_id": "350d85a8656e4abcbf21cba81ccd9cd2",
       "version_major": 2,
       "version_minor": 0
      },
      "text/plain": [
       "clt_Amon_EC-Earth3_piClim-aer_r1i1p1f...:   0%|          |0.00/5.35M [?B/s]"
      ]
     },
     "metadata": {},
     "output_type": "display_data"
    },
    {
     "data": {
      "application/vnd.jupyter.widget-view+json": {
       "model_id": "570abbac7c1d4c24af02064c72ae0561",
       "version_major": 2,
       "version_minor": 0
      },
      "text/plain": [
       "clt_Amon_EC-Earth3_piClim-control_r1i...:   0%|          |0.00/5.35M [?B/s]"
      ]
     },
     "metadata": {},
     "output_type": "display_data"
    },
    {
     "data": {
      "application/vnd.jupyter.widget-view+json": {
       "model_id": "2d28b69578ea463cb4ed9da45c82f79d",
       "version_major": 2,
       "version_minor": 0
      },
      "text/plain": [
       "clt_Amon_EC-Earth3_piClim-control_r1i...:   0%|          |0.00/5.35M [?B/s]"
      ]
     },
     "metadata": {},
     "output_type": "display_data"
    },
    {
     "data": {
      "application/vnd.jupyter.widget-view+json": {
       "model_id": "f356fd5d7678461c948927f2927462a8",
       "version_major": 2,
       "version_minor": 0
      },
      "text/plain": [
       "clt_Amon_EC-Earth3_piClim-control_r1i...:   0%|          |0.00/5.35M [?B/s]"
      ]
     },
     "metadata": {},
     "output_type": "display_data"
    },
    {
     "data": {
      "application/vnd.jupyter.widget-view+json": {
       "model_id": "0568e0074b25462391b5c8952df91cb3",
       "version_major": 2,
       "version_minor": 0
      },
      "text/plain": [
       "rlds_Amon_EC-Earth3_piClim-control_r1...:   0%|          |0.00/5.25M [?B/s]"
      ]
     },
     "metadata": {},
     "output_type": "display_data"
    },
    {
     "data": {
      "application/vnd.jupyter.widget-view+json": {
       "model_id": "70004da89c814454a84d0df763ff4ec0",
       "version_major": 2,
       "version_minor": 0
      },
      "text/plain": [
       "rlds_Amon_EC-Earth3_piClim-control_r1...:   0%|          |0.00/5.25M [?B/s]"
      ]
     },
     "metadata": {},
     "output_type": "display_data"
    },
    {
     "data": {
      "application/vnd.jupyter.widget-view+json": {
       "model_id": "f8198f2bc0864ecda8d7afec2ddb5c7e",
       "version_major": 2,
       "version_minor": 0
      },
      "text/plain": [
       "rlds_Amon_EC-Earth3_piClim-control_r1...:   0%|          |0.00/5.26M [?B/s]"
      ]
     },
     "metadata": {},
     "output_type": "display_data"
    },
    {
     "data": {
      "application/vnd.jupyter.widget-view+json": {
       "model_id": "9b88c484a04a40929a0cfc4808635c72",
       "version_major": 2,
       "version_minor": 0
      },
      "text/plain": [
       "rlds_Amon_EC-Earth3_piClim-control_r1...:   0%|          |0.00/5.26M [?B/s]"
      ]
     },
     "metadata": {},
     "output_type": "display_data"
    },
    {
     "data": {
      "application/vnd.jupyter.widget-view+json": {
       "model_id": "cd1362b7322248499b6f443d1a1f18c1",
       "version_major": 2,
       "version_minor": 0
      },
      "text/plain": [
       "rlus_Amon_EC-Earth3_piClim-control_r1...:   0%|          |0.00/5.19M [?B/s]"
      ]
     },
     "metadata": {},
     "output_type": "display_data"
    },
    {
     "data": {
      "application/vnd.jupyter.widget-view+json": {
       "model_id": "599cfe651ae340ffbfe28b3d3ae8f5fb",
       "version_major": 2,
       "version_minor": 0
      },
      "text/plain": [
       "rlds_Amon_EC-Earth3_piClim-control_r1...:   0%|          |0.00/5.25M [?B/s]"
      ]
     },
     "metadata": {},
     "output_type": "display_data"
    },
    {
     "data": {
      "application/vnd.jupyter.widget-view+json": {
       "model_id": "4bc5aedae6414224b7d3fcfe23072e96",
       "version_major": 2,
       "version_minor": 0
      },
      "text/plain": [
       "rlus_Amon_EC-Earth3_piClim-control_r1...:   0%|          |0.00/5.19M [?B/s]"
      ]
     },
     "metadata": {},
     "output_type": "display_data"
    },
    {
     "data": {
      "application/vnd.jupyter.widget-view+json": {
       "model_id": "827f0684e73b419b8adc4162c907ce45",
       "version_major": 2,
       "version_minor": 0
      },
      "text/plain": [
       "rlus_Amon_EC-Earth3_piClim-control_r1...:   0%|          |0.00/5.19M [?B/s]"
      ]
     },
     "metadata": {},
     "output_type": "display_data"
    },
    {
     "data": {
      "application/vnd.jupyter.widget-view+json": {
       "model_id": "1a66e6473fb3493992079d1be8155c50",
       "version_major": 2,
       "version_minor": 0
      },
      "text/plain": [
       "rlus_Amon_EC-Earth3_piClim-control_r1...:   0%|          |0.00/5.19M [?B/s]"
      ]
     },
     "metadata": {},
     "output_type": "display_data"
    },
    {
     "data": {
      "application/vnd.jupyter.widget-view+json": {
       "model_id": "8448960d9ca246e78ec3799b3b4c6436",
       "version_major": 2,
       "version_minor": 0
      },
      "text/plain": [
       "rlus_Amon_EC-Earth3_piClim-control_r1...:   0%|          |0.00/5.19M [?B/s]"
      ]
     },
     "metadata": {},
     "output_type": "display_data"
    },
    {
     "data": {
      "application/vnd.jupyter.widget-view+json": {
       "model_id": "4b838cb0356d4094a09ac8056bd02cb5",
       "version_major": 2,
       "version_minor": 0
      },
      "text/plain": [
       "rlut_Amon_EC-Earth3_piClim-control_r1...:   0%|          |0.00/5.23M [?B/s]"
      ]
     },
     "metadata": {},
     "output_type": "display_data"
    },
    {
     "data": {
      "application/vnd.jupyter.widget-view+json": {
       "model_id": "b44cb26bad4541b798cef048bdd26957",
       "version_major": 2,
       "version_minor": 0
      },
      "text/plain": [
       "rlut_Amon_EC-Earth3_piClim-control_r1...:   0%|          |0.00/5.23M [?B/s]"
      ]
     },
     "metadata": {},
     "output_type": "display_data"
    },
    {
     "data": {
      "application/vnd.jupyter.widget-view+json": {
       "model_id": "dc7e4925568c4d939143f158882b2b3a",
       "version_major": 2,
       "version_minor": 0
      },
      "text/plain": [
       "rlutcs_Amon_EC-Earth3_piClim-control_...:   0%|          |0.00/5.08M [?B/s]"
      ]
     },
     "metadata": {},
     "output_type": "display_data"
    },
    {
     "data": {
      "application/vnd.jupyter.widget-view+json": {
       "model_id": "50c0c49696d343f1a9d0ae63e5447a63",
       "version_major": 2,
       "version_minor": 0
      },
      "text/plain": [
       "rsds_Amon_EC-Earth3_piClim-control_r1...:   0%|          |0.00/5.07M [?B/s]"
      ]
     },
     "metadata": {},
     "output_type": "display_data"
    },
    {
     "data": {
      "application/vnd.jupyter.widget-view+json": {
       "model_id": "3ae0ad101dcd40c8b58c997eb469a606",
       "version_major": 2,
       "version_minor": 0
      },
      "text/plain": [
       "rsds_Amon_EC-Earth3_piClim-control_r1...:   0%|          |0.00/5.07M [?B/s]"
      ]
     },
     "metadata": {},
     "output_type": "display_data"
    },
    {
     "data": {
      "application/vnd.jupyter.widget-view+json": {
       "model_id": "7d40903ee3c14601bccc5b80ecd00030",
       "version_major": 2,
       "version_minor": 0
      },
      "text/plain": [
       "rsds_Amon_EC-Earth3_piClim-control_r1...:   0%|          |0.00/5.07M [?B/s]"
      ]
     },
     "metadata": {},
     "output_type": "display_data"
    },
    {
     "data": {
      "application/vnd.jupyter.widget-view+json": {
       "model_id": "1b6d4842bbcf4ba1b043ba7f2acb96cb",
       "version_major": 2,
       "version_minor": 0
      },
      "text/plain": [
       "rsds_Amon_EC-Earth3_piClim-control_r1...:   0%|          |0.00/5.07M [?B/s]"
      ]
     },
     "metadata": {},
     "output_type": "display_data"
    },
    {
     "data": {
      "application/vnd.jupyter.widget-view+json": {
       "model_id": "06d14f5534384d7ba48f68a98cba7752",
       "version_major": 2,
       "version_minor": 0
      },
      "text/plain": [
       "rsds_Amon_EC-Earth3_piClim-control_r1...:   0%|          |0.00/5.07M [?B/s]"
      ]
     },
     "metadata": {},
     "output_type": "display_data"
    },
    {
     "data": {
      "application/vnd.jupyter.widget-view+json": {
       "model_id": "c336846281fa46de8b83ddc0272fc781",
       "version_major": 2,
       "version_minor": 0
      },
      "text/plain": [
       "rsds_Amon_EC-Earth3_piClim-control_r1...:   0%|          |0.00/5.07M [?B/s]"
      ]
     },
     "metadata": {},
     "output_type": "display_data"
    },
    {
     "data": {
      "application/vnd.jupyter.widget-view+json": {
       "model_id": "2586085d2ad84e68bb186b07cbff6f0c",
       "version_major": 2,
       "version_minor": 0
      },
      "text/plain": [
       "rsdscs_Amon_EC-Earth3_piClim-control_...:   0%|          |0.00/4.87M [?B/s]"
      ]
     },
     "metadata": {},
     "output_type": "display_data"
    },
    {
     "data": {
      "application/vnd.jupyter.widget-view+json": {
       "model_id": "f7fab1f2b0c24cca8761a165147d94db",
       "version_major": 2,
       "version_minor": 0
      },
      "text/plain": [
       "rsdscs_Amon_EC-Earth3_piClim-control_...:   0%|          |0.00/4.86M [?B/s]"
      ]
     },
     "metadata": {},
     "output_type": "display_data"
    },
    {
     "data": {
      "application/vnd.jupyter.widget-view+json": {
       "model_id": "dfeae3f1ccbc483d8f2b34291f399fb2",
       "version_major": 2,
       "version_minor": 0
      },
      "text/plain": [
       "rsdscs_Amon_EC-Earth3_piClim-control_...:   0%|          |0.00/4.87M [?B/s]"
      ]
     },
     "metadata": {},
     "output_type": "display_data"
    },
    {
     "data": {
      "application/vnd.jupyter.widget-view+json": {
       "model_id": "fd0f726bc9cd4c8ea73c25ad2b9caa55",
       "version_major": 2,
       "version_minor": 0
      },
      "text/plain": [
       "rsdscs_Amon_EC-Earth3_piClim-control_...:   0%|          |0.00/4.87M [?B/s]"
      ]
     },
     "metadata": {},
     "output_type": "display_data"
    },
    {
     "data": {
      "application/vnd.jupyter.widget-view+json": {
       "model_id": "6ea8955db2ae4e53a4444a695e86ffde",
       "version_major": 2,
       "version_minor": 0
      },
      "text/plain": [
       "rsdscs_Amon_EC-Earth3_piClim-control_...:   0%|          |0.00/4.87M [?B/s]"
      ]
     },
     "metadata": {},
     "output_type": "display_data"
    },
    {
     "data": {
      "application/vnd.jupyter.widget-view+json": {
       "model_id": "b356d208e39e403cbee12415c1f4f99f",
       "version_major": 2,
       "version_minor": 0
      },
      "text/plain": [
       "rsdt_Amon_EC-Earth3_piClim-control_r1...:   0%|          |0.00/4.03M [?B/s]"
      ]
     },
     "metadata": {},
     "output_type": "display_data"
    },
    {
     "data": {
      "application/vnd.jupyter.widget-view+json": {
       "model_id": "ed7360c31be64e7f8a048b5ee58853e3",
       "version_major": 2,
       "version_minor": 0
      },
      "text/plain": [
       "rsdt_Amon_EC-Earth3_piClim-control_r1...:   0%|          |0.00/4.02M [?B/s]"
      ]
     },
     "metadata": {},
     "output_type": "display_data"
    },
    {
     "data": {
      "application/vnd.jupyter.widget-view+json": {
       "model_id": "56cd8523f3734f3ead03efbf6c84171f",
       "version_major": 2,
       "version_minor": 0
      },
      "text/plain": [
       "rsus_Amon_EC-Earth3_piClim-control_r1...:   0%|          |0.00/5.17M [?B/s]"
      ]
     },
     "metadata": {},
     "output_type": "display_data"
    },
    {
     "data": {
      "application/vnd.jupyter.widget-view+json": {
       "model_id": "96c18fec577048b2a32777d5abcdeb70",
       "version_major": 2,
       "version_minor": 0
      },
      "text/plain": [
       "rsus_Amon_EC-Earth3_piClim-control_r1...:   0%|          |0.00/5.17M [?B/s]"
      ]
     },
     "metadata": {},
     "output_type": "display_data"
    },
    {
     "data": {
      "application/vnd.jupyter.widget-view+json": {
       "model_id": "665ab658122944f1ac6e2b1cbb32cfab",
       "version_major": 2,
       "version_minor": 0
      },
      "text/plain": [
       "rsuscs_Amon_EC-Earth3_piClim-control_...:   0%|          |0.00/5.16M [?B/s]"
      ]
     },
     "metadata": {},
     "output_type": "display_data"
    },
    {
     "data": {
      "application/vnd.jupyter.widget-view+json": {
       "model_id": "fe3592b14522402086de36503256b750",
       "version_major": 2,
       "version_minor": 0
      },
      "text/plain": [
       "rsuscs_Amon_EC-Earth3_piClim-control_...:   0%|          |0.00/5.16M [?B/s]"
      ]
     },
     "metadata": {},
     "output_type": "display_data"
    },
    {
     "data": {
      "application/vnd.jupyter.widget-view+json": {
       "model_id": "f4e797a4788842febb05fc82e18cb479",
       "version_major": 2,
       "version_minor": 0
      },
      "text/plain": [
       "rsuscs_Amon_EC-Earth3_piClim-control_...:   0%|          |0.00/5.16M [?B/s]"
      ]
     },
     "metadata": {},
     "output_type": "display_data"
    },
    {
     "data": {
      "application/vnd.jupyter.widget-view+json": {
       "model_id": "c497141302874938bb7ecf082ddfc4d6",
       "version_major": 2,
       "version_minor": 0
      },
      "text/plain": [
       "rsut_Amon_EC-Earth3_piClim-control_r1...:   0%|          |0.00/5.11M [?B/s]"
      ]
     },
     "metadata": {},
     "output_type": "display_data"
    },
    {
     "data": {
      "application/vnd.jupyter.widget-view+json": {
       "model_id": "ebcb8179ecb4441097d1d091285ade8a",
       "version_major": 2,
       "version_minor": 0
      },
      "text/plain": [
       "rsut_Amon_EC-Earth3_piClim-control_r1...:   0%|          |0.00/5.11M [?B/s]"
      ]
     },
     "metadata": {},
     "output_type": "display_data"
    },
    {
     "data": {
      "application/vnd.jupyter.widget-view+json": {
       "model_id": "fd490994b73d49018f58b53e468e14f2",
       "version_major": 2,
       "version_minor": 0
      },
      "text/plain": [
       "rsut_Amon_EC-Earth3_piClim-control_r1...:   0%|          |0.00/5.11M [?B/s]"
      ]
     },
     "metadata": {},
     "output_type": "display_data"
    },
    {
     "data": {
      "application/vnd.jupyter.widget-view+json": {
       "model_id": "8ebcd5de726148b2a7092804f5c3c2e2",
       "version_major": 2,
       "version_minor": 0
      },
      "text/plain": [
       "rsutcs_Amon_EC-Earth3_piClim-control_...:   0%|          |0.00/4.98M [?B/s]"
      ]
     },
     "metadata": {},
     "output_type": "display_data"
    },
    {
     "data": {
      "application/vnd.jupyter.widget-view+json": {
       "model_id": "89c0f1caf58d48459717d55f4b84b13d",
       "version_major": 2,
       "version_minor": 0
      },
      "text/plain": [
       "rlut_Amon_ACCESS-ESM1-5_piClim-aer_r1...:   0%|          |0.00/33.3M [?B/s]"
      ]
     },
     "metadata": {},
     "output_type": "display_data"
    },
    {
     "data": {
      "application/vnd.jupyter.widget-view+json": {
       "model_id": "af5bd11bb6274c5090eeeb83446c7c87",
       "version_major": 2,
       "version_minor": 0
      },
      "text/plain": [
       "rsdscs_Amon_ACCESS-ESM1-5_piClim-aer_...:   0%|          |0.00/31.3M [?B/s]"
      ]
     },
     "metadata": {},
     "output_type": "display_data"
    },
    {
     "data": {
      "application/vnd.jupyter.widget-view+json": {
       "model_id": "3d99f83ba2e741de99e311ca17ff1015",
       "version_major": 2,
       "version_minor": 0
      },
      "text/plain": [
       "rlutcs_Amon_CNRM-CM6-1_piClim-aer_r1i...:   0%|          |0.00/28.2M [?B/s]"
      ]
     },
     "metadata": {},
     "output_type": "display_data"
    },
    {
     "data": {
      "application/vnd.jupyter.widget-view+json": {
       "model_id": "3c69b04010e44d8e82da45cdae7dfbe2",
       "version_major": 2,
       "version_minor": 0
      },
      "text/plain": [
       "rsut_Amon_CNRM-CM6-1_piClim-aer_r1i1p...:   0%|          |0.00/32.4M [?B/s]"
      ]
     },
     "metadata": {},
     "output_type": "display_data"
    },
    {
     "data": {
      "application/vnd.jupyter.widget-view+json": {
       "model_id": "b1a71eceeda44096862e0155cac65883",
       "version_major": 2,
       "version_minor": 0
      },
      "text/plain": [
       "rlut_Amon_CNRM-CM6-1_piClim-control_r...:   0%|          |0.00/30.2M [?B/s]"
      ]
     },
     "metadata": {},
     "output_type": "display_data"
    },
    {
     "data": {
      "application/vnd.jupyter.widget-view+json": {
       "model_id": "81e025be651241c69b4be779fc3418d0",
       "version_major": 2,
       "version_minor": 0
      },
      "text/plain": [
       "rsds_Amon_CNRM-CM6-1_piClim-control_r...:   0%|          |0.00/31.7M [?B/s]"
      ]
     },
     "metadata": {},
     "output_type": "display_data"
    },
    {
     "data": {
      "application/vnd.jupyter.widget-view+json": {
       "model_id": "df0fe46e3f4749798e7de4b1f1246b58",
       "version_major": 2,
       "version_minor": 0
      },
      "text/plain": [
       "rlus_Amon_CESM2_piClim-control_r1i1p1...:   0%|          |0.00/50.1M [?B/s]"
      ]
     },
     "metadata": {},
     "output_type": "display_data"
    },
    {
     "data": {
      "application/vnd.jupyter.widget-view+json": {
       "model_id": "82ddc20633d044f394a06e70e307880e",
       "version_major": 2,
       "version_minor": 0
      },
      "text/plain": [
       "rlut_Amon_CESM2_piClim-control_r1i1p1...:   0%|          |0.00/50.3M [?B/s]"
      ]
     },
     "metadata": {},
     "output_type": "display_data"
    },
    {
     "data": {
      "application/vnd.jupyter.widget-view+json": {
       "model_id": "bd497f3b6112433ca14933d978199348",
       "version_major": 2,
       "version_minor": 0
      },
      "text/plain": [
       "rsdt_Amon_IPSL-CM6A-LR-INCA_piClim-co...:   0%|          |0.00/13.6M [?B/s]"
      ]
     },
     "metadata": {},
     "output_type": "display_data"
    },
    {
     "data": {
      "application/vnd.jupyter.widget-view+json": {
       "model_id": "5d95ac6903d54f7fabbf0fee3ba3ad87",
       "version_major": 2,
       "version_minor": 0
      },
      "text/plain": [
       "rlus_Amon_IPSL-CM6A-LR_piClim-control...:   0%|          |0.00/19.6M [?B/s]"
      ]
     },
     "metadata": {},
     "output_type": "display_data"
    },
    {
     "data": {
      "application/vnd.jupyter.widget-view+json": {
       "model_id": "448dd16e5c8d4a8fb4ae245356fa1b6f",
       "version_major": 2,
       "version_minor": 0
      },
      "text/plain": [
       "rlutcs_Amon_MPI-ESM-1-2-HAM_piClim-co...:   0%|          |0.00/7.67M [?B/s]"
      ]
     },
     "metadata": {},
     "output_type": "display_data"
    },
    {
     "data": {
      "application/vnd.jupyter.widget-view+json": {
       "model_id": "4b8140a8427049db8d5e1591802f9ef5",
       "version_major": 2,
       "version_minor": 0
      },
      "text/plain": [
       "rsut_Amon_IPSL-CM6A-LR_piClim-control...:   0%|          |0.00/20.8M [?B/s]"
      ]
     },
     "metadata": {},
     "output_type": "display_data"
    },
    {
     "data": {
      "application/vnd.jupyter.widget-view+json": {
       "model_id": "f3b36fb426dc4fa19796acf81bd2db08",
       "version_major": 2,
       "version_minor": 0
      },
      "text/plain": [
       "rlus_Amon_IPSL-CM6A-LR_piClim-aer_r1i...:   0%|          |0.00/19.6M [?B/s]"
      ]
     },
     "metadata": {},
     "output_type": "display_data"
    },
    {
     "data": {
      "application/vnd.jupyter.widget-view+json": {
       "model_id": "00fca655efcc4fd48ecca45e5747cb99",
       "version_major": 2,
       "version_minor": 0
      },
      "text/plain": [
       "rsutcs_Amon_IPSL-CM6A-LR_piClim-aer_r...:   0%|          |0.00/19.0M [?B/s]"
      ]
     },
     "metadata": {},
     "output_type": "display_data"
    },
    {
     "data": {
      "application/vnd.jupyter.widget-view+json": {
       "model_id": "45aea00dd2ca46efa9fdb6d0fc4618a6",
       "version_major": 2,
       "version_minor": 0
      },
      "text/plain": [
       "rlutcs_Amon_IPSL-CM6A-LR_piClim-aer_r...:   0%|          |0.00/18.8M [?B/s]"
      ]
     },
     "metadata": {},
     "output_type": "display_data"
    },
    {
     "data": {
      "application/vnd.jupyter.widget-view+json": {
       "model_id": "f9830be8d8f445178b9cb262b3bfeb44",
       "version_major": 2,
       "version_minor": 0
      },
      "text/plain": [
       "clt_Amon_MPI-ESM-1-2-HAM_piClim-aer_r...:   0%|          |0.00/5.99M [?B/s]"
      ]
     },
     "metadata": {},
     "output_type": "display_data"
    },
    {
     "data": {
      "application/vnd.jupyter.widget-view+json": {
       "model_id": "a688f8b6d33144b3b426659dbf020c4e",
       "version_major": 2,
       "version_minor": 0
      },
      "text/plain": [
       "rlds_Amon_MPI-ESM-1-2-HAM_piClim-aer_...:   0%|          |0.00/9.08M [?B/s]"
      ]
     },
     "metadata": {},
     "output_type": "display_data"
    },
    {
     "data": {
      "application/vnd.jupyter.widget-view+json": {
       "model_id": "d3c98508330040429ae32bf77ec08fd2",
       "version_major": 2,
       "version_minor": 0
      },
      "text/plain": [
       "rlut_Amon_MPI-ESM-1-2-HAM_piClim-aer_...:   0%|          |0.00/8.13M [?B/s]"
      ]
     },
     "metadata": {},
     "output_type": "display_data"
    },
    {
     "data": {
      "application/vnd.jupyter.widget-view+json": {
       "model_id": "358e3b442860487ba12401b3bce2de78",
       "version_major": 2,
       "version_minor": 0
      },
      "text/plain": [
       "rlus_Amon_MIROC6_piClim-aer_r1i1p1f1_...:   0%|          |0.00/29.7M [?B/s]"
      ]
     },
     "metadata": {},
     "output_type": "display_data"
    },
    {
     "data": {
      "application/vnd.jupyter.widget-view+json": {
       "model_id": "638da6919133433495385469d2fb014d",
       "version_major": 2,
       "version_minor": 0
      },
      "text/plain": [
       "rsutcs_Amon_UKESM1-0-LL_piClim-aer_r1...:   0%|          |0.00/38.1M [?B/s]"
      ]
     },
     "metadata": {},
     "output_type": "display_data"
    },
    {
     "data": {
      "application/vnd.jupyter.widget-view+json": {
       "model_id": "b9dbe0fe29304a93855fb57f3b3a2287",
       "version_major": 2,
       "version_minor": 0
      },
      "text/plain": [
       "rsdt_Amon_UKESM1-0-LL_piClim-aer_r1i1...:   0%|          |0.00/901k [?B/s]"
      ]
     },
     "metadata": {},
     "output_type": "display_data"
    },
    {
     "data": {
      "application/vnd.jupyter.widget-view+json": {
       "model_id": "c1782ee1543b4588973eafeab44fc355",
       "version_major": 2,
       "version_minor": 0
      },
      "text/plain": [
       "rlds_Amon_MPI-ESM-1-2-HAM_piClim-aer_...:   0%|          |0.00/4.57M [?B/s]"
      ]
     },
     "metadata": {},
     "output_type": "display_data"
    },
    {
     "data": {
      "application/vnd.jupyter.widget-view+json": {
       "model_id": "bde7334800f347d8b9c217a1be019db6",
       "version_major": 2,
       "version_minor": 0
      },
      "text/plain": [
       "clt_Amon_UKESM1-0-LL_piClim-control_r...:   0%|          |0.00/35.6M [?B/s]"
      ]
     },
     "metadata": {},
     "output_type": "display_data"
    },
    {
     "data": {
      "application/vnd.jupyter.widget-view+json": {
       "model_id": "7524cdbeb4e743d09301d0964a530689",
       "version_major": 2,
       "version_minor": 0
      },
      "text/plain": [
       "rsutcs_Amon_BCC-ESM1_piClim-aer_r1i1p...:   0%|          |0.00/12.2M [?B/s]"
      ]
     },
     "metadata": {},
     "output_type": "display_data"
    },
    {
     "data": {
      "application/vnd.jupyter.widget-view+json": {
       "model_id": "3638a4c902714483990b6017d9256c23",
       "version_major": 2,
       "version_minor": 0
      },
      "text/plain": [
       "clt_Amon_GFDL-CM4_piClim-control_r1i1...:   0%|          |0.00/52.0M [?B/s]"
      ]
     },
     "metadata": {},
     "output_type": "display_data"
    },
    {
     "data": {
      "application/vnd.jupyter.widget-view+json": {
       "model_id": "e8297d7291fb4fb8b92a52d3861ef58c",
       "version_major": 2,
       "version_minor": 0
      },
      "text/plain": [
       "rsds_Amon_GFDL-CM4_piClim-control_r1i...:   0%|          |0.00/50.3M [?B/s]"
      ]
     },
     "metadata": {},
     "output_type": "display_data"
    },
    {
     "data": {
      "application/vnd.jupyter.widget-view+json": {
       "model_id": "88e148b6c8054396b880851b104380a6",
       "version_major": 2,
       "version_minor": 0
      },
      "text/plain": [
       "rlds_Amon_GFDL-CM4_piClim-aer_r1i1p1f...:   0%|          |0.00/48.6M [?B/s]"
      ]
     },
     "metadata": {},
     "output_type": "display_data"
    },
    {
     "data": {
      "application/vnd.jupyter.widget-view+json": {
       "model_id": "37625577659a4f9ba972375d0f199237",
       "version_major": 2,
       "version_minor": 0
      },
      "text/plain": [
       "rlds_Amon_NorESM2-MM_piClim-aer_r1i1p...:   0%|          |0.00/17.1M [?B/s]"
      ]
     },
     "metadata": {},
     "output_type": "display_data"
    },
    {
     "data": {
      "application/vnd.jupyter.widget-view+json": {
       "model_id": "52e323a5645c46878fe2b420b883b7ec",
       "version_major": 2,
       "version_minor": 0
      },
      "text/plain": [
       "rlus_Amon_NorESM2-MM_piClim-aer_r1i1p...:   0%|          |0.00/16.6M [?B/s]"
      ]
     },
     "metadata": {},
     "output_type": "display_data"
    },
    {
     "data": {
      "application/vnd.jupyter.widget-view+json": {
       "model_id": "92d1a876de5448aa93bdbd6dd65e1e45",
       "version_major": 2,
       "version_minor": 0
      },
      "text/plain": [
       "rlutcs_Amon_GFDL-CM4_piClim-aer_r1i1p...:   0%|          |0.00/45.4M [?B/s]"
      ]
     },
     "metadata": {},
     "output_type": "display_data"
    },
    {
     "data": {
      "application/vnd.jupyter.widget-view+json": {
       "model_id": "0566107b229c4b688f2cc47996d7f6c4",
       "version_major": 2,
       "version_minor": 0
      },
      "text/plain": [
       "rsdscs_Amon_NorESM2-MM_piClim-aer_r1i...:   0%|          |0.00/15.0M [?B/s]"
      ]
     },
     "metadata": {},
     "output_type": "display_data"
    },
    {
     "data": {
      "application/vnd.jupyter.widget-view+json": {
       "model_id": "95c881af08ff4960838b899fa9747ef1",
       "version_major": 2,
       "version_minor": 0
      },
      "text/plain": [
       "rsuscs_Amon_NorESM2-MM_piClim-aer_r1i...:   0%|          |0.00/15.4M [?B/s]"
      ]
     },
     "metadata": {},
     "output_type": "display_data"
    },
    {
     "data": {
      "application/vnd.jupyter.widget-view+json": {
       "model_id": "dc2895e8da724ebfbc4a73756beb1197",
       "version_major": 2,
       "version_minor": 0
      },
      "text/plain": [
       "rsut_Amon_NorESM2-MM_piClim-aer_r1i1p...:   0%|          |0.00/18.1M [?B/s]"
      ]
     },
     "metadata": {},
     "output_type": "display_data"
    },
    {
     "data": {
      "application/vnd.jupyter.widget-view+json": {
       "model_id": "9e9aa9ac8e59428c93d3fc7e463007b1",
       "version_major": 2,
       "version_minor": 0
      },
      "text/plain": [
       "rsdscs_Amon_GFDL-CM4_piClim-aer_r1i1p...:   0%|          |0.00/43.7M [?B/s]"
      ]
     },
     "metadata": {},
     "output_type": "display_data"
    },
    {
     "data": {
      "application/vnd.jupyter.widget-view+json": {
       "model_id": "63663f04653b42e79d13e8d167dc8b1c",
       "version_major": 2,
       "version_minor": 0
      },
      "text/plain": [
       "rsuscs_Amon_GFDL-CM4_piClim-aer_r1i1p...:   0%|          |0.00/48.0M [?B/s]"
      ]
     },
     "metadata": {},
     "output_type": "display_data"
    },
    {
     "data": {
      "application/vnd.jupyter.widget-view+json": {
       "model_id": "32c02c12826e4909a62ecdc7ad2a36ac",
       "version_major": 2,
       "version_minor": 0
      },
      "text/plain": [
       "rsut_Amon_BCC-ESM1_piClim-aer_r1i1p1f...:   0%|          |0.00/12.2M [?B/s]"
      ]
     },
     "metadata": {},
     "output_type": "display_data"
    },
    {
     "data": {
      "application/vnd.jupyter.widget-view+json": {
       "model_id": "f2142a27ab6d45c6901b08993cd21991",
       "version_major": 2,
       "version_minor": 0
      },
      "text/plain": [
       "rsdscs_Amon_BCC-ESM1_piClim-aer_r1i1p...:   0%|          |0.00/12.2M [?B/s]"
      ]
     },
     "metadata": {},
     "output_type": "display_data"
    },
    {
     "data": {
      "application/vnd.jupyter.widget-view+json": {
       "model_id": "6bff3786f91745e9b4289e93addc77ae",
       "version_major": 2,
       "version_minor": 0
      },
      "text/plain": [
       "rsus_Amon_UKESM1-0-LL_piClim-aer_r1i1...:   0%|          |0.00/40.1M [?B/s]"
      ]
     },
     "metadata": {},
     "output_type": "display_data"
    },
    {
     "data": {
      "application/vnd.jupyter.widget-view+json": {
       "model_id": "10caaf457c9847ee93ae52f715cd6fff",
       "version_major": 2,
       "version_minor": 0
      },
      "text/plain": [
       "rsut_Amon_UKESM1-0-LL_piClim-aer_r1i1...:   0%|          |0.00/41.6M [?B/s]"
      ]
     },
     "metadata": {},
     "output_type": "display_data"
    },
    {
     "data": {
      "application/vnd.jupyter.widget-view+json": {
       "model_id": "6b0fffca53c04740a910eb39873bd6a6",
       "version_major": 2,
       "version_minor": 0
      },
      "text/plain": [
       "rsutcs_Amon_UKESM1-0-LL_piClim-contro...:   0%|          |0.00/38.1M [?B/s]"
      ]
     },
     "metadata": {},
     "output_type": "display_data"
    },
    {
     "data": {
      "application/vnd.jupyter.widget-view+json": {
       "model_id": "a5a052d222154a75986b975484c28686",
       "version_major": 2,
       "version_minor": 0
      },
      "text/plain": [
       "rsus_Amon_CanESM5_piClim-control_r1i1...:   0%|          |0.00/16.8M [?B/s]"
      ]
     },
     "metadata": {},
     "output_type": "display_data"
    },
    {
     "data": {
      "application/vnd.jupyter.widget-view+json": {
       "model_id": "88e0dd60068a4cceb30906e89cbc1587",
       "version_major": 2,
       "version_minor": 0
      },
      "text/plain": [
       "rsdscs_Amon_CanESM5_piClim-control_r1...:   0%|          |0.00/16.1M [?B/s]"
      ]
     },
     "metadata": {},
     "output_type": "display_data"
    },
    {
     "data": {
      "application/vnd.jupyter.widget-view+json": {
       "model_id": "cba52a495bff47c4b45402128cd97cbd",
       "version_major": 2,
       "version_minor": 0
      },
      "text/plain": [
       "rsdt_Amon_CanESM5_piClim-aer_r1i1p2f1...:   0%|          |0.00/14.5M [?B/s]"
      ]
     },
     "metadata": {},
     "output_type": "display_data"
    },
    {
     "data": {
      "application/vnd.jupyter.widget-view+json": {
       "model_id": "3b35934cfd2f48b3b95e3a40e63377b9",
       "version_major": 2,
       "version_minor": 0
      },
      "text/plain": [
       "rsuscs_Amon_CanESM5_piClim-control_r1...:   0%|          |0.00/16.5M [?B/s]"
      ]
     },
     "metadata": {},
     "output_type": "display_data"
    },
    {
     "data": {
      "application/vnd.jupyter.widget-view+json": {
       "model_id": "0386122fd40c4e48a29246eb63d2b384",
       "version_major": 2,
       "version_minor": 0
      },
      "text/plain": [
       "rsutcs_Amon_CanESM5_piClim-aer_r1i1p2...:   0%|          |0.00/16.4M [?B/s]"
      ]
     },
     "metadata": {},
     "output_type": "display_data"
    },
    {
     "data": {
      "application/vnd.jupyter.widget-view+json": {
       "model_id": "7162fa8036834023a6bfd6b0fe179169",
       "version_major": 2,
       "version_minor": 0
      },
      "text/plain": [
       "rlut_Amon_CESM2_piClim-aer_r1i1p1f1_g...:   0%|          |0.00/50.3M [?B/s]"
      ]
     },
     "metadata": {},
     "output_type": "display_data"
    },
    {
     "data": {
      "application/vnd.jupyter.widget-view+json": {
       "model_id": "5c549ab9e9e14529ad01a00ea5cf1e04",
       "version_major": 2,
       "version_minor": 0
      },
      "text/plain": [
       "rsus_Amon_CESM2_piClim-aer_r1i1p1f1_g...:   0%|          |0.00/51.7M [?B/s]"
      ]
     },
     "metadata": {},
     "output_type": "display_data"
    },
    {
     "data": {
      "application/vnd.jupyter.widget-view+json": {
       "model_id": "d476d98c26634f82a3bf84bbd67022a1",
       "version_major": 2,
       "version_minor": 0
      },
      "text/plain": [
       "clt_Amon_CESM2_piClim-control_r1i1p1f...:   0%|          |0.00/55.8M [?B/s]"
      ]
     },
     "metadata": {},
     "output_type": "display_data"
    },
    {
     "data": {
      "application/vnd.jupyter.widget-view+json": {
       "model_id": "5815942599024f2596acb5dd690dada4",
       "version_major": 2,
       "version_minor": 0
      },
      "text/plain": [
       "clt_Amon_NorESM2-LM_piClim-aer_r1i1p1...:   0%|          |0.00/5.00M [?B/s]"
      ]
     },
     "metadata": {},
     "output_type": "display_data"
    },
    {
     "data": {
      "application/vnd.jupyter.widget-view+json": {
       "model_id": "20cf113f151a4f64a36f96b9487d480f",
       "version_major": 2,
       "version_minor": 0
      },
      "text/plain": [
       "rlds_Amon_NorESM2-LM_piClim-aer_r1i1p...:   0%|          |0.00/4.63M [?B/s]"
      ]
     },
     "metadata": {},
     "output_type": "display_data"
    },
    {
     "data": {
      "application/vnd.jupyter.widget-view+json": {
       "model_id": "0185906a1e84481395fe186e94693555",
       "version_major": 2,
       "version_minor": 0
      },
      "text/plain": [
       "rsutcs_Amon_NorESM2-LM_piClim-aer_r1i...:   0%|          |0.00/4.33M [?B/s]"
      ]
     },
     "metadata": {},
     "output_type": "display_data"
    },
    {
     "data": {
      "application/vnd.jupyter.widget-view+json": {
       "model_id": "90eec1ec905b4dd78fbdbdef37b96a75",
       "version_major": 2,
       "version_minor": 0
      },
      "text/plain": [
       "rlus_Amon_NorESM2-LM_piClim-control_r...:   0%|          |0.00/4.49M [?B/s]"
      ]
     },
     "metadata": {},
     "output_type": "display_data"
    },
    {
     "data": {
      "application/vnd.jupyter.widget-view+json": {
       "model_id": "3119280b37be4e64aa5105a4f650f65b",
       "version_major": 2,
       "version_minor": 0
      },
      "text/plain": [
       "rlut_Amon_NorESM2-LM_piClim-control_r...:   0%|          |0.00/4.56M [?B/s]"
      ]
     },
     "metadata": {},
     "output_type": "display_data"
    },
    {
     "data": {
      "application/vnd.jupyter.widget-view+json": {
       "model_id": "ccc7dea5e3874543a6cc2f9189d338e1",
       "version_major": 2,
       "version_minor": 0
      },
      "text/plain": [
       "rlutcs_Amon_NorESM2-LM_piClim-control...:   0%|          |0.00/4.30M [?B/s]"
      ]
     },
     "metadata": {},
     "output_type": "display_data"
    },
    {
     "data": {
      "application/vnd.jupyter.widget-view+json": {
       "model_id": "757a041f2ca84be28fcefe4317dcf1c4",
       "version_major": 2,
       "version_minor": 0
      },
      "text/plain": [
       "rsdt_Amon_NorESM2-LM_piClim-control_r...:   0%|          |0.00/3.23M [?B/s]"
      ]
     },
     "metadata": {},
     "output_type": "display_data"
    },
    {
     "data": {
      "application/vnd.jupyter.widget-view+json": {
       "model_id": "91905899835c45808052529efa445fa5",
       "version_major": 2,
       "version_minor": 0
      },
      "text/plain": [
       "rsds_Amon_NorESM2-LM_piClim-control_r...:   0%|          |0.00/4.72M [?B/s]"
      ]
     },
     "metadata": {},
     "output_type": "display_data"
    },
    {
     "data": {
      "application/vnd.jupyter.widget-view+json": {
       "model_id": "e666c31472974396af3cb312daaa96f9",
       "version_major": 2,
       "version_minor": 0
      },
      "text/plain": [
       "rsuscs_Amon_NorESM2-LM_piClim-control...:   0%|          |0.00/4.25M [?B/s]"
      ]
     },
     "metadata": {},
     "output_type": "display_data"
    },
    {
     "data": {
      "application/vnd.jupyter.widget-view+json": {
       "model_id": "e853269eb93245ed9ae653cac0f6f0a0",
       "version_major": 2,
       "version_minor": 0
      },
      "text/plain": [
       "rsdscs_Amon_GISS-E2-1-G_piClim-aer_r1...:   0%|          |0.00/19.3M [?B/s]"
      ]
     },
     "metadata": {},
     "output_type": "display_data"
    },
    {
     "data": {
      "application/vnd.jupyter.widget-view+json": {
       "model_id": "64a1da605ff44a55979f5e22b24dbb7c",
       "version_major": 2,
       "version_minor": 0
      },
      "text/plain": [
       "rlds_Amon_GISS-E2-1-G_piClim-control_...:   0%|          |0.00/19.3M [?B/s]"
      ]
     },
     "metadata": {},
     "output_type": "display_data"
    },
    {
     "data": {
      "application/vnd.jupyter.widget-view+json": {
       "model_id": "898cab3cb97f42fab6f37e443a47042d",
       "version_major": 2,
       "version_minor": 0
      },
      "text/plain": [
       "rlds_Amon_MRI-ESM2-0_piClim-aer_r1i1p...:   0%|          |0.00/47.7M [?B/s]"
      ]
     },
     "metadata": {},
     "output_type": "display_data"
    },
    {
     "data": {
      "application/vnd.jupyter.widget-view+json": {
       "model_id": "9d5503719ce540358360e5573f0eddc8",
       "version_major": 2,
       "version_minor": 0
      },
      "text/plain": [
       "rlutcs_Amon_MRI-ESM2-0_piClim-control...:   0%|          |0.00/1.54M [?B/s]"
      ]
     },
     "metadata": {},
     "output_type": "display_data"
    },
    {
     "data": {
      "application/vnd.jupyter.widget-view+json": {
       "model_id": "0493b1afbee54b19be39a196b46d050d",
       "version_major": 2,
       "version_minor": 0
      },
      "text/plain": [
       "rlut_Amon_MRI-ESM2-0_piClim-aer_r1i1p...:   0%|          |0.00/1.63M [?B/s]"
      ]
     },
     "metadata": {},
     "output_type": "display_data"
    },
    {
     "data": {
      "application/vnd.jupyter.widget-view+json": {
       "model_id": "e5ccdd1c0d0a4eb4808006a21da8153d",
       "version_major": 2,
       "version_minor": 0
      },
      "text/plain": [
       "rsds_Amon_MRI-ESM2-0_piClim-control_r...:   0%|          |0.00/1.69M [?B/s]"
      ]
     },
     "metadata": {},
     "output_type": "display_data"
    },
    {
     "data": {
      "application/vnd.jupyter.widget-view+json": {
       "model_id": "e882c86f51134367b7274b92f8adc48c",
       "version_major": 2,
       "version_minor": 0
      },
      "text/plain": [
       "rsdscs_Amon_MRI-ESM2-0_piClim-control...:   0%|          |0.00/42.0M [?B/s]"
      ]
     },
     "metadata": {},
     "output_type": "display_data"
    },
    {
     "data": {
      "application/vnd.jupyter.widget-view+json": {
       "model_id": "14a0ab373092495582895aa9d5f9ba67",
       "version_major": 2,
       "version_minor": 0
      },
      "text/plain": [
       "rsdt_Amon_MRI-ESM2-0_piClim-control_r...:   0%|          |0.00/8.73M [?B/s]"
      ]
     },
     "metadata": {},
     "output_type": "display_data"
    },
    {
     "data": {
      "application/vnd.jupyter.widget-view+json": {
       "model_id": "5d7f93af5b204cbd85a53e2faa905e4f",
       "version_major": 2,
       "version_minor": 0
      },
      "text/plain": [
       "rlus_Amon_MPI-ESM-1-2-HAM_piClim-cont...:   0%|          |0.00/3.76M [?B/s]"
      ]
     },
     "metadata": {},
     "output_type": "display_data"
    },
    {
     "data": {
      "application/vnd.jupyter.widget-view+json": {
       "model_id": "9ddad33096894754b9c8de59f6152342",
       "version_major": 2,
       "version_minor": 0
      },
      "text/plain": [
       "rsuscs_Amon_MRI-ESM2-0_piClim-control...:   0%|          |0.00/1.63M [?B/s]"
      ]
     },
     "metadata": {},
     "output_type": "display_data"
    },
    {
     "data": {
      "application/vnd.jupyter.widget-view+json": {
       "model_id": "acc625a1d3af4862bdc161446f3ee70f",
       "version_major": 2,
       "version_minor": 0
      },
      "text/plain": [
       "rlds_Amon_EC-Earth3_piClim-aer_r1i1p1...:   0%|          |0.00/5.26M [?B/s]"
      ]
     },
     "metadata": {},
     "output_type": "display_data"
    },
    {
     "data": {
      "application/vnd.jupyter.widget-view+json": {
       "model_id": "2255e6f11fad4de3a462923bfb3abe37",
       "version_major": 2,
       "version_minor": 0
      },
      "text/plain": [
       "rlds_Amon_EC-Earth3_piClim-aer_r1i1p1...:   0%|          |0.00/5.26M [?B/s]"
      ]
     },
     "metadata": {},
     "output_type": "display_data"
    },
    {
     "data": {
      "application/vnd.jupyter.widget-view+json": {
       "model_id": "2df7ffae5b6c417ca2afe318cd6656d6",
       "version_major": 2,
       "version_minor": 0
      },
      "text/plain": [
       "rlds_Amon_EC-Earth3_piClim-aer_r1i1p1...:   0%|          |0.00/5.26M [?B/s]"
      ]
     },
     "metadata": {},
     "output_type": "display_data"
    },
    {
     "data": {
      "application/vnd.jupyter.widget-view+json": {
       "model_id": "185e80aac229426f8ef786ca41ceba81",
       "version_major": 2,
       "version_minor": 0
      },
      "text/plain": [
       "rlds_Amon_EC-Earth3_piClim-aer_r1i1p1...:   0%|          |0.00/5.26M [?B/s]"
      ]
     },
     "metadata": {},
     "output_type": "display_data"
    },
    {
     "data": {
      "application/vnd.jupyter.widget-view+json": {
       "model_id": "1b8d472d4ea949e994977c4df8dda628",
       "version_major": 2,
       "version_minor": 0
      },
      "text/plain": [
       "rlus_Amon_EC-Earth3_piClim-aer_r1i1p1...:   0%|          |0.00/5.19M [?B/s]"
      ]
     },
     "metadata": {},
     "output_type": "display_data"
    },
    {
     "data": {
      "application/vnd.jupyter.widget-view+json": {
       "model_id": "e0da01a243e04c23a49f21d00aaa807b",
       "version_major": 2,
       "version_minor": 0
      },
      "text/plain": [
       "rlus_Amon_EC-Earth3_piClim-aer_r1i1p1...:   0%|          |0.00/5.19M [?B/s]"
      ]
     },
     "metadata": {},
     "output_type": "display_data"
    },
    {
     "data": {
      "application/vnd.jupyter.widget-view+json": {
       "model_id": "01baca71df97452287b949c4600b263c",
       "version_major": 2,
       "version_minor": 0
      },
      "text/plain": [
       "rlus_Amon_EC-Earth3_piClim-aer_r1i1p1...:   0%|          |0.00/5.19M [?B/s]"
      ]
     },
     "metadata": {},
     "output_type": "display_data"
    },
    {
     "data": {
      "application/vnd.jupyter.widget-view+json": {
       "model_id": "97c655baa84948958b567c6f92eea8f8",
       "version_major": 2,
       "version_minor": 0
      },
      "text/plain": [
       "rlut_Amon_EC-Earth3_piClim-aer_r1i1p1...:   0%|          |0.00/5.23M [?B/s]"
      ]
     },
     "metadata": {},
     "output_type": "display_data"
    },
    {
     "data": {
      "application/vnd.jupyter.widget-view+json": {
       "model_id": "bf2e8aecf43f48049d93c7b32c7ad4ad",
       "version_major": 2,
       "version_minor": 0
      },
      "text/plain": [
       "rlut_Amon_EC-Earth3_piClim-aer_r1i1p1...:   0%|          |0.00/5.22M [?B/s]"
      ]
     },
     "metadata": {},
     "output_type": "display_data"
    },
    {
     "data": {
      "application/vnd.jupyter.widget-view+json": {
       "model_id": "68cf5ad538b04b00a2bcc82a320ce2fd",
       "version_major": 2,
       "version_minor": 0
      },
      "text/plain": [
       "rlut_Amon_EC-Earth3_piClim-aer_r1i1p1...:   0%|          |0.00/5.23M [?B/s]"
      ]
     },
     "metadata": {},
     "output_type": "display_data"
    },
    {
     "data": {
      "application/vnd.jupyter.widget-view+json": {
       "model_id": "a7085ed949fa42128fb07dcc1b44ce5f",
       "version_major": 2,
       "version_minor": 0
      },
      "text/plain": [
       "rlut_Amon_EC-Earth3_piClim-aer_r1i1p1...:   0%|          |0.00/5.23M [?B/s]"
      ]
     },
     "metadata": {},
     "output_type": "display_data"
    },
    {
     "data": {
      "application/vnd.jupyter.widget-view+json": {
       "model_id": "cbaa07a55c784ddba67a21880a68a5cd",
       "version_major": 2,
       "version_minor": 0
      },
      "text/plain": [
       "rlutcs_Amon_EC-Earth3_piClim-aer_r1i1...:   0%|          |0.00/5.08M [?B/s]"
      ]
     },
     "metadata": {},
     "output_type": "display_data"
    },
    {
     "data": {
      "application/vnd.jupyter.widget-view+json": {
       "model_id": "dd1aa801952247b1b13bab815d35a238",
       "version_major": 2,
       "version_minor": 0
      },
      "text/plain": [
       "rlutcs_Amon_EC-Earth3_piClim-aer_r1i1...:   0%|          |0.00/5.08M [?B/s]"
      ]
     },
     "metadata": {},
     "output_type": "display_data"
    },
    {
     "data": {
      "application/vnd.jupyter.widget-view+json": {
       "model_id": "4580d43088484424a6b3f9e8c480cbb1",
       "version_major": 2,
       "version_minor": 0
      },
      "text/plain": [
       "rlutcs_Amon_EC-Earth3_piClim-aer_r1i1...:   0%|          |0.00/5.08M [?B/s]"
      ]
     },
     "metadata": {},
     "output_type": "display_data"
    },
    {
     "data": {
      "application/vnd.jupyter.widget-view+json": {
       "model_id": "de90f93d27544e0cace95d4e9dac0116",
       "version_major": 2,
       "version_minor": 0
      },
      "text/plain": [
       "rlutcs_Amon_EC-Earth3_piClim-aer_r1i1...:   0%|          |0.00/5.08M [?B/s]"
      ]
     },
     "metadata": {},
     "output_type": "display_data"
    },
    {
     "data": {
      "application/vnd.jupyter.widget-view+json": {
       "model_id": "78c2dd93f8854936a989916dbdd241d6",
       "version_major": 2,
       "version_minor": 0
      },
      "text/plain": [
       "rlutcs_Amon_EC-Earth3_piClim-aer_r1i1...:   0%|          |0.00/5.09M [?B/s]"
      ]
     },
     "metadata": {},
     "output_type": "display_data"
    },
    {
     "data": {
      "application/vnd.jupyter.widget-view+json": {
       "model_id": "03deffa4720446d8871c49f69c2b5d5c",
       "version_major": 2,
       "version_minor": 0
      },
      "text/plain": [
       "rsds_Amon_EC-Earth3_piClim-aer_r1i1p1...:   0%|          |0.00/5.08M [?B/s]"
      ]
     },
     "metadata": {},
     "output_type": "display_data"
    },
    {
     "data": {
      "application/vnd.jupyter.widget-view+json": {
       "model_id": "eb10afd4e1704330ae422344d9ba5192",
       "version_major": 2,
       "version_minor": 0
      },
      "text/plain": [
       "rsds_Amon_EC-Earth3_piClim-aer_r1i1p1...:   0%|          |0.00/5.07M [?B/s]"
      ]
     },
     "metadata": {},
     "output_type": "display_data"
    },
    {
     "data": {
      "application/vnd.jupyter.widget-view+json": {
       "model_id": "9791a618bd8d4dc4b21c41385261954d",
       "version_major": 2,
       "version_minor": 0
      },
      "text/plain": [
       "rsds_Amon_EC-Earth3_piClim-aer_r1i1p1...:   0%|          |0.00/5.07M [?B/s]"
      ]
     },
     "metadata": {},
     "output_type": "display_data"
    },
    {
     "data": {
      "application/vnd.jupyter.widget-view+json": {
       "model_id": "d2e944cc0f144895a26efe81a15537b8",
       "version_major": 2,
       "version_minor": 0
      },
      "text/plain": [
       "rsdscs_Amon_EC-Earth3_piClim-aer_r1i1...:   0%|          |0.00/4.88M [?B/s]"
      ]
     },
     "metadata": {},
     "output_type": "display_data"
    },
    {
     "data": {
      "application/vnd.jupyter.widget-view+json": {
       "model_id": "443d21cac02a4aa8acedeb39228c3dec",
       "version_major": 2,
       "version_minor": 0
      },
      "text/plain": [
       "rsdscs_Amon_EC-Earth3_piClim-aer_r1i1...:   0%|          |0.00/4.88M [?B/s]"
      ]
     },
     "metadata": {},
     "output_type": "display_data"
    },
    {
     "data": {
      "application/vnd.jupyter.widget-view+json": {
       "model_id": "029fd987a99845b7848573358d861fac",
       "version_major": 2,
       "version_minor": 0
      },
      "text/plain": [
       "rsdscs_Amon_EC-Earth3_piClim-aer_r1i1...:   0%|          |0.00/4.88M [?B/s]"
      ]
     },
     "metadata": {},
     "output_type": "display_data"
    },
    {
     "data": {
      "application/vnd.jupyter.widget-view+json": {
       "model_id": "67e1f7539cfd49f59691be6415bac561",
       "version_major": 2,
       "version_minor": 0
      },
      "text/plain": [
       "rsdscs_Amon_EC-Earth3_piClim-aer_r1i1...:   0%|          |0.00/4.89M [?B/s]"
      ]
     },
     "metadata": {},
     "output_type": "display_data"
    },
    {
     "data": {
      "application/vnd.jupyter.widget-view+json": {
       "model_id": "e849480c739d489180f0cc8ff2ed5c39",
       "version_major": 2,
       "version_minor": 0
      },
      "text/plain": [
       "rsdscs_Amon_EC-Earth3_piClim-aer_r1i1...:   0%|          |0.00/4.88M [?B/s]"
      ]
     },
     "metadata": {},
     "output_type": "display_data"
    },
    {
     "data": {
      "application/vnd.jupyter.widget-view+json": {
       "model_id": "def3a36a5a014437a0893e17ba1c2257",
       "version_major": 2,
       "version_minor": 0
      },
      "text/plain": [
       "rsdt_Amon_EC-Earth3_piClim-aer_r1i1p1...:   0%|          |0.00/4.03M [?B/s]"
      ]
     },
     "metadata": {},
     "output_type": "display_data"
    },
    {
     "data": {
      "application/vnd.jupyter.widget-view+json": {
       "model_id": "9264fa923cca46d1b66f911fe29087f0",
       "version_major": 2,
       "version_minor": 0
      },
      "text/plain": [
       "rsus_Amon_EC-Earth3_piClim-aer_r1i1p1...:   0%|          |0.00/5.17M [?B/s]"
      ]
     },
     "metadata": {},
     "output_type": "display_data"
    },
    {
     "data": {
      "application/vnd.jupyter.widget-view+json": {
       "model_id": "de391f4a4bcb478b9eb836891b9c244e",
       "version_major": 2,
       "version_minor": 0
      },
      "text/plain": [
       "rsus_Amon_EC-Earth3_piClim-aer_r1i1p1...:   0%|          |0.00/5.17M [?B/s]"
      ]
     },
     "metadata": {},
     "output_type": "display_data"
    },
    {
     "data": {
      "application/vnd.jupyter.widget-view+json": {
       "model_id": "91f0f048044e483caaf2bd9f588deb5c",
       "version_major": 2,
       "version_minor": 0
      },
      "text/plain": [
       "rsuscs_Amon_EC-Earth3_piClim-aer_r1i1...:   0%|          |0.00/5.16M [?B/s]"
      ]
     },
     "metadata": {},
     "output_type": "display_data"
    },
    {
     "data": {
      "application/vnd.jupyter.widget-view+json": {
       "model_id": "4801d165218f440c8dec262baeb3b4c5",
       "version_major": 2,
       "version_minor": 0
      },
      "text/plain": [
       "rsut_Amon_EC-Earth3_piClim-aer_r1i1p1...:   0%|          |0.00/5.11M [?B/s]"
      ]
     },
     "metadata": {},
     "output_type": "display_data"
    },
    {
     "data": {
      "application/vnd.jupyter.widget-view+json": {
       "model_id": "2934198e5dc541558cbd94598b508fc9",
       "version_major": 2,
       "version_minor": 0
      },
      "text/plain": [
       "rsut_Amon_EC-Earth3_piClim-aer_r1i1p1...:   0%|          |0.00/5.11M [?B/s]"
      ]
     },
     "metadata": {},
     "output_type": "display_data"
    },
    {
     "data": {
      "application/vnd.jupyter.widget-view+json": {
       "model_id": "950bb39f6f4648f1a05691403dcf501a",
       "version_major": 2,
       "version_minor": 0
      },
      "text/plain": [
       "rsut_Amon_EC-Earth3_piClim-aer_r1i1p1...:   0%|          |0.00/5.11M [?B/s]"
      ]
     },
     "metadata": {},
     "output_type": "display_data"
    },
    {
     "data": {
      "application/vnd.jupyter.widget-view+json": {
       "model_id": "8b9d004ea6d14d34aaa6f811e0c7e8ba",
       "version_major": 2,
       "version_minor": 0
      },
      "text/plain": [
       "rsut_Amon_EC-Earth3_piClim-aer_r1i1p1...:   0%|          |0.00/5.11M [?B/s]"
      ]
     },
     "metadata": {},
     "output_type": "display_data"
    },
    {
     "data": {
      "application/vnd.jupyter.widget-view+json": {
       "model_id": "6c304e76da6845c3bf5a579679023864",
       "version_major": 2,
       "version_minor": 0
      },
      "text/plain": [
       "rsutcs_Amon_EC-Earth3_piClim-aer_r1i1...:   0%|          |0.00/4.98M [?B/s]"
      ]
     },
     "metadata": {},
     "output_type": "display_data"
    },
    {
     "data": {
      "application/vnd.jupyter.widget-view+json": {
       "model_id": "ad9e37f0425e483a9d679fd7c06fc920",
       "version_major": 2,
       "version_minor": 0
      },
      "text/plain": [
       "rsutcs_Amon_EC-Earth3_piClim-aer_r1i1...:   0%|          |0.00/4.98M [?B/s]"
      ]
     },
     "metadata": {},
     "output_type": "display_data"
    },
    {
     "data": {
      "application/vnd.jupyter.widget-view+json": {
       "model_id": "96f068629fc147a9b8789dbe776c7e50",
       "version_major": 2,
       "version_minor": 0
      },
      "text/plain": [
       "rsutcs_Amon_EC-Earth3_piClim-aer_r1i1...:   0%|          |0.00/4.99M [?B/s]"
      ]
     },
     "metadata": {},
     "output_type": "display_data"
    },
    {
     "data": {
      "application/vnd.jupyter.widget-view+json": {
       "model_id": "7ea726e544734d46934e5e1203f63eb7",
       "version_major": 2,
       "version_minor": 0
      },
      "text/plain": [
       "rsutcs_Amon_EC-Earth3_piClim-aer_r1i1...:   0%|          |0.00/4.98M [?B/s]"
      ]
     },
     "metadata": {},
     "output_type": "display_data"
    },
    {
     "data": {
      "application/vnd.jupyter.widget-view+json": {
       "model_id": "c61cabd01e454eaaaf832639d78fe218",
       "version_major": 2,
       "version_minor": 0
      },
      "text/plain": [
       "rsutcs_Amon_EC-Earth3_piClim-aer_r1i1...:   0%|          |0.00/4.98M [?B/s]"
      ]
     },
     "metadata": {},
     "output_type": "display_data"
    },
    {
     "data": {
      "application/vnd.jupyter.widget-view+json": {
       "model_id": "da21ee407ea04ecb97c280b9c0c978e7",
       "version_major": 2,
       "version_minor": 0
      },
      "text/plain": [
       "clt_Amon_EC-Earth3_piClim-aer_r1i1p1f...:   0%|          |0.00/5.35M [?B/s]"
      ]
     },
     "metadata": {},
     "output_type": "display_data"
    },
    {
     "data": {
      "application/vnd.jupyter.widget-view+json": {
       "model_id": "5f62d5d8e6e24b26ab838bed98654d21",
       "version_major": 2,
       "version_minor": 0
      },
      "text/plain": [
       "clt_Amon_EC-Earth3_piClim-aer_r1i1p1f...:   0%|          |0.00/5.36M [?B/s]"
      ]
     },
     "metadata": {},
     "output_type": "display_data"
    },
    {
     "data": {
      "application/vnd.jupyter.widget-view+json": {
       "model_id": "97ea3794582746b4a7105702c2714654",
       "version_major": 2,
       "version_minor": 0
      },
      "text/plain": [
       "rsutcs_Amon_EC-Earth3_piClim-aer_r1i1...:   0%|          |0.00/4.98M [?B/s]"
      ]
     },
     "metadata": {},
     "output_type": "display_data"
    },
    {
     "data": {
      "application/vnd.jupyter.widget-view+json": {
       "model_id": "32b7d10eb24f435986d889eac984a7d9",
       "version_major": 2,
       "version_minor": 0
      },
      "text/plain": [
       "clt_Amon_EC-Earth3_piClim-aer_r1i1p1f...:   0%|          |0.00/5.35M [?B/s]"
      ]
     },
     "metadata": {},
     "output_type": "display_data"
    },
    {
     "data": {
      "application/vnd.jupyter.widget-view+json": {
       "model_id": "56b78bc0dd9d484cad09f95c47008a8c",
       "version_major": 2,
       "version_minor": 0
      },
      "text/plain": [
       "clt_Amon_EC-Earth3_piClim-aer_r1i1p1f...:   0%|          |0.00/5.36M [?B/s]"
      ]
     },
     "metadata": {},
     "output_type": "display_data"
    },
    {
     "data": {
      "application/vnd.jupyter.widget-view+json": {
       "model_id": "760001f718f144789f8c2e268f41b7e5",
       "version_major": 2,
       "version_minor": 0
      },
      "text/plain": [
       "clt_Amon_EC-Earth3_piClim-control_r1i...:   0%|          |0.00/5.35M [?B/s]"
      ]
     },
     "metadata": {},
     "output_type": "display_data"
    },
    {
     "data": {
      "application/vnd.jupyter.widget-view+json": {
       "model_id": "aa0bfb44d4a348ff8ab8ad335ac90cac",
       "version_major": 2,
       "version_minor": 0
      },
      "text/plain": [
       "clt_Amon_EC-Earth3_piClim-control_r1i...:   0%|          |0.00/5.36M [?B/s]"
      ]
     },
     "metadata": {},
     "output_type": "display_data"
    },
    {
     "data": {
      "application/vnd.jupyter.widget-view+json": {
       "model_id": "ddf423f658f641ae9804f92804a41c44",
       "version_major": 2,
       "version_minor": 0
      },
      "text/plain": [
       "rlds_Amon_EC-Earth3_piClim-control_r1...:   0%|          |0.00/5.25M [?B/s]"
      ]
     },
     "metadata": {},
     "output_type": "display_data"
    },
    {
     "data": {
      "application/vnd.jupyter.widget-view+json": {
       "model_id": "c352f2bb5de14d859217dfc3bdf7549f",
       "version_major": 2,
       "version_minor": 0
      },
      "text/plain": [
       "rlus_Amon_EC-Earth3_piClim-control_r1...:   0%|          |0.00/5.19M [?B/s]"
      ]
     },
     "metadata": {},
     "output_type": "display_data"
    },
    {
     "data": {
      "application/vnd.jupyter.widget-view+json": {
       "model_id": "9ae4d40fcaef47edbedd6823ee2d6a79",
       "version_major": 2,
       "version_minor": 0
      },
      "text/plain": [
       "rlds_Amon_EC-Earth3_piClim-control_r1...:   0%|          |0.00/5.26M [?B/s]"
      ]
     },
     "metadata": {},
     "output_type": "display_data"
    },
    {
     "data": {
      "application/vnd.jupyter.widget-view+json": {
       "model_id": "1c566bffddb04cf89b084e04268618af",
       "version_major": 2,
       "version_minor": 0
      },
      "text/plain": [
       "rlus_Amon_EC-Earth3_piClim-control_r1...:   0%|          |0.00/5.19M [?B/s]"
      ]
     },
     "metadata": {},
     "output_type": "display_data"
    },
    {
     "data": {
      "application/vnd.jupyter.widget-view+json": {
       "model_id": "ebd0d8c53ce949fe8b5bbe2fa7ce441d",
       "version_major": 2,
       "version_minor": 0
      },
      "text/plain": [
       "rlut_Amon_EC-Earth3_piClim-control_r1...:   0%|          |0.00/5.23M [?B/s]"
      ]
     },
     "metadata": {},
     "output_type": "display_data"
    },
    {
     "data": {
      "application/vnd.jupyter.widget-view+json": {
       "model_id": "542f7195062f475185feb9112591995f",
       "version_major": 2,
       "version_minor": 0
      },
      "text/plain": [
       "rlut_Amon_EC-Earth3_piClim-control_r1...:   0%|          |0.00/5.23M [?B/s]"
      ]
     },
     "metadata": {},
     "output_type": "display_data"
    },
    {
     "data": {
      "application/vnd.jupyter.widget-view+json": {
       "model_id": "aa24ba7f3abd47a5bc3bc6004f19dfb9",
       "version_major": 2,
       "version_minor": 0
      },
      "text/plain": [
       "rlut_Amon_EC-Earth3_piClim-control_r1...:   0%|          |0.00/5.23M [?B/s]"
      ]
     },
     "metadata": {},
     "output_type": "display_data"
    },
    {
     "data": {
      "application/vnd.jupyter.widget-view+json": {
       "model_id": "0da17596f4504abb8cbf579de7d6bb21",
       "version_major": 2,
       "version_minor": 0
      },
      "text/plain": [
       "rlutcs_Amon_EC-Earth3_piClim-control_...:   0%|          |0.00/5.08M [?B/s]"
      ]
     },
     "metadata": {},
     "output_type": "display_data"
    },
    {
     "data": {
      "application/vnd.jupyter.widget-view+json": {
       "model_id": "b9f693e5858c40fe84830e59cb4ca3de",
       "version_major": 2,
       "version_minor": 0
      },
      "text/plain": [
       "rlutcs_Amon_EC-Earth3_piClim-control_...:   0%|          |0.00/5.08M [?B/s]"
      ]
     },
     "metadata": {},
     "output_type": "display_data"
    },
    {
     "data": {
      "application/vnd.jupyter.widget-view+json": {
       "model_id": "8b74b412d3bd42e9aa858b690c1fe580",
       "version_major": 2,
       "version_minor": 0
      },
      "text/plain": [
       "rlutcs_Amon_EC-Earth3_piClim-control_...:   0%|          |0.00/5.08M [?B/s]"
      ]
     },
     "metadata": {},
     "output_type": "display_data"
    },
    {
     "data": {
      "application/vnd.jupyter.widget-view+json": {
       "model_id": "781d6b2d80a24102b49ea00feef7a02c",
       "version_major": 2,
       "version_minor": 0
      },
      "text/plain": [
       "rsds_Amon_EC-Earth3_piClim-control_r1...:   0%|          |0.00/5.07M [?B/s]"
      ]
     },
     "metadata": {},
     "output_type": "display_data"
    },
    {
     "data": {
      "application/vnd.jupyter.widget-view+json": {
       "model_id": "476abef7c6d944d6898e325861ab464f",
       "version_major": 2,
       "version_minor": 0
      },
      "text/plain": [
       "rsds_Amon_EC-Earth3_piClim-control_r1...:   0%|          |0.00/5.07M [?B/s]"
      ]
     },
     "metadata": {},
     "output_type": "display_data"
    },
    {
     "data": {
      "application/vnd.jupyter.widget-view+json": {
       "model_id": "89a3ccd1f98e4a2fb00465bbc69bf158",
       "version_major": 2,
       "version_minor": 0
      },
      "text/plain": [
       "rlutcs_Amon_EC-Earth3_piClim-control_...:   0%|          |0.00/5.08M [?B/s]"
      ]
     },
     "metadata": {},
     "output_type": "display_data"
    },
    {
     "data": {
      "application/vnd.jupyter.widget-view+json": {
       "model_id": "355f749ef64e43c3a5f34d61138ad71a",
       "version_major": 2,
       "version_minor": 0
      },
      "text/plain": [
       "rsds_Amon_EC-Earth3_piClim-control_r1...:   0%|          |0.00/5.07M [?B/s]"
      ]
     },
     "metadata": {},
     "output_type": "display_data"
    },
    {
     "data": {
      "application/vnd.jupyter.widget-view+json": {
       "model_id": "125d811c6d614549a68f0347e8a4040c",
       "version_major": 2,
       "version_minor": 0
      },
      "text/plain": [
       "rsdscs_Amon_EC-Earth3_piClim-control_...:   0%|          |0.00/4.87M [?B/s]"
      ]
     },
     "metadata": {},
     "output_type": "display_data"
    },
    {
     "data": {
      "application/vnd.jupyter.widget-view+json": {
       "model_id": "6fbbd0aa5d86498e9f90e60c9f0328b6",
       "version_major": 2,
       "version_minor": 0
      },
      "text/plain": [
       "rsds_Amon_EC-Earth3_piClim-control_r1...:   0%|          |0.00/5.07M [?B/s]"
      ]
     },
     "metadata": {},
     "output_type": "display_data"
    },
    {
     "data": {
      "application/vnd.jupyter.widget-view+json": {
       "model_id": "d3ad4bf18b404c2b9990250bc44a83d0",
       "version_major": 2,
       "version_minor": 0
      },
      "text/plain": [
       "rsdscs_Amon_EC-Earth3_piClim-control_...:   0%|          |0.00/4.86M [?B/s]"
      ]
     },
     "metadata": {},
     "output_type": "display_data"
    },
    {
     "data": {
      "application/vnd.jupyter.widget-view+json": {
       "model_id": "325daccde6e3410da2f674020cdf76a5",
       "version_major": 2,
       "version_minor": 0
      },
      "text/plain": [
       "rsdscs_Amon_EC-Earth3_piClim-control_...:   0%|          |0.00/4.87M [?B/s]"
      ]
     },
     "metadata": {},
     "output_type": "display_data"
    },
    {
     "data": {
      "application/vnd.jupyter.widget-view+json": {
       "model_id": "4c8d3016cdc44df297934d511f0c9dd9",
       "version_major": 2,
       "version_minor": 0
      },
      "text/plain": [
       "rsdt_Amon_EC-Earth3_piClim-control_r1...:   0%|          |0.00/4.03M [?B/s]"
      ]
     },
     "metadata": {},
     "output_type": "display_data"
    },
    {
     "data": {
      "application/vnd.jupyter.widget-view+json": {
       "model_id": "eee06072416648ff98f5d6489d7ba224",
       "version_major": 2,
       "version_minor": 0
      },
      "text/plain": [
       "rsdt_Amon_EC-Earth3_piClim-control_r1...:   0%|          |0.00/4.03M [?B/s]"
      ]
     },
     "metadata": {},
     "output_type": "display_data"
    },
    {
     "data": {
      "application/vnd.jupyter.widget-view+json": {
       "model_id": "aff2b5ce324b4565b0d7410054df9d9e",
       "version_major": 2,
       "version_minor": 0
      },
      "text/plain": [
       "rsdt_Amon_EC-Earth3_piClim-control_r1...:   0%|          |0.00/4.02M [?B/s]"
      ]
     },
     "metadata": {},
     "output_type": "display_data"
    },
    {
     "data": {
      "application/vnd.jupyter.widget-view+json": {
       "model_id": "b1b99dc24ec148b4a68156886594d53f",
       "version_major": 2,
       "version_minor": 0
      },
      "text/plain": [
       "rsdt_Amon_EC-Earth3_piClim-control_r1...:   0%|          |0.00/4.02M [?B/s]"
      ]
     },
     "metadata": {},
     "output_type": "display_data"
    },
    {
     "data": {
      "application/vnd.jupyter.widget-view+json": {
       "model_id": "10e3c949ffed47f986978b0af5a7d481",
       "version_major": 2,
       "version_minor": 0
      },
      "text/plain": [
       "rsdt_Amon_EC-Earth3_piClim-control_r1...:   0%|          |0.00/4.03M [?B/s]"
      ]
     },
     "metadata": {},
     "output_type": "display_data"
    },
    {
     "data": {
      "application/vnd.jupyter.widget-view+json": {
       "model_id": "63dae3e135484b9a8c3628e852e04465",
       "version_major": 2,
       "version_minor": 0
      },
      "text/plain": [
       "rsus_Amon_EC-Earth3_piClim-control_r1...:   0%|          |0.00/5.17M [?B/s]"
      ]
     },
     "metadata": {},
     "output_type": "display_data"
    },
    {
     "data": {
      "application/vnd.jupyter.widget-view+json": {
       "model_id": "d062e05066c24922ade02e66fb24e721",
       "version_major": 2,
       "version_minor": 0
      },
      "text/plain": [
       "rsuscs_Amon_EC-Earth3_piClim-control_...:   0%|          |0.00/5.16M [?B/s]"
      ]
     },
     "metadata": {},
     "output_type": "display_data"
    },
    {
     "data": {
      "application/vnd.jupyter.widget-view+json": {
       "model_id": "b424a46b6f674e07849262ebbe847af6",
       "version_major": 2,
       "version_minor": 0
      },
      "text/plain": [
       "rsuscs_Amon_EC-Earth3_piClim-control_...:   0%|          |0.00/5.16M [?B/s]"
      ]
     },
     "metadata": {},
     "output_type": "display_data"
    },
    {
     "data": {
      "application/vnd.jupyter.widget-view+json": {
       "model_id": "d9ffcd7339104a1687de3066d5343f39",
       "version_major": 2,
       "version_minor": 0
      },
      "text/plain": [
       "rsuscs_Amon_EC-Earth3_piClim-control_...:   0%|          |0.00/5.17M [?B/s]"
      ]
     },
     "metadata": {},
     "output_type": "display_data"
    },
    {
     "data": {
      "application/vnd.jupyter.widget-view+json": {
       "model_id": "4a6aed0f2f2148c5b2bcc22011ee8e6f",
       "version_major": 2,
       "version_minor": 0
      },
      "text/plain": [
       "rsut_Amon_EC-Earth3_piClim-control_r1...:   0%|          |0.00/5.11M [?B/s]"
      ]
     },
     "metadata": {},
     "output_type": "display_data"
    },
    {
     "data": {
      "application/vnd.jupyter.widget-view+json": {
       "model_id": "5f228d888a924de3b24eac6af8167442",
       "version_major": 2,
       "version_minor": 0
      },
      "text/plain": [
       "rsut_Amon_EC-Earth3_piClim-control_r1...:   0%|          |0.00/5.11M [?B/s]"
      ]
     },
     "metadata": {},
     "output_type": "display_data"
    },
    {
     "data": {
      "application/vnd.jupyter.widget-view+json": {
       "model_id": "909b508b710b45e59ffff00933f3b771",
       "version_major": 2,
       "version_minor": 0
      },
      "text/plain": [
       "rsut_Amon_EC-Earth3_piClim-control_r1...:   0%|          |0.00/5.11M [?B/s]"
      ]
     },
     "metadata": {},
     "output_type": "display_data"
    },
    {
     "data": {
      "application/vnd.jupyter.widget-view+json": {
       "model_id": "1dc7b67ca23e4769b5595e17a43f3a56",
       "version_major": 2,
       "version_minor": 0
      },
      "text/plain": [
       "rsutcs_Amon_EC-Earth3_piClim-control_...:   0%|          |0.00/4.97M [?B/s]"
      ]
     },
     "metadata": {},
     "output_type": "display_data"
    },
    {
     "data": {
      "application/vnd.jupyter.widget-view+json": {
       "model_id": "092e9408af4c46f681db1dcc5aa98cb8",
       "version_major": 2,
       "version_minor": 0
      },
      "text/plain": [
       "rsutcs_Amon_EC-Earth3_piClim-control_...:   0%|          |0.00/4.97M [?B/s]"
      ]
     },
     "metadata": {},
     "output_type": "display_data"
    },
    {
     "data": {
      "application/vnd.jupyter.widget-view+json": {
       "model_id": "4eb0f51ffccd471ca818bae0461763cd",
       "version_major": 2,
       "version_minor": 0
      },
      "text/plain": [
       "rsds_Amon_ACCESS-ESM1-5_piClim-contro...:   0%|          |0.00/32.4M [?B/s]"
      ]
     },
     "metadata": {},
     "output_type": "display_data"
    },
    {
     "data": {
      "application/vnd.jupyter.widget-view+json": {
       "model_id": "93ef6d0640254dcf85f147e403fbd6cb",
       "version_major": 2,
       "version_minor": 0
      },
      "text/plain": [
       "rsutcs_Amon_EC-Earth3_piClim-control_...:   0%|          |0.00/4.97M [?B/s]"
      ]
     },
     "metadata": {},
     "output_type": "display_data"
    },
    {
     "data": {
      "application/vnd.jupyter.widget-view+json": {
       "model_id": "b56e00ddc8244afc8dd091f61440e025",
       "version_major": 2,
       "version_minor": 0
      },
      "text/plain": [
       "rsdt_Amon_ACCESS-ESM1-5_piClim-contro...:   0%|          |0.00/549k [?B/s]"
      ]
     },
     "metadata": {},
     "output_type": "display_data"
    },
    {
     "data": {
      "application/vnd.jupyter.widget-view+json": {
       "model_id": "7fe295b8fc164310bc5b4b71708cb51d",
       "version_major": 2,
       "version_minor": 0
      },
      "text/plain": [
       "rsutcs_Amon_CNRM-CM6-1_piClim-aer_r1i...:   0%|          |0.00/29.3M [?B/s]"
      ]
     },
     "metadata": {},
     "output_type": "display_data"
    },
    {
     "data": {
      "application/vnd.jupyter.widget-view+json": {
       "model_id": "81af2f83455c48a389d087a890e6ab55",
       "version_major": 2,
       "version_minor": 0
      },
      "text/plain": [
       "rsus_Amon_CNRM-CM6-1_piClim-control_r...:   0%|          |0.00/32.9M [?B/s]"
      ]
     },
     "metadata": {},
     "output_type": "display_data"
    },
    {
     "data": {
      "application/vnd.jupyter.widget-view+json": {
       "model_id": "c6285369212c468ca8b758b5f9b9b782",
       "version_major": 2,
       "version_minor": 0
      },
      "text/plain": [
       "rsut_Amon_CNRM-ESM2-1_piClim-control_...:   0%|          |0.00/32.5M [?B/s]"
      ]
     },
     "metadata": {},
     "output_type": "display_data"
    },
    {
     "data": {
      "application/vnd.jupyter.widget-view+json": {
       "model_id": "4399f354c499467496dea5775372d01d",
       "version_major": 2,
       "version_minor": 0
      },
      "text/plain": [
       "rsdscs_Amon_IPSL-CM6A-LR_piClim-aer_r...:   0%|          |0.00/17.6M [?B/s]"
      ]
     },
     "metadata": {},
     "output_type": "display_data"
    },
    {
     "data": {
      "application/vnd.jupyter.widget-view+json": {
       "model_id": "f3913efae1df4e29858cd153aa01a5c8",
       "version_major": 2,
       "version_minor": 0
      },
      "text/plain": [
       "rsus_Amon_IPSL-CM6A-LR_piClim-aer_r1i...:   0%|          |0.00/21.3M [?B/s]"
      ]
     },
     "metadata": {},
     "output_type": "display_data"
    },
    {
     "data": {
      "application/vnd.jupyter.widget-view+json": {
       "model_id": "f7aba6fd39f9418ebda71f1dc1841929",
       "version_major": 2,
       "version_minor": 0
      },
      "text/plain": [
       "rsuscs_Amon_IPSL-CM6A-LR_piClim-aer_r...:   0%|          |0.00/19.7M [?B/s]"
      ]
     },
     "metadata": {},
     "output_type": "display_data"
    },
    {
     "data": {
      "application/vnd.jupyter.widget-view+json": {
       "model_id": "c0e5378d03984065b115ab72091634c7",
       "version_major": 2,
       "version_minor": 0
      },
      "text/plain": [
       "rsuscs_Amon_MPI-ESM-1-2-HAM_piClim-ae...:   0%|          |0.00/7.19M [?B/s]"
      ]
     },
     "metadata": {},
     "output_type": "display_data"
    },
    {
     "data": {
      "application/vnd.jupyter.widget-view+json": {
       "model_id": "3b976e4a00714a0181277d8efb9c4280",
       "version_major": 2,
       "version_minor": 0
      },
      "text/plain": [
       "clt_Amon_MIROC6_piClim-aer_r1i1p1f1_g...:   0%|          |0.00/34.5M [?B/s]"
      ]
     },
     "metadata": {},
     "output_type": "display_data"
    },
    {
     "data": {
      "application/vnd.jupyter.widget-view+json": {
       "model_id": "3503071250224207ab9fdec6500dba32",
       "version_major": 2,
       "version_minor": 0
      },
      "text/plain": [
       "rlds_Amon_MIROC6_piClim-aer_r1i1p1f1_...:   0%|          |0.00/30.9M [?B/s]"
      ]
     },
     "metadata": {},
     "output_type": "display_data"
    },
    {
     "data": {
      "application/vnd.jupyter.widget-view+json": {
       "model_id": "ebbb07a9f3794d0293c725200ed21d68",
       "version_major": 2,
       "version_minor": 0
      },
      "text/plain": [
       "rlutcs_Amon_IPSL-CM6A-LR-INCA_piClim-...:   0%|          |0.00/19.0M [?B/s]"
      ]
     },
     "metadata": {},
     "output_type": "display_data"
    },
    {
     "data": {
      "application/vnd.jupyter.widget-view+json": {
       "model_id": "e71364b277224308ad68c4d13ae5da21",
       "version_major": 2,
       "version_minor": 0
      },
      "text/plain": [
       "clt_Amon_IPSL-CM6A-LR-INCA_piClim-aer...:   0%|          |0.00/22.2M [?B/s]"
      ]
     },
     "metadata": {},
     "output_type": "display_data"
    },
    {
     "data": {
      "application/vnd.jupyter.widget-view+json": {
       "model_id": "f0d73977161242f8bad427c51826fb33",
       "version_major": 2,
       "version_minor": 0
      },
      "text/plain": [
       "rlus_Amon_IPSL-CM6A-LR-INCA_piClim-ae...:   0%|          |0.00/19.8M [?B/s]"
      ]
     },
     "metadata": {},
     "output_type": "display_data"
    },
    {
     "data": {
      "application/vnd.jupyter.widget-view+json": {
       "model_id": "0c26bbddbd714bf094b8ba0f59940c0d",
       "version_major": 2,
       "version_minor": 0
      },
      "text/plain": [
       "rlutcs_Amon_IPSL-CM6A-LR-INCA_piClim-...:   0%|          |0.00/19.0M [?B/s]"
      ]
     },
     "metadata": {},
     "output_type": "display_data"
    },
    {
     "data": {
      "application/vnd.jupyter.widget-view+json": {
       "model_id": "02399ce8bae4494a81cddaa1d76ef56a",
       "version_major": 2,
       "version_minor": 0
      },
      "text/plain": [
       "rlus_Amon_MIROC6_piClim-control_r1i1p...:   0%|          |0.00/29.7M [?B/s]"
      ]
     },
     "metadata": {},
     "output_type": "display_data"
    },
    {
     "data": {
      "application/vnd.jupyter.widget-view+json": {
       "model_id": "cedbf494a7534190afebe4ea60ea1dce",
       "version_major": 2,
       "version_minor": 0
      },
      "text/plain": [
       "clt_Amon_NorESM2-MM_piClim-aer_r1i1p1...:   0%|          |0.00/19.1M [?B/s]"
      ]
     },
     "metadata": {},
     "output_type": "display_data"
    },
    {
     "data": {
      "application/vnd.jupyter.widget-view+json": {
       "model_id": "3f4895427119499fae9eaf7258963078",
       "version_major": 2,
       "version_minor": 0
      },
      "text/plain": [
       "rlutcs_Amon_MIROC6_piClim-control_r1i...:   0%|          |0.00/28.1M [?B/s]"
      ]
     },
     "metadata": {},
     "output_type": "display_data"
    },
    {
     "data": {
      "application/vnd.jupyter.widget-view+json": {
       "model_id": "0741d97cf4b848219498573362611230",
       "version_major": 2,
       "version_minor": 0
      },
      "text/plain": [
       "rsuscs_Amon_CNRM-ESM2-1_piClim-aer_r1...:   0%|          |0.00/30.1M [?B/s]"
      ]
     },
     "metadata": {},
     "output_type": "display_data"
    },
    {
     "data": {
      "application/vnd.jupyter.widget-view+json": {
       "model_id": "8a3ebe6cdab94e1e967b8eb92a9da94e",
       "version_major": 2,
       "version_minor": 0
      },
      "text/plain": [
       "rsutcs_Amon_CNRM-ESM2-1_piClim-aer_r1...:   0%|          |0.00/29.6M [?B/s]"
      ]
     },
     "metadata": {},
     "output_type": "display_data"
    },
    {
     "data": {
      "application/vnd.jupyter.widget-view+json": {
       "model_id": "bfce89fc699b409cbf1d359a4ac57a81",
       "version_major": 2,
       "version_minor": 0
      },
      "text/plain": [
       "rlutcs_Amon_NorESM2-MM_piClim-aer_r1i...:   0%|          |0.00/15.8M [?B/s]"
      ]
     },
     "metadata": {},
     "output_type": "display_data"
    },
    {
     "data": {
      "application/vnd.jupyter.widget-view+json": {
       "model_id": "fcdb5dce5deb4c258a6f64231cfa1c7c",
       "version_major": 2,
       "version_minor": 0
      },
      "text/plain": [
       "rsds_Amon_NorESM2-MM_piClim-aer_r1i1p...:   0%|          |0.00/18.0M [?B/s]"
      ]
     },
     "metadata": {},
     "output_type": "display_data"
    },
    {
     "data": {
      "application/vnd.jupyter.widget-view+json": {
       "model_id": "66e4a5127b8c43eaa2cfbfd54d454c99",
       "version_major": 2,
       "version_minor": 0
      },
      "text/plain": [
       "rsuscs_Amon_NorESM2-MM_piClim-control...:   0%|          |0.00/15.4M [?B/s]"
      ]
     },
     "metadata": {},
     "output_type": "display_data"
    },
    {
     "data": {
      "application/vnd.jupyter.widget-view+json": {
       "model_id": "659f594847c544cc94422d3c3ea50e66",
       "version_major": 2,
       "version_minor": 0
      },
      "text/plain": [
       "rlutcs_Amon_UKESM1-0-LL_piClim-aer_r1...:   0%|          |0.00/36.4M [?B/s]"
      ]
     },
     "metadata": {},
     "output_type": "display_data"
    },
    {
     "data": {
      "application/vnd.jupyter.widget-view+json": {
       "model_id": "875477adcaa3400d97249dab3855fc85",
       "version_major": 2,
       "version_minor": 0
      },
      "text/plain": [
       "rsds_Amon_UKESM1-0-LL_piClim-aer_r1i1...:   0%|          |0.00/41.4M [?B/s]"
      ]
     },
     "metadata": {},
     "output_type": "display_data"
    },
    {
     "data": {
      "application/vnd.jupyter.widget-view+json": {
       "model_id": "7cf5185f1722467490554ad405d61fe2",
       "version_major": 2,
       "version_minor": 0
      },
      "text/plain": [
       "rsdscs_Amon_UKESM1-0-LL_piClim-contro...:   0%|          |0.00/35.3M [?B/s]"
      ]
     },
     "metadata": {},
     "output_type": "display_data"
    },
    {
     "data": {
      "application/vnd.jupyter.widget-view+json": {
       "model_id": "2f82ed2b1924495b97c6f5cfa1c05f5c",
       "version_major": 2,
       "version_minor": 0
      },
      "text/plain": [
       "rsdscs_Amon_BCC-ESM1_piClim-control_r...:   0%|          |0.00/12.2M [?B/s]"
      ]
     },
     "metadata": {},
     "output_type": "display_data"
    },
    {
     "data": {
      "application/vnd.jupyter.widget-view+json": {
       "model_id": "6c72d231892d46f59a173e2d3e18b6e0",
       "version_major": 2,
       "version_minor": 0
      },
      "text/plain": [
       "rsutcs_Amon_GFDL-CM4_piClim-aer_r1i1p...:   0%|          |0.00/47.1M [?B/s]"
      ]
     },
     "metadata": {},
     "output_type": "display_data"
    },
    {
     "data": {
      "application/vnd.jupyter.widget-view+json": {
       "model_id": "a552f43de3914b738bee14b1d08236ee",
       "version_major": 2,
       "version_minor": 0
      },
      "text/plain": [
       "rsdt_Amon_BCC-ESM1_piClim-control_r1i...:   0%|          |0.00/12.2M [?B/s]"
      ]
     },
     "metadata": {},
     "output_type": "display_data"
    },
    {
     "data": {
      "application/vnd.jupyter.widget-view+json": {
       "model_id": "33998afa064d4e4daab403eeecda04d3",
       "version_major": 2,
       "version_minor": 0
      },
      "text/plain": [
       "rsus_Amon_BCC-ESM1_piClim-control_r1i...:   0%|          |0.00/12.2M [?B/s]"
      ]
     },
     "metadata": {},
     "output_type": "display_data"
    },
    {
     "data": {
      "application/vnd.jupyter.widget-view+json": {
       "model_id": "c5fbc7f6572147409a069f6315964f32",
       "version_major": 2,
       "version_minor": 0
      },
      "text/plain": [
       "rlus_Amon_GISS-E2-1-G_piClim-control_...:   0%|          |0.00/19.3M [?B/s]"
      ]
     },
     "metadata": {},
     "output_type": "display_data"
    },
    {
     "data": {
      "application/vnd.jupyter.widget-view+json": {
       "model_id": "851472b7548e4e1e9d850b3799a066a0",
       "version_major": 2,
       "version_minor": 0
      },
      "text/plain": [
       "rlutcs_Amon_GISS-E2-1-G_piClim-contro...:   0%|          |0.00/19.3M [?B/s]"
      ]
     },
     "metadata": {},
     "output_type": "display_data"
    },
    {
     "data": {
      "application/vnd.jupyter.widget-view+json": {
       "model_id": "6efcfe106ff443cfafb78124187c3652",
       "version_major": 2,
       "version_minor": 0
      },
      "text/plain": [
       "rsdscs_Amon_GISS-E2-1-G_piClim-contro...:   0%|          |0.00/19.3M [?B/s]"
      ]
     },
     "metadata": {},
     "output_type": "display_data"
    },
    {
     "data": {
      "application/vnd.jupyter.widget-view+json": {
       "model_id": "b7f1b7c0b6e74375b7352f8c1f2dccc8",
       "version_major": 2,
       "version_minor": 0
      },
      "text/plain": [
       "rsus_Amon_MRI-ESM2-0_piClim-aer_r1i1p...:   0%|          |0.00/51.2M [?B/s]"
      ]
     },
     "metadata": {},
     "output_type": "display_data"
    },
    {
     "data": {
      "application/vnd.jupyter.widget-view+json": {
       "model_id": "c7075318284a417cbdde6083b56097a0",
       "version_major": 2,
       "version_minor": 0
      },
      "text/plain": [
       "rsut_Amon_MRI-ESM2-0_piClim-aer_r1i1p...:   0%|          |0.00/1.74M [?B/s]"
      ]
     },
     "metadata": {},
     "output_type": "display_data"
    },
    {
     "data": {
      "application/vnd.jupyter.widget-view+json": {
       "model_id": "07a48e3ddb094839a1270f50c02d0ad4",
       "version_major": 2,
       "version_minor": 0
      },
      "text/plain": [
       "clt_Amon_MRI-ESM2-0_piClim-control_r1...:   0%|          |0.00/53.5M [?B/s]"
      ]
     },
     "metadata": {},
     "output_type": "display_data"
    },
    {
     "data": {
      "application/vnd.jupyter.widget-view+json": {
       "model_id": "575d3619fc624c5c9f02ad043247d160",
       "version_major": 2,
       "version_minor": 0
      },
      "text/plain": [
       "rlut_Amon_MRI-ESM2-0_piClim-control_r...:   0%|          |0.00/1.62M [?B/s]"
      ]
     },
     "metadata": {},
     "output_type": "display_data"
    },
    {
     "data": {
      "application/vnd.jupyter.widget-view+json": {
       "model_id": "8d8d0106c1bd493984b6a1e8ef833f22",
       "version_major": 2,
       "version_minor": 0
      },
      "text/plain": [
       "rsutcs_Amon_MRI-ESM2-0_piClim-control...:   0%|          |0.00/45.8M [?B/s]"
      ]
     },
     "metadata": {},
     "output_type": "display_data"
    },
    {
     "data": {
      "application/vnd.jupyter.widget-view+json": {
       "model_id": "4ce5476ad9e543ad9d8334393079d530",
       "version_major": 2,
       "version_minor": 0
      },
      "text/plain": [
       "rlutcs_Amon_MPI-ESM-1-2-HAM_piClim-ae...:   0%|          |0.00/3.86M [?B/s]"
      ]
     },
     "metadata": {},
     "output_type": "display_data"
    },
    {
     "data": {
      "application/vnd.jupyter.widget-view+json": {
       "model_id": "cfc33e8e127142f39ac2e98c6e35ff4e",
       "version_major": 2,
       "version_minor": 0
      },
      "text/plain": [
       "rlds_Amon_CanESM5_piClim-control_r1i1...:   0%|          |0.00/17.0M [?B/s]"
      ]
     },
     "metadata": {},
     "output_type": "display_data"
    },
    {
     "data": {
      "application/vnd.jupyter.widget-view+json": {
       "model_id": "63749b3979074f318febc9cc07a779a4",
       "version_major": 2,
       "version_minor": 0
      },
      "text/plain": [
       "rsuscs_Amon_MIROC6_piClim-aer_r1i1p1f...:   0%|          |0.00/31.7M [?B/s]"
      ]
     },
     "metadata": {},
     "output_type": "display_data"
    },
    {
     "data": {
      "application/vnd.jupyter.widget-view+json": {
       "model_id": "3392eb92d1dc443cbe9277e04957a247",
       "version_major": 2,
       "version_minor": 0
      },
      "text/plain": [
       "rlut_Amon_IPSL-CM6A-LR-INCA_piClim-co...:   0%|          |0.00/20.1M [?B/s]"
      ]
     },
     "metadata": {},
     "output_type": "display_data"
    },
    {
     "data": {
      "application/vnd.jupyter.widget-view+json": {
       "model_id": "0ce3f35c93e94d628c3bc4a7adf11918",
       "version_major": 2,
       "version_minor": 0
      },
      "text/plain": [
       "rsuscs_Amon_MIROC6_piClim-control_r1i...:   0%|          |0.00/31.7M [?B/s]"
      ]
     },
     "metadata": {},
     "output_type": "display_data"
    },
    {
     "data": {
      "application/vnd.jupyter.widget-view+json": {
       "model_id": "34a56520a99d4f2b98c8489696cbff1a",
       "version_major": 2,
       "version_minor": 0
      },
      "text/plain": [
       "rlds_Amon_EC-Earth3_piClim-aer_r1i1p1...:   0%|          |0.00/5.25M [?B/s]"
      ]
     },
     "metadata": {},
     "output_type": "display_data"
    },
    {
     "data": {
      "application/vnd.jupyter.widget-view+json": {
       "model_id": "7fc4e3a717214260a033f87b931060a9",
       "version_major": 2,
       "version_minor": 0
      },
      "text/plain": [
       "rsut_Amon_IPSL-CM6A-LR_piClim-aer_r1i...:   0%|          |0.00/20.8M [?B/s]"
      ]
     },
     "metadata": {},
     "output_type": "display_data"
    },
    {
     "data": {
      "application/vnd.jupyter.widget-view+json": {
       "model_id": "255b42ef3ec04bc989a2c2f655acc5c1",
       "version_major": 2,
       "version_minor": 0
      },
      "text/plain": [
       "rlds_Amon_EC-Earth3_piClim-aer_r1i1p1...:   0%|          |0.00/5.26M [?B/s]"
      ]
     },
     "metadata": {},
     "output_type": "display_data"
    },
    {
     "data": {
      "application/vnd.jupyter.widget-view+json": {
       "model_id": "76ddc8bc651f4a65a158b93506ec7e53",
       "version_major": 2,
       "version_minor": 0
      },
      "text/plain": [
       "rlds_Amon_EC-Earth3_piClim-aer_r1i1p1...:   0%|          |0.00/5.26M [?B/s]"
      ]
     },
     "metadata": {},
     "output_type": "display_data"
    },
    {
     "data": {
      "application/vnd.jupyter.widget-view+json": {
       "model_id": "9d06469812e349df9a852015d5d75ecc",
       "version_major": 2,
       "version_minor": 0
      },
      "text/plain": [
       "rlds_Amon_EC-Earth3_piClim-aer_r1i1p1...:   0%|          |0.00/5.26M [?B/s]"
      ]
     },
     "metadata": {},
     "output_type": "display_data"
    },
    {
     "data": {
      "application/vnd.jupyter.widget-view+json": {
       "model_id": "3dfdc815d1094d168964954bcafd3b6d",
       "version_major": 2,
       "version_minor": 0
      },
      "text/plain": [
       "rlds_Amon_EC-Earth3_piClim-aer_r1i1p1...:   0%|          |0.00/5.26M [?B/s]"
      ]
     },
     "metadata": {},
     "output_type": "display_data"
    },
    {
     "data": {
      "application/vnd.jupyter.widget-view+json": {
       "model_id": "391b9416e5364582ac83c7dedfda976e",
       "version_major": 2,
       "version_minor": 0
      },
      "text/plain": [
       "rlus_Amon_EC-Earth3_piClim-aer_r1i1p1...:   0%|          |0.00/5.19M [?B/s]"
      ]
     },
     "metadata": {},
     "output_type": "display_data"
    },
    {
     "data": {
      "application/vnd.jupyter.widget-view+json": {
       "model_id": "26390fd3f2564ebfb8d8a079692d278e",
       "version_major": 2,
       "version_minor": 0
      },
      "text/plain": [
       "rlus_Amon_EC-Earth3_piClim-aer_r1i1p1...:   0%|          |0.00/5.19M [?B/s]"
      ]
     },
     "metadata": {},
     "output_type": "display_data"
    },
    {
     "data": {
      "application/vnd.jupyter.widget-view+json": {
       "model_id": "8b9e73a002eb441086430c0f9a1dba0e",
       "version_major": 2,
       "version_minor": 0
      },
      "text/plain": [
       "rlus_Amon_EC-Earth3_piClim-aer_r1i1p1...:   0%|          |0.00/5.19M [?B/s]"
      ]
     },
     "metadata": {},
     "output_type": "display_data"
    },
    {
     "data": {
      "application/vnd.jupyter.widget-view+json": {
       "model_id": "34626837552242cf88351ee501f68605",
       "version_major": 2,
       "version_minor": 0
      },
      "text/plain": [
       "rlus_Amon_EC-Earth3_piClim-aer_r1i1p1...:   0%|          |0.00/5.19M [?B/s]"
      ]
     },
     "metadata": {},
     "output_type": "display_data"
    },
    {
     "data": {
      "application/vnd.jupyter.widget-view+json": {
       "model_id": "b7d7ce7949b6494cb3285d12a5e774e2",
       "version_major": 2,
       "version_minor": 0
      },
      "text/plain": [
       "rlus_Amon_EC-Earth3_piClim-aer_r1i1p1...:   0%|          |0.00/5.19M [?B/s]"
      ]
     },
     "metadata": {},
     "output_type": "display_data"
    },
    {
     "data": {
      "application/vnd.jupyter.widget-view+json": {
       "model_id": "93309f21bcdc46caab1b6512e238057c",
       "version_major": 2,
       "version_minor": 0
      },
      "text/plain": [
       "rlut_Amon_EC-Earth3_piClim-aer_r1i1p1...:   0%|          |0.00/5.23M [?B/s]"
      ]
     },
     "metadata": {},
     "output_type": "display_data"
    },
    {
     "data": {
      "application/vnd.jupyter.widget-view+json": {
       "model_id": "84eb5c34a44640e8b4ac54eafb5b11db",
       "version_major": 2,
       "version_minor": 0
      },
      "text/plain": [
       "rlutcs_Amon_EC-Earth3_piClim-aer_r1i1...:   0%|          |0.00/5.08M [?B/s]"
      ]
     },
     "metadata": {},
     "output_type": "display_data"
    },
    {
     "data": {
      "application/vnd.jupyter.widget-view+json": {
       "model_id": "ff36c291d0d74a8caaf1343d6d7f59a3",
       "version_major": 2,
       "version_minor": 0
      },
      "text/plain": [
       "rlutcs_Amon_EC-Earth3_piClim-aer_r1i1...:   0%|          |0.00/5.08M [?B/s]"
      ]
     },
     "metadata": {},
     "output_type": "display_data"
    },
    {
     "data": {
      "application/vnd.jupyter.widget-view+json": {
       "model_id": "9564549534f0489ca42fb549be23021e",
       "version_major": 2,
       "version_minor": 0
      },
      "text/plain": [
       "rsds_Amon_EC-Earth3_piClim-aer_r1i1p1...:   0%|          |0.00/5.07M [?B/s]"
      ]
     },
     "metadata": {},
     "output_type": "display_data"
    },
    {
     "data": {
      "application/vnd.jupyter.widget-view+json": {
       "model_id": "b45c01933cc8487fbe8132e5809f90f8",
       "version_major": 2,
       "version_minor": 0
      },
      "text/plain": [
       "rsds_Amon_EC-Earth3_piClim-aer_r1i1p1...:   0%|          |0.00/5.07M [?B/s]"
      ]
     },
     "metadata": {},
     "output_type": "display_data"
    },
    {
     "data": {
      "application/vnd.jupyter.widget-view+json": {
       "model_id": "6dd6ec47ea654cfda8cf27bf4ca21018",
       "version_major": 2,
       "version_minor": 0
      },
      "text/plain": [
       "rsdscs_Amon_EC-Earth3_piClim-aer_r1i1...:   0%|          |0.00/4.88M [?B/s]"
      ]
     },
     "metadata": {},
     "output_type": "display_data"
    },
    {
     "data": {
      "application/vnd.jupyter.widget-view+json": {
       "model_id": "b2a81ef875b74dfc8759440c83b494da",
       "version_major": 2,
       "version_minor": 0
      },
      "text/plain": [
       "rsdt_Amon_EC-Earth3_piClim-aer_r1i1p1...:   0%|          |0.00/4.03M [?B/s]"
      ]
     },
     "metadata": {},
     "output_type": "display_data"
    },
    {
     "data": {
      "application/vnd.jupyter.widget-view+json": {
       "model_id": "d8f916995ad941e2bccde0dad5436ac7",
       "version_major": 2,
       "version_minor": 0
      },
      "text/plain": [
       "rsdt_Amon_EC-Earth3_piClim-aer_r1i1p1...:   0%|          |0.00/4.02M [?B/s]"
      ]
     },
     "metadata": {},
     "output_type": "display_data"
    },
    {
     "data": {
      "application/vnd.jupyter.widget-view+json": {
       "model_id": "526eaf0de59b42a399c4c7e6dfa08698",
       "version_major": 2,
       "version_minor": 0
      },
      "text/plain": [
       "rsus_Amon_EC-Earth3_piClim-aer_r1i1p1...:   0%|          |0.00/5.17M [?B/s]"
      ]
     },
     "metadata": {},
     "output_type": "display_data"
    },
    {
     "data": {
      "application/vnd.jupyter.widget-view+json": {
       "model_id": "b77ba474c03548928d8950843cdfd808",
       "version_major": 2,
       "version_minor": 0
      },
      "text/plain": [
       "rsus_Amon_EC-Earth3_piClim-aer_r1i1p1...:   0%|          |0.00/5.17M [?B/s]"
      ]
     },
     "metadata": {},
     "output_type": "display_data"
    },
    {
     "data": {
      "application/vnd.jupyter.widget-view+json": {
       "model_id": "1ef98c9742244a9da4c6c49872c5b185",
       "version_major": 2,
       "version_minor": 0
      },
      "text/plain": [
       "rsus_Amon_EC-Earth3_piClim-aer_r1i1p1...:   0%|          |0.00/5.17M [?B/s]"
      ]
     },
     "metadata": {},
     "output_type": "display_data"
    },
    {
     "data": {
      "application/vnd.jupyter.widget-view+json": {
       "model_id": "c3bd5339ff844ecb9640c9de924413a7",
       "version_major": 2,
       "version_minor": 0
      },
      "text/plain": [
       "rsus_Amon_EC-Earth3_piClim-aer_r1i1p1...:   0%|          |0.00/5.17M [?B/s]"
      ]
     },
     "metadata": {},
     "output_type": "display_data"
    },
    {
     "data": {
      "application/vnd.jupyter.widget-view+json": {
       "model_id": "5f4fa7d1285844beb3bad08458b00a2d",
       "version_major": 2,
       "version_minor": 0
      },
      "text/plain": [
       "rsus_Amon_EC-Earth3_piClim-aer_r1i1p1...:   0%|          |0.00/5.17M [?B/s]"
      ]
     },
     "metadata": {},
     "output_type": "display_data"
    },
    {
     "data": {
      "application/vnd.jupyter.widget-view+json": {
       "model_id": "f32123e0652c429383df8ad73a7860d8",
       "version_major": 2,
       "version_minor": 0
      },
      "text/plain": [
       "rsuscs_Amon_EC-Earth3_piClim-aer_r1i1...:   0%|          |0.00/5.16M [?B/s]"
      ]
     },
     "metadata": {},
     "output_type": "display_data"
    },
    {
     "data": {
      "application/vnd.jupyter.widget-view+json": {
       "model_id": "a545aa8dcbe6427a9c2861b2b5a9790b",
       "version_major": 2,
       "version_minor": 0
      },
      "text/plain": [
       "rsuscs_Amon_EC-Earth3_piClim-aer_r1i1...:   0%|          |0.00/5.17M [?B/s]"
      ]
     },
     "metadata": {},
     "output_type": "display_data"
    },
    {
     "data": {
      "application/vnd.jupyter.widget-view+json": {
       "model_id": "dbc3781e26474b9db24f5ca2339597c1",
       "version_major": 2,
       "version_minor": 0
      },
      "text/plain": [
       "rsuscs_Amon_EC-Earth3_piClim-aer_r1i1...:   0%|          |0.00/5.16M [?B/s]"
      ]
     },
     "metadata": {},
     "output_type": "display_data"
    },
    {
     "data": {
      "application/vnd.jupyter.widget-view+json": {
       "model_id": "0de60cb16d6c43cabe8eeb30e373d377",
       "version_major": 2,
       "version_minor": 0
      },
      "text/plain": [
       "rsut_Amon_EC-Earth3_piClim-aer_r1i1p1...:   0%|          |0.00/5.11M [?B/s]"
      ]
     },
     "metadata": {},
     "output_type": "display_data"
    },
    {
     "data": {
      "application/vnd.jupyter.widget-view+json": {
       "model_id": "e99bffce62da48cda8da2a12c05eeb29",
       "version_major": 2,
       "version_minor": 0
      },
      "text/plain": [
       "rsut_Amon_EC-Earth3_piClim-aer_r1i1p1...:   0%|          |0.00/5.11M [?B/s]"
      ]
     },
     "metadata": {},
     "output_type": "display_data"
    },
    {
     "data": {
      "application/vnd.jupyter.widget-view+json": {
       "model_id": "31f625faab364053833a1f88fee7ca3c",
       "version_major": 2,
       "version_minor": 0
      },
      "text/plain": [
       "rsut_Amon_EC-Earth3_piClim-aer_r1i1p1...:   0%|          |0.00/5.11M [?B/s]"
      ]
     },
     "metadata": {},
     "output_type": "display_data"
    },
    {
     "data": {
      "application/vnd.jupyter.widget-view+json": {
       "model_id": "5efdb41d4aff4ae1a5193a86995b89c4",
       "version_major": 2,
       "version_minor": 0
      },
      "text/plain": [
       "rsut_Amon_EC-Earth3_piClim-aer_r1i1p1...:   0%|          |0.00/5.11M [?B/s]"
      ]
     },
     "metadata": {},
     "output_type": "display_data"
    },
    {
     "data": {
      "application/vnd.jupyter.widget-view+json": {
       "model_id": "cf0a1166a8924bcd92b1c8ad466db280",
       "version_major": 2,
       "version_minor": 0
      },
      "text/plain": [
       "rsutcs_Amon_EC-Earth3_piClim-aer_r1i1...:   0%|          |0.00/4.98M [?B/s]"
      ]
     },
     "metadata": {},
     "output_type": "display_data"
    },
    {
     "data": {
      "application/vnd.jupyter.widget-view+json": {
       "model_id": "71209fb7fe6143e0b185faa66797ae9f",
       "version_major": 2,
       "version_minor": 0
      },
      "text/plain": [
       "rsutcs_Amon_EC-Earth3_piClim-aer_r1i1...:   0%|          |0.00/4.98M [?B/s]"
      ]
     },
     "metadata": {},
     "output_type": "display_data"
    },
    {
     "data": {
      "application/vnd.jupyter.widget-view+json": {
       "model_id": "d4cc8b81bc6a4e509129604287cb348b",
       "version_major": 2,
       "version_minor": 0
      },
      "text/plain": [
       "rsutcs_Amon_EC-Earth3_piClim-aer_r1i1...:   0%|          |0.00/4.98M [?B/s]"
      ]
     },
     "metadata": {},
     "output_type": "display_data"
    },
    {
     "data": {
      "application/vnd.jupyter.widget-view+json": {
       "model_id": "002bb47c033c45ae87e88ea21c286f2a",
       "version_major": 2,
       "version_minor": 0
      },
      "text/plain": [
       "clt_Amon_EC-Earth3_piClim-aer_r1i1p1f...:   0%|          |0.00/5.35M [?B/s]"
      ]
     },
     "metadata": {},
     "output_type": "display_data"
    },
    {
     "data": {
      "application/vnd.jupyter.widget-view+json": {
       "model_id": "34d3482ddc7c4510bc4cd1958763e7fc",
       "version_major": 2,
       "version_minor": 0
      },
      "text/plain": [
       "rlds_Amon_CESM2_piClim-control_r1i1p1...:   0%|          |0.00/51.4M [?B/s]"
      ]
     },
     "metadata": {},
     "output_type": "display_data"
    },
    {
     "data": {
      "application/vnd.jupyter.widget-view+json": {
       "model_id": "4f299ce46c9e4996a4b70cdfe2bae8bc",
       "version_major": 2,
       "version_minor": 0
      },
      "text/plain": [
       "rlutcs_Amon_CESM2_piClim-control_r1i1...:   0%|          |0.00/47.8M [?B/s]"
      ]
     },
     "metadata": {},
     "output_type": "display_data"
    },
    {
     "data": {
      "application/vnd.jupyter.widget-view+json": {
       "model_id": "62d3a9ec9b57476c95707e894cb0b593",
       "version_major": 2,
       "version_minor": 0
      },
      "text/plain": [
       "rsus_Amon_CESM2_piClim-control_r1i1p1...:   0%|          |0.00/51.6M [?B/s]"
      ]
     },
     "metadata": {},
     "output_type": "display_data"
    },
    {
     "data": {
      "application/vnd.jupyter.widget-view+json": {
       "model_id": "5f0a28b553fd4bc7a9605a5741a7038e",
       "version_major": 2,
       "version_minor": 0
      },
      "text/plain": [
       "rsutcs_Amon_CESM2_piClim-control_r1i1...:   0%|          |0.00/47.1M [?B/s]"
      ]
     },
     "metadata": {},
     "output_type": "display_data"
    },
    {
     "data": {
      "application/vnd.jupyter.widget-view+json": {
       "model_id": "12998a7a784c4e72ab8fd7f9704a9870",
       "version_major": 2,
       "version_minor": 0
      },
      "text/plain": [
       "clt_Amon_CESM2_piClim-aer_r1i1p1f1_gn...:   0%|          |0.00/55.7M [?B/s]"
      ]
     },
     "metadata": {},
     "output_type": "display_data"
    },
    {
     "data": {
      "application/vnd.jupyter.widget-view+json": {
       "model_id": "83d9bc61b4ba4b72a9ca209ec3476b63",
       "version_major": 2,
       "version_minor": 0
      },
      "text/plain": [
       "rlus_Amon_NorESM2-LM_piClim-aer_r1i1p...:   0%|          |0.00/4.49M [?B/s]"
      ]
     },
     "metadata": {},
     "output_type": "display_data"
    },
    {
     "data": {
      "application/vnd.jupyter.widget-view+json": {
       "model_id": "0b9f8728b5294f289ac36e262b9094b9",
       "version_major": 2,
       "version_minor": 0
      },
      "text/plain": [
       "rlut_Amon_NorESM2-LM_piClim-aer_r1i1p...:   0%|          |0.00/4.55M [?B/s]"
      ]
     },
     "metadata": {},
     "output_type": "display_data"
    },
    {
     "data": {
      "application/vnd.jupyter.widget-view+json": {
       "model_id": "3798555382cc47118ced7fcefc5ec9ae",
       "version_major": 2,
       "version_minor": 0
      },
      "text/plain": [
       "rsdscs_Amon_NorESM2-LM_piClim-aer_r1i...:   0%|          |0.00/4.07M [?B/s]"
      ]
     },
     "metadata": {},
     "output_type": "display_data"
    },
    {
     "data": {
      "application/vnd.jupyter.widget-view+json": {
       "model_id": "3831f6a96a40498fad3cc87d171c453c",
       "version_major": 2,
       "version_minor": 0
      },
      "text/plain": [
       "rsdt_Amon_NorESM2-LM_piClim-aer_r1i1p...:   0%|          |0.00/3.23M [?B/s]"
      ]
     },
     "metadata": {},
     "output_type": "display_data"
    },
    {
     "data": {
      "application/vnd.jupyter.widget-view+json": {
       "model_id": "a31e9dd06d0c49ff81310eadf1dfe4de",
       "version_major": 2,
       "version_minor": 0
      },
      "text/plain": [
       "rsdt_Amon_NorESM2-LM_piClim-control_r...:   0%|          |0.00/3.23M [?B/s]"
      ]
     },
     "metadata": {},
     "output_type": "display_data"
    },
    {
     "data": {
      "application/vnd.jupyter.widget-view+json": {
       "model_id": "37c652ccac4d421cb72382345d9c2ae9",
       "version_major": 2,
       "version_minor": 0
      },
      "text/plain": [
       "rsuscs_Amon_NorESM2-LM_piClim-aer_r1i...:   0%|          |0.00/4.25M [?B/s]"
      ]
     },
     "metadata": {},
     "output_type": "display_data"
    },
    {
     "data": {
      "application/vnd.jupyter.widget-view+json": {
       "model_id": "1e772c1453dc4a33b79d2f5e67877451",
       "version_major": 2,
       "version_minor": 0
      },
      "text/plain": [
       "rsut_Amon_NorESM2-LM_piClim-control_r...:   0%|          |0.00/4.72M [?B/s]"
      ]
     },
     "metadata": {},
     "output_type": "display_data"
    },
    {
     "data": {
      "application/vnd.jupyter.widget-view+json": {
       "model_id": "94e02670d72742d8be89893a9dbc5ecb",
       "version_major": 2,
       "version_minor": 0
      },
      "text/plain": [
       "rsutcs_Amon_NorESM2-LM_piClim-control...:   0%|          |0.00/4.32M [?B/s]"
      ]
     },
     "metadata": {},
     "output_type": "display_data"
    },
    {
     "data": {
      "application/vnd.jupyter.widget-view+json": {
       "model_id": "0e04fbc71873441188c8866a9878285c",
       "version_major": 2,
       "version_minor": 0
      },
      "text/plain": [
       "rlds_Amon_MPI-ESM-1-2-HAM_piClim-cont...:   0%|          |0.00/9.08M [?B/s]"
      ]
     },
     "metadata": {},
     "output_type": "display_data"
    },
    {
     "data": {
      "application/vnd.jupyter.widget-view+json": {
       "model_id": "9fd9b4fc933343599632ea3b3d9e1ed7",
       "version_major": 2,
       "version_minor": 0
      },
      "text/plain": [
       "rsdt_Amon_MPI-ESM-1-2-HAM_piClim-cont...:   0%|          |0.00/1.25M [?B/s]"
      ]
     },
     "metadata": {},
     "output_type": "display_data"
    },
    {
     "data": {
      "application/vnd.jupyter.widget-view+json": {
       "model_id": "a0eb233943f6435c8a43dd7e57d4cd20",
       "version_major": 2,
       "version_minor": 0
      },
      "text/plain": [
       "clt_Amon_CNRM-ESM2-1_piClim-aer_r1i1p...:   0%|          |0.00/33.4M [?B/s]"
      ]
     },
     "metadata": {},
     "output_type": "display_data"
    },
    {
     "data": {
      "application/vnd.jupyter.widget-view+json": {
       "model_id": "65b035e589ce458484fdf0e00c21cc95",
       "version_major": 2,
       "version_minor": 0
      },
      "text/plain": [
       "clt_Amon_EC-Earth3_piClim-control_r1i...:   0%|          |0.00/5.35M [?B/s]"
      ]
     },
     "metadata": {},
     "output_type": "display_data"
    },
    {
     "data": {
      "application/vnd.jupyter.widget-view+json": {
       "model_id": "3e40a787223b4b3cbd99cbd8e72df0d0",
       "version_major": 2,
       "version_minor": 0
      },
      "text/plain": [
       "clt_Amon_EC-Earth3_piClim-control_r1i...:   0%|          |0.00/5.35M [?B/s]"
      ]
     },
     "metadata": {},
     "output_type": "display_data"
    },
    {
     "data": {
      "application/vnd.jupyter.widget-view+json": {
       "model_id": "23045cc6af0649889aef833b1f8edba4",
       "version_major": 2,
       "version_minor": 0
      },
      "text/plain": [
       "clt_Amon_EC-Earth3_piClim-control_r1i...:   0%|          |0.00/5.35M [?B/s]"
      ]
     },
     "metadata": {},
     "output_type": "display_data"
    },
    {
     "data": {
      "application/vnd.jupyter.widget-view+json": {
       "model_id": "857d8b5467a54230bb3f0232498da730",
       "version_major": 2,
       "version_minor": 0
      },
      "text/plain": [
       "clt_Amon_EC-Earth3_piClim-control_r1i...:   0%|          |0.00/5.36M [?B/s]"
      ]
     },
     "metadata": {},
     "output_type": "display_data"
    },
    {
     "data": {
      "application/vnd.jupyter.widget-view+json": {
       "model_id": "39114e67ef654def885f36b7d61278ae",
       "version_major": 2,
       "version_minor": 0
      },
      "text/plain": [
       "clt_Amon_EC-Earth3_piClim-control_r1i...:   0%|          |0.00/5.35M [?B/s]"
      ]
     },
     "metadata": {},
     "output_type": "display_data"
    },
    {
     "data": {
      "application/vnd.jupyter.widget-view+json": {
       "model_id": "da89994224a84aab9ee9449d9bab147e",
       "version_major": 2,
       "version_minor": 0
      },
      "text/plain": [
       "rlds_Amon_EC-Earth3_piClim-control_r1...:   0%|          |0.00/5.25M [?B/s]"
      ]
     },
     "metadata": {},
     "output_type": "display_data"
    },
    {
     "data": {
      "application/vnd.jupyter.widget-view+json": {
       "model_id": "6e10aaf6c64a4f10bbae6adbb54a42c3",
       "version_major": 2,
       "version_minor": 0
      },
      "text/plain": [
       "rlds_Amon_EC-Earth3_piClim-control_r1...:   0%|          |0.00/5.25M [?B/s]"
      ]
     },
     "metadata": {},
     "output_type": "display_data"
    },
    {
     "data": {
      "application/vnd.jupyter.widget-view+json": {
       "model_id": "3e5bc79d0d574f21a69316ef7defc747",
       "version_major": 2,
       "version_minor": 0
      },
      "text/plain": [
       "rlds_Amon_EC-Earth3_piClim-control_r1...:   0%|          |0.00/5.26M [?B/s]"
      ]
     },
     "metadata": {},
     "output_type": "display_data"
    },
    {
     "data": {
      "application/vnd.jupyter.widget-view+json": {
       "model_id": "19699fb93d6f4b13af62ad7bfacbb65b",
       "version_major": 2,
       "version_minor": 0
      },
      "text/plain": [
       "rlds_Amon_EC-Earth3_piClim-control_r1...:   0%|          |0.00/5.26M [?B/s]"
      ]
     },
     "metadata": {},
     "output_type": "display_data"
    },
    {
     "data": {
      "application/vnd.jupyter.widget-view+json": {
       "model_id": "cf0cec62e7464c468e58fe09485605e2",
       "version_major": 2,
       "version_minor": 0
      },
      "text/plain": [
       "rlds_Amon_EC-Earth3_piClim-control_r1...:   0%|          |0.00/5.26M [?B/s]"
      ]
     },
     "metadata": {},
     "output_type": "display_data"
    },
    {
     "data": {
      "application/vnd.jupyter.widget-view+json": {
       "model_id": "ec4d6a8a354b4016a0a312f4d09b8523",
       "version_major": 2,
       "version_minor": 0
      },
      "text/plain": [
       "rlds_Amon_EC-Earth3_piClim-control_r1...:   0%|          |0.00/5.25M [?B/s]"
      ]
     },
     "metadata": {},
     "output_type": "display_data"
    },
    {
     "data": {
      "application/vnd.jupyter.widget-view+json": {
       "model_id": "a3fd1e8603eb4039b2027b8c12c10871",
       "version_major": 2,
       "version_minor": 0
      },
      "text/plain": [
       "rlus_Amon_EC-Earth3_piClim-control_r1...:   0%|          |0.00/5.19M [?B/s]"
      ]
     },
     "metadata": {},
     "output_type": "display_data"
    },
    {
     "data": {
      "application/vnd.jupyter.widget-view+json": {
       "model_id": "70191ff355af4d96be417eec730238e4",
       "version_major": 2,
       "version_minor": 0
      },
      "text/plain": [
       "rlus_Amon_EC-Earth3_piClim-control_r1...:   0%|          |0.00/5.19M [?B/s]"
      ]
     },
     "metadata": {},
     "output_type": "display_data"
    },
    {
     "data": {
      "application/vnd.jupyter.widget-view+json": {
       "model_id": "fb42a5751b4740d69e5546f48f22e967",
       "version_major": 2,
       "version_minor": 0
      },
      "text/plain": [
       "rlus_Amon_EC-Earth3_piClim-control_r1...:   0%|          |0.00/5.19M [?B/s]"
      ]
     },
     "metadata": {},
     "output_type": "display_data"
    },
    {
     "data": {
      "application/vnd.jupyter.widget-view+json": {
       "model_id": "bd29790abf5f42c5ba3af7c7f612faf0",
       "version_major": 2,
       "version_minor": 0
      },
      "text/plain": [
       "rlus_Amon_EC-Earth3_piClim-control_r1...:   0%|          |0.00/5.19M [?B/s]"
      ]
     },
     "metadata": {},
     "output_type": "display_data"
    },
    {
     "data": {
      "application/vnd.jupyter.widget-view+json": {
       "model_id": "d7680b40eee64dce97b2b06a350f1f4e",
       "version_major": 2,
       "version_minor": 0
      },
      "text/plain": [
       "rlus_Amon_EC-Earth3_piClim-control_r1...:   0%|          |0.00/5.19M [?B/s]"
      ]
     },
     "metadata": {},
     "output_type": "display_data"
    },
    {
     "data": {
      "application/vnd.jupyter.widget-view+json": {
       "model_id": "c073ba263bc943a7a3375bf0b589b666",
       "version_major": 2,
       "version_minor": 0
      },
      "text/plain": [
       "rlut_Amon_EC-Earth3_piClim-control_r1...:   0%|          |0.00/5.23M [?B/s]"
      ]
     },
     "metadata": {},
     "output_type": "display_data"
    },
    {
     "data": {
      "application/vnd.jupyter.widget-view+json": {
       "model_id": "f5518215b9c949628f07d0a54d85fcfe",
       "version_major": 2,
       "version_minor": 0
      },
      "text/plain": [
       "rlut_Amon_EC-Earth3_piClim-control_r1...:   0%|          |0.00/5.23M [?B/s]"
      ]
     },
     "metadata": {},
     "output_type": "display_data"
    },
    {
     "data": {
      "application/vnd.jupyter.widget-view+json": {
       "model_id": "44e4cd68c2844eae84b0497378aecbba",
       "version_major": 2,
       "version_minor": 0
      },
      "text/plain": [
       "rlut_Amon_EC-Earth3_piClim-control_r1...:   0%|          |0.00/5.23M [?B/s]"
      ]
     },
     "metadata": {},
     "output_type": "display_data"
    },
    {
     "data": {
      "application/vnd.jupyter.widget-view+json": {
       "model_id": "dbe34ac3d34044cbab315bab2492adf4",
       "version_major": 2,
       "version_minor": 0
      },
      "text/plain": [
       "rlutcs_Amon_EC-Earth3_piClim-control_...:   0%|          |0.00/5.08M [?B/s]"
      ]
     },
     "metadata": {},
     "output_type": "display_data"
    },
    {
     "data": {
      "application/vnd.jupyter.widget-view+json": {
       "model_id": "aab75c4639884e3cb1ba090e8e8da8bd",
       "version_major": 2,
       "version_minor": 0
      },
      "text/plain": [
       "rlutcs_Amon_EC-Earth3_piClim-control_...:   0%|          |0.00/5.09M [?B/s]"
      ]
     },
     "metadata": {},
     "output_type": "display_data"
    },
    {
     "data": {
      "application/vnd.jupyter.widget-view+json": {
       "model_id": "91b8151f087e4c9dbd144bf6b9d405bc",
       "version_major": 2,
       "version_minor": 0
      },
      "text/plain": [
       "rlutcs_Amon_EC-Earth3_piClim-control_...:   0%|          |0.00/5.08M [?B/s]"
      ]
     },
     "metadata": {},
     "output_type": "display_data"
    },
    {
     "data": {
      "application/vnd.jupyter.widget-view+json": {
       "model_id": "30018cac6d014247a369a997caceccb1",
       "version_major": 2,
       "version_minor": 0
      },
      "text/plain": [
       "rlutcs_Amon_EC-Earth3_piClim-control_...:   0%|          |0.00/5.08M [?B/s]"
      ]
     },
     "metadata": {},
     "output_type": "display_data"
    },
    {
     "data": {
      "application/vnd.jupyter.widget-view+json": {
       "model_id": "a84f48ed02f142cabd372ee953058d33",
       "version_major": 2,
       "version_minor": 0
      },
      "text/plain": [
       "rlutcs_Amon_EC-Earth3_piClim-control_...:   0%|          |0.00/5.08M [?B/s]"
      ]
     },
     "metadata": {},
     "output_type": "display_data"
    },
    {
     "data": {
      "application/vnd.jupyter.widget-view+json": {
       "model_id": "42eb0fa4616e4230931f545213176d28",
       "version_major": 2,
       "version_minor": 0
      },
      "text/plain": [
       "rlutcs_Amon_EC-Earth3_piClim-control_...:   0%|          |0.00/5.08M [?B/s]"
      ]
     },
     "metadata": {},
     "output_type": "display_data"
    },
    {
     "data": {
      "application/vnd.jupyter.widget-view+json": {
       "model_id": "46c2c7679031467db10bab515a22a433",
       "version_major": 2,
       "version_minor": 0
      },
      "text/plain": [
       "rlutcs_Amon_EC-Earth3_piClim-control_...:   0%|          |0.00/5.08M [?B/s]"
      ]
     },
     "metadata": {},
     "output_type": "display_data"
    },
    {
     "data": {
      "application/vnd.jupyter.widget-view+json": {
       "model_id": "6fdbec684e814ba6bd4b6da39b75790d",
       "version_major": 2,
       "version_minor": 0
      },
      "text/plain": [
       "rlutcs_Amon_EC-Earth3_piClim-control_...:   0%|          |0.00/5.08M [?B/s]"
      ]
     },
     "metadata": {},
     "output_type": "display_data"
    },
    {
     "data": {
      "application/vnd.jupyter.widget-view+json": {
       "model_id": "a8365787b7534a318e6a74f5b6b0103e",
       "version_major": 2,
       "version_minor": 0
      },
      "text/plain": [
       "rlutcs_Amon_EC-Earth3_piClim-control_...:   0%|          |0.00/5.08M [?B/s]"
      ]
     },
     "metadata": {},
     "output_type": "display_data"
    },
    {
     "data": {
      "application/vnd.jupyter.widget-view+json": {
       "model_id": "809b081f69b14794a0db464b9d1df792",
       "version_major": 2,
       "version_minor": 0
      },
      "text/plain": [
       "rsdscs_Amon_EC-Earth3_piClim-control_...:   0%|          |0.00/4.87M [?B/s]"
      ]
     },
     "metadata": {},
     "output_type": "display_data"
    },
    {
     "data": {
      "application/vnd.jupyter.widget-view+json": {
       "model_id": "99fa287fa3c94c239e2a8a672e5a6e2c",
       "version_major": 2,
       "version_minor": 0
      },
      "text/plain": [
       "rsdscs_Amon_EC-Earth3_piClim-control_...:   0%|          |0.00/4.87M [?B/s]"
      ]
     },
     "metadata": {},
     "output_type": "display_data"
    },
    {
     "data": {
      "application/vnd.jupyter.widget-view+json": {
       "model_id": "6e2277bbb708480a9d97dfa1e72dd949",
       "version_major": 2,
       "version_minor": 0
      },
      "text/plain": [
       "rsdscs_Amon_EC-Earth3_piClim-control_...:   0%|          |0.00/4.87M [?B/s]"
      ]
     },
     "metadata": {},
     "output_type": "display_data"
    },
    {
     "data": {
      "application/vnd.jupyter.widget-view+json": {
       "model_id": "5e07a0b9c4db45d79edf4698f8be4685",
       "version_major": 2,
       "version_minor": 0
      },
      "text/plain": [
       "rsdt_Amon_EC-Earth3_piClim-control_r1...:   0%|          |0.00/4.03M [?B/s]"
      ]
     },
     "metadata": {},
     "output_type": "display_data"
    },
    {
     "data": {
      "application/vnd.jupyter.widget-view+json": {
       "model_id": "44da36738e1c4bc6a122879cff4dee43",
       "version_major": 2,
       "version_minor": 0
      },
      "text/plain": [
       "rsdt_Amon_EC-Earth3_piClim-control_r1...:   0%|          |0.00/4.03M [?B/s]"
      ]
     },
     "metadata": {},
     "output_type": "display_data"
    },
    {
     "data": {
      "application/vnd.jupyter.widget-view+json": {
       "model_id": "96bee59a0f4b43d2bb06079e03b7ab3b",
       "version_major": 2,
       "version_minor": 0
      },
      "text/plain": [
       "rsdt_Amon_EC-Earth3_piClim-control_r1...:   0%|          |0.00/4.03M [?B/s]"
      ]
     },
     "metadata": {},
     "output_type": "display_data"
    },
    {
     "data": {
      "application/vnd.jupyter.widget-view+json": {
       "model_id": "71570900c9ab4000981c9e1f70c5234d",
       "version_major": 2,
       "version_minor": 0
      },
      "text/plain": [
       "rsdt_Amon_EC-Earth3_piClim-control_r1...:   0%|          |0.00/4.02M [?B/s]"
      ]
     },
     "metadata": {},
     "output_type": "display_data"
    },
    {
     "data": {
      "application/vnd.jupyter.widget-view+json": {
       "model_id": "49efe13ce6f84c87a284972c584ad36a",
       "version_major": 2,
       "version_minor": 0
      },
      "text/plain": [
       "rsus_Amon_EC-Earth3_piClim-control_r1...:   0%|          |0.00/5.17M [?B/s]"
      ]
     },
     "metadata": {},
     "output_type": "display_data"
    },
    {
     "data": {
      "application/vnd.jupyter.widget-view+json": {
       "model_id": "729fbfda224b475cb214b9c5d2f2f3d4",
       "version_major": 2,
       "version_minor": 0
      },
      "text/plain": [
       "rsus_Amon_EC-Earth3_piClim-control_r1...:   0%|          |0.00/5.17M [?B/s]"
      ]
     },
     "metadata": {},
     "output_type": "display_data"
    },
    {
     "data": {
      "application/vnd.jupyter.widget-view+json": {
       "model_id": "9698851ffa0047c2a3149bf2a15a3d72",
       "version_major": 2,
       "version_minor": 0
      },
      "text/plain": [
       "rsus_Amon_EC-Earth3_piClim-control_r1...:   0%|          |0.00/5.17M [?B/s]"
      ]
     },
     "metadata": {},
     "output_type": "display_data"
    },
    {
     "data": {
      "application/vnd.jupyter.widget-view+json": {
       "model_id": "ceafb4f1ad224e88985b0114c42c44db",
       "version_major": 2,
       "version_minor": 0
      },
      "text/plain": [
       "rsus_Amon_EC-Earth3_piClim-control_r1...:   0%|          |0.00/5.17M [?B/s]"
      ]
     },
     "metadata": {},
     "output_type": "display_data"
    },
    {
     "data": {
      "application/vnd.jupyter.widget-view+json": {
       "model_id": "4d5bedd75c0148118c1c3e48d50d0564",
       "version_major": 2,
       "version_minor": 0
      },
      "text/plain": [
       "rsus_Amon_EC-Earth3_piClim-control_r1...:   0%|          |0.00/5.17M [?B/s]"
      ]
     },
     "metadata": {},
     "output_type": "display_data"
    },
    {
     "data": {
      "application/vnd.jupyter.widget-view+json": {
       "model_id": "b83d6430e7514dd9ac0e02cb1e393187",
       "version_major": 2,
       "version_minor": 0
      },
      "text/plain": [
       "rsus_Amon_EC-Earth3_piClim-control_r1...:   0%|          |0.00/5.16M [?B/s]"
      ]
     },
     "metadata": {},
     "output_type": "display_data"
    },
    {
     "data": {
      "application/vnd.jupyter.widget-view+json": {
       "model_id": "1453fcc877b04e798033f20715150062",
       "version_major": 2,
       "version_minor": 0
      },
      "text/plain": [
       "rsuscs_Amon_EC-Earth3_piClim-control_...:   0%|          |0.00/5.17M [?B/s]"
      ]
     },
     "metadata": {},
     "output_type": "display_data"
    },
    {
     "data": {
      "application/vnd.jupyter.widget-view+json": {
       "model_id": "5c6ff05c8e6f4ffda6aa409db8f0da1b",
       "version_major": 2,
       "version_minor": 0
      },
      "text/plain": [
       "rsuscs_Amon_EC-Earth3_piClim-control_...:   0%|          |0.00/5.16M [?B/s]"
      ]
     },
     "metadata": {},
     "output_type": "display_data"
    },
    {
     "data": {
      "application/vnd.jupyter.widget-view+json": {
       "model_id": "57e61bd8ccb84c99afb9a30e22dc6741",
       "version_major": 2,
       "version_minor": 0
      },
      "text/plain": [
       "rsut_Amon_EC-Earth3_piClim-control_r1...:   0%|          |0.00/5.11M [?B/s]"
      ]
     },
     "metadata": {},
     "output_type": "display_data"
    },
    {
     "data": {
      "application/vnd.jupyter.widget-view+json": {
       "model_id": "a72c6bd40ab2424dbdc5f7a8561022b9",
       "version_major": 2,
       "version_minor": 0
      },
      "text/plain": [
       "rsut_Amon_EC-Earth3_piClim-control_r1...:   0%|          |0.00/5.11M [?B/s]"
      ]
     },
     "metadata": {},
     "output_type": "display_data"
    },
    {
     "data": {
      "application/vnd.jupyter.widget-view+json": {
       "model_id": "33f839138f3d4d2db6efd3ad262d4490",
       "version_major": 2,
       "version_minor": 0
      },
      "text/plain": [
       "rsut_Amon_EC-Earth3_piClim-control_r1...:   0%|          |0.00/5.11M [?B/s]"
      ]
     },
     "metadata": {},
     "output_type": "display_data"
    },
    {
     "data": {
      "application/vnd.jupyter.widget-view+json": {
       "model_id": "4af2440d5307416d89275fc691cbdba7",
       "version_major": 2,
       "version_minor": 0
      },
      "text/plain": [
       "rsut_Amon_EC-Earth3_piClim-control_r1...:   0%|          |0.00/5.11M [?B/s]"
      ]
     },
     "metadata": {},
     "output_type": "display_data"
    },
    {
     "data": {
      "application/vnd.jupyter.widget-view+json": {
       "model_id": "29cbec5b497642dfb4d7fb692191a9fc",
       "version_major": 2,
       "version_minor": 0
      },
      "text/plain": [
       "rsutcs_Amon_EC-Earth3_piClim-control_...:   0%|          |0.00/4.97M [?B/s]"
      ]
     },
     "metadata": {},
     "output_type": "display_data"
    },
    {
     "data": {
      "application/vnd.jupyter.widget-view+json": {
       "model_id": "b838ba98b0a449fb89c9a21ad72e81dd",
       "version_major": 2,
       "version_minor": 0
      },
      "text/plain": [
       "rsutcs_Amon_EC-Earth3_piClim-control_...:   0%|          |0.00/4.97M [?B/s]"
      ]
     },
     "metadata": {},
     "output_type": "display_data"
    },
    {
     "data": {
      "application/vnd.jupyter.widget-view+json": {
       "model_id": "e5291419d5f84564a734706c76bbbeb1",
       "version_major": 2,
       "version_minor": 0
      },
      "text/plain": [
       "rsus_Amon_ACCESS-ESM1-5_piClim-contro...:   0%|          |0.00/31.4M [?B/s]"
      ]
     },
     "metadata": {},
     "output_type": "display_data"
    },
    {
     "data": {
      "application/vnd.jupyter.widget-view+json": {
       "model_id": "126768d3ea2a4a8aa71f0e095e2f69f1",
       "version_major": 2,
       "version_minor": 0
      },
      "text/plain": [
       "rlus_Amon_ACCESS-ESM1-5_piClim-aer_r1...:   0%|          |0.00/33.2M [?B/s]"
      ]
     },
     "metadata": {},
     "output_type": "display_data"
    },
    {
     "data": {
      "application/vnd.jupyter.widget-view+json": {
       "model_id": "866368d2db6a4da09a1e148761356836",
       "version_major": 2,
       "version_minor": 0
      },
      "text/plain": [
       "rsutcs_Amon_ACCESS-ESM1-5_piClim-aer_...:   0%|          |0.00/31.9M [?B/s]"
      ]
     },
     "metadata": {},
     "output_type": "display_data"
    },
    {
     "data": {
      "application/vnd.jupyter.widget-view+json": {
       "model_id": "b60c5ff3c42748b89f95f99b83304365",
       "version_major": 2,
       "version_minor": 0
      },
      "text/plain": [
       "rsds_Amon_ACCESS-ESM1-5_piClim-aer_r1...:   0%|          |0.00/32.4M [?B/s]"
      ]
     },
     "metadata": {},
     "output_type": "display_data"
    },
    {
     "data": {
      "application/vnd.jupyter.widget-view+json": {
       "model_id": "a4b84b12a48f4894934c87a13a7dba2b",
       "version_major": 2,
       "version_minor": 0
      },
      "text/plain": [
       "clt_Amon_CNRM-CM6-1_piClim-control_r1...:   0%|          |0.00/33.3M [?B/s]"
      ]
     },
     "metadata": {},
     "output_type": "display_data"
    },
    {
     "data": {
      "application/vnd.jupyter.widget-view+json": {
       "model_id": "ed328001d886498088d2cb6651771ce6",
       "version_major": 2,
       "version_minor": 0
      },
      "text/plain": [
       "rsds_Amon_CNRM-CM6-1_piClim-aer_r1i1p...:   0%|          |0.00/31.7M [?B/s]"
      ]
     },
     "metadata": {},
     "output_type": "display_data"
    },
    {
     "data": {
      "application/vnd.jupyter.widget-view+json": {
       "model_id": "b22b57b1f6f1437e81cc744dfb9958ac",
       "version_major": 2,
       "version_minor": 0
      },
      "text/plain": [
       "rlds_Amon_CNRM-CM6-1_piClim-control_r...:   0%|          |0.00/30.3M [?B/s]"
      ]
     },
     "metadata": {},
     "output_type": "display_data"
    },
    {
     "data": {
      "application/vnd.jupyter.widget-view+json": {
       "model_id": "2dd8e7750e6846e5ad5b1aa61642c464",
       "version_major": 2,
       "version_minor": 0
      },
      "text/plain": [
       "rlutcs_Amon_CNRM-CM6-1_piClim-control...:   0%|          |0.00/28.2M [?B/s]"
      ]
     },
     "metadata": {},
     "output_type": "display_data"
    },
    {
     "data": {
      "application/vnd.jupyter.widget-view+json": {
       "model_id": "de7d37f3e1254aa98dc742392453196f",
       "version_major": 2,
       "version_minor": 0
      },
      "text/plain": [
       "rsutcs_Amon_CNRM-CM6-1_piClim-control...:   0%|          |0.00/29.3M [?B/s]"
      ]
     },
     "metadata": {},
     "output_type": "display_data"
    },
    {
     "data": {
      "application/vnd.jupyter.widget-view+json": {
       "model_id": "d8374510b78d4c0db5344f5112e3dc02",
       "version_major": 2,
       "version_minor": 0
      },
      "text/plain": [
       "rlds_Amon_CNRM-ESM2-1_piClim-control_...:   0%|          |0.00/30.2M [?B/s]"
      ]
     },
     "metadata": {},
     "output_type": "display_data"
    },
    {
     "data": {
      "application/vnd.jupyter.widget-view+json": {
       "model_id": "3551c185980149f19d394e35c3090004",
       "version_major": 2,
       "version_minor": 0
      },
      "text/plain": [
       "rlus_Amon_CNRM-ESM2-1_piClim-control_...:   0%|          |0.00/29.4M [?B/s]"
      ]
     },
     "metadata": {},
     "output_type": "display_data"
    },
    {
     "data": {
      "application/vnd.jupyter.widget-view+json": {
       "model_id": "2ecd0fa823c14e7b8a0ac353cf9f598b",
       "version_major": 2,
       "version_minor": 0
      },
      "text/plain": [
       "rsds_Amon_CNRM-ESM2-1_piClim-control_...:   0%|          |0.00/31.7M [?B/s]"
      ]
     },
     "metadata": {},
     "output_type": "display_data"
    },
    {
     "data": {
      "application/vnd.jupyter.widget-view+json": {
       "model_id": "49418643747447fb82de5a00e32271f5",
       "version_major": 2,
       "version_minor": 0
      },
      "text/plain": [
       "rsdt_Amon_GFDL-CM4_piClim-control_r1i...:   0%|          |0.00/36.4M [?B/s]"
      ]
     },
     "metadata": {},
     "output_type": "display_data"
    },
    {
     "data": {
      "application/vnd.jupyter.widget-view+json": {
       "model_id": "345f6726c7634aa09a7e804b6db3f3ad",
       "version_major": 2,
       "version_minor": 0
      },
      "text/plain": [
       "rsutcs_Amon_GFDL-CM4_piClim-control_r...:   0%|          |0.00/47.0M [?B/s]"
      ]
     },
     "metadata": {},
     "output_type": "display_data"
    },
    {
     "data": {
      "application/vnd.jupyter.widget-view+json": {
       "model_id": "4acb45b7419f4f6ab231eb507171bf2e",
       "version_major": 2,
       "version_minor": 0
      },
      "text/plain": [
       "rlds_Amon_NorESM2-MM_piClim-aer_r1i1p...:   0%|          |0.00/17.1M [?B/s]"
      ]
     },
     "metadata": {},
     "output_type": "display_data"
    },
    {
     "data": {
      "application/vnd.jupyter.widget-view+json": {
       "model_id": "9fb67706637d4d06b13ad6675ac0dc9d",
       "version_major": 2,
       "version_minor": 0
      },
      "text/plain": [
       "rsutcs_Amon_CNRM-ESM2-1_piClim-contro...:   0%|          |0.00/29.6M [?B/s]"
      ]
     },
     "metadata": {},
     "output_type": "display_data"
    },
    {
     "data": {
      "application/vnd.jupyter.widget-view+json": {
       "model_id": "1773ad6024394a0db4c3a979f2040066",
       "version_major": 2,
       "version_minor": 0
      },
      "text/plain": [
       "clt_Amon_GFDL-CM4_piClim-aer_r1i1p1f1...:   0%|          |0.00/52.0M [?B/s]"
      ]
     },
     "metadata": {},
     "output_type": "display_data"
    },
    {
     "data": {
      "application/vnd.jupyter.widget-view+json": {
       "model_id": "45438a45969e41cf83fcc8385e0fef64",
       "version_major": 2,
       "version_minor": 0
      },
      "text/plain": [
       "rsdscs_Amon_NorESM2-MM_piClim-aer_r1i...:   0%|          |0.00/15.0M [?B/s]"
      ]
     },
     "metadata": {},
     "output_type": "display_data"
    },
    {
     "data": {
      "application/vnd.jupyter.widget-view+json": {
       "model_id": "c3b8fbaaa7504f47b8446a5fa56dffaa",
       "version_major": 2,
       "version_minor": 0
      },
      "text/plain": [
       "rsdt_Amon_NorESM2-MM_piClim-aer_r1i1p...:   0%|          |0.00/12.1M [?B/s]"
      ]
     },
     "metadata": {},
     "output_type": "display_data"
    },
    {
     "data": {
      "application/vnd.jupyter.widget-view+json": {
       "model_id": "071b584f67904e8ab964281c19b42d0f",
       "version_major": 2,
       "version_minor": 0
      },
      "text/plain": [
       "rsdt_Amon_NorESM2-MM_piClim-aer_r1i1p...:   0%|          |0.00/12.1M [?B/s]"
      ]
     },
     "metadata": {},
     "output_type": "display_data"
    },
    {
     "data": {
      "application/vnd.jupyter.widget-view+json": {
       "model_id": "dfb8464d60554fae802d21c4ecfbfa01",
       "version_major": 2,
       "version_minor": 0
      },
      "text/plain": [
       "clt_Amon_NorESM2-MM_piClim-control_r1...:   0%|          |0.00/19.1M [?B/s]"
      ]
     },
     "metadata": {},
     "output_type": "display_data"
    },
    {
     "data": {
      "application/vnd.jupyter.widget-view+json": {
       "model_id": "477dcc45588941f9843bd35f8f732ecd",
       "version_major": 2,
       "version_minor": 0
      },
      "text/plain": [
       "rsus_Amon_NorESM2-MM_piClim-aer_r1i1p...:   0%|          |0.00/17.2M [?B/s]"
      ]
     },
     "metadata": {},
     "output_type": "display_data"
    },
    {
     "data": {
      "application/vnd.jupyter.widget-view+json": {
       "model_id": "3e3c7bfc2b1f4ec0b90ed86bcadb11bc",
       "version_major": 2,
       "version_minor": 0
      },
      "text/plain": [
       "rsdscs_Amon_NorESM2-MM_piClim-control...:   0%|          |0.00/14.9M [?B/s]"
      ]
     },
     "metadata": {},
     "output_type": "display_data"
    },
    {
     "data": {
      "application/vnd.jupyter.widget-view+json": {
       "model_id": "25193e6fc96b489cbad03fb7f523368d",
       "version_major": 2,
       "version_minor": 0
      },
      "text/plain": [
       "rsut_Amon_NorESM2-MM_piClim-control_r...:   0%|          |0.00/18.1M [?B/s]"
      ]
     },
     "metadata": {},
     "output_type": "display_data"
    },
    {
     "data": {
      "application/vnd.jupyter.widget-view+json": {
       "model_id": "bd4ffd1e47a44ef18b7d16654f06e3e2",
       "version_major": 2,
       "version_minor": 0
      },
      "text/plain": [
       "rsus_Amon_BCC-ESM1_piClim-aer_r1i1p1f...:   0%|          |0.00/12.2M [?B/s]"
      ]
     },
     "metadata": {},
     "output_type": "display_data"
    },
    {
     "data": {
      "application/vnd.jupyter.widget-view+json": {
       "model_id": "f882460f44f346b7ae1d53383f30e1b4",
       "version_major": 2,
       "version_minor": 0
      },
      "text/plain": [
       "rlutcs_Amon_GFDL-CM4_piClim-control_r...:   0%|          |0.00/45.4M [?B/s]"
      ]
     },
     "metadata": {},
     "output_type": "display_data"
    },
    {
     "data": {
      "application/vnd.jupyter.widget-view+json": {
       "model_id": "846da81cecb14698963491809ba95fc9",
       "version_major": 2,
       "version_minor": 0
      },
      "text/plain": [
       "rsuscs_Amon_GFDL-CM4_piClim-control_r...:   0%|          |0.00/47.9M [?B/s]"
      ]
     },
     "metadata": {},
     "output_type": "display_data"
    },
    {
     "data": {
      "application/vnd.jupyter.widget-view+json": {
       "model_id": "21b71f23202743d4b308c43bd5b6f738",
       "version_major": 2,
       "version_minor": 0
      },
      "text/plain": [
       "rsdt_Amon_NorESM2-MM_piClim-aer_r1i1p...:   0%|          |0.00/12.1M [?B/s]"
      ]
     },
     "metadata": {},
     "output_type": "display_data"
    },
    {
     "data": {
      "application/vnd.jupyter.widget-view+json": {
       "model_id": "a5bcf9ae3bfa4d8c94bb3be86546f18b",
       "version_major": 2,
       "version_minor": 0
      },
      "text/plain": [
       "rsuscs_Amon_NorESM2-MM_piClim-aer_r1i...:   0%|          |0.00/15.4M [?B/s]"
      ]
     },
     "metadata": {},
     "output_type": "display_data"
    },
    {
     "data": {
      "application/vnd.jupyter.widget-view+json": {
       "model_id": "eb114de81ed543a59192ec4fd155906b",
       "version_major": 2,
       "version_minor": 0
      },
      "text/plain": [
       "rlds_Amon_NorESM2-MM_piClim-control_r...:   0%|          |0.00/17.1M [?B/s]"
      ]
     },
     "metadata": {},
     "output_type": "display_data"
    },
    {
     "data": {
      "application/vnd.jupyter.widget-view+json": {
       "model_id": "3cf277fe9e3d42f89880e2b4d92e2c34",
       "version_major": 2,
       "version_minor": 0
      },
      "text/plain": [
       "rsds_Amon_NorESM2-MM_piClim-control_r...:   0%|          |0.00/18.0M [?B/s]"
      ]
     },
     "metadata": {},
     "output_type": "display_data"
    },
    {
     "data": {
      "application/vnd.jupyter.widget-view+json": {
       "model_id": "cc49a64a60a548edba6ed8aee8662eb8",
       "version_major": 2,
       "version_minor": 0
      },
      "text/plain": [
       "rsuscs_Amon_CNRM-CM6-1_piClim-control...:   0%|          |0.00/29.9M [?B/s]"
      ]
     },
     "metadata": {},
     "output_type": "display_data"
    },
    {
     "data": {
      "application/vnd.jupyter.widget-view+json": {
       "model_id": "2d33cd6d202a45cabfe6ca1dcb76f4b0",
       "version_major": 2,
       "version_minor": 0
      },
      "text/plain": [
       "rlutcs_Amon_CNRM-ESM2-1_piClim-contro...:   0%|          |0.00/28.2M [?B/s]"
      ]
     },
     "metadata": {},
     "output_type": "display_data"
    },
    {
     "data": {
      "application/vnd.jupyter.widget-view+json": {
       "model_id": "cec42e072ae64fd08790c12b8f494699",
       "version_major": 2,
       "version_minor": 0
      },
      "text/plain": [
       "rlut_Amon_CanESM5_piClim-control_r1i1...:   0%|          |0.00/16.9M [?B/s]"
      ]
     },
     "metadata": {},
     "output_type": "display_data"
    },
    {
     "data": {
      "application/vnd.jupyter.widget-view+json": {
       "model_id": "d92a44bdf323416c97a05aef40b312ab",
       "version_major": 2,
       "version_minor": 0
      },
      "text/plain": [
       "clt_Amon_CanESM5_piClim-aer_r1i1p2f1_...:   0%|          |0.00/16.6M [?B/s]"
      ]
     },
     "metadata": {},
     "output_type": "display_data"
    },
    {
     "data": {
      "application/vnd.jupyter.widget-view+json": {
       "model_id": "0b8088d9774b4f79a83654d94abaff0c",
       "version_major": 2,
       "version_minor": 0
      },
      "text/plain": [
       "rlut_Amon_CanESM5_piClim-aer_r1i1p2f1...:   0%|          |0.00/16.9M [?B/s]"
      ]
     },
     "metadata": {},
     "output_type": "display_data"
    },
    {
     "data": {
      "application/vnd.jupyter.widget-view+json": {
       "model_id": "7d68dc5f076848e88839ebeb03c1d444",
       "version_major": 2,
       "version_minor": 0
      },
      "text/plain": [
       "rsdscs_Amon_CanESM5_piClim-aer_r1i1p2...:   0%|          |0.00/16.1M [?B/s]"
      ]
     },
     "metadata": {},
     "output_type": "display_data"
    },
    {
     "data": {
      "application/vnd.jupyter.widget-view+json": {
       "model_id": "9875dee2ee6847d5bf5b4633f469ac8a",
       "version_major": 2,
       "version_minor": 0
      },
      "text/plain": [
       "rsds_Amon_MIROC6_piClim-aer_r1i1p1f1_...:   0%|          |0.00/32.4M [?B/s]"
      ]
     },
     "metadata": {},
     "output_type": "display_data"
    },
    {
     "data": {
      "application/vnd.jupyter.widget-view+json": {
       "model_id": "8c7ee8f6b78243e3a25f6d4c869ea163",
       "version_major": 2,
       "version_minor": 0
      },
      "text/plain": [
       "rsut_Amon_MIROC6_piClim-aer_r1i1p1f1_...:   0%|          |0.00/32.4M [?B/s]"
      ]
     },
     "metadata": {},
     "output_type": "display_data"
    },
    {
     "data": {
      "application/vnd.jupyter.widget-view+json": {
       "model_id": "6960cbf5fd7847e98263a7b937833fe3",
       "version_major": 2,
       "version_minor": 0
      },
      "text/plain": [
       "rsds_Amon_IPSL-CM6A-LR-INCA_piClim-co...:   0%|          |0.00/20.8M [?B/s]"
      ]
     },
     "metadata": {},
     "output_type": "display_data"
    },
    {
     "data": {
      "application/vnd.jupyter.widget-view+json": {
       "model_id": "04aa2a0877054a0a9390a15ab2ece149",
       "version_major": 2,
       "version_minor": 0
      },
      "text/plain": [
       "rsutcs_Amon_MIROC6_piClim-aer_r1i1p1f...:   0%|          |0.00/28.6M [?B/s]"
      ]
     },
     "metadata": {},
     "output_type": "display_data"
    },
    {
     "data": {
      "application/vnd.jupyter.widget-view+json": {
       "model_id": "ae91d402c96d4e349542836e9444521e",
       "version_major": 2,
       "version_minor": 0
      },
      "text/plain": [
       "rsutcs_Amon_IPSL-CM6A-LR-INCA_piClim-...:   0%|          |0.00/19.3M [?B/s]"
      ]
     },
     "metadata": {},
     "output_type": "display_data"
    },
    {
     "data": {
      "application/vnd.jupyter.widget-view+json": {
       "model_id": "a43069bbd6d04a92b3ab99ba1ee2d7c5",
       "version_major": 2,
       "version_minor": 0
      },
      "text/plain": [
       "rlut_Amon_IPSL-CM6A-LR-INCA_piClim-ae...:   0%|          |0.00/20.1M [?B/s]"
      ]
     },
     "metadata": {},
     "output_type": "display_data"
    },
    {
     "data": {
      "application/vnd.jupyter.widget-view+json": {
       "model_id": "80a00ea306a1412faf22a9173d87f2c4",
       "version_major": 2,
       "version_minor": 0
      },
      "text/plain": [
       "rsuscs_Amon_IPSL-CM6A-LR-INCA_piClim-...:   0%|          |0.00/19.9M [?B/s]"
      ]
     },
     "metadata": {},
     "output_type": "display_data"
    },
    {
     "data": {
      "application/vnd.jupyter.widget-view+json": {
       "model_id": "bfa25083bf0341ee8d06d6117b3770f4",
       "version_major": 2,
       "version_minor": 0
      },
      "text/plain": [
       "rsutcs_Amon_IPSL-CM6A-LR-INCA_piClim-...:   0%|          |0.00/19.4M [?B/s]"
      ]
     },
     "metadata": {},
     "output_type": "display_data"
    },
    {
     "data": {
      "application/vnd.jupyter.widget-view+json": {
       "model_id": "40347ed6fb754a52ac92fb1b2366f8c7",
       "version_major": 2,
       "version_minor": 0
      },
      "text/plain": [
       "rlut_Amon_MIROC6_piClim-control_r1i1p...:   0%|          |0.00/30.3M [?B/s]"
      ]
     },
     "metadata": {},
     "output_type": "display_data"
    },
    {
     "data": {
      "application/vnd.jupyter.widget-view+json": {
       "model_id": "4adaf628a7514548bffc2ef0a186f1c9",
       "version_major": 2,
       "version_minor": 0
      },
      "text/plain": [
       "rsdscs_Amon_MIROC6_piClim-control_r1i...:   0%|          |0.00/26.2M [?B/s]"
      ]
     },
     "metadata": {},
     "output_type": "display_data"
    },
    {
     "data": {
      "application/vnd.jupyter.widget-view+json": {
       "model_id": "f2713d674e6d45e8a9105c6fe7c5af5b",
       "version_major": 2,
       "version_minor": 0
      },
      "text/plain": [
       "rlutcs_Amon_CNRM-ESM2-1_piClim-aer_r1...:   0%|          |0.00/28.2M [?B/s]"
      ]
     },
     "metadata": {},
     "output_type": "display_data"
    },
    {
     "data": {
      "application/vnd.jupyter.widget-view+json": {
       "model_id": "a5c8e8a9b5b840469d4dd8690a29986d",
       "version_major": 2,
       "version_minor": 0
      },
      "text/plain": [
       "clt_Amon_IPSL-CM6A-LR_piClim-control_...:   0%|          |0.00/22.1M [?B/s]"
      ]
     },
     "metadata": {},
     "output_type": "display_data"
    },
    {
     "data": {
      "application/vnd.jupyter.widget-view+json": {
       "model_id": "639eebe146184df097fdda52e0b9924f",
       "version_major": 2,
       "version_minor": 0
      },
      "text/plain": [
       "rsdscs_Amon_IPSL-CM6A-LR_piClim-contr...:   0%|          |0.00/17.5M [?B/s]"
      ]
     },
     "metadata": {},
     "output_type": "display_data"
    },
    {
     "data": {
      "application/vnd.jupyter.widget-view+json": {
       "model_id": "831a1487f5264d41856b21fe05a44e85",
       "version_major": 2,
       "version_minor": 0
      },
      "text/plain": [
       "rlus_Amon_MPI-ESM-1-2-HAM_piClim-cont...:   0%|          |0.00/7.47M [?B/s]"
      ]
     },
     "metadata": {},
     "output_type": "display_data"
    },
    {
     "data": {
      "application/vnd.jupyter.widget-view+json": {
       "model_id": "9c5222ca31654cd4aa2b63018b018325",
       "version_major": 2,
       "version_minor": 0
      },
      "text/plain": [
       "rsut_Amon_MPI-ESM-1-2-HAM_piClim-cont...:   0%|          |0.00/4.37M [?B/s]"
      ]
     },
     "metadata": {},
     "output_type": "display_data"
    },
    {
     "data": {
      "application/vnd.jupyter.widget-view+json": {
       "model_id": "570edb64621e4c36b309d48f3e039c1f",
       "version_major": 2,
       "version_minor": 0
      },
      "text/plain": [
       "rlutcs_Amon_MRI-ESM2-0_piClim-aer_r1i...:   0%|          |0.00/1.54M [?B/s]"
      ]
     },
     "metadata": {},
     "output_type": "display_data"
    },
    {
     "data": {
      "application/vnd.jupyter.widget-view+json": {
       "model_id": "63a997fd5c8949afbc88230d648578ca",
       "version_major": 2,
       "version_minor": 0
      },
      "text/plain": [
       "rsds_Amon_MRI-ESM2-0_piClim-aer_r1i1p...:   0%|          |0.00/49.1M [?B/s]"
      ]
     },
     "metadata": {},
     "output_type": "display_data"
    },
    {
     "data": {
      "application/vnd.jupyter.widget-view+json": {
       "model_id": "2e10ad27f5984cddb4bf6ce79fb4808f",
       "version_major": 2,
       "version_minor": 0
      },
      "text/plain": [
       "rsut_Amon_MRI-ESM2-0_piClim-aer_r1i1p...:   0%|          |0.00/50.4M [?B/s]"
      ]
     },
     "metadata": {},
     "output_type": "display_data"
    },
    {
     "data": {
      "application/vnd.jupyter.widget-view+json": {
       "model_id": "90ff451ebdb74e38a0dbbe2755af852b",
       "version_major": 2,
       "version_minor": 0
      },
      "text/plain": [
       "rsutcs_Amon_MRI-ESM2-0_piClim-aer_r1i...:   0%|          |0.00/46.0M [?B/s]"
      ]
     },
     "metadata": {},
     "output_type": "display_data"
    },
    {
     "data": {
      "application/vnd.jupyter.widget-view+json": {
       "model_id": "2c94e4af99584057b953fe669764518b",
       "version_major": 2,
       "version_minor": 0
      },
      "text/plain": [
       "rlds_Amon_MRI-ESM2-0_piClim-control_r...:   0%|          |0.00/47.7M [?B/s]"
      ]
     },
     "metadata": {},
     "output_type": "display_data"
    },
    {
     "data": {
      "application/vnd.jupyter.widget-view+json": {
       "model_id": "85d0b244cc4c42e386c242690f967607",
       "version_major": 2,
       "version_minor": 0
      },
      "text/plain": [
       "rlus_Amon_MRI-ESM2-0_piClim-control_r...:   0%|          |0.00/46.5M [?B/s]"
      ]
     },
     "metadata": {},
     "output_type": "display_data"
    },
    {
     "data": {
      "application/vnd.jupyter.widget-view+json": {
       "model_id": "3f9dede251814a5eb9899c6000c250a5",
       "version_major": 2,
       "version_minor": 0
      },
      "text/plain": [
       "rsut_Amon_MRI-ESM2-0_piClim-control_r...:   0%|          |0.00/50.4M [?B/s]"
      ]
     },
     "metadata": {},
     "output_type": "display_data"
    },
    {
     "data": {
      "application/vnd.jupyter.widget-view+json": {
       "model_id": "5d570261f7034686a2c2145c3f4d7f20",
       "version_major": 2,
       "version_minor": 0
      },
      "text/plain": [
       "rlds_Amon_EC-Earth3_piClim-aer_r1i1p1...:   0%|          |0.00/5.26M [?B/s]"
      ]
     },
     "metadata": {},
     "output_type": "display_data"
    },
    {
     "data": {
      "application/vnd.jupyter.widget-view+json": {
       "model_id": "bda2a7e89fd54bb985d978d6e7d94a70",
       "version_major": 2,
       "version_minor": 0
      },
      "text/plain": [
       "rlds_Amon_EC-Earth3_piClim-aer_r1i1p1...:   0%|          |0.00/5.25M [?B/s]"
      ]
     },
     "metadata": {},
     "output_type": "display_data"
    },
    {
     "data": {
      "application/vnd.jupyter.widget-view+json": {
       "model_id": "16aa186302a04c8aa7886dfc9289b5dd",
       "version_major": 2,
       "version_minor": 0
      },
      "text/plain": [
       "rlus_Amon_EC-Earth3_piClim-aer_r1i1p1...:   0%|          |0.00/5.19M [?B/s]"
      ]
     },
     "metadata": {},
     "output_type": "display_data"
    },
    {
     "data": {
      "application/vnd.jupyter.widget-view+json": {
       "model_id": "5806970574664834b1f93866530f7dc3",
       "version_major": 2,
       "version_minor": 0
      },
      "text/plain": [
       "rlut_Amon_EC-Earth3_piClim-aer_r1i1p1...:   0%|          |0.00/5.23M [?B/s]"
      ]
     },
     "metadata": {},
     "output_type": "display_data"
    },
    {
     "data": {
      "application/vnd.jupyter.widget-view+json": {
       "model_id": "34d58497b1da4ba68d0bc3d500518814",
       "version_major": 2,
       "version_minor": 0
      },
      "text/plain": [
       "rlds_Amon_EC-Earth3_piClim-aer_r1i1p1...:   0%|          |0.00/5.26M [?B/s]"
      ]
     },
     "metadata": {},
     "output_type": "display_data"
    },
    {
     "data": {
      "application/vnd.jupyter.widget-view+json": {
       "model_id": "219ae23077c0424d9da2e45686489ce0",
       "version_major": 2,
       "version_minor": 0
      },
      "text/plain": [
       "rlut_Amon_EC-Earth3_piClim-aer_r1i1p1...:   0%|          |0.00/5.22M [?B/s]"
      ]
     },
     "metadata": {},
     "output_type": "display_data"
    },
    {
     "data": {
      "application/vnd.jupyter.widget-view+json": {
       "model_id": "7f628bee39224e71ba5458c3631e78f7",
       "version_major": 2,
       "version_minor": 0
      },
      "text/plain": [
       "rlut_Amon_EC-Earth3_piClim-aer_r1i1p1...:   0%|          |0.00/5.22M [?B/s]"
      ]
     },
     "metadata": {},
     "output_type": "display_data"
    },
    {
     "data": {
      "application/vnd.jupyter.widget-view+json": {
       "model_id": "7af3fc6013424c17bbd3650b7689d5ab",
       "version_major": 2,
       "version_minor": 0
      },
      "text/plain": [
       "rlut_Amon_EC-Earth3_piClim-aer_r1i1p1...:   0%|          |0.00/5.23M [?B/s]"
      ]
     },
     "metadata": {},
     "output_type": "display_data"
    },
    {
     "data": {
      "application/vnd.jupyter.widget-view+json": {
       "model_id": "8c5c193807324a9ebb834526239dc827",
       "version_major": 2,
       "version_minor": 0
      },
      "text/plain": [
       "rlutcs_Amon_EC-Earth3_piClim-aer_r1i1...:   0%|          |0.00/5.08M [?B/s]"
      ]
     },
     "metadata": {},
     "output_type": "display_data"
    },
    {
     "data": {
      "application/vnd.jupyter.widget-view+json": {
       "model_id": "a65749563923451db07da817ca7955c3",
       "version_major": 2,
       "version_minor": 0
      },
      "text/plain": [
       "rlutcs_Amon_EC-Earth3_piClim-aer_r1i1...:   0%|          |0.00/5.08M [?B/s]"
      ]
     },
     "metadata": {},
     "output_type": "display_data"
    },
    {
     "data": {
      "application/vnd.jupyter.widget-view+json": {
       "model_id": "738040cf4f2a423db8f40e47d6c7c9a7",
       "version_major": 2,
       "version_minor": 0
      },
      "text/plain": [
       "rsds_Amon_EC-Earth3_piClim-aer_r1i1p1...:   0%|          |0.00/5.07M [?B/s]"
      ]
     },
     "metadata": {},
     "output_type": "display_data"
    },
    {
     "data": {
      "application/vnd.jupyter.widget-view+json": {
       "model_id": "a72fe21679d443319f994749e499b2a9",
       "version_major": 2,
       "version_minor": 0
      },
      "text/plain": [
       "rsds_Amon_EC-Earth3_piClim-aer_r1i1p1...:   0%|          |0.00/5.07M [?B/s]"
      ]
     },
     "metadata": {},
     "output_type": "display_data"
    },
    {
     "data": {
      "application/vnd.jupyter.widget-view+json": {
       "model_id": "f06cea9afbc3462d8da2bc10431cb83e",
       "version_major": 2,
       "version_minor": 0
      },
      "text/plain": [
       "rsds_Amon_EC-Earth3_piClim-aer_r1i1p1...:   0%|          |0.00/5.07M [?B/s]"
      ]
     },
     "metadata": {},
     "output_type": "display_data"
    },
    {
     "data": {
      "application/vnd.jupyter.widget-view+json": {
       "model_id": "442a74ee76194c7cbbc3e327921d9457",
       "version_major": 2,
       "version_minor": 0
      },
      "text/plain": [
       "rsds_Amon_EC-Earth3_piClim-aer_r1i1p1...:   0%|          |0.00/5.07M [?B/s]"
      ]
     },
     "metadata": {},
     "output_type": "display_data"
    },
    {
     "data": {
      "application/vnd.jupyter.widget-view+json": {
       "model_id": "fc84d6d4caa641f791cf75a7f6e0a3a9",
       "version_major": 2,
       "version_minor": 0
      },
      "text/plain": [
       "rsdt_Amon_EC-Earth3_piClim-aer_r1i1p1...:   0%|          |0.00/4.02M [?B/s]"
      ]
     },
     "metadata": {},
     "output_type": "display_data"
    },
    {
     "data": {
      "application/vnd.jupyter.widget-view+json": {
       "model_id": "2de7015c44144515a4244989439ba503",
       "version_major": 2,
       "version_minor": 0
      },
      "text/plain": [
       "rsdt_Amon_EC-Earth3_piClim-aer_r1i1p1...:   0%|          |0.00/4.03M [?B/s]"
      ]
     },
     "metadata": {},
     "output_type": "display_data"
    },
    {
     "data": {
      "application/vnd.jupyter.widget-view+json": {
       "model_id": "922997d534be42ab83e7ce6f7d2f325b",
       "version_major": 2,
       "version_minor": 0
      },
      "text/plain": [
       "rsus_Amon_EC-Earth3_piClim-aer_r1i1p1...:   0%|          |0.00/5.17M [?B/s]"
      ]
     },
     "metadata": {},
     "output_type": "display_data"
    },
    {
     "data": {
      "application/vnd.jupyter.widget-view+json": {
       "model_id": "aae20a99602945ab826b8036b9541668",
       "version_major": 2,
       "version_minor": 0
      },
      "text/plain": [
       "rsus_Amon_EC-Earth3_piClim-aer_r1i1p1...:   0%|          |0.00/5.17M [?B/s]"
      ]
     },
     "metadata": {},
     "output_type": "display_data"
    },
    {
     "data": {
      "application/vnd.jupyter.widget-view+json": {
       "model_id": "fbd4029a9d2e4fefa1143f6182d7a33e",
       "version_major": 2,
       "version_minor": 0
      },
      "text/plain": [
       "rsuscs_Amon_EC-Earth3_piClim-aer_r1i1...:   0%|          |0.00/5.17M [?B/s]"
      ]
     },
     "metadata": {},
     "output_type": "display_data"
    },
    {
     "data": {
      "application/vnd.jupyter.widget-view+json": {
       "model_id": "436dc9f16df648869493734a261f3956",
       "version_major": 2,
       "version_minor": 0
      },
      "text/plain": [
       "rsus_Amon_EC-Earth3_piClim-aer_r1i1p1...:   0%|          |0.00/5.17M [?B/s]"
      ]
     },
     "metadata": {},
     "output_type": "display_data"
    },
    {
     "data": {
      "application/vnd.jupyter.widget-view+json": {
       "model_id": "642bdc35e73e47d99c8a1a267219057a",
       "version_major": 2,
       "version_minor": 0
      },
      "text/plain": [
       "rsuscs_Amon_EC-Earth3_piClim-aer_r1i1...:   0%|          |0.00/5.16M [?B/s]"
      ]
     },
     "metadata": {},
     "output_type": "display_data"
    },
    {
     "data": {
      "application/vnd.jupyter.widget-view+json": {
       "model_id": "1f694e0c035e4501a38128d852742c8f",
       "version_major": 2,
       "version_minor": 0
      },
      "text/plain": [
       "rsuscs_Amon_EC-Earth3_piClim-aer_r1i1...:   0%|          |0.00/5.17M [?B/s]"
      ]
     },
     "metadata": {},
     "output_type": "display_data"
    },
    {
     "data": {
      "application/vnd.jupyter.widget-view+json": {
       "model_id": "f759272c5c004da781583a07bc01283a",
       "version_major": 2,
       "version_minor": 0
      },
      "text/plain": [
       "rsuscs_Amon_EC-Earth3_piClim-aer_r1i1...:   0%|          |0.00/5.16M [?B/s]"
      ]
     },
     "metadata": {},
     "output_type": "display_data"
    },
    {
     "data": {
      "application/vnd.jupyter.widget-view+json": {
       "model_id": "09e51e3826a44d478e44f33c950c5388",
       "version_major": 2,
       "version_minor": 0
      },
      "text/plain": [
       "rsuscs_Amon_EC-Earth3_piClim-aer_r1i1...:   0%|          |0.00/5.17M [?B/s]"
      ]
     },
     "metadata": {},
     "output_type": "display_data"
    },
    {
     "data": {
      "application/vnd.jupyter.widget-view+json": {
       "model_id": "6067101926f44ac9a442286b7d3b4800",
       "version_major": 2,
       "version_minor": 0
      },
      "text/plain": [
       "rsut_Amon_EC-Earth3_piClim-aer_r1i1p1...:   0%|          |0.00/5.11M [?B/s]"
      ]
     },
     "metadata": {},
     "output_type": "display_data"
    },
    {
     "data": {
      "application/vnd.jupyter.widget-view+json": {
       "model_id": "caf02584174c4abbb13e201039dc3d61",
       "version_major": 2,
       "version_minor": 0
      },
      "text/plain": [
       "rsut_Amon_EC-Earth3_piClim-aer_r1i1p1...:   0%|          |0.00/5.11M [?B/s]"
      ]
     },
     "metadata": {},
     "output_type": "display_data"
    },
    {
     "data": {
      "application/vnd.jupyter.widget-view+json": {
       "model_id": "6dca3861098e4694bd63b108b5b17e99",
       "version_major": 2,
       "version_minor": 0
      },
      "text/plain": [
       "rsut_Amon_EC-Earth3_piClim-aer_r1i1p1...:   0%|          |0.00/5.11M [?B/s]"
      ]
     },
     "metadata": {},
     "output_type": "display_data"
    },
    {
     "data": {
      "application/vnd.jupyter.widget-view+json": {
       "model_id": "f313566d183e47448f0c184d52c4caca",
       "version_major": 2,
       "version_minor": 0
      },
      "text/plain": [
       "rsutcs_Amon_EC-Earth3_piClim-aer_r1i1...:   0%|          |0.00/4.98M [?B/s]"
      ]
     },
     "metadata": {},
     "output_type": "display_data"
    },
    {
     "data": {
      "application/vnd.jupyter.widget-view+json": {
       "model_id": "45c60444e6e840bc98654a60ea9cfa98",
       "version_major": 2,
       "version_minor": 0
      },
      "text/plain": [
       "rsutcs_Amon_EC-Earth3_piClim-aer_r1i1...:   0%|          |0.00/4.98M [?B/s]"
      ]
     },
     "metadata": {},
     "output_type": "display_data"
    },
    {
     "data": {
      "application/vnd.jupyter.widget-view+json": {
       "model_id": "448fe1b770c247b1b8b668fb07775676",
       "version_major": 2,
       "version_minor": 0
      },
      "text/plain": [
       "rsutcs_Amon_EC-Earth3_piClim-aer_r1i1...:   0%|          |0.00/4.98M [?B/s]"
      ]
     },
     "metadata": {},
     "output_type": "display_data"
    },
    {
     "data": {
      "application/vnd.jupyter.widget-view+json": {
       "model_id": "40b0706233d244d787dbd3efa07dd0bb",
       "version_major": 2,
       "version_minor": 0
      },
      "text/plain": [
       "clt_Amon_EC-Earth3_piClim-aer_r1i1p1f...:   0%|          |0.00/5.35M [?B/s]"
      ]
     },
     "metadata": {},
     "output_type": "display_data"
    },
    {
     "data": {
      "application/vnd.jupyter.widget-view+json": {
       "model_id": "9d6aecf5de2e46f2b38adc9a0982c428",
       "version_major": 2,
       "version_minor": 0
      },
      "text/plain": [
       "clt_Amon_EC-Earth3_piClim-aer_r1i1p1f...:   0%|          |0.00/5.35M [?B/s]"
      ]
     },
     "metadata": {},
     "output_type": "display_data"
    },
    {
     "data": {
      "application/vnd.jupyter.widget-view+json": {
       "model_id": "5cdcf910341f41dcb4deb1c7401ad129",
       "version_major": 2,
       "version_minor": 0
      },
      "text/plain": [
       "clt_Amon_EC-Earth3_piClim-aer_r1i1p1f...:   0%|          |0.00/5.35M [?B/s]"
      ]
     },
     "metadata": {},
     "output_type": "display_data"
    },
    {
     "data": {
      "application/vnd.jupyter.widget-view+json": {
       "model_id": "5127eaf530e14d7ea198fbd451afeb3c",
       "version_major": 2,
       "version_minor": 0
      },
      "text/plain": [
       "clt_Amon_EC-Earth3_piClim-aer_r1i1p1f...:   0%|          |0.00/5.36M [?B/s]"
      ]
     },
     "metadata": {},
     "output_type": "display_data"
    },
    {
     "data": {
      "application/vnd.jupyter.widget-view+json": {
       "model_id": "d5d9e841e18746dfa0e7c3e0df38b16c",
       "version_major": 2,
       "version_minor": 0
      },
      "text/plain": [
       "clt_Amon_EC-Earth3_piClim-aer_r1i1p1f...:   0%|          |0.00/5.35M [?B/s]"
      ]
     },
     "metadata": {},
     "output_type": "display_data"
    },
    {
     "data": {
      "application/vnd.jupyter.widget-view+json": {
       "model_id": "f10184c42a604265ab4ff8a1c78bc28c",
       "version_major": 2,
       "version_minor": 0
      },
      "text/plain": [
       "clt_Amon_EC-Earth3_piClim-control_r1i...:   0%|          |0.00/5.35M [?B/s]"
      ]
     },
     "metadata": {},
     "output_type": "display_data"
    },
    {
     "data": {
      "application/vnd.jupyter.widget-view+json": {
       "model_id": "825a9742379b43d2857d6e01d2f36c33",
       "version_major": 2,
       "version_minor": 0
      },
      "text/plain": [
       "rlds_Amon_EC-Earth3_piClim-control_r1...:   0%|          |0.00/5.26M [?B/s]"
      ]
     },
     "metadata": {},
     "output_type": "display_data"
    },
    {
     "data": {
      "application/vnd.jupyter.widget-view+json": {
       "model_id": "0cc91e0ebbf847f2ab369fb7c2e5e231",
       "version_major": 2,
       "version_minor": 0
      },
      "text/plain": [
       "rlds_Amon_EC-Earth3_piClim-control_r1...:   0%|          |0.00/5.25M [?B/s]"
      ]
     },
     "metadata": {},
     "output_type": "display_data"
    },
    {
     "data": {
      "application/vnd.jupyter.widget-view+json": {
       "model_id": "d7e3f133dc854fe38aece21cad674692",
       "version_major": 2,
       "version_minor": 0
      },
      "text/plain": [
       "clt_Amon_EC-Earth3_piClim-control_r1i...:   0%|          |0.00/5.35M [?B/s]"
      ]
     },
     "metadata": {},
     "output_type": "display_data"
    },
    {
     "data": {
      "application/vnd.jupyter.widget-view+json": {
       "model_id": "18c938e8ef8042c185051bac12d416fa",
       "version_major": 2,
       "version_minor": 0
      },
      "text/plain": [
       "rlds_Amon_EC-Earth3_piClim-control_r1...:   0%|          |0.00/5.26M [?B/s]"
      ]
     },
     "metadata": {},
     "output_type": "display_data"
    },
    {
     "data": {
      "application/vnd.jupyter.widget-view+json": {
       "model_id": "842c24e6128443fd8e4cb193db6ba60e",
       "version_major": 2,
       "version_minor": 0
      },
      "text/plain": [
       "rlus_Amon_EC-Earth3_piClim-control_r1...:   0%|          |0.00/5.19M [?B/s]"
      ]
     },
     "metadata": {},
     "output_type": "display_data"
    },
    {
     "data": {
      "application/vnd.jupyter.widget-view+json": {
       "model_id": "b4c43fedb2df4bd895a6acc9eaa048f6",
       "version_major": 2,
       "version_minor": 0
      },
      "text/plain": [
       "clt_Amon_EC-Earth3_piClim-control_r1i...:   0%|          |0.00/5.35M [?B/s]"
      ]
     },
     "metadata": {},
     "output_type": "display_data"
    },
    {
     "data": {
      "application/vnd.jupyter.widget-view+json": {
       "model_id": "adbfe2c165fe42bc9e86a30f6ee91dfe",
       "version_major": 2,
       "version_minor": 0
      },
      "text/plain": [
       "rlus_Amon_EC-Earth3_piClim-control_r1...:   0%|          |0.00/5.19M [?B/s]"
      ]
     },
     "metadata": {},
     "output_type": "display_data"
    },
    {
     "data": {
      "application/vnd.jupyter.widget-view+json": {
       "model_id": "ca08e4ca9a5d4206a2704bbb0caa2781",
       "version_major": 2,
       "version_minor": 0
      },
      "text/plain": [
       "rlus_Amon_EC-Earth3_piClim-control_r1...:   0%|          |0.00/5.19M [?B/s]"
      ]
     },
     "metadata": {},
     "output_type": "display_data"
    },
    {
     "data": {
      "application/vnd.jupyter.widget-view+json": {
       "model_id": "e43ca28aa5334d5c9315f33c1f3b2e4e",
       "version_major": 2,
       "version_minor": 0
      },
      "text/plain": [
       "rlut_Amon_EC-Earth3_piClim-control_r1...:   0%|          |0.00/5.23M [?B/s]"
      ]
     },
     "metadata": {},
     "output_type": "display_data"
    },
    {
     "data": {
      "application/vnd.jupyter.widget-view+json": {
       "model_id": "e6bf9847021a48189b68220cc9090463",
       "version_major": 2,
       "version_minor": 0
      },
      "text/plain": [
       "rlut_Amon_EC-Earth3_piClim-control_r1...:   0%|          |0.00/5.23M [?B/s]"
      ]
     },
     "metadata": {},
     "output_type": "display_data"
    },
    {
     "data": {
      "application/vnd.jupyter.widget-view+json": {
       "model_id": "127a1f32a0384ef9abcdf5ecf2d1d177",
       "version_major": 2,
       "version_minor": 0
      },
      "text/plain": [
       "rlutcs_Amon_EC-Earth3_piClim-control_...:   0%|          |0.00/5.08M [?B/s]"
      ]
     },
     "metadata": {},
     "output_type": "display_data"
    },
    {
     "data": {
      "application/vnd.jupyter.widget-view+json": {
       "model_id": "b0634e78d8fa4d76b677a2b0c9986168",
       "version_major": 2,
       "version_minor": 0
      },
      "text/plain": [
       "rlutcs_Amon_EC-Earth3_piClim-control_...:   0%|          |0.00/5.08M [?B/s]"
      ]
     },
     "metadata": {},
     "output_type": "display_data"
    },
    {
     "data": {
      "application/vnd.jupyter.widget-view+json": {
       "model_id": "68c689ace7a34433a33cb67a455375f4",
       "version_major": 2,
       "version_minor": 0
      },
      "text/plain": [
       "rlutcs_Amon_EC-Earth3_piClim-control_...:   0%|          |0.00/5.08M [?B/s]"
      ]
     },
     "metadata": {},
     "output_type": "display_data"
    },
    {
     "data": {
      "application/vnd.jupyter.widget-view+json": {
       "model_id": "aaf3060d19cb4cb990a8bb75cc119de1",
       "version_major": 2,
       "version_minor": 0
      },
      "text/plain": [
       "rlutcs_Amon_EC-Earth3_piClim-control_...:   0%|          |0.00/5.09M [?B/s]"
      ]
     },
     "metadata": {},
     "output_type": "display_data"
    },
    {
     "data": {
      "application/vnd.jupyter.widget-view+json": {
       "model_id": "5e690b859b764779b9de0ce9e9b5c942",
       "version_major": 2,
       "version_minor": 0
      },
      "text/plain": [
       "rlutcs_Amon_EC-Earth3_piClim-control_...:   0%|          |0.00/5.08M [?B/s]"
      ]
     },
     "metadata": {},
     "output_type": "display_data"
    },
    {
     "data": {
      "application/vnd.jupyter.widget-view+json": {
       "model_id": "8e0bc68d5be54aeaa87926f3fce1bb30",
       "version_major": 2,
       "version_minor": 0
      },
      "text/plain": [
       "rsds_Amon_EC-Earth3_piClim-control_r1...:   0%|          |0.00/5.07M [?B/s]"
      ]
     },
     "metadata": {},
     "output_type": "display_data"
    },
    {
     "data": {
      "application/vnd.jupyter.widget-view+json": {
       "model_id": "943607f53d064763ad8abf5435940bd0",
       "version_major": 2,
       "version_minor": 0
      },
      "text/plain": [
       "rsds_Amon_EC-Earth3_piClim-control_r1...:   0%|          |0.00/5.07M [?B/s]"
      ]
     },
     "metadata": {},
     "output_type": "display_data"
    },
    {
     "data": {
      "application/vnd.jupyter.widget-view+json": {
       "model_id": "16de2d2439964838aecef6a884b721b6",
       "version_major": 2,
       "version_minor": 0
      },
      "text/plain": [
       "rsds_Amon_EC-Earth3_piClim-control_r1...:   0%|          |0.00/5.07M [?B/s]"
      ]
     },
     "metadata": {},
     "output_type": "display_data"
    },
    {
     "data": {
      "application/vnd.jupyter.widget-view+json": {
       "model_id": "8197fb289bde4557a5425c014f27a78f",
       "version_major": 2,
       "version_minor": 0
      },
      "text/plain": [
       "rsdt_Amon_EC-Earth3_piClim-control_r1...:   0%|          |0.00/4.03M [?B/s]"
      ]
     },
     "metadata": {},
     "output_type": "display_data"
    },
    {
     "data": {
      "application/vnd.jupyter.widget-view+json": {
       "model_id": "eab10ca9111a4c4080a85587677cb3b1",
       "version_major": 2,
       "version_minor": 0
      },
      "text/plain": [
       "rsdscs_Amon_EC-Earth3_piClim-control_...:   0%|          |0.00/4.87M [?B/s]"
      ]
     },
     "metadata": {},
     "output_type": "display_data"
    },
    {
     "data": {
      "application/vnd.jupyter.widget-view+json": {
       "model_id": "9a2154c79af24f1cab1a758304cdef7f",
       "version_major": 2,
       "version_minor": 0
      },
      "text/plain": [
       "rsdscs_Amon_EC-Earth3_piClim-control_...:   0%|          |0.00/4.87M [?B/s]"
      ]
     },
     "metadata": {},
     "output_type": "display_data"
    },
    {
     "data": {
      "application/vnd.jupyter.widget-view+json": {
       "model_id": "b30bdf6d60774ff89d8e851839530f92",
       "version_major": 2,
       "version_minor": 0
      },
      "text/plain": [
       "rsdt_Amon_EC-Earth3_piClim-control_r1...:   0%|          |0.00/4.03M [?B/s]"
      ]
     },
     "metadata": {},
     "output_type": "display_data"
    },
    {
     "data": {
      "application/vnd.jupyter.widget-view+json": {
       "model_id": "9f98adff75644bef98ef052f491bb741",
       "version_major": 2,
       "version_minor": 0
      },
      "text/plain": [
       "rsdt_Amon_EC-Earth3_piClim-control_r1...:   0%|          |0.00/4.02M [?B/s]"
      ]
     },
     "metadata": {},
     "output_type": "display_data"
    },
    {
     "data": {
      "application/vnd.jupyter.widget-view+json": {
       "model_id": "4348b267c8ba4d4495b9890c7e37dc57",
       "version_major": 2,
       "version_minor": 0
      },
      "text/plain": [
       "rsdscs_Amon_EC-Earth3_piClim-control_...:   0%|          |0.00/4.87M [?B/s]"
      ]
     },
     "metadata": {},
     "output_type": "display_data"
    },
    {
     "data": {
      "application/vnd.jupyter.widget-view+json": {
       "model_id": "4e46ee2e5db14a059629fbf0e77f9a7b",
       "version_major": 2,
       "version_minor": 0
      },
      "text/plain": [
       "rsus_Amon_EC-Earth3_piClim-control_r1...:   0%|          |0.00/5.17M [?B/s]"
      ]
     },
     "metadata": {},
     "output_type": "display_data"
    },
    {
     "data": {
      "application/vnd.jupyter.widget-view+json": {
       "model_id": "069054c7f079454ba3cb564985e66553",
       "version_major": 2,
       "version_minor": 0
      },
      "text/plain": [
       "rsus_Amon_EC-Earth3_piClim-control_r1...:   0%|          |0.00/5.17M [?B/s]"
      ]
     },
     "metadata": {},
     "output_type": "display_data"
    },
    {
     "data": {
      "application/vnd.jupyter.widget-view+json": {
       "model_id": "f1b3e54a13d7490fb804cb25a2d5db05",
       "version_major": 2,
       "version_minor": 0
      },
      "text/plain": [
       "rsuscs_Amon_EC-Earth3_piClim-control_...:   0%|          |0.00/5.16M [?B/s]"
      ]
     },
     "metadata": {},
     "output_type": "display_data"
    },
    {
     "data": {
      "application/vnd.jupyter.widget-view+json": {
       "model_id": "bd6a81e1a9624eabbeedb9fac15c6336",
       "version_major": 2,
       "version_minor": 0
      },
      "text/plain": [
       "rsus_Amon_EC-Earth3_piClim-control_r1...:   0%|          |0.00/5.16M [?B/s]"
      ]
     },
     "metadata": {},
     "output_type": "display_data"
    },
    {
     "data": {
      "application/vnd.jupyter.widget-view+json": {
       "model_id": "bd6a12a3fd444643affe5c52b2c572f5",
       "version_major": 2,
       "version_minor": 0
      },
      "text/plain": [
       "rsuscs_Amon_EC-Earth3_piClim-control_...:   0%|          |0.00/5.16M [?B/s]"
      ]
     },
     "metadata": {},
     "output_type": "display_data"
    },
    {
     "data": {
      "application/vnd.jupyter.widget-view+json": {
       "model_id": "bff79cf59b6f46f6b3fc2f16531805c9",
       "version_major": 2,
       "version_minor": 0
      },
      "text/plain": [
       "rsuscs_Amon_EC-Earth3_piClim-control_...:   0%|          |0.00/5.16M [?B/s]"
      ]
     },
     "metadata": {},
     "output_type": "display_data"
    },
    {
     "data": {
      "application/vnd.jupyter.widget-view+json": {
       "model_id": "24cc0f6e6fef4dab8a9a0ceb84d3de0f",
       "version_major": 2,
       "version_minor": 0
      },
      "text/plain": [
       "rsuscs_Amon_EC-Earth3_piClim-control_...:   0%|          |0.00/5.16M [?B/s]"
      ]
     },
     "metadata": {},
     "output_type": "display_data"
    },
    {
     "data": {
      "application/vnd.jupyter.widget-view+json": {
       "model_id": "711d40a1aebd4f7f9ad53a83e68f05ae",
       "version_major": 2,
       "version_minor": 0
      },
      "text/plain": [
       "rsut_Amon_EC-Earth3_piClim-control_r1...:   0%|          |0.00/5.11M [?B/s]"
      ]
     },
     "metadata": {},
     "output_type": "display_data"
    },
    {
     "data": {
      "application/vnd.jupyter.widget-view+json": {
       "model_id": "b22d5038c71746709ca015e337e06ce4",
       "version_major": 2,
       "version_minor": 0
      },
      "text/plain": [
       "rsut_Amon_EC-Earth3_piClim-control_r1...:   0%|          |0.00/5.11M [?B/s]"
      ]
     },
     "metadata": {},
     "output_type": "display_data"
    },
    {
     "data": {
      "application/vnd.jupyter.widget-view+json": {
       "model_id": "ff566bbd05184d87816e6e2fc1033ffb",
       "version_major": 2,
       "version_minor": 0
      },
      "text/plain": [
       "rsut_Amon_EC-Earth3_piClim-control_r1...:   0%|          |0.00/5.11M [?B/s]"
      ]
     },
     "metadata": {},
     "output_type": "display_data"
    },
    {
     "data": {
      "application/vnd.jupyter.widget-view+json": {
       "model_id": "54d5b1999d144b27904e38b6a541df75",
       "version_major": 2,
       "version_minor": 0
      },
      "text/plain": [
       "rsut_Amon_EC-Earth3_piClim-control_r1...:   0%|          |0.00/5.11M [?B/s]"
      ]
     },
     "metadata": {},
     "output_type": "display_data"
    },
    {
     "data": {
      "application/vnd.jupyter.widget-view+json": {
       "model_id": "15146408faa34c4d998c06636ec3c311",
       "version_major": 2,
       "version_minor": 0
      },
      "text/plain": [
       "rsut_Amon_EC-Earth3_piClim-control_r1...:   0%|          |0.00/5.11M [?B/s]"
      ]
     },
     "metadata": {},
     "output_type": "display_data"
    },
    {
     "data": {
      "application/vnd.jupyter.widget-view+json": {
       "model_id": "0b1830091edf4f14857d908892a50ea2",
       "version_major": 2,
       "version_minor": 0
      },
      "text/plain": [
       "rsutcs_Amon_EC-Earth3_piClim-control_...:   0%|          |0.00/4.98M [?B/s]"
      ]
     },
     "metadata": {},
     "output_type": "display_data"
    },
    {
     "data": {
      "application/vnd.jupyter.widget-view+json": {
       "model_id": "0133eaf083aa4ca199ec6ed39f362b5e",
       "version_major": 2,
       "version_minor": 0
      },
      "text/plain": [
       "rsutcs_Amon_EC-Earth3_piClim-control_...:   0%|          |0.00/4.97M [?B/s]"
      ]
     },
     "metadata": {},
     "output_type": "display_data"
    },
    {
     "data": {
      "application/vnd.jupyter.widget-view+json": {
       "model_id": "a81bd001ddf64204bcc54f6bd55f87de",
       "version_major": 2,
       "version_minor": 0
      },
      "text/plain": [
       "rsutcs_Amon_EC-Earth3_piClim-control_...:   0%|          |0.00/4.97M [?B/s]"
      ]
     },
     "metadata": {},
     "output_type": "display_data"
    },
    {
     "data": {
      "application/vnd.jupyter.widget-view+json": {
       "model_id": "8478d4cae0b34b22877754a58136ddd9",
       "version_major": 2,
       "version_minor": 0
      },
      "text/plain": [
       "rsutcs_Amon_EC-Earth3_piClim-control_...:   0%|          |0.00/4.97M [?B/s]"
      ]
     },
     "metadata": {},
     "output_type": "display_data"
    },
    {
     "data": {
      "application/vnd.jupyter.widget-view+json": {
       "model_id": "c6b6294766064accb19b02711e46d65f",
       "version_major": 2,
       "version_minor": 0
      },
      "text/plain": [
       "rsutcs_Amon_EC-Earth3_piClim-control_...:   0%|          |0.00/4.97M [?B/s]"
      ]
     },
     "metadata": {},
     "output_type": "display_data"
    },
    {
     "data": {
      "application/vnd.jupyter.widget-view+json": {
       "model_id": "682e0b87831a479c8a1206583e7ef4c5",
       "version_major": 2,
       "version_minor": 0
      },
      "text/plain": [
       "rlus_Amon_ACCESS-ESM1-5_piClim-contro...:   0%|          |0.00/33.2M [?B/s]"
      ]
     },
     "metadata": {},
     "output_type": "display_data"
    },
    {
     "data": {
      "application/vnd.jupyter.widget-view+json": {
       "model_id": "6577824cd2434608b04f3e3765324a31",
       "version_major": 2,
       "version_minor": 0
      },
      "text/plain": [
       "rsdscs_Amon_ACCESS-ESM1-5_piClim-cont...:   0%|          |0.00/31.3M [?B/s]"
      ]
     },
     "metadata": {},
     "output_type": "display_data"
    },
    {
     "data": {
      "application/vnd.jupyter.widget-view+json": {
       "model_id": "7455efa238674881a15650fa76164379",
       "version_major": 2,
       "version_minor": 0
      },
      "text/plain": [
       "rsutcs_Amon_ACCESS-ESM1-5_piClim-cont...:   0%|          |0.00/31.9M [?B/s]"
      ]
     },
     "metadata": {},
     "output_type": "display_data"
    },
    {
     "data": {
      "application/vnd.jupyter.widget-view+json": {
       "model_id": "e1a912fb4bd94c2d9e2b6614b5fc9a8c",
       "version_major": 2,
       "version_minor": 0
      },
      "text/plain": [
       "rsuscs_Amon_ACCESS-ESM1-5_piClim-aer_...:   0%|          |0.00/32.4M [?B/s]"
      ]
     },
     "metadata": {},
     "output_type": "display_data"
    },
    {
     "data": {
      "application/vnd.jupyter.widget-view+json": {
       "model_id": "5a57818449fa48688b29fcdb0b237acb",
       "version_major": 2,
       "version_minor": 0
      },
      "text/plain": [
       "rsut_Amon_ACCESS-ESM1-5_piClim-aer_r1...:   0%|          |0.00/32.5M [?B/s]"
      ]
     },
     "metadata": {},
     "output_type": "display_data"
    },
    {
     "data": {
      "application/vnd.jupyter.widget-view+json": {
       "model_id": "4d824b6261fc431c8fbea9b46ad54abb",
       "version_major": 2,
       "version_minor": 0
      },
      "text/plain": [
       "rsuscs_Amon_CESM2_piClim-control_r1i1...:   0%|          |0.00/46.7M [?B/s]"
      ]
     },
     "metadata": {},
     "output_type": "display_data"
    },
    {
     "data": {
      "application/vnd.jupyter.widget-view+json": {
       "model_id": "c85e5234cc5f4efdaba72399db14edd5",
       "version_major": 2,
       "version_minor": 0
      },
      "text/plain": [
       "rlut_Amon_NorESM2-LM_piClim-aer_r1i1p...:   0%|          |0.00/4.55M [?B/s]"
      ]
     },
     "metadata": {},
     "output_type": "display_data"
    },
    {
     "data": {
      "application/vnd.jupyter.widget-view+json": {
       "model_id": "cbdcf25a296e4c95b23a644d4ba57ae8",
       "version_major": 2,
       "version_minor": 0
      },
      "text/plain": [
       "rlutcs_Amon_NorESM2-LM_piClim-aer_r1i...:   0%|          |0.00/4.30M [?B/s]"
      ]
     },
     "metadata": {},
     "output_type": "display_data"
    },
    {
     "data": {
      "application/vnd.jupyter.widget-view+json": {
       "model_id": "f5dba175ac614951918a65e284892a21",
       "version_major": 2,
       "version_minor": 0
      },
      "text/plain": [
       "rsdt_Amon_NorESM2-LM_piClim-aer_r1i1p...:   0%|          |0.00/3.23M [?B/s]"
      ]
     },
     "metadata": {},
     "output_type": "display_data"
    },
    {
     "data": {
      "application/vnd.jupyter.widget-view+json": {
       "model_id": "c6aff870cdbb40f0b2bc191af2de37dd",
       "version_major": 2,
       "version_minor": 0
      },
      "text/plain": [
       "rsut_Amon_NorESM2-LM_piClim-aer_r1i1p...:   0%|          |0.00/4.72M [?B/s]"
      ]
     },
     "metadata": {},
     "output_type": "display_data"
    },
    {
     "data": {
      "application/vnd.jupyter.widget-view+json": {
       "model_id": "6678a423dd854b3ab9947c2c127ba683",
       "version_major": 2,
       "version_minor": 0
      },
      "text/plain": [
       "rsdt_Amon_NorESM2-LM_piClim-aer_r1i1p...:   0%|          |0.00/3.23M [?B/s]"
      ]
     },
     "metadata": {},
     "output_type": "display_data"
    },
    {
     "data": {
      "application/vnd.jupyter.widget-view+json": {
       "model_id": "7dbb0dc117c548ff8be2b4092d2462d2",
       "version_major": 2,
       "version_minor": 0
      },
      "text/plain": [
       "rsutcs_Amon_NorESM2-LM_piClim-aer_r1i...:   0%|          |0.00/4.33M [?B/s]"
      ]
     },
     "metadata": {},
     "output_type": "display_data"
    },
    {
     "data": {
      "application/vnd.jupyter.widget-view+json": {
       "model_id": "d00a7208463f44bca50eca38dd1e95d5",
       "version_major": 2,
       "version_minor": 0
      },
      "text/plain": [
       "rsdscs_Amon_NorESM2-LM_piClim-control...:   0%|          |0.00/4.06M [?B/s]"
      ]
     },
     "metadata": {},
     "output_type": "display_data"
    },
    {
     "data": {
      "application/vnd.jupyter.widget-view+json": {
       "model_id": "6bb6eb39540549fabcfda7e8ab84ea4c",
       "version_major": 2,
       "version_minor": 0
      },
      "text/plain": [
       "clt_Amon_NorESM2-LM_piClim-control_r1...:   0%|          |0.00/5.00M [?B/s]"
      ]
     },
     "metadata": {},
     "output_type": "display_data"
    },
    {
     "data": {
      "application/vnd.jupyter.widget-view+json": {
       "model_id": "114ab9a3da804306b66618beeee9e47f",
       "version_major": 2,
       "version_minor": 0
      },
      "text/plain": [
       "rsdt_Amon_NorESM2-LM_piClim-control_r...:   0%|          |0.00/3.23M [?B/s]"
      ]
     },
     "metadata": {},
     "output_type": "display_data"
    },
    {
     "data": {
      "application/vnd.jupyter.widget-view+json": {
       "model_id": "2ebb3ff998024274b37d637ab21b7efd",
       "version_major": 2,
       "version_minor": 0
      },
      "text/plain": [
       "rsutcs_Amon_NorESM2-LM_piClim-control...:   0%|          |0.00/4.32M [?B/s]"
      ]
     },
     "metadata": {},
     "output_type": "display_data"
    },
    {
     "data": {
      "application/vnd.jupyter.widget-view+json": {
       "model_id": "aa032853f92b4a28a89132dfc6cd8a7b",
       "version_major": 2,
       "version_minor": 0
      },
      "text/plain": [
       "rlut_Amon_GISS-E2-1-G_piClim-aer_r1i1...:   0%|          |0.00/19.3M [?B/s]"
      ]
     },
     "metadata": {},
     "output_type": "display_data"
    },
    {
     "data": {
      "application/vnd.jupyter.widget-view+json": {
       "model_id": "fe5b64aed7ab4fdfa54ecce01835a86b",
       "version_major": 2,
       "version_minor": 0
      },
      "text/plain": [
       "rsds_Amon_GISS-E2-1-G_piClim-control_...:   0%|          |0.00/19.3M [?B/s]"
      ]
     },
     "metadata": {},
     "output_type": "display_data"
    },
    {
     "data": {
      "application/vnd.jupyter.widget-view+json": {
       "model_id": "258607fd00a444b48be2a6afff3b6ef2",
       "version_major": 2,
       "version_minor": 0
      },
      "text/plain": [
       "rsuscs_Amon_GISS-E2-1-G_piClim-contro...:   0%|          |0.00/19.3M [?B/s]"
      ]
     },
     "metadata": {},
     "output_type": "display_data"
    },
    {
     "data": {
      "application/vnd.jupyter.widget-view+json": {
       "model_id": "3a135b7af1c54e7e80582381e608dc93",
       "version_major": 2,
       "version_minor": 0
      },
      "text/plain": [
       "clt_Amon_MPI-ESM-1-2-HAM_piClim-aer_r...:   0%|          |0.00/11.9M [?B/s]"
      ]
     },
     "metadata": {},
     "output_type": "display_data"
    },
    {
     "data": {
      "application/vnd.jupyter.widget-view+json": {
       "model_id": "f3cd70f189e2413aac22fce487044509",
       "version_major": 2,
       "version_minor": 0
      },
      "text/plain": [
       "rsdt_Amon_IPSL-CM6A-LR_piClim-aer_r1i...:   0%|          |0.00/13.5M [?B/s]"
      ]
     },
     "metadata": {},
     "output_type": "display_data"
    },
    {
     "data": {
      "application/vnd.jupyter.widget-view+json": {
       "model_id": "0ec54dc302b34b2cac7f40e55a410574",
       "version_major": 2,
       "version_minor": 0
      },
      "text/plain": [
       "rlus_Amon_MPI-ESM-1-2-HAM_piClim-aer_...:   0%|          |0.00/7.46M [?B/s]"
      ]
     },
     "metadata": {},
     "output_type": "display_data"
    },
    {
     "data": {
      "application/vnd.jupyter.widget-view+json": {
       "model_id": "0a3e426da6724eebbb7a5bb645dbd8b5",
       "version_major": 2,
       "version_minor": 0
      },
      "text/plain": [
       "rlus_Amon_EC-Earth3_piClim-aer_r1i1p1...:   0%|          |0.00/5.19M [?B/s]"
      ]
     },
     "metadata": {},
     "output_type": "display_data"
    },
    {
     "data": {
      "application/vnd.jupyter.widget-view+json": {
       "model_id": "ca370f2343a14b5eb83213d3870c41d3",
       "version_major": 2,
       "version_minor": 0
      },
      "text/plain": [
       "rlut_Amon_EC-Earth3_piClim-aer_r1i1p1...:   0%|          |0.00/5.23M [?B/s]"
      ]
     },
     "metadata": {},
     "output_type": "display_data"
    },
    {
     "data": {
      "application/vnd.jupyter.widget-view+json": {
       "model_id": "103041d4dc494ea58a3bb3973140b114",
       "version_major": 2,
       "version_minor": 0
      },
      "text/plain": [
       "rlutcs_Amon_EC-Earth3_piClim-aer_r1i1...:   0%|          |0.00/5.08M [?B/s]"
      ]
     },
     "metadata": {},
     "output_type": "display_data"
    },
    {
     "data": {
      "application/vnd.jupyter.widget-view+json": {
       "model_id": "ed4d29d8ca804fa586292913c8cb83ef",
       "version_major": 2,
       "version_minor": 0
      },
      "text/plain": [
       "rlutcs_Amon_EC-Earth3_piClim-aer_r1i1...:   0%|          |0.00/5.08M [?B/s]"
      ]
     },
     "metadata": {},
     "output_type": "display_data"
    },
    {
     "data": {
      "application/vnd.jupyter.widget-view+json": {
       "model_id": "547c2d1789844332bd6b8d2e60d3acd1",
       "version_major": 2,
       "version_minor": 0
      },
      "text/plain": [
       "rsdscs_Amon_EC-Earth3_piClim-aer_r1i1...:   0%|          |0.00/4.88M [?B/s]"
      ]
     },
     "metadata": {},
     "output_type": "display_data"
    },
    {
     "data": {
      "application/vnd.jupyter.widget-view+json": {
       "model_id": "faf03f1d022840eeab990a5b1b434cf2",
       "version_major": 2,
       "version_minor": 0
      },
      "text/plain": [
       "rsdt_Amon_EC-Earth3_piClim-aer_r1i1p1...:   0%|          |0.00/4.03M [?B/s]"
      ]
     },
     "metadata": {},
     "output_type": "display_data"
    },
    {
     "data": {
      "application/vnd.jupyter.widget-view+json": {
       "model_id": "7855fc891e894db2ac1258102b9375fa",
       "version_major": 2,
       "version_minor": 0
      },
      "text/plain": [
       "rsdt_Amon_EC-Earth3_piClim-aer_r1i1p1...:   0%|          |0.00/4.02M [?B/s]"
      ]
     },
     "metadata": {},
     "output_type": "display_data"
    },
    {
     "data": {
      "application/vnd.jupyter.widget-view+json": {
       "model_id": "1e492972f6c041fdbf41353650d1643f",
       "version_major": 2,
       "version_minor": 0
      },
      "text/plain": [
       "rsus_Amon_EC-Earth3_piClim-aer_r1i1p1...:   0%|          |0.00/5.17M [?B/s]"
      ]
     },
     "metadata": {},
     "output_type": "display_data"
    },
    {
     "data": {
      "application/vnd.jupyter.widget-view+json": {
       "model_id": "c1c25838d72644738ffb679e95bf9e3f",
       "version_major": 2,
       "version_minor": 0
      },
      "text/plain": [
       "rsuscs_Amon_EC-Earth3_piClim-aer_r1i1...:   0%|          |0.00/5.17M [?B/s]"
      ]
     },
     "metadata": {},
     "output_type": "display_data"
    },
    {
     "data": {
      "application/vnd.jupyter.widget-view+json": {
       "model_id": "b1006cd31c024d838fbd58d5bccb46a0",
       "version_major": 2,
       "version_minor": 0
      },
      "text/plain": [
       "rsus_Amon_EC-Earth3_piClim-aer_r1i1p1...:   0%|          |0.00/5.17M [?B/s]"
      ]
     },
     "metadata": {},
     "output_type": "display_data"
    },
    {
     "data": {
      "application/vnd.jupyter.widget-view+json": {
       "model_id": "5622dc2dadcb40dea502228709325b62",
       "version_major": 2,
       "version_minor": 0
      },
      "text/plain": [
       "rsuscs_Amon_EC-Earth3_piClim-aer_r1i1...:   0%|          |0.00/5.17M [?B/s]"
      ]
     },
     "metadata": {},
     "output_type": "display_data"
    },
    {
     "data": {
      "application/vnd.jupyter.widget-view+json": {
       "model_id": "fb4ff437a1db47889ab49efefdb256d6",
       "version_major": 2,
       "version_minor": 0
      },
      "text/plain": [
       "rsuscs_Amon_EC-Earth3_piClim-aer_r1i1...:   0%|          |0.00/5.17M [?B/s]"
      ]
     },
     "metadata": {},
     "output_type": "display_data"
    },
    {
     "data": {
      "application/vnd.jupyter.widget-view+json": {
       "model_id": "0a9f5a81b6174338b51eb5c1d4d8a7b8",
       "version_major": 2,
       "version_minor": 0
      },
      "text/plain": [
       "rsutcs_Amon_EC-Earth3_piClim-aer_r1i1...:   0%|          |0.00/4.98M [?B/s]"
      ]
     },
     "metadata": {},
     "output_type": "display_data"
    },
    {
     "data": {
      "application/vnd.jupyter.widget-view+json": {
       "model_id": "ff4ffe45b6044077ab8680351c06a696",
       "version_major": 2,
       "version_minor": 0
      },
      "text/plain": [
       "rsutcs_Amon_EC-Earth3_piClim-aer_r1i1...:   0%|          |0.00/4.99M [?B/s]"
      ]
     },
     "metadata": {},
     "output_type": "display_data"
    },
    {
     "data": {
      "application/vnd.jupyter.widget-view+json": {
       "model_id": "bbbb59eb25a849e9bfd190dec201ee91",
       "version_major": 2,
       "version_minor": 0
      },
      "text/plain": [
       "rsutcs_Amon_EC-Earth3_piClim-aer_r1i1...:   0%|          |0.00/4.98M [?B/s]"
      ]
     },
     "metadata": {},
     "output_type": "display_data"
    },
    {
     "data": {
      "application/vnd.jupyter.widget-view+json": {
       "model_id": "0cfcae32668942f8ba967835bfc24ee3",
       "version_major": 2,
       "version_minor": 0
      },
      "text/plain": [
       "rsutcs_Amon_EC-Earth3_piClim-aer_r1i1...:   0%|          |0.00/4.98M [?B/s]"
      ]
     },
     "metadata": {},
     "output_type": "display_data"
    },
    {
     "data": {
      "application/vnd.jupyter.widget-view+json": {
       "model_id": "08164221d2234284b6cbbdffce83e39b",
       "version_major": 2,
       "version_minor": 0
      },
      "text/plain": [
       "rsutcs_Amon_EC-Earth3_piClim-aer_r1i1...:   0%|          |0.00/4.98M [?B/s]"
      ]
     },
     "metadata": {},
     "output_type": "display_data"
    },
    {
     "data": {
      "application/vnd.jupyter.widget-view+json": {
       "model_id": "fb6f35be6e78464b8812851b1e23bb9b",
       "version_major": 2,
       "version_minor": 0
      },
      "text/plain": [
       "clt_Amon_EC-Earth3_piClim-aer_r1i1p1f...:   0%|          |0.00/5.35M [?B/s]"
      ]
     },
     "metadata": {},
     "output_type": "display_data"
    },
    {
     "data": {
      "application/vnd.jupyter.widget-view+json": {
       "model_id": "69671c74a36149b99f167939a262d8e7",
       "version_major": 2,
       "version_minor": 0
      },
      "text/plain": [
       "clt_Amon_EC-Earth3_piClim-aer_r1i1p1f...:   0%|          |0.00/5.35M [?B/s]"
      ]
     },
     "metadata": {},
     "output_type": "display_data"
    },
    {
     "data": {
      "application/vnd.jupyter.widget-view+json": {
       "model_id": "5dfd98244686460c81e2501897de742b",
       "version_major": 2,
       "version_minor": 0
      },
      "text/plain": [
       "clt_Amon_EC-Earth3_piClim-aer_r1i1p1f...:   0%|          |0.00/5.35M [?B/s]"
      ]
     },
     "metadata": {},
     "output_type": "display_data"
    },
    {
     "data": {
      "application/vnd.jupyter.widget-view+json": {
       "model_id": "548884277c994dd38a93a4a3fbca15ab",
       "version_major": 2,
       "version_minor": 0
      },
      "text/plain": [
       "clt_Amon_EC-Earth3_piClim-aer_r1i1p1f...:   0%|          |0.00/5.35M [?B/s]"
      ]
     },
     "metadata": {},
     "output_type": "display_data"
    },
    {
     "data": {
      "application/vnd.jupyter.widget-view+json": {
       "model_id": "e9b447ff8df848b5afab12cb6807c54b",
       "version_major": 2,
       "version_minor": 0
      },
      "text/plain": [
       "clt_Amon_EC-Earth3_piClim-control_r1i...:   0%|          |0.00/5.35M [?B/s]"
      ]
     },
     "metadata": {},
     "output_type": "display_data"
    },
    {
     "data": {
      "application/vnd.jupyter.widget-view+json": {
       "model_id": "7cb5745824d14d96b1bdeb32b24b2355",
       "version_major": 2,
       "version_minor": 0
      },
      "text/plain": [
       "clt_Amon_EC-Earth3_piClim-control_r1i...:   0%|          |0.00/5.35M [?B/s]"
      ]
     },
     "metadata": {},
     "output_type": "display_data"
    },
    {
     "data": {
      "application/vnd.jupyter.widget-view+json": {
       "model_id": "a484445049614ca29ccf73c55a89e85a",
       "version_major": 2,
       "version_minor": 0
      },
      "text/plain": [
       "rlds_Amon_EC-Earth3_piClim-control_r1...:   0%|          |0.00/5.26M [?B/s]"
      ]
     },
     "metadata": {},
     "output_type": "display_data"
    },
    {
     "data": {
      "application/vnd.jupyter.widget-view+json": {
       "model_id": "47760b3f27a94b74b87615848c9427c1",
       "version_major": 2,
       "version_minor": 0
      },
      "text/plain": [
       "rlds_Amon_EC-Earth3_piClim-control_r1...:   0%|          |0.00/5.25M [?B/s]"
      ]
     },
     "metadata": {},
     "output_type": "display_data"
    },
    {
     "data": {
      "application/vnd.jupyter.widget-view+json": {
       "model_id": "187f07aa334c45768db304867844e010",
       "version_major": 2,
       "version_minor": 0
      },
      "text/plain": [
       "rlds_Amon_EC-Earth3_piClim-control_r1...:   0%|          |0.00/5.26M [?B/s]"
      ]
     },
     "metadata": {},
     "output_type": "display_data"
    },
    {
     "data": {
      "application/vnd.jupyter.widget-view+json": {
       "model_id": "3f08e80b91024e0eb1b72f131e54c6a1",
       "version_major": 2,
       "version_minor": 0
      },
      "text/plain": [
       "rlds_Amon_EC-Earth3_piClim-control_r1...:   0%|          |0.00/5.26M [?B/s]"
      ]
     },
     "metadata": {},
     "output_type": "display_data"
    },
    {
     "data": {
      "application/vnd.jupyter.widget-view+json": {
       "model_id": "0b310300b77542459f5a34ec2dd5ec48",
       "version_major": 2,
       "version_minor": 0
      },
      "text/plain": [
       "rlus_Amon_EC-Earth3_piClim-control_r1...:   0%|          |0.00/5.19M [?B/s]"
      ]
     },
     "metadata": {},
     "output_type": "display_data"
    },
    {
     "data": {
      "application/vnd.jupyter.widget-view+json": {
       "model_id": "e72aa56e66904483982f8d42bbeb2e49",
       "version_major": 2,
       "version_minor": 0
      },
      "text/plain": [
       "rlut_Amon_EC-Earth3_piClim-control_r1...:   0%|          |0.00/5.23M [?B/s]"
      ]
     },
     "metadata": {},
     "output_type": "display_data"
    },
    {
     "data": {
      "application/vnd.jupyter.widget-view+json": {
       "model_id": "c01d5b59c94c415cb44478882ca9fb62",
       "version_major": 2,
       "version_minor": 0
      },
      "text/plain": [
       "rlut_Amon_EC-Earth3_piClim-control_r1...:   0%|          |0.00/5.23M [?B/s]"
      ]
     },
     "metadata": {},
     "output_type": "display_data"
    },
    {
     "data": {
      "application/vnd.jupyter.widget-view+json": {
       "model_id": "a421383d89754d2aba31556a2b46c281",
       "version_major": 2,
       "version_minor": 0
      },
      "text/plain": [
       "rlut_Amon_EC-Earth3_piClim-control_r1...:   0%|          |0.00/5.23M [?B/s]"
      ]
     },
     "metadata": {},
     "output_type": "display_data"
    },
    {
     "data": {
      "application/vnd.jupyter.widget-view+json": {
       "model_id": "d97cccb7a2d64559aa1c378c9006a86f",
       "version_major": 2,
       "version_minor": 0
      },
      "text/plain": [
       "rlutcs_Amon_EC-Earth3_piClim-control_...:   0%|          |0.00/5.08M [?B/s]"
      ]
     },
     "metadata": {},
     "output_type": "display_data"
    },
    {
     "data": {
      "application/vnd.jupyter.widget-view+json": {
       "model_id": "7aa0fb149a624667bfff6b722d795e18",
       "version_major": 2,
       "version_minor": 0
      },
      "text/plain": [
       "rsds_Amon_EC-Earth3_piClim-control_r1...:   0%|          |0.00/5.07M [?B/s]"
      ]
     },
     "metadata": {},
     "output_type": "display_data"
    },
    {
     "data": {
      "application/vnd.jupyter.widget-view+json": {
       "model_id": "b940d0ffcc364018b13770313619fdf5",
       "version_major": 2,
       "version_minor": 0
      },
      "text/plain": [
       "rsds_Amon_EC-Earth3_piClim-control_r1...:   0%|          |0.00/5.07M [?B/s]"
      ]
     },
     "metadata": {},
     "output_type": "display_data"
    },
    {
     "data": {
      "application/vnd.jupyter.widget-view+json": {
       "model_id": "a593ef63e6574cae9fbfd69c16cfa433",
       "version_major": 2,
       "version_minor": 0
      },
      "text/plain": [
       "rsdscs_Amon_EC-Earth3_piClim-control_...:   0%|          |0.00/4.87M [?B/s]"
      ]
     },
     "metadata": {},
     "output_type": "display_data"
    },
    {
     "data": {
      "application/vnd.jupyter.widget-view+json": {
       "model_id": "da4d02b57a47470397f5f2ef3f1dabd6",
       "version_major": 2,
       "version_minor": 0
      },
      "text/plain": [
       "rsdscs_Amon_EC-Earth3_piClim-control_...:   0%|          |0.00/4.87M [?B/s]"
      ]
     },
     "metadata": {},
     "output_type": "display_data"
    },
    {
     "data": {
      "application/vnd.jupyter.widget-view+json": {
       "model_id": "24054607d8e44fb492f9f70435870f5d",
       "version_major": 2,
       "version_minor": 0
      },
      "text/plain": [
       "rsdscs_Amon_EC-Earth3_piClim-control_...:   0%|          |0.00/4.86M [?B/s]"
      ]
     },
     "metadata": {},
     "output_type": "display_data"
    },
    {
     "data": {
      "application/vnd.jupyter.widget-view+json": {
       "model_id": "bf633d0a95c14ab58a8e51deb0c5f22e",
       "version_major": 2,
       "version_minor": 0
      },
      "text/plain": [
       "rsdt_Amon_EC-Earth3_piClim-control_r1...:   0%|          |0.00/4.02M [?B/s]"
      ]
     },
     "metadata": {},
     "output_type": "display_data"
    },
    {
     "data": {
      "application/vnd.jupyter.widget-view+json": {
       "model_id": "1b325ac51c66462c9356c6677a678ec2",
       "version_major": 2,
       "version_minor": 0
      },
      "text/plain": [
       "rsdt_Amon_EC-Earth3_piClim-control_r1...:   0%|          |0.00/4.03M [?B/s]"
      ]
     },
     "metadata": {},
     "output_type": "display_data"
    },
    {
     "data": {
      "application/vnd.jupyter.widget-view+json": {
       "model_id": "25ef22012af349a9b0ea063db8b777c8",
       "version_major": 2,
       "version_minor": 0
      },
      "text/plain": [
       "rsdt_Amon_EC-Earth3_piClim-control_r1...:   0%|          |0.00/4.03M [?B/s]"
      ]
     },
     "metadata": {},
     "output_type": "display_data"
    },
    {
     "data": {
      "application/vnd.jupyter.widget-view+json": {
       "model_id": "741b8eddeee341529ff0627857b3ea91",
       "version_major": 2,
       "version_minor": 0
      },
      "text/plain": [
       "rsdt_Amon_EC-Earth3_piClim-control_r1...:   0%|          |0.00/4.02M [?B/s]"
      ]
     },
     "metadata": {},
     "output_type": "display_data"
    },
    {
     "data": {
      "application/vnd.jupyter.widget-view+json": {
       "model_id": "23f058dff9944cafb19e374b49b92cab",
       "version_major": 2,
       "version_minor": 0
      },
      "text/plain": [
       "rsdt_Amon_EC-Earth3_piClim-control_r1...:   0%|          |0.00/4.02M [?B/s]"
      ]
     },
     "metadata": {},
     "output_type": "display_data"
    },
    {
     "data": {
      "application/vnd.jupyter.widget-view+json": {
       "model_id": "b7f87d302db94732b15f51eb0382746e",
       "version_major": 2,
       "version_minor": 0
      },
      "text/plain": [
       "rsdt_Amon_EC-Earth3_piClim-control_r1...:   0%|          |0.00/4.03M [?B/s]"
      ]
     },
     "metadata": {},
     "output_type": "display_data"
    },
    {
     "data": {
      "application/vnd.jupyter.widget-view+json": {
       "model_id": "6775df6bc63549e6aba7c07453b07a81",
       "version_major": 2,
       "version_minor": 0
      },
      "text/plain": [
       "rsus_Amon_EC-Earth3_piClim-control_r1...:   0%|          |0.00/5.16M [?B/s]"
      ]
     },
     "metadata": {},
     "output_type": "display_data"
    },
    {
     "data": {
      "application/vnd.jupyter.widget-view+json": {
       "model_id": "5efeed2835dd40188e8b71efdcdd446d",
       "version_major": 2,
       "version_minor": 0
      },
      "text/plain": [
       "rsus_Amon_EC-Earth3_piClim-control_r1...:   0%|          |0.00/5.17M [?B/s]"
      ]
     },
     "metadata": {},
     "output_type": "display_data"
    },
    {
     "data": {
      "application/vnd.jupyter.widget-view+json": {
       "model_id": "500ecb7cff674e668c75f2f90ff3152d",
       "version_major": 2,
       "version_minor": 0
      },
      "text/plain": [
       "rsuscs_Amon_EC-Earth3_piClim-control_...:   0%|          |0.00/5.16M [?B/s]"
      ]
     },
     "metadata": {},
     "output_type": "display_data"
    },
    {
     "data": {
      "application/vnd.jupyter.widget-view+json": {
       "model_id": "3524a7e2269a40cc9b1e9ce7c08587f3",
       "version_major": 2,
       "version_minor": 0
      },
      "text/plain": [
       "rsuscs_Amon_EC-Earth3_piClim-control_...:   0%|          |0.00/5.16M [?B/s]"
      ]
     },
     "metadata": {},
     "output_type": "display_data"
    },
    {
     "data": {
      "application/vnd.jupyter.widget-view+json": {
       "model_id": "f2e8faba2b534e73bf48d51c6263b977",
       "version_major": 2,
       "version_minor": 0
      },
      "text/plain": [
       "rsutcs_Amon_EC-Earth3_piClim-control_...:   0%|          |0.00/4.97M [?B/s]"
      ]
     },
     "metadata": {},
     "output_type": "display_data"
    },
    {
     "data": {
      "application/vnd.jupyter.widget-view+json": {
       "model_id": "30b23c44e85f49c89a757edff562576e",
       "version_major": 2,
       "version_minor": 0
      },
      "text/plain": [
       "rsut_Amon_EC-Earth3_piClim-control_r1...:   0%|          |0.00/5.11M [?B/s]"
      ]
     },
     "metadata": {},
     "output_type": "display_data"
    },
    {
     "data": {
      "application/vnd.jupyter.widget-view+json": {
       "model_id": "78ddc4392b5545409f41a9bd28b58381",
       "version_major": 2,
       "version_minor": 0
      },
      "text/plain": [
       "rsutcs_Amon_EC-Earth3_piClim-control_...:   0%|          |0.00/4.97M [?B/s]"
      ]
     },
     "metadata": {},
     "output_type": "display_data"
    },
    {
     "data": {
      "application/vnd.jupyter.widget-view+json": {
       "model_id": "883154d9e9e346859ef2af75a60efa1a",
       "version_major": 2,
       "version_minor": 0
      },
      "text/plain": [
       "rsutcs_Amon_EC-Earth3_piClim-control_...:   0%|          |0.00/4.97M [?B/s]"
      ]
     },
     "metadata": {},
     "output_type": "display_data"
    },
    {
     "data": {
      "application/vnd.jupyter.widget-view+json": {
       "model_id": "2154e0c255a841fe96eb0043488241a4",
       "version_major": 2,
       "version_minor": 0
      },
      "text/plain": [
       "rsutcs_Amon_EC-Earth3_piClim-control_...:   0%|          |0.00/4.97M [?B/s]"
      ]
     },
     "metadata": {},
     "output_type": "display_data"
    },
    {
     "data": {
      "application/vnd.jupyter.widget-view+json": {
       "model_id": "4afeac6e64a84f38a20134048d6d23de",
       "version_major": 2,
       "version_minor": 0
      },
      "text/plain": [
       "rsutcs_Amon_EC-Earth3_piClim-control_...:   0%|          |0.00/4.97M [?B/s]"
      ]
     },
     "metadata": {},
     "output_type": "display_data"
    },
    {
     "data": {
      "application/vnd.jupyter.widget-view+json": {
       "model_id": "803864660ba643ae876ba484a6789250",
       "version_major": 2,
       "version_minor": 0
      },
      "text/plain": [
       "clt_Amon_ACCESS-ESM1-5_piClim-control...:   0%|          |0.00/34.1M [?B/s]"
      ]
     },
     "metadata": {},
     "output_type": "display_data"
    },
    {
     "data": {
      "application/vnd.jupyter.widget-view+json": {
       "model_id": "b77924c449aa48c89b3212903da2e219",
       "version_major": 2,
       "version_minor": 0
      },
      "text/plain": [
       "rsds_Amon_NorESM2-LM_piClim-aer_r1i1p...:   0%|          |0.00/4.73M [?B/s]"
      ]
     },
     "metadata": {},
     "output_type": "display_data"
    },
    {
     "data": {
      "application/vnd.jupyter.widget-view+json": {
       "model_id": "fcbe84ab63d84550a47774538ea7fb50",
       "version_major": 2,
       "version_minor": 0
      },
      "text/plain": [
       "rsus_Amon_NorESM2-LM_piClim-aer_r1i1p...:   0%|          |0.00/4.59M [?B/s]"
      ]
     },
     "metadata": {},
     "output_type": "display_data"
    },
    {
     "data": {
      "application/vnd.jupyter.widget-view+json": {
       "model_id": "42f71bb85d5f4c04b39fb0a60bd4c5c4",
       "version_major": 2,
       "version_minor": 0
      },
      "text/plain": [
       "rsut_Amon_NorESM2-LM_piClim-aer_r1i1p...:   0%|          |0.00/4.72M [?B/s]"
      ]
     },
     "metadata": {},
     "output_type": "display_data"
    },
    {
     "data": {
      "application/vnd.jupyter.widget-view+json": {
       "model_id": "9470c700e43f4198aef616090936bfb2",
       "version_major": 2,
       "version_minor": 0
      },
      "text/plain": [
       "rlut_Amon_NorESM2-LM_piClim-control_r...:   0%|          |0.00/4.55M [?B/s]"
      ]
     },
     "metadata": {},
     "output_type": "display_data"
    },
    {
     "data": {
      "application/vnd.jupyter.widget-view+json": {
       "model_id": "f79efa2d2bce4ec0914f875183e7d040",
       "version_major": 2,
       "version_minor": 0
      },
      "text/plain": [
       "rlus_Amon_CNRM-CM6-1_piClim-aer_r1i1p...:   0%|          |0.00/29.4M [?B/s]"
      ]
     },
     "metadata": {},
     "output_type": "display_data"
    },
    {
     "data": {
      "application/vnd.jupyter.widget-view+json": {
       "model_id": "52ea1a4f4e554be4a16f1a06eccb26a8",
       "version_major": 2,
       "version_minor": 0
      },
      "text/plain": [
       "rlutcs_Amon_NorESM2-LM_piClim-control...:   0%|          |0.00/4.30M [?B/s]"
      ]
     },
     "metadata": {},
     "output_type": "display_data"
    },
    {
     "data": {
      "application/vnd.jupyter.widget-view+json": {
       "model_id": "976225259f69434d9284b2dc9f6fea73",
       "version_major": 2,
       "version_minor": 0
      },
      "text/plain": [
       "rlds_Amon_GISS-E2-1-G_piClim-aer_r1i1...:   0%|          |0.00/19.3M [?B/s]"
      ]
     },
     "metadata": {},
     "output_type": "display_data"
    },
    {
     "data": {
      "application/vnd.jupyter.widget-view+json": {
       "model_id": "d03c7b1927f5459ba65429dbc7cf02be",
       "version_major": 2,
       "version_minor": 0
      },
      "text/plain": [
       "rlds_Amon_MRI-ESM2-0_piClim-aer_r1i1p...:   0%|          |0.00/1.65M [?B/s]"
      ]
     },
     "metadata": {},
     "output_type": "display_data"
    },
    {
     "data": {
      "application/vnd.jupyter.widget-view+json": {
       "model_id": "d5fd9c75d7ff41b490b7f5363ef4dc0a",
       "version_major": 2,
       "version_minor": 0
      },
      "text/plain": [
       "rsutcs_Amon_MRI-ESM2-0_piClim-aer_r1i...:   0%|          |0.00/1.59M [?B/s]"
      ]
     },
     "metadata": {},
     "output_type": "display_data"
    },
    {
     "data": {
      "application/vnd.jupyter.widget-view+json": {
       "model_id": "19361874dfe04b18a4897607f9b6c999",
       "version_major": 2,
       "version_minor": 0
      },
      "text/plain": [
       "rlutcs_Amon_CESM2_piClim-aer_r1i1p1f1...:   0%|          |0.00/47.8M [?B/s]"
      ]
     },
     "metadata": {},
     "output_type": "display_data"
    },
    {
     "data": {
      "application/vnd.jupyter.widget-view+json": {
       "model_id": "892dcdc6552041f3954686e070f0910b",
       "version_major": 2,
       "version_minor": 0
      },
      "text/plain": [
       "rsut_Amon_CESM2_piClim-aer_r1i1p1f1_g...:   0%|          |0.00/54.2M [?B/s]"
      ]
     },
     "metadata": {},
     "output_type": "display_data"
    },
    {
     "data": {
      "application/vnd.jupyter.widget-view+json": {
       "model_id": "ee69a695c917408eb67c58db454faba2",
       "version_major": 2,
       "version_minor": 0
      },
      "text/plain": [
       "clt_Amon_CNRM-ESM2-1_piClim-control_r...:   0%|          |0.00/33.4M [?B/s]"
      ]
     },
     "metadata": {},
     "output_type": "display_data"
    },
    {
     "data": {
      "application/vnd.jupyter.widget-view+json": {
       "model_id": "85943492ecc0489f8cd541e936f0dcb1",
       "version_major": 2,
       "version_minor": 0
      },
      "text/plain": [
       "rsds_Amon_CESM2_piClim-control_r1i1p1...:   0%|          |0.00/53.5M [?B/s]"
      ]
     },
     "metadata": {},
     "output_type": "display_data"
    },
    {
     "data": {
      "application/vnd.jupyter.widget-view+json": {
       "model_id": "28fef32e2d7b4d65a841635ea60c98f1",
       "version_major": 2,
       "version_minor": 0
      },
      "text/plain": [
       "rsdt_Amon_MRI-ESM2-0_piClim-control_r...:   0%|          |0.00/347k [?B/s]"
      ]
     },
     "metadata": {},
     "output_type": "display_data"
    },
    {
     "data": {
      "application/vnd.jupyter.widget-view+json": {
       "model_id": "50b9edb411aa42f9ac585b0db896442c",
       "version_major": 2,
       "version_minor": 0
      },
      "text/plain": [
       "clt_Amon_CanESM5_piClim-control_r1i1p...:   0%|          |0.00/16.6M [?B/s]"
      ]
     },
     "metadata": {},
     "output_type": "display_data"
    },
    {
     "data": {
      "application/vnd.jupyter.widget-view+json": {
       "model_id": "507451f30cf544e4a43c2f03a40570d6",
       "version_major": 2,
       "version_minor": 0
      },
      "text/plain": [
       "rlutcs_Amon_CanESM5_piClim-aer_r1i1p2...:   0%|          |0.00/16.7M [?B/s]"
      ]
     },
     "metadata": {},
     "output_type": "display_data"
    },
    {
     "data": {
      "application/vnd.jupyter.widget-view+json": {
       "model_id": "018e652ec32641cbadf90d2d0cb7fb06",
       "version_major": 2,
       "version_minor": 0
      },
      "text/plain": [
       "rsdscs_Amon_MPI-ESM-1-2-HAM_piClim-ae...:   0%|          |0.00/3.19M [?B/s]"
      ]
     },
     "metadata": {},
     "output_type": "display_data"
    },
    {
     "data": {
      "application/vnd.jupyter.widget-view+json": {
       "model_id": "f7a1da94490f4fafaabe79aa42e38795",
       "version_major": 2,
       "version_minor": 0
      },
      "text/plain": [
       "rsuscs_Amon_MPI-ESM-1-2-HAM_piClim-ae...:   0%|          |0.00/3.62M [?B/s]"
      ]
     },
     "metadata": {},
     "output_type": "display_data"
    },
    {
     "data": {
      "application/vnd.jupyter.widget-view+json": {
       "model_id": "6f109be2f219403384141fd0bf04575d",
       "version_major": 2,
       "version_minor": 0
      },
      "text/plain": [
       "rlut_Amon_IPSL-CM6A-LR_piClim-aer_r1i...:   0%|          |0.00/20.0M [?B/s]"
      ]
     },
     "metadata": {},
     "output_type": "display_data"
    },
    {
     "data": {
      "application/vnd.jupyter.widget-view+json": {
       "model_id": "cd0f01f086c241d8868ea72ba8b552a1",
       "version_major": 2,
       "version_minor": 0
      },
      "text/plain": [
       "rsut_Amon_MPI-ESM-1-2-HAM_piClim-aer_...:   0%|          |0.00/4.36M [?B/s]"
      ]
     },
     "metadata": {},
     "output_type": "display_data"
    },
    {
     "data": {
      "application/vnd.jupyter.widget-view+json": {
       "model_id": "321f117f53964a13869128f4a67df196",
       "version_major": 2,
       "version_minor": 0
      },
      "text/plain": [
       "rsdscs_Amon_IPSL-CM6A-LR-INCA_piClim-...:   0%|          |0.00/17.8M [?B/s]"
      ]
     },
     "metadata": {},
     "output_type": "display_data"
    },
    {
     "data": {
      "application/vnd.jupyter.widget-view+json": {
       "model_id": "ba2107eb91b146beaf2dbd6acaece741",
       "version_major": 2,
       "version_minor": 0
      },
      "text/plain": [
       "rsut_Amon_IPSL-CM6A-LR-INCA_piClim-ae...:   0%|          |0.00/20.9M [?B/s]"
      ]
     },
     "metadata": {},
     "output_type": "display_data"
    },
    {
     "data": {
      "application/vnd.jupyter.widget-view+json": {
       "model_id": "0af808dfaed74fd99f17be099061dbc6",
       "version_major": 2,
       "version_minor": 0
      },
      "text/plain": [
       "rlut_Amon_CNRM-ESM2-1_piClim-aer_r1i1...:   0%|          |0.00/30.2M [?B/s]"
      ]
     },
     "metadata": {},
     "output_type": "display_data"
    },
    {
     "data": {
      "application/vnd.jupyter.widget-view+json": {
       "model_id": "f6347aaf5b4d4b388d761898ebdc0175",
       "version_major": 2,
       "version_minor": 0
      },
      "text/plain": [
       "clt_Amon_MPI-ESM-1-2-HAM_piClim-contr...:   0%|          |0.00/11.9M [?B/s]"
      ]
     },
     "metadata": {},
     "output_type": "display_data"
    },
    {
     "data": {
      "application/vnd.jupyter.widget-view+json": {
       "model_id": "c81558392ed24952a3ce0f525a15c663",
       "version_major": 2,
       "version_minor": 0
      },
      "text/plain": [
       "rsdscs_Amon_CNRM-ESM2-1_piClim-aer_r1...:   0%|          |0.00/26.7M [?B/s]"
      ]
     },
     "metadata": {},
     "output_type": "display_data"
    },
    {
     "data": {
      "application/vnd.jupyter.widget-view+json": {
       "model_id": "16d6cffca85c4abc83e410082838665e",
       "version_major": 2,
       "version_minor": 0
      },
      "text/plain": [
       "rlds_Amon_BCC-ESM1_piClim-aer_r1i1p1f...:   0%|          |0.00/12.2M [?B/s]"
      ]
     },
     "metadata": {},
     "output_type": "display_data"
    },
    {
     "data": {
      "application/vnd.jupyter.widget-view+json": {
       "model_id": "71b801a5c6594aa997c6d706a78d8b57",
       "version_major": 2,
       "version_minor": 0
      },
      "text/plain": [
       "rsdt_Amon_IPSL-CM6A-LR_piClim-control...:   0%|          |0.00/13.5M [?B/s]"
      ]
     },
     "metadata": {},
     "output_type": "display_data"
    },
    {
     "data": {
      "application/vnd.jupyter.widget-view+json": {
       "model_id": "27313355853d44b29e588aaa2cd1dfa7",
       "version_major": 2,
       "version_minor": 0
      },
      "text/plain": [
       "rsdt_Amon_BCC-ESM1_piClim-aer_r1i1p1f...:   0%|          |0.00/12.2M [?B/s]"
      ]
     },
     "metadata": {},
     "output_type": "display_data"
    },
    {
     "data": {
      "application/vnd.jupyter.widget-view+json": {
       "model_id": "8b6c76e199b647cebe2dba35ce1dd79a",
       "version_major": 2,
       "version_minor": 0
      },
      "text/plain": [
       "rlut_Amon_UKESM1-0-LL_piClim-aer_r1i1...:   0%|          |0.00/39.6M [?B/s]"
      ]
     },
     "metadata": {},
     "output_type": "display_data"
    },
    {
     "data": {
      "application/vnd.jupyter.widget-view+json": {
       "model_id": "c176215a103a4efc8c6e5b959abdcb85",
       "version_major": 2,
       "version_minor": 0
      },
      "text/plain": [
       "rsdt_Amon_UKESM1-0-LL_piClim-control_...:   0%|          |0.00/901k [?B/s]"
      ]
     },
     "metadata": {},
     "output_type": "display_data"
    },
    {
     "data": {
      "application/vnd.jupyter.widget-view+json": {
       "model_id": "d67da405d8c34904a93ea1c94b4a3442",
       "version_major": 2,
       "version_minor": 0
      },
      "text/plain": [
       "rsuscs_Amon_UKESM1-0-LL_piClim-contro...:   0%|          |0.00/39.3M [?B/s]"
      ]
     },
     "metadata": {},
     "output_type": "display_data"
    },
    {
     "data": {
      "application/vnd.jupyter.widget-view+json": {
       "model_id": "1ca4a33b346949d3b8beb67a613aeaca",
       "version_major": 2,
       "version_minor": 0
      },
      "text/plain": [
       "rsut_Amon_UKESM1-0-LL_piClim-control_...:   0%|          |0.00/41.6M [?B/s]"
      ]
     },
     "metadata": {},
     "output_type": "display_data"
    },
    {
     "data": {
      "application/vnd.jupyter.widget-view+json": {
       "model_id": "833f7287d4e94c29b0a0809c3a41c744",
       "version_major": 2,
       "version_minor": 0
      },
      "text/plain": [
       "rlds_Amon_GFDL-CM4_piClim-control_r1i...:   0%|          |0.00/48.6M [?B/s]"
      ]
     },
     "metadata": {},
     "output_type": "display_data"
    },
    {
     "data": {
      "application/vnd.jupyter.widget-view+json": {
       "model_id": "597aaf4b0c664dc180795d057d117284",
       "version_major": 2,
       "version_minor": 0
      },
      "text/plain": [
       "rsus_Amon_GFDL-CM4_piClim-control_r1i...:   0%|          |0.00/52.0M [?B/s]"
      ]
     },
     "metadata": {},
     "output_type": "display_data"
    },
    {
     "data": {
      "application/vnd.jupyter.widget-view+json": {
       "model_id": "6f9fe8e1444b42bd876b37119cdb5adf",
       "version_major": 2,
       "version_minor": 0
      },
      "text/plain": [
       "clt_Amon_NorESM2-MM_piClim-aer_r1i1p1...:   0%|          |0.00/19.1M [?B/s]"
      ]
     },
     "metadata": {},
     "output_type": "display_data"
    },
    {
     "data": {
      "application/vnd.jupyter.widget-view+json": {
       "model_id": "dcfeac8e12f246ebacfe40cc43df00c7",
       "version_major": 2,
       "version_minor": 0
      },
      "text/plain": [
       "rlut_Amon_NorESM2-MM_piClim-aer_r1i1p...:   0%|          |0.00/16.7M [?B/s]"
      ]
     },
     "metadata": {},
     "output_type": "display_data"
    },
    {
     "data": {
      "application/vnd.jupyter.widget-view+json": {
       "model_id": "cd6e26f431be4814b27e0fd9b6aac450",
       "version_major": 2,
       "version_minor": 0
      },
      "text/plain": [
       "rsuscs_Amon_NorESM2-MM_piClim-aer_r1i...:   0%|          |0.00/15.4M [?B/s]"
      ]
     },
     "metadata": {},
     "output_type": "display_data"
    },
    {
     "data": {
      "application/vnd.jupyter.widget-view+json": {
       "model_id": "600e0c49fcad4f249ee9d901e8514f5f",
       "version_major": 2,
       "version_minor": 0
      },
      "text/plain": [
       "rsds_Amon_NorESM2-MM_piClim-control_r...:   0%|          |0.00/18.0M [?B/s]"
      ]
     },
     "metadata": {},
     "output_type": "display_data"
    },
    {
     "data": {
      "application/vnd.jupyter.widget-view+json": {
       "model_id": "1c42598e1de54769a3a737283d85b056",
       "version_major": 2,
       "version_minor": 0
      },
      "text/plain": [
       "rsus_Amon_NorESM2-MM_piClim-aer_r1i1p...:   0%|          |0.00/17.2M [?B/s]"
      ]
     },
     "metadata": {},
     "output_type": "display_data"
    },
    {
     "data": {
      "application/vnd.jupyter.widget-view+json": {
       "model_id": "fbf2e342daa24ca6802be06fbf8a1617",
       "version_major": 2,
       "version_minor": 0
      },
      "text/plain": [
       "rsdscs_Amon_NorESM2-MM_piClim-control...:   0%|          |0.00/14.9M [?B/s]"
      ]
     },
     "metadata": {},
     "output_type": "display_data"
    },
    {
     "data": {
      "application/vnd.jupyter.widget-view+json": {
       "model_id": "cbd073d0bd844ed9914421052349d269",
       "version_major": 2,
       "version_minor": 0
      },
      "text/plain": [
       "rsdscs_Amon_NorESM2-MM_piClim-control...:   0%|          |0.00/14.9M [?B/s]"
      ]
     },
     "metadata": {},
     "output_type": "display_data"
    },
    {
     "data": {
      "application/vnd.jupyter.widget-view+json": {
       "model_id": "c2e7d4f357374d8994ddbef754dc3676",
       "version_major": 2,
       "version_minor": 0
      },
      "text/plain": [
       "rsus_Amon_NorESM2-MM_piClim-control_r...:   0%|          |0.00/17.2M [?B/s]"
      ]
     },
     "metadata": {},
     "output_type": "display_data"
    },
    {
     "data": {
      "application/vnd.jupyter.widget-view+json": {
       "model_id": "3a76257d87024c4a9f040e84468b4fd1",
       "version_major": 2,
       "version_minor": 0
      },
      "text/plain": [
       "rsdt_Amon_NorESM2-MM_piClim-control_r...:   0%|          |0.00/12.1M [?B/s]"
      ]
     },
     "metadata": {},
     "output_type": "display_data"
    },
    {
     "data": {
      "application/vnd.jupyter.widget-view+json": {
       "model_id": "5fc87b98bcc440f4b9f7498713aaa342",
       "version_major": 2,
       "version_minor": 0
      },
      "text/plain": [
       "rlds_Amon_BCC-ESM1_piClim-control_r1i...:   0%|          |0.00/12.2M [?B/s]"
      ]
     },
     "metadata": {},
     "output_type": "display_data"
    },
    {
     "data": {
      "application/vnd.jupyter.widget-view+json": {
       "model_id": "91ab06f7806c44799c42f8e5660b709e",
       "version_major": 2,
       "version_minor": 0
      },
      "text/plain": [
       "rlutcs_Amon_UKESM1-0-LL_piClim-contro...:   0%|          |0.00/36.4M [?B/s]"
      ]
     },
     "metadata": {},
     "output_type": "display_data"
    },
    {
     "data": {
      "application/vnd.jupyter.widget-view+json": {
       "model_id": "f60b78b97db8486f92896edf64e3a6f6",
       "version_major": 2,
       "version_minor": 0
      },
      "text/plain": [
       "rlut_Amon_UKESM1-0-LL_piClim-control_...:   0%|          |0.00/39.6M [?B/s]"
      ]
     },
     "metadata": {},
     "output_type": "display_data"
    },
    {
     "data": {
      "application/vnd.jupyter.widget-view+json": {
       "model_id": "6371adbd91fa423ba843ec8d878b1519",
       "version_major": 2,
       "version_minor": 0
      },
      "text/plain": [
       "rsuscs_Amon_BCC-ESM1_piClim-control_r...:   0%|          |0.00/12.2M [?B/s]"
      ]
     },
     "metadata": {},
     "output_type": "display_data"
    },
    {
     "data": {
      "application/vnd.jupyter.widget-view+json": {
       "model_id": "7033699e2be24f769ad701b216d5bfc3",
       "version_major": 2,
       "version_minor": 0
      },
      "text/plain": [
       "rsutcs_Amon_BCC-ESM1_piClim-control_r...:   0%|          |0.00/12.2M [?B/s]"
      ]
     },
     "metadata": {},
     "output_type": "display_data"
    },
    {
     "data": {
      "application/vnd.jupyter.widget-view+json": {
       "model_id": "409367af1da04a42b7f99eda2333c2bf",
       "version_major": 2,
       "version_minor": 0
      },
      "text/plain": [
       "rlut_Amon_BCC-ESM1_piClim-aer_r1i1p1f...:   0%|          |0.00/12.2M [?B/s]"
      ]
     },
     "metadata": {},
     "output_type": "display_data"
    },
    {
     "data": {
      "application/vnd.jupyter.widget-view+json": {
       "model_id": "d89ded874e37437485b33f3e7f8c8ca4",
       "version_major": 2,
       "version_minor": 0
      },
      "text/plain": [
       "rlus_Amon_NorESM2-MM_piClim-aer_r1i1p...:   0%|          |0.00/16.6M [?B/s]"
      ]
     },
     "metadata": {},
     "output_type": "display_data"
    },
    {
     "data": {
      "application/vnd.jupyter.widget-view+json": {
       "model_id": "57993144cc59404fbd17339c413be54a",
       "version_major": 2,
       "version_minor": 0
      },
      "text/plain": [
       "rlut_Amon_GFDL-CM4_piClim-control_r1i...:   0%|          |0.00/47.8M [?B/s]"
      ]
     },
     "metadata": {},
     "output_type": "display_data"
    },
    {
     "data": {
      "application/vnd.jupyter.widget-view+json": {
       "model_id": "54a9ad205c224f04aca260da9e595695",
       "version_major": 2,
       "version_minor": 0
      },
      "text/plain": [
       "rlut_Amon_NorESM2-MM_piClim-aer_r1i1p...:   0%|          |0.00/16.7M [?B/s]"
      ]
     },
     "metadata": {},
     "output_type": "display_data"
    },
    {
     "data": {
      "application/vnd.jupyter.widget-view+json": {
       "model_id": "3733e7533eac4a67940027f9ef83dd50",
       "version_major": 2,
       "version_minor": 0
      },
      "text/plain": [
       "rlut_Amon_NorESM2-MM_piClim-aer_r1i1p...:   0%|          |0.00/16.7M [?B/s]"
      ]
     },
     "metadata": {},
     "output_type": "display_data"
    },
    {
     "data": {
      "application/vnd.jupyter.widget-view+json": {
       "model_id": "b26a10beecbe487db828606b3fbbb53c",
       "version_major": 2,
       "version_minor": 0
      },
      "text/plain": [
       "rsds_Amon_NorESM2-MM_piClim-aer_r1i1p...:   0%|          |0.00/18.0M [?B/s]"
      ]
     },
     "metadata": {},
     "output_type": "display_data"
    },
    {
     "data": {
      "application/vnd.jupyter.widget-view+json": {
       "model_id": "ee199fa40d1f47199252b1dba2c961a1",
       "version_major": 2,
       "version_minor": 0
      },
      "text/plain": [
       "rsus_Amon_NorESM2-MM_piClim-aer_r1i1p...:   0%|          |0.00/17.2M [?B/s]"
      ]
     },
     "metadata": {},
     "output_type": "display_data"
    },
    {
     "data": {
      "application/vnd.jupyter.widget-view+json": {
       "model_id": "95d4035f4d8943e88faca85f9adc211f",
       "version_major": 2,
       "version_minor": 0
      },
      "text/plain": [
       "rsutcs_Amon_NorESM2-MM_piClim-aer_r1i...:   0%|          |0.00/15.8M [?B/s]"
      ]
     },
     "metadata": {},
     "output_type": "display_data"
    },
    {
     "data": {
      "application/vnd.jupyter.widget-view+json": {
       "model_id": "799859bc6053451d91a4df432c6573da",
       "version_major": 2,
       "version_minor": 0
      },
      "text/plain": [
       "rsutcs_Amon_NorESM2-MM_piClim-aer_r1i...:   0%|          |0.00/15.8M [?B/s]"
      ]
     },
     "metadata": {},
     "output_type": "display_data"
    },
    {
     "data": {
      "application/vnd.jupyter.widget-view+json": {
       "model_id": "e1c0bb3a832b4c67977f31319d7a2211",
       "version_major": 2,
       "version_minor": 0
      },
      "text/plain": [
       "clt_Amon_NorESM2-MM_piClim-control_r1...:   0%|          |0.00/19.1M [?B/s]"
      ]
     },
     "metadata": {},
     "output_type": "display_data"
    },
    {
     "data": {
      "application/vnd.jupyter.widget-view+json": {
       "model_id": "679fe46d58184edc893b6f59c1ec0a39",
       "version_major": 2,
       "version_minor": 0
      },
      "text/plain": [
       "rlut_Amon_NorESM2-MM_piClim-control_r...:   0%|          |0.00/16.7M [?B/s]"
      ]
     },
     "metadata": {},
     "output_type": "display_data"
    },
    {
     "data": {
      "application/vnd.jupyter.widget-view+json": {
       "model_id": "99790b07596b4a38a491c5d97aad752d",
       "version_major": 2,
       "version_minor": 0
      },
      "text/plain": [
       "rlutcs_Amon_NorESM2-MM_piClim-control...:   0%|          |0.00/15.8M [?B/s]"
      ]
     },
     "metadata": {},
     "output_type": "display_data"
    },
    {
     "data": {
      "application/vnd.jupyter.widget-view+json": {
       "model_id": "cf246207bb214f1fbfbf6af7bf85ab8b",
       "version_major": 2,
       "version_minor": 0
      },
      "text/plain": [
       "rlutcs_Amon_NorESM2-MM_piClim-control...:   0%|          |0.00/15.8M [?B/s]"
      ]
     },
     "metadata": {},
     "output_type": "display_data"
    },
    {
     "data": {
      "application/vnd.jupyter.widget-view+json": {
       "model_id": "1ad9592e7e50434aaa8396fbe9c6e9f4",
       "version_major": 2,
       "version_minor": 0
      },
      "text/plain": [
       "rsdt_Amon_NorESM2-MM_piClim-control_r...:   0%|          |0.00/12.1M [?B/s]"
      ]
     },
     "metadata": {},
     "output_type": "display_data"
    },
    {
     "data": {
      "application/vnd.jupyter.widget-view+json": {
       "model_id": "12cc82a3ce604d7581b0379419d033e7",
       "version_major": 2,
       "version_minor": 0
      },
      "text/plain": [
       "rsutcs_Amon_NorESM2-MM_piClim-control...:   0%|          |0.00/15.7M [?B/s]"
      ]
     },
     "metadata": {},
     "output_type": "display_data"
    },
    {
     "data": {
      "application/vnd.jupyter.widget-view+json": {
       "model_id": "58b2ec056fab486b95bbd850ec4ad8f3",
       "version_major": 2,
       "version_minor": 0
      },
      "text/plain": [
       "rlutcs_Amon_CanESM5_piClim-control_r1...:   0%|          |0.00/16.7M [?B/s]"
      ]
     },
     "metadata": {},
     "output_type": "display_data"
    },
    {
     "data": {
      "application/vnd.jupyter.widget-view+json": {
       "model_id": "cd422b8071f545d68705cdfd918307de",
       "version_major": 2,
       "version_minor": 0
      },
      "text/plain": [
       "rsuscs_Amon_CanESM5_piClim-aer_r1i1p2...:   0%|          |0.00/16.5M [?B/s]"
      ]
     },
     "metadata": {},
     "output_type": "display_data"
    },
    {
     "data": {
      "application/vnd.jupyter.widget-view+json": {
       "model_id": "1909ca2ddccc4207bddf42f40c03553d",
       "version_major": 2,
       "version_minor": 0
      },
      "text/plain": [
       "clt_Amon_NorESM2-LM_piClim-control_r1...:   0%|          |0.00/5.00M [?B/s]"
      ]
     },
     "metadata": {},
     "output_type": "display_data"
    },
    {
     "data": {
      "application/vnd.jupyter.widget-view+json": {
       "model_id": "3c0bca13f6b9404aac52746b601f827f",
       "version_major": 2,
       "version_minor": 0
      },
      "text/plain": [
       "rlds_Amon_NorESM2-LM_piClim-control_r...:   0%|          |0.00/4.63M [?B/s]"
      ]
     },
     "metadata": {},
     "output_type": "display_data"
    },
    {
     "data": {
      "application/vnd.jupyter.widget-view+json": {
       "model_id": "f7372da269f441d7ae8d90cf7519d3a2",
       "version_major": 2,
       "version_minor": 0
      },
      "text/plain": [
       "rlutcs_Amon_NorESM2-LM_piClim-control...:   0%|          |0.00/4.30M [?B/s]"
      ]
     },
     "metadata": {},
     "output_type": "display_data"
    },
    {
     "data": {
      "application/vnd.jupyter.widget-view+json": {
       "model_id": "44ae3d7a9be540f296247a926901839a",
       "version_major": 2,
       "version_minor": 0
      },
      "text/plain": [
       "rsus_Amon_NorESM2-LM_piClim-control_r...:   0%|          |0.00/4.58M [?B/s]"
      ]
     },
     "metadata": {},
     "output_type": "display_data"
    },
    {
     "data": {
      "application/vnd.jupyter.widget-view+json": {
       "model_id": "c2ca4cb06e5e4d339eb381564680465e",
       "version_major": 2,
       "version_minor": 0
      },
      "text/plain": [
       "rsus_Amon_NorESM2-LM_piClim-control_r...:   0%|          |0.00/4.58M [?B/s]"
      ]
     },
     "metadata": {},
     "output_type": "display_data"
    },
    {
     "data": {
      "application/vnd.jupyter.widget-view+json": {
       "model_id": "7c43fa4c381547529006183a09678d55",
       "version_major": 2,
       "version_minor": 0
      },
      "text/plain": [
       "clt_Amon_GISS-E2-1-G_piClim-control_r...:   0%|          |0.00/19.3M [?B/s]"
      ]
     },
     "metadata": {},
     "output_type": "display_data"
    },
    {
     "data": {
      "application/vnd.jupyter.widget-view+json": {
       "model_id": "3d70f3626f8049368e97fcd8ac9f76d2",
       "version_major": 2,
       "version_minor": 0
      },
      "text/plain": [
       "rsdscs_Amon_MRI-ESM2-0_piClim-aer_r1i...:   0%|          |0.00/42.3M [?B/s]"
      ]
     },
     "metadata": {},
     "output_type": "display_data"
    },
    {
     "data": {
      "application/vnd.jupyter.widget-view+json": {
       "model_id": "c516b4aa34bb46e3997596413af6d159",
       "version_major": 2,
       "version_minor": 0
      },
      "text/plain": [
       "rlutcs_Amon_MRI-ESM2-0_piClim-control...:   0%|          |0.00/44.6M [?B/s]"
      ]
     },
     "metadata": {},
     "output_type": "display_data"
    },
    {
     "data": {
      "application/vnd.jupyter.widget-view+json": {
       "model_id": "c51d37e34b7649189cf762fe78e0b9f3",
       "version_major": 2,
       "version_minor": 0
      },
      "text/plain": [
       "rsds_Amon_MRI-ESM2-0_piClim-control_r...:   0%|          |0.00/48.9M [?B/s]"
      ]
     },
     "metadata": {},
     "output_type": "display_data"
    },
    {
     "data": {
      "application/vnd.jupyter.widget-view+json": {
       "model_id": "9793df7e819a4ed1accb2a18f5a94836",
       "version_major": 2,
       "version_minor": 0
      },
      "text/plain": [
       "rsdscs_Amon_MRI-ESM2-0_piClim-control...:   0%|          |0.00/1.46M [?B/s]"
      ]
     },
     "metadata": {},
     "output_type": "display_data"
    },
    {
     "data": {
      "application/vnd.jupyter.widget-view+json": {
       "model_id": "0865580419934b7bae9e918a435e05ba",
       "version_major": 2,
       "version_minor": 0
      },
      "text/plain": [
       "rsus_Amon_MRI-ESM2-0_piClim-control_r...:   0%|          |0.00/51.1M [?B/s]"
      ]
     },
     "metadata": {},
     "output_type": "display_data"
    },
    {
     "data": {
      "application/vnd.jupyter.widget-view+json": {
       "model_id": "9716085bdfbb448db0496c22803f791e",
       "version_major": 2,
       "version_minor": 0
      },
      "text/plain": [
       "rsuscs_Amon_MRI-ESM2-0_piClim-control...:   0%|          |0.00/47.2M [?B/s]"
      ]
     },
     "metadata": {},
     "output_type": "display_data"
    },
    {
     "data": {
      "application/vnd.jupyter.widget-view+json": {
       "model_id": "05bb12bc0cac4b24af4b084e6c2d8b44",
       "version_major": 2,
       "version_minor": 0
      },
      "text/plain": [
       "rsds_Amon_IPSL-CM6A-LR_piClim-aer_r1i...:   0%|          |0.00/20.7M [?B/s]"
      ]
     },
     "metadata": {},
     "output_type": "display_data"
    },
    {
     "data": {
      "application/vnd.jupyter.widget-view+json": {
       "model_id": "03b4750ae84641ecacff17fe8d35e9d2",
       "version_major": 2,
       "version_minor": 0
      },
      "text/plain": [
       "rsdt_Amon_MPI-ESM-1-2-HAM_piClim-aer_...:   0%|          |0.00/2.44M [?B/s]"
      ]
     },
     "metadata": {},
     "output_type": "display_data"
    },
    {
     "data": {
      "application/vnd.jupyter.widget-view+json": {
       "model_id": "8f6ba286b29e444689bb7ca3f6fa97f6",
       "version_major": 2,
       "version_minor": 0
      },
      "text/plain": [
       "rsus_Amon_MPI-ESM-1-2-HAM_piClim-aer_...:   0%|          |0.00/4.14M [?B/s]"
      ]
     },
     "metadata": {},
     "output_type": "display_data"
    },
    {
     "data": {
      "application/vnd.jupyter.widget-view+json": {
       "model_id": "e893b12a3dd24059b68281e887a326d4",
       "version_major": 2,
       "version_minor": 0
      },
      "text/plain": [
       "rsut_Amon_MPI-ESM-1-2-HAM_piClim-aer_...:   0%|          |0.00/8.71M [?B/s]"
      ]
     },
     "metadata": {},
     "output_type": "display_data"
    },
    {
     "data": {
      "application/vnd.jupyter.widget-view+json": {
       "model_id": "566cddadb27043958ff77f17944354c3",
       "version_major": 2,
       "version_minor": 0
      },
      "text/plain": [
       "rsus_Amon_IPSL-CM6A-LR-INCA_piClim-co...:   0%|          |0.00/21.4M [?B/s]"
      ]
     },
     "metadata": {},
     "output_type": "display_data"
    },
    {
     "data": {
      "application/vnd.jupyter.widget-view+json": {
       "model_id": "77f7dc08cee941049db8a75e982da994",
       "version_major": 2,
       "version_minor": 0
      },
      "text/plain": [
       "rlut_Amon_MIROC6_piClim-aer_r1i1p1f1_...:   0%|          |0.00/30.3M [?B/s]"
      ]
     },
     "metadata": {},
     "output_type": "display_data"
    },
    {
     "data": {
      "application/vnd.jupyter.widget-view+json": {
       "model_id": "b43f809e79fa4a3a9ff97c44ae85a83c",
       "version_major": 2,
       "version_minor": 0
      },
      "text/plain": [
       "rsut_Amon_IPSL-CM6A-LR-INCA_piClim-co...:   0%|          |0.00/20.9M [?B/s]"
      ]
     },
     "metadata": {},
     "output_type": "display_data"
    },
    {
     "data": {
      "application/vnd.jupyter.widget-view+json": {
       "model_id": "955d6b3088e648ae9e37e141d9a67ab3",
       "version_major": 2,
       "version_minor": 0
      },
      "text/plain": [
       "rlds_Amon_IPSL-CM6A-LR-INCA_piClim-ae...:   0%|          |0.00/20.4M [?B/s]"
      ]
     },
     "metadata": {},
     "output_type": "display_data"
    },
    {
     "data": {
      "application/vnd.jupyter.widget-view+json": {
       "model_id": "1d486baaf9b74b4fa8dbe3bd94f71507",
       "version_major": 2,
       "version_minor": 0
      },
      "text/plain": [
       "rsus_Amon_IPSL-CM6A-LR-INCA_piClim-ae...:   0%|          |0.00/21.4M [?B/s]"
      ]
     },
     "metadata": {},
     "output_type": "display_data"
    },
    {
     "data": {
      "application/vnd.jupyter.widget-view+json": {
       "model_id": "3bf8d10715e848c399d49692d0bdb698",
       "version_major": 2,
       "version_minor": 0
      },
      "text/plain": [
       "rsut_Amon_MIROC6_piClim-control_r1i1p...:   0%|          |0.00/32.4M [?B/s]"
      ]
     },
     "metadata": {},
     "output_type": "display_data"
    },
    {
     "data": {
      "application/vnd.jupyter.widget-view+json": {
       "model_id": "6fb7b2d0e134429184d256b9b3a8bc77",
       "version_major": 2,
       "version_minor": 0
      },
      "text/plain": [
       "rsds_Amon_MIROC6_piClim-control_r1i1p...:   0%|          |0.00/32.3M [?B/s]"
      ]
     },
     "metadata": {},
     "output_type": "display_data"
    },
    {
     "data": {
      "application/vnd.jupyter.widget-view+json": {
       "model_id": "8e83658f7df24ce186aaf9ef565254b6",
       "version_major": 2,
       "version_minor": 0
      },
      "text/plain": [
       "rlus_Amon_NorESM2-LM_piClim-aer_r1i1p...:   0%|          |0.00/4.49M [?B/s]"
      ]
     },
     "metadata": {},
     "output_type": "display_data"
    },
    {
     "data": {
      "application/vnd.jupyter.widget-view+json": {
       "model_id": "a90695201ec1482baa5be34eef08b58a",
       "version_major": 2,
       "version_minor": 0
      },
      "text/plain": [
       "rlus_Amon_NorESM2-LM_piClim-aer_r1i1p...:   0%|          |0.00/4.49M [?B/s]"
      ]
     },
     "metadata": {},
     "output_type": "display_data"
    },
    {
     "data": {
      "application/vnd.jupyter.widget-view+json": {
       "model_id": "581a806459644060aaa0b3a1ffe2f82a",
       "version_major": 2,
       "version_minor": 0
      },
      "text/plain": [
       "rsdscs_Amon_CESM2_piClim-aer_r1i1p1f1...:   0%|          |0.00/45.1M [?B/s]"
      ]
     },
     "metadata": {},
     "output_type": "display_data"
    },
    {
     "data": {
      "application/vnd.jupyter.widget-view+json": {
       "model_id": "60496424087b4eb9b7621a09ede3bcba",
       "version_major": 2,
       "version_minor": 0
      },
      "text/plain": [
       "rsdscs_Amon_NorESM2-LM_piClim-aer_r1i...:   0%|          |0.00/4.07M [?B/s]"
      ]
     },
     "metadata": {},
     "output_type": "display_data"
    },
    {
     "data": {
      "application/vnd.jupyter.widget-view+json": {
       "model_id": "7223d94a14f94a8f8a588b1d2f8c0042",
       "version_major": 2,
       "version_minor": 0
      },
      "text/plain": [
       "rsus_Amon_NorESM2-LM_piClim-aer_r1i1p...:   0%|          |0.00/4.59M [?B/s]"
      ]
     },
     "metadata": {},
     "output_type": "display_data"
    },
    {
     "data": {
      "application/vnd.jupyter.widget-view+json": {
       "model_id": "fe6765d8df8745d081541a3cee1966e4",
       "version_major": 2,
       "version_minor": 0
      },
      "text/plain": [
       "rlus_Amon_EC-Earth3_piClim-aer_r1i1p1...:   0%|          |0.00/5.19M [?B/s]"
      ]
     },
     "metadata": {},
     "output_type": "display_data"
    },
    {
     "data": {
      "application/vnd.jupyter.widget-view+json": {
       "model_id": "c8cbcf67fb13466f9409b447bc3939e3",
       "version_major": 2,
       "version_minor": 0
      },
      "text/plain": [
       "rlds_Amon_EC-Earth3_piClim-aer_r1i1p1...:   0%|          |0.00/5.26M [?B/s]"
      ]
     },
     "metadata": {},
     "output_type": "display_data"
    },
    {
     "data": {
      "application/vnd.jupyter.widget-view+json": {
       "model_id": "b74dcbfd6fec41f9b4641a032ef9a109",
       "version_major": 2,
       "version_minor": 0
      },
      "text/plain": [
       "rlus_Amon_EC-Earth3_piClim-aer_r1i1p1...:   0%|          |0.00/5.19M [?B/s]"
      ]
     },
     "metadata": {},
     "output_type": "display_data"
    },
    {
     "data": {
      "application/vnd.jupyter.widget-view+json": {
       "model_id": "9ab02614a5a64bac9c6bc6ec22ec6d6b",
       "version_major": 2,
       "version_minor": 0
      },
      "text/plain": [
       "rlut_Amon_EC-Earth3_piClim-aer_r1i1p1...:   0%|          |0.00/5.23M [?B/s]"
      ]
     },
     "metadata": {},
     "output_type": "display_data"
    },
    {
     "data": {
      "application/vnd.jupyter.widget-view+json": {
       "model_id": "e47f90d5384f46ec9710530170d872e3",
       "version_major": 2,
       "version_minor": 0
      },
      "text/plain": [
       "rlut_Amon_EC-Earth3_piClim-aer_r1i1p1...:   0%|          |0.00/5.22M [?B/s]"
      ]
     },
     "metadata": {},
     "output_type": "display_data"
    },
    {
     "data": {
      "application/vnd.jupyter.widget-view+json": {
       "model_id": "0a9b45a7150147f3a865e86f21902a8d",
       "version_major": 2,
       "version_minor": 0
      },
      "text/plain": [
       "rlutcs_Amon_EC-Earth3_piClim-aer_r1i1...:   0%|          |0.00/5.08M [?B/s]"
      ]
     },
     "metadata": {},
     "output_type": "display_data"
    },
    {
     "data": {
      "application/vnd.jupyter.widget-view+json": {
       "model_id": "94b13980657747b8804bd23b9305db69",
       "version_major": 2,
       "version_minor": 0
      },
      "text/plain": [
       "rsds_Amon_EC-Earth3_piClim-aer_r1i1p1...:   0%|          |0.00/5.07M [?B/s]"
      ]
     },
     "metadata": {},
     "output_type": "display_data"
    },
    {
     "data": {
      "application/vnd.jupyter.widget-view+json": {
       "model_id": "c3f548f069ca4c04a73ac0bef0763d3d",
       "version_major": 2,
       "version_minor": 0
      },
      "text/plain": [
       "rsds_Amon_EC-Earth3_piClim-aer_r1i1p1...:   0%|          |0.00/5.07M [?B/s]"
      ]
     },
     "metadata": {},
     "output_type": "display_data"
    },
    {
     "data": {
      "application/vnd.jupyter.widget-view+json": {
       "model_id": "8c637028fffe4dc4874b886c2f32a11e",
       "version_major": 2,
       "version_minor": 0
      },
      "text/plain": [
       "rsds_Amon_EC-Earth3_piClim-aer_r1i1p1...:   0%|          |0.00/5.07M [?B/s]"
      ]
     },
     "metadata": {},
     "output_type": "display_data"
    },
    {
     "data": {
      "application/vnd.jupyter.widget-view+json": {
       "model_id": "34054b1007b4424a90c20d23ef38102f",
       "version_major": 2,
       "version_minor": 0
      },
      "text/plain": [
       "rsdscs_Amon_EC-Earth3_piClim-aer_r1i1...:   0%|          |0.00/4.89M [?B/s]"
      ]
     },
     "metadata": {},
     "output_type": "display_data"
    },
    {
     "data": {
      "application/vnd.jupyter.widget-view+json": {
       "model_id": "6ca7440802084759b0315a7493a1e4f3",
       "version_major": 2,
       "version_minor": 0
      },
      "text/plain": [
       "rsds_Amon_EC-Earth3_piClim-aer_r1i1p1...:   0%|          |0.00/5.08M [?B/s]"
      ]
     },
     "metadata": {},
     "output_type": "display_data"
    },
    {
     "data": {
      "application/vnd.jupyter.widget-view+json": {
       "model_id": "9e804bf13f1c4d038ef18a24257d70dd",
       "version_major": 2,
       "version_minor": 0
      },
      "text/plain": [
       "rsdt_Amon_EC-Earth3_piClim-aer_r1i1p1...:   0%|          |0.00/4.03M [?B/s]"
      ]
     },
     "metadata": {},
     "output_type": "display_data"
    },
    {
     "data": {
      "application/vnd.jupyter.widget-view+json": {
       "model_id": "c5d391744c0c42a4a11501fe41806601",
       "version_major": 2,
       "version_minor": 0
      },
      "text/plain": [
       "rsdt_Amon_EC-Earth3_piClim-aer_r1i1p1...:   0%|          |0.00/4.03M [?B/s]"
      ]
     },
     "metadata": {},
     "output_type": "display_data"
    },
    {
     "data": {
      "application/vnd.jupyter.widget-view+json": {
       "model_id": "0e9fa9d6f8944c63b5db33288a192804",
       "version_major": 2,
       "version_minor": 0
      },
      "text/plain": [
       "rsdt_Amon_EC-Earth3_piClim-aer_r1i1p1...:   0%|          |0.00/4.03M [?B/s]"
      ]
     },
     "metadata": {},
     "output_type": "display_data"
    },
    {
     "data": {
      "application/vnd.jupyter.widget-view+json": {
       "model_id": "f4a0193ffc1e4e96ad0d9b7661610ac7",
       "version_major": 2,
       "version_minor": 0
      },
      "text/plain": [
       "rsdt_Amon_EC-Earth3_piClim-aer_r1i1p1...:   0%|          |0.00/4.02M [?B/s]"
      ]
     },
     "metadata": {},
     "output_type": "display_data"
    },
    {
     "data": {
      "application/vnd.jupyter.widget-view+json": {
       "model_id": "98c573e4a5484ccaa35d182817544d00",
       "version_major": 2,
       "version_minor": 0
      },
      "text/plain": [
       "rsdt_Amon_EC-Earth3_piClim-aer_r1i1p1...:   0%|          |0.00/4.03M [?B/s]"
      ]
     },
     "metadata": {},
     "output_type": "display_data"
    },
    {
     "data": {
      "application/vnd.jupyter.widget-view+json": {
       "model_id": "f73c751d76f84c789d8cdffcd1fa971e",
       "version_major": 2,
       "version_minor": 0
      },
      "text/plain": [
       "rsdt_Amon_EC-Earth3_piClim-aer_r1i1p1...:   0%|          |0.00/4.03M [?B/s]"
      ]
     },
     "metadata": {},
     "output_type": "display_data"
    },
    {
     "data": {
      "application/vnd.jupyter.widget-view+json": {
       "model_id": "045b1b60d7324c0a96e67ca18ed7d8dc",
       "version_major": 2,
       "version_minor": 0
      },
      "text/plain": [
       "rsus_Amon_EC-Earth3_piClim-aer_r1i1p1...:   0%|          |0.00/5.17M [?B/s]"
      ]
     },
     "metadata": {},
     "output_type": "display_data"
    },
    {
     "data": {
      "application/vnd.jupyter.widget-view+json": {
       "model_id": "d731a6b9869642c98a7b08c719a80831",
       "version_major": 2,
       "version_minor": 0
      },
      "text/plain": [
       "rsuscs_Amon_EC-Earth3_piClim-aer_r1i1...:   0%|          |0.00/5.16M [?B/s]"
      ]
     },
     "metadata": {},
     "output_type": "display_data"
    },
    {
     "data": {
      "application/vnd.jupyter.widget-view+json": {
       "model_id": "0390afc08b734adb8e7f27f90f0933d3",
       "version_major": 2,
       "version_minor": 0
      },
      "text/plain": [
       "rsuscs_Amon_EC-Earth3_piClim-aer_r1i1...:   0%|          |0.00/5.16M [?B/s]"
      ]
     },
     "metadata": {},
     "output_type": "display_data"
    },
    {
     "data": {
      "application/vnd.jupyter.widget-view+json": {
       "model_id": "5754ce7cb5b94cdc859b84c4af870267",
       "version_major": 2,
       "version_minor": 0
      },
      "text/plain": [
       "rsut_Amon_EC-Earth3_piClim-aer_r1i1p1...:   0%|          |0.00/5.11M [?B/s]"
      ]
     },
     "metadata": {},
     "output_type": "display_data"
    },
    {
     "data": {
      "application/vnd.jupyter.widget-view+json": {
       "model_id": "2e902c371f8549e4a58fe25236be70c7",
       "version_major": 2,
       "version_minor": 0
      },
      "text/plain": [
       "rsut_Amon_EC-Earth3_piClim-aer_r1i1p1...:   0%|          |0.00/5.11M [?B/s]"
      ]
     },
     "metadata": {},
     "output_type": "display_data"
    },
    {
     "data": {
      "application/vnd.jupyter.widget-view+json": {
       "model_id": "bfade1aca8704e698bc52c8be2569976",
       "version_major": 2,
       "version_minor": 0
      },
      "text/plain": [
       "rsut_Amon_EC-Earth3_piClim-aer_r1i1p1...:   0%|          |0.00/5.11M [?B/s]"
      ]
     },
     "metadata": {},
     "output_type": "display_data"
    },
    {
     "data": {
      "application/vnd.jupyter.widget-view+json": {
       "model_id": "d80274fea7c64c43be701bd7836c8ccf",
       "version_major": 2,
       "version_minor": 0
      },
      "text/plain": [
       "rsut_Amon_EC-Earth3_piClim-aer_r1i1p1...:   0%|          |0.00/5.11M [?B/s]"
      ]
     },
     "metadata": {},
     "output_type": "display_data"
    },
    {
     "data": {
      "application/vnd.jupyter.widget-view+json": {
       "model_id": "4d78add4a35c416c9fb80f1c8cfc860e",
       "version_major": 2,
       "version_minor": 0
      },
      "text/plain": [
       "rsutcs_Amon_EC-Earth3_piClim-aer_r1i1...:   0%|          |0.00/4.98M [?B/s]"
      ]
     },
     "metadata": {},
     "output_type": "display_data"
    },
    {
     "data": {
      "application/vnd.jupyter.widget-view+json": {
       "model_id": "2195aa9dccdd456fbc5510b99d3a75fd",
       "version_major": 2,
       "version_minor": 0
      },
      "text/plain": [
       "rsutcs_Amon_EC-Earth3_piClim-aer_r1i1...:   0%|          |0.00/4.98M [?B/s]"
      ]
     },
     "metadata": {},
     "output_type": "display_data"
    },
    {
     "data": {
      "application/vnd.jupyter.widget-view+json": {
       "model_id": "cc1e3fe17dfe4873bc02bc302a1a629b",
       "version_major": 2,
       "version_minor": 0
      },
      "text/plain": [
       "clt_Amon_EC-Earth3_piClim-aer_r1i1p1f...:   0%|          |0.00/5.36M [?B/s]"
      ]
     },
     "metadata": {},
     "output_type": "display_data"
    },
    {
     "data": {
      "application/vnd.jupyter.widget-view+json": {
       "model_id": "9d99fdd4b0ca44a8b78ed75e50871cd3",
       "version_major": 2,
       "version_minor": 0
      },
      "text/plain": [
       "rlds_Amon_EC-Earth3_piClim-control_r1...:   0%|          |0.00/5.25M [?B/s]"
      ]
     },
     "metadata": {},
     "output_type": "display_data"
    },
    {
     "data": {
      "application/vnd.jupyter.widget-view+json": {
       "model_id": "df9c6004e2c94c58ba86afb27f9cabb1",
       "version_major": 2,
       "version_minor": 0
      },
      "text/plain": [
       "rlus_Amon_EC-Earth3_piClim-control_r1...:   0%|          |0.00/5.19M [?B/s]"
      ]
     },
     "metadata": {},
     "output_type": "display_data"
    },
    {
     "data": {
      "application/vnd.jupyter.widget-view+json": {
       "model_id": "dd3887bd96a0494ba9488daa4bc498ec",
       "version_major": 2,
       "version_minor": 0
      },
      "text/plain": [
       "rlus_Amon_EC-Earth3_piClim-control_r1...:   0%|          |0.00/5.19M [?B/s]"
      ]
     },
     "metadata": {},
     "output_type": "display_data"
    },
    {
     "data": {
      "application/vnd.jupyter.widget-view+json": {
       "model_id": "7975e89599194a929a915d122b8728ac",
       "version_major": 2,
       "version_minor": 0
      },
      "text/plain": [
       "clt_Amon_EC-Earth3_piClim-aer_r1i1p1f...:   0%|          |0.00/5.36M [?B/s]"
      ]
     },
     "metadata": {},
     "output_type": "display_data"
    },
    {
     "data": {
      "application/vnd.jupyter.widget-view+json": {
       "model_id": "a2bf980dcf7d49598610d02ddc63ba5d",
       "version_major": 2,
       "version_minor": 0
      },
      "text/plain": [
       "rlus_Amon_EC-Earth3_piClim-control_r1...:   0%|          |0.00/5.19M [?B/s]"
      ]
     },
     "metadata": {},
     "output_type": "display_data"
    },
    {
     "data": {
      "application/vnd.jupyter.widget-view+json": {
       "model_id": "2ee7cd04588647989f49ced94784acd6",
       "version_major": 2,
       "version_minor": 0
      },
      "text/plain": [
       "rlut_Amon_EC-Earth3_piClim-control_r1...:   0%|          |0.00/5.22M [?B/s]"
      ]
     },
     "metadata": {},
     "output_type": "display_data"
    },
    {
     "data": {
      "application/vnd.jupyter.widget-view+json": {
       "model_id": "db98a0f8b909429a9261cb9fbb0aa9ec",
       "version_major": 2,
       "version_minor": 0
      },
      "text/plain": [
       "rlut_Amon_EC-Earth3_piClim-control_r1...:   0%|          |0.00/5.23M [?B/s]"
      ]
     },
     "metadata": {},
     "output_type": "display_data"
    },
    {
     "data": {
      "application/vnd.jupyter.widget-view+json": {
       "model_id": "1a12fb0f7f7f4a02863eafc6776f1bc7",
       "version_major": 2,
       "version_minor": 0
      },
      "text/plain": [
       "rlut_Amon_EC-Earth3_piClim-control_r1...:   0%|          |0.00/5.23M [?B/s]"
      ]
     },
     "metadata": {},
     "output_type": "display_data"
    },
    {
     "data": {
      "application/vnd.jupyter.widget-view+json": {
       "model_id": "1592150dfc1647f49fe833889b317f17",
       "version_major": 2,
       "version_minor": 0
      },
      "text/plain": [
       "rlut_Amon_EC-Earth3_piClim-control_r1...:   0%|          |0.00/5.22M [?B/s]"
      ]
     },
     "metadata": {},
     "output_type": "display_data"
    },
    {
     "data": {
      "application/vnd.jupyter.widget-view+json": {
       "model_id": "b8262ba6702240e59b5ffa368b4e4634",
       "version_major": 2,
       "version_minor": 0
      },
      "text/plain": [
       "rlut_Amon_EC-Earth3_piClim-control_r1...:   0%|          |0.00/5.23M [?B/s]"
      ]
     },
     "metadata": {},
     "output_type": "display_data"
    },
    {
     "data": {
      "application/vnd.jupyter.widget-view+json": {
       "model_id": "2b1c8a18dc724541a4fb96e828f58e02",
       "version_major": 2,
       "version_minor": 0
      },
      "text/plain": [
       "rlutcs_Amon_EC-Earth3_piClim-control_...:   0%|          |0.00/5.08M [?B/s]"
      ]
     },
     "metadata": {},
     "output_type": "display_data"
    },
    {
     "data": {
      "application/vnd.jupyter.widget-view+json": {
       "model_id": "10bfac5cc6ef4ef6ac500d62a2aac9b3",
       "version_major": 2,
       "version_minor": 0
      },
      "text/plain": [
       "rsds_Amon_EC-Earth3_piClim-control_r1...:   0%|          |0.00/5.07M [?B/s]"
      ]
     },
     "metadata": {},
     "output_type": "display_data"
    },
    {
     "data": {
      "application/vnd.jupyter.widget-view+json": {
       "model_id": "b1f9324261fe414cbc9b384278c52e23",
       "version_major": 2,
       "version_minor": 0
      },
      "text/plain": [
       "rsds_Amon_EC-Earth3_piClim-control_r1...:   0%|          |0.00/5.07M [?B/s]"
      ]
     },
     "metadata": {},
     "output_type": "display_data"
    },
    {
     "data": {
      "application/vnd.jupyter.widget-view+json": {
       "model_id": "e5faa6dc2a224fdda67ba75253a9072c",
       "version_major": 2,
       "version_minor": 0
      },
      "text/plain": [
       "rsds_Amon_EC-Earth3_piClim-control_r1...:   0%|          |0.00/5.07M [?B/s]"
      ]
     },
     "metadata": {},
     "output_type": "display_data"
    },
    {
     "data": {
      "application/vnd.jupyter.widget-view+json": {
       "model_id": "55205607cbca4e019ec2b45bea3e868e",
       "version_major": 2,
       "version_minor": 0
      },
      "text/plain": [
       "rsdscs_Amon_EC-Earth3_piClim-control_...:   0%|          |0.00/4.86M [?B/s]"
      ]
     },
     "metadata": {},
     "output_type": "display_data"
    },
    {
     "data": {
      "application/vnd.jupyter.widget-view+json": {
       "model_id": "9f89c8dca40b4d7b8f968e283d155a2e",
       "version_major": 2,
       "version_minor": 0
      },
      "text/plain": [
       "rsdscs_Amon_EC-Earth3_piClim-control_...:   0%|          |0.00/4.87M [?B/s]"
      ]
     },
     "metadata": {},
     "output_type": "display_data"
    },
    {
     "data": {
      "application/vnd.jupyter.widget-view+json": {
       "model_id": "61263666ea464a499cc98ff0518f25b0",
       "version_major": 2,
       "version_minor": 0
      },
      "text/plain": [
       "rsdt_Amon_EC-Earth3_piClim-control_r1...:   0%|          |0.00/4.02M [?B/s]"
      ]
     },
     "metadata": {},
     "output_type": "display_data"
    },
    {
     "data": {
      "application/vnd.jupyter.widget-view+json": {
       "model_id": "4cb453f6ede04aa9a5daba7e8cd9c073",
       "version_major": 2,
       "version_minor": 0
      },
      "text/plain": [
       "rsdt_Amon_EC-Earth3_piClim-control_r1...:   0%|          |0.00/4.02M [?B/s]"
      ]
     },
     "metadata": {},
     "output_type": "display_data"
    },
    {
     "data": {
      "application/vnd.jupyter.widget-view+json": {
       "model_id": "ecc886dc7c2a4746ad1cb4c586bbc7b8",
       "version_major": 2,
       "version_minor": 0
      },
      "text/plain": [
       "rsus_Amon_EC-Earth3_piClim-control_r1...:   0%|          |0.00/5.17M [?B/s]"
      ]
     },
     "metadata": {},
     "output_type": "display_data"
    },
    {
     "data": {
      "application/vnd.jupyter.widget-view+json": {
       "model_id": "e3a5fc967d444e3181f2529093cd4082",
       "version_major": 2,
       "version_minor": 0
      },
      "text/plain": [
       "rsus_Amon_EC-Earth3_piClim-control_r1...:   0%|          |0.00/5.17M [?B/s]"
      ]
     },
     "metadata": {},
     "output_type": "display_data"
    },
    {
     "data": {
      "application/vnd.jupyter.widget-view+json": {
       "model_id": "e06d2602988c4004873b04cc18e49a0e",
       "version_major": 2,
       "version_minor": 0
      },
      "text/plain": [
       "rsus_Amon_EC-Earth3_piClim-control_r1...:   0%|          |0.00/5.17M [?B/s]"
      ]
     },
     "metadata": {},
     "output_type": "display_data"
    },
    {
     "data": {
      "application/vnd.jupyter.widget-view+json": {
       "model_id": "be4413458dd943ec8410e18a60c69fa4",
       "version_major": 2,
       "version_minor": 0
      },
      "text/plain": [
       "rsus_Amon_EC-Earth3_piClim-control_r1...:   0%|          |0.00/5.17M [?B/s]"
      ]
     },
     "metadata": {},
     "output_type": "display_data"
    },
    {
     "data": {
      "application/vnd.jupyter.widget-view+json": {
       "model_id": "315de950f93643bd90f652e45cc4aea9",
       "version_major": 2,
       "version_minor": 0
      },
      "text/plain": [
       "rsuscs_Amon_EC-Earth3_piClim-control_...:   0%|          |0.00/5.16M [?B/s]"
      ]
     },
     "metadata": {},
     "output_type": "display_data"
    },
    {
     "data": {
      "application/vnd.jupyter.widget-view+json": {
       "model_id": "39d6e9430b5b4e8284b8663ce782a791",
       "version_major": 2,
       "version_minor": 0
      },
      "text/plain": [
       "rsuscs_Amon_EC-Earth3_piClim-control_...:   0%|          |0.00/5.16M [?B/s]"
      ]
     },
     "metadata": {},
     "output_type": "display_data"
    },
    {
     "data": {
      "application/vnd.jupyter.widget-view+json": {
       "model_id": "64672db912424dcab87047b461d5d947",
       "version_major": 2,
       "version_minor": 0
      },
      "text/plain": [
       "rsuscs_Amon_EC-Earth3_piClim-control_...:   0%|          |0.00/5.16M [?B/s]"
      ]
     },
     "metadata": {},
     "output_type": "display_data"
    },
    {
     "data": {
      "application/vnd.jupyter.widget-view+json": {
       "model_id": "f89f1f2eee0b4c15858849e66dde6efe",
       "version_major": 2,
       "version_minor": 0
      },
      "text/plain": [
       "rsuscs_Amon_EC-Earth3_piClim-control_...:   0%|          |0.00/5.16M [?B/s]"
      ]
     },
     "metadata": {},
     "output_type": "display_data"
    },
    {
     "data": {
      "application/vnd.jupyter.widget-view+json": {
       "model_id": "8d1e02af8e2d487db132af101c811afa",
       "version_major": 2,
       "version_minor": 0
      },
      "text/plain": [
       "rsut_Amon_EC-Earth3_piClim-control_r1...:   0%|          |0.00/5.11M [?B/s]"
      ]
     },
     "metadata": {},
     "output_type": "display_data"
    },
    {
     "data": {
      "application/vnd.jupyter.widget-view+json": {
       "model_id": "0fd37a7bc35b4413974e3fcd620ff607",
       "version_major": 2,
       "version_minor": 0
      },
      "text/plain": [
       "rsut_Amon_EC-Earth3_piClim-control_r1...:   0%|          |0.00/5.11M [?B/s]"
      ]
     },
     "metadata": {},
     "output_type": "display_data"
    },
    {
     "data": {
      "application/vnd.jupyter.widget-view+json": {
       "model_id": "c830a2bcba154646a4753f9b1a27bf69",
       "version_major": 2,
       "version_minor": 0
      },
      "text/plain": [
       "rsutcs_Amon_EC-Earth3_piClim-control_...:   0%|          |0.00/4.97M [?B/s]"
      ]
     },
     "metadata": {},
     "output_type": "display_data"
    },
    {
     "data": {
      "application/vnd.jupyter.widget-view+json": {
       "model_id": "bdded16f8dd141008b00e17fa1098b91",
       "version_major": 2,
       "version_minor": 0
      },
      "text/plain": [
       "rsutcs_Amon_EC-Earth3_piClim-control_...:   0%|          |0.00/4.97M [?B/s]"
      ]
     },
     "metadata": {},
     "output_type": "display_data"
    },
    {
     "data": {
      "application/vnd.jupyter.widget-view+json": {
       "model_id": "16e661ad498042faabb31f2813a3dcce",
       "version_major": 2,
       "version_minor": 0
      },
      "text/plain": [
       "rsutcs_Amon_EC-Earth3_piClim-control_...:   0%|          |0.00/4.97M [?B/s]"
      ]
     },
     "metadata": {},
     "output_type": "display_data"
    },
    {
     "data": {
      "application/vnd.jupyter.widget-view+json": {
       "model_id": "9fb72b4835434338ad898e1fb3351180",
       "version_major": 2,
       "version_minor": 0
      },
      "text/plain": [
       "rsutcs_Amon_EC-Earth3_piClim-control_...:   0%|          |0.00/4.98M [?B/s]"
      ]
     },
     "metadata": {},
     "output_type": "display_data"
    },
    {
     "data": {
      "application/vnd.jupyter.widget-view+json": {
       "model_id": "be42d6ae978a417698a43527436a2248",
       "version_major": 2,
       "version_minor": 0
      },
      "text/plain": [
       "rlut_Amon_ACCESS-ESM1-5_piClim-contro...:   0%|          |0.00/33.3M [?B/s]"
      ]
     },
     "metadata": {},
     "output_type": "display_data"
    },
    {
     "data": {
      "application/vnd.jupyter.widget-view+json": {
       "model_id": "896a49c2cb604404a9c034ff5a7a0621",
       "version_major": 2,
       "version_minor": 0
      },
      "text/plain": [
       "rsuscs_Amon_ACCESS-ESM1-5_piClim-cont...:   0%|          |0.00/32.4M [?B/s]"
      ]
     },
     "metadata": {},
     "output_type": "display_data"
    },
    {
     "data": {
      "application/vnd.jupyter.widget-view+json": {
       "model_id": "6ebcd3d5be114a459e7800894e14c80b",
       "version_major": 2,
       "version_minor": 0
      },
      "text/plain": [
       "rlds_Amon_ACCESS-ESM1-5_piClim-contro...:   0%|          |0.00/33.5M [?B/s]"
      ]
     },
     "metadata": {},
     "output_type": "display_data"
    },
    {
     "data": {
      "application/vnd.jupyter.widget-view+json": {
       "model_id": "dce57e2b4a4c4f6f95a8d140f94cedfd",
       "version_major": 2,
       "version_minor": 0
      },
      "text/plain": [
       "rsut_Amon_ACCESS-ESM1-5_piClim-contro...:   0%|          |0.00/32.5M [?B/s]"
      ]
     },
     "metadata": {},
     "output_type": "display_data"
    },
    {
     "data": {
      "application/vnd.jupyter.widget-view+json": {
       "model_id": "470752fde669430b8c1b43be74641cec",
       "version_major": 2,
       "version_minor": 0
      },
      "text/plain": [
       "rlds_Amon_ACCESS-ESM1-5_piClim-aer_r1...:   0%|          |0.00/33.4M [?B/s]"
      ]
     },
     "metadata": {},
     "output_type": "display_data"
    },
    {
     "data": {
      "application/vnd.jupyter.widget-view+json": {
       "model_id": "06c66a79efcf4a9c8a274422b4c24e24",
       "version_major": 2,
       "version_minor": 0
      },
      "text/plain": [
       "rlutcs_Amon_ACCESS-ESM1-5_piClim-aer_...:   0%|          |0.00/32.6M [?B/s]"
      ]
     },
     "metadata": {},
     "output_type": "display_data"
    },
    {
     "data": {
      "application/vnd.jupyter.widget-view+json": {
       "model_id": "e556bd0100e2443ba35678a66bf7e85e",
       "version_major": 2,
       "version_minor": 0
      },
      "text/plain": [
       "clt_Amon_CNRM-CM6-1_piClim-aer_r1i1p1...:   0%|          |0.00/33.3M [?B/s]"
      ]
     },
     "metadata": {},
     "output_type": "display_data"
    },
    {
     "data": {
      "application/vnd.jupyter.widget-view+json": {
       "model_id": "0d944442930a45df9912cec6a56a8da5",
       "version_major": 2,
       "version_minor": 0
      },
      "text/plain": [
       "rlds_Amon_CNRM-CM6-1_piClim-aer_r1i1p...:   0%|          |0.00/30.3M [?B/s]"
      ]
     },
     "metadata": {},
     "output_type": "display_data"
    },
    {
     "data": {
      "application/vnd.jupyter.widget-view+json": {
       "model_id": "d862b5574cf04cb280213d2bdaac9cb2",
       "version_major": 2,
       "version_minor": 0
      },
      "text/plain": [
       "rsdt_Amon_CNRM-ESM2-1_piClim-control_...:   0%|          |0.00/20.5M [?B/s]"
      ]
     },
     "metadata": {},
     "output_type": "display_data"
    },
    {
     "data": {
      "application/vnd.jupyter.widget-view+json": {
       "model_id": "12008c73bb1d4acf87046ae47f79d22b",
       "version_major": 2,
       "version_minor": 0
      },
      "text/plain": [
       "rlds_Amon_CNRM-ESM2-1_piClim-aer_r1i1...:   0%|          |0.00/30.2M [?B/s]"
      ]
     },
     "metadata": {},
     "output_type": "display_data"
    },
    {
     "data": {
      "application/vnd.jupyter.widget-view+json": {
       "model_id": "c6d3fc951d6b430982e3146d5a54c871",
       "version_major": 2,
       "version_minor": 0
      },
      "text/plain": [
       "rsdt_Amon_CNRM-ESM2-1_piClim-aer_r1i1...:   0%|          |0.00/20.5M [?B/s]"
      ]
     },
     "metadata": {},
     "output_type": "display_data"
    },
    {
     "data": {
      "application/vnd.jupyter.widget-view+json": {
       "model_id": "7d39081f841a494ca24491706287d211",
       "version_major": 2,
       "version_minor": 0
      },
      "text/plain": [
       "rlut_Amon_MPI-ESM-1-2-HAM_piClim-cont...:   0%|          |0.00/8.13M [?B/s]"
      ]
     },
     "metadata": {},
     "output_type": "display_data"
    },
    {
     "data": {
      "application/vnd.jupyter.widget-view+json": {
       "model_id": "8dd1c6c25baa430ca5354e6d3bd065f0",
       "version_major": 2,
       "version_minor": 0
      },
      "text/plain": [
       "rsdt_Amon_MPI-ESM-1-2-HAM_piClim-cont...:   0%|          |0.00/2.44M [?B/s]"
      ]
     },
     "metadata": {},
     "output_type": "display_data"
    },
    {
     "data": {
      "application/vnd.jupyter.widget-view+json": {
       "model_id": "8a42de615a4645b3a98b0f8c7bee675b",
       "version_major": 2,
       "version_minor": 0
      },
      "text/plain": [
       "rsuscs_Amon_MPI-ESM-1-2-HAM_piClim-co...:   0%|          |0.00/7.17M [?B/s]"
      ]
     },
     "metadata": {},
     "output_type": "display_data"
    },
    {
     "data": {
      "application/vnd.jupyter.widget-view+json": {
       "model_id": "d2b05221a6d648d1a1da5dd08f4a923b",
       "version_major": 2,
       "version_minor": 0
      },
      "text/plain": [
       "rsds_Amon_BCC-ESM1_piClim-control_r1i...:   0%|          |0.00/12.2M [?B/s]"
      ]
     },
     "metadata": {},
     "output_type": "display_data"
    },
    {
     "data": {
      "application/vnd.jupyter.widget-view+json": {
       "model_id": "6389c0b8a9014e249c51673a3d4c1d02",
       "version_major": 2,
       "version_minor": 0
      },
      "text/plain": [
       "rsdscs_Amon_UKESM1-0-LL_piClim-aer_r1...:   0%|          |0.00/35.5M [?B/s]"
      ]
     },
     "metadata": {},
     "output_type": "display_data"
    },
    {
     "data": {
      "application/vnd.jupyter.widget-view+json": {
       "model_id": "4c24788f5cc446adbd892e60d97038ea",
       "version_major": 2,
       "version_minor": 0
      },
      "text/plain": [
       "rlus_Amon_BCC-ESM1_piClim-aer_r1i1p1f...:   0%|          |0.00/12.2M [?B/s]"
      ]
     },
     "metadata": {},
     "output_type": "display_data"
    },
    {
     "data": {
      "application/vnd.jupyter.widget-view+json": {
       "model_id": "5b47b391722d4d2da5bb7ccc361f8b4e",
       "version_major": 2,
       "version_minor": 0
      },
      "text/plain": [
       "rsus_Amon_UKESM1-0-LL_piClim-control_...:   0%|          |0.00/40.1M [?B/s]"
      ]
     },
     "metadata": {},
     "output_type": "display_data"
    },
    {
     "data": {
      "application/vnd.jupyter.widget-view+json": {
       "model_id": "84fb167369504076b9e857d37f5c42de",
       "version_major": 2,
       "version_minor": 0
      },
      "text/plain": [
       "rsut_Amon_CanESM5_piClim-control_r1i1...:   0%|          |0.00/16.5M [?B/s]"
      ]
     },
     "metadata": {},
     "output_type": "display_data"
    },
    {
     "data": {
      "application/vnd.jupyter.widget-view+json": {
       "model_id": "93a3997f3fd844c380d31a01133b3cde",
       "version_major": 2,
       "version_minor": 0
      },
      "text/plain": [
       "rlds_Amon_CanESM5_piClim-aer_r1i1p2f1...:   0%|          |0.00/17.0M [?B/s]"
      ]
     },
     "metadata": {},
     "output_type": "display_data"
    },
    {
     "data": {
      "application/vnd.jupyter.widget-view+json": {
       "model_id": "968e5a4618bd427185cce7ac427964eb",
       "version_major": 2,
       "version_minor": 0
      },
      "text/plain": [
       "clt_Amon_MRI-ESM2-0_piClim-aer_r1i1p1...:   0%|          |0.00/1.84M [?B/s]"
      ]
     },
     "metadata": {},
     "output_type": "display_data"
    },
    {
     "data": {
      "application/vnd.jupyter.widget-view+json": {
       "model_id": "d9290fa8c1a04e598250d3f9fdaccb9e",
       "version_major": 2,
       "version_minor": 0
      },
      "text/plain": [
       "rsus_Amon_MRI-ESM2-0_piClim-aer_r1i1p...:   0%|          |0.00/1.76M [?B/s]"
      ]
     },
     "metadata": {},
     "output_type": "display_data"
    },
    {
     "data": {
      "application/vnd.jupyter.widget-view+json": {
       "model_id": "fa69538787d14709a3235a1559213ff9",
       "version_major": 2,
       "version_minor": 0
      },
      "text/plain": [
       "rsuscs_Amon_MRI-ESM2-0_piClim-aer_r1i...:   0%|          |0.00/47.3M [?B/s]"
      ]
     },
     "metadata": {},
     "output_type": "display_data"
    },
    {
     "data": {
      "application/vnd.jupyter.widget-view+json": {
       "model_id": "d810da9bfaa84459973d917b5ba766ff",
       "version_major": 2,
       "version_minor": 0
      },
      "text/plain": [
       "clt_Amon_NorESM2-LM_piClim-aer_r1i1p1...:   0%|          |0.00/5.00M [?B/s]"
      ]
     },
     "metadata": {},
     "output_type": "display_data"
    },
    {
     "data": {
      "application/vnd.jupyter.widget-view+json": {
       "model_id": "f5ebc292d1d0493295d95dd112c732d0",
       "version_major": 2,
       "version_minor": 0
      },
      "text/plain": [
       "rsuscs_Amon_CESM2_piClim-aer_r1i1p1f1...:   0%|          |0.00/46.8M [?B/s]"
      ]
     },
     "metadata": {},
     "output_type": "display_data"
    },
    {
     "data": {
      "application/vnd.jupyter.widget-view+json": {
       "model_id": "4cf9a13aaf1748cca27907ddd39fd6c2",
       "version_major": 2,
       "version_minor": 0
      },
      "text/plain": [
       "clt_Amon_NorESM2-LM_piClim-aer_r1i1p1...:   0%|          |0.00/5.00M [?B/s]"
      ]
     },
     "metadata": {},
     "output_type": "display_data"
    },
    {
     "data": {
      "application/vnd.jupyter.widget-view+json": {
       "model_id": "bd0a62ebc8ee433fb32586b2f6d38797",
       "version_major": 2,
       "version_minor": 0
      },
      "text/plain": [
       "rlut_Amon_NorESM2-LM_piClim-aer_r1i1p...:   0%|          |0.00/4.55M [?B/s]"
      ]
     },
     "metadata": {},
     "output_type": "display_data"
    },
    {
     "data": {
      "application/vnd.jupyter.widget-view+json": {
       "model_id": "fae06b59c7754103bec70a4d35f87995",
       "version_major": 2,
       "version_minor": 0
      },
      "text/plain": [
       "rsuscs_Amon_NorESM2-LM_piClim-aer_r1i...:   0%|          |0.00/4.26M [?B/s]"
      ]
     },
     "metadata": {},
     "output_type": "display_data"
    },
    {
     "data": {
      "application/vnd.jupyter.widget-view+json": {
       "model_id": "c21dd977a80e4462b12089d1d97f0e7c",
       "version_major": 2,
       "version_minor": 0
      },
      "text/plain": [
       "rsut_Amon_NorESM2-LM_piClim-aer_r1i1p...:   0%|          |0.00/4.72M [?B/s]"
      ]
     },
     "metadata": {},
     "output_type": "display_data"
    },
    {
     "data": {
      "application/vnd.jupyter.widget-view+json": {
       "model_id": "84ae610599b44396b717e3745345a4ab",
       "version_major": 2,
       "version_minor": 0
      },
      "text/plain": [
       "rsdt_Amon_GISS-E2-1-G_piClim-aer_r1i1...:   0%|          |0.00/19.3M [?B/s]"
      ]
     },
     "metadata": {},
     "output_type": "display_data"
    },
    {
     "data": {
      "application/vnd.jupyter.widget-view+json": {
       "model_id": "9f41167e7864403784139fb0a85f6bca",
       "version_major": 2,
       "version_minor": 0
      },
      "text/plain": [
       "rsus_Amon_GISS-E2-1-G_piClim-aer_r1i1...:   0%|          |0.00/19.3M [?B/s]"
      ]
     },
     "metadata": {},
     "output_type": "display_data"
    },
    {
     "data": {
      "application/vnd.jupyter.widget-view+json": {
       "model_id": "79311bbcd3a445b3a1b325f68b373b60",
       "version_major": 2,
       "version_minor": 0
      },
      "text/plain": [
       "rsuscs_Amon_GISS-E2-1-G_piClim-aer_r1...:   0%|          |0.00/19.3M [?B/s]"
      ]
     },
     "metadata": {},
     "output_type": "display_data"
    },
    {
     "data": {
      "application/vnd.jupyter.widget-view+json": {
       "model_id": "4b0947b70bd64428ad435e83b2b5a423",
       "version_major": 2,
       "version_minor": 0
      },
      "text/plain": [
       "rlut_Amon_GISS-E2-1-G_piClim-control_...:   0%|          |0.00/19.3M [?B/s]"
      ]
     },
     "metadata": {},
     "output_type": "display_data"
    },
    {
     "data": {
      "application/vnd.jupyter.widget-view+json": {
       "model_id": "5d7cfd935d1446238ba2bec79ca83548",
       "version_major": 2,
       "version_minor": 0
      },
      "text/plain": [
       "clt_Amon_NorESM2-MM_piClim-aer_r1i1p1...:   0%|          |0.00/19.1M [?B/s]"
      ]
     },
     "metadata": {},
     "output_type": "display_data"
    },
    {
     "data": {
      "application/vnd.jupyter.widget-view+json": {
       "model_id": "ce102f50e0a042db9df0320faeb632fa",
       "version_major": 2,
       "version_minor": 0
      },
      "text/plain": [
       "rlutcs_Amon_NorESM2-MM_piClim-aer_r1i...:   0%|          |0.00/15.8M [?B/s]"
      ]
     },
     "metadata": {},
     "output_type": "display_data"
    },
    {
     "data": {
      "application/vnd.jupyter.widget-view+json": {
       "model_id": "d8bae5d4bd8e4b138e49f5ea0fee1711",
       "version_major": 2,
       "version_minor": 0
      },
      "text/plain": [
       "rlus_Amon_NorESM2-MM_piClim-control_r...:   0%|          |0.00/16.6M [?B/s]"
      ]
     },
     "metadata": {},
     "output_type": "display_data"
    },
    {
     "data": {
      "application/vnd.jupyter.widget-view+json": {
       "model_id": "52ab553c4186448797d43ffd0cbb184e",
       "version_major": 2,
       "version_minor": 0
      },
      "text/plain": [
       "rsus_Amon_NorESM2-MM_piClim-control_r...:   0%|          |0.00/17.2M [?B/s]"
      ]
     },
     "metadata": {},
     "output_type": "display_data"
    },
    {
     "data": {
      "application/vnd.jupyter.widget-view+json": {
       "model_id": "8b2f256644c14a7c8e4783b19b7e7452",
       "version_major": 2,
       "version_minor": 0
      },
      "text/plain": [
       "rlus_Amon_EC-Earth3_piClim-aer_r1i1p1...:   0%|          |0.00/5.19M [?B/s]"
      ]
     },
     "metadata": {},
     "output_type": "display_data"
    },
    {
     "data": {
      "application/vnd.jupyter.widget-view+json": {
       "model_id": "81d3a182708f4101b45b237de572e174",
       "version_major": 2,
       "version_minor": 0
      },
      "text/plain": [
       "rlus_Amon_EC-Earth3_piClim-aer_r1i1p1...:   0%|          |0.00/5.19M [?B/s]"
      ]
     },
     "metadata": {},
     "output_type": "display_data"
    },
    {
     "data": {
      "application/vnd.jupyter.widget-view+json": {
       "model_id": "0f3bac91ce9e47f8a9a587f62439d914",
       "version_major": 2,
       "version_minor": 0
      },
      "text/plain": [
       "rlus_Amon_EC-Earth3_piClim-aer_r1i1p1...:   0%|          |0.00/5.19M [?B/s]"
      ]
     },
     "metadata": {},
     "output_type": "display_data"
    },
    {
     "data": {
      "application/vnd.jupyter.widget-view+json": {
       "model_id": "03470015a5084b94860ad2c294d48784",
       "version_major": 2,
       "version_minor": 0
      },
      "text/plain": [
       "rlus_Amon_EC-Earth3_piClim-aer_r1i1p1...:   0%|          |0.00/5.19M [?B/s]"
      ]
     },
     "metadata": {},
     "output_type": "display_data"
    },
    {
     "data": {
      "application/vnd.jupyter.widget-view+json": {
       "model_id": "8faa44d26e574dcc978e03565e0c9d6c",
       "version_major": 2,
       "version_minor": 0
      },
      "text/plain": [
       "rlus_Amon_EC-Earth3_piClim-aer_r1i1p1...:   0%|          |0.00/5.19M [?B/s]"
      ]
     },
     "metadata": {},
     "output_type": "display_data"
    },
    {
     "data": {
      "application/vnd.jupyter.widget-view+json": {
       "model_id": "f0108e8d6b864cc2a83d8b5befb02d98",
       "version_major": 2,
       "version_minor": 0
      },
      "text/plain": [
       "rlut_Amon_EC-Earth3_piClim-aer_r1i1p1...:   0%|          |0.00/5.22M [?B/s]"
      ]
     },
     "metadata": {},
     "output_type": "display_data"
    },
    {
     "data": {
      "application/vnd.jupyter.widget-view+json": {
       "model_id": "642d919b5b064a528171b3649a50e0de",
       "version_major": 2,
       "version_minor": 0
      },
      "text/plain": [
       "rlus_Amon_EC-Earth3_piClim-aer_r1i1p1...:   0%|          |0.00/5.18M [?B/s]"
      ]
     },
     "metadata": {},
     "output_type": "display_data"
    },
    {
     "data": {
      "application/vnd.jupyter.widget-view+json": {
       "model_id": "3cb5e378d2164e17b8b2ac58d4a3bacd",
       "version_major": 2,
       "version_minor": 0
      },
      "text/plain": [
       "rlut_Amon_EC-Earth3_piClim-aer_r1i1p1...:   0%|          |0.00/5.22M [?B/s]"
      ]
     },
     "metadata": {},
     "output_type": "display_data"
    },
    {
     "data": {
      "application/vnd.jupyter.widget-view+json": {
       "model_id": "ad387b645ccd467184bef416ae23718d",
       "version_major": 2,
       "version_minor": 0
      },
      "text/plain": [
       "rlutcs_Amon_EC-Earth3_piClim-aer_r1i1...:   0%|          |0.00/5.08M [?B/s]"
      ]
     },
     "metadata": {},
     "output_type": "display_data"
    },
    {
     "data": {
      "application/vnd.jupyter.widget-view+json": {
       "model_id": "3ebd7edff58b4deb97596b7452ed2d71",
       "version_major": 2,
       "version_minor": 0
      },
      "text/plain": [
       "rlutcs_Amon_EC-Earth3_piClim-aer_r1i1...:   0%|          |0.00/5.08M [?B/s]"
      ]
     },
     "metadata": {},
     "output_type": "display_data"
    },
    {
     "data": {
      "application/vnd.jupyter.widget-view+json": {
       "model_id": "3d2b9d1eabb24b8a8ec96dbf74d98ab3",
       "version_major": 2,
       "version_minor": 0
      },
      "text/plain": [
       "rlutcs_Amon_EC-Earth3_piClim-aer_r1i1...:   0%|          |0.00/5.08M [?B/s]"
      ]
     },
     "metadata": {},
     "output_type": "display_data"
    },
    {
     "data": {
      "application/vnd.jupyter.widget-view+json": {
       "model_id": "68a374f4c72d459cbd91c4e269df7972",
       "version_major": 2,
       "version_minor": 0
      },
      "text/plain": [
       "rlutcs_Amon_EC-Earth3_piClim-aer_r1i1...:   0%|          |0.00/5.08M [?B/s]"
      ]
     },
     "metadata": {},
     "output_type": "display_data"
    },
    {
     "data": {
      "application/vnd.jupyter.widget-view+json": {
       "model_id": "ad53937fbd864fc185efdc47f97804c8",
       "version_major": 2,
       "version_minor": 0
      },
      "text/plain": [
       "rsds_Amon_EC-Earth3_piClim-aer_r1i1p1...:   0%|          |0.00/5.07M [?B/s]"
      ]
     },
     "metadata": {},
     "output_type": "display_data"
    },
    {
     "data": {
      "application/vnd.jupyter.widget-view+json": {
       "model_id": "913a39812c174aed98077ac6f08e6cf7",
       "version_major": 2,
       "version_minor": 0
      },
      "text/plain": [
       "rsds_Amon_EC-Earth3_piClim-aer_r1i1p1...:   0%|          |0.00/5.07M [?B/s]"
      ]
     },
     "metadata": {},
     "output_type": "display_data"
    },
    {
     "data": {
      "application/vnd.jupyter.widget-view+json": {
       "model_id": "4094a1adf8b0432ea4bfae34ba1cd6cf",
       "version_major": 2,
       "version_minor": 0
      },
      "text/plain": [
       "rsds_Amon_EC-Earth3_piClim-aer_r1i1p1...:   0%|          |0.00/5.08M [?B/s]"
      ]
     },
     "metadata": {},
     "output_type": "display_data"
    },
    {
     "data": {
      "application/vnd.jupyter.widget-view+json": {
       "model_id": "02db377b8b384e4c9f55a44c3fbd26aa",
       "version_major": 2,
       "version_minor": 0
      },
      "text/plain": [
       "rsds_Amon_EC-Earth3_piClim-aer_r1i1p1...:   0%|          |0.00/5.07M [?B/s]"
      ]
     },
     "metadata": {},
     "output_type": "display_data"
    },
    {
     "data": {
      "application/vnd.jupyter.widget-view+json": {
       "model_id": "e46da2398ee14bc1815d8d06923bbc0c",
       "version_major": 2,
       "version_minor": 0
      },
      "text/plain": [
       "rsdscs_Amon_EC-Earth3_piClim-aer_r1i1...:   0%|          |0.00/4.88M [?B/s]"
      ]
     },
     "metadata": {},
     "output_type": "display_data"
    },
    {
     "data": {
      "application/vnd.jupyter.widget-view+json": {
       "model_id": "9d722acf88d74218abe35ea4d07699b4",
       "version_major": 2,
       "version_minor": 0
      },
      "text/plain": [
       "rsdscs_Amon_EC-Earth3_piClim-aer_r1i1...:   0%|          |0.00/4.88M [?B/s]"
      ]
     },
     "metadata": {},
     "output_type": "display_data"
    },
    {
     "data": {
      "application/vnd.jupyter.widget-view+json": {
       "model_id": "e23a688f8b7248d7a409498cccdbf03d",
       "version_major": 2,
       "version_minor": 0
      },
      "text/plain": [
       "rsdscs_Amon_EC-Earth3_piClim-aer_r1i1...:   0%|          |0.00/4.88M [?B/s]"
      ]
     },
     "metadata": {},
     "output_type": "display_data"
    },
    {
     "data": {
      "application/vnd.jupyter.widget-view+json": {
       "model_id": "6b367242d8124980856696da9b0dc775",
       "version_major": 2,
       "version_minor": 0
      },
      "text/plain": [
       "rsdscs_Amon_EC-Earth3_piClim-aer_r1i1...:   0%|          |0.00/4.89M [?B/s]"
      ]
     },
     "metadata": {},
     "output_type": "display_data"
    },
    {
     "data": {
      "application/vnd.jupyter.widget-view+json": {
       "model_id": "d9d41ba6b6034722869fa919a1c0a5a1",
       "version_major": 2,
       "version_minor": 0
      },
      "text/plain": [
       "rsdt_Amon_EC-Earth3_piClim-aer_r1i1p1...:   0%|          |0.00/4.02M [?B/s]"
      ]
     },
     "metadata": {},
     "output_type": "display_data"
    },
    {
     "data": {
      "application/vnd.jupyter.widget-view+json": {
       "model_id": "649da287d1fa4afa8ad5b4bf77b83daa",
       "version_major": 2,
       "version_minor": 0
      },
      "text/plain": [
       "rsus_Amon_EC-Earth3_piClim-aer_r1i1p1...:   0%|          |0.00/5.17M [?B/s]"
      ]
     },
     "metadata": {},
     "output_type": "display_data"
    },
    {
     "data": {
      "application/vnd.jupyter.widget-view+json": {
       "model_id": "145685db913e47dba5f72d63a9ebebdd",
       "version_major": 2,
       "version_minor": 0
      },
      "text/plain": [
       "rsuscs_Amon_EC-Earth3_piClim-aer_r1i1...:   0%|          |0.00/5.17M [?B/s]"
      ]
     },
     "metadata": {},
     "output_type": "display_data"
    },
    {
     "data": {
      "application/vnd.jupyter.widget-view+json": {
       "model_id": "f596b0480f4942358a56a969af30964e",
       "version_major": 2,
       "version_minor": 0
      },
      "text/plain": [
       "rsuscs_Amon_EC-Earth3_piClim-aer_r1i1...:   0%|          |0.00/5.16M [?B/s]"
      ]
     },
     "metadata": {},
     "output_type": "display_data"
    },
    {
     "data": {
      "application/vnd.jupyter.widget-view+json": {
       "model_id": "8766eb1746024a009a9c5f95f449b37e",
       "version_major": 2,
       "version_minor": 0
      },
      "text/plain": [
       "rsut_Amon_EC-Earth3_piClim-aer_r1i1p1...:   0%|          |0.00/5.11M [?B/s]"
      ]
     },
     "metadata": {},
     "output_type": "display_data"
    },
    {
     "data": {
      "application/vnd.jupyter.widget-view+json": {
       "model_id": "3d40b446ae98413188b94994efc0241a",
       "version_major": 2,
       "version_minor": 0
      },
      "text/plain": [
       "rsut_Amon_EC-Earth3_piClim-aer_r1i1p1...:   0%|          |0.00/5.11M [?B/s]"
      ]
     },
     "metadata": {},
     "output_type": "display_data"
    },
    {
     "data": {
      "application/vnd.jupyter.widget-view+json": {
       "model_id": "631362f135d140579889c77357c9d422",
       "version_major": 2,
       "version_minor": 0
      },
      "text/plain": [
       "rsut_Amon_EC-Earth3_piClim-aer_r1i1p1...:   0%|          |0.00/5.11M [?B/s]"
      ]
     },
     "metadata": {},
     "output_type": "display_data"
    },
    {
     "data": {
      "application/vnd.jupyter.widget-view+json": {
       "model_id": "c5b9583f3fda4cfa9bd2d46d00102977",
       "version_major": 2,
       "version_minor": 0
      },
      "text/plain": [
       "rsut_Amon_EC-Earth3_piClim-aer_r1i1p1...:   0%|          |0.00/5.11M [?B/s]"
      ]
     },
     "metadata": {},
     "output_type": "display_data"
    },
    {
     "data": {
      "application/vnd.jupyter.widget-view+json": {
       "model_id": "532c98fcd94b4bc1a4f6690e80cfefd5",
       "version_major": 2,
       "version_minor": 0
      },
      "text/plain": [
       "rsut_Amon_EC-Earth3_piClim-aer_r1i1p1...:   0%|          |0.00/5.11M [?B/s]"
      ]
     },
     "metadata": {},
     "output_type": "display_data"
    },
    {
     "data": {
      "application/vnd.jupyter.widget-view+json": {
       "model_id": "620ccde367de4016854a55cef26901c2",
       "version_major": 2,
       "version_minor": 0
      },
      "text/plain": [
       "rsutcs_Amon_EC-Earth3_piClim-aer_r1i1...:   0%|          |0.00/4.98M [?B/s]"
      ]
     },
     "metadata": {},
     "output_type": "display_data"
    },
    {
     "data": {
      "application/vnd.jupyter.widget-view+json": {
       "model_id": "50a0d28b7b614be59ce699794439aef5",
       "version_major": 2,
       "version_minor": 0
      },
      "text/plain": [
       "rsutcs_Amon_EC-Earth3_piClim-aer_r1i1...:   0%|          |0.00/4.98M [?B/s]"
      ]
     },
     "metadata": {},
     "output_type": "display_data"
    },
    {
     "data": {
      "application/vnd.jupyter.widget-view+json": {
       "model_id": "d2a692dae860494083a962388bd91854",
       "version_major": 2,
       "version_minor": 0
      },
      "text/plain": [
       "rsutcs_Amon_EC-Earth3_piClim-aer_r1i1...:   0%|          |0.00/4.98M [?B/s]"
      ]
     },
     "metadata": {},
     "output_type": "display_data"
    },
    {
     "data": {
      "application/vnd.jupyter.widget-view+json": {
       "model_id": "07152622cb92444cb4b777cb8269f656",
       "version_major": 2,
       "version_minor": 0
      },
      "text/plain": [
       "clt_Amon_EC-Earth3_piClim-aer_r1i1p1f...:   0%|          |0.00/5.35M [?B/s]"
      ]
     },
     "metadata": {},
     "output_type": "display_data"
    },
    {
     "data": {
      "application/vnd.jupyter.widget-view+json": {
       "model_id": "5e7bdbe82ec442fba003ea4b64a25ae8",
       "version_major": 2,
       "version_minor": 0
      },
      "text/plain": [
       "clt_Amon_EC-Earth3_piClim-aer_r1i1p1f...:   0%|          |0.00/5.35M [?B/s]"
      ]
     },
     "metadata": {},
     "output_type": "display_data"
    },
    {
     "data": {
      "application/vnd.jupyter.widget-view+json": {
       "model_id": "7baedd99f128425a87ff40386c33f359",
       "version_major": 2,
       "version_minor": 0
      },
      "text/plain": [
       "clt_Amon_EC-Earth3_piClim-aer_r1i1p1f...:   0%|          |0.00/5.35M [?B/s]"
      ]
     },
     "metadata": {},
     "output_type": "display_data"
    },
    {
     "data": {
      "application/vnd.jupyter.widget-view+json": {
       "model_id": "4a14ffc29a2c404497b0e1d0f7a59439",
       "version_major": 2,
       "version_minor": 0
      },
      "text/plain": [
       "clt_Amon_EC-Earth3_piClim-aer_r1i1p1f...:   0%|          |0.00/5.36M [?B/s]"
      ]
     },
     "metadata": {},
     "output_type": "display_data"
    },
    {
     "data": {
      "application/vnd.jupyter.widget-view+json": {
       "model_id": "f2e113d66de5490b96fe606be148515e",
       "version_major": 2,
       "version_minor": 0
      },
      "text/plain": [
       "clt_Amon_EC-Earth3_piClim-aer_r1i1p1f...:   0%|          |0.00/5.35M [?B/s]"
      ]
     },
     "metadata": {},
     "output_type": "display_data"
    },
    {
     "data": {
      "application/vnd.jupyter.widget-view+json": {
       "model_id": "00d6c86777204cd9a72a0798a34728b2",
       "version_major": 2,
       "version_minor": 0
      },
      "text/plain": [
       "clt_Amon_EC-Earth3_piClim-control_r1i...:   0%|          |0.00/5.35M [?B/s]"
      ]
     },
     "metadata": {},
     "output_type": "display_data"
    },
    {
     "data": {
      "application/vnd.jupyter.widget-view+json": {
       "model_id": "2d401b9039924e9c9e861368bad236ea",
       "version_major": 2,
       "version_minor": 0
      },
      "text/plain": [
       "clt_Amon_EC-Earth3_piClim-control_r1i...:   0%|          |0.00/5.35M [?B/s]"
      ]
     },
     "metadata": {},
     "output_type": "display_data"
    },
    {
     "data": {
      "application/vnd.jupyter.widget-view+json": {
       "model_id": "112a44d617334cc69d105e7ee9b39489",
       "version_major": 2,
       "version_minor": 0
      },
      "text/plain": [
       "clt_Amon_EC-Earth3_piClim-control_r1i...:   0%|          |0.00/5.35M [?B/s]"
      ]
     },
     "metadata": {},
     "output_type": "display_data"
    },
    {
     "data": {
      "application/vnd.jupyter.widget-view+json": {
       "model_id": "93ff63c6d968460f8cb830b681757a29",
       "version_major": 2,
       "version_minor": 0
      },
      "text/plain": [
       "rlds_Amon_EC-Earth3_piClim-control_r1...:   0%|          |0.00/5.25M [?B/s]"
      ]
     },
     "metadata": {},
     "output_type": "display_data"
    },
    {
     "data": {
      "application/vnd.jupyter.widget-view+json": {
       "model_id": "01dd2d32b8984e1593c3a15c5aec41e3",
       "version_major": 2,
       "version_minor": 0
      },
      "text/plain": [
       "rlds_Amon_EC-Earth3_piClim-control_r1...:   0%|          |0.00/5.25M [?B/s]"
      ]
     },
     "metadata": {},
     "output_type": "display_data"
    },
    {
     "data": {
      "application/vnd.jupyter.widget-view+json": {
       "model_id": "344483daaa224732816a827904409525",
       "version_major": 2,
       "version_minor": 0
      },
      "text/plain": [
       "clt_Amon_EC-Earth3_piClim-control_r1i...:   0%|          |0.00/5.35M [?B/s]"
      ]
     },
     "metadata": {},
     "output_type": "display_data"
    },
    {
     "data": {
      "application/vnd.jupyter.widget-view+json": {
       "model_id": "818afd9b7d7440c2855b9fff1bcaae29",
       "version_major": 2,
       "version_minor": 0
      },
      "text/plain": [
       "rlds_Amon_EC-Earth3_piClim-control_r1...:   0%|          |0.00/5.25M [?B/s]"
      ]
     },
     "metadata": {},
     "output_type": "display_data"
    },
    {
     "data": {
      "application/vnd.jupyter.widget-view+json": {
       "model_id": "9da99b6668c948f698f3e14d9e229376",
       "version_major": 2,
       "version_minor": 0
      },
      "text/plain": [
       "rlus_Amon_EC-Earth3_piClim-control_r1...:   0%|          |0.00/5.19M [?B/s]"
      ]
     },
     "metadata": {},
     "output_type": "display_data"
    },
    {
     "data": {
      "application/vnd.jupyter.widget-view+json": {
       "model_id": "99332fa42720407b9f81e3418896cdbc",
       "version_major": 2,
       "version_minor": 0
      },
      "text/plain": [
       "rlus_Amon_EC-Earth3_piClim-control_r1...:   0%|          |0.00/5.19M [?B/s]"
      ]
     },
     "metadata": {},
     "output_type": "display_data"
    },
    {
     "data": {
      "application/vnd.jupyter.widget-view+json": {
       "model_id": "3384294540dd467797763350ddb62f3e",
       "version_major": 2,
       "version_minor": 0
      },
      "text/plain": [
       "rlutcs_Amon_EC-Earth3_piClim-control_...:   0%|          |0.00/5.08M [?B/s]"
      ]
     },
     "metadata": {},
     "output_type": "display_data"
    },
    {
     "data": {
      "application/vnd.jupyter.widget-view+json": {
       "model_id": "3c46e31022fe4f7283014c18e5d2d2af",
       "version_major": 2,
       "version_minor": 0
      },
      "text/plain": [
       "rlutcs_Amon_EC-Earth3_piClim-control_...:   0%|          |0.00/5.08M [?B/s]"
      ]
     },
     "metadata": {},
     "output_type": "display_data"
    },
    {
     "data": {
      "application/vnd.jupyter.widget-view+json": {
       "model_id": "d7874aa3b30f40bbb4c5dd2ee10c2784",
       "version_major": 2,
       "version_minor": 0
      },
      "text/plain": [
       "rsds_Amon_EC-Earth3_piClim-control_r1...:   0%|          |0.00/5.07M [?B/s]"
      ]
     },
     "metadata": {},
     "output_type": "display_data"
    },
    {
     "data": {
      "application/vnd.jupyter.widget-view+json": {
       "model_id": "f0e8e3ad32314f63987530d02fb399a6",
       "version_major": 2,
       "version_minor": 0
      },
      "text/plain": [
       "rsds_Amon_EC-Earth3_piClim-control_r1...:   0%|          |0.00/5.07M [?B/s]"
      ]
     },
     "metadata": {},
     "output_type": "display_data"
    },
    {
     "data": {
      "application/vnd.jupyter.widget-view+json": {
       "model_id": "9048ca380bb749b2b98914a48ca251ee",
       "version_major": 2,
       "version_minor": 0
      },
      "text/plain": [
       "rsdscs_Amon_EC-Earth3_piClim-control_...:   0%|          |0.00/4.87M [?B/s]"
      ]
     },
     "metadata": {},
     "output_type": "display_data"
    },
    {
     "data": {
      "application/vnd.jupyter.widget-view+json": {
       "model_id": "48ebb4126b0440efa3ebc01bf800c1b4",
       "version_major": 2,
       "version_minor": 0
      },
      "text/plain": [
       "rsds_Amon_EC-Earth3_piClim-control_r1...:   0%|          |0.00/5.07M [?B/s]"
      ]
     },
     "metadata": {},
     "output_type": "display_data"
    },
    {
     "data": {
      "application/vnd.jupyter.widget-view+json": {
       "model_id": "53381bd685b64ff88000649e5d6eabc2",
       "version_major": 2,
       "version_minor": 0
      },
      "text/plain": [
       "rsus_Amon_EC-Earth3_piClim-control_r1...:   0%|          |0.00/5.17M [?B/s]"
      ]
     },
     "metadata": {},
     "output_type": "display_data"
    },
    {
     "data": {
      "application/vnd.jupyter.widget-view+json": {
       "model_id": "75a2c8020c98440a856d77919d9e998b",
       "version_major": 2,
       "version_minor": 0
      },
      "text/plain": [
       "rsus_Amon_EC-Earth3_piClim-control_r1...:   0%|          |0.00/5.17M [?B/s]"
      ]
     },
     "metadata": {},
     "output_type": "display_data"
    },
    {
     "data": {
      "application/vnd.jupyter.widget-view+json": {
       "model_id": "10c87ddca7f24cd7a6f63a9634bd29ea",
       "version_major": 2,
       "version_minor": 0
      },
      "text/plain": [
       "rsut_Amon_EC-Earth3_piClim-control_r1...:   0%|          |0.00/5.11M [?B/s]"
      ]
     },
     "metadata": {},
     "output_type": "display_data"
    },
    {
     "data": {
      "application/vnd.jupyter.widget-view+json": {
       "model_id": "ee0d184a522a4b4783857abec123556e",
       "version_major": 2,
       "version_minor": 0
      },
      "text/plain": [
       "rsut_Amon_EC-Earth3_piClim-control_r1...:   0%|          |0.00/5.11M [?B/s]"
      ]
     },
     "metadata": {},
     "output_type": "display_data"
    },
    {
     "data": {
      "application/vnd.jupyter.widget-view+json": {
       "model_id": "f233f66a47314962a1bda4c301ffa1e6",
       "version_major": 2,
       "version_minor": 0
      },
      "text/plain": [
       "rsutcs_Amon_EC-Earth3_piClim-control_...:   0%|          |0.00/4.97M [?B/s]"
      ]
     },
     "metadata": {},
     "output_type": "display_data"
    },
    {
     "data": {
      "application/vnd.jupyter.widget-view+json": {
       "model_id": "0d8d746f1f514f9f9532ce01b3d7d919",
       "version_major": 2,
       "version_minor": 0
      },
      "text/plain": [
       "rsutcs_Amon_EC-Earth3_piClim-control_...:   0%|          |0.00/4.97M [?B/s]"
      ]
     },
     "metadata": {},
     "output_type": "display_data"
    },
    {
     "data": {
      "application/vnd.jupyter.widget-view+json": {
       "model_id": "e69657a027254f3a86ec774c55d84acb",
       "version_major": 2,
       "version_minor": 0
      },
      "text/plain": [
       "rsus_Amon_ACCESS-ESM1-5_piClim-aer_r1...:   0%|          |0.00/31.4M [?B/s]"
      ]
     },
     "metadata": {},
     "output_type": "display_data"
    },
    {
     "data": {
      "application/vnd.jupyter.widget-view+json": {
       "model_id": "8a1798ebfdd04730bdbe969c8781d3a9",
       "version_major": 2,
       "version_minor": 0
      },
      "text/plain": [
       "rsdt_Amon_CNRM-CM6-1_piClim-aer_r1i1p...:   0%|          |0.00/20.5M [?B/s]"
      ]
     },
     "metadata": {},
     "output_type": "display_data"
    },
    {
     "data": {
      "application/vnd.jupyter.widget-view+json": {
       "model_id": "59e0e3d0c9e14370a86aafc84ce27cc9",
       "version_major": 2,
       "version_minor": 0
      },
      "text/plain": [
       "rsus_Amon_CNRM-CM6-1_piClim-aer_r1i1p...:   0%|          |0.00/32.9M [?B/s]"
      ]
     },
     "metadata": {},
     "output_type": "display_data"
    },
    {
     "data": {
      "application/vnd.jupyter.widget-view+json": {
       "model_id": "ad5faa1f5967478caad3a0f42f7583e8",
       "version_major": 2,
       "version_minor": 0
      },
      "text/plain": [
       "rsuscs_Amon_CNRM-CM6-1_piClim-aer_r1i...:   0%|          |0.00/30.0M [?B/s]"
      ]
     },
     "metadata": {},
     "output_type": "display_data"
    },
    {
     "data": {
      "application/vnd.jupyter.widget-view+json": {
       "model_id": "d9f625b3982a40689f12aab089ac75d2",
       "version_major": 2,
       "version_minor": 0
      },
      "text/plain": [
       "rlus_Amon_MPI-ESM-1-2-HAM_piClim-aer_...:   0%|          |0.00/3.76M [?B/s]"
      ]
     },
     "metadata": {},
     "output_type": "display_data"
    },
    {
     "data": {
      "application/vnd.jupyter.widget-view+json": {
       "model_id": "a3e3b1ae3e064d878b6c1c9fb299d414",
       "version_major": 2,
       "version_minor": 0
      },
      "text/plain": [
       "rlds_Amon_IPSL-CM6A-LR_piClim-aer_r1i...:   0%|          |0.00/20.4M [?B/s]"
      ]
     },
     "metadata": {},
     "output_type": "display_data"
    },
    {
     "data": {
      "application/vnd.jupyter.widget-view+json": {
       "model_id": "f475ee49198f4ab4ae693c507d85bb1c",
       "version_major": 2,
       "version_minor": 0
      },
      "text/plain": [
       "rlut_Amon_MPI-ESM-1-2-HAM_piClim-aer_...:   0%|          |0.00/4.09M [?B/s]"
      ]
     },
     "metadata": {},
     "output_type": "display_data"
    },
    {
     "data": {
      "application/vnd.jupyter.widget-view+json": {
       "model_id": "7826ab5c9b914f799be9d7bb5598c2b9",
       "version_major": 2,
       "version_minor": 0
      },
      "text/plain": [
       "rsutcs_Amon_MPI-ESM-1-2-HAM_piClim-ae...:   0%|          |0.00/3.43M [?B/s]"
      ]
     },
     "metadata": {},
     "output_type": "display_data"
    },
    {
     "data": {
      "application/vnd.jupyter.widget-view+json": {
       "model_id": "53f80d131eb34cfe9e35b657fe174800",
       "version_major": 2,
       "version_minor": 0
      },
      "text/plain": [
       "rsds_Amon_MPI-ESM-1-2-HAM_piClim-aer_...:   0%|          |0.00/4.46M [?B/s]"
      ]
     },
     "metadata": {},
     "output_type": "display_data"
    },
    {
     "data": {
      "application/vnd.jupyter.widget-view+json": {
       "model_id": "414e625b077a436380bb3bb43fbd545f",
       "version_major": 2,
       "version_minor": 0
      },
      "text/plain": [
       "rsus_Amon_MIROC6_piClim-aer_r1i1p1f1_...:   0%|          |0.00/32.9M [?B/s]"
      ]
     },
     "metadata": {},
     "output_type": "display_data"
    },
    {
     "data": {
      "application/vnd.jupyter.widget-view+json": {
       "model_id": "ef0418ad80c847e58bd3b09e95d6e438",
       "version_major": 2,
       "version_minor": 0
      },
      "text/plain": [
       "rlds_Amon_MIROC6_piClim-control_r1i1p...:   0%|          |0.00/30.9M [?B/s]"
      ]
     },
     "metadata": {},
     "output_type": "display_data"
    },
    {
     "data": {
      "application/vnd.jupyter.widget-view+json": {
       "model_id": "9fce3f9435ea4e879821bdc3fda1b345",
       "version_major": 2,
       "version_minor": 0
      },
      "text/plain": [
       "clt_Amon_MPI-ESM-1-2-HAM_piClim-contr...:   0%|          |0.00/5.99M [?B/s]"
      ]
     },
     "metadata": {},
     "output_type": "display_data"
    },
    {
     "data": {
      "application/vnd.jupyter.widget-view+json": {
       "model_id": "ce3cef8552b74ef1858130bc006f33b9",
       "version_major": 2,
       "version_minor": 0
      },
      "text/plain": [
       "rsus_Amon_MPI-ESM-1-2-HAM_piClim-cont...:   0%|          |0.00/8.27M [?B/s]"
      ]
     },
     "metadata": {},
     "output_type": "display_data"
    },
    {
     "data": {
      "application/vnd.jupyter.widget-view+json": {
       "model_id": "ba3f50b0fa88400f9e003b3598bf93d6",
       "version_major": 2,
       "version_minor": 0
      },
      "text/plain": [
       "rsutcs_Amon_MIROC6_piClim-control_r1i...:   0%|          |0.00/28.5M [?B/s]"
      ]
     },
     "metadata": {},
     "output_type": "display_data"
    },
    {
     "data": {
      "application/vnd.jupyter.widget-view+json": {
       "model_id": "461fa75894d7469db7689270738ae062",
       "version_major": 2,
       "version_minor": 0
      },
      "text/plain": [
       "rsus_Amon_GFDL-CM4_piClim-aer_r1i1p1f...:   0%|          |0.00/52.0M [?B/s]"
      ]
     },
     "metadata": {},
     "output_type": "display_data"
    },
    {
     "data": {
      "application/vnd.jupyter.widget-view+json": {
       "model_id": "f7e5bbf7c42f45978dc838ab682a43df",
       "version_major": 2,
       "version_minor": 0
      },
      "text/plain": [
       "rsut_Amon_GFDL-CM4_piClim-aer_r1i1p1f...:   0%|          |0.00/51.3M [?B/s]"
      ]
     },
     "metadata": {},
     "output_type": "display_data"
    },
    {
     "data": {
      "application/vnd.jupyter.widget-view+json": {
       "model_id": "e3eee15d6016460889db2494eef583f1",
       "version_major": 2,
       "version_minor": 0
      },
      "text/plain": [
       "rlutcs_Amon_GISS-E2-1-G_piClim-aer_r1...:   0%|          |0.00/19.3M [?B/s]"
      ]
     },
     "metadata": {},
     "output_type": "display_data"
    },
    {
     "data": {
      "application/vnd.jupyter.widget-view+json": {
       "model_id": "741e56071e9843299e6523a58ad01144",
       "version_major": 2,
       "version_minor": 0
      },
      "text/plain": [
       "rsdt_Amon_GISS-E2-1-G_piClim-control_...:   0%|          |0.00/19.3M [?B/s]"
      ]
     },
     "metadata": {},
     "output_type": "display_data"
    },
    {
     "data": {
      "application/vnd.jupyter.widget-view+json": {
       "model_id": "b6217dc068e843d0b9f922634168eeb9",
       "version_major": 2,
       "version_minor": 0
      },
      "text/plain": [
       "clt_Amon_MRI-ESM2-0_piClim-aer_r1i1p1...:   0%|          |0.00/53.4M [?B/s]"
      ]
     },
     "metadata": {},
     "output_type": "display_data"
    },
    {
     "data": {
      "application/vnd.jupyter.widget-view+json": {
       "model_id": "34a59bb343f343a0a9dbb96f914035e9",
       "version_major": 2,
       "version_minor": 0
      },
      "text/plain": [
       "rlus_Amon_MRI-ESM2-0_piClim-aer_r1i1p...:   0%|          |0.00/46.5M [?B/s]"
      ]
     },
     "metadata": {},
     "output_type": "display_data"
    },
    {
     "data": {
      "application/vnd.jupyter.widget-view+json": {
       "model_id": "8b5263b58aef4c639c67fe827087be5d",
       "version_major": 2,
       "version_minor": 0
      },
      "text/plain": [
       "rsuscs_Amon_MRI-ESM2-0_piClim-aer_r1i...:   0%|          |0.00/1.63M [?B/s]"
      ]
     },
     "metadata": {},
     "output_type": "display_data"
    },
    {
     "data": {
      "application/vnd.jupyter.widget-view+json": {
       "model_id": "e42c0d2e35e341f4ba6a40cfa7ee2361",
       "version_major": 2,
       "version_minor": 0
      },
      "text/plain": [
       "rsds_Amon_MRI-ESM2-0_piClim-aer_r1i1p...:   0%|          |0.00/1.69M [?B/s]"
      ]
     },
     "metadata": {},
     "output_type": "display_data"
    },
    {
     "data": {
      "application/vnd.jupyter.widget-view+json": {
       "model_id": "68187b31493d4ff2872872742593c0e6",
       "version_major": 2,
       "version_minor": 0
      },
      "text/plain": [
       "rlut_Amon_MRI-ESM2-0_piClim-control_r...:   0%|          |0.00/47.0M [?B/s]"
      ]
     },
     "metadata": {},
     "output_type": "display_data"
    },
    {
     "data": {
      "application/vnd.jupyter.widget-view+json": {
       "model_id": "9e281d3fc8e0442f9e97a6f2917c9328",
       "version_major": 2,
       "version_minor": 0
      },
      "text/plain": [
       "rsus_Amon_MRI-ESM2-0_piClim-control_r...:   0%|          |0.00/1.76M [?B/s]"
      ]
     },
     "metadata": {},
     "output_type": "display_data"
    },
    {
     "data": {
      "application/vnd.jupyter.widget-view+json": {
       "model_id": "930cb559c1d248ddadf29cf750f18d84",
       "version_major": 2,
       "version_minor": 0
      },
      "text/plain": [
       "rsut_Amon_MRI-ESM2-0_piClim-control_r...:   0%|          |0.00/1.74M [?B/s]"
      ]
     },
     "metadata": {},
     "output_type": "display_data"
    },
    {
     "data": {
      "application/vnd.jupyter.widget-view+json": {
       "model_id": "8f9dd680b41644f488aa00bd4fd494c0",
       "version_major": 2,
       "version_minor": 0
      },
      "text/plain": [
       "rlus_Amon_GFDL-CM4_piClim-control_r1i...:   0%|          |0.00/47.4M [?B/s]"
      ]
     },
     "metadata": {},
     "output_type": "display_data"
    },
    {
     "data": {
      "application/vnd.jupyter.widget-view+json": {
       "model_id": "f1e20245b4264dc19733b6ad98d9e4dd",
       "version_major": 2,
       "version_minor": 0
      },
      "text/plain": [
       "rsut_Amon_GFDL-CM4_piClim-control_r1i...:   0%|          |0.00/51.4M [?B/s]"
      ]
     },
     "metadata": {},
     "output_type": "display_data"
    },
    {
     "data": {
      "application/vnd.jupyter.widget-view+json": {
       "model_id": "41cfb6c145bc4717889221e423a552aa",
       "version_major": 2,
       "version_minor": 0
      },
      "text/plain": [
       "rlus_Amon_GFDL-CM4_piClim-aer_r1i1p1f...:   0%|          |0.00/47.4M [?B/s]"
      ]
     },
     "metadata": {},
     "output_type": "display_data"
    },
    {
     "data": {
      "application/vnd.jupyter.widget-view+json": {
       "model_id": "e94eb3933a7e45469c83ba09cb2b6bbd",
       "version_major": 2,
       "version_minor": 0
      },
      "text/plain": [
       "rlutcs_Amon_NorESM2-MM_piClim-aer_r1i...:   0%|          |0.00/15.8M [?B/s]"
      ]
     },
     "metadata": {},
     "output_type": "display_data"
    },
    {
     "data": {
      "application/vnd.jupyter.widget-view+json": {
       "model_id": "7df7b994b24944838c25b7333682cd71",
       "version_major": 2,
       "version_minor": 0
      },
      "text/plain": [
       "rsut_Amon_NorESM2-MM_piClim-aer_r1i1p...:   0%|          |0.00/18.1M [?B/s]"
      ]
     },
     "metadata": {},
     "output_type": "display_data"
    },
    {
     "data": {
      "application/vnd.jupyter.widget-view+json": {
       "model_id": "6a69b761b4664b28b78c9ddf0cd23c27",
       "version_major": 2,
       "version_minor": 0
      },
      "text/plain": [
       "rsut_Amon_NorESM2-MM_piClim-aer_r1i1p...:   0%|          |0.00/18.1M [?B/s]"
      ]
     },
     "metadata": {},
     "output_type": "display_data"
    },
    {
     "data": {
      "application/vnd.jupyter.widget-view+json": {
       "model_id": "fcf57530318748b5b6b56e759d267673",
       "version_major": 2,
       "version_minor": 0
      },
      "text/plain": [
       "clt_Amon_NorESM2-MM_piClim-control_r1...:   0%|          |0.00/19.1M [?B/s]"
      ]
     },
     "metadata": {},
     "output_type": "display_data"
    },
    {
     "data": {
      "application/vnd.jupyter.widget-view+json": {
       "model_id": "cd6d80ccb5c1440da7941b635609c80e",
       "version_major": 2,
       "version_minor": 0
      },
      "text/plain": [
       "rlds_Amon_NorESM2-MM_piClim-control_r...:   0%|          |0.00/17.1M [?B/s]"
      ]
     },
     "metadata": {},
     "output_type": "display_data"
    },
    {
     "data": {
      "application/vnd.jupyter.widget-view+json": {
       "model_id": "4871c467b38f4c19b6ac1d55ba8c691b",
       "version_major": 2,
       "version_minor": 0
      },
      "text/plain": [
       "rlus_Amon_NorESM2-MM_piClim-control_r...:   0%|          |0.00/16.6M [?B/s]"
      ]
     },
     "metadata": {},
     "output_type": "display_data"
    },
    {
     "data": {
      "application/vnd.jupyter.widget-view+json": {
       "model_id": "a9d6682bfa364e46a7620716f4ccc852",
       "version_major": 2,
       "version_minor": 0
      },
      "text/plain": [
       "rlus_Amon_NorESM2-MM_piClim-control_r...:   0%|          |0.00/16.6M [?B/s]"
      ]
     },
     "metadata": {},
     "output_type": "display_data"
    },
    {
     "data": {
      "application/vnd.jupyter.widget-view+json": {
       "model_id": "e3562a8be6fa40a59a39fae3b4fd41e5",
       "version_major": 2,
       "version_minor": 0
      },
      "text/plain": [
       "rlut_Amon_NorESM2-MM_piClim-control_r...:   0%|          |0.00/16.7M [?B/s]"
      ]
     },
     "metadata": {},
     "output_type": "display_data"
    },
    {
     "data": {
      "application/vnd.jupyter.widget-view+json": {
       "model_id": "deb094fe52da42ef96fa84149339081e",
       "version_major": 2,
       "version_minor": 0
      },
      "text/plain": [
       "rsut_Amon_NorESM2-MM_piClim-control_r...:   0%|          |0.00/18.1M [?B/s]"
      ]
     },
     "metadata": {},
     "output_type": "display_data"
    },
    {
     "data": {
      "application/vnd.jupyter.widget-view+json": {
       "model_id": "ab75df6ed8a0460792442719cd1d0273",
       "version_major": 2,
       "version_minor": 0
      },
      "text/plain": [
       "rsutcs_Amon_NorESM2-MM_piClim-control...:   0%|          |0.00/15.7M [?B/s]"
      ]
     },
     "metadata": {},
     "output_type": "display_data"
    },
    {
     "data": {
      "application/vnd.jupyter.widget-view+json": {
       "model_id": "169398ba49be40e086b92c3c0e50c466",
       "version_major": 2,
       "version_minor": 0
      },
      "text/plain": [
       "rlds_Amon_EC-Earth3_piClim-aer_r1i1p1...:   0%|          |0.00/5.26M [?B/s]"
      ]
     },
     "metadata": {},
     "output_type": "display_data"
    },
    {
     "data": {
      "application/vnd.jupyter.widget-view+json": {
       "model_id": "9923d9f498c84484a922fda4abe8c76e",
       "version_major": 2,
       "version_minor": 0
      },
      "text/plain": [
       "rlds_Amon_EC-Earth3_piClim-aer_r1i1p1...:   0%|          |0.00/5.25M [?B/s]"
      ]
     },
     "metadata": {},
     "output_type": "display_data"
    },
    {
     "data": {
      "application/vnd.jupyter.widget-view+json": {
       "model_id": "90835c80419043b8a0a1ba80d5135297",
       "version_major": 2,
       "version_minor": 0
      },
      "text/plain": [
       "rlds_Amon_EC-Earth3_piClim-aer_r1i1p1...:   0%|          |0.00/5.25M [?B/s]"
      ]
     },
     "metadata": {},
     "output_type": "display_data"
    },
    {
     "data": {
      "application/vnd.jupyter.widget-view+json": {
       "model_id": "a91f89fac6314e6a93ef1fb352f541a2",
       "version_major": 2,
       "version_minor": 0
      },
      "text/plain": [
       "rlus_Amon_EC-Earth3_piClim-aer_r1i1p1...:   0%|          |0.00/5.19M [?B/s]"
      ]
     },
     "metadata": {},
     "output_type": "display_data"
    },
    {
     "data": {
      "application/vnd.jupyter.widget-view+json": {
       "model_id": "737ea30afd02488393975460500019a0",
       "version_major": 2,
       "version_minor": 0
      },
      "text/plain": [
       "rlds_Amon_EC-Earth3_piClim-aer_r1i1p1...:   0%|          |0.00/5.26M [?B/s]"
      ]
     },
     "metadata": {},
     "output_type": "display_data"
    },
    {
     "data": {
      "application/vnd.jupyter.widget-view+json": {
       "model_id": "107c2a9dbfaa44288ccc5dd5a4dbe3f8",
       "version_major": 2,
       "version_minor": 0
      },
      "text/plain": [
       "rlut_Amon_EC-Earth3_piClim-aer_r1i1p1...:   0%|          |0.00/5.23M [?B/s]"
      ]
     },
     "metadata": {},
     "output_type": "display_data"
    },
    {
     "data": {
      "application/vnd.jupyter.widget-view+json": {
       "model_id": "53259939b8f4405ea2a818cb287ad394",
       "version_major": 2,
       "version_minor": 0
      },
      "text/plain": [
       "rlus_Amon_EC-Earth3_piClim-aer_r1i1p1...:   0%|          |0.00/5.19M [?B/s]"
      ]
     },
     "metadata": {},
     "output_type": "display_data"
    },
    {
     "data": {
      "application/vnd.jupyter.widget-view+json": {
       "model_id": "0c92b5a48bb24feb9b6c4c507c0d876b",
       "version_major": 2,
       "version_minor": 0
      },
      "text/plain": [
       "rlut_Amon_EC-Earth3_piClim-aer_r1i1p1...:   0%|          |0.00/5.22M [?B/s]"
      ]
     },
     "metadata": {},
     "output_type": "display_data"
    },
    {
     "data": {
      "application/vnd.jupyter.widget-view+json": {
       "model_id": "6b57df6eb6664ff5b355d95950c347d5",
       "version_major": 2,
       "version_minor": 0
      },
      "text/plain": [
       "rlut_Amon_EC-Earth3_piClim-aer_r1i1p1...:   0%|          |0.00/5.23M [?B/s]"
      ]
     },
     "metadata": {},
     "output_type": "display_data"
    },
    {
     "data": {
      "application/vnd.jupyter.widget-view+json": {
       "model_id": "53ea64e193b046eb8fa7125ee8820910",
       "version_major": 2,
       "version_minor": 0
      },
      "text/plain": [
       "rlut_Amon_EC-Earth3_piClim-aer_r1i1p1...:   0%|          |0.00/5.22M [?B/s]"
      ]
     },
     "metadata": {},
     "output_type": "display_data"
    },
    {
     "data": {
      "application/vnd.jupyter.widget-view+json": {
       "model_id": "4adf0c53ff5247c787c932bd56ae51aa",
       "version_major": 2,
       "version_minor": 0
      },
      "text/plain": [
       "rlut_Amon_EC-Earth3_piClim-aer_r1i1p1...:   0%|          |0.00/5.22M [?B/s]"
      ]
     },
     "metadata": {},
     "output_type": "display_data"
    },
    {
     "data": {
      "application/vnd.jupyter.widget-view+json": {
       "model_id": "c5cd63efdb814d97ad8e6e00ba5799f2",
       "version_major": 2,
       "version_minor": 0
      },
      "text/plain": [
       "rlut_Amon_EC-Earth3_piClim-aer_r1i1p1...:   0%|          |0.00/5.22M [?B/s]"
      ]
     },
     "metadata": {},
     "output_type": "display_data"
    },
    {
     "data": {
      "application/vnd.jupyter.widget-view+json": {
       "model_id": "9b05e6f4ad0546e6be61dfbb935887b7",
       "version_major": 2,
       "version_minor": 0
      },
      "text/plain": [
       "rlut_Amon_EC-Earth3_piClim-aer_r1i1p1...:   0%|          |0.00/5.23M [?B/s]"
      ]
     },
     "metadata": {},
     "output_type": "display_data"
    },
    {
     "data": {
      "application/vnd.jupyter.widget-view+json": {
       "model_id": "7dd50864062f4c7082d7b2bcb680f087",
       "version_major": 2,
       "version_minor": 0
      },
      "text/plain": [
       "rlut_Amon_EC-Earth3_piClim-aer_r1i1p1...:   0%|          |0.00/5.23M [?B/s]"
      ]
     },
     "metadata": {},
     "output_type": "display_data"
    },
    {
     "data": {
      "application/vnd.jupyter.widget-view+json": {
       "model_id": "f200bf875a424f7cbe505bd0aee3a513",
       "version_major": 2,
       "version_minor": 0
      },
      "text/plain": [
       "rlutcs_Amon_EC-Earth3_piClim-aer_r1i1...:   0%|          |0.00/5.08M [?B/s]"
      ]
     },
     "metadata": {},
     "output_type": "display_data"
    },
    {
     "data": {
      "application/vnd.jupyter.widget-view+json": {
       "model_id": "2226ca03688d46c998d10137743c1b12",
       "version_major": 2,
       "version_minor": 0
      },
      "text/plain": [
       "rlutcs_Amon_EC-Earth3_piClim-aer_r1i1...:   0%|          |0.00/5.08M [?B/s]"
      ]
     },
     "metadata": {},
     "output_type": "display_data"
    },
    {
     "data": {
      "application/vnd.jupyter.widget-view+json": {
       "model_id": "778db066a55e461c9f32b390e8ff2381",
       "version_major": 2,
       "version_minor": 0
      },
      "text/plain": [
       "rlutcs_Amon_EC-Earth3_piClim-aer_r1i1...:   0%|          |0.00/5.08M [?B/s]"
      ]
     },
     "metadata": {},
     "output_type": "display_data"
    },
    {
     "data": {
      "application/vnd.jupyter.widget-view+json": {
       "model_id": "dd3785dbc940414d9a5473b6f745cb5e",
       "version_major": 2,
       "version_minor": 0
      },
      "text/plain": [
       "rlutcs_Amon_EC-Earth3_piClim-aer_r1i1...:   0%|          |0.00/5.08M [?B/s]"
      ]
     },
     "metadata": {},
     "output_type": "display_data"
    },
    {
     "data": {
      "application/vnd.jupyter.widget-view+json": {
       "model_id": "283afcf9dfcd45d6a12f46fe82a21630",
       "version_major": 2,
       "version_minor": 0
      },
      "text/plain": [
       "rlutcs_Amon_EC-Earth3_piClim-aer_r1i1...:   0%|          |0.00/5.08M [?B/s]"
      ]
     },
     "metadata": {},
     "output_type": "display_data"
    },
    {
     "data": {
      "application/vnd.jupyter.widget-view+json": {
       "model_id": "69a1885613934a6a8b89ddde7d9ffc2f",
       "version_major": 2,
       "version_minor": 0
      },
      "text/plain": [
       "rsds_Amon_EC-Earth3_piClim-aer_r1i1p1...:   0%|          |0.00/5.08M [?B/s]"
      ]
     },
     "metadata": {},
     "output_type": "display_data"
    },
    {
     "data": {
      "application/vnd.jupyter.widget-view+json": {
       "model_id": "14dbddd612a44451860742902131ee6f",
       "version_major": 2,
       "version_minor": 0
      },
      "text/plain": [
       "rsds_Amon_EC-Earth3_piClim-aer_r1i1p1...:   0%|          |0.00/5.07M [?B/s]"
      ]
     },
     "metadata": {},
     "output_type": "display_data"
    },
    {
     "data": {
      "application/vnd.jupyter.widget-view+json": {
       "model_id": "082f32eae089419f97bd335f2dc5f358",
       "version_major": 2,
       "version_minor": 0
      },
      "text/plain": [
       "rsds_Amon_EC-Earth3_piClim-aer_r1i1p1...:   0%|          |0.00/5.07M [?B/s]"
      ]
     },
     "metadata": {},
     "output_type": "display_data"
    },
    {
     "data": {
      "application/vnd.jupyter.widget-view+json": {
       "model_id": "25a2470001844bdc88b415dd0e45896d",
       "version_major": 2,
       "version_minor": 0
      },
      "text/plain": [
       "rsdscs_Amon_EC-Earth3_piClim-aer_r1i1...:   0%|          |0.00/4.88M [?B/s]"
      ]
     },
     "metadata": {},
     "output_type": "display_data"
    },
    {
     "data": {
      "application/vnd.jupyter.widget-view+json": {
       "model_id": "124e22c211df4627ac97f61e21fab235",
       "version_major": 2,
       "version_minor": 0
      },
      "text/plain": [
       "rsdscs_Amon_EC-Earth3_piClim-aer_r1i1...:   0%|          |0.00/4.88M [?B/s]"
      ]
     },
     "metadata": {},
     "output_type": "display_data"
    },
    {
     "data": {
      "application/vnd.jupyter.widget-view+json": {
       "model_id": "f43986df38e7471aa526ac90094c43d7",
       "version_major": 2,
       "version_minor": 0
      },
      "text/plain": [
       "rsdscs_Amon_EC-Earth3_piClim-aer_r1i1...:   0%|          |0.00/4.88M [?B/s]"
      ]
     },
     "metadata": {},
     "output_type": "display_data"
    },
    {
     "data": {
      "application/vnd.jupyter.widget-view+json": {
       "model_id": "d9f1e369863642788382dffbf0839018",
       "version_major": 2,
       "version_minor": 0
      },
      "text/plain": [
       "rsdscs_Amon_EC-Earth3_piClim-aer_r1i1...:   0%|          |0.00/4.88M [?B/s]"
      ]
     },
     "metadata": {},
     "output_type": "display_data"
    },
    {
     "data": {
      "application/vnd.jupyter.widget-view+json": {
       "model_id": "0f3002d34839411281ab90c6f108d01f",
       "version_major": 2,
       "version_minor": 0
      },
      "text/plain": [
       "rsdt_Amon_EC-Earth3_piClim-aer_r1i1p1...:   0%|          |0.00/4.03M [?B/s]"
      ]
     },
     "metadata": {},
     "output_type": "display_data"
    },
    {
     "data": {
      "application/vnd.jupyter.widget-view+json": {
       "model_id": "f08a5231653441c5a930bb7550466494",
       "version_major": 2,
       "version_minor": 0
      },
      "text/plain": [
       "rsdt_Amon_EC-Earth3_piClim-aer_r1i1p1...:   0%|          |0.00/4.02M [?B/s]"
      ]
     },
     "metadata": {},
     "output_type": "display_data"
    },
    {
     "data": {
      "application/vnd.jupyter.widget-view+json": {
       "model_id": "1f38e2f20f884a3d9e5dd13602879cf1",
       "version_major": 2,
       "version_minor": 0
      },
      "text/plain": [
       "rsdt_Amon_EC-Earth3_piClim-aer_r1i1p1...:   0%|          |0.00/4.03M [?B/s]"
      ]
     },
     "metadata": {},
     "output_type": "display_data"
    },
    {
     "data": {
      "application/vnd.jupyter.widget-view+json": {
       "model_id": "57a8f2d076b6414fb65d16a70bd7a5f3",
       "version_major": 2,
       "version_minor": 0
      },
      "text/plain": [
       "rsdt_Amon_EC-Earth3_piClim-aer_r1i1p1...:   0%|          |0.00/4.02M [?B/s]"
      ]
     },
     "metadata": {},
     "output_type": "display_data"
    },
    {
     "data": {
      "application/vnd.jupyter.widget-view+json": {
       "model_id": "c5383b19ffa643c68bf930a744a3e040",
       "version_major": 2,
       "version_minor": 0
      },
      "text/plain": [
       "rsdt_Amon_EC-Earth3_piClim-aer_r1i1p1...:   0%|          |0.00/4.02M [?B/s]"
      ]
     },
     "metadata": {},
     "output_type": "display_data"
    },
    {
     "data": {
      "application/vnd.jupyter.widget-view+json": {
       "model_id": "6f367e9c43a849818401d68aafbe38de",
       "version_major": 2,
       "version_minor": 0
      },
      "text/plain": [
       "rsus_Amon_EC-Earth3_piClim-aer_r1i1p1...:   0%|          |0.00/5.17M [?B/s]"
      ]
     },
     "metadata": {},
     "output_type": "display_data"
    },
    {
     "data": {
      "application/vnd.jupyter.widget-view+json": {
       "model_id": "cdffd816311c4dfb9e04e90d2fb34087",
       "version_major": 2,
       "version_minor": 0
      },
      "text/plain": [
       "rsus_Amon_EC-Earth3_piClim-aer_r1i1p1...:   0%|          |0.00/5.17M [?B/s]"
      ]
     },
     "metadata": {},
     "output_type": "display_data"
    },
    {
     "data": {
      "application/vnd.jupyter.widget-view+json": {
       "model_id": "ed715c650203485cb0713c48818c8fb8",
       "version_major": 2,
       "version_minor": 0
      },
      "text/plain": [
       "rsus_Amon_EC-Earth3_piClim-aer_r1i1p1...:   0%|          |0.00/5.17M [?B/s]"
      ]
     },
     "metadata": {},
     "output_type": "display_data"
    },
    {
     "data": {
      "application/vnd.jupyter.widget-view+json": {
       "model_id": "852f9abe2ae545e5b891e35d02d5ce9a",
       "version_major": 2,
       "version_minor": 0
      },
      "text/plain": [
       "rsut_Amon_EC-Earth3_piClim-aer_r1i1p1...:   0%|          |0.00/5.11M [?B/s]"
      ]
     },
     "metadata": {},
     "output_type": "display_data"
    },
    {
     "data": {
      "application/vnd.jupyter.widget-view+json": {
       "model_id": "34898a0fd5c44d22a0852a76cc943a70",
       "version_major": 2,
       "version_minor": 0
      },
      "text/plain": [
       "rsut_Amon_EC-Earth3_piClim-aer_r1i1p1...:   0%|          |0.00/5.11M [?B/s]"
      ]
     },
     "metadata": {},
     "output_type": "display_data"
    },
    {
     "data": {
      "application/vnd.jupyter.widget-view+json": {
       "model_id": "0fc0d2a5af9b4953ac89927322963a39",
       "version_major": 2,
       "version_minor": 0
      },
      "text/plain": [
       "rsut_Amon_EC-Earth3_piClim-aer_r1i1p1...:   0%|          |0.00/5.11M [?B/s]"
      ]
     },
     "metadata": {},
     "output_type": "display_data"
    },
    {
     "data": {
      "application/vnd.jupyter.widget-view+json": {
       "model_id": "a38095b138e543c69c34272acae07883",
       "version_major": 2,
       "version_minor": 0
      },
      "text/plain": [
       "rsutcs_Amon_EC-Earth3_piClim-aer_r1i1...:   0%|          |0.00/4.98M [?B/s]"
      ]
     },
     "metadata": {},
     "output_type": "display_data"
    },
    {
     "data": {
      "application/vnd.jupyter.widget-view+json": {
       "model_id": "7d0fd11ddd6c404c90a7eb2fdd58a176",
       "version_major": 2,
       "version_minor": 0
      },
      "text/plain": [
       "clt_Amon_EC-Earth3_piClim-control_r1i...:   0%|          |0.00/5.35M [?B/s]"
      ]
     },
     "metadata": {},
     "output_type": "display_data"
    },
    {
     "data": {
      "application/vnd.jupyter.widget-view+json": {
       "model_id": "15c8a1eebc5b43e4a08fddecdc44e6e9",
       "version_major": 2,
       "version_minor": 0
      },
      "text/plain": [
       "rsutcs_Amon_EC-Earth3_piClim-aer_r1i1...:   0%|          |0.00/4.98M [?B/s]"
      ]
     },
     "metadata": {},
     "output_type": "display_data"
    },
    {
     "data": {
      "application/vnd.jupyter.widget-view+json": {
       "model_id": "46ae5d4c857c4c86b6295ff7cc44160d",
       "version_major": 2,
       "version_minor": 0
      },
      "text/plain": [
       "clt_Amon_EC-Earth3_piClim-control_r1i...:   0%|          |0.00/5.35M [?B/s]"
      ]
     },
     "metadata": {},
     "output_type": "display_data"
    },
    {
     "data": {
      "application/vnd.jupyter.widget-view+json": {
       "model_id": "e3ee5b77c61f49858625a097b80f05bc",
       "version_major": 2,
       "version_minor": 0
      },
      "text/plain": [
       "clt_Amon_EC-Earth3_piClim-control_r1i...:   0%|          |0.00/5.35M [?B/s]"
      ]
     },
     "metadata": {},
     "output_type": "display_data"
    },
    {
     "data": {
      "application/vnd.jupyter.widget-view+json": {
       "model_id": "f4e8457e87cb4e31ad46d994589b1557",
       "version_major": 2,
       "version_minor": 0
      },
      "text/plain": [
       "clt_Amon_EC-Earth3_piClim-control_r1i...:   0%|          |0.00/5.35M [?B/s]"
      ]
     },
     "metadata": {},
     "output_type": "display_data"
    },
    {
     "data": {
      "application/vnd.jupyter.widget-view+json": {
       "model_id": "ae1ad708f48145c7b4be8e846fe78cdf",
       "version_major": 2,
       "version_minor": 0
      },
      "text/plain": [
       "clt_Amon_EC-Earth3_piClim-control_r1i...:   0%|          |0.00/5.35M [?B/s]"
      ]
     },
     "metadata": {},
     "output_type": "display_data"
    },
    {
     "data": {
      "application/vnd.jupyter.widget-view+json": {
       "model_id": "783ddffa1e0c4161b2bc1bd352b31e01",
       "version_major": 2,
       "version_minor": 0
      },
      "text/plain": [
       "clt_Amon_EC-Earth3_piClim-control_r1i...:   0%|          |0.00/5.35M [?B/s]"
      ]
     },
     "metadata": {},
     "output_type": "display_data"
    },
    {
     "data": {
      "application/vnd.jupyter.widget-view+json": {
       "model_id": "549a71053f5a49ab8952e68042fee417",
       "version_major": 2,
       "version_minor": 0
      },
      "text/plain": [
       "rlds_Amon_EC-Earth3_piClim-control_r1...:   0%|          |0.00/5.26M [?B/s]"
      ]
     },
     "metadata": {},
     "output_type": "display_data"
    },
    {
     "data": {
      "application/vnd.jupyter.widget-view+json": {
       "model_id": "2202a154ec0e46b58aa3e0ed59469831",
       "version_major": 2,
       "version_minor": 0
      },
      "text/plain": [
       "clt_Amon_EC-Earth3_piClim-control_r1i...:   0%|          |0.00/5.35M [?B/s]"
      ]
     },
     "metadata": {},
     "output_type": "display_data"
    },
    {
     "data": {
      "application/vnd.jupyter.widget-view+json": {
       "model_id": "5e8ff37a9e794c95a47026ee1ad73e0f",
       "version_major": 2,
       "version_minor": 0
      },
      "text/plain": [
       "rlds_Amon_EC-Earth3_piClim-control_r1...:   0%|          |0.00/5.26M [?B/s]"
      ]
     },
     "metadata": {},
     "output_type": "display_data"
    },
    {
     "data": {
      "application/vnd.jupyter.widget-view+json": {
       "model_id": "cc6c0a2c362c442686444fa3ce3917d7",
       "version_major": 2,
       "version_minor": 0
      },
      "text/plain": [
       "rlus_Amon_EC-Earth3_piClim-control_r1...:   0%|          |0.00/5.19M [?B/s]"
      ]
     },
     "metadata": {},
     "output_type": "display_data"
    },
    {
     "data": {
      "application/vnd.jupyter.widget-view+json": {
       "model_id": "1a6d084cfb8b417cb8ffabd3a019f6c9",
       "version_major": 2,
       "version_minor": 0
      },
      "text/plain": [
       "rlus_Amon_EC-Earth3_piClim-control_r1...:   0%|          |0.00/5.19M [?B/s]"
      ]
     },
     "metadata": {},
     "output_type": "display_data"
    },
    {
     "data": {
      "application/vnd.jupyter.widget-view+json": {
       "model_id": "993428b3366a4aeb895a20b87ba5d284",
       "version_major": 2,
       "version_minor": 0
      },
      "text/plain": [
       "rlut_Amon_EC-Earth3_piClim-control_r1...:   0%|          |0.00/5.22M [?B/s]"
      ]
     },
     "metadata": {},
     "output_type": "display_data"
    },
    {
     "data": {
      "application/vnd.jupyter.widget-view+json": {
       "model_id": "94f2156d6a004e5ea66394ec46a298d3",
       "version_major": 2,
       "version_minor": 0
      },
      "text/plain": [
       "rlut_Amon_EC-Earth3_piClim-control_r1...:   0%|          |0.00/5.22M [?B/s]"
      ]
     },
     "metadata": {},
     "output_type": "display_data"
    },
    {
     "data": {
      "application/vnd.jupyter.widget-view+json": {
       "model_id": "32ed74923f86404c84314a83c22e212e",
       "version_major": 2,
       "version_minor": 0
      },
      "text/plain": [
       "rlut_Amon_EC-Earth3_piClim-control_r1...:   0%|          |0.00/5.22M [?B/s]"
      ]
     },
     "metadata": {},
     "output_type": "display_data"
    },
    {
     "data": {
      "application/vnd.jupyter.widget-view+json": {
       "model_id": "0cb0720da7964af08c261c3fb666d614",
       "version_major": 2,
       "version_minor": 0
      },
      "text/plain": [
       "rlut_Amon_EC-Earth3_piClim-control_r1...:   0%|          |0.00/5.23M [?B/s]"
      ]
     },
     "metadata": {},
     "output_type": "display_data"
    },
    {
     "data": {
      "application/vnd.jupyter.widget-view+json": {
       "model_id": "c4fc305629924367acfc62b0f8a3adc1",
       "version_major": 2,
       "version_minor": 0
      },
      "text/plain": [
       "rlutcs_Amon_EC-Earth3_piClim-control_...:   0%|          |0.00/5.08M [?B/s]"
      ]
     },
     "metadata": {},
     "output_type": "display_data"
    },
    {
     "data": {
      "application/vnd.jupyter.widget-view+json": {
       "model_id": "e3c4a01478544ae0a00386dfae072ebd",
       "version_major": 2,
       "version_minor": 0
      },
      "text/plain": [
       "rlutcs_Amon_EC-Earth3_piClim-control_...:   0%|          |0.00/5.08M [?B/s]"
      ]
     },
     "metadata": {},
     "output_type": "display_data"
    },
    {
     "data": {
      "application/vnd.jupyter.widget-view+json": {
       "model_id": "3802bcc80ec64ea58d8f0b4498b0fada",
       "version_major": 2,
       "version_minor": 0
      },
      "text/plain": [
       "rsds_Amon_EC-Earth3_piClim-control_r1...:   0%|          |0.00/5.07M [?B/s]"
      ]
     },
     "metadata": {},
     "output_type": "display_data"
    },
    {
     "data": {
      "application/vnd.jupyter.widget-view+json": {
       "model_id": "05d8bfd3aa7b4eff8850d4b33492d9bd",
       "version_major": 2,
       "version_minor": 0
      },
      "text/plain": [
       "rsds_Amon_EC-Earth3_piClim-control_r1...:   0%|          |0.00/5.07M [?B/s]"
      ]
     },
     "metadata": {},
     "output_type": "display_data"
    },
    {
     "data": {
      "application/vnd.jupyter.widget-view+json": {
       "model_id": "1e022fbe859445c6b40a0a20ecc1e385",
       "version_major": 2,
       "version_minor": 0
      },
      "text/plain": [
       "rsds_Amon_EC-Earth3_piClim-control_r1...:   0%|          |0.00/5.07M [?B/s]"
      ]
     },
     "metadata": {},
     "output_type": "display_data"
    },
    {
     "data": {
      "application/vnd.jupyter.widget-view+json": {
       "model_id": "631e3f9d5fdd4d91a2a70ee5323797ee",
       "version_major": 2,
       "version_minor": 0
      },
      "text/plain": [
       "rsdscs_Amon_EC-Earth3_piClim-control_...:   0%|          |0.00/4.86M [?B/s]"
      ]
     },
     "metadata": {},
     "output_type": "display_data"
    },
    {
     "data": {
      "application/vnd.jupyter.widget-view+json": {
       "model_id": "7961da2050714c4780f1d1686f67b68a",
       "version_major": 2,
       "version_minor": 0
      },
      "text/plain": [
       "rsdscs_Amon_EC-Earth3_piClim-control_...:   0%|          |0.00/4.87M [?B/s]"
      ]
     },
     "metadata": {},
     "output_type": "display_data"
    },
    {
     "data": {
      "application/vnd.jupyter.widget-view+json": {
       "model_id": "62732ee88f1e42e4a8ef77b3209a0d4b",
       "version_major": 2,
       "version_minor": 0
      },
      "text/plain": [
       "rsdscs_Amon_EC-Earth3_piClim-control_...:   0%|          |0.00/4.87M [?B/s]"
      ]
     },
     "metadata": {},
     "output_type": "display_data"
    },
    {
     "data": {
      "application/vnd.jupyter.widget-view+json": {
       "model_id": "7fa3d213efcb48d88ec1d96178949115",
       "version_major": 2,
       "version_minor": 0
      },
      "text/plain": [
       "rsdt_Amon_EC-Earth3_piClim-control_r1...:   0%|          |0.00/4.03M [?B/s]"
      ]
     },
     "metadata": {},
     "output_type": "display_data"
    },
    {
     "data": {
      "application/vnd.jupyter.widget-view+json": {
       "model_id": "20232b746c964f1d9d93994b31b5d305",
       "version_major": 2,
       "version_minor": 0
      },
      "text/plain": [
       "rsus_Amon_EC-Earth3_piClim-control_r1...:   0%|          |0.00/5.17M [?B/s]"
      ]
     },
     "metadata": {},
     "output_type": "display_data"
    },
    {
     "data": {
      "application/vnd.jupyter.widget-view+json": {
       "model_id": "3d0b966d4ef4446b885bd19e3bd4bcf1",
       "version_major": 2,
       "version_minor": 0
      },
      "text/plain": [
       "rsus_Amon_EC-Earth3_piClim-control_r1...:   0%|          |0.00/5.17M [?B/s]"
      ]
     },
     "metadata": {},
     "output_type": "display_data"
    },
    {
     "data": {
      "application/vnd.jupyter.widget-view+json": {
       "model_id": "ea39f63387a44e469712656c1692852d",
       "version_major": 2,
       "version_minor": 0
      },
      "text/plain": [
       "rsus_Amon_EC-Earth3_piClim-control_r1...:   0%|          |0.00/5.17M [?B/s]"
      ]
     },
     "metadata": {},
     "output_type": "display_data"
    },
    {
     "data": {
      "application/vnd.jupyter.widget-view+json": {
       "model_id": "72a03f7b46704269b95c17f48c0dcfe4",
       "version_major": 2,
       "version_minor": 0
      },
      "text/plain": [
       "rsus_Amon_EC-Earth3_piClim-control_r1...:   0%|          |0.00/5.17M [?B/s]"
      ]
     },
     "metadata": {},
     "output_type": "display_data"
    },
    {
     "data": {
      "application/vnd.jupyter.widget-view+json": {
       "model_id": "0df420d9cba4476c99d4946db572fde0",
       "version_major": 2,
       "version_minor": 0
      },
      "text/plain": [
       "rsuscs_Amon_EC-Earth3_piClim-control_...:   0%|          |0.00/5.16M [?B/s]"
      ]
     },
     "metadata": {},
     "output_type": "display_data"
    },
    {
     "data": {
      "application/vnd.jupyter.widget-view+json": {
       "model_id": "3d6e11bd7c7747f59562c13a9c43841f",
       "version_major": 2,
       "version_minor": 0
      },
      "text/plain": [
       "rsuscs_Amon_EC-Earth3_piClim-control_...:   0%|          |0.00/5.17M [?B/s]"
      ]
     },
     "metadata": {},
     "output_type": "display_data"
    },
    {
     "data": {
      "application/vnd.jupyter.widget-view+json": {
       "model_id": "c06f5b354a7f4dd9a505e210a678b145",
       "version_major": 2,
       "version_minor": 0
      },
      "text/plain": [
       "rsuscs_Amon_EC-Earth3_piClim-control_...:   0%|          |0.00/5.16M [?B/s]"
      ]
     },
     "metadata": {},
     "output_type": "display_data"
    },
    {
     "data": {
      "application/vnd.jupyter.widget-view+json": {
       "model_id": "6e2a123af8c64df5ba76c56653803523",
       "version_major": 2,
       "version_minor": 0
      },
      "text/plain": [
       "rsuscs_Amon_EC-Earth3_piClim-control_...:   0%|          |0.00/5.16M [?B/s]"
      ]
     },
     "metadata": {},
     "output_type": "display_data"
    },
    {
     "data": {
      "application/vnd.jupyter.widget-view+json": {
       "model_id": "72c0a0638a1d4d24acb3105ef33bc581",
       "version_major": 2,
       "version_minor": 0
      },
      "text/plain": [
       "rsuscs_Amon_EC-Earth3_piClim-control_...:   0%|          |0.00/5.16M [?B/s]"
      ]
     },
     "metadata": {},
     "output_type": "display_data"
    },
    {
     "data": {
      "application/vnd.jupyter.widget-view+json": {
       "model_id": "2a3581ac33354e4a9325e0ffd05c5e0d",
       "version_major": 2,
       "version_minor": 0
      },
      "text/plain": [
       "rsuscs_Amon_EC-Earth3_piClim-control_...:   0%|          |0.00/5.16M [?B/s]"
      ]
     },
     "metadata": {},
     "output_type": "display_data"
    },
    {
     "data": {
      "application/vnd.jupyter.widget-view+json": {
       "model_id": "6b200105aae84ae4b27c62a40c0509e1",
       "version_major": 2,
       "version_minor": 0
      },
      "text/plain": [
       "rsut_Amon_EC-Earth3_piClim-control_r1...:   0%|          |0.00/5.11M [?B/s]"
      ]
     },
     "metadata": {},
     "output_type": "display_data"
    },
    {
     "data": {
      "application/vnd.jupyter.widget-view+json": {
       "model_id": "58d6ed7971da4603990c2dd9e9bf028d",
       "version_major": 2,
       "version_minor": 0
      },
      "text/plain": [
       "rsut_Amon_EC-Earth3_piClim-control_r1...:   0%|          |0.00/5.11M [?B/s]"
      ]
     },
     "metadata": {},
     "output_type": "display_data"
    },
    {
     "data": {
      "application/vnd.jupyter.widget-view+json": {
       "model_id": "c57769ef67fd4cca8561f5a0bf2daf35",
       "version_major": 2,
       "version_minor": 0
      },
      "text/plain": [
       "rsut_Amon_EC-Earth3_piClim-control_r1...:   0%|          |0.00/5.11M [?B/s]"
      ]
     },
     "metadata": {},
     "output_type": "display_data"
    },
    {
     "data": {
      "application/vnd.jupyter.widget-view+json": {
       "model_id": "664b015ec0424d028e4c0f514fc3eaa9",
       "version_major": 2,
       "version_minor": 0
      },
      "text/plain": [
       "rsut_Amon_EC-Earth3_piClim-control_r1...:   0%|          |0.00/5.11M [?B/s]"
      ]
     },
     "metadata": {},
     "output_type": "display_data"
    },
    {
     "data": {
      "application/vnd.jupyter.widget-view+json": {
       "model_id": "c292af6facc640638f9b4a5b90d90757",
       "version_major": 2,
       "version_minor": 0
      },
      "text/plain": [
       "rsut_Amon_EC-Earth3_piClim-control_r1...:   0%|          |0.00/5.11M [?B/s]"
      ]
     },
     "metadata": {},
     "output_type": "display_data"
    },
    {
     "data": {
      "application/vnd.jupyter.widget-view+json": {
       "model_id": "6807f2e4d98b4c3d99d6ce9c28ad7d5a",
       "version_major": 2,
       "version_minor": 0
      },
      "text/plain": [
       "rsut_Amon_EC-Earth3_piClim-control_r1...:   0%|          |0.00/5.11M [?B/s]"
      ]
     },
     "metadata": {},
     "output_type": "display_data"
    },
    {
     "data": {
      "application/vnd.jupyter.widget-view+json": {
       "model_id": "ca5792afa46c4568acb23494516ea1bc",
       "version_major": 2,
       "version_minor": 0
      },
      "text/plain": [
       "rsutcs_Amon_EC-Earth3_piClim-control_...:   0%|          |0.00/4.97M [?B/s]"
      ]
     },
     "metadata": {},
     "output_type": "display_data"
    },
    {
     "data": {
      "application/vnd.jupyter.widget-view+json": {
       "model_id": "67eac772c17842b4bdb948c6b302dd7d",
       "version_major": 2,
       "version_minor": 0
      },
      "text/plain": [
       "rsutcs_Amon_EC-Earth3_piClim-control_...:   0%|          |0.00/4.97M [?B/s]"
      ]
     },
     "metadata": {},
     "output_type": "display_data"
    },
    {
     "data": {
      "application/vnd.jupyter.widget-view+json": {
       "model_id": "9cdb7b156dde4830a1face2ec36edc5e",
       "version_major": 2,
       "version_minor": 0
      },
      "text/plain": [
       "rsutcs_Amon_EC-Earth3_piClim-control_...:   0%|          |0.00/4.97M [?B/s]"
      ]
     },
     "metadata": {},
     "output_type": "display_data"
    },
    {
     "data": {
      "application/vnd.jupyter.widget-view+json": {
       "model_id": "90fe2dd39a4a4729840d97fd940796e6",
       "version_major": 2,
       "version_minor": 0
      },
      "text/plain": [
       "rsutcs_Amon_EC-Earth3_piClim-control_...:   0%|          |0.00/4.97M [?B/s]"
      ]
     },
     "metadata": {},
     "output_type": "display_data"
    },
    {
     "data": {
      "application/vnd.jupyter.widget-view+json": {
       "model_id": "20838407765446309af0a844972e141f",
       "version_major": 2,
       "version_minor": 0
      },
      "text/plain": [
       "rlutcs_Amon_ACCESS-ESM1-5_piClim-cont...:   0%|          |0.00/32.6M [?B/s]"
      ]
     },
     "metadata": {},
     "output_type": "display_data"
    },
    {
     "data": {
      "application/vnd.jupyter.widget-view+json": {
       "model_id": "ab5bf67eb7bf4bf388e05e372618fa92",
       "version_major": 2,
       "version_minor": 0
      },
      "text/plain": [
       "rsdt_Amon_ACCESS-ESM1-5_piClim-aer_r1...:   0%|          |0.00/549k [?B/s]"
      ]
     },
     "metadata": {},
     "output_type": "display_data"
    },
    {
     "data": {
      "application/vnd.jupyter.widget-view+json": {
       "model_id": "6dd28b50ef2c4918a1639385fc8370f4",
       "version_major": 2,
       "version_minor": 0
      },
      "text/plain": [
       "rsut_Amon_CNRM-CM6-1_piClim-control_r...:   0%|          |0.00/32.4M [?B/s]"
      ]
     },
     "metadata": {},
     "output_type": "display_data"
    },
    {
     "data": {
      "application/vnd.jupyter.widget-view+json": {
       "model_id": "a67e91552a674d91933a89a226ad04ec",
       "version_major": 2,
       "version_minor": 0
      },
      "text/plain": [
       "rsdscs_Amon_CNRM-ESM2-1_piClim-contro...:   0%|          |0.00/26.6M [?B/s]"
      ]
     },
     "metadata": {},
     "output_type": "display_data"
    },
    {
     "data": {
      "application/vnd.jupyter.widget-view+json": {
       "model_id": "390aa6d1acf0418596589504ad30911c",
       "version_major": 2,
       "version_minor": 0
      },
      "text/plain": [
       "rlus_Amon_CNRM-CM6-1_piClim-control_r...:   0%|          |0.00/29.4M [?B/s]"
      ]
     },
     "metadata": {},
     "output_type": "display_data"
    },
    {
     "data": {
      "application/vnd.jupyter.widget-view+json": {
       "model_id": "6bb085168e77428faee0675f94959def",
       "version_major": 2,
       "version_minor": 0
      },
      "text/plain": [
       "rsuscs_Amon_CNRM-ESM2-1_piClim-contro...:   0%|          |0.00/30.0M [?B/s]"
      ]
     },
     "metadata": {},
     "output_type": "display_data"
    },
    {
     "data": {
      "application/vnd.jupyter.widget-view+json": {
       "model_id": "14ecb018e65b4f558f7be5c7a681b2a8",
       "version_major": 2,
       "version_minor": 0
      },
      "text/plain": [
       "rlutcs_Amon_BCC-ESM1_piClim-control_r...:   0%|          |0.00/12.2M [?B/s]"
      ]
     },
     "metadata": {},
     "output_type": "display_data"
    },
    {
     "data": {
      "application/vnd.jupyter.widget-view+json": {
       "model_id": "ed83894916854be497453f861036651e",
       "version_major": 2,
       "version_minor": 0
      },
      "text/plain": [
       "clt_Amon_BCC-ESM1_piClim-aer_r1i1p1f1...:   0%|          |0.00/12.2M [?B/s]"
      ]
     },
     "metadata": {},
     "output_type": "display_data"
    },
    {
     "data": {
      "application/vnd.jupyter.widget-view+json": {
       "model_id": "2926850fcfb749a19d845b8d3e2fc277",
       "version_major": 2,
       "version_minor": 0
      },
      "text/plain": [
       "rlutcs_Amon_BCC-ESM1_piClim-aer_r1i1p...:   0%|          |0.00/12.2M [?B/s]"
      ]
     },
     "metadata": {},
     "output_type": "display_data"
    },
    {
     "data": {
      "application/vnd.jupyter.widget-view+json": {
       "model_id": "514d5dc8173d4a3995c802b0fe4e9242",
       "version_major": 2,
       "version_minor": 0
      },
      "text/plain": [
       "rsuscs_Amon_BCC-ESM1_piClim-aer_r1i1p...:   0%|          |0.00/12.2M [?B/s]"
      ]
     },
     "metadata": {},
     "output_type": "display_data"
    },
    {
     "data": {
      "application/vnd.jupyter.widget-view+json": {
       "model_id": "d8a6f3ac01e740f3930a901e1c73acab",
       "version_major": 2,
       "version_minor": 0
      },
      "text/plain": [
       "rlds_Amon_UKESM1-0-LL_piClim-aer_r1i1...:   0%|          |0.00/35.5M [?B/s]"
      ]
     },
     "metadata": {},
     "output_type": "display_data"
    },
    {
     "data": {
      "application/vnd.jupyter.widget-view+json": {
       "model_id": "328224fa92454374a9f27b9f57ccb150",
       "version_major": 2,
       "version_minor": 0
      },
      "text/plain": [
       "rlds_Amon_UKESM1-0-LL_piClim-control_...:   0%|          |0.00/35.5M [?B/s]"
      ]
     },
     "metadata": {},
     "output_type": "display_data"
    },
    {
     "data": {
      "application/vnd.jupyter.widget-view+json": {
       "model_id": "811201763c384e96813281d491fed5bd",
       "version_major": 2,
       "version_minor": 0
      },
      "text/plain": [
       "rsdt_Amon_CESM2_piClim-aer_r1i1p1f1_g...:   0%|          |0.00/36.7M [?B/s]"
      ]
     },
     "metadata": {},
     "output_type": "display_data"
    },
    {
     "data": {
      "application/vnd.jupyter.widget-view+json": {
       "model_id": "8518fe03e8fa4c9096c3b9ec0a6b2b33",
       "version_major": 2,
       "version_minor": 0
      },
      "text/plain": [
       "rsutcs_Amon_CESM2_piClim-aer_r1i1p1f1...:   0%|          |0.00/47.1M [?B/s]"
      ]
     },
     "metadata": {},
     "output_type": "display_data"
    },
    {
     "data": {
      "application/vnd.jupyter.widget-view+json": {
       "model_id": "dac6b862e96142249d70cc5b5257ea87",
       "version_major": 2,
       "version_minor": 0
      },
      "text/plain": [
       "rsut_Amon_CESM2_piClim-control_r1i1p1...:   0%|          |0.00/54.2M [?B/s]"
      ]
     },
     "metadata": {},
     "output_type": "display_data"
    },
    {
     "data": {
      "application/vnd.jupyter.widget-view+json": {
       "model_id": "da020dc2d8724c8780262e47a5c0de03",
       "version_major": 2,
       "version_minor": 0
      },
      "text/plain": [
       "rlds_Amon_NorESM2-LM_piClim-aer_r1i1p...:   0%|          |0.00/4.63M [?B/s]"
      ]
     },
     "metadata": {},
     "output_type": "display_data"
    },
    {
     "data": {
      "application/vnd.jupyter.widget-view+json": {
       "model_id": "6ba231ad1b604b58aef846ebfc44ef07",
       "version_major": 2,
       "version_minor": 0
      },
      "text/plain": [
       "rlds_Amon_NorESM2-LM_piClim-aer_r1i1p...:   0%|          |0.00/4.63M [?B/s]"
      ]
     },
     "metadata": {},
     "output_type": "display_data"
    },
    {
     "data": {
      "application/vnd.jupyter.widget-view+json": {
       "model_id": "8a82b12c838143b391f43412a04457df",
       "version_major": 2,
       "version_minor": 0
      },
      "text/plain": [
       "rsuscs_Amon_NorESM2-LM_piClim-aer_r1i...:   0%|          |0.00/4.25M [?B/s]"
      ]
     },
     "metadata": {},
     "output_type": "display_data"
    },
    {
     "data": {
      "application/vnd.jupyter.widget-view+json": {
       "model_id": "c762bc91cc074f1ba5aadbd31decf19c",
       "version_major": 2,
       "version_minor": 0
      },
      "text/plain": [
       "rsutcs_Amon_NorESM2-LM_piClim-aer_r1i...:   0%|          |0.00/4.33M [?B/s]"
      ]
     },
     "metadata": {},
     "output_type": "display_data"
    },
    {
     "data": {
      "application/vnd.jupyter.widget-view+json": {
       "model_id": "e6551f7cc6224bda8a97f636e5114714",
       "version_major": 2,
       "version_minor": 0
      },
      "text/plain": [
       "rlds_Amon_NorESM2-LM_piClim-control_r...:   0%|          |0.00/4.63M [?B/s]"
      ]
     },
     "metadata": {},
     "output_type": "display_data"
    },
    {
     "data": {
      "application/vnd.jupyter.widget-view+json": {
       "model_id": "cf78da6c1c894dd3a527671f1dfae29f",
       "version_major": 2,
       "version_minor": 0
      },
      "text/plain": [
       "rlus_Amon_NorESM2-LM_piClim-control_r...:   0%|          |0.00/4.49M [?B/s]"
      ]
     },
     "metadata": {},
     "output_type": "display_data"
    },
    {
     "data": {
      "application/vnd.jupyter.widget-view+json": {
       "model_id": "0b966f4c6dc54bdebc828825a5f87381",
       "version_major": 2,
       "version_minor": 0
      },
      "text/plain": [
       "rlut_Amon_NorESM2-LM_piClim-control_r...:   0%|          |0.00/4.55M [?B/s]"
      ]
     },
     "metadata": {},
     "output_type": "display_data"
    },
    {
     "data": {
      "application/vnd.jupyter.widget-view+json": {
       "model_id": "29e103b405e64a0190a978130d3ac5bd",
       "version_major": 2,
       "version_minor": 0
      },
      "text/plain": [
       "rsds_Amon_NorESM2-LM_piClim-control_r...:   0%|          |0.00/4.72M [?B/s]"
      ]
     },
     "metadata": {},
     "output_type": "display_data"
    },
    {
     "data": {
      "application/vnd.jupyter.widget-view+json": {
       "model_id": "fedeb35d23114f21a0615e235cf3a3f4",
       "version_major": 2,
       "version_minor": 0
      },
      "text/plain": [
       "rsds_Amon_NorESM2-LM_piClim-control_r...:   0%|          |0.00/4.72M [?B/s]"
      ]
     },
     "metadata": {},
     "output_type": "display_data"
    },
    {
     "data": {
      "application/vnd.jupyter.widget-view+json": {
       "model_id": "588a2bc44e8148698b5955c1f81f14cf",
       "version_major": 2,
       "version_minor": 0
      },
      "text/plain": [
       "rsdscs_Amon_NorESM2-LM_piClim-control...:   0%|          |0.00/4.05M [?B/s]"
      ]
     },
     "metadata": {},
     "output_type": "display_data"
    },
    {
     "data": {
      "application/vnd.jupyter.widget-view+json": {
       "model_id": "5592b12669fd4eb2963133995b88dda6",
       "version_major": 2,
       "version_minor": 0
      },
      "text/plain": [
       "rsut_Amon_NorESM2-LM_piClim-control_r...:   0%|          |0.00/4.72M [?B/s]"
      ]
     },
     "metadata": {},
     "output_type": "display_data"
    },
    {
     "data": {
      "application/vnd.jupyter.widget-view+json": {
       "model_id": "5530e75b9182437d9e917464befaea95",
       "version_major": 2,
       "version_minor": 0
      },
      "text/plain": [
       "rsds_Amon_CanESM5_piClim-aer_r1i1p2f1...:   0%|          |0.00/16.5M [?B/s]"
      ]
     },
     "metadata": {},
     "output_type": "display_data"
    },
    {
     "data": {
      "application/vnd.jupyter.widget-view+json": {
       "model_id": "489b692b8d304cc0b938dc8c0fc6b7d3",
       "version_major": 2,
       "version_minor": 0
      },
      "text/plain": [
       "rsds_Amon_MPI-ESM-1-2-HAM_piClim-aer_...:   0%|          |0.00/8.89M [?B/s]"
      ]
     },
     "metadata": {},
     "output_type": "display_data"
    },
    {
     "data": {
      "application/vnd.jupyter.widget-view+json": {
       "model_id": "70859e27fd1a48598419881ac222fd73",
       "version_major": 2,
       "version_minor": 0
      },
      "text/plain": [
       "rlutcs_Amon_MPI-ESM-1-2-HAM_piClim-ae...:   0%|          |0.00/7.67M [?B/s]"
      ]
     },
     "metadata": {},
     "output_type": "display_data"
    },
    {
     "data": {
      "application/vnd.jupyter.widget-view+json": {
       "model_id": "547f2299a3a041bf9b849e1a0d9ebfbe",
       "version_major": 2,
       "version_minor": 0
      },
      "text/plain": [
       "rsus_Amon_MPI-ESM-1-2-HAM_piClim-aer_...:   0%|          |0.00/8.27M [?B/s]"
      ]
     },
     "metadata": {},
     "output_type": "display_data"
    },
    {
     "data": {
      "application/vnd.jupyter.widget-view+json": {
       "model_id": "b0e53da7c1424d47953c331b406bf968",
       "version_major": 2,
       "version_minor": 0
      },
      "text/plain": [
       "rsutcs_Amon_MPI-ESM-1-2-HAM_piClim-ae...:   0%|          |0.00/6.80M [?B/s]"
      ]
     },
     "metadata": {},
     "output_type": "display_data"
    },
    {
     "data": {
      "application/vnd.jupyter.widget-view+json": {
       "model_id": "dd5229dc459e468c8381cc18313050ed",
       "version_major": 2,
       "version_minor": 0
      },
      "text/plain": [
       "rsdscs_Amon_MIROC6_piClim-aer_r1i1p1f...:   0%|          |0.00/26.3M [?B/s]"
      ]
     },
     "metadata": {},
     "output_type": "display_data"
    },
    {
     "data": {
      "application/vnd.jupyter.widget-view+json": {
       "model_id": "f6424ae2d4304e41aec70e1e80cf2be2",
       "version_major": 2,
       "version_minor": 0
      },
      "text/plain": [
       "rsdt_Amon_MIROC6_piClim-aer_r1i1p1f1_...:   0%|          |0.00/12.6M [?B/s]"
      ]
     },
     "metadata": {},
     "output_type": "display_data"
    },
    {
     "data": {
      "application/vnd.jupyter.widget-view+json": {
       "model_id": "3cc49dc3fb5249e19791d2aa5fa6b0df",
       "version_major": 2,
       "version_minor": 0
      },
      "text/plain": [
       "clt_Amon_IPSL-CM6A-LR-INCA_piClim-con...:   0%|          |0.00/22.2M [?B/s]"
      ]
     },
     "metadata": {},
     "output_type": "display_data"
    },
    {
     "data": {
      "application/vnd.jupyter.widget-view+json": {
       "model_id": "1c76f7e44ec941f99799c1982eca0c8b",
       "version_major": 2,
       "version_minor": 0
      },
      "text/plain": [
       "clt_Amon_MIROC6_piClim-control_r1i1p1...:   0%|          |0.00/34.5M [?B/s]"
      ]
     },
     "metadata": {},
     "output_type": "display_data"
    },
    {
     "data": {
      "application/vnd.jupyter.widget-view+json": {
       "model_id": "8a1bf67e47c34d059b58a803ed97306f",
       "version_major": 2,
       "version_minor": 0
      },
      "text/plain": [
       "rsdscs_Amon_IPSL-CM6A-LR-INCA_piClim-...:   0%|          |0.00/17.9M [?B/s]"
      ]
     },
     "metadata": {},
     "output_type": "display_data"
    },
    {
     "data": {
      "application/vnd.jupyter.widget-view+json": {
       "model_id": "66390f4363ee426d894f725562f553f3",
       "version_major": 2,
       "version_minor": 0
      },
      "text/plain": [
       "rsdt_Amon_IPSL-CM6A-LR-INCA_piClim-ae...:   0%|          |0.00/13.6M [?B/s]"
      ]
     },
     "metadata": {},
     "output_type": "display_data"
    },
    {
     "data": {
      "application/vnd.jupyter.widget-view+json": {
       "model_id": "c782b23222634a6fa74b93fa4f427a06",
       "version_major": 2,
       "version_minor": 0
      },
      "text/plain": [
       "rsdt_Amon_MIROC6_piClim-control_r1i1p...:   0%|          |0.00/12.6M [?B/s]"
      ]
     },
     "metadata": {},
     "output_type": "display_data"
    },
    {
     "data": {
      "application/vnd.jupyter.widget-view+json": {
       "model_id": "a0e2d52b72cb44f7a8f189848da55de6",
       "version_major": 2,
       "version_minor": 0
      },
      "text/plain": [
       "rsdscs_Amon_MPI-ESM-1-2-HAM_piClim-co...:   0%|          |0.00/3.15M [?B/s]"
      ]
     },
     "metadata": {},
     "output_type": "display_data"
    },
    {
     "data": {
      "application/vnd.jupyter.widget-view+json": {
       "model_id": "7285bb2d6c1c43548a3dbccf1841ac9d",
       "version_major": 2,
       "version_minor": 0
      },
      "text/plain": [
       "rlutcs_Amon_MPI-ESM-1-2-HAM_piClim-co...:   0%|          |0.00/3.86M [?B/s]"
      ]
     },
     "metadata": {},
     "output_type": "display_data"
    },
    {
     "data": {
      "application/vnd.jupyter.widget-view+json": {
       "model_id": "f333e9984a5c4d14886dbeafe29c8b1a",
       "version_major": 2,
       "version_minor": 0
      },
      "text/plain": [
       "rsus_Amon_MPI-ESM-1-2-HAM_piClim-cont...:   0%|          |0.00/4.16M [?B/s]"
      ]
     },
     "metadata": {},
     "output_type": "display_data"
    },
    {
     "data": {
      "application/vnd.jupyter.widget-view+json": {
       "model_id": "c8bc8aabde124dd986cc5cc43cd31132",
       "version_major": 2,
       "version_minor": 0
      },
      "text/plain": [
       "rsut_Amon_MPI-ESM-1-2-HAM_piClim-cont...:   0%|          |0.00/8.70M [?B/s]"
      ]
     },
     "metadata": {},
     "output_type": "display_data"
    },
    {
     "data": {
      "application/vnd.jupyter.widget-view+json": {
       "model_id": "6d3d580a85b04309a238b400e7ac57d9",
       "version_major": 2,
       "version_minor": 0
      },
      "text/plain": [
       "rsutcs_Amon_MPI-ESM-1-2-HAM_piClim-co...:   0%|          |0.00/3.41M [?B/s]"
      ]
     },
     "metadata": {},
     "output_type": "display_data"
    },
    {
     "data": {
      "application/vnd.jupyter.widget-view+json": {
       "model_id": "f1a0c7e57cf9419ea0bc86b310310431",
       "version_major": 2,
       "version_minor": 0
      },
      "text/plain": [
       "rsdt_Amon_MPI-ESM-1-2-HAM_piClim-aer_...:   0%|          |0.00/1.25M [?B/s]"
      ]
     },
     "metadata": {},
     "output_type": "display_data"
    },
    {
     "data": {
      "application/vnd.jupyter.widget-view+json": {
       "model_id": "44273710331649178586f5ec8cb04373",
       "version_major": 2,
       "version_minor": 0
      },
      "text/plain": [
       "rsdt_Amon_GFDL-CM4_piClim-aer_r1i1p1f...:   0%|          |0.00/36.4M [?B/s]"
      ]
     },
     "metadata": {},
     "output_type": "display_data"
    },
    {
     "data": {
      "application/vnd.jupyter.widget-view+json": {
       "model_id": "ddf8b7d48e0345ffa668e44f2b0601ba",
       "version_major": 2,
       "version_minor": 0
      },
      "text/plain": [
       "clt_Amon_IPSL-CM6A-LR_piClim-aer_r1i1...:   0%|          |0.00/22.1M [?B/s]"
      ]
     },
     "metadata": {},
     "output_type": "display_data"
    },
    {
     "data": {
      "application/vnd.jupyter.widget-view+json": {
       "model_id": "9ac1b81e12f24f568f5d3d67e9fbc455",
       "version_major": 2,
       "version_minor": 0
      },
      "text/plain": [
       "rsdscs_Amon_NorESM2-MM_piClim-aer_r1i...:   0%|          |0.00/15.0M [?B/s]"
      ]
     },
     "metadata": {},
     "output_type": "display_data"
    },
    {
     "data": {
      "application/vnd.jupyter.widget-view+json": {
       "model_id": "d94c5015fc9449ffa7cd86959f019ae2",
       "version_major": 2,
       "version_minor": 0
      },
      "text/plain": [
       "rlus_Amon_NorESM2-MM_piClim-aer_r1i1p...:   0%|          |0.00/16.6M [?B/s]"
      ]
     },
     "metadata": {},
     "output_type": "display_data"
    },
    {
     "data": {
      "application/vnd.jupyter.widget-view+json": {
       "model_id": "15b28532d97d419f8b6eac66ecc2f1f4",
       "version_major": 2,
       "version_minor": 0
      },
      "text/plain": [
       "rlut_Amon_GFDL-CM4_piClim-aer_r1i1p1f...:   0%|          |0.00/47.8M [?B/s]"
      ]
     },
     "metadata": {},
     "output_type": "display_data"
    },
    {
     "data": {
      "application/vnd.jupyter.widget-view+json": {
       "model_id": "34d8c4bc8c69400bbfc388bc98a850a7",
       "version_major": 2,
       "version_minor": 0
      },
      "text/plain": [
       "rlds_Amon_NorESM2-MM_piClim-control_r...:   0%|          |0.00/17.1M [?B/s]"
      ]
     },
     "metadata": {},
     "output_type": "display_data"
    },
    {
     "data": {
      "application/vnd.jupyter.widget-view+json": {
       "model_id": "7620250da6aa47a3a758c8f3a7ff2cb0",
       "version_major": 2,
       "version_minor": 0
      },
      "text/plain": [
       "rsus_Amon_NorESM2-MM_piClim-control_r...:   0%|          |0.00/17.2M [?B/s]"
      ]
     },
     "metadata": {},
     "output_type": "display_data"
    },
    {
     "data": {
      "application/vnd.jupyter.widget-view+json": {
       "model_id": "8020412bc6c546818ebf577457b84491",
       "version_major": 2,
       "version_minor": 0
      },
      "text/plain": [
       "rsuscs_Amon_NorESM2-MM_piClim-control...:   0%|          |0.00/15.4M [?B/s]"
      ]
     },
     "metadata": {},
     "output_type": "display_data"
    },
    {
     "data": {
      "application/vnd.jupyter.widget-view+json": {
       "model_id": "d5fe829501c241cba9762ad02fc3469a",
       "version_major": 2,
       "version_minor": 0
      },
      "text/plain": [
       "rsut_Amon_NorESM2-MM_piClim-control_r...:   0%|          |0.00/18.1M [?B/s]"
      ]
     },
     "metadata": {},
     "output_type": "display_data"
    },
    {
     "data": {
      "application/vnd.jupyter.widget-view+json": {
       "model_id": "e09dde3b9cb24d04b8de7d2d2bcb9aac",
       "version_major": 2,
       "version_minor": 0
      },
      "text/plain": [
       "rsds_Amon_GISS-E2-1-G_piClim-aer_r1i1...:   0%|          |0.00/19.3M [?B/s]"
      ]
     },
     "metadata": {},
     "output_type": "display_data"
    },
    {
     "data": {
      "application/vnd.jupyter.widget-view+json": {
       "model_id": "bd51238dc2304caa89e6d0ab691349df",
       "version_major": 2,
       "version_minor": 0
      },
      "text/plain": [
       "rsutcs_Amon_GISS-E2-1-G_piClim-aer_r1...:   0%|          |0.00/19.3M [?B/s]"
      ]
     },
     "metadata": {},
     "output_type": "display_data"
    },
    {
     "data": {
      "application/vnd.jupyter.widget-view+json": {
       "model_id": "296a2ef9520d42c6b3f5ae257ad871b9",
       "version_major": 2,
       "version_minor": 0
      },
      "text/plain": [
       "rsut_Amon_GISS-E2-1-G_piClim-control_...:   0%|          |0.00/19.3M [?B/s]"
      ]
     },
     "metadata": {},
     "output_type": "display_data"
    },
    {
     "data": {
      "application/vnd.jupyter.widget-view+json": {
       "model_id": "bd92310c190e4ca88d92599a8b249774",
       "version_major": 2,
       "version_minor": 0
      },
      "text/plain": [
       "rlut_Amon_MRI-ESM2-0_piClim-aer_r1i1p...:   0%|          |0.00/47.1M [?B/s]"
      ]
     },
     "metadata": {},
     "output_type": "display_data"
    },
    {
     "data": {
      "application/vnd.jupyter.widget-view+json": {
       "model_id": "d332be2a8a274db79888b96b3161c371",
       "version_major": 2,
       "version_minor": 0
      },
      "text/plain": [
       "rsdscs_Amon_MRI-ESM2-0_piClim-aer_r1i...:   0%|          |0.00/1.47M [?B/s]"
      ]
     },
     "metadata": {},
     "output_type": "display_data"
    },
    {
     "data": {
      "application/vnd.jupyter.widget-view+json": {
       "model_id": "9cc7c2ffc7234daba36c377b98d446c7",
       "version_major": 2,
       "version_minor": 0
      },
      "text/plain": [
       "clt_Amon_MRI-ESM2-0_piClim-control_r1...:   0%|          |0.00/1.84M [?B/s]"
      ]
     },
     "metadata": {},
     "output_type": "display_data"
    },
    {
     "data": {
      "application/vnd.jupyter.widget-view+json": {
       "model_id": "a25bd6c6a5a64c17888989af0e6f15bd",
       "version_major": 2,
       "version_minor": 0
      },
      "text/plain": [
       "rlds_Amon_MRI-ESM2-0_piClim-control_r...:   0%|          |0.00/1.65M [?B/s]"
      ]
     },
     "metadata": {},
     "output_type": "display_data"
    },
    {
     "data": {
      "application/vnd.jupyter.widget-view+json": {
       "model_id": "46b41e3af93a4e738196ce0b020667df",
       "version_major": 2,
       "version_minor": 0
      },
      "text/plain": [
       "rsutcs_Amon_MRI-ESM2-0_piClim-control...:   0%|          |0.00/1.58M [?B/s]"
      ]
     },
     "metadata": {},
     "output_type": "display_data"
    },
    {
     "data": {
      "application/vnd.jupyter.widget-view+json": {
       "model_id": "a1c81fcd8860434ba90af4f2f49901b9",
       "version_major": 2,
       "version_minor": 0
      },
      "text/plain": [
       "rsutcs_Amon_CanESM5_piClim-control_r1...:   0%|          |0.00/16.4M [?B/s]"
      ]
     },
     "metadata": {},
     "output_type": "display_data"
    },
    {
     "data": {
      "application/vnd.jupyter.widget-view+json": {
       "model_id": "a7e92595e04345b8bd12dc8fa35c1dc7",
       "version_major": 2,
       "version_minor": 0
      },
      "text/plain": [
       "rlds_Amon_CESM2_piClim-aer_r1i1p1f1_g...:   0%|          |0.00/51.4M [?B/s]"
      ]
     },
     "metadata": {},
     "output_type": "display_data"
    },
    {
     "data": {
      "application/vnd.jupyter.widget-view+json": {
       "model_id": "0472e8fc8ffc47c1a8752f849fb1ad6d",
       "version_major": 2,
       "version_minor": 0
      },
      "text/plain": [
       "rlus_Amon_CESM2_piClim-aer_r1i1p1f1_g...:   0%|          |0.00/50.0M [?B/s]"
      ]
     },
     "metadata": {},
     "output_type": "display_data"
    },
    {
     "data": {
      "application/vnd.jupyter.widget-view+json": {
       "model_id": "e028b73f22aa4f888111378c5395634f",
       "version_major": 2,
       "version_minor": 0
      },
      "text/plain": [
       "rsdscs_Amon_CESM2_piClim-control_r1i1...:   0%|          |0.00/44.9M [?B/s]"
      ]
     },
     "metadata": {},
     "output_type": "display_data"
    },
    {
     "data": {
      "application/vnd.jupyter.widget-view+json": {
       "model_id": "20f29ee20f5c4ffca276e0c8526df93d",
       "version_major": 2,
       "version_minor": 0
      },
      "text/plain": [
       "rlutcs_Amon_NorESM2-LM_piClim-aer_r1i...:   0%|          |0.00/4.30M [?B/s]"
      ]
     },
     "metadata": {},
     "output_type": "display_data"
    },
    {
     "data": {
      "application/vnd.jupyter.widget-view+json": {
       "model_id": "ef39c8ed9bb342eea845a27d3e0f3a46",
       "version_major": 2,
       "version_minor": 0
      },
      "text/plain": [
       "rsds_Amon_NorESM2-LM_piClim-aer_r1i1p...:   0%|          |0.00/4.73M [?B/s]"
      ]
     },
     "metadata": {},
     "output_type": "display_data"
    },
    {
     "data": {
      "application/vnd.jupyter.widget-view+json": {
       "model_id": "6c49da1aae5d4aa59989239791958b46",
       "version_major": 2,
       "version_minor": 0
      },
      "text/plain": [
       "rlds_Amon_NorESM2-LM_piClim-control_r...:   0%|          |0.00/4.63M [?B/s]"
      ]
     },
     "metadata": {},
     "output_type": "display_data"
    },
    {
     "data": {
      "application/vnd.jupyter.widget-view+json": {
       "model_id": "d9015239a02e46e08fc07b48a91396d8",
       "version_major": 2,
       "version_minor": 0
      },
      "text/plain": [
       "rlus_Amon_NorESM2-LM_piClim-control_r...:   0%|          |0.00/4.49M [?B/s]"
      ]
     },
     "metadata": {},
     "output_type": "display_data"
    },
    {
     "data": {
      "application/vnd.jupyter.widget-view+json": {
       "model_id": "72a1cbf2b81942589f8b6a5d84ae2c50",
       "version_major": 2,
       "version_minor": 0
      },
      "text/plain": [
       "rsdscs_Amon_NorESM2-LM_piClim-control...:   0%|          |0.00/4.05M [?B/s]"
      ]
     },
     "metadata": {},
     "output_type": "display_data"
    },
    {
     "data": {
      "application/vnd.jupyter.widget-view+json": {
       "model_id": "5eb1fb23fc7e42929383b4d1289196c6",
       "version_major": 2,
       "version_minor": 0
      },
      "text/plain": [
       "rsus_Amon_NorESM2-LM_piClim-control_r...:   0%|          |0.00/4.58M [?B/s]"
      ]
     },
     "metadata": {},
     "output_type": "display_data"
    },
    {
     "data": {
      "application/vnd.jupyter.widget-view+json": {
       "model_id": "0a1e3eb3d63f425ab9710ca63fb52f49",
       "version_major": 2,
       "version_minor": 0
      },
      "text/plain": [
       "rsut_Amon_NorESM2-LM_piClim-control_r...:   0%|          |0.00/4.72M [?B/s]"
      ]
     },
     "metadata": {},
     "output_type": "display_data"
    },
    {
     "data": {
      "application/vnd.jupyter.widget-view+json": {
       "model_id": "bd6e0ce1902b4eac9f420101af32185a",
       "version_major": 2,
       "version_minor": 0
      },
      "text/plain": [
       "rlus_Amon_CNRM-ESM2-1_piClim-aer_r1i1...:   0%|          |0.00/29.4M [?B/s]"
      ]
     },
     "metadata": {},
     "output_type": "display_data"
    },
    {
     "data": {
      "application/vnd.jupyter.widget-view+json": {
       "model_id": "807d6b6606964e1fb46bdca6234ced7d",
       "version_major": 2,
       "version_minor": 0
      },
      "text/plain": [
       "rsut_Amon_CNRM-ESM2-1_piClim-aer_r1i1...:   0%|          |0.00/32.5M [?B/s]"
      ]
     },
     "metadata": {},
     "output_type": "display_data"
    },
    {
     "data": {
      "application/vnd.jupyter.widget-view+json": {
       "model_id": "80adc5ba7b57433ea544485fa2a5271e",
       "version_major": 2,
       "version_minor": 0
      },
      "text/plain": [
       "rlutcs_Amon_IPSL-CM6A-LR_piClim-contr...:   0%|          |0.00/18.8M [?B/s]"
      ]
     },
     "metadata": {},
     "output_type": "display_data"
    },
    {
     "data": {
      "application/vnd.jupyter.widget-view+json": {
       "model_id": "d6abffd0c3cf42d2b584641c420243a2",
       "version_major": 2,
       "version_minor": 0
      },
      "text/plain": [
       "rlds_Amon_MPI-ESM-1-2-HAM_piClim-cont...:   0%|          |0.00/4.57M [?B/s]"
      ]
     },
     "metadata": {},
     "output_type": "display_data"
    },
    {
     "data": {
      "application/vnd.jupyter.widget-view+json": {
       "model_id": "7b0e6b82fca2482d826e972f40784acf",
       "version_major": 2,
       "version_minor": 0
      },
      "text/plain": [
       "rsus_Amon_IPSL-CM6A-LR_piClim-control...:   0%|          |0.00/21.3M [?B/s]"
      ]
     },
     "metadata": {},
     "output_type": "display_data"
    },
    {
     "data": {
      "application/vnd.jupyter.widget-view+json": {
       "model_id": "d1aa09629db84676906b2f656782f1a2",
       "version_major": 2,
       "version_minor": 0
      },
      "text/plain": [
       "rlut_Amon_MPI-ESM-1-2-HAM_piClim-cont...:   0%|          |0.00/4.09M [?B/s]"
      ]
     },
     "metadata": {},
     "output_type": "display_data"
    },
    {
     "data": {
      "application/vnd.jupyter.widget-view+json": {
       "model_id": "4f27c3d824bb406d87beec6e0b9942b1",
       "version_major": 2,
       "version_minor": 0
      },
      "text/plain": [
       "rsds_Amon_MPI-ESM-1-2-HAM_piClim-cont...:   0%|          |0.00/8.86M [?B/s]"
      ]
     },
     "metadata": {},
     "output_type": "display_data"
    },
    {
     "data": {
      "application/vnd.jupyter.widget-view+json": {
       "model_id": "ecaa9206b2014890b4759e2d2e362dab",
       "version_major": 2,
       "version_minor": 0
      },
      "text/plain": [
       "rsds_Amon_MPI-ESM-1-2-HAM_piClim-cont...:   0%|          |0.00/4.45M [?B/s]"
      ]
     },
     "metadata": {},
     "output_type": "display_data"
    },
    {
     "data": {
      "application/vnd.jupyter.widget-view+json": {
       "model_id": "ad5e951bd24a4435af6a8b480b442d55",
       "version_major": 2,
       "version_minor": 0
      },
      "text/plain": [
       "rsdscs_Amon_MPI-ESM-1-2-HAM_piClim-co...:   0%|          |0.00/6.26M [?B/s]"
      ]
     },
     "metadata": {},
     "output_type": "display_data"
    },
    {
     "data": {
      "application/vnd.jupyter.widget-view+json": {
       "model_id": "eb6378c99a0a490faf8c4ec2d2ff8614",
       "version_major": 2,
       "version_minor": 0
      },
      "text/plain": [
       "rsuscs_Amon_MPI-ESM-1-2-HAM_piClim-co...:   0%|          |0.00/3.61M [?B/s]"
      ]
     },
     "metadata": {},
     "output_type": "display_data"
    },
    {
     "data": {
      "application/vnd.jupyter.widget-view+json": {
       "model_id": "590d7988ef2c4d37af8bd9fd66fd0589",
       "version_major": 2,
       "version_minor": 0
      },
      "text/plain": [
       "rlds_Amon_EC-Earth3_piClim-aer_r1i1p1...:   0%|          |0.00/5.26M [?B/s]"
      ]
     },
     "metadata": {},
     "output_type": "display_data"
    },
    {
     "data": {
      "application/vnd.jupyter.widget-view+json": {
       "model_id": "9d516198bc224c76a552fdd0ce58bf04",
       "version_major": 2,
       "version_minor": 0
      },
      "text/plain": [
       "rlds_Amon_EC-Earth3_piClim-aer_r1i1p1...:   0%|          |0.00/5.26M [?B/s]"
      ]
     },
     "metadata": {},
     "output_type": "display_data"
    },
    {
     "data": {
      "application/vnd.jupyter.widget-view+json": {
       "model_id": "ed24134326234232a995edd1e52d8fad",
       "version_major": 2,
       "version_minor": 0
      },
      "text/plain": [
       "rlds_Amon_EC-Earth3_piClim-aer_r1i1p1...:   0%|          |0.00/5.26M [?B/s]"
      ]
     },
     "metadata": {},
     "output_type": "display_data"
    },
    {
     "data": {
      "application/vnd.jupyter.widget-view+json": {
       "model_id": "06e38f88e02c44e3b6ae6591b6f59ddb",
       "version_major": 2,
       "version_minor": 0
      },
      "text/plain": [
       "rlds_Amon_EC-Earth3_piClim-aer_r1i1p1...:   0%|          |0.00/5.26M [?B/s]"
      ]
     },
     "metadata": {},
     "output_type": "display_data"
    },
    {
     "data": {
      "application/vnd.jupyter.widget-view+json": {
       "model_id": "69513fbe266e4fc79be80fa8da117225",
       "version_major": 2,
       "version_minor": 0
      },
      "text/plain": [
       "rlds_Amon_EC-Earth3_piClim-aer_r1i1p1...:   0%|          |0.00/5.26M [?B/s]"
      ]
     },
     "metadata": {},
     "output_type": "display_data"
    },
    {
     "data": {
      "application/vnd.jupyter.widget-view+json": {
       "model_id": "37d219ce364d4cd09bc016e47d921c22",
       "version_major": 2,
       "version_minor": 0
      },
      "text/plain": [
       "rlds_Amon_EC-Earth3_piClim-aer_r1i1p1...:   0%|          |0.00/5.26M [?B/s]"
      ]
     },
     "metadata": {},
     "output_type": "display_data"
    },
    {
     "data": {
      "application/vnd.jupyter.widget-view+json": {
       "model_id": "7a0c35f2ff5744348f01540f0c6a0ee4",
       "version_major": 2,
       "version_minor": 0
      },
      "text/plain": [
       "rlus_Amon_EC-Earth3_piClim-aer_r1i1p1...:   0%|          |0.00/5.19M [?B/s]"
      ]
     },
     "metadata": {},
     "output_type": "display_data"
    },
    {
     "data": {
      "application/vnd.jupyter.widget-view+json": {
       "model_id": "9de09b19427c466597d91866c0862933",
       "version_major": 2,
       "version_minor": 0
      },
      "text/plain": [
       "rlus_Amon_EC-Earth3_piClim-aer_r1i1p1...:   0%|          |0.00/5.19M [?B/s]"
      ]
     },
     "metadata": {},
     "output_type": "display_data"
    },
    {
     "data": {
      "application/vnd.jupyter.widget-view+json": {
       "model_id": "5a75c91a404142c6aecc8320acfc4f98",
       "version_major": 2,
       "version_minor": 0
      },
      "text/plain": [
       "rlus_Amon_EC-Earth3_piClim-aer_r1i1p1...:   0%|          |0.00/5.19M [?B/s]"
      ]
     },
     "metadata": {},
     "output_type": "display_data"
    },
    {
     "data": {
      "application/vnd.jupyter.widget-view+json": {
       "model_id": "2aa31ed7386845dd89f1c019e07177d1",
       "version_major": 2,
       "version_minor": 0
      },
      "text/plain": [
       "rlut_Amon_EC-Earth3_piClim-aer_r1i1p1...:   0%|          |0.00/5.23M [?B/s]"
      ]
     },
     "metadata": {},
     "output_type": "display_data"
    },
    {
     "data": {
      "application/vnd.jupyter.widget-view+json": {
       "model_id": "7fcec4387e744bbba727b0d94cd0e78c",
       "version_major": 2,
       "version_minor": 0
      },
      "text/plain": [
       "rlus_Amon_EC-Earth3_piClim-aer_r1i1p1...:   0%|          |0.00/5.19M [?B/s]"
      ]
     },
     "metadata": {},
     "output_type": "display_data"
    },
    {
     "data": {
      "application/vnd.jupyter.widget-view+json": {
       "model_id": "bd293c0fe2a947aa977b53abf84ed173",
       "version_major": 2,
       "version_minor": 0
      },
      "text/plain": [
       "rlut_Amon_EC-Earth3_piClim-aer_r1i1p1...:   0%|          |0.00/5.22M [?B/s]"
      ]
     },
     "metadata": {},
     "output_type": "display_data"
    },
    {
     "data": {
      "application/vnd.jupyter.widget-view+json": {
       "model_id": "0cdfd1dde6f94dc2a3e46247cc4151c8",
       "version_major": 2,
       "version_minor": 0
      },
      "text/plain": [
       "rlutcs_Amon_EC-Earth3_piClim-aer_r1i1...:   0%|          |0.00/5.08M [?B/s]"
      ]
     },
     "metadata": {},
     "output_type": "display_data"
    },
    {
     "data": {
      "application/vnd.jupyter.widget-view+json": {
       "model_id": "e87088118869469bbd2f1475f92b3d26",
       "version_major": 2,
       "version_minor": 0
      },
      "text/plain": [
       "rlutcs_Amon_EC-Earth3_piClim-aer_r1i1...:   0%|          |0.00/5.08M [?B/s]"
      ]
     },
     "metadata": {},
     "output_type": "display_data"
    },
    {
     "data": {
      "application/vnd.jupyter.widget-view+json": {
       "model_id": "af678fcff77d48af9e4358a2620b92eb",
       "version_major": 2,
       "version_minor": 0
      },
      "text/plain": [
       "rsds_Amon_EC-Earth3_piClim-aer_r1i1p1...:   0%|          |0.00/5.08M [?B/s]"
      ]
     },
     "metadata": {},
     "output_type": "display_data"
    },
    {
     "data": {
      "application/vnd.jupyter.widget-view+json": {
       "model_id": "687d7ea8f79e42c5b40c9ef5ece70585",
       "version_major": 2,
       "version_minor": 0
      },
      "text/plain": [
       "rsds_Amon_EC-Earth3_piClim-aer_r1i1p1...:   0%|          |0.00/5.07M [?B/s]"
      ]
     },
     "metadata": {},
     "output_type": "display_data"
    },
    {
     "data": {
      "application/vnd.jupyter.widget-view+json": {
       "model_id": "8d19b43702e04172a583e64b4af28e24",
       "version_major": 2,
       "version_minor": 0
      },
      "text/plain": [
       "rsds_Amon_EC-Earth3_piClim-aer_r1i1p1...:   0%|          |0.00/5.08M [?B/s]"
      ]
     },
     "metadata": {},
     "output_type": "display_data"
    },
    {
     "data": {
      "application/vnd.jupyter.widget-view+json": {
       "model_id": "597fe7d6fb1d480c999ec82de9a0c890",
       "version_major": 2,
       "version_minor": 0
      },
      "text/plain": [
       "rsds_Amon_EC-Earth3_piClim-aer_r1i1p1...:   0%|          |0.00/5.07M [?B/s]"
      ]
     },
     "metadata": {},
     "output_type": "display_data"
    },
    {
     "data": {
      "application/vnd.jupyter.widget-view+json": {
       "model_id": "d58d9e07032c4f71b07e2b6e3d8f2b9d",
       "version_major": 2,
       "version_minor": 0
      },
      "text/plain": [
       "rsdscs_Amon_EC-Earth3_piClim-aer_r1i1...:   0%|          |0.00/4.88M [?B/s]"
      ]
     },
     "metadata": {},
     "output_type": "display_data"
    },
    {
     "data": {
      "application/vnd.jupyter.widget-view+json": {
       "model_id": "55cdc5b771fd45ee88aaaf09235d4e15",
       "version_major": 2,
       "version_minor": 0
      },
      "text/plain": [
       "rsdscs_Amon_EC-Earth3_piClim-aer_r1i1...:   0%|          |0.00/4.88M [?B/s]"
      ]
     },
     "metadata": {},
     "output_type": "display_data"
    },
    {
     "data": {
      "application/vnd.jupyter.widget-view+json": {
       "model_id": "2f4fa4a25e2b42c8b385d9b0ab88ec93",
       "version_major": 2,
       "version_minor": 0
      },
      "text/plain": [
       "rsdt_Amon_EC-Earth3_piClim-aer_r1i1p1...:   0%|          |0.00/4.03M [?B/s]"
      ]
     },
     "metadata": {},
     "output_type": "display_data"
    },
    {
     "data": {
      "application/vnd.jupyter.widget-view+json": {
       "model_id": "521b7ffc748e4a9cb353c1682cc9c175",
       "version_major": 2,
       "version_minor": 0
      },
      "text/plain": [
       "rsdt_Amon_EC-Earth3_piClim-aer_r1i1p1...:   0%|          |0.00/4.02M [?B/s]"
      ]
     },
     "metadata": {},
     "output_type": "display_data"
    },
    {
     "data": {
      "application/vnd.jupyter.widget-view+json": {
       "model_id": "5e6099e7978c4e239c488f3ca543abbf",
       "version_major": 2,
       "version_minor": 0
      },
      "text/plain": [
       "rsdt_Amon_EC-Earth3_piClim-aer_r1i1p1...:   0%|          |0.00/4.03M [?B/s]"
      ]
     },
     "metadata": {},
     "output_type": "display_data"
    },
    {
     "data": {
      "application/vnd.jupyter.widget-view+json": {
       "model_id": "64fd105db1104e8882fb48c4ad87639c",
       "version_major": 2,
       "version_minor": 0
      },
      "text/plain": [
       "rsdt_Amon_EC-Earth3_piClim-aer_r1i1p1...:   0%|          |0.00/4.02M [?B/s]"
      ]
     },
     "metadata": {},
     "output_type": "display_data"
    },
    {
     "data": {
      "application/vnd.jupyter.widget-view+json": {
       "model_id": "f520caa713704eb19fc6c55540bda156",
       "version_major": 2,
       "version_minor": 0
      },
      "text/plain": [
       "rsus_Amon_EC-Earth3_piClim-aer_r1i1p1...:   0%|          |0.00/5.17M [?B/s]"
      ]
     },
     "metadata": {},
     "output_type": "display_data"
    },
    {
     "data": {
      "application/vnd.jupyter.widget-view+json": {
       "model_id": "147b0a5d60684ad1b0abbc7c49445ab1",
       "version_major": 2,
       "version_minor": 0
      },
      "text/plain": [
       "rsus_Amon_EC-Earth3_piClim-aer_r1i1p1...:   0%|          |0.00/5.17M [?B/s]"
      ]
     },
     "metadata": {},
     "output_type": "display_data"
    },
    {
     "data": {
      "application/vnd.jupyter.widget-view+json": {
       "model_id": "39d8cbfc0c4347e6bc5aa5414522f220",
       "version_major": 2,
       "version_minor": 0
      },
      "text/plain": [
       "rsuscs_Amon_EC-Earth3_piClim-aer_r1i1...:   0%|          |0.00/5.17M [?B/s]"
      ]
     },
     "metadata": {},
     "output_type": "display_data"
    },
    {
     "data": {
      "application/vnd.jupyter.widget-view+json": {
       "model_id": "2f637ad2de42441e9a4159af7cbc42b0",
       "version_major": 2,
       "version_minor": 0
      },
      "text/plain": [
       "rsuscs_Amon_EC-Earth3_piClim-aer_r1i1...:   0%|          |0.00/5.17M [?B/s]"
      ]
     },
     "metadata": {},
     "output_type": "display_data"
    },
    {
     "data": {
      "application/vnd.jupyter.widget-view+json": {
       "model_id": "4953ab2710704a1487f748bd71bf4598",
       "version_major": 2,
       "version_minor": 0
      },
      "text/plain": [
       "rsuscs_Amon_EC-Earth3_piClim-aer_r1i1...:   0%|          |0.00/5.17M [?B/s]"
      ]
     },
     "metadata": {},
     "output_type": "display_data"
    },
    {
     "data": {
      "application/vnd.jupyter.widget-view+json": {
       "model_id": "b03085d3e8c14ff8a0ac7fe244740178",
       "version_major": 2,
       "version_minor": 0
      },
      "text/plain": [
       "rsut_Amon_EC-Earth3_piClim-aer_r1i1p1...:   0%|          |0.00/5.11M [?B/s]"
      ]
     },
     "metadata": {},
     "output_type": "display_data"
    },
    {
     "data": {
      "application/vnd.jupyter.widget-view+json": {
       "model_id": "d96cc8e944934fb1b93d840483971323",
       "version_major": 2,
       "version_minor": 0
      },
      "text/plain": [
       "rsut_Amon_EC-Earth3_piClim-aer_r1i1p1...:   0%|          |0.00/5.11M [?B/s]"
      ]
     },
     "metadata": {},
     "output_type": "display_data"
    },
    {
     "data": {
      "application/vnd.jupyter.widget-view+json": {
       "model_id": "be750bcf826d458f96bf9f6fab458560",
       "version_major": 2,
       "version_minor": 0
      },
      "text/plain": [
       "rsut_Amon_EC-Earth3_piClim-aer_r1i1p1...:   0%|          |0.00/5.11M [?B/s]"
      ]
     },
     "metadata": {},
     "output_type": "display_data"
    },
    {
     "data": {
      "application/vnd.jupyter.widget-view+json": {
       "model_id": "16dfc7a8ed774d18a766194d7960b168",
       "version_major": 2,
       "version_minor": 0
      },
      "text/plain": [
       "rsutcs_Amon_EC-Earth3_piClim-aer_r1i1...:   0%|          |0.00/4.98M [?B/s]"
      ]
     },
     "metadata": {},
     "output_type": "display_data"
    },
    {
     "data": {
      "application/vnd.jupyter.widget-view+json": {
       "model_id": "3484875236394fcd89b60ebf62fe95c9",
       "version_major": 2,
       "version_minor": 0
      },
      "text/plain": [
       "rsutcs_Amon_EC-Earth3_piClim-aer_r1i1...:   0%|          |0.00/4.98M [?B/s]"
      ]
     },
     "metadata": {},
     "output_type": "display_data"
    },
    {
     "data": {
      "application/vnd.jupyter.widget-view+json": {
       "model_id": "f1c433930b4b413e8e119e2459201028",
       "version_major": 2,
       "version_minor": 0
      },
      "text/plain": [
       "clt_Amon_EC-Earth3_piClim-aer_r1i1p1f...:   0%|          |0.00/5.36M [?B/s]"
      ]
     },
     "metadata": {},
     "output_type": "display_data"
    },
    {
     "data": {
      "application/vnd.jupyter.widget-view+json": {
       "model_id": "7f61790519654879af3e06190b739178",
       "version_major": 2,
       "version_minor": 0
      },
      "text/plain": [
       "clt_Amon_EC-Earth3_piClim-aer_r1i1p1f...:   0%|          |0.00/5.35M [?B/s]"
      ]
     },
     "metadata": {},
     "output_type": "display_data"
    },
    {
     "data": {
      "application/vnd.jupyter.widget-view+json": {
       "model_id": "94f22b4af81141a5bb154bdb7643b20d",
       "version_major": 2,
       "version_minor": 0
      },
      "text/plain": [
       "clt_Amon_EC-Earth3_piClim-control_r1i...:   0%|          |0.00/5.35M [?B/s]"
      ]
     },
     "metadata": {},
     "output_type": "display_data"
    },
    {
     "data": {
      "application/vnd.jupyter.widget-view+json": {
       "model_id": "93c634f2cd744d748f57c04b3b87daae",
       "version_major": 2,
       "version_minor": 0
      },
      "text/plain": [
       "clt_Amon_EC-Earth3_piClim-aer_r1i1p1f...:   0%|          |0.00/5.35M [?B/s]"
      ]
     },
     "metadata": {},
     "output_type": "display_data"
    },
    {
     "data": {
      "application/vnd.jupyter.widget-view+json": {
       "model_id": "6ff7105efbc040db990e555aeae41663",
       "version_major": 2,
       "version_minor": 0
      },
      "text/plain": [
       "clt_Amon_EC-Earth3_piClim-control_r1i...:   0%|          |0.00/5.36M [?B/s]"
      ]
     },
     "metadata": {},
     "output_type": "display_data"
    },
    {
     "data": {
      "application/vnd.jupyter.widget-view+json": {
       "model_id": "204d23958150404ab1672a3aa974d344",
       "version_major": 2,
       "version_minor": 0
      },
      "text/plain": [
       "clt_Amon_EC-Earth3_piClim-control_r1i...:   0%|          |0.00/5.35M [?B/s]"
      ]
     },
     "metadata": {},
     "output_type": "display_data"
    },
    {
     "data": {
      "application/vnd.jupyter.widget-view+json": {
       "model_id": "9ef2180390834a6994a6c77ef0c39be6",
       "version_major": 2,
       "version_minor": 0
      },
      "text/plain": [
       "rlds_Amon_EC-Earth3_piClim-control_r1...:   0%|          |0.00/5.26M [?B/s]"
      ]
     },
     "metadata": {},
     "output_type": "display_data"
    },
    {
     "data": {
      "application/vnd.jupyter.widget-view+json": {
       "model_id": "323b31933fc94f5f9c23bd1ddff4f4fb",
       "version_major": 2,
       "version_minor": 0
      },
      "text/plain": [
       "rlds_Amon_EC-Earth3_piClim-control_r1...:   0%|          |0.00/5.26M [?B/s]"
      ]
     },
     "metadata": {},
     "output_type": "display_data"
    },
    {
     "data": {
      "application/vnd.jupyter.widget-view+json": {
       "model_id": "ebf2841576cd497aa1ec183644ae2228",
       "version_major": 2,
       "version_minor": 0
      },
      "text/plain": [
       "rlds_Amon_EC-Earth3_piClim-control_r1...:   0%|          |0.00/5.26M [?B/s]"
      ]
     },
     "metadata": {},
     "output_type": "display_data"
    },
    {
     "data": {
      "application/vnd.jupyter.widget-view+json": {
       "model_id": "0808e0d4f370409394f2fd1ac4fd9f4d",
       "version_major": 2,
       "version_minor": 0
      },
      "text/plain": [
       "rlus_Amon_EC-Earth3_piClim-control_r1...:   0%|          |0.00/5.19M [?B/s]"
      ]
     },
     "metadata": {},
     "output_type": "display_data"
    },
    {
     "data": {
      "application/vnd.jupyter.widget-view+json": {
       "model_id": "99f6ea525ae747a0a0cca3e801276ab9",
       "version_major": 2,
       "version_minor": 0
      },
      "text/plain": [
       "rlus_Amon_EC-Earth3_piClim-control_r1...:   0%|          |0.00/5.19M [?B/s]"
      ]
     },
     "metadata": {},
     "output_type": "display_data"
    },
    {
     "data": {
      "application/vnd.jupyter.widget-view+json": {
       "model_id": "52b667bc2ca94f5784dba77669750716",
       "version_major": 2,
       "version_minor": 0
      },
      "text/plain": [
       "rlus_Amon_EC-Earth3_piClim-control_r1...:   0%|          |0.00/5.19M [?B/s]"
      ]
     },
     "metadata": {},
     "output_type": "display_data"
    },
    {
     "data": {
      "application/vnd.jupyter.widget-view+json": {
       "model_id": "4e4028a6e4c04a1cb332545825e61efa",
       "version_major": 2,
       "version_minor": 0
      },
      "text/plain": [
       "rlut_Amon_EC-Earth3_piClim-control_r1...:   0%|          |0.00/5.23M [?B/s]"
      ]
     },
     "metadata": {},
     "output_type": "display_data"
    },
    {
     "data": {
      "application/vnd.jupyter.widget-view+json": {
       "model_id": "10ad5d830b3d4823a01def9de4000693",
       "version_major": 2,
       "version_minor": 0
      },
      "text/plain": [
       "rlus_Amon_EC-Earth3_piClim-control_r1...:   0%|          |0.00/5.19M [?B/s]"
      ]
     },
     "metadata": {},
     "output_type": "display_data"
    },
    {
     "data": {
      "application/vnd.jupyter.widget-view+json": {
       "model_id": "556601a51ef9403e9a267265dac21efe",
       "version_major": 2,
       "version_minor": 0
      },
      "text/plain": [
       "rlut_Amon_EC-Earth3_piClim-control_r1...:   0%|          |0.00/5.23M [?B/s]"
      ]
     },
     "metadata": {},
     "output_type": "display_data"
    },
    {
     "data": {
      "application/vnd.jupyter.widget-view+json": {
       "model_id": "069423bd46e847e59ef57095ad562446",
       "version_major": 2,
       "version_minor": 0
      },
      "text/plain": [
       "rlut_Amon_EC-Earth3_piClim-control_r1...:   0%|          |0.00/5.22M [?B/s]"
      ]
     },
     "metadata": {},
     "output_type": "display_data"
    },
    {
     "data": {
      "application/vnd.jupyter.widget-view+json": {
       "model_id": "98e41728d0914101a8276882fccdbf90",
       "version_major": 2,
       "version_minor": 0
      },
      "text/plain": [
       "rlut_Amon_EC-Earth3_piClim-control_r1...:   0%|          |0.00/5.23M [?B/s]"
      ]
     },
     "metadata": {},
     "output_type": "display_data"
    },
    {
     "data": {
      "application/vnd.jupyter.widget-view+json": {
       "model_id": "c653438e983a448a94b2732bd882ce94",
       "version_major": 2,
       "version_minor": 0
      },
      "text/plain": [
       "rlutcs_Amon_EC-Earth3_piClim-control_...:   0%|          |0.00/5.08M [?B/s]"
      ]
     },
     "metadata": {},
     "output_type": "display_data"
    },
    {
     "data": {
      "application/vnd.jupyter.widget-view+json": {
       "model_id": "701a7a02897741b1847259aa60a2b6b7",
       "version_major": 2,
       "version_minor": 0
      },
      "text/plain": [
       "rlutcs_Amon_EC-Earth3_piClim-control_...:   0%|          |0.00/5.08M [?B/s]"
      ]
     },
     "metadata": {},
     "output_type": "display_data"
    },
    {
     "data": {
      "application/vnd.jupyter.widget-view+json": {
       "model_id": "37f9b40f0c444a449eefa9cd21764b19",
       "version_major": 2,
       "version_minor": 0
      },
      "text/plain": [
       "rlutcs_Amon_EC-Earth3_piClim-control_...:   0%|          |0.00/5.08M [?B/s]"
      ]
     },
     "metadata": {},
     "output_type": "display_data"
    },
    {
     "data": {
      "application/vnd.jupyter.widget-view+json": {
       "model_id": "cfe87ff3aae74e49861c55067caf41ea",
       "version_major": 2,
       "version_minor": 0
      },
      "text/plain": [
       "rlutcs_Amon_EC-Earth3_piClim-control_...:   0%|          |0.00/5.08M [?B/s]"
      ]
     },
     "metadata": {},
     "output_type": "display_data"
    },
    {
     "data": {
      "application/vnd.jupyter.widget-view+json": {
       "model_id": "803d1696fdb64dbba77ceb392248d16d",
       "version_major": 2,
       "version_minor": 0
      },
      "text/plain": [
       "rsds_Amon_EC-Earth3_piClim-control_r1...:   0%|          |0.00/5.07M [?B/s]"
      ]
     },
     "metadata": {},
     "output_type": "display_data"
    },
    {
     "data": {
      "application/vnd.jupyter.widget-view+json": {
       "model_id": "3b003cda062f442e9980f3653b1befcf",
       "version_major": 2,
       "version_minor": 0
      },
      "text/plain": [
       "rsds_Amon_EC-Earth3_piClim-control_r1...:   0%|          |0.00/5.07M [?B/s]"
      ]
     },
     "metadata": {},
     "output_type": "display_data"
    },
    {
     "data": {
      "application/vnd.jupyter.widget-view+json": {
       "model_id": "7fa6eb4b64ec493a8726db9e434e51a1",
       "version_major": 2,
       "version_minor": 0
      },
      "text/plain": [
       "rsdscs_Amon_EC-Earth3_piClim-control_...:   0%|          |0.00/4.86M [?B/s]"
      ]
     },
     "metadata": {},
     "output_type": "display_data"
    },
    {
     "data": {
      "application/vnd.jupyter.widget-view+json": {
       "model_id": "a1c1d30df23b45948055cfe9d9cf38b9",
       "version_major": 2,
       "version_minor": 0
      },
      "text/plain": [
       "rsdscs_Amon_EC-Earth3_piClim-control_...:   0%|          |0.00/4.87M [?B/s]"
      ]
     },
     "metadata": {},
     "output_type": "display_data"
    },
    {
     "data": {
      "application/vnd.jupyter.widget-view+json": {
       "model_id": "b28d09857dce43538fca7e5595a24c3b",
       "version_major": 2,
       "version_minor": 0
      },
      "text/plain": [
       "rsdscs_Amon_EC-Earth3_piClim-control_...:   0%|          |0.00/4.86M [?B/s]"
      ]
     },
     "metadata": {},
     "output_type": "display_data"
    },
    {
     "data": {
      "application/vnd.jupyter.widget-view+json": {
       "model_id": "c70accfd3c094449952ff118614a7f9e",
       "version_major": 2,
       "version_minor": 0
      },
      "text/plain": [
       "rsdt_Amon_EC-Earth3_piClim-control_r1...:   0%|          |0.00/4.03M [?B/s]"
      ]
     },
     "metadata": {},
     "output_type": "display_data"
    },
    {
     "data": {
      "application/vnd.jupyter.widget-view+json": {
       "model_id": "1ce265b8455a470fb3ff0fa76424597c",
       "version_major": 2,
       "version_minor": 0
      },
      "text/plain": [
       "rsdt_Amon_EC-Earth3_piClim-control_r1...:   0%|          |0.00/4.02M [?B/s]"
      ]
     },
     "metadata": {},
     "output_type": "display_data"
    },
    {
     "data": {
      "application/vnd.jupyter.widget-view+json": {
       "model_id": "87bb57bfccd447fba0f4acd04510d2a3",
       "version_major": 2,
       "version_minor": 0
      },
      "text/plain": [
       "rsdt_Amon_EC-Earth3_piClim-control_r1...:   0%|          |0.00/4.02M [?B/s]"
      ]
     },
     "metadata": {},
     "output_type": "display_data"
    },
    {
     "data": {
      "application/vnd.jupyter.widget-view+json": {
       "model_id": "85444ff6d1d44a77b057e1fb5f847425",
       "version_major": 2,
       "version_minor": 0
      },
      "text/plain": [
       "rsdt_Amon_EC-Earth3_piClim-control_r1...:   0%|          |0.00/4.03M [?B/s]"
      ]
     },
     "metadata": {},
     "output_type": "display_data"
    },
    {
     "data": {
      "application/vnd.jupyter.widget-view+json": {
       "model_id": "0dc517717f674fe48f3136ecaaaf8aac",
       "version_major": 2,
       "version_minor": 0
      },
      "text/plain": [
       "rsdt_Amon_EC-Earth3_piClim-control_r1...:   0%|          |0.00/4.02M [?B/s]"
      ]
     },
     "metadata": {},
     "output_type": "display_data"
    },
    {
     "data": {
      "application/vnd.jupyter.widget-view+json": {
       "model_id": "5e40c1b52f724754b7a631674e9360ef",
       "version_major": 2,
       "version_minor": 0
      },
      "text/plain": [
       "rsus_Amon_EC-Earth3_piClim-control_r1...:   0%|          |0.00/5.17M [?B/s]"
      ]
     },
     "metadata": {},
     "output_type": "display_data"
    },
    {
     "data": {
      "application/vnd.jupyter.widget-view+json": {
       "model_id": "940e693ad55040fcbecb76096e4ca526",
       "version_major": 2,
       "version_minor": 0
      },
      "text/plain": [
       "rsus_Amon_EC-Earth3_piClim-control_r1...:   0%|          |0.00/5.16M [?B/s]"
      ]
     },
     "metadata": {},
     "output_type": "display_data"
    },
    {
     "data": {
      "application/vnd.jupyter.widget-view+json": {
       "model_id": "974f8080fe73427d9e12d4e55b29167c",
       "version_major": 2,
       "version_minor": 0
      },
      "text/plain": [
       "rsus_Amon_EC-Earth3_piClim-control_r1...:   0%|          |0.00/5.17M [?B/s]"
      ]
     },
     "metadata": {},
     "output_type": "display_data"
    },
    {
     "data": {
      "application/vnd.jupyter.widget-view+json": {
       "model_id": "b54e8785eb584387a58c9c738f41a7fb",
       "version_major": 2,
       "version_minor": 0
      },
      "text/plain": [
       "rsus_Amon_EC-Earth3_piClim-control_r1...:   0%|          |0.00/5.17M [?B/s]"
      ]
     },
     "metadata": {},
     "output_type": "display_data"
    },
    {
     "data": {
      "application/vnd.jupyter.widget-view+json": {
       "model_id": "2720106f61274247881044434b31525a",
       "version_major": 2,
       "version_minor": 0
      },
      "text/plain": [
       "rsuscs_Amon_EC-Earth3_piClim-control_...:   0%|          |0.00/5.16M [?B/s]"
      ]
     },
     "metadata": {},
     "output_type": "display_data"
    },
    {
     "data": {
      "application/vnd.jupyter.widget-view+json": {
       "model_id": "0379f5eca57040f5bd2328ef93acc1cd",
       "version_major": 2,
       "version_minor": 0
      },
      "text/plain": [
       "rsuscs_Amon_EC-Earth3_piClim-control_...:   0%|          |0.00/5.16M [?B/s]"
      ]
     },
     "metadata": {},
     "output_type": "display_data"
    },
    {
     "data": {
      "application/vnd.jupyter.widget-view+json": {
       "model_id": "ac50e2db48054e1a8cb4b1ab9d44247d",
       "version_major": 2,
       "version_minor": 0
      },
      "text/plain": [
       "rsuscs_Amon_EC-Earth3_piClim-control_...:   0%|          |0.00/5.16M [?B/s]"
      ]
     },
     "metadata": {},
     "output_type": "display_data"
    },
    {
     "data": {
      "application/vnd.jupyter.widget-view+json": {
       "model_id": "a8db4e481ebd481ca86ea813fd0c33f6",
       "version_major": 2,
       "version_minor": 0
      },
      "text/plain": [
       "rsutcs_Amon_EC-Earth3_piClim-control_...:   0%|          |0.00/4.97M [?B/s]"
      ]
     },
     "metadata": {},
     "output_type": "display_data"
    },
    {
     "data": {
      "application/vnd.jupyter.widget-view+json": {
       "model_id": "8838c22ca8ff45f8841567787ea7c463",
       "version_major": 2,
       "version_minor": 0
      },
      "text/plain": [
       "rsutcs_Amon_EC-Earth3_piClim-control_...:   0%|          |0.00/4.97M [?B/s]"
      ]
     },
     "metadata": {},
     "output_type": "display_data"
    },
    {
     "data": {
      "application/vnd.jupyter.widget-view+json": {
       "model_id": "b0c3c60c989f44edac3a5fa7626171f6",
       "version_major": 2,
       "version_minor": 0
      },
      "text/plain": [
       "rsut_Amon_EC-Earth3_piClim-control_r1...:   0%|          |0.00/5.11M [?B/s]"
      ]
     },
     "metadata": {},
     "output_type": "display_data"
    },
    {
     "data": {
      "application/vnd.jupyter.widget-view+json": {
       "model_id": "3f281c23f2a64ca8a43c87b86a5ae2d7",
       "version_major": 2,
       "version_minor": 0
      },
      "text/plain": [
       "rlus_Amon_IPSL-CM6A-LR-INCA_piClim-co...:   0%|          |0.00/19.8M [?B/s]"
      ]
     },
     "metadata": {},
     "output_type": "display_data"
    },
    {
     "data": {
      "application/vnd.jupyter.widget-view+json": {
       "model_id": "574b95802a394593aaada41d5d0ea6e1",
       "version_major": 2,
       "version_minor": 0
      },
      "text/plain": [
       "rsus_Amon_CNRM-ESM2-1_piClim-control_...:   0%|          |0.00/32.9M [?B/s]"
      ]
     },
     "metadata": {},
     "output_type": "display_data"
    },
    {
     "data": {
      "application/vnd.jupyter.widget-view+json": {
       "model_id": "f591fc2e7bec4368891961fc460a34a9",
       "version_major": 2,
       "version_minor": 0
      },
      "text/plain": [
       "rsds_Amon_IPSL-CM6A-LR-INCA_piClim-ae...:   0%|          |0.00/20.8M [?B/s]"
      ]
     },
     "metadata": {},
     "output_type": "display_data"
    },
    {
     "data": {
      "application/vnd.jupyter.widget-view+json": {
       "model_id": "d73a2f7dc6c0441aa4be102837c6736f",
       "version_major": 2,
       "version_minor": 0
      },
      "text/plain": [
       "rlut_Amon_BCC-ESM1_piClim-control_r1i...:   0%|          |0.00/12.2M [?B/s]"
      ]
     },
     "metadata": {},
     "output_type": "display_data"
    },
    {
     "data": {
      "application/vnd.jupyter.widget-view+json": {
       "model_id": "d58125e0569c4b2abdfb36974acef9f2",
       "version_major": 2,
       "version_minor": 0
      },
      "text/plain": [
       "rlutcs_Amon_MIROC6_piClim-aer_r1i1p1f...:   0%|          |0.00/28.1M [?B/s]"
      ]
     },
     "metadata": {},
     "output_type": "display_data"
    },
    {
     "data": {
      "application/vnd.jupyter.widget-view+json": {
       "model_id": "eb57b006fa704e41ab7f1d80a3fafab6",
       "version_major": 2,
       "version_minor": 0
      },
      "text/plain": [
       "rsut_Amon_BCC-ESM1_piClim-control_r1i...:   0%|          |0.00/12.2M [?B/s]"
      ]
     },
     "metadata": {},
     "output_type": "display_data"
    },
    {
     "data": {
      "application/vnd.jupyter.widget-view+json": {
       "model_id": "52e6d19888fc4eaa85e30d22a74fc369",
       "version_major": 2,
       "version_minor": 0
      },
      "text/plain": [
       "rlds_Amon_EC-Earth3_piClim-aer_r1i1p1...:   0%|          |0.00/5.26M [?B/s]"
      ]
     },
     "metadata": {},
     "output_type": "display_data"
    },
    {
     "data": {
      "application/vnd.jupyter.widget-view+json": {
       "model_id": "b6f7acfb3a204e3bb18e69e683a42f10",
       "version_major": 2,
       "version_minor": 0
      },
      "text/plain": [
       "rlds_Amon_EC-Earth3_piClim-aer_r1i1p1...:   0%|          |0.00/5.26M [?B/s]"
      ]
     },
     "metadata": {},
     "output_type": "display_data"
    },
    {
     "data": {
      "application/vnd.jupyter.widget-view+json": {
       "model_id": "a65973e52fc745c9842465c2b3c0c746",
       "version_major": 2,
       "version_minor": 0
      },
      "text/plain": [
       "rlus_Amon_UKESM1-0-LL_piClim-control_...:   0%|          |0.00/38.1M [?B/s]"
      ]
     },
     "metadata": {},
     "output_type": "display_data"
    },
    {
     "data": {
      "application/vnd.jupyter.widget-view+json": {
       "model_id": "9b2e279187e648afa9531152fe23a711",
       "version_major": 2,
       "version_minor": 0
      },
      "text/plain": [
       "rsds_Amon_UKESM1-0-LL_piClim-control_...:   0%|          |0.00/41.3M [?B/s]"
      ]
     },
     "metadata": {},
     "output_type": "display_data"
    },
    {
     "data": {
      "application/vnd.jupyter.widget-view+json": {
       "model_id": "d72ea3a475664095960e5fddf4c41baf",
       "version_major": 2,
       "version_minor": 0
      },
      "text/plain": [
       "rlds_Amon_EC-Earth3_piClim-aer_r1i1p1...:   0%|          |0.00/5.25M [?B/s]"
      ]
     },
     "metadata": {},
     "output_type": "display_data"
    },
    {
     "data": {
      "application/vnd.jupyter.widget-view+json": {
       "model_id": "54f4218508784ef18cc93ab9dae2e386",
       "version_major": 2,
       "version_minor": 0
      },
      "text/plain": [
       "rlus_Amon_EC-Earth3_piClim-aer_r1i1p1...:   0%|          |0.00/5.19M [?B/s]"
      ]
     },
     "metadata": {},
     "output_type": "display_data"
    },
    {
     "data": {
      "application/vnd.jupyter.widget-view+json": {
       "model_id": "dcfb4e104104466b91e245b794c9053b",
       "version_major": 2,
       "version_minor": 0
      },
      "text/plain": [
       "rlus_Amon_EC-Earth3_piClim-aer_r1i1p1...:   0%|          |0.00/5.19M [?B/s]"
      ]
     },
     "metadata": {},
     "output_type": "display_data"
    },
    {
     "data": {
      "application/vnd.jupyter.widget-view+json": {
       "model_id": "45e02be9c5954fbf8914cea686823352",
       "version_major": 2,
       "version_minor": 0
      },
      "text/plain": [
       "rlut_Amon_EC-Earth3_piClim-aer_r1i1p1...:   0%|          |0.00/5.23M [?B/s]"
      ]
     },
     "metadata": {},
     "output_type": "display_data"
    },
    {
     "data": {
      "application/vnd.jupyter.widget-view+json": {
       "model_id": "4151024f96854b63a98ec46943a8bd3a",
       "version_major": 2,
       "version_minor": 0
      },
      "text/plain": [
       "rlut_Amon_EC-Earth3_piClim-aer_r1i1p1...:   0%|          |0.00/5.23M [?B/s]"
      ]
     },
     "metadata": {},
     "output_type": "display_data"
    },
    {
     "data": {
      "application/vnd.jupyter.widget-view+json": {
       "model_id": "d01d9557ccc94439a4f44f59c9608c61",
       "version_major": 2,
       "version_minor": 0
      },
      "text/plain": [
       "rlut_Amon_EC-Earth3_piClim-aer_r1i1p1...:   0%|          |0.00/5.22M [?B/s]"
      ]
     },
     "metadata": {},
     "output_type": "display_data"
    },
    {
     "data": {
      "application/vnd.jupyter.widget-view+json": {
       "model_id": "4b58960d0abe42f882f89fa727406584",
       "version_major": 2,
       "version_minor": 0
      },
      "text/plain": [
       "rlut_Amon_EC-Earth3_piClim-aer_r1i1p1...:   0%|          |0.00/5.23M [?B/s]"
      ]
     },
     "metadata": {},
     "output_type": "display_data"
    },
    {
     "data": {
      "application/vnd.jupyter.widget-view+json": {
       "model_id": "c08ed2a74dfc45e4934900273b382012",
       "version_major": 2,
       "version_minor": 0
      },
      "text/plain": [
       "rlutcs_Amon_EC-Earth3_piClim-aer_r1i1...:   0%|          |0.00/5.09M [?B/s]"
      ]
     },
     "metadata": {},
     "output_type": "display_data"
    },
    {
     "data": {
      "application/vnd.jupyter.widget-view+json": {
       "model_id": "54450071a1cd46baa05ba82924876731",
       "version_major": 2,
       "version_minor": 0
      },
      "text/plain": [
       "rlutcs_Amon_EC-Earth3_piClim-aer_r1i1...:   0%|          |0.00/5.08M [?B/s]"
      ]
     },
     "metadata": {},
     "output_type": "display_data"
    },
    {
     "data": {
      "application/vnd.jupyter.widget-view+json": {
       "model_id": "09f3542909d244f7bbc189f441b84db2",
       "version_major": 2,
       "version_minor": 0
      },
      "text/plain": [
       "rlutcs_Amon_EC-Earth3_piClim-aer_r1i1...:   0%|          |0.00/5.08M [?B/s]"
      ]
     },
     "metadata": {},
     "output_type": "display_data"
    },
    {
     "data": {
      "application/vnd.jupyter.widget-view+json": {
       "model_id": "1e2de377cc1f49f4a6a94ca51029660d",
       "version_major": 2,
       "version_minor": 0
      },
      "text/plain": [
       "rlutcs_Amon_EC-Earth3_piClim-aer_r1i1...:   0%|          |0.00/5.08M [?B/s]"
      ]
     },
     "metadata": {},
     "output_type": "display_data"
    },
    {
     "data": {
      "application/vnd.jupyter.widget-view+json": {
       "model_id": "d071b7172d274d8f969a527e8704526a",
       "version_major": 2,
       "version_minor": 0
      },
      "text/plain": [
       "rlutcs_Amon_EC-Earth3_piClim-aer_r1i1...:   0%|          |0.00/5.08M [?B/s]"
      ]
     },
     "metadata": {},
     "output_type": "display_data"
    },
    {
     "data": {
      "application/vnd.jupyter.widget-view+json": {
       "model_id": "b3f4a0f4f14f4389b6f2948c7f1f3a5b",
       "version_major": 2,
       "version_minor": 0
      },
      "text/plain": [
       "rsds_Amon_EC-Earth3_piClim-aer_r1i1p1...:   0%|          |0.00/5.07M [?B/s]"
      ]
     },
     "metadata": {},
     "output_type": "display_data"
    },
    {
     "data": {
      "application/vnd.jupyter.widget-view+json": {
       "model_id": "0825705357c44dad9d8e6b0bab41d1bd",
       "version_major": 2,
       "version_minor": 0
      },
      "text/plain": [
       "rsds_Amon_EC-Earth3_piClim-aer_r1i1p1...:   0%|          |0.00/5.07M [?B/s]"
      ]
     },
     "metadata": {},
     "output_type": "display_data"
    },
    {
     "data": {
      "application/vnd.jupyter.widget-view+json": {
       "model_id": "1a14dedcda314b8eb99cde049aa42857",
       "version_major": 2,
       "version_minor": 0
      },
      "text/plain": [
       "rsds_Amon_EC-Earth3_piClim-aer_r1i1p1...:   0%|          |0.00/5.07M [?B/s]"
      ]
     },
     "metadata": {},
     "output_type": "display_data"
    },
    {
     "data": {
      "application/vnd.jupyter.widget-view+json": {
       "model_id": "af0d77117f204bc8a2d8be0cbf33d16e",
       "version_major": 2,
       "version_minor": 0
      },
      "text/plain": [
       "rsds_Amon_EC-Earth3_piClim-aer_r1i1p1...:   0%|          |0.00/5.07M [?B/s]"
      ]
     },
     "metadata": {},
     "output_type": "display_data"
    },
    {
     "data": {
      "application/vnd.jupyter.widget-view+json": {
       "model_id": "9dbd3738c8ed4a189f6409ff80f12e0e",
       "version_major": 2,
       "version_minor": 0
      },
      "text/plain": [
       "rsds_Amon_EC-Earth3_piClim-aer_r1i1p1...:   0%|          |0.00/5.08M [?B/s]"
      ]
     },
     "metadata": {},
     "output_type": "display_data"
    },
    {
     "data": {
      "application/vnd.jupyter.widget-view+json": {
       "model_id": "185dfa103d7b443bb20c836a2a330858",
       "version_major": 2,
       "version_minor": 0
      },
      "text/plain": [
       "rsdscs_Amon_EC-Earth3_piClim-aer_r1i1...:   0%|          |0.00/4.88M [?B/s]"
      ]
     },
     "metadata": {},
     "output_type": "display_data"
    },
    {
     "data": {
      "application/vnd.jupyter.widget-view+json": {
       "model_id": "96692974ba5041299c3a3d36881f7c84",
       "version_major": 2,
       "version_minor": 0
      },
      "text/plain": [
       "rsdscs_Amon_EC-Earth3_piClim-aer_r1i1...:   0%|          |0.00/4.88M [?B/s]"
      ]
     },
     "metadata": {},
     "output_type": "display_data"
    },
    {
     "data": {
      "application/vnd.jupyter.widget-view+json": {
       "model_id": "9045be4e397b441e8880456c93fc2f1c",
       "version_major": 2,
       "version_minor": 0
      },
      "text/plain": [
       "rsdscs_Amon_EC-Earth3_piClim-aer_r1i1...:   0%|          |0.00/4.88M [?B/s]"
      ]
     },
     "metadata": {},
     "output_type": "display_data"
    },
    {
     "data": {
      "application/vnd.jupyter.widget-view+json": {
       "model_id": "c4d0fa250c384662bcc342d50b37e026",
       "version_major": 2,
       "version_minor": 0
      },
      "text/plain": [
       "rsdscs_Amon_EC-Earth3_piClim-aer_r1i1...:   0%|          |0.00/4.88M [?B/s]"
      ]
     },
     "metadata": {},
     "output_type": "display_data"
    },
    {
     "data": {
      "application/vnd.jupyter.widget-view+json": {
       "model_id": "ab17e7f5fecf4c8aa81b69eff106b373",
       "version_major": 2,
       "version_minor": 0
      },
      "text/plain": [
       "rsdscs_Amon_EC-Earth3_piClim-aer_r1i1...:   0%|          |0.00/4.88M [?B/s]"
      ]
     },
     "metadata": {},
     "output_type": "display_data"
    },
    {
     "data": {
      "application/vnd.jupyter.widget-view+json": {
       "model_id": "8cf8acd4e2fc4cc98ef027de5120cbaa",
       "version_major": 2,
       "version_minor": 0
      },
      "text/plain": [
       "rsdscs_Amon_EC-Earth3_piClim-aer_r1i1...:   0%|          |0.00/4.88M [?B/s]"
      ]
     },
     "metadata": {},
     "output_type": "display_data"
    },
    {
     "data": {
      "application/vnd.jupyter.widget-view+json": {
       "model_id": "9553d459555b4d67905e4bc82a29a27a",
       "version_major": 2,
       "version_minor": 0
      },
      "text/plain": [
       "rsdscs_Amon_EC-Earth3_piClim-aer_r1i1...:   0%|          |0.00/4.88M [?B/s]"
      ]
     },
     "metadata": {},
     "output_type": "display_data"
    },
    {
     "data": {
      "application/vnd.jupyter.widget-view+json": {
       "model_id": "636b46857c574808ade9be0f7f0254d1",
       "version_major": 2,
       "version_minor": 0
      },
      "text/plain": [
       "rsdt_Amon_EC-Earth3_piClim-aer_r1i1p1...:   0%|          |0.00/4.03M [?B/s]"
      ]
     },
     "metadata": {},
     "output_type": "display_data"
    },
    {
     "data": {
      "application/vnd.jupyter.widget-view+json": {
       "model_id": "483257808b624249b8ab36177c412e1d",
       "version_major": 2,
       "version_minor": 0
      },
      "text/plain": [
       "rsdt_Amon_EC-Earth3_piClim-aer_r1i1p1...:   0%|          |0.00/4.03M [?B/s]"
      ]
     },
     "metadata": {},
     "output_type": "display_data"
    },
    {
     "data": {
      "application/vnd.jupyter.widget-view+json": {
       "model_id": "479ccbfa16ee484f8a120ec0344b8e57",
       "version_major": 2,
       "version_minor": 0
      },
      "text/plain": [
       "rsdt_Amon_EC-Earth3_piClim-aer_r1i1p1...:   0%|          |0.00/4.03M [?B/s]"
      ]
     },
     "metadata": {},
     "output_type": "display_data"
    },
    {
     "data": {
      "application/vnd.jupyter.widget-view+json": {
       "model_id": "06202182c34a407e818317cd225ffacb",
       "version_major": 2,
       "version_minor": 0
      },
      "text/plain": [
       "rsdt_Amon_EC-Earth3_piClim-aer_r1i1p1...:   0%|          |0.00/4.02M [?B/s]"
      ]
     },
     "metadata": {},
     "output_type": "display_data"
    },
    {
     "data": {
      "application/vnd.jupyter.widget-view+json": {
       "model_id": "82bb2fb03fcc43e6b2a5c94e4af0a52f",
       "version_major": 2,
       "version_minor": 0
      },
      "text/plain": [
       "rsus_Amon_EC-Earth3_piClim-aer_r1i1p1...:   0%|          |0.00/5.17M [?B/s]"
      ]
     },
     "metadata": {},
     "output_type": "display_data"
    },
    {
     "data": {
      "application/vnd.jupyter.widget-view+json": {
       "model_id": "e0eeb296b3654f5185f5a222cd924500",
       "version_major": 2,
       "version_minor": 0
      },
      "text/plain": [
       "rsus_Amon_EC-Earth3_piClim-aer_r1i1p1...:   0%|          |0.00/5.17M [?B/s]"
      ]
     },
     "metadata": {},
     "output_type": "display_data"
    },
    {
     "data": {
      "application/vnd.jupyter.widget-view+json": {
       "model_id": "53b570faf6604234855ab3d5e1d69b1d",
       "version_major": 2,
       "version_minor": 0
      },
      "text/plain": [
       "rsus_Amon_EC-Earth3_piClim-aer_r1i1p1...:   0%|          |0.00/5.17M [?B/s]"
      ]
     },
     "metadata": {},
     "output_type": "display_data"
    },
    {
     "data": {
      "application/vnd.jupyter.widget-view+json": {
       "model_id": "74be1594059745d4bede1b9592f5dd9c",
       "version_major": 2,
       "version_minor": 0
      },
      "text/plain": [
       "rsus_Amon_EC-Earth3_piClim-aer_r1i1p1...:   0%|          |0.00/5.17M [?B/s]"
      ]
     },
     "metadata": {},
     "output_type": "display_data"
    },
    {
     "data": {
      "application/vnd.jupyter.widget-view+json": {
       "model_id": "b0d2c3cdd11b4e9ab799c59754aae780",
       "version_major": 2,
       "version_minor": 0
      },
      "text/plain": [
       "rsus_Amon_EC-Earth3_piClim-aer_r1i1p1...:   0%|          |0.00/5.17M [?B/s]"
      ]
     },
     "metadata": {},
     "output_type": "display_data"
    },
    {
     "data": {
      "application/vnd.jupyter.widget-view+json": {
       "model_id": "6ac39d491cd2467a85cc6a89c50075e7",
       "version_major": 2,
       "version_minor": 0
      },
      "text/plain": [
       "rsuscs_Amon_EC-Earth3_piClim-aer_r1i1...:   0%|          |0.00/5.17M [?B/s]"
      ]
     },
     "metadata": {},
     "output_type": "display_data"
    },
    {
     "data": {
      "application/vnd.jupyter.widget-view+json": {
       "model_id": "5d7eecbee10740dab1e3a45baf406204",
       "version_major": 2,
       "version_minor": 0
      },
      "text/plain": [
       "rsuscs_Amon_EC-Earth3_piClim-aer_r1i1...:   0%|          |0.00/5.16M [?B/s]"
      ]
     },
     "metadata": {},
     "output_type": "display_data"
    },
    {
     "data": {
      "application/vnd.jupyter.widget-view+json": {
       "model_id": "dec06cc652e24d6d9b822354e50419d7",
       "version_major": 2,
       "version_minor": 0
      },
      "text/plain": [
       "rsuscs_Amon_EC-Earth3_piClim-aer_r1i1...:   0%|          |0.00/5.16M [?B/s]"
      ]
     },
     "metadata": {},
     "output_type": "display_data"
    },
    {
     "data": {
      "application/vnd.jupyter.widget-view+json": {
       "model_id": "f3789d9824ae4f6fa47eb33b62f3bc8b",
       "version_major": 2,
       "version_minor": 0
      },
      "text/plain": [
       "rsuscs_Amon_EC-Earth3_piClim-aer_r1i1...:   0%|          |0.00/5.17M [?B/s]"
      ]
     },
     "metadata": {},
     "output_type": "display_data"
    },
    {
     "data": {
      "application/vnd.jupyter.widget-view+json": {
       "model_id": "72ac6538ba4f4263a4a946643c930517",
       "version_major": 2,
       "version_minor": 0
      },
      "text/plain": [
       "rsuscs_Amon_EC-Earth3_piClim-aer_r1i1...:   0%|          |0.00/5.17M [?B/s]"
      ]
     },
     "metadata": {},
     "output_type": "display_data"
    },
    {
     "data": {
      "application/vnd.jupyter.widget-view+json": {
       "model_id": "77471fa4fe2f4ec1af77a70ff1f8202c",
       "version_major": 2,
       "version_minor": 0
      },
      "text/plain": [
       "rsuscs_Amon_EC-Earth3_piClim-aer_r1i1...:   0%|          |0.00/5.17M [?B/s]"
      ]
     },
     "metadata": {},
     "output_type": "display_data"
    },
    {
     "data": {
      "application/vnd.jupyter.widget-view+json": {
       "model_id": "df8525382ae44bb8aa8361c989c1e04b",
       "version_major": 2,
       "version_minor": 0
      },
      "text/plain": [
       "rsut_Amon_EC-Earth3_piClim-aer_r1i1p1...:   0%|          |0.00/5.11M [?B/s]"
      ]
     },
     "metadata": {},
     "output_type": "display_data"
    },
    {
     "data": {
      "application/vnd.jupyter.widget-view+json": {
       "model_id": "2520b0b875ff4889997addd959ec39d3",
       "version_major": 2,
       "version_minor": 0
      },
      "text/plain": [
       "rsut_Amon_EC-Earth3_piClim-aer_r1i1p1...:   0%|          |0.00/5.11M [?B/s]"
      ]
     },
     "metadata": {},
     "output_type": "display_data"
    },
    {
     "data": {
      "application/vnd.jupyter.widget-view+json": {
       "model_id": "c13f61edd34943c9a7c8d6e87f2afef1",
       "version_major": 2,
       "version_minor": 0
      },
      "text/plain": [
       "rsutcs_Amon_EC-Earth3_piClim-aer_r1i1...:   0%|          |0.00/4.98M [?B/s]"
      ]
     },
     "metadata": {},
     "output_type": "display_data"
    },
    {
     "data": {
      "application/vnd.jupyter.widget-view+json": {
       "model_id": "791579c83af2427c86dddb6cc3d0bb71",
       "version_major": 2,
       "version_minor": 0
      },
      "text/plain": [
       "clt_Amon_EC-Earth3_piClim-aer_r1i1p1f...:   0%|          |0.00/5.35M [?B/s]"
      ]
     },
     "metadata": {},
     "output_type": "display_data"
    },
    {
     "data": {
      "application/vnd.jupyter.widget-view+json": {
       "model_id": "ab852204236b446c846138e7a15b049a",
       "version_major": 2,
       "version_minor": 0
      },
      "text/plain": [
       "clt_Amon_EC-Earth3_piClim-aer_r1i1p1f...:   0%|          |0.00/5.35M [?B/s]"
      ]
     },
     "metadata": {},
     "output_type": "display_data"
    },
    {
     "data": {
      "application/vnd.jupyter.widget-view+json": {
       "model_id": "50a77dd1397f40458f8a2452f7ad1632",
       "version_major": 2,
       "version_minor": 0
      },
      "text/plain": [
       "clt_Amon_EC-Earth3_piClim-aer_r1i1p1f...:   0%|          |0.00/5.35M [?B/s]"
      ]
     },
     "metadata": {},
     "output_type": "display_data"
    },
    {
     "data": {
      "application/vnd.jupyter.widget-view+json": {
       "model_id": "b48c28e085244cf791e8ea2b9b5fe943",
       "version_major": 2,
       "version_minor": 0
      },
      "text/plain": [
       "clt_Amon_EC-Earth3_piClim-control_r1i...:   0%|          |0.00/5.36M [?B/s]"
      ]
     },
     "metadata": {},
     "output_type": "display_data"
    },
    {
     "data": {
      "application/vnd.jupyter.widget-view+json": {
       "model_id": "6bbdd464538e4ebfacb26b7d6c0128bb",
       "version_major": 2,
       "version_minor": 0
      },
      "text/plain": [
       "rlds_Amon_EC-Earth3_piClim-control_r1...:   0%|          |0.00/5.26M [?B/s]"
      ]
     },
     "metadata": {},
     "output_type": "display_data"
    },
    {
     "data": {
      "application/vnd.jupyter.widget-view+json": {
       "model_id": "120fa14ccc2342d38e974a024a16e26f",
       "version_major": 2,
       "version_minor": 0
      },
      "text/plain": [
       "rlus_Amon_EC-Earth3_piClim-control_r1...:   0%|          |0.00/5.19M [?B/s]"
      ]
     },
     "metadata": {},
     "output_type": "display_data"
    },
    {
     "data": {
      "application/vnd.jupyter.widget-view+json": {
       "model_id": "78e49bc315d34760aba773753f852347",
       "version_major": 2,
       "version_minor": 0
      },
      "text/plain": [
       "rlus_Amon_EC-Earth3_piClim-control_r1...:   0%|          |0.00/5.19M [?B/s]"
      ]
     },
     "metadata": {},
     "output_type": "display_data"
    },
    {
     "data": {
      "application/vnd.jupyter.widget-view+json": {
       "model_id": "64bb9edc0b56442aabd0042ccdb9b074",
       "version_major": 2,
       "version_minor": 0
      },
      "text/plain": [
       "rlus_Amon_EC-Earth3_piClim-control_r1...:   0%|          |0.00/5.19M [?B/s]"
      ]
     },
     "metadata": {},
     "output_type": "display_data"
    },
    {
     "data": {
      "application/vnd.jupyter.widget-view+json": {
       "model_id": "6eaccdde79b14abdbc94d815fa19713d",
       "version_major": 2,
       "version_minor": 0
      },
      "text/plain": [
       "rlut_Amon_EC-Earth3_piClim-control_r1...:   0%|          |0.00/5.23M [?B/s]"
      ]
     },
     "metadata": {},
     "output_type": "display_data"
    },
    {
     "data": {
      "application/vnd.jupyter.widget-view+json": {
       "model_id": "58e695844e9c48f0bfa3305ceed5abb6",
       "version_major": 2,
       "version_minor": 0
      },
      "text/plain": [
       "rlut_Amon_EC-Earth3_piClim-control_r1...:   0%|          |0.00/5.22M [?B/s]"
      ]
     },
     "metadata": {},
     "output_type": "display_data"
    },
    {
     "data": {
      "application/vnd.jupyter.widget-view+json": {
       "model_id": "06046b10b62e4c35b9af1b4a2f407c64",
       "version_major": 2,
       "version_minor": 0
      },
      "text/plain": [
       "rlut_Amon_EC-Earth3_piClim-control_r1...:   0%|          |0.00/5.23M [?B/s]"
      ]
     },
     "metadata": {},
     "output_type": "display_data"
    },
    {
     "data": {
      "application/vnd.jupyter.widget-view+json": {
       "model_id": "0aa940c7f80a473a8b56af9cb0ecece2",
       "version_major": 2,
       "version_minor": 0
      },
      "text/plain": [
       "rlut_Amon_EC-Earth3_piClim-control_r1...:   0%|          |0.00/5.23M [?B/s]"
      ]
     },
     "metadata": {},
     "output_type": "display_data"
    },
    {
     "data": {
      "application/vnd.jupyter.widget-view+json": {
       "model_id": "c0ef92956e50463b821d497e34cb2bee",
       "version_major": 2,
       "version_minor": 0
      },
      "text/plain": [
       "rlutcs_Amon_EC-Earth3_piClim-control_...:   0%|          |0.00/5.08M [?B/s]"
      ]
     },
     "metadata": {},
     "output_type": "display_data"
    },
    {
     "data": {
      "application/vnd.jupyter.widget-view+json": {
       "model_id": "ea8fd4b9570444c49f85a3560fb777a8",
       "version_major": 2,
       "version_minor": 0
      },
      "text/plain": [
       "rsds_Amon_EC-Earth3_piClim-control_r1...:   0%|          |0.00/5.07M [?B/s]"
      ]
     },
     "metadata": {},
     "output_type": "display_data"
    },
    {
     "data": {
      "application/vnd.jupyter.widget-view+json": {
       "model_id": "242b171abd6447159767df0201beab14",
       "version_major": 2,
       "version_minor": 0
      },
      "text/plain": [
       "rsds_Amon_EC-Earth3_piClim-control_r1...:   0%|          |0.00/5.07M [?B/s]"
      ]
     },
     "metadata": {},
     "output_type": "display_data"
    },
    {
     "data": {
      "application/vnd.jupyter.widget-view+json": {
       "model_id": "f3bff82e525140a19ebb1eb630983288",
       "version_major": 2,
       "version_minor": 0
      },
      "text/plain": [
       "rsds_Amon_EC-Earth3_piClim-control_r1...:   0%|          |0.00/5.07M [?B/s]"
      ]
     },
     "metadata": {},
     "output_type": "display_data"
    },
    {
     "data": {
      "application/vnd.jupyter.widget-view+json": {
       "model_id": "0cd3da51cece4b7ab1ea4f1a944dd2d3",
       "version_major": 2,
       "version_minor": 0
      },
      "text/plain": [
       "rsds_Amon_EC-Earth3_piClim-control_r1...:   0%|          |0.00/5.07M [?B/s]"
      ]
     },
     "metadata": {},
     "output_type": "display_data"
    },
    {
     "data": {
      "application/vnd.jupyter.widget-view+json": {
       "model_id": "ba0a1e6c5c3f4ac7a53a1badf21687d4",
       "version_major": 2,
       "version_minor": 0
      },
      "text/plain": [
       "rsdscs_Amon_EC-Earth3_piClim-control_...:   0%|          |0.00/4.87M [?B/s]"
      ]
     },
     "metadata": {},
     "output_type": "display_data"
    },
    {
     "data": {
      "application/vnd.jupyter.widget-view+json": {
       "model_id": "fc178188b50248f5a1ad295cbf715865",
       "version_major": 2,
       "version_minor": 0
      },
      "text/plain": [
       "rsdscs_Amon_EC-Earth3_piClim-control_...:   0%|          |0.00/4.86M [?B/s]"
      ]
     },
     "metadata": {},
     "output_type": "display_data"
    },
    {
     "data": {
      "application/vnd.jupyter.widget-view+json": {
       "model_id": "a19c8044c8154715a3114f3b1b453010",
       "version_major": 2,
       "version_minor": 0
      },
      "text/plain": [
       "rsdscs_Amon_EC-Earth3_piClim-control_...:   0%|          |0.00/4.87M [?B/s]"
      ]
     },
     "metadata": {},
     "output_type": "display_data"
    },
    {
     "data": {
      "application/vnd.jupyter.widget-view+json": {
       "model_id": "2f0f0bdd1564491da4a2cdf06e93b12f",
       "version_major": 2,
       "version_minor": 0
      },
      "text/plain": [
       "rsdscs_Amon_EC-Earth3_piClim-control_...:   0%|          |0.00/4.87M [?B/s]"
      ]
     },
     "metadata": {},
     "output_type": "display_data"
    },
    {
     "data": {
      "application/vnd.jupyter.widget-view+json": {
       "model_id": "9c597fc78b4041abaef5ed5753e5bdac",
       "version_major": 2,
       "version_minor": 0
      },
      "text/plain": [
       "rsdt_Amon_EC-Earth3_piClim-control_r1...:   0%|          |0.00/4.03M [?B/s]"
      ]
     },
     "metadata": {},
     "output_type": "display_data"
    },
    {
     "data": {
      "application/vnd.jupyter.widget-view+json": {
       "model_id": "8700c867c1c947179dfb64fe72a5e9e5",
       "version_major": 2,
       "version_minor": 0
      },
      "text/plain": [
       "rsdt_Amon_EC-Earth3_piClim-control_r1...:   0%|          |0.00/4.02M [?B/s]"
      ]
     },
     "metadata": {},
     "output_type": "display_data"
    },
    {
     "data": {
      "application/vnd.jupyter.widget-view+json": {
       "model_id": "df6c2e64020f45ff8c07e8bd2c697eb0",
       "version_major": 2,
       "version_minor": 0
      },
      "text/plain": [
       "rsus_Amon_EC-Earth3_piClim-control_r1...:   0%|          |0.00/5.17M [?B/s]"
      ]
     },
     "metadata": {},
     "output_type": "display_data"
    },
    {
     "data": {
      "application/vnd.jupyter.widget-view+json": {
       "model_id": "804d1fe89ebe469794a98471b8667ef9",
       "version_major": 2,
       "version_minor": 0
      },
      "text/plain": [
       "rsus_Amon_EC-Earth3_piClim-control_r1...:   0%|          |0.00/5.17M [?B/s]"
      ]
     },
     "metadata": {},
     "output_type": "display_data"
    },
    {
     "data": {
      "application/vnd.jupyter.widget-view+json": {
       "model_id": "d14e01de428945df887fcf3598059a42",
       "version_major": 2,
       "version_minor": 0
      },
      "text/plain": [
       "rsuscs_Amon_EC-Earth3_piClim-control_...:   0%|          |0.00/5.16M [?B/s]"
      ]
     },
     "metadata": {},
     "output_type": "display_data"
    },
    {
     "data": {
      "application/vnd.jupyter.widget-view+json": {
       "model_id": "122186e969b54983bf2dff83274f199a",
       "version_major": 2,
       "version_minor": 0
      },
      "text/plain": [
       "rsuscs_Amon_EC-Earth3_piClim-control_...:   0%|          |0.00/5.16M [?B/s]"
      ]
     },
     "metadata": {},
     "output_type": "display_data"
    },
    {
     "data": {
      "application/vnd.jupyter.widget-view+json": {
       "model_id": "1192b46b2ab14a1882b88fa6adf17548",
       "version_major": 2,
       "version_minor": 0
      },
      "text/plain": [
       "rsut_Amon_EC-Earth3_piClim-control_r1...:   0%|          |0.00/5.11M [?B/s]"
      ]
     },
     "metadata": {},
     "output_type": "display_data"
    },
    {
     "data": {
      "application/vnd.jupyter.widget-view+json": {
       "model_id": "8bc70dbcaf404b9ebe41525b99373f2f",
       "version_major": 2,
       "version_minor": 0
      },
      "text/plain": [
       "rsuscs_Amon_EC-Earth3_piClim-control_...:   0%|          |0.00/5.16M [?B/s]"
      ]
     },
     "metadata": {},
     "output_type": "display_data"
    },
    {
     "data": {
      "application/vnd.jupyter.widget-view+json": {
       "model_id": "3771fac6627142079051fe93657ae9cc",
       "version_major": 2,
       "version_minor": 0
      },
      "text/plain": [
       "rsut_Amon_EC-Earth3_piClim-control_r1...:   0%|          |0.00/5.11M [?B/s]"
      ]
     },
     "metadata": {},
     "output_type": "display_data"
    },
    {
     "data": {
      "application/vnd.jupyter.widget-view+json": {
       "model_id": "58d268fb96934fd2a49723327ee0f3a1",
       "version_major": 2,
       "version_minor": 0
      },
      "text/plain": [
       "rsut_Amon_EC-Earth3_piClim-control_r1...:   0%|          |0.00/5.11M [?B/s]"
      ]
     },
     "metadata": {},
     "output_type": "display_data"
    },
    {
     "data": {
      "application/vnd.jupyter.widget-view+json": {
       "model_id": "eaab59048e424c5a8c328329a3baf52f",
       "version_major": 2,
       "version_minor": 0
      },
      "text/plain": [
       "rsutcs_Amon_EC-Earth3_piClim-control_...:   0%|          |0.00/4.98M [?B/s]"
      ]
     },
     "metadata": {},
     "output_type": "display_data"
    },
    {
     "data": {
      "application/vnd.jupyter.widget-view+json": {
       "model_id": "e3e948b91097484ca65a7f11f035b726",
       "version_major": 2,
       "version_minor": 0
      },
      "text/plain": [
       "rsutcs_Amon_EC-Earth3_piClim-control_...:   0%|          |0.00/4.97M [?B/s]"
      ]
     },
     "metadata": {},
     "output_type": "display_data"
    },
    {
     "data": {
      "application/vnd.jupyter.widget-view+json": {
       "model_id": "600b42861af14984bbe51f988db73d95",
       "version_major": 2,
       "version_minor": 0
      },
      "text/plain": [
       "clt_Amon_ACCESS-ESM1-5_piClim-aer_r1i...:   0%|          |0.00/34.1M [?B/s]"
      ]
     },
     "metadata": {},
     "output_type": "display_data"
    },
    {
     "data": {
      "application/vnd.jupyter.widget-view+json": {
       "model_id": "cb7141a3c638437aae6326cb52412fa0",
       "version_major": 2,
       "version_minor": 0
      },
      "text/plain": [
       "rlut_Amon_CNRM-CM6-1_piClim-aer_r1i1p...:   0%|          |0.00/30.2M [?B/s]"
      ]
     },
     "metadata": {},
     "output_type": "display_data"
    },
    {
     "data": {
      "application/vnd.jupyter.widget-view+json": {
       "model_id": "a2f25e7a96bc411c869fe466446a52e5",
       "version_major": 2,
       "version_minor": 0
      },
      "text/plain": [
       "rsdscs_Amon_CNRM-CM6-1_piClim-aer_r1i...:   0%|          |0.00/26.5M [?B/s]"
      ]
     },
     "metadata": {},
     "output_type": "display_data"
    },
    {
     "data": {
      "application/vnd.jupyter.widget-view+json": {
       "model_id": "edf98e523b634498a014f288c0667baf",
       "version_major": 2,
       "version_minor": 0
      },
      "text/plain": [
       "rsdscs_Amon_CNRM-CM6-1_piClim-control...:   0%|          |0.00/26.3M [?B/s]"
      ]
     },
     "metadata": {},
     "output_type": "display_data"
    },
    {
     "data": {
      "application/vnd.jupyter.widget-view+json": {
       "model_id": "e439a746aea54d0eb2f0fecd1380186d",
       "version_major": 2,
       "version_minor": 0
      },
      "text/plain": [
       "rsdt_Amon_CNRM-CM6-1_piClim-control_r...:   0%|          |0.00/20.5M [?B/s]"
      ]
     },
     "metadata": {},
     "output_type": "display_data"
    },
    {
     "data": {
      "application/vnd.jupyter.widget-view+json": {
       "model_id": "d8ddf9f3c13e4d72840bfaeb2faa7d38",
       "version_major": 2,
       "version_minor": 0
      },
      "text/plain": [
       "rsds_Amon_GFDL-CM4_piClim-aer_r1i1p1f...:   0%|          |0.00/50.4M [?B/s]"
      ]
     },
     "metadata": {},
     "output_type": "display_data"
    },
    {
     "data": {
      "application/vnd.jupyter.widget-view+json": {
       "model_id": "00ffec12e23140a4a4ac32beb059c25e",
       "version_major": 2,
       "version_minor": 0
      },
      "text/plain": [
       "clt_Amon_BCC-ESM1_piClim-control_r1i1...:   0%|          |0.00/12.2M [?B/s]"
      ]
     },
     "metadata": {},
     "output_type": "display_data"
    },
    {
     "data": {
      "application/vnd.jupyter.widget-view+json": {
       "model_id": "7eeae700fdf24584806318b9b223f1dc",
       "version_major": 2,
       "version_minor": 0
      },
      "text/plain": [
       "rlus_Amon_BCC-ESM1_piClim-control_r1i...:   0%|          |0.00/12.2M [?B/s]"
      ]
     },
     "metadata": {},
     "output_type": "display_data"
    },
    {
     "data": {
      "application/vnd.jupyter.widget-view+json": {
       "model_id": "92ebbadc5aad4b7a87c39f62b14bb2d6",
       "version_major": 2,
       "version_minor": 0
      },
      "text/plain": [
       "rsds_Amon_BCC-ESM1_piClim-aer_r1i1p1f...:   0%|          |0.00/12.2M [?B/s]"
      ]
     },
     "metadata": {},
     "output_type": "display_data"
    },
    {
     "data": {
      "application/vnd.jupyter.widget-view+json": {
       "model_id": "215ae173e6d6469f81a97a91b5272063",
       "version_major": 2,
       "version_minor": 0
      },
      "text/plain": [
       "clt_Amon_UKESM1-0-LL_piClim-aer_r1i1p...:   0%|          |0.00/35.6M [?B/s]"
      ]
     },
     "metadata": {},
     "output_type": "display_data"
    },
    {
     "data": {
      "application/vnd.jupyter.widget-view+json": {
       "model_id": "3a3b3344e5aa4da5bf3c93351db8261a",
       "version_major": 2,
       "version_minor": 0
      },
      "text/plain": [
       "rlus_Amon_UKESM1-0-LL_piClim-aer_r1i1...:   0%|          |0.00/38.0M [?B/s]"
      ]
     },
     "metadata": {},
     "output_type": "display_data"
    },
    {
     "data": {
      "application/vnd.jupyter.widget-view+json": {
       "model_id": "1133f2a2098a493bb464c96c9811d3d7",
       "version_major": 2,
       "version_minor": 0
      },
      "text/plain": [
       "rsuscs_Amon_UKESM1-0-LL_piClim-aer_r1...:   0%|          |0.00/39.3M [?B/s]"
      ]
     },
     "metadata": {},
     "output_type": "display_data"
    },
    {
     "data": {
      "application/vnd.jupyter.widget-view+json": {
       "model_id": "45c9541fffc44d9a97f7a18b35abfbcb",
       "version_major": 2,
       "version_minor": 0
      },
      "text/plain": [
       "rsdscs_Amon_GFDL-CM4_piClim-control_r...:   0%|          |0.00/43.5M [?B/s]"
      ]
     },
     "metadata": {},
     "output_type": "display_data"
    },
    {
     "data": {
      "application/vnd.jupyter.widget-view+json": {
       "model_id": "06c3c3fee9ad4829951d5dde7bf6eb87",
       "version_major": 2,
       "version_minor": 0
      },
      "text/plain": [
       "rsds_Amon_NorESM2-MM_piClim-aer_r1i1p...:   0%|          |0.00/18.1M [?B/s]"
      ]
     },
     "metadata": {},
     "output_type": "display_data"
    },
    {
     "data": {
      "application/vnd.jupyter.widget-view+json": {
       "model_id": "f80142e5d4764f88b3b202eab60ef403",
       "version_major": 2,
       "version_minor": 0
      },
      "text/plain": [
       "rlds_Amon_NorESM2-MM_piClim-aer_r1i1p...:   0%|          |0.00/17.1M [?B/s]"
      ]
     },
     "metadata": {},
     "output_type": "display_data"
    },
    {
     "data": {
      "application/vnd.jupyter.widget-view+json": {
       "model_id": "6ce84a0c68984d7bbf6c34284f8d3016",
       "version_major": 2,
       "version_minor": 0
      },
      "text/plain": [
       "rsutcs_Amon_NorESM2-MM_piClim-aer_r1i...:   0%|          |0.00/15.8M [?B/s]"
      ]
     },
     "metadata": {},
     "output_type": "display_data"
    },
    {
     "data": {
      "application/vnd.jupyter.widget-view+json": {
       "model_id": "d8d515afd6b84c57863308f315bf60d9",
       "version_major": 2,
       "version_minor": 0
      },
      "text/plain": [
       "rlut_Amon_NorESM2-MM_piClim-control_r...:   0%|          |0.00/16.7M [?B/s]"
      ]
     },
     "metadata": {},
     "output_type": "display_data"
    },
    {
     "data": {
      "application/vnd.jupyter.widget-view+json": {
       "model_id": "5904fa76a0414e9cad0bc3cdb32b4c44",
       "version_major": 2,
       "version_minor": 0
      },
      "text/plain": [
       "rsdt_Amon_NorESM2-MM_piClim-control_r...:   0%|          |0.00/12.1M [?B/s]"
      ]
     },
     "metadata": {},
     "output_type": "display_data"
    },
    {
     "data": {
      "application/vnd.jupyter.widget-view+json": {
       "model_id": "893d6a03d7234f1da6254acf9b9dd16b",
       "version_major": 2,
       "version_minor": 0
      },
      "text/plain": [
       "rsuscs_Amon_NorESM2-MM_piClim-control...:   0%|          |0.00/15.4M [?B/s]"
      ]
     },
     "metadata": {},
     "output_type": "display_data"
    },
    {
     "data": {
      "application/vnd.jupyter.widget-view+json": {
       "model_id": "577de09ed876478ca753f36aac5650b5",
       "version_major": 2,
       "version_minor": 0
      },
      "text/plain": [
       "rsutcs_Amon_NorESM2-MM_piClim-control...:   0%|          |0.00/15.7M [?B/s]"
      ]
     },
     "metadata": {},
     "output_type": "display_data"
    },
    {
     "data": {
      "application/vnd.jupyter.widget-view+json": {
       "model_id": "3a169de1788a4802b9b29339d3ea0987",
       "version_major": 2,
       "version_minor": 0
      },
      "text/plain": [
       "rsdt_Amon_CanESM5_piClim-control_r1i1...:   0%|          |0.00/14.5M [?B/s]"
      ]
     },
     "metadata": {},
     "output_type": "display_data"
    },
    {
     "data": {
      "application/vnd.jupyter.widget-view+json": {
       "model_id": "3f59546b79414041a44be23aa2938b69",
       "version_major": 2,
       "version_minor": 0
      },
      "text/plain": [
       "rlus_Amon_CanESM5_piClim-aer_r1i1p2f1...:   0%|          |0.00/16.9M [?B/s]"
      ]
     },
     "metadata": {},
     "output_type": "display_data"
    },
    {
     "data": {
      "application/vnd.jupyter.widget-view+json": {
       "model_id": "539ed143f50142e6894395ecbcca58f3",
       "version_major": 2,
       "version_minor": 0
      },
      "text/plain": [
       "rsus_Amon_CanESM5_piClim-aer_r1i1p2f1...:   0%|          |0.00/16.8M [?B/s]"
      ]
     },
     "metadata": {},
     "output_type": "display_data"
    },
    {
     "data": {
      "application/vnd.jupyter.widget-view+json": {
       "model_id": "bf4bb4e0b0d844a9a36881bf4e12a398",
       "version_major": 2,
       "version_minor": 0
      },
      "text/plain": [
       "rlutcs_Amon_NorESM2-LM_piClim-aer_r1i...:   0%|          |0.00/4.30M [?B/s]"
      ]
     },
     "metadata": {},
     "output_type": "display_data"
    },
    {
     "data": {
      "application/vnd.jupyter.widget-view+json": {
       "model_id": "5a8b3db9ae294e96a7f6054e676af9d4",
       "version_major": 2,
       "version_minor": 0
      },
      "text/plain": [
       "rsut_Amon_CanESM5_piClim-aer_r1i1p2f1...:   0%|          |0.00/16.5M [?B/s]"
      ]
     },
     "metadata": {},
     "output_type": "display_data"
    },
    {
     "data": {
      "application/vnd.jupyter.widget-view+json": {
       "model_id": "50a29a03614f4551a6e5bcd9aec06d77",
       "version_major": 2,
       "version_minor": 0
      },
      "text/plain": [
       "rsds_Amon_NorESM2-LM_piClim-aer_r1i1p...:   0%|          |0.00/4.73M [?B/s]"
      ]
     },
     "metadata": {},
     "output_type": "display_data"
    },
    {
     "data": {
      "application/vnd.jupyter.widget-view+json": {
       "model_id": "75af9b1343814e8fb3f02933c0c571b8",
       "version_major": 2,
       "version_minor": 0
      },
      "text/plain": [
       "rsdscs_Amon_NorESM2-LM_piClim-aer_r1i...:   0%|          |0.00/4.07M [?B/s]"
      ]
     },
     "metadata": {},
     "output_type": "display_data"
    },
    {
     "data": {
      "application/vnd.jupyter.widget-view+json": {
       "model_id": "9cd30289864345f8aa9815f1f25b7555",
       "version_major": 2,
       "version_minor": 0
      },
      "text/plain": [
       "rsus_Amon_NorESM2-LM_piClim-aer_r1i1p...:   0%|          |0.00/4.59M [?B/s]"
      ]
     },
     "metadata": {},
     "output_type": "display_data"
    },
    {
     "data": {
      "application/vnd.jupyter.widget-view+json": {
       "model_id": "62151ea8feff45859fa25692485fd1c2",
       "version_major": 2,
       "version_minor": 0
      },
      "text/plain": [
       "rlus_Amon_GISS-E2-1-G_piClim-aer_r1i1...:   0%|          |0.00/19.3M [?B/s]"
      ]
     },
     "metadata": {},
     "output_type": "display_data"
    },
    {
     "data": {
      "application/vnd.jupyter.widget-view+json": {
       "model_id": "b9a3cc7739e34d208e1ca59be9c184c2",
       "version_major": 2,
       "version_minor": 0
      },
      "text/plain": [
       "rlus_Amon_MRI-ESM2-0_piClim-control_r...:   0%|          |0.00/1.61M [?B/s]"
      ]
     },
     "metadata": {},
     "output_type": "display_data"
    },
    {
     "data": {
      "application/vnd.jupyter.widget-view+json": {
       "model_id": "7ad1e0f95d54497592276624902109f8",
       "version_major": 2,
       "version_minor": 0
      },
      "text/plain": [
       "rsdt_Amon_MRI-ESM2-0_piClim-aer_r1i1p...:   0%|          |0.00/8.73M [?B/s]"
      ]
     },
     "metadata": {},
     "output_type": "display_data"
    },
    {
     "data": {
      "application/vnd.jupyter.widget-view+json": {
       "model_id": "b0a45489c5e64108919d84fedd44b243",
       "version_major": 2,
       "version_minor": 0
      },
      "text/plain": [
       "rsds_Amon_CESM2_piClim-aer_r1i1p1f1_g...:   0%|          |0.00/53.7M [?B/s]"
      ]
     },
     "metadata": {},
     "output_type": "display_data"
    },
    {
     "data": {
      "application/vnd.jupyter.widget-view+json": {
       "model_id": "0f8f6ebf04fc4f0dacbaf2ad8fa2d046",
       "version_major": 2,
       "version_minor": 0
      },
      "text/plain": [
       "rsdt_Amon_CESM2_piClim-control_r1i1p1...:   0%|          |0.00/36.7M [?B/s]"
      ]
     },
     "metadata": {},
     "output_type": "display_data"
    },
    {
     "data": {
      "application/vnd.jupyter.widget-view+json": {
       "model_id": "e9a0ec2899a74b7d985396fd7f208db9",
       "version_major": 2,
       "version_minor": 0
      },
      "text/plain": [
       "rlut_Amon_CNRM-ESM2-1_piClim-control_...:   0%|          |0.00/30.2M [?B/s]"
      ]
     },
     "metadata": {},
     "output_type": "display_data"
    },
    {
     "data": {
      "application/vnd.jupyter.widget-view+json": {
       "model_id": "d86b97eca1af4ff1b9a57b7a3636b594",
       "version_major": 2,
       "version_minor": 0
      },
      "text/plain": [
       "rsdscs_Amon_MPI-ESM-1-2-HAM_piClim-ae...:   0%|          |0.00/6.32M [?B/s]"
      ]
     },
     "metadata": {},
     "output_type": "display_data"
    },
    {
     "data": {
      "application/vnd.jupyter.widget-view+json": {
       "model_id": "0e50afc9b9484271a8a0e096a67a42fc",
       "version_major": 2,
       "version_minor": 0
      },
      "text/plain": [
       "rlds_Amon_IPSL-CM6A-LR-INCA_piClim-co...:   0%|          |0.00/20.4M [?B/s]"
      ]
     },
     "metadata": {},
     "output_type": "display_data"
    },
    {
     "data": {
      "application/vnd.jupyter.widget-view+json": {
       "model_id": "fb911b9cb1f048a3aa1e7941f94b3d62",
       "version_major": 2,
       "version_minor": 0
      },
      "text/plain": [
       "rsuscs_Amon_IPSL-CM6A-LR-INCA_piClim-...:   0%|          |0.00/19.9M [?B/s]"
      ]
     },
     "metadata": {},
     "output_type": "display_data"
    },
    {
     "data": {
      "application/vnd.jupyter.widget-view+json": {
       "model_id": "7b058e845112455e8e935eb5387763e1",
       "version_major": 2,
       "version_minor": 0
      },
      "text/plain": [
       "rsus_Amon_MIROC6_piClim-control_r1i1p...:   0%|          |0.00/32.9M [?B/s]"
      ]
     },
     "metadata": {},
     "output_type": "display_data"
    },
    {
     "data": {
      "application/vnd.jupyter.widget-view+json": {
       "model_id": "a51452503f5b4feabcb409fcbfb5c792",
       "version_major": 2,
       "version_minor": 0
      },
      "text/plain": [
       "rsds_Amon_CNRM-ESM2-1_piClim-aer_r1i1...:   0%|          |0.00/31.7M [?B/s]"
      ]
     },
     "metadata": {},
     "output_type": "display_data"
    },
    {
     "data": {
      "application/vnd.jupyter.widget-view+json": {
       "model_id": "208b61b402ee4abd88483c1af72fcf52",
       "version_major": 2,
       "version_minor": 0
      },
      "text/plain": [
       "rsus_Amon_CNRM-ESM2-1_piClim-aer_r1i1...:   0%|          |0.00/32.9M [?B/s]"
      ]
     },
     "metadata": {},
     "output_type": "display_data"
    },
    {
     "data": {
      "application/vnd.jupyter.widget-view+json": {
       "model_id": "021af22a0a864c3c9c15903f9cb75964",
       "version_major": 2,
       "version_minor": 0
      },
      "text/plain": [
       "rlds_Amon_IPSL-CM6A-LR_piClim-control...:   0%|          |0.00/20.4M [?B/s]"
      ]
     },
     "metadata": {},
     "output_type": "display_data"
    },
    {
     "data": {
      "application/vnd.jupyter.widget-view+json": {
       "model_id": "d1032ba51bd04044a2b616312a5d0cc7",
       "version_major": 2,
       "version_minor": 0
      },
      "text/plain": [
       "rlut_Amon_IPSL-CM6A-LR_piClim-control...:   0%|          |0.00/20.0M [?B/s]"
      ]
     },
     "metadata": {},
     "output_type": "display_data"
    },
    {
     "data": {
      "application/vnd.jupyter.widget-view+json": {
       "model_id": "918b0a010e9c4edf931072f565aa4b7d",
       "version_major": 2,
       "version_minor": 0
      },
      "text/plain": [
       "rsds_Amon_IPSL-CM6A-LR_piClim-control...:   0%|          |0.00/20.7M [?B/s]"
      ]
     },
     "metadata": {},
     "output_type": "display_data"
    },
    {
     "data": {
      "application/vnd.jupyter.widget-view+json": {
       "model_id": "ef1f252f493e4b7196a7509d91909ac2",
       "version_major": 2,
       "version_minor": 0
      },
      "text/plain": [
       "rsuscs_Amon_IPSL-CM6A-LR_piClim-contr...:   0%|          |0.00/19.7M [?B/s]"
      ]
     },
     "metadata": {},
     "output_type": "display_data"
    },
    {
     "data": {
      "application/vnd.jupyter.widget-view+json": {
       "model_id": "dc39687e03964841a10066a70d5048fd",
       "version_major": 2,
       "version_minor": 0
      },
      "text/plain": [
       "rsutcs_Amon_IPSL-CM6A-LR_piClim-contr...:   0%|          |0.00/19.0M [?B/s]"
      ]
     },
     "metadata": {},
     "output_type": "display_data"
    },
    {
     "data": {
      "application/vnd.jupyter.widget-view+json": {
       "model_id": "75931b6bd17246f681bf2fe37c07f827",
       "version_major": 2,
       "version_minor": 0
      },
      "text/plain": [
       "rsutcs_Amon_MPI-ESM-1-2-HAM_piClim-co...:   0%|          |0.00/6.78M [?B/s]"
      ]
     },
     "metadata": {},
     "output_type": "display_data"
    }
   ],
   "source": [
    "dataset_dict = catalog.to_dataset_dict(\n",
    "    add_measures=False, ignore_facets=[\"activtity_drs\", \"institution_id, table_id\"]\n",
    ")"
   ]
  },
  {
   "cell_type": "markdown",
   "id": "ca0ebc1e",
   "metadata": {},
   "source": [
    "## Homemade routine to retrieve the areacella of a given model, variant, grid_label tuple only once"
   ]
  },
  {
   "cell_type": "markdown",
   "id": "d1398b16",
   "metadata": {},
   "source": [
    "The main default of the intake-esgf package when it comes to look for measures is that it does so for every single variable. And this is independent of the fact that our 12 variables fore one experiment would share the same areacella grid. What's more, it always start by looking for our full set of facets which is irrevelant. \n",
    "\n",
    "Indeed, the only three parameters that define areacella are the **source_id**, **member_id** and obviously the **grid_label**. Conveniently enough, we can group our search results according to these three parameters with the *.model_groups* method. In the end, it may be that our experiment won't hold the areacella variable but it does not really matter, we just need to find one. This is the spirit of this routine made to still get areacella but significantly faster.\n",
    "\n",
    "It is worth noting that this method is not useful if you need to import a small number of models and variables as you won't really see the time difference."
   ]
  },
  {
   "cell_type": "code",
   "execution_count": null,
   "id": "83e379d4",
   "metadata": {},
   "outputs": [],
   "source": [
    "all_indices = True"
   ]
  },
  {
   "cell_type": "code",
   "execution_count": null,
   "id": "b5877905",
   "metadata": {},
   "outputs": [
    {
     "name": "stdout",
     "output_type": "stream",
     "text": [
      "We are looking at all the nodes.\n"
     ]
    }
   ],
   "source": [
    "intake_esgf.conf.set(all_indices=all_indices)\n",
    "\n",
    "if all_indices:\n",
    "\n",
    "    print(\"We are looking at all the nodes.\")\n",
    "\n",
    "else:\n",
    "\n",
    "    print(\"We are only looking at the globus nodes\")"
   ]
  },
  {
   "cell_type": "code",
   "execution_count": null,
   "id": "8ff61345",
   "metadata": {},
   "outputs": [
    {
     "ename": "NameError",
     "evalue": "name 'catalog' is not defined",
     "output_type": "error",
     "traceback": [
      "\u001b[31m---------------------------------------------------------------------------\u001b[39m",
      "\u001b[31mNameError\u001b[39m                                 Traceback (most recent call last)",
      "\u001b[36mCell\u001b[39m\u001b[36m \u001b[39m\u001b[32mIn[6]\u001b[39m\u001b[32m, line 11\u001b[39m\n\u001b[32m      7\u001b[39m dict_areacella = {}\n\u001b[32m      9\u001b[39m \u001b[38;5;66;03m## Models grouped by SOURCE_ID | MEMBER_ID | GRID_LABEL ##\u001b[39;00m\n\u001b[32m---> \u001b[39m\u001b[32m11\u001b[39m series_grouped_models = \u001b[43mcatalog\u001b[49m.model_groups()\n\u001b[32m     13\u001b[39m \u001b[38;5;66;03m## Number of rows ##\u001b[39;00m\n\u001b[32m     15\u001b[39m n_rows = series_grouped_models.size\n",
      "\u001b[31mNameError\u001b[39m: name 'catalog' is not defined"
     ]
    }
   ],
   "source": [
    "# ================ HOMEMADE ROUTINE TO GET AREACELLA GRIDS FASTER ================ #\n",
    "\n",
    "### INITIALISATION  ###\n",
    "\n",
    "## Initialise the full dictionnary ##\n",
    "\n",
    "dict_areacella = {}\n",
    "\n",
    "## Models grouped by SOURCE_ID | MEMBER_ID | GRID_LABEL ##\n",
    "\n",
    "series_grouped_models = catalog.model_groups()\n",
    "\n",
    "## Number of rows ##\n",
    "\n",
    "n_rows = series_grouped_models.size\n",
    "\n",
    "### GO THROUGH EVERY ROW OF THE PANDA SERIES ###\n",
    "\n",
    "for ii in range(n_rows):\n",
    "\n",
    "    ## Get the SOURCE_ID | MEMBER_ID | GRID_LABEL of the row ##\n",
    "\n",
    "    # Retrieve the row ##\n",
    "\n",
    "    row_ii = series_grouped_models.index[ii]\n",
    "\n",
    "    # Extract the labels #\n",
    "\n",
    "    source_id, member_id, grid_label = row_ii\n",
    "\n",
    "    # Build the key for this dictionnary entry ##\n",
    "\n",
    "    full_key = source_id + \".\" + member_id + \".\" + grid_label\n",
    "\n",
    "    ## Special case for the IPSL-CM6A-LR-INCA model ##\n",
    "\n",
    "    if source_id == \"IPSL-CM6A-LR-INCA\":\n",
    "\n",
    "        source_id = \"IPSL-CM6A-LR\"\n",
    "\n",
    "    ## Do the full search ##\n",
    "\n",
    "    areacella_search_full = catalog.search(\n",
    "        source_id=source_id, grid_label=grid_label, variable_id=\"areacella\", quiet=True\n",
    "    ).df  # silence the progress bar\n",
    "\n",
    "    ## Extract the first experiment id that gives an areacella entry ##\n",
    "\n",
    "    only_first_exp_id = areacella_search_full.experiment_id.values[0]\n",
    "\n",
    "    ## Extract the first member id that gives an areacella entry ##\n",
    "\n",
    "    only_first_member_id = areacella_search_full.member_id.values[0]\n",
    "\n",
    "    ## Get the areacella for the given row ##\n",
    "\n",
    "    # Search and download it #\n",
    "\n",
    "    areacella_ii = catalog.search(\n",
    "        source_id=source_id,\n",
    "        grid_label=grid_label,\n",
    "        variable_id=\"areacella\",\n",
    "        experiment_id=only_first_exp_id,\n",
    "        member_id=only_first_member_id,\n",
    "        quiet=True,\n",
    "    ).to_dataset_dict(\n",
    "        add_measures=False, quiet=True\n",
    "    )  # silence the progress bar\n",
    "\n",
    "    # Store it in dictionnary #\n",
    "\n",
    "    dict_areacella[full_key] = areacella_ii[\"areacella\"]"
   ]
  },
  {
   "cell_type": "code",
   "execution_count": 5,
   "id": "7de447b8",
   "metadata": {},
   "outputs": [
    {
     "name": "stdout",
     "output_type": "stream",
     "text": [
      "The downloading folder CMIP6-DATA is under the path /home/jovyan/certainty-data/CMIP6-DATA.\n"
     ]
    }
   ],
   "source": [
    "# ================ CREATE THE FOLDER TO STORE THE DOWNLOADED DATA ================ #\n",
    "\n",
    "### DEFINE WHERE TO MOVE THE FILES AT THE END ###\n",
    "\n",
    "## Home directory ##\n",
    "\n",
    "homedir_path = os.path.expanduser(\"~\")\n",
    "\n",
    "## Parent directory ##\n",
    "\n",
    "parent_path = homedir_path + \"/certainty-data\"\n",
    "\n",
    "## Name of the created folder ##\n",
    "\n",
    "downloading_folder_name = \"CMIP6-DATA\"\n",
    "\n",
    "### CREATE THE DIRECTORY AND EMPTY IF MAKE_A_NEW_FOLDER ###\n",
    "\n",
    "downloading_path = create_dir(\n",
    "    parent_path=parent_path, name=downloading_folder_name, clear=do_we_clear\n",
    ")\n",
    "\n",
    "print(\n",
    "    \"The downloading folder {} is under the path {}.\".format(\n",
    "        downloading_folder_name, downloading_path\n",
    "    )\n",
    ")"
   ]
  }
 ],
 "metadata": {
  "kernelspec": {
   "display_name": "cmip6-download",
   "language": "python",
   "name": "cmip6-download"
  },
  "language_info": {
   "codemirror_mode": {
    "name": "ipython",
    "version": 3
   },
   "file_extension": ".py",
   "mimetype": "text/x-python",
   "name": "python",
   "nbconvert_exporter": "python",
   "pygments_lexer": "ipython3",
   "version": "3.13.2"
  }
 },
 "nbformat": 4,
 "nbformat_minor": 5
}
