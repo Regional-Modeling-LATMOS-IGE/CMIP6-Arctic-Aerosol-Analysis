{
 "cells": [
  {
   "cell_type": "markdown",
   "id": "5dc97a7c-a97e-4464-9d20-e22becb5685b",
   "metadata": {},
   "source": [
    "# Downloading needed CMIP6 data"
   ]
  },
  {
   "cell_type": "markdown",
   "id": "ed8b1ede-2de5-487c-9602-6b1b339c6e44",
   "metadata": {},
   "source": [
    "## Purpose of the notebook"
   ]
  },
  {
   "cell_type": "markdown",
   "id": "2a42285e-309f-4a3a-8e6d-e8499d2c1112",
   "metadata": {},
   "source": [
    "This notebook aims at retrieving all the needed url(s) to download the needed CMIP6 data for a given analysis. It uses the *esgf-pyclient* library : https://esgf-pyclient.readthedocs.io/en/latest/index.html.\n",
    "\n",
    "Feel free to share, use and improve the following code according to the provided license on the repository."
   ]
  },
  {
   "cell_type": "markdown",
   "id": "5e4b4f66-3223-46b9-94e9-c104451a5da6",
   "metadata": {},
   "source": [
    "## Initialization "
   ]
  },
  {
   "cell_type": "markdown",
   "id": "19fb1cc5-febe-4ebf-8dca-b8700098e548",
   "metadata": {},
   "source": [
    "### Importations"
   ]
  },
  {
   "cell_type": "code",
   "execution_count": 3,
   "id": "16dab12c-5141-4e6f-a908-aa5792b296ea",
   "metadata": {},
   "outputs": [],
   "source": [
    "# ================ IMPORTATIONS ================ #\n",
    "\n",
    "from pyesgf.search import SearchConnection\n",
    "import os\n",
    "import pandas as pd\n",
    "import requests"
   ]
  },
  {
   "cell_type": "markdown",
   "id": "65b4aaec-1f8a-4f55-a5c3-4677dbb88ede",
   "metadata": {},
   "source": [
    "### Global criterias for the data research"
   ]
  },
  {
   "cell_type": "code",
   "execution_count": 4,
   "id": "b42351aa-2c43-4de6-81db-d23669a0ab05",
   "metadata": {},
   "outputs": [],
   "source": [
    "# ================ COMMON SEARCH CRITERIAS FOR BOTH EXPERIMENT ================ #\n",
    "\n",
    "### CMIP6 DATA ###\n",
    "\n",
    "project = [\"CMIP6\"]\n",
    "\n",
    "### MONTHLY FREQUENCY ###\n",
    "\n",
    "frequency = [\"mon\"]\n",
    "\n",
    "### VARIABLE TO SEARCH FOR BOTH EXPERIMENTS ###\n",
    "\n",
    "variables = ['clt','rsdt','rsut','rsutcs','rsds','rsus','rsdscs','rsuscs','rlut','rlutcs','rlds','rlus']"
   ]
  },
  {
   "cell_type": "markdown",
   "id": "643862f2-ef25-4565-8c0b-d7aba158bce0",
   "metadata": {},
   "source": [
    "## One model's output example for the piClim-control experiment\n",
    "\n",
    "We look for the defined variables for the **IPSL-CM6A-LR** model for the **r1i1p1f1** variant. "
   ]
  },
  {
   "cell_type": "markdown",
   "id": "53297e15-f287-4a18-bd05-3ec04a911759",
   "metadata": {},
   "source": [
    "### Definition of the specific query parameters we need"
   ]
  },
  {
   "cell_type": "markdown",
   "id": "48f6d95c-5026-47a8-bb9b-c586cc0b7479",
   "metadata": {},
   "source": [
    "We define all the specific information that are specific to our model.variant search as well as for the given experiment we are looking for."
   ]
  },
  {
   "cell_type": "code",
   "execution_count": 32,
   "id": "1946b009-9cf2-429b-a17e-557f12258488",
   "metadata": {},
   "outputs": [],
   "source": [
    "# ================ DEFINE THE ADDITiONNAL SEARCH CRITERIAS FOR A GiVEN MODEL'S OUTPUT ================ #\n",
    "\n",
    "### SOURCE ID : NAME OF THE CHOSEN MODEL ###\n",
    "\n",
    "source_id = [\"IPSL-CM6A-LR\"]\n",
    "\n",
    "### VARIANT OF THE MODEL RUN ###\n",
    "\n",
    "variant_label = [\"r1i1p1f1\"]\n",
    "\n",
    "### EXPERIMENT ID ###\n",
    "\n",
    "experiment_id = [\"piClim-control\"]\n",
    "\n",
    "### WHOLE SET OF QUERY PARAMETERS ###\n",
    "\n",
    "facets = 'project,frequency,variable,source_id,variant_label,experiment_id,latest,replica'"
   ]
  },
  {
   "cell_type": "markdown",
   "id": "b911593f-ae7e-401a-9282-5f116077d65c",
   "metadata": {},
   "source": [
    "*facets* will be used to confirm that our query holds all the parameters we are looking for.\\\n",
    "The element *latest* is to specify we want the latest data.\\\n",
    "The element *replica* is to specify whether we want duplicates to be included in our search results."
   ]
  },
  {
   "cell_type": "markdown",
   "id": "42db0070-7616-4b32-b04e-e1318cc8aa21",
   "metadata": {},
   "source": [
    "### Run the actual search\n",
    "\n",
    "We start the search with the IPSL node. Since the variable *distrib* is set to **True**, we will extend the search to all the esgf nodes in case of lack of match."
   ]
  },
  {
   "cell_type": "code",
   "execution_count": 36,
   "id": "32b23462-c0c3-47d6-be20-e25301db13b2",
   "metadata": {},
   "outputs": [
    {
     "name": "stdout",
     "output_type": "stream",
     "text": [
      "The search has returned 12 results\n"
     ]
    }
   ],
   "source": [
    "# ================ RUN THE QUERY FOR THE PICLIM-CONTROL EXPERIMENT ================ #\n",
    "\n",
    "### SET THE STARTING NODE FOR THE SEARCH ###\n",
    "\n",
    "conn = SearchConnection('https://esgf-node.ipsl.upmc.fr/esg-search', distrib = True)\n",
    "\n",
    "### QUERY ###\n",
    "\n",
    "## Launch the query ##\n",
    "\n",
    "query = conn.new_context(project = project,\n",
    "                         frequency = frequency,\n",
    "                         variable = variables,\n",
    "                         source_id = source_id,\n",
    "                         variant_label = variant_label,\n",
    "                         experiment_id = experiment_id,\n",
    "                         latest = True, # Set to \"True\" to get the latest version\n",
    "                         replica = False, # Set to \"False\" to avoid getting duplicate in the search results\n",
    "                         facets = facets) # facets confirms the search criterias we have made\n",
    "                         \n",
    "\n",
    "\n",
    "## Number of results ##\n",
    "\n",
    "results_count = query.hit_count \n",
    "\n",
    "## Print the number of results ##\n",
    "\n",
    "print (f\"The search has returned {results_count} results\")"
   ]
  },
  {
   "cell_type": "code",
   "execution_count": 39,
   "id": "e76abf17-d5dc-472e-bf87-a4a93da4a95b",
   "metadata": {},
   "outputs": [
    {
     "data": {
      "text/plain": [
       "{\"'project\": {},\n",
       " 'frequency': {'mon': 12},\n",
       " 'variable': {'rsutcs': 1,\n",
       "  'rsut': 1,\n",
       "  'rsuscs': 1,\n",
       "  'rsus': 1,\n",
       "  'rsdt': 1,\n",
       "  'rsdscs': 1,\n",
       "  'rsds': 1,\n",
       "  'rlutcs': 1,\n",
       "  'rlut': 1,\n",
       "  'rlus': 1,\n",
       "  'rlds': 1,\n",
       "  'clt': 1},\n",
       " 'source_id': {'IPSL-CM6A-LR': 12},\n",
       " 'variant_label': {'r1i1p1f1': 12},\n",
       " 'experiment_id': {'piClim-control': 12},\n",
       " 'latest': {'true': 12},\n",
       " \"replica'\": {}}"
      ]
     },
     "execution_count": 39,
     "metadata": {},
     "output_type": "execute_result"
    }
   ],
   "source": [
    "query.facet_counts"
   ]
  },
  {
   "cell_type": "markdown",
   "id": "814a6d1f-3833-44a0-bbed-6ec553dcd299",
   "metadata": {},
   "source": [
    "### Unpack the found url(s) :"
   ]
  },
  {
   "cell_type": "code",
   "execution_count": 42,
   "id": "2312e78a-2090-4f20-8506-30fc794a672a",
   "metadata": {},
   "outputs": [
    {
     "name": "stdout",
     "output_type": "stream",
     "text": [
      "env: ESGF_PYCLIENT_NO_FACETS_STAR_WARNING=42\n"
     ]
    }
   ],
   "source": [
    "files_list\n",
    "\n",
    "%env ESGF_PYCLIENT_NO_FACETS_STAR_WARNING = 42"
   ]
  },
  {
   "cell_type": "code",
   "execution_count": 43,
   "id": "6838747d-844d-4692-b293-2212cd77f12c",
   "metadata": {},
   "outputs": [
    {
     "name": "stdout",
     "output_type": "stream",
     "text": [
      "http://vesg.ipsl.upmc.fr/thredds/fileServer/cmip6/RFMIP/IPSL/IPSL-CM6A-LR/piClim-control/r1i1p1f1/Amon/clt/gr/v20181204/clt_Amon_IPSL-CM6A-LR_piClim-control_r1i1p1f1_gr_201401-204312.nc\n",
      "http://vesg.ipsl.upmc.fr/thredds/fileServer/cmip6/RFMIP/IPSL/IPSL-CM6A-LR/piClim-control/r1i1p1f1/Amon/rsdscs/gr/v20181204/rsdscs_Amon_IPSL-CM6A-LR_piClim-control_r1i1p1f1_gr_201401-204312.nc\n",
      "http://vesg.ipsl.upmc.fr/thredds/fileServer/cmip6/RFMIP/IPSL/IPSL-CM6A-LR/piClim-control/r1i1p1f1/Amon/rlutcs/gr/v20181204/rlutcs_Amon_IPSL-CM6A-LR_piClim-control_r1i1p1f1_gr_201401-204312.nc\n",
      "http://vesg.ipsl.upmc.fr/thredds/fileServer/cmip6/RFMIP/IPSL/IPSL-CM6A-LR/piClim-control/r1i1p1f1/Amon/rsds/gr/v20181204/rsds_Amon_IPSL-CM6A-LR_piClim-control_r1i1p1f1_gr_201401-204312.nc\n",
      "http://vesg.ipsl.upmc.fr/thredds/fileServer/cmip6/RFMIP/IPSL/IPSL-CM6A-LR/piClim-control/r1i1p1f1/Amon/rlds/gr/v20181204/rlds_Amon_IPSL-CM6A-LR_piClim-control_r1i1p1f1_gr_201401-204312.nc\n",
      "http://vesg.ipsl.upmc.fr/thredds/fileServer/cmip6/RFMIP/IPSL/IPSL-CM6A-LR/piClim-control/r1i1p1f1/Amon/rlus/gr/v20181204/rlus_Amon_IPSL-CM6A-LR_piClim-control_r1i1p1f1_gr_201401-204312.nc\n",
      "http://vesg.ipsl.upmc.fr/thredds/fileServer/cmip6/RFMIP/IPSL/IPSL-CM6A-LR/piClim-control/r1i1p1f1/Amon/rlut/gr/v20181204/rlut_Amon_IPSL-CM6A-LR_piClim-control_r1i1p1f1_gr_201401-204312.nc\n",
      "http://vesg.ipsl.upmc.fr/thredds/fileServer/cmip6/RFMIP/IPSL/IPSL-CM6A-LR/piClim-control/r1i1p1f1/Amon/rsuscs/gr/v20181204/rsuscs_Amon_IPSL-CM6A-LR_piClim-control_r1i1p1f1_gr_201401-204312.nc\n",
      "http://vesg.ipsl.upmc.fr/thredds/fileServer/cmip6/RFMIP/IPSL/IPSL-CM6A-LR/piClim-control/r1i1p1f1/Amon/rsutcs/gr/v20181204/rsutcs_Amon_IPSL-CM6A-LR_piClim-control_r1i1p1f1_gr_201401-204312.nc\n",
      "http://vesg.ipsl.upmc.fr/thredds/fileServer/cmip6/RFMIP/IPSL/IPSL-CM6A-LR/piClim-control/r1i1p1f1/Amon/rsus/gr/v20181204/rsus_Amon_IPSL-CM6A-LR_piClim-control_r1i1p1f1_gr_201401-204312.nc\n",
      "http://vesg.ipsl.upmc.fr/thredds/fileServer/cmip6/RFMIP/IPSL/IPSL-CM6A-LR/piClim-control/r1i1p1f1/Amon/rsdt/gr/v20181204/rsdt_Amon_IPSL-CM6A-LR_piClim-control_r1i1p1f1_gr_201401-204312.nc\n",
      "http://vesg.ipsl.upmc.fr/thredds/fileServer/cmip6/RFMIP/IPSL/IPSL-CM6A-LR/piClim-control/r1i1p1f1/Amon/rsut/gr/v20181204/rsut_Amon_IPSL-CM6A-LR_piClim-control_r1i1p1f1_gr_201401-204312.nc\n"
     ]
    }
   ],
   "source": [
    "ii = 0\n",
    "\n",
    "for ii in range(results_count):\n",
    "    dataset = query.search()[ii]\n",
    "    \n",
    "    files_list = dataset.file_context().search()\n",
    "    \n",
    "    for file in files_list:\n",
    "        \n",
    "        print(file.download_url)"
   ]
  },
  {
   "cell_type": "markdown",
   "id": "6415a8eb-9064-4fbd-a22d-b0f9591200eb",
   "metadata": {},
   "source": [
    "Each result contains a certain number of files. Each file is associated with a unique URL that can be used to download it. The following cell  is written to extract these URLs and store them into a list."
   ]
  },
  {
   "cell_type": "code",
   "execution_count": null,
   "id": "0f75d9f9-f053-4bef-85cb-1f3bbd0afc7e",
   "metadata": {},
   "outputs": [],
   "source": [
    "# ================ UNPACK THE FOUND URLS ================ #\n",
    "\n",
    "urls = [] \n",
    "\n",
    "### LOOP OVER THE FOUND RESULTS ###\n",
    "\n",
    "for i in range(results_count): \n",
    "\n",
    "    dataset = query.search()[i] # This open a dataset \n",
    "\n",
    "    files_list = dataset.file_context().search() # This create a list of files contained in the opened dataset\n",
    "\n",
    "    for file in files_list: # This loop will iterate over each file of the list to extract their URLs\n",
    "\n",
    "        urls.append(file.download_url)\n",
    "\n",
    "    print (f\"Results {i+1} out of {results_count} processed\")\n",
    "\n",
    "# Saving the URLs in an Excel spreadsheet\n",
    "df = pd.DataFrame(urls, columns = [\"Links\"])\n",
    "\n",
    "df.to_excel(\"C:/Users/gilunga/Documents/files_url.xlsx\")\n"
   ]
  }
 ],
 "metadata": {
  "kernelspec": {
   "display_name": "download-cmip6",
   "language": "python",
   "name": "download-cmip6"
  },
  "language_info": {
   "codemirror_mode": {
    "name": "ipython",
    "version": 3
   },
   "file_extension": ".py",
   "mimetype": "text/x-python",
   "name": "python",
   "nbconvert_exporter": "python",
   "pygments_lexer": "ipython3",
   "version": "3.9.21"
  }
 },
 "nbformat": 4,
 "nbformat_minor": 5
}
