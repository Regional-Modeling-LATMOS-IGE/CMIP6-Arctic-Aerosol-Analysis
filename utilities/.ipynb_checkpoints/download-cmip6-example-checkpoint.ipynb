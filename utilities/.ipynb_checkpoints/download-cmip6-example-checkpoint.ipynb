{
 "cells": [
  {
   "cell_type": "markdown",
   "id": "5dc97a7c-a97e-4464-9d20-e22becb5685b",
   "metadata": {},
   "source": [
    "# Downloading needed CMIP6 data on one model's output :"
   ]
  },
  {
   "cell_type": "markdown",
   "id": "ed8b1ede-2de5-487c-9602-6b1b339c6e44",
   "metadata": {},
   "source": [
    "## Purpose of the notebook"
   ]
  },
  {
   "cell_type": "markdown",
   "id": "2a42285e-309f-4a3a-8e6d-e8499d2c1112",
   "metadata": {},
   "source": [
    "This notebook aims at retrieving the wget script to download the needed CMIP6 variables for the **piClim-control** experiment and the **r1i1p1f1** variant for the **IPSL-CM6A-LR** model. It uses the *esgf-pyclient* library : https://esgf-pyclient.readthedocs.io/en/latest/index.html.\n",
    "\n",
    "Feel free to share, use and improve the following code according to the provided license on the repository."
   ]
  },
  {
   "cell_type": "markdown",
   "id": "5e4b4f66-3223-46b9-94e9-c104451a5da6",
   "metadata": {},
   "source": [
    "## Initialization "
   ]
  },
  {
   "cell_type": "markdown",
   "id": "fd20cd4b-ca18-4a76-a7cd-a804554c6a3a",
   "metadata": {},
   "source": [
    "### Set environment parameters"
   ]
  },
  {
   "cell_type": "markdown",
   "id": "48f9e340-7abb-4040-ad01-de943ca53a2e",
   "metadata": {},
   "source": [
    "We set this parameter in order to avoid the display of needless and impactless errors regarding the *facets* variable."
   ]
  },
  {
   "cell_type": "code",
   "execution_count": 1,
   "id": "deb9cd2c-7a8a-4b03-b95d-2cc2ae643773",
   "metadata": {},
   "outputs": [
    {
     "name": "stdout",
     "output_type": "stream",
     "text": [
      "env: ESGF_PYCLIENT_NO_FACETS_STAR_WARNING=42\n"
     ]
    }
   ],
   "source": [
    "# ================ SET ENVIRONMENT PARAMETERS ================ #\n",
    "\n",
    "### NO FACETS WARNING ###\n",
    "\n",
    "%env ESGF_PYCLIENT_NO_FACETS_STAR_WARNING = 42"
   ]
  },
  {
   "cell_type": "markdown",
   "id": "19fb1cc5-febe-4ebf-8dca-b8700098e548",
   "metadata": {},
   "source": [
    "### Importations"
   ]
  },
  {
   "cell_type": "code",
   "execution_count": 2,
   "id": "16dab12c-5141-4e6f-a908-aa5792b296ea",
   "metadata": {},
   "outputs": [],
   "source": [
    "# ================ IMPORTATIONS ================ #\n",
    "\n",
    "from pyesgf.search import SearchConnection # the query package of pyesgf for cmip6 data\n",
    "\n",
    "import os # to handle path's management\n",
    "\n",
    "import pandas as pd # to store the urls under a table format\n",
    "\n",
    "from tqdm import tqdm # to make cool progress bars\n",
    "\n",
    "import tempfile # to make a temporary file\n",
    "\n",
    "import subprocess # to run the wget code from python"
   ]
  },
  {
   "cell_type": "markdown",
   "id": "96bb63dd-c8ae-4720-901d-a63e306221fc",
   "metadata": {},
   "source": [
    "### Set the saving directory's path "
   ]
  },
  {
   "cell_type": "code",
   "execution_count": 3,
   "id": "edbd40b3-f2d7-4f42-9f73-3e739a88553d",
   "metadata": {},
   "outputs": [],
   "source": [
    "# ================ SAVING PATH ================ #\n",
    "\n",
    "### DEFINE WHERE TO MOVE THE FILES AT THE END ###\n",
    "\n",
    "save_dir = \"/data/lgiboni/downloaded-cmip6-datadir-example/\"\n",
    "\n",
    "### TEMPORARY FOLDER IN WHICH TO STORE THE WGET FILE AND THE DATA ###\n",
    "\n",
    "download_dir = \"/sratchu/lgiboni/cmip6-temporary-downloading-folder/\""
   ]
  },
  {
   "cell_type": "markdown",
   "id": "65b4aaec-1f8a-4f55-a5c3-4677dbb88ede",
   "metadata": {},
   "source": [
    "### Global criterias for the data research"
   ]
  },
  {
   "cell_type": "code",
   "execution_count": 4,
   "id": "b42351aa-2c43-4de6-81db-d23669a0ab05",
   "metadata": {},
   "outputs": [],
   "source": [
    "# ================ COMMON SEARCH CRITERIAS FOR OUR ANALYSIS ================ #\n",
    "\n",
    "### CMIP6 DATA ###\n",
    "\n",
    "project = [\"CMIP6\"]\n",
    "\n",
    "### MONTHLY FREQUENCY ###\n",
    "\n",
    "frequency = [\"mon\"]\n",
    "\n",
    "### VARIABLE TO SEARCH FOR ###\n",
    "\n",
    "variables = ['clt','rsdt','rsut','rsutcs','rsds','rsus','rsdscs','rsuscs','rlut','rlutcs','rlds','rlus']"
   ]
  },
  {
   "cell_type": "markdown",
   "id": "643862f2-ef25-4565-8c0b-d7aba158bce0",
   "metadata": {},
   "source": [
    "## Search for one model's output : example for the piClim-control experiment\n",
    "\n",
    "We look for the defined variables for the **IPSL-CM6A-LR** model for the **r1i1p1f1** variant. "
   ]
  },
  {
   "cell_type": "markdown",
   "id": "53297e15-f287-4a18-bd05-3ec04a911759",
   "metadata": {},
   "source": [
    "### Definition of the specific query parameters we need"
   ]
  },
  {
   "cell_type": "markdown",
   "id": "48f6d95c-5026-47a8-bb9b-c586cc0b7479",
   "metadata": {},
   "source": [
    "We define all the specific information that are specific to our model.variant search as well as for the given experiment we are looking for."
   ]
  },
  {
   "cell_type": "code",
   "execution_count": 5,
   "id": "1946b009-9cf2-429b-a17e-557f12258488",
   "metadata": {},
   "outputs": [],
   "source": [
    "# ================ DEFINE THE ADDITiONNAL SEARCH CRITERIAS FOR A GiVEN MODEL'S OUTPUT ================ #\n",
    "\n",
    "### SOURCE ID : NAME OF THE CHOSEN MODEL ###\n",
    "\n",
    "source_id = [\"IPSL-CM6A-LR\"]\n",
    "\n",
    "### VARIANT OF THE MODEL RUN ###\n",
    "\n",
    "variant_label = [\"r1i1p1f1\"]\n",
    "\n",
    "### EXPERIMENT ID ###\n",
    "\n",
    "experiment_id = [\"piClim-control\"]\n",
    "\n",
    "### WHOLE SET OF QUERY PARAMETERS ###\n",
    "\n",
    "facets = 'project,frequency,variable,source_id,variant_label,experiment_id,latest,replica'"
   ]
  },
  {
   "cell_type": "markdown",
   "id": "b911593f-ae7e-401a-9282-5f116077d65c",
   "metadata": {},
   "source": [
    "*facets* will be used to confirm that our query holds all the parameters we are looking for.\\\n",
    "The element *latest* is to specify we want the latest data.\\\n",
    "The element *replica* is to specify whether we want duplicates to be included in our search results."
   ]
  },
  {
   "cell_type": "markdown",
   "id": "42db0070-7616-4b32-b04e-e1318cc8aa21",
   "metadata": {},
   "source": [
    "### Run the actual search\n",
    "\n",
    "We start the search with the IPSL node. Since the variable *distrib* is set to **True**, we will extend the search to all the esgf nodes in case of lack of match."
   ]
  },
  {
   "cell_type": "code",
   "execution_count": 6,
   "id": "32b23462-c0c3-47d6-be20-e25301db13b2",
   "metadata": {},
   "outputs": [
    {
     "name": "stdout",
     "output_type": "stream",
     "text": [
      "The search has returned 12 results\n"
     ]
    }
   ],
   "source": [
    "# ================ RUN THE QUERY FOR THE PICLIM-CONTROL EXPERIMENT ================ #\n",
    "\n",
    "### SET THE STARTING NODE FOR THE SEARCH ###\n",
    "\n",
    "conn = SearchConnection('https://esgf-node.ipsl.upmc.fr/esg-search', distrib = True)\n",
    "\n",
    "### QUERY ###\n",
    "\n",
    "## Launch the query ##\n",
    "\n",
    "query = conn.new_context(project = project,\n",
    "                         frequency = frequency,\n",
    "                         variable = variables,\n",
    "                         source_id = source_id,\n",
    "                         variant_label = variant_label,\n",
    "                         experiment_id = experiment_id,\n",
    "                         latest = True, # Set to \"True\" to get the latest version\n",
    "                         replica = False, # Set to \"False\" to avoid getting duplicate in the search results\n",
    "                         facets = facets) # facets confirms the search criterias we have made\n",
    "                         \n",
    "\n",
    "\n",
    "## Number of results ##\n",
    "\n",
    "results_count = query.hit_count \n",
    "\n",
    "## Print the number of results ##\n",
    "\n",
    "print (f\"The search has returned {results_count} results\")"
   ]
  },
  {
   "cell_type": "markdown",
   "id": "ad025e35-db91-484a-9e05-2b1abd212781",
   "metadata": {},
   "source": [
    "Since we have 12 variables, we have one result per variable for the researched model.variant couple and experiment."
   ]
  },
  {
   "cell_type": "markdown",
   "id": "c010097a-9c79-411b-a538-06abff570bba",
   "metadata": {},
   "source": [
    "## Wget script"
   ]
  },
  {
   "cell_type": "markdown",
   "id": "3302a19b-69a9-4290-b959-1c06854bb6c7",
   "metadata": {},
   "source": [
    "Now that the query has been fulfilled, we can retrieve the wget script associated to the matching results and execute it."
   ]
  },
  {
   "cell_type": "markdown",
   "id": "32da42d9-2b39-4856-8abc-3b65707dafb0",
   "metadata": {},
   "source": [
    "### Build the folders' names "
   ]
  },
  {
   "cell_type": "markdown",
   "id": "791f6b44-5bcf-4271-82c8-e230f79abf4a",
   "metadata": {},
   "source": [
    "Before extracting and saving the script locally, we set the saving and downloading paths according to the model.variant couple and experiment name defined earlier."
   ]
  },
  {
   "cell_type": "code",
   "execution_count": 7,
   "id": "550490cd-4466-4156-b996-481c225ca0ed",
   "metadata": {},
   "outputs": [],
   "source": [
    "# ================ BUILD THE FOLDERS' NAME ================ #\n",
    "\n",
    "### DEFINE THE EXTRACT PATH FOR OUR GIVEN REQUEST ###\n",
    "\n",
    "subpath_request = source_id[0] + \".\" + variant_label[0] + \"/\" + experiment_id[0] + \"/\"\n",
    "\n",
    "### DEFINE WHERE TO MOVE THE FILES AT THE END ###\n",
    "\n",
    "save_dir_for_given_search = save_dir + subpath_request\n",
    "\n",
    "### TEMPORARY FOLDER IN WHICH TO STORE THE WGET FILE AND THE DATA ###\n",
    "\n",
    "download_dir_for_given_search = download_dir + subpath_request"
   ]
  },
  {
   "cell_type": "code",
   "execution_count": 8,
   "id": "aa1700f4-1d2b-4ded-8569-24cef119d726",
   "metadata": {},
   "outputs": [],
   "source": [
    "### DEFINE OUR OWN TEMPORARY DIRECTORY ###\n",
    "\n",
    "tempfile.tempdir = \"/scratchu/lgiboni/tmp\""
   ]
  },
  {
   "cell_type": "markdown",
   "id": "d908ba17-8ba3-47ce-892f-88cdf0781507",
   "metadata": {},
   "source": [
    "### Extract the script"
   ]
  },
  {
   "cell_type": "code",
   "execution_count": 9,
   "id": "d6f75a8e-9aa5-4f2d-ae82-d6eb33f793d9",
   "metadata": {},
   "outputs": [
    {
     "ename": "KeyboardInterrupt",
     "evalue": "",
     "output_type": "error",
     "traceback": [
      "\u001b[0;31m---------------------------------------------------------------------------\u001b[0m",
      "\u001b[0;31mKeyboardInterrupt\u001b[0m                         Traceback (most recent call last)",
      "Cell \u001b[0;32mIn[9], line 40\u001b[0m\n\u001b[1;32m     32\u001b[0m script_name \u001b[38;5;241m=\u001b[39m os\u001b[38;5;241m.\u001b[39mpath\u001b[38;5;241m.\u001b[39mbasename(script_path) \u001b[38;5;66;03m# we remove the .sh extension from the script's name\u001b[39;00m\n\u001b[1;32m     35\u001b[0m \u001b[38;5;66;03m## Run the wget script from python ##\u001b[39;00m\n\u001b[1;32m     36\u001b[0m \n\u001b[1;32m     37\u001b[0m \u001b[38;5;66;03m#(\"{} -s &> {}\".format(script_path, log_name), , shell = True, stdout=subprocess.PIPE, stderr=subprocess.STDOUT)\u001b[39;00m\n\u001b[1;32m     38\u001b[0m \u001b[38;5;66;03m#subprocess.check_output\u001b[39;00m\n\u001b[0;32m---> 40\u001b[0m download_process \u001b[38;5;241m=\u001b[39m \u001b[43msubprocess\u001b[49m\u001b[38;5;241;43m.\u001b[39;49m\u001b[43mrun\u001b[49m\u001b[43m(\u001b[49m\u001b[38;5;124;43m\"\u001b[39;49m\u001b[38;5;124;43mbash \u001b[39;49m\u001b[38;5;124;43m\"\u001b[39;49m\u001b[43m \u001b[49m\u001b[38;5;241;43m+\u001b[39;49m\u001b[43m \u001b[49m\u001b[43mscript_name\u001b[49m\u001b[43m \u001b[49m\u001b[38;5;241;43m+\u001b[39;49m\u001b[43m \u001b[49m\u001b[38;5;124;43m\"\u001b[39;49m\u001b[38;5;124;43m -qs\u001b[39;49m\u001b[38;5;124;43m\"\u001b[39;49m\u001b[43m,\u001b[49m\u001b[43m \u001b[49m\u001b[43mcwd\u001b[49m\u001b[38;5;241;43m=\u001b[39;49m\u001b[43mdownload_dir\u001b[49m\u001b[43m,\u001b[49m\u001b[43m  \u001b[49m\u001b[43mshell\u001b[49m\u001b[38;5;241;43m=\u001b[39;49m\u001b[38;5;28;43;01mTrue\u001b[39;49;00m\u001b[43m,\u001b[49m\u001b[43m \u001b[49m\u001b[43mcheck\u001b[49m\u001b[43m \u001b[49m\u001b[38;5;241;43m=\u001b[39;49m\u001b[43m \u001b[49m\u001b[38;5;28;43;01mTrue\u001b[39;49;00m\u001b[43m,\u001b[49m\n\u001b[1;32m     41\u001b[0m \u001b[43m                         \u001b[49m\u001b[43mtext\u001b[49m\u001b[38;5;241;43m=\u001b[39;49m\u001b[38;5;28;43;01mTrue\u001b[39;49;00m\u001b[43m,\u001b[49m\u001b[43m \u001b[49m\u001b[43mstdout\u001b[49m\u001b[38;5;241;43m=\u001b[39;49m\u001b[43msubprocess\u001b[49m\u001b[38;5;241;43m.\u001b[39;49m\u001b[43mPIPE\u001b[49m\u001b[43m,\u001b[49m\u001b[43m \u001b[49m\u001b[43mstderr\u001b[49m\u001b[38;5;241;43m=\u001b[39;49m\u001b[43msubprocess\u001b[49m\u001b[38;5;241;43m.\u001b[39;49m\u001b[43mSTDOUT\u001b[49m\u001b[43m)\u001b[49m\n\u001b[1;32m     43\u001b[0m \u001b[38;5;66;03m# -s option to run the script without credential | cwd is the directory of the script \u001b[39;00m\n",
      "File \u001b[0;32m/scratchu/lgiboni/python_envs/download-cmip6/lib/python3.9/subprocess.py:507\u001b[0m, in \u001b[0;36mrun\u001b[0;34m(input, capture_output, timeout, check, *popenargs, **kwargs)\u001b[0m\n\u001b[1;32m    505\u001b[0m \u001b[38;5;28;01mwith\u001b[39;00m Popen(\u001b[38;5;241m*\u001b[39mpopenargs, \u001b[38;5;241m*\u001b[39m\u001b[38;5;241m*\u001b[39mkwargs) \u001b[38;5;28;01mas\u001b[39;00m process:\n\u001b[1;32m    506\u001b[0m     \u001b[38;5;28;01mtry\u001b[39;00m:\n\u001b[0;32m--> 507\u001b[0m         stdout, stderr \u001b[38;5;241m=\u001b[39m \u001b[43mprocess\u001b[49m\u001b[38;5;241;43m.\u001b[39;49m\u001b[43mcommunicate\u001b[49m\u001b[43m(\u001b[49m\u001b[38;5;28;43minput\u001b[39;49m\u001b[43m,\u001b[49m\u001b[43m \u001b[49m\u001b[43mtimeout\u001b[49m\u001b[38;5;241;43m=\u001b[39;49m\u001b[43mtimeout\u001b[49m\u001b[43m)\u001b[49m\n\u001b[1;32m    508\u001b[0m     \u001b[38;5;28;01mexcept\u001b[39;00m TimeoutExpired \u001b[38;5;28;01mas\u001b[39;00m exc:\n\u001b[1;32m    509\u001b[0m         process\u001b[38;5;241m.\u001b[39mkill()\n",
      "File \u001b[0;32m/scratchu/lgiboni/python_envs/download-cmip6/lib/python3.9/subprocess.py:1121\u001b[0m, in \u001b[0;36mPopen.communicate\u001b[0;34m(self, input, timeout)\u001b[0m\n\u001b[1;32m   1119\u001b[0m     \u001b[38;5;28mself\u001b[39m\u001b[38;5;241m.\u001b[39m_stdin_write(\u001b[38;5;28minput\u001b[39m)\n\u001b[1;32m   1120\u001b[0m \u001b[38;5;28;01melif\u001b[39;00m \u001b[38;5;28mself\u001b[39m\u001b[38;5;241m.\u001b[39mstdout:\n\u001b[0;32m-> 1121\u001b[0m     stdout \u001b[38;5;241m=\u001b[39m \u001b[38;5;28;43mself\u001b[39;49m\u001b[38;5;241;43m.\u001b[39;49m\u001b[43mstdout\u001b[49m\u001b[38;5;241;43m.\u001b[39;49m\u001b[43mread\u001b[49m\u001b[43m(\u001b[49m\u001b[43m)\u001b[49m\n\u001b[1;32m   1122\u001b[0m     \u001b[38;5;28mself\u001b[39m\u001b[38;5;241m.\u001b[39mstdout\u001b[38;5;241m.\u001b[39mclose()\n\u001b[1;32m   1123\u001b[0m \u001b[38;5;28;01melif\u001b[39;00m \u001b[38;5;28mself\u001b[39m\u001b[38;5;241m.\u001b[39mstderr:\n",
      "\u001b[0;31mKeyboardInterrupt\u001b[0m: "
     ]
    }
   ],
   "source": [
    "# ================ EXTRACT THE WGET SCRIPT ================ #\n",
    "\n",
    "### RETRIEVE THE SCRIPT ###\n",
    "\n",
    "wget_script_content = query.get_download_script()\n",
    "\n",
    "### STORE IT ON SCRATCH ###\n",
    "\n",
    "## Set the script writing's path ##\n",
    "script_fd, script_path = tempfile.mkstemp(suffix='.sh', prefix='download-')\n",
    "\n",
    "## Write the wget script ##\n",
    "\n",
    "with os.fdopen(script_fd, \"w\") as writer:\n",
    "    \n",
    "    # Writing it #\n",
    "    writer.write(wget_script_content)\n",
    "\n",
    "\n",
    "## Make it readable, writable and executable for the user ##\n",
    "\n",
    "os.chmod(script_path, 0o750) # it is also executable and readable by other users\n",
    "\n",
    "## Retrieve the directory where we run the downloading script ## \n",
    "\n",
    "download_dir = os.path.dirname(script_path)\n",
    "\n",
    "## Create a log file's name ##\n",
    "\n",
    "# Retrieve the name of our downloading script #\n",
    "\n",
    "script_name = os.path.basename(script_path) # we remove the .sh extension from the script's name\n",
    "\n",
    "\n",
    "## Run the wget script from python ##\n",
    "\n",
    "#(\"{} -s &> {}\".format(script_path, log_name), , shell = True, stdout=subprocess.PIPE, stderr=subprocess.STDOUT)\n",
    "#subprocess.check_output\n",
    "\n",
    "download_process = subprocess.run(\"bash \" + script_name + \" -s\", cwd=download_dir,  shell=True, check = True,\n",
    "                         text=True, stdout=subprocess.PIPE, stderr=subprocess.STDOUT)\n",
    "\n",
    "# -s option to run the script without credential | cwd is the directory of the script "
   ]
  },
  {
   "cell_type": "code",
   "execution_count": null,
   "id": "81dca5f8-eeff-46a3-a830-9df24ed77b12",
   "metadata": {},
   "outputs": [],
   "source": [
    "download_dir"
   ]
  },
  {
   "cell_type": "code",
   "execution_count": null,
   "id": "7e166491-6318-40ae-ac04-928fcfc1616c",
   "metadata": {},
   "outputs": [],
   "source": [
    "with open(download_dir + \"/log.txt\", \"w\") as log_file :\n",
    "\n",
    "    log_file.write(download_process.stdout)"
   ]
  },
  {
   "cell_type": "markdown",
   "id": "814a6d1f-3833-44a0-bbed-6ec553dcd299",
   "metadata": {},
   "source": [
    "## Unpack and store the found url(s) :"
   ]
  },
  {
   "cell_type": "markdown",
   "id": "6415a8eb-9064-4fbd-a22d-b0f9591200eb",
   "metadata": {},
   "source": [
    "Each result contains a certain number of files. Each file is associated with a unique URL that can be used to download it. The following cell  is written to extract these URLs and store them into a list. Here it is quite easy because we have only one url per found result."
   ]
  },
  {
   "cell_type": "code",
   "execution_count": null,
   "id": "0f75d9f9-f053-4bef-85cb-1f3bbd0afc7e",
   "metadata": {},
   "outputs": [
    {
     "name": "stderr",
     "output_type": "stream",
     "text": [
      "Extracting the urls:  58%|█████▊    | 7/12 [00:25<00:16,  3.29s/it]"
     ]
    }
   ],
   "source": [
    "# ================ UNPACK THE FOUND URLS ================ #\n",
    "\n",
    "### INITIALIZE THE LIST OF URLS ###\n",
    "\n",
    "urls = [] \n",
    "\n",
    "### LOOP OVER THE FOUND RESULTS ###\n",
    "\n",
    "## Cool progress bar for the loop ##\n",
    "\n",
    "for ii in tqdm(range(results_count), desc=\"Extracting the urls\"):\n",
    "\n",
    "    ## Extract the ii-th variable ##\n",
    "    \n",
    "    result_ii = query.search()[ii] \n",
    "\n",
    "    ## Extract the list of url(s) associated to this ii-th result ##\n",
    "\n",
    "    url_list_ii = result_ii.file_context().search()\n",
    "\n",
    "    ## Loop over the list of url for the ii-th result ##\n",
    "    \n",
    "    for url in url_list_ii: \n",
    "\n",
    "        ## Add it to the list of urls ##\n",
    "        \n",
    "        urls.append(url.download_url)"
   ]
  },
  {
   "cell_type": "code",
   "execution_count": null,
   "id": "c0b6cf2e-14c8-404e-b50a-fe453d025738",
   "metadata": {},
   "outputs": [],
   "source": [
    "query.get_download_script()"
   ]
  },
  {
   "cell_type": "code",
   "execution_count": null,
   "id": "eb00ef94-f822-4356-975d-38658b7b8d01",
   "metadata": {},
   "outputs": [],
   "source": []
  }
 ],
 "metadata": {
  "kernelspec": {
   "display_name": "download-cmip6",
   "language": "python",
   "name": "download-cmip6"
  },
  "language_info": {
   "codemirror_mode": {
    "name": "ipython",
    "version": 3
   },
   "file_extension": ".py",
   "mimetype": "text/x-python",
   "name": "python",
   "nbconvert_exporter": "python",
   "pygments_lexer": "ipython3",
   "version": "3.9.21"
  }
 },
 "nbformat": 4,
 "nbformat_minor": 5
}
