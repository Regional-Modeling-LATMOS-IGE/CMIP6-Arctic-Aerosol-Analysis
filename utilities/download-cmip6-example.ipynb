{
 "cells": [
  {
   "cell_type": "markdown",
   "id": "5dc97a7c-a97e-4464-9d20-e22becb5685b",
   "metadata": {},
   "source": [
    "# Downloading needed CMIP6 data on one model's output :"
   ]
  },
  {
   "cell_type": "markdown",
   "id": "ed8b1ede-2de5-487c-9602-6b1b339c6e44",
   "metadata": {},
   "source": [
    "## Purpose of the notebook"
   ]
  },
  {
   "cell_type": "markdown",
   "id": "2a42285e-309f-4a3a-8e6d-e8499d2c1112",
   "metadata": {},
   "source": [
    "This notebook aims at retrieving the wget script to download the needed CMIP6 variables for the **piClim-control** experiment and the **r1i1p1f1** variant for the **IPSL-CM6A-LR** model. It uses the *esgf-pyclient* library : https://esgf-pyclient.readthedocs.io/en/latest/index.html.\n",
    "\n",
    "Feel free to share, use and improve the following code according to the provided license on the repository."
   ]
  },
  {
   "cell_type": "markdown",
   "id": "5e4b4f66-3223-46b9-94e9-c104451a5da6",
   "metadata": {},
   "source": [
    "## Initialization "
   ]
  },
  {
   "cell_type": "markdown",
   "id": "fd20cd4b-ca18-4a76-a7cd-a804554c6a3a",
   "metadata": {},
   "source": [
    "### Set environment parameters"
   ]
  },
  {
   "cell_type": "markdown",
   "id": "48f9e340-7abb-4040-ad01-de943ca53a2e",
   "metadata": {},
   "source": [
    "We set this parameter in order to avoid the display of needless and impactless errors regarding the *facets* variable."
   ]
  },
  {
   "cell_type": "code",
   "execution_count": 143,
   "id": "deb9cd2c-7a8a-4b03-b95d-2cc2ae643773",
   "metadata": {},
   "outputs": [
    {
     "name": "stdout",
     "output_type": "stream",
     "text": [
      "env: ESGF_PYCLIENT_NO_FACETS_STAR_WARNING=42\n"
     ]
    }
   ],
   "source": [
    "# ================ SET ENVIRONMENT PARAMETERS ================ #\n",
    "\n",
    "### NO FACETS WARNING ###\n",
    "\n",
    "%env ESGF_PYCLIENT_NO_FACETS_STAR_WARNING = 42"
   ]
  },
  {
   "cell_type": "markdown",
   "id": "19fb1cc5-febe-4ebf-8dca-b8700098e548",
   "metadata": {},
   "source": [
    "### Importations"
   ]
  },
  {
   "cell_type": "code",
   "execution_count": 144,
   "id": "16dab12c-5141-4e6f-a908-aa5792b296ea",
   "metadata": {},
   "outputs": [],
   "source": [
    "# ================ IMPORTATIONS ================ #\n",
    "\n",
    "from pyesgf.search import SearchConnection  # the query package of pyesgf for cmip6 data\n",
    "\n",
    "import os  # to handle path's management\n",
    "\n",
    "import pandas as pd  # to store the urls under a table format\n",
    "\n",
    "from tqdm import tqdm  # to make cool progress bars\n",
    "\n",
    "import tempfile  # to make a temporary file\n",
    "\n",
    "import subprocess  # to run the wget code from python\n",
    "\n",
    "import random # to generate the name of our downloading scripts"
   ]
  },
  {
   "cell_type": "markdown",
   "id": "f0bf9a69-64ad-41ce-9f33-46c66262ffb5",
   "metadata": {},
   "source": [
    "### Custom exceptions for error clarity "
   ]
  },
  {
   "cell_type": "code",
   "execution_count": 145,
   "id": "b7192580-a715-4a44-b25a-2ceefcd1b14d",
   "metadata": {},
   "outputs": [],
   "source": [
    "# ================ DEFINING OUR OWN EXCEPTIONS TO BE RAISED ================ #\n",
    "\n",
    "class InputPathError(ValueError):\n",
    "    ''' Raise when the parent path ends with a '/' or the child path starts with a '/' '''"
   ]
  },
  {
   "cell_type": "markdown",
   "id": "96bb63dd-c8ae-4720-901d-a63e306221fc",
   "metadata": {},
   "source": [
    "### Set the paths for where the saving and downloading folder will be created"
   ]
  },
  {
   "cell_type": "markdown",
   "id": "f91ac1a3-9c30-4fc1-b182-248e4f040ce7",
   "metadata": {},
   "source": [
    "These user defined paths are essential to make the program know **where it will create its download folder** and also **where the downloaded folders will be moved in the end**. "
   ]
  },
  {
   "cell_type": "code",
   "execution_count": 146,
   "id": "edbd40b3-f2d7-4f42-9f73-3e739a88553d",
   "metadata": {},
   "outputs": [],
   "source": [
    "# ================ SAVING PATH ================ #\n",
    "\n",
    "### DEFINE WHERE TO MOVE THE FILES AT THE END ###\n",
    "\n",
    "save_dir = \"/data/lgiboni/downloaded-cmip6-datadir-example/\"\n",
    "\n",
    "### WHERE ARE WE PUTTING THE TEMPORARY DOWNLOADING FOLDERS ###\n",
    "\n",
    "where_download_dir = \"/scratchu/lgiboni/CMIP6_DATA\""
   ]
  },
  {
   "cell_type": "markdown",
   "id": "65b4aaec-1f8a-4f55-a5c3-4677dbb88ede",
   "metadata": {},
   "source": [
    "### Global criterias for the data research"
   ]
  },
  {
   "cell_type": "code",
   "execution_count": 147,
   "id": "b42351aa-2c43-4de6-81db-d23669a0ab05",
   "metadata": {},
   "outputs": [],
   "source": [
    "# ================ COMMON SEARCH CRITERIAS FOR OUR ANALYSIS ================ #\n",
    "\n",
    "### CMIP6 DATA ###\n",
    "\n",
    "project = [\"CMIP6\"]\n",
    "\n",
    "### MONTHLY FREQUENCY ###\n",
    "\n",
    "frequency = [\"mon\"]\n",
    "\n",
    "### VARIABLE TO SEARCH FOR ###\n",
    "\n",
    "variables = [\n",
    "    \"clt\",\n",
    "    \"rsdt\",\n",
    "    \"rsut\",\n",
    "    \"rsutcs\",\n",
    "    \"rsds\",\n",
    "    \"rsus\",\n",
    "    \"rsdscs\",\n",
    "    \"rsuscs\",\n",
    "    \"rlut\",\n",
    "    \"rlutcs\",\n",
    "    \"rlds\",\n",
    "    \"rlus\",\n",
    "]"
   ]
  },
  {
   "cell_type": "markdown",
   "id": "ab47f825-eeaa-4e38-b540-17ff7eb07bf7",
   "metadata": {},
   "source": [
    "## Function definitions :"
   ]
  },
  {
   "cell_type": "markdown",
   "id": "25a4a175-c874-4018-8cb8-f440a6769ad6",
   "metadata": {},
   "source": [
    "### create_dir : creates the directories we need for the downloading part "
   ]
  },
  {
   "cell_type": "code",
   "execution_count": 148,
   "id": "a0fd1a64-cc29-4891-9e24-8e0d0d9b7178",
   "metadata": {},
   "outputs": [],
   "source": [
    "def create_dir(parent_dir : str, to_be_created_dir : str) :\n",
    "\n",
    "    \"\"\"\n",
    "    ### DEFINITION\n",
    "\n",
    "    This function creates the directories we need for the downloading part calling bash routines.\n",
    "    WARNING : This wont work if you put your '/' wildly. At the end of a given path there should be not '/'.\n",
    "    \n",
    "    ### INPUTS \n",
    "\n",
    "    PARENT_DIR : STR | parent directory of the to be created directory : it must exist or an error will be sent\n",
    "    \n",
    "    TO_BE_CREATED_DIR : STR | the directory that is to be created : it can be a folder or a path. \n",
    "    if it's a path, several folders and subfolders will be created.\n",
    "\n",
    "    ### OUTPUT\n",
    "\n",
    "    FULL_PATH : STR | the full path of the folders and maybe subfolders created.\n",
    "    \"\"\"\n",
    "\n",
    "    ### WE DEFINE THE FULL PATH ###\n",
    "\n",
    "    ## We try to define the full_path variable ##\n",
    "    \n",
    "    # We check that at the end of parent_dir there is no '/' #\n",
    "\n",
    "    try :\n",
    "\n",
    "        # If the end of parent_dir there is '/' we raise an error #\n",
    "        \n",
    "        if parent_dir[-1] == '/' :\n",
    "\n",
    "            raise InputPathError\n",
    "\n",
    "        elif to_be_created_dir[0] == '/' :\n",
    "\n",
    "            raise InputPathError\n",
    "\n",
    "        else :\n",
    "\n",
    "            full_path = parent_dir + \"/\" + to_be_created_dir\n",
    "            \n",
    "    except InputPathError as error :\n",
    "\n",
    "        raise InputPathError(\"neither parent_dir variable should end with a '/' nor to_be_created_dir variable start with a '/'\")\n",
    "        \n",
    "    ### WE TRY TO MAKE THE FOLDER ###\n",
    "    \n",
    "    ## We try to make the folder but it will raise an error if parent_dir is wrong ##\n",
    "    \n",
    "    try : \n",
    "    \n",
    "        ## We first check if to_be_created_dir already exists or not ##\n",
    "    \n",
    "        # If it exists : we remove it #\n",
    "        \n",
    "        if os.path.isdir(full_path) :\n",
    "    \n",
    "            # We run the rm -rf command from python to erase the folder and its content #\n",
    "    \n",
    "            subprocess.run(\n",
    "            \"rm -rf {}\".format(full_path), shell=True, check=True\n",
    "        )\n",
    "            print(\"Pre-existing folder at {} removed\".format(full_path))\n",
    "        \n",
    "        ## We run the mkdir command from python to make the folder ##\n",
    "            \n",
    "        subprocess.run(\n",
    "            \"mkdir  -p {}\".format(full_path), shell=True, check=True  # -p option allows for simultaneous folder and subfolder creation\n",
    "        )\n",
    "    \n",
    "        print(\"New folder at {} created\".format(full_path))\n",
    "    \n",
    "    ## An error was caught : where_download_dir does not exist ##\n",
    "    \n",
    "    except FileNotFoundError as error:\n",
    "    \n",
    "        print(\"The where_download_dir variable is wrong, such a path does not exists\" + \" : \" + parent_dir + \"\\n\")\n",
    "    \n",
    "        raise \n",
    "\n",
    "    return full_path"
   ]
  },
  {
   "cell_type": "markdown",
   "id": "643862f2-ef25-4565-8c0b-d7aba158bce0",
   "metadata": {},
   "source": [
    "## Search for one model's output : example for the piClim-control experiment\n",
    "\n",
    "We look for the defined variables for the **IPSL-CM6A-LR** model for the **r1i1p1f1** variant. "
   ]
  },
  {
   "cell_type": "markdown",
   "id": "53297e15-f287-4a18-bd05-3ec04a911759",
   "metadata": {},
   "source": [
    "### Definition of the specific query parameters we need"
   ]
  },
  {
   "cell_type": "markdown",
   "id": "48f6d95c-5026-47a8-bb9b-c586cc0b7479",
   "metadata": {},
   "source": [
    "We define all the specific information that are specific to our model.variant search as well as for the given experiment we are looking for."
   ]
  },
  {
   "cell_type": "code",
   "execution_count": 149,
   "id": "1946b009-9cf2-429b-a17e-557f12258488",
   "metadata": {},
   "outputs": [],
   "source": [
    "# ================ DEFINE THE ADDITiONNAL SEARCH CRITERIAS FOR A GiVEN MODEL'S OUTPUT ================ #\n",
    "\n",
    "### SOURCE ID : NAME OF THE CHOSEN MODEL ###\n",
    "\n",
    "source_id = [\"IPSL-CM6A-LR\"]\n",
    "\n",
    "### VARIANT OF THE MODEL RUN ###\n",
    "\n",
    "variant_label = [\"r1i1p1f1\"]\n",
    "\n",
    "### EXPERIMENT ID ###\n",
    "\n",
    "experiment_id = [\"piClim-control\"]\n",
    "\n",
    "### WHOLE SET OF QUERY PARAMETERS ###\n",
    "\n",
    "facets = (\n",
    "    \"project,frequency,variable,source_id,variant_label,experiment_id,latest,replica\"\n",
    ")"
   ]
  },
  {
   "cell_type": "markdown",
   "id": "b911593f-ae7e-401a-9282-5f116077d65c",
   "metadata": {},
   "source": [
    "*facets* will be used to confirm that our query holds all the parameters we are looking for.\\\n",
    "The element *latest* is to specify we want the latest data.\\\n",
    "The element *replica* is to specify whether we want duplicates to be included in our search results."
   ]
  },
  {
   "cell_type": "markdown",
   "id": "42db0070-7616-4b32-b04e-e1318cc8aa21",
   "metadata": {},
   "source": [
    "### Run the actual search\n",
    "\n",
    "We start the search with the IPSL node. Since the variable *distrib* is set to **True**, we will extend the search to all the esgf nodes in case of lack of match."
   ]
  },
  {
   "cell_type": "code",
   "execution_count": 150,
   "id": "32b23462-c0c3-47d6-be20-e25301db13b2",
   "metadata": {},
   "outputs": [
    {
     "name": "stdout",
     "output_type": "stream",
     "text": [
      "The search has returned 12 results\n"
     ]
    }
   ],
   "source": [
    "# ================ RUN THE QUERY FOR THE PICLIM-CONTROL EXPERIMENT ================ #\n",
    "\n",
    "### SET THE STARTING NODE FOR THE SEARCH ###\n",
    "\n",
    "conn = SearchConnection(\"https://esgf-node.ipsl.upmc.fr/esg-search\", distrib=True)\n",
    "\n",
    "### QUERY ###\n",
    "\n",
    "## Launch the query ##\n",
    "\n",
    "query = conn.new_context(\n",
    "    project=project,\n",
    "    frequency=frequency,\n",
    "    variable=variables,\n",
    "    source_id=source_id,\n",
    "    variant_label=variant_label,\n",
    "    experiment_id=experiment_id,\n",
    "    latest=True,  # Set to \"True\" to get the latest version\n",
    "    replica=False,  # Set to \"False\" to avoid getting duplicate in the search results\n",
    "    facets=facets,\n",
    ")  # facets confirms the search criterias we have made\n",
    "\n",
    "\n",
    "## Number of results ##\n",
    "\n",
    "results_count = query.hit_count\n",
    "\n",
    "## Print the number of results ##\n",
    "\n",
    "print(f\"The search has returned {results_count} results\")"
   ]
  },
  {
   "cell_type": "markdown",
   "id": "ad025e35-db91-484a-9e05-2b1abd212781",
   "metadata": {},
   "source": [
    "Since we have 12 variables, we have one result per variable for the researched model.variant couple and experiment."
   ]
  },
  {
   "cell_type": "markdown",
   "id": "32da42d9-2b39-4856-8abc-3b65707dafb0",
   "metadata": {},
   "source": [
    "## Create the folders for the downloading routine"
   ]
  },
  {
   "cell_type": "markdown",
   "id": "791f6b44-5bcf-4271-82c8-e230f79abf4a",
   "metadata": {},
   "source": [
    "Before saving the script and launching it, we need to make the folder associated to our given request. To do so, we create a temporary main folder for the downloading of the CMIP6 data and then make a subfolder for our given request."
   ]
  },
  {
   "cell_type": "markdown",
   "id": "d1135632-dca3-465d-9b6d-28848cf10602",
   "metadata": {},
   "source": [
    "### Make the temporary main folder for downloading the data"
   ]
  },
  {
   "cell_type": "markdown",
   "id": "df81c463-addf-4809-ab4e-fe5236205e0c",
   "metadata": {},
   "source": [
    "We create the folder cmip6-download-tmp at the path defined by the where_download_dir variable thanks to the create_dir function."
   ]
  },
  {
   "cell_type": "code",
   "execution_count": 151,
   "id": "bc1fb58e-997c-4345-b5a9-2218b86bb96b",
   "metadata": {
    "scrolled": true
   },
   "outputs": [
    {
     "name": "stdout",
     "output_type": "stream",
     "text": [
      "Pre-existing folder at /scratchu/lgiboni/CMIP6_DATA/cmip6-download-tmp removed\n",
      "New folder at /scratchu/lgiboni/CMIP6_DATA/cmip6-download-tmp created\n"
     ]
    }
   ],
   "source": [
    "# ================ MAKE THE MAIN TEMPORARY DOWNLOADING FOLDER ================ #\n",
    "\n",
    "### USE OF THE CREATE DIR FUNCTION ###\n",
    "\n",
    "temporary_downloading_folder_path = create_dir(where_download_dir,  \"cmip6-download-tmp\")"
   ]
  },
  {
   "cell_type": "markdown",
   "id": "62a404b3-02b7-476b-8d11-e219e2597423",
   "metadata": {},
   "source": [
    "### Make the temporary subfolders for our given request"
   ]
  },
  {
   "cell_type": "markdown",
   "id": "4af83b97-dd58-47e2-99ca-925d609fd979",
   "metadata": {},
   "source": [
    "We first define the name of the subfolders for our given request and call the create_dir function."
   ]
  },
  {
   "cell_type": "code",
   "execution_count": 152,
   "id": "550490cd-4466-4156-b996-481c225ca0ed",
   "metadata": {},
   "outputs": [
    {
     "name": "stdout",
     "output_type": "stream",
     "text": [
      "We will create IPSL-CM6A-LR.r1i1p1f1/piClim-control/ at /scratchu/lgiboni/CMIP6_DATA/cmip6-download-tmp\n"
     ]
    }
   ],
   "source": [
    "# ================ BUILD THE FOLDERS' NAME ================ #\n",
    "\n",
    "### DEFINE THE SUBFOLDERS' PATH FOR OUR GIVEN REQUEST ###\n",
    "\n",
    "subfolder_request = source_id[0] + \".\" + variant_label[0] + \"/\" + experiment_id[0] + \"/\"\n",
    "\n",
    "### PRINT THE NAME ###\n",
    "\n",
    "print(\"We will create {} at {}\".format(subfolder_request, temporary_downloading_folder_path))"
   ]
  },
  {
   "cell_type": "code",
   "execution_count": 153,
   "id": "0493f2f7-8d43-4907-9a37-a5d857d9750b",
   "metadata": {},
   "outputs": [
    {
     "name": "stdout",
     "output_type": "stream",
     "text": [
      "New folder at /scratchu/lgiboni/CMIP6_DATA/cmip6-download-tmp/IPSL-CM6A-LR.r1i1p1f1/piClim-control/ created\n"
     ]
    }
   ],
   "source": [
    "# ================ MAKE THE MAIN TEMPORARY DOWNLOADING FOLDER ================ #\n",
    "\n",
    "### USE OF THE CREATE DIR FUNCTION ###\n",
    "\n",
    "downloading_path_for_given_request = create_dir(temporary_downloading_folder_path,  subfolder_request)"
   ]
  },
  {
   "cell_type": "markdown",
   "id": "d908ba17-8ba3-47ce-892f-88cdf0781507",
   "metadata": {},
   "source": [
    "## Launch the wget script for the request"
   ]
  },
  {
   "cell_type": "markdown",
   "id": "5262f970-fa44-40d5-ac05-c97bca2010e1",
   "metadata": {},
   "source": [
    "Now that the folders have been created, we only have to write the wget script and download the data."
   ]
  },
  {
   "cell_type": "markdown",
   "id": "d4b0df45-deef-4790-9866-813aca4af3c6",
   "metadata": {},
   "source": [
    "### Define its name and path"
   ]
  },
  {
   "cell_type": "code",
   "execution_count": 154,
   "id": "b21ac948-72e6-468a-9936-aae72d636b53",
   "metadata": {},
   "outputs": [],
   "source": [
    "# ================ DEFINE ITS NAME AND PATH ================ #\n",
    "\n",
    "### DEFINE ITS NAME ###\n",
    "\n",
    "## Use of the random library to generate a unique downloading name\n",
    "\n",
    "# Set the random number identifier #\n",
    "\n",
    "random_id  = int(random.uniform(1,10)*1000) # we extract a random decimal number between 1 and 10 and keep the 4 first decimals\n",
    "\n",
    "# Turn it into a str #\n",
    "\n",
    "random_id = str(random_id)\n",
    "\n",
    "## Define the downloading script's name ## \n",
    "\n",
    "downloading_script_name = \"download-\" + random_id + \".sh\"\n",
    "\n",
    "### DEFINE ITS PATH ###\n",
    "\n",
    "downloading_script_path = downloading_path_for_given_request + downloading_script_name"
   ]
  },
  {
   "cell_type": "markdown",
   "id": "969e9baf-0ba1-46d5-88dc-7aa4c86bb7a9",
   "metadata": {},
   "source": [
    "### Write the downloading script"
   ]
  },
  {
   "cell_type": "code",
   "execution_count": 155,
   "id": "d6f75a8e-9aa5-4f2d-ae82-d6eb33f793d9",
   "metadata": {},
   "outputs": [],
   "source": [
    "# ================ WRITE THE WGET SCRIPT ================ #\n",
    "\n",
    "### RETRIEVE THE SCRIPT ###\n",
    "\n",
    "wget_script_content = query.get_download_script()\n",
    "\n",
    "### STORE IT IN THE DOWNLOADING FOLDER ###\n",
    "\n",
    "## Write the wget script ##\n",
    "\n",
    "with open(downloading_script_path, \"w\") as writer:\n",
    "\n",
    "    # Writing it #\n",
    "    \n",
    "    writer.write(wget_script_content)\n",
    "\n",
    "## Make it readable, writable and executable for the user ##\n",
    "\n",
    "os.chmod(downloading_script_path, 0o750)  # it is also executable and readable by other users"
   ]
  },
  {
   "cell_type": "markdown",
   "id": "cd228072-90e9-4b0d-b079-d9897f927ce3",
   "metadata": {},
   "source": [
    "### Run the downloading script "
   ]
  },
  {
   "cell_type": "code",
   "execution_count": 156,
   "id": "7e166491-6318-40ae-ac04-928fcfc1616c",
   "metadata": {},
   "outputs": [],
   "source": [
    "# ================ RUN THE WGET SCRIPT ================ #\n",
    "\n",
    "### RUN THE WGET SCRIPT ###\n",
    "\n",
    "## We store the results in the download_process variable to produce a log ##\n",
    "\n",
    "download_process = subprocess.run(\n",
    "    \"bash \" + downloading_script_name + \" -s\",\n",
    "    cwd=downloading_path_for_given_request,\n",
    "    shell=True,\n",
    "    check=True,\n",
    "    text=True,\n",
    "    stdout=subprocess.PIPE,\n",
    "    stderr=subprocess.STDOUT,\n",
    ") \n",
    "\n",
    "# -s option to run the script without credential | cwd is the directory of the script\n",
    "\n",
    "## Store the log ##\n",
    "\n",
    "with open(downloading_path_for_given_request + \"log.txt\", \"w\") as log_file:\n",
    "\n",
    "    log_file.write(download_process.stdout)"
   ]
  },
  {
   "cell_type": "markdown",
   "id": "814a6d1f-3833-44a0-bbed-6ec553dcd299",
   "metadata": {},
   "source": [
    "## Unpack and store the found url(s) :"
   ]
  },
  {
   "cell_type": "markdown",
   "id": "6415a8eb-9064-4fbd-a22d-b0f9591200eb",
   "metadata": {},
   "source": [
    "Each result contains a certain number of files. Each file is associated with a unique URL that can be used to download it. The following cell  is written to extract these URLs and store them into a list. Here it is quite easy because we have only one url per found result."
   ]
  },
  {
   "cell_type": "code",
   "execution_count": null,
   "id": "0f75d9f9-f053-4bef-85cb-1f3bbd0afc7e",
   "metadata": {},
   "outputs": [
    {
     "name": "stderr",
     "output_type": "stream",
     "text": [
      "Extracting the urls:  58%|█████▊    | 7/12 [00:25<00:16,  3.29s/it]"
     ]
    }
   ],
   "source": [
    "# ================ UNPACK THE FOUND URLS ================ #\n",
    "\n",
    "### INITIALIZE THE LIST OF URLS ###\n",
    "\n",
    "urls = []\n",
    "\n",
    "### LOOP OVER THE FOUND RESULTS ###\n",
    "\n",
    "## Cool progress bar for the loop ##\n",
    "\n",
    "for ii in tqdm(range(results_count), desc=\"Extracting the urls\"):\n",
    "\n",
    "    ## Extract the ii-th variable ##\n",
    "\n",
    "    result_ii = query.search()[ii]\n",
    "\n",
    "    ## Extract the list of url(s) associated to this ii-th result ##\n",
    "\n",
    "    url_list_ii = result_ii.file_context().search()\n",
    "\n",
    "    ## Loop over the list of url for the ii-th result ##\n",
    "\n",
    "    for url in url_list_ii:\n",
    "\n",
    "        ## Add it to the list of urls ##\n",
    "\n",
    "        urls.append(url.download_url)"
   ]
  },
  {
   "cell_type": "code",
   "execution_count": null,
   "id": "c0b6cf2e-14c8-404e-b50a-fe453d025738",
   "metadata": {},
   "outputs": [],
   "source": [
    "query.get_download_script()"
   ]
  },
  {
   "cell_type": "code",
   "execution_count": null,
   "id": "eb00ef94-f822-4356-975d-38658b7b8d01",
   "metadata": {},
   "outputs": [],
   "source": []
  }
 ],
 "metadata": {
  "kernelspec": {
   "display_name": "download-cmip6",
   "language": "python",
   "name": "download-cmip6"
  },
  "language_info": {
   "codemirror_mode": {
    "name": "ipython",
    "version": 3
   },
   "file_extension": ".py",
   "mimetype": "text/x-python",
   "name": "python",
   "nbconvert_exporter": "python",
   "pygments_lexer": "ipython3",
   "version": "3.9.21"
  }
 },
 "nbformat": 4,
 "nbformat_minor": 5
}
