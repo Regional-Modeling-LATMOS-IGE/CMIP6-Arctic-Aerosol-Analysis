{
 "cells": [
  {
   "cell_type": "markdown",
   "id": "5dc97a7c-a97e-4464-9d20-e22becb5685b",
   "metadata": {},
   "source": [
    "# Downloading needed CMIP6 data on one model's output :"
   ]
  },
  {
   "cell_type": "markdown",
   "id": "ed8b1ede-2de5-487c-9602-6b1b339c6e44",
   "metadata": {},
   "source": [
    "## Purpose of the notebook"
   ]
  },
  {
   "cell_type": "markdown",
   "id": "2a42285e-309f-4a3a-8e6d-e8499d2c1112",
   "metadata": {},
   "source": [
    "This notebook aims at retrieving all the needed url(s) to download the needed CMIP6 variables for the **piClim-control** experiment and the **r1i1p1f1** variant for the **IPSL-CM6A-LR** model. It uses the *esgf-pyclient* library : https://esgf-pyclient.readthedocs.io/en/latest/index.html.\n",
    "\n",
    "Feel free to share, use and improve the following code according to the provided license on the repository."
   ]
  },
  {
   "cell_type": "markdown",
   "id": "5e4b4f66-3223-46b9-94e9-c104451a5da6",
   "metadata": {},
   "source": [
    "## Initialization "
   ]
  },
  {
   "cell_type": "markdown",
   "id": "fd20cd4b-ca18-4a76-a7cd-a804554c6a3a",
   "metadata": {},
   "source": [
    "### Set environment parameter"
   ]
  },
  {
   "cell_type": "markdown",
   "id": "48f9e340-7abb-4040-ad01-de943ca53a2e",
   "metadata": {},
   "source": [
    "We set this parameter in order to avoid the display of needless and impactless errors regarding the *facets* variable."
   ]
  },
  {
   "cell_type": "code",
   "execution_count": 1,
   "id": "deb9cd2c-7a8a-4b03-b95d-2cc2ae643773",
   "metadata": {},
   "outputs": [
    {
     "name": "stdout",
     "output_type": "stream",
     "text": [
      "env: ESGF_PYCLIENT_NO_FACETS_STAR_WARNING=42\n"
     ]
    }
   ],
   "source": [
    "# ================ SET ENVIRONMENT PARAMETERS ================ #\n",
    "\n",
    "### NO FACETS WARNING ###\n",
    "\n",
    "%env ESGF_PYCLIENT_NO_FACETS_STAR_WARNING = 42"
   ]
  },
  {
   "cell_type": "markdown",
   "id": "19fb1cc5-febe-4ebf-8dca-b8700098e548",
   "metadata": {},
   "source": [
    "### Importations"
   ]
  },
  {
   "cell_type": "code",
   "execution_count": 2,
   "id": "16dab12c-5141-4e6f-a908-aa5792b296ea",
   "metadata": {},
   "outputs": [],
   "source": [
    "# ================ IMPORTATIONS ================ #\n",
    "\n",
    "from pyesgf.search import SearchConnection # the query package of pyesgf for cmip6 data\n",
    "\n",
    "import os # to handle path's management\n",
    "\n",
    "import pandas as pd # to store the urls under a table format\n",
    "\n",
    "from tqdm import tqdm # to make cool progress bars"
   ]
  },
  {
   "cell_type": "markdown",
   "id": "96bb63dd-c8ae-4720-901d-a63e306221fc",
   "metadata": {},
   "source": [
    "### Set the saving directory's path "
   ]
  },
  {
   "cell_type": "code",
   "execution_count": 4,
   "id": "edbd40b3-f2d7-4f42-9f73-3e739a88553d",
   "metadata": {},
   "outputs": [],
   "source": [
    "# ================ SAVING PATH ================ #\n",
    "\n",
    "### DEFINE WHERE TO DOWNLOAD THE FILES ###\n",
    "\n",
    "save_dir = \"/data/lgiboni/downloaded-cmip6-datadir-example/\""
   ]
  },
  {
   "cell_type": "markdown",
   "id": "65b4aaec-1f8a-4f55-a5c3-4677dbb88ede",
   "metadata": {},
   "source": [
    "### Global criterias for the data research"
   ]
  },
  {
   "cell_type": "code",
   "execution_count": 5,
   "id": "b42351aa-2c43-4de6-81db-d23669a0ab05",
   "metadata": {},
   "outputs": [],
   "source": [
    "# ================ COMMON SEARCH CRITERIAS FOR OUR ANALYSIS ================ #\n",
    "\n",
    "### CMIP6 DATA ###\n",
    "\n",
    "project = [\"CMIP6\"]\n",
    "\n",
    "### MONTHLY FREQUENCY ###\n",
    "\n",
    "frequency = [\"mon\"]\n",
    "\n",
    "### VARIABLE TO SEARCH FOR ###\n",
    "\n",
    "variables = ['clt','rsdt','rsut','rsutcs','rsds','rsus','rsdscs','rsuscs','rlut','rlutcs','rlds','rlus']"
   ]
  },
  {
   "cell_type": "markdown",
   "id": "643862f2-ef25-4565-8c0b-d7aba158bce0",
   "metadata": {},
   "source": [
    "## One model's output example for the piClim-control experiment\n",
    "\n",
    "We look for the defined variables for the **IPSL-CM6A-LR** model for the **r1i1p1f1** variant. "
   ]
  },
  {
   "cell_type": "markdown",
   "id": "53297e15-f287-4a18-bd05-3ec04a911759",
   "metadata": {},
   "source": [
    "### Definition of the specific query parameters we need"
   ]
  },
  {
   "cell_type": "markdown",
   "id": "48f6d95c-5026-47a8-bb9b-c586cc0b7479",
   "metadata": {},
   "source": [
    "We define all the specific information that are specific to our model.variant search as well as for the given experiment we are looking for."
   ]
  },
  {
   "cell_type": "code",
   "execution_count": 6,
   "id": "1946b009-9cf2-429b-a17e-557f12258488",
   "metadata": {},
   "outputs": [],
   "source": [
    "# ================ DEFINE THE ADDITiONNAL SEARCH CRITERIAS FOR A GiVEN MODEL'S OUTPUT ================ #\n",
    "\n",
    "### SOURCE ID : NAME OF THE CHOSEN MODEL ###\n",
    "\n",
    "source_id = [\"IPSL-CM6A-LR\"]\n",
    "\n",
    "### VARIANT OF THE MODEL RUN ###\n",
    "\n",
    "variant_label = [\"r1i1p1f1\"]\n",
    "\n",
    "### EXPERIMENT ID ###\n",
    "\n",
    "experiment_id = [\"piClim-control\"]\n",
    "\n",
    "### WHOLE SET OF QUERY PARAMETERS ###\n",
    "\n",
    "facets = 'project,frequency,variable,source_id,variant_label,experiment_id,latest,replica'"
   ]
  },
  {
   "cell_type": "markdown",
   "id": "b911593f-ae7e-401a-9282-5f116077d65c",
   "metadata": {},
   "source": [
    "*facets* will be used to confirm that our query holds all the parameters we are looking for.\\\n",
    "The element *latest* is to specify we want the latest data.\\\n",
    "The element *replica* is to specify whether we want duplicates to be included in our search results."
   ]
  },
  {
   "cell_type": "markdown",
   "id": "42db0070-7616-4b32-b04e-e1318cc8aa21",
   "metadata": {},
   "source": [
    "### Run the actual search\n",
    "\n",
    "We start the search with the IPSL node. Since the variable *distrib* is set to **True**, we will extend the search to all the esgf nodes in case of lack of match."
   ]
  },
  {
   "cell_type": "code",
   "execution_count": 7,
   "id": "32b23462-c0c3-47d6-be20-e25301db13b2",
   "metadata": {},
   "outputs": [
    {
     "name": "stdout",
     "output_type": "stream",
     "text": [
      "The search has returned 12 results\n"
     ]
    }
   ],
   "source": [
    "# ================ RUN THE QUERY FOR THE PICLIM-CONTROL EXPERIMENT ================ #\n",
    "\n",
    "### SET THE STARTING NODE FOR THE SEARCH ###\n",
    "\n",
    "conn = SearchConnection('https://esgf-node.ipsl.upmc.fr/esg-search', distrib = True)\n",
    "\n",
    "### QUERY ###\n",
    "\n",
    "## Launch the query ##\n",
    "\n",
    "query = conn.new_context(project = project,\n",
    "                         frequency = frequency,\n",
    "                         variable = variables,\n",
    "                         source_id = source_id,\n",
    "                         variant_label = variant_label,\n",
    "                         experiment_id = experiment_id,\n",
    "                         latest = True, # Set to \"True\" to get the latest version\n",
    "                         replica = False, # Set to \"False\" to avoid getting duplicate in the search results\n",
    "                         facets = facets) # facets confirms the search criterias we have made\n",
    "                         \n",
    "\n",
    "\n",
    "## Number of results ##\n",
    "\n",
    "results_count = query.hit_count \n",
    "\n",
    "## Print the number of results ##\n",
    "\n",
    "print (f\"The search has returned {results_count} results\")"
   ]
  },
  {
   "cell_type": "markdown",
   "id": "ad025e35-db91-484a-9e05-2b1abd212781",
   "metadata": {},
   "source": [
    "Since we have 12 variables, we have one result per variable for the researched model.variant couple and experiment."
   ]
  },
  {
   "cell_type": "markdown",
   "id": "814a6d1f-3833-44a0-bbed-6ec553dcd299",
   "metadata": {},
   "source": [
    "### Unpack and store the found url(s) :"
   ]
  },
  {
   "cell_type": "markdown",
   "id": "6415a8eb-9064-4fbd-a22d-b0f9591200eb",
   "metadata": {},
   "source": [
    "Each result contains a certain number of files. Each file is associated with a unique URL that can be used to download it. The following cell  is written to extract these URLs and store them into a list. Here it is quite easy because we have only one url per found result."
   ]
  },
  {
   "cell_type": "code",
   "execution_count": 8,
   "id": "0f75d9f9-f053-4bef-85cb-1f3bbd0afc7e",
   "metadata": {},
   "outputs": [
    {
     "name": "stderr",
     "output_type": "stream",
     "text": [
      "Processing: 100%|██████████| 12/12 [00:42<00:00,  3.57s/it]\n"
     ]
    }
   ],
   "source": [
    "# ================ UNPACK THE FOUND URLS ================ #\n",
    "\n",
    "### INITIALIZE THE LIST OF URLS ###\n",
    "\n",
    "urls = [] \n",
    "\n",
    "### LOOP OVER THE FOUND RESULTS ###\n",
    "\n",
    "## Cool progress bar for the loop ##\n",
    "\n",
    "for ii in tqdm(range(results_count), desc=\"Extracting the urls\"):\n",
    "\n",
    "    ## Extract the ii-th variable ##\n",
    "    \n",
    "    result_ii = query.search()[ii] \n",
    "\n",
    "    ## Extract the list of url(s) associated to this ii-th result ##\n",
    "\n",
    "    url_list_ii = result_ii.file_context().search()\n",
    "\n",
    "    ## Loop over the list of url for the ii-th result ##\n",
    "    \n",
    "    for url in url_list_ii: \n",
    "\n",
    "        ## Add it to the list of urls ##\n",
    "        \n",
    "        urls.append(url.download_url)"
   ]
  },
  {
   "cell_type": "code",
   "execution_count": null,
   "id": "c0b6cf2e-14c8-404e-b50a-fe453d025738",
   "metadata": {},
   "outputs": [],
   "source": []
  }
 ],
 "metadata": {
  "kernelspec": {
   "display_name": "download-cmip6",
   "language": "python",
   "name": "download-cmip6"
  },
  "language_info": {
   "codemirror_mode": {
    "name": "ipython",
    "version": 3
   },
   "file_extension": ".py",
   "mimetype": "text/x-python",
   "name": "python",
   "nbconvert_exporter": "python",
   "pygments_lexer": "ipython3",
   "version": "3.9.21"
  }
 },
 "nbformat": 4,
 "nbformat_minor": 5
}
