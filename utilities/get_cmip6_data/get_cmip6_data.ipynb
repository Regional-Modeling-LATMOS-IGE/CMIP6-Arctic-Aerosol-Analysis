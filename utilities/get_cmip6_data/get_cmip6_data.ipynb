{
 "cells": [
  {
   "cell_type": "markdown",
   "id": "5dc97a7c-a97e-4464-9d20-e22becb5685b",
   "metadata": {},
   "source": [
    "# Downloading and preparing an ensemble of CMIP6 data obtained with a series of criterias thanks to intake-esgf"
   ]
  },
  {
   "cell_type": "markdown",
   "id": "ed8b1ede-2de5-487c-9602-6b1b339c6e44",
   "metadata": {},
   "source": [
    "---\n",
    "\n",
    "## Purpose of the notebook\n",
    "\n",
    "---"
   ]
  },
  {
   "cell_type": "markdown",
   "id": "ed44b794",
   "metadata": {},
   "source": [
    "This notebook aims at **downloading an ensemble of CMIP6 variables from python** thanks to a dictionary of **user-defined criterias**. It then **process to prepare the raw data** to make it more usable in a python code.\n",
    "\n",
    "All the links of the documents were accessed on the **25/03/2025**.\n",
    "\n",
    "It uses the *intake-esgf* library : https://github.com/esgf2-us/intake-esgf?tab=readme-ov-file. A beginner guide for this library can be found there : https://intake-esgf.readthedocs.io/en/latest/beginner.html.\n",
    "\n",
    "A detailed documentation for the CMIP6 can be found here : https://wcrp-cmip.org/cmip-model-and-experiment-documentation/.\n",
    "\n",
    "\n",
    "\n",
    "Feel free to share, use and improve the following code according to the provided license on the repository."
   ]
  },
  {
   "cell_type": "markdown",
   "id": "a63dc94a-da9d-4935-b2f2-980f174b2e94",
   "metadata": {},
   "source": [
    "---\n",
    "\n",
    "## Model outputs searched\n",
    "\n",
    "---"
   ]
  },
  {
   "cell_type": "markdown",
   "id": "01a3801d",
   "metadata": {},
   "source": [
    "Every search needs to be constrained by the attributes of the model outputs we are looking for. A detailed document listing these attributes can be found here : https://docs.google.com/document/d/1h0r8RZr_f3-8egBMMh7aqLwy3snpD6_MrDz1q8n5XUk/edit?tab=t.0."
   ]
  },
  {
   "cell_type": "markdown",
   "id": "79fed764-1686-4617-b8db-4eb9124a0030",
   "metadata": {},
   "source": [
    "### Experiments"
   ]
  },
  {
   "cell_type": "markdown",
   "id": "8e7090b8-596e-4ed9-bab7-6ace8abf1da2",
   "metadata": {},
   "source": [
    "We use two experiments realized during the CMIP6  : **piClim-control** and **piClim-aer**. These are both atmosphere-only climate model simulations in which sea surface temperatures (SSTs) and sea icea concentrations (SICs) are fixed at model-specific preindustrial climatological values. The description of the experiments can be found here : https://wcrp-cmip.github.io/CMIP6_CVs/docs/CMIP6_experiment_id.html.\n",
    "\n",
    "> **piClim-control** : assumes aerosols' burdens set to their preindustrial levels, it is the control experiment.\n",
    "> \n",
    "> **piClim-aer** : uses present-day, present-day being 2014, aerosols burdens' levels."
   ]
  },
  {
   "cell_type": "markdown",
   "id": "b9468df7-ef52-4b1f-a170-d8aaef381f57",
   "metadata": {},
   "source": [
    "### Variables"
   ]
  },
  {
   "cell_type": "markdown",
   "id": "a780d594-a1a1-4332-8a62-bb9aae82697f",
   "metadata": {},
   "source": [
    "The variable used are listed and explicited below according to : https://clipc-services.ceda.ac.uk/dreq/mipVars.html.\n",
    "\n",
    "> <span style=\"color:SkyBlue\">**clt**</span>  : Total cloud area fraction (%) for the whole atmospheric column\n",
    ">\n",
    "> <span style=\"color:gold\">**rsdt**</span> : Shortwave radiation ($W/m^{2}$) **incident** at the TOA\n",
    "> \n",
    "> <span style=\"color:orange\">**rsut**</span> : Shortwave radiation ($W/m^{2}$) **going out**  at the TOA\n",
    ">\n",
    "> <span style=\"color:orangered\">**rsutcs**</span> : Shortwave radiation ($W/m^{2}$) **going out**  at TOA for **clear-sky conditions**\n",
    "> \n",
    "> <span style=\"color:Orchid\">**rsds**</span> : Shortwave **downwelling** radiation ($W/m^{2}$) at the surface\n",
    "> \n",
    "> <span style=\"color:Indigo \">**rsdscs**</span>  : Shortwave **downwelling** radiation ($W/m^{2}$) at the surface for **clear-sky conditions**\n",
    "> \n",
    "> <span style=\"color:YellowGreen\">**rsus**</span> : Shortwave **upwelling** radiation ($W/m^{2}$) at the surface\n",
    ">\n",
    "> <span style=\"color:Darkgreen\">**rsuscs**</span>: Shortwave **upwelling** radiation ($W/m^{2}$) at the surface for **clear-sky conditions**\n",
    ">\n",
    "> **areacella** : For every grid, the latitude-dependent surface associated to each grid point."
   ]
  },
  {
   "cell_type": "markdown",
   "id": "389886f6-2e8d-4d99-b4cc-71ebd86e01fb",
   "metadata": {},
   "source": [
    "### Table"
   ]
  },
  {
   "cell_type": "markdown",
   "id": "cf7a82e4-19a5-4bb9-aa5d-ccb2c6260107",
   "metadata": {},
   "source": [
    "The table sets how the variables are organized. We use the **AERmon** table. The details about the tables can be found here : https://clipc-services.ceda.ac.uk/dreq/index/miptable.html.\n",
    "\n",
    "> **Amon** stands for a set of monthly atmospheric data"
   ]
  },
  {
   "cell_type": "markdown",
   "id": "19fb1cc5-febe-4ebf-8dca-b8700098e548",
   "metadata": {},
   "source": [
    "---\n",
    "\n",
    "## Initialisation\n",
    "\n",
    "---"
   ]
  },
  {
   "cell_type": "markdown",
   "id": "cbdebe37-a1de-4df2-a44b-1115d2a8c4dd",
   "metadata": {},
   "source": [
    "### Importations"
   ]
  },
  {
   "cell_type": "markdown",
   "id": "bb63355f-8ed1-4a49-aef4-82919ba07cf8",
   "metadata": {},
   "source": [
    "We import the needed libraries."
   ]
  },
  {
   "cell_type": "code",
   "execution_count": null,
   "id": "16dab12c-5141-4e6f-a908-aa5792b296ea",
   "metadata": {},
   "outputs": [],
   "source": [
    "# ================ IMPORTATIONS ================ #\n",
    "\n",
    "import intake_esgf  # this gives us access to the ESGF catalog to make queries\n",
    "\n",
    "import pandas as pd  # to manage the product of the search\n",
    "\n",
    "import numpy as np  # to manage the pandas arrays\n",
    "\n",
    "import os  # to get access to commands related to path setting and creation of directories\n",
    "\n",
    "from utilities.get_cmip6_data.folders_handle.create import (\n",
    "    create_dir,\n",
    ")  # function to create a cleaned downloading directory\n",
    "\n",
    "\n",
    "from utilities.get_cmip6_data.load_raw_data.load_cmip6 import (\n",
    "    update_single_entry_keys, \n",
    "    generate_single_model_search_criterias\n",
    ") # functions used for the per-entry download routine"
   ]
  },
  {
   "cell_type": "markdown",
   "id": "9474b9b5-edeb-4cc5-829c-035af5c986ff",
   "metadata": {},
   "source": [
    "### Set our search criterias "
   ]
  },
  {
   "cell_type": "markdown",
   "id": "68d13d48-a18d-4f4c-ae0c-32719909fdc6",
   "metadata": {},
   "source": [
    "Here the user may define its search criterias. We create a dictionary structure whose keys are the search criterias."
   ]
  },
  {
   "cell_type": "code",
   "execution_count": 38,
   "id": "d8159458-7777-4fe5-83af-84d953ea377f",
   "metadata": {},
   "outputs": [],
   "source": [
    "# ================ SEARCH CRITERIAS FOR OUR ANALYSIS ================ #\n",
    "\n",
    "### EXPERIMENTS ###\n",
    "\n",
    "experiment_id = [\n",
    "    \"piClim-control\",\n",
    "    \"piClim-aer\",\n",
    "]\n",
    "\n",
    "### VARIABLES ###\n",
    "\n",
    "variable_id = [\n",
    "    \"clt\",\n",
    "    \"rsdt\",\n",
    "    \"rsut\",\n",
    "    \"rsutcs\",\n",
    "    \"rsds\",\n",
    "    \"rsus\",\n",
    "    \"rsdscs\",\n",
    "    \"rsuscs\",\n",
    "]\n",
    "\n",
    "### TABLE ###\n",
    "\n",
    "table_id = \"Amon\"\n",
    "\n",
    "### DEFINE SEARCH CRITERIAS dictionary ###\n",
    "\n",
    "search = {\n",
    "    \"experiment_id\" : experiment_id,\n",
    "    \"variable_id\" : variable_id,\n",
    "    \"table_id\" : table_id\n",
    "}"
   ]
  },
  {
   "cell_type": "markdown",
   "id": "39c9f4bd-93d4-48be-8384-917bc9a707c2",
   "metadata": {},
   "source": [
    "### Create the folder in which the data will be stored"
   ]
  },
  {
   "cell_type": "markdown",
   "id": "9c11ada8",
   "metadata": {},
   "source": [
    "Here the user can chose to create the folder to store the data. It will erase a pre-existing folder if the *do_we_clear* option is set to **True**. This can be quite slow if the data folder is already holding some heavy data."
   ]
  },
  {
   "cell_type": "code",
   "execution_count": 39,
   "id": "9a6e8437",
   "metadata": {},
   "outputs": [],
   "source": [
    "# ================ CHOSE IF WE CLEAR AN ALREADY EXISTING FOLDER ================ #\n",
    "\n",
    "do_we_clear = True"
   ]
  },
  {
   "cell_type": "code",
   "execution_count": 40,
   "id": "415429ca-8b8a-4fbb-9aa5-75775894c60c",
   "metadata": {},
   "outputs": [
    {
     "ename": "OSError",
     "evalue": "[Errno 39] Directory not empty: '/home/jovyan/certainty-data/CMIP6-DATA/CMIP6/CMIP/BCC/BCC-ESM1/1pctCO2/r1i1p1f1/fx/areacella/gn/v20190613'",
     "output_type": "error",
     "traceback": [
      "\u001b[31m---------------------------------------------------------------------------\u001b[39m",
      "\u001b[31mOSError\u001b[39m                                   Traceback (most recent call last)",
      "\u001b[36mCell\u001b[39m\u001b[36m \u001b[39m\u001b[32mIn[40]\u001b[39m\u001b[32m, line 19\u001b[39m\n\u001b[32m     15\u001b[39m downloading_folder_name = \u001b[33m\"\u001b[39m\u001b[33mCMIP6-DATA\u001b[39m\u001b[33m\"\u001b[39m\n\u001b[32m     17\u001b[39m \u001b[38;5;66;03m### CREATE THE DIRECTORY AND EMPTY IF MAKE_A_NEW_FOLDER ###\u001b[39;00m\n\u001b[32m---> \u001b[39m\u001b[32m19\u001b[39m downloading_path = \u001b[43mcreate_dir\u001b[49m\u001b[43m(\u001b[49m\n\u001b[32m     20\u001b[39m \u001b[43m    \u001b[49m\u001b[43mparent_path\u001b[49m\u001b[43m=\u001b[49m\u001b[43mparent_path\u001b[49m\u001b[43m,\u001b[49m\u001b[43m \u001b[49m\u001b[43mname\u001b[49m\u001b[43m=\u001b[49m\u001b[43mdownloading_folder_name\u001b[49m\u001b[43m,\u001b[49m\u001b[43m \u001b[49m\u001b[43mclear\u001b[49m\u001b[43m=\u001b[49m\u001b[43mdo_we_clear\u001b[49m\n\u001b[32m     21\u001b[39m \u001b[43m)\u001b[49m\n\u001b[32m     23\u001b[39m \u001b[38;5;28mprint\u001b[39m(\n\u001b[32m     24\u001b[39m     \u001b[33m\"\u001b[39m\u001b[33mThe downloading folder \u001b[39m\u001b[38;5;132;01m{}\u001b[39;00m\u001b[33m is under the path \u001b[39m\u001b[38;5;132;01m{}\u001b[39;00m\u001b[33m.\u001b[39m\u001b[33m\"\u001b[39m.format(\n\u001b[32m     25\u001b[39m         downloading_folder_name, downloading_path\n\u001b[32m     26\u001b[39m     )\n\u001b[32m     27\u001b[39m )\n",
      "\u001b[36mFile \u001b[39m\u001b[32m~/utilities/download/folders_handle/create.py:78\u001b[39m, in \u001b[36mcreate_dir\u001b[39m\u001b[34m(parent_path, name, clear)\u001b[39m\n\u001b[32m     74\u001b[39m \u001b[38;5;66;03m## If it is a path we remove all the tree ##\u001b[39;00m\n\u001b[32m     76\u001b[39m \u001b[38;5;28;01melif\u001b[39;00m os.path.isdir(path):\n\u001b[32m---> \u001b[39m\u001b[32m78\u001b[39m     \u001b[43mshutil\u001b[49m\u001b[43m.\u001b[49m\u001b[43mrmtree\u001b[49m\u001b[43m(\u001b[49m\u001b[43mpath\u001b[49m\u001b[43m)\u001b[49m\n\u001b[32m     80\u001b[39m \u001b[38;5;66;03m## If we do not know what this is ##\u001b[39;00m\n\u001b[32m     81\u001b[39m \n\u001b[32m     82\u001b[39m \u001b[38;5;28;01melse\u001b[39;00m:\n\u001b[32m     83\u001b[39m     \u001b[38;5;28;01mraise\u001b[39;00m \u001b[38;5;167;01mFileExistsError\u001b[39;00m(\n\u001b[32m     84\u001b[39m         \u001b[33m\"\u001b[39m\u001b[33mPath already exists and isn\u001b[39m\u001b[33m'\u001b[39m\u001b[33mt a regular file or folder\u001b[39m\u001b[33m\"\u001b[39m\n\u001b[32m     85\u001b[39m     )\n",
      "\u001b[36mFile \u001b[39m\u001b[32m~/my-conda-envs/cmip6-download/lib/python3.13/shutil.py:763\u001b[39m, in \u001b[36mrmtree\u001b[39m\u001b[34m(path, ignore_errors, onerror, onexc, dir_fd)\u001b[39m\n\u001b[32m    761\u001b[39m \u001b[38;5;28;01mtry\u001b[39;00m:\n\u001b[32m    762\u001b[39m     \u001b[38;5;28;01mwhile\u001b[39;00m stack:\n\u001b[32m--> \u001b[39m\u001b[32m763\u001b[39m         \u001b[43m_rmtree_safe_fd\u001b[49m\u001b[43m(\u001b[49m\u001b[43mstack\u001b[49m\u001b[43m,\u001b[49m\u001b[43m \u001b[49m\u001b[43monexc\u001b[49m\u001b[43m)\u001b[49m\n\u001b[32m    764\u001b[39m \u001b[38;5;28;01mfinally\u001b[39;00m:\n\u001b[32m    765\u001b[39m     \u001b[38;5;66;03m# Close any file descriptors still on the stack.\u001b[39;00m\n\u001b[32m    766\u001b[39m     \u001b[38;5;28;01mwhile\u001b[39;00m stack:\n",
      "\u001b[36mFile \u001b[39m\u001b[32m~/my-conda-envs/cmip6-download/lib/python3.13/shutil.py:707\u001b[39m, in \u001b[36m_rmtree_safe_fd\u001b[39m\u001b[34m(stack, onexc)\u001b[39m\n\u001b[32m    705\u001b[39m \u001b[38;5;28;01mexcept\u001b[39;00m \u001b[38;5;167;01mOSError\u001b[39;00m \u001b[38;5;28;01mas\u001b[39;00m err:\n\u001b[32m    706\u001b[39m     err.filename = path\n\u001b[32m--> \u001b[39m\u001b[32m707\u001b[39m     \u001b[43monexc\u001b[49m\u001b[43m(\u001b[49m\u001b[43mfunc\u001b[49m\u001b[43m,\u001b[49m\u001b[43m \u001b[49m\u001b[43mpath\u001b[49m\u001b[43m,\u001b[49m\u001b[43m \u001b[49m\u001b[43merr\u001b[49m\u001b[43m)\u001b[49m\n",
      "\u001b[36mFile \u001b[39m\u001b[32m~/my-conda-envs/cmip6-download/lib/python3.13/shutil.py:658\u001b[39m, in \u001b[36m_rmtree_safe_fd\u001b[39m\u001b[34m(stack, onexc)\u001b[39m\n\u001b[32m    656\u001b[39m     \u001b[38;5;28;01mreturn\u001b[39;00m\n\u001b[32m    657\u001b[39m \u001b[38;5;28;01mif\u001b[39;00m func \u001b[38;5;129;01mis\u001b[39;00m os.rmdir:\n\u001b[32m--> \u001b[39m\u001b[32m658\u001b[39m     \u001b[43mos\u001b[49m\u001b[43m.\u001b[49m\u001b[43mrmdir\u001b[49m\u001b[43m(\u001b[49m\u001b[43mname\u001b[49m\u001b[43m,\u001b[49m\u001b[43m \u001b[49m\u001b[43mdir_fd\u001b[49m\u001b[43m=\u001b[49m\u001b[43mdirfd\u001b[49m\u001b[43m)\u001b[49m\n\u001b[32m    659\u001b[39m     \u001b[38;5;28;01mreturn\u001b[39;00m\n\u001b[32m    661\u001b[39m \u001b[38;5;66;03m# Note: To guard against symlink races, we use the standard\u001b[39;00m\n\u001b[32m    662\u001b[39m \u001b[38;5;66;03m# lstat()/open()/fstat() trick.\u001b[39;00m\n",
      "\u001b[31mOSError\u001b[39m: [Errno 39] Directory not empty: '/home/jovyan/certainty-data/CMIP6-DATA/CMIP6/CMIP/BCC/BCC-ESM1/1pctCO2/r1i1p1f1/fx/areacella/gn/v20190613'"
     ]
    }
   ],
   "source": [
    "# ================ CREATE THE FOLDER TO STORE THE DOWNLOADED DATA ================ #\n",
    "\n",
    "### DEFINE WHERE TO MOVE THE FILES AT THE END ###\n",
    "\n",
    "## Home directory ##\n",
    "\n",
    "homedir_path = os.path.expanduser(\"~\")\n",
    "\n",
    "## Parent directory ##\n",
    "\n",
    "parent_path = homedir_path + \"/certainty-data\"\n",
    "\n",
    "## Name of the created folder ##\n",
    "\n",
    "downloading_folder_name = \"CMIP6-DATA\"\n",
    "\n",
    "### CREATE THE DIRECTORY AND EMPTY IF MAKE_A_NEW_FOLDER ###\n",
    "\n",
    "downloading_path = create_dir(\n",
    "    parent_path=parent_path, name=downloading_folder_name, clear=do_we_clear\n",
    ")\n",
    "\n",
    "print(\n",
    "    \"The downloading folder {} is under the path {}.\".format(\n",
    "        downloading_folder_name, downloading_path\n",
    "    )\n",
    ")"
   ]
  },
  {
   "cell_type": "markdown",
   "id": "b10c8be4-7c3d-4206-8519-af1898501d0c",
   "metadata": {},
   "source": [
    "---\n",
    "## Configure the ESGFCatalog\n",
    "\n",
    "\n",
    "---"
   ]
  },
  {
   "cell_type": "markdown",
   "id": "2856c1ec-613e-414c-9690-086a43e26a16",
   "metadata": {},
   "source": [
    "The ESGFCatalog is initially parametrized with default values one may want to change. We will focus on three main changes :\n",
    "\n",
    "* **defining the nodes that the query will investigate** \n",
    "\n",
    "* **setting where the data will be downloaded** \n",
    "\n",
    "* **adding a path that is specific to our cluster to search for CMIP6 outputs locally** \n",
    "\n",
    "The default configuration of the catalog can be accessed through the following line of code. More details on the configuration may be found here : https://intake-esgf.readthedocs.io/en/latest/configure.html."
   ]
  },
  {
   "cell_type": "code",
   "execution_count": null,
   "id": "a8a4a1db-5472-4a50-87d1-eb44f75d0218",
   "metadata": {},
   "outputs": [],
   "source": [
    "print(intake_esgf.conf)"
   ]
  },
  {
   "cell_type": "markdown",
   "id": "37676875-e50f-443d-98ef-50ef80c75b5a",
   "metadata": {},
   "source": [
    "There are some variables that are of interest to us :\n",
    "\n",
    "* The *solr_indices* and the *globus_indices* variables define on which nodes the query is realized. \n",
    "\n",
    "* The *local_cache* variable sets where the data will be downloaded.\n",
    "\n",
    "* The *esg_dataroot* variable sets local path to explore before downloading any data.\n",
    "\n",
    "We can see that, as said in the documentation of the intake_esgf library, the search is done by default with Globus-based indices at the holdings of OLCF (Oak Ridge Leadership Computing Facility) and ALCF (Argonne Leadership Computing Facility). We may extend the search to all the possible ESGF nodes in order to not miss any model output. Note that the solr nodes are way much slower than the globus ones.\n",
    "\n",
    "By default, the folder in which is stored the downloaded data is ~/.esgf/. This is a hidden folder in your home repository. It is more convenient, if you are working on a shared resource such as an institutional cluster or group workstation, to define it on a directory dedicated to data.\n",
    "\n",
    "Finally, if we are working on a cluster having some access to CMIP6 data, it is worth adding the path of this data in our cluster to avoid useless downloading.\n",
    "\n",
    "In the following part we will show how to modify these variables. \n",
    "\n",
    "**To decide if you want to modify them you need to set the following variables to True or define them.**"
   ]
  },
  {
   "cell_type": "code",
   "execution_count": null,
   "id": "01235f6e",
   "metadata": {},
   "outputs": [],
   "source": [
    "# ================ CONFIGURE THE ESGF CATALOG ================ #\n",
    "\n",
    "### USE ALL NODES FOR SEARCH ###\n",
    "\n",
    "all_indices = True\n",
    "\n",
    "### SET A NEW DOWNLOADING PATH ###\n",
    "\n",
    "set_new_downloading_path = True\n",
    "\n",
    "### SET A CLUSTER SPECIFIC CMIP6 PATH ###\n",
    "\n",
    "cluster_local_CMIP6_path = \"\""
   ]
  },
  {
   "cell_type": "markdown",
   "id": "d24386ed-c4b0-43fd-bb75-2ad48ef07bca",
   "metadata": {},
   "source": [
    "### Define the nodes for the research"
   ]
  },
  {
   "cell_type": "markdown",
   "id": "5732995b",
   "metadata": {},
   "source": [
    "We may decide to look at all the nodes. Note that the solr nodes are way much slower than the globus ones. "
   ]
  },
  {
   "cell_type": "code",
   "execution_count": null,
   "id": "3b5f5807-44b0-4152-af85-c23a574394ac",
   "metadata": {},
   "outputs": [],
   "source": [
    "intake_esgf.conf.set(all_indices=all_indices)\n",
    "\n",
    "if all_indices:\n",
    "\n",
    "    print(\"We are looking at all the nodes.\")\n",
    "\n",
    "else:\n",
    "\n",
    "    print(\"We are only looking at the globus nodes\")"
   ]
  },
  {
   "cell_type": "markdown",
   "id": "0137085e-e87b-4539-b175-ce77c775195b",
   "metadata": {},
   "source": [
    "### Set where the data will be downloaded"
   ]
  },
  {
   "cell_type": "code",
   "execution_count": null,
   "id": "0e35ff08-7788-4199-8596-f977b9f9c783",
   "metadata": {},
   "outputs": [],
   "source": [
    "if set_new_downloading_path:\n",
    "\n",
    "    intake_esgf.conf.set(local_cache=downloading_path)\n",
    "\n",
    "    print(\n",
    "        \"The CMIP6 data will be downloaded at the path : {}\".format(\n",
    "            intake_esgf.conf[\"local_cache\"]\n",
    "        )\n",
    "    )"
   ]
  },
  {
   "cell_type": "markdown",
   "id": "28d4aaaf-d574-4f92-af6e-47c8d0673075",
   "metadata": {},
   "source": [
    "### Add a cluster-specific CMIP6 path"
   ]
  },
  {
   "cell_type": "code",
   "execution_count": null,
   "id": "74c98fe2-3864-4373-a6cd-ebbc2dded7fe",
   "metadata": {},
   "outputs": [],
   "source": [
    "if cluster_local_CMIP6_path != \"\":\n",
    "\n",
    "    intake_esgf.conf.set(esg_dataroot=cluster_local_CMIP6_path)\n",
    "\n",
    "    print(\n",
    "        \"The CMIP6 data will be searched beforehand at the path : {}\".format(\n",
    "            intake_esgf.conf[\"esg_dataroot\"]\n",
    "        )\n",
    "    )\n",
    "\n",
    "else:\n",
    "    print(\"No local cluster-specific CMIP6 path\")"
   ]
  },
  {
   "cell_type": "markdown",
   "id": "589d5d09",
   "metadata": {},
   "source": [
    "### Print the new configuration"
   ]
  },
  {
   "cell_type": "code",
   "execution_count": null,
   "id": "a08fbf98",
   "metadata": {},
   "outputs": [],
   "source": [
    "print(intake_esgf.conf)"
   ]
  },
  {
   "cell_type": "markdown",
   "id": "99a19cd6-d165-428f-984f-9133f7339dc9",
   "metadata": {},
   "source": [
    "---\n",
    "\n",
    "## Make the query to the ESGFCatalog\n",
    "\n",
    "---"
   ]
  },
  {
   "cell_type": "markdown",
   "id": "b380bc91-38b4-4748-9041-5c43fe523818",
   "metadata": {},
   "source": [
    "### Initialise the catalog"
   ]
  },
  {
   "cell_type": "markdown",
   "id": "5a145bbb-ad2d-4545-a8ed-625365507741",
   "metadata": {},
   "source": [
    "The catalog variable is initially empty and will be filled given the criterias that we will impose for the query. "
   ]
  },
  {
   "cell_type": "code",
   "execution_count": null,
   "id": "f2d445ed-8924-4f62-ba7c-7e4644e0d1b9",
   "metadata": {},
   "outputs": [],
   "source": [
    "catalog = intake_esgf.ESGFCatalog()\n",
    "\n",
    "print(catalog)"
   ]
  },
  {
   "cell_type": "markdown",
   "id": "9e0d3079-ebc4-41a0-aa62-38c62de2e50c",
   "metadata": {},
   "source": [
    "### Constrain the catalog"
   ]
  },
  {
   "cell_type": "markdown",
   "id": "f25edd29",
   "metadata": {},
   "source": [
    "We apply the criterias defined earlier to the catalog."
   ]
  },
  {
   "cell_type": "code",
   "execution_count": null,
   "id": "093ebabc-cb5d-48de-86d2-a45172e67696",
   "metadata": {},
   "outputs": [],
   "source": [
    "catalog.search(**search)"
   ]
  },
  {
   "cell_type": "markdown",
   "id": "bc077191",
   "metadata": {},
   "source": [
    "### Convert the catalog results into a pandas dataframe"
   ]
  },
  {
   "cell_type": "markdown",
   "id": "6b067741",
   "metadata": {},
   "source": [
    "The resulting catalog can be converted to a pandas dataframe. This is convenient to isolate some properties of the catalog like the models' names that it has found also known as the *source_id*."
   ]
  },
  {
   "cell_type": "code",
   "execution_count": null,
   "id": "1a2c7686",
   "metadata": {},
   "outputs": [],
   "source": [
    "# ================ CONVERT TO PANDAS DATAFRAME ================ #\n",
    "\n",
    "initial_search_df = catalog.df\n",
    "\n",
    "### SHOW THE SOURCE_ID THAT APPEAR AT LEAST ONCE ###\n",
    "\n",
    "## Extract the list of the models' names ##\n",
    "\n",
    "# Retrieve the source_id column and take only one example for every duplicate #\n",
    "\n",
    "list_model_names = initial_search_df.source_id.unique()\n",
    "\n",
    "## Print the result ##\n",
    "\n",
    "print(\"The list of found models' names is : \\n{}\".format(list_model_names))"
   ]
  },
  {
   "cell_type": "markdown",
   "id": "c2028de0",
   "metadata": {},
   "source": [
    "### Regroup the results by model"
   ]
  },
  {
   "cell_type": "markdown",
   "id": "c4cc6fb3",
   "metadata": {},
   "source": [
    "The number of found results is very large. They are numerous duplicates that come from the different *member_id*  and *grid_label* available for each model. \n",
    "\n",
    "The *member_id* or *variant_label* is described by 4 indices defining an ensemble member: *r* for realization, *i* for initialization, *p* for physics, and *f* for forcing. These parameters define an ensemble of experiments that correspond to the main experiment conditions for a given model. Actually, modellers may initialize their model from a different point in time, change the parametrization of a given parameter and so on.\n",
    "\n",
    "Let's regroup the results according to **(model, variant, grid)** tuples."
   ]
  },
  {
   "cell_type": "code",
   "execution_count": null,
   "id": "5f50635c",
   "metadata": {},
   "outputs": [],
   "source": [
    "grouped_models = catalog.model_groups()\n",
    "\n",
    "print(grouped_models)"
   ]
  },
  {
   "cell_type": "markdown",
   "id": "fe084874",
   "metadata": {},
   "source": [
    "An interesting thing to note is the ultimate column that tells us the number of found results for a given model, variant and grid. In our case since we are looking for **8** variables for **two experiments**, the search will be deemed complete if we find **16 resulting files**.\n",
    "\n",
    "The next step is therefore to get rid of the incomplete results according to an user-defined criteria."
   ]
  },
  {
   "cell_type": "markdown",
   "id": "62922b20",
   "metadata": {},
   "source": [
    "### Investigate for a specific model lacking variables"
   ]
  },
  {
   "cell_type": "markdown",
   "id": "c05928fa",
   "metadata": {},
   "source": [
    "From what we have seen from the previous method, some models lack the expected number of variables. Thanks to the pandas' dataframe structure, we may investigate what are the variables missing for which experiment."
   ]
  },
  {
   "cell_type": "code",
   "execution_count": null,
   "id": "f93d7824",
   "metadata": {},
   "outputs": [],
   "source": [
    "# ================ SEE WHAT VARIABLES ARE MISSING ================ #\n",
    "\n",
    "### LOOK AT A GIVEN MODEL ###\n",
    "\n",
    "## Define source_id and member_id ##\n",
    "\n",
    "# Source_id #\n",
    "\n",
    "looked_source_id = \"GFDL-ESM4\"\n",
    "\n",
    "# Member_id #\n",
    "\n",
    "looked_member_id = \"r1i1p1f1\"\n",
    "\n",
    "## Select the given source_id and member_id ##\n",
    "\n",
    "# Source_id #\n",
    "\n",
    "selected_source_id = initial_search_df[initial_search_df.source_id == looked_source_id]\n",
    "\n",
    "# Member_id #\n",
    "\n",
    "selected_model = selected_source_id[selected_source_id.member_id == looked_member_id]\n",
    "\n",
    "## Generate the variable_id series for the piClim-control experiment ##\n",
    "\n",
    "variable_id_for_control_exp = selected_model[selected_model.experiment_id == \"piClim-control\"].variable_id\n",
    "\n",
    "## Generate the variable_id series for the piClim-aer experiment ##\n",
    "\n",
    "variable_id_for_aer_exp = selected_model[selected_model.experiment_id == \"piClim-aer\"].variable_id\n",
    "\n",
    "### FIND VARIABLES THAT ARE MISSING FOR BOTH EXPERIMENTS ###\n",
    "\n",
    "## Make the criteria variable_id list as a panda series ##\n",
    "\n",
    "searched_variable_ids = pd.Series(variable_id, dtype = str)\n",
    "\n",
    "## Get the variables that are found in at least one experiment ##\n",
    "\n",
    "var_in_at_least_one = pd.Series(np.union1d(variable_id_for_control_exp, variable_id_for_aer_exp), dtype = str) \n",
    "\n",
    "## See the missing ones compared to the variable_id list ##\n",
    "\n",
    "print(\"Variables missing in both experiments of {}.{} : \\n\".format(looked_source_id, looked_member_id))\n",
    "\n",
    "missing_variables_from_both = searched_variable_ids[~searched_variable_ids.isin(var_in_at_least_one)].values\n",
    "\n",
    "print(missing_variables_from_both)\n",
    "\n",
    "### GET THE VARIABLES MISSING IN ONLY ONE EXPERIMENT ###\n",
    "\n",
    "## Extract the variables found in both experiments ##\n",
    "\n",
    "var_in_both = pd.Series(np.intersect1d(variable_id_for_control_exp, variable_id_for_aer_exp), dtype = str) \n",
    "\n",
    "## Get the variables not in common between the experiments ##\n",
    "\n",
    "# we keep the variables that are not in both experiments \n",
    "# by removing the ones that are found in both\n",
    "\n",
    "var_not_in_common = var_in_at_least_one[~var_in_at_least_one.isin(var_in_both)] \n",
    "\n",
    "## See the missing ones compared to the variable_id list ##\n",
    "\n",
    "missing_variables_not_in_common = searched_variable_ids[searched_variable_ids.isin(var_not_in_common)].values\n",
    "\n",
    "## Find the concerned experiment if missing_variables_not_in_common is not empty ##\n",
    "\n",
    "# Check if it's empty #\n",
    "\n",
    "if (missing_variables_not_in_common.size > 0) :\n",
    "\n",
    "    # Get the number of variables found for each experiment #\n",
    "\n",
    "    number_variables_control = len(variable_id_for_control_exp.values)\n",
    "\n",
    "    number_variables_aer = len(variable_id_for_aer_exp.values)\n",
    "\n",
    "    # Get the least furnished experiment #\n",
    "\n",
    "    if number_variables_control < number_variables_aer :\n",
    "\n",
    "        print(\"\\nOnly the control experiment of {}.{} is lacking these variables :\\n\".format(looked_source_id, looked_member_id))\n",
    "\n",
    "        print(missing_variables_not_in_common)\n",
    "\n",
    "    else :\n",
    "        \n",
    "        print(\"\\nOnly the aerosol experiment of {}.{} is lacking these variables :\\n\".format(looked_source_id, looked_member_id))\n",
    "\n",
    "        print(missing_variables_not_in_common)"
   ]
  },
  {
   "cell_type": "markdown",
   "id": "f90eaf6a",
   "metadata": {},
   "source": [
    "### Test some filters on the incomplete results"
   ]
  },
  {
   "cell_type": "markdown",
   "id": "02cb2ee9",
   "metadata": {},
   "source": [
    "The user may define an expected number of netcdf files for a given (model, variant,grid) tuple. In our case this is **16** as explained before. Let's impose this result by keeping only the results that match this condition. We will produce a panda series that will allow us to check if our filter is what we want.\n",
    "\n",
    "You may define a more refined filter for the results. Please look at the intake-esgf documentation for more information : https://intake-esgf.readthedocs.io/en/latest/modelgroups.html."
   ]
  },
  {
   "cell_type": "code",
   "execution_count": null,
   "id": "d816ff37",
   "metadata": {},
   "outputs": [],
   "source": [
    "# ================ TEST A FILTER BY GROUPING BY MODELS ================ #\n",
    "\n",
    "### SET THE EXPECTED NUMBER OF FILES ###\n",
    "\n",
    "expected_number_of_files = 16\n",
    "\n",
    "### FILTER THE INCOMPLETE RESULTS ACCORDING TO OUR CRITERIE ###\n",
    "\n",
    "filtered_results = grouped_models[grouped_models == expected_number_of_files]\n",
    "\n",
    "### PRINT THE FILTERED CATALOG ###\n",
    "\n",
    "print(filtered_results)"
   ]
  },
  {
   "cell_type": "markdown",
   "id": "06b2be0a",
   "metadata": {},
   "source": [
    "The result is a pandas series that we can manipulate as so. For example if we want to retrieve all the member_id and grid_label associated to a single modell like the *IPSL-CM6A-LR*"
   ]
  },
  {
   "cell_type": "code",
   "execution_count": null,
   "id": "d4e56605",
   "metadata": {},
   "outputs": [],
   "source": [
    "filtered_results[\"IPSL-CM6A-LR\"]"
   ]
  },
  {
   "cell_type": "markdown",
   "id": "ea9d67fe",
   "metadata": {},
   "source": [
    "Good, let's have a look at the quantity of results we have left."
   ]
  },
  {
   "cell_type": "code",
   "execution_count": null,
   "id": "8332a924",
   "metadata": {},
   "outputs": [],
   "source": [
    "print(\n",
    "    \"The number of remaining (model, variant, grid) tuples is {}.\".format(\n",
    "        filtered_results.shape[0]\n",
    "    )\n",
    ")"
   ]
  },
  {
   "cell_type": "markdown",
   "id": "4980174f",
   "metadata": {},
   "source": [
    "### Applying the filter on the catalog"
   ]
  },
  {
   "cell_type": "markdown",
   "id": "59e9c50d",
   "metadata": {},
   "source": [
    "If that's satisfy us, we need to code a small function that will be **applied to the catalog**. The test will be executed on each model group that we have showed in the previous section. \n",
    "\n",
    "What's more, the pandas dataframe structure of the model groups is quite convenient as it allows us to apply more complex filters. One may want to select some specific models and variant label for example. In our case, we wish to reproduce the results from *Zelinka and al (2023)*. Therefore, we keep only the matching models and variant couples with a the provided list in the article.\n",
    "\n",
    "Firstly, we define the model.variant list of Zelinka's article.\n",
    "\n",
    "**Reference**\n",
    "\n",
    "Zelinka, M. D., Smith, C. J., Qin, Y., and Taylor, K. E.: Comparison of methods to estimate aerosol effective radiative forcings in climate models, Atmos. Chem. Phys., 23, 8879–8898, https://doi.org/10.5194/acp-23-8879-2023, 2023."
   ]
  },
  {
   "cell_type": "code",
   "execution_count": null,
   "id": "0383623f",
   "metadata": {},
   "outputs": [],
   "source": [
    "# ================ DEFINE THE MODEL.VARIANT LIST OF ZELINKA'S ARTICLE ================ #\n",
    "\n",
    "source_id_zelinka_2023 = [\n",
    "    \"ACCESS-CM2\",\n",
    "    \"ACCESS-ESM1-5\",\n",
    "    \"BCC-ESM1\",\n",
    "    \"CESM2\",\n",
    "    \"CNRM-CM6-1\",\n",
    "    \"CNRM-ESM2-1\",\n",
    "    \"CanESM5\",\n",
    "    \"GFDL-CM4\",\n",
    "    \"GFDL-ESM4\",\n",
    "    \"GISS-E2-1-G\",\n",
    "    \"GISS-E2-1-G\",\n",
    "    \"GISS-E2-1-G\",\n",
    "    \"HadGEM3-GC31-LL\",\n",
    "    \"IPSL-CM6A-LR-INCA\",\n",
    "    \"IPSL-CM6A-LR\",\n",
    "    \"IPSL-CM6A-LR\",\n",
    "    \"IPSL-CM6A-LR\",\n",
    "    \"IPSL-CM6A-LR\",\n",
    "    \"MIROC6\",\n",
    "    \"MIROC6\",\n",
    "    \"MPI-ESM-1-2-HAM\",\n",
    "    \"MRI-ESM2-0\",\n",
    "    \"NorESM2-LM\",\n",
    "    \"NorESM2-LM\",\n",
    "    \"NorESM2-MM\",\n",
    "    \"UKESM1-0-LL\" \n",
    "]\n",
    "\n",
    "member_id_zelinka_2023 = [\n",
    "    \"r1i1p1f1\",\n",
    "    \"r1i1p1f1\",\n",
    "    \"r1i1p1f1\",\n",
    "    \"r1i1p1f1\",\n",
    "    \"r1i1p1f2\",\n",
    "    \"r1i1p1f2\",\n",
    "    \"r1i1p2f1\",\n",
    "    \"r1i1p1f1\",\n",
    "    \"r1i1p1f1\",\n",
    "    \"r1i1p1f1\",\n",
    "    \"r1i1p1f2\",\n",
    "    \"r1i1p3f1\",\n",
    "    \"r1i1p1f3\",\n",
    "    \"r1i1p1f1\",\n",
    "    \"r1i1p1f1\",\n",
    "    \"r2i1p1f1\",\n",
    "    \"r3i1p1f1\",\n",
    "    \"r4i1p1f1\",\n",
    "    \"r11i1p1f1\",\n",
    "    \"r1i1p1f1\",\n",
    "    \"r1i1p1f1\",\n",
    "    \"r1i1p1f1\",\n",
    "    \"r1i1p1f1\",\n",
    "    \"r1i1p2f1\",\n",
    "    \"r1i1p1f1\",\n",
    "    \"r1i1p1f4\"\n",
    "]\n",
    "\n",
    "zelinka_2023_model_variant_table = pd.DataFrame({\"source_id\" : source_id_zelinka_2023, \"member_id\" : member_id_zelinka_2023}, dtype = str)"
   ]
  },
  {
   "cell_type": "markdown",
   "id": "aaf8c8a4",
   "metadata": {},
   "source": [
    "Then we are able to define a filtering function that will be applied to each grouped mdoel entry individually."
   ]
  },
  {
   "cell_type": "code",
   "execution_count": null,
   "id": "ed2bac0e",
   "metadata": {},
   "outputs": [],
   "source": [
    "# ================ DEFINING THE FILTERING FUNCTION ================ #\n",
    "\n",
    "### SET THE EXPECTED NUMBER OF FILES ###\n",
    "\n",
    "expected_number_of_files = 16\n",
    "\n",
    "### DEFINE THE GLOBAL OPTIONAL PARAMETERS OF THE FILTERING FUNCTION ###\n",
    "\n",
    "filtering_by_name = True\n",
    "\n",
    "keep_only_dataframe = zelinka_2023_model_variant_table\n",
    "\n",
    "### DEFINE THE FILTERING FUNCTION ###\n",
    "\n",
    "def filtering_function(grouped_model_entry : pd.DataFrame) -> bool:\n",
    "    \"\"\"\n",
    "\n",
    "    ### DEFINITION ###\n",
    "\n",
    "    This function allows the intake-esgf catalog to be cleaned of the entries that are not complete.\n",
    "    In the default case it means entries that do not meet the expected number of files. \n",
    "\n",
    "    The user can also set a condition that only the model and variant couples present in a provided pandas dataframe are kept.\n",
    "    Since the nature of this function is to be an input for the intake-esgf package, we define the optional arguments outside\n",
    "    of the function.\n",
    "\n",
    "    ### INPUTS\n",
    "\n",
    "    GROUPED_MODEL_ENTRY : Pandas DataFrame | sub dataframe containing all the variables of a given source_id, member_id and grid tuple.\n",
    "\n",
    "    ### OPTIONAL ARGUMENTS (DEFINED GLOBALLY)\n",
    "\n",
    "    FILTERING_BY_NAME : BOOL | defines if we filter the entry by source_id and member_id or not\n",
    "\n",
    "    KEEP_ONLY_DATAFRAME : Pandas DataFrame | associated dataframe holding the source_id and member_id to conserve\n",
    "    \n",
    "    ### OUTPUTS\n",
    "\n",
    "    BOOL | whether we keep this model group or not\n",
    "    \"\"\"\n",
    "\n",
    "    ### TEST THE NUMBER OF VARIBALES ###\n",
    "\n",
    "    if len(grouped_model_entry) == expected_number_of_files:\n",
    "\n",
    "        ### NUMBER OF VARIABLES' TEST SUCCEEDED ###\n",
    "\n",
    "        ## Do we keep only the Zelinka's article model and variant couples ? ##\n",
    "\n",
    "        # NO : We keep everything that matched the variable number's test #\n",
    "\n",
    "        if not(filtering_by_name):\n",
    "\n",
    "            return True\n",
    "        \n",
    "        ### YES : KEEPING ONLY THE COUPLES PRESENT IN ZELINKA 2023 ###\n",
    "\n",
    "        else :\n",
    "            \n",
    "            ## Doing the test on the grouped_model_entry's source_id and member_id ##\n",
    "\n",
    "            # Extract the grouped_model_entry data #\n",
    "\n",
    "            grouped_model_entry_source_id = grouped_model_entry.source_id.unique()[0]\n",
    "\n",
    "            grouped_model_entry_member_id = grouped_model_entry.member_id.unique()[0]\n",
    "\n",
    "            # Can we find the grouped_model_entry's source_id and member_id in one row of is_in_keep_only_dataframe ? #\n",
    "\n",
    "            is_in_keep_only_dataframe = ((keep_only_dataframe['source_id'] == grouped_model_entry_source_id) \n",
    "            & (keep_only_dataframe['member_id'] == grouped_model_entry_member_id)).any()\n",
    "\n",
    "            # Return the result of the test #\n",
    "\n",
    "            return is_in_keep_only_dataframe\n",
    "    \n",
    "    ### NUMBER OF VARIABLES' TEST FAILED ###\n",
    "\n",
    "    else :\n",
    "\n",
    "        return False"
   ]
  },
  {
   "cell_type": "markdown",
   "id": "ae9c222d",
   "metadata": {},
   "source": [
    "The following function allows us to apply the filtering function we have just defined."
   ]
  },
  {
   "cell_type": "code",
   "execution_count": null,
   "id": "08053c4e",
   "metadata": {},
   "outputs": [],
   "source": [
    "catalog = catalog.remove_incomplete(filtering_function)"
   ]
  },
  {
   "cell_type": "markdown",
   "id": "14f22bd4",
   "metadata": {},
   "source": [
    "Looking at the resulting dataframe we see that we have indeed filtered the unwanted entries :"
   ]
  },
  {
   "cell_type": "code",
   "execution_count": null,
   "id": "80a8e8ff",
   "metadata": {},
   "outputs": [],
   "source": [
    "catalog.df"
   ]
  },
  {
   "cell_type": "markdown",
   "id": "c7907795",
   "metadata": {},
   "source": [
    "---\n",
    "\n",
    "## Downloading the files and load a dictionary in memory\n",
    "\n",
    "---"
   ]
  },
  {
   "cell_type": "markdown",
   "id": "5b1e5884",
   "metadata": {},
   "source": [
    "The intake-esgf library proposes to store the found results in memory under the form of a dictionary holding xarray datasets for every single netcdf file found. This process also saves the netcdf files at the previously defined *local_cache path*. This part is less general than the previous sections as we have developed more complex routines that what the intake-esgf package provides. Still, if your request is pretty straightforward it may be relevant to first look at the intake-esgf documentation : https://intake-esgf.readthedocs.io/en/latest/quickstart.html.\n",
    "\n",
    "We have indeed developed a specific downloading routine. This is because there is an issue that may be encountered if, as in this example, the user tried to download a lot of different entries from the solr index nodes. Indeed, the downloading of some variables of the data present on these nodes will fail. A solution that has been found in this case is to make a request for a **(source_id, member_id, grid_label)** tuple at once. That is to say, **download each entry independently and then regroup them under the same dictionary**.\n",
    "\n",
    "In addition, by default, the package is looking for the **areacella** variable automatically. Areacella is the variable associated to the model's grid. It tells us the surface associated to each grid point and allows us to easily do spatial averages accross grid points. So, intake-esgf does look for areacella but it does it **rather slowly** as it first looks for an areacella variable for our full search facets, which may lead to no results, and then expands the search. Moreover, it does so for for every single variable of a given model which is redundant. In our analysis, we would rather load the dictionary with *add_measures* set to **False** and then download (and load) the areacella netcdf files apart with a homemade routine. An example of this process is given afterward."
   ]
  },
  {
   "cell_type": "markdown",
   "id": "6371e2d7",
   "metadata": {},
   "source": [
    "### Download of a lot of entries from the solr nodes."
   ]
  },
  {
   "cell_type": "markdown",
   "id": "324ab6b0",
   "metadata": {},
   "source": [
    "We prepare the download of each individual set of variables for a given model. We use for that two functions that can be found in the *load_cmip6.py* submodule in the same folder as this notebook.\n",
    "\n",
    "- The *generate_single_model_search_criterias* function which generates the *search_criterias* used to download a single entry. It is done by the needed tuple of (source_id, member_id, grid_label) criterias to the global *search* dictionary.\n",
    "\n",
    "- The *update_single_entry_keys* function which updates, once we downloaded it, the keys of the one entry dictionary to allow to concatenate all dictionaries together.\n",
    "\n",
    "With these two functions, we can generate a dictionnary holding all entries even though we downloaded them separatly.\n",
    "\n",
    "Before using them, we need to extract some information out the filtered catalog."
   ]
  },
  {
   "cell_type": "code",
   "execution_count": null,
   "id": "0eaf4be9",
   "metadata": {},
   "outputs": [],
   "source": [
    "# ================ EXTRACT THE FILTERED CATALOG'S INFORMATION ================ #\n",
    "\n",
    "### GET THE INFORMATIONS THAT THE CATALOG EXTRACTED ###\n",
    "\n",
    "## Generate the full dataframe of the files found by the search ##\n",
    "\n",
    "selected_entries_full_dataframe = catalog.df\n",
    "\n",
    "## Save the grouped model pandas series for the next part ##\n",
    "\n",
    "series_grouped_models = catalog.model_groups()\n",
    "\n",
    "### GET ONLY THE NEEDED INFORMATION ###\n",
    "\n",
    "## We extract the (source_id, member_id, grid_label) tuples from the full dataframe ##\n",
    "\n",
    "# we remove the duplicates to only keep one row per tuple\n",
    "\n",
    "grouped_models_dataframe = selected_entries_full_dataframe[[\"source_id\",\"member_id\",\"grid_label\"]].drop_duplicates().reset_index(drop = True)\n"
   ]
  },
  {
   "cell_type": "markdown",
   "id": "dc0b6725",
   "metadata": {},
   "source": [
    "Once we have all the needed variables, the following routine builds the full dictionary by downloading every single entry independently."
   ]
  },
  {
   "cell_type": "code",
   "execution_count": null,
   "id": "f92d1d0d",
   "metadata": {},
   "outputs": [
    {
     "name": "stdout",
     "output_type": "stream",
     "text": [
      "Downloading and/or loading the data one entry at a time...\n",
      "\n",
      "\n",
      "Downloading IPSL-CM6A-LR.r1i1p1f1.gr ...\n",
      "\n"
     ]
    },
    {
     "data": {
      "application/vnd.jupyter.widget-view+json": {
       "model_id": "065a77a1ed984961a9a1fc017f33ad9d",
       "version_major": 2,
       "version_minor": 0
      },
      "text/plain": [
       "   Searching indices:   0%|          |0/9 [       ?index/s]"
      ]
     },
     "metadata": {},
     "output_type": "display_data"
    },
    {
     "name": "stderr",
     "output_type": "stream",
     "text": [
      "/home/jovyan/my-conda-envs/cmip6-download/lib/python3.13/site-packages/intake_esgf/catalog.py:450: UserWarning: SolrESGFIndex('esgf-node.ipsl.upmc.fr') failed to return a response, info may be incomplete\n",
      "  warnings.warn(\n",
      "/home/jovyan/my-conda-envs/cmip6-download/lib/python3.13/site-packages/intake_esgf/catalog.py:450: UserWarning: SolrESGFIndex('esgf-data.dkrz.de') failed to return a response, info may be incomplete\n",
      "  warnings.warn(\n",
      "/home/jovyan/my-conda-envs/cmip6-download/lib/python3.13/site-packages/intake_esgf/catalog.py:450: UserWarning: SolrESGFIndex('esgf.ceda.ac.uk') failed to return a response, info may be incomplete\n",
      "  warnings.warn(\n",
      "/home/jovyan/my-conda-envs/cmip6-download/lib/python3.13/site-packages/intake_esgf/catalog.py:450: UserWarning: SolrESGFIndex('esg-dn1.nsc.liu.se') failed to return a response, info may be incomplete\n",
      "  warnings.warn(\n",
      "/home/jovyan/my-conda-envs/cmip6-download/lib/python3.13/site-packages/intake_esgf/catalog.py:450: UserWarning: SolrESGFIndex('esgf-node.ornl.gov') failed to return a response, info may be incomplete\n",
      "  warnings.warn(\n",
      "/home/jovyan/my-conda-envs/cmip6-download/lib/python3.13/site-packages/intake_esgf/catalog.py:450: UserWarning: SolrESGFIndex('esgf-node.llnl.gov') failed to return a response, info may be incomplete\n",
      "  warnings.warn(\n",
      "/home/jovyan/my-conda-envs/cmip6-download/lib/python3.13/site-packages/intake_esgf/catalog.py:450: UserWarning: SolrESGFIndex('esgf.nci.org.au') failed to return a response, info may be incomplete\n",
      "  warnings.warn(\n"
     ]
    },
    {
     "data": {
      "application/vnd.jupyter.widget-view+json": {
       "model_id": "a4e99d9843aa4e4f85ea86781cf9a6c3",
       "version_major": 2,
       "version_minor": 0
      },
      "text/plain": [
       "rsut_Amon_IPSL-CM6A-LR_piClim-aer_r1i...:   0%|          |0.00/20.8M [?B/s]"
      ]
     },
     "metadata": {},
     "output_type": "display_data"
    },
    {
     "data": {
      "application/vnd.jupyter.widget-view+json": {
       "model_id": "43e172695f4a439c80927989289abdca",
       "version_major": 2,
       "version_minor": 0
      },
      "text/plain": [
       "rsus_Amon_IPSL-CM6A-LR_piClim-aer_r1i...:   0%|          |0.00/21.3M [?B/s]"
      ]
     },
     "metadata": {},
     "output_type": "display_data"
    },
    {
     "data": {
      "application/vnd.jupyter.widget-view+json": {
       "model_id": "03f505c9e5824be891ffd310876fce34",
       "version_major": 2,
       "version_minor": 0
      },
      "text/plain": [
       "rsut_Amon_IPSL-CM6A-LR_piClim-control...:   0%|          |0.00/20.8M [?B/s]"
      ]
     },
     "metadata": {},
     "output_type": "display_data"
    },
    {
     "data": {
      "application/vnd.jupyter.widget-view+json": {
       "model_id": "c8e7a23975414d16af8c14d1a54478bb",
       "version_major": 2,
       "version_minor": 0
      },
      "text/plain": [
       "rsutcs_Amon_IPSL-CM6A-LR_piClim-aer_r...:   0%|          |0.00/19.0M [?B/s]"
      ]
     },
     "metadata": {},
     "output_type": "display_data"
    },
    {
     "data": {
      "application/vnd.jupyter.widget-view+json": {
       "model_id": "7b03e1f28696410e889886dcdb69f715",
       "version_major": 2,
       "version_minor": 0
      },
      "text/plain": [
       "rsuscs_Amon_IPSL-CM6A-LR_piClim-aer_r...:   0%|          |0.00/19.7M [?B/s]"
      ]
     },
     "metadata": {},
     "output_type": "display_data"
    },
    {
     "data": {
      "application/vnd.jupyter.widget-view+json": {
       "model_id": "f5c2b0ff987144608cb1230021e94230",
       "version_major": 2,
       "version_minor": 0
      },
      "text/plain": [
       "rsdscs_Amon_IPSL-CM6A-LR_piClim-aer_r...:   0%|          |0.00/17.6M [?B/s]"
      ]
     },
     "metadata": {},
     "output_type": "display_data"
    },
    {
     "data": {
      "application/vnd.jupyter.widget-view+json": {
       "model_id": "e18a20142b374cc8892ecdb382d762d9",
       "version_major": 2,
       "version_minor": 0
      },
      "text/plain": [
       "clt_Amon_IPSL-CM6A-LR_piClim-control_...:   0%|          |0.00/22.1M [?B/s]"
      ]
     },
     "metadata": {},
     "output_type": "display_data"
    },
    {
     "data": {
      "application/vnd.jupyter.widget-view+json": {
       "model_id": "bcaeb269f5ce40a9b6b13154b37e82a7",
       "version_major": 2,
       "version_minor": 0
      },
      "text/plain": [
       "rsdt_Amon_IPSL-CM6A-LR_piClim-control...:   0%|          |0.00/13.5M [?B/s]"
      ]
     },
     "metadata": {},
     "output_type": "display_data"
    },
    {
     "data": {
      "application/vnd.jupyter.widget-view+json": {
       "model_id": "d9e1e30002c5425b8b81473d089bb14b",
       "version_major": 2,
       "version_minor": 0
      },
      "text/plain": [
       "rsdt_Amon_IPSL-CM6A-LR_piClim-aer_r1i...:   0%|          |0.00/13.5M [?B/s]"
      ]
     },
     "metadata": {},
     "output_type": "display_data"
    },
    {
     "data": {
      "application/vnd.jupyter.widget-view+json": {
       "model_id": "1ea11bb64b144b2cbf47cbe2d96f2119",
       "version_major": 2,
       "version_minor": 0
      },
      "text/plain": [
       "rsdscs_Amon_IPSL-CM6A-LR_piClim-contr...:   0%|          |0.00/17.5M [?B/s]"
      ]
     },
     "metadata": {},
     "output_type": "display_data"
    },
    {
     "data": {
      "application/vnd.jupyter.widget-view+json": {
       "model_id": "6cbdf31246ec4866a5698bc9cb492aa3",
       "version_major": 2,
       "version_minor": 0
      },
      "text/plain": [
       "rsds_Amon_IPSL-CM6A-LR_piClim-aer_r1i...:   0%|          |0.00/20.7M [?B/s]"
      ]
     },
     "metadata": {},
     "output_type": "display_data"
    },
    {
     "data": {
      "application/vnd.jupyter.widget-view+json": {
       "model_id": "765c901f28244c409dcf99b422013ff5",
       "version_major": 2,
       "version_minor": 0
      },
      "text/plain": [
       "clt_Amon_IPSL-CM6A-LR_piClim-aer_r1i1...:   0%|          |0.00/22.1M [?B/s]"
      ]
     },
     "metadata": {},
     "output_type": "display_data"
    },
    {
     "data": {
      "application/vnd.jupyter.widget-view+json": {
       "model_id": "637fad720b9844fc8205f1acf1c0baeb",
       "version_major": 2,
       "version_minor": 0
      },
      "text/plain": [
       "rsds_Amon_IPSL-CM6A-LR_piClim-control...:   0%|          |0.00/20.7M [?B/s]"
      ]
     },
     "metadata": {},
     "output_type": "display_data"
    },
    {
     "data": {
      "application/vnd.jupyter.widget-view+json": {
       "model_id": "85469a749ad84382bbc61a16dc70b229",
       "version_major": 2,
       "version_minor": 0
      },
      "text/plain": [
       "rsus_Amon_IPSL-CM6A-LR_piClim-control...:   0%|          |0.00/21.3M [?B/s]"
      ]
     },
     "metadata": {},
     "output_type": "display_data"
    },
    {
     "data": {
      "application/vnd.jupyter.widget-view+json": {
       "model_id": "7f364fa36da942caa3d7c6f0bd9e6ceb",
       "version_major": 2,
       "version_minor": 0
      },
      "text/plain": [
       "rsutcs_Amon_IPSL-CM6A-LR_piClim-contr...:   0%|          |0.00/19.0M [?B/s]"
      ]
     },
     "metadata": {},
     "output_type": "display_data"
    },
    {
     "data": {
      "application/vnd.jupyter.widget-view+json": {
       "model_id": "f5c571c842b2441c82725e715c0d4597",
       "version_major": 2,
       "version_minor": 0
      },
      "text/plain": [
       "rsuscs_Amon_IPSL-CM6A-LR_piClim-contr...:   0%|          |0.00/19.7M [?B/s]"
      ]
     },
     "metadata": {},
     "output_type": "display_data"
    },
    {
     "name": "stdout",
     "output_type": "stream",
     "text": [
      "\n",
      "Downloading IPSL-CM6A-LR.r2i1p1f1.gr ...\n",
      "\n"
     ]
    },
    {
     "data": {
      "application/vnd.jupyter.widget-view+json": {
       "model_id": "a836555602b34f8b8b7785d5cb6f5b48",
       "version_major": 2,
       "version_minor": 0
      },
      "text/plain": [
       "   Searching indices:   0%|          |0/9 [       ?index/s]"
      ]
     },
     "metadata": {},
     "output_type": "display_data"
    },
    {
     "name": "stderr",
     "output_type": "stream",
     "text": [
      "/home/jovyan/my-conda-envs/cmip6-download/lib/python3.13/site-packages/intake_esgf/catalog.py:450: UserWarning: SolrESGFIndex('esgf-node.ipsl.upmc.fr') failed to return a response, info may be incomplete\n",
      "  warnings.warn(\n",
      "/home/jovyan/my-conda-envs/cmip6-download/lib/python3.13/site-packages/intake_esgf/catalog.py:450: UserWarning: SolrESGFIndex('esgf-data.dkrz.de') failed to return a response, info may be incomplete\n",
      "  warnings.warn(\n",
      "/home/jovyan/my-conda-envs/cmip6-download/lib/python3.13/site-packages/intake_esgf/catalog.py:450: UserWarning: SolrESGFIndex('esgf.ceda.ac.uk') failed to return a response, info may be incomplete\n",
      "  warnings.warn(\n",
      "/home/jovyan/my-conda-envs/cmip6-download/lib/python3.13/site-packages/intake_esgf/catalog.py:450: UserWarning: SolrESGFIndex('esg-dn1.nsc.liu.se') failed to return a response, info may be incomplete\n",
      "  warnings.warn(\n",
      "/home/jovyan/my-conda-envs/cmip6-download/lib/python3.13/site-packages/intake_esgf/catalog.py:450: UserWarning: SolrESGFIndex('esgf-node.ornl.gov') failed to return a response, info may be incomplete\n",
      "  warnings.warn(\n",
      "/home/jovyan/my-conda-envs/cmip6-download/lib/python3.13/site-packages/intake_esgf/catalog.py:450: UserWarning: SolrESGFIndex('esgf-node.llnl.gov') failed to return a response, info may be incomplete\n",
      "  warnings.warn(\n",
      "/home/jovyan/my-conda-envs/cmip6-download/lib/python3.13/site-packages/intake_esgf/catalog.py:450: UserWarning: SolrESGFIndex('esgf.nci.org.au') failed to return a response, info may be incomplete\n",
      "  warnings.warn(\n"
     ]
    },
    {
     "data": {
      "application/vnd.jupyter.widget-view+json": {
       "model_id": "ae9c13f2dc484a9798376ef737dc9336",
       "version_major": 2,
       "version_minor": 0
      },
      "text/plain": [
       "rsuscs_Amon_IPSL-CM6A-LR_piClim-contr...:   0%|          |0.00/19.7M [?B/s]"
      ]
     },
     "metadata": {},
     "output_type": "display_data"
    },
    {
     "data": {
      "application/vnd.jupyter.widget-view+json": {
       "model_id": "b101e57d51bb4e82b19cc6ae59531060",
       "version_major": 2,
       "version_minor": 0
      },
      "text/plain": [
       "clt_Amon_IPSL-CM6A-LR_piClim-aer_r2i1...:   0%|          |0.00/22.1M [?B/s]"
      ]
     },
     "metadata": {},
     "output_type": "display_data"
    },
    {
     "data": {
      "application/vnd.jupyter.widget-view+json": {
       "model_id": "a30932d8415d490aad935b17200464fc",
       "version_major": 2,
       "version_minor": 0
      },
      "text/plain": [
       "rsdscs_Amon_IPSL-CM6A-LR_piClim-aer_r...:   0%|          |0.00/17.6M [?B/s]"
      ]
     },
     "metadata": {},
     "output_type": "display_data"
    },
    {
     "data": {
      "application/vnd.jupyter.widget-view+json": {
       "model_id": "5ea3d4975cbd460e8aa567436e228a10",
       "version_major": 2,
       "version_minor": 0
      },
      "text/plain": [
       "rsuscs_Amon_IPSL-CM6A-LR_piClim-aer_r...:   0%|          |0.00/19.7M [?B/s]"
      ]
     },
     "metadata": {},
     "output_type": "display_data"
    },
    {
     "data": {
      "application/vnd.jupyter.widget-view+json": {
       "model_id": "1dd4709f098a449ab4cfb6c5aec04c8a",
       "version_major": 2,
       "version_minor": 0
      },
      "text/plain": [
       "rsdt_Amon_IPSL-CM6A-LR_piClim-control...:   0%|          |0.00/13.5M [?B/s]"
      ]
     },
     "metadata": {},
     "output_type": "display_data"
    },
    {
     "data": {
      "application/vnd.jupyter.widget-view+json": {
       "model_id": "0d3baf93ced24a5392b25ac310f45091",
       "version_major": 2,
       "version_minor": 0
      },
      "text/plain": [
       "rsus_Amon_IPSL-CM6A-LR_piClim-control...:   0%|          |0.00/21.3M [?B/s]"
      ]
     },
     "metadata": {},
     "output_type": "display_data"
    },
    {
     "data": {
      "application/vnd.jupyter.widget-view+json": {
       "model_id": "ea01aa9acf974ec29434391ddcf0b3db",
       "version_major": 2,
       "version_minor": 0
      },
      "text/plain": [
       "rsds_Amon_IPSL-CM6A-LR_piClim-aer_r2i...:   0%|          |0.00/20.7M [?B/s]"
      ]
     },
     "metadata": {},
     "output_type": "display_data"
    },
    {
     "data": {
      "application/vnd.jupyter.widget-view+json": {
       "model_id": "f677c6f71e3b47658664c045b980cd45",
       "version_major": 2,
       "version_minor": 0
      },
      "text/plain": [
       "rsutcs_Amon_IPSL-CM6A-LR_piClim-aer_r...:   0%|          |0.00/19.0M [?B/s]"
      ]
     },
     "metadata": {},
     "output_type": "display_data"
    },
    {
     "data": {
      "application/vnd.jupyter.widget-view+json": {
       "model_id": "d995b7c4408d4523ac557fc026be1222",
       "version_major": 2,
       "version_minor": 0
      },
      "text/plain": [
       "rsut_Amon_IPSL-CM6A-LR_piClim-control...:   0%|          |0.00/20.8M [?B/s]"
      ]
     },
     "metadata": {},
     "output_type": "display_data"
    },
    {
     "data": {
      "application/vnd.jupyter.widget-view+json": {
       "model_id": "d8cf25189b644c6d9ee304e792f127f7",
       "version_major": 2,
       "version_minor": 0
      },
      "text/plain": [
       "rsutcs_Amon_IPSL-CM6A-LR_piClim-contr...:   0%|          |0.00/19.0M [?B/s]"
      ]
     },
     "metadata": {},
     "output_type": "display_data"
    },
    {
     "data": {
      "application/vnd.jupyter.widget-view+json": {
       "model_id": "9c99b472be7c44cd958ac5871386cce1",
       "version_major": 2,
       "version_minor": 0
      },
      "text/plain": [
       "rsus_Amon_IPSL-CM6A-LR_piClim-aer_r2i...:   0%|          |0.00/21.3M [?B/s]"
      ]
     },
     "metadata": {},
     "output_type": "display_data"
    },
    {
     "data": {
      "application/vnd.jupyter.widget-view+json": {
       "model_id": "51eff93d5dad4a238cc188141f248d12",
       "version_major": 2,
       "version_minor": 0
      },
      "text/plain": [
       "clt_Amon_IPSL-CM6A-LR_piClim-control_...:   0%|          |0.00/22.1M [?B/s]"
      ]
     },
     "metadata": {},
     "output_type": "display_data"
    },
    {
     "data": {
      "application/vnd.jupyter.widget-view+json": {
       "model_id": "ac660bf31a0b453a95c564fdd9da4688",
       "version_major": 2,
       "version_minor": 0
      },
      "text/plain": [
       "rsdscs_Amon_IPSL-CM6A-LR_piClim-contr...:   0%|          |0.00/17.5M [?B/s]"
      ]
     },
     "metadata": {},
     "output_type": "display_data"
    },
    {
     "data": {
      "application/vnd.jupyter.widget-view+json": {
       "model_id": "245e2355109446ae9a514b2061bc031e",
       "version_major": 2,
       "version_minor": 0
      },
      "text/plain": [
       "rsut_Amon_IPSL-CM6A-LR_piClim-aer_r2i...:   0%|          |0.00/20.8M [?B/s]"
      ]
     },
     "metadata": {},
     "output_type": "display_data"
    },
    {
     "data": {
      "application/vnd.jupyter.widget-view+json": {
       "model_id": "93ed70c650a643f0b23db14a13820487",
       "version_major": 2,
       "version_minor": 0
      },
      "text/plain": [
       "rsds_Amon_IPSL-CM6A-LR_piClim-control...:   0%|          |0.00/20.7M [?B/s]"
      ]
     },
     "metadata": {},
     "output_type": "display_data"
    },
    {
     "data": {
      "application/vnd.jupyter.widget-view+json": {
       "model_id": "5f98c62589b5484b9192c86b257645b4",
       "version_major": 2,
       "version_minor": 0
      },
      "text/plain": [
       "rsdt_Amon_IPSL-CM6A-LR_piClim-aer_r2i...:   0%|          |0.00/13.5M [?B/s]"
      ]
     },
     "metadata": {},
     "output_type": "display_data"
    },
    {
     "name": "stdout",
     "output_type": "stream",
     "text": [
      "\n",
      "Downloading IPSL-CM6A-LR.r4i1p1f1.gr ...\n",
      "\n"
     ]
    },
    {
     "data": {
      "application/vnd.jupyter.widget-view+json": {
       "model_id": "2acdee9a74934c46b0c91f9665fdc609",
       "version_major": 2,
       "version_minor": 0
      },
      "text/plain": [
       "   Searching indices:   0%|          |0/9 [       ?index/s]"
      ]
     },
     "metadata": {},
     "output_type": "display_data"
    },
    {
     "name": "stderr",
     "output_type": "stream",
     "text": [
      "/home/jovyan/my-conda-envs/cmip6-download/lib/python3.13/site-packages/intake_esgf/catalog.py:450: UserWarning: SolrESGFIndex('esgf-node.ipsl.upmc.fr') failed to return a response, info may be incomplete\n",
      "  warnings.warn(\n",
      "/home/jovyan/my-conda-envs/cmip6-download/lib/python3.13/site-packages/intake_esgf/catalog.py:450: UserWarning: SolrESGFIndex('esgf.ceda.ac.uk') failed to return a response, info may be incomplete\n",
      "  warnings.warn(\n",
      "/home/jovyan/my-conda-envs/cmip6-download/lib/python3.13/site-packages/intake_esgf/catalog.py:450: UserWarning: SolrESGFIndex('esgf-data.dkrz.de') failed to return a response, info may be incomplete\n",
      "  warnings.warn(\n",
      "/home/jovyan/my-conda-envs/cmip6-download/lib/python3.13/site-packages/intake_esgf/catalog.py:450: UserWarning: SolrESGFIndex('esg-dn1.nsc.liu.se') failed to return a response, info may be incomplete\n",
      "  warnings.warn(\n",
      "/home/jovyan/my-conda-envs/cmip6-download/lib/python3.13/site-packages/intake_esgf/catalog.py:450: UserWarning: SolrESGFIndex('esgf-node.ornl.gov') failed to return a response, info may be incomplete\n",
      "  warnings.warn(\n",
      "/home/jovyan/my-conda-envs/cmip6-download/lib/python3.13/site-packages/intake_esgf/catalog.py:450: UserWarning: SolrESGFIndex('esgf-node.llnl.gov') failed to return a response, info may be incomplete\n",
      "  warnings.warn(\n",
      "/home/jovyan/my-conda-envs/cmip6-download/lib/python3.13/site-packages/intake_esgf/catalog.py:450: UserWarning: SolrESGFIndex('esgf.nci.org.au') failed to return a response, info may be incomplete\n",
      "  warnings.warn(\n"
     ]
    },
    {
     "data": {
      "application/vnd.jupyter.widget-view+json": {
       "model_id": "1b2e978dcaea494bae0673025063e870",
       "version_major": 2,
       "version_minor": 0
      },
      "text/plain": [
       "rsds_Amon_IPSL-CM6A-LR_piClim-aer_r4i...:   0%|          |0.00/20.7M [?B/s]"
      ]
     },
     "metadata": {},
     "output_type": "display_data"
    },
    {
     "data": {
      "application/vnd.jupyter.widget-view+json": {
       "model_id": "d732f7636fd44a21a3a70b3040fae486",
       "version_major": 2,
       "version_minor": 0
      },
      "text/plain": [
       "clt_Amon_IPSL-CM6A-LR_piClim-control_...:   0%|          |0.00/22.1M [?B/s]"
      ]
     },
     "metadata": {},
     "output_type": "display_data"
    },
    {
     "data": {
      "application/vnd.jupyter.widget-view+json": {
       "model_id": "50d5e947becf49bfa35ce9ca5633a2b4",
       "version_major": 2,
       "version_minor": 0
      },
      "text/plain": [
       "rsut_Amon_IPSL-CM6A-LR_piClim-control...:   0%|          |0.00/20.8M [?B/s]"
      ]
     },
     "metadata": {},
     "output_type": "display_data"
    },
    {
     "data": {
      "application/vnd.jupyter.widget-view+json": {
       "model_id": "f3f0bca39d914b5b8c638bc31f0b4f2c",
       "version_major": 2,
       "version_minor": 0
      },
      "text/plain": [
       "rsus_Amon_IPSL-CM6A-LR_piClim-aer_r4i...:   0%|          |0.00/21.3M [?B/s]"
      ]
     },
     "metadata": {},
     "output_type": "display_data"
    },
    {
     "data": {
      "application/vnd.jupyter.widget-view+json": {
       "model_id": "ecb96a9c3e5e4e67bda79c10e0b21ee9",
       "version_major": 2,
       "version_minor": 0
      },
      "text/plain": [
       "rsdt_Amon_IPSL-CM6A-LR_piClim-control...:   0%|          |0.00/13.5M [?B/s]"
      ]
     },
     "metadata": {},
     "output_type": "display_data"
    },
    {
     "data": {
      "application/vnd.jupyter.widget-view+json": {
       "model_id": "57889dbcaafb42078e0b1f07884aecf2",
       "version_major": 2,
       "version_minor": 0
      },
      "text/plain": [
       "clt_Amon_IPSL-CM6A-LR_piClim-aer_r4i1...:   0%|          |0.00/22.1M [?B/s]"
      ]
     },
     "metadata": {},
     "output_type": "display_data"
    },
    {
     "data": {
      "application/vnd.jupyter.widget-view+json": {
       "model_id": "7a257636e5bc4e74a95c9f7a1604f2f8",
       "version_major": 2,
       "version_minor": 0
      },
      "text/plain": [
       "rsutcs_Amon_IPSL-CM6A-LR_piClim-contr...:   0%|          |0.00/19.0M [?B/s]"
      ]
     },
     "metadata": {},
     "output_type": "display_data"
    },
    {
     "data": {
      "application/vnd.jupyter.widget-view+json": {
       "model_id": "85b9e4dd14534f03997157a132bc6733",
       "version_major": 2,
       "version_minor": 0
      },
      "text/plain": [
       "rsdscs_Amon_IPSL-CM6A-LR_piClim-aer_r...:   0%|          |0.00/17.6M [?B/s]"
      ]
     },
     "metadata": {},
     "output_type": "display_data"
    },
    {
     "data": {
      "application/vnd.jupyter.widget-view+json": {
       "model_id": "f1c793506bc646988e87bd59bc6bf534",
       "version_major": 2,
       "version_minor": 0
      },
      "text/plain": [
       "rsutcs_Amon_IPSL-CM6A-LR_piClim-aer_r...:   0%|          |0.00/19.0M [?B/s]"
      ]
     },
     "metadata": {},
     "output_type": "display_data"
    },
    {
     "data": {
      "application/vnd.jupyter.widget-view+json": {
       "model_id": "08f870e581f74143a1098475281c5203",
       "version_major": 2,
       "version_minor": 0
      },
      "text/plain": [
       "rsdt_Amon_IPSL-CM6A-LR_piClim-aer_r4i...:   0%|          |0.00/13.5M [?B/s]"
      ]
     },
     "metadata": {},
     "output_type": "display_data"
    },
    {
     "data": {
      "application/vnd.jupyter.widget-view+json": {
       "model_id": "e52ef6e4a2ea44cb8e18be040e7a6c30",
       "version_major": 2,
       "version_minor": 0
      },
      "text/plain": [
       "rsus_Amon_IPSL-CM6A-LR_piClim-control...:   0%|          |0.00/21.3M [?B/s]"
      ]
     },
     "metadata": {},
     "output_type": "display_data"
    },
    {
     "data": {
      "application/vnd.jupyter.widget-view+json": {
       "model_id": "41cd23de846a4d5297bdb66b786d1b01",
       "version_major": 2,
       "version_minor": 0
      },
      "text/plain": [
       "rsuscs_Amon_IPSL-CM6A-LR_piClim-aer_r...:   0%|          |0.00/19.7M [?B/s]"
      ]
     },
     "metadata": {},
     "output_type": "display_data"
    },
    {
     "data": {
      "application/vnd.jupyter.widget-view+json": {
       "model_id": "f8f162c81bf74eb18178efbda0d4421d",
       "version_major": 2,
       "version_minor": 0
      },
      "text/plain": [
       "rsds_Amon_IPSL-CM6A-LR_piClim-control...:   0%|          |0.00/20.7M [?B/s]"
      ]
     },
     "metadata": {},
     "output_type": "display_data"
    },
    {
     "data": {
      "application/vnd.jupyter.widget-view+json": {
       "model_id": "c63dd725e1344ef389496f6448515351",
       "version_major": 2,
       "version_minor": 0
      },
      "text/plain": [
       "rsuscs_Amon_IPSL-CM6A-LR_piClim-contr...:   0%|          |0.00/19.7M [?B/s]"
      ]
     },
     "metadata": {},
     "output_type": "display_data"
    },
    {
     "data": {
      "application/vnd.jupyter.widget-view+json": {
       "model_id": "f74e716085994dc99d7b8bae236685b3",
       "version_major": 2,
       "version_minor": 0
      },
      "text/plain": [
       "rsdscs_Amon_IPSL-CM6A-LR_piClim-contr...:   0%|          |0.00/17.5M [?B/s]"
      ]
     },
     "metadata": {},
     "output_type": "display_data"
    },
    {
     "data": {
      "application/vnd.jupyter.widget-view+json": {
       "model_id": "c2fac66249824e5d9d3b9c00d2d42f65",
       "version_major": 2,
       "version_minor": 0
      },
      "text/plain": [
       "rsut_Amon_IPSL-CM6A-LR_piClim-aer_r4i...:   0%|          |0.00/20.8M [?B/s]"
      ]
     },
     "metadata": {},
     "output_type": "display_data"
    },
    {
     "name": "stdout",
     "output_type": "stream",
     "text": [
      "\n",
      "Downloading IPSL-CM6A-LR.r3i1p1f1.gr ...\n",
      "\n"
     ]
    },
    {
     "data": {
      "application/vnd.jupyter.widget-view+json": {
       "model_id": "037199da887241569ad30df8b33991cb",
       "version_major": 2,
       "version_minor": 0
      },
      "text/plain": [
       "   Searching indices:   0%|          |0/9 [       ?index/s]"
      ]
     },
     "metadata": {},
     "output_type": "display_data"
    },
    {
     "name": "stderr",
     "output_type": "stream",
     "text": [
      "/home/jovyan/my-conda-envs/cmip6-download/lib/python3.13/site-packages/intake_esgf/catalog.py:450: UserWarning: SolrESGFIndex('esgf-node.ipsl.upmc.fr') failed to return a response, info may be incomplete\n",
      "  warnings.warn(\n",
      "/home/jovyan/my-conda-envs/cmip6-download/lib/python3.13/site-packages/intake_esgf/catalog.py:450: UserWarning: SolrESGFIndex('esgf-data.dkrz.de') failed to return a response, info may be incomplete\n",
      "  warnings.warn(\n",
      "/home/jovyan/my-conda-envs/cmip6-download/lib/python3.13/site-packages/intake_esgf/catalog.py:450: UserWarning: SolrESGFIndex('esgf.ceda.ac.uk') failed to return a response, info may be incomplete\n",
      "  warnings.warn(\n",
      "/home/jovyan/my-conda-envs/cmip6-download/lib/python3.13/site-packages/intake_esgf/catalog.py:450: UserWarning: SolrESGFIndex('esg-dn1.nsc.liu.se') failed to return a response, info may be incomplete\n",
      "  warnings.warn(\n",
      "/home/jovyan/my-conda-envs/cmip6-download/lib/python3.13/site-packages/intake_esgf/catalog.py:450: UserWarning: SolrESGFIndex('esgf-node.ornl.gov') failed to return a response, info may be incomplete\n",
      "  warnings.warn(\n",
      "/home/jovyan/my-conda-envs/cmip6-download/lib/python3.13/site-packages/intake_esgf/catalog.py:450: UserWarning: SolrESGFIndex('esgf-node.llnl.gov') failed to return a response, info may be incomplete\n",
      "  warnings.warn(\n",
      "/home/jovyan/my-conda-envs/cmip6-download/lib/python3.13/site-packages/intake_esgf/catalog.py:450: UserWarning: SolrESGFIndex('esgf.nci.org.au') failed to return a response, info may be incomplete\n",
      "  warnings.warn(\n"
     ]
    },
    {
     "data": {
      "application/vnd.jupyter.widget-view+json": {
       "model_id": "a548fa12d8ed4c3d821a0db6c8ab3a43",
       "version_major": 2,
       "version_minor": 0
      },
      "text/plain": [
       "rsds_Amon_IPSL-CM6A-LR_piClim-aer_r3i...:   0%|          |0.00/20.7M [?B/s]"
      ]
     },
     "metadata": {},
     "output_type": "display_data"
    },
    {
     "data": {
      "application/vnd.jupyter.widget-view+json": {
       "model_id": "a2cf22c4a031458b88d96e94fecd617e",
       "version_major": 2,
       "version_minor": 0
      },
      "text/plain": [
       "rsuscs_Amon_IPSL-CM6A-LR_piClim-contr...:   0%|          |0.00/19.7M [?B/s]"
      ]
     },
     "metadata": {},
     "output_type": "display_data"
    },
    {
     "data": {
      "application/vnd.jupyter.widget-view+json": {
       "model_id": "462043a0f662492b9407962a7f8a8ec7",
       "version_major": 2,
       "version_minor": 0
      },
      "text/plain": [
       "rsut_Amon_IPSL-CM6A-LR_piClim-aer_r3i...:   0%|          |0.00/20.8M [?B/s]"
      ]
     },
     "metadata": {},
     "output_type": "display_data"
    },
    {
     "data": {
      "application/vnd.jupyter.widget-view+json": {
       "model_id": "de9c1faeed1a43278e4be9c1598647b4",
       "version_major": 2,
       "version_minor": 0
      },
      "text/plain": [
       "clt_Amon_IPSL-CM6A-LR_piClim-aer_r3i1...:   0%|          |0.00/22.1M [?B/s]"
      ]
     },
     "metadata": {},
     "output_type": "display_data"
    },
    {
     "data": {
      "application/vnd.jupyter.widget-view+json": {
       "model_id": "2fdd27246c92414f9204ba0e86021df0",
       "version_major": 2,
       "version_minor": 0
      },
      "text/plain": [
       "clt_Amon_IPSL-CM6A-LR_piClim-control_...:   0%|          |0.00/22.1M [?B/s]"
      ]
     },
     "metadata": {},
     "output_type": "display_data"
    },
    {
     "data": {
      "application/vnd.jupyter.widget-view+json": {
       "model_id": "2bb0c93a3e374da4bf3993e13643aebe",
       "version_major": 2,
       "version_minor": 0
      },
      "text/plain": [
       "rsus_Amon_IPSL-CM6A-LR_piClim-control...:   0%|          |0.00/21.3M [?B/s]"
      ]
     },
     "metadata": {},
     "output_type": "display_data"
    },
    {
     "data": {
      "application/vnd.jupyter.widget-view+json": {
       "model_id": "bb934f8955974990a2bf6859295ad924",
       "version_major": 2,
       "version_minor": 0
      },
      "text/plain": [
       "rsutcs_Amon_IPSL-CM6A-LR_piClim-contr...:   0%|          |0.00/19.0M [?B/s]"
      ]
     },
     "metadata": {},
     "output_type": "display_data"
    },
    {
     "data": {
      "application/vnd.jupyter.widget-view+json": {
       "model_id": "8639b2d0697d45b49f33e1ba8b4d72f9",
       "version_major": 2,
       "version_minor": 0
      },
      "text/plain": [
       "rsdscs_Amon_IPSL-CM6A-LR_piClim-aer_r...:   0%|          |0.00/17.6M [?B/s]"
      ]
     },
     "metadata": {},
     "output_type": "display_data"
    },
    {
     "data": {
      "application/vnd.jupyter.widget-view+json": {
       "model_id": "06af722d5149427fbec9d8d26675ab42",
       "version_major": 2,
       "version_minor": 0
      },
      "text/plain": [
       "rsdt_Amon_IPSL-CM6A-LR_piClim-aer_r3i...:   0%|          |0.00/13.5M [?B/s]"
      ]
     },
     "metadata": {},
     "output_type": "display_data"
    },
    {
     "data": {
      "application/vnd.jupyter.widget-view+json": {
       "model_id": "a00d7b29d3d340e8b8a3ad4da574fe8f",
       "version_major": 2,
       "version_minor": 0
      },
      "text/plain": [
       "rsus_Amon_IPSL-CM6A-LR_piClim-aer_r3i...:   0%|          |0.00/21.3M [?B/s]"
      ]
     },
     "metadata": {},
     "output_type": "display_data"
    },
    {
     "data": {
      "application/vnd.jupyter.widget-view+json": {
       "model_id": "9bfc70e40a94499a9ec2d6bc309bd61e",
       "version_major": 2,
       "version_minor": 0
      },
      "text/plain": [
       "rsuscs_Amon_IPSL-CM6A-LR_piClim-aer_r...:   0%|          |0.00/19.7M [?B/s]"
      ]
     },
     "metadata": {},
     "output_type": "display_data"
    },
    {
     "data": {
      "application/vnd.jupyter.widget-view+json": {
       "model_id": "350b84a63f59490890108e819c25e4e4",
       "version_major": 2,
       "version_minor": 0
      },
      "text/plain": [
       "rsds_Amon_IPSL-CM6A-LR_piClim-control...:   0%|          |0.00/20.7M [?B/s]"
      ]
     },
     "metadata": {},
     "output_type": "display_data"
    },
    {
     "data": {
      "application/vnd.jupyter.widget-view+json": {
       "model_id": "79336346a84748afa26374130ce1ffce",
       "version_major": 2,
       "version_minor": 0
      },
      "text/plain": [
       "rsut_Amon_IPSL-CM6A-LR_piClim-control...:   0%|          |0.00/20.8M [?B/s]"
      ]
     },
     "metadata": {},
     "output_type": "display_data"
    },
    {
     "data": {
      "application/vnd.jupyter.widget-view+json": {
       "model_id": "0af08f0352f64b30b1dc9ea31df58351",
       "version_major": 2,
       "version_minor": 0
      },
      "text/plain": [
       "rsutcs_Amon_IPSL-CM6A-LR_piClim-aer_r...:   0%|          |0.00/19.0M [?B/s]"
      ]
     },
     "metadata": {},
     "output_type": "display_data"
    },
    {
     "data": {
      "application/vnd.jupyter.widget-view+json": {
       "model_id": "29361b06fe3a4499b9552a0d10fc4442",
       "version_major": 2,
       "version_minor": 0
      },
      "text/plain": [
       "rsdscs_Amon_IPSL-CM6A-LR_piClim-contr...:   0%|          |0.00/17.5M [?B/s]"
      ]
     },
     "metadata": {},
     "output_type": "display_data"
    },
    {
     "data": {
      "application/vnd.jupyter.widget-view+json": {
       "model_id": "236ffb3854684084b9505351de868b57",
       "version_major": 2,
       "version_minor": 0
      },
      "text/plain": [
       "rsdt_Amon_IPSL-CM6A-LR_piClim-control...:   0%|          |0.00/13.5M [?B/s]"
      ]
     },
     "metadata": {},
     "output_type": "display_data"
    },
    {
     "name": "stdout",
     "output_type": "stream",
     "text": [
      "\n",
      "Downloading CNRM-ESM2-1.r1i1p1f2.gr ...\n",
      "\n"
     ]
    },
    {
     "data": {
      "application/vnd.jupyter.widget-view+json": {
       "model_id": "e78d75ec9c9c470fa3f40243b44ea625",
       "version_major": 2,
       "version_minor": 0
      },
      "text/plain": [
       "   Searching indices:   0%|          |0/9 [       ?index/s]"
      ]
     },
     "metadata": {},
     "output_type": "display_data"
    },
    {
     "name": "stderr",
     "output_type": "stream",
     "text": [
      "/home/jovyan/my-conda-envs/cmip6-download/lib/python3.13/site-packages/intake_esgf/catalog.py:450: UserWarning: SolrESGFIndex('esgf-node.ipsl.upmc.fr') failed to return a response, info may be incomplete\n",
      "  warnings.warn(\n",
      "/home/jovyan/my-conda-envs/cmip6-download/lib/python3.13/site-packages/intake_esgf/catalog.py:450: UserWarning: SolrESGFIndex('esgf.ceda.ac.uk') failed to return a response, info may be incomplete\n",
      "  warnings.warn(\n",
      "/home/jovyan/my-conda-envs/cmip6-download/lib/python3.13/site-packages/intake_esgf/catalog.py:450: UserWarning: SolrESGFIndex('esgf-data.dkrz.de') failed to return a response, info may be incomplete\n",
      "  warnings.warn(\n",
      "/home/jovyan/my-conda-envs/cmip6-download/lib/python3.13/site-packages/intake_esgf/catalog.py:450: UserWarning: SolrESGFIndex('esg-dn1.nsc.liu.se') failed to return a response, info may be incomplete\n",
      "  warnings.warn(\n",
      "/home/jovyan/my-conda-envs/cmip6-download/lib/python3.13/site-packages/intake_esgf/catalog.py:450: UserWarning: SolrESGFIndex('esgf-node.ornl.gov') failed to return a response, info may be incomplete\n",
      "  warnings.warn(\n",
      "/home/jovyan/my-conda-envs/cmip6-download/lib/python3.13/site-packages/intake_esgf/catalog.py:450: UserWarning: SolrESGFIndex('esgf-node.llnl.gov') failed to return a response, info may be incomplete\n",
      "  warnings.warn(\n",
      "/home/jovyan/my-conda-envs/cmip6-download/lib/python3.13/site-packages/intake_esgf/catalog.py:450: UserWarning: SolrESGFIndex('esgf.nci.org.au') failed to return a response, info may be incomplete\n",
      "  warnings.warn(\n"
     ]
    },
    {
     "data": {
      "application/vnd.jupyter.widget-view+json": {
       "model_id": "e9f7ed716b7e41d1be86ff786ecc9893",
       "version_major": 2,
       "version_minor": 0
      },
      "text/plain": [
       "clt_Amon_CNRM-ESM2-1_piClim-aer_r1i1p...:   0%|          |0.00/33.4M [?B/s]"
      ]
     },
     "metadata": {},
     "output_type": "display_data"
    },
    {
     "data": {
      "application/vnd.jupyter.widget-view+json": {
       "model_id": "8d410e1653a04cf28ec21afdcceaf1ad",
       "version_major": 2,
       "version_minor": 0
      },
      "text/plain": [
       "rsds_Amon_CNRM-ESM2-1_piClim-control_...:   0%|          |0.00/31.7M [?B/s]"
      ]
     },
     "metadata": {},
     "output_type": "display_data"
    },
    {
     "data": {
      "application/vnd.jupyter.widget-view+json": {
       "model_id": "d287582461bd45b5988c5f070c11cac3",
       "version_major": 2,
       "version_minor": 0
      },
      "text/plain": [
       "rsutcs_Amon_CNRM-ESM2-1_piClim-contro...:   0%|          |0.00/29.6M [?B/s]"
      ]
     },
     "metadata": {},
     "output_type": "display_data"
    },
    {
     "data": {
      "application/vnd.jupyter.widget-view+json": {
       "model_id": "e0b22c6531cd421bbf4b66772d82e80b",
       "version_major": 2,
       "version_minor": 0
      },
      "text/plain": [
       "rsutcs_Amon_CNRM-ESM2-1_piClim-aer_r1...:   0%|          |0.00/29.6M [?B/s]"
      ]
     },
     "metadata": {},
     "output_type": "display_data"
    },
    {
     "data": {
      "application/vnd.jupyter.widget-view+json": {
       "model_id": "7e947b021e64412faabebee4e9cd036c",
       "version_major": 2,
       "version_minor": 0
      },
      "text/plain": [
       "rsut_Amon_CNRM-ESM2-1_piClim-control_...:   0%|          |0.00/32.5M [?B/s]"
      ]
     },
     "metadata": {},
     "output_type": "display_data"
    },
    {
     "data": {
      "application/vnd.jupyter.widget-view+json": {
       "model_id": "d246a5b3d6d84e82b2bd09434ed0d913",
       "version_major": 2,
       "version_minor": 0
      },
      "text/plain": [
       "rsuscs_Amon_CNRM-ESM2-1_piClim-aer_r1...:   0%|          |0.00/30.1M [?B/s]"
      ]
     },
     "metadata": {},
     "output_type": "display_data"
    },
    {
     "data": {
      "application/vnd.jupyter.widget-view+json": {
       "model_id": "c59c03a8823e4764b66cc829ba218863",
       "version_major": 2,
       "version_minor": 0
      },
      "text/plain": [
       "rsdscs_Amon_CNRM-ESM2-1_piClim-aer_r1...:   0%|          |0.00/26.7M [?B/s]"
      ]
     },
     "metadata": {},
     "output_type": "display_data"
    },
    {
     "data": {
      "application/vnd.jupyter.widget-view+json": {
       "model_id": "cc832ed0a16845d79b746b9a2c4bcea5",
       "version_major": 2,
       "version_minor": 0
      },
      "text/plain": [
       "clt_Amon_CNRM-ESM2-1_piClim-control_r...:   0%|          |0.00/33.4M [?B/s]"
      ]
     },
     "metadata": {},
     "output_type": "display_data"
    },
    {
     "data": {
      "application/vnd.jupyter.widget-view+json": {
       "model_id": "a88b2328513e42ef9c87488128120ddc",
       "version_major": 2,
       "version_minor": 0
      },
      "text/plain": [
       "rsdt_Amon_CNRM-ESM2-1_piClim-control_...:   0%|          |0.00/20.5M [?B/s]"
      ]
     },
     "metadata": {},
     "output_type": "display_data"
    },
    {
     "data": {
      "application/vnd.jupyter.widget-view+json": {
       "model_id": "3b3e0f27014e48e1adea4cdc64ae0da6",
       "version_major": 2,
       "version_minor": 0
      },
      "text/plain": [
       "rsdt_Amon_CNRM-ESM2-1_piClim-aer_r1i1...:   0%|          |0.00/20.5M [?B/s]"
      ]
     },
     "metadata": {},
     "output_type": "display_data"
    },
    {
     "data": {
      "application/vnd.jupyter.widget-view+json": {
       "model_id": "043fb22173944c429395c320ad05dac7",
       "version_major": 2,
       "version_minor": 0
      },
      "text/plain": [
       "rsdscs_Amon_CNRM-ESM2-1_piClim-contro...:   0%|          |0.00/26.6M [?B/s]"
      ]
     },
     "metadata": {},
     "output_type": "display_data"
    },
    {
     "data": {
      "application/vnd.jupyter.widget-view+json": {
       "model_id": "cfc96c1fd96946308d453164205b9fac",
       "version_major": 2,
       "version_minor": 0
      },
      "text/plain": [
       "rsuscs_Amon_CNRM-ESM2-1_piClim-contro...:   0%|          |0.00/30.0M [?B/s]"
      ]
     },
     "metadata": {},
     "output_type": "display_data"
    },
    {
     "data": {
      "application/vnd.jupyter.widget-view+json": {
       "model_id": "7981f1cb4cea484eaed24fef0aafc029",
       "version_major": 2,
       "version_minor": 0
      },
      "text/plain": [
       "rsut_Amon_CNRM-ESM2-1_piClim-aer_r1i1...:   0%|          |0.00/32.5M [?B/s]"
      ]
     },
     "metadata": {},
     "output_type": "display_data"
    },
    {
     "data": {
      "application/vnd.jupyter.widget-view+json": {
       "model_id": "19d7ba3973a4400c9528d95d7214e119",
       "version_major": 2,
       "version_minor": 0
      },
      "text/plain": [
       "rsus_Amon_CNRM-ESM2-1_piClim-control_...:   0%|          |0.00/32.9M [?B/s]"
      ]
     },
     "metadata": {},
     "output_type": "display_data"
    },
    {
     "data": {
      "application/vnd.jupyter.widget-view+json": {
       "model_id": "b2c87365be4b4d2ebd2dfb08d0e72165",
       "version_major": 2,
       "version_minor": 0
      },
      "text/plain": [
       "rsds_Amon_CNRM-ESM2-1_piClim-aer_r1i1...:   0%|          |0.00/31.7M [?B/s]"
      ]
     },
     "metadata": {},
     "output_type": "display_data"
    },
    {
     "data": {
      "application/vnd.jupyter.widget-view+json": {
       "model_id": "1b2a5732652048da9f2ce41f66095b9d",
       "version_major": 2,
       "version_minor": 0
      },
      "text/plain": [
       "rsus_Amon_CNRM-ESM2-1_piClim-aer_r1i1...:   0%|          |0.00/32.9M [?B/s]"
      ]
     },
     "metadata": {},
     "output_type": "display_data"
    },
    {
     "name": "stdout",
     "output_type": "stream",
     "text": [
      "\n",
      "Downloading CNRM-CM6-1.r1i1p1f2.gr ...\n",
      "\n"
     ]
    },
    {
     "data": {
      "application/vnd.jupyter.widget-view+json": {
       "model_id": "fecc5778e69d494a8e69176d16ba00a7",
       "version_major": 2,
       "version_minor": 0
      },
      "text/plain": [
       "   Searching indices:   0%|          |0/9 [       ?index/s]"
      ]
     },
     "metadata": {},
     "output_type": "display_data"
    },
    {
     "name": "stderr",
     "output_type": "stream",
     "text": [
      "/home/jovyan/my-conda-envs/cmip6-download/lib/python3.13/site-packages/intake_esgf/catalog.py:450: UserWarning: SolrESGFIndex('esgf-node.ipsl.upmc.fr') failed to return a response, info may be incomplete\n",
      "  warnings.warn(\n",
      "/home/jovyan/my-conda-envs/cmip6-download/lib/python3.13/site-packages/intake_esgf/catalog.py:450: UserWarning: SolrESGFIndex('esgf.ceda.ac.uk') failed to return a response, info may be incomplete\n",
      "  warnings.warn(\n",
      "/home/jovyan/my-conda-envs/cmip6-download/lib/python3.13/site-packages/intake_esgf/catalog.py:450: UserWarning: SolrESGFIndex('esgf-data.dkrz.de') failed to return a response, info may be incomplete\n",
      "  warnings.warn(\n",
      "/home/jovyan/my-conda-envs/cmip6-download/lib/python3.13/site-packages/intake_esgf/catalog.py:450: UserWarning: SolrESGFIndex('esgf-node.ornl.gov') failed to return a response, info may be incomplete\n",
      "  warnings.warn(\n",
      "/home/jovyan/my-conda-envs/cmip6-download/lib/python3.13/site-packages/intake_esgf/catalog.py:450: UserWarning: SolrESGFIndex('esg-dn1.nsc.liu.se') failed to return a response, info may be incomplete\n",
      "  warnings.warn(\n",
      "/home/jovyan/my-conda-envs/cmip6-download/lib/python3.13/site-packages/intake_esgf/catalog.py:450: UserWarning: SolrESGFIndex('esgf-node.llnl.gov') failed to return a response, info may be incomplete\n",
      "  warnings.warn(\n",
      "/home/jovyan/my-conda-envs/cmip6-download/lib/python3.13/site-packages/intake_esgf/catalog.py:450: UserWarning: SolrESGFIndex('esgf.nci.org.au') failed to return a response, info may be incomplete\n",
      "  warnings.warn(\n"
     ]
    },
    {
     "data": {
      "application/vnd.jupyter.widget-view+json": {
       "model_id": "744556f627a14c99bf89fda58fc1e40a",
       "version_major": 2,
       "version_minor": 0
      },
      "text/plain": [
       "rsutcs_Amon_CNRM-CM6-1_piClim-aer_r1i...:   0%|          |0.00/29.3M [?B/s]"
      ]
     },
     "metadata": {},
     "output_type": "display_data"
    },
    {
     "data": {
      "application/vnd.jupyter.widget-view+json": {
       "model_id": "65f7a741d54548fdbcfd44408fe97c87",
       "version_major": 2,
       "version_minor": 0
      },
      "text/plain": [
       "rsut_Amon_CNRM-CM6-1_piClim-aer_r1i1p...:   0%|          |0.00/32.4M [?B/s]"
      ]
     },
     "metadata": {},
     "output_type": "display_data"
    },
    {
     "data": {
      "application/vnd.jupyter.widget-view+json": {
       "model_id": "c2493e473aff42c28ebad75b59b69d21",
       "version_major": 2,
       "version_minor": 0
      },
      "text/plain": [
       "rsus_Amon_CNRM-CM6-1_piClim-control_r...:   0%|          |0.00/32.9M [?B/s]"
      ]
     },
     "metadata": {},
     "output_type": "display_data"
    },
    {
     "data": {
      "application/vnd.jupyter.widget-view+json": {
       "model_id": "587532320c4048e1ac304c1f843596c3",
       "version_major": 2,
       "version_minor": 0
      },
      "text/plain": [
       "rsds_Amon_CNRM-CM6-1_piClim-aer_r1i1p...:   0%|          |0.00/31.7M [?B/s]"
      ]
     },
     "metadata": {},
     "output_type": "display_data"
    },
    {
     "data": {
      "application/vnd.jupyter.widget-view+json": {
       "model_id": "bf7d2cd90fbc4f7e846704198b15867e",
       "version_major": 2,
       "version_minor": 0
      },
      "text/plain": [
       "rsds_Amon_CNRM-CM6-1_piClim-control_r...:   0%|          |0.00/31.7M [?B/s]"
      ]
     },
     "metadata": {},
     "output_type": "display_data"
    },
    {
     "data": {
      "application/vnd.jupyter.widget-view+json": {
       "model_id": "fcdd00142f6646a3bcfe087c89a305be",
       "version_major": 2,
       "version_minor": 0
      },
      "text/plain": [
       "clt_Amon_CNRM-CM6-1_piClim-control_r1...:   0%|          |0.00/33.3M [?B/s]"
      ]
     },
     "metadata": {},
     "output_type": "display_data"
    },
    {
     "data": {
      "application/vnd.jupyter.widget-view+json": {
       "model_id": "019d32a726b24945affd47fbf455aa2c",
       "version_major": 2,
       "version_minor": 0
      },
      "text/plain": [
       "rsutcs_Amon_CNRM-CM6-1_piClim-control...:   0%|          |0.00/29.3M [?B/s]"
      ]
     },
     "metadata": {},
     "output_type": "display_data"
    },
    {
     "data": {
      "application/vnd.jupyter.widget-view+json": {
       "model_id": "9c778fd55def4a438d585d4663fb0dc7",
       "version_major": 2,
       "version_minor": 0
      },
      "text/plain": [
       "rsdt_Amon_CNRM-CM6-1_piClim-aer_r1i1p...:   0%|          |0.00/20.5M [?B/s]"
      ]
     },
     "metadata": {},
     "output_type": "display_data"
    },
    {
     "data": {
      "application/vnd.jupyter.widget-view+json": {
       "model_id": "0c3e5176ac994e488e65e1d634332125",
       "version_major": 2,
       "version_minor": 0
      },
      "text/plain": [
       "clt_Amon_CNRM-CM6-1_piClim-aer_r1i1p1...:   0%|          |0.00/33.3M [?B/s]"
      ]
     },
     "metadata": {},
     "output_type": "display_data"
    },
    {
     "data": {
      "application/vnd.jupyter.widget-view+json": {
       "model_id": "aca197b9156c4b588bf19b6b91ce3a8c",
       "version_major": 2,
       "version_minor": 0
      },
      "text/plain": [
       "rsuscs_Amon_CNRM-CM6-1_piClim-control...:   0%|          |0.00/29.9M [?B/s]"
      ]
     },
     "metadata": {},
     "output_type": "display_data"
    },
    {
     "data": {
      "application/vnd.jupyter.widget-view+json": {
       "model_id": "5562d81f0d3845918dc07c5849beb339",
       "version_major": 2,
       "version_minor": 0
      },
      "text/plain": [
       "rsus_Amon_CNRM-CM6-1_piClim-aer_r1i1p...:   0%|          |0.00/32.9M [?B/s]"
      ]
     },
     "metadata": {},
     "output_type": "display_data"
    },
    {
     "data": {
      "application/vnd.jupyter.widget-view+json": {
       "model_id": "9a475d844a3d4f1e89cec3adae5c48a3",
       "version_major": 2,
       "version_minor": 0
      },
      "text/plain": [
       "rsuscs_Amon_CNRM-CM6-1_piClim-aer_r1i...:   0%|          |0.00/30.0M [?B/s]"
      ]
     },
     "metadata": {},
     "output_type": "display_data"
    },
    {
     "data": {
      "application/vnd.jupyter.widget-view+json": {
       "model_id": "3ded2d70edfe4f738adf2bd774b92469",
       "version_major": 2,
       "version_minor": 0
      },
      "text/plain": [
       "rsut_Amon_CNRM-CM6-1_piClim-control_r...:   0%|          |0.00/32.4M [?B/s]"
      ]
     },
     "metadata": {},
     "output_type": "display_data"
    },
    {
     "data": {
      "application/vnd.jupyter.widget-view+json": {
       "model_id": "52a15bbde36947cd9d98a838b1256954",
       "version_major": 2,
       "version_minor": 0
      },
      "text/plain": [
       "rsdscs_Amon_CNRM-CM6-1_piClim-aer_r1i...:   0%|          |0.00/26.5M [?B/s]"
      ]
     },
     "metadata": {},
     "output_type": "display_data"
    },
    {
     "data": {
      "application/vnd.jupyter.widget-view+json": {
       "model_id": "56012fd67d894c0f84fbc7494fa6d247",
       "version_major": 2,
       "version_minor": 0
      },
      "text/plain": [
       "rsdt_Amon_CNRM-CM6-1_piClim-control_r...:   0%|          |0.00/20.5M [?B/s]"
      ]
     },
     "metadata": {},
     "output_type": "display_data"
    },
    {
     "data": {
      "application/vnd.jupyter.widget-view+json": {
       "model_id": "6b6d9f93851045bfbb422c6f92c17897",
       "version_major": 2,
       "version_minor": 0
      },
      "text/plain": [
       "rsdscs_Amon_CNRM-CM6-1_piClim-control...:   0%|          |0.00/26.3M [?B/s]"
      ]
     },
     "metadata": {},
     "output_type": "display_data"
    },
    {
     "name": "stdout",
     "output_type": "stream",
     "text": [
      "\n",
      "Downloading IPSL-CM6A-LR-INCA.r1i1p1f1.gr ...\n",
      "\n"
     ]
    },
    {
     "data": {
      "application/vnd.jupyter.widget-view+json": {
       "model_id": "f97571f321744725a09aa96e62a48bf9",
       "version_major": 2,
       "version_minor": 0
      },
      "text/plain": [
       "   Searching indices:   0%|          |0/9 [       ?index/s]"
      ]
     },
     "metadata": {},
     "output_type": "display_data"
    },
    {
     "name": "stderr",
     "output_type": "stream",
     "text": [
      "/home/jovyan/my-conda-envs/cmip6-download/lib/python3.13/site-packages/intake_esgf/catalog.py:450: UserWarning: SolrESGFIndex('esgf-node.ipsl.upmc.fr') failed to return a response, info may be incomplete\n",
      "  warnings.warn(\n",
      "/home/jovyan/my-conda-envs/cmip6-download/lib/python3.13/site-packages/intake_esgf/catalog.py:450: UserWarning: SolrESGFIndex('esgf-data.dkrz.de') failed to return a response, info may be incomplete\n",
      "  warnings.warn(\n",
      "/home/jovyan/my-conda-envs/cmip6-download/lib/python3.13/site-packages/intake_esgf/catalog.py:450: UserWarning: SolrESGFIndex('esgf.ceda.ac.uk') failed to return a response, info may be incomplete\n",
      "  warnings.warn(\n",
      "/home/jovyan/my-conda-envs/cmip6-download/lib/python3.13/site-packages/intake_esgf/catalog.py:450: UserWarning: SolrESGFIndex('esg-dn1.nsc.liu.se') failed to return a response, info may be incomplete\n",
      "  warnings.warn(\n",
      "/home/jovyan/my-conda-envs/cmip6-download/lib/python3.13/site-packages/intake_esgf/catalog.py:450: UserWarning: SolrESGFIndex('esgf-node.ornl.gov') failed to return a response, info may be incomplete\n",
      "  warnings.warn(\n",
      "/home/jovyan/my-conda-envs/cmip6-download/lib/python3.13/site-packages/intake_esgf/catalog.py:450: UserWarning: SolrESGFIndex('esgf-node.llnl.gov') failed to return a response, info may be incomplete\n",
      "  warnings.warn(\n",
      "/home/jovyan/my-conda-envs/cmip6-download/lib/python3.13/site-packages/intake_esgf/catalog.py:450: UserWarning: SolrESGFIndex('esgf.nci.org.au') failed to return a response, info may be incomplete\n",
      "  warnings.warn(\n"
     ]
    },
    {
     "data": {
      "application/vnd.jupyter.widget-view+json": {
       "model_id": "4840f7250b5f491696be2d2545f49fa6",
       "version_major": 2,
       "version_minor": 0
      },
      "text/plain": [
       "rsds_Amon_IPSL-CM6A-LR-INCA_piClim-co...:   0%|          |0.00/20.8M [?B/s]"
      ]
     },
     "metadata": {},
     "output_type": "display_data"
    },
    {
     "data": {
      "application/vnd.jupyter.widget-view+json": {
       "model_id": "5e52b81dab334e57a8225f7328492dfd",
       "version_major": 2,
       "version_minor": 0
      },
      "text/plain": [
       "rsdt_Amon_IPSL-CM6A-LR-INCA_piClim-co...:   0%|          |0.00/13.6M [?B/s]"
      ]
     },
     "metadata": {},
     "output_type": "display_data"
    },
    {
     "data": {
      "application/vnd.jupyter.widget-view+json": {
       "model_id": "3c7876ca4a8b4aaeb0c1cacf778c01ae",
       "version_major": 2,
       "version_minor": 0
      },
      "text/plain": [
       "clt_Amon_IPSL-CM6A-LR-INCA_piClim-aer...:   0%|          |0.00/22.2M [?B/s]"
      ]
     },
     "metadata": {},
     "output_type": "display_data"
    },
    {
     "data": {
      "application/vnd.jupyter.widget-view+json": {
       "model_id": "5175debb708749fab358d93c46e85e3f",
       "version_major": 2,
       "version_minor": 0
      },
      "text/plain": [
       "rsuscs_Amon_IPSL-CM6A-LR-INCA_piClim-...:   0%|          |0.00/19.9M [?B/s]"
      ]
     },
     "metadata": {},
     "output_type": "display_data"
    },
    {
     "data": {
      "application/vnd.jupyter.widget-view+json": {
       "model_id": "2245000117124c2cb61ffdcd4f5b0343",
       "version_major": 2,
       "version_minor": 0
      },
      "text/plain": [
       "rsutcs_Amon_IPSL-CM6A-LR-INCA_piClim-...:   0%|          |0.00/19.4M [?B/s]"
      ]
     },
     "metadata": {},
     "output_type": "display_data"
    },
    {
     "data": {
      "application/vnd.jupyter.widget-view+json": {
       "model_id": "bcccb58ae03047f6a592b34f91737903",
       "version_major": 2,
       "version_minor": 0
      },
      "text/plain": [
       "rsutcs_Amon_IPSL-CM6A-LR-INCA_piClim-...:   0%|          |0.00/19.3M [?B/s]"
      ]
     },
     "metadata": {},
     "output_type": "display_data"
    },
    {
     "data": {
      "application/vnd.jupyter.widget-view+json": {
       "model_id": "6b86826ef22c421696ab06cc02e50f26",
       "version_major": 2,
       "version_minor": 0
      },
      "text/plain": [
       "rsdscs_Amon_IPSL-CM6A-LR-INCA_piClim-...:   0%|          |0.00/17.8M [?B/s]"
      ]
     },
     "metadata": {},
     "output_type": "display_data"
    },
    {
     "data": {
      "application/vnd.jupyter.widget-view+json": {
       "model_id": "17a5b4ea1b1c452e845481b8261b7f3f",
       "version_major": 2,
       "version_minor": 0
      },
      "text/plain": [
       "rsut_Amon_IPSL-CM6A-LR-INCA_piClim-ae...:   0%|          |0.00/20.9M [?B/s]"
      ]
     },
     "metadata": {},
     "output_type": "display_data"
    },
    {
     "data": {
      "application/vnd.jupyter.widget-view+json": {
       "model_id": "5366386a62ba40d190292ac1c3db83cf",
       "version_major": 2,
       "version_minor": 0
      },
      "text/plain": [
       "rsus_Amon_IPSL-CM6A-LR-INCA_piClim-co...:   0%|          |0.00/21.4M [?B/s]"
      ]
     },
     "metadata": {},
     "output_type": "display_data"
    },
    {
     "data": {
      "application/vnd.jupyter.widget-view+json": {
       "model_id": "206e2e856e0844e4a34ffc4a22f2d915",
       "version_major": 2,
       "version_minor": 0
      },
      "text/plain": [
       "rsut_Amon_IPSL-CM6A-LR-INCA_piClim-co...:   0%|          |0.00/20.9M [?B/s]"
      ]
     },
     "metadata": {},
     "output_type": "display_data"
    },
    {
     "data": {
      "application/vnd.jupyter.widget-view+json": {
       "model_id": "36dfb58cfb6d44168bbbcff36e44f802",
       "version_major": 2,
       "version_minor": 0
      },
      "text/plain": [
       "rsus_Amon_IPSL-CM6A-LR-INCA_piClim-ae...:   0%|          |0.00/21.4M [?B/s]"
      ]
     },
     "metadata": {},
     "output_type": "display_data"
    },
    {
     "data": {
      "application/vnd.jupyter.widget-view+json": {
       "model_id": "f84c3739487e4af8a92a8ff60221dced",
       "version_major": 2,
       "version_minor": 0
      },
      "text/plain": [
       "clt_Amon_IPSL-CM6A-LR-INCA_piClim-con...:   0%|          |0.00/22.2M [?B/s]"
      ]
     },
     "metadata": {},
     "output_type": "display_data"
    },
    {
     "data": {
      "application/vnd.jupyter.widget-view+json": {
       "model_id": "9e6cdb8ee211466d9645a2fa650dfb88",
       "version_major": 2,
       "version_minor": 0
      },
      "text/plain": [
       "rsdscs_Amon_IPSL-CM6A-LR-INCA_piClim-...:   0%|          |0.00/17.9M [?B/s]"
      ]
     },
     "metadata": {},
     "output_type": "display_data"
    },
    {
     "data": {
      "application/vnd.jupyter.widget-view+json": {
       "model_id": "993fac6acad243f9afa07e44ad4281a7",
       "version_major": 2,
       "version_minor": 0
      },
      "text/plain": [
       "rsdt_Amon_IPSL-CM6A-LR-INCA_piClim-ae...:   0%|          |0.00/13.6M [?B/s]"
      ]
     },
     "metadata": {},
     "output_type": "display_data"
    },
    {
     "data": {
      "application/vnd.jupyter.widget-view+json": {
       "model_id": "b060fa0d8cd645d28aaf38f25293b41d",
       "version_major": 2,
       "version_minor": 0
      },
      "text/plain": [
       "rsds_Amon_IPSL-CM6A-LR-INCA_piClim-ae...:   0%|          |0.00/20.8M [?B/s]"
      ]
     },
     "metadata": {},
     "output_type": "display_data"
    },
    {
     "data": {
      "application/vnd.jupyter.widget-view+json": {
       "model_id": "64f5d45eadf142a0a89c26cbd36bf4ee",
       "version_major": 2,
       "version_minor": 0
      },
      "text/plain": [
       "rsuscs_Amon_IPSL-CM6A-LR-INCA_piClim-...:   0%|          |0.00/19.9M [?B/s]"
      ]
     },
     "metadata": {},
     "output_type": "display_data"
    },
    {
     "name": "stdout",
     "output_type": "stream",
     "text": [
      "\n",
      "Downloading NorESM2-LM.r1i1p2f1.gn ...\n",
      "\n"
     ]
    },
    {
     "data": {
      "application/vnd.jupyter.widget-view+json": {
       "model_id": "46a04b6298ef4276b858d58e26cd369e",
       "version_major": 2,
       "version_minor": 0
      },
      "text/plain": [
       "   Searching indices:   0%|          |0/9 [       ?index/s]"
      ]
     },
     "metadata": {},
     "output_type": "display_data"
    },
    {
     "name": "stderr",
     "output_type": "stream",
     "text": [
      "/home/jovyan/my-conda-envs/cmip6-download/lib/python3.13/site-packages/intake_esgf/catalog.py:450: UserWarning: SolrESGFIndex('esg-dn1.nsc.liu.se') failed to return a response, info may be incomplete\n",
      "  warnings.warn(\n"
     ]
    },
    {
     "data": {
      "application/vnd.jupyter.widget-view+json": {
       "model_id": "3d2979922f97455e85b68380885a66cc",
       "version_major": 2,
       "version_minor": 0
      },
      "text/plain": [
       "rsds_Amon_NorESM2-LM_piClim-aer_r1i1p...:   0%|          |0.00/4.73M [?B/s]"
      ]
     },
     "metadata": {},
     "output_type": "display_data"
    },
    {
     "data": {
      "application/vnd.jupyter.widget-view+json": {
       "model_id": "6295a4029bd84b66bc8144970a52bcc9",
       "version_major": 2,
       "version_minor": 0
      },
      "text/plain": [
       "clt_Amon_NorESM2-LM_piClim-aer_r1i1p2...:   0%|          |0.00/5.00M [?B/s]"
      ]
     },
     "metadata": {},
     "output_type": "display_data"
    },
    {
     "data": {
      "application/vnd.jupyter.widget-view+json": {
       "model_id": "573792bab8ab4bcaa77a5d0ca9c12164",
       "version_major": 2,
       "version_minor": 0
      },
      "text/plain": [
       "clt_Amon_NorESM2-LM_piClim-aer_r1i1p2...:   0%|          |0.00/5.00M [?B/s]"
      ]
     },
     "metadata": {},
     "output_type": "display_data"
    },
    {
     "data": {
      "application/vnd.jupyter.widget-view+json": {
       "model_id": "f33056b63a1d4c0b846ee072dbe18462",
       "version_major": 2,
       "version_minor": 0
      },
      "text/plain": [
       "rsds_Amon_NorESM2-LM_piClim-aer_r1i1p...:   0%|          |0.00/4.73M [?B/s]"
      ]
     },
     "metadata": {},
     "output_type": "display_data"
    },
    {
     "data": {
      "application/vnd.jupyter.widget-view+json": {
       "model_id": "42458abf06eb4a2981b9d9cd52056c3e",
       "version_major": 2,
       "version_minor": 0
      },
      "text/plain": [
       "rsds_Amon_NorESM2-LM_piClim-aer_r1i1p...:   0%|          |0.00/4.73M [?B/s]"
      ]
     },
     "metadata": {},
     "output_type": "display_data"
    },
    {
     "data": {
      "application/vnd.jupyter.widget-view+json": {
       "model_id": "93a9f817661249839d82f3da0448a208",
       "version_major": 2,
       "version_minor": 0
      },
      "text/plain": [
       "clt_Amon_NorESM2-LM_piClim-aer_r1i1p2...:   0%|          |0.00/5.00M [?B/s]"
      ]
     },
     "metadata": {},
     "output_type": "display_data"
    },
    {
     "data": {
      "application/vnd.jupyter.widget-view+json": {
       "model_id": "c69f8e04da944a6caaa3455a15d110ad",
       "version_major": 2,
       "version_minor": 0
      },
      "text/plain": [
       "rsdscs_Amon_NorESM2-LM_piClim-aer_r1i...:   0%|          |0.00/4.06M [?B/s]"
      ]
     },
     "metadata": {},
     "output_type": "display_data"
    },
    {
     "data": {
      "application/vnd.jupyter.widget-view+json": {
       "model_id": "6d2592adbc644c099d64b6ebb87d69c5",
       "version_major": 2,
       "version_minor": 0
      },
      "text/plain": [
       "rsdscs_Amon_NorESM2-LM_piClim-aer_r1i...:   0%|          |0.00/4.06M [?B/s]"
      ]
     },
     "metadata": {},
     "output_type": "display_data"
    },
    {
     "data": {
      "application/vnd.jupyter.widget-view+json": {
       "model_id": "2fcfb7aae72445719dfefa7fee02ca09",
       "version_major": 2,
       "version_minor": 0
      },
      "text/plain": [
       "rsdscs_Amon_NorESM2-LM_piClim-aer_r1i...:   0%|          |0.00/4.06M [?B/s]"
      ]
     },
     "metadata": {},
     "output_type": "display_data"
    },
    {
     "data": {
      "application/vnd.jupyter.widget-view+json": {
       "model_id": "4f9b404dc70f45988eea210c0d2e58bd",
       "version_major": 2,
       "version_minor": 0
      },
      "text/plain": [
       "rsdt_Amon_NorESM2-LM_piClim-aer_r1i1p...:   0%|          |0.00/3.23M [?B/s]"
      ]
     },
     "metadata": {},
     "output_type": "display_data"
    },
    {
     "data": {
      "application/vnd.jupyter.widget-view+json": {
       "model_id": "681323096810477e92e9c2d414ebc34e",
       "version_major": 2,
       "version_minor": 0
      },
      "text/plain": [
       "rsdt_Amon_NorESM2-LM_piClim-aer_r1i1p...:   0%|          |0.00/3.23M [?B/s]"
      ]
     },
     "metadata": {},
     "output_type": "display_data"
    },
    {
     "data": {
      "application/vnd.jupyter.widget-view+json": {
       "model_id": "77b58134414f4e98bede9f4bd0337792",
       "version_major": 2,
       "version_minor": 0
      },
      "text/plain": [
       "rsdt_Amon_NorESM2-LM_piClim-aer_r1i1p...:   0%|          |0.00/3.23M [?B/s]"
      ]
     },
     "metadata": {},
     "output_type": "display_data"
    },
    {
     "data": {
      "application/vnd.jupyter.widget-view+json": {
       "model_id": "4ca67d8d372f46c5b85e02f4114c2ef2",
       "version_major": 2,
       "version_minor": 0
      },
      "text/plain": [
       "rsus_Amon_NorESM2-LM_piClim-aer_r1i1p...:   0%|          |0.00/4.59M [?B/s]"
      ]
     },
     "metadata": {},
     "output_type": "display_data"
    },
    {
     "data": {
      "application/vnd.jupyter.widget-view+json": {
       "model_id": "05cb5651d2e14e53ba66e2cadc31b319",
       "version_major": 2,
       "version_minor": 0
      },
      "text/plain": [
       "rsus_Amon_NorESM2-LM_piClim-aer_r1i1p...:   0%|          |0.00/4.59M [?B/s]"
      ]
     },
     "metadata": {},
     "output_type": "display_data"
    },
    {
     "data": {
      "application/vnd.jupyter.widget-view+json": {
       "model_id": "c131339c9ae24e0192827f1d6e350bdc",
       "version_major": 2,
       "version_minor": 0
      },
      "text/plain": [
       "rsuscs_Amon_NorESM2-LM_piClim-aer_r1i...:   0%|          |0.00/4.26M [?B/s]"
      ]
     },
     "metadata": {},
     "output_type": "display_data"
    },
    {
     "data": {
      "application/vnd.jupyter.widget-view+json": {
       "model_id": "b82f683eccc44378b68f4b1342124f2f",
       "version_major": 2,
       "version_minor": 0
      },
      "text/plain": [
       "rsus_Amon_NorESM2-LM_piClim-aer_r1i1p...:   0%|          |0.00/4.59M [?B/s]"
      ]
     },
     "metadata": {},
     "output_type": "display_data"
    },
    {
     "data": {
      "application/vnd.jupyter.widget-view+json": {
       "model_id": "e03ad276a8894b5dbb814f24bf14122f",
       "version_major": 2,
       "version_minor": 0
      },
      "text/plain": [
       "rsuscs_Amon_NorESM2-LM_piClim-aer_r1i...:   0%|          |0.00/4.26M [?B/s]"
      ]
     },
     "metadata": {},
     "output_type": "display_data"
    },
    {
     "data": {
      "application/vnd.jupyter.widget-view+json": {
       "model_id": "b3d3d9055b3648309c12906b7151e6bb",
       "version_major": 2,
       "version_minor": 0
      },
      "text/plain": [
       "rsuscs_Amon_NorESM2-LM_piClim-aer_r1i...:   0%|          |0.00/4.26M [?B/s]"
      ]
     },
     "metadata": {},
     "output_type": "display_data"
    },
    {
     "data": {
      "application/vnd.jupyter.widget-view+json": {
       "model_id": "9649b91fac434fb690d0261b67691f12",
       "version_major": 2,
       "version_minor": 0
      },
      "text/plain": [
       "rsut_Amon_NorESM2-LM_piClim-aer_r1i1p...:   0%|          |0.00/4.72M [?B/s]"
      ]
     },
     "metadata": {},
     "output_type": "display_data"
    },
    {
     "data": {
      "application/vnd.jupyter.widget-view+json": {
       "model_id": "55a4c79c8ab64c7abf45ee7ec6958e8e",
       "version_major": 2,
       "version_minor": 0
      },
      "text/plain": [
       "rsut_Amon_NorESM2-LM_piClim-aer_r1i1p...:   0%|          |0.00/4.72M [?B/s]"
      ]
     },
     "metadata": {},
     "output_type": "display_data"
    },
    {
     "data": {
      "application/vnd.jupyter.widget-view+json": {
       "model_id": "0aced3d837814217b20f9cebe078fc72",
       "version_major": 2,
       "version_minor": 0
      },
      "text/plain": [
       "rsut_Amon_NorESM2-LM_piClim-aer_r1i1p...:   0%|          |0.00/4.72M [?B/s]"
      ]
     },
     "metadata": {},
     "output_type": "display_data"
    },
    {
     "data": {
      "application/vnd.jupyter.widget-view+json": {
       "model_id": "7fde14ca63d94967b234cef0065b195b",
       "version_major": 2,
       "version_minor": 0
      },
      "text/plain": [
       "rsutcs_Amon_NorESM2-LM_piClim-aer_r1i...:   0%|          |0.00/4.32M [?B/s]"
      ]
     },
     "metadata": {},
     "output_type": "display_data"
    },
    {
     "data": {
      "application/vnd.jupyter.widget-view+json": {
       "model_id": "0aa81f8d38d04d9ab007112f0058b199",
       "version_major": 2,
       "version_minor": 0
      },
      "text/plain": [
       "rsutcs_Amon_NorESM2-LM_piClim-aer_r1i...:   0%|          |0.00/4.32M [?B/s]"
      ]
     },
     "metadata": {},
     "output_type": "display_data"
    },
    {
     "data": {
      "application/vnd.jupyter.widget-view+json": {
       "model_id": "19791d63ade343cc839ae42c8db9c4c2",
       "version_major": 2,
       "version_minor": 0
      },
      "text/plain": [
       "rsutcs_Amon_NorESM2-LM_piClim-aer_r1i...:   0%|          |0.00/4.32M [?B/s]"
      ]
     },
     "metadata": {},
     "output_type": "display_data"
    },
    {
     "data": {
      "application/vnd.jupyter.widget-view+json": {
       "model_id": "e0d5124de35c4ef29aae7e358879af55",
       "version_major": 2,
       "version_minor": 0
      },
      "text/plain": [
       "clt_Amon_NorESM2-LM_piClim-control_r1...:   0%|          |0.00/5.00M [?B/s]"
      ]
     },
     "metadata": {},
     "output_type": "display_data"
    },
    {
     "data": {
      "application/vnd.jupyter.widget-view+json": {
       "model_id": "30ccfeb34a7041e09b679b273c991c9f",
       "version_major": 2,
       "version_minor": 0
      },
      "text/plain": [
       "rsut_Amon_NorESM2-LM_piClim-control_r...:   0%|          |0.00/4.72M [?B/s]"
      ]
     },
     "metadata": {},
     "output_type": "display_data"
    },
    {
     "data": {
      "application/vnd.jupyter.widget-view+json": {
       "model_id": "fdb14d3f4bea4439aed30f1b681ac081",
       "version_major": 2,
       "version_minor": 0
      },
      "text/plain": [
       "rsutcs_Amon_NorESM2-LM_piClim-control...:   0%|          |0.00/4.32M [?B/s]"
      ]
     },
     "metadata": {},
     "output_type": "display_data"
    },
    {
     "data": {
      "application/vnd.jupyter.widget-view+json": {
       "model_id": "6c4f4430920a47549214801f7fb01f48",
       "version_major": 2,
       "version_minor": 0
      },
      "text/plain": [
       "rsutcs_Amon_NorESM2-LM_piClim-control...:   0%|          |0.00/4.32M [?B/s]"
      ]
     },
     "metadata": {},
     "output_type": "display_data"
    },
    {
     "data": {
      "application/vnd.jupyter.widget-view+json": {
       "model_id": "629b417e1c524545b17cea57579099e7",
       "version_major": 2,
       "version_minor": 0
      },
      "text/plain": [
       "clt_Amon_NorESM2-LM_piClim-control_r1...:   0%|          |0.00/5.01M [?B/s]"
      ]
     },
     "metadata": {},
     "output_type": "display_data"
    },
    {
     "data": {
      "application/vnd.jupyter.widget-view+json": {
       "model_id": "26c9f8bdbc93462da43b2c5ba83a83a1",
       "version_major": 2,
       "version_minor": 0
      },
      "text/plain": [
       "rsds_Amon_NorESM2-LM_piClim-control_r...:   0%|          |0.00/4.72M [?B/s]"
      ]
     },
     "metadata": {},
     "output_type": "display_data"
    },
    {
     "data": {
      "application/vnd.jupyter.widget-view+json": {
       "model_id": "e2e5ca91303c48a8b195bd8a6dd24038",
       "version_major": 2,
       "version_minor": 0
      },
      "text/plain": [
       "rsds_Amon_NorESM2-LM_piClim-control_r...:   0%|          |0.00/4.72M [?B/s]"
      ]
     },
     "metadata": {},
     "output_type": "display_data"
    },
    {
     "data": {
      "application/vnd.jupyter.widget-view+json": {
       "model_id": "ea920d763f5a41f6ae774d56a230235a",
       "version_major": 2,
       "version_minor": 0
      },
      "text/plain": [
       "rsds_Amon_NorESM2-LM_piClim-control_r...:   0%|          |0.00/4.72M [?B/s]"
      ]
     },
     "metadata": {},
     "output_type": "display_data"
    },
    {
     "data": {
      "application/vnd.jupyter.widget-view+json": {
       "model_id": "4bad65d203d44deb8e0e661d7f391bc6",
       "version_major": 2,
       "version_minor": 0
      },
      "text/plain": [
       "rsdt_Amon_NorESM2-LM_piClim-control_r...:   0%|          |0.00/3.23M [?B/s]"
      ]
     },
     "metadata": {},
     "output_type": "display_data"
    },
    {
     "data": {
      "application/vnd.jupyter.widget-view+json": {
       "model_id": "75253db0b9a04d87876a86b545cb92a9",
       "version_major": 2,
       "version_minor": 0
      },
      "text/plain": [
       "rsdt_Amon_NorESM2-LM_piClim-control_r...:   0%|          |0.00/3.23M [?B/s]"
      ]
     },
     "metadata": {},
     "output_type": "display_data"
    },
    {
     "data": {
      "application/vnd.jupyter.widget-view+json": {
       "model_id": "e44c9116c7bd4aa5af755abb46f68dc4",
       "version_major": 2,
       "version_minor": 0
      },
      "text/plain": [
       "rsus_Amon_NorESM2-LM_piClim-control_r...:   0%|          |0.00/4.58M [?B/s]"
      ]
     },
     "metadata": {},
     "output_type": "display_data"
    },
    {
     "data": {
      "application/vnd.jupyter.widget-view+json": {
       "model_id": "0e33ffe6a1be47f7911fa33737d55f7a",
       "version_major": 2,
       "version_minor": 0
      },
      "text/plain": [
       "rsus_Amon_NorESM2-LM_piClim-control_r...:   0%|          |0.00/4.58M [?B/s]"
      ]
     },
     "metadata": {},
     "output_type": "display_data"
    },
    {
     "data": {
      "application/vnd.jupyter.widget-view+json": {
       "model_id": "f4fc66ffabdf41aa8c6b39bcaf399b97",
       "version_major": 2,
       "version_minor": 0
      },
      "text/plain": [
       "rsus_Amon_NorESM2-LM_piClim-control_r...:   0%|          |0.00/4.59M [?B/s]"
      ]
     },
     "metadata": {},
     "output_type": "display_data"
    },
    {
     "data": {
      "application/vnd.jupyter.widget-view+json": {
       "model_id": "dae690cde28841d4ad6513e93632dab6",
       "version_major": 2,
       "version_minor": 0
      },
      "text/plain": [
       "rsutcs_Amon_NorESM2-LM_piClim-control...:   0%|          |0.00/4.31M [?B/s]"
      ]
     },
     "metadata": {},
     "output_type": "display_data"
    },
    {
     "data": {
      "application/vnd.jupyter.widget-view+json": {
       "model_id": "f2e0afd72904421f934eab683b27bc9f",
       "version_major": 2,
       "version_minor": 0
      },
      "text/plain": [
       "rsutcs_Amon_NorESM2-LM_piClim-control...:   0%|          |0.00/4.32M [?B/s]"
      ]
     },
     "metadata": {},
     "output_type": "display_data"
    },
    {
     "data": {
      "application/vnd.jupyter.widget-view+json": {
       "model_id": "0ba55b5fc29c46aea03a0e772153f2bf",
       "version_major": 2,
       "version_minor": 0
      },
      "text/plain": [
       "clt_Amon_NorESM2-LM_piClim-control_r1...:   0%|          |0.00/5.00M [?B/s]"
      ]
     },
     "metadata": {},
     "output_type": "display_data"
    },
    {
     "data": {
      "application/vnd.jupyter.widget-view+json": {
       "model_id": "64da67343f7347508e50d6870cbe390e",
       "version_major": 2,
       "version_minor": 0
      },
      "text/plain": [
       "rsdscs_Amon_NorESM2-LM_piClim-control...:   0%|          |0.00/4.05M [?B/s]"
      ]
     },
     "metadata": {},
     "output_type": "display_data"
    },
    {
     "data": {
      "application/vnd.jupyter.widget-view+json": {
       "model_id": "07c6e80f06d04338ab80d08e411dfeb5",
       "version_major": 2,
       "version_minor": 0
      },
      "text/plain": [
       "rsutcs_Amon_NorESM2-LM_piClim-control...:   0%|          |0.00/4.32M [?B/s]"
      ]
     },
     "metadata": {},
     "output_type": "display_data"
    },
    {
     "data": {
      "application/vnd.jupyter.widget-view+json": {
       "model_id": "ffb18792368b4d358c41a8bc68635ffc",
       "version_major": 2,
       "version_minor": 0
      },
      "text/plain": [
       "rsds_Amon_NorESM2-LM_piClim-control_r...:   0%|          |0.00/4.72M [?B/s]"
      ]
     },
     "metadata": {},
     "output_type": "display_data"
    },
    {
     "data": {
      "application/vnd.jupyter.widget-view+json": {
       "model_id": "950b3dae5c484459a1882f2542c37ddb",
       "version_major": 2,
       "version_minor": 0
      },
      "text/plain": [
       "rsdscs_Amon_NorESM2-LM_piClim-control...:   0%|          |0.00/4.05M [?B/s]"
      ]
     },
     "metadata": {},
     "output_type": "display_data"
    },
    {
     "data": {
      "application/vnd.jupyter.widget-view+json": {
       "model_id": "1362f25b97e74955894618271bd379a1",
       "version_major": 2,
       "version_minor": 0
      },
      "text/plain": [
       "rsuscs_Amon_NorESM2-LM_piClim-control...:   0%|          |0.00/4.26M [?B/s]"
      ]
     },
     "metadata": {},
     "output_type": "display_data"
    },
    {
     "data": {
      "application/vnd.jupyter.widget-view+json": {
       "model_id": "4bfb713e75bc45ad947b4b3e71ad8a30",
       "version_major": 2,
       "version_minor": 0
      },
      "text/plain": [
       "rsut_Amon_NorESM2-LM_piClim-control_r...:   0%|          |0.00/4.72M [?B/s]"
      ]
     },
     "metadata": {},
     "output_type": "display_data"
    },
    {
     "data": {
      "application/vnd.jupyter.widget-view+json": {
       "model_id": "fe99bd80306f4e9ea3dc86f7fdc2f0f7",
       "version_major": 2,
       "version_minor": 0
      },
      "text/plain": [
       "rsds_Amon_NorESM2-LM_piClim-control_r...:   0%|          |0.00/4.72M [?B/s]"
      ]
     },
     "metadata": {},
     "output_type": "display_data"
    },
    {
     "data": {
      "application/vnd.jupyter.widget-view+json": {
       "model_id": "b55cca54880546708798864a3ff2b82a",
       "version_major": 2,
       "version_minor": 0
      },
      "text/plain": [
       "rsut_Amon_NorESM2-LM_piClim-control_r...:   0%|          |0.00/4.72M [?B/s]"
      ]
     },
     "metadata": {},
     "output_type": "display_data"
    },
    {
     "data": {
      "application/vnd.jupyter.widget-view+json": {
       "model_id": "2a796937a38447f58d3eb35d26e4bfcd",
       "version_major": 2,
       "version_minor": 0
      },
      "text/plain": [
       "rsut_Amon_NorESM2-LM_piClim-control_r...:   0%|          |0.00/4.72M [?B/s]"
      ]
     },
     "metadata": {},
     "output_type": "display_data"
    },
    {
     "data": {
      "application/vnd.jupyter.widget-view+json": {
       "model_id": "16f444d045dc440f9578844bb1ef843b",
       "version_major": 2,
       "version_minor": 0
      },
      "text/plain": [
       "rsdscs_Amon_NorESM2-LM_piClim-control...:   0%|          |0.00/4.05M [?B/s]"
      ]
     },
     "metadata": {},
     "output_type": "display_data"
    },
    {
     "data": {
      "application/vnd.jupyter.widget-view+json": {
       "model_id": "8f589361b6b14a9cbd2b430ababc3948",
       "version_major": 2,
       "version_minor": 0
      },
      "text/plain": [
       "rsdt_Amon_NorESM2-LM_piClim-control_r...:   0%|          |0.00/3.23M [?B/s]"
      ]
     },
     "metadata": {},
     "output_type": "display_data"
    },
    {
     "data": {
      "application/vnd.jupyter.widget-view+json": {
       "model_id": "9a8c54efb72544a7b4e4d27d68f07cda",
       "version_major": 2,
       "version_minor": 0
      },
      "text/plain": [
       "rsdt_Amon_NorESM2-LM_piClim-control_r...:   0%|          |0.00/3.23M [?B/s]"
      ]
     },
     "metadata": {},
     "output_type": "display_data"
    },
    {
     "data": {
      "application/vnd.jupyter.widget-view+json": {
       "model_id": "84cc03b10ebd4878936ed88b633a73dc",
       "version_major": 2,
       "version_minor": 0
      },
      "text/plain": [
       "rsuscs_Amon_NorESM2-LM_piClim-control...:   0%|          |0.00/4.26M [?B/s]"
      ]
     },
     "metadata": {},
     "output_type": "display_data"
    },
    {
     "data": {
      "application/vnd.jupyter.widget-view+json": {
       "model_id": "476ac3d41e754cf2b482281e179f204f",
       "version_major": 2,
       "version_minor": 0
      },
      "text/plain": [
       "rsut_Amon_NorESM2-LM_piClim-control_r...:   0%|          |0.00/4.72M [?B/s]"
      ]
     },
     "metadata": {},
     "output_type": "display_data"
    },
    {
     "data": {
      "application/vnd.jupyter.widget-view+json": {
       "model_id": "118b789eacb84a40aeb6c8b583da410e",
       "version_major": 2,
       "version_minor": 0
      },
      "text/plain": [
       "clt_Amon_NorESM2-LM_piClim-control_r1...:   0%|          |0.00/5.00M [?B/s]"
      ]
     },
     "metadata": {},
     "output_type": "display_data"
    },
    {
     "data": {
      "application/vnd.jupyter.widget-view+json": {
       "model_id": "5e5f4c5670e04137a8c127827ceb2bb0",
       "version_major": 2,
       "version_minor": 0
      },
      "text/plain": [
       "rsds_Amon_NorESM2-LM_piClim-control_r...:   0%|          |0.00/4.72M [?B/s]"
      ]
     },
     "metadata": {},
     "output_type": "display_data"
    },
    {
     "data": {
      "application/vnd.jupyter.widget-view+json": {
       "model_id": "4dae5304dd454aae9e42c23089383674",
       "version_major": 2,
       "version_minor": 0
      },
      "text/plain": [
       "rsds_Amon_NorESM2-LM_piClim-control_r...:   0%|          |0.00/4.72M [?B/s]"
      ]
     },
     "metadata": {},
     "output_type": "display_data"
    },
    {
     "data": {
      "application/vnd.jupyter.widget-view+json": {
       "model_id": "0a5965cb7c564d29a893034c048474c1",
       "version_major": 2,
       "version_minor": 0
      },
      "text/plain": [
       "rsds_Amon_NorESM2-LM_piClim-control_r...:   0%|          |0.00/4.72M [?B/s]"
      ]
     },
     "metadata": {},
     "output_type": "display_data"
    },
    {
     "data": {
      "application/vnd.jupyter.widget-view+json": {
       "model_id": "6cb5576d9e80482d8e44cf99bd3c8471",
       "version_major": 2,
       "version_minor": 0
      },
      "text/plain": [
       "rsus_Amon_NorESM2-LM_piClim-control_r...:   0%|          |0.00/4.58M [?B/s]"
      ]
     },
     "metadata": {},
     "output_type": "display_data"
    },
    {
     "data": {
      "application/vnd.jupyter.widget-view+json": {
       "model_id": "9e8fddcec3e6497d95327b99a3dc135d",
       "version_major": 2,
       "version_minor": 0
      },
      "text/plain": [
       "rsuscs_Amon_NorESM2-LM_piClim-control...:   0%|          |0.00/4.26M [?B/s]"
      ]
     },
     "metadata": {},
     "output_type": "display_data"
    },
    {
     "data": {
      "application/vnd.jupyter.widget-view+json": {
       "model_id": "ad8de44dda7048ec8814e7ecfc31fc30",
       "version_major": 2,
       "version_minor": 0
      },
      "text/plain": [
       "rsuscs_Amon_NorESM2-LM_piClim-control...:   0%|          |0.00/4.26M [?B/s]"
      ]
     },
     "metadata": {},
     "output_type": "display_data"
    },
    {
     "data": {
      "application/vnd.jupyter.widget-view+json": {
       "model_id": "0886898a736f4df88a212b189e8b9aeb",
       "version_major": 2,
       "version_minor": 0
      },
      "text/plain": [
       "rsuscs_Amon_NorESM2-LM_piClim-control...:   0%|          |0.00/4.26M [?B/s]"
      ]
     },
     "metadata": {},
     "output_type": "display_data"
    },
    {
     "data": {
      "application/vnd.jupyter.widget-view+json": {
       "model_id": "e07a3565ce76422386f0465dbdbcca93",
       "version_major": 2,
       "version_minor": 0
      },
      "text/plain": [
       "rsutcs_Amon_NorESM2-LM_piClim-control...:   0%|          |0.00/4.31M [?B/s]"
      ]
     },
     "metadata": {},
     "output_type": "display_data"
    },
    {
     "data": {
      "application/vnd.jupyter.widget-view+json": {
       "model_id": "a5f6cfa9960a49adbedc4accdc90b9aa",
       "version_major": 2,
       "version_minor": 0
      },
      "text/plain": [
       "rsutcs_Amon_NorESM2-LM_piClim-control...:   0%|          |0.00/4.32M [?B/s]"
      ]
     },
     "metadata": {},
     "output_type": "display_data"
    },
    {
     "data": {
      "application/vnd.jupyter.widget-view+json": {
       "model_id": "9de8c2a5b776453ca3f2922bc2c94ae5",
       "version_major": 2,
       "version_minor": 0
      },
      "text/plain": [
       "rsdscs_Amon_NorESM2-LM_piClim-control...:   0%|          |0.00/4.05M [?B/s]"
      ]
     },
     "metadata": {},
     "output_type": "display_data"
    },
    {
     "data": {
      "application/vnd.jupyter.widget-view+json": {
       "model_id": "3daec3f74f2c4a8dbe57032734518018",
       "version_major": 2,
       "version_minor": 0
      },
      "text/plain": [
       "rsdt_Amon_NorESM2-LM_piClim-control_r...:   0%|          |0.00/3.23M [?B/s]"
      ]
     },
     "metadata": {},
     "output_type": "display_data"
    },
    {
     "data": {
      "application/vnd.jupyter.widget-view+json": {
       "model_id": "58d585d5932d45fdbb63d83caf87eaf8",
       "version_major": 2,
       "version_minor": 0
      },
      "text/plain": [
       "rsdt_Amon_NorESM2-LM_piClim-control_r...:   0%|          |0.00/3.23M [?B/s]"
      ]
     },
     "metadata": {},
     "output_type": "display_data"
    },
    {
     "data": {
      "application/vnd.jupyter.widget-view+json": {
       "model_id": "277f820d01ec4e78a392de85a7bb750a",
       "version_major": 2,
       "version_minor": 0
      },
      "text/plain": [
       "rsus_Amon_NorESM2-LM_piClim-control_r...:   0%|          |0.00/4.58M [?B/s]"
      ]
     },
     "metadata": {},
     "output_type": "display_data"
    },
    {
     "data": {
      "application/vnd.jupyter.widget-view+json": {
       "model_id": "2856b0a8d54a4f73b0e5a7fc2f19c132",
       "version_major": 2,
       "version_minor": 0
      },
      "text/plain": [
       "rsus_Amon_NorESM2-LM_piClim-control_r...:   0%|          |0.00/4.58M [?B/s]"
      ]
     },
     "metadata": {},
     "output_type": "display_data"
    },
    {
     "data": {
      "application/vnd.jupyter.widget-view+json": {
       "model_id": "3aad70bc408b4d0cb27e5b3d3225e35b",
       "version_major": 2,
       "version_minor": 0
      },
      "text/plain": [
       "rsuscs_Amon_NorESM2-LM_piClim-control...:   0%|          |0.00/4.26M [?B/s]"
      ]
     },
     "metadata": {},
     "output_type": "display_data"
    },
    {
     "data": {
      "application/vnd.jupyter.widget-view+json": {
       "model_id": "4cc07c1a83b144729488ce99fae8c6b1",
       "version_major": 2,
       "version_minor": 0
      },
      "text/plain": [
       "rsus_Amon_NorESM2-LM_piClim-control_r...:   0%|          |0.00/4.59M [?B/s]"
      ]
     },
     "metadata": {},
     "output_type": "display_data"
    },
    {
     "data": {
      "application/vnd.jupyter.widget-view+json": {
       "model_id": "a95feda229e44c18a0299c639f8bd905",
       "version_major": 2,
       "version_minor": 0
      },
      "text/plain": [
       "rsuscs_Amon_NorESM2-LM_piClim-control...:   0%|          |0.00/4.26M [?B/s]"
      ]
     },
     "metadata": {},
     "output_type": "display_data"
    },
    {
     "data": {
      "application/vnd.jupyter.widget-view+json": {
       "model_id": "4a54bf8cd9d5456bacfc3de125ba12ef",
       "version_major": 2,
       "version_minor": 0
      },
      "text/plain": [
       "rsut_Amon_NorESM2-LM_piClim-control_r...:   0%|          |0.00/4.72M [?B/s]"
      ]
     },
     "metadata": {},
     "output_type": "display_data"
    },
    {
     "data": {
      "application/vnd.jupyter.widget-view+json": {
       "model_id": "68d8399ad3974dee8aba71e43f855eee",
       "version_major": 2,
       "version_minor": 0
      },
      "text/plain": [
       "clt_Amon_NorESM2-LM_piClim-control_r1...:   0%|          |0.00/5.01M [?B/s]"
      ]
     },
     "metadata": {},
     "output_type": "display_data"
    },
    {
     "data": {
      "application/vnd.jupyter.widget-view+json": {
       "model_id": "3d5aca596ed04218b45bb3ac3c42ec82",
       "version_major": 2,
       "version_minor": 0
      },
      "text/plain": [
       "clt_Amon_NorESM2-LM_piClim-control_r1...:   0%|          |0.00/5.00M [?B/s]"
      ]
     },
     "metadata": {},
     "output_type": "display_data"
    },
    {
     "data": {
      "application/vnd.jupyter.widget-view+json": {
       "model_id": "838306db6dba46e3804d8abbf523ab4b",
       "version_major": 2,
       "version_minor": 0
      },
      "text/plain": [
       "rsdscs_Amon_NorESM2-LM_piClim-control...:   0%|          |0.00/4.05M [?B/s]"
      ]
     },
     "metadata": {},
     "output_type": "display_data"
    },
    {
     "data": {
      "application/vnd.jupyter.widget-view+json": {
       "model_id": "e2e277b758de491485107b193acc66e0",
       "version_major": 2,
       "version_minor": 0
      },
      "text/plain": [
       "rsdscs_Amon_NorESM2-LM_piClim-control...:   0%|          |0.00/4.05M [?B/s]"
      ]
     },
     "metadata": {},
     "output_type": "display_data"
    },
    {
     "data": {
      "application/vnd.jupyter.widget-view+json": {
       "model_id": "868d81651d7f44909a8a90d8485658e3",
       "version_major": 2,
       "version_minor": 0
      },
      "text/plain": [
       "rsdscs_Amon_NorESM2-LM_piClim-control...:   0%|          |0.00/4.05M [?B/s]"
      ]
     },
     "metadata": {},
     "output_type": "display_data"
    },
    {
     "data": {
      "application/vnd.jupyter.widget-view+json": {
       "model_id": "735fbe5c90f542faa84bb33c408f7288",
       "version_major": 2,
       "version_minor": 0
      },
      "text/plain": [
       "rsdt_Amon_NorESM2-LM_piClim-control_r...:   0%|          |0.00/3.23M [?B/s]"
      ]
     },
     "metadata": {},
     "output_type": "display_data"
    },
    {
     "data": {
      "application/vnd.jupyter.widget-view+json": {
       "model_id": "dc384ab1e94e486eb0f805a25b4223c1",
       "version_major": 2,
       "version_minor": 0
      },
      "text/plain": [
       "rsdt_Amon_NorESM2-LM_piClim-control_r...:   0%|          |0.00/3.23M [?B/s]"
      ]
     },
     "metadata": {},
     "output_type": "display_data"
    },
    {
     "data": {
      "application/vnd.jupyter.widget-view+json": {
       "model_id": "3b0077c582a34081bfedbe883922b85a",
       "version_major": 2,
       "version_minor": 0
      },
      "text/plain": [
       "rsdt_Amon_NorESM2-LM_piClim-control_r...:   0%|          |0.00/3.23M [?B/s]"
      ]
     },
     "metadata": {},
     "output_type": "display_data"
    },
    {
     "data": {
      "application/vnd.jupyter.widget-view+json": {
       "model_id": "7c32ea9214104a39b0110093e4e46876",
       "version_major": 2,
       "version_minor": 0
      },
      "text/plain": [
       "rsutcs_Amon_NorESM2-LM_piClim-control...:   0%|          |0.00/4.31M [?B/s]"
      ]
     },
     "metadata": {},
     "output_type": "display_data"
    },
    {
     "data": {
      "application/vnd.jupyter.widget-view+json": {
       "model_id": "48b25c49ac7448f9957a5f8f425f11c2",
       "version_major": 2,
       "version_minor": 0
      },
      "text/plain": [
       "rsds_Amon_NorESM2-LM_piClim-control_r...:   0%|          |0.00/4.72M [?B/s]"
      ]
     },
     "metadata": {},
     "output_type": "display_data"
    },
    {
     "data": {
      "application/vnd.jupyter.widget-view+json": {
       "model_id": "831de22f25564b6c9df88a6ae7b930ad",
       "version_major": 2,
       "version_minor": 0
      },
      "text/plain": [
       "clt_Amon_NorESM2-LM_piClim-control_r1...:   0%|          |0.00/5.00M [?B/s]"
      ]
     },
     "metadata": {},
     "output_type": "display_data"
    },
    {
     "data": {
      "application/vnd.jupyter.widget-view+json": {
       "model_id": "e2abadddc96d411988c2b684b3090c8f",
       "version_major": 2,
       "version_minor": 0
      },
      "text/plain": [
       "rsdscs_Amon_NorESM2-LM_piClim-control...:   0%|          |0.00/4.05M [?B/s]"
      ]
     },
     "metadata": {},
     "output_type": "display_data"
    },
    {
     "data": {
      "application/vnd.jupyter.widget-view+json": {
       "model_id": "26733f427fa34469b143afe5338a1dde",
       "version_major": 2,
       "version_minor": 0
      },
      "text/plain": [
       "rsus_Amon_NorESM2-LM_piClim-control_r...:   0%|          |0.00/4.59M [?B/s]"
      ]
     },
     "metadata": {},
     "output_type": "display_data"
    },
    {
     "data": {
      "application/vnd.jupyter.widget-view+json": {
       "model_id": "ed7bee082b7e49fdbe8f1708db20436f",
       "version_major": 2,
       "version_minor": 0
      },
      "text/plain": [
       "rsuscs_Amon_NorESM2-LM_piClim-control...:   0%|          |0.00/4.26M [?B/s]"
      ]
     },
     "metadata": {},
     "output_type": "display_data"
    },
    {
     "data": {
      "application/vnd.jupyter.widget-view+json": {
       "model_id": "fb929e28964d4278bd88ddacffbe7fc7",
       "version_major": 2,
       "version_minor": 0
      },
      "text/plain": [
       "rsus_Amon_NorESM2-LM_piClim-control_r...:   0%|          |0.00/4.58M [?B/s]"
      ]
     },
     "metadata": {},
     "output_type": "display_data"
    },
    {
     "data": {
      "application/vnd.jupyter.widget-view+json": {
       "model_id": "cabaf411c465401da4eff07df2528db8",
       "version_major": 2,
       "version_minor": 0
      },
      "text/plain": [
       "rsut_Amon_NorESM2-LM_piClim-control_r...:   0%|          |0.00/4.72M [?B/s]"
      ]
     },
     "metadata": {},
     "output_type": "display_data"
    },
    {
     "data": {
      "application/vnd.jupyter.widget-view+json": {
       "model_id": "fab7116377404f988c4254b32ac01946",
       "version_major": 2,
       "version_minor": 0
      },
      "text/plain": [
       "clt_Amon_NorESM2-LM_piClim-control_r1...:   0%|          |0.00/5.00M [?B/s]"
      ]
     },
     "metadata": {},
     "output_type": "display_data"
    },
    {
     "data": {
      "application/vnd.jupyter.widget-view+json": {
       "model_id": "82a200dc3eab4ca3861fc10b90556998",
       "version_major": 2,
       "version_minor": 0
      },
      "text/plain": [
       "clt_Amon_NorESM2-LM_piClim-control_r1...:   0%|          |0.00/5.00M [?B/s]"
      ]
     },
     "metadata": {},
     "output_type": "display_data"
    },
    {
     "data": {
      "application/vnd.jupyter.widget-view+json": {
       "model_id": "f544c4b4d761420b8347667f9f1cb07d",
       "version_major": 2,
       "version_minor": 0
      },
      "text/plain": [
       "rsdscs_Amon_NorESM2-LM_piClim-control...:   0%|          |0.00/4.05M [?B/s]"
      ]
     },
     "metadata": {},
     "output_type": "display_data"
    },
    {
     "data": {
      "application/vnd.jupyter.widget-view+json": {
       "model_id": "438499823fa048db8c5c08a32764999c",
       "version_major": 2,
       "version_minor": 0
      },
      "text/plain": [
       "rsuscs_Amon_NorESM2-LM_piClim-control...:   0%|          |0.00/4.26M [?B/s]"
      ]
     },
     "metadata": {},
     "output_type": "display_data"
    },
    {
     "data": {
      "application/vnd.jupyter.widget-view+json": {
       "model_id": "1b72dc439090482292d411a36761afed",
       "version_major": 2,
       "version_minor": 0
      },
      "text/plain": [
       "rsut_Amon_NorESM2-LM_piClim-control_r...:   0%|          |0.00/4.72M [?B/s]"
      ]
     },
     "metadata": {},
     "output_type": "display_data"
    },
    {
     "data": {
      "application/vnd.jupyter.widget-view+json": {
       "model_id": "05338fe4de844da7b926f968b3ce9e42",
       "version_major": 2,
       "version_minor": 0
      },
      "text/plain": [
       "rsut_Amon_NorESM2-LM_piClim-control_r...:   0%|          |0.00/4.72M [?B/s]"
      ]
     },
     "metadata": {},
     "output_type": "display_data"
    },
    {
     "data": {
      "application/vnd.jupyter.widget-view+json": {
       "model_id": "6244d860dc98421d88294f2fcc848783",
       "version_major": 2,
       "version_minor": 0
      },
      "text/plain": [
       "rsutcs_Amon_NorESM2-LM_piClim-control...:   0%|          |0.00/4.32M [?B/s]"
      ]
     },
     "metadata": {},
     "output_type": "display_data"
    },
    {
     "name": "stdout",
     "output_type": "stream",
     "text": [
      "\n",
      "Downloading NorESM2-LM.r1i1p1f1.gn ...\n",
      "\n"
     ]
    },
    {
     "data": {
      "application/vnd.jupyter.widget-view+json": {
       "model_id": "aacf088b5aa34a40ab702bbfc7d34a8a",
       "version_major": 2,
       "version_minor": 0
      },
      "text/plain": [
       "   Searching indices:   0%|          |0/9 [       ?index/s]"
      ]
     },
     "metadata": {},
     "output_type": "display_data"
    },
    {
     "name": "stderr",
     "output_type": "stream",
     "text": [
      "/home/jovyan/my-conda-envs/cmip6-download/lib/python3.13/site-packages/intake_esgf/catalog.py:450: UserWarning: SolrESGFIndex('esgf-node.ipsl.upmc.fr') failed to return a response, info may be incomplete\n",
      "  warnings.warn(\n",
      "/home/jovyan/my-conda-envs/cmip6-download/lib/python3.13/site-packages/intake_esgf/catalog.py:450: UserWarning: SolrESGFIndex('esgf.ceda.ac.uk') failed to return a response, info may be incomplete\n",
      "  warnings.warn(\n",
      "/home/jovyan/my-conda-envs/cmip6-download/lib/python3.13/site-packages/intake_esgf/catalog.py:450: UserWarning: SolrESGFIndex('esgf-data.dkrz.de') failed to return a response, info may be incomplete\n",
      "  warnings.warn(\n",
      "/home/jovyan/my-conda-envs/cmip6-download/lib/python3.13/site-packages/intake_esgf/catalog.py:450: UserWarning: SolrESGFIndex('esg-dn1.nsc.liu.se') failed to return a response, info may be incomplete\n",
      "  warnings.warn(\n",
      "/home/jovyan/my-conda-envs/cmip6-download/lib/python3.13/site-packages/intake_esgf/catalog.py:450: UserWarning: SolrESGFIndex('esgf-node.ornl.gov') failed to return a response, info may be incomplete\n",
      "  warnings.warn(\n",
      "/home/jovyan/my-conda-envs/cmip6-download/lib/python3.13/site-packages/intake_esgf/catalog.py:450: UserWarning: SolrESGFIndex('esgf-node.llnl.gov') failed to return a response, info may be incomplete\n",
      "  warnings.warn(\n",
      "/home/jovyan/my-conda-envs/cmip6-download/lib/python3.13/site-packages/intake_esgf/catalog.py:450: UserWarning: SolrESGFIndex('esgf.nci.org.au') failed to return a response, info may be incomplete\n",
      "  warnings.warn(\n"
     ]
    },
    {
     "data": {
      "application/vnd.jupyter.widget-view+json": {
       "model_id": "9e2c207ee21148d4b9f8e5d6b7f912a7",
       "version_major": 2,
       "version_minor": 0
      },
      "text/plain": [
       "rsuscs_Amon_NorESM2-LM_piClim-control...:   0%|          |0.00/4.25M [?B/s]"
      ]
     },
     "metadata": {},
     "output_type": "display_data"
    },
    {
     "data": {
      "application/vnd.jupyter.widget-view+json": {
       "model_id": "c6e09bc0e38e41128a9729d9b50094d3",
       "version_major": 2,
       "version_minor": 0
      },
      "text/plain": [
       "rsutcs_Amon_NorESM2-LM_piClim-control...:   0%|          |0.00/4.32M [?B/s]"
      ]
     },
     "metadata": {},
     "output_type": "display_data"
    },
    {
     "data": {
      "application/vnd.jupyter.widget-view+json": {
       "model_id": "3b975a80fe2f4920879a99ba33dd342f",
       "version_major": 2,
       "version_minor": 0
      },
      "text/plain": [
       "rsuscs_Amon_NorESM2-LM_piClim-control...:   0%|          |0.00/4.25M [?B/s]"
      ]
     },
     "metadata": {},
     "output_type": "display_data"
    },
    {
     "data": {
      "application/vnd.jupyter.widget-view+json": {
       "model_id": "d6eca0c0748b4d97b0adf2b580d8cac5",
       "version_major": 2,
       "version_minor": 0
      },
      "text/plain": [
       "clt_Amon_NorESM2-LM_piClim-control_r1...:   0%|          |0.00/5.00M [?B/s]"
      ]
     },
     "metadata": {},
     "output_type": "display_data"
    },
    {
     "data": {
      "application/vnd.jupyter.widget-view+json": {
       "model_id": "bc6f3c2ef8b54405b06197829b348ef5",
       "version_major": 2,
       "version_minor": 0
      },
      "text/plain": [
       "rsutcs_Amon_NorESM2-LM_piClim-aer_r1i...:   0%|          |0.00/4.33M [?B/s]"
      ]
     },
     "metadata": {},
     "output_type": "display_data"
    },
    {
     "data": {
      "application/vnd.jupyter.widget-view+json": {
       "model_id": "71a66bb5d96d4d5e974560301c781ed7",
       "version_major": 2,
       "version_minor": 0
      },
      "text/plain": [
       "clt_Amon_NorESM2-LM_piClim-aer_r1i1p1...:   0%|          |0.00/5.00M [?B/s]"
      ]
     },
     "metadata": {},
     "output_type": "display_data"
    },
    {
     "data": {
      "application/vnd.jupyter.widget-view+json": {
       "model_id": "955bc89e785044299facc76c9818c53a",
       "version_major": 2,
       "version_minor": 0
      },
      "text/plain": [
       "rsds_Amon_NorESM2-LM_piClim-control_r...:   0%|          |0.00/4.72M [?B/s]"
      ]
     },
     "metadata": {},
     "output_type": "display_data"
    },
    {
     "data": {
      "application/vnd.jupyter.widget-view+json": {
       "model_id": "57c73cc9dc624d07b2cc922f006f1b54",
       "version_major": 2,
       "version_minor": 0
      },
      "text/plain": [
       "rsdt_Amon_NorESM2-LM_piClim-control_r...:   0%|          |0.00/3.23M [?B/s]"
      ]
     },
     "metadata": {},
     "output_type": "display_data"
    },
    {
     "data": {
      "application/vnd.jupyter.widget-view+json": {
       "model_id": "47d5a443e50c4bfab504e980cd5c3e03",
       "version_major": 2,
       "version_minor": 0
      },
      "text/plain": [
       "rsdscs_Amon_NorESM2-LM_piClim-aer_r1i...:   0%|          |0.00/4.07M [?B/s]"
      ]
     },
     "metadata": {},
     "output_type": "display_data"
    },
    {
     "data": {
      "application/vnd.jupyter.widget-view+json": {
       "model_id": "9d37240e1d9b49d5aa514c654c1cf5a9",
       "version_major": 2,
       "version_minor": 0
      },
      "text/plain": [
       "rsuscs_Amon_NorESM2-LM_piClim-control...:   0%|          |0.00/4.25M [?B/s]"
      ]
     },
     "metadata": {},
     "output_type": "display_data"
    },
    {
     "data": {
      "application/vnd.jupyter.widget-view+json": {
       "model_id": "b05af2031c604d8682b88c1a0248d33e",
       "version_major": 2,
       "version_minor": 0
      },
      "text/plain": [
       "rsdt_Amon_NorESM2-LM_piClim-aer_r1i1p...:   0%|          |0.00/3.23M [?B/s]"
      ]
     },
     "metadata": {},
     "output_type": "display_data"
    },
    {
     "data": {
      "application/vnd.jupyter.widget-view+json": {
       "model_id": "017afbc95ad54ab9b39100ce5139ff55",
       "version_major": 2,
       "version_minor": 0
      },
      "text/plain": [
       "rsuscs_Amon_NorESM2-LM_piClim-aer_r1i...:   0%|          |0.00/4.25M [?B/s]"
      ]
     },
     "metadata": {},
     "output_type": "display_data"
    },
    {
     "data": {
      "application/vnd.jupyter.widget-view+json": {
       "model_id": "d140076e8b2e442bb7f930d9dd49c9e8",
       "version_major": 2,
       "version_minor": 0
      },
      "text/plain": [
       "rsdt_Amon_NorESM2-LM_piClim-control_r...:   0%|          |0.00/3.23M [?B/s]"
      ]
     },
     "metadata": {},
     "output_type": "display_data"
    },
    {
     "data": {
      "application/vnd.jupyter.widget-view+json": {
       "model_id": "9e596badf54e4680acc8c3f4a285f824",
       "version_major": 2,
       "version_minor": 0
      },
      "text/plain": [
       "rsut_Amon_NorESM2-LM_piClim-control_r...:   0%|          |0.00/4.72M [?B/s]"
      ]
     },
     "metadata": {},
     "output_type": "display_data"
    },
    {
     "data": {
      "application/vnd.jupyter.widget-view+json": {
       "model_id": "c8b2a738a152462d824d6e2f0f0f377b",
       "version_major": 2,
       "version_minor": 0
      },
      "text/plain": [
       "rsutcs_Amon_NorESM2-LM_piClim-control...:   0%|          |0.00/4.32M [?B/s]"
      ]
     },
     "metadata": {},
     "output_type": "display_data"
    },
    {
     "data": {
      "application/vnd.jupyter.widget-view+json": {
       "model_id": "bb84e2421c4a48fb9bbd136de62d0b5e",
       "version_major": 2,
       "version_minor": 0
      },
      "text/plain": [
       "rsdt_Amon_NorESM2-LM_piClim-aer_r1i1p...:   0%|          |0.00/3.23M [?B/s]"
      ]
     },
     "metadata": {},
     "output_type": "display_data"
    },
    {
     "data": {
      "application/vnd.jupyter.widget-view+json": {
       "model_id": "108453fa0590409f9bf64016254e3564",
       "version_major": 2,
       "version_minor": 0
      },
      "text/plain": [
       "rsdt_Amon_NorESM2-LM_piClim-aer_r1i1p...:   0%|          |0.00/3.23M [?B/s]"
      ]
     },
     "metadata": {},
     "output_type": "display_data"
    },
    {
     "data": {
      "application/vnd.jupyter.widget-view+json": {
       "model_id": "a1f6df30c41745b0be25e020f7002ff2",
       "version_major": 2,
       "version_minor": 0
      },
      "text/plain": [
       "rsut_Amon_NorESM2-LM_piClim-aer_r1i1p...:   0%|          |0.00/4.72M [?B/s]"
      ]
     },
     "metadata": {},
     "output_type": "display_data"
    },
    {
     "data": {
      "application/vnd.jupyter.widget-view+json": {
       "model_id": "47ec4ac8295547f3b88423e161ca5e18",
       "version_major": 2,
       "version_minor": 0
      },
      "text/plain": [
       "rsutcs_Amon_NorESM2-LM_piClim-aer_r1i...:   0%|          |0.00/4.33M [?B/s]"
      ]
     },
     "metadata": {},
     "output_type": "display_data"
    },
    {
     "data": {
      "application/vnd.jupyter.widget-view+json": {
       "model_id": "5d8ba046f7804992b40efd707f104356",
       "version_major": 2,
       "version_minor": 0
      },
      "text/plain": [
       "rsdscs_Amon_NorESM2-LM_piClim-control...:   0%|          |0.00/4.06M [?B/s]"
      ]
     },
     "metadata": {},
     "output_type": "display_data"
    },
    {
     "data": {
      "application/vnd.jupyter.widget-view+json": {
       "model_id": "b7b74d47712a4ed493a2b19971e9acc9",
       "version_major": 2,
       "version_minor": 0
      },
      "text/plain": [
       "clt_Amon_NorESM2-LM_piClim-control_r1...:   0%|          |0.00/5.00M [?B/s]"
      ]
     },
     "metadata": {},
     "output_type": "display_data"
    },
    {
     "data": {
      "application/vnd.jupyter.widget-view+json": {
       "model_id": "8f47c037a22f472599305fb2c28e959f",
       "version_major": 2,
       "version_minor": 0
      },
      "text/plain": [
       "rsdt_Amon_NorESM2-LM_piClim-control_r...:   0%|          |0.00/3.23M [?B/s]"
      ]
     },
     "metadata": {},
     "output_type": "display_data"
    },
    {
     "data": {
      "application/vnd.jupyter.widget-view+json": {
       "model_id": "b6b3616510ae4ab0925a27625e08248f",
       "version_major": 2,
       "version_minor": 0
      },
      "text/plain": [
       "rsutcs_Amon_NorESM2-LM_piClim-control...:   0%|          |0.00/4.32M [?B/s]"
      ]
     },
     "metadata": {},
     "output_type": "display_data"
    },
    {
     "data": {
      "application/vnd.jupyter.widget-view+json": {
       "model_id": "9d65c020e1724d518b6f5095e19b9e94",
       "version_major": 2,
       "version_minor": 0
      },
      "text/plain": [
       "rsds_Amon_NorESM2-LM_piClim-aer_r1i1p...:   0%|          |0.00/4.73M [?B/s]"
      ]
     },
     "metadata": {},
     "output_type": "display_data"
    },
    {
     "data": {
      "application/vnd.jupyter.widget-view+json": {
       "model_id": "8d5143e7e8ed45cfa05b6451ec34c236",
       "version_major": 2,
       "version_minor": 0
      },
      "text/plain": [
       "rsus_Amon_NorESM2-LM_piClim-aer_r1i1p...:   0%|          |0.00/4.59M [?B/s]"
      ]
     },
     "metadata": {},
     "output_type": "display_data"
    },
    {
     "data": {
      "application/vnd.jupyter.widget-view+json": {
       "model_id": "de28253eabfa4fbda9d18eb8e1f47f3c",
       "version_major": 2,
       "version_minor": 0
      },
      "text/plain": [
       "rsut_Amon_NorESM2-LM_piClim-aer_r1i1p...:   0%|          |0.00/4.72M [?B/s]"
      ]
     },
     "metadata": {},
     "output_type": "display_data"
    },
    {
     "data": {
      "application/vnd.jupyter.widget-view+json": {
       "model_id": "724b8cac10c24d159dc33d9236b62721",
       "version_major": 2,
       "version_minor": 0
      },
      "text/plain": [
       "clt_Amon_NorESM2-LM_piClim-control_r1...:   0%|          |0.00/5.00M [?B/s]"
      ]
     },
     "metadata": {},
     "output_type": "display_data"
    },
    {
     "data": {
      "application/vnd.jupyter.widget-view+json": {
       "model_id": "6cfcc43c112c4b96a9b224b0622e5d7e",
       "version_major": 2,
       "version_minor": 0
      },
      "text/plain": [
       "rsus_Amon_NorESM2-LM_piClim-control_r...:   0%|          |0.00/4.58M [?B/s]"
      ]
     },
     "metadata": {},
     "output_type": "display_data"
    },
    {
     "data": {
      "application/vnd.jupyter.widget-view+json": {
       "model_id": "1fa0f63bc9f148189a9ded2cb102bf0f",
       "version_major": 2,
       "version_minor": 0
      },
      "text/plain": [
       "rsus_Amon_NorESM2-LM_piClim-control_r...:   0%|          |0.00/4.58M [?B/s]"
      ]
     },
     "metadata": {},
     "output_type": "display_data"
    },
    {
     "data": {
      "application/vnd.jupyter.widget-view+json": {
       "model_id": "e95330191b244addb30573ee5af4a623",
       "version_major": 2,
       "version_minor": 0
      },
      "text/plain": [
       "rsdscs_Amon_NorESM2-LM_piClim-aer_r1i...:   0%|          |0.00/4.07M [?B/s]"
      ]
     },
     "metadata": {},
     "output_type": "display_data"
    },
    {
     "data": {
      "application/vnd.jupyter.widget-view+json": {
       "model_id": "272d009335c54cc6a1b4f87a6ab2f3a9",
       "version_major": 2,
       "version_minor": 0
      },
      "text/plain": [
       "rsus_Amon_NorESM2-LM_piClim-aer_r1i1p...:   0%|          |0.00/4.59M [?B/s]"
      ]
     },
     "metadata": {},
     "output_type": "display_data"
    },
    {
     "data": {
      "application/vnd.jupyter.widget-view+json": {
       "model_id": "cb9ae2f42a7b405e8fe28eaf75419234",
       "version_major": 2,
       "version_minor": 0
      },
      "text/plain": [
       "clt_Amon_NorESM2-LM_piClim-aer_r1i1p1...:   0%|          |0.00/5.00M [?B/s]"
      ]
     },
     "metadata": {},
     "output_type": "display_data"
    },
    {
     "data": {
      "application/vnd.jupyter.widget-view+json": {
       "model_id": "34f27a89625b41059f3d925803724f93",
       "version_major": 2,
       "version_minor": 0
      },
      "text/plain": [
       "rsuscs_Amon_NorESM2-LM_piClim-aer_r1i...:   0%|          |0.00/4.26M [?B/s]"
      ]
     },
     "metadata": {},
     "output_type": "display_data"
    },
    {
     "data": {
      "application/vnd.jupyter.widget-view+json": {
       "model_id": "c5b2f1c900be41d6b6a7f4918ab3f677",
       "version_major": 2,
       "version_minor": 0
      },
      "text/plain": [
       "rsut_Amon_NorESM2-LM_piClim-aer_r1i1p...:   0%|          |0.00/4.72M [?B/s]"
      ]
     },
     "metadata": {},
     "output_type": "display_data"
    },
    {
     "data": {
      "application/vnd.jupyter.widget-view+json": {
       "model_id": "f324f375728149ac8cb9b85b32739a22",
       "version_major": 2,
       "version_minor": 0
      },
      "text/plain": [
       "clt_Amon_NorESM2-LM_piClim-aer_r1i1p1...:   0%|          |0.00/5.00M [?B/s]"
      ]
     },
     "metadata": {},
     "output_type": "display_data"
    },
    {
     "data": {
      "application/vnd.jupyter.widget-view+json": {
       "model_id": "c91dfac672644f9bbe0c9669e1f4311c",
       "version_major": 2,
       "version_minor": 0
      },
      "text/plain": [
       "rsuscs_Amon_NorESM2-LM_piClim-aer_r1i...:   0%|          |0.00/4.25M [?B/s]"
      ]
     },
     "metadata": {},
     "output_type": "display_data"
    },
    {
     "data": {
      "application/vnd.jupyter.widget-view+json": {
       "model_id": "3db4d1fc08594ac5a787c074b24d6967",
       "version_major": 2,
       "version_minor": 0
      },
      "text/plain": [
       "rsds_Amon_NorESM2-LM_piClim-control_r...:   0%|          |0.00/4.72M [?B/s]"
      ]
     },
     "metadata": {},
     "output_type": "display_data"
    },
    {
     "data": {
      "application/vnd.jupyter.widget-view+json": {
       "model_id": "6a4259ff60e245e19d18c0ce3c76c7e4",
       "version_major": 2,
       "version_minor": 0
      },
      "text/plain": [
       "rsds_Amon_NorESM2-LM_piClim-control_r...:   0%|          |0.00/4.72M [?B/s]"
      ]
     },
     "metadata": {},
     "output_type": "display_data"
    },
    {
     "data": {
      "application/vnd.jupyter.widget-view+json": {
       "model_id": "f4c1e2b30bf440be8187b8d45445dd3d",
       "version_major": 2,
       "version_minor": 0
      },
      "text/plain": [
       "rsutcs_Amon_NorESM2-LM_piClim-aer_r1i...:   0%|          |0.00/4.33M [?B/s]"
      ]
     },
     "metadata": {},
     "output_type": "display_data"
    },
    {
     "data": {
      "application/vnd.jupyter.widget-view+json": {
       "model_id": "99cc88c3c92846e8b431e9edbb9c9365",
       "version_major": 2,
       "version_minor": 0
      },
      "text/plain": [
       "rsdscs_Amon_NorESM2-LM_piClim-control...:   0%|          |0.00/4.05M [?B/s]"
      ]
     },
     "metadata": {},
     "output_type": "display_data"
    },
    {
     "data": {
      "application/vnd.jupyter.widget-view+json": {
       "model_id": "6f2b373887964860821e20587e5e104e",
       "version_major": 2,
       "version_minor": 0
      },
      "text/plain": [
       "rsut_Amon_NorESM2-LM_piClim-control_r...:   0%|          |0.00/4.72M [?B/s]"
      ]
     },
     "metadata": {},
     "output_type": "display_data"
    },
    {
     "data": {
      "application/vnd.jupyter.widget-view+json": {
       "model_id": "a3f5a259f3a24ef7b39872de9d333766",
       "version_major": 2,
       "version_minor": 0
      },
      "text/plain": [
       "rsds_Amon_NorESM2-LM_piClim-aer_r1i1p...:   0%|          |0.00/4.73M [?B/s]"
      ]
     },
     "metadata": {},
     "output_type": "display_data"
    },
    {
     "data": {
      "application/vnd.jupyter.widget-view+json": {
       "model_id": "1f401d0953af40e99cb9279599c222cb",
       "version_major": 2,
       "version_minor": 0
      },
      "text/plain": [
       "rsdscs_Amon_NorESM2-LM_piClim-control...:   0%|          |0.00/4.05M [?B/s]"
      ]
     },
     "metadata": {},
     "output_type": "display_data"
    },
    {
     "data": {
      "application/vnd.jupyter.widget-view+json": {
       "model_id": "f1dd5f8661ea48bcba6970d0870271aa",
       "version_major": 2,
       "version_minor": 0
      },
      "text/plain": [
       "rsus_Amon_NorESM2-LM_piClim-control_r...:   0%|          |0.00/4.58M [?B/s]"
      ]
     },
     "metadata": {},
     "output_type": "display_data"
    },
    {
     "data": {
      "application/vnd.jupyter.widget-view+json": {
       "model_id": "48bcfbb13d274118adfe88abd78007eb",
       "version_major": 2,
       "version_minor": 0
      },
      "text/plain": [
       "rsut_Amon_NorESM2-LM_piClim-control_r...:   0%|          |0.00/4.72M [?B/s]"
      ]
     },
     "metadata": {},
     "output_type": "display_data"
    },
    {
     "data": {
      "application/vnd.jupyter.widget-view+json": {
       "model_id": "d2432d45a1a54efc871b4fd6bfee06fc",
       "version_major": 2,
       "version_minor": 0
      },
      "text/plain": [
       "rsdscs_Amon_NorESM2-LM_piClim-aer_r1i...:   0%|          |0.00/4.07M [?B/s]"
      ]
     },
     "metadata": {},
     "output_type": "display_data"
    },
    {
     "data": {
      "application/vnd.jupyter.widget-view+json": {
       "model_id": "2038a14fc9074b519e51ebdd95892962",
       "version_major": 2,
       "version_minor": 0
      },
      "text/plain": [
       "rsds_Amon_NorESM2-LM_piClim-aer_r1i1p...:   0%|          |0.00/4.73M [?B/s]"
      ]
     },
     "metadata": {},
     "output_type": "display_data"
    },
    {
     "data": {
      "application/vnd.jupyter.widget-view+json": {
       "model_id": "4d8253128a0f4d98831fda8eb3c24a2e",
       "version_major": 2,
       "version_minor": 0
      },
      "text/plain": [
       "rsus_Amon_NorESM2-LM_piClim-aer_r1i1p...:   0%|          |0.00/4.59M [?B/s]"
      ]
     },
     "metadata": {},
     "output_type": "display_data"
    },
    {
     "name": "stdout",
     "output_type": "stream",
     "text": [
      "\n",
      "Downloading GISS-E2-1-G.r1i1p1f1.gn ...\n",
      "\n"
     ]
    },
    {
     "data": {
      "application/vnd.jupyter.widget-view+json": {
       "model_id": "94f4e054ccb34d208c71892c1241e1b3",
       "version_major": 2,
       "version_minor": 0
      },
      "text/plain": [
       "   Searching indices:   0%|          |0/9 [       ?index/s]"
      ]
     },
     "metadata": {},
     "output_type": "display_data"
    },
    {
     "name": "stderr",
     "output_type": "stream",
     "text": [
      "/home/jovyan/my-conda-envs/cmip6-download/lib/python3.13/site-packages/intake_esgf/catalog.py:450: UserWarning: SolrESGFIndex('esgf-node.ipsl.upmc.fr') failed to return a response, info may be incomplete\n",
      "  warnings.warn(\n",
      "/home/jovyan/my-conda-envs/cmip6-download/lib/python3.13/site-packages/intake_esgf/catalog.py:450: UserWarning: SolrESGFIndex('esgf.ceda.ac.uk') failed to return a response, info may be incomplete\n",
      "  warnings.warn(\n",
      "/home/jovyan/my-conda-envs/cmip6-download/lib/python3.13/site-packages/intake_esgf/catalog.py:450: UserWarning: SolrESGFIndex('esgf-data.dkrz.de') failed to return a response, info may be incomplete\n",
      "  warnings.warn(\n",
      "/home/jovyan/my-conda-envs/cmip6-download/lib/python3.13/site-packages/intake_esgf/catalog.py:450: UserWarning: SolrESGFIndex('esg-dn1.nsc.liu.se') failed to return a response, info may be incomplete\n",
      "  warnings.warn(\n",
      "/home/jovyan/my-conda-envs/cmip6-download/lib/python3.13/site-packages/intake_esgf/catalog.py:450: UserWarning: SolrESGFIndex('esgf-node.ornl.gov') failed to return a response, info may be incomplete\n",
      "  warnings.warn(\n",
      "/home/jovyan/my-conda-envs/cmip6-download/lib/python3.13/site-packages/intake_esgf/catalog.py:450: UserWarning: SolrESGFIndex('esgf-node.llnl.gov') failed to return a response, info may be incomplete\n",
      "  warnings.warn(\n",
      "/home/jovyan/my-conda-envs/cmip6-download/lib/python3.13/site-packages/intake_esgf/catalog.py:450: UserWarning: SolrESGFIndex('esgf.nci.org.au') failed to return a response, info may be incomplete\n",
      "  warnings.warn(\n"
     ]
    },
    {
     "data": {
      "application/vnd.jupyter.widget-view+json": {
       "model_id": "39cd8d34d1d44b1e812b5bb07de1a555",
       "version_major": 2,
       "version_minor": 0
      },
      "text/plain": [
       "rsus_Amon_GISS-E2-1-G_piClim-control_...:   0%|          |0.00/19.3M [?B/s]"
      ]
     },
     "metadata": {},
     "output_type": "display_data"
    },
    {
     "data": {
      "application/vnd.jupyter.widget-view+json": {
       "model_id": "db39b021581c4c4bb108a8eea9332ee2",
       "version_major": 2,
       "version_minor": 0
      },
      "text/plain": [
       "rsdscs_Amon_GISS-E2-1-G_piClim-aer_r1...:   0%|          |0.00/19.3M [?B/s]"
      ]
     },
     "metadata": {},
     "output_type": "display_data"
    },
    {
     "data": {
      "application/vnd.jupyter.widget-view+json": {
       "model_id": "a1cbf45261bd432198bbee0117bf3de0",
       "version_major": 2,
       "version_minor": 0
      },
      "text/plain": [
       "clt_Amon_GISS-E2-1-G_piClim-aer_r1i1p...:   0%|          |0.00/19.3M [?B/s]"
      ]
     },
     "metadata": {},
     "output_type": "display_data"
    },
    {
     "data": {
      "application/vnd.jupyter.widget-view+json": {
       "model_id": "74195dfb749a4fa080d17274308668cf",
       "version_major": 2,
       "version_minor": 0
      },
      "text/plain": [
       "rsdscs_Amon_GISS-E2-1-G_piClim-contro...:   0%|          |0.00/19.3M [?B/s]"
      ]
     },
     "metadata": {},
     "output_type": "display_data"
    },
    {
     "data": {
      "application/vnd.jupyter.widget-view+json": {
       "model_id": "04040509ec3d42a0baa97b7822cd58da",
       "version_major": 2,
       "version_minor": 0
      },
      "text/plain": [
       "rsut_Amon_GISS-E2-1-G_piClim-aer_r1i1...:   0%|          |0.00/19.3M [?B/s]"
      ]
     },
     "metadata": {},
     "output_type": "display_data"
    },
    {
     "data": {
      "application/vnd.jupyter.widget-view+json": {
       "model_id": "c49ca24e5c0445028cd6cd730e9324e8",
       "version_major": 2,
       "version_minor": 0
      },
      "text/plain": [
       "rsutcs_Amon_GISS-E2-1-G_piClim-contro...:   0%|          |0.00/19.3M [?B/s]"
      ]
     },
     "metadata": {},
     "output_type": "display_data"
    },
    {
     "data": {
      "application/vnd.jupyter.widget-view+json": {
       "model_id": "9c30d494cf174f7abc9ca5512ad6cb97",
       "version_major": 2,
       "version_minor": 0
      },
      "text/plain": [
       "rsds_Amon_GISS-E2-1-G_piClim-control_...:   0%|          |0.00/19.3M [?B/s]"
      ]
     },
     "metadata": {},
     "output_type": "display_data"
    },
    {
     "data": {
      "application/vnd.jupyter.widget-view+json": {
       "model_id": "d79fc03bea7741019593942446f2ed51",
       "version_major": 2,
       "version_minor": 0
      },
      "text/plain": [
       "rsuscs_Amon_GISS-E2-1-G_piClim-contro...:   0%|          |0.00/19.3M [?B/s]"
      ]
     },
     "metadata": {},
     "output_type": "display_data"
    },
    {
     "data": {
      "application/vnd.jupyter.widget-view+json": {
       "model_id": "66c63601566c4c8cb0b150b32a3562c6",
       "version_major": 2,
       "version_minor": 0
      },
      "text/plain": [
       "clt_Amon_GISS-E2-1-G_piClim-control_r...:   0%|          |0.00/19.3M [?B/s]"
      ]
     },
     "metadata": {},
     "output_type": "display_data"
    },
    {
     "data": {
      "application/vnd.jupyter.widget-view+json": {
       "model_id": "997d395b37954e79aae5589bfa5036da",
       "version_major": 2,
       "version_minor": 0
      },
      "text/plain": [
       "rsdt_Amon_GISS-E2-1-G_piClim-aer_r1i1...:   0%|          |0.00/19.3M [?B/s]"
      ]
     },
     "metadata": {},
     "output_type": "display_data"
    },
    {
     "data": {
      "application/vnd.jupyter.widget-view+json": {
       "model_id": "9ee7d4e514df4b8b8a413503bfd04583",
       "version_major": 2,
       "version_minor": 0
      },
      "text/plain": [
       "rsus_Amon_GISS-E2-1-G_piClim-aer_r1i1...:   0%|          |0.00/19.3M [?B/s]"
      ]
     },
     "metadata": {},
     "output_type": "display_data"
    },
    {
     "data": {
      "application/vnd.jupyter.widget-view+json": {
       "model_id": "dc949be98c6c4a85afb0017d5cc3c75c",
       "version_major": 2,
       "version_minor": 0
      },
      "text/plain": [
       "rsuscs_Amon_GISS-E2-1-G_piClim-aer_r1...:   0%|          |0.00/19.3M [?B/s]"
      ]
     },
     "metadata": {},
     "output_type": "display_data"
    },
    {
     "data": {
      "application/vnd.jupyter.widget-view+json": {
       "model_id": "ee13835a0e9e4ecbb7da185fe4678760",
       "version_major": 2,
       "version_minor": 0
      },
      "text/plain": [
       "rsdt_Amon_GISS-E2-1-G_piClim-control_...:   0%|          |0.00/19.3M [?B/s]"
      ]
     },
     "metadata": {},
     "output_type": "display_data"
    },
    {
     "data": {
      "application/vnd.jupyter.widget-view+json": {
       "model_id": "0dbd83308a6346d193d25cef1303af2b",
       "version_major": 2,
       "version_minor": 0
      },
      "text/plain": [
       "rsds_Amon_GISS-E2-1-G_piClim-aer_r1i1...:   0%|          |0.00/19.3M [?B/s]"
      ]
     },
     "metadata": {},
     "output_type": "display_data"
    },
    {
     "data": {
      "application/vnd.jupyter.widget-view+json": {
       "model_id": "5d752291916f426d82c2237a1989de30",
       "version_major": 2,
       "version_minor": 0
      },
      "text/plain": [
       "rsutcs_Amon_GISS-E2-1-G_piClim-aer_r1...:   0%|          |0.00/19.3M [?B/s]"
      ]
     },
     "metadata": {},
     "output_type": "display_data"
    },
    {
     "data": {
      "application/vnd.jupyter.widget-view+json": {
       "model_id": "8e0d2f3b32814563b54843bbe1ad203a",
       "version_major": 2,
       "version_minor": 0
      },
      "text/plain": [
       "rsut_Amon_GISS-E2-1-G_piClim-control_...:   0%|          |0.00/19.3M [?B/s]"
      ]
     },
     "metadata": {},
     "output_type": "display_data"
    },
    {
     "name": "stdout",
     "output_type": "stream",
     "text": [
      "\n",
      "Downloading GISS-E2-1-G.r1i1p1f2.gn ...\n",
      "\n"
     ]
    },
    {
     "data": {
      "application/vnd.jupyter.widget-view+json": {
       "model_id": "0509b534c1f14fdd8270aac27b438ed1",
       "version_major": 2,
       "version_minor": 0
      },
      "text/plain": [
       "   Searching indices:   0%|          |0/9 [       ?index/s]"
      ]
     },
     "metadata": {},
     "output_type": "display_data"
    },
    {
     "name": "stderr",
     "output_type": "stream",
     "text": [
      "/home/jovyan/my-conda-envs/cmip6-download/lib/python3.13/site-packages/intake_esgf/catalog.py:450: UserWarning: SolrESGFIndex('esgf.ceda.ac.uk') failed to return a response, info may be incomplete\n",
      "  warnings.warn(\n",
      "/home/jovyan/my-conda-envs/cmip6-download/lib/python3.13/site-packages/intake_esgf/catalog.py:450: UserWarning: SolrESGFIndex('esgf-node.ipsl.upmc.fr') failed to return a response, info may be incomplete\n",
      "  warnings.warn(\n",
      "/home/jovyan/my-conda-envs/cmip6-download/lib/python3.13/site-packages/intake_esgf/catalog.py:450: UserWarning: SolrESGFIndex('esgf-data.dkrz.de') failed to return a response, info may be incomplete\n",
      "  warnings.warn(\n",
      "/home/jovyan/my-conda-envs/cmip6-download/lib/python3.13/site-packages/intake_esgf/catalog.py:450: UserWarning: SolrESGFIndex('esg-dn1.nsc.liu.se') failed to return a response, info may be incomplete\n",
      "  warnings.warn(\n",
      "/home/jovyan/my-conda-envs/cmip6-download/lib/python3.13/site-packages/intake_esgf/catalog.py:450: UserWarning: SolrESGFIndex('esgf-node.ornl.gov') failed to return a response, info may be incomplete\n",
      "  warnings.warn(\n",
      "/home/jovyan/my-conda-envs/cmip6-download/lib/python3.13/site-packages/intake_esgf/catalog.py:450: UserWarning: SolrESGFIndex('esgf-node.llnl.gov') failed to return a response, info may be incomplete\n",
      "  warnings.warn(\n",
      "/home/jovyan/my-conda-envs/cmip6-download/lib/python3.13/site-packages/intake_esgf/catalog.py:450: UserWarning: SolrESGFIndex('esgf.nci.org.au') failed to return a response, info may be incomplete\n",
      "  warnings.warn(\n"
     ]
    },
    {
     "data": {
      "application/vnd.jupyter.widget-view+json": {
       "model_id": "c0658985c9fb4f1396379dab2e204120",
       "version_major": 2,
       "version_minor": 0
      },
      "text/plain": [
       "rsds_Amon_GISS-E2-1-G_piClim-aer_r1i1...:   0%|          |0.00/19.3M [?B/s]"
      ]
     },
     "metadata": {},
     "output_type": "display_data"
    },
    {
     "data": {
      "application/vnd.jupyter.widget-view+json": {
       "model_id": "d66e3386ce1543da93d8be1177b236ce",
       "version_major": 2,
       "version_minor": 0
      },
      "text/plain": [
       "rsuscs_Amon_GISS-E2-1-G_piClim-contro...:   0%|          |0.00/19.3M [?B/s]"
      ]
     },
     "metadata": {},
     "output_type": "display_data"
    },
    {
     "data": {
      "application/vnd.jupyter.widget-view+json": {
       "model_id": "26155c49438f4c038bf2e6bad619ce3f",
       "version_major": 2,
       "version_minor": 0
      },
      "text/plain": [
       "rsds_Amon_GISS-E2-1-G_piClim-control_...:   0%|          |0.00/19.3M [?B/s]"
      ]
     },
     "metadata": {},
     "output_type": "display_data"
    },
    {
     "data": {
      "application/vnd.jupyter.widget-view+json": {
       "model_id": "c8621166a777402ea4bbad4f6acde523",
       "version_major": 2,
       "version_minor": 0
      },
      "text/plain": [
       "rsuscs_Amon_GISS-E2-1-G_piClim-aer_r1...:   0%|          |0.00/19.3M [?B/s]"
      ]
     },
     "metadata": {},
     "output_type": "display_data"
    },
    {
     "data": {
      "application/vnd.jupyter.widget-view+json": {
       "model_id": "12e40ab191ef419d9c80e99ec8b3a940",
       "version_major": 2,
       "version_minor": 0
      },
      "text/plain": [
       "rsus_Amon_GISS-E2-1-G_piClim-control_...:   0%|          |0.00/19.3M [?B/s]"
      ]
     },
     "metadata": {},
     "output_type": "display_data"
    },
    {
     "data": {
      "application/vnd.jupyter.widget-view+json": {
       "model_id": "c588833a708b4392bd1684f4dacdcac0",
       "version_major": 2,
       "version_minor": 0
      },
      "text/plain": [
       "rsutcs_Amon_GISS-E2-1-G_piClim-contro...:   0%|          |0.00/19.3M [?B/s]"
      ]
     },
     "metadata": {},
     "output_type": "display_data"
    },
    {
     "data": {
      "application/vnd.jupyter.widget-view+json": {
       "model_id": "372287ecefc54d20b306b8bba832d1ee",
       "version_major": 2,
       "version_minor": 0
      },
      "text/plain": [
       "rsutcs_Amon_GISS-E2-1-G_piClim-aer_r1...:   0%|          |0.00/19.3M [?B/s]"
      ]
     },
     "metadata": {},
     "output_type": "display_data"
    },
    {
     "data": {
      "application/vnd.jupyter.widget-view+json": {
       "model_id": "7c7432728118406bbccc395c07f34d9a",
       "version_major": 2,
       "version_minor": 0
      },
      "text/plain": [
       "rsut_Amon_GISS-E2-1-G_piClim-aer_r1i1...:   0%|          |0.00/19.3M [?B/s]"
      ]
     },
     "metadata": {},
     "output_type": "display_data"
    },
    {
     "data": {
      "application/vnd.jupyter.widget-view+json": {
       "model_id": "3a96febd17974d2eb9c64199420dd3b4",
       "version_major": 2,
       "version_minor": 0
      },
      "text/plain": [
       "clt_Amon_GISS-E2-1-G_piClim-control_r...:   0%|          |0.00/19.3M [?B/s]"
      ]
     },
     "metadata": {},
     "output_type": "display_data"
    },
    {
     "data": {
      "application/vnd.jupyter.widget-view+json": {
       "model_id": "2dc8bb46731a4eaaa4e7b7587c83442b",
       "version_major": 2,
       "version_minor": 0
      },
      "text/plain": [
       "rsdt_Amon_GISS-E2-1-G_piClim-aer_r1i1...:   0%|          |0.00/19.3M [?B/s]"
      ]
     },
     "metadata": {},
     "output_type": "display_data"
    },
    {
     "data": {
      "application/vnd.jupyter.widget-view+json": {
       "model_id": "a21d0de49eb340baa9070d1346abcac1",
       "version_major": 2,
       "version_minor": 0
      },
      "text/plain": [
       "rsus_Amon_GISS-E2-1-G_piClim-aer_r1i1...:   0%|          |0.00/19.3M [?B/s]"
      ]
     },
     "metadata": {},
     "output_type": "display_data"
    },
    {
     "data": {
      "application/vnd.jupyter.widget-view+json": {
       "model_id": "54175b9a97f844b1a11c70c2843b831d",
       "version_major": 2,
       "version_minor": 0
      },
      "text/plain": [
       "clt_Amon_GISS-E2-1-G_piClim-aer_r1i1p...:   0%|          |0.00/19.3M [?B/s]"
      ]
     },
     "metadata": {},
     "output_type": "display_data"
    },
    {
     "data": {
      "application/vnd.jupyter.widget-view+json": {
       "model_id": "548caf7bb89f46ff9ca8aa6a06e4762e",
       "version_major": 2,
       "version_minor": 0
      },
      "text/plain": [
       "rsdt_Amon_GISS-E2-1-G_piClim-control_...:   0%|          |0.00/19.3M [?B/s]"
      ]
     },
     "metadata": {},
     "output_type": "display_data"
    },
    {
     "data": {
      "application/vnd.jupyter.widget-view+json": {
       "model_id": "598301494f0348478b84b2f1049177f3",
       "version_major": 2,
       "version_minor": 0
      },
      "text/plain": [
       "rsdscs_Amon_GISS-E2-1-G_piClim-aer_r1...:   0%|          |0.00/19.3M [?B/s]"
      ]
     },
     "metadata": {},
     "output_type": "display_data"
    },
    {
     "data": {
      "application/vnd.jupyter.widget-view+json": {
       "model_id": "796c55b9d3a54ac18d23e30ab9f9d07e",
       "version_major": 2,
       "version_minor": 0
      },
      "text/plain": [
       "rsdscs_Amon_GISS-E2-1-G_piClim-contro...:   0%|          |0.00/19.3M [?B/s]"
      ]
     },
     "metadata": {},
     "output_type": "display_data"
    },
    {
     "data": {
      "application/vnd.jupyter.widget-view+json": {
       "model_id": "93c580132baf4543bbf05921425538e5",
       "version_major": 2,
       "version_minor": 0
      },
      "text/plain": [
       "rsut_Amon_GISS-E2-1-G_piClim-control_...:   0%|          |0.00/19.3M [?B/s]"
      ]
     },
     "metadata": {},
     "output_type": "display_data"
    },
    {
     "name": "stdout",
     "output_type": "stream",
     "text": [
      "\n",
      "Downloading GISS-E2-1-G.r1i1p3f1.gn ...\n",
      "\n"
     ]
    },
    {
     "data": {
      "application/vnd.jupyter.widget-view+json": {
       "model_id": "2a3a62eb5aa4488eaaa6043844460fa3",
       "version_major": 2,
       "version_minor": 0
      },
      "text/plain": [
       "   Searching indices:   0%|          |0/9 [       ?index/s]"
      ]
     },
     "metadata": {},
     "output_type": "display_data"
    },
    {
     "name": "stderr",
     "output_type": "stream",
     "text": [
      "/home/jovyan/my-conda-envs/cmip6-download/lib/python3.13/site-packages/intake_esgf/catalog.py:450: UserWarning: SolrESGFIndex('esgf-node.ipsl.upmc.fr') failed to return a response, info may be incomplete\n",
      "  warnings.warn(\n",
      "/home/jovyan/my-conda-envs/cmip6-download/lib/python3.13/site-packages/intake_esgf/catalog.py:450: UserWarning: SolrESGFIndex('esgf.ceda.ac.uk') failed to return a response, info may be incomplete\n",
      "  warnings.warn(\n",
      "/home/jovyan/my-conda-envs/cmip6-download/lib/python3.13/site-packages/intake_esgf/catalog.py:450: UserWarning: SolrESGFIndex('esgf-data.dkrz.de') failed to return a response, info may be incomplete\n",
      "  warnings.warn(\n",
      "/home/jovyan/my-conda-envs/cmip6-download/lib/python3.13/site-packages/intake_esgf/catalog.py:450: UserWarning: SolrESGFIndex('esg-dn1.nsc.liu.se') failed to return a response, info may be incomplete\n",
      "  warnings.warn(\n",
      "/home/jovyan/my-conda-envs/cmip6-download/lib/python3.13/site-packages/intake_esgf/catalog.py:450: UserWarning: SolrESGFIndex('esgf-node.ornl.gov') failed to return a response, info may be incomplete\n",
      "  warnings.warn(\n",
      "/home/jovyan/my-conda-envs/cmip6-download/lib/python3.13/site-packages/intake_esgf/catalog.py:450: UserWarning: SolrESGFIndex('esgf-node.llnl.gov') failed to return a response, info may be incomplete\n",
      "  warnings.warn(\n",
      "/home/jovyan/my-conda-envs/cmip6-download/lib/python3.13/site-packages/intake_esgf/catalog.py:450: UserWarning: SolrESGFIndex('esgf.nci.org.au') failed to return a response, info may be incomplete\n",
      "  warnings.warn(\n"
     ]
    },
    {
     "data": {
      "application/vnd.jupyter.widget-view+json": {
       "model_id": "3109c2ff492e4ea59c45755fb616a3f2",
       "version_major": 2,
       "version_minor": 0
      },
      "text/plain": [
       "rsus_Amon_GISS-E2-1-G_piClim-aer_r1i1...:   0%|          |0.00/25.5M [?B/s]"
      ]
     },
     "metadata": {},
     "output_type": "display_data"
    },
    {
     "data": {
      "application/vnd.jupyter.widget-view+json": {
       "model_id": "5ae2d03e2af34dadb8da3198abad23f2",
       "version_major": 2,
       "version_minor": 0
      },
      "text/plain": [
       "rsutcs_Amon_GISS-E2-1-G_piClim-contro...:   0%|          |0.00/25.5M [?B/s]"
      ]
     },
     "metadata": {},
     "output_type": "display_data"
    },
    {
     "data": {
      "application/vnd.jupyter.widget-view+json": {
       "model_id": "4b6252c2da0147b1b936053e83de7bfe",
       "version_major": 2,
       "version_minor": 0
      },
      "text/plain": [
       "rsut_Amon_GISS-E2-1-G_piClim-control_...:   0%|          |0.00/25.5M [?B/s]"
      ]
     },
     "metadata": {},
     "output_type": "display_data"
    },
    {
     "data": {
      "application/vnd.jupyter.widget-view+json": {
       "model_id": "a68c3a7aa7f64cc197ce770da3bd13fb",
       "version_major": 2,
       "version_minor": 0
      },
      "text/plain": [
       "rsuscs_Amon_GISS-E2-1-G_piClim-aer_r1...:   0%|          |0.00/25.5M [?B/s]"
      ]
     },
     "metadata": {},
     "output_type": "display_data"
    },
    {
     "data": {
      "application/vnd.jupyter.widget-view+json": {
       "model_id": "fbb7288bf29941dfaf21c0d4102a2a14",
       "version_major": 2,
       "version_minor": 0
      },
      "text/plain": [
       "rsuscs_Amon_GISS-E2-1-G_piClim-contro...:   0%|          |0.00/25.5M [?B/s]"
      ]
     },
     "metadata": {},
     "output_type": "display_data"
    },
    {
     "data": {
      "application/vnd.jupyter.widget-view+json": {
       "model_id": "56dcde19cb024fcebba7eda6b37c7a14",
       "version_major": 2,
       "version_minor": 0
      },
      "text/plain": [
       "rsus_Amon_GISS-E2-1-G_piClim-control_...:   0%|          |0.00/25.5M [?B/s]"
      ]
     },
     "metadata": {},
     "output_type": "display_data"
    },
    {
     "data": {
      "application/vnd.jupyter.widget-view+json": {
       "model_id": "55aee1c89ca845dda08f8fb1723bf318",
       "version_major": 2,
       "version_minor": 0
      },
      "text/plain": [
       "clt_Amon_GISS-E2-1-G_piClim-aer_r1i1p...:   0%|          |0.00/25.5M [?B/s]"
      ]
     },
     "metadata": {},
     "output_type": "display_data"
    },
    {
     "data": {
      "application/vnd.jupyter.widget-view+json": {
       "model_id": "7b5359fbc35547b8afbef52685f5d27a",
       "version_major": 2,
       "version_minor": 0
      },
      "text/plain": [
       "rsutcs_Amon_GISS-E2-1-G_piClim-aer_r1...:   0%|          |0.00/25.5M [?B/s]"
      ]
     },
     "metadata": {},
     "output_type": "display_data"
    },
    {
     "data": {
      "application/vnd.jupyter.widget-view+json": {
       "model_id": "8b59f8f75fb74610be3130cd7699a34c",
       "version_major": 2,
       "version_minor": 0
      },
      "text/plain": [
       "rsdt_Amon_GISS-E2-1-G_piClim-aer_r1i1...:   0%|          |0.00/25.5M [?B/s]"
      ]
     },
     "metadata": {},
     "output_type": "display_data"
    },
    {
     "data": {
      "application/vnd.jupyter.widget-view+json": {
       "model_id": "dafcb8fb8ef64516aef88f0d363c428a",
       "version_major": 2,
       "version_minor": 0
      },
      "text/plain": [
       "rsdscs_Amon_GISS-E2-1-G_piClim-contro...:   0%|          |0.00/25.5M [?B/s]"
      ]
     },
     "metadata": {},
     "output_type": "display_data"
    },
    {
     "data": {
      "application/vnd.jupyter.widget-view+json": {
       "model_id": "4941bc9dfe9c4309beb593907ef7f4a4",
       "version_major": 2,
       "version_minor": 0
      },
      "text/plain": [
       "rsdscs_Amon_GISS-E2-1-G_piClim-aer_r1...:   0%|          |0.00/25.5M [?B/s]"
      ]
     },
     "metadata": {},
     "output_type": "display_data"
    },
    {
     "data": {
      "application/vnd.jupyter.widget-view+json": {
       "model_id": "c7a5c656bbde4aa885e8b5dc003656c9",
       "version_major": 2,
       "version_minor": 0
      },
      "text/plain": [
       "rsds_Amon_GISS-E2-1-G_piClim-control_...:   0%|          |0.00/25.5M [?B/s]"
      ]
     },
     "metadata": {},
     "output_type": "display_data"
    },
    {
     "data": {
      "application/vnd.jupyter.widget-view+json": {
       "model_id": "4cd24c463a5744099d134b0961281e58",
       "version_major": 2,
       "version_minor": 0
      },
      "text/plain": [
       "rsut_Amon_GISS-E2-1-G_piClim-aer_r1i1...:   0%|          |0.00/25.5M [?B/s]"
      ]
     },
     "metadata": {},
     "output_type": "display_data"
    },
    {
     "data": {
      "application/vnd.jupyter.widget-view+json": {
       "model_id": "a5227488ec0d4f008bfedbc20879ce01",
       "version_major": 2,
       "version_minor": 0
      },
      "text/plain": [
       "clt_Amon_GISS-E2-1-G_piClim-control_r...:   0%|          |0.00/25.5M [?B/s]"
      ]
     },
     "metadata": {},
     "output_type": "display_data"
    },
    {
     "data": {
      "application/vnd.jupyter.widget-view+json": {
       "model_id": "d4182252911349d5a3b1bd985aaee203",
       "version_major": 2,
       "version_minor": 0
      },
      "text/plain": [
       "rsdt_Amon_GISS-E2-1-G_piClim-control_...:   0%|          |0.00/25.5M [?B/s]"
      ]
     },
     "metadata": {},
     "output_type": "display_data"
    },
    {
     "data": {
      "application/vnd.jupyter.widget-view+json": {
       "model_id": "6dc32a5460334f8e9bc1ca3f02f903fa",
       "version_major": 2,
       "version_minor": 0
      },
      "text/plain": [
       "rsds_Amon_GISS-E2-1-G_piClim-aer_r1i1...:   0%|          |0.00/25.5M [?B/s]"
      ]
     },
     "metadata": {},
     "output_type": "display_data"
    },
    {
     "name": "stdout",
     "output_type": "stream",
     "text": [
      "\n",
      "Downloading CanESM5.r1i1p2f1.gn ...\n",
      "\n"
     ]
    },
    {
     "data": {
      "application/vnd.jupyter.widget-view+json": {
       "model_id": "c364a60bec31461dacdca03ed95d0ebe",
       "version_major": 2,
       "version_minor": 0
      },
      "text/plain": [
       "   Searching indices:   0%|          |0/9 [       ?index/s]"
      ]
     },
     "metadata": {},
     "output_type": "display_data"
    },
    {
     "name": "stderr",
     "output_type": "stream",
     "text": [
      "/home/jovyan/my-conda-envs/cmip6-download/lib/python3.13/site-packages/intake_esgf/catalog.py:450: UserWarning: SolrESGFIndex('esgf.ceda.ac.uk') failed to return a response, info may be incomplete\n",
      "  warnings.warn(\n",
      "/home/jovyan/my-conda-envs/cmip6-download/lib/python3.13/site-packages/intake_esgf/catalog.py:450: UserWarning: SolrESGFIndex('esgf-node.ipsl.upmc.fr') failed to return a response, info may be incomplete\n",
      "  warnings.warn(\n",
      "/home/jovyan/my-conda-envs/cmip6-download/lib/python3.13/site-packages/intake_esgf/catalog.py:450: UserWarning: SolrESGFIndex('esgf-data.dkrz.de') failed to return a response, info may be incomplete\n",
      "  warnings.warn(\n",
      "/home/jovyan/my-conda-envs/cmip6-download/lib/python3.13/site-packages/intake_esgf/catalog.py:450: UserWarning: SolrESGFIndex('esg-dn1.nsc.liu.se') failed to return a response, info may be incomplete\n",
      "  warnings.warn(\n",
      "/home/jovyan/my-conda-envs/cmip6-download/lib/python3.13/site-packages/intake_esgf/catalog.py:450: UserWarning: SolrESGFIndex('esgf-node.ornl.gov') failed to return a response, info may be incomplete\n",
      "  warnings.warn(\n",
      "/home/jovyan/my-conda-envs/cmip6-download/lib/python3.13/site-packages/intake_esgf/catalog.py:450: UserWarning: SolrESGFIndex('esgf-node.llnl.gov') failed to return a response, info may be incomplete\n",
      "  warnings.warn(\n",
      "/home/jovyan/my-conda-envs/cmip6-download/lib/python3.13/site-packages/intake_esgf/catalog.py:450: UserWarning: SolrESGFIndex('esgf.nci.org.au') failed to return a response, info may be incomplete\n",
      "  warnings.warn(\n"
     ]
    },
    {
     "data": {
      "application/vnd.jupyter.widget-view+json": {
       "model_id": "fac05726eac7461199c1cdde3b93f910",
       "version_major": 2,
       "version_minor": 0
      },
      "text/plain": [
       "rsdscs_Amon_CanESM5_piClim-control_r1...:   0%|          |0.00/16.1M [?B/s]"
      ]
     },
     "metadata": {},
     "output_type": "display_data"
    },
    {
     "data": {
      "application/vnd.jupyter.widget-view+json": {
       "model_id": "915a099a15964d4ab57f8d40c713b1c5",
       "version_major": 2,
       "version_minor": 0
      },
      "text/plain": [
       "rsus_Amon_CanESM5_piClim-control_r1i1...:   0%|          |0.00/16.8M [?B/s]"
      ]
     },
     "metadata": {},
     "output_type": "display_data"
    },
    {
     "data": {
      "application/vnd.jupyter.widget-view+json": {
       "model_id": "6cca53f8c1dc45f29d11c4069918ea81",
       "version_major": 2,
       "version_minor": 0
      },
      "text/plain": [
       "rsuscs_Amon_CanESM5_piClim-control_r1...:   0%|          |0.00/16.5M [?B/s]"
      ]
     },
     "metadata": {},
     "output_type": "display_data"
    },
    {
     "data": {
      "application/vnd.jupyter.widget-view+json": {
       "model_id": "e9579062544a468293ce543c65a86f23",
       "version_major": 2,
       "version_minor": 0
      },
      "text/plain": [
       "rsdt_Amon_CanESM5_piClim-aer_r1i1p2f1...:   0%|          |0.00/14.5M [?B/s]"
      ]
     },
     "metadata": {},
     "output_type": "display_data"
    },
    {
     "data": {
      "application/vnd.jupyter.widget-view+json": {
       "model_id": "7b337c2534ad45ff9107937fea9f4590",
       "version_major": 2,
       "version_minor": 0
      },
      "text/plain": [
       "rsutcs_Amon_CanESM5_piClim-aer_r1i1p2...:   0%|          |0.00/16.4M [?B/s]"
      ]
     },
     "metadata": {},
     "output_type": "display_data"
    },
    {
     "data": {
      "application/vnd.jupyter.widget-view+json": {
       "model_id": "db8125548ef548928960ce35fbac6d0c",
       "version_major": 2,
       "version_minor": 0
      },
      "text/plain": [
       "rsds_Amon_CanESM5_piClim-control_r1i1...:   0%|          |0.00/16.5M [?B/s]"
      ]
     },
     "metadata": {},
     "output_type": "display_data"
    },
    {
     "data": {
      "application/vnd.jupyter.widget-view+json": {
       "model_id": "e0fe46eadff843ebadf12c9ae8e8d1b5",
       "version_major": 2,
       "version_minor": 0
      },
      "text/plain": [
       "rsdscs_Amon_CanESM5_piClim-aer_r1i1p2...:   0%|          |0.00/16.1M [?B/s]"
      ]
     },
     "metadata": {},
     "output_type": "display_data"
    },
    {
     "data": {
      "application/vnd.jupyter.widget-view+json": {
       "model_id": "ef6e375a152b41f5b2c2489ea33d84f7",
       "version_major": 2,
       "version_minor": 0
      },
      "text/plain": [
       "clt_Amon_CanESM5_piClim-aer_r1i1p2f1_...:   0%|          |0.00/16.6M [?B/s]"
      ]
     },
     "metadata": {},
     "output_type": "display_data"
    },
    {
     "data": {
      "application/vnd.jupyter.widget-view+json": {
       "model_id": "b1ebcda34ad9418385991ecb92db659b",
       "version_major": 2,
       "version_minor": 0
      },
      "text/plain": [
       "clt_Amon_CanESM5_piClim-control_r1i1p...:   0%|          |0.00/16.6M [?B/s]"
      ]
     },
     "metadata": {},
     "output_type": "display_data"
    },
    {
     "data": {
      "application/vnd.jupyter.widget-view+json": {
       "model_id": "47395d86c56845299f73944e9b377a74",
       "version_major": 2,
       "version_minor": 0
      },
      "text/plain": [
       "rsuscs_Amon_CanESM5_piClim-aer_r1i1p2...:   0%|          |0.00/16.5M [?B/s]"
      ]
     },
     "metadata": {},
     "output_type": "display_data"
    },
    {
     "data": {
      "application/vnd.jupyter.widget-view+json": {
       "model_id": "ac89f58b87094c5797d4711cee3827af",
       "version_major": 2,
       "version_minor": 0
      },
      "text/plain": [
       "rsut_Amon_CanESM5_piClim-control_r1i1...:   0%|          |0.00/16.5M [?B/s]"
      ]
     },
     "metadata": {},
     "output_type": "display_data"
    },
    {
     "data": {
      "application/vnd.jupyter.widget-view+json": {
       "model_id": "bd168f69bf6d42fc82beadb57bdef830",
       "version_major": 2,
       "version_minor": 0
      },
      "text/plain": [
       "rsds_Amon_CanESM5_piClim-aer_r1i1p2f1...:   0%|          |0.00/16.5M [?B/s]"
      ]
     },
     "metadata": {},
     "output_type": "display_data"
    },
    {
     "data": {
      "application/vnd.jupyter.widget-view+json": {
       "model_id": "0cb7da4f467c408e8a9c8435d58f2c08",
       "version_major": 2,
       "version_minor": 0
      },
      "text/plain": [
       "rsutcs_Amon_CanESM5_piClim-control_r1...:   0%|          |0.00/16.4M [?B/s]"
      ]
     },
     "metadata": {},
     "output_type": "display_data"
    },
    {
     "data": {
      "application/vnd.jupyter.widget-view+json": {
       "model_id": "fe855cf90419444cac875d6f8a64f025",
       "version_major": 2,
       "version_minor": 0
      },
      "text/plain": [
       "rsdt_Amon_CanESM5_piClim-control_r1i1...:   0%|          |0.00/14.5M [?B/s]"
      ]
     },
     "metadata": {},
     "output_type": "display_data"
    },
    {
     "data": {
      "application/vnd.jupyter.widget-view+json": {
       "model_id": "9c195e168890444e9abac5ef701b926a",
       "version_major": 2,
       "version_minor": 0
      },
      "text/plain": [
       "rsus_Amon_CanESM5_piClim-aer_r1i1p2f1...:   0%|          |0.00/16.8M [?B/s]"
      ]
     },
     "metadata": {},
     "output_type": "display_data"
    },
    {
     "data": {
      "application/vnd.jupyter.widget-view+json": {
       "model_id": "48d201a00ca54192a8370b663efd2290",
       "version_major": 2,
       "version_minor": 0
      },
      "text/plain": [
       "rsut_Amon_CanESM5_piClim-aer_r1i1p2f1...:   0%|          |0.00/16.5M [?B/s]"
      ]
     },
     "metadata": {},
     "output_type": "display_data"
    },
    {
     "name": "stdout",
     "output_type": "stream",
     "text": [
      "\n",
      "Downloading NorESM2-MM.r1i1p1f1.gn ...\n",
      "\n"
     ]
    },
    {
     "data": {
      "application/vnd.jupyter.widget-view+json": {
       "model_id": "ffad1e2ed595431aa5e301d8ea4079bf",
       "version_major": 2,
       "version_minor": 0
      },
      "text/plain": [
       "   Searching indices:   0%|          |0/9 [       ?index/s]"
      ]
     },
     "metadata": {},
     "output_type": "display_data"
    },
    {
     "name": "stderr",
     "output_type": "stream",
     "text": [
      "/home/jovyan/my-conda-envs/cmip6-download/lib/python3.13/site-packages/intake_esgf/catalog.py:450: UserWarning: SolrESGFIndex('esgf-node.ipsl.upmc.fr') failed to return a response, info may be incomplete\n",
      "  warnings.warn(\n",
      "/home/jovyan/my-conda-envs/cmip6-download/lib/python3.13/site-packages/intake_esgf/catalog.py:450: UserWarning: SolrESGFIndex('esgf.ceda.ac.uk') failed to return a response, info may be incomplete\n",
      "  warnings.warn(\n",
      "/home/jovyan/my-conda-envs/cmip6-download/lib/python3.13/site-packages/intake_esgf/catalog.py:450: UserWarning: SolrESGFIndex('esgf-data.dkrz.de') failed to return a response, info may be incomplete\n",
      "  warnings.warn(\n",
      "/home/jovyan/my-conda-envs/cmip6-download/lib/python3.13/site-packages/intake_esgf/catalog.py:450: UserWarning: SolrESGFIndex('esg-dn1.nsc.liu.se') failed to return a response, info may be incomplete\n",
      "  warnings.warn(\n",
      "/home/jovyan/my-conda-envs/cmip6-download/lib/python3.13/site-packages/intake_esgf/catalog.py:450: UserWarning: SolrESGFIndex('esgf-node.ornl.gov') failed to return a response, info may be incomplete\n",
      "  warnings.warn(\n",
      "/home/jovyan/my-conda-envs/cmip6-download/lib/python3.13/site-packages/intake_esgf/catalog.py:450: UserWarning: SolrESGFIndex('esgf-node.llnl.gov') failed to return a response, info may be incomplete\n",
      "  warnings.warn(\n",
      "/home/jovyan/my-conda-envs/cmip6-download/lib/python3.13/site-packages/intake_esgf/catalog.py:450: UserWarning: SolrESGFIndex('esgf.nci.org.au') failed to return a response, info may be incomplete\n",
      "  warnings.warn(\n"
     ]
    },
    {
     "data": {
      "application/vnd.jupyter.widget-view+json": {
       "model_id": "e32de1737c5748e6a6d77df72d52fa1a",
       "version_major": 2,
       "version_minor": 0
      },
      "text/plain": [
       "rsds_Amon_NorESM2-MM_piClim-aer_r1i1p...:   0%|          |0.00/18.0M [?B/s]"
      ]
     },
     "metadata": {},
     "output_type": "display_data"
    },
    {
     "data": {
      "application/vnd.jupyter.widget-view+json": {
       "model_id": "54e7fe6c89f74f2984f42ea4c57df87e",
       "version_major": 2,
       "version_minor": 0
      },
      "text/plain": [
       "rsdscs_Amon_NorESM2-MM_piClim-aer_r1i...:   0%|          |0.00/15.0M [?B/s]"
      ]
     },
     "metadata": {},
     "output_type": "display_data"
    },
    {
     "data": {
      "application/vnd.jupyter.widget-view+json": {
       "model_id": "0bae953ca1e147679834817f45d88c42",
       "version_major": 2,
       "version_minor": 0
      },
      "text/plain": [
       "rsuscs_Amon_NorESM2-MM_piClim-aer_r1i...:   0%|          |0.00/15.4M [?B/s]"
      ]
     },
     "metadata": {},
     "output_type": "display_data"
    },
    {
     "data": {
      "application/vnd.jupyter.widget-view+json": {
       "model_id": "d3aa06734d2b4be2a51a7b383b6151ca",
       "version_major": 2,
       "version_minor": 0
      },
      "text/plain": [
       "rsut_Amon_NorESM2-MM_piClim-aer_r1i1p...:   0%|          |0.00/18.1M [?B/s]"
      ]
     },
     "metadata": {},
     "output_type": "display_data"
    },
    {
     "data": {
      "application/vnd.jupyter.widget-view+json": {
       "model_id": "360bf3991bb54c6ba810707cdbcc67c5",
       "version_major": 2,
       "version_minor": 0
      },
      "text/plain": [
       "clt_Amon_NorESM2-MM_piClim-aer_r1i1p1...:   0%|          |0.00/19.1M [?B/s]"
      ]
     },
     "metadata": {},
     "output_type": "display_data"
    },
    {
     "data": {
      "application/vnd.jupyter.widget-view+json": {
       "model_id": "8e35ae65e65543b499d8fdd4722ebd85",
       "version_major": 2,
       "version_minor": 0
      },
      "text/plain": [
       "rsds_Amon_NorESM2-MM_piClim-control_r...:   0%|          |0.00/18.0M [?B/s]"
      ]
     },
     "metadata": {},
     "output_type": "display_data"
    },
    {
     "data": {
      "application/vnd.jupyter.widget-view+json": {
       "model_id": "2afefd6eee984ad2a0e396805e01f0db",
       "version_major": 2,
       "version_minor": 0
      },
      "text/plain": [
       "rsuscs_Amon_NorESM2-MM_piClim-control...:   0%|          |0.00/15.4M [?B/s]"
      ]
     },
     "metadata": {},
     "output_type": "display_data"
    },
    {
     "data": {
      "application/vnd.jupyter.widget-view+json": {
       "model_id": "60a35bd5860049229498c107ba058b0d",
       "version_major": 2,
       "version_minor": 0
      },
      "text/plain": [
       "rsdt_Amon_NorESM2-MM_piClim-aer_r1i1p...:   0%|          |0.00/12.1M [?B/s]"
      ]
     },
     "metadata": {},
     "output_type": "display_data"
    },
    {
     "data": {
      "application/vnd.jupyter.widget-view+json": {
       "model_id": "ed56ccb4f4d94c829608590dfbab0005",
       "version_major": 2,
       "version_minor": 0
      },
      "text/plain": [
       "rsdscs_Amon_NorESM2-MM_piClim-aer_r1i...:   0%|          |0.00/15.0M [?B/s]"
      ]
     },
     "metadata": {},
     "output_type": "display_data"
    },
    {
     "data": {
      "application/vnd.jupyter.widget-view+json": {
       "model_id": "82fc5cf19c604c63bd9a58c502767e52",
       "version_major": 2,
       "version_minor": 0
      },
      "text/plain": [
       "rsdt_Amon_NorESM2-MM_piClim-aer_r1i1p...:   0%|          |0.00/12.1M [?B/s]"
      ]
     },
     "metadata": {},
     "output_type": "display_data"
    },
    {
     "data": {
      "application/vnd.jupyter.widget-view+json": {
       "model_id": "c9288556206944a38620ee20ddbbe8d7",
       "version_major": 2,
       "version_minor": 0
      },
      "text/plain": [
       "rsus_Amon_NorESM2-MM_piClim-aer_r1i1p...:   0%|          |0.00/17.2M [?B/s]"
      ]
     },
     "metadata": {},
     "output_type": "display_data"
    },
    {
     "data": {
      "application/vnd.jupyter.widget-view+json": {
       "model_id": "32d8430e317040ac8adfc9c19ae0235b",
       "version_major": 2,
       "version_minor": 0
      },
      "text/plain": [
       "clt_Amon_NorESM2-MM_piClim-control_r1...:   0%|          |0.00/19.1M [?B/s]"
      ]
     },
     "metadata": {},
     "output_type": "display_data"
    },
    {
     "data": {
      "application/vnd.jupyter.widget-view+json": {
       "model_id": "1a8b5f72cb6143a886b92a3d56e4852c",
       "version_major": 2,
       "version_minor": 0
      },
      "text/plain": [
       "rsdscs_Amon_NorESM2-MM_piClim-control...:   0%|          |0.00/14.9M [?B/s]"
      ]
     },
     "metadata": {},
     "output_type": "display_data"
    },
    {
     "data": {
      "application/vnd.jupyter.widget-view+json": {
       "model_id": "12ee556c7628473d9fedbf3ddf2eed93",
       "version_major": 2,
       "version_minor": 0
      },
      "text/plain": [
       "rsdt_Amon_NorESM2-MM_piClim-aer_r1i1p...:   0%|          |0.00/12.1M [?B/s]"
      ]
     },
     "metadata": {},
     "output_type": "display_data"
    },
    {
     "data": {
      "application/vnd.jupyter.widget-view+json": {
       "model_id": "d35ce455622442359a2598b7d85ddcdf",
       "version_major": 2,
       "version_minor": 0
      },
      "text/plain": [
       "rsut_Amon_NorESM2-MM_piClim-control_r...:   0%|          |0.00/18.1M [?B/s]"
      ]
     },
     "metadata": {},
     "output_type": "display_data"
    },
    {
     "data": {
      "application/vnd.jupyter.widget-view+json": {
       "model_id": "bf68a4e14faa40eabfeddb334f7f80eb",
       "version_major": 2,
       "version_minor": 0
      },
      "text/plain": [
       "rsuscs_Amon_NorESM2-MM_piClim-aer_r1i...:   0%|          |0.00/15.4M [?B/s]"
      ]
     },
     "metadata": {},
     "output_type": "display_data"
    },
    {
     "data": {
      "application/vnd.jupyter.widget-view+json": {
       "model_id": "b3822c813dd24c2585b83989e94ffa5d",
       "version_major": 2,
       "version_minor": 0
      },
      "text/plain": [
       "rsds_Amon_NorESM2-MM_piClim-control_r...:   0%|          |0.00/18.0M [?B/s]"
      ]
     },
     "metadata": {},
     "output_type": "display_data"
    },
    {
     "data": {
      "application/vnd.jupyter.widget-view+json": {
       "model_id": "b8dc0d497fcc4526804510c47300e71e",
       "version_major": 2,
       "version_minor": 0
      },
      "text/plain": [
       "clt_Amon_NorESM2-MM_piClim-aer_r1i1p1...:   0%|          |0.00/19.1M [?B/s]"
      ]
     },
     "metadata": {},
     "output_type": "display_data"
    },
    {
     "data": {
      "application/vnd.jupyter.widget-view+json": {
       "model_id": "db504677d4de4d68968dd822d37e6ccf",
       "version_major": 2,
       "version_minor": 0
      },
      "text/plain": [
       "rsus_Amon_NorESM2-MM_piClim-aer_r1i1p...:   0%|          |0.00/17.2M [?B/s]"
      ]
     },
     "metadata": {},
     "output_type": "display_data"
    },
    {
     "data": {
      "application/vnd.jupyter.widget-view+json": {
       "model_id": "cf01a7ecaf9d4f43bbcddf9c7d8b5376",
       "version_major": 2,
       "version_minor": 0
      },
      "text/plain": [
       "rsuscs_Amon_NorESM2-MM_piClim-aer_r1i...:   0%|          |0.00/15.4M [?B/s]"
      ]
     },
     "metadata": {},
     "output_type": "display_data"
    },
    {
     "data": {
      "application/vnd.jupyter.widget-view+json": {
       "model_id": "913e4b315d324031ae9742ca53d109a0",
       "version_major": 2,
       "version_minor": 0
      },
      "text/plain": [
       "rsds_Amon_NorESM2-MM_piClim-control_r...:   0%|          |0.00/18.0M [?B/s]"
      ]
     },
     "metadata": {},
     "output_type": "display_data"
    },
    {
     "data": {
      "application/vnd.jupyter.widget-view+json": {
       "model_id": "785167f27a524248b2a80d42a965284c",
       "version_major": 2,
       "version_minor": 0
      },
      "text/plain": [
       "rsdscs_Amon_NorESM2-MM_piClim-control...:   0%|          |0.00/14.9M [?B/s]"
      ]
     },
     "metadata": {},
     "output_type": "display_data"
    },
    {
     "data": {
      "application/vnd.jupyter.widget-view+json": {
       "model_id": "bb4e0f04b2ad4dcb969b2ad34513632f",
       "version_major": 2,
       "version_minor": 0
      },
      "text/plain": [
       "rsdscs_Amon_NorESM2-MM_piClim-control...:   0%|          |0.00/14.9M [?B/s]"
      ]
     },
     "metadata": {},
     "output_type": "display_data"
    },
    {
     "data": {
      "application/vnd.jupyter.widget-view+json": {
       "model_id": "2bd65ad89b5041278ed4f90d8b794e9d",
       "version_major": 2,
       "version_minor": 0
      },
      "text/plain": [
       "rsdt_Amon_NorESM2-MM_piClim-control_r...:   0%|          |0.00/12.1M [?B/s]"
      ]
     },
     "metadata": {},
     "output_type": "display_data"
    },
    {
     "data": {
      "application/vnd.jupyter.widget-view+json": {
       "model_id": "c384827116264500ae8387eab0f35f52",
       "version_major": 2,
       "version_minor": 0
      },
      "text/plain": [
       "rsus_Amon_NorESM2-MM_piClim-control_r...:   0%|          |0.00/17.2M [?B/s]"
      ]
     },
     "metadata": {},
     "output_type": "display_data"
    },
    {
     "data": {
      "application/vnd.jupyter.widget-view+json": {
       "model_id": "46c192cebe2d42ebbb5020ede07c8e2e",
       "version_major": 2,
       "version_minor": 0
      },
      "text/plain": [
       "rsds_Amon_NorESM2-MM_piClim-aer_r1i1p...:   0%|          |0.00/18.0M [?B/s]"
      ]
     },
     "metadata": {},
     "output_type": "display_data"
    },
    {
     "data": {
      "application/vnd.jupyter.widget-view+json": {
       "model_id": "589b6f4a8b2248078c04205c3a79813d",
       "version_major": 2,
       "version_minor": 0
      },
      "text/plain": [
       "rsutcs_Amon_NorESM2-MM_piClim-aer_r1i...:   0%|          |0.00/15.8M [?B/s]"
      ]
     },
     "metadata": {},
     "output_type": "display_data"
    },
    {
     "data": {
      "application/vnd.jupyter.widget-view+json": {
       "model_id": "0c54e4ec33e2494796de121d5f3d1917",
       "version_major": 2,
       "version_minor": 0
      },
      "text/plain": [
       "rsutcs_Amon_NorESM2-MM_piClim-aer_r1i...:   0%|          |0.00/15.8M [?B/s]"
      ]
     },
     "metadata": {},
     "output_type": "display_data"
    },
    {
     "data": {
      "application/vnd.jupyter.widget-view+json": {
       "model_id": "44f167519802454a969d5d0684e88353",
       "version_major": 2,
       "version_minor": 0
      },
      "text/plain": [
       "rsus_Amon_NorESM2-MM_piClim-aer_r1i1p...:   0%|          |0.00/17.2M [?B/s]"
      ]
     },
     "metadata": {},
     "output_type": "display_data"
    },
    {
     "data": {
      "application/vnd.jupyter.widget-view+json": {
       "model_id": "eed759f601154856b2262acfd52ea71d",
       "version_major": 2,
       "version_minor": 0
      },
      "text/plain": [
       "clt_Amon_NorESM2-MM_piClim-control_r1...:   0%|          |0.00/19.1M [?B/s]"
      ]
     },
     "metadata": {},
     "output_type": "display_data"
    },
    {
     "data": {
      "application/vnd.jupyter.widget-view+json": {
       "model_id": "abbc7432959c4816bedb253f94bbe29c",
       "version_major": 2,
       "version_minor": 0
      },
      "text/plain": [
       "rsdt_Amon_NorESM2-MM_piClim-control_r...:   0%|          |0.00/12.1M [?B/s]"
      ]
     },
     "metadata": {},
     "output_type": "display_data"
    },
    {
     "data": {
      "application/vnd.jupyter.widget-view+json": {
       "model_id": "77c74924ebda4fa287c5f18a85bfe297",
       "version_major": 2,
       "version_minor": 0
      },
      "text/plain": [
       "rsutcs_Amon_NorESM2-MM_piClim-control...:   0%|          |0.00/15.7M [?B/s]"
      ]
     },
     "metadata": {},
     "output_type": "display_data"
    },
    {
     "data": {
      "application/vnd.jupyter.widget-view+json": {
       "model_id": "bfc577c08ffd41b9a43be869ac1c80af",
       "version_major": 2,
       "version_minor": 0
      },
      "text/plain": [
       "clt_Amon_NorESM2-MM_piClim-aer_r1i1p1...:   0%|          |0.00/19.1M [?B/s]"
      ]
     },
     "metadata": {},
     "output_type": "display_data"
    },
    {
     "data": {
      "application/vnd.jupyter.widget-view+json": {
       "model_id": "00e8cd2d3fb4462089bb4393513561dc",
       "version_major": 2,
       "version_minor": 0
      },
      "text/plain": [
       "rsus_Amon_NorESM2-MM_piClim-control_r...:   0%|          |0.00/17.2M [?B/s]"
      ]
     },
     "metadata": {},
     "output_type": "display_data"
    },
    {
     "data": {
      "application/vnd.jupyter.widget-view+json": {
       "model_id": "a6477f1fe7f14690b88c60e01523d6f1",
       "version_major": 2,
       "version_minor": 0
      },
      "text/plain": [
       "rsut_Amon_NorESM2-MM_piClim-aer_r1i1p...:   0%|          |0.00/18.1M [?B/s]"
      ]
     },
     "metadata": {},
     "output_type": "display_data"
    },
    {
     "data": {
      "application/vnd.jupyter.widget-view+json": {
       "model_id": "58f545f59c60478ba80b3d631090633e",
       "version_major": 2,
       "version_minor": 0
      },
      "text/plain": [
       "rsut_Amon_NorESM2-MM_piClim-aer_r1i1p...:   0%|          |0.00/18.1M [?B/s]"
      ]
     },
     "metadata": {},
     "output_type": "display_data"
    },
    {
     "data": {
      "application/vnd.jupyter.widget-view+json": {
       "model_id": "6e3e498d53814719840646a16bcf6169",
       "version_major": 2,
       "version_minor": 0
      },
      "text/plain": [
       "clt_Amon_NorESM2-MM_piClim-control_r1...:   0%|          |0.00/19.1M [?B/s]"
      ]
     },
     "metadata": {},
     "output_type": "display_data"
    },
    {
     "data": {
      "application/vnd.jupyter.widget-view+json": {
       "model_id": "486da216e94a40e2b13e3d09f88e65ce",
       "version_major": 2,
       "version_minor": 0
      },
      "text/plain": [
       "rsutcs_Amon_NorESM2-MM_piClim-control...:   0%|          |0.00/15.7M [?B/s]"
      ]
     },
     "metadata": {},
     "output_type": "display_data"
    },
    {
     "data": {
      "application/vnd.jupyter.widget-view+json": {
       "model_id": "93a9874d95c54b3fab4c6d83c6d89281",
       "version_major": 2,
       "version_minor": 0
      },
      "text/plain": [
       "rsut_Amon_NorESM2-MM_piClim-control_r...:   0%|          |0.00/18.1M [?B/s]"
      ]
     },
     "metadata": {},
     "output_type": "display_data"
    },
    {
     "data": {
      "application/vnd.jupyter.widget-view+json": {
       "model_id": "a53eb1dbee294daabe56802ff1cfbfd0",
       "version_major": 2,
       "version_minor": 0
      },
      "text/plain": [
       "rsus_Amon_NorESM2-MM_piClim-control_r...:   0%|          |0.00/17.2M [?B/s]"
      ]
     },
     "metadata": {},
     "output_type": "display_data"
    },
    {
     "data": {
      "application/vnd.jupyter.widget-view+json": {
       "model_id": "9c731ba9e7074e5a82d8470f7fc5c4fc",
       "version_major": 2,
       "version_minor": 0
      },
      "text/plain": [
       "rsdscs_Amon_NorESM2-MM_piClim-aer_r1i...:   0%|          |0.00/15.0M [?B/s]"
      ]
     },
     "metadata": {},
     "output_type": "display_data"
    },
    {
     "data": {
      "application/vnd.jupyter.widget-view+json": {
       "model_id": "2ce1d6b9542948bda8157a1fb02b54f6",
       "version_major": 2,
       "version_minor": 0
      },
      "text/plain": [
       "rsuscs_Amon_NorESM2-MM_piClim-control...:   0%|          |0.00/15.4M [?B/s]"
      ]
     },
     "metadata": {},
     "output_type": "display_data"
    },
    {
     "data": {
      "application/vnd.jupyter.widget-view+json": {
       "model_id": "8633d4617dd7469ca0d17f2b37f3885e",
       "version_major": 2,
       "version_minor": 0
      },
      "text/plain": [
       "rsut_Amon_NorESM2-MM_piClim-control_r...:   0%|          |0.00/18.1M [?B/s]"
      ]
     },
     "metadata": {},
     "output_type": "display_data"
    },
    {
     "data": {
      "application/vnd.jupyter.widget-view+json": {
       "model_id": "7b2f43c8f81b402a8c8ad72c1b697b99",
       "version_major": 2,
       "version_minor": 0
      },
      "text/plain": [
       "rsutcs_Amon_NorESM2-MM_piClim-aer_r1i...:   0%|          |0.00/15.8M [?B/s]"
      ]
     },
     "metadata": {},
     "output_type": "display_data"
    },
    {
     "data": {
      "application/vnd.jupyter.widget-view+json": {
       "model_id": "6c08c116349d46e0ad2d89956269742c",
       "version_major": 2,
       "version_minor": 0
      },
      "text/plain": [
       "rsdt_Amon_NorESM2-MM_piClim-control_r...:   0%|          |0.00/12.1M [?B/s]"
      ]
     },
     "metadata": {},
     "output_type": "display_data"
    },
    {
     "data": {
      "application/vnd.jupyter.widget-view+json": {
       "model_id": "1b575824145f44d9b5a222c8206bfb19",
       "version_major": 2,
       "version_minor": 0
      },
      "text/plain": [
       "rsuscs_Amon_NorESM2-MM_piClim-control...:   0%|          |0.00/15.4M [?B/s]"
      ]
     },
     "metadata": {},
     "output_type": "display_data"
    },
    {
     "data": {
      "application/vnd.jupyter.widget-view+json": {
       "model_id": "e1a27abf1b3e4b1b8d36e2a3720fb86e",
       "version_major": 2,
       "version_minor": 0
      },
      "text/plain": [
       "rsutcs_Amon_NorESM2-MM_piClim-control...:   0%|          |0.00/15.7M [?B/s]"
      ]
     },
     "metadata": {},
     "output_type": "display_data"
    },
    {
     "data": {
      "application/vnd.jupyter.widget-view+json": {
       "model_id": "3f033ea8f1a044d4b023f43c45683d8a",
       "version_major": 2,
       "version_minor": 0
      },
      "text/plain": [
       "rsds_Amon_NorESM2-MM_piClim-aer_r1i1p...:   0%|          |0.00/18.1M [?B/s]"
      ]
     },
     "metadata": {},
     "output_type": "display_data"
    },
    {
     "name": "stdout",
     "output_type": "stream",
     "text": [
      "\n",
      "Downloading MRI-ESM2-0.r1i1p1f1.gn ...\n",
      "\n"
     ]
    },
    {
     "data": {
      "application/vnd.jupyter.widget-view+json": {
       "model_id": "fa26b151341346a5ad7534bb5310e5a6",
       "version_major": 2,
       "version_minor": 0
      },
      "text/plain": [
       "   Searching indices:   0%|          |0/9 [       ?index/s]"
      ]
     },
     "metadata": {},
     "output_type": "display_data"
    },
    {
     "name": "stderr",
     "output_type": "stream",
     "text": [
      "/home/jovyan/my-conda-envs/cmip6-download/lib/python3.13/site-packages/intake_esgf/catalog.py:450: UserWarning: SolrESGFIndex('esgf.ceda.ac.uk') failed to return a response, info may be incomplete\n",
      "  warnings.warn(\n",
      "/home/jovyan/my-conda-envs/cmip6-download/lib/python3.13/site-packages/intake_esgf/catalog.py:450: UserWarning: SolrESGFIndex('esgf-data.dkrz.de') failed to return a response, info may be incomplete\n",
      "  warnings.warn(\n",
      "/home/jovyan/my-conda-envs/cmip6-download/lib/python3.13/site-packages/intake_esgf/catalog.py:450: UserWarning: SolrESGFIndex('esgf-node.ipsl.upmc.fr') failed to return a response, info may be incomplete\n",
      "  warnings.warn(\n",
      "/home/jovyan/my-conda-envs/cmip6-download/lib/python3.13/site-packages/intake_esgf/catalog.py:450: UserWarning: SolrESGFIndex('esg-dn1.nsc.liu.se') failed to return a response, info may be incomplete\n",
      "  warnings.warn(\n",
      "/home/jovyan/my-conda-envs/cmip6-download/lib/python3.13/site-packages/intake_esgf/catalog.py:450: UserWarning: SolrESGFIndex('esgf-node.ornl.gov') failed to return a response, info may be incomplete\n",
      "  warnings.warn(\n",
      "/home/jovyan/my-conda-envs/cmip6-download/lib/python3.13/site-packages/intake_esgf/catalog.py:450: UserWarning: SolrESGFIndex('esgf-node.llnl.gov') failed to return a response, info may be incomplete\n",
      "  warnings.warn(\n",
      "/home/jovyan/my-conda-envs/cmip6-download/lib/python3.13/site-packages/intake_esgf/catalog.py:450: UserWarning: SolrESGFIndex('esgf.nci.org.au') failed to return a response, info may be incomplete\n",
      "  warnings.warn(\n"
     ]
    },
    {
     "data": {
      "application/vnd.jupyter.widget-view+json": {
       "model_id": "e4a24bee753c4a7cbff919d265805f69",
       "version_major": 2,
       "version_minor": 0
      },
      "text/plain": [
       "rsdt_Amon_MRI-ESM2-0_piClim-aer_r1i1p...:   0%|          |0.00/347k [?B/s]"
      ]
     },
     "metadata": {},
     "output_type": "display_data"
    },
    {
     "data": {
      "application/vnd.jupyter.widget-view+json": {
       "model_id": "4d822f206e9c4ad384b0fa98c6b3457e",
       "version_major": 2,
       "version_minor": 0
      },
      "text/plain": [
       "rsuscs_Amon_MRI-ESM2-0_piClim-control...:   0%|          |0.00/1.63M [?B/s]"
      ]
     },
     "metadata": {},
     "output_type": "display_data"
    },
    {
     "data": {
      "application/vnd.jupyter.widget-view+json": {
       "model_id": "8cb8048e9bc84fee90367c36436d2ce7",
       "version_major": 2,
       "version_minor": 0
      },
      "text/plain": [
       "rsds_Amon_MRI-ESM2-0_piClim-control_r...:   0%|          |0.00/1.69M [?B/s]"
      ]
     },
     "metadata": {},
     "output_type": "display_data"
    },
    {
     "data": {
      "application/vnd.jupyter.widget-view+json": {
       "model_id": "b7e5fa10bac44d9088d2b1d6a6c96446",
       "version_major": 2,
       "version_minor": 0
      },
      "text/plain": [
       "rsdt_Amon_MRI-ESM2-0_piClim-control_r...:   0%|          |0.00/8.73M [?B/s]"
      ]
     },
     "metadata": {},
     "output_type": "display_data"
    },
    {
     "data": {
      "application/vnd.jupyter.widget-view+json": {
       "model_id": "2637ca1e35744e7ca0f8ed9fe1e32e76",
       "version_major": 2,
       "version_minor": 0
      },
      "text/plain": [
       "rsdscs_Amon_MRI-ESM2-0_piClim-control...:   0%|          |0.00/42.0M [?B/s]"
      ]
     },
     "metadata": {},
     "output_type": "display_data"
    },
    {
     "data": {
      "application/vnd.jupyter.widget-view+json": {
       "model_id": "69ab39db2c6d4671a722140097011a28",
       "version_major": 2,
       "version_minor": 0
      },
      "text/plain": [
       "rsus_Amon_MRI-ESM2-0_piClim-aer_r1i1p...:   0%|          |0.00/51.2M [?B/s]"
      ]
     },
     "metadata": {},
     "output_type": "display_data"
    },
    {
     "data": {
      "application/vnd.jupyter.widget-view+json": {
       "model_id": "5bbc0ed7fc1244938c4f9f1a4a24c870",
       "version_major": 2,
       "version_minor": 0
      },
      "text/plain": [
       "rsut_Amon_MRI-ESM2-0_piClim-aer_r1i1p...:   0%|          |0.00/1.74M [?B/s]"
      ]
     },
     "metadata": {},
     "output_type": "display_data"
    },
    {
     "data": {
      "application/vnd.jupyter.widget-view+json": {
       "model_id": "4563ffc927134b96adebf1b138be1f3a",
       "version_major": 2,
       "version_minor": 0
      },
      "text/plain": [
       "clt_Amon_MRI-ESM2-0_piClim-control_r1...:   0%|          |0.00/53.5M [?B/s]"
      ]
     },
     "metadata": {},
     "output_type": "display_data"
    },
    {
     "data": {
      "application/vnd.jupyter.widget-view+json": {
       "model_id": "973446194cb643ffb4f8718e1e5536e9",
       "version_major": 2,
       "version_minor": 0
      },
      "text/plain": [
       "rsutcs_Amon_MRI-ESM2-0_piClim-control...:   0%|          |0.00/45.8M [?B/s]"
      ]
     },
     "metadata": {},
     "output_type": "display_data"
    },
    {
     "data": {
      "application/vnd.jupyter.widget-view+json": {
       "model_id": "55277761efcc4533b55d7b18ffeae477",
       "version_major": 2,
       "version_minor": 0
      },
      "text/plain": [
       "rsds_Amon_MRI-ESM2-0_piClim-aer_r1i1p...:   0%|          |0.00/49.1M [?B/s]"
      ]
     },
     "metadata": {},
     "output_type": "display_data"
    },
    {
     "data": {
      "application/vnd.jupyter.widget-view+json": {
       "model_id": "4f581c0ffefd4aec80298c3e2af43de7",
       "version_major": 2,
       "version_minor": 0
      },
      "text/plain": [
       "rsut_Amon_MRI-ESM2-0_piClim-aer_r1i1p...:   0%|          |0.00/50.4M [?B/s]"
      ]
     },
     "metadata": {},
     "output_type": "display_data"
    },
    {
     "data": {
      "application/vnd.jupyter.widget-view+json": {
       "model_id": "b4d39522fb29425d98c0237b4fd9103b",
       "version_major": 2,
       "version_minor": 0
      },
      "text/plain": [
       "rsut_Amon_MRI-ESM2-0_piClim-control_r...:   0%|          |0.00/50.4M [?B/s]"
      ]
     },
     "metadata": {},
     "output_type": "display_data"
    },
    {
     "data": {
      "application/vnd.jupyter.widget-view+json": {
       "model_id": "40e810cb5a5642b0b9706d05ddcf49a6",
       "version_major": 2,
       "version_minor": 0
      },
      "text/plain": [
       "rsutcs_Amon_MRI-ESM2-0_piClim-aer_r1i...:   0%|          |0.00/46.0M [?B/s]"
      ]
     },
     "metadata": {},
     "output_type": "display_data"
    },
    {
     "data": {
      "application/vnd.jupyter.widget-view+json": {
       "model_id": "e2e0efab4fde470a88fb2e0bbabad3b3",
       "version_major": 2,
       "version_minor": 0
      },
      "text/plain": [
       "rsdt_Amon_MRI-ESM2-0_piClim-control_r...:   0%|          |0.00/347k [?B/s]"
      ]
     },
     "metadata": {},
     "output_type": "display_data"
    },
    {
     "data": {
      "application/vnd.jupyter.widget-view+json": {
       "model_id": "e3cb3d4ab301464191e0c54362381fdc",
       "version_major": 2,
       "version_minor": 0
      },
      "text/plain": [
       "rsutcs_Amon_MRI-ESM2-0_piClim-aer_r1i...:   0%|          |0.00/1.59M [?B/s]"
      ]
     },
     "metadata": {},
     "output_type": "display_data"
    },
    {
     "data": {
      "application/vnd.jupyter.widget-view+json": {
       "model_id": "282d6219b1fc43daad61aeab8f1def02",
       "version_major": 2,
       "version_minor": 0
      },
      "text/plain": [
       "rsdscs_Amon_MRI-ESM2-0_piClim-aer_r1i...:   0%|          |0.00/42.3M [?B/s]"
      ]
     },
     "metadata": {},
     "output_type": "display_data"
    },
    {
     "data": {
      "application/vnd.jupyter.widget-view+json": {
       "model_id": "aa869bc8d3ab4a599a52e9746eb5c331",
       "version_major": 2,
       "version_minor": 0
      },
      "text/plain": [
       "rsds_Amon_MRI-ESM2-0_piClim-control_r...:   0%|          |0.00/48.9M [?B/s]"
      ]
     },
     "metadata": {},
     "output_type": "display_data"
    },
    {
     "data": {
      "application/vnd.jupyter.widget-view+json": {
       "model_id": "b24002d75d5f40c28cb7b8bbfb47e6b8",
       "version_major": 2,
       "version_minor": 0
      },
      "text/plain": [
       "rsdscs_Amon_MRI-ESM2-0_piClim-control...:   0%|          |0.00/1.46M [?B/s]"
      ]
     },
     "metadata": {},
     "output_type": "display_data"
    },
    {
     "data": {
      "application/vnd.jupyter.widget-view+json": {
       "model_id": "01c07fa8e8444bf69a1e968cfe0ef810",
       "version_major": 2,
       "version_minor": 0
      },
      "text/plain": [
       "rsus_Amon_MRI-ESM2-0_piClim-control_r...:   0%|          |0.00/51.1M [?B/s]"
      ]
     },
     "metadata": {},
     "output_type": "display_data"
    },
    {
     "data": {
      "application/vnd.jupyter.widget-view+json": {
       "model_id": "ecf4cc8c89af4581a640a4e33a5961c6",
       "version_major": 2,
       "version_minor": 0
      },
      "text/plain": [
       "rsuscs_Amon_MRI-ESM2-0_piClim-control...:   0%|          |0.00/47.2M [?B/s]"
      ]
     },
     "metadata": {},
     "output_type": "display_data"
    },
    {
     "data": {
      "application/vnd.jupyter.widget-view+json": {
       "model_id": "728bbc2f72d04e35a9461ac4d08438d2",
       "version_major": 2,
       "version_minor": 0
      },
      "text/plain": [
       "clt_Amon_MRI-ESM2-0_piClim-aer_r1i1p1...:   0%|          |0.00/1.84M [?B/s]"
      ]
     },
     "metadata": {},
     "output_type": "display_data"
    },
    {
     "data": {
      "application/vnd.jupyter.widget-view+json": {
       "model_id": "db892376df72459aa621145b23cb0d65",
       "version_major": 2,
       "version_minor": 0
      },
      "text/plain": [
       "rsuscs_Amon_MRI-ESM2-0_piClim-aer_r1i...:   0%|          |0.00/47.3M [?B/s]"
      ]
     },
     "metadata": {},
     "output_type": "display_data"
    },
    {
     "data": {
      "application/vnd.jupyter.widget-view+json": {
       "model_id": "e71631749a814711bd1372162e255383",
       "version_major": 2,
       "version_minor": 0
      },
      "text/plain": [
       "rsus_Amon_MRI-ESM2-0_piClim-aer_r1i1p...:   0%|          |0.00/1.76M [?B/s]"
      ]
     },
     "metadata": {},
     "output_type": "display_data"
    },
    {
     "data": {
      "application/vnd.jupyter.widget-view+json": {
       "model_id": "1e867068335645bf9a20fec5c72b0e52",
       "version_major": 2,
       "version_minor": 0
      },
      "text/plain": [
       "clt_Amon_MRI-ESM2-0_piClim-aer_r1i1p1...:   0%|          |0.00/53.4M [?B/s]"
      ]
     },
     "metadata": {},
     "output_type": "display_data"
    },
    {
     "data": {
      "application/vnd.jupyter.widget-view+json": {
       "model_id": "c02f3baf370e4236aef5780a66f0d75d",
       "version_major": 2,
       "version_minor": 0
      },
      "text/plain": [
       "rsds_Amon_MRI-ESM2-0_piClim-aer_r1i1p...:   0%|          |0.00/1.69M [?B/s]"
      ]
     },
     "metadata": {},
     "output_type": "display_data"
    },
    {
     "data": {
      "application/vnd.jupyter.widget-view+json": {
       "model_id": "be569325903348c184b6f3d78889cce3",
       "version_major": 2,
       "version_minor": 0
      },
      "text/plain": [
       "rsuscs_Amon_MRI-ESM2-0_piClim-aer_r1i...:   0%|          |0.00/1.63M [?B/s]"
      ]
     },
     "metadata": {},
     "output_type": "display_data"
    },
    {
     "data": {
      "application/vnd.jupyter.widget-view+json": {
       "model_id": "71e752528fde40c8a312c924257bae37",
       "version_major": 2,
       "version_minor": 0
      },
      "text/plain": [
       "rsus_Amon_MRI-ESM2-0_piClim-control_r...:   0%|          |0.00/1.76M [?B/s]"
      ]
     },
     "metadata": {},
     "output_type": "display_data"
    },
    {
     "data": {
      "application/vnd.jupyter.widget-view+json": {
       "model_id": "8a64520ddad74a4d91a694d6fa6f1c36",
       "version_major": 2,
       "version_minor": 0
      },
      "text/plain": [
       "rsut_Amon_MRI-ESM2-0_piClim-control_r...:   0%|          |0.00/1.74M [?B/s]"
      ]
     },
     "metadata": {},
     "output_type": "display_data"
    },
    {
     "data": {
      "application/vnd.jupyter.widget-view+json": {
       "model_id": "e2370853218d4652aa786959486d1fca",
       "version_major": 2,
       "version_minor": 0
      },
      "text/plain": [
       "rsdscs_Amon_MRI-ESM2-0_piClim-aer_r1i...:   0%|          |0.00/1.47M [?B/s]"
      ]
     },
     "metadata": {},
     "output_type": "display_data"
    },
    {
     "data": {
      "application/vnd.jupyter.widget-view+json": {
       "model_id": "440ad50de7284a5a86a26d2e466c279e",
       "version_major": 2,
       "version_minor": 0
      },
      "text/plain": [
       "clt_Amon_MRI-ESM2-0_piClim-control_r1...:   0%|          |0.00/1.84M [?B/s]"
      ]
     },
     "metadata": {},
     "output_type": "display_data"
    },
    {
     "data": {
      "application/vnd.jupyter.widget-view+json": {
       "model_id": "139c9426156c4f7eb1ef590453069616",
       "version_major": 2,
       "version_minor": 0
      },
      "text/plain": [
       "rsutcs_Amon_MRI-ESM2-0_piClim-control...:   0%|          |0.00/1.58M [?B/s]"
      ]
     },
     "metadata": {},
     "output_type": "display_data"
    },
    {
     "data": {
      "application/vnd.jupyter.widget-view+json": {
       "model_id": "b525b7db0656475799c03c5c48387d5b",
       "version_major": 2,
       "version_minor": 0
      },
      "text/plain": [
       "rsdt_Amon_MRI-ESM2-0_piClim-aer_r1i1p...:   0%|          |0.00/8.73M [?B/s]"
      ]
     },
     "metadata": {},
     "output_type": "display_data"
    },
    {
     "name": "stdout",
     "output_type": "stream",
     "text": [
      "\n",
      "Downloading ACCESS-ESM1-5.r1i1p1f1.gn ...\n",
      "\n"
     ]
    },
    {
     "data": {
      "application/vnd.jupyter.widget-view+json": {
       "model_id": "0caab987e7384522a18d06db1b068bc2",
       "version_major": 2,
       "version_minor": 0
      },
      "text/plain": [
       "   Searching indices:   0%|          |0/9 [       ?index/s]"
      ]
     },
     "metadata": {},
     "output_type": "display_data"
    },
    {
     "name": "stderr",
     "output_type": "stream",
     "text": [
      "/home/jovyan/my-conda-envs/cmip6-download/lib/python3.13/site-packages/intake_esgf/catalog.py:450: UserWarning: SolrESGFIndex('esgf-node.ipsl.upmc.fr') failed to return a response, info may be incomplete\n",
      "  warnings.warn(\n",
      "/home/jovyan/my-conda-envs/cmip6-download/lib/python3.13/site-packages/intake_esgf/catalog.py:450: UserWarning: SolrESGFIndex('esgf.ceda.ac.uk') failed to return a response, info may be incomplete\n",
      "  warnings.warn(\n",
      "/home/jovyan/my-conda-envs/cmip6-download/lib/python3.13/site-packages/intake_esgf/catalog.py:450: UserWarning: SolrESGFIndex('esgf-data.dkrz.de') failed to return a response, info may be incomplete\n",
      "  warnings.warn(\n",
      "/home/jovyan/my-conda-envs/cmip6-download/lib/python3.13/site-packages/intake_esgf/catalog.py:450: UserWarning: SolrESGFIndex('esg-dn1.nsc.liu.se') failed to return a response, info may be incomplete\n",
      "  warnings.warn(\n",
      "/home/jovyan/my-conda-envs/cmip6-download/lib/python3.13/site-packages/intake_esgf/catalog.py:450: UserWarning: SolrESGFIndex('esgf-node.ornl.gov') failed to return a response, info may be incomplete\n",
      "  warnings.warn(\n",
      "/home/jovyan/my-conda-envs/cmip6-download/lib/python3.13/site-packages/intake_esgf/catalog.py:450: UserWarning: SolrESGFIndex('esgf-node.llnl.gov') failed to return a response, info may be incomplete\n",
      "  warnings.warn(\n",
      "/home/jovyan/my-conda-envs/cmip6-download/lib/python3.13/site-packages/intake_esgf/catalog.py:450: UserWarning: SolrESGFIndex('esgf.nci.org.au') failed to return a response, info may be incomplete\n",
      "  warnings.warn(\n"
     ]
    },
    {
     "data": {
      "application/vnd.jupyter.widget-view+json": {
       "model_id": "750dcb8275af4de69baf862e7431f916",
       "version_major": 2,
       "version_minor": 0
      },
      "text/plain": [
       "rsds_Amon_ACCESS-ESM1-5_piClim-aer_r1...:   0%|          |0.00/32.4M [?B/s]"
      ]
     },
     "metadata": {},
     "output_type": "display_data"
    },
    {
     "data": {
      "application/vnd.jupyter.widget-view+json": {
       "model_id": "8cfcf7b55a684b0d85b86cf642b18ce5",
       "version_major": 2,
       "version_minor": 0
      },
      "text/plain": [
       "rsus_Amon_ACCESS-ESM1-5_piClim-contro...:   0%|          |0.00/31.4M [?B/s]"
      ]
     },
     "metadata": {},
     "output_type": "display_data"
    },
    {
     "data": {
      "application/vnd.jupyter.widget-view+json": {
       "model_id": "99e997d61988480ea38fb8de6d8fd9c5",
       "version_major": 2,
       "version_minor": 0
      },
      "text/plain": [
       "rsds_Amon_ACCESS-ESM1-5_piClim-contro...:   0%|          |0.00/32.4M [?B/s]"
      ]
     },
     "metadata": {},
     "output_type": "display_data"
    },
    {
     "data": {
      "application/vnd.jupyter.widget-view+json": {
       "model_id": "e027da73a10a4893bfeef2ea54f29638",
       "version_major": 2,
       "version_minor": 0
      },
      "text/plain": [
       "rsutcs_Amon_ACCESS-ESM1-5_piClim-aer_...:   0%|          |0.00/31.9M [?B/s]"
      ]
     },
     "metadata": {},
     "output_type": "display_data"
    },
    {
     "data": {
      "application/vnd.jupyter.widget-view+json": {
       "model_id": "186af66fbbe84ea0a2d1bb678090b520",
       "version_major": 2,
       "version_minor": 0
      },
      "text/plain": [
       "rsdt_Amon_ACCESS-ESM1-5_piClim-contro...:   0%|          |0.00/549k [?B/s]"
      ]
     },
     "metadata": {},
     "output_type": "display_data"
    },
    {
     "data": {
      "application/vnd.jupyter.widget-view+json": {
       "model_id": "a82b7802b15146b2867adb1b7adf9c19",
       "version_major": 2,
       "version_minor": 0
      },
      "text/plain": [
       "rsdscs_Amon_ACCESS-ESM1-5_piClim-aer_...:   0%|          |0.00/31.3M [?B/s]"
      ]
     },
     "metadata": {},
     "output_type": "display_data"
    },
    {
     "data": {
      "application/vnd.jupyter.widget-view+json": {
       "model_id": "aa676abf08b3453b999499e14e5140ee",
       "version_major": 2,
       "version_minor": 0
      },
      "text/plain": [
       "rsdscs_Amon_ACCESS-ESM1-5_piClim-cont...:   0%|          |0.00/31.3M [?B/s]"
      ]
     },
     "metadata": {},
     "output_type": "display_data"
    },
    {
     "data": {
      "application/vnd.jupyter.widget-view+json": {
       "model_id": "e0f3adbcd0684823834c214717e7a908",
       "version_major": 2,
       "version_minor": 0
      },
      "text/plain": [
       "rsutcs_Amon_ACCESS-ESM1-5_piClim-cont...:   0%|          |0.00/31.9M [?B/s]"
      ]
     },
     "metadata": {},
     "output_type": "display_data"
    },
    {
     "data": {
      "application/vnd.jupyter.widget-view+json": {
       "model_id": "4112f8d425924824ad2811606b6d221b",
       "version_major": 2,
       "version_minor": 0
      },
      "text/plain": [
       "rsuscs_Amon_ACCESS-ESM1-5_piClim-aer_...:   0%|          |0.00/32.4M [?B/s]"
      ]
     },
     "metadata": {},
     "output_type": "display_data"
    },
    {
     "data": {
      "application/vnd.jupyter.widget-view+json": {
       "model_id": "f5ec8606016e41a9aaefb954c4715e93",
       "version_major": 2,
       "version_minor": 0
      },
      "text/plain": [
       "rsut_Amon_ACCESS-ESM1-5_piClim-aer_r1...:   0%|          |0.00/32.5M [?B/s]"
      ]
     },
     "metadata": {},
     "output_type": "display_data"
    },
    {
     "data": {
      "application/vnd.jupyter.widget-view+json": {
       "model_id": "8642c22c69534a61808f96c73f60615b",
       "version_major": 2,
       "version_minor": 0
      },
      "text/plain": [
       "clt_Amon_ACCESS-ESM1-5_piClim-control...:   0%|          |0.00/34.1M [?B/s]"
      ]
     },
     "metadata": {},
     "output_type": "display_data"
    },
    {
     "data": {
      "application/vnd.jupyter.widget-view+json": {
       "model_id": "7e80f33b34c8485c94a316377a6fac1b",
       "version_major": 2,
       "version_minor": 0
      },
      "text/plain": [
       "rsuscs_Amon_ACCESS-ESM1-5_piClim-cont...:   0%|          |0.00/32.4M [?B/s]"
      ]
     },
     "metadata": {},
     "output_type": "display_data"
    },
    {
     "data": {
      "application/vnd.jupyter.widget-view+json": {
       "model_id": "73c294fc80414edd98b7afbef8de0eb7",
       "version_major": 2,
       "version_minor": 0
      },
      "text/plain": [
       "rsut_Amon_ACCESS-ESM1-5_piClim-contro...:   0%|          |0.00/32.5M [?B/s]"
      ]
     },
     "metadata": {},
     "output_type": "display_data"
    },
    {
     "data": {
      "application/vnd.jupyter.widget-view+json": {
       "model_id": "5736a4c7662a4642b5f8c6cea02900e4",
       "version_major": 2,
       "version_minor": 0
      },
      "text/plain": [
       "rsus_Amon_ACCESS-ESM1-5_piClim-aer_r1...:   0%|          |0.00/31.4M [?B/s]"
      ]
     },
     "metadata": {},
     "output_type": "display_data"
    },
    {
     "data": {
      "application/vnd.jupyter.widget-view+json": {
       "model_id": "eb8c8b1090c247459f344674635dc02a",
       "version_major": 2,
       "version_minor": 0
      },
      "text/plain": [
       "rsdt_Amon_ACCESS-ESM1-5_piClim-aer_r1...:   0%|          |0.00/549k [?B/s]"
      ]
     },
     "metadata": {},
     "output_type": "display_data"
    },
    {
     "data": {
      "application/vnd.jupyter.widget-view+json": {
       "model_id": "b91281576aa34ad1827549af4df84a91",
       "version_major": 2,
       "version_minor": 0
      },
      "text/plain": [
       "clt_Amon_ACCESS-ESM1-5_piClim-aer_r1i...:   0%|          |0.00/34.1M [?B/s]"
      ]
     },
     "metadata": {},
     "output_type": "display_data"
    },
    {
     "name": "stdout",
     "output_type": "stream",
     "text": [
      "\n",
      "Downloading CESM2.r1i1p1f1.gn ...\n",
      "\n"
     ]
    },
    {
     "data": {
      "application/vnd.jupyter.widget-view+json": {
       "model_id": "5d1ca8443f7e4ae69073338a21d4520e",
       "version_major": 2,
       "version_minor": 0
      },
      "text/plain": [
       "   Searching indices:   0%|          |0/9 [       ?index/s]"
      ]
     },
     "metadata": {},
     "output_type": "display_data"
    },
    {
     "name": "stderr",
     "output_type": "stream",
     "text": [
      "/home/jovyan/my-conda-envs/cmip6-download/lib/python3.13/site-packages/intake_esgf/catalog.py:450: UserWarning: SolrESGFIndex('esgf-node.ipsl.upmc.fr') failed to return a response, info may be incomplete\n",
      "  warnings.warn(\n",
      "/home/jovyan/my-conda-envs/cmip6-download/lib/python3.13/site-packages/intake_esgf/catalog.py:450: UserWarning: SolrESGFIndex('esgf.ceda.ac.uk') failed to return a response, info may be incomplete\n",
      "  warnings.warn(\n",
      "/home/jovyan/my-conda-envs/cmip6-download/lib/python3.13/site-packages/intake_esgf/catalog.py:450: UserWarning: SolrESGFIndex('esgf-data.dkrz.de') failed to return a response, info may be incomplete\n",
      "  warnings.warn(\n",
      "/home/jovyan/my-conda-envs/cmip6-download/lib/python3.13/site-packages/intake_esgf/catalog.py:450: UserWarning: SolrESGFIndex('esg-dn1.nsc.liu.se') failed to return a response, info may be incomplete\n",
      "  warnings.warn(\n",
      "/home/jovyan/my-conda-envs/cmip6-download/lib/python3.13/site-packages/intake_esgf/catalog.py:450: UserWarning: SolrESGFIndex('esgf-node.ornl.gov') failed to return a response, info may be incomplete\n",
      "  warnings.warn(\n",
      "/home/jovyan/my-conda-envs/cmip6-download/lib/python3.13/site-packages/intake_esgf/catalog.py:450: UserWarning: SolrESGFIndex('esgf-node.llnl.gov') failed to return a response, info may be incomplete\n",
      "  warnings.warn(\n",
      "/home/jovyan/my-conda-envs/cmip6-download/lib/python3.13/site-packages/intake_esgf/catalog.py:450: UserWarning: SolrESGFIndex('esgf.nci.org.au') failed to return a response, info may be incomplete\n",
      "  warnings.warn(\n"
     ]
    },
    {
     "data": {
      "application/vnd.jupyter.widget-view+json": {
       "model_id": "e12f324d948343a3926fc2b46f81c707",
       "version_major": 2,
       "version_minor": 0
      },
      "text/plain": [
       "rsuscs_Amon_CESM2_piClim-control_r1i1...:   0%|          |0.00/46.7M [?B/s]"
      ]
     },
     "metadata": {},
     "output_type": "display_data"
    },
    {
     "data": {
      "application/vnd.jupyter.widget-view+json": {
       "model_id": "869cf9ee1cf248479022161ad66e9105",
       "version_major": 2,
       "version_minor": 0
      },
      "text/plain": [
       "rsus_Amon_CESM2_piClim-control_r1i1p1...:   0%|          |0.00/51.6M [?B/s]"
      ]
     },
     "metadata": {},
     "output_type": "display_data"
    },
    {
     "data": {
      "application/vnd.jupyter.widget-view+json": {
       "model_id": "5a3b2a4c2af64a8885e40ee17d9cc71c",
       "version_major": 2,
       "version_minor": 0
      },
      "text/plain": [
       "clt_Amon_CESM2_piClim-control_r1i1p1f...:   0%|          |0.00/55.8M [?B/s]"
      ]
     },
     "metadata": {},
     "output_type": "display_data"
    },
    {
     "data": {
      "application/vnd.jupyter.widget-view+json": {
       "model_id": "37686f43098442ecbe3d5c7668dfccf2",
       "version_major": 2,
       "version_minor": 0
      },
      "text/plain": [
       "rsutcs_Amon_CESM2_piClim-control_r1i1...:   0%|          |0.00/47.1M [?B/s]"
      ]
     },
     "metadata": {},
     "output_type": "display_data"
    },
    {
     "data": {
      "application/vnd.jupyter.widget-view+json": {
       "model_id": "7ccde335e72540968cf8b49e5a6af342",
       "version_major": 2,
       "version_minor": 0
      },
      "text/plain": [
       "rsus_Amon_CESM2_piClim-aer_r1i1p1f1_g...:   0%|          |0.00/51.7M [?B/s]"
      ]
     },
     "metadata": {},
     "output_type": "display_data"
    },
    {
     "data": {
      "application/vnd.jupyter.widget-view+json": {
       "model_id": "7732a0a67d0d4514ac6c5bd439374ec8",
       "version_major": 2,
       "version_minor": 0
      },
      "text/plain": [
       "clt_Amon_CESM2_piClim-aer_r1i1p1f1_gn...:   0%|          |0.00/55.7M [?B/s]"
      ]
     },
     "metadata": {},
     "output_type": "display_data"
    },
    {
     "data": {
      "application/vnd.jupyter.widget-view+json": {
       "model_id": "96c45a1aabb041cb9832ae685b7d2465",
       "version_major": 2,
       "version_minor": 0
      },
      "text/plain": [
       "rsut_Amon_CESM2_piClim-aer_r1i1p1f1_g...:   0%|          |0.00/54.2M [?B/s]"
      ]
     },
     "metadata": {},
     "output_type": "display_data"
    },
    {
     "data": {
      "application/vnd.jupyter.widget-view+json": {
       "model_id": "8f22c9d49fc34034aa0483cdb1feb83f",
       "version_major": 2,
       "version_minor": 0
      },
      "text/plain": [
       "rsds_Amon_CESM2_piClim-control_r1i1p1...:   0%|          |0.00/53.5M [?B/s]"
      ]
     },
     "metadata": {},
     "output_type": "display_data"
    },
    {
     "data": {
      "application/vnd.jupyter.widget-view+json": {
       "model_id": "f91dee7bed274441a39ab290808ffc0c",
       "version_major": 2,
       "version_minor": 0
      },
      "text/plain": [
       "rsdscs_Amon_CESM2_piClim-aer_r1i1p1f1...:   0%|          |0.00/45.1M [?B/s]"
      ]
     },
     "metadata": {},
     "output_type": "display_data"
    },
    {
     "data": {
      "application/vnd.jupyter.widget-view+json": {
       "model_id": "0dd51bf0644f4ba89574325d02c68cd4",
       "version_major": 2,
       "version_minor": 0
      },
      "text/plain": [
       "rsuscs_Amon_CESM2_piClim-aer_r1i1p1f1...:   0%|          |0.00/46.8M [?B/s]"
      ]
     },
     "metadata": {},
     "output_type": "display_data"
    },
    {
     "data": {
      "application/vnd.jupyter.widget-view+json": {
       "model_id": "d5e9a17f865e45be928c0d0abcb64aa8",
       "version_major": 2,
       "version_minor": 0
      },
      "text/plain": [
       "rsdt_Amon_CESM2_piClim-aer_r1i1p1f1_g...:   0%|          |0.00/36.7M [?B/s]"
      ]
     },
     "metadata": {},
     "output_type": "display_data"
    },
    {
     "data": {
      "application/vnd.jupyter.widget-view+json": {
       "model_id": "06a24a2cb8644268a6e63d5ccad42f18",
       "version_major": 2,
       "version_minor": 0
      },
      "text/plain": [
       "rsutcs_Amon_CESM2_piClim-aer_r1i1p1f1...:   0%|          |0.00/47.1M [?B/s]"
      ]
     },
     "metadata": {},
     "output_type": "display_data"
    },
    {
     "data": {
      "application/vnd.jupyter.widget-view+json": {
       "model_id": "9f99ee4cc48749d3afd0de09ce4b1279",
       "version_major": 2,
       "version_minor": 0
      },
      "text/plain": [
       "rsut_Amon_CESM2_piClim-control_r1i1p1...:   0%|          |0.00/54.2M [?B/s]"
      ]
     },
     "metadata": {},
     "output_type": "display_data"
    },
    {
     "data": {
      "application/vnd.jupyter.widget-view+json": {
       "model_id": "8f7dc1dd5f8643a0a36c540556ea71ec",
       "version_major": 2,
       "version_minor": 0
      },
      "text/plain": [
       "rsdscs_Amon_CESM2_piClim-control_r1i1...:   0%|          |0.00/44.9M [?B/s]"
      ]
     },
     "metadata": {},
     "output_type": "display_data"
    },
    {
     "data": {
      "application/vnd.jupyter.widget-view+json": {
       "model_id": "5c3a2abfd618408d95dd8111bdf07a05",
       "version_major": 2,
       "version_minor": 0
      },
      "text/plain": [
       "rsds_Amon_CESM2_piClim-aer_r1i1p1f1_g...:   0%|          |0.00/53.7M [?B/s]"
      ]
     },
     "metadata": {},
     "output_type": "display_data"
    },
    {
     "data": {
      "application/vnd.jupyter.widget-view+json": {
       "model_id": "b58cd4ab7e0f4444ab8e79f20a925825",
       "version_major": 2,
       "version_minor": 0
      },
      "text/plain": [
       "rsdt_Amon_CESM2_piClim-control_r1i1p1...:   0%|          |0.00/36.7M [?B/s]"
      ]
     },
     "metadata": {},
     "output_type": "display_data"
    },
    {
     "name": "stdout",
     "output_type": "stream",
     "text": [
      "\n",
      "Downloading HadGEM3-GC31-LL.r1i1p1f3.gn ...\n",
      "\n"
     ]
    },
    {
     "data": {
      "application/vnd.jupyter.widget-view+json": {
       "model_id": "9f7d98f460cd4edea6c82b44f7c8cac0",
       "version_major": 2,
       "version_minor": 0
      },
      "text/plain": [
       "   Searching indices:   0%|          |0/9 [       ?index/s]"
      ]
     },
     "metadata": {},
     "output_type": "display_data"
    },
    {
     "data": {
      "application/vnd.jupyter.widget-view+json": {
       "model_id": "9c217004d40f4374b5cd4d703de891a4",
       "version_major": 2,
       "version_minor": 0
      },
      "text/plain": [
       "rsut_Amon_HadGEM3-GC31-LL_piClim-cont...:   0%|          |0.00/27.8M [?B/s]"
      ]
     },
     "metadata": {},
     "output_type": "display_data"
    },
    {
     "data": {
      "application/vnd.jupyter.widget-view+json": {
       "model_id": "94c0d48d64b54e93bce1061bbe60c1ad",
       "version_major": 2,
       "version_minor": 0
      },
      "text/plain": [
       "clt_Amon_HadGEM3-GC31-LL_piClim-contr...:   0%|          |0.00/23.8M [?B/s]"
      ]
     },
     "metadata": {},
     "output_type": "display_data"
    },
    {
     "data": {
      "application/vnd.jupyter.widget-view+json": {
       "model_id": "9c588afa4388466aa408cce599b09794",
       "version_major": 2,
       "version_minor": 0
      },
      "text/plain": [
       "rsdscs_Amon_HadGEM3-GC31-LL_piClim-co...:   0%|          |0.00/23.5M [?B/s]"
      ]
     },
     "metadata": {},
     "output_type": "display_data"
    },
    {
     "data": {
      "application/vnd.jupyter.widget-view+json": {
       "model_id": "9a3b1960e3104704ae396c6a5ce015aa",
       "version_major": 2,
       "version_minor": 0
      },
      "text/plain": [
       "rsds_Amon_HadGEM3-GC31-LL_piClim-cont...:   0%|          |0.00/27.5M [?B/s]"
      ]
     },
     "metadata": {},
     "output_type": "display_data"
    },
    {
     "data": {
      "application/vnd.jupyter.widget-view+json": {
       "model_id": "52e0a64ac52f4807affc74f10c8edfa1",
       "version_major": 2,
       "version_minor": 0
      },
      "text/plain": [
       "rsus_Amon_HadGEM3-GC31-LL_piClim-cont...:   0%|          |0.00/26.7M [?B/s]"
      ]
     },
     "metadata": {},
     "output_type": "display_data"
    },
    {
     "data": {
      "application/vnd.jupyter.widget-view+json": {
       "model_id": "42585a150fce44f9a56a5f5799926590",
       "version_major": 2,
       "version_minor": 0
      },
      "text/plain": [
       "rsuscs_Amon_HadGEM3-GC31-LL_piClim-co...:   0%|          |0.00/26.3M [?B/s]"
      ]
     },
     "metadata": {},
     "output_type": "display_data"
    },
    {
     "data": {
      "application/vnd.jupyter.widget-view+json": {
       "model_id": "656c09a5e35a43ea897e43363509a73a",
       "version_major": 2,
       "version_minor": 0
      },
      "text/plain": [
       "clt_Amon_HadGEM3-GC31-LL_piClim-aer_r...:   0%|          |0.00/23.8M [?B/s]"
      ]
     },
     "metadata": {},
     "output_type": "display_data"
    },
    {
     "data": {
      "application/vnd.jupyter.widget-view+json": {
       "model_id": "90bcd1395f7548f5a12702fbae4535c8",
       "version_major": 2,
       "version_minor": 0
      },
      "text/plain": [
       "rsds_Amon_HadGEM3-GC31-LL_piClim-aer_...:   0%|          |0.00/27.6M [?B/s]"
      ]
     },
     "metadata": {},
     "output_type": "display_data"
    },
    {
     "data": {
      "application/vnd.jupyter.widget-view+json": {
       "model_id": "a126e16abdf441d4b1689e44680ada54",
       "version_major": 2,
       "version_minor": 0
      },
      "text/plain": [
       "rsdt_Amon_HadGEM3-GC31-LL_piClim-aer_...:   0%|          |0.00/627k [?B/s]"
      ]
     },
     "metadata": {},
     "output_type": "display_data"
    },
    {
     "data": {
      "application/vnd.jupyter.widget-view+json": {
       "model_id": "476054a76e68483b9bbeed6023feca59",
       "version_major": 2,
       "version_minor": 0
      },
      "text/plain": [
       "rsdscs_Amon_HadGEM3-GC31-LL_piClim-ae...:   0%|          |0.00/23.7M [?B/s]"
      ]
     },
     "metadata": {},
     "output_type": "display_data"
    },
    {
     "data": {
      "application/vnd.jupyter.widget-view+json": {
       "model_id": "2a8e6ee7683145ba94a1cdcc3621a5f2",
       "version_major": 2,
       "version_minor": 0
      },
      "text/plain": [
       "rsus_Amon_HadGEM3-GC31-LL_piClim-aer_...:   0%|          |0.00/26.7M [?B/s]"
      ]
     },
     "metadata": {},
     "output_type": "display_data"
    },
    {
     "data": {
      "application/vnd.jupyter.widget-view+json": {
       "model_id": "65eb170f57a74d739174047ef2d33edd",
       "version_major": 2,
       "version_minor": 0
      },
      "text/plain": [
       "rsutcs_Amon_HadGEM3-GC31-LL_piClim-co...:   0%|          |0.00/25.5M [?B/s]"
      ]
     },
     "metadata": {},
     "output_type": "display_data"
    },
    {
     "data": {
      "application/vnd.jupyter.widget-view+json": {
       "model_id": "3cd4595a7a084fc1a6f8381fabd33960",
       "version_major": 2,
       "version_minor": 0
      },
      "text/plain": [
       "rsuscs_Amon_HadGEM3-GC31-LL_piClim-ae...:   0%|          |0.00/26.3M [?B/s]"
      ]
     },
     "metadata": {},
     "output_type": "display_data"
    },
    {
     "data": {
      "application/vnd.jupyter.widget-view+json": {
       "model_id": "6a51b682545f498599f2b79fb7e961fe",
       "version_major": 2,
       "version_minor": 0
      },
      "text/plain": [
       "rsut_Amon_HadGEM3-GC31-LL_piClim-aer_...:   0%|          |0.00/27.8M [?B/s]"
      ]
     },
     "metadata": {},
     "output_type": "display_data"
    },
    {
     "data": {
      "application/vnd.jupyter.widget-view+json": {
       "model_id": "8dd9d57458114ed19bdf488a591558fe",
       "version_major": 2,
       "version_minor": 0
      },
      "text/plain": [
       "rsdt_Amon_HadGEM3-GC31-LL_piClim-cont...:   0%|          |0.00/627k [?B/s]"
      ]
     },
     "metadata": {},
     "output_type": "display_data"
    },
    {
     "data": {
      "application/vnd.jupyter.widget-view+json": {
       "model_id": "df5cce759fc94b5696fe9818af1b97c9",
       "version_major": 2,
       "version_minor": 0
      },
      "text/plain": [
       "rsutcs_Amon_HadGEM3-GC31-LL_piClim-ae...:   0%|          |0.00/25.5M [?B/s]"
      ]
     },
     "metadata": {},
     "output_type": "display_data"
    },
    {
     "name": "stdout",
     "output_type": "stream",
     "text": [
      "\n",
      "Downloading MIROC6.r11i1p1f1.gn ...\n",
      "\n"
     ]
    },
    {
     "data": {
      "application/vnd.jupyter.widget-view+json": {
       "model_id": "77824e84799a4dceb57a8d807dcd3998",
       "version_major": 2,
       "version_minor": 0
      },
      "text/plain": [
       "   Searching indices:   0%|          |0/9 [       ?index/s]"
      ]
     },
     "metadata": {},
     "output_type": "display_data"
    },
    {
     "name": "stderr",
     "output_type": "stream",
     "text": [
      "/home/jovyan/my-conda-envs/cmip6-download/lib/python3.13/site-packages/intake_esgf/catalog.py:450: UserWarning: SolrESGFIndex('esgf-data.dkrz.de') failed to return a response, info may be incomplete\n",
      "  warnings.warn(\n",
      "/home/jovyan/my-conda-envs/cmip6-download/lib/python3.13/site-packages/intake_esgf/catalog.py:450: UserWarning: SolrESGFIndex('esgf-node.ipsl.upmc.fr') failed to return a response, info may be incomplete\n",
      "  warnings.warn(\n",
      "/home/jovyan/my-conda-envs/cmip6-download/lib/python3.13/site-packages/intake_esgf/catalog.py:450: UserWarning: SolrESGFIndex('esgf.ceda.ac.uk') failed to return a response, info may be incomplete\n",
      "  warnings.warn(\n",
      "/home/jovyan/my-conda-envs/cmip6-download/lib/python3.13/site-packages/intake_esgf/catalog.py:450: UserWarning: SolrESGFIndex('esg-dn1.nsc.liu.se') failed to return a response, info may be incomplete\n",
      "  warnings.warn(\n",
      "/home/jovyan/my-conda-envs/cmip6-download/lib/python3.13/site-packages/intake_esgf/catalog.py:450: UserWarning: SolrESGFIndex('esgf-node.ornl.gov') failed to return a response, info may be incomplete\n",
      "  warnings.warn(\n",
      "/home/jovyan/my-conda-envs/cmip6-download/lib/python3.13/site-packages/intake_esgf/catalog.py:450: UserWarning: SolrESGFIndex('esgf-node.llnl.gov') failed to return a response, info may be incomplete\n",
      "  warnings.warn(\n",
      "/home/jovyan/my-conda-envs/cmip6-download/lib/python3.13/site-packages/intake_esgf/catalog.py:450: UserWarning: SolrESGFIndex('esgf.nci.org.au') failed to return a response, info may be incomplete\n",
      "  warnings.warn(\n"
     ]
    },
    {
     "data": {
      "application/vnd.jupyter.widget-view+json": {
       "model_id": "d65c6faaff1147b0baa404a6272f13c4",
       "version_major": 2,
       "version_minor": 0
      },
      "text/plain": [
       "rsuscs_Amon_MIROC6_piClim-control_r11...:   0%|          |0.00/31.7M [?B/s]"
      ]
     },
     "metadata": {},
     "output_type": "display_data"
    },
    {
     "data": {
      "application/vnd.jupyter.widget-view+json": {
       "model_id": "794ccfcc27ea42d3bf793a56d6c2298c",
       "version_major": 2,
       "version_minor": 0
      },
      "text/plain": [
       "rsds_Amon_MIROC6_piClim-aer_r11i1p1f1...:   0%|          |0.00/32.4M [?B/s]"
      ]
     },
     "metadata": {},
     "output_type": "display_data"
    },
    {
     "data": {
      "application/vnd.jupyter.widget-view+json": {
       "model_id": "9443fd09791940c990aca1d8d9064331",
       "version_major": 2,
       "version_minor": 0
      },
      "text/plain": [
       "rsdscs_Amon_MIROC6_piClim-aer_r11i1p1...:   0%|          |0.00/26.3M [?B/s]"
      ]
     },
     "metadata": {},
     "output_type": "display_data"
    },
    {
     "data": {
      "application/vnd.jupyter.widget-view+json": {
       "model_id": "3e2061e222924645b98be57b320e3b17",
       "version_major": 2,
       "version_minor": 0
      },
      "text/plain": [
       "rsus_Amon_MIROC6_piClim-aer_r11i1p1f1...:   0%|          |0.00/33.0M [?B/s]"
      ]
     },
     "metadata": {},
     "output_type": "display_data"
    },
    {
     "data": {
      "application/vnd.jupyter.widget-view+json": {
       "model_id": "9bd71e9ae8e14804b12ebf5f891dd241",
       "version_major": 2,
       "version_minor": 0
      },
      "text/plain": [
       "rsds_Amon_MIROC6_piClim-control_r11i1...:   0%|          |0.00/32.4M [?B/s]"
      ]
     },
     "metadata": {},
     "output_type": "display_data"
    },
    {
     "data": {
      "application/vnd.jupyter.widget-view+json": {
       "model_id": "8537b5c4a01b415385965002d425b34e",
       "version_major": 2,
       "version_minor": 0
      },
      "text/plain": [
       "rsut_Amon_MIROC6_piClim-control_r11i1...:   0%|          |0.00/32.5M [?B/s]"
      ]
     },
     "metadata": {},
     "output_type": "display_data"
    },
    {
     "data": {
      "application/vnd.jupyter.widget-view+json": {
       "model_id": "57116751f617446196ac3726a13a3ed0",
       "version_major": 2,
       "version_minor": 0
      },
      "text/plain": [
       "rsdscs_Amon_MIROC6_piClim-control_r11...:   0%|          |0.00/26.2M [?B/s]"
      ]
     },
     "metadata": {},
     "output_type": "display_data"
    },
    {
     "data": {
      "application/vnd.jupyter.widget-view+json": {
       "model_id": "464d61184ae248458eaae3e8e168c4a4",
       "version_major": 2,
       "version_minor": 0
      },
      "text/plain": [
       "rsut_Amon_MIROC6_piClim-aer_r11i1p1f1...:   0%|          |0.00/32.5M [?B/s]"
      ]
     },
     "metadata": {},
     "output_type": "display_data"
    },
    {
     "data": {
      "application/vnd.jupyter.widget-view+json": {
       "model_id": "6683554c1e8d425e861d2911267a30c6",
       "version_major": 2,
       "version_minor": 0
      },
      "text/plain": [
       "clt_Amon_MIROC6_piClim-control_r11i1p...:   0%|          |0.00/34.6M [?B/s]"
      ]
     },
     "metadata": {},
     "output_type": "display_data"
    },
    {
     "data": {
      "application/vnd.jupyter.widget-view+json": {
       "model_id": "f03cfccc3a5d4920aa8c5ecbb08b0eef",
       "version_major": 2,
       "version_minor": 0
      },
      "text/plain": [
       "rsus_Amon_MIROC6_piClim-control_r11i1...:   0%|          |0.00/32.9M [?B/s]"
      ]
     },
     "metadata": {},
     "output_type": "display_data"
    },
    {
     "data": {
      "application/vnd.jupyter.widget-view+json": {
       "model_id": "6d59cbc9da394689a151498886919ba5",
       "version_major": 2,
       "version_minor": 0
      },
      "text/plain": [
       "rsdt_Amon_MIROC6_piClim-aer_r11i1p1f1...:   0%|          |0.00/12.6M [?B/s]"
      ]
     },
     "metadata": {},
     "output_type": "display_data"
    },
    {
     "data": {
      "application/vnd.jupyter.widget-view+json": {
       "model_id": "ea8cef9659824158aa4bb30664d182e5",
       "version_major": 2,
       "version_minor": 0
      },
      "text/plain": [
       "rsuscs_Amon_MIROC6_piClim-aer_r11i1p1...:   0%|          |0.00/31.8M [?B/s]"
      ]
     },
     "metadata": {},
     "output_type": "display_data"
    },
    {
     "data": {
      "application/vnd.jupyter.widget-view+json": {
       "model_id": "0f4510dfca4c470fa305ef363e420fd8",
       "version_major": 2,
       "version_minor": 0
      },
      "text/plain": [
       "rsdt_Amon_MIROC6_piClim-control_r11i1...:   0%|          |0.00/12.6M [?B/s]"
      ]
     },
     "metadata": {},
     "output_type": "display_data"
    },
    {
     "data": {
      "application/vnd.jupyter.widget-view+json": {
       "model_id": "5bfc22c07584458d959528bd78da095c",
       "version_major": 2,
       "version_minor": 0
      },
      "text/plain": [
       "clt_Amon_MIROC6_piClim-aer_r11i1p1f1_...:   0%|          |0.00/34.6M [?B/s]"
      ]
     },
     "metadata": {},
     "output_type": "display_data"
    },
    {
     "data": {
      "application/vnd.jupyter.widget-view+json": {
       "model_id": "f8d72834c28542b58a4a0f9d47b9e226",
       "version_major": 2,
       "version_minor": 0
      },
      "text/plain": [
       "rsutcs_Amon_MIROC6_piClim-control_r11...:   0%|          |0.00/28.5M [?B/s]"
      ]
     },
     "metadata": {},
     "output_type": "display_data"
    },
    {
     "data": {
      "application/vnd.jupyter.widget-view+json": {
       "model_id": "41d43bca9da24f9aabfef13aa191289c",
       "version_major": 2,
       "version_minor": 0
      },
      "text/plain": [
       "rsutcs_Amon_MIROC6_piClim-aer_r11i1p1...:   0%|          |0.00/28.6M [?B/s]"
      ]
     },
     "metadata": {},
     "output_type": "display_data"
    },
    {
     "name": "stdout",
     "output_type": "stream",
     "text": [
      "\n",
      "Downloading MIROC6.r1i1p1f1.gn ...\n",
      "\n"
     ]
    },
    {
     "data": {
      "application/vnd.jupyter.widget-view+json": {
       "model_id": "f0cb98c180934e499f6676ae81f72f92",
       "version_major": 2,
       "version_minor": 0
      },
      "text/plain": [
       "   Searching indices:   0%|          |0/9 [       ?index/s]"
      ]
     },
     "metadata": {},
     "output_type": "display_data"
    },
    {
     "name": "stderr",
     "output_type": "stream",
     "text": [
      "/home/jovyan/my-conda-envs/cmip6-download/lib/python3.13/site-packages/intake_esgf/catalog.py:450: UserWarning: SolrESGFIndex('esgf-data.dkrz.de') failed to return a response, info may be incomplete\n",
      "  warnings.warn(\n",
      "/home/jovyan/my-conda-envs/cmip6-download/lib/python3.13/site-packages/intake_esgf/catalog.py:450: UserWarning: SolrESGFIndex('esgf-node.ipsl.upmc.fr') failed to return a response, info may be incomplete\n",
      "  warnings.warn(\n",
      "/home/jovyan/my-conda-envs/cmip6-download/lib/python3.13/site-packages/intake_esgf/catalog.py:450: UserWarning: SolrESGFIndex('esgf.ceda.ac.uk') failed to return a response, info may be incomplete\n",
      "  warnings.warn(\n",
      "/home/jovyan/my-conda-envs/cmip6-download/lib/python3.13/site-packages/intake_esgf/catalog.py:450: UserWarning: SolrESGFIndex('esg-dn1.nsc.liu.se') failed to return a response, info may be incomplete\n",
      "  warnings.warn(\n",
      "/home/jovyan/my-conda-envs/cmip6-download/lib/python3.13/site-packages/intake_esgf/catalog.py:450: UserWarning: SolrESGFIndex('esgf-node.ornl.gov') failed to return a response, info may be incomplete\n",
      "  warnings.warn(\n",
      "/home/jovyan/my-conda-envs/cmip6-download/lib/python3.13/site-packages/intake_esgf/catalog.py:450: UserWarning: SolrESGFIndex('esgf-node.llnl.gov') failed to return a response, info may be incomplete\n",
      "  warnings.warn(\n",
      "/home/jovyan/my-conda-envs/cmip6-download/lib/python3.13/site-packages/intake_esgf/catalog.py:450: UserWarning: SolrESGFIndex('esgf.nci.org.au') failed to return a response, info may be incomplete\n",
      "  warnings.warn(\n"
     ]
    },
    {
     "data": {
      "application/vnd.jupyter.widget-view+json": {
       "model_id": "6029759df4a547eaa4226f340cf1e558",
       "version_major": 2,
       "version_minor": 0
      },
      "text/plain": [
       "rsut_Amon_MIROC6_piClim-aer_r1i1p1f1_...:   0%|          |0.00/32.4M [?B/s]"
      ]
     },
     "metadata": {},
     "output_type": "display_data"
    },
    {
     "data": {
      "application/vnd.jupyter.widget-view+json": {
       "model_id": "b9a405893bdf4212b85f8c3259a02bac",
       "version_major": 2,
       "version_minor": 0
      },
      "text/plain": [
       "clt_Amon_MIROC6_piClim-aer_r1i1p1f1_g...:   0%|          |0.00/34.5M [?B/s]"
      ]
     },
     "metadata": {},
     "output_type": "display_data"
    },
    {
     "data": {
      "application/vnd.jupyter.widget-view+json": {
       "model_id": "e666babf9b56448f8bc12fd22490226b",
       "version_major": 2,
       "version_minor": 0
      },
      "text/plain": [
       "rsds_Amon_MIROC6_piClim-aer_r1i1p1f1_...:   0%|          |0.00/32.4M [?B/s]"
      ]
     },
     "metadata": {},
     "output_type": "display_data"
    },
    {
     "data": {
      "application/vnd.jupyter.widget-view+json": {
       "model_id": "e01591792e884372aac9f868c45ddf0a",
       "version_major": 2,
       "version_minor": 0
      },
      "text/plain": [
       "rsuscs_Amon_MIROC6_piClim-aer_r1i1p1f...:   0%|          |0.00/31.7M [?B/s]"
      ]
     },
     "metadata": {},
     "output_type": "display_data"
    },
    {
     "data": {
      "application/vnd.jupyter.widget-view+json": {
       "model_id": "fad0670c672542bcaa8c5c4e811968a3",
       "version_major": 2,
       "version_minor": 0
      },
      "text/plain": [
       "rsutcs_Amon_MIROC6_piClim-aer_r1i1p1f...:   0%|          |0.00/28.6M [?B/s]"
      ]
     },
     "metadata": {},
     "output_type": "display_data"
    },
    {
     "data": {
      "application/vnd.jupyter.widget-view+json": {
       "model_id": "b1124f08d331410285bb74cec2f59f3a",
       "version_major": 2,
       "version_minor": 0
      },
      "text/plain": [
       "rsuscs_Amon_MIROC6_piClim-control_r1i...:   0%|          |0.00/31.7M [?B/s]"
      ]
     },
     "metadata": {},
     "output_type": "display_data"
    },
    {
     "data": {
      "application/vnd.jupyter.widget-view+json": {
       "model_id": "0a103bcfd1324b249ad74b4f8a6647a2",
       "version_major": 2,
       "version_minor": 0
      },
      "text/plain": [
       "rsdscs_Amon_MIROC6_piClim-control_r1i...:   0%|          |0.00/26.2M [?B/s]"
      ]
     },
     "metadata": {},
     "output_type": "display_data"
    },
    {
     "data": {
      "application/vnd.jupyter.widget-view+json": {
       "model_id": "552f1e99520c41c8957b90bfe59adcc3",
       "version_major": 2,
       "version_minor": 0
      },
      "text/plain": [
       "rsds_Amon_MIROC6_piClim-control_r1i1p...:   0%|          |0.00/32.3M [?B/s]"
      ]
     },
     "metadata": {},
     "output_type": "display_data"
    },
    {
     "data": {
      "application/vnd.jupyter.widget-view+json": {
       "model_id": "33164df552fc4f7e827f30293afb7177",
       "version_major": 2,
       "version_minor": 0
      },
      "text/plain": [
       "rsut_Amon_MIROC6_piClim-control_r1i1p...:   0%|          |0.00/32.4M [?B/s]"
      ]
     },
     "metadata": {},
     "output_type": "display_data"
    },
    {
     "data": {
      "application/vnd.jupyter.widget-view+json": {
       "model_id": "b61ecc4c20404607b0def89d0858c3be",
       "version_major": 2,
       "version_minor": 0
      },
      "text/plain": [
       "rsus_Amon_MIROC6_piClim-aer_r1i1p1f1_...:   0%|          |0.00/32.9M [?B/s]"
      ]
     },
     "metadata": {},
     "output_type": "display_data"
    },
    {
     "data": {
      "application/vnd.jupyter.widget-view+json": {
       "model_id": "36957978a6044f1094248d01eb8fcb2d",
       "version_major": 2,
       "version_minor": 0
      },
      "text/plain": [
       "rsutcs_Amon_MIROC6_piClim-control_r1i...:   0%|          |0.00/28.5M [?B/s]"
      ]
     },
     "metadata": {},
     "output_type": "display_data"
    },
    {
     "data": {
      "application/vnd.jupyter.widget-view+json": {
       "model_id": "a4f4727e756a4278a446c9662b820c95",
       "version_major": 2,
       "version_minor": 0
      },
      "text/plain": [
       "rsdscs_Amon_MIROC6_piClim-aer_r1i1p1f...:   0%|          |0.00/26.3M [?B/s]"
      ]
     },
     "metadata": {},
     "output_type": "display_data"
    },
    {
     "data": {
      "application/vnd.jupyter.widget-view+json": {
       "model_id": "9c01d7e2a4ab47b5a43327d07375f2e1",
       "version_major": 2,
       "version_minor": 0
      },
      "text/plain": [
       "rsdt_Amon_MIROC6_piClim-aer_r1i1p1f1_...:   0%|          |0.00/12.6M [?B/s]"
      ]
     },
     "metadata": {},
     "output_type": "display_data"
    },
    {
     "data": {
      "application/vnd.jupyter.widget-view+json": {
       "model_id": "2b56c8fe28e54d50ae84d7f2a37ca5b5",
       "version_major": 2,
       "version_minor": 0
      },
      "text/plain": [
       "rsdt_Amon_MIROC6_piClim-control_r1i1p...:   0%|          |0.00/12.6M [?B/s]"
      ]
     },
     "metadata": {},
     "output_type": "display_data"
    },
    {
     "data": {
      "application/vnd.jupyter.widget-view+json": {
       "model_id": "30bd33d036234a6eb5933da82c8ed430",
       "version_major": 2,
       "version_minor": 0
      },
      "text/plain": [
       "clt_Amon_MIROC6_piClim-control_r1i1p1...:   0%|          |0.00/34.5M [?B/s]"
      ]
     },
     "metadata": {},
     "output_type": "display_data"
    },
    {
     "data": {
      "application/vnd.jupyter.widget-view+json": {
       "model_id": "c2d3d5474fcd46be968a27cd16bd413e",
       "version_major": 2,
       "version_minor": 0
      },
      "text/plain": [
       "rsus_Amon_MIROC6_piClim-control_r1i1p...:   0%|          |0.00/32.9M [?B/s]"
      ]
     },
     "metadata": {},
     "output_type": "display_data"
    },
    {
     "name": "stdout",
     "output_type": "stream",
     "text": [
      "\n",
      "Downloading BCC-ESM1.r1i1p1f1.gn ...\n",
      "\n"
     ]
    },
    {
     "data": {
      "application/vnd.jupyter.widget-view+json": {
       "model_id": "597d39bd5a1049828713e6b40b87243d",
       "version_major": 2,
       "version_minor": 0
      },
      "text/plain": [
       "   Searching indices:   0%|          |0/9 [       ?index/s]"
      ]
     },
     "metadata": {},
     "output_type": "display_data"
    },
    {
     "name": "stderr",
     "output_type": "stream",
     "text": [
      "/home/jovyan/my-conda-envs/cmip6-download/lib/python3.13/site-packages/intake_esgf/catalog.py:450: UserWarning: SolrESGFIndex('esgf-data.dkrz.de') failed to return a response, info may be incomplete\n",
      "  warnings.warn(\n",
      "/home/jovyan/my-conda-envs/cmip6-download/lib/python3.13/site-packages/intake_esgf/catalog.py:450: UserWarning: SolrESGFIndex('esgf-node.ipsl.upmc.fr') failed to return a response, info may be incomplete\n",
      "  warnings.warn(\n",
      "/home/jovyan/my-conda-envs/cmip6-download/lib/python3.13/site-packages/intake_esgf/catalog.py:450: UserWarning: SolrESGFIndex('esgf.ceda.ac.uk') failed to return a response, info may be incomplete\n",
      "  warnings.warn(\n",
      "/home/jovyan/my-conda-envs/cmip6-download/lib/python3.13/site-packages/intake_esgf/catalog.py:450: UserWarning: SolrESGFIndex('esg-dn1.nsc.liu.se') failed to return a response, info may be incomplete\n",
      "  warnings.warn(\n",
      "/home/jovyan/my-conda-envs/cmip6-download/lib/python3.13/site-packages/intake_esgf/catalog.py:450: UserWarning: SolrESGFIndex('esgf-node.ornl.gov') failed to return a response, info may be incomplete\n",
      "  warnings.warn(\n",
      "/home/jovyan/my-conda-envs/cmip6-download/lib/python3.13/site-packages/intake_esgf/catalog.py:450: UserWarning: SolrESGFIndex('esgf-node.llnl.gov') failed to return a response, info may be incomplete\n",
      "  warnings.warn(\n",
      "/home/jovyan/my-conda-envs/cmip6-download/lib/python3.13/site-packages/intake_esgf/catalog.py:450: UserWarning: SolrESGFIndex('esgf.nci.org.au') failed to return a response, info may be incomplete\n",
      "  warnings.warn(\n"
     ]
    },
    {
     "data": {
      "application/vnd.jupyter.widget-view+json": {
       "model_id": "7a72dcedbe274ea9a41b31aa72caa555",
       "version_major": 2,
       "version_minor": 0
      },
      "text/plain": [
       "rsdt_Amon_BCC-ESM1_piClim-control_r1i...:   0%|          |0.00/12.2M [?B/s]"
      ]
     },
     "metadata": {},
     "output_type": "display_data"
    },
    {
     "data": {
      "application/vnd.jupyter.widget-view+json": {
       "model_id": "1f65e7be0c5245a3b05b183b89ab5a5e",
       "version_major": 2,
       "version_minor": 0
      },
      "text/plain": [
       "rsdscs_Amon_BCC-ESM1_piClim-aer_r1i1p...:   0%|          |0.00/12.2M [?B/s]"
      ]
     },
     "metadata": {},
     "output_type": "display_data"
    },
    {
     "data": {
      "application/vnd.jupyter.widget-view+json": {
       "model_id": "46bc1c7ffeae4a87b0e7dba2276ad7a6",
       "version_major": 2,
       "version_minor": 0
      },
      "text/plain": [
       "rsut_Amon_BCC-ESM1_piClim-aer_r1i1p1f...:   0%|          |0.00/12.2M [?B/s]"
      ]
     },
     "metadata": {},
     "output_type": "display_data"
    },
    {
     "data": {
      "application/vnd.jupyter.widget-view+json": {
       "model_id": "55245771575c433daa5fe0185876f43d",
       "version_major": 2,
       "version_minor": 0
      },
      "text/plain": [
       "rsutcs_Amon_BCC-ESM1_piClim-aer_r1i1p...:   0%|          |0.00/12.2M [?B/s]"
      ]
     },
     "metadata": {},
     "output_type": "display_data"
    },
    {
     "data": {
      "application/vnd.jupyter.widget-view+json": {
       "model_id": "96fcc8f769e5436ea9c0f38d938bea19",
       "version_major": 2,
       "version_minor": 0
      },
      "text/plain": [
       "rsdscs_Amon_BCC-ESM1_piClim-control_r...:   0%|          |0.00/12.2M [?B/s]"
      ]
     },
     "metadata": {},
     "output_type": "display_data"
    },
    {
     "data": {
      "application/vnd.jupyter.widget-view+json": {
       "model_id": "b50e358353a14db9815801a5532a969d",
       "version_major": 2,
       "version_minor": 0
      },
      "text/plain": [
       "rsus_Amon_BCC-ESM1_piClim-control_r1i...:   0%|          |0.00/12.2M [?B/s]"
      ]
     },
     "metadata": {},
     "output_type": "display_data"
    },
    {
     "data": {
      "application/vnd.jupyter.widget-view+json": {
       "model_id": "38c938e4312b4fcd92ee0173223cb95b",
       "version_major": 2,
       "version_minor": 0
      },
      "text/plain": [
       "rsus_Amon_BCC-ESM1_piClim-aer_r1i1p1f...:   0%|          |0.00/12.2M [?B/s]"
      ]
     },
     "metadata": {},
     "output_type": "display_data"
    },
    {
     "data": {
      "application/vnd.jupyter.widget-view+json": {
       "model_id": "e608ea36ba1242caa4adb82cb0c5e0e3",
       "version_major": 2,
       "version_minor": 0
      },
      "text/plain": [
       "rsdt_Amon_BCC-ESM1_piClim-aer_r1i1p1f...:   0%|          |0.00/12.2M [?B/s]"
      ]
     },
     "metadata": {},
     "output_type": "display_data"
    },
    {
     "data": {
      "application/vnd.jupyter.widget-view+json": {
       "model_id": "3b1970ae9a9c43da98a3106b743de4c1",
       "version_major": 2,
       "version_minor": 0
      },
      "text/plain": [
       "rsutcs_Amon_BCC-ESM1_piClim-control_r...:   0%|          |0.00/12.2M [?B/s]"
      ]
     },
     "metadata": {},
     "output_type": "display_data"
    },
    {
     "data": {
      "application/vnd.jupyter.widget-view+json": {
       "model_id": "6ee87312ff80470fbc38512387ea017c",
       "version_major": 2,
       "version_minor": 0
      },
      "text/plain": [
       "rsuscs_Amon_BCC-ESM1_piClim-control_r...:   0%|          |0.00/12.2M [?B/s]"
      ]
     },
     "metadata": {},
     "output_type": "display_data"
    },
    {
     "data": {
      "application/vnd.jupyter.widget-view+json": {
       "model_id": "8bc0413539a24f949a4717f3135f19d6",
       "version_major": 2,
       "version_minor": 0
      },
      "text/plain": [
       "rsds_Amon_BCC-ESM1_piClim-control_r1i...:   0%|          |0.00/12.2M [?B/s]"
      ]
     },
     "metadata": {},
     "output_type": "display_data"
    },
    {
     "data": {
      "application/vnd.jupyter.widget-view+json": {
       "model_id": "22b7fc1a81b3447482961dccb54f1a54",
       "version_major": 2,
       "version_minor": 0
      },
      "text/plain": [
       "clt_Amon_BCC-ESM1_piClim-aer_r1i1p1f1...:   0%|          |0.00/12.2M [?B/s]"
      ]
     },
     "metadata": {},
     "output_type": "display_data"
    },
    {
     "data": {
      "application/vnd.jupyter.widget-view+json": {
       "model_id": "a1b63ca82a7a434682baf9529825d12e",
       "version_major": 2,
       "version_minor": 0
      },
      "text/plain": [
       "rsuscs_Amon_BCC-ESM1_piClim-aer_r1i1p...:   0%|          |0.00/12.2M [?B/s]"
      ]
     },
     "metadata": {},
     "output_type": "display_data"
    },
    {
     "data": {
      "application/vnd.jupyter.widget-view+json": {
       "model_id": "d7bae51cdc9e41f2b4458166bf09ca57",
       "version_major": 2,
       "version_minor": 0
      },
      "text/plain": [
       "rsut_Amon_BCC-ESM1_piClim-control_r1i...:   0%|          |0.00/12.2M [?B/s]"
      ]
     },
     "metadata": {},
     "output_type": "display_data"
    },
    {
     "data": {
      "application/vnd.jupyter.widget-view+json": {
       "model_id": "61177a1c29344faeb0fba45009ee4a51",
       "version_major": 2,
       "version_minor": 0
      },
      "text/plain": [
       "clt_Amon_BCC-ESM1_piClim-control_r1i1...:   0%|          |0.00/12.2M [?B/s]"
      ]
     },
     "metadata": {},
     "output_type": "display_data"
    },
    {
     "data": {
      "application/vnd.jupyter.widget-view+json": {
       "model_id": "f93762db3a4a438b9df4e8acbdf359e4",
       "version_major": 2,
       "version_minor": 0
      },
      "text/plain": [
       "rsds_Amon_BCC-ESM1_piClim-aer_r1i1p1f...:   0%|          |0.00/12.2M [?B/s]"
      ]
     },
     "metadata": {},
     "output_type": "display_data"
    },
    {
     "name": "stdout",
     "output_type": "stream",
     "text": [
      "\n",
      "Downloading GFDL-CM4.r1i1p1f1.gr1 ...\n",
      "\n"
     ]
    },
    {
     "data": {
      "application/vnd.jupyter.widget-view+json": {
       "model_id": "435f33cabefd4078a89c50c8f9f0f68a",
       "version_major": 2,
       "version_minor": 0
      },
      "text/plain": [
       "   Searching indices:   0%|          |0/9 [       ?index/s]"
      ]
     },
     "metadata": {},
     "output_type": "display_data"
    },
    {
     "data": {
      "application/vnd.jupyter.widget-view+json": {
       "model_id": "0254e3cc582b4104a69077a03a44d4c6",
       "version_major": 2,
       "version_minor": 0
      },
      "text/plain": [
       "rsdscs_Amon_GFDL-CM4_piClim-aer_r1i1p...:   0%|          |0.00/43.7M [?B/s]"
      ]
     },
     "metadata": {},
     "output_type": "display_data"
    },
    {
     "data": {
      "application/vnd.jupyter.widget-view+json": {
       "model_id": "38f4ccdd1eec438ebeacd05a5b12e906",
       "version_major": 2,
       "version_minor": 0
      },
      "text/plain": [
       "rsut_Amon_GFDL-CM4_piClim-aer_r1i1p1f...:   0%|          |0.00/51.3M [?B/s]"
      ]
     },
     "metadata": {},
     "output_type": "display_data"
    },
    {
     "data": {
      "application/vnd.jupyter.widget-view+json": {
       "model_id": "3b4b6dd4af94479bb46c10aec5cf3ac2",
       "version_major": 2,
       "version_minor": 0
      },
      "text/plain": [
       "rsutcs_Amon_GFDL-CM4_piClim-aer_r1i1p...:   0%|          |0.00/47.1M [?B/s]"
      ]
     },
     "metadata": {},
     "output_type": "display_data"
    },
    {
     "data": {
      "application/vnd.jupyter.widget-view+json": {
       "model_id": "12290b2d662646cfbd930eda56bd4df9",
       "version_major": 2,
       "version_minor": 0
      },
      "text/plain": [
       "rsdt_Amon_GFDL-CM4_piClim-aer_r1i1p1f...:   0%|          |0.00/36.4M [?B/s]"
      ]
     },
     "metadata": {},
     "output_type": "display_data"
    },
    {
     "data": {
      "application/vnd.jupyter.widget-view+json": {
       "model_id": "646021e430a94cefad93db42875fe794",
       "version_major": 2,
       "version_minor": 0
      },
      "text/plain": [
       "rsuscs_Amon_GFDL-CM4_piClim-aer_r1i1p...:   0%|          |0.00/48.0M [?B/s]"
      ]
     },
     "metadata": {},
     "output_type": "display_data"
    },
    {
     "data": {
      "application/vnd.jupyter.widget-view+json": {
       "model_id": "6553c442aaf14a73bb26830bc14d84c4",
       "version_major": 2,
       "version_minor": 0
      },
      "text/plain": [
       "rsds_Amon_GFDL-CM4_piClim-control_r1i...:   0%|          |0.00/50.3M [?B/s]"
      ]
     },
     "metadata": {},
     "output_type": "display_data"
    },
    {
     "data": {
      "application/vnd.jupyter.widget-view+json": {
       "model_id": "3bf33b1ec5614c43bed63638e8733c15",
       "version_major": 2,
       "version_minor": 0
      },
      "text/plain": [
       "rsdt_Amon_GFDL-CM4_piClim-control_r1i...:   0%|          |0.00/36.4M [?B/s]"
      ]
     },
     "metadata": {},
     "output_type": "display_data"
    },
    {
     "data": {
      "application/vnd.jupyter.widget-view+json": {
       "model_id": "acec6a17e70f4a5a84a9270f51120a7c",
       "version_major": 2,
       "version_minor": 0
      },
      "text/plain": [
       "rsdscs_Amon_GFDL-CM4_piClim-control_r...:   0%|          |0.00/43.5M [?B/s]"
      ]
     },
     "metadata": {},
     "output_type": "display_data"
    },
    {
     "data": {
      "application/vnd.jupyter.widget-view+json": {
       "model_id": "e971232a71b94cd3962afddf66f3bf81",
       "version_major": 2,
       "version_minor": 0
      },
      "text/plain": [
       "rsuscs_Amon_GFDL-CM4_piClim-control_r...:   0%|          |0.00/47.9M [?B/s]"
      ]
     },
     "metadata": {},
     "output_type": "display_data"
    },
    {
     "data": {
      "application/vnd.jupyter.widget-view+json": {
       "model_id": "854d1d202ae24fd5ab312fa259d3c469",
       "version_major": 2,
       "version_minor": 0
      },
      "text/plain": [
       "rsut_Amon_GFDL-CM4_piClim-control_r1i...:   0%|          |0.00/51.4M [?B/s]"
      ]
     },
     "metadata": {},
     "output_type": "display_data"
    },
    {
     "data": {
      "application/vnd.jupyter.widget-view+json": {
       "model_id": "b1cd6394dc4143a7a40d0ae776f9d108",
       "version_major": 2,
       "version_minor": 0
      },
      "text/plain": [
       "rsutcs_Amon_GFDL-CM4_piClim-control_r...:   0%|          |0.00/47.0M [?B/s]"
      ]
     },
     "metadata": {},
     "output_type": "display_data"
    },
    {
     "data": {
      "application/vnd.jupyter.widget-view+json": {
       "model_id": "d107282fc09c49fc945b8abdb0b3e526",
       "version_major": 2,
       "version_minor": 0
      },
      "text/plain": [
       "clt_Amon_GFDL-CM4_piClim-aer_r1i1p1f1...:   0%|          |0.00/52.0M [?B/s]"
      ]
     },
     "metadata": {},
     "output_type": "display_data"
    },
    {
     "data": {
      "application/vnd.jupyter.widget-view+json": {
       "model_id": "00b49842e15147a3b0f4791752dde21b",
       "version_major": 2,
       "version_minor": 0
      },
      "text/plain": [
       "rsus_Amon_GFDL-CM4_piClim-aer_r1i1p1f...:   0%|          |0.00/52.0M [?B/s]"
      ]
     },
     "metadata": {},
     "output_type": "display_data"
    },
    {
     "data": {
      "application/vnd.jupyter.widget-view+json": {
       "model_id": "a930daf0d7914999b3ae054bdf819eeb",
       "version_major": 2,
       "version_minor": 0
      },
      "text/plain": [
       "rsds_Amon_GFDL-CM4_piClim-aer_r1i1p1f...:   0%|          |0.00/50.4M [?B/s]"
      ]
     },
     "metadata": {},
     "output_type": "display_data"
    },
    {
     "data": {
      "application/vnd.jupyter.widget-view+json": {
       "model_id": "6c902df8e32d4d82ab0300feed61ac62",
       "version_major": 2,
       "version_minor": 0
      },
      "text/plain": [
       "clt_Amon_GFDL-CM4_piClim-control_r1i1...:   0%|          |0.00/52.0M [?B/s]"
      ]
     },
     "metadata": {},
     "output_type": "display_data"
    },
    {
     "data": {
      "application/vnd.jupyter.widget-view+json": {
       "model_id": "7e8d0bd9b9f74c3a8ee476222f64eebb",
       "version_major": 2,
       "version_minor": 0
      },
      "text/plain": [
       "rsus_Amon_GFDL-CM4_piClim-control_r1i...:   0%|          |0.00/52.0M [?B/s]"
      ]
     },
     "metadata": {},
     "output_type": "display_data"
    },
    {
     "name": "stdout",
     "output_type": "stream",
     "text": [
      "\n",
      "Downloading UKESM1-0-LL.r1i1p1f4.gn ...\n",
      "\n"
     ]
    },
    {
     "data": {
      "application/vnd.jupyter.widget-view+json": {
       "model_id": "2efefee1c17d4991891a8fe6703683c3",
       "version_major": 2,
       "version_minor": 0
      },
      "text/plain": [
       "   Searching indices:   0%|          |0/9 [       ?index/s]"
      ]
     },
     "metadata": {},
     "output_type": "display_data"
    },
    {
     "name": "stderr",
     "output_type": "stream",
     "text": [
      "/home/jovyan/my-conda-envs/cmip6-download/lib/python3.13/site-packages/intake_esgf/catalog.py:450: UserWarning: SolrESGFIndex('esgf-node.ipsl.upmc.fr') failed to return a response, info may be incomplete\n",
      "  warnings.warn(\n",
      "/home/jovyan/my-conda-envs/cmip6-download/lib/python3.13/site-packages/intake_esgf/catalog.py:450: UserWarning: SolrESGFIndex('esgf.ceda.ac.uk') failed to return a response, info may be incomplete\n",
      "  warnings.warn(\n",
      "/home/jovyan/my-conda-envs/cmip6-download/lib/python3.13/site-packages/intake_esgf/catalog.py:450: UserWarning: SolrESGFIndex('esgf-data.dkrz.de') failed to return a response, info may be incomplete\n",
      "  warnings.warn(\n",
      "/home/jovyan/my-conda-envs/cmip6-download/lib/python3.13/site-packages/intake_esgf/catalog.py:450: UserWarning: SolrESGFIndex('esg-dn1.nsc.liu.se') failed to return a response, info may be incomplete\n",
      "  warnings.warn(\n",
      "/home/jovyan/my-conda-envs/cmip6-download/lib/python3.13/site-packages/intake_esgf/catalog.py:450: UserWarning: SolrESGFIndex('esgf-node.ornl.gov') failed to return a response, info may be incomplete\n",
      "  warnings.warn(\n",
      "/home/jovyan/my-conda-envs/cmip6-download/lib/python3.13/site-packages/intake_esgf/catalog.py:450: UserWarning: SolrESGFIndex('esgf-node.llnl.gov') failed to return a response, info may be incomplete\n",
      "  warnings.warn(\n",
      "/home/jovyan/my-conda-envs/cmip6-download/lib/python3.13/site-packages/intake_esgf/catalog.py:450: UserWarning: SolrESGFIndex('esgf.nci.org.au') failed to return a response, info may be incomplete\n",
      "  warnings.warn(\n"
     ]
    },
    {
     "data": {
      "application/vnd.jupyter.widget-view+json": {
       "model_id": "ec85759f37124e41b23ec0afdf21b06a",
       "version_major": 2,
       "version_minor": 0
      },
      "text/plain": [
       "rsus_Amon_UKESM1-0-LL_piClim-aer_r1i1...:   0%|          |0.00/40.1M [?B/s]"
      ]
     },
     "metadata": {},
     "output_type": "display_data"
    },
    {
     "data": {
      "application/vnd.jupyter.widget-view+json": {
       "model_id": "67fe607ada32482ebe843dac5e9ee6f8",
       "version_major": 2,
       "version_minor": 0
      },
      "text/plain": [
       "rsdt_Amon_UKESM1-0-LL_piClim-aer_r1i1...:   0%|          |0.00/901k [?B/s]"
      ]
     },
     "metadata": {},
     "output_type": "display_data"
    },
    {
     "data": {
      "application/vnd.jupyter.widget-view+json": {
       "model_id": "b4ae2f432c0947f2bcaf1f0c91d13076",
       "version_major": 2,
       "version_minor": 0
      },
      "text/plain": [
       "rsutcs_Amon_UKESM1-0-LL_piClim-aer_r1...:   0%|          |0.00/38.1M [?B/s]"
      ]
     },
     "metadata": {},
     "output_type": "display_data"
    },
    {
     "data": {
      "application/vnd.jupyter.widget-view+json": {
       "model_id": "5fb25d2d3ffc4225a80a6756a83c312a",
       "version_major": 2,
       "version_minor": 0
      },
      "text/plain": [
       "rsut_Amon_UKESM1-0-LL_piClim-aer_r1i1...:   0%|          |0.00/41.6M [?B/s]"
      ]
     },
     "metadata": {},
     "output_type": "display_data"
    },
    {
     "data": {
      "application/vnd.jupyter.widget-view+json": {
       "model_id": "faf3ebb84d5d41ceaf234f6de96112de",
       "version_major": 2,
       "version_minor": 0
      },
      "text/plain": [
       "rsutcs_Amon_UKESM1-0-LL_piClim-contro...:   0%|          |0.00/38.1M [?B/s]"
      ]
     },
     "metadata": {},
     "output_type": "display_data"
    },
    {
     "data": {
      "application/vnd.jupyter.widget-view+json": {
       "model_id": "2060f5ae1c47471bb0e1e4948d7ebbc2",
       "version_major": 2,
       "version_minor": 0
      },
      "text/plain": [
       "clt_Amon_UKESM1-0-LL_piClim-control_r...:   0%|          |0.00/35.6M [?B/s]"
      ]
     },
     "metadata": {},
     "output_type": "display_data"
    },
    {
     "data": {
      "application/vnd.jupyter.widget-view+json": {
       "model_id": "2ed9f293a895468abeff333498878313",
       "version_major": 2,
       "version_minor": 0
      },
      "text/plain": [
       "rsdscs_Amon_UKESM1-0-LL_piClim-contro...:   0%|          |0.00/35.3M [?B/s]"
      ]
     },
     "metadata": {},
     "output_type": "display_data"
    },
    {
     "data": {
      "application/vnd.jupyter.widget-view+json": {
       "model_id": "89b6fed0ee7645259c5cdc4b6c6e592a",
       "version_major": 2,
       "version_minor": 0
      },
      "text/plain": [
       "rsds_Amon_UKESM1-0-LL_piClim-aer_r1i1...:   0%|          |0.00/41.4M [?B/s]"
      ]
     },
     "metadata": {},
     "output_type": "display_data"
    },
    {
     "data": {
      "application/vnd.jupyter.widget-view+json": {
       "model_id": "df8eeae708984dfeaac0ac66cd77fe4f",
       "version_major": 2,
       "version_minor": 0
      },
      "text/plain": [
       "rsdt_Amon_UKESM1-0-LL_piClim-control_...:   0%|          |0.00/901k [?B/s]"
      ]
     },
     "metadata": {},
     "output_type": "display_data"
    },
    {
     "data": {
      "application/vnd.jupyter.widget-view+json": {
       "model_id": "22792059222c4d839cf9826e38c7fed8",
       "version_major": 2,
       "version_minor": 0
      },
      "text/plain": [
       "rsuscs_Amon_UKESM1-0-LL_piClim-contro...:   0%|          |0.00/39.3M [?B/s]"
      ]
     },
     "metadata": {},
     "output_type": "display_data"
    },
    {
     "data": {
      "application/vnd.jupyter.widget-view+json": {
       "model_id": "92900f12999649889bedcca6e235fb9c",
       "version_major": 2,
       "version_minor": 0
      },
      "text/plain": [
       "rsdscs_Amon_UKESM1-0-LL_piClim-aer_r1...:   0%|          |0.00/35.5M [?B/s]"
      ]
     },
     "metadata": {},
     "output_type": "display_data"
    },
    {
     "data": {
      "application/vnd.jupyter.widget-view+json": {
       "model_id": "927dfa93c7094fa3acf8fd15c7ea558b",
       "version_major": 2,
       "version_minor": 0
      },
      "text/plain": [
       "rsus_Amon_UKESM1-0-LL_piClim-control_...:   0%|          |0.00/40.1M [?B/s]"
      ]
     },
     "metadata": {},
     "output_type": "display_data"
    },
    {
     "data": {
      "application/vnd.jupyter.widget-view+json": {
       "model_id": "eb4be25d30ae46c4a6cd41ca49edf2ae",
       "version_major": 2,
       "version_minor": 0
      },
      "text/plain": [
       "rsut_Amon_UKESM1-0-LL_piClim-control_...:   0%|          |0.00/41.6M [?B/s]"
      ]
     },
     "metadata": {},
     "output_type": "display_data"
    },
    {
     "data": {
      "application/vnd.jupyter.widget-view+json": {
       "model_id": "7fecd0e4603a4a609c2f980115f97356",
       "version_major": 2,
       "version_minor": 0
      },
      "text/plain": [
       "rsds_Amon_UKESM1-0-LL_piClim-control_...:   0%|          |0.00/41.3M [?B/s]"
      ]
     },
     "metadata": {},
     "output_type": "display_data"
    },
    {
     "data": {
      "application/vnd.jupyter.widget-view+json": {
       "model_id": "4fcfe78a40fc495a98ed6bdd7c514788",
       "version_major": 2,
       "version_minor": 0
      },
      "text/plain": [
       "clt_Amon_UKESM1-0-LL_piClim-aer_r1i1p...:   0%|          |0.00/35.6M [?B/s]"
      ]
     },
     "metadata": {},
     "output_type": "display_data"
    },
    {
     "data": {
      "application/vnd.jupyter.widget-view+json": {
       "model_id": "178d3df1321c4182a5634820eedce917",
       "version_major": 2,
       "version_minor": 0
      },
      "text/plain": [
       "rsuscs_Amon_UKESM1-0-LL_piClim-aer_r1...:   0%|          |0.00/39.3M [?B/s]"
      ]
     },
     "metadata": {},
     "output_type": "display_data"
    },
    {
     "name": "stdout",
     "output_type": "stream",
     "text": [
      "\n",
      "Downloading ACCESS-CM2.r1i1p1f1.gn ...\n",
      "\n"
     ]
    },
    {
     "data": {
      "application/vnd.jupyter.widget-view+json": {
       "model_id": "3712934e7bab49d99298974f7a17a323",
       "version_major": 2,
       "version_minor": 0
      },
      "text/plain": [
       "   Searching indices:   0%|          |0/9 [       ?index/s]"
      ]
     },
     "metadata": {},
     "output_type": "display_data"
    },
    {
     "data": {
      "application/vnd.jupyter.widget-view+json": {
       "model_id": "9383f94f9d1c4b00a19cfc942f3e29db",
       "version_major": 2,
       "version_minor": 0
      },
      "text/plain": [
       "rsdt_Amon_ACCESS-CM2_piClim-aer_r1i1p...:   0%|          |0.00/547k [?B/s]"
      ]
     },
     "metadata": {},
     "output_type": "display_data"
    },
    {
     "data": {
      "application/vnd.jupyter.widget-view+json": {
       "model_id": "8caa3eb25bcd4bd9b4f2d9b565140c73",
       "version_major": 2,
       "version_minor": 0
      },
      "text/plain": [
       "rsutcs_Amon_ACCESS-CM2_piClim-aer_r1i...:   0%|          |0.00/32.0M [?B/s]"
      ]
     },
     "metadata": {},
     "output_type": "display_data"
    },
    {
     "data": {
      "application/vnd.jupyter.widget-view+json": {
       "model_id": "221de1e0a74d481088ffd925017c2f93",
       "version_major": 2,
       "version_minor": 0
      },
      "text/plain": [
       "rsdscs_Amon_ACCESS-CM2_piClim-aer_r1i...:   0%|          |0.00/31.4M [?B/s]"
      ]
     },
     "metadata": {},
     "output_type": "display_data"
    },
    {
     "data": {
      "application/vnd.jupyter.widget-view+json": {
       "model_id": "52c42ff908164cd8aaaf3263f77d7864",
       "version_major": 2,
       "version_minor": 0
      },
      "text/plain": [
       "rsdscs_Amon_ACCESS-CM2_piClim-control...:   0%|          |0.00/31.3M [?B/s]"
      ]
     },
     "metadata": {},
     "output_type": "display_data"
    },
    {
     "data": {
      "application/vnd.jupyter.widget-view+json": {
       "model_id": "7f2867e6bb25432aab08096d2b6346cc",
       "version_major": 2,
       "version_minor": 0
      },
      "text/plain": [
       "rsuscs_Amon_ACCESS-CM2_piClim-aer_r1i...:   0%|          |0.00/32.4M [?B/s]"
      ]
     },
     "metadata": {},
     "output_type": "display_data"
    },
    {
     "data": {
      "application/vnd.jupyter.widget-view+json": {
       "model_id": "038dd7d09d6a431585a662197ee5e317",
       "version_major": 2,
       "version_minor": 0
      },
      "text/plain": [
       "rsut_Amon_ACCESS-CM2_piClim-aer_r1i1p...:   0%|          |0.00/32.5M [?B/s]"
      ]
     },
     "metadata": {},
     "output_type": "display_data"
    },
    {
     "data": {
      "application/vnd.jupyter.widget-view+json": {
       "model_id": "bf890c83e0134ddfba152378fd042334",
       "version_major": 2,
       "version_minor": 0
      },
      "text/plain": [
       "rsuscs_Amon_ACCESS-CM2_piClim-control...:   0%|          |0.00/32.4M [?B/s]"
      ]
     },
     "metadata": {},
     "output_type": "display_data"
    },
    {
     "data": {
      "application/vnd.jupyter.widget-view+json": {
       "model_id": "8a4665b4bd74477796fc80fedf7aafc4",
       "version_major": 2,
       "version_minor": 0
      },
      "text/plain": [
       "rsdt_Amon_ACCESS-CM2_piClim-control_r...:   0%|          |0.00/547k [?B/s]"
      ]
     },
     "metadata": {},
     "output_type": "display_data"
    },
    {
     "data": {
      "application/vnd.jupyter.widget-view+json": {
       "model_id": "0fcf73adec10416ba648b2a04fef16a2",
       "version_major": 2,
       "version_minor": 0
      },
      "text/plain": [
       "rsut_Amon_ACCESS-CM2_piClim-control_r...:   0%|          |0.00/32.5M [?B/s]"
      ]
     },
     "metadata": {},
     "output_type": "display_data"
    },
    {
     "data": {
      "application/vnd.jupyter.widget-view+json": {
       "model_id": "0ca98654c9ef41d1ac935ebaaad378b0",
       "version_major": 2,
       "version_minor": 0
      },
      "text/plain": [
       "rsutcs_Amon_ACCESS-CM2_piClim-control...:   0%|          |0.00/32.0M [?B/s]"
      ]
     },
     "metadata": {},
     "output_type": "display_data"
    },
    {
     "data": {
      "application/vnd.jupyter.widget-view+json": {
       "model_id": "4b443e175f6042c49d9117bc04c8a846",
       "version_major": 2,
       "version_minor": 0
      },
      "text/plain": [
       "clt_Amon_ACCESS-CM2_piClim-aer_r1i1p1...:   0%|          |0.00/26.9M [?B/s]"
      ]
     },
     "metadata": {},
     "output_type": "display_data"
    },
    {
     "data": {
      "application/vnd.jupyter.widget-view+json": {
       "model_id": "01cddfae52d34f08a6a8b1e6f9fb34b3",
       "version_major": 2,
       "version_minor": 0
      },
      "text/plain": [
       "rsds_Amon_ACCESS-CM2_piClim-aer_r1i1p...:   0%|          |0.00/32.5M [?B/s]"
      ]
     },
     "metadata": {},
     "output_type": "display_data"
    },
    {
     "data": {
      "application/vnd.jupyter.widget-view+json": {
       "model_id": "29f2b900c4e642739a432d9cf630e8a7",
       "version_major": 2,
       "version_minor": 0
      },
      "text/plain": [
       "clt_Amon_ACCESS-CM2_piClim-control_r1...:   0%|          |0.00/26.9M [?B/s]"
      ]
     },
     "metadata": {},
     "output_type": "display_data"
    },
    {
     "data": {
      "application/vnd.jupyter.widget-view+json": {
       "model_id": "8e0dfdcba0fa41d4b04c960ab73cf791",
       "version_major": 2,
       "version_minor": 0
      },
      "text/plain": [
       "rsus_Amon_ACCESS-CM2_piClim-aer_r1i1p...:   0%|          |0.00/31.4M [?B/s]"
      ]
     },
     "metadata": {},
     "output_type": "display_data"
    },
    {
     "data": {
      "application/vnd.jupyter.widget-view+json": {
       "model_id": "ac5046c3c84c479294fdd531598684c7",
       "version_major": 2,
       "version_minor": 0
      },
      "text/plain": [
       "rsds_Amon_ACCESS-CM2_piClim-control_r...:   0%|          |0.00/32.5M [?B/s]"
      ]
     },
     "metadata": {},
     "output_type": "display_data"
    },
    {
     "data": {
      "application/vnd.jupyter.widget-view+json": {
       "model_id": "295fbec4cee14f4798d602213fcb19ba",
       "version_major": 2,
       "version_minor": 0
      },
      "text/plain": [
       "rsus_Amon_ACCESS-CM2_piClim-control_r...:   0%|          |0.00/31.4M [?B/s]"
      ]
     },
     "metadata": {},
     "output_type": "display_data"
    },
    {
     "name": "stdout",
     "output_type": "stream",
     "text": [
      "\n",
      "Downloading MPI-ESM-1-2-HAM.r1i1p1f1.gn ...\n",
      "\n"
     ]
    },
    {
     "data": {
      "application/vnd.jupyter.widget-view+json": {
       "model_id": "54121c8f82c9465e8d0ce8e19a2ca689",
       "version_major": 2,
       "version_minor": 0
      },
      "text/plain": [
       "   Searching indices:   0%|          |0/9 [       ?index/s]"
      ]
     },
     "metadata": {},
     "output_type": "display_data"
    },
    {
     "name": "stderr",
     "output_type": "stream",
     "text": [
      "/home/jovyan/my-conda-envs/cmip6-download/lib/python3.13/site-packages/intake_esgf/catalog.py:450: UserWarning: SolrESGFIndex('esgf-node.ipsl.upmc.fr') failed to return a response, info may be incomplete\n",
      "  warnings.warn(\n",
      "/home/jovyan/my-conda-envs/cmip6-download/lib/python3.13/site-packages/intake_esgf/catalog.py:450: UserWarning: SolrESGFIndex('esgf.ceda.ac.uk') failed to return a response, info may be incomplete\n",
      "  warnings.warn(\n",
      "/home/jovyan/my-conda-envs/cmip6-download/lib/python3.13/site-packages/intake_esgf/catalog.py:450: UserWarning: SolrESGFIndex('esgf-data.dkrz.de') failed to return a response, info may be incomplete\n",
      "  warnings.warn(\n",
      "/home/jovyan/my-conda-envs/cmip6-download/lib/python3.13/site-packages/intake_esgf/catalog.py:450: UserWarning: SolrESGFIndex('esg-dn1.nsc.liu.se') failed to return a response, info may be incomplete\n",
      "  warnings.warn(\n",
      "/home/jovyan/my-conda-envs/cmip6-download/lib/python3.13/site-packages/intake_esgf/catalog.py:450: UserWarning: SolrESGFIndex('esgf-node.ornl.gov') failed to return a response, info may be incomplete\n",
      "  warnings.warn(\n",
      "/home/jovyan/my-conda-envs/cmip6-download/lib/python3.13/site-packages/intake_esgf/catalog.py:450: UserWarning: SolrESGFIndex('esgf-node.llnl.gov') failed to return a response, info may be incomplete\n",
      "  warnings.warn(\n",
      "/home/jovyan/my-conda-envs/cmip6-download/lib/python3.13/site-packages/intake_esgf/catalog.py:450: UserWarning: SolrESGFIndex('esgf.nci.org.au') failed to return a response, info may be incomplete\n",
      "  warnings.warn(\n"
     ]
    },
    {
     "data": {
      "application/vnd.jupyter.widget-view+json": {
       "model_id": "a0232130025e4823b489b96bf02a0c97",
       "version_major": 2,
       "version_minor": 0
      },
      "text/plain": [
       "rsdt_Amon_MPI-ESM-1-2-HAM_piClim-cont...:   0%|          |0.00/1.25M [?B/s]"
      ]
     },
     "metadata": {},
     "output_type": "display_data"
    },
    {
     "data": {
      "application/vnd.jupyter.widget-view+json": {
       "model_id": "0a5f7931ac1746f0a1a91f793fb3a6a6",
       "version_major": 2,
       "version_minor": 0
      },
      "text/plain": [
       "clt_Amon_MPI-ESM-1-2-HAM_piClim-aer_r...:   0%|          |0.00/11.9M [?B/s]"
      ]
     },
     "metadata": {},
     "output_type": "display_data"
    },
    {
     "data": {
      "application/vnd.jupyter.widget-view+json": {
       "model_id": "d582367227be450f81da330c794092a6",
       "version_major": 2,
       "version_minor": 0
      },
      "text/plain": [
       "rsuscs_Amon_MPI-ESM-1-2-HAM_piClim-ae...:   0%|          |0.00/7.19M [?B/s]"
      ]
     },
     "metadata": {},
     "output_type": "display_data"
    },
    {
     "data": {
      "application/vnd.jupyter.widget-view+json": {
       "model_id": "1312571c2009476591ffbc5aae687c9a",
       "version_major": 2,
       "version_minor": 0
      },
      "text/plain": [
       "rsut_Amon_MPI-ESM-1-2-HAM_piClim-cont...:   0%|          |0.00/4.37M [?B/s]"
      ]
     },
     "metadata": {},
     "output_type": "display_data"
    },
    {
     "data": {
      "application/vnd.jupyter.widget-view+json": {
       "model_id": "783334d598804b70af18a52b605bfc72",
       "version_major": 2,
       "version_minor": 0
      },
      "text/plain": [
       "clt_Amon_MPI-ESM-1-2-HAM_piClim-aer_r...:   0%|          |0.00/5.99M [?B/s]"
      ]
     },
     "metadata": {},
     "output_type": "display_data"
    },
    {
     "data": {
      "application/vnd.jupyter.widget-view+json": {
       "model_id": "30a76a74f74d4b13a9ff8abe5c84e9f4",
       "version_major": 2,
       "version_minor": 0
      },
      "text/plain": [
       "rsdscs_Amon_MPI-ESM-1-2-HAM_piClim-ae...:   0%|          |0.00/3.19M [?B/s]"
      ]
     },
     "metadata": {},
     "output_type": "display_data"
    },
    {
     "data": {
      "application/vnd.jupyter.widget-view+json": {
       "model_id": "41ef0ee624a14ee59b0cf9530ba9c30d",
       "version_major": 2,
       "version_minor": 0
      },
      "text/plain": [
       "rsuscs_Amon_MPI-ESM-1-2-HAM_piClim-ae...:   0%|          |0.00/3.62M [?B/s]"
      ]
     },
     "metadata": {},
     "output_type": "display_data"
    },
    {
     "data": {
      "application/vnd.jupyter.widget-view+json": {
       "model_id": "a822321b31c8472e89a8003eab93d105",
       "version_major": 2,
       "version_minor": 0
      },
      "text/plain": [
       "rsut_Amon_MPI-ESM-1-2-HAM_piClim-aer_...:   0%|          |0.00/4.36M [?B/s]"
      ]
     },
     "metadata": {},
     "output_type": "display_data"
    },
    {
     "data": {
      "application/vnd.jupyter.widget-view+json": {
       "model_id": "116ce9bf605446258bd2b0f57464c843",
       "version_major": 2,
       "version_minor": 0
      },
      "text/plain": [
       "clt_Amon_MPI-ESM-1-2-HAM_piClim-contr...:   0%|          |0.00/11.9M [?B/s]"
      ]
     },
     "metadata": {},
     "output_type": "display_data"
    },
    {
     "data": {
      "application/vnd.jupyter.widget-view+json": {
       "model_id": "612bb6a65e4d47c6a5c01587074e4198",
       "version_major": 2,
       "version_minor": 0
      },
      "text/plain": [
       "rsdt_Amon_MPI-ESM-1-2-HAM_piClim-aer_...:   0%|          |0.00/2.44M [?B/s]"
      ]
     },
     "metadata": {},
     "output_type": "display_data"
    },
    {
     "data": {
      "application/vnd.jupyter.widget-view+json": {
       "model_id": "7941edf6ce5a4d12a47fe62d9c26d4c3",
       "version_major": 2,
       "version_minor": 0
      },
      "text/plain": [
       "rsus_Amon_MPI-ESM-1-2-HAM_piClim-aer_...:   0%|          |0.00/4.14M [?B/s]"
      ]
     },
     "metadata": {},
     "output_type": "display_data"
    },
    {
     "data": {
      "application/vnd.jupyter.widget-view+json": {
       "model_id": "4d67eabca95b4fc3a96ead012a82ec1d",
       "version_major": 2,
       "version_minor": 0
      },
      "text/plain": [
       "rsut_Amon_MPI-ESM-1-2-HAM_piClim-aer_...:   0%|          |0.00/8.71M [?B/s]"
      ]
     },
     "metadata": {},
     "output_type": "display_data"
    },
    {
     "data": {
      "application/vnd.jupyter.widget-view+json": {
       "model_id": "a7ce2be903da4bbf82b43c731c4eef3b",
       "version_major": 2,
       "version_minor": 0
      },
      "text/plain": [
       "rsdt_Amon_MPI-ESM-1-2-HAM_piClim-cont...:   0%|          |0.00/2.44M [?B/s]"
      ]
     },
     "metadata": {},
     "output_type": "display_data"
    },
    {
     "data": {
      "application/vnd.jupyter.widget-view+json": {
       "model_id": "413637b3548f424b8be04092ab3882de",
       "version_major": 2,
       "version_minor": 0
      },
      "text/plain": [
       "rsuscs_Amon_MPI-ESM-1-2-HAM_piClim-co...:   0%|          |0.00/7.17M [?B/s]"
      ]
     },
     "metadata": {},
     "output_type": "display_data"
    },
    {
     "data": {
      "application/vnd.jupyter.widget-view+json": {
       "model_id": "225a252ecb404f10bc4a163dd0e15547",
       "version_major": 2,
       "version_minor": 0
      },
      "text/plain": [
       "rsds_Amon_MPI-ESM-1-2-HAM_piClim-aer_...:   0%|          |0.00/4.46M [?B/s]"
      ]
     },
     "metadata": {},
     "output_type": "display_data"
    },
    {
     "data": {
      "application/vnd.jupyter.widget-view+json": {
       "model_id": "9f2d1af61e074e07b9ef52ed3cc37b3c",
       "version_major": 2,
       "version_minor": 0
      },
      "text/plain": [
       "rsutcs_Amon_MPI-ESM-1-2-HAM_piClim-ae...:   0%|          |0.00/3.43M [?B/s]"
      ]
     },
     "metadata": {},
     "output_type": "display_data"
    },
    {
     "data": {
      "application/vnd.jupyter.widget-view+json": {
       "model_id": "bb85cd4636f242dbacaf01ba217f64df",
       "version_major": 2,
       "version_minor": 0
      },
      "text/plain": [
       "clt_Amon_MPI-ESM-1-2-HAM_piClim-contr...:   0%|          |0.00/5.99M [?B/s]"
      ]
     },
     "metadata": {},
     "output_type": "display_data"
    },
    {
     "data": {
      "application/vnd.jupyter.widget-view+json": {
       "model_id": "20369ffd418f4701990be12db4e3d913",
       "version_major": 2,
       "version_minor": 0
      },
      "text/plain": [
       "rsus_Amon_MPI-ESM-1-2-HAM_piClim-cont...:   0%|          |0.00/8.27M [?B/s]"
      ]
     },
     "metadata": {},
     "output_type": "display_data"
    },
    {
     "data": {
      "application/vnd.jupyter.widget-view+json": {
       "model_id": "792cae7471ad428981f41a18571d7d1a",
       "version_major": 2,
       "version_minor": 0
      },
      "text/plain": [
       "rsds_Amon_MPI-ESM-1-2-HAM_piClim-aer_...:   0%|          |0.00/8.89M [?B/s]"
      ]
     },
     "metadata": {},
     "output_type": "display_data"
    },
    {
     "data": {
      "application/vnd.jupyter.widget-view+json": {
       "model_id": "ac306b57e3a740f48a82a8dd76d432e7",
       "version_major": 2,
       "version_minor": 0
      },
      "text/plain": [
       "rsus_Amon_MPI-ESM-1-2-HAM_piClim-aer_...:   0%|          |0.00/8.27M [?B/s]"
      ]
     },
     "metadata": {},
     "output_type": "display_data"
    },
    {
     "data": {
      "application/vnd.jupyter.widget-view+json": {
       "model_id": "42729e294b8a4b22b738155b644a3fcb",
       "version_major": 2,
       "version_minor": 0
      },
      "text/plain": [
       "rsutcs_Amon_MPI-ESM-1-2-HAM_piClim-ae...:   0%|          |0.00/6.80M [?B/s]"
      ]
     },
     "metadata": {},
     "output_type": "display_data"
    },
    {
     "data": {
      "application/vnd.jupyter.widget-view+json": {
       "model_id": "2fedb032eb554b0f878cf0410e2c234b",
       "version_major": 2,
       "version_minor": 0
      },
      "text/plain": [
       "rsdscs_Amon_MPI-ESM-1-2-HAM_piClim-co...:   0%|          |0.00/3.15M [?B/s]"
      ]
     },
     "metadata": {},
     "output_type": "display_data"
    },
    {
     "data": {
      "application/vnd.jupyter.widget-view+json": {
       "model_id": "1f14a3e68e304fe094877f94ba15cdc4",
       "version_major": 2,
       "version_minor": 0
      },
      "text/plain": [
       "rsus_Amon_MPI-ESM-1-2-HAM_piClim-cont...:   0%|          |0.00/4.16M [?B/s]"
      ]
     },
     "metadata": {},
     "output_type": "display_data"
    },
    {
     "data": {
      "application/vnd.jupyter.widget-view+json": {
       "model_id": "9a50ab697c4b4128a4f4547eab189147",
       "version_major": 2,
       "version_minor": 0
      },
      "text/plain": [
       "rsutcs_Amon_MPI-ESM-1-2-HAM_piClim-co...:   0%|          |0.00/3.41M [?B/s]"
      ]
     },
     "metadata": {},
     "output_type": "display_data"
    },
    {
     "data": {
      "application/vnd.jupyter.widget-view+json": {
       "model_id": "e831091cedc849fb96b036c1982e2a9c",
       "version_major": 2,
       "version_minor": 0
      },
      "text/plain": [
       "rsdt_Amon_MPI-ESM-1-2-HAM_piClim-aer_...:   0%|          |0.00/1.25M [?B/s]"
      ]
     },
     "metadata": {},
     "output_type": "display_data"
    },
    {
     "data": {
      "application/vnd.jupyter.widget-view+json": {
       "model_id": "02164b16a7084abc8d4e80a4685bec4b",
       "version_major": 2,
       "version_minor": 0
      },
      "text/plain": [
       "rsut_Amon_MPI-ESM-1-2-HAM_piClim-cont...:   0%|          |0.00/8.70M [?B/s]"
      ]
     },
     "metadata": {},
     "output_type": "display_data"
    },
    {
     "data": {
      "application/vnd.jupyter.widget-view+json": {
       "model_id": "2460c82f857a4625b7b6f4a47bccb870",
       "version_major": 2,
       "version_minor": 0
      },
      "text/plain": [
       "rsds_Amon_MPI-ESM-1-2-HAM_piClim-cont...:   0%|          |0.00/8.86M [?B/s]"
      ]
     },
     "metadata": {},
     "output_type": "display_data"
    },
    {
     "data": {
      "application/vnd.jupyter.widget-view+json": {
       "model_id": "c596ca21df604d9a83c3665a1303542e",
       "version_major": 2,
       "version_minor": 0
      },
      "text/plain": [
       "rsds_Amon_MPI-ESM-1-2-HAM_piClim-cont...:   0%|          |0.00/4.45M [?B/s]"
      ]
     },
     "metadata": {},
     "output_type": "display_data"
    },
    {
     "data": {
      "application/vnd.jupyter.widget-view+json": {
       "model_id": "fbb7a387a77f46e3b7d9ad21537b8799",
       "version_major": 2,
       "version_minor": 0
      },
      "text/plain": [
       "rsdscs_Amon_MPI-ESM-1-2-HAM_piClim-co...:   0%|          |0.00/6.26M [?B/s]"
      ]
     },
     "metadata": {},
     "output_type": "display_data"
    },
    {
     "data": {
      "application/vnd.jupyter.widget-view+json": {
       "model_id": "093d7e5f8464408c83e3a359bdc598fe",
       "version_major": 2,
       "version_minor": 0
      },
      "text/plain": [
       "rsuscs_Amon_MPI-ESM-1-2-HAM_piClim-co...:   0%|          |0.00/3.61M [?B/s]"
      ]
     },
     "metadata": {},
     "output_type": "display_data"
    },
    {
     "data": {
      "application/vnd.jupyter.widget-view+json": {
       "model_id": "1d48039070834d77a28e8a650dcd6b0d",
       "version_major": 2,
       "version_minor": 0
      },
      "text/plain": [
       "rsdscs_Amon_MPI-ESM-1-2-HAM_piClim-ae...:   0%|          |0.00/6.32M [?B/s]"
      ]
     },
     "metadata": {},
     "output_type": "display_data"
    },
    {
     "data": {
      "application/vnd.jupyter.widget-view+json": {
       "model_id": "8774f7a2dff943558144c3d54148bfce",
       "version_major": 2,
       "version_minor": 0
      },
      "text/plain": [
       "rsutcs_Amon_MPI-ESM-1-2-HAM_piClim-co...:   0%|          |0.00/6.78M [?B/s]"
      ]
     },
     "metadata": {},
     "output_type": "display_data"
    }
   ],
   "source": [
    "# ================ DOWNLOAD EVERY SINGLE OUTPUT ================ #\n",
    "\n",
    "### DOWNLOAD EVERY SINGLE ENTRY AND COMBINE THEM INTO A DICTIONARY ###\n",
    "\n",
    "## Initialize the full dictionary ##\n",
    "\n",
    "full_cmip6_dict = {}\n",
    "\n",
    "## Downloading all the models one entry at a time ##\n",
    "\n",
    "print(\"Downloading and/or loading the data one entry at a time...\\n\")\n",
    "\n",
    "for index in grouped_models_dataframe.index :\n",
    "\n",
    "    ## Reset the catalog ##\n",
    "\n",
    "    catalog = intake_esgf.ESGFCatalog()\n",
    "\n",
    "    ## Generate the associated search criterias ##\n",
    "    \n",
    "    search_criterias_given_row, single_model_name = generate_single_model_search_criterias(\n",
    "        search_facets = search, \n",
    "        grouped_models_dataframe = grouped_models_dataframe,\n",
    "        index = index\n",
    "        )\n",
    "    \n",
    "    ## Generate the single model's output name ##\n",
    "\n",
    "    print(\"\\nDownloading {} ...\\n\".format(single_model_name))\n",
    "\n",
    "    ## Apply the search criterias ##\n",
    "\n",
    "    catalog.search(\n",
    "            **search_criterias_given_row,\n",
    "        )\n",
    "\n",
    "    ## Downloading the output... ##\n",
    "\n",
    "    single_model_dictionary = catalog.to_dataset_dict(\n",
    "            add_measures=False,\n",
    "            ignore_facets=[\"project\",\"mip_era\",\"activtity_drs\", \"institution_id, table_id\",\"grid_label\",\"version\"],\n",
    "            quiet=True,\n",
    "        )\n",
    "    \n",
    "    ## Updating its keys ##\n",
    "\n",
    "    single_model_dictionary = update_single_entry_keys(single_model_dictionary, single_model_name)\n",
    "\n",
    "    ## Updating the full dictionary ##\n",
    "\n",
    "    full_cmip6_dict = full_cmip6_dict | single_model_dictionary"
   ]
  },
  {
   "cell_type": "markdown",
   "id": "ca0ebc1e",
   "metadata": {},
   "source": [
    "### Homemade routine to retrieve the areacella of a given (source_id, member_id, grid_label) tuple only once"
   ]
  },
  {
   "cell_type": "markdown",
   "id": "d1398b16",
   "metadata": {},
   "source": [
    "As we have said in the introduction of this section, the main default of the intake-esgf package when it comes to look for measures is that it does so for every single variable. And this is independent of the fact that our 8 variables fore one experiment would share the same areacella grid. What's more, it always start by looking for our full set of facets which is irrevelant. \n",
    "\n",
    "Indeed, the only three parameters that define areacella are the **source_id**, **member_id** and obviously the **grid_label**. Conveniently enough, we can group our search results according to these three parameters with the *.model_groups* method. In the end, it may be that our experiment won't hold the areacella variable but it does not really matter, we just need to find one. This is the spirit of this routine made to still get areacella but significantly faster. It is worth noting that this method is not useful if you need to import a small number of models and variables as you won't really see the time difference. \n",
    "\n",
    "Let's be sure that we look at all the nodes for this part."
   ]
  },
  {
   "cell_type": "code",
   "execution_count": null,
   "id": "83e379d4",
   "metadata": {},
   "outputs": [],
   "source": [
    "all_indices = True"
   ]
  },
  {
   "cell_type": "code",
   "execution_count": null,
   "id": "b5877905",
   "metadata": {},
   "outputs": [
    {
     "name": "stdout",
     "output_type": "stream",
     "text": [
      "We are looking at all the nodes.\n"
     ]
    }
   ],
   "source": [
    "intake_esgf.conf.set(all_indices=all_indices)\n",
    "\n",
    "if all_indices:\n",
    "\n",
    "    print(\"We are looking at all the nodes.\")\n",
    "\n",
    "else:\n",
    "\n",
    "    print(\"We are only looking at the globus nodes\")"
   ]
  },
  {
   "cell_type": "markdown",
   "id": "e39a808a",
   "metadata": {},
   "source": [
    "Then we apply the following routine to produce the areacella dictionary."
   ]
  },
  {
   "cell_type": "code",
   "execution_count": null,
   "id": "8ff61345",
   "metadata": {},
   "outputs": [
    {
     "name": "stdout",
     "output_type": "stream",
     "text": [
      "\n",
      "Downloading areacella for ACCESS-CM2.r1i1p1f1.gn ...\n",
      "\n"
     ]
    },
    {
     "data": {
      "application/vnd.jupyter.widget-view+json": {
       "model_id": "e6336dccc3ce44b58faba0f680a248d2",
       "version_major": 2,
       "version_minor": 0
      },
      "text/plain": [
       "areacella_fx_ACCESS-CM2_historical_r1...:   0%|          |0.00/48.4k [?B/s]"
      ]
     },
     "metadata": {},
     "output_type": "display_data"
    },
    {
     "name": "stdout",
     "output_type": "stream",
     "text": [
      "\n",
      "Downloading areacella for ACCESS-ESM1-5.r1i1p1f1.gn ...\n",
      "\n"
     ]
    },
    {
     "data": {
      "application/vnd.jupyter.widget-view+json": {
       "model_id": "bea6582169524f78916e9d208f30103f",
       "version_major": 2,
       "version_minor": 0
      },
      "text/plain": [
       "areacella_fx_ACCESS-ESM1-5_historical...:   0%|          |0.00/48.4k [?B/s]"
      ]
     },
     "metadata": {},
     "output_type": "display_data"
    },
    {
     "name": "stdout",
     "output_type": "stream",
     "text": [
      "\n",
      "Downloading areacella for BCC-ESM1.r1i1p1f1.gn ...\n",
      "\n"
     ]
    },
    {
     "data": {
      "application/vnd.jupyter.widget-view+json": {
       "model_id": "55e0926ddaf24f49bf53e88f7551450b",
       "version_major": 2,
       "version_minor": 0
      },
      "text/plain": [
       "areacella_fx_BCC-ESM1_1pctCO2_r1i1p1f...:   0%|          |0.00/50.8k [?B/s]"
      ]
     },
     "metadata": {},
     "output_type": "display_data"
    },
    {
     "ename": "KeyboardInterrupt",
     "evalue": "",
     "output_type": "error",
     "traceback": [
      "\u001b[31m---------------------------------------------------------------------------\u001b[39m",
      "\u001b[31mIndexError\u001b[39m                                Traceback (most recent call last)",
      "\u001b[36mFile \u001b[39m\u001b[32m~/my-conda-envs/cmip6-download/lib/python3.13/multiprocessing/pool.py:856\u001b[39m, in \u001b[36mIMapIterator.next\u001b[39m\u001b[34m(self, timeout)\u001b[39m\n\u001b[32m    855\u001b[39m \u001b[38;5;28;01mtry\u001b[39;00m:\n\u001b[32m--> \u001b[39m\u001b[32m856\u001b[39m     item = \u001b[38;5;28;43mself\u001b[39;49m\u001b[43m.\u001b[49m\u001b[43m_items\u001b[49m\u001b[43m.\u001b[49m\u001b[43mpopleft\u001b[49m\u001b[43m(\u001b[49m\u001b[43m)\u001b[49m\n\u001b[32m    857\u001b[39m \u001b[38;5;28;01mexcept\u001b[39;00m \u001b[38;5;167;01mIndexError\u001b[39;00m:\n",
      "\u001b[31mIndexError\u001b[39m: pop from an empty deque",
      "\nDuring handling of the above exception, another exception occurred:\n",
      "\u001b[31mKeyboardInterrupt\u001b[39m                         Traceback (most recent call last)",
      "\u001b[36mCell\u001b[39m\u001b[36m \u001b[39m\u001b[32mIn[36]\u001b[39m\u001b[32m, line 39\u001b[39m\n\u001b[32m     35\u001b[39m     source_id = \u001b[33m\"\u001b[39m\u001b[33mIPSL-CM6A-LR\u001b[39m\u001b[33m\"\u001b[39m\n\u001b[32m     37\u001b[39m \u001b[38;5;66;03m## Do the full search ##\u001b[39;00m\n\u001b[32m---> \u001b[39m\u001b[32m39\u001b[39m areacella_search_full = \u001b[43mcatalog\u001b[49m\u001b[43m.\u001b[49m\u001b[43msearch\u001b[49m\u001b[43m(\u001b[49m\n\u001b[32m     40\u001b[39m \u001b[43m    \u001b[49m\u001b[43msource_id\u001b[49m\u001b[43m=\u001b[49m\u001b[43msource_id\u001b[49m\u001b[43m,\u001b[49m\n\u001b[32m     41\u001b[39m \u001b[43m    \u001b[49m\u001b[43mgrid_label\u001b[49m\u001b[43m=\u001b[49m\u001b[43mgrid_label\u001b[49m\u001b[43m,\u001b[49m\n\u001b[32m     42\u001b[39m \u001b[43m    \u001b[49m\u001b[43mvariable_id\u001b[49m\u001b[43m=\u001b[49m\u001b[33;43m\"\u001b[39;49m\u001b[33;43mareacella\u001b[39;49m\u001b[33;43m\"\u001b[39;49m\u001b[43m,\u001b[49m\n\u001b[32m     43\u001b[39m \u001b[43m    \u001b[49m\u001b[43mquiet\u001b[49m\u001b[43m=\u001b[49m\u001b[38;5;28;43;01mTrue\u001b[39;49;00m\u001b[43m,\u001b[49m\n\u001b[32m     44\u001b[39m \u001b[43m\u001b[49m\u001b[43m)\u001b[49m.df  \u001b[38;5;66;03m# silence the progress bar\u001b[39;00m\n\u001b[32m     46\u001b[39m \u001b[38;5;66;03m## Extract the first experiment id that gives an areacella entry ##\u001b[39;00m\n\u001b[32m     48\u001b[39m only_first_exp_id = areacella_search_full.experiment_id.values[\u001b[32m0\u001b[39m]\n",
      "\u001b[36mFile \u001b[39m\u001b[32m~/my-conda-envs/cmip6-download/lib/python3.13/site-packages/intake_esgf/catalog.py:336\u001b[39m, in \u001b[36mESGFCatalog.search\u001b[39m\u001b[34m(self, quiet, **search)\u001b[39m\n\u001b[32m    334\u001b[39m search_time = time.time()\n\u001b[32m    335\u001b[39m dfs = ThreadPool(\u001b[38;5;28mlen\u001b[39m(\u001b[38;5;28mself\u001b[39m.indices)).imap_unordered(_search, \u001b[38;5;28mself\u001b[39m.indices)\n\u001b[32m--> \u001b[39m\u001b[32m336\u001b[39m \u001b[38;5;28mself\u001b[39m.df = \u001b[43mbase\u001b[49m\u001b[43m.\u001b[49m\u001b[43mcombine_results\u001b[49m\u001b[43m(\u001b[49m\n\u001b[32m    337\u001b[39m \u001b[43m    \u001b[49m\u001b[43mtqdm\u001b[49m\u001b[43m(\u001b[49m\n\u001b[32m    338\u001b[39m \u001b[43m        \u001b[49m\u001b[43mdfs\u001b[49m\u001b[43m,\u001b[49m\n\u001b[32m    339\u001b[39m \u001b[43m        \u001b[49m\u001b[43mdisable\u001b[49m\u001b[43m=\u001b[49m\u001b[43mquiet\u001b[49m\u001b[43m,\u001b[49m\n\u001b[32m    340\u001b[39m \u001b[43m        \u001b[49m\u001b[43mbar_format\u001b[49m\u001b[43m=\u001b[49m\u001b[43mbase\u001b[49m\u001b[43m.\u001b[49m\u001b[43mbar_format\u001b[49m\u001b[43m,\u001b[49m\n\u001b[32m    341\u001b[39m \u001b[43m        \u001b[49m\u001b[43munit\u001b[49m\u001b[43m=\u001b[49m\u001b[33;43m\"\u001b[39;49m\u001b[33;43mindex\u001b[39;49m\u001b[33;43m\"\u001b[39;49m\u001b[43m,\u001b[49m\n\u001b[32m    342\u001b[39m \u001b[43m        \u001b[49m\u001b[43munit_scale\u001b[49m\u001b[43m=\u001b[49m\u001b[38;5;28;43;01mFalse\u001b[39;49;00m\u001b[43m,\u001b[49m\n\u001b[32m    343\u001b[39m \u001b[43m        \u001b[49m\u001b[43mdesc\u001b[49m\u001b[43m=\u001b[49m\u001b[33;43m\"\u001b[39;49m\u001b[33;43mSearching indices\u001b[39;49m\u001b[33;43m\"\u001b[39;49m\u001b[43m,\u001b[49m\n\u001b[32m    344\u001b[39m \u001b[43m        \u001b[49m\u001b[43mascii\u001b[49m\u001b[43m=\u001b[49m\u001b[38;5;28;43;01mFalse\u001b[39;49;00m\u001b[43m,\u001b[49m\n\u001b[32m    345\u001b[39m \u001b[43m        \u001b[49m\u001b[43mtotal\u001b[49m\u001b[43m=\u001b[49m\u001b[38;5;28;43mlen\u001b[39;49m\u001b[43m(\u001b[49m\u001b[38;5;28;43mself\u001b[39;49m\u001b[43m.\u001b[49m\u001b[43mindices\u001b[49m\u001b[43m)\u001b[49m\u001b[43m,\u001b[49m\n\u001b[32m    346\u001b[39m \u001b[43m    \u001b[49m\u001b[43m)\u001b[49m\n\u001b[32m    347\u001b[39m \u001b[43m\u001b[49m\u001b[43m)\u001b[49m\n\u001b[32m    348\u001b[39m \u001b[38;5;28mself\u001b[39m._set_project()\n\u001b[32m    350\u001b[39m \u001b[38;5;66;03m# even though we are using latest=True, because the search is distributed, we\u001b[39;00m\n\u001b[32m    351\u001b[39m \u001b[38;5;66;03m# may have different versions from different indices.\u001b[39;00m\n",
      "\u001b[36mFile \u001b[39m\u001b[32m~/my-conda-envs/cmip6-download/lib/python3.13/site-packages/intake_esgf/base.py:210\u001b[39m, in \u001b[36mcombine_results\u001b[39m\u001b[34m(dfs)\u001b[39m\n\u001b[32m    208\u001b[39m \u001b[38;5;66;03m# combine and remove duplicate entries\u001b[39;00m\n\u001b[32m    209\u001b[39m logger = intake_esgf.conf.get_logger()\n\u001b[32m--> \u001b[39m\u001b[32m210\u001b[39m df = \u001b[43mpd\u001b[49m\u001b[43m.\u001b[49m\u001b[43mconcat\u001b[49m\u001b[43m(\u001b[49m\u001b[43mdfs\u001b[49m\u001b[43m)\u001b[49m\n\u001b[32m    211\u001b[39m \u001b[38;5;28;01mif\u001b[39;00m \u001b[38;5;28mlen\u001b[39m(df) == \u001b[32m0\u001b[39m:\n\u001b[32m    212\u001b[39m     logger.info(\u001b[33m\"\u001b[39m\u001b[38;5;130;01m\\x1b\u001b[39;00m\u001b[33m[36;32msearch end \u001b[39m\u001b[38;5;130;01m\\x1b\u001b[39;00m\u001b[33m[91;20mno results\u001b[39m\u001b[38;5;130;01m\\033\u001b[39;00m\u001b[33m[0m\u001b[39m\u001b[33m\"\u001b[39m)\n",
      "\u001b[36mFile \u001b[39m\u001b[32m~/my-conda-envs/cmip6-download/lib/python3.13/site-packages/pandas/core/reshape/concat.py:382\u001b[39m, in \u001b[36mconcat\u001b[39m\u001b[34m(objs, axis, join, ignore_index, keys, levels, names, verify_integrity, sort, copy)\u001b[39m\n\u001b[32m    379\u001b[39m \u001b[38;5;28;01melif\u001b[39;00m copy \u001b[38;5;129;01mand\u001b[39;00m using_copy_on_write():\n\u001b[32m    380\u001b[39m     copy = \u001b[38;5;28;01mFalse\u001b[39;00m\n\u001b[32m--> \u001b[39m\u001b[32m382\u001b[39m op = \u001b[43m_Concatenator\u001b[49m\u001b[43m(\u001b[49m\n\u001b[32m    383\u001b[39m \u001b[43m    \u001b[49m\u001b[43mobjs\u001b[49m\u001b[43m,\u001b[49m\n\u001b[32m    384\u001b[39m \u001b[43m    \u001b[49m\u001b[43maxis\u001b[49m\u001b[43m=\u001b[49m\u001b[43maxis\u001b[49m\u001b[43m,\u001b[49m\n\u001b[32m    385\u001b[39m \u001b[43m    \u001b[49m\u001b[43mignore_index\u001b[49m\u001b[43m=\u001b[49m\u001b[43mignore_index\u001b[49m\u001b[43m,\u001b[49m\n\u001b[32m    386\u001b[39m \u001b[43m    \u001b[49m\u001b[43mjoin\u001b[49m\u001b[43m=\u001b[49m\u001b[43mjoin\u001b[49m\u001b[43m,\u001b[49m\n\u001b[32m    387\u001b[39m \u001b[43m    \u001b[49m\u001b[43mkeys\u001b[49m\u001b[43m=\u001b[49m\u001b[43mkeys\u001b[49m\u001b[43m,\u001b[49m\n\u001b[32m    388\u001b[39m \u001b[43m    \u001b[49m\u001b[43mlevels\u001b[49m\u001b[43m=\u001b[49m\u001b[43mlevels\u001b[49m\u001b[43m,\u001b[49m\n\u001b[32m    389\u001b[39m \u001b[43m    \u001b[49m\u001b[43mnames\u001b[49m\u001b[43m=\u001b[49m\u001b[43mnames\u001b[49m\u001b[43m,\u001b[49m\n\u001b[32m    390\u001b[39m \u001b[43m    \u001b[49m\u001b[43mverify_integrity\u001b[49m\u001b[43m=\u001b[49m\u001b[43mverify_integrity\u001b[49m\u001b[43m,\u001b[49m\n\u001b[32m    391\u001b[39m \u001b[43m    \u001b[49m\u001b[43mcopy\u001b[49m\u001b[43m=\u001b[49m\u001b[43mcopy\u001b[49m\u001b[43m,\u001b[49m\n\u001b[32m    392\u001b[39m \u001b[43m    \u001b[49m\u001b[43msort\u001b[49m\u001b[43m=\u001b[49m\u001b[43msort\u001b[49m\u001b[43m,\u001b[49m\n\u001b[32m    393\u001b[39m \u001b[43m\u001b[49m\u001b[43m)\u001b[49m\n\u001b[32m    395\u001b[39m \u001b[38;5;28;01mreturn\u001b[39;00m op.get_result()\n",
      "\u001b[36mFile \u001b[39m\u001b[32m~/my-conda-envs/cmip6-download/lib/python3.13/site-packages/pandas/core/reshape/concat.py:445\u001b[39m, in \u001b[36m_Concatenator.__init__\u001b[39m\u001b[34m(self, objs, axis, join, keys, levels, names, ignore_index, verify_integrity, copy, sort)\u001b[39m\n\u001b[32m    442\u001b[39m \u001b[38;5;28mself\u001b[39m.verify_integrity = verify_integrity\n\u001b[32m    443\u001b[39m \u001b[38;5;28mself\u001b[39m.copy = copy\n\u001b[32m--> \u001b[39m\u001b[32m445\u001b[39m objs, keys = \u001b[38;5;28;43mself\u001b[39;49m\u001b[43m.\u001b[49m\u001b[43m_clean_keys_and_objs\u001b[49m\u001b[43m(\u001b[49m\u001b[43mobjs\u001b[49m\u001b[43m,\u001b[49m\u001b[43m \u001b[49m\u001b[43mkeys\u001b[49m\u001b[43m)\u001b[49m\n\u001b[32m    447\u001b[39m \u001b[38;5;66;03m# figure out what our result ndim is going to be\u001b[39;00m\n\u001b[32m    448\u001b[39m ndims = \u001b[38;5;28mself\u001b[39m._get_ndims(objs)\n",
      "\u001b[36mFile \u001b[39m\u001b[32m~/my-conda-envs/cmip6-download/lib/python3.13/site-packages/pandas/core/reshape/concat.py:504\u001b[39m, in \u001b[36m_Concatenator._clean_keys_and_objs\u001b[39m\u001b[34m(self, objs, keys)\u001b[39m\n\u001b[32m    502\u001b[39m     objs_list = [objs[k] \u001b[38;5;28;01mfor\u001b[39;00m k \u001b[38;5;129;01min\u001b[39;00m keys]\n\u001b[32m    503\u001b[39m \u001b[38;5;28;01melse\u001b[39;00m:\n\u001b[32m--> \u001b[39m\u001b[32m504\u001b[39m     objs_list = \u001b[38;5;28;43mlist\u001b[39;49m\u001b[43m(\u001b[49m\u001b[43mobjs\u001b[49m\u001b[43m)\u001b[49m\n\u001b[32m    506\u001b[39m \u001b[38;5;28;01mif\u001b[39;00m \u001b[38;5;28mlen\u001b[39m(objs_list) == \u001b[32m0\u001b[39m:\n\u001b[32m    507\u001b[39m     \u001b[38;5;28;01mraise\u001b[39;00m \u001b[38;5;167;01mValueError\u001b[39;00m(\u001b[33m\"\u001b[39m\u001b[33mNo objects to concatenate\u001b[39m\u001b[33m\"\u001b[39m)\n",
      "\u001b[36mFile \u001b[39m\u001b[32m~/my-conda-envs/cmip6-download/lib/python3.13/site-packages/tqdm/notebook.py:250\u001b[39m, in \u001b[36mtqdm_notebook.__iter__\u001b[39m\u001b[34m(self)\u001b[39m\n\u001b[32m    248\u001b[39m \u001b[38;5;28;01mtry\u001b[39;00m:\n\u001b[32m    249\u001b[39m     it = \u001b[38;5;28msuper\u001b[39m().\u001b[34m__iter__\u001b[39m()\n\u001b[32m--> \u001b[39m\u001b[32m250\u001b[39m \u001b[43m    \u001b[49m\u001b[38;5;28;43;01mfor\u001b[39;49;00m\u001b[43m \u001b[49m\u001b[43mobj\u001b[49m\u001b[43m \u001b[49m\u001b[38;5;129;43;01min\u001b[39;49;00m\u001b[43m \u001b[49m\u001b[43mit\u001b[49m\u001b[43m:\u001b[49m\n\u001b[32m    251\u001b[39m \u001b[43m        \u001b[49m\u001b[38;5;66;43;03m# return super(tqdm...) will not catch exception\u001b[39;49;00m\n\u001b[32m    252\u001b[39m \u001b[43m        \u001b[49m\u001b[38;5;28;43;01myield\u001b[39;49;00m\u001b[43m \u001b[49m\u001b[43mobj\u001b[49m\n\u001b[32m    253\u001b[39m \u001b[38;5;66;03m# NB: except ... [ as ...] breaks IPython async KeyboardInterrupt\u001b[39;00m\n",
      "\u001b[36mFile \u001b[39m\u001b[32m~/my-conda-envs/cmip6-download/lib/python3.13/site-packages/tqdm/std.py:1169\u001b[39m, in \u001b[36mtqdm.__iter__\u001b[39m\u001b[34m(self)\u001b[39m\n\u001b[32m   1166\u001b[39m \u001b[38;5;66;03m# If the bar is disabled, then just walk the iterable\u001b[39;00m\n\u001b[32m   1167\u001b[39m \u001b[38;5;66;03m# (note: keep this check outside the loop for performance)\u001b[39;00m\n\u001b[32m   1168\u001b[39m \u001b[38;5;28;01mif\u001b[39;00m \u001b[38;5;28mself\u001b[39m.disable:\n\u001b[32m-> \u001b[39m\u001b[32m1169\u001b[39m \u001b[43m    \u001b[49m\u001b[38;5;28;43;01mfor\u001b[39;49;00m\u001b[43m \u001b[49m\u001b[43mobj\u001b[49m\u001b[43m \u001b[49m\u001b[38;5;129;43;01min\u001b[39;49;00m\u001b[43m \u001b[49m\u001b[43miterable\u001b[49m\u001b[43m:\u001b[49m\n\u001b[32m   1170\u001b[39m \u001b[43m        \u001b[49m\u001b[38;5;28;43;01myield\u001b[39;49;00m\u001b[43m \u001b[49m\u001b[43mobj\u001b[49m\n\u001b[32m   1171\u001b[39m     \u001b[38;5;28;01mreturn\u001b[39;00m\n",
      "\u001b[36mFile \u001b[39m\u001b[32m~/my-conda-envs/cmip6-download/lib/python3.13/multiprocessing/pool.py:861\u001b[39m, in \u001b[36mIMapIterator.next\u001b[39m\u001b[34m(self, timeout)\u001b[39m\n\u001b[32m    859\u001b[39m     \u001b[38;5;28mself\u001b[39m._pool = \u001b[38;5;28;01mNone\u001b[39;00m\n\u001b[32m    860\u001b[39m     \u001b[38;5;28;01mraise\u001b[39;00m \u001b[38;5;167;01mStopIteration\u001b[39;00m \u001b[38;5;28;01mfrom\u001b[39;00m\u001b[38;5;250m \u001b[39m\u001b[38;5;28;01mNone\u001b[39;00m\n\u001b[32m--> \u001b[39m\u001b[32m861\u001b[39m \u001b[38;5;28;43mself\u001b[39;49m\u001b[43m.\u001b[49m\u001b[43m_cond\u001b[49m\u001b[43m.\u001b[49m\u001b[43mwait\u001b[49m\u001b[43m(\u001b[49m\u001b[43mtimeout\u001b[49m\u001b[43m)\u001b[49m\n\u001b[32m    862\u001b[39m \u001b[38;5;28;01mtry\u001b[39;00m:\n\u001b[32m    863\u001b[39m     item = \u001b[38;5;28mself\u001b[39m._items.popleft()\n",
      "\u001b[36mFile \u001b[39m\u001b[32m~/my-conda-envs/cmip6-download/lib/python3.13/threading.py:359\u001b[39m, in \u001b[36mCondition.wait\u001b[39m\u001b[34m(self, timeout)\u001b[39m\n\u001b[32m    357\u001b[39m \u001b[38;5;28;01mtry\u001b[39;00m:    \u001b[38;5;66;03m# restore state no matter what (e.g., KeyboardInterrupt)\u001b[39;00m\n\u001b[32m    358\u001b[39m     \u001b[38;5;28;01mif\u001b[39;00m timeout \u001b[38;5;129;01mis\u001b[39;00m \u001b[38;5;28;01mNone\u001b[39;00m:\n\u001b[32m--> \u001b[39m\u001b[32m359\u001b[39m         \u001b[43mwaiter\u001b[49m\u001b[43m.\u001b[49m\u001b[43macquire\u001b[49m\u001b[43m(\u001b[49m\u001b[43m)\u001b[49m\n\u001b[32m    360\u001b[39m         gotit = \u001b[38;5;28;01mTrue\u001b[39;00m\n\u001b[32m    361\u001b[39m     \u001b[38;5;28;01melse\u001b[39;00m:\n",
      "\u001b[31mKeyboardInterrupt\u001b[39m: "
     ]
    }
   ],
   "source": [
    "# ================ HOMEMADE ROUTINE TO GET AREACELLA GRIDS FASTER ================ #\n",
    "\n",
    "### INITIALISATION  ###\n",
    "\n",
    "## Initialise the full dictionary ##\n",
    "\n",
    "dict_areacella = {}\n",
    "\n",
    "## Number of rows ##\n",
    "\n",
    "n_rows = grouped_models.size\n",
    "\n",
    "### GO THROUGH EVERY ROW OF THE PANDA SERIES ###\n",
    "\n",
    "for ii in range(n_rows):\n",
    "\n",
    "    ## Get the SOURCE_ID | MEMBER_ID | GRID_LABEL of the row ##\n",
    "\n",
    "    # Retrieve the row ##\n",
    "\n",
    "    row_ii = grouped_models.index[ii]\n",
    "\n",
    "    # Extract the labels #\n",
    "\n",
    "    source_id, member_id, grid_label = row_ii\n",
    "\n",
    "    # Build the key for this dictionary entry ##\n",
    "\n",
    "    full_key = source_id + \".\" + member_id + \".\" + grid_label\n",
    "\n",
    "    ## Special case for the IPSL-CM6A-LR-INCA model ##\n",
    "\n",
    "    if source_id == \"IPSL-CM6A-LR-INCA\":\n",
    "\n",
    "        source_id = \"IPSL-CM6A-LR\"\n",
    "\n",
    "    ## Do the full search ##\n",
    "\n",
    "    areacella_search_full = catalog.search(\n",
    "        source_id=source_id,\n",
    "        grid_label=grid_label,\n",
    "        variable_id=\"areacella\",\n",
    "        quiet=True,\n",
    "    ).df  # silence the progress bar\n",
    "\n",
    "    ## Extract the first experiment id that gives an areacella entry ##\n",
    "\n",
    "    only_first_exp_id = areacella_search_full.experiment_id.values[0]\n",
    "\n",
    "    ## Extract the first member id that gives an areacella entry ##\n",
    "\n",
    "    only_first_member_id = areacella_search_full.member_id.values[0]\n",
    "\n",
    "    ## Get the areacella for the given row ##\n",
    "\n",
    "    # Search and download it #\n",
    "\n",
    "    print(\"\\nDownloading areacella for {} ...\\n\".format(full_key))\n",
    "\n",
    "    areacella_ii = catalog.search(\n",
    "        source_id=source_id,\n",
    "        grid_label=grid_label,\n",
    "        variable_id=\"areacella\",\n",
    "        experiment_id=only_first_exp_id,\n",
    "        member_id=only_first_member_id,\n",
    "        quiet=True\n",
    "    ).to_dataset_dict(\n",
    "        add_measures=False, \n",
    "        quiet=True\n",
    "    )  # silence the progress bar\n",
    "\n",
    "    # Store it in dictionary #\n",
    "\n",
    "    dict_areacella[full_key] = areacella_ii[\"areacella\"]"
   ]
  },
  {
   "cell_type": "markdown",
   "id": "4925f40d",
   "metadata": {},
   "source": [
    "---\n",
    "\n",
    "## Combine the extracted data into full xarray datasets and saves them on disk\n",
    "\n",
    "---"
   ]
  },
  {
   "cell_type": "markdown",
   "id": "fd6f6050",
   "metadata": {},
   "source": []
  }
 ],
 "metadata": {
  "kernelspec": {
   "display_name": "cmip6-download",
   "language": "python",
   "name": "cmip6-download"
  },
  "language_info": {
   "codemirror_mode": {
    "name": "ipython",
    "version": 3
   },
   "file_extension": ".py",
   "mimetype": "text/x-python",
   "name": "python",
   "nbconvert_exporter": "python",
   "pygments_lexer": "ipython3",
   "version": "3.13.2"
  }
 },
 "nbformat": 4,
 "nbformat_minor": 5
}
