{
 "cells": [
  {
   "cell_type": "markdown",
   "id": "5dc97a7c-a97e-4464-9d20-e22becb5685b",
   "metadata": {},
   "source": [
    "# Downloading and preparing an ensemble of CMIP6 data obtained with a series of criterias thanks to intake-esgf"
   ]
  },
  {
   "cell_type": "markdown",
   "id": "ed8b1ede-2de5-487c-9602-6b1b339c6e44",
   "metadata": {},
   "source": [
    "---\n",
    "\n",
    "## Purpose of the notebook\n",
    "\n",
    "---"
   ]
  },
  {
   "cell_type": "markdown",
   "id": "ed44b794",
   "metadata": {},
   "source": [
    "This notebook aims at **downloading an ensemble of CMIP6 variables from python** thanks to a dictionary of **user-defined criterias**. It then **process to prepare the raw data** to make it more usable in a python code.\n",
    "\n",
    "All the links of the documents were accessed on the **25/03/2025**.\n",
    "\n",
    "It uses the *intake-esgf* library : https://github.com/esgf2-us/intake-esgf?tab=readme-ov-file. A beginner guide for this library can be found there : https://intake-esgf.readthedocs.io/en/latest/beginner.html.\n",
    "\n",
    "A detailed documentation for the CMIP6 can be found here : https://wcrp-cmip.org/cmip-model-and-experiment-documentation/.\n",
    "\n",
    "\n",
    "\n",
    "Feel free to share, use and improve the following code according to the provided license on the repository."
   ]
  },
  {
   "cell_type": "markdown",
   "id": "a63dc94a-da9d-4935-b2f2-980f174b2e94",
   "metadata": {},
   "source": [
    "---\n",
    "\n",
    "## Model outputs searched\n",
    "\n",
    "---"
   ]
  },
  {
   "cell_type": "markdown",
   "id": "01a3801d",
   "metadata": {},
   "source": [
    "Every search needs to be constrained by the attributes of the model outputs we are looking for. A detailed document listing these attributes can be found here : https://docs.google.com/document/d/1h0r8RZr_f3-8egBMMh7aqLwy3snpD6_MrDz1q8n5XUk/edit?tab=t.0."
   ]
  },
  {
   "cell_type": "markdown",
   "id": "79fed764-1686-4617-b8db-4eb9124a0030",
   "metadata": {},
   "source": [
    "### Experiments"
   ]
  },
  {
   "cell_type": "markdown",
   "id": "8e7090b8-596e-4ed9-bab7-6ace8abf1da2",
   "metadata": {},
   "source": [
    "We use two experiments realized during the CMIP6  : **piClim-control** and **piClim-aer**. These are both atmosphere-only climate model simulations in which sea surface temperatures (SSTs) and sea icea concentrations (SICs) are fixed at model-specific preindustrial climatological values. The description of the experiments can be found here : https://wcrp-cmip.github.io/CMIP6_CVs/docs/CMIP6_experiment_id.html.\n",
    "\n",
    "> **piClim-control** : assumes aerosols' burdens set to their preindustrial levels, it is the control experiment.\n",
    "> \n",
    "> **piClim-aer** : uses present-day, present-day being 2014, aerosols burdens' levels."
   ]
  },
  {
   "cell_type": "markdown",
   "id": "b9468df7-ef52-4b1f-a170-d8aaef381f57",
   "metadata": {},
   "source": [
    "### Variables"
   ]
  },
  {
   "cell_type": "markdown",
   "id": "a780d594-a1a1-4332-8a62-bb9aae82697f",
   "metadata": {},
   "source": [
    "The variable used are listed and explicited below according to : https://clipc-services.ceda.ac.uk/dreq/mipVars.html.\n",
    "\n",
    "> <span style=\"color:SkyBlue\">**clt**</span>  : Total cloud area fraction (%) for the whole atmospheric column\n",
    ">\n",
    "> <span style=\"color:gold\">**rsdt**</span> : Shortwave radiation ($W/m^{2}$) **incident** at the TOA\n",
    "> \n",
    "> <span style=\"color:orange\">**rsut**</span> : Shortwave radiation ($W/m^{2}$) **going out**  at the TOA\n",
    ">\n",
    "> <span style=\"color:orangered\">**rsutcs**</span> : Shortwave radiation ($W/m^{2}$) **going out**  at TOA for **clear-sky conditions**\n",
    "> \n",
    "> <span style=\"color:Orchid\">**rsds**</span> : Shortwave **downwelling** radiation ($W/m^{2}$) at the surface\n",
    "> \n",
    "> <span style=\"color:Indigo \">**rsdscs**</span>  : Shortwave **downwelling** radiation ($W/m^{2}$) at the surface for **clear-sky conditions**\n",
    "> \n",
    "> <span style=\"color:YellowGreen\">**rsus**</span> : Shortwave **upwelling** radiation ($W/m^{2}$) at the surface\n",
    ">\n",
    "> <span style=\"color:Darkgreen\">**rsuscs**</span>: Shortwave **upwelling** radiation ($W/m^{2}$) at the surface for **clear-sky conditions**\n",
    ">\n",
    "> **areacella** : For every grid, the latitude-dependent surface associated to each grid point."
   ]
  },
  {
   "cell_type": "markdown",
   "id": "389886f6-2e8d-4d99-b4cc-71ebd86e01fb",
   "metadata": {},
   "source": [
    "### Table"
   ]
  },
  {
   "cell_type": "markdown",
   "id": "cf7a82e4-19a5-4bb9-aa5d-ccb2c6260107",
   "metadata": {},
   "source": [
    "The table sets how the variables are organized. We use the **AERmon** table. The details about the tables can be found here : https://clipc-services.ceda.ac.uk/dreq/index/miptable.html.\n",
    "\n",
    "> **Amon** stands for a set of monthly atmospheric data"
   ]
  },
  {
   "cell_type": "markdown",
   "id": "19fb1cc5-febe-4ebf-8dca-b8700098e548",
   "metadata": {},
   "source": [
    "---\n",
    "\n",
    "## Initialisation\n",
    "\n",
    "---"
   ]
  },
  {
   "cell_type": "markdown",
   "id": "cbdebe37-a1de-4df2-a44b-1115d2a8c4dd",
   "metadata": {},
   "source": [
    "### Importations"
   ]
  },
  {
   "cell_type": "markdown",
   "id": "bb63355f-8ed1-4a49-aef4-82919ba07cf8",
   "metadata": {},
   "source": [
    "We import the needed libraries."
   ]
  },
  {
   "cell_type": "code",
   "execution_count": 28,
   "id": "16dab12c-5141-4e6f-a908-aa5792b296ea",
   "metadata": {},
   "outputs": [],
   "source": [
    "# ================ IMPORTATIONS ================ #\n",
    "\n",
    "import intake_esgf  # this gives us access to the ESGF catalog to make queries\n",
    "\n",
    "import pandas as pd  # to manage the product of the search\n",
    "\n",
    "import numpy as np  # to manage the pandas arrays\n",
    "\n",
    "import os  # to get access to commands related to path setting and creation of directories\n",
    "\n",
    "from utilities.get_cmip6_data.folders_handle.create import (\n",
    "    create_dir,\n",
    ")  # function to create a cleaned downloading directory\n",
    "\n",
    "\n",
    "from utilities.get_cmip6_data.load_raw_data.load_cmip6 import (\n",
    "    update_single_entry_keys, \n",
    "    generate_single_model_search_criterias\n",
    ") # functions used for the per-entry download routine"
   ]
  },
  {
   "cell_type": "markdown",
   "id": "9474b9b5-edeb-4cc5-829c-035af5c986ff",
   "metadata": {},
   "source": [
    "### Set our search criterias "
   ]
  },
  {
   "cell_type": "markdown",
   "id": "68d13d48-a18d-4f4c-ae0c-32719909fdc6",
   "metadata": {},
   "source": [
    "Here the user may define its search criterias. We create a dictionary structure whose keys are the search criterias."
   ]
  },
  {
   "cell_type": "code",
   "execution_count": 29,
   "id": "d8159458-7777-4fe5-83af-84d953ea377f",
   "metadata": {},
   "outputs": [],
   "source": [
    "# ================ SEARCH CRITERIAS FOR OUR ANALYSIS ================ #\n",
    "\n",
    "### EXPERIMENTS ###\n",
    "\n",
    "experiment_id = [\n",
    "    \"piClim-control\",\n",
    "    \"piClim-aer\",\n",
    "]\n",
    "\n",
    "### VARIABLES ###\n",
    "\n",
    "variable_id = [\n",
    "    \"clt\",\n",
    "    \"rsdt\",\n",
    "    \"rsut\",\n",
    "    \"rsutcs\",\n",
    "    \"rsds\",\n",
    "    \"rsus\",\n",
    "    \"rsdscs\",\n",
    "    \"rsuscs\",\n",
    "]\n",
    "\n",
    "### TABLE ###\n",
    "\n",
    "table_id = \"Amon\"\n",
    "\n",
    "### DEFINE SEARCH CRITERIAS dictionary ###\n",
    "\n",
    "search = {\n",
    "    \"experiment_id\" : experiment_id,\n",
    "    \"variable_id\" : variable_id,\n",
    "    \"table_id\" : table_id\n",
    "}"
   ]
  },
  {
   "cell_type": "markdown",
   "id": "39c9f4bd-93d4-48be-8384-917bc9a707c2",
   "metadata": {},
   "source": [
    "### Create the folder in which the data will be stored"
   ]
  },
  {
   "cell_type": "markdown",
   "id": "9c11ada8",
   "metadata": {},
   "source": [
    "Here the user can chose to create the folder to store the data. It will erase a pre-existing folder if the *do_we_clear* option is set to **True**. This can be quite slow if the data folder is already holding some heavy data."
   ]
  },
  {
   "cell_type": "code",
   "execution_count": null,
   "id": "9a6e8437",
   "metadata": {},
   "outputs": [],
   "source": [
    "# ================ CHOSE IF WE CLEAR AN ALREADY EXISTING FOLDER ================ #\n",
    "\n",
    "do_we_clear = True"
   ]
  },
  {
   "cell_type": "code",
   "execution_count": 31,
   "id": "415429ca-8b8a-4fbb-9aa5-75775894c60c",
   "metadata": {},
   "outputs": [
    {
     "name": "stdout",
     "output_type": "stream",
     "text": [
      "The downloading folder CMIP6-DATA is under the path /home/jovyan/certainty-data/CMIP6-DATA.\n"
     ]
    }
   ],
   "source": [
    "# ================ CREATE THE FOLDER TO STORE THE DOWNLOADED DATA ================ #\n",
    "\n",
    "### DEFINE WHERE TO MOVE THE FILES AT THE END ###\n",
    "\n",
    "## Home directory ##\n",
    "\n",
    "homedir_path = os.path.expanduser(\"~\")\n",
    "\n",
    "## Parent directory ##\n",
    "\n",
    "parent_path = homedir_path + \"/certainty-data\"\n",
    "\n",
    "## Name of the created folder ##\n",
    "\n",
    "downloading_folder_name = \"CMIP6-DATA\"\n",
    "\n",
    "### CREATE THE DIRECTORY AND EMPTY IF MAKE_A_NEW_FOLDER ###\n",
    "\n",
    "downloading_path = create_dir(\n",
    "    parent_path=parent_path, name=downloading_folder_name, clear=do_we_clear\n",
    ")\n",
    "\n",
    "print(\n",
    "    \"The downloading folder {} is under the path {}.\".format(\n",
    "        downloading_folder_name, downloading_path\n",
    "    )\n",
    ")"
   ]
  },
  {
   "cell_type": "markdown",
   "id": "b10c8be4-7c3d-4206-8519-af1898501d0c",
   "metadata": {},
   "source": [
    "---\n",
    "## Configure the ESGFCatalog\n",
    "\n",
    "\n",
    "---"
   ]
  },
  {
   "cell_type": "markdown",
   "id": "2856c1ec-613e-414c-9690-086a43e26a16",
   "metadata": {},
   "source": [
    "The ESGFCatalog is initially parametrized with default values one may want to change. We will focus on three main changes :\n",
    "\n",
    "* **defining the nodes that the query will investigate** \n",
    "\n",
    "* **setting where the data will be downloaded** \n",
    "\n",
    "* **adding a path that is specific to our cluster to search for CMIP6 outputs locally** \n",
    "\n",
    "The default configuration of the catalog can be accessed through the following line of code. More details on the configuration may be found here : https://intake-esgf.readthedocs.io/en/latest/configure.html."
   ]
  },
  {
   "cell_type": "code",
   "execution_count": 32,
   "id": "a8a4a1db-5472-4a50-87d1-eb44f75d0218",
   "metadata": {},
   "outputs": [
    {
     "name": "stdout",
     "output_type": "stream",
     "text": [
      "additional_df_cols: []\n",
      "break_on_error: true\n",
      "download_db: ~/.config/intake-esgf/download.db\n",
      "esg_dataroot:\n",
      "- /p/css03/esgf_publish\n",
      "- /eagle/projects/ESGF2/esg_dataroot\n",
      "- /global/cfs/projectdirs/m3522/cmip6/\n",
      "globus_indices:\n",
      "  anl-dev: true\n",
      "  ornl-dev: true\n",
      "local_cache:\n",
      "- /home/jovyan/certainty-data/CMIP6-DATA\n",
      "logfile: ~/.config/intake-esgf/esgf.log\n",
      "num_threads: 6\n",
      "solr_indices:\n",
      "  esg-dn1.nsc.liu.se: true\n",
      "  esgf-data.dkrz.de: true\n",
      "  esgf-node.ipsl.upmc.fr: true\n",
      "  esgf-node.llnl.gov: true\n",
      "  esgf-node.ornl.gov: true\n",
      "  esgf.ceda.ac.uk: true\n",
      "  esgf.nci.org.au: true\n",
      "\n"
     ]
    }
   ],
   "source": [
    "print(intake_esgf.conf)"
   ]
  },
  {
   "cell_type": "markdown",
   "id": "37676875-e50f-443d-98ef-50ef80c75b5a",
   "metadata": {},
   "source": [
    "There are some variables that are of interest to us :\n",
    "\n",
    "* The *solr_indices* and the *globus_indices* variables define on which nodes the query is realized. \n",
    "\n",
    "* The *local_cache* variable sets where the data will be downloaded.\n",
    "\n",
    "* The *esg_dataroot* variable sets local path to explore before downloading any data.\n",
    "\n",
    "We can see that, as said in the documentation of the intake_esgf library, the search is done by default with Globus-based indices at the holdings of OLCF (Oak Ridge Leadership Computing Facility) and ALCF (Argonne Leadership Computing Facility). We may extend the search to all the possible ESGF nodes in order to not miss any model output. Note that the solr nodes are way much slower than the globus ones.\n",
    "\n",
    "By default, the folder in which is stored the downloaded data is ~/.esgf/. This is a hidden folder in your home repository. It is more convenient, if you are working on a shared resource such as an institutional cluster or group workstation, to define it on a directory dedicated to data.\n",
    "\n",
    "Finally, if we are working on a cluster having some access to CMIP6 data, it is worth adding the path of this data in our cluster to avoid useless downloading.\n",
    "\n",
    "In the following part we will show how to modify these variables. \n",
    "\n",
    "**To decide if you want to modify them you need to set the following variables to True or define them.**"
   ]
  },
  {
   "cell_type": "code",
   "execution_count": 33,
   "id": "01235f6e",
   "metadata": {},
   "outputs": [],
   "source": [
    "# ================ CONFIGURE THE ESGF CATALOG ================ #\n",
    "\n",
    "### USE ALL NODES FOR SEARCH ###\n",
    "\n",
    "all_indices = True\n",
    "\n",
    "### SET A NEW DOWNLOADING PATH ###\n",
    "\n",
    "set_new_downloading_path = True\n",
    "\n",
    "### SET A CLUSTER SPECIFIC CMIP6 PATH ###\n",
    "\n",
    "cluster_local_CMIP6_path = \"\""
   ]
  },
  {
   "cell_type": "markdown",
   "id": "d24386ed-c4b0-43fd-bb75-2ad48ef07bca",
   "metadata": {},
   "source": [
    "### Define the nodes for the research"
   ]
  },
  {
   "cell_type": "markdown",
   "id": "5732995b",
   "metadata": {},
   "source": [
    "We may decide to look at all the nodes. Note that the solr nodes are way much slower than the globus ones. "
   ]
  },
  {
   "cell_type": "code",
   "execution_count": 34,
   "id": "3b5f5807-44b0-4152-af85-c23a574394ac",
   "metadata": {},
   "outputs": [
    {
     "name": "stdout",
     "output_type": "stream",
     "text": [
      "We are looking at all the nodes.\n"
     ]
    }
   ],
   "source": [
    "intake_esgf.conf.set(all_indices=all_indices)\n",
    "\n",
    "if all_indices:\n",
    "\n",
    "    print(\"We are looking at all the nodes.\")\n",
    "\n",
    "else:\n",
    "\n",
    "    print(\"We are only looking at the globus nodes\")"
   ]
  },
  {
   "cell_type": "markdown",
   "id": "0137085e-e87b-4539-b175-ce77c775195b",
   "metadata": {},
   "source": [
    "### Set where the data will be downloaded"
   ]
  },
  {
   "cell_type": "code",
   "execution_count": 35,
   "id": "0e35ff08-7788-4199-8596-f977b9f9c783",
   "metadata": {},
   "outputs": [
    {
     "name": "stdout",
     "output_type": "stream",
     "text": [
      "The CMIP6 data will be downloaded at the path : ['/home/jovyan/certainty-data/CMIP6-DATA']\n"
     ]
    }
   ],
   "source": [
    "if set_new_downloading_path:\n",
    "\n",
    "    intake_esgf.conf.set(local_cache=downloading_path)\n",
    "\n",
    "    print(\n",
    "        \"The CMIP6 data will be downloaded at the path : {}\".format(\n",
    "            intake_esgf.conf[\"local_cache\"]\n",
    "        )\n",
    "    )"
   ]
  },
  {
   "cell_type": "markdown",
   "id": "28d4aaaf-d574-4f92-af6e-47c8d0673075",
   "metadata": {},
   "source": [
    "### Add a cluster-specific CMIP6 path"
   ]
  },
  {
   "cell_type": "code",
   "execution_count": 36,
   "id": "74c98fe2-3864-4373-a6cd-ebbc2dded7fe",
   "metadata": {},
   "outputs": [
    {
     "name": "stdout",
     "output_type": "stream",
     "text": [
      "No local cluster-specific CMIP6 path\n"
     ]
    }
   ],
   "source": [
    "if cluster_local_CMIP6_path != \"\":\n",
    "\n",
    "    intake_esgf.conf.set(esg_dataroot=cluster_local_CMIP6_path)\n",
    "\n",
    "    print(\n",
    "        \"The CMIP6 data will be searched beforehand at the path : {}\".format(\n",
    "            intake_esgf.conf[\"esg_dataroot\"]\n",
    "        )\n",
    "    )\n",
    "\n",
    "else:\n",
    "    print(\"No local cluster-specific CMIP6 path\")"
   ]
  },
  {
   "cell_type": "markdown",
   "id": "589d5d09",
   "metadata": {},
   "source": [
    "### Print the new configuration"
   ]
  },
  {
   "cell_type": "code",
   "execution_count": 37,
   "id": "a08fbf98",
   "metadata": {},
   "outputs": [
    {
     "name": "stdout",
     "output_type": "stream",
     "text": [
      "additional_df_cols: []\n",
      "break_on_error: true\n",
      "download_db: ~/.config/intake-esgf/download.db\n",
      "esg_dataroot:\n",
      "- /p/css03/esgf_publish\n",
      "- /eagle/projects/ESGF2/esg_dataroot\n",
      "- /global/cfs/projectdirs/m3522/cmip6/\n",
      "globus_indices:\n",
      "  anl-dev: true\n",
      "  ornl-dev: true\n",
      "local_cache:\n",
      "- /home/jovyan/certainty-data/CMIP6-DATA\n",
      "logfile: ~/.config/intake-esgf/esgf.log\n",
      "num_threads: 6\n",
      "solr_indices:\n",
      "  esg-dn1.nsc.liu.se: true\n",
      "  esgf-data.dkrz.de: true\n",
      "  esgf-node.ipsl.upmc.fr: true\n",
      "  esgf-node.llnl.gov: true\n",
      "  esgf-node.ornl.gov: true\n",
      "  esgf.ceda.ac.uk: true\n",
      "  esgf.nci.org.au: true\n",
      "\n"
     ]
    }
   ],
   "source": [
    "print(intake_esgf.conf)"
   ]
  },
  {
   "cell_type": "markdown",
   "id": "99a19cd6-d165-428f-984f-9133f7339dc9",
   "metadata": {},
   "source": [
    "---\n",
    "\n",
    "## Make the query to the ESGFCatalog\n",
    "\n",
    "---"
   ]
  },
  {
   "cell_type": "markdown",
   "id": "b380bc91-38b4-4748-9041-5c43fe523818",
   "metadata": {},
   "source": [
    "### Initialise the catalog"
   ]
  },
  {
   "cell_type": "markdown",
   "id": "5a145bbb-ad2d-4545-a8ed-625365507741",
   "metadata": {},
   "source": [
    "The catalog variable is initially empty and will be filled given the criterias that we will impose for the query. "
   ]
  },
  {
   "cell_type": "code",
   "execution_count": 38,
   "id": "f2d445ed-8924-4f62-ba7c-7e4644e0d1b9",
   "metadata": {},
   "outputs": [
    {
     "name": "stdout",
     "output_type": "stream",
     "text": [
      "Perform a search() to populate the catalog.\n"
     ]
    }
   ],
   "source": [
    "catalog = intake_esgf.ESGFCatalog()\n",
    "\n",
    "print(catalog)"
   ]
  },
  {
   "cell_type": "markdown",
   "id": "9e0d3079-ebc4-41a0-aa62-38c62de2e50c",
   "metadata": {},
   "source": [
    "### Constrain the catalog"
   ]
  },
  {
   "cell_type": "markdown",
   "id": "f25edd29",
   "metadata": {},
   "source": [
    "We apply the criterias defined earlier to the catalog."
   ]
  },
  {
   "cell_type": "code",
   "execution_count": 39,
   "id": "093ebabc-cb5d-48de-86d2-a45172e67696",
   "metadata": {},
   "outputs": [
    {
     "data": {
      "application/vnd.jupyter.widget-view+json": {
       "model_id": "482d518c6f914abeaf9db9415dcb8b68",
       "version_major": 2,
       "version_minor": 0
      },
      "text/plain": [
       "   Searching indices:   0%|          |0/9 [       ?index/s]"
      ]
     },
     "metadata": {},
     "output_type": "display_data"
    },
    {
     "ename": "KeyboardInterrupt",
     "evalue": "",
     "output_type": "error",
     "traceback": [
      "\u001b[31m---------------------------------------------------------------------------\u001b[39m",
      "\u001b[31mIndexError\u001b[39m                                Traceback (most recent call last)",
      "\u001b[36mFile \u001b[39m\u001b[32m~/my-conda-envs/cmip6-download/lib/python3.13/multiprocessing/pool.py:856\u001b[39m, in \u001b[36mIMapIterator.next\u001b[39m\u001b[34m(self, timeout)\u001b[39m\n\u001b[32m    855\u001b[39m \u001b[38;5;28;01mtry\u001b[39;00m:\n\u001b[32m--> \u001b[39m\u001b[32m856\u001b[39m     item = \u001b[38;5;28;43mself\u001b[39;49m\u001b[43m.\u001b[49m\u001b[43m_items\u001b[49m\u001b[43m.\u001b[49m\u001b[43mpopleft\u001b[49m\u001b[43m(\u001b[49m\u001b[43m)\u001b[49m\n\u001b[32m    857\u001b[39m \u001b[38;5;28;01mexcept\u001b[39;00m \u001b[38;5;167;01mIndexError\u001b[39;00m:\n",
      "\u001b[31mIndexError\u001b[39m: pop from an empty deque",
      "\nDuring handling of the above exception, another exception occurred:\n",
      "\u001b[31mKeyboardInterrupt\u001b[39m                         Traceback (most recent call last)",
      "\u001b[36mCell\u001b[39m\u001b[36m \u001b[39m\u001b[32mIn[39]\u001b[39m\u001b[32m, line 1\u001b[39m\n\u001b[32m----> \u001b[39m\u001b[32m1\u001b[39m \u001b[43mcatalog\u001b[49m\u001b[43m.\u001b[49m\u001b[43msearch\u001b[49m\u001b[43m(\u001b[49m\u001b[43m*\u001b[49m\u001b[43m*\u001b[49m\u001b[43msearch\u001b[49m\u001b[43m)\u001b[49m\n",
      "\u001b[36mFile \u001b[39m\u001b[32m~/my-conda-envs/cmip6-download/lib/python3.13/site-packages/intake_esgf/catalog.py:336\u001b[39m, in \u001b[36mESGFCatalog.search\u001b[39m\u001b[34m(self, quiet, **search)\u001b[39m\n\u001b[32m    334\u001b[39m search_time = time.time()\n\u001b[32m    335\u001b[39m dfs = ThreadPool(\u001b[38;5;28mlen\u001b[39m(\u001b[38;5;28mself\u001b[39m.indices)).imap_unordered(_search, \u001b[38;5;28mself\u001b[39m.indices)\n\u001b[32m--> \u001b[39m\u001b[32m336\u001b[39m \u001b[38;5;28mself\u001b[39m.df = \u001b[43mbase\u001b[49m\u001b[43m.\u001b[49m\u001b[43mcombine_results\u001b[49m\u001b[43m(\u001b[49m\n\u001b[32m    337\u001b[39m \u001b[43m    \u001b[49m\u001b[43mtqdm\u001b[49m\u001b[43m(\u001b[49m\n\u001b[32m    338\u001b[39m \u001b[43m        \u001b[49m\u001b[43mdfs\u001b[49m\u001b[43m,\u001b[49m\n\u001b[32m    339\u001b[39m \u001b[43m        \u001b[49m\u001b[43mdisable\u001b[49m\u001b[43m=\u001b[49m\u001b[43mquiet\u001b[49m\u001b[43m,\u001b[49m\n\u001b[32m    340\u001b[39m \u001b[43m        \u001b[49m\u001b[43mbar_format\u001b[49m\u001b[43m=\u001b[49m\u001b[43mbase\u001b[49m\u001b[43m.\u001b[49m\u001b[43mbar_format\u001b[49m\u001b[43m,\u001b[49m\n\u001b[32m    341\u001b[39m \u001b[43m        \u001b[49m\u001b[43munit\u001b[49m\u001b[43m=\u001b[49m\u001b[33;43m\"\u001b[39;49m\u001b[33;43mindex\u001b[39;49m\u001b[33;43m\"\u001b[39;49m\u001b[43m,\u001b[49m\n\u001b[32m    342\u001b[39m \u001b[43m        \u001b[49m\u001b[43munit_scale\u001b[49m\u001b[43m=\u001b[49m\u001b[38;5;28;43;01mFalse\u001b[39;49;00m\u001b[43m,\u001b[49m\n\u001b[32m    343\u001b[39m \u001b[43m        \u001b[49m\u001b[43mdesc\u001b[49m\u001b[43m=\u001b[49m\u001b[33;43m\"\u001b[39;49m\u001b[33;43mSearching indices\u001b[39;49m\u001b[33;43m\"\u001b[39;49m\u001b[43m,\u001b[49m\n\u001b[32m    344\u001b[39m \u001b[43m        \u001b[49m\u001b[43mascii\u001b[49m\u001b[43m=\u001b[49m\u001b[38;5;28;43;01mFalse\u001b[39;49;00m\u001b[43m,\u001b[49m\n\u001b[32m    345\u001b[39m \u001b[43m        \u001b[49m\u001b[43mtotal\u001b[49m\u001b[43m=\u001b[49m\u001b[38;5;28;43mlen\u001b[39;49m\u001b[43m(\u001b[49m\u001b[38;5;28;43mself\u001b[39;49m\u001b[43m.\u001b[49m\u001b[43mindices\u001b[49m\u001b[43m)\u001b[49m\u001b[43m,\u001b[49m\n\u001b[32m    346\u001b[39m \u001b[43m    \u001b[49m\u001b[43m)\u001b[49m\n\u001b[32m    347\u001b[39m \u001b[43m\u001b[49m\u001b[43m)\u001b[49m\n\u001b[32m    348\u001b[39m \u001b[38;5;28mself\u001b[39m._set_project()\n\u001b[32m    350\u001b[39m \u001b[38;5;66;03m# even though we are using latest=True, because the search is distributed, we\u001b[39;00m\n\u001b[32m    351\u001b[39m \u001b[38;5;66;03m# may have different versions from different indices.\u001b[39;00m\n",
      "\u001b[36mFile \u001b[39m\u001b[32m~/my-conda-envs/cmip6-download/lib/python3.13/site-packages/intake_esgf/base.py:210\u001b[39m, in \u001b[36mcombine_results\u001b[39m\u001b[34m(dfs)\u001b[39m\n\u001b[32m    208\u001b[39m \u001b[38;5;66;03m# combine and remove duplicate entries\u001b[39;00m\n\u001b[32m    209\u001b[39m logger = intake_esgf.conf.get_logger()\n\u001b[32m--> \u001b[39m\u001b[32m210\u001b[39m df = \u001b[43mpd\u001b[49m\u001b[43m.\u001b[49m\u001b[43mconcat\u001b[49m\u001b[43m(\u001b[49m\u001b[43mdfs\u001b[49m\u001b[43m)\u001b[49m\n\u001b[32m    211\u001b[39m \u001b[38;5;28;01mif\u001b[39;00m \u001b[38;5;28mlen\u001b[39m(df) == \u001b[32m0\u001b[39m:\n\u001b[32m    212\u001b[39m     logger.info(\u001b[33m\"\u001b[39m\u001b[38;5;130;01m\\x1b\u001b[39;00m\u001b[33m[36;32msearch end \u001b[39m\u001b[38;5;130;01m\\x1b\u001b[39;00m\u001b[33m[91;20mno results\u001b[39m\u001b[38;5;130;01m\\033\u001b[39;00m\u001b[33m[0m\u001b[39m\u001b[33m\"\u001b[39m)\n",
      "\u001b[36mFile \u001b[39m\u001b[32m~/my-conda-envs/cmip6-download/lib/python3.13/site-packages/pandas/core/reshape/concat.py:382\u001b[39m, in \u001b[36mconcat\u001b[39m\u001b[34m(objs, axis, join, ignore_index, keys, levels, names, verify_integrity, sort, copy)\u001b[39m\n\u001b[32m    379\u001b[39m \u001b[38;5;28;01melif\u001b[39;00m copy \u001b[38;5;129;01mand\u001b[39;00m using_copy_on_write():\n\u001b[32m    380\u001b[39m     copy = \u001b[38;5;28;01mFalse\u001b[39;00m\n\u001b[32m--> \u001b[39m\u001b[32m382\u001b[39m op = \u001b[43m_Concatenator\u001b[49m\u001b[43m(\u001b[49m\n\u001b[32m    383\u001b[39m \u001b[43m    \u001b[49m\u001b[43mobjs\u001b[49m\u001b[43m,\u001b[49m\n\u001b[32m    384\u001b[39m \u001b[43m    \u001b[49m\u001b[43maxis\u001b[49m\u001b[43m=\u001b[49m\u001b[43maxis\u001b[49m\u001b[43m,\u001b[49m\n\u001b[32m    385\u001b[39m \u001b[43m    \u001b[49m\u001b[43mignore_index\u001b[49m\u001b[43m=\u001b[49m\u001b[43mignore_index\u001b[49m\u001b[43m,\u001b[49m\n\u001b[32m    386\u001b[39m \u001b[43m    \u001b[49m\u001b[43mjoin\u001b[49m\u001b[43m=\u001b[49m\u001b[43mjoin\u001b[49m\u001b[43m,\u001b[49m\n\u001b[32m    387\u001b[39m \u001b[43m    \u001b[49m\u001b[43mkeys\u001b[49m\u001b[43m=\u001b[49m\u001b[43mkeys\u001b[49m\u001b[43m,\u001b[49m\n\u001b[32m    388\u001b[39m \u001b[43m    \u001b[49m\u001b[43mlevels\u001b[49m\u001b[43m=\u001b[49m\u001b[43mlevels\u001b[49m\u001b[43m,\u001b[49m\n\u001b[32m    389\u001b[39m \u001b[43m    \u001b[49m\u001b[43mnames\u001b[49m\u001b[43m=\u001b[49m\u001b[43mnames\u001b[49m\u001b[43m,\u001b[49m\n\u001b[32m    390\u001b[39m \u001b[43m    \u001b[49m\u001b[43mverify_integrity\u001b[49m\u001b[43m=\u001b[49m\u001b[43mverify_integrity\u001b[49m\u001b[43m,\u001b[49m\n\u001b[32m    391\u001b[39m \u001b[43m    \u001b[49m\u001b[43mcopy\u001b[49m\u001b[43m=\u001b[49m\u001b[43mcopy\u001b[49m\u001b[43m,\u001b[49m\n\u001b[32m    392\u001b[39m \u001b[43m    \u001b[49m\u001b[43msort\u001b[49m\u001b[43m=\u001b[49m\u001b[43msort\u001b[49m\u001b[43m,\u001b[49m\n\u001b[32m    393\u001b[39m \u001b[43m\u001b[49m\u001b[43m)\u001b[49m\n\u001b[32m    395\u001b[39m \u001b[38;5;28;01mreturn\u001b[39;00m op.get_result()\n",
      "\u001b[36mFile \u001b[39m\u001b[32m~/my-conda-envs/cmip6-download/lib/python3.13/site-packages/pandas/core/reshape/concat.py:445\u001b[39m, in \u001b[36m_Concatenator.__init__\u001b[39m\u001b[34m(self, objs, axis, join, keys, levels, names, ignore_index, verify_integrity, copy, sort)\u001b[39m\n\u001b[32m    442\u001b[39m \u001b[38;5;28mself\u001b[39m.verify_integrity = verify_integrity\n\u001b[32m    443\u001b[39m \u001b[38;5;28mself\u001b[39m.copy = copy\n\u001b[32m--> \u001b[39m\u001b[32m445\u001b[39m objs, keys = \u001b[38;5;28;43mself\u001b[39;49m\u001b[43m.\u001b[49m\u001b[43m_clean_keys_and_objs\u001b[49m\u001b[43m(\u001b[49m\u001b[43mobjs\u001b[49m\u001b[43m,\u001b[49m\u001b[43m \u001b[49m\u001b[43mkeys\u001b[49m\u001b[43m)\u001b[49m\n\u001b[32m    447\u001b[39m \u001b[38;5;66;03m# figure out what our result ndim is going to be\u001b[39;00m\n\u001b[32m    448\u001b[39m ndims = \u001b[38;5;28mself\u001b[39m._get_ndims(objs)\n",
      "\u001b[36mFile \u001b[39m\u001b[32m~/my-conda-envs/cmip6-download/lib/python3.13/site-packages/pandas/core/reshape/concat.py:504\u001b[39m, in \u001b[36m_Concatenator._clean_keys_and_objs\u001b[39m\u001b[34m(self, objs, keys)\u001b[39m\n\u001b[32m    502\u001b[39m     objs_list = [objs[k] \u001b[38;5;28;01mfor\u001b[39;00m k \u001b[38;5;129;01min\u001b[39;00m keys]\n\u001b[32m    503\u001b[39m \u001b[38;5;28;01melse\u001b[39;00m:\n\u001b[32m--> \u001b[39m\u001b[32m504\u001b[39m     objs_list = \u001b[38;5;28;43mlist\u001b[39;49m\u001b[43m(\u001b[49m\u001b[43mobjs\u001b[49m\u001b[43m)\u001b[49m\n\u001b[32m    506\u001b[39m \u001b[38;5;28;01mif\u001b[39;00m \u001b[38;5;28mlen\u001b[39m(objs_list) == \u001b[32m0\u001b[39m:\n\u001b[32m    507\u001b[39m     \u001b[38;5;28;01mraise\u001b[39;00m \u001b[38;5;167;01mValueError\u001b[39;00m(\u001b[33m\"\u001b[39m\u001b[33mNo objects to concatenate\u001b[39m\u001b[33m\"\u001b[39m)\n",
      "\u001b[36mFile \u001b[39m\u001b[32m~/my-conda-envs/cmip6-download/lib/python3.13/site-packages/tqdm/notebook.py:250\u001b[39m, in \u001b[36mtqdm_notebook.__iter__\u001b[39m\u001b[34m(self)\u001b[39m\n\u001b[32m    248\u001b[39m \u001b[38;5;28;01mtry\u001b[39;00m:\n\u001b[32m    249\u001b[39m     it = \u001b[38;5;28msuper\u001b[39m().\u001b[34m__iter__\u001b[39m()\n\u001b[32m--> \u001b[39m\u001b[32m250\u001b[39m \u001b[43m    \u001b[49m\u001b[38;5;28;43;01mfor\u001b[39;49;00m\u001b[43m \u001b[49m\u001b[43mobj\u001b[49m\u001b[43m \u001b[49m\u001b[38;5;129;43;01min\u001b[39;49;00m\u001b[43m \u001b[49m\u001b[43mit\u001b[49m\u001b[43m:\u001b[49m\n\u001b[32m    251\u001b[39m \u001b[43m        \u001b[49m\u001b[38;5;66;43;03m# return super(tqdm...) will not catch exception\u001b[39;49;00m\n\u001b[32m    252\u001b[39m \u001b[43m        \u001b[49m\u001b[38;5;28;43;01myield\u001b[39;49;00m\u001b[43m \u001b[49m\u001b[43mobj\u001b[49m\n\u001b[32m    253\u001b[39m \u001b[38;5;66;03m# NB: except ... [ as ...] breaks IPython async KeyboardInterrupt\u001b[39;00m\n",
      "\u001b[36mFile \u001b[39m\u001b[32m~/my-conda-envs/cmip6-download/lib/python3.13/site-packages/tqdm/std.py:1181\u001b[39m, in \u001b[36mtqdm.__iter__\u001b[39m\u001b[34m(self)\u001b[39m\n\u001b[32m   1178\u001b[39m time = \u001b[38;5;28mself\u001b[39m._time\n\u001b[32m   1180\u001b[39m \u001b[38;5;28;01mtry\u001b[39;00m:\n\u001b[32m-> \u001b[39m\u001b[32m1181\u001b[39m \u001b[43m    \u001b[49m\u001b[38;5;28;43;01mfor\u001b[39;49;00m\u001b[43m \u001b[49m\u001b[43mobj\u001b[49m\u001b[43m \u001b[49m\u001b[38;5;129;43;01min\u001b[39;49;00m\u001b[43m \u001b[49m\u001b[43miterable\u001b[49m\u001b[43m:\u001b[49m\n\u001b[32m   1182\u001b[39m \u001b[43m        \u001b[49m\u001b[38;5;28;43;01myield\u001b[39;49;00m\u001b[43m \u001b[49m\u001b[43mobj\u001b[49m\n\u001b[32m   1183\u001b[39m \u001b[43m        \u001b[49m\u001b[38;5;66;43;03m# Update and possibly print the progressbar.\u001b[39;49;00m\n\u001b[32m   1184\u001b[39m \u001b[43m        \u001b[49m\u001b[38;5;66;43;03m# Note: does not call self.update(1) for speed optimisation.\u001b[39;49;00m\n",
      "\u001b[36mFile \u001b[39m\u001b[32m~/my-conda-envs/cmip6-download/lib/python3.13/multiprocessing/pool.py:861\u001b[39m, in \u001b[36mIMapIterator.next\u001b[39m\u001b[34m(self, timeout)\u001b[39m\n\u001b[32m    859\u001b[39m     \u001b[38;5;28mself\u001b[39m._pool = \u001b[38;5;28;01mNone\u001b[39;00m\n\u001b[32m    860\u001b[39m     \u001b[38;5;28;01mraise\u001b[39;00m \u001b[38;5;167;01mStopIteration\u001b[39;00m \u001b[38;5;28;01mfrom\u001b[39;00m\u001b[38;5;250m \u001b[39m\u001b[38;5;28;01mNone\u001b[39;00m\n\u001b[32m--> \u001b[39m\u001b[32m861\u001b[39m \u001b[38;5;28;43mself\u001b[39;49m\u001b[43m.\u001b[49m\u001b[43m_cond\u001b[49m\u001b[43m.\u001b[49m\u001b[43mwait\u001b[49m\u001b[43m(\u001b[49m\u001b[43mtimeout\u001b[49m\u001b[43m)\u001b[49m\n\u001b[32m    862\u001b[39m \u001b[38;5;28;01mtry\u001b[39;00m:\n\u001b[32m    863\u001b[39m     item = \u001b[38;5;28mself\u001b[39m._items.popleft()\n",
      "\u001b[36mFile \u001b[39m\u001b[32m~/my-conda-envs/cmip6-download/lib/python3.13/threading.py:359\u001b[39m, in \u001b[36mCondition.wait\u001b[39m\u001b[34m(self, timeout)\u001b[39m\n\u001b[32m    357\u001b[39m \u001b[38;5;28;01mtry\u001b[39;00m:    \u001b[38;5;66;03m# restore state no matter what (e.g., KeyboardInterrupt)\u001b[39;00m\n\u001b[32m    358\u001b[39m     \u001b[38;5;28;01mif\u001b[39;00m timeout \u001b[38;5;129;01mis\u001b[39;00m \u001b[38;5;28;01mNone\u001b[39;00m:\n\u001b[32m--> \u001b[39m\u001b[32m359\u001b[39m         \u001b[43mwaiter\u001b[49m\u001b[43m.\u001b[49m\u001b[43macquire\u001b[49m\u001b[43m(\u001b[49m\u001b[43m)\u001b[49m\n\u001b[32m    360\u001b[39m         gotit = \u001b[38;5;28;01mTrue\u001b[39;00m\n\u001b[32m    361\u001b[39m     \u001b[38;5;28;01melse\u001b[39;00m:\n",
      "\u001b[31mKeyboardInterrupt\u001b[39m: "
     ]
    }
   ],
   "source": [
    "catalog.search(**search)"
   ]
  },
  {
   "cell_type": "markdown",
   "id": "bc077191",
   "metadata": {},
   "source": [
    "### Convert the catalog results into a pandas dataframe"
   ]
  },
  {
   "cell_type": "markdown",
   "id": "6b067741",
   "metadata": {},
   "source": [
    "The resulting catalog can be converted to a pandas dataframe. This is convenient to isolate some properties of the catalog like the models' names that it has found also known as the *source_id*."
   ]
  },
  {
   "cell_type": "code",
   "execution_count": null,
   "id": "1a2c7686",
   "metadata": {},
   "outputs": [
    {
     "name": "stdout",
     "output_type": "stream",
     "text": [
      "The list of found models' names is : \n",
      "['IPSL-CM6A-LR' 'CNRM-ESM2-1' 'CNRM-CM6-1' 'IPSL-CM6A-LR-INCA'\n",
      " 'NorESM2-LM' 'GISS-E2-1-G' 'CanESM5' 'NorESM2-MM' 'MRI-ESM2-0'\n",
      " 'MPI-ESM1-2-LR' 'EC-Earth3' 'ACCESS-ESM1-5' 'CESM2' 'HadGEM3-GC31-LL'\n",
      " 'MIROC6' 'GFDL-ESM4' 'E3SM-2-0' 'BCC-ESM1' 'GFDL-CM4' 'UKESM1-0-LL'\n",
      " 'ACCESS-CM2' 'MPI-ESM-1-2-HAM' 'EC-Earth3-AerChem' 'TaiESM1'\n",
      " 'CESM2-WACCM']\n"
     ]
    }
   ],
   "source": [
    "# ================ CONVERT TO PANDAS DATAFRAME ================ #\n",
    "\n",
    "initial_search_df = catalog.df\n",
    "\n",
    "### SHOW THE SOURCE_ID THAT APPEAR AT LEAST ONCE ###\n",
    "\n",
    "## Extract the list of the models' names ##\n",
    "\n",
    "# Retrieve the source_id column and take only one example for every duplicate #\n",
    "\n",
    "list_model_names = initial_search_df.source_id.unique()\n",
    "\n",
    "## Print the result ##\n",
    "\n",
    "print(\"The list of found models' names is : \\n{}\".format(list_model_names))"
   ]
  },
  {
   "cell_type": "markdown",
   "id": "c2028de0",
   "metadata": {},
   "source": [
    "### Regroup the results by model"
   ]
  },
  {
   "cell_type": "markdown",
   "id": "c4cc6fb3",
   "metadata": {},
   "source": [
    "The number of found results is very large. They are numerous duplicates that come from the different *member_id*  and *grid_label* available for each model. \n",
    "\n",
    "The *member_id* or *variant_label* is described by 4 indices defining an ensemble member: *r* for realization, *i* for initialization, *p* for physics, and *f* for forcing. These parameters define an ensemble of experiments that correspond to the main experiment conditions for a given model. Actually, modellers may initialize their model from a different point in time, change the parametrization of a given parameter and so on.\n",
    "\n",
    "Let's regroup the results according to **(model, variant, grid)** tuples."
   ]
  },
  {
   "cell_type": "code",
   "execution_count": null,
   "id": "5f50635c",
   "metadata": {},
   "outputs": [
    {
     "name": "stdout",
     "output_type": "stream",
     "text": [
      "source_id          member_id  grid_label\n",
      "ACCESS-CM2         r1i1p1f1   gn            16\n",
      "ACCESS-ESM1-5      r1i1p1f1   gn            16\n",
      "BCC-ESM1           r1i1p1f1   gn            16\n",
      "CanESM5            r1i1p2f1   gn            16\n",
      "CESM2              r1i1p1f1   gn            16\n",
      "CESM2-WACCM        r1i2p1f1   gn             8\n",
      "CNRM-CM6-1         r1i1p1f2   gr            16\n",
      "CNRM-ESM2-1        r1i1p1f2   gr            16\n",
      "E3SM-2-0           r1i1p1f1   gr             8\n",
      "EC-Earth3          r1i1p1f1   gr            16\n",
      "                   r2i1p1f1   gr            16\n",
      "EC-Earth3-AerChem  r1i1p1f1   gr            12\n",
      "                   r1i1p4f1   gr            12\n",
      "GFDL-CM4           r1i1p1f1   gr1           16\n",
      "GFDL-ESM4          r1i1p1f1   gr1           13\n",
      "GISS-E2-1-G        r1i1p1f1   gn            16\n",
      "                   r1i1p1f2   gn            16\n",
      "                   r1i1p3f1   gn            16\n",
      "                   r1i1p3f2   gn             8\n",
      "HadGEM3-GC31-LL    r1i1p1f3   gn            16\n",
      "IPSL-CM6A-LR       r1i1p1f1   gr            16\n",
      "                   r2i1p1f1   gr            16\n",
      "                   r3i1p1f1   gr            16\n",
      "                   r4i1p1f1   gr            16\n",
      "                   r5i1p1f1   gr             8\n",
      "IPSL-CM6A-LR-INCA  r1i1p1f1   gr            16\n",
      "MIROC6             r1i1p1f1   gn            16\n",
      "                   r11i1p1f1  gn            16\n",
      "MPI-ESM-1-2-HAM    r1i1p1f1   gn            16\n",
      "MPI-ESM1-2-LR      r1i1p1f1   gn             8\n",
      "                   r2i1p1f1   gn             8\n",
      "                   r3i1p1f1   gn             8\n",
      "MRI-ESM2-0         r1i1p1f1   gn            16\n",
      "NorESM2-LM         r1i1p1f1   gn            16\n",
      "                   r1i1p2f1   gn            16\n",
      "                   r1i1p4f1   gn            16\n",
      "NorESM2-MM         r1i1p1f1   gn            16\n",
      "TaiESM1            r1i1p1f1   gn             8\n",
      "UKESM1-0-LL        r1i1p1f4   gn            16\n",
      "Name: project, dtype: int64\n"
     ]
    }
   ],
   "source": [
    "grouped_models = catalog.model_groups()\n",
    "\n",
    "print(grouped_models)"
   ]
  },
  {
   "cell_type": "markdown",
   "id": "fe084874",
   "metadata": {},
   "source": [
    "An interesting thing to note is the ultimate column that tells us the number of found results for a given model, variant and grid. In our case since we are looking for **8** variables for **two experiments**, the search will be deemed complete if we find **16 resulting files**.\n",
    "\n",
    "The next step is therefore to get rid of the incomplete results according to an user-defined criteria."
   ]
  },
  {
   "cell_type": "markdown",
   "id": "62922b20",
   "metadata": {},
   "source": [
    "### Investigate for a specific model lacking variables"
   ]
  },
  {
   "cell_type": "markdown",
   "id": "c05928fa",
   "metadata": {},
   "source": [
    "From what we have seen from the previous method, some models lack the expected number of variables. Thanks to the pandas' dataframe structure, we may investigate what are the variables missing for which experiment."
   ]
  },
  {
   "cell_type": "code",
   "execution_count": null,
   "id": "f93d7824",
   "metadata": {},
   "outputs": [
    {
     "name": "stdout",
     "output_type": "stream",
     "text": [
      "Variables missing in both experiments of GFDL-ESM4.r1i1p1f1 : \n",
      "\n",
      "[]\n",
      "\n",
      "Only the control experiment of GFDL-ESM4.r1i1p1f1 is lacking these variables :\n",
      "\n",
      "['clt' 'rsds' 'rsus']\n"
     ]
    }
   ],
   "source": [
    "# ================ SEE WHAT VARIABLES ARE MISSING ================ #\n",
    "\n",
    "### LOOK AT A GIVEN MODEL ###\n",
    "\n",
    "## Define source_id and member_id ##\n",
    "\n",
    "# Source_id #\n",
    "\n",
    "looked_source_id = \"GFDL-ESM4\"\n",
    "\n",
    "# Member_id #\n",
    "\n",
    "looked_member_id = \"r1i1p1f1\"\n",
    "\n",
    "## Select the given source_id and member_id ##\n",
    "\n",
    "# Source_id #\n",
    "\n",
    "selected_source_id = initial_search_df[initial_search_df.source_id == looked_source_id]\n",
    "\n",
    "# Member_id #\n",
    "\n",
    "selected_model = selected_source_id[selected_source_id.member_id == looked_member_id]\n",
    "\n",
    "## Generate the variable_id series for the piClim-control experiment ##\n",
    "\n",
    "variable_id_for_control_exp = selected_model[selected_model.experiment_id == \"piClim-control\"].variable_id\n",
    "\n",
    "## Generate the variable_id series for the piClim-aer experiment ##\n",
    "\n",
    "variable_id_for_aer_exp = selected_model[selected_model.experiment_id == \"piClim-aer\"].variable_id\n",
    "\n",
    "### FIND VARIABLES THAT ARE MISSING FOR BOTH EXPERIMENTS ###\n",
    "\n",
    "## Make the criteria variable_id list as a panda series ##\n",
    "\n",
    "searched_variable_ids = pd.Series(variable_id, dtype = str)\n",
    "\n",
    "## Get the variables that are found in at least one experiment ##\n",
    "\n",
    "var_in_at_least_one = pd.Series(np.union1d(variable_id_for_control_exp, variable_id_for_aer_exp), dtype = str) \n",
    "\n",
    "## See the missing ones compared to the variable_id list ##\n",
    "\n",
    "print(\"Variables missing in both experiments of {}.{} : \\n\".format(looked_source_id, looked_member_id))\n",
    "\n",
    "missing_variables_from_both = searched_variable_ids[~searched_variable_ids.isin(var_in_at_least_one)].values\n",
    "\n",
    "print(missing_variables_from_both)\n",
    "\n",
    "### GET THE VARIABLES MISSING IN ONLY ONE EXPERIMENT ###\n",
    "\n",
    "## Extract the variables found in both experiments ##\n",
    "\n",
    "var_in_both = pd.Series(np.intersect1d(variable_id_for_control_exp, variable_id_for_aer_exp), dtype = str) \n",
    "\n",
    "## Get the variables not in common between the experiments ##\n",
    "\n",
    "# we keep the variables that are not in both experiments \n",
    "# by removing the ones that are found in both\n",
    "\n",
    "var_not_in_common = var_in_at_least_one[~var_in_at_least_one.isin(var_in_both)] \n",
    "\n",
    "## See the missing ones compared to the variable_id list ##\n",
    "\n",
    "missing_variables_not_in_common = searched_variable_ids[searched_variable_ids.isin(var_not_in_common)].values\n",
    "\n",
    "## Find the concerned experiment if missing_variables_not_in_common is not empty ##\n",
    "\n",
    "# Check if it's empty #\n",
    "\n",
    "if (missing_variables_not_in_common.size > 0) :\n",
    "\n",
    "    # Get the number of variables found for each experiment #\n",
    "\n",
    "    number_variables_control = len(variable_id_for_control_exp.values)\n",
    "\n",
    "    number_variables_aer = len(variable_id_for_aer_exp.values)\n",
    "\n",
    "    # Get the least furnished experiment #\n",
    "\n",
    "    if number_variables_control < number_variables_aer :\n",
    "\n",
    "        print(\"\\nOnly the control experiment of {}.{} is lacking these variables :\\n\".format(looked_source_id, looked_member_id))\n",
    "\n",
    "        print(missing_variables_not_in_common)\n",
    "\n",
    "    else :\n",
    "        \n",
    "        print(\"\\nOnly the aerosol experiment of {}.{} is lacking these variables :\\n\".format(looked_source_id, looked_member_id))\n",
    "\n",
    "        print(missing_variables_not_in_common)"
   ]
  },
  {
   "cell_type": "markdown",
   "id": "f90eaf6a",
   "metadata": {},
   "source": [
    "### Test some filters on the incomplete results"
   ]
  },
  {
   "cell_type": "markdown",
   "id": "02cb2ee9",
   "metadata": {},
   "source": [
    "The user may define an expected number of netcdf files for a given (model, variant,grid) tuple. In our case this is **16** as explained before. Let's impose this result by keeping only the results that match this condition. We will produce a panda series that will allow us to check if our filter is what we want.\n",
    "\n",
    "You may define a more refined filter for the results. Please look at the intake-esgf documentation for more information : https://intake-esgf.readthedocs.io/en/latest/modelgroups.html."
   ]
  },
  {
   "cell_type": "code",
   "execution_count": null,
   "id": "d816ff37",
   "metadata": {},
   "outputs": [
    {
     "name": "stdout",
     "output_type": "stream",
     "text": [
      "source_id          member_id  grid_label\n",
      "ACCESS-CM2         r1i1p1f1   gn            16\n",
      "ACCESS-ESM1-5      r1i1p1f1   gn            16\n",
      "BCC-ESM1           r1i1p1f1   gn            16\n",
      "CanESM5            r1i1p2f1   gn            16\n",
      "CESM2              r1i1p1f1   gn            16\n",
      "CNRM-CM6-1         r1i1p1f2   gr            16\n",
      "CNRM-ESM2-1        r1i1p1f2   gr            16\n",
      "EC-Earth3          r1i1p1f1   gr            16\n",
      "                   r2i1p1f1   gr            16\n",
      "GFDL-CM4           r1i1p1f1   gr1           16\n",
      "GISS-E2-1-G        r1i1p1f1   gn            16\n",
      "                   r1i1p1f2   gn            16\n",
      "                   r1i1p3f1   gn            16\n",
      "HadGEM3-GC31-LL    r1i1p1f3   gn            16\n",
      "IPSL-CM6A-LR       r1i1p1f1   gr            16\n",
      "                   r2i1p1f1   gr            16\n",
      "                   r3i1p1f1   gr            16\n",
      "                   r4i1p1f1   gr            16\n",
      "IPSL-CM6A-LR-INCA  r1i1p1f1   gr            16\n",
      "MIROC6             r1i1p1f1   gn            16\n",
      "                   r11i1p1f1  gn            16\n",
      "MPI-ESM-1-2-HAM    r1i1p1f1   gn            16\n",
      "MRI-ESM2-0         r1i1p1f1   gn            16\n",
      "NorESM2-LM         r1i1p1f1   gn            16\n",
      "                   r1i1p2f1   gn            16\n",
      "                   r1i1p4f1   gn            16\n",
      "NorESM2-MM         r1i1p1f1   gn            16\n",
      "UKESM1-0-LL        r1i1p1f4   gn            16\n",
      "Name: project, dtype: int64\n"
     ]
    }
   ],
   "source": [
    "# ================ TEST A FILTER BY GROUPING BY MODELS ================ #\n",
    "\n",
    "### SET THE EXPECTED NUMBER OF FILES ###\n",
    "\n",
    "expected_number_of_files = 16\n",
    "\n",
    "### FILTER THE INCOMPLETE RESULTS ACCORDING TO OUR CRITERIE ###\n",
    "\n",
    "filtered_results = grouped_models[grouped_models == expected_number_of_files]\n",
    "\n",
    "### PRINT THE FILTERED CATALOG ###\n",
    "\n",
    "print(filtered_results)"
   ]
  },
  {
   "cell_type": "markdown",
   "id": "06b2be0a",
   "metadata": {},
   "source": [
    "The result is a pandas series that we can manipulate as so. For example if we want to retrieve all the member_id and grid_label associated to a single modell like the *IPSL-CM6A-LR*"
   ]
  },
  {
   "cell_type": "code",
   "execution_count": null,
   "id": "d4e56605",
   "metadata": {},
   "outputs": [
    {
     "data": {
      "text/plain": [
       "member_id  grid_label\n",
       "r1i1p1f1   gr            16\n",
       "r2i1p1f1   gr            16\n",
       "r3i1p1f1   gr            16\n",
       "r4i1p1f1   gr            16\n",
       "Name: project, dtype: int64"
      ]
     },
     "execution_count": 17,
     "metadata": {},
     "output_type": "execute_result"
    }
   ],
   "source": [
    "filtered_results[\"IPSL-CM6A-LR\"]"
   ]
  },
  {
   "cell_type": "markdown",
   "id": "ea9d67fe",
   "metadata": {},
   "source": [
    "Good, let's have a look at the quantity of results we have left."
   ]
  },
  {
   "cell_type": "code",
   "execution_count": null,
   "id": "8332a924",
   "metadata": {},
   "outputs": [
    {
     "name": "stdout",
     "output_type": "stream",
     "text": [
      "The number of remaining (model, variant, grid) tuples is 28.\n"
     ]
    }
   ],
   "source": [
    "print(\n",
    "    \"The number of remaining (model, variant, grid) tuples is {}.\".format(\n",
    "        filtered_results.shape[0]\n",
    "    )\n",
    ")"
   ]
  },
  {
   "cell_type": "markdown",
   "id": "4980174f",
   "metadata": {},
   "source": [
    "### Applying the filter on the catalog"
   ]
  },
  {
   "cell_type": "markdown",
   "id": "59e9c50d",
   "metadata": {},
   "source": [
    "If that's satisfy us, we need to code a small function that will be **applied to the catalog**. The test will be executed on each model group that we have showed in the previous section. \n",
    "\n",
    "What's more, the pandas dataframe structure of the model groups is quite convenient as it allows us to apply more complex filters. One may want to select some specific models and variant label for example. In our case, we wish to reproduce the results from *Zelinka and al (2023)*. Therefore, we keep only the matching models and variant couples with a the provided list in the article.\n",
    "\n",
    "Firstly, we define the model.variant list of Zelinka's article.\n",
    "\n",
    "**Reference**\n",
    "\n",
    "Zelinka, M. D., Smith, C. J., Qin, Y., and Taylor, K. E.: Comparison of methods to estimate aerosol effective radiative forcings in climate models, Atmos. Chem. Phys., 23, 8879–8898, https://doi.org/10.5194/acp-23-8879-2023, 2023."
   ]
  },
  {
   "cell_type": "code",
   "execution_count": null,
   "id": "0383623f",
   "metadata": {},
   "outputs": [],
   "source": [
    "# ================ DEFINE THE MODEL.VARIANT LIST OF ZELINKA'S ARTICLE ================ #\n",
    "\n",
    "source_id_zelinka_2023 = [\n",
    "    \"ACCESS-CM2\",\n",
    "    \"ACCESS-ESM1-5\",\n",
    "    \"BCC-ESM1\",\n",
    "    \"CESM2\",\n",
    "    \"CNRM-CM6-1\",\n",
    "    \"CNRM-ESM2-1\",\n",
    "    \"CanESM5\",\n",
    "    \"GFDL-CM4\",\n",
    "    \"GFDL-ESM4\",\n",
    "    \"GISS-E2-1-G\",\n",
    "    \"GISS-E2-1-G\",\n",
    "    \"GISS-E2-1-G\",\n",
    "    \"HadGEM3-GC31-LL\",\n",
    "    \"IPSL-CM6A-LR-INCA\",\n",
    "    \"IPSL-CM6A-LR\",\n",
    "    \"IPSL-CM6A-LR\",\n",
    "    \"IPSL-CM6A-LR\",\n",
    "    \"IPSL-CM6A-LR\",\n",
    "    \"MIROC6\",\n",
    "    \"MIROC6\",\n",
    "    \"MPI-ESM-1-2-HAM\",\n",
    "    \"MRI-ESM2-0\",\n",
    "    \"NorESM2-LM\",\n",
    "    \"NorESM2-LM\",\n",
    "    \"NorESM2-MM\",\n",
    "    \"UKESM1-0-LL\" \n",
    "]\n",
    "\n",
    "member_id_zelinka_2023 = [\n",
    "    \"r1i1p1f1\",\n",
    "    \"r1i1p1f1\",\n",
    "    \"r1i1p1f1\",\n",
    "    \"r1i1p1f1\",\n",
    "    \"r1i1p1f2\",\n",
    "    \"r1i1p1f2\",\n",
    "    \"r1i1p2f1\",\n",
    "    \"r1i1p1f1\",\n",
    "    \"r1i1p1f1\",\n",
    "    \"r1i1p1f1\",\n",
    "    \"r1i1p1f2\",\n",
    "    \"r1i1p3f1\",\n",
    "    \"r1i1p1f3\",\n",
    "    \"r1i1p1f1\",\n",
    "    \"r1i1p1f1\",\n",
    "    \"r2i1p1f1\",\n",
    "    \"r3i1p1f1\",\n",
    "    \"r4i1p1f1\",\n",
    "    \"r11i1p1f1\",\n",
    "    \"r1i1p1f1\",\n",
    "    \"r1i1p1f1\",\n",
    "    \"r1i1p1f1\",\n",
    "    \"r1i1p1f1\",\n",
    "    \"r1i1p2f1\",\n",
    "    \"r1i1p1f1\",\n",
    "    \"r1i1p1f4\"\n",
    "]\n",
    "\n",
    "zelinka_2023_model_variant_table = pd.DataFrame({\"source_id\" : source_id_zelinka_2023, \"member_id\" : member_id_zelinka_2023}, dtype = str)"
   ]
  },
  {
   "cell_type": "markdown",
   "id": "aaf8c8a4",
   "metadata": {},
   "source": [
    "Then we are able to define a filtering function that will be applied to each grouped mdoel entry individually."
   ]
  },
  {
   "cell_type": "code",
   "execution_count": null,
   "id": "ed2bac0e",
   "metadata": {},
   "outputs": [],
   "source": [
    "# ================ DEFINING THE FILTERING FUNCTION ================ #\n",
    "\n",
    "### SET THE EXPECTED NUMBER OF FILES ###\n",
    "\n",
    "expected_number_of_files = 16\n",
    "\n",
    "### DEFINE THE GLOBAL OPTIONAL PARAMETERS OF THE FILTERING FUNCTION ###\n",
    "\n",
    "filtering_by_name = True\n",
    "\n",
    "keep_only_dataframe = zelinka_2023_model_variant_table\n",
    "\n",
    "### DEFINE THE FILTERING FUNCTION ###\n",
    "\n",
    "def filtering_function(grouped_model_entry : pd.DataFrame) -> bool:\n",
    "    \"\"\"\n",
    "\n",
    "    ### DEFINITION ###\n",
    "\n",
    "    This function allows the intake-esgf catalog to be cleaned of the entries that are not complete.\n",
    "    In the default case it means entries that do not meet the expected number of files. \n",
    "\n",
    "    The user can also set a condition that only the model and variant couples present in a provided pandas dataframe are kept.\n",
    "    Since the nature of this function is to be an input for the intake-esgf package, we define the optional arguments outside\n",
    "    of the function.\n",
    "\n",
    "    ### INPUTS\n",
    "\n",
    "    GROUPED_MODEL_ENTRY : Pandas DataFrame | sub dataframe containing all the variables of a given source_id, member_id and grid tuple.\n",
    "\n",
    "    ### OPTIONAL ARGUMENTS (DEFINED GLOBALLY)\n",
    "\n",
    "    FILTERING_BY_NAME : BOOL | defines if we filter the entry by source_id and member_id or not\n",
    "\n",
    "    KEEP_ONLY_DATAFRAME : Pandas DataFrame | associated dataframe holding the source_id and member_id to conserve\n",
    "    \n",
    "    ### OUTPUTS\n",
    "\n",
    "    BOOL | whether we keep this model group or not\n",
    "    \"\"\"\n",
    "\n",
    "    ### TEST THE NUMBER OF VARIBALES ###\n",
    "\n",
    "    if len(grouped_model_entry) == expected_number_of_files:\n",
    "\n",
    "        ### NUMBER OF VARIABLES' TEST SUCCEEDED ###\n",
    "\n",
    "        ## Do we keep only the Zelinka's article model and variant couples ? ##\n",
    "\n",
    "        # NO : We keep everything that matched the variable number's test #\n",
    "\n",
    "        if not(filtering_by_name):\n",
    "\n",
    "            return True\n",
    "        \n",
    "        ### YES : KEEPING ONLY THE COUPLES PRESENT IN ZELINKA 2023 ###\n",
    "\n",
    "        else :\n",
    "            \n",
    "            ## Doing the test on the grouped_model_entry's source_id and member_id ##\n",
    "\n",
    "            # Extract the grouped_model_entry data #\n",
    "\n",
    "            grouped_model_entry_source_id = grouped_model_entry.source_id.unique()[0]\n",
    "\n",
    "            grouped_model_entry_member_id = grouped_model_entry.member_id.unique()[0]\n",
    "\n",
    "            # Can we find the grouped_model_entry's source_id and member_id in one row of is_in_keep_only_dataframe ? #\n",
    "\n",
    "            is_in_keep_only_dataframe = ((keep_only_dataframe['source_id'] == grouped_model_entry_source_id) \n",
    "            & (keep_only_dataframe['member_id'] == grouped_model_entry_member_id)).any()\n",
    "\n",
    "            # Return the result of the test #\n",
    "\n",
    "            return is_in_keep_only_dataframe\n",
    "    \n",
    "    ### NUMBER OF VARIABLES' TEST FAILED ###\n",
    "\n",
    "    else :\n",
    "\n",
    "        return False"
   ]
  },
  {
   "cell_type": "markdown",
   "id": "ae9c222d",
   "metadata": {},
   "source": [
    "The following function allows us to apply the filtering function we have just defined."
   ]
  },
  {
   "cell_type": "code",
   "execution_count": null,
   "id": "08053c4e",
   "metadata": {},
   "outputs": [],
   "source": [
    "catalog = catalog.remove_incomplete(filtering_function)"
   ]
  },
  {
   "cell_type": "markdown",
   "id": "14f22bd4",
   "metadata": {},
   "source": [
    "Looking at the resulting dataframe we see that we have indeed filtered the unwanted entries :"
   ]
  },
  {
   "cell_type": "code",
   "execution_count": null,
   "id": "80a8e8ff",
   "metadata": {},
   "outputs": [
    {
     "data": {
      "text/html": [
       "<div>\n",
       "<style scoped>\n",
       "    .dataframe tbody tr th:only-of-type {\n",
       "        vertical-align: middle;\n",
       "    }\n",
       "\n",
       "    .dataframe tbody tr th {\n",
       "        vertical-align: top;\n",
       "    }\n",
       "\n",
       "    .dataframe thead th {\n",
       "        text-align: right;\n",
       "    }\n",
       "</style>\n",
       "<table border=\"1\" class=\"dataframe\">\n",
       "  <thead>\n",
       "    <tr style=\"text-align: right;\">\n",
       "      <th></th>\n",
       "      <th>project</th>\n",
       "      <th>mip_era</th>\n",
       "      <th>activity_drs</th>\n",
       "      <th>institution_id</th>\n",
       "      <th>source_id</th>\n",
       "      <th>experiment_id</th>\n",
       "      <th>member_id</th>\n",
       "      <th>table_id</th>\n",
       "      <th>variable_id</th>\n",
       "      <th>grid_label</th>\n",
       "      <th>version</th>\n",
       "      <th>id</th>\n",
       "    </tr>\n",
       "  </thead>\n",
       "  <tbody>\n",
       "    <tr>\n",
       "      <th>0</th>\n",
       "      <td>CMIP6</td>\n",
       "      <td>CMIP6</td>\n",
       "      <td>RFMIP</td>\n",
       "      <td>IPSL</td>\n",
       "      <td>IPSL-CM6A-LR</td>\n",
       "      <td>piClim-aer</td>\n",
       "      <td>r1i1p1f1</td>\n",
       "      <td>Amon</td>\n",
       "      <td>rsuscs</td>\n",
       "      <td>gr</td>\n",
       "      <td>20190118</td>\n",
       "      <td>[CMIP6.RFMIP.IPSL.IPSL-CM6A-LR.piClim-aer.r1i1...</td>\n",
       "    </tr>\n",
       "    <tr>\n",
       "      <th>1</th>\n",
       "      <td>CMIP6</td>\n",
       "      <td>CMIP6</td>\n",
       "      <td>RFMIP</td>\n",
       "      <td>IPSL</td>\n",
       "      <td>IPSL-CM6A-LR</td>\n",
       "      <td>piClim-aer</td>\n",
       "      <td>r1i1p1f1</td>\n",
       "      <td>Amon</td>\n",
       "      <td>rsutcs</td>\n",
       "      <td>gr</td>\n",
       "      <td>20190118</td>\n",
       "      <td>[CMIP6.RFMIP.IPSL.IPSL-CM6A-LR.piClim-aer.r1i1...</td>\n",
       "    </tr>\n",
       "    <tr>\n",
       "      <th>2</th>\n",
       "      <td>CMIP6</td>\n",
       "      <td>CMIP6</td>\n",
       "      <td>RFMIP</td>\n",
       "      <td>IPSL</td>\n",
       "      <td>IPSL-CM6A-LR</td>\n",
       "      <td>piClim-aer</td>\n",
       "      <td>r1i1p1f1</td>\n",
       "      <td>Amon</td>\n",
       "      <td>rsut</td>\n",
       "      <td>gr</td>\n",
       "      <td>20190118</td>\n",
       "      <td>[CMIP6.RFMIP.IPSL.IPSL-CM6A-LR.piClim-aer.r1i1...</td>\n",
       "    </tr>\n",
       "    <tr>\n",
       "      <th>3</th>\n",
       "      <td>CMIP6</td>\n",
       "      <td>CMIP6</td>\n",
       "      <td>RFMIP</td>\n",
       "      <td>IPSL</td>\n",
       "      <td>IPSL-CM6A-LR</td>\n",
       "      <td>piClim-aer</td>\n",
       "      <td>r2i1p1f1</td>\n",
       "      <td>Amon</td>\n",
       "      <td>rsutcs</td>\n",
       "      <td>gr</td>\n",
       "      <td>20190118</td>\n",
       "      <td>[CMIP6.RFMIP.IPSL.IPSL-CM6A-LR.piClim-aer.r2i1...</td>\n",
       "    </tr>\n",
       "    <tr>\n",
       "      <th>4</th>\n",
       "      <td>CMIP6</td>\n",
       "      <td>CMIP6</td>\n",
       "      <td>RFMIP</td>\n",
       "      <td>IPSL</td>\n",
       "      <td>IPSL-CM6A-LR</td>\n",
       "      <td>piClim-aer</td>\n",
       "      <td>r4i1p1f1</td>\n",
       "      <td>Amon</td>\n",
       "      <td>rsds</td>\n",
       "      <td>gr</td>\n",
       "      <td>20190118</td>\n",
       "      <td>[CMIP6.RFMIP.IPSL.IPSL-CM6A-LR.piClim-aer.r4i1...</td>\n",
       "    </tr>\n",
       "    <tr>\n",
       "      <th>...</th>\n",
       "      <td>...</td>\n",
       "      <td>...</td>\n",
       "      <td>...</td>\n",
       "      <td>...</td>\n",
       "      <td>...</td>\n",
       "      <td>...</td>\n",
       "      <td>...</td>\n",
       "      <td>...</td>\n",
       "      <td>...</td>\n",
       "      <td>...</td>\n",
       "      <td>...</td>\n",
       "      <td>...</td>\n",
       "    </tr>\n",
       "    <tr>\n",
       "      <th>1468</th>\n",
       "      <td>CMIP6</td>\n",
       "      <td>CMIP6</td>\n",
       "      <td>RFMIP</td>\n",
       "      <td>MOHC</td>\n",
       "      <td>HadGEM3-GC31-LL</td>\n",
       "      <td>piClim-aer</td>\n",
       "      <td>r1i1p1f3</td>\n",
       "      <td>Amon</td>\n",
       "      <td>rsus</td>\n",
       "      <td>gn</td>\n",
       "      <td>20191113</td>\n",
       "      <td>[CMIP6.RFMIP.MOHC.HadGEM3-GC31-LL.piClim-aer.r...</td>\n",
       "    </tr>\n",
       "    <tr>\n",
       "      <th>1469</th>\n",
       "      <td>CMIP6</td>\n",
       "      <td>CMIP6</td>\n",
       "      <td>RFMIP</td>\n",
       "      <td>MOHC</td>\n",
       "      <td>HadGEM3-GC31-LL</td>\n",
       "      <td>piClim-aer</td>\n",
       "      <td>r1i1p1f3</td>\n",
       "      <td>Amon</td>\n",
       "      <td>rsuscs</td>\n",
       "      <td>gn</td>\n",
       "      <td>20191113</td>\n",
       "      <td>[CMIP6.RFMIP.MOHC.HadGEM3-GC31-LL.piClim-aer.r...</td>\n",
       "    </tr>\n",
       "    <tr>\n",
       "      <th>1470</th>\n",
       "      <td>CMIP6</td>\n",
       "      <td>CMIP6</td>\n",
       "      <td>RFMIP</td>\n",
       "      <td>MOHC</td>\n",
       "      <td>HadGEM3-GC31-LL</td>\n",
       "      <td>piClim-aer</td>\n",
       "      <td>r1i1p1f3</td>\n",
       "      <td>Amon</td>\n",
       "      <td>rsut</td>\n",
       "      <td>gn</td>\n",
       "      <td>20191113</td>\n",
       "      <td>[CMIP6.RFMIP.MOHC.HadGEM3-GC31-LL.piClim-aer.r...</td>\n",
       "    </tr>\n",
       "    <tr>\n",
       "      <th>1471</th>\n",
       "      <td>CMIP6</td>\n",
       "      <td>CMIP6</td>\n",
       "      <td>RFMIP</td>\n",
       "      <td>MOHC</td>\n",
       "      <td>HadGEM3-GC31-LL</td>\n",
       "      <td>piClim-aer</td>\n",
       "      <td>r1i1p1f3</td>\n",
       "      <td>Amon</td>\n",
       "      <td>rsutcs</td>\n",
       "      <td>gn</td>\n",
       "      <td>20191113</td>\n",
       "      <td>[CMIP6.RFMIP.MOHC.HadGEM3-GC31-LL.piClim-aer.r...</td>\n",
       "    </tr>\n",
       "    <tr>\n",
       "      <th>1475</th>\n",
       "      <td>CMIP6</td>\n",
       "      <td>CMIP6</td>\n",
       "      <td>RFMIP</td>\n",
       "      <td>MOHC</td>\n",
       "      <td>HadGEM3-GC31-LL</td>\n",
       "      <td>piClim-control</td>\n",
       "      <td>r1i1p1f3</td>\n",
       "      <td>Amon</td>\n",
       "      <td>rsdt</td>\n",
       "      <td>gn</td>\n",
       "      <td>20191113</td>\n",
       "      <td>[CMIP6.RFMIP.MOHC.HadGEM3-GC31-LL.piClim-contr...</td>\n",
       "    </tr>\n",
       "  </tbody>\n",
       "</table>\n",
       "<p>400 rows × 12 columns</p>\n",
       "</div>"
      ],
      "text/plain": [
       "     project mip_era activity_drs institution_id        source_id  \\\n",
       "0      CMIP6   CMIP6        RFMIP           IPSL     IPSL-CM6A-LR   \n",
       "1      CMIP6   CMIP6        RFMIP           IPSL     IPSL-CM6A-LR   \n",
       "2      CMIP6   CMIP6        RFMIP           IPSL     IPSL-CM6A-LR   \n",
       "3      CMIP6   CMIP6        RFMIP           IPSL     IPSL-CM6A-LR   \n",
       "4      CMIP6   CMIP6        RFMIP           IPSL     IPSL-CM6A-LR   \n",
       "...      ...     ...          ...            ...              ...   \n",
       "1468   CMIP6   CMIP6        RFMIP           MOHC  HadGEM3-GC31-LL   \n",
       "1469   CMIP6   CMIP6        RFMIP           MOHC  HadGEM3-GC31-LL   \n",
       "1470   CMIP6   CMIP6        RFMIP           MOHC  HadGEM3-GC31-LL   \n",
       "1471   CMIP6   CMIP6        RFMIP           MOHC  HadGEM3-GC31-LL   \n",
       "1475   CMIP6   CMIP6        RFMIP           MOHC  HadGEM3-GC31-LL   \n",
       "\n",
       "       experiment_id member_id table_id variable_id grid_label   version  \\\n",
       "0         piClim-aer  r1i1p1f1     Amon      rsuscs         gr  20190118   \n",
       "1         piClim-aer  r1i1p1f1     Amon      rsutcs         gr  20190118   \n",
       "2         piClim-aer  r1i1p1f1     Amon        rsut         gr  20190118   \n",
       "3         piClim-aer  r2i1p1f1     Amon      rsutcs         gr  20190118   \n",
       "4         piClim-aer  r4i1p1f1     Amon        rsds         gr  20190118   \n",
       "...              ...       ...      ...         ...        ...       ...   \n",
       "1468      piClim-aer  r1i1p1f3     Amon        rsus         gn  20191113   \n",
       "1469      piClim-aer  r1i1p1f3     Amon      rsuscs         gn  20191113   \n",
       "1470      piClim-aer  r1i1p1f3     Amon        rsut         gn  20191113   \n",
       "1471      piClim-aer  r1i1p1f3     Amon      rsutcs         gn  20191113   \n",
       "1475  piClim-control  r1i1p1f3     Amon        rsdt         gn  20191113   \n",
       "\n",
       "                                                     id  \n",
       "0     [CMIP6.RFMIP.IPSL.IPSL-CM6A-LR.piClim-aer.r1i1...  \n",
       "1     [CMIP6.RFMIP.IPSL.IPSL-CM6A-LR.piClim-aer.r1i1...  \n",
       "2     [CMIP6.RFMIP.IPSL.IPSL-CM6A-LR.piClim-aer.r1i1...  \n",
       "3     [CMIP6.RFMIP.IPSL.IPSL-CM6A-LR.piClim-aer.r2i1...  \n",
       "4     [CMIP6.RFMIP.IPSL.IPSL-CM6A-LR.piClim-aer.r4i1...  \n",
       "...                                                 ...  \n",
       "1468  [CMIP6.RFMIP.MOHC.HadGEM3-GC31-LL.piClim-aer.r...  \n",
       "1469  [CMIP6.RFMIP.MOHC.HadGEM3-GC31-LL.piClim-aer.r...  \n",
       "1470  [CMIP6.RFMIP.MOHC.HadGEM3-GC31-LL.piClim-aer.r...  \n",
       "1471  [CMIP6.RFMIP.MOHC.HadGEM3-GC31-LL.piClim-aer.r...  \n",
       "1475  [CMIP6.RFMIP.MOHC.HadGEM3-GC31-LL.piClim-contr...  \n",
       "\n",
       "[400 rows x 12 columns]"
      ]
     },
     "execution_count": 22,
     "metadata": {},
     "output_type": "execute_result"
    }
   ],
   "source": [
    "remaining_entries_dataframe = catalog.df\n",
    "\n",
    "print(remaining_entries_dataframe)"
   ]
  },
  {
   "cell_type": "markdown",
   "id": "e7101798",
   "metadata": {},
   "source": [
    "This final catalog can be transformed into a table written for a *.md* readme file. This can be useful if one wants to show the data they use on github for example."
   ]
  },
  {
   "cell_type": "code",
   "execution_count": null,
   "id": "bdfc1b29",
   "metadata": {},
   "outputs": [],
   "source": [
    "# ================ TURN THE CATALOG INTO A TABLE FOR GITHUB ================ #\n",
    "\n",
    "remaining_grouped_models_dataframe = remaining_entries_dataframe[[\"source_id\",\"member_id\",\"grid_label\"]].drop_duplicates().reset_index(drop = True)\n",
    "\n",
    "print(remaining_grouped_models_dataframe.to_markdown())"
   ]
  },
  {
   "cell_type": "markdown",
   "id": "c7907795",
   "metadata": {},
   "source": [
    "---\n",
    "\n",
    "## Downloading the files and load a dictionary in memory\n",
    "\n",
    "---"
   ]
  },
  {
   "cell_type": "markdown",
   "id": "5b1e5884",
   "metadata": {},
   "source": [
    "The intake-esgf library proposes to store the found results in memory under the form of a dictionary holding xarray datasets for every single netcdf file found. This process also saves the netcdf files at the previously defined *local_cache path*. This part is less general than the previous sections as we have developed more complex routines that what the intake-esgf package provides. Still, if your request is pretty straightforward it may be relevant to first look at the intake-esgf documentation : https://intake-esgf.readthedocs.io/en/latest/quickstart.html.\n",
    "\n",
    "We have indeed developed a specific downloading routine. This is because there is an issue that may be encountered if, as in this example, the user tried to download a lot of different entries from the solr index nodes. Indeed, the downloading of some variables of the data present on these nodes will fail. A solution that has been found in this case is to make a request for a **(source_id, member_id, grid_label)** tuple at once. That is to say, **download each entry independently and then regroup them under the same dictionary**.\n",
    "\n",
    "In addition, by default, the package is looking for the **areacella** variable automatically. Areacella is the variable associated to the model's grid. It tells us the surface associated to each grid point and allows us to easily do spatial averages accross grid points. So, intake-esgf does look for areacella but it does it **rather slowly** as it first looks for an areacella variable for our full search facets, which may lead to no results, and then expands the search. Moreover, it does so for for every single variable of a given model which is redundant. In our analysis, we would rather load the dictionary with *add_measures* set to **False** and then download (and load) the areacella netcdf files apart with a homemade routine. An example of this process is given afterward."
   ]
  },
  {
   "cell_type": "markdown",
   "id": "6371e2d7",
   "metadata": {},
   "source": [
    "### Download of a lot of entries from the solr nodes."
   ]
  },
  {
   "cell_type": "markdown",
   "id": "324ab6b0",
   "metadata": {},
   "source": [
    "We prepare the download of each individual set of variables for a given model. We use for that two functions that can be found in the *load_cmip6.py* submodule in the same folder as this notebook.\n",
    "\n",
    "- The *generate_single_model_search_criterias* function which generates the *search_criterias* used to download a single entry. It is done by the needed tuple of (source_id, member_id, grid_label) criterias to the global *search* dictionary.\n",
    "\n",
    "- The *update_single_entry_keys* function which updates, once we downloaded it, the keys of the one entry dictionary to allow to concatenate all dictionaries together.\n",
    "\n",
    "With these two functions, we can generate a dictionnary holding all entries even though we downloaded them separatly.\n",
    "\n",
    "Before using them, we need to extract some information out the filtered catalog."
   ]
  },
  {
   "cell_type": "code",
   "execution_count": null,
   "id": "0eaf4be9",
   "metadata": {},
   "outputs": [],
   "source": [
    "# ================ EXTRACT THE FILTERED CATALOG'S INFORMATION ================ #\n",
    "\n",
    "### GET THE INFORMATIONS THAT THE CATALOG EXTRACTED ###\n",
    "\n",
    "## Generate the full dataframe of the files found by the search ##\n",
    "\n",
    "selected_entries_full_dataframe = catalog.df\n",
    "\n",
    "## Save the grouped model pandas series for the areacella part ##\n",
    "\n",
    "series_grouped_models = catalog.model_groups()\n",
    "\n",
    "### GET ONLY THE NEEDED INFORMATION ###\n",
    "\n",
    "## We extract the (source_id, member_id, grid_label) tuples from the full dataframe ##\n",
    "\n",
    "# we remove the duplicates to only keep one row per tuple\n",
    "\n",
    "grouped_models_dataframe = selected_entries_full_dataframe[[\"source_id\",\"member_id\",\"grid_label\"]].drop_duplicates().reset_index(drop = True)\n"
   ]
  },
  {
   "cell_type": "markdown",
   "id": "dc0b6725",
   "metadata": {},
   "source": [
    "Once we have all the needed variables, the following routine builds the full dictionary by downloading every single entry independently."
   ]
  },
  {
   "cell_type": "code",
   "execution_count": null,
   "id": "f92d1d0d",
   "metadata": {},
   "outputs": [
    {
     "name": "stdout",
     "output_type": "stream",
     "text": [
      "Downloading and/or loading the data one entry at a time...\n",
      "\n",
      "\n",
      "Downloading IPSL-CM6A-LR.r1i1p1f1.gr ...\n",
      "\n"
     ]
    },
    {
     "data": {
      "application/vnd.jupyter.widget-view+json": {
       "model_id": "704235cce289485ab138ff16b8db9c4b",
       "version_major": 2,
       "version_minor": 0
      },
      "text/plain": [
       "   Searching indices:   0%|          |0/9 [       ?index/s]"
      ]
     },
     "metadata": {},
     "output_type": "display_data"
    },
    {
     "name": "stderr",
     "output_type": "stream",
     "text": [
      "/home/jovyan/my-conda-envs/cmip6-download/lib/python3.13/site-packages/intake_esgf/catalog.py:450: UserWarning: SolrESGFIndex('esgf-data.dkrz.de') failed to return a response, info may be incomplete\n",
      "  warnings.warn(\n",
      "/home/jovyan/my-conda-envs/cmip6-download/lib/python3.13/site-packages/intake_esgf/catalog.py:450: UserWarning: SolrESGFIndex('esg-dn1.nsc.liu.se') failed to return a response, info may be incomplete\n",
      "  warnings.warn(\n",
      "/home/jovyan/my-conda-envs/cmip6-download/lib/python3.13/site-packages/intake_esgf/catalog.py:450: UserWarning: SolrESGFIndex('esgf.nci.org.au') failed to return a response, info may be incomplete\n",
      "  warnings.warn(\n",
      "/home/jovyan/my-conda-envs/cmip6-download/lib/python3.13/site-packages/intake_esgf/catalog.py:450: UserWarning: SolrESGFIndex('esgf-node.llnl.gov') failed to return a response, info may be incomplete\n",
      "  warnings.warn(\n",
      "/home/jovyan/my-conda-envs/cmip6-download/lib/python3.13/site-packages/intake_esgf/catalog.py:450: UserWarning: SolrESGFIndex('esgf.ceda.ac.uk') failed to return a response, info may be incomplete\n",
      "  warnings.warn(\n",
      "/home/jovyan/my-conda-envs/cmip6-download/lib/python3.13/site-packages/intake_esgf/catalog.py:450: UserWarning: SolrESGFIndex('esgf-node.ipsl.upmc.fr') failed to return a response, info may be incomplete\n",
      "  warnings.warn(\n",
      "/home/jovyan/my-conda-envs/cmip6-download/lib/python3.13/site-packages/intake_esgf/catalog.py:450: UserWarning: SolrESGFIndex('esgf-node.ornl.gov') failed to return a response, info may be incomplete\n",
      "  warnings.warn(\n"
     ]
    },
    {
     "data": {
      "application/vnd.jupyter.widget-view+json": {
       "model_id": "4942149eea52485c9ea64af6029b1391",
       "version_major": 2,
       "version_minor": 0
      },
      "text/plain": [
       "rsut_Amon_IPSL-CM6A-LR_piClim-control...:   0%|          |0.00/20.8M [?B/s]"
      ]
     },
     "metadata": {},
     "output_type": "display_data"
    },
    {
     "data": {
      "application/vnd.jupyter.widget-view+json": {
       "model_id": "346e07d950a34a55bf88513b1faf73cf",
       "version_major": 2,
       "version_minor": 0
      },
      "text/plain": [
       "rsut_Amon_IPSL-CM6A-LR_piClim-aer_r1i...:   0%|          |0.00/20.8M [?B/s]"
      ]
     },
     "metadata": {},
     "output_type": "display_data"
    },
    {
     "data": {
      "application/vnd.jupyter.widget-view+json": {
       "model_id": "141babb891404000b75340be54a19c8c",
       "version_major": 2,
       "version_minor": 0
      },
      "text/plain": [
       "rsuscs_Amon_IPSL-CM6A-LR_piClim-aer_r...:   0%|          |0.00/19.7M [?B/s]"
      ]
     },
     "metadata": {},
     "output_type": "display_data"
    },
    {
     "data": {
      "application/vnd.jupyter.widget-view+json": {
       "model_id": "65b26124db8e43f2ba2fb0aeeb4c1543",
       "version_major": 2,
       "version_minor": 0
      },
      "text/plain": [
       "rsutcs_Amon_IPSL-CM6A-LR_piClim-aer_r...:   0%|          |0.00/19.0M [?B/s]"
      ]
     },
     "metadata": {},
     "output_type": "display_data"
    },
    {
     "data": {
      "application/vnd.jupyter.widget-view+json": {
       "model_id": "9916b60ab54241a384b5f662074347c2",
       "version_major": 2,
       "version_minor": 0
      },
      "text/plain": [
       "rsdscs_Amon_IPSL-CM6A-LR_piClim-aer_r...:   0%|          |0.00/17.6M [?B/s]"
      ]
     },
     "metadata": {},
     "output_type": "display_data"
    },
    {
     "data": {
      "application/vnd.jupyter.widget-view+json": {
       "model_id": "358ef3dfe47345e5ae63fd15f139ffa8",
       "version_major": 2,
       "version_minor": 0
      },
      "text/plain": [
       "rsus_Amon_IPSL-CM6A-LR_piClim-aer_r1i...:   0%|          |0.00/21.3M [?B/s]"
      ]
     },
     "metadata": {},
     "output_type": "display_data"
    },
    {
     "data": {
      "application/vnd.jupyter.widget-view+json": {
       "model_id": "270b96d942d34448be00bbca24f814ad",
       "version_major": 2,
       "version_minor": 0
      },
      "text/plain": [
       "clt_Amon_IPSL-CM6A-LR_piClim-control_...:   0%|          |0.00/22.1M [?B/s]"
      ]
     },
     "metadata": {},
     "output_type": "display_data"
    },
    {
     "data": {
      "application/vnd.jupyter.widget-view+json": {
       "model_id": "7bb56fc198b941af9e0e55e9e42f8b33",
       "version_major": 2,
       "version_minor": 0
      },
      "text/plain": [
       "rsdscs_Amon_IPSL-CM6A-LR_piClim-contr...:   0%|          |0.00/17.5M [?B/s]"
      ]
     },
     "metadata": {},
     "output_type": "display_data"
    },
    {
     "data": {
      "application/vnd.jupyter.widget-view+json": {
       "model_id": "554e66b58dd5440daa416a1ab5579af3",
       "version_major": 2,
       "version_minor": 0
      },
      "text/plain": [
       "rsdt_Amon_IPSL-CM6A-LR_piClim-aer_r1i...:   0%|          |0.00/13.5M [?B/s]"
      ]
     },
     "metadata": {},
     "output_type": "display_data"
    },
    {
     "data": {
      "application/vnd.jupyter.widget-view+json": {
       "model_id": "3d1f1a20f2de4df482d0937ee240755d",
       "version_major": 2,
       "version_minor": 0
      },
      "text/plain": [
       "rsdt_Amon_IPSL-CM6A-LR_piClim-control...:   0%|          |0.00/13.5M [?B/s]"
      ]
     },
     "metadata": {},
     "output_type": "display_data"
    },
    {
     "data": {
      "application/vnd.jupyter.widget-view+json": {
       "model_id": "2cfdaf6de8d049e08d6458f0d198fc06",
       "version_major": 2,
       "version_minor": 0
      },
      "text/plain": [
       "rsds_Amon_IPSL-CM6A-LR_piClim-aer_r1i...:   0%|          |0.00/20.7M [?B/s]"
      ]
     },
     "metadata": {},
     "output_type": "display_data"
    },
    {
     "data": {
      "application/vnd.jupyter.widget-view+json": {
       "model_id": "222a660788e8465db2225e4b8b368afa",
       "version_major": 2,
       "version_minor": 0
      },
      "text/plain": [
       "clt_Amon_IPSL-CM6A-LR_piClim-aer_r1i1...:   0%|          |0.00/22.1M [?B/s]"
      ]
     },
     "metadata": {},
     "output_type": "display_data"
    },
    {
     "data": {
      "application/vnd.jupyter.widget-view+json": {
       "model_id": "e45bdb1fe69241b5af67cf6bb6d860d6",
       "version_major": 2,
       "version_minor": 0
      },
      "text/plain": [
       "rsds_Amon_IPSL-CM6A-LR_piClim-control...:   0%|          |0.00/20.7M [?B/s]"
      ]
     },
     "metadata": {},
     "output_type": "display_data"
    },
    {
     "data": {
      "application/vnd.jupyter.widget-view+json": {
       "model_id": "328ef388941241c5b6b547f9cae3f908",
       "version_major": 2,
       "version_minor": 0
      },
      "text/plain": [
       "rsus_Amon_IPSL-CM6A-LR_piClim-control...:   0%|          |0.00/21.3M [?B/s]"
      ]
     },
     "metadata": {},
     "output_type": "display_data"
    },
    {
     "data": {
      "application/vnd.jupyter.widget-view+json": {
       "model_id": "926411036b324b25957e4b3323e85103",
       "version_major": 2,
       "version_minor": 0
      },
      "text/plain": [
       "rsuscs_Amon_IPSL-CM6A-LR_piClim-contr...:   0%|          |0.00/19.7M [?B/s]"
      ]
     },
     "metadata": {},
     "output_type": "display_data"
    },
    {
     "data": {
      "application/vnd.jupyter.widget-view+json": {
       "model_id": "d659cd7a274741cbb35489c5e0262686",
       "version_major": 2,
       "version_minor": 0
      },
      "text/plain": [
       "rsutcs_Amon_IPSL-CM6A-LR_piClim-contr...:   0%|          |0.00/19.0M [?B/s]"
      ]
     },
     "metadata": {},
     "output_type": "display_data"
    },
    {
     "name": "stdout",
     "output_type": "stream",
     "text": [
      "\n",
      "Downloading IPSL-CM6A-LR.r2i1p1f1.gr ...\n",
      "\n"
     ]
    },
    {
     "data": {
      "application/vnd.jupyter.widget-view+json": {
       "model_id": "26422dde9b1a4b2f9564b0f96690e2e9",
       "version_major": 2,
       "version_minor": 0
      },
      "text/plain": [
       "   Searching indices:   0%|          |0/9 [       ?index/s]"
      ]
     },
     "metadata": {},
     "output_type": "display_data"
    },
    {
     "name": "stderr",
     "output_type": "stream",
     "text": [
      "/home/jovyan/my-conda-envs/cmip6-download/lib/python3.13/site-packages/intake_esgf/catalog.py:450: UserWarning: SolrESGFIndex('esgf-node.ipsl.upmc.fr') failed to return a response, info may be incomplete\n",
      "  warnings.warn(\n",
      "/home/jovyan/my-conda-envs/cmip6-download/lib/python3.13/site-packages/intake_esgf/catalog.py:450: UserWarning: SolrESGFIndex('esgf.ceda.ac.uk') failed to return a response, info may be incomplete\n",
      "  warnings.warn(\n",
      "/home/jovyan/my-conda-envs/cmip6-download/lib/python3.13/site-packages/intake_esgf/catalog.py:450: UserWarning: SolrESGFIndex('esgf-data.dkrz.de') failed to return a response, info may be incomplete\n",
      "  warnings.warn(\n",
      "/home/jovyan/my-conda-envs/cmip6-download/lib/python3.13/site-packages/intake_esgf/catalog.py:450: UserWarning: SolrESGFIndex('esg-dn1.nsc.liu.se') failed to return a response, info may be incomplete\n",
      "  warnings.warn(\n",
      "/home/jovyan/my-conda-envs/cmip6-download/lib/python3.13/site-packages/intake_esgf/catalog.py:450: UserWarning: SolrESGFIndex('esgf-node.ornl.gov') failed to return a response, info may be incomplete\n",
      "  warnings.warn(\n",
      "/home/jovyan/my-conda-envs/cmip6-download/lib/python3.13/site-packages/intake_esgf/catalog.py:450: UserWarning: SolrESGFIndex('esgf-node.llnl.gov') failed to return a response, info may be incomplete\n",
      "  warnings.warn(\n",
      "/home/jovyan/my-conda-envs/cmip6-download/lib/python3.13/site-packages/intake_esgf/catalog.py:450: UserWarning: SolrESGFIndex('esgf.nci.org.au') failed to return a response, info may be incomplete\n",
      "  warnings.warn(\n"
     ]
    },
    {
     "data": {
      "application/vnd.jupyter.widget-view+json": {
       "model_id": "4a929a4dec264053922bd59b3b06d1df",
       "version_major": 2,
       "version_minor": 0
      },
      "text/plain": [
       "rsdt_Amon_IPSL-CM6A-LR_piClim-aer_r2i...:   0%|          |0.00/13.5M [?B/s]"
      ]
     },
     "metadata": {},
     "output_type": "display_data"
    },
    {
     "data": {
      "application/vnd.jupyter.widget-view+json": {
       "model_id": "801ef1b11a114900b55efb3df21b7dea",
       "version_major": 2,
       "version_minor": 0
      },
      "text/plain": [
       "rsut_Amon_IPSL-CM6A-LR_piClim-control...:   0%|          |0.00/20.8M [?B/s]"
      ]
     },
     "metadata": {},
     "output_type": "display_data"
    },
    {
     "data": {
      "application/vnd.jupyter.widget-view+json": {
       "model_id": "7b8ade2cc380473884c8ece32f28db33",
       "version_major": 2,
       "version_minor": 0
      },
      "text/plain": [
       "clt_Amon_IPSL-CM6A-LR_piClim-aer_r2i1...:   0%|          |0.00/22.1M [?B/s]"
      ]
     },
     "metadata": {},
     "output_type": "display_data"
    },
    {
     "data": {
      "application/vnd.jupyter.widget-view+json": {
       "model_id": "c101b3660b8746d4935ae784aa852494",
       "version_major": 2,
       "version_minor": 0
      },
      "text/plain": [
       "rsdscs_Amon_IPSL-CM6A-LR_piClim-contr...:   0%|          |0.00/17.5M [?B/s]"
      ]
     },
     "metadata": {},
     "output_type": "display_data"
    },
    {
     "data": {
      "application/vnd.jupyter.widget-view+json": {
       "model_id": "ca627ff52cfe4bd0987e5181ae7adbd6",
       "version_major": 2,
       "version_minor": 0
      },
      "text/plain": [
       "rsut_Amon_IPSL-CM6A-LR_piClim-aer_r2i...:   0%|          |0.00/20.8M [?B/s]"
      ]
     },
     "metadata": {},
     "output_type": "display_data"
    },
    {
     "data": {
      "application/vnd.jupyter.widget-view+json": {
       "model_id": "e1531696d97e4f9f8d289d1b8710aea8",
       "version_major": 2,
       "version_minor": 0
      },
      "text/plain": [
       "rsutcs_Amon_IPSL-CM6A-LR_piClim-aer_r...:   0%|          |0.00/19.0M [?B/s]"
      ]
     },
     "metadata": {},
     "output_type": "display_data"
    },
    {
     "data": {
      "application/vnd.jupyter.widget-view+json": {
       "model_id": "135fa0e07ee04063a081ddc9e1b694e7",
       "version_major": 2,
       "version_minor": 0
      },
      "text/plain": [
       "clt_Amon_IPSL-CM6A-LR_piClim-control_...:   0%|          |0.00/22.1M [?B/s]"
      ]
     },
     "metadata": {},
     "output_type": "display_data"
    },
    {
     "data": {
      "application/vnd.jupyter.widget-view+json": {
       "model_id": "d32767adfc6f4e1bbeb96dadbdbdeca3",
       "version_major": 2,
       "version_minor": 0
      },
      "text/plain": [
       "rsdt_Amon_IPSL-CM6A-LR_piClim-control...:   0%|          |0.00/13.5M [?B/s]"
      ]
     },
     "metadata": {},
     "output_type": "display_data"
    },
    {
     "data": {
      "application/vnd.jupyter.widget-view+json": {
       "model_id": "987f8367162043bdaec979a9394bf446",
       "version_major": 2,
       "version_minor": 0
      },
      "text/plain": [
       "rsdscs_Amon_IPSL-CM6A-LR_piClim-aer_r...:   0%|          |0.00/17.6M [?B/s]"
      ]
     },
     "metadata": {},
     "output_type": "display_data"
    },
    {
     "data": {
      "application/vnd.jupyter.widget-view+json": {
       "model_id": "10fa3e9d530848b4976e479de3ee977b",
       "version_major": 2,
       "version_minor": 0
      },
      "text/plain": [
       "rsuscs_Amon_IPSL-CM6A-LR_piClim-aer_r...:   0%|          |0.00/19.7M [?B/s]"
      ]
     },
     "metadata": {},
     "output_type": "display_data"
    },
    {
     "data": {
      "application/vnd.jupyter.widget-view+json": {
       "model_id": "8b773dfac7544b64afb8f87effa69ea3",
       "version_major": 2,
       "version_minor": 0
      },
      "text/plain": [
       "rsus_Amon_IPSL-CM6A-LR_piClim-control...:   0%|          |0.00/21.3M [?B/s]"
      ]
     },
     "metadata": {},
     "output_type": "display_data"
    },
    {
     "data": {
      "application/vnd.jupyter.widget-view+json": {
       "model_id": "36cf45c7e2d3476faa70ee77a54dda85",
       "version_major": 2,
       "version_minor": 0
      },
      "text/plain": [
       "rsuscs_Amon_IPSL-CM6A-LR_piClim-contr...:   0%|          |0.00/19.7M [?B/s]"
      ]
     },
     "metadata": {},
     "output_type": "display_data"
    },
    {
     "data": {
      "application/vnd.jupyter.widget-view+json": {
       "model_id": "6c6a662247e24e2d93d6111df9bfdd48",
       "version_major": 2,
       "version_minor": 0
      },
      "text/plain": [
       "rsutcs_Amon_IPSL-CM6A-LR_piClim-contr...:   0%|          |0.00/19.0M [?B/s]"
      ]
     },
     "metadata": {},
     "output_type": "display_data"
    },
    {
     "data": {
      "application/vnd.jupyter.widget-view+json": {
       "model_id": "1281226e5df84afdb4568241a6ed73bf",
       "version_major": 2,
       "version_minor": 0
      },
      "text/plain": [
       "rsds_Amon_IPSL-CM6A-LR_piClim-aer_r2i...:   0%|          |0.00/20.7M [?B/s]"
      ]
     },
     "metadata": {},
     "output_type": "display_data"
    },
    {
     "data": {
      "application/vnd.jupyter.widget-view+json": {
       "model_id": "5898492c2f2140c4b011dc50f75400e9",
       "version_major": 2,
       "version_minor": 0
      },
      "text/plain": [
       "rsus_Amon_IPSL-CM6A-LR_piClim-aer_r2i...:   0%|          |0.00/21.3M [?B/s]"
      ]
     },
     "metadata": {},
     "output_type": "display_data"
    },
    {
     "data": {
      "application/vnd.jupyter.widget-view+json": {
       "model_id": "7a4c00fc96bb493e9dcdd7e96b1af067",
       "version_major": 2,
       "version_minor": 0
      },
      "text/plain": [
       "rsds_Amon_IPSL-CM6A-LR_piClim-control...:   0%|          |0.00/20.7M [?B/s]"
      ]
     },
     "metadata": {},
     "output_type": "display_data"
    },
    {
     "name": "stdout",
     "output_type": "stream",
     "text": [
      "\n",
      "Downloading IPSL-CM6A-LR.r4i1p1f1.gr ...\n",
      "\n"
     ]
    },
    {
     "data": {
      "application/vnd.jupyter.widget-view+json": {
       "model_id": "9e53d4a81cb544d3bc141c2e281b7221",
       "version_major": 2,
       "version_minor": 0
      },
      "text/plain": [
       "   Searching indices:   0%|          |0/9 [       ?index/s]"
      ]
     },
     "metadata": {},
     "output_type": "display_data"
    },
    {
     "name": "stderr",
     "output_type": "stream",
     "text": [
      "/home/jovyan/my-conda-envs/cmip6-download/lib/python3.13/site-packages/intake_esgf/catalog.py:450: UserWarning: SolrESGFIndex('esgf.ceda.ac.uk') failed to return a response, info may be incomplete\n",
      "  warnings.warn(\n",
      "/home/jovyan/my-conda-envs/cmip6-download/lib/python3.13/site-packages/intake_esgf/catalog.py:450: UserWarning: SolrESGFIndex('esgf-node.ipsl.upmc.fr') failed to return a response, info may be incomplete\n",
      "  warnings.warn(\n",
      "/home/jovyan/my-conda-envs/cmip6-download/lib/python3.13/site-packages/intake_esgf/catalog.py:450: UserWarning: SolrESGFIndex('esgf-data.dkrz.de') failed to return a response, info may be incomplete\n",
      "  warnings.warn(\n",
      "/home/jovyan/my-conda-envs/cmip6-download/lib/python3.13/site-packages/intake_esgf/catalog.py:450: UserWarning: SolrESGFIndex('esg-dn1.nsc.liu.se') failed to return a response, info may be incomplete\n",
      "  warnings.warn(\n",
      "/home/jovyan/my-conda-envs/cmip6-download/lib/python3.13/site-packages/intake_esgf/catalog.py:450: UserWarning: SolrESGFIndex('esgf-node.ornl.gov') failed to return a response, info may be incomplete\n",
      "  warnings.warn(\n",
      "/home/jovyan/my-conda-envs/cmip6-download/lib/python3.13/site-packages/intake_esgf/catalog.py:450: UserWarning: SolrESGFIndex('esgf-node.llnl.gov') failed to return a response, info may be incomplete\n",
      "  warnings.warn(\n",
      "/home/jovyan/my-conda-envs/cmip6-download/lib/python3.13/site-packages/intake_esgf/catalog.py:450: UserWarning: SolrESGFIndex('esgf.nci.org.au') failed to return a response, info may be incomplete\n",
      "  warnings.warn(\n"
     ]
    },
    {
     "data": {
      "application/vnd.jupyter.widget-view+json": {
       "model_id": "7c8c4f29e0d64ddd9257b96c66805ac5",
       "version_major": 2,
       "version_minor": 0
      },
      "text/plain": [
       "rsdt_Amon_IPSL-CM6A-LR_piClim-control...:   0%|          |0.00/13.5M [?B/s]"
      ]
     },
     "metadata": {},
     "output_type": "display_data"
    },
    {
     "data": {
      "application/vnd.jupyter.widget-view+json": {
       "model_id": "fd6391ba605940ab959eb9adb09f1e9d",
       "version_major": 2,
       "version_minor": 0
      },
      "text/plain": [
       "clt_Amon_IPSL-CM6A-LR_piClim-control_...:   0%|          |0.00/22.1M [?B/s]"
      ]
     },
     "metadata": {},
     "output_type": "display_data"
    },
    {
     "data": {
      "application/vnd.jupyter.widget-view+json": {
       "model_id": "817fbd92a3f84719bdf729f742dc2f26",
       "version_major": 2,
       "version_minor": 0
      },
      "text/plain": [
       "rsus_Amon_IPSL-CM6A-LR_piClim-aer_r4i...:   0%|          |0.00/21.3M [?B/s]"
      ]
     },
     "metadata": {},
     "output_type": "display_data"
    },
    {
     "data": {
      "application/vnd.jupyter.widget-view+json": {
       "model_id": "b4095df33db24f7796d1d832562881c9",
       "version_major": 2,
       "version_minor": 0
      },
      "text/plain": [
       "clt_Amon_IPSL-CM6A-LR_piClim-aer_r4i1...:   0%|          |0.00/22.1M [?B/s]"
      ]
     },
     "metadata": {},
     "output_type": "display_data"
    },
    {
     "data": {
      "application/vnd.jupyter.widget-view+json": {
       "model_id": "399f4008a1824da29f549b9a6fd4a05c",
       "version_major": 2,
       "version_minor": 0
      },
      "text/plain": [
       "rsut_Amon_IPSL-CM6A-LR_piClim-control...:   0%|          |0.00/20.8M [?B/s]"
      ]
     },
     "metadata": {},
     "output_type": "display_data"
    },
    {
     "data": {
      "application/vnd.jupyter.widget-view+json": {
       "model_id": "3e7a3032bfa146999e994cc91f2acc8c",
       "version_major": 2,
       "version_minor": 0
      },
      "text/plain": [
       "rsds_Amon_IPSL-CM6A-LR_piClim-aer_r4i...:   0%|          |0.00/20.7M [?B/s]"
      ]
     },
     "metadata": {},
     "output_type": "display_data"
    },
    {
     "data": {
      "application/vnd.jupyter.widget-view+json": {
       "model_id": "68925a17a4fe4c7ea57f145c61bbe347",
       "version_major": 2,
       "version_minor": 0
      },
      "text/plain": [
       "rsutcs_Amon_IPSL-CM6A-LR_piClim-contr...:   0%|          |0.00/19.0M [?B/s]"
      ]
     },
     "metadata": {},
     "output_type": "display_data"
    },
    {
     "data": {
      "application/vnd.jupyter.widget-view+json": {
       "model_id": "50be6b0381da441d8ab734db1911da40",
       "version_major": 2,
       "version_minor": 0
      },
      "text/plain": [
       "rsdscs_Amon_IPSL-CM6A-LR_piClim-aer_r...:   0%|          |0.00/17.6M [?B/s]"
      ]
     },
     "metadata": {},
     "output_type": "display_data"
    },
    {
     "data": {
      "application/vnd.jupyter.widget-view+json": {
       "model_id": "60a01f7ffcca4f1b931abf4bcd62d1dc",
       "version_major": 2,
       "version_minor": 0
      },
      "text/plain": [
       "rsdt_Amon_IPSL-CM6A-LR_piClim-aer_r4i...:   0%|          |0.00/13.5M [?B/s]"
      ]
     },
     "metadata": {},
     "output_type": "display_data"
    },
    {
     "data": {
      "application/vnd.jupyter.widget-view+json": {
       "model_id": "1e58e832fabb4c9a8a03a946393cd5d3",
       "version_major": 2,
       "version_minor": 0
      },
      "text/plain": [
       "rsutcs_Amon_IPSL-CM6A-LR_piClim-aer_r...:   0%|          |0.00/19.0M [?B/s]"
      ]
     },
     "metadata": {},
     "output_type": "display_data"
    },
    {
     "data": {
      "application/vnd.jupyter.widget-view+json": {
       "model_id": "78176d2ffe934b0283435df7bc543283",
       "version_major": 2,
       "version_minor": 0
      },
      "text/plain": [
       "rsus_Amon_IPSL-CM6A-LR_piClim-control...:   0%|          |0.00/21.3M [?B/s]"
      ]
     },
     "metadata": {},
     "output_type": "display_data"
    },
    {
     "data": {
      "application/vnd.jupyter.widget-view+json": {
       "model_id": "0086c61b09864133aba6e11ec30188aa",
       "version_major": 2,
       "version_minor": 0
      },
      "text/plain": [
       "rsuscs_Amon_IPSL-CM6A-LR_piClim-aer_r...:   0%|          |0.00/19.7M [?B/s]"
      ]
     },
     "metadata": {},
     "output_type": "display_data"
    },
    {
     "data": {
      "application/vnd.jupyter.widget-view+json": {
       "model_id": "4782efbdc2ca46a39990fc879168a7ac",
       "version_major": 2,
       "version_minor": 0
      },
      "text/plain": [
       "rsds_Amon_IPSL-CM6A-LR_piClim-control...:   0%|          |0.00/20.7M [?B/s]"
      ]
     },
     "metadata": {},
     "output_type": "display_data"
    },
    {
     "data": {
      "application/vnd.jupyter.widget-view+json": {
       "model_id": "e5315a0e9242451e89ef1391111fdb83",
       "version_major": 2,
       "version_minor": 0
      },
      "text/plain": [
       "rsuscs_Amon_IPSL-CM6A-LR_piClim-contr...:   0%|          |0.00/19.7M [?B/s]"
      ]
     },
     "metadata": {},
     "output_type": "display_data"
    },
    {
     "data": {
      "application/vnd.jupyter.widget-view+json": {
       "model_id": "bc43c77c811446e393a7bacb89767198",
       "version_major": 2,
       "version_minor": 0
      },
      "text/plain": [
       "rsdscs_Amon_IPSL-CM6A-LR_piClim-contr...:   0%|          |0.00/17.5M [?B/s]"
      ]
     },
     "metadata": {},
     "output_type": "display_data"
    },
    {
     "data": {
      "application/vnd.jupyter.widget-view+json": {
       "model_id": "5ff33f85eb4e491a97a188df60e43fc7",
       "version_major": 2,
       "version_minor": 0
      },
      "text/plain": [
       "rsut_Amon_IPSL-CM6A-LR_piClim-aer_r4i...:   0%|          |0.00/20.8M [?B/s]"
      ]
     },
     "metadata": {},
     "output_type": "display_data"
    },
    {
     "name": "stdout",
     "output_type": "stream",
     "text": [
      "\n",
      "Downloading IPSL-CM6A-LR.r3i1p1f1.gr ...\n",
      "\n"
     ]
    },
    {
     "data": {
      "application/vnd.jupyter.widget-view+json": {
       "model_id": "9516bc2281d645abacc7e7df6179ebaf",
       "version_major": 2,
       "version_minor": 0
      },
      "text/plain": [
       "   Searching indices:   0%|          |0/9 [       ?index/s]"
      ]
     },
     "metadata": {},
     "output_type": "display_data"
    },
    {
     "name": "stderr",
     "output_type": "stream",
     "text": [
      "/home/jovyan/my-conda-envs/cmip6-download/lib/python3.13/site-packages/intake_esgf/catalog.py:450: UserWarning: SolrESGFIndex('esgf-node.ipsl.upmc.fr') failed to return a response, info may be incomplete\n",
      "  warnings.warn(\n",
      "/home/jovyan/my-conda-envs/cmip6-download/lib/python3.13/site-packages/intake_esgf/catalog.py:450: UserWarning: SolrESGFIndex('esgf.ceda.ac.uk') failed to return a response, info may be incomplete\n",
      "  warnings.warn(\n",
      "/home/jovyan/my-conda-envs/cmip6-download/lib/python3.13/site-packages/intake_esgf/catalog.py:450: UserWarning: SolrESGFIndex('esgf-data.dkrz.de') failed to return a response, info may be incomplete\n",
      "  warnings.warn(\n",
      "/home/jovyan/my-conda-envs/cmip6-download/lib/python3.13/site-packages/intake_esgf/catalog.py:450: UserWarning: SolrESGFIndex('esgf-node.ornl.gov') failed to return a response, info may be incomplete\n",
      "  warnings.warn(\n",
      "/home/jovyan/my-conda-envs/cmip6-download/lib/python3.13/site-packages/intake_esgf/catalog.py:450: UserWarning: SolrESGFIndex('esg-dn1.nsc.liu.se') failed to return a response, info may be incomplete\n",
      "  warnings.warn(\n",
      "/home/jovyan/my-conda-envs/cmip6-download/lib/python3.13/site-packages/intake_esgf/catalog.py:450: UserWarning: SolrESGFIndex('esgf-node.llnl.gov') failed to return a response, info may be incomplete\n",
      "  warnings.warn(\n",
      "/home/jovyan/my-conda-envs/cmip6-download/lib/python3.13/site-packages/intake_esgf/catalog.py:450: UserWarning: SolrESGFIndex('esgf.nci.org.au') failed to return a response, info may be incomplete\n",
      "  warnings.warn(\n"
     ]
    },
    {
     "data": {
      "application/vnd.jupyter.widget-view+json": {
       "model_id": "1058e5e8246d47ada6a5b5adf9ceed1d",
       "version_major": 2,
       "version_minor": 0
      },
      "text/plain": [
       "rsuscs_Amon_IPSL-CM6A-LR_piClim-contr...:   0%|          |0.00/19.7M [?B/s]"
      ]
     },
     "metadata": {},
     "output_type": "display_data"
    },
    {
     "data": {
      "application/vnd.jupyter.widget-view+json": {
       "model_id": "4c92f6569c0f4e60a5baabbd77e14a6b",
       "version_major": 2,
       "version_minor": 0
      },
      "text/plain": [
       "clt_Amon_IPSL-CM6A-LR_piClim-aer_r3i1...:   0%|          |0.00/22.1M [?B/s]"
      ]
     },
     "metadata": {},
     "output_type": "display_data"
    },
    {
     "data": {
      "application/vnd.jupyter.widget-view+json": {
       "model_id": "0243a7ddef834e52a9832444910ada42",
       "version_major": 2,
       "version_minor": 0
      },
      "text/plain": [
       "rsds_Amon_IPSL-CM6A-LR_piClim-aer_r3i...:   0%|          |0.00/20.7M [?B/s]"
      ]
     },
     "metadata": {},
     "output_type": "display_data"
    },
    {
     "data": {
      "application/vnd.jupyter.widget-view+json": {
       "model_id": "1968bd86a1444bdca0d3fd2704ae9af6",
       "version_major": 2,
       "version_minor": 0
      },
      "text/plain": [
       "rsut_Amon_IPSL-CM6A-LR_piClim-aer_r3i...:   0%|          |0.00/20.8M [?B/s]"
      ]
     },
     "metadata": {},
     "output_type": "display_data"
    },
    {
     "data": {
      "application/vnd.jupyter.widget-view+json": {
       "model_id": "3cb6934c4b3d45b780efdd50e65540b6",
       "version_major": 2,
       "version_minor": 0
      },
      "text/plain": [
       "clt_Amon_IPSL-CM6A-LR_piClim-control_...:   0%|          |0.00/22.1M [?B/s]"
      ]
     },
     "metadata": {},
     "output_type": "display_data"
    },
    {
     "data": {
      "application/vnd.jupyter.widget-view+json": {
       "model_id": "551ab2f3145b42bd8f99bd6e167ee201",
       "version_major": 2,
       "version_minor": 0
      },
      "text/plain": [
       "rsus_Amon_IPSL-CM6A-LR_piClim-control...:   0%|          |0.00/21.3M [?B/s]"
      ]
     },
     "metadata": {},
     "output_type": "display_data"
    },
    {
     "data": {
      "application/vnd.jupyter.widget-view+json": {
       "model_id": "b6ce648a461e4b67bf831b2f72642cf9",
       "version_major": 2,
       "version_minor": 0
      },
      "text/plain": [
       "rsdscs_Amon_IPSL-CM6A-LR_piClim-aer_r...:   0%|          |0.00/17.6M [?B/s]"
      ]
     },
     "metadata": {},
     "output_type": "display_data"
    },
    {
     "data": {
      "application/vnd.jupyter.widget-view+json": {
       "model_id": "12befb40f9ad4b36b0ee45ab6621982b",
       "version_major": 2,
       "version_minor": 0
      },
      "text/plain": [
       "rsdt_Amon_IPSL-CM6A-LR_piClim-aer_r3i...:   0%|          |0.00/13.5M [?B/s]"
      ]
     },
     "metadata": {},
     "output_type": "display_data"
    },
    {
     "data": {
      "application/vnd.jupyter.widget-view+json": {
       "model_id": "0a87d701d2d54f3c968b9a1574ed3fde",
       "version_major": 2,
       "version_minor": 0
      },
      "text/plain": [
       "rsus_Amon_IPSL-CM6A-LR_piClim-aer_r3i...:   0%|          |0.00/21.3M [?B/s]"
      ]
     },
     "metadata": {},
     "output_type": "display_data"
    },
    {
     "data": {
      "application/vnd.jupyter.widget-view+json": {
       "model_id": "ab2e9623fed5440e93f8e68f1ff51462",
       "version_major": 2,
       "version_minor": 0
      },
      "text/plain": [
       "rsutcs_Amon_IPSL-CM6A-LR_piClim-contr...:   0%|          |0.00/19.0M [?B/s]"
      ]
     },
     "metadata": {},
     "output_type": "display_data"
    },
    {
     "data": {
      "application/vnd.jupyter.widget-view+json": {
       "model_id": "2df1f5d5042945319855a7febd7f2602",
       "version_major": 2,
       "version_minor": 0
      },
      "text/plain": [
       "rsuscs_Amon_IPSL-CM6A-LR_piClim-aer_r...:   0%|          |0.00/19.7M [?B/s]"
      ]
     },
     "metadata": {},
     "output_type": "display_data"
    },
    {
     "data": {
      "application/vnd.jupyter.widget-view+json": {
       "model_id": "bd2609402415440e8b98369ff8508401",
       "version_major": 2,
       "version_minor": 0
      },
      "text/plain": [
       "rsds_Amon_IPSL-CM6A-LR_piClim-control...:   0%|          |0.00/20.7M [?B/s]"
      ]
     },
     "metadata": {},
     "output_type": "display_data"
    },
    {
     "data": {
      "application/vnd.jupyter.widget-view+json": {
       "model_id": "05c4da8f32374e849b9748994d22146c",
       "version_major": 2,
       "version_minor": 0
      },
      "text/plain": [
       "rsutcs_Amon_IPSL-CM6A-LR_piClim-aer_r...:   0%|          |0.00/19.0M [?B/s]"
      ]
     },
     "metadata": {},
     "output_type": "display_data"
    },
    {
     "data": {
      "application/vnd.jupyter.widget-view+json": {
       "model_id": "70720db9aee04d6d87cb5f893bce54b9",
       "version_major": 2,
       "version_minor": 0
      },
      "text/plain": [
       "rsut_Amon_IPSL-CM6A-LR_piClim-control...:   0%|          |0.00/20.8M [?B/s]"
      ]
     },
     "metadata": {},
     "output_type": "display_data"
    },
    {
     "data": {
      "application/vnd.jupyter.widget-view+json": {
       "model_id": "8298a0d2e7c6404e95a9e0069914af5f",
       "version_major": 2,
       "version_minor": 0
      },
      "text/plain": [
       "rsdscs_Amon_IPSL-CM6A-LR_piClim-contr...:   0%|          |0.00/17.5M [?B/s]"
      ]
     },
     "metadata": {},
     "output_type": "display_data"
    },
    {
     "data": {
      "application/vnd.jupyter.widget-view+json": {
       "model_id": "b83f01626c784e2088b18b70877efb82",
       "version_major": 2,
       "version_minor": 0
      },
      "text/plain": [
       "rsdt_Amon_IPSL-CM6A-LR_piClim-control...:   0%|          |0.00/13.5M [?B/s]"
      ]
     },
     "metadata": {},
     "output_type": "display_data"
    },
    {
     "name": "stdout",
     "output_type": "stream",
     "text": [
      "\n",
      "Downloading CNRM-ESM2-1.r1i1p1f2.gr ...\n",
      "\n"
     ]
    },
    {
     "data": {
      "application/vnd.jupyter.widget-view+json": {
       "model_id": "167a7674284d4d0ab1ebb97fec9b0ef5",
       "version_major": 2,
       "version_minor": 0
      },
      "text/plain": [
       "   Searching indices:   0%|          |0/9 [       ?index/s]"
      ]
     },
     "metadata": {},
     "output_type": "display_data"
    },
    {
     "name": "stderr",
     "output_type": "stream",
     "text": [
      "/home/jovyan/my-conda-envs/cmip6-download/lib/python3.13/site-packages/intake_esgf/catalog.py:450: UserWarning: SolrESGFIndex('esgf.ceda.ac.uk') failed to return a response, info may be incomplete\n",
      "  warnings.warn(\n",
      "/home/jovyan/my-conda-envs/cmip6-download/lib/python3.13/site-packages/intake_esgf/catalog.py:450: UserWarning: SolrESGFIndex('esgf-node.ipsl.upmc.fr') failed to return a response, info may be incomplete\n",
      "  warnings.warn(\n",
      "/home/jovyan/my-conda-envs/cmip6-download/lib/python3.13/site-packages/intake_esgf/catalog.py:450: UserWarning: SolrESGFIndex('esgf-data.dkrz.de') failed to return a response, info may be incomplete\n",
      "  warnings.warn(\n",
      "/home/jovyan/my-conda-envs/cmip6-download/lib/python3.13/site-packages/intake_esgf/catalog.py:450: UserWarning: SolrESGFIndex('esg-dn1.nsc.liu.se') failed to return a response, info may be incomplete\n",
      "  warnings.warn(\n",
      "/home/jovyan/my-conda-envs/cmip6-download/lib/python3.13/site-packages/intake_esgf/catalog.py:450: UserWarning: SolrESGFIndex('esgf-node.ornl.gov') failed to return a response, info may be incomplete\n",
      "  warnings.warn(\n",
      "/home/jovyan/my-conda-envs/cmip6-download/lib/python3.13/site-packages/intake_esgf/catalog.py:450: UserWarning: SolrESGFIndex('esgf-node.llnl.gov') failed to return a response, info may be incomplete\n",
      "  warnings.warn(\n",
      "/home/jovyan/my-conda-envs/cmip6-download/lib/python3.13/site-packages/intake_esgf/catalog.py:450: UserWarning: SolrESGFIndex('esgf.nci.org.au') failed to return a response, info may be incomplete\n",
      "  warnings.warn(\n"
     ]
    },
    {
     "data": {
      "application/vnd.jupyter.widget-view+json": {
       "model_id": "1566c9f580bc4ca58d1491f8978ee2ac",
       "version_major": 2,
       "version_minor": 0
      },
      "text/plain": [
       "rsutcs_Amon_CNRM-ESM2-1_piClim-aer_r1...:   0%|          |0.00/29.6M [?B/s]"
      ]
     },
     "metadata": {},
     "output_type": "display_data"
    },
    {
     "data": {
      "application/vnd.jupyter.widget-view+json": {
       "model_id": "7e12d2b013944b28bad50db19b036cc4",
       "version_major": 2,
       "version_minor": 0
      },
      "text/plain": [
       "rsuscs_Amon_CNRM-ESM2-1_piClim-aer_r1...:   0%|          |0.00/30.1M [?B/s]"
      ]
     },
     "metadata": {},
     "output_type": "display_data"
    },
    {
     "data": {
      "application/vnd.jupyter.widget-view+json": {
       "model_id": "d56fc4deee1347f396dc54a65a1cca70",
       "version_major": 2,
       "version_minor": 0
      },
      "text/plain": [
       "rsut_Amon_CNRM-ESM2-1_piClim-control_...:   0%|          |0.00/32.5M [?B/s]"
      ]
     },
     "metadata": {},
     "output_type": "display_data"
    },
    {
     "data": {
      "application/vnd.jupyter.widget-view+json": {
       "model_id": "cfe03fd792504493943919b4bd43e21a",
       "version_major": 2,
       "version_minor": 0
      },
      "text/plain": [
       "rsds_Amon_CNRM-ESM2-1_piClim-control_...:   0%|          |0.00/31.7M [?B/s]"
      ]
     },
     "metadata": {},
     "output_type": "display_data"
    },
    {
     "data": {
      "application/vnd.jupyter.widget-view+json": {
       "model_id": "8d4ac205a98b43c9bb48be28d7c99ec9",
       "version_major": 2,
       "version_minor": 0
      },
      "text/plain": [
       "rsutcs_Amon_CNRM-ESM2-1_piClim-contro...:   0%|          |0.00/29.6M [?B/s]"
      ]
     },
     "metadata": {},
     "output_type": "display_data"
    },
    {
     "data": {
      "application/vnd.jupyter.widget-view+json": {
       "model_id": "d71a01ee894c418cb48272ee375fda03",
       "version_major": 2,
       "version_minor": 0
      },
      "text/plain": [
       "clt_Amon_CNRM-ESM2-1_piClim-aer_r1i1p...:   0%|          |0.00/33.4M [?B/s]"
      ]
     },
     "metadata": {},
     "output_type": "display_data"
    },
    {
     "data": {
      "application/vnd.jupyter.widget-view+json": {
       "model_id": "1b993295a6a343c0bdb943424c2d51a7",
       "version_major": 2,
       "version_minor": 0
      },
      "text/plain": [
       "clt_Amon_CNRM-ESM2-1_piClim-control_r...:   0%|          |0.00/33.4M [?B/s]"
      ]
     },
     "metadata": {},
     "output_type": "display_data"
    },
    {
     "data": {
      "application/vnd.jupyter.widget-view+json": {
       "model_id": "8c6e91d9ec05440d9a7f51dcf015d3e8",
       "version_major": 2,
       "version_minor": 0
      },
      "text/plain": [
       "rsdscs_Amon_CNRM-ESM2-1_piClim-aer_r1...:   0%|          |0.00/26.7M [?B/s]"
      ]
     },
     "metadata": {},
     "output_type": "display_data"
    },
    {
     "data": {
      "application/vnd.jupyter.widget-view+json": {
       "model_id": "6263daabcd61432e8e369f7e82a3a484",
       "version_major": 2,
       "version_minor": 0
      },
      "text/plain": [
       "rsdt_Amon_CNRM-ESM2-1_piClim-control_...:   0%|          |0.00/20.5M [?B/s]"
      ]
     },
     "metadata": {},
     "output_type": "display_data"
    },
    {
     "data": {
      "application/vnd.jupyter.widget-view+json": {
       "model_id": "e57b8e675ab941cd90e2408d78213ed3",
       "version_major": 2,
       "version_minor": 0
      },
      "text/plain": [
       "rsdt_Amon_CNRM-ESM2-1_piClim-aer_r1i1...:   0%|          |0.00/20.5M [?B/s]"
      ]
     },
     "metadata": {},
     "output_type": "display_data"
    },
    {
     "data": {
      "application/vnd.jupyter.widget-view+json": {
       "model_id": "433e7e6db07e4480a59c1b12554bdb37",
       "version_major": 2,
       "version_minor": 0
      },
      "text/plain": [
       "rsdscs_Amon_CNRM-ESM2-1_piClim-contro...:   0%|          |0.00/26.6M [?B/s]"
      ]
     },
     "metadata": {},
     "output_type": "display_data"
    },
    {
     "data": {
      "application/vnd.jupyter.widget-view+json": {
       "model_id": "8beebfaf69624a36aea32e4b4d3b96db",
       "version_major": 2,
       "version_minor": 0
      },
      "text/plain": [
       "rsuscs_Amon_CNRM-ESM2-1_piClim-contro...:   0%|          |0.00/30.0M [?B/s]"
      ]
     },
     "metadata": {},
     "output_type": "display_data"
    },
    {
     "data": {
      "application/vnd.jupyter.widget-view+json": {
       "model_id": "cab1e21ffe174bd482c21d616e8ee079",
       "version_major": 2,
       "version_minor": 0
      },
      "text/plain": [
       "rsus_Amon_CNRM-ESM2-1_piClim-control_...:   0%|          |0.00/32.9M [?B/s]"
      ]
     },
     "metadata": {},
     "output_type": "display_data"
    },
    {
     "data": {
      "application/vnd.jupyter.widget-view+json": {
       "model_id": "2e41d3e2506d4a6facc9331d3a7cc982",
       "version_major": 2,
       "version_minor": 0
      },
      "text/plain": [
       "rsut_Amon_CNRM-ESM2-1_piClim-aer_r1i1...:   0%|          |0.00/32.5M [?B/s]"
      ]
     },
     "metadata": {},
     "output_type": "display_data"
    },
    {
     "data": {
      "application/vnd.jupyter.widget-view+json": {
       "model_id": "d9b57738e6b54ee98edf7739da53903b",
       "version_major": 2,
       "version_minor": 0
      },
      "text/plain": [
       "rsds_Amon_CNRM-ESM2-1_piClim-aer_r1i1...:   0%|          |0.00/31.7M [?B/s]"
      ]
     },
     "metadata": {},
     "output_type": "display_data"
    },
    {
     "data": {
      "application/vnd.jupyter.widget-view+json": {
       "model_id": "fd579aba5de14dcfb23300270671d7b0",
       "version_major": 2,
       "version_minor": 0
      },
      "text/plain": [
       "rsus_Amon_CNRM-ESM2-1_piClim-aer_r1i1...:   0%|          |0.00/32.9M [?B/s]"
      ]
     },
     "metadata": {},
     "output_type": "display_data"
    },
    {
     "name": "stdout",
     "output_type": "stream",
     "text": [
      "\n",
      "Downloading CNRM-CM6-1.r1i1p1f2.gr ...\n",
      "\n"
     ]
    },
    {
     "data": {
      "application/vnd.jupyter.widget-view+json": {
       "model_id": "d1582843cec84230b434886a8b007558",
       "version_major": 2,
       "version_minor": 0
      },
      "text/plain": [
       "   Searching indices:   0%|          |0/9 [       ?index/s]"
      ]
     },
     "metadata": {},
     "output_type": "display_data"
    },
    {
     "name": "stderr",
     "output_type": "stream",
     "text": [
      "/home/jovyan/my-conda-envs/cmip6-download/lib/python3.13/site-packages/intake_esgf/catalog.py:450: UserWarning: SolrESGFIndex('esgf-node.ipsl.upmc.fr') failed to return a response, info may be incomplete\n",
      "  warnings.warn(\n",
      "/home/jovyan/my-conda-envs/cmip6-download/lib/python3.13/site-packages/intake_esgf/catalog.py:450: UserWarning: SolrESGFIndex('esgf.ceda.ac.uk') failed to return a response, info may be incomplete\n",
      "  warnings.warn(\n",
      "/home/jovyan/my-conda-envs/cmip6-download/lib/python3.13/site-packages/intake_esgf/catalog.py:450: UserWarning: SolrESGFIndex('esgf-data.dkrz.de') failed to return a response, info may be incomplete\n",
      "  warnings.warn(\n",
      "/home/jovyan/my-conda-envs/cmip6-download/lib/python3.13/site-packages/intake_esgf/catalog.py:450: UserWarning: SolrESGFIndex('esg-dn1.nsc.liu.se') failed to return a response, info may be incomplete\n",
      "  warnings.warn(\n",
      "/home/jovyan/my-conda-envs/cmip6-download/lib/python3.13/site-packages/intake_esgf/catalog.py:450: UserWarning: SolrESGFIndex('esgf-node.ornl.gov') failed to return a response, info may be incomplete\n",
      "  warnings.warn(\n",
      "/home/jovyan/my-conda-envs/cmip6-download/lib/python3.13/site-packages/intake_esgf/catalog.py:450: UserWarning: SolrESGFIndex('esgf-node.llnl.gov') failed to return a response, info may be incomplete\n",
      "  warnings.warn(\n",
      "/home/jovyan/my-conda-envs/cmip6-download/lib/python3.13/site-packages/intake_esgf/catalog.py:450: UserWarning: SolrESGFIndex('esgf.nci.org.au') failed to return a response, info may be incomplete\n",
      "  warnings.warn(\n"
     ]
    },
    {
     "data": {
      "application/vnd.jupyter.widget-view+json": {
       "model_id": "23673102b14340b8b90de25fe64b132a",
       "version_major": 2,
       "version_minor": 0
      },
      "text/plain": [
       "rsutcs_Amon_CNRM-CM6-1_piClim-aer_r1i...:   0%|          |0.00/29.3M [?B/s]"
      ]
     },
     "metadata": {},
     "output_type": "display_data"
    },
    {
     "data": {
      "application/vnd.jupyter.widget-view+json": {
       "model_id": "d8d68ce9ac2840fc897be0a656e63da4",
       "version_major": 2,
       "version_minor": 0
      },
      "text/plain": [
       "rsds_Amon_CNRM-CM6-1_piClim-control_r...:   0%|          |0.00/31.7M [?B/s]"
      ]
     },
     "metadata": {},
     "output_type": "display_data"
    },
    {
     "data": {
      "application/vnd.jupyter.widget-view+json": {
       "model_id": "2210e3aa124143afaaf8a3e2a38d9e39",
       "version_major": 2,
       "version_minor": 0
      },
      "text/plain": [
       "clt_Amon_CNRM-CM6-1_piClim-control_r1...:   0%|          |0.00/33.3M [?B/s]"
      ]
     },
     "metadata": {},
     "output_type": "display_data"
    },
    {
     "data": {
      "application/vnd.jupyter.widget-view+json": {
       "model_id": "7cb16f4ecd3743e28620579c1b28309d",
       "version_major": 2,
       "version_minor": 0
      },
      "text/plain": [
       "rsut_Amon_CNRM-CM6-1_piClim-aer_r1i1p...:   0%|          |0.00/32.4M [?B/s]"
      ]
     },
     "metadata": {},
     "output_type": "display_data"
    },
    {
     "data": {
      "application/vnd.jupyter.widget-view+json": {
       "model_id": "e23a3b5e6cd44a71acd317b53a37bf0f",
       "version_major": 2,
       "version_minor": 0
      },
      "text/plain": [
       "rsds_Amon_CNRM-CM6-1_piClim-aer_r1i1p...:   0%|          |0.00/31.7M [?B/s]"
      ]
     },
     "metadata": {},
     "output_type": "display_data"
    },
    {
     "data": {
      "application/vnd.jupyter.widget-view+json": {
       "model_id": "31fb5c0fc33c43f1a6f62bf0ec2927e1",
       "version_major": 2,
       "version_minor": 0
      },
      "text/plain": [
       "rsus_Amon_CNRM-CM6-1_piClim-control_r...:   0%|          |0.00/32.9M [?B/s]"
      ]
     },
     "metadata": {},
     "output_type": "display_data"
    },
    {
     "data": {
      "application/vnd.jupyter.widget-view+json": {
       "model_id": "a49dd313f71f4d9eba2cef157c547080",
       "version_major": 2,
       "version_minor": 0
      },
      "text/plain": [
       "rsutcs_Amon_CNRM-CM6-1_piClim-control...:   0%|          |0.00/29.3M [?B/s]"
      ]
     },
     "metadata": {},
     "output_type": "display_data"
    },
    {
     "data": {
      "application/vnd.jupyter.widget-view+json": {
       "model_id": "050a11d7d72f4ecfbda4d5ae71f13682",
       "version_major": 2,
       "version_minor": 0
      },
      "text/plain": [
       "rsuscs_Amon_CNRM-CM6-1_piClim-control...:   0%|          |0.00/29.9M [?B/s]"
      ]
     },
     "metadata": {},
     "output_type": "display_data"
    },
    {
     "data": {
      "application/vnd.jupyter.widget-view+json": {
       "model_id": "4d9ed4300d2e4d99b0434614c7a1f282",
       "version_major": 2,
       "version_minor": 0
      },
      "text/plain": [
       "clt_Amon_CNRM-CM6-1_piClim-aer_r1i1p1...:   0%|          |0.00/33.3M [?B/s]"
      ]
     },
     "metadata": {},
     "output_type": "display_data"
    },
    {
     "data": {
      "application/vnd.jupyter.widget-view+json": {
       "model_id": "122b12a3c0c64f599c80781cb3330d71",
       "version_major": 2,
       "version_minor": 0
      },
      "text/plain": [
       "rsdt_Amon_CNRM-CM6-1_piClim-aer_r1i1p...:   0%|          |0.00/20.5M [?B/s]"
      ]
     },
     "metadata": {},
     "output_type": "display_data"
    },
    {
     "data": {
      "application/vnd.jupyter.widget-view+json": {
       "model_id": "38cf1dff2b984286b112408f9f3b30d5",
       "version_major": 2,
       "version_minor": 0
      },
      "text/plain": [
       "rsus_Amon_CNRM-CM6-1_piClim-aer_r1i1p...:   0%|          |0.00/32.9M [?B/s]"
      ]
     },
     "metadata": {},
     "output_type": "display_data"
    },
    {
     "data": {
      "application/vnd.jupyter.widget-view+json": {
       "model_id": "f3ada675035e483a8ade583016576f74",
       "version_major": 2,
       "version_minor": 0
      },
      "text/plain": [
       "rsuscs_Amon_CNRM-CM6-1_piClim-aer_r1i...:   0%|          |0.00/30.0M [?B/s]"
      ]
     },
     "metadata": {},
     "output_type": "display_data"
    },
    {
     "data": {
      "application/vnd.jupyter.widget-view+json": {
       "model_id": "d9ed30f2f1b04133ad6667c13f9f49b5",
       "version_major": 2,
       "version_minor": 0
      },
      "text/plain": [
       "rsut_Amon_CNRM-CM6-1_piClim-control_r...:   0%|          |0.00/32.4M [?B/s]"
      ]
     },
     "metadata": {},
     "output_type": "display_data"
    },
    {
     "data": {
      "application/vnd.jupyter.widget-view+json": {
       "model_id": "41c925f5cd164a598c28c1c5e26c083b",
       "version_major": 2,
       "version_minor": 0
      },
      "text/plain": [
       "rsdscs_Amon_CNRM-CM6-1_piClim-aer_r1i...:   0%|          |0.00/26.5M [?B/s]"
      ]
     },
     "metadata": {},
     "output_type": "display_data"
    },
    {
     "data": {
      "application/vnd.jupyter.widget-view+json": {
       "model_id": "1dec4e376be6431f9be596b2c5d67b05",
       "version_major": 2,
       "version_minor": 0
      },
      "text/plain": [
       "rsdscs_Amon_CNRM-CM6-1_piClim-control...:   0%|          |0.00/26.3M [?B/s]"
      ]
     },
     "metadata": {},
     "output_type": "display_data"
    },
    {
     "data": {
      "application/vnd.jupyter.widget-view+json": {
       "model_id": "e1145a17d0b3427ab597180a4092adc8",
       "version_major": 2,
       "version_minor": 0
      },
      "text/plain": [
       "rsdt_Amon_CNRM-CM6-1_piClim-control_r...:   0%|          |0.00/20.5M [?B/s]"
      ]
     },
     "metadata": {},
     "output_type": "display_data"
    },
    {
     "name": "stdout",
     "output_type": "stream",
     "text": [
      "\n",
      "Downloading IPSL-CM6A-LR-INCA.r1i1p1f1.gr ...\n",
      "\n"
     ]
    },
    {
     "data": {
      "application/vnd.jupyter.widget-view+json": {
       "model_id": "3497af30a487468d95f10737dcd4257d",
       "version_major": 2,
       "version_minor": 0
      },
      "text/plain": [
       "   Searching indices:   0%|          |0/9 [       ?index/s]"
      ]
     },
     "metadata": {},
     "output_type": "display_data"
    },
    {
     "name": "stderr",
     "output_type": "stream",
     "text": [
      "/home/jovyan/my-conda-envs/cmip6-download/lib/python3.13/site-packages/intake_esgf/catalog.py:450: UserWarning: SolrESGFIndex('esgf.ceda.ac.uk') failed to return a response, info may be incomplete\n",
      "  warnings.warn(\n",
      "/home/jovyan/my-conda-envs/cmip6-download/lib/python3.13/site-packages/intake_esgf/catalog.py:450: UserWarning: SolrESGFIndex('esgf-data.dkrz.de') failed to return a response, info may be incomplete\n",
      "  warnings.warn(\n",
      "/home/jovyan/my-conda-envs/cmip6-download/lib/python3.13/site-packages/intake_esgf/catalog.py:450: UserWarning: SolrESGFIndex('esgf-node.ipsl.upmc.fr') failed to return a response, info may be incomplete\n",
      "  warnings.warn(\n",
      "/home/jovyan/my-conda-envs/cmip6-download/lib/python3.13/site-packages/intake_esgf/catalog.py:450: UserWarning: SolrESGFIndex('esg-dn1.nsc.liu.se') failed to return a response, info may be incomplete\n",
      "  warnings.warn(\n",
      "/home/jovyan/my-conda-envs/cmip6-download/lib/python3.13/site-packages/intake_esgf/catalog.py:450: UserWarning: SolrESGFIndex('esgf-node.ornl.gov') failed to return a response, info may be incomplete\n",
      "  warnings.warn(\n",
      "/home/jovyan/my-conda-envs/cmip6-download/lib/python3.13/site-packages/intake_esgf/catalog.py:450: UserWarning: SolrESGFIndex('esgf-node.llnl.gov') failed to return a response, info may be incomplete\n",
      "  warnings.warn(\n",
      "/home/jovyan/my-conda-envs/cmip6-download/lib/python3.13/site-packages/intake_esgf/catalog.py:450: UserWarning: SolrESGFIndex('esgf.nci.org.au') failed to return a response, info may be incomplete\n",
      "  warnings.warn(\n"
     ]
    },
    {
     "data": {
      "application/vnd.jupyter.widget-view+json": {
       "model_id": "2f6f717811d64af39ca6ce53442036e6",
       "version_major": 2,
       "version_minor": 0
      },
      "text/plain": [
       "rsdt_Amon_IPSL-CM6A-LR-INCA_piClim-ae...:   0%|          |0.00/13.6M [?B/s]"
      ]
     },
     "metadata": {},
     "output_type": "display_data"
    },
    {
     "data": {
      "application/vnd.jupyter.widget-view+json": {
       "model_id": "3da9a6bd6a064f6c997f8eeb30230e35",
       "version_major": 2,
       "version_minor": 0
      },
      "text/plain": [
       "rsut_Amon_IPSL-CM6A-LR-INCA_piClim-co...:   0%|          |0.00/20.9M [?B/s]"
      ]
     },
     "metadata": {},
     "output_type": "display_data"
    },
    {
     "data": {
      "application/vnd.jupyter.widget-view+json": {
       "model_id": "849d7e856808496c87e0f9d9c2652742",
       "version_major": 2,
       "version_minor": 0
      },
      "text/plain": [
       "rsutcs_Amon_IPSL-CM6A-LR-INCA_piClim-...:   0%|          |0.00/19.4M [?B/s]"
      ]
     },
     "metadata": {},
     "output_type": "display_data"
    },
    {
     "data": {
      "application/vnd.jupyter.widget-view+json": {
       "model_id": "397e75696a56439faf228c83dd26ec60",
       "version_major": 2,
       "version_minor": 0
      },
      "text/plain": [
       "clt_Amon_IPSL-CM6A-LR-INCA_piClim-aer...:   0%|          |0.00/22.2M [?B/s]"
      ]
     },
     "metadata": {},
     "output_type": "display_data"
    },
    {
     "data": {
      "application/vnd.jupyter.widget-view+json": {
       "model_id": "06e8ed935cd2400c832fe74061449a9f",
       "version_major": 2,
       "version_minor": 0
      },
      "text/plain": [
       "rsutcs_Amon_IPSL-CM6A-LR-INCA_piClim-...:   0%|          |0.00/19.3M [?B/s]"
      ]
     },
     "metadata": {},
     "output_type": "display_data"
    },
    {
     "data": {
      "application/vnd.jupyter.widget-view+json": {
       "model_id": "dcdd06300e2a4dc09a78608919290d28",
       "version_major": 2,
       "version_minor": 0
      },
      "text/plain": [
       "rsdt_Amon_IPSL-CM6A-LR-INCA_piClim-co...:   0%|          |0.00/13.6M [?B/s]"
      ]
     },
     "metadata": {},
     "output_type": "display_data"
    },
    {
     "data": {
      "application/vnd.jupyter.widget-view+json": {
       "model_id": "68d7ab172582446f8c6870a4560fdc80",
       "version_major": 2,
       "version_minor": 0
      },
      "text/plain": [
       "rsuscs_Amon_IPSL-CM6A-LR-INCA_piClim-...:   0%|          |0.00/19.9M [?B/s]"
      ]
     },
     "metadata": {},
     "output_type": "display_data"
    },
    {
     "data": {
      "application/vnd.jupyter.widget-view+json": {
       "model_id": "e5acb9f2b63b4eed9955275c0864df6b",
       "version_major": 2,
       "version_minor": 0
      },
      "text/plain": [
       "rsds_Amon_IPSL-CM6A-LR-INCA_piClim-co...:   0%|          |0.00/20.8M [?B/s]"
      ]
     },
     "metadata": {},
     "output_type": "display_data"
    },
    {
     "data": {
      "application/vnd.jupyter.widget-view+json": {
       "model_id": "6506e27576d846849ae12dd12eb8323d",
       "version_major": 2,
       "version_minor": 0
      },
      "text/plain": [
       "rsdscs_Amon_IPSL-CM6A-LR-INCA_piClim-...:   0%|          |0.00/17.8M [?B/s]"
      ]
     },
     "metadata": {},
     "output_type": "display_data"
    },
    {
     "data": {
      "application/vnd.jupyter.widget-view+json": {
       "model_id": "ea55f655a0934ec4bc94734096d27fd6",
       "version_major": 2,
       "version_minor": 0
      },
      "text/plain": [
       "rsus_Amon_IPSL-CM6A-LR-INCA_piClim-co...:   0%|          |0.00/21.4M [?B/s]"
      ]
     },
     "metadata": {},
     "output_type": "display_data"
    },
    {
     "data": {
      "application/vnd.jupyter.widget-view+json": {
       "model_id": "0d57945e507c4c0e8b8aea1e69fd5181",
       "version_major": 2,
       "version_minor": 0
      },
      "text/plain": [
       "rsus_Amon_IPSL-CM6A-LR-INCA_piClim-ae...:   0%|          |0.00/21.4M [?B/s]"
      ]
     },
     "metadata": {},
     "output_type": "display_data"
    },
    {
     "data": {
      "application/vnd.jupyter.widget-view+json": {
       "model_id": "772095dfa5d64398b66a65b37d179d3f",
       "version_major": 2,
       "version_minor": 0
      },
      "text/plain": [
       "rsuscs_Amon_IPSL-CM6A-LR-INCA_piClim-...:   0%|          |0.00/19.9M [?B/s]"
      ]
     },
     "metadata": {},
     "output_type": "display_data"
    },
    {
     "data": {
      "application/vnd.jupyter.widget-view+json": {
       "model_id": "7d86e9562539434eae9d87ef697c0bd1",
       "version_major": 2,
       "version_minor": 0
      },
      "text/plain": [
       "rsds_Amon_IPSL-CM6A-LR-INCA_piClim-ae...:   0%|          |0.00/20.8M [?B/s]"
      ]
     },
     "metadata": {},
     "output_type": "display_data"
    },
    {
     "data": {
      "application/vnd.jupyter.widget-view+json": {
       "model_id": "b7cfeffd1cec40f484b0877551a52b92",
       "version_major": 2,
       "version_minor": 0
      },
      "text/plain": [
       "rsut_Amon_IPSL-CM6A-LR-INCA_piClim-ae...:   0%|          |0.00/20.9M [?B/s]"
      ]
     },
     "metadata": {},
     "output_type": "display_data"
    },
    {
     "data": {
      "application/vnd.jupyter.widget-view+json": {
       "model_id": "b6afa3879f824915b48b6ea0e1d65991",
       "version_major": 2,
       "version_minor": 0
      },
      "text/plain": [
       "rsdscs_Amon_IPSL-CM6A-LR-INCA_piClim-...:   0%|          |0.00/17.9M [?B/s]"
      ]
     },
     "metadata": {},
     "output_type": "display_data"
    },
    {
     "data": {
      "application/vnd.jupyter.widget-view+json": {
       "model_id": "664432f8b0b34e98989393c231eb3119",
       "version_major": 2,
       "version_minor": 0
      },
      "text/plain": [
       "clt_Amon_IPSL-CM6A-LR-INCA_piClim-con...:   0%|          |0.00/22.2M [?B/s]"
      ]
     },
     "metadata": {},
     "output_type": "display_data"
    },
    {
     "name": "stdout",
     "output_type": "stream",
     "text": [
      "\n",
      "Downloading NorESM2-LM.r1i1p2f1.gn ...\n",
      "\n"
     ]
    },
    {
     "data": {
      "application/vnd.jupyter.widget-view+json": {
       "model_id": "22c543d63f574325a46dde0ecb641e27",
       "version_major": 2,
       "version_minor": 0
      },
      "text/plain": [
       "   Searching indices:   0%|          |0/9 [       ?index/s]"
      ]
     },
     "metadata": {},
     "output_type": "display_data"
    },
    {
     "name": "stderr",
     "output_type": "stream",
     "text": [
      "/home/jovyan/my-conda-envs/cmip6-download/lib/python3.13/site-packages/intake_esgf/catalog.py:450: UserWarning: SolrESGFIndex('esg-dn1.nsc.liu.se') failed to return a response, info may be incomplete\n",
      "  warnings.warn(\n"
     ]
    },
    {
     "data": {
      "application/vnd.jupyter.widget-view+json": {
       "model_id": "d9826bc3048c4e7185e2770bd91ab804",
       "version_major": 2,
       "version_minor": 0
      },
      "text/plain": [
       "clt_Amon_NorESM2-LM_piClim-aer_r1i1p2...:   0%|          |0.00/5.00M [?B/s]"
      ]
     },
     "metadata": {},
     "output_type": "display_data"
    },
    {
     "data": {
      "application/vnd.jupyter.widget-view+json": {
       "model_id": "ed35d91fcf2b493e96a420433baf2ec8",
       "version_major": 2,
       "version_minor": 0
      },
      "text/plain": [
       "clt_Amon_NorESM2-LM_piClim-aer_r1i1p2...:   0%|          |0.00/5.00M [?B/s]"
      ]
     },
     "metadata": {},
     "output_type": "display_data"
    },
    {
     "data": {
      "application/vnd.jupyter.widget-view+json": {
       "model_id": "7ce6f5f04ebd458a997ad83eeb5c41f7",
       "version_major": 2,
       "version_minor": 0
      },
      "text/plain": [
       "rsds_Amon_NorESM2-LM_piClim-aer_r1i1p...:   0%|          |0.00/4.73M [?B/s]"
      ]
     },
     "metadata": {},
     "output_type": "display_data"
    },
    {
     "data": {
      "application/vnd.jupyter.widget-view+json": {
       "model_id": "ad7d6d63e33d4c74ba1967272a0ea8b7",
       "version_major": 2,
       "version_minor": 0
      },
      "text/plain": [
       "rsds_Amon_NorESM2-LM_piClim-aer_r1i1p...:   0%|          |0.00/4.73M [?B/s]"
      ]
     },
     "metadata": {},
     "output_type": "display_data"
    },
    {
     "data": {
      "application/vnd.jupyter.widget-view+json": {
       "model_id": "a9ba7f3d78404f30b079202f8c9a5612",
       "version_major": 2,
       "version_minor": 0
      },
      "text/plain": [
       "rsds_Amon_NorESM2-LM_piClim-aer_r1i1p...:   0%|          |0.00/4.73M [?B/s]"
      ]
     },
     "metadata": {},
     "output_type": "display_data"
    },
    {
     "data": {
      "application/vnd.jupyter.widget-view+json": {
       "model_id": "b26aba86480741059211b8ff2cbf5054",
       "version_major": 2,
       "version_minor": 0
      },
      "text/plain": [
       "clt_Amon_NorESM2-LM_piClim-aer_r1i1p2...:   0%|          |0.00/5.00M [?B/s]"
      ]
     },
     "metadata": {},
     "output_type": "display_data"
    },
    {
     "data": {
      "application/vnd.jupyter.widget-view+json": {
       "model_id": "3a8e095a81004a73b1be86484b5a292e",
       "version_major": 2,
       "version_minor": 0
      },
      "text/plain": [
       "rsdscs_Amon_NorESM2-LM_piClim-aer_r1i...:   0%|          |0.00/4.06M [?B/s]"
      ]
     },
     "metadata": {},
     "output_type": "display_data"
    },
    {
     "data": {
      "application/vnd.jupyter.widget-view+json": {
       "model_id": "55b05b5ecdb74f449cd78923a79e4903",
       "version_major": 2,
       "version_minor": 0
      },
      "text/plain": [
       "rsdscs_Amon_NorESM2-LM_piClim-aer_r1i...:   0%|          |0.00/4.06M [?B/s]"
      ]
     },
     "metadata": {},
     "output_type": "display_data"
    },
    {
     "data": {
      "application/vnd.jupyter.widget-view+json": {
       "model_id": "1e965d9bceb640cd8becbc03875ab6ab",
       "version_major": 2,
       "version_minor": 0
      },
      "text/plain": [
       "rsdscs_Amon_NorESM2-LM_piClim-aer_r1i...:   0%|          |0.00/4.06M [?B/s]"
      ]
     },
     "metadata": {},
     "output_type": "display_data"
    },
    {
     "data": {
      "application/vnd.jupyter.widget-view+json": {
       "model_id": "91b64cb906fe44d0a9e55fe94bf08955",
       "version_major": 2,
       "version_minor": 0
      },
      "text/plain": [
       "rsdt_Amon_NorESM2-LM_piClim-aer_r1i1p...:   0%|          |0.00/3.23M [?B/s]"
      ]
     },
     "metadata": {},
     "output_type": "display_data"
    },
    {
     "data": {
      "application/vnd.jupyter.widget-view+json": {
       "model_id": "767dd1c39a854effa74cfcb2d2934168",
       "version_major": 2,
       "version_minor": 0
      },
      "text/plain": [
       "rsdt_Amon_NorESM2-LM_piClim-aer_r1i1p...:   0%|          |0.00/3.23M [?B/s]"
      ]
     },
     "metadata": {},
     "output_type": "display_data"
    },
    {
     "data": {
      "application/vnd.jupyter.widget-view+json": {
       "model_id": "f935a1db01ab4811861de7fee1e340e1",
       "version_major": 2,
       "version_minor": 0
      },
      "text/plain": [
       "rsdt_Amon_NorESM2-LM_piClim-aer_r1i1p...:   0%|          |0.00/3.23M [?B/s]"
      ]
     },
     "metadata": {},
     "output_type": "display_data"
    },
    {
     "data": {
      "application/vnd.jupyter.widget-view+json": {
       "model_id": "b2103bca8f834e2e915652438aee77fc",
       "version_major": 2,
       "version_minor": 0
      },
      "text/plain": [
       "rsus_Amon_NorESM2-LM_piClim-aer_r1i1p...:   0%|          |0.00/4.59M [?B/s]"
      ]
     },
     "metadata": {},
     "output_type": "display_data"
    },
    {
     "data": {
      "application/vnd.jupyter.widget-view+json": {
       "model_id": "2a800c6068334d948a72466849948e0c",
       "version_major": 2,
       "version_minor": 0
      },
      "text/plain": [
       "rsus_Amon_NorESM2-LM_piClim-aer_r1i1p...:   0%|          |0.00/4.59M [?B/s]"
      ]
     },
     "metadata": {},
     "output_type": "display_data"
    },
    {
     "data": {
      "application/vnd.jupyter.widget-view+json": {
       "model_id": "910438dfe0d449fbb2539d8c94dfdd2e",
       "version_major": 2,
       "version_minor": 0
      },
      "text/plain": [
       "rsus_Amon_NorESM2-LM_piClim-aer_r1i1p...:   0%|          |0.00/4.59M [?B/s]"
      ]
     },
     "metadata": {},
     "output_type": "display_data"
    },
    {
     "data": {
      "application/vnd.jupyter.widget-view+json": {
       "model_id": "789e967342ae466cb4443f9a7b6ba5fb",
       "version_major": 2,
       "version_minor": 0
      },
      "text/plain": [
       "rsuscs_Amon_NorESM2-LM_piClim-aer_r1i...:   0%|          |0.00/4.26M [?B/s]"
      ]
     },
     "metadata": {},
     "output_type": "display_data"
    },
    {
     "data": {
      "application/vnd.jupyter.widget-view+json": {
       "model_id": "fe6426c7398b4208bccb80e602663db6",
       "version_major": 2,
       "version_minor": 0
      },
      "text/plain": [
       "rsuscs_Amon_NorESM2-LM_piClim-aer_r1i...:   0%|          |0.00/4.26M [?B/s]"
      ]
     },
     "metadata": {},
     "output_type": "display_data"
    },
    {
     "data": {
      "application/vnd.jupyter.widget-view+json": {
       "model_id": "200d6f41a76f435d83a41ced4c06716b",
       "version_major": 2,
       "version_minor": 0
      },
      "text/plain": [
       "rsuscs_Amon_NorESM2-LM_piClim-aer_r1i...:   0%|          |0.00/4.26M [?B/s]"
      ]
     },
     "metadata": {},
     "output_type": "display_data"
    },
    {
     "data": {
      "application/vnd.jupyter.widget-view+json": {
       "model_id": "636c4bbbd6fa46748bdd43b5c0c315e2",
       "version_major": 2,
       "version_minor": 0
      },
      "text/plain": [
       "rsut_Amon_NorESM2-LM_piClim-aer_r1i1p...:   0%|          |0.00/4.72M [?B/s]"
      ]
     },
     "metadata": {},
     "output_type": "display_data"
    },
    {
     "data": {
      "application/vnd.jupyter.widget-view+json": {
       "model_id": "8268a7fa29464c39bd6aaa1f9465f894",
       "version_major": 2,
       "version_minor": 0
      },
      "text/plain": [
       "rsut_Amon_NorESM2-LM_piClim-aer_r1i1p...:   0%|          |0.00/4.72M [?B/s]"
      ]
     },
     "metadata": {},
     "output_type": "display_data"
    },
    {
     "data": {
      "application/vnd.jupyter.widget-view+json": {
       "model_id": "d8ca7521df144a4186810741f6790c32",
       "version_major": 2,
       "version_minor": 0
      },
      "text/plain": [
       "rsut_Amon_NorESM2-LM_piClim-aer_r1i1p...:   0%|          |0.00/4.72M [?B/s]"
      ]
     },
     "metadata": {},
     "output_type": "display_data"
    },
    {
     "data": {
      "application/vnd.jupyter.widget-view+json": {
       "model_id": "b0e0b0c5337d47f5998293c173ae8415",
       "version_major": 2,
       "version_minor": 0
      },
      "text/plain": [
       "rsutcs_Amon_NorESM2-LM_piClim-aer_r1i...:   0%|          |0.00/4.32M [?B/s]"
      ]
     },
     "metadata": {},
     "output_type": "display_data"
    },
    {
     "data": {
      "application/vnd.jupyter.widget-view+json": {
       "model_id": "96e7788ad1c64151b36f7ffc23fa1ad9",
       "version_major": 2,
       "version_minor": 0
      },
      "text/plain": [
       "rsutcs_Amon_NorESM2-LM_piClim-aer_r1i...:   0%|          |0.00/4.32M [?B/s]"
      ]
     },
     "metadata": {},
     "output_type": "display_data"
    },
    {
     "data": {
      "application/vnd.jupyter.widget-view+json": {
       "model_id": "1af2e01ee598496f85c896e8fc0a242a",
       "version_major": 2,
       "version_minor": 0
      },
      "text/plain": [
       "rsutcs_Amon_NorESM2-LM_piClim-aer_r1i...:   0%|          |0.00/4.32M [?B/s]"
      ]
     },
     "metadata": {},
     "output_type": "display_data"
    },
    {
     "data": {
      "application/vnd.jupyter.widget-view+json": {
       "model_id": "bbb780784831400199fcd62d261be1b4",
       "version_major": 2,
       "version_minor": 0
      },
      "text/plain": [
       "clt_Amon_NorESM2-LM_piClim-control_r1...:   0%|          |0.00/5.00M [?B/s]"
      ]
     },
     "metadata": {},
     "output_type": "display_data"
    },
    {
     "data": {
      "application/vnd.jupyter.widget-view+json": {
       "model_id": "f3da47acad73481b88b89d8e1da70fd0",
       "version_major": 2,
       "version_minor": 0
      },
      "text/plain": [
       "rsut_Amon_NorESM2-LM_piClim-control_r...:   0%|          |0.00/4.72M [?B/s]"
      ]
     },
     "metadata": {},
     "output_type": "display_data"
    },
    {
     "data": {
      "application/vnd.jupyter.widget-view+json": {
       "model_id": "b505529103bf4290876bb40e6598deaf",
       "version_major": 2,
       "version_minor": 0
      },
      "text/plain": [
       "rsutcs_Amon_NorESM2-LM_piClim-control...:   0%|          |0.00/4.32M [?B/s]"
      ]
     },
     "metadata": {},
     "output_type": "display_data"
    },
    {
     "data": {
      "application/vnd.jupyter.widget-view+json": {
       "model_id": "70a8f95554684a1291617cc1484c7f87",
       "version_major": 2,
       "version_minor": 0
      },
      "text/plain": [
       "rsutcs_Amon_NorESM2-LM_piClim-control...:   0%|          |0.00/4.32M [?B/s]"
      ]
     },
     "metadata": {},
     "output_type": "display_data"
    },
    {
     "data": {
      "application/vnd.jupyter.widget-view+json": {
       "model_id": "5465b23456a1480c8674f30ac928ea8b",
       "version_major": 2,
       "version_minor": 0
      },
      "text/plain": [
       "clt_Amon_NorESM2-LM_piClim-control_r1...:   0%|          |0.00/5.01M [?B/s]"
      ]
     },
     "metadata": {},
     "output_type": "display_data"
    },
    {
     "data": {
      "application/vnd.jupyter.widget-view+json": {
       "model_id": "a812c29f08534ac8bcf842b26a1b8778",
       "version_major": 2,
       "version_minor": 0
      },
      "text/plain": [
       "rsds_Amon_NorESM2-LM_piClim-control_r...:   0%|          |0.00/4.72M [?B/s]"
      ]
     },
     "metadata": {},
     "output_type": "display_data"
    },
    {
     "data": {
      "application/vnd.jupyter.widget-view+json": {
       "model_id": "66ea09cb201c43dbbd49df740356dfd3",
       "version_major": 2,
       "version_minor": 0
      },
      "text/plain": [
       "rsds_Amon_NorESM2-LM_piClim-control_r...:   0%|          |0.00/4.72M [?B/s]"
      ]
     },
     "metadata": {},
     "output_type": "display_data"
    },
    {
     "data": {
      "application/vnd.jupyter.widget-view+json": {
       "model_id": "728bc7b658c147a99cadb89ceb678450",
       "version_major": 2,
       "version_minor": 0
      },
      "text/plain": [
       "rsds_Amon_NorESM2-LM_piClim-control_r...:   0%|          |0.00/4.72M [?B/s]"
      ]
     },
     "metadata": {},
     "output_type": "display_data"
    },
    {
     "data": {
      "application/vnd.jupyter.widget-view+json": {
       "model_id": "dfe9b41388224436ae76d24c145755e4",
       "version_major": 2,
       "version_minor": 0
      },
      "text/plain": [
       "rsdt_Amon_NorESM2-LM_piClim-control_r...:   0%|          |0.00/3.23M [?B/s]"
      ]
     },
     "metadata": {},
     "output_type": "display_data"
    },
    {
     "data": {
      "application/vnd.jupyter.widget-view+json": {
       "model_id": "a87a0c9182be496d801baeb28a3c1073",
       "version_major": 2,
       "version_minor": 0
      },
      "text/plain": [
       "rsdt_Amon_NorESM2-LM_piClim-control_r...:   0%|          |0.00/3.23M [?B/s]"
      ]
     },
     "metadata": {},
     "output_type": "display_data"
    },
    {
     "data": {
      "application/vnd.jupyter.widget-view+json": {
       "model_id": "0858b010b0334c0d928c2965bd236ce5",
       "version_major": 2,
       "version_minor": 0
      },
      "text/plain": [
       "rsus_Amon_NorESM2-LM_piClim-control_r...:   0%|          |0.00/4.58M [?B/s]"
      ]
     },
     "metadata": {},
     "output_type": "display_data"
    },
    {
     "data": {
      "application/vnd.jupyter.widget-view+json": {
       "model_id": "28dfc75a6b5349b595e9ad8ac4247e03",
       "version_major": 2,
       "version_minor": 0
      },
      "text/plain": [
       "rsus_Amon_NorESM2-LM_piClim-control_r...:   0%|          |0.00/4.58M [?B/s]"
      ]
     },
     "metadata": {},
     "output_type": "display_data"
    },
    {
     "data": {
      "application/vnd.jupyter.widget-view+json": {
       "model_id": "8beeff7f401f4ccab84c42a8cda69627",
       "version_major": 2,
       "version_minor": 0
      },
      "text/plain": [
       "rsus_Amon_NorESM2-LM_piClim-control_r...:   0%|          |0.00/4.59M [?B/s]"
      ]
     },
     "metadata": {},
     "output_type": "display_data"
    },
    {
     "data": {
      "application/vnd.jupyter.widget-view+json": {
       "model_id": "e81fe2586b344a51a787a3b058d68518",
       "version_major": 2,
       "version_minor": 0
      },
      "text/plain": [
       "rsutcs_Amon_NorESM2-LM_piClim-control...:   0%|          |0.00/4.32M [?B/s]"
      ]
     },
     "metadata": {},
     "output_type": "display_data"
    },
    {
     "data": {
      "application/vnd.jupyter.widget-view+json": {
       "model_id": "9a6356abbfee4bbf9ff42b5d2e3ddd1b",
       "version_major": 2,
       "version_minor": 0
      },
      "text/plain": [
       "rsutcs_Amon_NorESM2-LM_piClim-control...:   0%|          |0.00/4.31M [?B/s]"
      ]
     },
     "metadata": {},
     "output_type": "display_data"
    },
    {
     "data": {
      "application/vnd.jupyter.widget-view+json": {
       "model_id": "7b812a40d56943d4bb1255f7558b2494",
       "version_major": 2,
       "version_minor": 0
      },
      "text/plain": [
       "clt_Amon_NorESM2-LM_piClim-control_r1...:   0%|          |0.00/5.00M [?B/s]"
      ]
     },
     "metadata": {},
     "output_type": "display_data"
    },
    {
     "data": {
      "application/vnd.jupyter.widget-view+json": {
       "model_id": "6fc5d5405367409e92895c1b0a5fadb4",
       "version_major": 2,
       "version_minor": 0
      },
      "text/plain": [
       "rsdscs_Amon_NorESM2-LM_piClim-control...:   0%|          |0.00/4.05M [?B/s]"
      ]
     },
     "metadata": {},
     "output_type": "display_data"
    },
    {
     "data": {
      "application/vnd.jupyter.widget-view+json": {
       "model_id": "6e5c65130364497ab73aa43de6219393",
       "version_major": 2,
       "version_minor": 0
      },
      "text/plain": [
       "rsutcs_Amon_NorESM2-LM_piClim-control...:   0%|          |0.00/4.32M [?B/s]"
      ]
     },
     "metadata": {},
     "output_type": "display_data"
    },
    {
     "data": {
      "application/vnd.jupyter.widget-view+json": {
       "model_id": "ed4ba23aba594a809dedafca66f2aa99",
       "version_major": 2,
       "version_minor": 0
      },
      "text/plain": [
       "rsds_Amon_NorESM2-LM_piClim-control_r...:   0%|          |0.00/4.72M [?B/s]"
      ]
     },
     "metadata": {},
     "output_type": "display_data"
    },
    {
     "data": {
      "application/vnd.jupyter.widget-view+json": {
       "model_id": "70eebca797c64d64ac0eeab2bc68bc20",
       "version_major": 2,
       "version_minor": 0
      },
      "text/plain": [
       "rsds_Amon_NorESM2-LM_piClim-control_r...:   0%|          |0.00/4.72M [?B/s]"
      ]
     },
     "metadata": {},
     "output_type": "display_data"
    },
    {
     "data": {
      "application/vnd.jupyter.widget-view+json": {
       "model_id": "1f966efa5830421ab61a5eaafb0a5763",
       "version_major": 2,
       "version_minor": 0
      },
      "text/plain": [
       "rsdscs_Amon_NorESM2-LM_piClim-control...:   0%|          |0.00/4.05M [?B/s]"
      ]
     },
     "metadata": {},
     "output_type": "display_data"
    },
    {
     "data": {
      "application/vnd.jupyter.widget-view+json": {
       "model_id": "79628a6f892a4f499dde10303c673b39",
       "version_major": 2,
       "version_minor": 0
      },
      "text/plain": [
       "rsuscs_Amon_NorESM2-LM_piClim-control...:   0%|          |0.00/4.26M [?B/s]"
      ]
     },
     "metadata": {},
     "output_type": "display_data"
    },
    {
     "data": {
      "application/vnd.jupyter.widget-view+json": {
       "model_id": "31cda0bd6b354ef5a5aaac1bae32cfb2",
       "version_major": 2,
       "version_minor": 0
      },
      "text/plain": [
       "rsut_Amon_NorESM2-LM_piClim-control_r...:   0%|          |0.00/4.72M [?B/s]"
      ]
     },
     "metadata": {},
     "output_type": "display_data"
    },
    {
     "data": {
      "application/vnd.jupyter.widget-view+json": {
       "model_id": "ba7267c763514094a59dad1c1390694f",
       "version_major": 2,
       "version_minor": 0
      },
      "text/plain": [
       "rsut_Amon_NorESM2-LM_piClim-control_r...:   0%|          |0.00/4.72M [?B/s]"
      ]
     },
     "metadata": {},
     "output_type": "display_data"
    },
    {
     "data": {
      "application/vnd.jupyter.widget-view+json": {
       "model_id": "68769f2b325f4308aa4afb3b8e9204f7",
       "version_major": 2,
       "version_minor": 0
      },
      "text/plain": [
       "rsdscs_Amon_NorESM2-LM_piClim-control...:   0%|          |0.00/4.05M [?B/s]"
      ]
     },
     "metadata": {},
     "output_type": "display_data"
    },
    {
     "data": {
      "application/vnd.jupyter.widget-view+json": {
       "model_id": "d67f1d2a70a948438cffffc92568b61e",
       "version_major": 2,
       "version_minor": 0
      },
      "text/plain": [
       "rsdt_Amon_NorESM2-LM_piClim-control_r...:   0%|          |0.00/3.23M [?B/s]"
      ]
     },
     "metadata": {},
     "output_type": "display_data"
    },
    {
     "data": {
      "application/vnd.jupyter.widget-view+json": {
       "model_id": "cca24c6dc7074abd9d7493fe6b844da5",
       "version_major": 2,
       "version_minor": 0
      },
      "text/plain": [
       "rsut_Amon_NorESM2-LM_piClim-control_r...:   0%|          |0.00/4.72M [?B/s]"
      ]
     },
     "metadata": {},
     "output_type": "display_data"
    },
    {
     "data": {
      "application/vnd.jupyter.widget-view+json": {
       "model_id": "81e6df981c5f4b91bf321dd5027693fd",
       "version_major": 2,
       "version_minor": 0
      },
      "text/plain": [
       "rsdt_Amon_NorESM2-LM_piClim-control_r...:   0%|          |0.00/3.23M [?B/s]"
      ]
     },
     "metadata": {},
     "output_type": "display_data"
    },
    {
     "data": {
      "application/vnd.jupyter.widget-view+json": {
       "model_id": "c965d687b374440d9184de07c53d0f83",
       "version_major": 2,
       "version_minor": 0
      },
      "text/plain": [
       "rsuscs_Amon_NorESM2-LM_piClim-control...:   0%|          |0.00/4.26M [?B/s]"
      ]
     },
     "metadata": {},
     "output_type": "display_data"
    },
    {
     "data": {
      "application/vnd.jupyter.widget-view+json": {
       "model_id": "0755e241701c4f68944e7c3971280a9c",
       "version_major": 2,
       "version_minor": 0
      },
      "text/plain": [
       "rsut_Amon_NorESM2-LM_piClim-control_r...:   0%|          |0.00/4.72M [?B/s]"
      ]
     },
     "metadata": {},
     "output_type": "display_data"
    },
    {
     "data": {
      "application/vnd.jupyter.widget-view+json": {
       "model_id": "9705a067e6df49b896ab53aab41a4981",
       "version_major": 2,
       "version_minor": 0
      },
      "text/plain": [
       "clt_Amon_NorESM2-LM_piClim-control_r1...:   0%|          |0.00/5.00M [?B/s]"
      ]
     },
     "metadata": {},
     "output_type": "display_data"
    },
    {
     "data": {
      "application/vnd.jupyter.widget-view+json": {
       "model_id": "fb5d1a05ae7e453784d6d7582d335ef0",
       "version_major": 2,
       "version_minor": 0
      },
      "text/plain": [
       "rsds_Amon_NorESM2-LM_piClim-control_r...:   0%|          |0.00/4.72M [?B/s]"
      ]
     },
     "metadata": {},
     "output_type": "display_data"
    },
    {
     "data": {
      "application/vnd.jupyter.widget-view+json": {
       "model_id": "27f5dac994e8440b9588e9405e35580f",
       "version_major": 2,
       "version_minor": 0
      },
      "text/plain": [
       "rsds_Amon_NorESM2-LM_piClim-control_r...:   0%|          |0.00/4.72M [?B/s]"
      ]
     },
     "metadata": {},
     "output_type": "display_data"
    },
    {
     "data": {
      "application/vnd.jupyter.widget-view+json": {
       "model_id": "313a5def70da46bdb7a35e41f4c7451d",
       "version_major": 2,
       "version_minor": 0
      },
      "text/plain": [
       "rsds_Amon_NorESM2-LM_piClim-control_r...:   0%|          |0.00/4.72M [?B/s]"
      ]
     },
     "metadata": {},
     "output_type": "display_data"
    },
    {
     "data": {
      "application/vnd.jupyter.widget-view+json": {
       "model_id": "c8a2a8b7d88e4f72922d21cbacaf7256",
       "version_major": 2,
       "version_minor": 0
      },
      "text/plain": [
       "rsus_Amon_NorESM2-LM_piClim-control_r...:   0%|          |0.00/4.58M [?B/s]"
      ]
     },
     "metadata": {},
     "output_type": "display_data"
    },
    {
     "data": {
      "application/vnd.jupyter.widget-view+json": {
       "model_id": "96024a17f7ca4751a2f2a6cda54d63da",
       "version_major": 2,
       "version_minor": 0
      },
      "text/plain": [
       "rsuscs_Amon_NorESM2-LM_piClim-control...:   0%|          |0.00/4.26M [?B/s]"
      ]
     },
     "metadata": {},
     "output_type": "display_data"
    },
    {
     "data": {
      "application/vnd.jupyter.widget-view+json": {
       "model_id": "49a50dc70a7b46af920d2a37f9c9084b",
       "version_major": 2,
       "version_minor": 0
      },
      "text/plain": [
       "rsuscs_Amon_NorESM2-LM_piClim-control...:   0%|          |0.00/4.26M [?B/s]"
      ]
     },
     "metadata": {},
     "output_type": "display_data"
    },
    {
     "data": {
      "application/vnd.jupyter.widget-view+json": {
       "model_id": "f0316464b5bf4275916f4e14fb58a9cc",
       "version_major": 2,
       "version_minor": 0
      },
      "text/plain": [
       "rsuscs_Amon_NorESM2-LM_piClim-control...:   0%|          |0.00/4.26M [?B/s]"
      ]
     },
     "metadata": {},
     "output_type": "display_data"
    },
    {
     "data": {
      "application/vnd.jupyter.widget-view+json": {
       "model_id": "dead6e866a744845bb7da8ec541d30b2",
       "version_major": 2,
       "version_minor": 0
      },
      "text/plain": [
       "rsutcs_Amon_NorESM2-LM_piClim-control...:   0%|          |0.00/4.31M [?B/s]"
      ]
     },
     "metadata": {},
     "output_type": "display_data"
    },
    {
     "data": {
      "application/vnd.jupyter.widget-view+json": {
       "model_id": "bd0d2071b6f44b66bcc49d57957d94b7",
       "version_major": 2,
       "version_minor": 0
      },
      "text/plain": [
       "rsutcs_Amon_NorESM2-LM_piClim-control...:   0%|          |0.00/4.32M [?B/s]"
      ]
     },
     "metadata": {},
     "output_type": "display_data"
    },
    {
     "data": {
      "application/vnd.jupyter.widget-view+json": {
       "model_id": "eb16946ab4d6478293e84b39a1c5399e",
       "version_major": 2,
       "version_minor": 0
      },
      "text/plain": [
       "rsdt_Amon_NorESM2-LM_piClim-control_r...:   0%|          |0.00/3.23M [?B/s]"
      ]
     },
     "metadata": {},
     "output_type": "display_data"
    },
    {
     "data": {
      "application/vnd.jupyter.widget-view+json": {
       "model_id": "d2074398e0bb4d58a675cd998a774629",
       "version_major": 2,
       "version_minor": 0
      },
      "text/plain": [
       "rsdscs_Amon_NorESM2-LM_piClim-control...:   0%|          |0.00/4.05M [?B/s]"
      ]
     },
     "metadata": {},
     "output_type": "display_data"
    },
    {
     "data": {
      "application/vnd.jupyter.widget-view+json": {
       "model_id": "f5c740c4803f4da2bd8e62b9c31f6f22",
       "version_major": 2,
       "version_minor": 0
      },
      "text/plain": [
       "rsdt_Amon_NorESM2-LM_piClim-control_r...:   0%|          |0.00/3.23M [?B/s]"
      ]
     },
     "metadata": {},
     "output_type": "display_data"
    },
    {
     "data": {
      "application/vnd.jupyter.widget-view+json": {
       "model_id": "d66fa381acb04bbdad4bc4ee59916354",
       "version_major": 2,
       "version_minor": 0
      },
      "text/plain": [
       "rsus_Amon_NorESM2-LM_piClim-control_r...:   0%|          |0.00/4.58M [?B/s]"
      ]
     },
     "metadata": {},
     "output_type": "display_data"
    },
    {
     "data": {
      "application/vnd.jupyter.widget-view+json": {
       "model_id": "3a92f9df359a4ad5874cfc0152641a9b",
       "version_major": 2,
       "version_minor": 0
      },
      "text/plain": [
       "rsus_Amon_NorESM2-LM_piClim-control_r...:   0%|          |0.00/4.58M [?B/s]"
      ]
     },
     "metadata": {},
     "output_type": "display_data"
    },
    {
     "data": {
      "application/vnd.jupyter.widget-view+json": {
       "model_id": "afe2a052a8144ba58734962e2aa481e5",
       "version_major": 2,
       "version_minor": 0
      },
      "text/plain": [
       "rsus_Amon_NorESM2-LM_piClim-control_r...:   0%|          |0.00/4.59M [?B/s]"
      ]
     },
     "metadata": {},
     "output_type": "display_data"
    },
    {
     "data": {
      "application/vnd.jupyter.widget-view+json": {
       "model_id": "1a67c036f89b4e4fa439b52bc38f568b",
       "version_major": 2,
       "version_minor": 0
      },
      "text/plain": [
       "rsuscs_Amon_NorESM2-LM_piClim-control...:   0%|          |0.00/4.26M [?B/s]"
      ]
     },
     "metadata": {},
     "output_type": "display_data"
    },
    {
     "data": {
      "application/vnd.jupyter.widget-view+json": {
       "model_id": "b004f70ca496494aa223c8be755ca695",
       "version_major": 2,
       "version_minor": 0
      },
      "text/plain": [
       "rsut_Amon_NorESM2-LM_piClim-control_r...:   0%|          |0.00/4.72M [?B/s]"
      ]
     },
     "metadata": {},
     "output_type": "display_data"
    },
    {
     "data": {
      "application/vnd.jupyter.widget-view+json": {
       "model_id": "6a90db8ec91f41abab4b6407f66cfd41",
       "version_major": 2,
       "version_minor": 0
      },
      "text/plain": [
       "clt_Amon_NorESM2-LM_piClim-control_r1...:   0%|          |0.00/5.01M [?B/s]"
      ]
     },
     "metadata": {},
     "output_type": "display_data"
    },
    {
     "data": {
      "application/vnd.jupyter.widget-view+json": {
       "model_id": "f3303d1ffb4a4856ae43685fe03f91f4",
       "version_major": 2,
       "version_minor": 0
      },
      "text/plain": [
       "clt_Amon_NorESM2-LM_piClim-control_r1...:   0%|          |0.00/5.00M [?B/s]"
      ]
     },
     "metadata": {},
     "output_type": "display_data"
    },
    {
     "data": {
      "application/vnd.jupyter.widget-view+json": {
       "model_id": "b9b23741faac487c802dbed7a1df7d01",
       "version_major": 2,
       "version_minor": 0
      },
      "text/plain": [
       "rsuscs_Amon_NorESM2-LM_piClim-control...:   0%|          |0.00/4.26M [?B/s]"
      ]
     },
     "metadata": {},
     "output_type": "display_data"
    },
    {
     "data": {
      "application/vnd.jupyter.widget-view+json": {
       "model_id": "3c27c8bd629d4c0782500236de8ab088",
       "version_major": 2,
       "version_minor": 0
      },
      "text/plain": [
       "rsdscs_Amon_NorESM2-LM_piClim-control...:   0%|          |0.00/4.05M [?B/s]"
      ]
     },
     "metadata": {},
     "output_type": "display_data"
    },
    {
     "data": {
      "application/vnd.jupyter.widget-view+json": {
       "model_id": "46379d34e4d34230adbd24381249c256",
       "version_major": 2,
       "version_minor": 0
      },
      "text/plain": [
       "rsdscs_Amon_NorESM2-LM_piClim-control...:   0%|          |0.00/4.05M [?B/s]"
      ]
     },
     "metadata": {},
     "output_type": "display_data"
    },
    {
     "data": {
      "application/vnd.jupyter.widget-view+json": {
       "model_id": "b1cb346343e847df9274ee581b4b6066",
       "version_major": 2,
       "version_minor": 0
      },
      "text/plain": [
       "rsdscs_Amon_NorESM2-LM_piClim-control...:   0%|          |0.00/4.05M [?B/s]"
      ]
     },
     "metadata": {},
     "output_type": "display_data"
    },
    {
     "data": {
      "application/vnd.jupyter.widget-view+json": {
       "model_id": "cdab37a2d8fd487e97a5ec74a683ad02",
       "version_major": 2,
       "version_minor": 0
      },
      "text/plain": [
       "rsdt_Amon_NorESM2-LM_piClim-control_r...:   0%|          |0.00/3.23M [?B/s]"
      ]
     },
     "metadata": {},
     "output_type": "display_data"
    },
    {
     "data": {
      "application/vnd.jupyter.widget-view+json": {
       "model_id": "9fd6886be7344fd192d1fd70dcf8719c",
       "version_major": 2,
       "version_minor": 0
      },
      "text/plain": [
       "rsdt_Amon_NorESM2-LM_piClim-control_r...:   0%|          |0.00/3.23M [?B/s]"
      ]
     },
     "metadata": {},
     "output_type": "display_data"
    },
    {
     "data": {
      "application/vnd.jupyter.widget-view+json": {
       "model_id": "aede2ae07c3748d6a993c2e3f9a1e298",
       "version_major": 2,
       "version_minor": 0
      },
      "text/plain": [
       "rsdt_Amon_NorESM2-LM_piClim-control_r...:   0%|          |0.00/3.23M [?B/s]"
      ]
     },
     "metadata": {},
     "output_type": "display_data"
    },
    {
     "data": {
      "application/vnd.jupyter.widget-view+json": {
       "model_id": "81b122a550d94aaaa7d66ccf683bcfa8",
       "version_major": 2,
       "version_minor": 0
      },
      "text/plain": [
       "rsutcs_Amon_NorESM2-LM_piClim-control...:   0%|          |0.00/4.31M [?B/s]"
      ]
     },
     "metadata": {},
     "output_type": "display_data"
    },
    {
     "data": {
      "application/vnd.jupyter.widget-view+json": {
       "model_id": "c2b7e9d399ed48929649d9fa48756a7e",
       "version_major": 2,
       "version_minor": 0
      },
      "text/plain": [
       "clt_Amon_NorESM2-LM_piClim-control_r1...:   0%|          |0.00/5.00M [?B/s]"
      ]
     },
     "metadata": {},
     "output_type": "display_data"
    },
    {
     "data": {
      "application/vnd.jupyter.widget-view+json": {
       "model_id": "51e78e02ca674356bfca90c36d83edcf",
       "version_major": 2,
       "version_minor": 0
      },
      "text/plain": [
       "rsds_Amon_NorESM2-LM_piClim-control_r...:   0%|          |0.00/4.72M [?B/s]"
      ]
     },
     "metadata": {},
     "output_type": "display_data"
    },
    {
     "data": {
      "application/vnd.jupyter.widget-view+json": {
       "model_id": "7260441ed4a04c779b9b8d2037ed4301",
       "version_major": 2,
       "version_minor": 0
      },
      "text/plain": [
       "rsdscs_Amon_NorESM2-LM_piClim-control...:   0%|          |0.00/4.05M [?B/s]"
      ]
     },
     "metadata": {},
     "output_type": "display_data"
    },
    {
     "data": {
      "application/vnd.jupyter.widget-view+json": {
       "model_id": "88fc9d5b121c409db363019bc7b70cb5",
       "version_major": 2,
       "version_minor": 0
      },
      "text/plain": [
       "rsus_Amon_NorESM2-LM_piClim-control_r...:   0%|          |0.00/4.59M [?B/s]"
      ]
     },
     "metadata": {},
     "output_type": "display_data"
    },
    {
     "data": {
      "application/vnd.jupyter.widget-view+json": {
       "model_id": "3c23f490286440f193a4c7a21fb2a8e2",
       "version_major": 2,
       "version_minor": 0
      },
      "text/plain": [
       "rsus_Amon_NorESM2-LM_piClim-control_r...:   0%|          |0.00/4.58M [?B/s]"
      ]
     },
     "metadata": {},
     "output_type": "display_data"
    },
    {
     "data": {
      "application/vnd.jupyter.widget-view+json": {
       "model_id": "c7573326f3db4c438a10327d1ae87967",
       "version_major": 2,
       "version_minor": 0
      },
      "text/plain": [
       "rsuscs_Amon_NorESM2-LM_piClim-control...:   0%|          |0.00/4.26M [?B/s]"
      ]
     },
     "metadata": {},
     "output_type": "display_data"
    },
    {
     "data": {
      "application/vnd.jupyter.widget-view+json": {
       "model_id": "e870bfa7e0ed4391acef53920b4a94a3",
       "version_major": 2,
       "version_minor": 0
      },
      "text/plain": [
       "rsut_Amon_NorESM2-LM_piClim-control_r...:   0%|          |0.00/4.72M [?B/s]"
      ]
     },
     "metadata": {},
     "output_type": "display_data"
    },
    {
     "data": {
      "application/vnd.jupyter.widget-view+json": {
       "model_id": "4847e118d7314b8081d92feb54441639",
       "version_major": 2,
       "version_minor": 0
      },
      "text/plain": [
       "clt_Amon_NorESM2-LM_piClim-control_r1...:   0%|          |0.00/5.00M [?B/s]"
      ]
     },
     "metadata": {},
     "output_type": "display_data"
    },
    {
     "data": {
      "application/vnd.jupyter.widget-view+json": {
       "model_id": "fb206826dc744832a9feb17f389e1701",
       "version_major": 2,
       "version_minor": 0
      },
      "text/plain": [
       "clt_Amon_NorESM2-LM_piClim-control_r1...:   0%|          |0.00/5.00M [?B/s]"
      ]
     },
     "metadata": {},
     "output_type": "display_data"
    },
    {
     "data": {
      "application/vnd.jupyter.widget-view+json": {
       "model_id": "c76c24fbb78a47ff80aca87ef67b0f3f",
       "version_major": 2,
       "version_minor": 0
      },
      "text/plain": [
       "rsdscs_Amon_NorESM2-LM_piClim-control...:   0%|          |0.00/4.05M [?B/s]"
      ]
     },
     "metadata": {},
     "output_type": "display_data"
    },
    {
     "data": {
      "application/vnd.jupyter.widget-view+json": {
       "model_id": "698275e19c36489c95a9c61fb8b6aa61",
       "version_major": 2,
       "version_minor": 0
      },
      "text/plain": [
       "rsuscs_Amon_NorESM2-LM_piClim-control...:   0%|          |0.00/4.26M [?B/s]"
      ]
     },
     "metadata": {},
     "output_type": "display_data"
    },
    {
     "data": {
      "application/vnd.jupyter.widget-view+json": {
       "model_id": "02f5d2f95f7548629df75bf1648a7090",
       "version_major": 2,
       "version_minor": 0
      },
      "text/plain": [
       "rsut_Amon_NorESM2-LM_piClim-control_r...:   0%|          |0.00/4.72M [?B/s]"
      ]
     },
     "metadata": {},
     "output_type": "display_data"
    },
    {
     "data": {
      "application/vnd.jupyter.widget-view+json": {
       "model_id": "059e15aecaab442ca2d3146aa771cb49",
       "version_major": 2,
       "version_minor": 0
      },
      "text/plain": [
       "rsut_Amon_NorESM2-LM_piClim-control_r...:   0%|          |0.00/4.72M [?B/s]"
      ]
     },
     "metadata": {},
     "output_type": "display_data"
    },
    {
     "data": {
      "application/vnd.jupyter.widget-view+json": {
       "model_id": "4657775ffdd841a49ac527af9126b69f",
       "version_major": 2,
       "version_minor": 0
      },
      "text/plain": [
       "rsutcs_Amon_NorESM2-LM_piClim-control...:   0%|          |0.00/4.32M [?B/s]"
      ]
     },
     "metadata": {},
     "output_type": "display_data"
    },
    {
     "name": "stdout",
     "output_type": "stream",
     "text": [
      "\n",
      "Downloading NorESM2-LM.r1i1p1f1.gn ...\n",
      "\n"
     ]
    },
    {
     "data": {
      "application/vnd.jupyter.widget-view+json": {
       "model_id": "ad85b2e9d6634139a8d4e801228d9fcf",
       "version_major": 2,
       "version_minor": 0
      },
      "text/plain": [
       "   Searching indices:   0%|          |0/9 [       ?index/s]"
      ]
     },
     "metadata": {},
     "output_type": "display_data"
    },
    {
     "name": "stderr",
     "output_type": "stream",
     "text": [
      "/home/jovyan/my-conda-envs/cmip6-download/lib/python3.13/site-packages/intake_esgf/catalog.py:450: UserWarning: SolrESGFIndex('esgf.ceda.ac.uk') failed to return a response, info may be incomplete\n",
      "  warnings.warn(\n",
      "/home/jovyan/my-conda-envs/cmip6-download/lib/python3.13/site-packages/intake_esgf/catalog.py:450: UserWarning: SolrESGFIndex('esgf-data.dkrz.de') failed to return a response, info may be incomplete\n",
      "  warnings.warn(\n",
      "/home/jovyan/my-conda-envs/cmip6-download/lib/python3.13/site-packages/intake_esgf/catalog.py:450: UserWarning: SolrESGFIndex('esgf-node.ipsl.upmc.fr') failed to return a response, info may be incomplete\n",
      "  warnings.warn(\n",
      "/home/jovyan/my-conda-envs/cmip6-download/lib/python3.13/site-packages/intake_esgf/catalog.py:450: UserWarning: SolrESGFIndex('esg-dn1.nsc.liu.se') failed to return a response, info may be incomplete\n",
      "  warnings.warn(\n",
      "/home/jovyan/my-conda-envs/cmip6-download/lib/python3.13/site-packages/intake_esgf/catalog.py:450: UserWarning: SolrESGFIndex('esgf-node.ornl.gov') failed to return a response, info may be incomplete\n",
      "  warnings.warn(\n",
      "/home/jovyan/my-conda-envs/cmip6-download/lib/python3.13/site-packages/intake_esgf/catalog.py:450: UserWarning: SolrESGFIndex('esgf-node.llnl.gov') failed to return a response, info may be incomplete\n",
      "  warnings.warn(\n",
      "/home/jovyan/my-conda-envs/cmip6-download/lib/python3.13/site-packages/intake_esgf/catalog.py:450: UserWarning: SolrESGFIndex('esgf.nci.org.au') failed to return a response, info may be incomplete\n",
      "  warnings.warn(\n"
     ]
    },
    {
     "data": {
      "application/vnd.jupyter.widget-view+json": {
       "model_id": "d86d8f9059ef49a9942ebbcece7a26e0",
       "version_major": 2,
       "version_minor": 0
      },
      "text/plain": [
       "rsutcs_Amon_NorESM2-LM_piClim-control...:   0%|          |0.00/4.32M [?B/s]"
      ]
     },
     "metadata": {},
     "output_type": "display_data"
    },
    {
     "data": {
      "application/vnd.jupyter.widget-view+json": {
       "model_id": "21159e89e1b74195ad979d14e8e35089",
       "version_major": 2,
       "version_minor": 0
      },
      "text/plain": [
       "clt_Amon_NorESM2-LM_piClim-aer_r1i1p1...:   0%|          |0.00/5.00M [?B/s]"
      ]
     },
     "metadata": {},
     "output_type": "display_data"
    },
    {
     "data": {
      "application/vnd.jupyter.widget-view+json": {
       "model_id": "ae2e5703f06c4982bfe4c2d26ff333fd",
       "version_major": 2,
       "version_minor": 0
      },
      "text/plain": [
       "clt_Amon_NorESM2-LM_piClim-control_r1...:   0%|          |0.00/5.00M [?B/s]"
      ]
     },
     "metadata": {},
     "output_type": "display_data"
    },
    {
     "data": {
      "application/vnd.jupyter.widget-view+json": {
       "model_id": "2c1925b3f2504476bddcb16ff1840fba",
       "version_major": 2,
       "version_minor": 0
      },
      "text/plain": [
       "rsuscs_Amon_NorESM2-LM_piClim-control...:   0%|          |0.00/4.25M [?B/s]"
      ]
     },
     "metadata": {},
     "output_type": "display_data"
    },
    {
     "data": {
      "application/vnd.jupyter.widget-view+json": {
       "model_id": "a380c07c29f94b25bde226205421d863",
       "version_major": 2,
       "version_minor": 0
      },
      "text/plain": [
       "rsuscs_Amon_NorESM2-LM_piClim-control...:   0%|          |0.00/4.25M [?B/s]"
      ]
     },
     "metadata": {},
     "output_type": "display_data"
    },
    {
     "data": {
      "application/vnd.jupyter.widget-view+json": {
       "model_id": "f4757857b1204446b6983492c76a286f",
       "version_major": 2,
       "version_minor": 0
      },
      "text/plain": [
       "rsutcs_Amon_NorESM2-LM_piClim-aer_r1i...:   0%|          |0.00/4.33M [?B/s]"
      ]
     },
     "metadata": {},
     "output_type": "display_data"
    },
    {
     "data": {
      "application/vnd.jupyter.widget-view+json": {
       "model_id": "cdad99c8c56d421898ef1a1296d23775",
       "version_major": 2,
       "version_minor": 0
      },
      "text/plain": [
       "rsdt_Amon_NorESM2-LM_piClim-control_r...:   0%|          |0.00/3.23M [?B/s]"
      ]
     },
     "metadata": {},
     "output_type": "display_data"
    },
    {
     "data": {
      "application/vnd.jupyter.widget-view+json": {
       "model_id": "3f683be416aa4df9af8e41632d08dc8d",
       "version_major": 2,
       "version_minor": 0
      },
      "text/plain": [
       "rsuscs_Amon_NorESM2-LM_piClim-control...:   0%|          |0.00/4.25M [?B/s]"
      ]
     },
     "metadata": {},
     "output_type": "display_data"
    },
    {
     "data": {
      "application/vnd.jupyter.widget-view+json": {
       "model_id": "2f92ebbad7964c3cb0dbf44680cc1f05",
       "version_major": 2,
       "version_minor": 0
      },
      "text/plain": [
       "rsdscs_Amon_NorESM2-LM_piClim-aer_r1i...:   0%|          |0.00/4.07M [?B/s]"
      ]
     },
     "metadata": {},
     "output_type": "display_data"
    },
    {
     "data": {
      "application/vnd.jupyter.widget-view+json": {
       "model_id": "3b3188abb030440d8473ead215592ba7",
       "version_major": 2,
       "version_minor": 0
      },
      "text/plain": [
       "rsds_Amon_NorESM2-LM_piClim-control_r...:   0%|          |0.00/4.72M [?B/s]"
      ]
     },
     "metadata": {},
     "output_type": "display_data"
    },
    {
     "data": {
      "application/vnd.jupyter.widget-view+json": {
       "model_id": "481766f5284b405ab8149004db3ee097",
       "version_major": 2,
       "version_minor": 0
      },
      "text/plain": [
       "rsdt_Amon_NorESM2-LM_piClim-aer_r1i1p...:   0%|          |0.00/3.23M [?B/s]"
      ]
     },
     "metadata": {},
     "output_type": "display_data"
    },
    {
     "data": {
      "application/vnd.jupyter.widget-view+json": {
       "model_id": "2673b3ea01cb492ebc105751d68c67b0",
       "version_major": 2,
       "version_minor": 0
      },
      "text/plain": [
       "rsdt_Amon_NorESM2-LM_piClim-control_r...:   0%|          |0.00/3.23M [?B/s]"
      ]
     },
     "metadata": {},
     "output_type": "display_data"
    },
    {
     "data": {
      "application/vnd.jupyter.widget-view+json": {
       "model_id": "58aa3e60a8034946af5d900c21466ce3",
       "version_major": 2,
       "version_minor": 0
      },
      "text/plain": [
       "rsuscs_Amon_NorESM2-LM_piClim-aer_r1i...:   0%|          |0.00/4.25M [?B/s]"
      ]
     },
     "metadata": {},
     "output_type": "display_data"
    },
    {
     "data": {
      "application/vnd.jupyter.widget-view+json": {
       "model_id": "630bbbaa79b648ba87af0a7000785897",
       "version_major": 2,
       "version_minor": 0
      },
      "text/plain": [
       "rsut_Amon_NorESM2-LM_piClim-control_r...:   0%|          |0.00/4.72M [?B/s]"
      ]
     },
     "metadata": {},
     "output_type": "display_data"
    },
    {
     "data": {
      "application/vnd.jupyter.widget-view+json": {
       "model_id": "9facece64d4547ccb8e80000226c2a4d",
       "version_major": 2,
       "version_minor": 0
      },
      "text/plain": [
       "rsdt_Amon_NorESM2-LM_piClim-aer_r1i1p...:   0%|          |0.00/3.23M [?B/s]"
      ]
     },
     "metadata": {},
     "output_type": "display_data"
    },
    {
     "data": {
      "application/vnd.jupyter.widget-view+json": {
       "model_id": "7b1c588fb5c04a10bc50a16106c3b798",
       "version_major": 2,
       "version_minor": 0
      },
      "text/plain": [
       "rsutcs_Amon_NorESM2-LM_piClim-control...:   0%|          |0.00/4.32M [?B/s]"
      ]
     },
     "metadata": {},
     "output_type": "display_data"
    },
    {
     "data": {
      "application/vnd.jupyter.widget-view+json": {
       "model_id": "f27864b3b35e4ccea768d67b534bf154",
       "version_major": 2,
       "version_minor": 0
      },
      "text/plain": [
       "rsut_Amon_NorESM2-LM_piClim-aer_r1i1p...:   0%|          |0.00/4.72M [?B/s]"
      ]
     },
     "metadata": {},
     "output_type": "display_data"
    },
    {
     "data": {
      "application/vnd.jupyter.widget-view+json": {
       "model_id": "b81df39eb61049a785750e34e882f9ee",
       "version_major": 2,
       "version_minor": 0
      },
      "text/plain": [
       "rsdt_Amon_NorESM2-LM_piClim-aer_r1i1p...:   0%|          |0.00/3.23M [?B/s]"
      ]
     },
     "metadata": {},
     "output_type": "display_data"
    },
    {
     "data": {
      "application/vnd.jupyter.widget-view+json": {
       "model_id": "3edb6b129ae94f81a429a5f7d6e5cb7c",
       "version_major": 2,
       "version_minor": 0
      },
      "text/plain": [
       "rsutcs_Amon_NorESM2-LM_piClim-aer_r1i...:   0%|          |0.00/4.33M [?B/s]"
      ]
     },
     "metadata": {},
     "output_type": "display_data"
    },
    {
     "data": {
      "application/vnd.jupyter.widget-view+json": {
       "model_id": "c11ecaf8bd1b4b1995e6973aff6c97c8",
       "version_major": 2,
       "version_minor": 0
      },
      "text/plain": [
       "clt_Amon_NorESM2-LM_piClim-control_r1...:   0%|          |0.00/5.00M [?B/s]"
      ]
     },
     "metadata": {},
     "output_type": "display_data"
    },
    {
     "data": {
      "application/vnd.jupyter.widget-view+json": {
       "model_id": "aa7505dc464e4cf5817fb9f7611a21ee",
       "version_major": 2,
       "version_minor": 0
      },
      "text/plain": [
       "rsdscs_Amon_NorESM2-LM_piClim-control...:   0%|          |0.00/4.06M [?B/s]"
      ]
     },
     "metadata": {},
     "output_type": "display_data"
    },
    {
     "data": {
      "application/vnd.jupyter.widget-view+json": {
       "model_id": "b2a271fd0ade47c2bc04a416652a20ca",
       "version_major": 2,
       "version_minor": 0
      },
      "text/plain": [
       "rsutcs_Amon_NorESM2-LM_piClim-control...:   0%|          |0.00/4.32M [?B/s]"
      ]
     },
     "metadata": {},
     "output_type": "display_data"
    },
    {
     "data": {
      "application/vnd.jupyter.widget-view+json": {
       "model_id": "175b0b445d254dd0b748a8f757520e00",
       "version_major": 2,
       "version_minor": 0
      },
      "text/plain": [
       "rsdt_Amon_NorESM2-LM_piClim-control_r...:   0%|          |0.00/3.23M [?B/s]"
      ]
     },
     "metadata": {},
     "output_type": "display_data"
    },
    {
     "data": {
      "application/vnd.jupyter.widget-view+json": {
       "model_id": "82efffd45a60465daf0de826b455d385",
       "version_major": 2,
       "version_minor": 0
      },
      "text/plain": [
       "rsds_Amon_NorESM2-LM_piClim-aer_r1i1p...:   0%|          |0.00/4.73M [?B/s]"
      ]
     },
     "metadata": {},
     "output_type": "display_data"
    },
    {
     "data": {
      "application/vnd.jupyter.widget-view+json": {
       "model_id": "a50b436a2f2d4e2f85fa2040453a476b",
       "version_major": 2,
       "version_minor": 0
      },
      "text/plain": [
       "rsus_Amon_NorESM2-LM_piClim-aer_r1i1p...:   0%|          |0.00/4.59M [?B/s]"
      ]
     },
     "metadata": {},
     "output_type": "display_data"
    },
    {
     "data": {
      "application/vnd.jupyter.widget-view+json": {
       "model_id": "6a1221c4cf904574911111155ce1775d",
       "version_major": 2,
       "version_minor": 0
      },
      "text/plain": [
       "rsut_Amon_NorESM2-LM_piClim-aer_r1i1p...:   0%|          |0.00/4.72M [?B/s]"
      ]
     },
     "metadata": {},
     "output_type": "display_data"
    },
    {
     "data": {
      "application/vnd.jupyter.widget-view+json": {
       "model_id": "1846a4fd7a1f45eea94b272c7f40a303",
       "version_major": 2,
       "version_minor": 0
      },
      "text/plain": [
       "clt_Amon_NorESM2-LM_piClim-control_r1...:   0%|          |0.00/5.00M [?B/s]"
      ]
     },
     "metadata": {},
     "output_type": "display_data"
    },
    {
     "data": {
      "application/vnd.jupyter.widget-view+json": {
       "model_id": "a16d105a36d441838f56c3fab875c9b6",
       "version_major": 2,
       "version_minor": 0
      },
      "text/plain": [
       "rsus_Amon_NorESM2-LM_piClim-control_r...:   0%|          |0.00/4.58M [?B/s]"
      ]
     },
     "metadata": {},
     "output_type": "display_data"
    },
    {
     "data": {
      "application/vnd.jupyter.widget-view+json": {
       "model_id": "a9c2ce81b3c64d1eb500dc2fbb99cf0a",
       "version_major": 2,
       "version_minor": 0
      },
      "text/plain": [
       "rsus_Amon_NorESM2-LM_piClim-control_r...:   0%|          |0.00/4.58M [?B/s]"
      ]
     },
     "metadata": {},
     "output_type": "display_data"
    },
    {
     "data": {
      "application/vnd.jupyter.widget-view+json": {
       "model_id": "d4a1bcdd9b64494aafc61e00f9ad06dc",
       "version_major": 2,
       "version_minor": 0
      },
      "text/plain": [
       "rsdscs_Amon_NorESM2-LM_piClim-aer_r1i...:   0%|          |0.00/4.07M [?B/s]"
      ]
     },
     "metadata": {},
     "output_type": "display_data"
    },
    {
     "data": {
      "application/vnd.jupyter.widget-view+json": {
       "model_id": "3efe9a9193c14bfbb8602695910d36d3",
       "version_major": 2,
       "version_minor": 0
      },
      "text/plain": [
       "rsus_Amon_NorESM2-LM_piClim-aer_r1i1p...:   0%|          |0.00/4.59M [?B/s]"
      ]
     },
     "metadata": {},
     "output_type": "display_data"
    },
    {
     "data": {
      "application/vnd.jupyter.widget-view+json": {
       "model_id": "b773880e3c9c4d92a54980826640f4a0",
       "version_major": 2,
       "version_minor": 0
      },
      "text/plain": [
       "clt_Amon_NorESM2-LM_piClim-aer_r1i1p1...:   0%|          |0.00/5.00M [?B/s]"
      ]
     },
     "metadata": {},
     "output_type": "display_data"
    },
    {
     "data": {
      "application/vnd.jupyter.widget-view+json": {
       "model_id": "f3d11edbbc0f499c8126459ec46ceadd",
       "version_major": 2,
       "version_minor": 0
      },
      "text/plain": [
       "clt_Amon_NorESM2-LM_piClim-aer_r1i1p1...:   0%|          |0.00/5.00M [?B/s]"
      ]
     },
     "metadata": {},
     "output_type": "display_data"
    },
    {
     "data": {
      "application/vnd.jupyter.widget-view+json": {
       "model_id": "42a1723296d0470189c9aa8d3991fa17",
       "version_major": 2,
       "version_minor": 0
      },
      "text/plain": [
       "rsuscs_Amon_NorESM2-LM_piClim-aer_r1i...:   0%|          |0.00/4.26M [?B/s]"
      ]
     },
     "metadata": {},
     "output_type": "display_data"
    },
    {
     "data": {
      "application/vnd.jupyter.widget-view+json": {
       "model_id": "bcf215846e9244a292e4a6550a84c312",
       "version_major": 2,
       "version_minor": 0
      },
      "text/plain": [
       "rsut_Amon_NorESM2-LM_piClim-aer_r1i1p...:   0%|          |0.00/4.72M [?B/s]"
      ]
     },
     "metadata": {},
     "output_type": "display_data"
    },
    {
     "data": {
      "application/vnd.jupyter.widget-view+json": {
       "model_id": "a1bdd8cf94024ab68b337aa9151fb890",
       "version_major": 2,
       "version_minor": 0
      },
      "text/plain": [
       "rsuscs_Amon_NorESM2-LM_piClim-aer_r1i...:   0%|          |0.00/4.25M [?B/s]"
      ]
     },
     "metadata": {},
     "output_type": "display_data"
    },
    {
     "data": {
      "application/vnd.jupyter.widget-view+json": {
       "model_id": "579456c83d3e424cba83fc29486d40e1",
       "version_major": 2,
       "version_minor": 0
      },
      "text/plain": [
       "rsutcs_Amon_NorESM2-LM_piClim-aer_r1i...:   0%|          |0.00/4.33M [?B/s]"
      ]
     },
     "metadata": {},
     "output_type": "display_data"
    },
    {
     "data": {
      "application/vnd.jupyter.widget-view+json": {
       "model_id": "a44dfb871dbe4b8f890643b97210dbd6",
       "version_major": 2,
       "version_minor": 0
      },
      "text/plain": [
       "rsds_Amon_NorESM2-LM_piClim-control_r...:   0%|          |0.00/4.72M [?B/s]"
      ]
     },
     "metadata": {},
     "output_type": "display_data"
    },
    {
     "data": {
      "application/vnd.jupyter.widget-view+json": {
       "model_id": "c5583eca0ee2444d99cf5a7a488dfb31",
       "version_major": 2,
       "version_minor": 0
      },
      "text/plain": [
       "rsds_Amon_NorESM2-LM_piClim-control_r...:   0%|          |0.00/4.72M [?B/s]"
      ]
     },
     "metadata": {},
     "output_type": "display_data"
    },
    {
     "data": {
      "application/vnd.jupyter.widget-view+json": {
       "model_id": "52e2feb6b30a4741a110d1c0e91d119f",
       "version_major": 2,
       "version_minor": 0
      },
      "text/plain": [
       "rsdscs_Amon_NorESM2-LM_piClim-control...:   0%|          |0.00/4.05M [?B/s]"
      ]
     },
     "metadata": {},
     "output_type": "display_data"
    },
    {
     "data": {
      "application/vnd.jupyter.widget-view+json": {
       "model_id": "3269ce7d707e4e63a1be55f4da1db3e5",
       "version_major": 2,
       "version_minor": 0
      },
      "text/plain": [
       "rsut_Amon_NorESM2-LM_piClim-control_r...:   0%|          |0.00/4.72M [?B/s]"
      ]
     },
     "metadata": {},
     "output_type": "display_data"
    },
    {
     "data": {
      "application/vnd.jupyter.widget-view+json": {
       "model_id": "6148168b170c471fa2c34534d3e50127",
       "version_major": 2,
       "version_minor": 0
      },
      "text/plain": [
       "rsds_Amon_NorESM2-LM_piClim-aer_r1i1p...:   0%|          |0.00/4.73M [?B/s]"
      ]
     },
     "metadata": {},
     "output_type": "display_data"
    },
    {
     "data": {
      "application/vnd.jupyter.widget-view+json": {
       "model_id": "29c86b11f4c2422ba48337a1e91c9c93",
       "version_major": 2,
       "version_minor": 0
      },
      "text/plain": [
       "rsdscs_Amon_NorESM2-LM_piClim-control...:   0%|          |0.00/4.05M [?B/s]"
      ]
     },
     "metadata": {},
     "output_type": "display_data"
    },
    {
     "data": {
      "application/vnd.jupyter.widget-view+json": {
       "model_id": "faa9c46873224444a8f9520dcfd31fab",
       "version_major": 2,
       "version_minor": 0
      },
      "text/plain": [
       "rsus_Amon_NorESM2-LM_piClim-control_r...:   0%|          |0.00/4.58M [?B/s]"
      ]
     },
     "metadata": {},
     "output_type": "display_data"
    },
    {
     "data": {
      "application/vnd.jupyter.widget-view+json": {
       "model_id": "88de12b38e494c0d821d6905a727a4f7",
       "version_major": 2,
       "version_minor": 0
      },
      "text/plain": [
       "rsut_Amon_NorESM2-LM_piClim-control_r...:   0%|          |0.00/4.72M [?B/s]"
      ]
     },
     "metadata": {},
     "output_type": "display_data"
    },
    {
     "data": {
      "application/vnd.jupyter.widget-view+json": {
       "model_id": "8b68a20b807d4482a1bfa2a574ad1250",
       "version_major": 2,
       "version_minor": 0
      },
      "text/plain": [
       "rsds_Amon_NorESM2-LM_piClim-aer_r1i1p...:   0%|          |0.00/4.73M [?B/s]"
      ]
     },
     "metadata": {},
     "output_type": "display_data"
    },
    {
     "data": {
      "application/vnd.jupyter.widget-view+json": {
       "model_id": "0da4a77003b844099b40d2dd9b3f76a1",
       "version_major": 2,
       "version_minor": 0
      },
      "text/plain": [
       "rsdscs_Amon_NorESM2-LM_piClim-aer_r1i...:   0%|          |0.00/4.07M [?B/s]"
      ]
     },
     "metadata": {},
     "output_type": "display_data"
    },
    {
     "data": {
      "application/vnd.jupyter.widget-view+json": {
       "model_id": "970d43b2f66846a19aaf7086fa9472db",
       "version_major": 2,
       "version_minor": 0
      },
      "text/plain": [
       "rsus_Amon_NorESM2-LM_piClim-aer_r1i1p...:   0%|          |0.00/4.59M [?B/s]"
      ]
     },
     "metadata": {},
     "output_type": "display_data"
    },
    {
     "name": "stdout",
     "output_type": "stream",
     "text": [
      "\n",
      "Downloading GISS-E2-1-G.r1i1p1f1.gn ...\n",
      "\n"
     ]
    },
    {
     "data": {
      "application/vnd.jupyter.widget-view+json": {
       "model_id": "a9aaa4d6aed9489ca137eef78c5ec39f",
       "version_major": 2,
       "version_minor": 0
      },
      "text/plain": [
       "   Searching indices:   0%|          |0/9 [       ?index/s]"
      ]
     },
     "metadata": {},
     "output_type": "display_data"
    },
    {
     "name": "stderr",
     "output_type": "stream",
     "text": [
      "/home/jovyan/my-conda-envs/cmip6-download/lib/python3.13/site-packages/intake_esgf/catalog.py:298: UserWarning: SolrESGFIndex('esgf-node.ipsl.upmc.fr') failed to return a response, results may be incomplete\n",
      "  warnings.warn(\n",
      "/home/jovyan/my-conda-envs/cmip6-download/lib/python3.13/site-packages/intake_esgf/catalog.py:450: UserWarning: SolrESGFIndex('esgf-node.ipsl.upmc.fr') failed to return a response, info may be incomplete\n",
      "  warnings.warn(\n",
      "/home/jovyan/my-conda-envs/cmip6-download/lib/python3.13/site-packages/intake_esgf/catalog.py:450: UserWarning: SolrESGFIndex('esgf.ceda.ac.uk') failed to return a response, info may be incomplete\n",
      "  warnings.warn(\n",
      "/home/jovyan/my-conda-envs/cmip6-download/lib/python3.13/site-packages/intake_esgf/catalog.py:450: UserWarning: SolrESGFIndex('esgf-data.dkrz.de') failed to return a response, info may be incomplete\n",
      "  warnings.warn(\n",
      "/home/jovyan/my-conda-envs/cmip6-download/lib/python3.13/site-packages/intake_esgf/catalog.py:450: UserWarning: SolrESGFIndex('esg-dn1.nsc.liu.se') failed to return a response, info may be incomplete\n",
      "  warnings.warn(\n",
      "/home/jovyan/my-conda-envs/cmip6-download/lib/python3.13/site-packages/intake_esgf/catalog.py:450: UserWarning: SolrESGFIndex('esgf-node.ornl.gov') failed to return a response, info may be incomplete\n",
      "  warnings.warn(\n",
      "/home/jovyan/my-conda-envs/cmip6-download/lib/python3.13/site-packages/intake_esgf/catalog.py:450: UserWarning: SolrESGFIndex('esgf-node.llnl.gov') failed to return a response, info may be incomplete\n",
      "  warnings.warn(\n",
      "/home/jovyan/my-conda-envs/cmip6-download/lib/python3.13/site-packages/intake_esgf/catalog.py:450: UserWarning: SolrESGFIndex('esgf.nci.org.au') failed to return a response, info may be incomplete\n",
      "  warnings.warn(\n"
     ]
    },
    {
     "data": {
      "application/vnd.jupyter.widget-view+json": {
       "model_id": "e4507cad6719472fb66e391df9cfdd11",
       "version_major": 2,
       "version_minor": 0
      },
      "text/plain": [
       "clt_Amon_GISS-E2-1-G_piClim-aer_r1i1p...:   0%|          |0.00/19.3M [?B/s]"
      ]
     },
     "metadata": {},
     "output_type": "display_data"
    },
    {
     "data": {
      "application/vnd.jupyter.widget-view+json": {
       "model_id": "e2de5c94625e4a4ca602b11192958e05",
       "version_major": 2,
       "version_minor": 0
      },
      "text/plain": [
       "rsdscs_Amon_GISS-E2-1-G_piClim-contro...:   0%|          |0.00/19.3M [?B/s]"
      ]
     },
     "metadata": {},
     "output_type": "display_data"
    },
    {
     "data": {
      "application/vnd.jupyter.widget-view+json": {
       "model_id": "b98acba503b04708a0cf940dad367729",
       "version_major": 2,
       "version_minor": 0
      },
      "text/plain": [
       "rsus_Amon_GISS-E2-1-G_piClim-control_...:   0%|          |0.00/19.3M [?B/s]"
      ]
     },
     "metadata": {},
     "output_type": "display_data"
    },
    {
     "data": {
      "application/vnd.jupyter.widget-view+json": {
       "model_id": "4117178bb0154001903f6d46ac8383da",
       "version_major": 2,
       "version_minor": 0
      },
      "text/plain": [
       "rsut_Amon_GISS-E2-1-G_piClim-aer_r1i1...:   0%|          |0.00/19.3M [?B/s]"
      ]
     },
     "metadata": {},
     "output_type": "display_data"
    },
    {
     "data": {
      "application/vnd.jupyter.widget-view+json": {
       "model_id": "ec250eace1bd4070b755355f7ac99715",
       "version_major": 2,
       "version_minor": 0
      },
      "text/plain": [
       "rsdscs_Amon_GISS-E2-1-G_piClim-aer_r1...:   0%|          |0.00/19.3M [?B/s]"
      ]
     },
     "metadata": {},
     "output_type": "display_data"
    },
    {
     "data": {
      "application/vnd.jupyter.widget-view+json": {
       "model_id": "36ba8b25bf9d4c33817ac4d221f7f7fb",
       "version_major": 2,
       "version_minor": 0
      },
      "text/plain": [
       "rsutcs_Amon_GISS-E2-1-G_piClim-contro...:   0%|          |0.00/19.3M [?B/s]"
      ]
     },
     "metadata": {},
     "output_type": "display_data"
    },
    {
     "data": {
      "application/vnd.jupyter.widget-view+json": {
       "model_id": "e362054d2ccf45b6936b83520432c6dc",
       "version_major": 2,
       "version_minor": 0
      },
      "text/plain": [
       "rsuscs_Amon_GISS-E2-1-G_piClim-contro...:   0%|          |0.00/19.3M [?B/s]"
      ]
     },
     "metadata": {},
     "output_type": "display_data"
    },
    {
     "data": {
      "application/vnd.jupyter.widget-view+json": {
       "model_id": "cb1b21969d5143ff9505300287c576b6",
       "version_major": 2,
       "version_minor": 0
      },
      "text/plain": [
       "rsds_Amon_GISS-E2-1-G_piClim-control_...:   0%|          |0.00/19.3M [?B/s]"
      ]
     },
     "metadata": {},
     "output_type": "display_data"
    },
    {
     "data": {
      "application/vnd.jupyter.widget-view+json": {
       "model_id": "4b1b31dbe48348149e861ce65b9b6d8a",
       "version_major": 2,
       "version_minor": 0
      },
      "text/plain": [
       "rsdt_Amon_GISS-E2-1-G_piClim-aer_r1i1...:   0%|          |0.00/19.3M [?B/s]"
      ]
     },
     "metadata": {},
     "output_type": "display_data"
    },
    {
     "data": {
      "application/vnd.jupyter.widget-view+json": {
       "model_id": "5ddf30ec41304b15a720e76f3ce8422c",
       "version_major": 2,
       "version_minor": 0
      },
      "text/plain": [
       "clt_Amon_GISS-E2-1-G_piClim-control_r...:   0%|          |0.00/19.3M [?B/s]"
      ]
     },
     "metadata": {},
     "output_type": "display_data"
    },
    {
     "data": {
      "application/vnd.jupyter.widget-view+json": {
       "model_id": "74bbfe4dca3b4edbbddb588459c3347a",
       "version_major": 2,
       "version_minor": 0
      },
      "text/plain": [
       "rsus_Amon_GISS-E2-1-G_piClim-aer_r1i1...:   0%|          |0.00/19.3M [?B/s]"
      ]
     },
     "metadata": {},
     "output_type": "display_data"
    },
    {
     "data": {
      "application/vnd.jupyter.widget-view+json": {
       "model_id": "6f38cb4185e240cdade7fba646eca16d",
       "version_major": 2,
       "version_minor": 0
      },
      "text/plain": [
       "rsuscs_Amon_GISS-E2-1-G_piClim-aer_r1...:   0%|          |0.00/19.3M [?B/s]"
      ]
     },
     "metadata": {},
     "output_type": "display_data"
    },
    {
     "data": {
      "application/vnd.jupyter.widget-view+json": {
       "model_id": "6f753641c9b9440997660bf14e6f7a7f",
       "version_major": 2,
       "version_minor": 0
      },
      "text/plain": [
       "rsutcs_Amon_GISS-E2-1-G_piClim-aer_r1...:   0%|          |0.00/19.3M [?B/s]"
      ]
     },
     "metadata": {},
     "output_type": "display_data"
    },
    {
     "data": {
      "application/vnd.jupyter.widget-view+json": {
       "model_id": "e21a11b76e35433b8df3b9228fac240e",
       "version_major": 2,
       "version_minor": 0
      },
      "text/plain": [
       "rsut_Amon_GISS-E2-1-G_piClim-control_...:   0%|          |0.00/19.3M [?B/s]"
      ]
     },
     "metadata": {},
     "output_type": "display_data"
    },
    {
     "data": {
      "application/vnd.jupyter.widget-view+json": {
       "model_id": "afac05dc35e34a1f801f3600b3b25c22",
       "version_major": 2,
       "version_minor": 0
      },
      "text/plain": [
       "rsds_Amon_GISS-E2-1-G_piClim-aer_r1i1...:   0%|          |0.00/19.3M [?B/s]"
      ]
     },
     "metadata": {},
     "output_type": "display_data"
    },
    {
     "data": {
      "application/vnd.jupyter.widget-view+json": {
       "model_id": "f7dafe5ee1a347778306b66cc131886c",
       "version_major": 2,
       "version_minor": 0
      },
      "text/plain": [
       "rsdt_Amon_GISS-E2-1-G_piClim-control_...:   0%|          |0.00/19.3M [?B/s]"
      ]
     },
     "metadata": {},
     "output_type": "display_data"
    },
    {
     "name": "stdout",
     "output_type": "stream",
     "text": [
      "\n",
      "Downloading GISS-E2-1-G.r1i1p1f2.gn ...\n",
      "\n"
     ]
    },
    {
     "data": {
      "application/vnd.jupyter.widget-view+json": {
       "model_id": "50dc5321921d4369bb7c10122c26cb31",
       "version_major": 2,
       "version_minor": 0
      },
      "text/plain": [
       "   Searching indices:   0%|          |0/9 [       ?index/s]"
      ]
     },
     "metadata": {},
     "output_type": "display_data"
    },
    {
     "name": "stderr",
     "output_type": "stream",
     "text": [
      "/home/jovyan/my-conda-envs/cmip6-download/lib/python3.13/site-packages/intake_esgf/catalog.py:450: UserWarning: SolrESGFIndex('esgf.ceda.ac.uk') failed to return a response, info may be incomplete\n",
      "  warnings.warn(\n",
      "/home/jovyan/my-conda-envs/cmip6-download/lib/python3.13/site-packages/intake_esgf/catalog.py:450: UserWarning: SolrESGFIndex('esgf-data.dkrz.de') failed to return a response, info may be incomplete\n",
      "  warnings.warn(\n",
      "/home/jovyan/my-conda-envs/cmip6-download/lib/python3.13/site-packages/intake_esgf/catalog.py:450: UserWarning: SolrESGFIndex('esgf-node.ipsl.upmc.fr') failed to return a response, info may be incomplete\n",
      "  warnings.warn(\n",
      "/home/jovyan/my-conda-envs/cmip6-download/lib/python3.13/site-packages/intake_esgf/catalog.py:450: UserWarning: SolrESGFIndex('esg-dn1.nsc.liu.se') failed to return a response, info may be incomplete\n",
      "  warnings.warn(\n",
      "/home/jovyan/my-conda-envs/cmip6-download/lib/python3.13/site-packages/intake_esgf/catalog.py:450: UserWarning: SolrESGFIndex('esgf-node.ornl.gov') failed to return a response, info may be incomplete\n",
      "  warnings.warn(\n",
      "/home/jovyan/my-conda-envs/cmip6-download/lib/python3.13/site-packages/intake_esgf/catalog.py:450: UserWarning: SolrESGFIndex('esgf-node.llnl.gov') failed to return a response, info may be incomplete\n",
      "  warnings.warn(\n",
      "/home/jovyan/my-conda-envs/cmip6-download/lib/python3.13/site-packages/intake_esgf/catalog.py:450: UserWarning: SolrESGFIndex('esgf.nci.org.au') failed to return a response, info may be incomplete\n",
      "  warnings.warn(\n"
     ]
    },
    {
     "data": {
      "application/vnd.jupyter.widget-view+json": {
       "model_id": "3956712ac46f45a0ad69720e4f3129b7",
       "version_major": 2,
       "version_minor": 0
      },
      "text/plain": [
       "rsds_Amon_GISS-E2-1-G_piClim-aer_r1i1...:   0%|          |0.00/19.3M [?B/s]"
      ]
     },
     "metadata": {},
     "output_type": "display_data"
    },
    {
     "data": {
      "application/vnd.jupyter.widget-view+json": {
       "model_id": "7994c6ca02214102a7c3e4effa34d98c",
       "version_major": 2,
       "version_minor": 0
      },
      "text/plain": [
       "rsutcs_Amon_GISS-E2-1-G_piClim-contro...:   0%|          |0.00/19.3M [?B/s]"
      ]
     },
     "metadata": {},
     "output_type": "display_data"
    },
    {
     "data": {
      "application/vnd.jupyter.widget-view+json": {
       "model_id": "4a462c47984a4e57bc7793d2ed107345",
       "version_major": 2,
       "version_minor": 0
      },
      "text/plain": [
       "rsuscs_Amon_GISS-E2-1-G_piClim-contro...:   0%|          |0.00/19.3M [?B/s]"
      ]
     },
     "metadata": {},
     "output_type": "display_data"
    },
    {
     "data": {
      "application/vnd.jupyter.widget-view+json": {
       "model_id": "70f1d6d4d3b54befa780f2cc6b01b0ce",
       "version_major": 2,
       "version_minor": 0
      },
      "text/plain": [
       "rsds_Amon_GISS-E2-1-G_piClim-control_...:   0%|          |0.00/19.3M [?B/s]"
      ]
     },
     "metadata": {},
     "output_type": "display_data"
    },
    {
     "data": {
      "application/vnd.jupyter.widget-view+json": {
       "model_id": "0d4a8cea6adb44fdaa753d39a41587a0",
       "version_major": 2,
       "version_minor": 0
      },
      "text/plain": [
       "rsuscs_Amon_GISS-E2-1-G_piClim-aer_r1...:   0%|          |0.00/19.3M [?B/s]"
      ]
     },
     "metadata": {},
     "output_type": "display_data"
    },
    {
     "data": {
      "application/vnd.jupyter.widget-view+json": {
       "model_id": "080fe2170b204dccb15d2a3817bbb57c",
       "version_major": 2,
       "version_minor": 0
      },
      "text/plain": [
       "rsus_Amon_GISS-E2-1-G_piClim-control_...:   0%|          |0.00/19.3M [?B/s]"
      ]
     },
     "metadata": {},
     "output_type": "display_data"
    },
    {
     "data": {
      "application/vnd.jupyter.widget-view+json": {
       "model_id": "719fcf9dca464ede8ba044ad6c6901bf",
       "version_major": 2,
       "version_minor": 0
      },
      "text/plain": [
       "rsdt_Amon_GISS-E2-1-G_piClim-aer_r1i1...:   0%|          |0.00/19.3M [?B/s]"
      ]
     },
     "metadata": {},
     "output_type": "display_data"
    },
    {
     "data": {
      "application/vnd.jupyter.widget-view+json": {
       "model_id": "65c1cee3d7374f289c90e169656cee06",
       "version_major": 2,
       "version_minor": 0
      },
      "text/plain": [
       "rsus_Amon_GISS-E2-1-G_piClim-aer_r1i1...:   0%|          |0.00/19.3M [?B/s]"
      ]
     },
     "metadata": {},
     "output_type": "display_data"
    },
    {
     "data": {
      "application/vnd.jupyter.widget-view+json": {
       "model_id": "27958b9fc68d462d8198bc00723cfaeb",
       "version_major": 2,
       "version_minor": 0
      },
      "text/plain": [
       "rsutcs_Amon_GISS-E2-1-G_piClim-aer_r1...:   0%|          |0.00/19.3M [?B/s]"
      ]
     },
     "metadata": {},
     "output_type": "display_data"
    },
    {
     "data": {
      "application/vnd.jupyter.widget-view+json": {
       "model_id": "71e3934ddc064c24a94159a6dae1720c",
       "version_major": 2,
       "version_minor": 0
      },
      "text/plain": [
       "clt_Amon_GISS-E2-1-G_piClim-control_r...:   0%|          |0.00/19.3M [?B/s]"
      ]
     },
     "metadata": {},
     "output_type": "display_data"
    },
    {
     "data": {
      "application/vnd.jupyter.widget-view+json": {
       "model_id": "7de27bdc6cba41a0b5c9811b3f9fe410",
       "version_major": 2,
       "version_minor": 0
      },
      "text/plain": [
       "rsut_Amon_GISS-E2-1-G_piClim-aer_r1i1...:   0%|          |0.00/19.3M [?B/s]"
      ]
     },
     "metadata": {},
     "output_type": "display_data"
    },
    {
     "data": {
      "application/vnd.jupyter.widget-view+json": {
       "model_id": "6ac2631dcd1e4c49b4eaba012e64207f",
       "version_major": 2,
       "version_minor": 0
      },
      "text/plain": [
       "clt_Amon_GISS-E2-1-G_piClim-aer_r1i1p...:   0%|          |0.00/19.3M [?B/s]"
      ]
     },
     "metadata": {},
     "output_type": "display_data"
    },
    {
     "data": {
      "application/vnd.jupyter.widget-view+json": {
       "model_id": "2b315f3840f14d5d9e4081ec59a11547",
       "version_major": 2,
       "version_minor": 0
      },
      "text/plain": [
       "rsdscs_Amon_GISS-E2-1-G_piClim-aer_r1...:   0%|          |0.00/19.3M [?B/s]"
      ]
     },
     "metadata": {},
     "output_type": "display_data"
    },
    {
     "data": {
      "application/vnd.jupyter.widget-view+json": {
       "model_id": "e1a160c2e5ef422583792e112c21854b",
       "version_major": 2,
       "version_minor": 0
      },
      "text/plain": [
       "rsdscs_Amon_GISS-E2-1-G_piClim-contro...:   0%|          |0.00/19.3M [?B/s]"
      ]
     },
     "metadata": {},
     "output_type": "display_data"
    },
    {
     "data": {
      "application/vnd.jupyter.widget-view+json": {
       "model_id": "995a4f654dbd43cba8c1c964f9efe53a",
       "version_major": 2,
       "version_minor": 0
      },
      "text/plain": [
       "rsdt_Amon_GISS-E2-1-G_piClim-control_...:   0%|          |0.00/19.3M [?B/s]"
      ]
     },
     "metadata": {},
     "output_type": "display_data"
    },
    {
     "data": {
      "application/vnd.jupyter.widget-view+json": {
       "model_id": "a7e7a360d925453db014a75c43b1577a",
       "version_major": 2,
       "version_minor": 0
      },
      "text/plain": [
       "rsut_Amon_GISS-E2-1-G_piClim-control_...:   0%|          |0.00/19.3M [?B/s]"
      ]
     },
     "metadata": {},
     "output_type": "display_data"
    },
    {
     "name": "stdout",
     "output_type": "stream",
     "text": [
      "\n",
      "Downloading GISS-E2-1-G.r1i1p3f1.gn ...\n",
      "\n"
     ]
    },
    {
     "data": {
      "application/vnd.jupyter.widget-view+json": {
       "model_id": "a4b8babbfe1348af91afe9bdfac18cca",
       "version_major": 2,
       "version_minor": 0
      },
      "text/plain": [
       "   Searching indices:   0%|          |0/9 [       ?index/s]"
      ]
     },
     "metadata": {},
     "output_type": "display_data"
    },
    {
     "name": "stderr",
     "output_type": "stream",
     "text": [
      "/home/jovyan/my-conda-envs/cmip6-download/lib/python3.13/site-packages/intake_esgf/catalog.py:450: UserWarning: SolrESGFIndex('esgf-node.ipsl.upmc.fr') failed to return a response, info may be incomplete\n",
      "  warnings.warn(\n",
      "/home/jovyan/my-conda-envs/cmip6-download/lib/python3.13/site-packages/intake_esgf/catalog.py:450: UserWarning: SolrESGFIndex('esgf.ceda.ac.uk') failed to return a response, info may be incomplete\n",
      "  warnings.warn(\n",
      "/home/jovyan/my-conda-envs/cmip6-download/lib/python3.13/site-packages/intake_esgf/catalog.py:450: UserWarning: SolrESGFIndex('esgf-data.dkrz.de') failed to return a response, info may be incomplete\n",
      "  warnings.warn(\n",
      "/home/jovyan/my-conda-envs/cmip6-download/lib/python3.13/site-packages/intake_esgf/catalog.py:450: UserWarning: SolrESGFIndex('esg-dn1.nsc.liu.se') failed to return a response, info may be incomplete\n",
      "  warnings.warn(\n",
      "/home/jovyan/my-conda-envs/cmip6-download/lib/python3.13/site-packages/intake_esgf/catalog.py:450: UserWarning: SolrESGFIndex('esgf-node.ornl.gov') failed to return a response, info may be incomplete\n",
      "  warnings.warn(\n",
      "/home/jovyan/my-conda-envs/cmip6-download/lib/python3.13/site-packages/intake_esgf/catalog.py:450: UserWarning: SolrESGFIndex('esgf-node.llnl.gov') failed to return a response, info may be incomplete\n",
      "  warnings.warn(\n",
      "/home/jovyan/my-conda-envs/cmip6-download/lib/python3.13/site-packages/intake_esgf/catalog.py:450: UserWarning: SolrESGFIndex('esgf.nci.org.au') failed to return a response, info may be incomplete\n",
      "  warnings.warn(\n"
     ]
    },
    {
     "data": {
      "application/vnd.jupyter.widget-view+json": {
       "model_id": "3f9372e2bb8e4088a11bc7c8d58eaac8",
       "version_major": 2,
       "version_minor": 0
      },
      "text/plain": [
       "rsut_Amon_GISS-E2-1-G_piClim-control_...:   0%|          |0.00/25.5M [?B/s]"
      ]
     },
     "metadata": {},
     "output_type": "display_data"
    },
    {
     "data": {
      "application/vnd.jupyter.widget-view+json": {
       "model_id": "ce0d1dbe62bf4d03a38a596b2f2975e1",
       "version_major": 2,
       "version_minor": 0
      },
      "text/plain": [
       "rsutcs_Amon_GISS-E2-1-G_piClim-contro...:   0%|          |0.00/25.5M [?B/s]"
      ]
     },
     "metadata": {},
     "output_type": "display_data"
    },
    {
     "data": {
      "application/vnd.jupyter.widget-view+json": {
       "model_id": "79305a71cb3a473780aef9996aea73d2",
       "version_major": 2,
       "version_minor": 0
      },
      "text/plain": [
       "rsus_Amon_GISS-E2-1-G_piClim-aer_r1i1...:   0%|          |0.00/25.5M [?B/s]"
      ]
     },
     "metadata": {},
     "output_type": "display_data"
    },
    {
     "data": {
      "application/vnd.jupyter.widget-view+json": {
       "model_id": "935c0d909fa44c728da76aeeac205ab9",
       "version_major": 2,
       "version_minor": 0
      },
      "text/plain": [
       "rsuscs_Amon_GISS-E2-1-G_piClim-contro...:   0%|          |0.00/25.5M [?B/s]"
      ]
     },
     "metadata": {},
     "output_type": "display_data"
    },
    {
     "data": {
      "application/vnd.jupyter.widget-view+json": {
       "model_id": "5e4c03063f474f65974487d523bcd992",
       "version_major": 2,
       "version_minor": 0
      },
      "text/plain": [
       "rsus_Amon_GISS-E2-1-G_piClim-control_...:   0%|          |0.00/25.5M [?B/s]"
      ]
     },
     "metadata": {},
     "output_type": "display_data"
    },
    {
     "data": {
      "application/vnd.jupyter.widget-view+json": {
       "model_id": "c17489c6979c497ab9d8334608cd8e7b",
       "version_major": 2,
       "version_minor": 0
      },
      "text/plain": [
       "rsuscs_Amon_GISS-E2-1-G_piClim-aer_r1...:   0%|          |0.00/25.5M [?B/s]"
      ]
     },
     "metadata": {},
     "output_type": "display_data"
    },
    {
     "data": {
      "application/vnd.jupyter.widget-view+json": {
       "model_id": "fbdd23077778485d89f476f6f7ec75ec",
       "version_major": 2,
       "version_minor": 0
      },
      "text/plain": [
       "clt_Amon_GISS-E2-1-G_piClim-aer_r1i1p...:   0%|          |0.00/25.5M [?B/s]"
      ]
     },
     "metadata": {},
     "output_type": "display_data"
    },
    {
     "data": {
      "application/vnd.jupyter.widget-view+json": {
       "model_id": "5f60fac2f8cb452190a760763f30a190",
       "version_major": 2,
       "version_minor": 0
      },
      "text/plain": [
       "rsdt_Amon_GISS-E2-1-G_piClim-aer_r1i1...:   0%|          |0.00/25.5M [?B/s]"
      ]
     },
     "metadata": {},
     "output_type": "display_data"
    },
    {
     "data": {
      "application/vnd.jupyter.widget-view+json": {
       "model_id": "8b50e516052e48f89765544428c7aa33",
       "version_major": 2,
       "version_minor": 0
      },
      "text/plain": [
       "rsdscs_Amon_GISS-E2-1-G_piClim-contro...:   0%|          |0.00/25.5M [?B/s]"
      ]
     },
     "metadata": {},
     "output_type": "display_data"
    },
    {
     "data": {
      "application/vnd.jupyter.widget-view+json": {
       "model_id": "5ddd00eb62934c409bc3a5e0223488f1",
       "version_major": 2,
       "version_minor": 0
      },
      "text/plain": [
       "rsdscs_Amon_GISS-E2-1-G_piClim-aer_r1...:   0%|          |0.00/25.5M [?B/s]"
      ]
     },
     "metadata": {},
     "output_type": "display_data"
    },
    {
     "data": {
      "application/vnd.jupyter.widget-view+json": {
       "model_id": "ea8dd9feb7da4a1ca8b8ba1a101727dd",
       "version_major": 2,
       "version_minor": 0
      },
      "text/plain": [
       "rsds_Amon_GISS-E2-1-G_piClim-control_...:   0%|          |0.00/25.5M [?B/s]"
      ]
     },
     "metadata": {},
     "output_type": "display_data"
    },
    {
     "data": {
      "application/vnd.jupyter.widget-view+json": {
       "model_id": "3ea77267978a4d848116e0c828488d8c",
       "version_major": 2,
       "version_minor": 0
      },
      "text/plain": [
       "rsutcs_Amon_GISS-E2-1-G_piClim-aer_r1...:   0%|          |0.00/25.5M [?B/s]"
      ]
     },
     "metadata": {},
     "output_type": "display_data"
    },
    {
     "data": {
      "application/vnd.jupyter.widget-view+json": {
       "model_id": "1af5e7fd03b245ec8a8155197f4c17c3",
       "version_major": 2,
       "version_minor": 0
      },
      "text/plain": [
       "rsut_Amon_GISS-E2-1-G_piClim-aer_r1i1...:   0%|          |0.00/25.5M [?B/s]"
      ]
     },
     "metadata": {},
     "output_type": "display_data"
    },
    {
     "data": {
      "application/vnd.jupyter.widget-view+json": {
       "model_id": "1243cee4f94848cdaf087ac2b34c6d0b",
       "version_major": 2,
       "version_minor": 0
      },
      "text/plain": [
       "clt_Amon_GISS-E2-1-G_piClim-control_r...:   0%|          |0.00/25.5M [?B/s]"
      ]
     },
     "metadata": {},
     "output_type": "display_data"
    },
    {
     "data": {
      "application/vnd.jupyter.widget-view+json": {
       "model_id": "a5143717d9d54fb3ba6249c36d3de6fe",
       "version_major": 2,
       "version_minor": 0
      },
      "text/plain": [
       "rsdt_Amon_GISS-E2-1-G_piClim-control_...:   0%|          |0.00/25.5M [?B/s]"
      ]
     },
     "metadata": {},
     "output_type": "display_data"
    },
    {
     "data": {
      "application/vnd.jupyter.widget-view+json": {
       "model_id": "6457743395084b89bd54977e73cf9013",
       "version_major": 2,
       "version_minor": 0
      },
      "text/plain": [
       "rsds_Amon_GISS-E2-1-G_piClim-aer_r1i1...:   0%|          |0.00/25.5M [?B/s]"
      ]
     },
     "metadata": {},
     "output_type": "display_data"
    },
    {
     "name": "stdout",
     "output_type": "stream",
     "text": [
      "\n",
      "Downloading CanESM5.r1i1p2f1.gn ...\n",
      "\n"
     ]
    },
    {
     "data": {
      "application/vnd.jupyter.widget-view+json": {
       "model_id": "97d747fc33e247199f99db3e1611cf4e",
       "version_major": 2,
       "version_minor": 0
      },
      "text/plain": [
       "   Searching indices:   0%|          |0/9 [       ?index/s]"
      ]
     },
     "metadata": {},
     "output_type": "display_data"
    },
    {
     "name": "stderr",
     "output_type": "stream",
     "text": [
      "/home/jovyan/my-conda-envs/cmip6-download/lib/python3.13/site-packages/intake_esgf/catalog.py:450: UserWarning: SolrESGFIndex('esgf.ceda.ac.uk') failed to return a response, info may be incomplete\n",
      "  warnings.warn(\n",
      "/home/jovyan/my-conda-envs/cmip6-download/lib/python3.13/site-packages/intake_esgf/catalog.py:450: UserWarning: SolrESGFIndex('esgf-data.dkrz.de') failed to return a response, info may be incomplete\n",
      "  warnings.warn(\n",
      "/home/jovyan/my-conda-envs/cmip6-download/lib/python3.13/site-packages/intake_esgf/catalog.py:450: UserWarning: SolrESGFIndex('esgf-node.ipsl.upmc.fr') failed to return a response, info may be incomplete\n",
      "  warnings.warn(\n",
      "/home/jovyan/my-conda-envs/cmip6-download/lib/python3.13/site-packages/intake_esgf/catalog.py:450: UserWarning: SolrESGFIndex('esg-dn1.nsc.liu.se') failed to return a response, info may be incomplete\n",
      "  warnings.warn(\n",
      "/home/jovyan/my-conda-envs/cmip6-download/lib/python3.13/site-packages/intake_esgf/catalog.py:450: UserWarning: SolrESGFIndex('esgf-node.ornl.gov') failed to return a response, info may be incomplete\n",
      "  warnings.warn(\n",
      "/home/jovyan/my-conda-envs/cmip6-download/lib/python3.13/site-packages/intake_esgf/catalog.py:450: UserWarning: SolrESGFIndex('esgf-node.llnl.gov') failed to return a response, info may be incomplete\n",
      "  warnings.warn(\n",
      "/home/jovyan/my-conda-envs/cmip6-download/lib/python3.13/site-packages/intake_esgf/catalog.py:450: UserWarning: SolrESGFIndex('esgf.nci.org.au') failed to return a response, info may be incomplete\n",
      "  warnings.warn(\n"
     ]
    },
    {
     "data": {
      "application/vnd.jupyter.widget-view+json": {
       "model_id": "49b601d334ff4484a2665e57b3f41ae2",
       "version_major": 2,
       "version_minor": 0
      },
      "text/plain": [
       "rsds_Amon_CanESM5_piClim-control_r1i1...:   0%|          |0.00/16.5M [?B/s]"
      ]
     },
     "metadata": {},
     "output_type": "display_data"
    },
    {
     "data": {
      "application/vnd.jupyter.widget-view+json": {
       "model_id": "08a1dbfba31f4e50a290cb0a976001af",
       "version_major": 2,
       "version_minor": 0
      },
      "text/plain": [
       "rsdt_Amon_CanESM5_piClim-aer_r1i1p2f1...:   0%|          |0.00/14.5M [?B/s]"
      ]
     },
     "metadata": {},
     "output_type": "display_data"
    },
    {
     "data": {
      "application/vnd.jupyter.widget-view+json": {
       "model_id": "c504a421f5af45c59895e38634ddad73",
       "version_major": 2,
       "version_minor": 0
      },
      "text/plain": [
       "rsdscs_Amon_CanESM5_piClim-control_r1...:   0%|          |0.00/16.1M [?B/s]"
      ]
     },
     "metadata": {},
     "output_type": "display_data"
    },
    {
     "data": {
      "application/vnd.jupyter.widget-view+json": {
       "model_id": "0450b356fcd9446ea49802920814be4d",
       "version_major": 2,
       "version_minor": 0
      },
      "text/plain": [
       "rsutcs_Amon_CanESM5_piClim-aer_r1i1p2...:   0%|          |0.00/16.4M [?B/s]"
      ]
     },
     "metadata": {},
     "output_type": "display_data"
    },
    {
     "data": {
      "application/vnd.jupyter.widget-view+json": {
       "model_id": "c80db90f12bc4e67b2143820b82b951f",
       "version_major": 2,
       "version_minor": 0
      },
      "text/plain": [
       "rsuscs_Amon_CanESM5_piClim-control_r1...:   0%|          |0.00/16.5M [?B/s]"
      ]
     },
     "metadata": {},
     "output_type": "display_data"
    },
    {
     "data": {
      "application/vnd.jupyter.widget-view+json": {
       "model_id": "aae64c04b42547f7aa55e007b272c970",
       "version_major": 2,
       "version_minor": 0
      },
      "text/plain": [
       "rsus_Amon_CanESM5_piClim-control_r1i1...:   0%|          |0.00/16.8M [?B/s]"
      ]
     },
     "metadata": {},
     "output_type": "display_data"
    },
    {
     "data": {
      "application/vnd.jupyter.widget-view+json": {
       "model_id": "b20b44230da24e3c86f8200f4c11ac75",
       "version_major": 2,
       "version_minor": 0
      },
      "text/plain": [
       "clt_Amon_CanESM5_piClim-aer_r1i1p2f1_...:   0%|          |0.00/16.6M [?B/s]"
      ]
     },
     "metadata": {},
     "output_type": "display_data"
    },
    {
     "data": {
      "application/vnd.jupyter.widget-view+json": {
       "model_id": "9485c1d776554681b156b2b5ba5feeaf",
       "version_major": 2,
       "version_minor": 0
      },
      "text/plain": [
       "rsdscs_Amon_CanESM5_piClim-aer_r1i1p2...:   0%|          |0.00/16.1M [?B/s]"
      ]
     },
     "metadata": {},
     "output_type": "display_data"
    },
    {
     "data": {
      "application/vnd.jupyter.widget-view+json": {
       "model_id": "b7e114a761ce4b7db40433167ccc0b9e",
       "version_major": 2,
       "version_minor": 0
      },
      "text/plain": [
       "rsuscs_Amon_CanESM5_piClim-aer_r1i1p2...:   0%|          |0.00/16.5M [?B/s]"
      ]
     },
     "metadata": {},
     "output_type": "display_data"
    },
    {
     "data": {
      "application/vnd.jupyter.widget-view+json": {
       "model_id": "529af208595847a4b28ff9d2a4622a52",
       "version_major": 2,
       "version_minor": 0
      },
      "text/plain": [
       "clt_Amon_CanESM5_piClim-control_r1i1p...:   0%|          |0.00/16.6M [?B/s]"
      ]
     },
     "metadata": {},
     "output_type": "display_data"
    },
    {
     "data": {
      "application/vnd.jupyter.widget-view+json": {
       "model_id": "9f1bc58315a1474ea8e94b2cd059d778",
       "version_major": 2,
       "version_minor": 0
      },
      "text/plain": [
       "rsut_Amon_CanESM5_piClim-control_r1i1...:   0%|          |0.00/16.5M [?B/s]"
      ]
     },
     "metadata": {},
     "output_type": "display_data"
    },
    {
     "data": {
      "application/vnd.jupyter.widget-view+json": {
       "model_id": "5ab1c20d48974cd79cf9a73fc692fcd0",
       "version_major": 2,
       "version_minor": 0
      },
      "text/plain": [
       "rsds_Amon_CanESM5_piClim-aer_r1i1p2f1...:   0%|          |0.00/16.5M [?B/s]"
      ]
     },
     "metadata": {},
     "output_type": "display_data"
    },
    {
     "data": {
      "application/vnd.jupyter.widget-view+json": {
       "model_id": "c83dd80b78184592b1a0399293a1e29e",
       "version_major": 2,
       "version_minor": 0
      },
      "text/plain": [
       "rsdt_Amon_CanESM5_piClim-control_r1i1...:   0%|          |0.00/14.5M [?B/s]"
      ]
     },
     "metadata": {},
     "output_type": "display_data"
    },
    {
     "data": {
      "application/vnd.jupyter.widget-view+json": {
       "model_id": "23332713d85140fb91baf99aff8c32d7",
       "version_major": 2,
       "version_minor": 0
      },
      "text/plain": [
       "rsutcs_Amon_CanESM5_piClim-control_r1...:   0%|          |0.00/16.4M [?B/s]"
      ]
     },
     "metadata": {},
     "output_type": "display_data"
    },
    {
     "data": {
      "application/vnd.jupyter.widget-view+json": {
       "model_id": "a4e9ab2448274f56ac9d464ce1c1746e",
       "version_major": 2,
       "version_minor": 0
      },
      "text/plain": [
       "rsus_Amon_CanESM5_piClim-aer_r1i1p2f1...:   0%|          |0.00/16.8M [?B/s]"
      ]
     },
     "metadata": {},
     "output_type": "display_data"
    },
    {
     "data": {
      "application/vnd.jupyter.widget-view+json": {
       "model_id": "c2c4fdf8d98a44079a584aadb8018b22",
       "version_major": 2,
       "version_minor": 0
      },
      "text/plain": [
       "rsut_Amon_CanESM5_piClim-aer_r1i1p2f1...:   0%|          |0.00/16.5M [?B/s]"
      ]
     },
     "metadata": {},
     "output_type": "display_data"
    },
    {
     "name": "stdout",
     "output_type": "stream",
     "text": [
      "\n",
      "Downloading NorESM2-MM.r1i1p1f1.gn ...\n",
      "\n"
     ]
    },
    {
     "data": {
      "application/vnd.jupyter.widget-view+json": {
       "model_id": "e89ea10cf51740aaaf214c75dad3fa9d",
       "version_major": 2,
       "version_minor": 0
      },
      "text/plain": [
       "   Searching indices:   0%|          |0/9 [       ?index/s]"
      ]
     },
     "metadata": {},
     "output_type": "display_data"
    },
    {
     "name": "stderr",
     "output_type": "stream",
     "text": [
      "/home/jovyan/my-conda-envs/cmip6-download/lib/python3.13/site-packages/intake_esgf/catalog.py:450: UserWarning: SolrESGFIndex('esgf-node.ipsl.upmc.fr') failed to return a response, info may be incomplete\n",
      "  warnings.warn(\n",
      "/home/jovyan/my-conda-envs/cmip6-download/lib/python3.13/site-packages/intake_esgf/catalog.py:450: UserWarning: SolrESGFIndex('esgf.ceda.ac.uk') failed to return a response, info may be incomplete\n",
      "  warnings.warn(\n",
      "/home/jovyan/my-conda-envs/cmip6-download/lib/python3.13/site-packages/intake_esgf/catalog.py:450: UserWarning: SolrESGFIndex('esgf-data.dkrz.de') failed to return a response, info may be incomplete\n",
      "  warnings.warn(\n",
      "/home/jovyan/my-conda-envs/cmip6-download/lib/python3.13/site-packages/intake_esgf/catalog.py:450: UserWarning: SolrESGFIndex('esg-dn1.nsc.liu.se') failed to return a response, info may be incomplete\n",
      "  warnings.warn(\n",
      "/home/jovyan/my-conda-envs/cmip6-download/lib/python3.13/site-packages/intake_esgf/catalog.py:450: UserWarning: SolrESGFIndex('esgf-node.ornl.gov') failed to return a response, info may be incomplete\n",
      "  warnings.warn(\n",
      "/home/jovyan/my-conda-envs/cmip6-download/lib/python3.13/site-packages/intake_esgf/catalog.py:450: UserWarning: SolrESGFIndex('esgf-node.llnl.gov') failed to return a response, info may be incomplete\n",
      "  warnings.warn(\n",
      "/home/jovyan/my-conda-envs/cmip6-download/lib/python3.13/site-packages/intake_esgf/catalog.py:450: UserWarning: SolrESGFIndex('esgf.nci.org.au') failed to return a response, info may be incomplete\n",
      "  warnings.warn(\n"
     ]
    },
    {
     "data": {
      "application/vnd.jupyter.widget-view+json": {
       "model_id": "05c4acdcc3864ed7aace86299260f760",
       "version_major": 2,
       "version_minor": 0
      },
      "text/plain": [
       "rsds_Amon_NorESM2-MM_piClim-aer_r1i1p...:   0%|          |0.00/18.0M [?B/s]"
      ]
     },
     "metadata": {},
     "output_type": "display_data"
    },
    {
     "data": {
      "application/vnd.jupyter.widget-view+json": {
       "model_id": "787c295a6828402ab16c4d33c0155fb1",
       "version_major": 2,
       "version_minor": 0
      },
      "text/plain": [
       "rsdscs_Amon_NorESM2-MM_piClim-aer_r1i...:   0%|          |0.00/15.0M [?B/s]"
      ]
     },
     "metadata": {},
     "output_type": "display_data"
    },
    {
     "data": {
      "application/vnd.jupyter.widget-view+json": {
       "model_id": "a0b6bcc8f26b4df48a441495ddd14734",
       "version_major": 2,
       "version_minor": 0
      },
      "text/plain": [
       "rsut_Amon_NorESM2-MM_piClim-aer_r1i1p...:   0%|          |0.00/18.1M [?B/s]"
      ]
     },
     "metadata": {},
     "output_type": "display_data"
    },
    {
     "data": {
      "application/vnd.jupyter.widget-view+json": {
       "model_id": "5686f574545148eab0e517f2014874dd",
       "version_major": 2,
       "version_minor": 0
      },
      "text/plain": [
       "clt_Amon_NorESM2-MM_piClim-aer_r1i1p1...:   0%|          |0.00/19.1M [?B/s]"
      ]
     },
     "metadata": {},
     "output_type": "display_data"
    },
    {
     "data": {
      "application/vnd.jupyter.widget-view+json": {
       "model_id": "b7bc6aa8dcba4bd49294e871c19301d5",
       "version_major": 2,
       "version_minor": 0
      },
      "text/plain": [
       "rsuscs_Amon_NorESM2-MM_piClim-aer_r1i...:   0%|          |0.00/15.4M [?B/s]"
      ]
     },
     "metadata": {},
     "output_type": "display_data"
    },
    {
     "data": {
      "application/vnd.jupyter.widget-view+json": {
       "model_id": "952c74319b8241db9333623a930cf3b2",
       "version_major": 2,
       "version_minor": 0
      },
      "text/plain": [
       "rsds_Amon_NorESM2-MM_piClim-control_r...:   0%|          |0.00/18.0M [?B/s]"
      ]
     },
     "metadata": {},
     "output_type": "display_data"
    },
    {
     "data": {
      "application/vnd.jupyter.widget-view+json": {
       "model_id": "84597e343b5345ce84767ef52d4b4cab",
       "version_major": 2,
       "version_minor": 0
      },
      "text/plain": [
       "rsuscs_Amon_NorESM2-MM_piClim-control...:   0%|          |0.00/15.4M [?B/s]"
      ]
     },
     "metadata": {},
     "output_type": "display_data"
    },
    {
     "data": {
      "application/vnd.jupyter.widget-view+json": {
       "model_id": "2742e3c7bdc54ab7a483236bb36d91e7",
       "version_major": 2,
       "version_minor": 0
      },
      "text/plain": [
       "rsdt_Amon_NorESM2-MM_piClim-aer_r1i1p...:   0%|          |0.00/12.1M [?B/s]"
      ]
     },
     "metadata": {},
     "output_type": "display_data"
    },
    {
     "data": {
      "application/vnd.jupyter.widget-view+json": {
       "model_id": "cc60e865f7a340d8a5c9b51d47a058ce",
       "version_major": 2,
       "version_minor": 0
      },
      "text/plain": [
       "rsdscs_Amon_NorESM2-MM_piClim-aer_r1i...:   0%|          |0.00/15.0M [?B/s]"
      ]
     },
     "metadata": {},
     "output_type": "display_data"
    },
    {
     "data": {
      "application/vnd.jupyter.widget-view+json": {
       "model_id": "7619e8f55eaf4dc0b54e33e2edc0214d",
       "version_major": 2,
       "version_minor": 0
      },
      "text/plain": [
       "rsdt_Amon_NorESM2-MM_piClim-aer_r1i1p...:   0%|          |0.00/12.1M [?B/s]"
      ]
     },
     "metadata": {},
     "output_type": "display_data"
    },
    {
     "data": {
      "application/vnd.jupyter.widget-view+json": {
       "model_id": "d1aa514922c7493bb80ff1cfc7fb6339",
       "version_major": 2,
       "version_minor": 0
      },
      "text/plain": [
       "rsus_Amon_NorESM2-MM_piClim-aer_r1i1p...:   0%|          |0.00/17.2M [?B/s]"
      ]
     },
     "metadata": {},
     "output_type": "display_data"
    },
    {
     "data": {
      "application/vnd.jupyter.widget-view+json": {
       "model_id": "9b0cac2ca95a4c86b9589a35d7d7b464",
       "version_major": 2,
       "version_minor": 0
      },
      "text/plain": [
       "clt_Amon_NorESM2-MM_piClim-control_r1...:   0%|          |0.00/19.1M [?B/s]"
      ]
     },
     "metadata": {},
     "output_type": "display_data"
    },
    {
     "data": {
      "application/vnd.jupyter.widget-view+json": {
       "model_id": "b6054fc3143d40aaaf383af62472c51d",
       "version_major": 2,
       "version_minor": 0
      },
      "text/plain": [
       "rsut_Amon_NorESM2-MM_piClim-control_r...:   0%|          |0.00/18.1M [?B/s]"
      ]
     },
     "metadata": {},
     "output_type": "display_data"
    },
    {
     "data": {
      "application/vnd.jupyter.widget-view+json": {
       "model_id": "37c2fdbc43d54e9796495ca980e5dc7f",
       "version_major": 2,
       "version_minor": 0
      },
      "text/plain": [
       "rsdscs_Amon_NorESM2-MM_piClim-control...:   0%|          |0.00/14.9M [?B/s]"
      ]
     },
     "metadata": {},
     "output_type": "display_data"
    },
    {
     "data": {
      "application/vnd.jupyter.widget-view+json": {
       "model_id": "412f1bf428d14b47a881c519f6c9abf8",
       "version_major": 2,
       "version_minor": 0
      },
      "text/plain": [
       "rsuscs_Amon_NorESM2-MM_piClim-aer_r1i...:   0%|          |0.00/15.4M [?B/s]"
      ]
     },
     "metadata": {},
     "output_type": "display_data"
    },
    {
     "data": {
      "application/vnd.jupyter.widget-view+json": {
       "model_id": "5e6d792e6c5b401ba83063199dbb1dff",
       "version_major": 2,
       "version_minor": 0
      },
      "text/plain": [
       "clt_Amon_NorESM2-MM_piClim-aer_r1i1p1...:   0%|          |0.00/19.1M [?B/s]"
      ]
     },
     "metadata": {},
     "output_type": "display_data"
    },
    {
     "data": {
      "application/vnd.jupyter.widget-view+json": {
       "model_id": "e1753fd23e544808babac1f281ee6fc7",
       "version_major": 2,
       "version_minor": 0
      },
      "text/plain": [
       "rsds_Amon_NorESM2-MM_piClim-control_r...:   0%|          |0.00/18.0M [?B/s]"
      ]
     },
     "metadata": {},
     "output_type": "display_data"
    },
    {
     "data": {
      "application/vnd.jupyter.widget-view+json": {
       "model_id": "7f454d52a85546f88689f19d23f629d9",
       "version_major": 2,
       "version_minor": 0
      },
      "text/plain": [
       "rsdt_Amon_NorESM2-MM_piClim-aer_r1i1p...:   0%|          |0.00/12.1M [?B/s]"
      ]
     },
     "metadata": {},
     "output_type": "display_data"
    },
    {
     "data": {
      "application/vnd.jupyter.widget-view+json": {
       "model_id": "bdfc628c3c0342ee9a2a85d9a36b6635",
       "version_major": 2,
       "version_minor": 0
      },
      "text/plain": [
       "rsus_Amon_NorESM2-MM_piClim-aer_r1i1p...:   0%|          |0.00/17.2M [?B/s]"
      ]
     },
     "metadata": {},
     "output_type": "display_data"
    },
    {
     "data": {
      "application/vnd.jupyter.widget-view+json": {
       "model_id": "cd0438e6cab44c199cd5a9793d2bfaa7",
       "version_major": 2,
       "version_minor": 0
      },
      "text/plain": [
       "rsuscs_Amon_NorESM2-MM_piClim-aer_r1i...:   0%|          |0.00/15.4M [?B/s]"
      ]
     },
     "metadata": {},
     "output_type": "display_data"
    },
    {
     "data": {
      "application/vnd.jupyter.widget-view+json": {
       "model_id": "32fca8527a914744b42d0dfe3e2cce9e",
       "version_major": 2,
       "version_minor": 0
      },
      "text/plain": [
       "rsds_Amon_NorESM2-MM_piClim-control_r...:   0%|          |0.00/18.0M [?B/s]"
      ]
     },
     "metadata": {},
     "output_type": "display_data"
    },
    {
     "data": {
      "application/vnd.jupyter.widget-view+json": {
       "model_id": "61cdfc783f574987b2764b0c966b9a65",
       "version_major": 2,
       "version_minor": 0
      },
      "text/plain": [
       "rsdscs_Amon_NorESM2-MM_piClim-control...:   0%|          |0.00/14.9M [?B/s]"
      ]
     },
     "metadata": {},
     "output_type": "display_data"
    },
    {
     "data": {
      "application/vnd.jupyter.widget-view+json": {
       "model_id": "3e06fdb28eb54e1dbfcded71764e99dc",
       "version_major": 2,
       "version_minor": 0
      },
      "text/plain": [
       "rsdscs_Amon_NorESM2-MM_piClim-control...:   0%|          |0.00/14.9M [?B/s]"
      ]
     },
     "metadata": {},
     "output_type": "display_data"
    },
    {
     "data": {
      "application/vnd.jupyter.widget-view+json": {
       "model_id": "147974b91baf4b1ea3884175084a6042",
       "version_major": 2,
       "version_minor": 0
      },
      "text/plain": [
       "rsdt_Amon_NorESM2-MM_piClim-control_r...:   0%|          |0.00/12.1M [?B/s]"
      ]
     },
     "metadata": {},
     "output_type": "display_data"
    },
    {
     "data": {
      "application/vnd.jupyter.widget-view+json": {
       "model_id": "17dd81d11ada46438c948d3fbd5b21a7",
       "version_major": 2,
       "version_minor": 0
      },
      "text/plain": [
       "rsus_Amon_NorESM2-MM_piClim-aer_r1i1p...:   0%|          |0.00/17.2M [?B/s]"
      ]
     },
     "metadata": {},
     "output_type": "display_data"
    },
    {
     "data": {
      "application/vnd.jupyter.widget-view+json": {
       "model_id": "8200bbef7d96400c9c966b29d8cf973e",
       "version_major": 2,
       "version_minor": 0
      },
      "text/plain": [
       "rsds_Amon_NorESM2-MM_piClim-aer_r1i1p...:   0%|          |0.00/18.0M [?B/s]"
      ]
     },
     "metadata": {},
     "output_type": "display_data"
    },
    {
     "data": {
      "application/vnd.jupyter.widget-view+json": {
       "model_id": "f594c7412dfc4bd59d46f91abf9ec421",
       "version_major": 2,
       "version_minor": 0
      },
      "text/plain": [
       "rsutcs_Amon_NorESM2-MM_piClim-aer_r1i...:   0%|          |0.00/15.8M [?B/s]"
      ]
     },
     "metadata": {},
     "output_type": "display_data"
    },
    {
     "data": {
      "application/vnd.jupyter.widget-view+json": {
       "model_id": "ccc0b3292fd64c92a1e7913c6af393ce",
       "version_major": 2,
       "version_minor": 0
      },
      "text/plain": [
       "rsutcs_Amon_NorESM2-MM_piClim-aer_r1i...:   0%|          |0.00/15.8M [?B/s]"
      ]
     },
     "metadata": {},
     "output_type": "display_data"
    },
    {
     "data": {
      "application/vnd.jupyter.widget-view+json": {
       "model_id": "1b1d2c847cbb402cb4239289124959b0",
       "version_major": 2,
       "version_minor": 0
      },
      "text/plain": [
       "rsus_Amon_NorESM2-MM_piClim-control_r...:   0%|          |0.00/17.2M [?B/s]"
      ]
     },
     "metadata": {},
     "output_type": "display_data"
    },
    {
     "data": {
      "application/vnd.jupyter.widget-view+json": {
       "model_id": "35cd428275c249bd83c774680e6d86a6",
       "version_major": 2,
       "version_minor": 0
      },
      "text/plain": [
       "clt_Amon_NorESM2-MM_piClim-control_r1...:   0%|          |0.00/19.1M [?B/s]"
      ]
     },
     "metadata": {},
     "output_type": "display_data"
    },
    {
     "data": {
      "application/vnd.jupyter.widget-view+json": {
       "model_id": "0aae335f668a45c6a636c316ec87fdd8",
       "version_major": 2,
       "version_minor": 0
      },
      "text/plain": [
       "rsdt_Amon_NorESM2-MM_piClim-control_r...:   0%|          |0.00/12.1M [?B/s]"
      ]
     },
     "metadata": {},
     "output_type": "display_data"
    },
    {
     "data": {
      "application/vnd.jupyter.widget-view+json": {
       "model_id": "319dca39064849a6a71e4e51aba9e107",
       "version_major": 2,
       "version_minor": 0
      },
      "text/plain": [
       "rsutcs_Amon_NorESM2-MM_piClim-control...:   0%|          |0.00/15.7M [?B/s]"
      ]
     },
     "metadata": {},
     "output_type": "display_data"
    },
    {
     "data": {
      "application/vnd.jupyter.widget-view+json": {
       "model_id": "0842c0ad356e43f4b8a29d33502f87e5",
       "version_major": 2,
       "version_minor": 0
      },
      "text/plain": [
       "clt_Amon_NorESM2-MM_piClim-aer_r1i1p1...:   0%|          |0.00/19.1M [?B/s]"
      ]
     },
     "metadata": {},
     "output_type": "display_data"
    },
    {
     "data": {
      "application/vnd.jupyter.widget-view+json": {
       "model_id": "091e8e5428c74f7ca0d68757995959e4",
       "version_major": 2,
       "version_minor": 0
      },
      "text/plain": [
       "rsus_Amon_NorESM2-MM_piClim-control_r...:   0%|          |0.00/17.2M [?B/s]"
      ]
     },
     "metadata": {},
     "output_type": "display_data"
    },
    {
     "data": {
      "application/vnd.jupyter.widget-view+json": {
       "model_id": "700419877e8b4ea597f56f1ba63fda1c",
       "version_major": 2,
       "version_minor": 0
      },
      "text/plain": [
       "rsut_Amon_NorESM2-MM_piClim-aer_r1i1p...:   0%|          |0.00/18.1M [?B/s]"
      ]
     },
     "metadata": {},
     "output_type": "display_data"
    },
    {
     "data": {
      "application/vnd.jupyter.widget-view+json": {
       "model_id": "5f537a86de484d7fade76afff0ba8a0a",
       "version_major": 2,
       "version_minor": 0
      },
      "text/plain": [
       "rsut_Amon_NorESM2-MM_piClim-aer_r1i1p...:   0%|          |0.00/18.1M [?B/s]"
      ]
     },
     "metadata": {},
     "output_type": "display_data"
    },
    {
     "data": {
      "application/vnd.jupyter.widget-view+json": {
       "model_id": "69d4fdfd3c834279ae0b9ee8a810628b",
       "version_major": 2,
       "version_minor": 0
      },
      "text/plain": [
       "clt_Amon_NorESM2-MM_piClim-control_r1...:   0%|          |0.00/19.1M [?B/s]"
      ]
     },
     "metadata": {},
     "output_type": "display_data"
    },
    {
     "data": {
      "application/vnd.jupyter.widget-view+json": {
       "model_id": "2b75a309a445483797a20e9c2907c655",
       "version_major": 2,
       "version_minor": 0
      },
      "text/plain": [
       "rsutcs_Amon_NorESM2-MM_piClim-control...:   0%|          |0.00/15.7M [?B/s]"
      ]
     },
     "metadata": {},
     "output_type": "display_data"
    },
    {
     "data": {
      "application/vnd.jupyter.widget-view+json": {
       "model_id": "7631d868b9544b4a9e1cd1158c6da962",
       "version_major": 2,
       "version_minor": 0
      },
      "text/plain": [
       "rsdscs_Amon_NorESM2-MM_piClim-aer_r1i...:   0%|          |0.00/15.0M [?B/s]"
      ]
     },
     "metadata": {},
     "output_type": "display_data"
    },
    {
     "data": {
      "application/vnd.jupyter.widget-view+json": {
       "model_id": "e46ee36cc830499a89533275483ea208",
       "version_major": 2,
       "version_minor": 0
      },
      "text/plain": [
       "rsus_Amon_NorESM2-MM_piClim-control_r...:   0%|          |0.00/17.2M [?B/s]"
      ]
     },
     "metadata": {},
     "output_type": "display_data"
    },
    {
     "data": {
      "application/vnd.jupyter.widget-view+json": {
       "model_id": "19bba1a8403e42fda2d3e609bb960934",
       "version_major": 2,
       "version_minor": 0
      },
      "text/plain": [
       "rsuscs_Amon_NorESM2-MM_piClim-control...:   0%|          |0.00/15.4M [?B/s]"
      ]
     },
     "metadata": {},
     "output_type": "display_data"
    },
    {
     "data": {
      "application/vnd.jupyter.widget-view+json": {
       "model_id": "17c6b8d6a8be4fb28ce2c2a00fb66f42",
       "version_major": 2,
       "version_minor": 0
      },
      "text/plain": [
       "rsut_Amon_NorESM2-MM_piClim-control_r...:   0%|          |0.00/18.1M [?B/s]"
      ]
     },
     "metadata": {},
     "output_type": "display_data"
    },
    {
     "data": {
      "application/vnd.jupyter.widget-view+json": {
       "model_id": "f229d7a86ec240ad8169c423ef4b518b",
       "version_major": 2,
       "version_minor": 0
      },
      "text/plain": [
       "rsut_Amon_NorESM2-MM_piClim-control_r...:   0%|          |0.00/18.1M [?B/s]"
      ]
     },
     "metadata": {},
     "output_type": "display_data"
    },
    {
     "data": {
      "application/vnd.jupyter.widget-view+json": {
       "model_id": "902826ce2119467ca498b054311fc6a2",
       "version_major": 2,
       "version_minor": 0
      },
      "text/plain": [
       "rsds_Amon_NorESM2-MM_piClim-aer_r1i1p...:   0%|          |0.00/18.1M [?B/s]"
      ]
     },
     "metadata": {},
     "output_type": "display_data"
    },
    {
     "data": {
      "application/vnd.jupyter.widget-view+json": {
       "model_id": "5db66edbddb241acaddf4051bf9ae8ef",
       "version_major": 2,
       "version_minor": 0
      },
      "text/plain": [
       "rsutcs_Amon_NorESM2-MM_piClim-aer_r1i...:   0%|          |0.00/15.8M [?B/s]"
      ]
     },
     "metadata": {},
     "output_type": "display_data"
    },
    {
     "data": {
      "application/vnd.jupyter.widget-view+json": {
       "model_id": "75572c84251b49898ad6d912c33a9005",
       "version_major": 2,
       "version_minor": 0
      },
      "text/plain": [
       "rsdt_Amon_NorESM2-MM_piClim-control_r...:   0%|          |0.00/12.1M [?B/s]"
      ]
     },
     "metadata": {},
     "output_type": "display_data"
    },
    {
     "data": {
      "application/vnd.jupyter.widget-view+json": {
       "model_id": "ef752377f3204f189016077d54580bd6",
       "version_major": 2,
       "version_minor": 0
      },
      "text/plain": [
       "rsutcs_Amon_NorESM2-MM_piClim-control...:   0%|          |0.00/15.7M [?B/s]"
      ]
     },
     "metadata": {},
     "output_type": "display_data"
    },
    {
     "data": {
      "application/vnd.jupyter.widget-view+json": {
       "model_id": "eeba792dd97545cab23877f26209a9da",
       "version_major": 2,
       "version_minor": 0
      },
      "text/plain": [
       "rsuscs_Amon_NorESM2-MM_piClim-control...:   0%|          |0.00/15.4M [?B/s]"
      ]
     },
     "metadata": {},
     "output_type": "display_data"
    },
    {
     "data": {
      "application/vnd.jupyter.widget-view+json": {
       "model_id": "a62990f4d7f9470e8824c515cfd9a411",
       "version_major": 2,
       "version_minor": 0
      },
      "text/plain": [
       "rsutcs_Amon_NorESM2-MM_piClim-aer_r1i...:   0%|          |0.00/15.8M [?B/s]"
      ]
     },
     "metadata": {},
     "output_type": "display_data"
    },
    {
     "name": "stdout",
     "output_type": "stream",
     "text": [
      "\n",
      "Downloading MRI-ESM2-0.r1i1p1f1.gn ...\n",
      "\n"
     ]
    },
    {
     "data": {
      "application/vnd.jupyter.widget-view+json": {
       "model_id": "a80d1b0a400b42d5b4c1a90cdfb9cb28",
       "version_major": 2,
       "version_minor": 0
      },
      "text/plain": [
       "   Searching indices:   0%|          |0/9 [       ?index/s]"
      ]
     },
     "metadata": {},
     "output_type": "display_data"
    },
    {
     "name": "stderr",
     "output_type": "stream",
     "text": [
      "/home/jovyan/my-conda-envs/cmip6-download/lib/python3.13/site-packages/intake_esgf/catalog.py:450: UserWarning: SolrESGFIndex('esgf-node.ipsl.upmc.fr') failed to return a response, info may be incomplete\n",
      "  warnings.warn(\n",
      "/home/jovyan/my-conda-envs/cmip6-download/lib/python3.13/site-packages/intake_esgf/catalog.py:450: UserWarning: SolrESGFIndex('esgf-data.dkrz.de') failed to return a response, info may be incomplete\n",
      "  warnings.warn(\n",
      "/home/jovyan/my-conda-envs/cmip6-download/lib/python3.13/site-packages/intake_esgf/catalog.py:450: UserWarning: SolrESGFIndex('esgf.ceda.ac.uk') failed to return a response, info may be incomplete\n",
      "  warnings.warn(\n",
      "/home/jovyan/my-conda-envs/cmip6-download/lib/python3.13/site-packages/intake_esgf/catalog.py:450: UserWarning: SolrESGFIndex('esg-dn1.nsc.liu.se') failed to return a response, info may be incomplete\n",
      "  warnings.warn(\n",
      "/home/jovyan/my-conda-envs/cmip6-download/lib/python3.13/site-packages/intake_esgf/catalog.py:450: UserWarning: SolrESGFIndex('esgf-node.ornl.gov') failed to return a response, info may be incomplete\n",
      "  warnings.warn(\n",
      "/home/jovyan/my-conda-envs/cmip6-download/lib/python3.13/site-packages/intake_esgf/catalog.py:450: UserWarning: SolrESGFIndex('esgf-node.llnl.gov') failed to return a response, info may be incomplete\n",
      "  warnings.warn(\n",
      "/home/jovyan/my-conda-envs/cmip6-download/lib/python3.13/site-packages/intake_esgf/catalog.py:450: UserWarning: SolrESGFIndex('esgf.nci.org.au') failed to return a response, info may be incomplete\n",
      "  warnings.warn(\n"
     ]
    },
    {
     "data": {
      "application/vnd.jupyter.widget-view+json": {
       "model_id": "bf21faa1d84b4c788a218a39f7763c76",
       "version_major": 2,
       "version_minor": 0
      },
      "text/plain": [
       "rsuscs_Amon_MRI-ESM2-0_piClim-control...:   0%|          |0.00/1.63M [?B/s]"
      ]
     },
     "metadata": {},
     "output_type": "display_data"
    },
    {
     "data": {
      "application/vnd.jupyter.widget-view+json": {
       "model_id": "af7f84d423b7403f8b690f1c9d09fbed",
       "version_major": 2,
       "version_minor": 0
      },
      "text/plain": [
       "rsds_Amon_MRI-ESM2-0_piClim-control_r...:   0%|          |0.00/1.69M [?B/s]"
      ]
     },
     "metadata": {},
     "output_type": "display_data"
    },
    {
     "data": {
      "application/vnd.jupyter.widget-view+json": {
       "model_id": "6eb17ec900cf479eaf78f6e4cdbde998",
       "version_major": 2,
       "version_minor": 0
      },
      "text/plain": [
       "rsdscs_Amon_MRI-ESM2-0_piClim-control...:   0%|          |0.00/42.0M [?B/s]"
      ]
     },
     "metadata": {},
     "output_type": "display_data"
    },
    {
     "data": {
      "application/vnd.jupyter.widget-view+json": {
       "model_id": "6fb0e8114d514ea792f53e3b53b45ba2",
       "version_major": 2,
       "version_minor": 0
      },
      "text/plain": [
       "rsdt_Amon_MRI-ESM2-0_piClim-control_r...:   0%|          |0.00/8.73M [?B/s]"
      ]
     },
     "metadata": {},
     "output_type": "display_data"
    },
    {
     "data": {
      "application/vnd.jupyter.widget-view+json": {
       "model_id": "8ab8b262b203460ca4a397d4188fac11",
       "version_major": 2,
       "version_minor": 0
      },
      "text/plain": [
       "rsdt_Amon_MRI-ESM2-0_piClim-aer_r1i1p...:   0%|          |0.00/347k [?B/s]"
      ]
     },
     "metadata": {},
     "output_type": "display_data"
    },
    {
     "data": {
      "application/vnd.jupyter.widget-view+json": {
       "model_id": "c173ebc2dd91409e83b6776a93f34b74",
       "version_major": 2,
       "version_minor": 0
      },
      "text/plain": [
       "rsus_Amon_MRI-ESM2-0_piClim-aer_r1i1p...:   0%|          |0.00/51.2M [?B/s]"
      ]
     },
     "metadata": {},
     "output_type": "display_data"
    },
    {
     "data": {
      "application/vnd.jupyter.widget-view+json": {
       "model_id": "c8ea4a29fd3344b5b735043636d2ecc6",
       "version_major": 2,
       "version_minor": 0
      },
      "text/plain": [
       "clt_Amon_MRI-ESM2-0_piClim-control_r1...:   0%|          |0.00/53.5M [?B/s]"
      ]
     },
     "metadata": {},
     "output_type": "display_data"
    },
    {
     "data": {
      "application/vnd.jupyter.widget-view+json": {
       "model_id": "e1e128ac6229460982b7fd9327ffb88b",
       "version_major": 2,
       "version_minor": 0
      },
      "text/plain": [
       "rsutcs_Amon_MRI-ESM2-0_piClim-control...:   0%|          |0.00/45.8M [?B/s]"
      ]
     },
     "metadata": {},
     "output_type": "display_data"
    },
    {
     "data": {
      "application/vnd.jupyter.widget-view+json": {
       "model_id": "ded3c8fcfeda48aa8152cca1ac09e03a",
       "version_major": 2,
       "version_minor": 0
      },
      "text/plain": [
       "rsut_Amon_MRI-ESM2-0_piClim-aer_r1i1p...:   0%|          |0.00/1.74M [?B/s]"
      ]
     },
     "metadata": {},
     "output_type": "display_data"
    },
    {
     "data": {
      "application/vnd.jupyter.widget-view+json": {
       "model_id": "fe882f416be8496a8aa211c20e1ca662",
       "version_major": 2,
       "version_minor": 0
      },
      "text/plain": [
       "rsds_Amon_MRI-ESM2-0_piClim-aer_r1i1p...:   0%|          |0.00/49.1M [?B/s]"
      ]
     },
     "metadata": {},
     "output_type": "display_data"
    },
    {
     "data": {
      "application/vnd.jupyter.widget-view+json": {
       "model_id": "07beab5c3c01440cbc6686392eada3af",
       "version_major": 2,
       "version_minor": 0
      },
      "text/plain": [
       "rsut_Amon_MRI-ESM2-0_piClim-aer_r1i1p...:   0%|          |0.00/50.4M [?B/s]"
      ]
     },
     "metadata": {},
     "output_type": "display_data"
    },
    {
     "data": {
      "application/vnd.jupyter.widget-view+json": {
       "model_id": "e2a4511acf684b44b74f9e1339f339ac",
       "version_major": 2,
       "version_minor": 0
      },
      "text/plain": [
       "rsutcs_Amon_MRI-ESM2-0_piClim-aer_r1i...:   0%|          |0.00/46.0M [?B/s]"
      ]
     },
     "metadata": {},
     "output_type": "display_data"
    },
    {
     "data": {
      "application/vnd.jupyter.widget-view+json": {
       "model_id": "9bd06c6ddbaf4831b20da329d072e960",
       "version_major": 2,
       "version_minor": 0
      },
      "text/plain": [
       "rsut_Amon_MRI-ESM2-0_piClim-control_r...:   0%|          |0.00/50.4M [?B/s]"
      ]
     },
     "metadata": {},
     "output_type": "display_data"
    },
    {
     "data": {
      "application/vnd.jupyter.widget-view+json": {
       "model_id": "17c2b6e0dcd24949bf7b0f31e0d00765",
       "version_major": 2,
       "version_minor": 0
      },
      "text/plain": [
       "rsutcs_Amon_MRI-ESM2-0_piClim-aer_r1i...:   0%|          |0.00/1.59M [?B/s]"
      ]
     },
     "metadata": {},
     "output_type": "display_data"
    },
    {
     "data": {
      "application/vnd.jupyter.widget-view+json": {
       "model_id": "37105204e01f489ba85e610c6cef95a8",
       "version_major": 2,
       "version_minor": 0
      },
      "text/plain": [
       "rsdt_Amon_MRI-ESM2-0_piClim-control_r...:   0%|          |0.00/347k [?B/s]"
      ]
     },
     "metadata": {},
     "output_type": "display_data"
    },
    {
     "data": {
      "application/vnd.jupyter.widget-view+json": {
       "model_id": "6278861613a04ca894be2faa64f20589",
       "version_major": 2,
       "version_minor": 0
      },
      "text/plain": [
       "rsds_Amon_MRI-ESM2-0_piClim-control_r...:   0%|          |0.00/48.9M [?B/s]"
      ]
     },
     "metadata": {},
     "output_type": "display_data"
    },
    {
     "data": {
      "application/vnd.jupyter.widget-view+json": {
       "model_id": "6aba31043909409193299b36e4b86b08",
       "version_major": 2,
       "version_minor": 0
      },
      "text/plain": [
       "rsdscs_Amon_MRI-ESM2-0_piClim-aer_r1i...:   0%|          |0.00/42.3M [?B/s]"
      ]
     },
     "metadata": {},
     "output_type": "display_data"
    },
    {
     "data": {
      "application/vnd.jupyter.widget-view+json": {
       "model_id": "a344e52bb3cd4ff5aa240183f7edff27",
       "version_major": 2,
       "version_minor": 0
      },
      "text/plain": [
       "rsdscs_Amon_MRI-ESM2-0_piClim-control...:   0%|          |0.00/1.46M [?B/s]"
      ]
     },
     "metadata": {},
     "output_type": "display_data"
    },
    {
     "data": {
      "application/vnd.jupyter.widget-view+json": {
       "model_id": "b64fc2340c2944629de64a82bdd15fd8",
       "version_major": 2,
       "version_minor": 0
      },
      "text/plain": [
       "rsus_Amon_MRI-ESM2-0_piClim-control_r...:   0%|          |0.00/51.1M [?B/s]"
      ]
     },
     "metadata": {},
     "output_type": "display_data"
    },
    {
     "data": {
      "application/vnd.jupyter.widget-view+json": {
       "model_id": "3ee38e80120a4b829286c3f4100f3e6b",
       "version_major": 2,
       "version_minor": 0
      },
      "text/plain": [
       "rsuscs_Amon_MRI-ESM2-0_piClim-control...:   0%|          |0.00/47.2M [?B/s]"
      ]
     },
     "metadata": {},
     "output_type": "display_data"
    },
    {
     "data": {
      "application/vnd.jupyter.widget-view+json": {
       "model_id": "57e9ebf7946a4cd88dfef0d7ddacd4d0",
       "version_major": 2,
       "version_minor": 0
      },
      "text/plain": [
       "clt_Amon_MRI-ESM2-0_piClim-aer_r1i1p1...:   0%|          |0.00/1.84M [?B/s]"
      ]
     },
     "metadata": {},
     "output_type": "display_data"
    },
    {
     "data": {
      "application/vnd.jupyter.widget-view+json": {
       "model_id": "5e728b0eae2749879b12d2767e7da5d2",
       "version_major": 2,
       "version_minor": 0
      },
      "text/plain": [
       "rsus_Amon_MRI-ESM2-0_piClim-aer_r1i1p...:   0%|          |0.00/1.76M [?B/s]"
      ]
     },
     "metadata": {},
     "output_type": "display_data"
    },
    {
     "data": {
      "application/vnd.jupyter.widget-view+json": {
       "model_id": "7d46ddea0f60414296da26d58523507d",
       "version_major": 2,
       "version_minor": 0
      },
      "text/plain": [
       "rsuscs_Amon_MRI-ESM2-0_piClim-aer_r1i...:   0%|          |0.00/47.3M [?B/s]"
      ]
     },
     "metadata": {},
     "output_type": "display_data"
    },
    {
     "data": {
      "application/vnd.jupyter.widget-view+json": {
       "model_id": "314a8510a6dd4491868b502a66aa74b3",
       "version_major": 2,
       "version_minor": 0
      },
      "text/plain": [
       "rsuscs_Amon_MRI-ESM2-0_piClim-aer_r1i...:   0%|          |0.00/1.63M [?B/s]"
      ]
     },
     "metadata": {},
     "output_type": "display_data"
    },
    {
     "data": {
      "application/vnd.jupyter.widget-view+json": {
       "model_id": "377c59e2c17545a3a5fd52ec8d8cd7e0",
       "version_major": 2,
       "version_minor": 0
      },
      "text/plain": [
       "rsds_Amon_MRI-ESM2-0_piClim-aer_r1i1p...:   0%|          |0.00/1.69M [?B/s]"
      ]
     },
     "metadata": {},
     "output_type": "display_data"
    },
    {
     "data": {
      "application/vnd.jupyter.widget-view+json": {
       "model_id": "e9da6ad779994072bba040f5ef117d3b",
       "version_major": 2,
       "version_minor": 0
      },
      "text/plain": [
       "clt_Amon_MRI-ESM2-0_piClim-aer_r1i1p1...:   0%|          |0.00/53.4M [?B/s]"
      ]
     },
     "metadata": {},
     "output_type": "display_data"
    },
    {
     "data": {
      "application/vnd.jupyter.widget-view+json": {
       "model_id": "0045716cf1a444b099924408472c2ca4",
       "version_major": 2,
       "version_minor": 0
      },
      "text/plain": [
       "rsus_Amon_MRI-ESM2-0_piClim-control_r...:   0%|          |0.00/1.76M [?B/s]"
      ]
     },
     "metadata": {},
     "output_type": "display_data"
    },
    {
     "data": {
      "application/vnd.jupyter.widget-view+json": {
       "model_id": "53c07085f9ca4d4e83262700247cbb07",
       "version_major": 2,
       "version_minor": 0
      },
      "text/plain": [
       "rsut_Amon_MRI-ESM2-0_piClim-control_r...:   0%|          |0.00/1.74M [?B/s]"
      ]
     },
     "metadata": {},
     "output_type": "display_data"
    },
    {
     "data": {
      "application/vnd.jupyter.widget-view+json": {
       "model_id": "37c982693b4e475893809a3317e5ca74",
       "version_major": 2,
       "version_minor": 0
      },
      "text/plain": [
       "clt_Amon_MRI-ESM2-0_piClim-control_r1...:   0%|          |0.00/1.84M [?B/s]"
      ]
     },
     "metadata": {},
     "output_type": "display_data"
    },
    {
     "data": {
      "application/vnd.jupyter.widget-view+json": {
       "model_id": "c1df5365cc1248f88ef1cdde90bc49c2",
       "version_major": 2,
       "version_minor": 0
      },
      "text/plain": [
       "rsdscs_Amon_MRI-ESM2-0_piClim-aer_r1i...:   0%|          |0.00/1.47M [?B/s]"
      ]
     },
     "metadata": {},
     "output_type": "display_data"
    },
    {
     "data": {
      "application/vnd.jupyter.widget-view+json": {
       "model_id": "1c55a1749815480dbd7ef403c85055fd",
       "version_major": 2,
       "version_minor": 0
      },
      "text/plain": [
       "rsutcs_Amon_MRI-ESM2-0_piClim-control...:   0%|          |0.00/1.58M [?B/s]"
      ]
     },
     "metadata": {},
     "output_type": "display_data"
    },
    {
     "data": {
      "application/vnd.jupyter.widget-view+json": {
       "model_id": "d1da2bd09ccf45ac898b636f5cdf3707",
       "version_major": 2,
       "version_minor": 0
      },
      "text/plain": [
       "rsdt_Amon_MRI-ESM2-0_piClim-aer_r1i1p...:   0%|          |0.00/8.73M [?B/s]"
      ]
     },
     "metadata": {},
     "output_type": "display_data"
    },
    {
     "name": "stdout",
     "output_type": "stream",
     "text": [
      "\n",
      "Downloading ACCESS-ESM1-5.r1i1p1f1.gn ...\n",
      "\n"
     ]
    },
    {
     "data": {
      "application/vnd.jupyter.widget-view+json": {
       "model_id": "a56d0ac634a642fea08598533b591248",
       "version_major": 2,
       "version_minor": 0
      },
      "text/plain": [
       "   Searching indices:   0%|          |0/9 [       ?index/s]"
      ]
     },
     "metadata": {},
     "output_type": "display_data"
    },
    {
     "name": "stderr",
     "output_type": "stream",
     "text": [
      "/home/jovyan/my-conda-envs/cmip6-download/lib/python3.13/site-packages/intake_esgf/catalog.py:450: UserWarning: SolrESGFIndex('esgf.ceda.ac.uk') failed to return a response, info may be incomplete\n",
      "  warnings.warn(\n",
      "/home/jovyan/my-conda-envs/cmip6-download/lib/python3.13/site-packages/intake_esgf/catalog.py:450: UserWarning: SolrESGFIndex('esgf-data.dkrz.de') failed to return a response, info may be incomplete\n",
      "  warnings.warn(\n",
      "/home/jovyan/my-conda-envs/cmip6-download/lib/python3.13/site-packages/intake_esgf/catalog.py:450: UserWarning: SolrESGFIndex('esgf-node.ipsl.upmc.fr') failed to return a response, info may be incomplete\n",
      "  warnings.warn(\n",
      "/home/jovyan/my-conda-envs/cmip6-download/lib/python3.13/site-packages/intake_esgf/catalog.py:450: UserWarning: SolrESGFIndex('esg-dn1.nsc.liu.se') failed to return a response, info may be incomplete\n",
      "  warnings.warn(\n",
      "/home/jovyan/my-conda-envs/cmip6-download/lib/python3.13/site-packages/intake_esgf/catalog.py:450: UserWarning: SolrESGFIndex('esgf-node.ornl.gov') failed to return a response, info may be incomplete\n",
      "  warnings.warn(\n",
      "/home/jovyan/my-conda-envs/cmip6-download/lib/python3.13/site-packages/intake_esgf/catalog.py:450: UserWarning: SolrESGFIndex('esgf-node.llnl.gov') failed to return a response, info may be incomplete\n",
      "  warnings.warn(\n",
      "/home/jovyan/my-conda-envs/cmip6-download/lib/python3.13/site-packages/intake_esgf/catalog.py:450: UserWarning: SolrESGFIndex('esgf.nci.org.au') failed to return a response, info may be incomplete\n",
      "  warnings.warn(\n"
     ]
    },
    {
     "data": {
      "application/vnd.jupyter.widget-view+json": {
       "model_id": "93d670bc8e8c49d99f03b9c917a82000",
       "version_major": 2,
       "version_minor": 0
      },
      "text/plain": [
       "rsuscs_Amon_ACCESS-ESM1-5_piClim-aer_...:   0%|          |0.00/32.4M [?B/s]"
      ]
     },
     "metadata": {},
     "output_type": "display_data"
    },
    {
     "data": {
      "application/vnd.jupyter.widget-view+json": {
       "model_id": "cf10668a6f6d4e1688175e4f655e88b3",
       "version_major": 2,
       "version_minor": 0
      },
      "text/plain": [
       "rsut_Amon_ACCESS-ESM1-5_piClim-contro...:   0%|          |0.00/32.5M [?B/s]"
      ]
     },
     "metadata": {},
     "output_type": "display_data"
    },
    {
     "data": {
      "application/vnd.jupyter.widget-view+json": {
       "model_id": "dcab214eb3484f278525fa40a06d6923",
       "version_major": 2,
       "version_minor": 0
      },
      "text/plain": [
       "rsus_Amon_ACCESS-ESM1-5_piClim-contro...:   0%|          |0.00/31.4M [?B/s]"
      ]
     },
     "metadata": {},
     "output_type": "display_data"
    },
    {
     "data": {
      "application/vnd.jupyter.widget-view+json": {
       "model_id": "760c039a0f29432b90ef776bdd0ceda3",
       "version_major": 2,
       "version_minor": 0
      },
      "text/plain": [
       "rsutcs_Amon_ACCESS-ESM1-5_piClim-aer_...:   0%|          |0.00/31.9M [?B/s]"
      ]
     },
     "metadata": {},
     "output_type": "display_data"
    },
    {
     "data": {
      "application/vnd.jupyter.widget-view+json": {
       "model_id": "d9db2ff2a0c04cfcbb3c918c847b40bb",
       "version_major": 2,
       "version_minor": 0
      },
      "text/plain": [
       "rsut_Amon_ACCESS-ESM1-5_piClim-aer_r1...:   0%|          |0.00/32.5M [?B/s]"
      ]
     },
     "metadata": {},
     "output_type": "display_data"
    },
    {
     "data": {
      "application/vnd.jupyter.widget-view+json": {
       "model_id": "4553ecce82894054801186b59bba9c31",
       "version_major": 2,
       "version_minor": 0
      },
      "text/plain": [
       "rsdscs_Amon_ACCESS-ESM1-5_piClim-aer_...:   0%|          |0.00/31.3M [?B/s]"
      ]
     },
     "metadata": {},
     "output_type": "display_data"
    },
    {
     "data": {
      "application/vnd.jupyter.widget-view+json": {
       "model_id": "099e2770c4bf4118a37b70f3244eff87",
       "version_major": 2,
       "version_minor": 0
      },
      "text/plain": [
       "rsdt_Amon_ACCESS-ESM1-5_piClim-aer_r1...:   0%|          |0.00/549k [?B/s]"
      ]
     },
     "metadata": {},
     "output_type": "display_data"
    },
    {
     "data": {
      "application/vnd.jupyter.widget-view+json": {
       "model_id": "48a2eb44af89456eb1d6128d2bf2be2a",
       "version_major": 2,
       "version_minor": 0
      },
      "text/plain": [
       "clt_Amon_ACCESS-ESM1-5_piClim-control...:   0%|          |0.00/34.1M [?B/s]"
      ]
     },
     "metadata": {},
     "output_type": "display_data"
    },
    {
     "data": {
      "application/vnd.jupyter.widget-view+json": {
       "model_id": "03ef39d3f64c4c09bf6ca2a12ebc036e",
       "version_major": 2,
       "version_minor": 0
      },
      "text/plain": [
       "clt_Amon_ACCESS-ESM1-5_piClim-aer_r1i...:   0%|          |0.00/34.1M [?B/s]"
      ]
     },
     "metadata": {},
     "output_type": "display_data"
    },
    {
     "data": {
      "application/vnd.jupyter.widget-view+json": {
       "model_id": "772a3b66b70d41828957ff23d0898b26",
       "version_major": 2,
       "version_minor": 0
      },
      "text/plain": [
       "rsus_Amon_ACCESS-ESM1-5_piClim-aer_r1...:   0%|          |0.00/31.4M [?B/s]"
      ]
     },
     "metadata": {},
     "output_type": "display_data"
    },
    {
     "data": {
      "application/vnd.jupyter.widget-view+json": {
       "model_id": "4df25eba311047e6b3eda70ebd044743",
       "version_major": 2,
       "version_minor": 0
      },
      "text/plain": [
       "rsds_Amon_ACCESS-ESM1-5_piClim-contro...:   0%|          |0.00/32.4M [?B/s]"
      ]
     },
     "metadata": {},
     "output_type": "display_data"
    },
    {
     "data": {
      "application/vnd.jupyter.widget-view+json": {
       "model_id": "456cc2c3367c4ccf84e1480e10149fe8",
       "version_major": 2,
       "version_minor": 0
      },
      "text/plain": [
       "rsdt_Amon_ACCESS-ESM1-5_piClim-contro...:   0%|          |0.00/549k [?B/s]"
      ]
     },
     "metadata": {},
     "output_type": "display_data"
    },
    {
     "data": {
      "application/vnd.jupyter.widget-view+json": {
       "model_id": "6aaee15c88654c86982d4393beb0e884",
       "version_major": 2,
       "version_minor": 0
      },
      "text/plain": [
       "rsdscs_Amon_ACCESS-ESM1-5_piClim-cont...:   0%|          |0.00/31.3M [?B/s]"
      ]
     },
     "metadata": {},
     "output_type": "display_data"
    },
    {
     "data": {
      "application/vnd.jupyter.widget-view+json": {
       "model_id": "ee0240734b704860910a8c1749458f64",
       "version_major": 2,
       "version_minor": 0
      },
      "text/plain": [
       "rsutcs_Amon_ACCESS-ESM1-5_piClim-cont...:   0%|          |0.00/31.9M [?B/s]"
      ]
     },
     "metadata": {},
     "output_type": "display_data"
    },
    {
     "data": {
      "application/vnd.jupyter.widget-view+json": {
       "model_id": "a613cbb7583c4723adce2b8f7fe4f395",
       "version_major": 2,
       "version_minor": 0
      },
      "text/plain": [
       "rsds_Amon_ACCESS-ESM1-5_piClim-aer_r1...:   0%|          |0.00/32.4M [?B/s]"
      ]
     },
     "metadata": {},
     "output_type": "display_data"
    },
    {
     "data": {
      "application/vnd.jupyter.widget-view+json": {
       "model_id": "3e2fd461a19e4e17b8df3e0c5a67ed9b",
       "version_major": 2,
       "version_minor": 0
      },
      "text/plain": [
       "rsuscs_Amon_ACCESS-ESM1-5_piClim-cont...:   0%|          |0.00/32.4M [?B/s]"
      ]
     },
     "metadata": {},
     "output_type": "display_data"
    },
    {
     "name": "stdout",
     "output_type": "stream",
     "text": [
      "\n",
      "Downloading CESM2.r1i1p1f1.gn ...\n",
      "\n"
     ]
    },
    {
     "data": {
      "application/vnd.jupyter.widget-view+json": {
       "model_id": "7c844248d5d642a88a4295e185a419da",
       "version_major": 2,
       "version_minor": 0
      },
      "text/plain": [
       "   Searching indices:   0%|          |0/9 [       ?index/s]"
      ]
     },
     "metadata": {},
     "output_type": "display_data"
    },
    {
     "name": "stderr",
     "output_type": "stream",
     "text": [
      "/home/jovyan/my-conda-envs/cmip6-download/lib/python3.13/site-packages/intake_esgf/catalog.py:450: UserWarning: SolrESGFIndex('esgf-node.ipsl.upmc.fr') failed to return a response, info may be incomplete\n",
      "  warnings.warn(\n",
      "/home/jovyan/my-conda-envs/cmip6-download/lib/python3.13/site-packages/intake_esgf/catalog.py:450: UserWarning: SolrESGFIndex('esgf.ceda.ac.uk') failed to return a response, info may be incomplete\n",
      "  warnings.warn(\n",
      "/home/jovyan/my-conda-envs/cmip6-download/lib/python3.13/site-packages/intake_esgf/catalog.py:450: UserWarning: SolrESGFIndex('esgf-data.dkrz.de') failed to return a response, info may be incomplete\n",
      "  warnings.warn(\n",
      "/home/jovyan/my-conda-envs/cmip6-download/lib/python3.13/site-packages/intake_esgf/catalog.py:450: UserWarning: SolrESGFIndex('esg-dn1.nsc.liu.se') failed to return a response, info may be incomplete\n",
      "  warnings.warn(\n",
      "/home/jovyan/my-conda-envs/cmip6-download/lib/python3.13/site-packages/intake_esgf/catalog.py:450: UserWarning: SolrESGFIndex('esgf-node.ornl.gov') failed to return a response, info may be incomplete\n",
      "  warnings.warn(\n",
      "/home/jovyan/my-conda-envs/cmip6-download/lib/python3.13/site-packages/intake_esgf/catalog.py:450: UserWarning: SolrESGFIndex('esgf-node.llnl.gov') failed to return a response, info may be incomplete\n",
      "  warnings.warn(\n",
      "/home/jovyan/my-conda-envs/cmip6-download/lib/python3.13/site-packages/intake_esgf/catalog.py:450: UserWarning: SolrESGFIndex('esgf.nci.org.au') failed to return a response, info may be incomplete\n",
      "  warnings.warn(\n"
     ]
    },
    {
     "data": {
      "application/vnd.jupyter.widget-view+json": {
       "model_id": "7121d44afa3848738b68316c4ef84e61",
       "version_major": 2,
       "version_minor": 0
      },
      "text/plain": [
       "rsuscs_Amon_CESM2_piClim-control_r1i1...:   0%|          |0.00/46.7M [?B/s]"
      ]
     },
     "metadata": {},
     "output_type": "display_data"
    },
    {
     "data": {
      "application/vnd.jupyter.widget-view+json": {
       "model_id": "d7bdaa9b5799429ca154eb9649a6a854",
       "version_major": 2,
       "version_minor": 0
      },
      "text/plain": [
       "rsus_Amon_CESM2_piClim-aer_r1i1p1f1_g...:   0%|          |0.00/51.7M [?B/s]"
      ]
     },
     "metadata": {},
     "output_type": "display_data"
    },
    {
     "data": {
      "application/vnd.jupyter.widget-view+json": {
       "model_id": "937e90ab783f430094acff27f1e47c70",
       "version_major": 2,
       "version_minor": 0
      },
      "text/plain": [
       "rsutcs_Amon_CESM2_piClim-control_r1i1...:   0%|          |0.00/47.1M [?B/s]"
      ]
     },
     "metadata": {},
     "output_type": "display_data"
    },
    {
     "data": {
      "application/vnd.jupyter.widget-view+json": {
       "model_id": "ddaf2a84116e478fb5c9b78023bf1fa2",
       "version_major": 2,
       "version_minor": 0
      },
      "text/plain": [
       "rsus_Amon_CESM2_piClim-control_r1i1p1...:   0%|          |0.00/51.6M [?B/s]"
      ]
     },
     "metadata": {},
     "output_type": "display_data"
    },
    {
     "data": {
      "application/vnd.jupyter.widget-view+json": {
       "model_id": "8f14200706e248e6912030f5155216e4",
       "version_major": 2,
       "version_minor": 0
      },
      "text/plain": [
       "clt_Amon_CESM2_piClim-control_r1i1p1f...:   0%|          |0.00/55.8M [?B/s]"
      ]
     },
     "metadata": {},
     "output_type": "display_data"
    },
    {
     "data": {
      "application/vnd.jupyter.widget-view+json": {
       "model_id": "8fc3aab8735945fea51477b3f34eccc0",
       "version_major": 2,
       "version_minor": 0
      },
      "text/plain": [
       "clt_Amon_CESM2_piClim-aer_r1i1p1f1_gn...:   0%|          |0.00/55.7M [?B/s]"
      ]
     },
     "metadata": {},
     "output_type": "display_data"
    },
    {
     "data": {
      "application/vnd.jupyter.widget-view+json": {
       "model_id": "48624f8215224f998353f8b0ffecb012",
       "version_major": 2,
       "version_minor": 0
      },
      "text/plain": [
       "rsut_Amon_CESM2_piClim-aer_r1i1p1f1_g...:   0%|          |0.00/54.2M [?B/s]"
      ]
     },
     "metadata": {},
     "output_type": "display_data"
    },
    {
     "data": {
      "application/vnd.jupyter.widget-view+json": {
       "model_id": "93a8992e122e4b65ac91a6cbf5e9c7a3",
       "version_major": 2,
       "version_minor": 0
      },
      "text/plain": [
       "rsdscs_Amon_CESM2_piClim-aer_r1i1p1f1...:   0%|          |0.00/45.1M [?B/s]"
      ]
     },
     "metadata": {},
     "output_type": "display_data"
    },
    {
     "data": {
      "application/vnd.jupyter.widget-view+json": {
       "model_id": "d38c09df70ce4b5d88619b2030102ab8",
       "version_major": 2,
       "version_minor": 0
      },
      "text/plain": [
       "rsds_Amon_CESM2_piClim-control_r1i1p1...:   0%|          |0.00/53.5M [?B/s]"
      ]
     },
     "metadata": {},
     "output_type": "display_data"
    },
    {
     "data": {
      "application/vnd.jupyter.widget-view+json": {
       "model_id": "4ffd603f544d4f3aaca6e1d48f5f3301",
       "version_major": 2,
       "version_minor": 0
      },
      "text/plain": [
       "rsuscs_Amon_CESM2_piClim-aer_r1i1p1f1...:   0%|          |0.00/46.8M [?B/s]"
      ]
     },
     "metadata": {},
     "output_type": "display_data"
    },
    {
     "data": {
      "application/vnd.jupyter.widget-view+json": {
       "model_id": "68c43de8e5504ca29a2509bead899793",
       "version_major": 2,
       "version_minor": 0
      },
      "text/plain": [
       "rsdt_Amon_CESM2_piClim-aer_r1i1p1f1_g...:   0%|          |0.00/36.7M [?B/s]"
      ]
     },
     "metadata": {},
     "output_type": "display_data"
    },
    {
     "data": {
      "application/vnd.jupyter.widget-view+json": {
       "model_id": "22532598b3f84d67881007641086b368",
       "version_major": 2,
       "version_minor": 0
      },
      "text/plain": [
       "rsutcs_Amon_CESM2_piClim-aer_r1i1p1f1...:   0%|          |0.00/47.1M [?B/s]"
      ]
     },
     "metadata": {},
     "output_type": "display_data"
    },
    {
     "data": {
      "application/vnd.jupyter.widget-view+json": {
       "model_id": "d6bc345f50654a739f9bbee1ca6ec386",
       "version_major": 2,
       "version_minor": 0
      },
      "text/plain": [
       "rsut_Amon_CESM2_piClim-control_r1i1p1...:   0%|          |0.00/54.2M [?B/s]"
      ]
     },
     "metadata": {},
     "output_type": "display_data"
    },
    {
     "data": {
      "application/vnd.jupyter.widget-view+json": {
       "model_id": "3abb76ee2c2f4fa083a3c41fc8a69af3",
       "version_major": 2,
       "version_minor": 0
      },
      "text/plain": [
       "rsdscs_Amon_CESM2_piClim-control_r1i1...:   0%|          |0.00/44.9M [?B/s]"
      ]
     },
     "metadata": {},
     "output_type": "display_data"
    },
    {
     "data": {
      "application/vnd.jupyter.widget-view+json": {
       "model_id": "878dea7d9dd7482d91a51d7567449aca",
       "version_major": 2,
       "version_minor": 0
      },
      "text/plain": [
       "rsdt_Amon_CESM2_piClim-control_r1i1p1...:   0%|          |0.00/36.7M [?B/s]"
      ]
     },
     "metadata": {},
     "output_type": "display_data"
    },
    {
     "data": {
      "application/vnd.jupyter.widget-view+json": {
       "model_id": "d4ac9ad81d4d4cf386f11643d1c6e9f7",
       "version_major": 2,
       "version_minor": 0
      },
      "text/plain": [
       "rsds_Amon_CESM2_piClim-aer_r1i1p1f1_g...:   0%|          |0.00/53.7M [?B/s]"
      ]
     },
     "metadata": {},
     "output_type": "display_data"
    },
    {
     "name": "stdout",
     "output_type": "stream",
     "text": [
      "\n",
      "Downloading HadGEM3-GC31-LL.r1i1p1f3.gn ...\n",
      "\n"
     ]
    },
    {
     "data": {
      "application/vnd.jupyter.widget-view+json": {
       "model_id": "67477e88a9b743fb88da32ba8d4e09d1",
       "version_major": 2,
       "version_minor": 0
      },
      "text/plain": [
       "   Searching indices:   0%|          |0/9 [       ?index/s]"
      ]
     },
     "metadata": {},
     "output_type": "display_data"
    },
    {
     "data": {
      "application/vnd.jupyter.widget-view+json": {
       "model_id": "cf158d4ff2cc487ea1d48650e6ba0ea1",
       "version_major": 2,
       "version_minor": 0
      },
      "text/plain": [
       "clt_Amon_HadGEM3-GC31-LL_piClim-contr...:   0%|          |0.00/23.8M [?B/s]"
      ]
     },
     "metadata": {},
     "output_type": "display_data"
    },
    {
     "data": {
      "application/vnd.jupyter.widget-view+json": {
       "model_id": "b8dd8339f201414ba7110ce703612c7e",
       "version_major": 2,
       "version_minor": 0
      },
      "text/plain": [
       "rsut_Amon_HadGEM3-GC31-LL_piClim-cont...:   0%|          |0.00/27.8M [?B/s]"
      ]
     },
     "metadata": {},
     "output_type": "display_data"
    },
    {
     "data": {
      "application/vnd.jupyter.widget-view+json": {
       "model_id": "13073feccc604e37a177aa743a1d946b",
       "version_major": 2,
       "version_minor": 0
      },
      "text/plain": [
       "rsdscs_Amon_HadGEM3-GC31-LL_piClim-co...:   0%|          |0.00/23.5M [?B/s]"
      ]
     },
     "metadata": {},
     "output_type": "display_data"
    },
    {
     "data": {
      "application/vnd.jupyter.widget-view+json": {
       "model_id": "7bada752f4b84ac280a9a779e87213ff",
       "version_major": 2,
       "version_minor": 0
      },
      "text/plain": [
       "rsds_Amon_HadGEM3-GC31-LL_piClim-cont...:   0%|          |0.00/27.5M [?B/s]"
      ]
     },
     "metadata": {},
     "output_type": "display_data"
    },
    {
     "data": {
      "application/vnd.jupyter.widget-view+json": {
       "model_id": "780d693ba98c4542b0c42699f7f8d179",
       "version_major": 2,
       "version_minor": 0
      },
      "text/plain": [
       "rsuscs_Amon_HadGEM3-GC31-LL_piClim-co...:   0%|          |0.00/26.3M [?B/s]"
      ]
     },
     "metadata": {},
     "output_type": "display_data"
    },
    {
     "data": {
      "application/vnd.jupyter.widget-view+json": {
       "model_id": "a3b11dac3d3949e4b1aae872f0639bba",
       "version_major": 2,
       "version_minor": 0
      },
      "text/plain": [
       "rsus_Amon_HadGEM3-GC31-LL_piClim-cont...:   0%|          |0.00/26.7M [?B/s]"
      ]
     },
     "metadata": {},
     "output_type": "display_data"
    },
    {
     "data": {
      "application/vnd.jupyter.widget-view+json": {
       "model_id": "8a98990519d4478f89b1f2cbcd20a97b",
       "version_major": 2,
       "version_minor": 0
      },
      "text/plain": [
       "clt_Amon_HadGEM3-GC31-LL_piClim-aer_r...:   0%|          |0.00/23.8M [?B/s]"
      ]
     },
     "metadata": {},
     "output_type": "display_data"
    },
    {
     "data": {
      "application/vnd.jupyter.widget-view+json": {
       "model_id": "d229a6c7daf24cf694945ca3b501d91d",
       "version_major": 2,
       "version_minor": 0
      },
      "text/plain": [
       "rsds_Amon_HadGEM3-GC31-LL_piClim-aer_...:   0%|          |0.00/27.6M [?B/s]"
      ]
     },
     "metadata": {},
     "output_type": "display_data"
    },
    {
     "data": {
      "application/vnd.jupyter.widget-view+json": {
       "model_id": "ebd7f7c7bdb9496b8f3af5884d02a756",
       "version_major": 2,
       "version_minor": 0
      },
      "text/plain": [
       "rsdscs_Amon_HadGEM3-GC31-LL_piClim-ae...:   0%|          |0.00/23.7M [?B/s]"
      ]
     },
     "metadata": {},
     "output_type": "display_data"
    },
    {
     "data": {
      "application/vnd.jupyter.widget-view+json": {
       "model_id": "a63cf285028942f48a6851bb9a0d729c",
       "version_major": 2,
       "version_minor": 0
      },
      "text/plain": [
       "rsutcs_Amon_HadGEM3-GC31-LL_piClim-co...:   0%|          |0.00/25.5M [?B/s]"
      ]
     },
     "metadata": {},
     "output_type": "display_data"
    },
    {
     "data": {
      "application/vnd.jupyter.widget-view+json": {
       "model_id": "ff60b4a259264b0d8b42209b365461c3",
       "version_major": 2,
       "version_minor": 0
      },
      "text/plain": [
       "rsdt_Amon_HadGEM3-GC31-LL_piClim-aer_...:   0%|          |0.00/627k [?B/s]"
      ]
     },
     "metadata": {},
     "output_type": "display_data"
    },
    {
     "data": {
      "application/vnd.jupyter.widget-view+json": {
       "model_id": "c836d2a4bcca4d618b8f18f6fc88ae9f",
       "version_major": 2,
       "version_minor": 0
      },
      "text/plain": [
       "rsus_Amon_HadGEM3-GC31-LL_piClim-aer_...:   0%|          |0.00/26.7M [?B/s]"
      ]
     },
     "metadata": {},
     "output_type": "display_data"
    },
    {
     "data": {
      "application/vnd.jupyter.widget-view+json": {
       "model_id": "b6b090bfbedb45ae9f1c4a0d19846f55",
       "version_major": 2,
       "version_minor": 0
      },
      "text/plain": [
       "rsuscs_Amon_HadGEM3-GC31-LL_piClim-ae...:   0%|          |0.00/26.3M [?B/s]"
      ]
     },
     "metadata": {},
     "output_type": "display_data"
    },
    {
     "data": {
      "application/vnd.jupyter.widget-view+json": {
       "model_id": "c75011d66c8e403aa65146d938c7f1e8",
       "version_major": 2,
       "version_minor": 0
      },
      "text/plain": [
       "rsut_Amon_HadGEM3-GC31-LL_piClim-aer_...:   0%|          |0.00/27.8M [?B/s]"
      ]
     },
     "metadata": {},
     "output_type": "display_data"
    },
    {
     "data": {
      "application/vnd.jupyter.widget-view+json": {
       "model_id": "fbc2854d84de4bf1ba7c251f74002b91",
       "version_major": 2,
       "version_minor": 0
      },
      "text/plain": [
       "rsutcs_Amon_HadGEM3-GC31-LL_piClim-ae...:   0%|          |0.00/25.5M [?B/s]"
      ]
     },
     "metadata": {},
     "output_type": "display_data"
    },
    {
     "data": {
      "application/vnd.jupyter.widget-view+json": {
       "model_id": "8edfe58a15cd484889659269c74cad91",
       "version_major": 2,
       "version_minor": 0
      },
      "text/plain": [
       "rsdt_Amon_HadGEM3-GC31-LL_piClim-cont...:   0%|          |0.00/627k [?B/s]"
      ]
     },
     "metadata": {},
     "output_type": "display_data"
    },
    {
     "name": "stdout",
     "output_type": "stream",
     "text": [
      "\n",
      "Downloading MIROC6.r11i1p1f1.gn ...\n",
      "\n"
     ]
    },
    {
     "data": {
      "application/vnd.jupyter.widget-view+json": {
       "model_id": "75b7ee3984294c18b32ec4502c119af2",
       "version_major": 2,
       "version_minor": 0
      },
      "text/plain": [
       "   Searching indices:   0%|          |0/9 [       ?index/s]"
      ]
     },
     "metadata": {},
     "output_type": "display_data"
    },
    {
     "name": "stderr",
     "output_type": "stream",
     "text": [
      "/home/jovyan/my-conda-envs/cmip6-download/lib/python3.13/site-packages/intake_esgf/catalog.py:450: UserWarning: SolrESGFIndex('esgf-node.ipsl.upmc.fr') failed to return a response, info may be incomplete\n",
      "  warnings.warn(\n",
      "/home/jovyan/my-conda-envs/cmip6-download/lib/python3.13/site-packages/intake_esgf/catalog.py:450: UserWarning: SolrESGFIndex('esgf.ceda.ac.uk') failed to return a response, info may be incomplete\n",
      "  warnings.warn(\n",
      "/home/jovyan/my-conda-envs/cmip6-download/lib/python3.13/site-packages/intake_esgf/catalog.py:450: UserWarning: SolrESGFIndex('esgf-data.dkrz.de') failed to return a response, info may be incomplete\n",
      "  warnings.warn(\n",
      "/home/jovyan/my-conda-envs/cmip6-download/lib/python3.13/site-packages/intake_esgf/catalog.py:450: UserWarning: SolrESGFIndex('esg-dn1.nsc.liu.se') failed to return a response, info may be incomplete\n",
      "  warnings.warn(\n",
      "/home/jovyan/my-conda-envs/cmip6-download/lib/python3.13/site-packages/intake_esgf/catalog.py:450: UserWarning: SolrESGFIndex('esgf-node.ornl.gov') failed to return a response, info may be incomplete\n",
      "  warnings.warn(\n",
      "/home/jovyan/my-conda-envs/cmip6-download/lib/python3.13/site-packages/intake_esgf/catalog.py:450: UserWarning: SolrESGFIndex('esgf-node.llnl.gov') failed to return a response, info may be incomplete\n",
      "  warnings.warn(\n",
      "/home/jovyan/my-conda-envs/cmip6-download/lib/python3.13/site-packages/intake_esgf/catalog.py:450: UserWarning: SolrESGFIndex('esgf.nci.org.au') failed to return a response, info may be incomplete\n",
      "  warnings.warn(\n"
     ]
    },
    {
     "data": {
      "application/vnd.jupyter.widget-view+json": {
       "model_id": "fddb6368f2f540c787748744f05d085a",
       "version_major": 2,
       "version_minor": 0
      },
      "text/plain": [
       "rsuscs_Amon_MIROC6_piClim-control_r11...:   0%|          |0.00/31.7M [?B/s]"
      ]
     },
     "metadata": {},
     "output_type": "display_data"
    },
    {
     "data": {
      "application/vnd.jupyter.widget-view+json": {
       "model_id": "764fe6742f5f4154854e80e11d063748",
       "version_major": 2,
       "version_minor": 0
      },
      "text/plain": [
       "rsdscs_Amon_MIROC6_piClim-aer_r11i1p1...:   0%|          |0.00/26.3M [?B/s]"
      ]
     },
     "metadata": {},
     "output_type": "display_data"
    },
    {
     "data": {
      "application/vnd.jupyter.widget-view+json": {
       "model_id": "c6c94fdc94894672aa5bcf3b60b0bda4",
       "version_major": 2,
       "version_minor": 0
      },
      "text/plain": [
       "rsut_Amon_MIROC6_piClim-control_r11i1...:   0%|          |0.00/32.5M [?B/s]"
      ]
     },
     "metadata": {},
     "output_type": "display_data"
    },
    {
     "data": {
      "application/vnd.jupyter.widget-view+json": {
       "model_id": "9db74026e5b448eea348ebb851a606d6",
       "version_major": 2,
       "version_minor": 0
      },
      "text/plain": [
       "rsds_Amon_MIROC6_piClim-control_r11i1...:   0%|          |0.00/32.4M [?B/s]"
      ]
     },
     "metadata": {},
     "output_type": "display_data"
    },
    {
     "data": {
      "application/vnd.jupyter.widget-view+json": {
       "model_id": "4fc7f014600b4d47861e30f7c84c33b9",
       "version_major": 2,
       "version_minor": 0
      },
      "text/plain": [
       "rsds_Amon_MIROC6_piClim-aer_r11i1p1f1...:   0%|          |0.00/32.4M [?B/s]"
      ]
     },
     "metadata": {},
     "output_type": "display_data"
    },
    {
     "data": {
      "application/vnd.jupyter.widget-view+json": {
       "model_id": "caf3ed7dae214295ad4b64351f32115d",
       "version_major": 2,
       "version_minor": 0
      },
      "text/plain": [
       "rsus_Amon_MIROC6_piClim-aer_r11i1p1f1...:   0%|          |0.00/33.0M [?B/s]"
      ]
     },
     "metadata": {},
     "output_type": "display_data"
    },
    {
     "data": {
      "application/vnd.jupyter.widget-view+json": {
       "model_id": "07bf8235d9c04e2e8a4c5c53c5b00e9c",
       "version_major": 2,
       "version_minor": 0
      },
      "text/plain": [
       "rsut_Amon_MIROC6_piClim-aer_r11i1p1f1...:   0%|          |0.00/32.5M [?B/s]"
      ]
     },
     "metadata": {},
     "output_type": "display_data"
    },
    {
     "data": {
      "application/vnd.jupyter.widget-view+json": {
       "model_id": "545187cc256c462186a4821745c81e0e",
       "version_major": 2,
       "version_minor": 0
      },
      "text/plain": [
       "rsdscs_Amon_MIROC6_piClim-control_r11...:   0%|          |0.00/26.2M [?B/s]"
      ]
     },
     "metadata": {},
     "output_type": "display_data"
    },
    {
     "data": {
      "application/vnd.jupyter.widget-view+json": {
       "model_id": "40730445074647e78eb479b9a28a091f",
       "version_major": 2,
       "version_minor": 0
      },
      "text/plain": [
       "clt_Amon_MIROC6_piClim-control_r11i1p...:   0%|          |0.00/34.6M [?B/s]"
      ]
     },
     "metadata": {},
     "output_type": "display_data"
    },
    {
     "data": {
      "application/vnd.jupyter.widget-view+json": {
       "model_id": "874f115bdf4f4e0e8b8c27913d6ae5fe",
       "version_major": 2,
       "version_minor": 0
      },
      "text/plain": [
       "rsus_Amon_MIROC6_piClim-control_r11i1...:   0%|          |0.00/32.9M [?B/s]"
      ]
     },
     "metadata": {},
     "output_type": "display_data"
    },
    {
     "data": {
      "application/vnd.jupyter.widget-view+json": {
       "model_id": "c15b3a3fd4b7453ca316d0605ba84f56",
       "version_major": 2,
       "version_minor": 0
      },
      "text/plain": [
       "rsdt_Amon_MIROC6_piClim-aer_r11i1p1f1...:   0%|          |0.00/12.6M [?B/s]"
      ]
     },
     "metadata": {},
     "output_type": "display_data"
    },
    {
     "data": {
      "application/vnd.jupyter.widget-view+json": {
       "model_id": "baef263b688f4d439feab897f9d9dda4",
       "version_major": 2,
       "version_minor": 0
      },
      "text/plain": [
       "rsuscs_Amon_MIROC6_piClim-aer_r11i1p1...:   0%|          |0.00/31.8M [?B/s]"
      ]
     },
     "metadata": {},
     "output_type": "display_data"
    },
    {
     "data": {
      "application/vnd.jupyter.widget-view+json": {
       "model_id": "a8fbc017b94f4923a31e287b19b57303",
       "version_major": 2,
       "version_minor": 0
      },
      "text/plain": [
       "rsdt_Amon_MIROC6_piClim-control_r11i1...:   0%|          |0.00/12.6M [?B/s]"
      ]
     },
     "metadata": {},
     "output_type": "display_data"
    },
    {
     "data": {
      "application/vnd.jupyter.widget-view+json": {
       "model_id": "e1cfd799bcc94bb9896555638d6cb352",
       "version_major": 2,
       "version_minor": 0
      },
      "text/plain": [
       "rsutcs_Amon_MIROC6_piClim-aer_r11i1p1...:   0%|          |0.00/28.6M [?B/s]"
      ]
     },
     "metadata": {},
     "output_type": "display_data"
    },
    {
     "data": {
      "application/vnd.jupyter.widget-view+json": {
       "model_id": "fd40155809f64a4cad0011e73b9b5995",
       "version_major": 2,
       "version_minor": 0
      },
      "text/plain": [
       "rsutcs_Amon_MIROC6_piClim-control_r11...:   0%|          |0.00/28.5M [?B/s]"
      ]
     },
     "metadata": {},
     "output_type": "display_data"
    },
    {
     "data": {
      "application/vnd.jupyter.widget-view+json": {
       "model_id": "56538d6c972d46789a129016ddc51b59",
       "version_major": 2,
       "version_minor": 0
      },
      "text/plain": [
       "clt_Amon_MIROC6_piClim-aer_r11i1p1f1_...:   0%|          |0.00/34.6M [?B/s]"
      ]
     },
     "metadata": {},
     "output_type": "display_data"
    },
    {
     "name": "stdout",
     "output_type": "stream",
     "text": [
      "\n",
      "Downloading MIROC6.r1i1p1f1.gn ...\n",
      "\n"
     ]
    },
    {
     "data": {
      "application/vnd.jupyter.widget-view+json": {
       "model_id": "29b64fa8bef544b98b67904cb812a7ae",
       "version_major": 2,
       "version_minor": 0
      },
      "text/plain": [
       "   Searching indices:   0%|          |0/9 [       ?index/s]"
      ]
     },
     "metadata": {},
     "output_type": "display_data"
    },
    {
     "name": "stderr",
     "output_type": "stream",
     "text": [
      "/home/jovyan/my-conda-envs/cmip6-download/lib/python3.13/site-packages/intake_esgf/catalog.py:450: UserWarning: SolrESGFIndex('esgf.ceda.ac.uk') failed to return a response, info may be incomplete\n",
      "  warnings.warn(\n",
      "/home/jovyan/my-conda-envs/cmip6-download/lib/python3.13/site-packages/intake_esgf/catalog.py:450: UserWarning: SolrESGFIndex('esgf-node.ipsl.upmc.fr') failed to return a response, info may be incomplete\n",
      "  warnings.warn(\n",
      "/home/jovyan/my-conda-envs/cmip6-download/lib/python3.13/site-packages/intake_esgf/catalog.py:450: UserWarning: SolrESGFIndex('esgf-data.dkrz.de') failed to return a response, info may be incomplete\n",
      "  warnings.warn(\n",
      "/home/jovyan/my-conda-envs/cmip6-download/lib/python3.13/site-packages/intake_esgf/catalog.py:450: UserWarning: SolrESGFIndex('esg-dn1.nsc.liu.se') failed to return a response, info may be incomplete\n",
      "  warnings.warn(\n",
      "/home/jovyan/my-conda-envs/cmip6-download/lib/python3.13/site-packages/intake_esgf/catalog.py:450: UserWarning: SolrESGFIndex('esgf-node.ornl.gov') failed to return a response, info may be incomplete\n",
      "  warnings.warn(\n",
      "/home/jovyan/my-conda-envs/cmip6-download/lib/python3.13/site-packages/intake_esgf/catalog.py:450: UserWarning: SolrESGFIndex('esgf-node.llnl.gov') failed to return a response, info may be incomplete\n",
      "  warnings.warn(\n",
      "/home/jovyan/my-conda-envs/cmip6-download/lib/python3.13/site-packages/intake_esgf/catalog.py:450: UserWarning: SolrESGFIndex('esgf.nci.org.au') failed to return a response, info may be incomplete\n",
      "  warnings.warn(\n"
     ]
    },
    {
     "data": {
      "application/vnd.jupyter.widget-view+json": {
       "model_id": "167cda746bb348688d11700933b082ec",
       "version_major": 2,
       "version_minor": 0
      },
      "text/plain": [
       "rsut_Amon_MIROC6_piClim-aer_r1i1p1f1_...:   0%|          |0.00/32.4M [?B/s]"
      ]
     },
     "metadata": {},
     "output_type": "display_data"
    },
    {
     "data": {
      "application/vnd.jupyter.widget-view+json": {
       "model_id": "08586122068f4628b9e5ebbc55f7e88f",
       "version_major": 2,
       "version_minor": 0
      },
      "text/plain": [
       "rsutcs_Amon_MIROC6_piClim-aer_r1i1p1f...:   0%|          |0.00/28.6M [?B/s]"
      ]
     },
     "metadata": {},
     "output_type": "display_data"
    },
    {
     "data": {
      "application/vnd.jupyter.widget-view+json": {
       "model_id": "63d68250b3c04b0194e54377cfa14e8f",
       "version_major": 2,
       "version_minor": 0
      },
      "text/plain": [
       "clt_Amon_MIROC6_piClim-aer_r1i1p1f1_g...:   0%|          |0.00/34.5M [?B/s]"
      ]
     },
     "metadata": {},
     "output_type": "display_data"
    },
    {
     "data": {
      "application/vnd.jupyter.widget-view+json": {
       "model_id": "a09f1322649948539ec94574688c70b8",
       "version_major": 2,
       "version_minor": 0
      },
      "text/plain": [
       "rsds_Amon_MIROC6_piClim-aer_r1i1p1f1_...:   0%|          |0.00/32.4M [?B/s]"
      ]
     },
     "metadata": {},
     "output_type": "display_data"
    },
    {
     "data": {
      "application/vnd.jupyter.widget-view+json": {
       "model_id": "fb16643da41646928dede6dfb50da6c3",
       "version_major": 2,
       "version_minor": 0
      },
      "text/plain": [
       "rsuscs_Amon_MIROC6_piClim-control_r1i...:   0%|          |0.00/31.7M [?B/s]"
      ]
     },
     "metadata": {},
     "output_type": "display_data"
    },
    {
     "data": {
      "application/vnd.jupyter.widget-view+json": {
       "model_id": "bd5ce4e9758947c085ff1f9ced75e433",
       "version_major": 2,
       "version_minor": 0
      },
      "text/plain": [
       "rsuscs_Amon_MIROC6_piClim-aer_r1i1p1f...:   0%|          |0.00/31.7M [?B/s]"
      ]
     },
     "metadata": {},
     "output_type": "display_data"
    },
    {
     "data": {
      "application/vnd.jupyter.widget-view+json": {
       "model_id": "33b1461433c2463ab9a715579d8f82fc",
       "version_major": 2,
       "version_minor": 0
      },
      "text/plain": [
       "rsdscs_Amon_MIROC6_piClim-control_r1i...:   0%|          |0.00/26.2M [?B/s]"
      ]
     },
     "metadata": {},
     "output_type": "display_data"
    },
    {
     "data": {
      "application/vnd.jupyter.widget-view+json": {
       "model_id": "8d64c50413f2485586467d56036a62b7",
       "version_major": 2,
       "version_minor": 0
      },
      "text/plain": [
       "rsds_Amon_MIROC6_piClim-control_r1i1p...:   0%|          |0.00/32.3M [?B/s]"
      ]
     },
     "metadata": {},
     "output_type": "display_data"
    },
    {
     "data": {
      "application/vnd.jupyter.widget-view+json": {
       "model_id": "d2c48057f2f746fabeec2ae0fca64e52",
       "version_major": 2,
       "version_minor": 0
      },
      "text/plain": [
       "rsus_Amon_MIROC6_piClim-aer_r1i1p1f1_...:   0%|          |0.00/32.9M [?B/s]"
      ]
     },
     "metadata": {},
     "output_type": "display_data"
    },
    {
     "data": {
      "application/vnd.jupyter.widget-view+json": {
       "model_id": "657fbc95d6f445569dd698710a93f52c",
       "version_major": 2,
       "version_minor": 0
      },
      "text/plain": [
       "rsut_Amon_MIROC6_piClim-control_r1i1p...:   0%|          |0.00/32.4M [?B/s]"
      ]
     },
     "metadata": {},
     "output_type": "display_data"
    },
    {
     "data": {
      "application/vnd.jupyter.widget-view+json": {
       "model_id": "f3f2288cba9843ca8221820c0b3e6b65",
       "version_major": 2,
       "version_minor": 0
      },
      "text/plain": [
       "rsutcs_Amon_MIROC6_piClim-control_r1i...:   0%|          |0.00/28.5M [?B/s]"
      ]
     },
     "metadata": {},
     "output_type": "display_data"
    },
    {
     "data": {
      "application/vnd.jupyter.widget-view+json": {
       "model_id": "61bafeeeb27944108e4044dc65a1e5dc",
       "version_major": 2,
       "version_minor": 0
      },
      "text/plain": [
       "rsdscs_Amon_MIROC6_piClim-aer_r1i1p1f...:   0%|          |0.00/26.3M [?B/s]"
      ]
     },
     "metadata": {},
     "output_type": "display_data"
    },
    {
     "data": {
      "application/vnd.jupyter.widget-view+json": {
       "model_id": "4907df0552de44c2b7008a1f61e2f3b5",
       "version_major": 2,
       "version_minor": 0
      },
      "text/plain": [
       "rsdt_Amon_MIROC6_piClim-aer_r1i1p1f1_...:   0%|          |0.00/12.6M [?B/s]"
      ]
     },
     "metadata": {},
     "output_type": "display_data"
    },
    {
     "data": {
      "application/vnd.jupyter.widget-view+json": {
       "model_id": "01c9f74b8db84883bbf1960cf28be4d8",
       "version_major": 2,
       "version_minor": 0
      },
      "text/plain": [
       "clt_Amon_MIROC6_piClim-control_r1i1p1...:   0%|          |0.00/34.5M [?B/s]"
      ]
     },
     "metadata": {},
     "output_type": "display_data"
    },
    {
     "data": {
      "application/vnd.jupyter.widget-view+json": {
       "model_id": "c43bccf3bdb14e62ad96a920d7f6c88b",
       "version_major": 2,
       "version_minor": 0
      },
      "text/plain": [
       "rsdt_Amon_MIROC6_piClim-control_r1i1p...:   0%|          |0.00/12.6M [?B/s]"
      ]
     },
     "metadata": {},
     "output_type": "display_data"
    },
    {
     "data": {
      "application/vnd.jupyter.widget-view+json": {
       "model_id": "8161cd9f141740a283324fb33bef058d",
       "version_major": 2,
       "version_minor": 0
      },
      "text/plain": [
       "rsus_Amon_MIROC6_piClim-control_r1i1p...:   0%|          |0.00/32.9M [?B/s]"
      ]
     },
     "metadata": {},
     "output_type": "display_data"
    },
    {
     "name": "stdout",
     "output_type": "stream",
     "text": [
      "\n",
      "Downloading BCC-ESM1.r1i1p1f1.gn ...\n",
      "\n"
     ]
    },
    {
     "data": {
      "application/vnd.jupyter.widget-view+json": {
       "model_id": "e8e3e19d14634538aaf2d470d2131990",
       "version_major": 2,
       "version_minor": 0
      },
      "text/plain": [
       "   Searching indices:   0%|          |0/9 [       ?index/s]"
      ]
     },
     "metadata": {},
     "output_type": "display_data"
    },
    {
     "name": "stderr",
     "output_type": "stream",
     "text": [
      "/home/jovyan/my-conda-envs/cmip6-download/lib/python3.13/site-packages/intake_esgf/catalog.py:450: UserWarning: SolrESGFIndex('esgf-node.ipsl.upmc.fr') failed to return a response, info may be incomplete\n",
      "  warnings.warn(\n",
      "/home/jovyan/my-conda-envs/cmip6-download/lib/python3.13/site-packages/intake_esgf/catalog.py:450: UserWarning: SolrESGFIndex('esgf.ceda.ac.uk') failed to return a response, info may be incomplete\n",
      "  warnings.warn(\n",
      "/home/jovyan/my-conda-envs/cmip6-download/lib/python3.13/site-packages/intake_esgf/catalog.py:450: UserWarning: SolrESGFIndex('esgf-data.dkrz.de') failed to return a response, info may be incomplete\n",
      "  warnings.warn(\n",
      "/home/jovyan/my-conda-envs/cmip6-download/lib/python3.13/site-packages/intake_esgf/catalog.py:450: UserWarning: SolrESGFIndex('esg-dn1.nsc.liu.se') failed to return a response, info may be incomplete\n",
      "  warnings.warn(\n",
      "/home/jovyan/my-conda-envs/cmip6-download/lib/python3.13/site-packages/intake_esgf/catalog.py:450: UserWarning: SolrESGFIndex('esgf-node.ornl.gov') failed to return a response, info may be incomplete\n",
      "  warnings.warn(\n",
      "/home/jovyan/my-conda-envs/cmip6-download/lib/python3.13/site-packages/intake_esgf/catalog.py:450: UserWarning: SolrESGFIndex('esgf-node.llnl.gov') failed to return a response, info may be incomplete\n",
      "  warnings.warn(\n",
      "/home/jovyan/my-conda-envs/cmip6-download/lib/python3.13/site-packages/intake_esgf/catalog.py:450: UserWarning: SolrESGFIndex('esgf.nci.org.au') failed to return a response, info may be incomplete\n",
      "  warnings.warn(\n"
     ]
    },
    {
     "data": {
      "application/vnd.jupyter.widget-view+json": {
       "model_id": "e1b498e8c86f493abfed0dd90d8e733e",
       "version_major": 2,
       "version_minor": 0
      },
      "text/plain": [
       "rsutcs_Amon_BCC-ESM1_piClim-control_r...:   0%|          |0.00/12.2M [?B/s]"
      ]
     },
     "metadata": {},
     "output_type": "display_data"
    },
    {
     "data": {
      "application/vnd.jupyter.widget-view+json": {
       "model_id": "53b4e96036114a3ca5a87a5639cd3628",
       "version_major": 2,
       "version_minor": 0
      },
      "text/plain": [
       "clt_Amon_BCC-ESM1_piClim-control_r1i1...:   0%|          |0.00/12.2M [?B/s]"
      ]
     },
     "metadata": {},
     "output_type": "display_data"
    },
    {
     "data": {
      "application/vnd.jupyter.widget-view+json": {
       "model_id": "7deff6ae4c74463b87f8b0df10f2508b",
       "version_major": 2,
       "version_minor": 0
      },
      "text/plain": [
       "rsus_Amon_BCC-ESM1_piClim-control_r1i...:   0%|          |0.00/12.2M [?B/s]"
      ]
     },
     "metadata": {},
     "output_type": "display_data"
    },
    {
     "data": {
      "application/vnd.jupyter.widget-view+json": {
       "model_id": "a581a1f52ece4dfb90186e67f9108898",
       "version_major": 2,
       "version_minor": 0
      },
      "text/plain": [
       "clt_Amon_BCC-ESM1_piClim-aer_r1i1p1f1...:   0%|          |0.00/12.2M [?B/s]"
      ]
     },
     "metadata": {},
     "output_type": "display_data"
    },
    {
     "data": {
      "application/vnd.jupyter.widget-view+json": {
       "model_id": "deb3d53c401947b7a5d4151b3f959a90",
       "version_major": 2,
       "version_minor": 0
      },
      "text/plain": [
       "rsutcs_Amon_BCC-ESM1_piClim-aer_r1i1p...:   0%|          |0.00/12.2M [?B/s]"
      ]
     },
     "metadata": {},
     "output_type": "display_data"
    },
    {
     "data": {
      "application/vnd.jupyter.widget-view+json": {
       "model_id": "3323972dd73a44cb8d254dd6e31936f7",
       "version_major": 2,
       "version_minor": 0
      },
      "text/plain": [
       "rsds_Amon_BCC-ESM1_piClim-aer_r1i1p1f...:   0%|          |0.00/12.2M [?B/s]"
      ]
     },
     "metadata": {},
     "output_type": "display_data"
    },
    {
     "data": {
      "application/vnd.jupyter.widget-view+json": {
       "model_id": "92d7129b19b148e69fba5d945943f702",
       "version_major": 2,
       "version_minor": 0
      },
      "text/plain": [
       "rsus_Amon_BCC-ESM1_piClim-aer_r1i1p1f...:   0%|          |0.00/12.2M [?B/s]"
      ]
     },
     "metadata": {},
     "output_type": "display_data"
    },
    {
     "data": {
      "application/vnd.jupyter.widget-view+json": {
       "model_id": "9c0157ba2f02415ea4fb9fa414548f1a",
       "version_major": 2,
       "version_minor": 0
      },
      "text/plain": [
       "rsdt_Amon_BCC-ESM1_piClim-control_r1i...:   0%|          |0.00/12.2M [?B/s]"
      ]
     },
     "metadata": {},
     "output_type": "display_data"
    },
    {
     "data": {
      "application/vnd.jupyter.widget-view+json": {
       "model_id": "00298730a12e49d4819d3a77db4c27b4",
       "version_major": 2,
       "version_minor": 0
      },
      "text/plain": [
       "rsuscs_Amon_BCC-ESM1_piClim-aer_r1i1p...:   0%|          |0.00/12.2M [?B/s]"
      ]
     },
     "metadata": {},
     "output_type": "display_data"
    },
    {
     "data": {
      "application/vnd.jupyter.widget-view+json": {
       "model_id": "94316b4229f04a61abe6ad2f7bd6d408",
       "version_major": 2,
       "version_minor": 0
      },
      "text/plain": [
       "rsdscs_Amon_BCC-ESM1_piClim-aer_r1i1p...:   0%|          |0.00/12.2M [?B/s]"
      ]
     },
     "metadata": {},
     "output_type": "display_data"
    },
    {
     "data": {
      "application/vnd.jupyter.widget-view+json": {
       "model_id": "d703414d0bfa430c8901361af1602c1c",
       "version_major": 2,
       "version_minor": 0
      },
      "text/plain": [
       "rsut_Amon_BCC-ESM1_piClim-aer_r1i1p1f...:   0%|          |0.00/12.2M [?B/s]"
      ]
     },
     "metadata": {},
     "output_type": "display_data"
    },
    {
     "data": {
      "application/vnd.jupyter.widget-view+json": {
       "model_id": "f3b42ecb064640d0bf0cdf4a240ee21a",
       "version_major": 2,
       "version_minor": 0
      },
      "text/plain": [
       "rsdscs_Amon_BCC-ESM1_piClim-control_r...:   0%|          |0.00/12.2M [?B/s]"
      ]
     },
     "metadata": {},
     "output_type": "display_data"
    },
    {
     "data": {
      "application/vnd.jupyter.widget-view+json": {
       "model_id": "2b076be062c242bca985824d7faaee0e",
       "version_major": 2,
       "version_minor": 0
      },
      "text/plain": [
       "rsdt_Amon_BCC-ESM1_piClim-aer_r1i1p1f...:   0%|          |0.00/12.2M [?B/s]"
      ]
     },
     "metadata": {},
     "output_type": "display_data"
    },
    {
     "data": {
      "application/vnd.jupyter.widget-view+json": {
       "model_id": "fbb66f8f5cd9443a94c6afe18822e465",
       "version_major": 2,
       "version_minor": 0
      },
      "text/plain": [
       "rsds_Amon_BCC-ESM1_piClim-control_r1i...:   0%|          |0.00/12.2M [?B/s]"
      ]
     },
     "metadata": {},
     "output_type": "display_data"
    },
    {
     "data": {
      "application/vnd.jupyter.widget-view+json": {
       "model_id": "f5c8d159623d4bc587fe641202126661",
       "version_major": 2,
       "version_minor": 0
      },
      "text/plain": [
       "rsuscs_Amon_BCC-ESM1_piClim-control_r...:   0%|          |0.00/12.2M [?B/s]"
      ]
     },
     "metadata": {},
     "output_type": "display_data"
    },
    {
     "data": {
      "application/vnd.jupyter.widget-view+json": {
       "model_id": "aaaaad523b6b446f870dcde96639b163",
       "version_major": 2,
       "version_minor": 0
      },
      "text/plain": [
       "rsut_Amon_BCC-ESM1_piClim-control_r1i...:   0%|          |0.00/12.2M [?B/s]"
      ]
     },
     "metadata": {},
     "output_type": "display_data"
    },
    {
     "name": "stdout",
     "output_type": "stream",
     "text": [
      "\n",
      "Downloading GFDL-CM4.r1i1p1f1.gr1 ...\n",
      "\n"
     ]
    },
    {
     "data": {
      "application/vnd.jupyter.widget-view+json": {
       "model_id": "24e9377662e94ad2a44e1693e48bb7d2",
       "version_major": 2,
       "version_minor": 0
      },
      "text/plain": [
       "   Searching indices:   0%|          |0/9 [       ?index/s]"
      ]
     },
     "metadata": {},
     "output_type": "display_data"
    },
    {
     "data": {
      "application/vnd.jupyter.widget-view+json": {
       "model_id": "2aa2b133f3f5488486987465db8b905f",
       "version_major": 2,
       "version_minor": 0
      },
      "text/plain": [
       "rsdscs_Amon_GFDL-CM4_piClim-aer_r1i1p...:   0%|          |0.00/43.7M [?B/s]"
      ]
     },
     "metadata": {},
     "output_type": "display_data"
    },
    {
     "data": {
      "application/vnd.jupyter.widget-view+json": {
       "model_id": "897b9be4e1e148699609af0c3fbbb855",
       "version_major": 2,
       "version_minor": 0
      },
      "text/plain": [
       "rsutcs_Amon_GFDL-CM4_piClim-aer_r1i1p...:   0%|          |0.00/47.1M [?B/s]"
      ]
     },
     "metadata": {},
     "output_type": "display_data"
    },
    {
     "data": {
      "application/vnd.jupyter.widget-view+json": {
       "model_id": "ab9d79950c624bee867ec2a64670bd56",
       "version_major": 2,
       "version_minor": 0
      },
      "text/plain": [
       "rsds_Amon_GFDL-CM4_piClim-control_r1i...:   0%|          |0.00/50.3M [?B/s]"
      ]
     },
     "metadata": {},
     "output_type": "display_data"
    },
    {
     "data": {
      "application/vnd.jupyter.widget-view+json": {
       "model_id": "5bd17d7d15c14750a078e660e87acc7b",
       "version_major": 2,
       "version_minor": 0
      },
      "text/plain": [
       "rsuscs_Amon_GFDL-CM4_piClim-aer_r1i1p...:   0%|          |0.00/48.0M [?B/s]"
      ]
     },
     "metadata": {},
     "output_type": "display_data"
    },
    {
     "data": {
      "application/vnd.jupyter.widget-view+json": {
       "model_id": "12c47dbe25b24a209f5b738bfa6dd54a",
       "version_major": 2,
       "version_minor": 0
      },
      "text/plain": [
       "rsdt_Amon_GFDL-CM4_piClim-aer_r1i1p1f...:   0%|          |0.00/36.4M [?B/s]"
      ]
     },
     "metadata": {},
     "output_type": "display_data"
    },
    {
     "data": {
      "application/vnd.jupyter.widget-view+json": {
       "model_id": "13664d887a724929bf5495cb16a6ade5",
       "version_major": 2,
       "version_minor": 0
      },
      "text/plain": [
       "rsut_Amon_GFDL-CM4_piClim-aer_r1i1p1f...:   0%|          |0.00/51.3M [?B/s]"
      ]
     },
     "metadata": {},
     "output_type": "display_data"
    },
    {
     "data": {
      "application/vnd.jupyter.widget-view+json": {
       "model_id": "599171e70f50411ea9ddc59ccbad7004",
       "version_major": 2,
       "version_minor": 0
      },
      "text/plain": [
       "rsdscs_Amon_GFDL-CM4_piClim-control_r...:   0%|          |0.00/43.5M [?B/s]"
      ]
     },
     "metadata": {},
     "output_type": "display_data"
    },
    {
     "data": {
      "application/vnd.jupyter.widget-view+json": {
       "model_id": "8aa439e398a941e49adc6ed96ca35543",
       "version_major": 2,
       "version_minor": 0
      },
      "text/plain": [
       "rsdt_Amon_GFDL-CM4_piClim-control_r1i...:   0%|          |0.00/36.4M [?B/s]"
      ]
     },
     "metadata": {},
     "output_type": "display_data"
    },
    {
     "data": {
      "application/vnd.jupyter.widget-view+json": {
       "model_id": "7d9e6d4c52704a5eb0e492fb280e3c83",
       "version_major": 2,
       "version_minor": 0
      },
      "text/plain": [
       "rsuscs_Amon_GFDL-CM4_piClim-control_r...:   0%|          |0.00/47.9M [?B/s]"
      ]
     },
     "metadata": {},
     "output_type": "display_data"
    },
    {
     "data": {
      "application/vnd.jupyter.widget-view+json": {
       "model_id": "25286da3f6fc4c0589ef0206fcebea2a",
       "version_major": 2,
       "version_minor": 0
      },
      "text/plain": [
       "rsut_Amon_GFDL-CM4_piClim-control_r1i...:   0%|          |0.00/51.4M [?B/s]"
      ]
     },
     "metadata": {},
     "output_type": "display_data"
    },
    {
     "data": {
      "application/vnd.jupyter.widget-view+json": {
       "model_id": "1b44acf38497404481d7293e8af882ce",
       "version_major": 2,
       "version_minor": 0
      },
      "text/plain": [
       "rsutcs_Amon_GFDL-CM4_piClim-control_r...:   0%|          |0.00/47.0M [?B/s]"
      ]
     },
     "metadata": {},
     "output_type": "display_data"
    },
    {
     "data": {
      "application/vnd.jupyter.widget-view+json": {
       "model_id": "8c6db4c90e8844e99e9c8203a3d4ed2d",
       "version_major": 2,
       "version_minor": 0
      },
      "text/plain": [
       "clt_Amon_GFDL-CM4_piClim-aer_r1i1p1f1...:   0%|          |0.00/52.0M [?B/s]"
      ]
     },
     "metadata": {},
     "output_type": "display_data"
    },
    {
     "data": {
      "application/vnd.jupyter.widget-view+json": {
       "model_id": "652dabea898143e2a63dec1a0beaab8f",
       "version_major": 2,
       "version_minor": 0
      },
      "text/plain": [
       "rsus_Amon_GFDL-CM4_piClim-aer_r1i1p1f...:   0%|          |0.00/52.0M [?B/s]"
      ]
     },
     "metadata": {},
     "output_type": "display_data"
    },
    {
     "data": {
      "application/vnd.jupyter.widget-view+json": {
       "model_id": "023c72c0fbdf4ff68d27be4ec89fa2ec",
       "version_major": 2,
       "version_minor": 0
      },
      "text/plain": [
       "rsds_Amon_GFDL-CM4_piClim-aer_r1i1p1f...:   0%|          |0.00/50.4M [?B/s]"
      ]
     },
     "metadata": {},
     "output_type": "display_data"
    },
    {
     "data": {
      "application/vnd.jupyter.widget-view+json": {
       "model_id": "a4896a4581404a1d9fae55a92e31944d",
       "version_major": 2,
       "version_minor": 0
      },
      "text/plain": [
       "clt_Amon_GFDL-CM4_piClim-control_r1i1...:   0%|          |0.00/52.0M [?B/s]"
      ]
     },
     "metadata": {},
     "output_type": "display_data"
    },
    {
     "data": {
      "application/vnd.jupyter.widget-view+json": {
       "model_id": "e2f852feaaea412d88d37c86a88c39c5",
       "version_major": 2,
       "version_minor": 0
      },
      "text/plain": [
       "rsus_Amon_GFDL-CM4_piClim-control_r1i...:   0%|          |0.00/52.0M [?B/s]"
      ]
     },
     "metadata": {},
     "output_type": "display_data"
    },
    {
     "name": "stdout",
     "output_type": "stream",
     "text": [
      "\n",
      "Downloading UKESM1-0-LL.r1i1p1f4.gn ...\n",
      "\n"
     ]
    },
    {
     "data": {
      "application/vnd.jupyter.widget-view+json": {
       "model_id": "4630bb1b70ac4f799999679f272d1399",
       "version_major": 2,
       "version_minor": 0
      },
      "text/plain": [
       "   Searching indices:   0%|          |0/9 [       ?index/s]"
      ]
     },
     "metadata": {},
     "output_type": "display_data"
    },
    {
     "name": "stderr",
     "output_type": "stream",
     "text": [
      "/home/jovyan/my-conda-envs/cmip6-download/lib/python3.13/site-packages/intake_esgf/catalog.py:450: UserWarning: SolrESGFIndex('esgf-data.dkrz.de') failed to return a response, info may be incomplete\n",
      "  warnings.warn(\n",
      "/home/jovyan/my-conda-envs/cmip6-download/lib/python3.13/site-packages/intake_esgf/catalog.py:450: UserWarning: SolrESGFIndex('esgf-node.ipsl.upmc.fr') failed to return a response, info may be incomplete\n",
      "  warnings.warn(\n",
      "/home/jovyan/my-conda-envs/cmip6-download/lib/python3.13/site-packages/intake_esgf/catalog.py:450: UserWarning: SolrESGFIndex('esgf.ceda.ac.uk') failed to return a response, info may be incomplete\n",
      "  warnings.warn(\n",
      "/home/jovyan/my-conda-envs/cmip6-download/lib/python3.13/site-packages/intake_esgf/catalog.py:450: UserWarning: SolrESGFIndex('esg-dn1.nsc.liu.se') failed to return a response, info may be incomplete\n",
      "  warnings.warn(\n",
      "/home/jovyan/my-conda-envs/cmip6-download/lib/python3.13/site-packages/intake_esgf/catalog.py:450: UserWarning: SolrESGFIndex('esgf-node.ornl.gov') failed to return a response, info may be incomplete\n",
      "  warnings.warn(\n",
      "/home/jovyan/my-conda-envs/cmip6-download/lib/python3.13/site-packages/intake_esgf/catalog.py:450: UserWarning: SolrESGFIndex('esgf-node.llnl.gov') failed to return a response, info may be incomplete\n",
      "  warnings.warn(\n",
      "/home/jovyan/my-conda-envs/cmip6-download/lib/python3.13/site-packages/intake_esgf/catalog.py:450: UserWarning: SolrESGFIndex('esgf.nci.org.au') failed to return a response, info may be incomplete\n",
      "  warnings.warn(\n"
     ]
    },
    {
     "data": {
      "application/vnd.jupyter.widget-view+json": {
       "model_id": "f97145b2c9ab461f8ac4ca9e86dc7945",
       "version_major": 2,
       "version_minor": 0
      },
      "text/plain": [
       "rsdscs_Amon_UKESM1-0-LL_piClim-aer_r1...:   0%|          |0.00/35.5M [?B/s]"
      ]
     },
     "metadata": {},
     "output_type": "display_data"
    },
    {
     "data": {
      "application/vnd.jupyter.widget-view+json": {
       "model_id": "77e0803b99e248f59f27bc3c592b7391",
       "version_major": 2,
       "version_minor": 0
      },
      "text/plain": [
       "clt_Amon_UKESM1-0-LL_piClim-aer_r1i1p...:   0%|          |0.00/35.6M [?B/s]"
      ]
     },
     "metadata": {},
     "output_type": "display_data"
    },
    {
     "data": {
      "application/vnd.jupyter.widget-view+json": {
       "model_id": "1f3fd181342a4384b486122dd5fb1959",
       "version_major": 2,
       "version_minor": 0
      },
      "text/plain": [
       "rsdt_Amon_UKESM1-0-LL_piClim-aer_r1i1...:   0%|          |0.00/901k [?B/s]"
      ]
     },
     "metadata": {},
     "output_type": "display_data"
    },
    {
     "data": {
      "application/vnd.jupyter.widget-view+json": {
       "model_id": "640c12e264a34a93972c29f87f848bd2",
       "version_major": 2,
       "version_minor": 0
      },
      "text/plain": [
       "rsus_Amon_UKESM1-0-LL_piClim-aer_r1i1...:   0%|          |0.00/40.1M [?B/s]"
      ]
     },
     "metadata": {},
     "output_type": "display_data"
    },
    {
     "data": {
      "application/vnd.jupyter.widget-view+json": {
       "model_id": "71c03de4b3b64fdfbf0248924977a207",
       "version_major": 2,
       "version_minor": 0
      },
      "text/plain": [
       "rsds_Amon_UKESM1-0-LL_piClim-control_...:   0%|          |0.00/41.3M [?B/s]"
      ]
     },
     "metadata": {},
     "output_type": "display_data"
    },
    {
     "data": {
      "application/vnd.jupyter.widget-view+json": {
       "model_id": "bf4e01abd9224945b39d927fb45f98c7",
       "version_major": 2,
       "version_minor": 0
      },
      "text/plain": [
       "rsut_Amon_UKESM1-0-LL_piClim-control_...:   0%|          |0.00/41.6M [?B/s]"
      ]
     },
     "metadata": {},
     "output_type": "display_data"
    },
    {
     "data": {
      "application/vnd.jupyter.widget-view+json": {
       "model_id": "241f7347cc49444381f4e0db6c20c0d0",
       "version_major": 2,
       "version_minor": 0
      },
      "text/plain": [
       "rsut_Amon_UKESM1-0-LL_piClim-aer_r1i1...:   0%|          |0.00/41.6M [?B/s]"
      ]
     },
     "metadata": {},
     "output_type": "display_data"
    },
    {
     "data": {
      "application/vnd.jupyter.widget-view+json": {
       "model_id": "7049f9bb855b4ce292345b79387de27a",
       "version_major": 2,
       "version_minor": 0
      },
      "text/plain": [
       "rsuscs_Amon_UKESM1-0-LL_piClim-aer_r1...:   0%|          |0.00/39.3M [?B/s]"
      ]
     },
     "metadata": {},
     "output_type": "display_data"
    },
    {
     "data": {
      "application/vnd.jupyter.widget-view+json": {
       "model_id": "916598872fee4dbd81646d7b1e690c7b",
       "version_major": 2,
       "version_minor": 0
      },
      "text/plain": [
       "rsutcs_Amon_UKESM1-0-LL_piClim-aer_r1...:   0%|          |0.00/38.1M [?B/s]"
      ]
     },
     "metadata": {},
     "output_type": "display_data"
    },
    {
     "data": {
      "application/vnd.jupyter.widget-view+json": {
       "model_id": "cf83544589974328bf8c786dd6310a26",
       "version_major": 2,
       "version_minor": 0
      },
      "text/plain": [
       "rsuscs_Amon_UKESM1-0-LL_piClim-contro...:   0%|          |0.00/39.3M [?B/s]"
      ]
     },
     "metadata": {},
     "output_type": "display_data"
    },
    {
     "data": {
      "application/vnd.jupyter.widget-view+json": {
       "model_id": "ccc333237cad4e1b8b3419713a81961d",
       "version_major": 2,
       "version_minor": 0
      },
      "text/plain": [
       "rsdscs_Amon_UKESM1-0-LL_piClim-contro...:   0%|          |0.00/35.3M [?B/s]"
      ]
     },
     "metadata": {},
     "output_type": "display_data"
    },
    {
     "data": {
      "application/vnd.jupyter.widget-view+json": {
       "model_id": "c8dae3fd87584fdaa540e4b4e20570f3",
       "version_major": 2,
       "version_minor": 0
      },
      "text/plain": [
       "rsutcs_Amon_UKESM1-0-LL_piClim-contro...:   0%|          |0.00/38.1M [?B/s]"
      ]
     },
     "metadata": {},
     "output_type": "display_data"
    },
    {
     "data": {
      "application/vnd.jupyter.widget-view+json": {
       "model_id": "1e40ecb935bd4c3995a71673a77fab91",
       "version_major": 2,
       "version_minor": 0
      },
      "text/plain": [
       "rsds_Amon_UKESM1-0-LL_piClim-aer_r1i1...:   0%|          |0.00/41.4M [?B/s]"
      ]
     },
     "metadata": {},
     "output_type": "display_data"
    },
    {
     "data": {
      "application/vnd.jupyter.widget-view+json": {
       "model_id": "d7bfccc3f32d44b7815df4a3f4e6cd20",
       "version_major": 2,
       "version_minor": 0
      },
      "text/plain": [
       "rsdt_Amon_UKESM1-0-LL_piClim-control_...:   0%|          |0.00/901k [?B/s]"
      ]
     },
     "metadata": {},
     "output_type": "display_data"
    },
    {
     "data": {
      "application/vnd.jupyter.widget-view+json": {
       "model_id": "03116a2bf64b4eae9a5d71a447fd9857",
       "version_major": 2,
       "version_minor": 0
      },
      "text/plain": [
       "rsus_Amon_UKESM1-0-LL_piClim-control_...:   0%|          |0.00/40.1M [?B/s]"
      ]
     },
     "metadata": {},
     "output_type": "display_data"
    },
    {
     "data": {
      "application/vnd.jupyter.widget-view+json": {
       "model_id": "aa7291a0d7a44afbb51248a6421cea92",
       "version_major": 2,
       "version_minor": 0
      },
      "text/plain": [
       "clt_Amon_UKESM1-0-LL_piClim-control_r...:   0%|          |0.00/35.6M [?B/s]"
      ]
     },
     "metadata": {},
     "output_type": "display_data"
    },
    {
     "name": "stdout",
     "output_type": "stream",
     "text": [
      "\n",
      "Downloading ACCESS-CM2.r1i1p1f1.gn ...\n",
      "\n"
     ]
    },
    {
     "data": {
      "application/vnd.jupyter.widget-view+json": {
       "model_id": "0200f28f26f44585907949052d13ad23",
       "version_major": 2,
       "version_minor": 0
      },
      "text/plain": [
       "   Searching indices:   0%|          |0/9 [       ?index/s]"
      ]
     },
     "metadata": {},
     "output_type": "display_data"
    },
    {
     "data": {
      "application/vnd.jupyter.widget-view+json": {
       "model_id": "0f37637325944ab7a79864019e76d51c",
       "version_major": 2,
       "version_minor": 0
      },
      "text/plain": [
       "rsut_Amon_ACCESS-CM2_piClim-aer_r1i1p...:   0%|          |0.00/32.5M [?B/s]"
      ]
     },
     "metadata": {},
     "output_type": "display_data"
    },
    {
     "data": {
      "application/vnd.jupyter.widget-view+json": {
       "model_id": "5a61e5676ccd4723aa19bc052fec7cd1",
       "version_major": 2,
       "version_minor": 0
      },
      "text/plain": [
       "rsutcs_Amon_ACCESS-CM2_piClim-aer_r1i...:   0%|          |0.00/32.0M [?B/s]"
      ]
     },
     "metadata": {},
     "output_type": "display_data"
    },
    {
     "data": {
      "application/vnd.jupyter.widget-view+json": {
       "model_id": "df7b0f50ba3846f19b956892ed44a9a0",
       "version_major": 2,
       "version_minor": 0
      },
      "text/plain": [
       "rsdscs_Amon_ACCESS-CM2_piClim-control...:   0%|          |0.00/31.3M [?B/s]"
      ]
     },
     "metadata": {},
     "output_type": "display_data"
    },
    {
     "data": {
      "application/vnd.jupyter.widget-view+json": {
       "model_id": "519b0118cf3a43b3bba96381f08769f7",
       "version_major": 2,
       "version_minor": 0
      },
      "text/plain": [
       "rsuscs_Amon_ACCESS-CM2_piClim-aer_r1i...:   0%|          |0.00/32.4M [?B/s]"
      ]
     },
     "metadata": {},
     "output_type": "display_data"
    },
    {
     "data": {
      "application/vnd.jupyter.widget-view+json": {
       "model_id": "05301eb051384859b6284c304b26e70e",
       "version_major": 2,
       "version_minor": 0
      },
      "text/plain": [
       "rsdscs_Amon_ACCESS-CM2_piClim-aer_r1i...:   0%|          |0.00/31.4M [?B/s]"
      ]
     },
     "metadata": {},
     "output_type": "display_data"
    },
    {
     "data": {
      "application/vnd.jupyter.widget-view+json": {
       "model_id": "a044404e967d4e09979f38402b188ddd",
       "version_major": 2,
       "version_minor": 0
      },
      "text/plain": [
       "rsdt_Amon_ACCESS-CM2_piClim-aer_r1i1p...:   0%|          |0.00/547k [?B/s]"
      ]
     },
     "metadata": {},
     "output_type": "display_data"
    },
    {
     "data": {
      "application/vnd.jupyter.widget-view+json": {
       "model_id": "41c814a00fe44f9e82ba5a22c3d8c515",
       "version_major": 2,
       "version_minor": 0
      },
      "text/plain": [
       "rsuscs_Amon_ACCESS-CM2_piClim-control...:   0%|          |0.00/32.4M [?B/s]"
      ]
     },
     "metadata": {},
     "output_type": "display_data"
    },
    {
     "data": {
      "application/vnd.jupyter.widget-view+json": {
       "model_id": "4035a7c20fd74b509c303b6b8a3630f4",
       "version_major": 2,
       "version_minor": 0
      },
      "text/plain": [
       "rsut_Amon_ACCESS-CM2_piClim-control_r...:   0%|          |0.00/32.5M [?B/s]"
      ]
     },
     "metadata": {},
     "output_type": "display_data"
    },
    {
     "data": {
      "application/vnd.jupyter.widget-view+json": {
       "model_id": "98963183791d45a788dc41b659e83157",
       "version_major": 2,
       "version_minor": 0
      },
      "text/plain": [
       "rsdt_Amon_ACCESS-CM2_piClim-control_r...:   0%|          |0.00/547k [?B/s]"
      ]
     },
     "metadata": {},
     "output_type": "display_data"
    },
    {
     "data": {
      "application/vnd.jupyter.widget-view+json": {
       "model_id": "9ea20ded414541e8b435bf58061dab07",
       "version_major": 2,
       "version_minor": 0
      },
      "text/plain": [
       "clt_Amon_ACCESS-CM2_piClim-aer_r1i1p1...:   0%|          |0.00/26.9M [?B/s]"
      ]
     },
     "metadata": {},
     "output_type": "display_data"
    },
    {
     "data": {
      "application/vnd.jupyter.widget-view+json": {
       "model_id": "96abd1a3e095449681cb9aa3c76f4d3b",
       "version_major": 2,
       "version_minor": 0
      },
      "text/plain": [
       "rsds_Amon_ACCESS-CM2_piClim-aer_r1i1p...:   0%|          |0.00/32.5M [?B/s]"
      ]
     },
     "metadata": {},
     "output_type": "display_data"
    },
    {
     "data": {
      "application/vnd.jupyter.widget-view+json": {
       "model_id": "2cf82ec3687b4b0f856d156bb73f2460",
       "version_major": 2,
       "version_minor": 0
      },
      "text/plain": [
       "rsus_Amon_ACCESS-CM2_piClim-aer_r1i1p...:   0%|          |0.00/31.4M [?B/s]"
      ]
     },
     "metadata": {},
     "output_type": "display_data"
    },
    {
     "data": {
      "application/vnd.jupyter.widget-view+json": {
       "model_id": "437bc3751b7d44248ac89375f0f8001e",
       "version_major": 2,
       "version_minor": 0
      },
      "text/plain": [
       "rsutcs_Amon_ACCESS-CM2_piClim-control...:   0%|          |0.00/32.0M [?B/s]"
      ]
     },
     "metadata": {},
     "output_type": "display_data"
    },
    {
     "data": {
      "application/vnd.jupyter.widget-view+json": {
       "model_id": "f1773995af634b6385635e316d0d372c",
       "version_major": 2,
       "version_minor": 0
      },
      "text/plain": [
       "clt_Amon_ACCESS-CM2_piClim-control_r1...:   0%|          |0.00/26.9M [?B/s]"
      ]
     },
     "metadata": {},
     "output_type": "display_data"
    },
    {
     "data": {
      "application/vnd.jupyter.widget-view+json": {
       "model_id": "eb82b1bc22d74ff6aa9d40e80de2e122",
       "version_major": 2,
       "version_minor": 0
      },
      "text/plain": [
       "rsds_Amon_ACCESS-CM2_piClim-control_r...:   0%|          |0.00/32.5M [?B/s]"
      ]
     },
     "metadata": {},
     "output_type": "display_data"
    },
    {
     "data": {
      "application/vnd.jupyter.widget-view+json": {
       "model_id": "280ff36adefc499198fb36c38d88ae08",
       "version_major": 2,
       "version_minor": 0
      },
      "text/plain": [
       "rsus_Amon_ACCESS-CM2_piClim-control_r...:   0%|          |0.00/31.4M [?B/s]"
      ]
     },
     "metadata": {},
     "output_type": "display_data"
    },
    {
     "name": "stdout",
     "output_type": "stream",
     "text": [
      "\n",
      "Downloading MPI-ESM-1-2-HAM.r1i1p1f1.gn ...\n",
      "\n"
     ]
    },
    {
     "data": {
      "application/vnd.jupyter.widget-view+json": {
       "model_id": "d49e216cf5924cb6b1261d691a7efef7",
       "version_major": 2,
       "version_minor": 0
      },
      "text/plain": [
       "   Searching indices:   0%|          |0/9 [       ?index/s]"
      ]
     },
     "metadata": {},
     "output_type": "display_data"
    },
    {
     "name": "stderr",
     "output_type": "stream",
     "text": [
      "/home/jovyan/my-conda-envs/cmip6-download/lib/python3.13/site-packages/intake_esgf/catalog.py:450: UserWarning: SolrESGFIndex('esgf-node.ipsl.upmc.fr') failed to return a response, info may be incomplete\n",
      "  warnings.warn(\n",
      "/home/jovyan/my-conda-envs/cmip6-download/lib/python3.13/site-packages/intake_esgf/catalog.py:450: UserWarning: SolrESGFIndex('esgf.ceda.ac.uk') failed to return a response, info may be incomplete\n",
      "  warnings.warn(\n",
      "/home/jovyan/my-conda-envs/cmip6-download/lib/python3.13/site-packages/intake_esgf/catalog.py:450: UserWarning: SolrESGFIndex('esgf-data.dkrz.de') failed to return a response, info may be incomplete\n",
      "  warnings.warn(\n",
      "/home/jovyan/my-conda-envs/cmip6-download/lib/python3.13/site-packages/intake_esgf/catalog.py:450: UserWarning: SolrESGFIndex('esg-dn1.nsc.liu.se') failed to return a response, info may be incomplete\n",
      "  warnings.warn(\n",
      "/home/jovyan/my-conda-envs/cmip6-download/lib/python3.13/site-packages/intake_esgf/catalog.py:450: UserWarning: SolrESGFIndex('esgf-node.ornl.gov') failed to return a response, info may be incomplete\n",
      "  warnings.warn(\n",
      "/home/jovyan/my-conda-envs/cmip6-download/lib/python3.13/site-packages/intake_esgf/catalog.py:450: UserWarning: SolrESGFIndex('esgf-node.llnl.gov') failed to return a response, info may be incomplete\n",
      "  warnings.warn(\n",
      "/home/jovyan/my-conda-envs/cmip6-download/lib/python3.13/site-packages/intake_esgf/catalog.py:450: UserWarning: SolrESGFIndex('esgf.nci.org.au') failed to return a response, info may be incomplete\n",
      "  warnings.warn(\n"
     ]
    },
    {
     "data": {
      "application/vnd.jupyter.widget-view+json": {
       "model_id": "ccf07241f9a940bc961cfd0ac5475937",
       "version_major": 2,
       "version_minor": 0
      },
      "text/plain": [
       "clt_Amon_MPI-ESM-1-2-HAM_piClim-aer_r...:   0%|          |0.00/11.9M [?B/s]"
      ]
     },
     "metadata": {},
     "output_type": "display_data"
    },
    {
     "data": {
      "application/vnd.jupyter.widget-view+json": {
       "model_id": "e4e167ae30024528bc8d8b569687be8e",
       "version_major": 2,
       "version_minor": 0
      },
      "text/plain": [
       "rsdt_Amon_MPI-ESM-1-2-HAM_piClim-cont...:   0%|          |0.00/1.25M [?B/s]"
      ]
     },
     "metadata": {},
     "output_type": "display_data"
    },
    {
     "data": {
      "application/vnd.jupyter.widget-view+json": {
       "model_id": "2574d554734c4ec78d72e13425b9189a",
       "version_major": 2,
       "version_minor": 0
      },
      "text/plain": [
       "rsdscs_Amon_MPI-ESM-1-2-HAM_piClim-ae...:   0%|          |0.00/3.19M [?B/s]"
      ]
     },
     "metadata": {},
     "output_type": "display_data"
    },
    {
     "data": {
      "application/vnd.jupyter.widget-view+json": {
       "model_id": "fa941629d5e84d97924ecb1e169ec9b1",
       "version_major": 2,
       "version_minor": 0
      },
      "text/plain": [
       "rsuscs_Amon_MPI-ESM-1-2-HAM_piClim-ae...:   0%|          |0.00/7.19M [?B/s]"
      ]
     },
     "metadata": {},
     "output_type": "display_data"
    },
    {
     "data": {
      "application/vnd.jupyter.widget-view+json": {
       "model_id": "e0688dee740d44779e98b51ce5289a63",
       "version_major": 2,
       "version_minor": 0
      },
      "text/plain": [
       "clt_Amon_MPI-ESM-1-2-HAM_piClim-aer_r...:   0%|          |0.00/5.99M [?B/s]"
      ]
     },
     "metadata": {},
     "output_type": "display_data"
    },
    {
     "data": {
      "application/vnd.jupyter.widget-view+json": {
       "model_id": "c90bb62da1c6476f8be656fca0cf4aa4",
       "version_major": 2,
       "version_minor": 0
      },
      "text/plain": [
       "rsut_Amon_MPI-ESM-1-2-HAM_piClim-cont...:   0%|          |0.00/4.37M [?B/s]"
      ]
     },
     "metadata": {},
     "output_type": "display_data"
    },
    {
     "data": {
      "application/vnd.jupyter.widget-view+json": {
       "model_id": "7d61dc197a8f4830bc11d6447e39c986",
       "version_major": 2,
       "version_minor": 0
      },
      "text/plain": [
       "rsuscs_Amon_MPI-ESM-1-2-HAM_piClim-ae...:   0%|          |0.00/3.62M [?B/s]"
      ]
     },
     "metadata": {},
     "output_type": "display_data"
    },
    {
     "data": {
      "application/vnd.jupyter.widget-view+json": {
       "model_id": "782ef4e5ec354cc695dccafd00969397",
       "version_major": 2,
       "version_minor": 0
      },
      "text/plain": [
       "rsut_Amon_MPI-ESM-1-2-HAM_piClim-aer_...:   0%|          |0.00/4.36M [?B/s]"
      ]
     },
     "metadata": {},
     "output_type": "display_data"
    },
    {
     "data": {
      "application/vnd.jupyter.widget-view+json": {
       "model_id": "cf518ea2f6d349d1b2d0e895283ebbf3",
       "version_major": 2,
       "version_minor": 0
      },
      "text/plain": [
       "clt_Amon_MPI-ESM-1-2-HAM_piClim-contr...:   0%|          |0.00/11.9M [?B/s]"
      ]
     },
     "metadata": {},
     "output_type": "display_data"
    },
    {
     "data": {
      "application/vnd.jupyter.widget-view+json": {
       "model_id": "8ec2c1488d6f4a4aa63337f4ab30fcff",
       "version_major": 2,
       "version_minor": 0
      },
      "text/plain": [
       "rsus_Amon_MPI-ESM-1-2-HAM_piClim-aer_...:   0%|          |0.00/4.14M [?B/s]"
      ]
     },
     "metadata": {},
     "output_type": "display_data"
    },
    {
     "data": {
      "application/vnd.jupyter.widget-view+json": {
       "model_id": "59e650f9adb94467a40423f67da0a6cf",
       "version_major": 2,
       "version_minor": 0
      },
      "text/plain": [
       "rsdt_Amon_MPI-ESM-1-2-HAM_piClim-aer_...:   0%|          |0.00/2.44M [?B/s]"
      ]
     },
     "metadata": {},
     "output_type": "display_data"
    },
    {
     "data": {
      "application/vnd.jupyter.widget-view+json": {
       "model_id": "7595c84a1f414a95af961b4fa764a26c",
       "version_major": 2,
       "version_minor": 0
      },
      "text/plain": [
       "rsut_Amon_MPI-ESM-1-2-HAM_piClim-aer_...:   0%|          |0.00/8.71M [?B/s]"
      ]
     },
     "metadata": {},
     "output_type": "display_data"
    },
    {
     "data": {
      "application/vnd.jupyter.widget-view+json": {
       "model_id": "323c496803f34bd78ea308e70beed544",
       "version_major": 2,
       "version_minor": 0
      },
      "text/plain": [
       "rsdt_Amon_MPI-ESM-1-2-HAM_piClim-cont...:   0%|          |0.00/2.44M [?B/s]"
      ]
     },
     "metadata": {},
     "output_type": "display_data"
    },
    {
     "data": {
      "application/vnd.jupyter.widget-view+json": {
       "model_id": "9ffbc6646a554a4aaf72b2d6c91dc2d9",
       "version_major": 2,
       "version_minor": 0
      },
      "text/plain": [
       "rsuscs_Amon_MPI-ESM-1-2-HAM_piClim-co...:   0%|          |0.00/7.17M [?B/s]"
      ]
     },
     "metadata": {},
     "output_type": "display_data"
    },
    {
     "data": {
      "application/vnd.jupyter.widget-view+json": {
       "model_id": "9f2c15a5a7374e85bc2bf15d984d448a",
       "version_major": 2,
       "version_minor": 0
      },
      "text/plain": [
       "rsds_Amon_MPI-ESM-1-2-HAM_piClim-aer_...:   0%|          |0.00/4.46M [?B/s]"
      ]
     },
     "metadata": {},
     "output_type": "display_data"
    },
    {
     "data": {
      "application/vnd.jupyter.widget-view+json": {
       "model_id": "20908d6d4aa648f99e3ab74d4ae06d23",
       "version_major": 2,
       "version_minor": 0
      },
      "text/plain": [
       "rsutcs_Amon_MPI-ESM-1-2-HAM_piClim-ae...:   0%|          |0.00/3.43M [?B/s]"
      ]
     },
     "metadata": {},
     "output_type": "display_data"
    },
    {
     "data": {
      "application/vnd.jupyter.widget-view+json": {
       "model_id": "e097b1e253b54144a99a69b9b705cc7c",
       "version_major": 2,
       "version_minor": 0
      },
      "text/plain": [
       "clt_Amon_MPI-ESM-1-2-HAM_piClim-contr...:   0%|          |0.00/5.99M [?B/s]"
      ]
     },
     "metadata": {},
     "output_type": "display_data"
    },
    {
     "data": {
      "application/vnd.jupyter.widget-view+json": {
       "model_id": "90fb361963ce4f849c66a8b35305b20f",
       "version_major": 2,
       "version_minor": 0
      },
      "text/plain": [
       "rsus_Amon_MPI-ESM-1-2-HAM_piClim-cont...:   0%|          |0.00/8.27M [?B/s]"
      ]
     },
     "metadata": {},
     "output_type": "display_data"
    },
    {
     "data": {
      "application/vnd.jupyter.widget-view+json": {
       "model_id": "897b3df3b29c42079776f3877b600660",
       "version_major": 2,
       "version_minor": 0
      },
      "text/plain": [
       "rsds_Amon_MPI-ESM-1-2-HAM_piClim-aer_...:   0%|          |0.00/8.89M [?B/s]"
      ]
     },
     "metadata": {},
     "output_type": "display_data"
    },
    {
     "data": {
      "application/vnd.jupyter.widget-view+json": {
       "model_id": "f7aec82660964066b5f321381cf552e7",
       "version_major": 2,
       "version_minor": 0
      },
      "text/plain": [
       "rsus_Amon_MPI-ESM-1-2-HAM_piClim-aer_...:   0%|          |0.00/8.27M [?B/s]"
      ]
     },
     "metadata": {},
     "output_type": "display_data"
    },
    {
     "data": {
      "application/vnd.jupyter.widget-view+json": {
       "model_id": "9caa809d07d548129e18e5303fd98043",
       "version_major": 2,
       "version_minor": 0
      },
      "text/plain": [
       "rsdscs_Amon_MPI-ESM-1-2-HAM_piClim-co...:   0%|          |0.00/3.15M [?B/s]"
      ]
     },
     "metadata": {},
     "output_type": "display_data"
    },
    {
     "data": {
      "application/vnd.jupyter.widget-view+json": {
       "model_id": "07c14e536dd843979d45b7d15688e50e",
       "version_major": 2,
       "version_minor": 0
      },
      "text/plain": [
       "rsus_Amon_MPI-ESM-1-2-HAM_piClim-cont...:   0%|          |0.00/4.16M [?B/s]"
      ]
     },
     "metadata": {},
     "output_type": "display_data"
    },
    {
     "data": {
      "application/vnd.jupyter.widget-view+json": {
       "model_id": "03a53bebdf724309a1578355fb534512",
       "version_major": 2,
       "version_minor": 0
      },
      "text/plain": [
       "rsut_Amon_MPI-ESM-1-2-HAM_piClim-cont...:   0%|          |0.00/8.70M [?B/s]"
      ]
     },
     "metadata": {},
     "output_type": "display_data"
    },
    {
     "data": {
      "application/vnd.jupyter.widget-view+json": {
       "model_id": "289174e9da884392b5e9c5d88c39d161",
       "version_major": 2,
       "version_minor": 0
      },
      "text/plain": [
       "rsutcs_Amon_MPI-ESM-1-2-HAM_piClim-ae...:   0%|          |0.00/6.80M [?B/s]"
      ]
     },
     "metadata": {},
     "output_type": "display_data"
    },
    {
     "data": {
      "application/vnd.jupyter.widget-view+json": {
       "model_id": "b8da7a3da6db46af940b31e5c245728a",
       "version_major": 2,
       "version_minor": 0
      },
      "text/plain": [
       "rsutcs_Amon_MPI-ESM-1-2-HAM_piClim-co...:   0%|          |0.00/3.41M [?B/s]"
      ]
     },
     "metadata": {},
     "output_type": "display_data"
    },
    {
     "data": {
      "application/vnd.jupyter.widget-view+json": {
       "model_id": "73eafd991a43424a9158a6ad1f07fec5",
       "version_major": 2,
       "version_minor": 0
      },
      "text/plain": [
       "rsdt_Amon_MPI-ESM-1-2-HAM_piClim-aer_...:   0%|          |0.00/1.25M [?B/s]"
      ]
     },
     "metadata": {},
     "output_type": "display_data"
    },
    {
     "data": {
      "application/vnd.jupyter.widget-view+json": {
       "model_id": "22d463958002403dba876e6b0c2c6e52",
       "version_major": 2,
       "version_minor": 0
      },
      "text/plain": [
       "rsds_Amon_MPI-ESM-1-2-HAM_piClim-cont...:   0%|          |0.00/8.86M [?B/s]"
      ]
     },
     "metadata": {},
     "output_type": "display_data"
    },
    {
     "data": {
      "application/vnd.jupyter.widget-view+json": {
       "model_id": "4ccace55170445b9bd345c484c570c77",
       "version_major": 2,
       "version_minor": 0
      },
      "text/plain": [
       "rsds_Amon_MPI-ESM-1-2-HAM_piClim-cont...:   0%|          |0.00/4.45M [?B/s]"
      ]
     },
     "metadata": {},
     "output_type": "display_data"
    },
    {
     "data": {
      "application/vnd.jupyter.widget-view+json": {
       "model_id": "140cc47bf1eb4c2abbd9519a525781db",
       "version_major": 2,
       "version_minor": 0
      },
      "text/plain": [
       "rsdscs_Amon_MPI-ESM-1-2-HAM_piClim-co...:   0%|          |0.00/6.26M [?B/s]"
      ]
     },
     "metadata": {},
     "output_type": "display_data"
    },
    {
     "data": {
      "application/vnd.jupyter.widget-view+json": {
       "model_id": "266d7737b0dc43c1848f16088742cc35",
       "version_major": 2,
       "version_minor": 0
      },
      "text/plain": [
       "rsuscs_Amon_MPI-ESM-1-2-HAM_piClim-co...:   0%|          |0.00/3.61M [?B/s]"
      ]
     },
     "metadata": {},
     "output_type": "display_data"
    },
    {
     "data": {
      "application/vnd.jupyter.widget-view+json": {
       "model_id": "001d76548359478b9f732d4cec2b14c8",
       "version_major": 2,
       "version_minor": 0
      },
      "text/plain": [
       "rsdscs_Amon_MPI-ESM-1-2-HAM_piClim-ae...:   0%|          |0.00/6.32M [?B/s]"
      ]
     },
     "metadata": {},
     "output_type": "display_data"
    },
    {
     "data": {
      "application/vnd.jupyter.widget-view+json": {
       "model_id": "c2bd6faf16ef49738c0a8db43fbc924e",
       "version_major": 2,
       "version_minor": 0
      },
      "text/plain": [
       "rsutcs_Amon_MPI-ESM-1-2-HAM_piClim-co...:   0%|          |0.00/6.78M [?B/s]"
      ]
     },
     "metadata": {},
     "output_type": "display_data"
    }
   ],
   "source": [
    "# ================ DOWNLOAD EVERY SINGLE OUTPUT ================ #\n",
    "\n",
    "### DOWNLOAD EVERY SINGLE ENTRY AND COMBINE THEM INTO A DICTIONARY ###\n",
    "\n",
    "## Initialize the full dictionary ##\n",
    "\n",
    "full_cmip6_dict = {}\n",
    "\n",
    "## Downloading all the models one entry at a time ##\n",
    "\n",
    "print(\"Downloading and/or loading the data one entry at a time...\\n\")\n",
    "\n",
    "for index in grouped_models_dataframe.index :\n",
    "\n",
    "    ## Reset the catalog ##\n",
    "\n",
    "    catalog = intake_esgf.ESGFCatalog()\n",
    "\n",
    "    ## Generate the associated search criterias ##\n",
    "    \n",
    "    search_criterias_given_row, single_model_name = generate_single_model_search_criterias(\n",
    "        search_facets = search, \n",
    "        grouped_models_dataframe = grouped_models_dataframe,\n",
    "        index = index\n",
    "        )\n",
    "    \n",
    "    ## Generate the single model's output name ##\n",
    "\n",
    "    print(\"\\nDownloading {} ...\\n\".format(single_model_name))\n",
    "\n",
    "    ## Apply the search criterias ##\n",
    "\n",
    "    catalog.search(\n",
    "            **search_criterias_given_row,\n",
    "        )\n",
    "\n",
    "    ## Downloading the output... ##\n",
    "\n",
    "    single_model_dictionary = catalog.to_dataset_dict(\n",
    "            add_measures=False,\n",
    "            ignore_facets=[\"project\",\"mip_era\",\"activtity_drs\", \"institution_id, table_id\",\"grid_label\",\"version\"],\n",
    "            quiet=True,\n",
    "        )\n",
    "    \n",
    "    ## Updating its keys ##\n",
    "\n",
    "    single_model_dictionary = update_single_entry_keys(single_model_dictionary, single_model_name)\n",
    "\n",
    "    ## Updating the full dictionary ##\n",
    "\n",
    "    full_cmip6_dict = full_cmip6_dict | single_model_dictionary"
   ]
  },
  {
   "cell_type": "markdown",
   "id": "ca0ebc1e",
   "metadata": {},
   "source": [
    "### Homemade routine to retrieve the areacella of a given (source_id, member_id, grid_label) tuple only once"
   ]
  },
  {
   "cell_type": "markdown",
   "id": "d1398b16",
   "metadata": {},
   "source": [
    "As we have said in the introduction of this section, the main default of the intake-esgf package when it comes to look for measures is that it does so for every single variable. And this is independent of the fact that our 8 variables fore one experiment would share the same areacella grid. What's more, it always start by looking for our full set of facets which is irrevelant. \n",
    "\n",
    "Indeed, the only three parameters that define areacella are the **source_id**, **member_id** and obviously the **grid_label**. Conveniently enough, we can group our search results according to these three parameters with the *.model_groups* method. In the end, it may be that our experiment won't hold the areacella variable but it does not really matter, we just need to find one. This is the spirit of this routine made to still get areacella but significantly faster. It is worth noting that this method is not useful if you need to import a small number of models and variables as you won't really see the time difference. \n",
    "\n",
    "Let's be sure that we look at all the nodes for this part."
   ]
  },
  {
   "cell_type": "code",
   "execution_count": null,
   "id": "83e379d4",
   "metadata": {},
   "outputs": [],
   "source": [
    "all_indices = True"
   ]
  },
  {
   "cell_type": "code",
   "execution_count": null,
   "id": "b5877905",
   "metadata": {},
   "outputs": [
    {
     "name": "stdout",
     "output_type": "stream",
     "text": [
      "We are looking at all the nodes.\n"
     ]
    }
   ],
   "source": [
    "intake_esgf.conf.set(all_indices=all_indices)\n",
    "\n",
    "if all_indices:\n",
    "\n",
    "    print(\"We are looking at all the nodes.\")\n",
    "\n",
    "else:\n",
    "\n",
    "    print(\"We are only looking at the globus nodes\")"
   ]
  },
  {
   "cell_type": "markdown",
   "id": "e39a808a",
   "metadata": {},
   "source": [
    "Then we apply the following routine to produce the areacella dictionary."
   ]
  },
  {
   "cell_type": "code",
   "execution_count": null,
   "id": "8ff61345",
   "metadata": {},
   "outputs": [
    {
     "name": "stdout",
     "output_type": "stream",
     "text": [
      "\n",
      "Downloading areacella for ACCESS-CM2.r1i1p1f1.gn ...\n",
      "\n"
     ]
    },
    {
     "data": {
      "application/vnd.jupyter.widget-view+json": {
       "model_id": "cbe6bbabcad341eca31aa0cca3038b78",
       "version_major": 2,
       "version_minor": 0
      },
      "text/plain": [
       "areacella_fx_ACCESS-CM2_historical_r1...:   0%|          |0.00/48.4k [?B/s]"
      ]
     },
     "metadata": {},
     "output_type": "display_data"
    },
    {
     "name": "stdout",
     "output_type": "stream",
     "text": [
      "\n",
      "Downloading areacella for ACCESS-ESM1-5.r1i1p1f1.gn ...\n",
      "\n"
     ]
    },
    {
     "data": {
      "application/vnd.jupyter.widget-view+json": {
       "model_id": "79c83d1db2024575be76c64d130bda88",
       "version_major": 2,
       "version_minor": 0
      },
      "text/plain": [
       "areacella_fx_ACCESS-ESM1-5_historical...:   0%|          |0.00/48.4k [?B/s]"
      ]
     },
     "metadata": {},
     "output_type": "display_data"
    },
    {
     "name": "stdout",
     "output_type": "stream",
     "text": [
      "\n",
      "Downloading areacella for BCC-ESM1.r1i1p1f1.gn ...\n",
      "\n"
     ]
    },
    {
     "data": {
      "application/vnd.jupyter.widget-view+json": {
       "model_id": "fb29227412a1428fa256700965c64ffe",
       "version_major": 2,
       "version_minor": 0
      },
      "text/plain": [
       "areacella_fx_BCC-ESM1_1pctCO2_r1i1p1f...:   0%|          |0.00/50.8k [?B/s]"
      ]
     },
     "metadata": {},
     "output_type": "display_data"
    },
    {
     "name": "stdout",
     "output_type": "stream",
     "text": [
      "\n",
      "Downloading areacella for CanESM5.r1i1p2f1.gn ...\n",
      "\n"
     ]
    },
    {
     "data": {
      "application/vnd.jupyter.widget-view+json": {
       "model_id": "4997f363449649a88a8944f2e3065352",
       "version_major": 2,
       "version_minor": 0
      },
      "text/plain": [
       "areacella_fx_CanESM5_amip_r1i1p1f1_gn...:   0%|          |0.00/48.0k [?B/s]"
      ]
     },
     "metadata": {},
     "output_type": "display_data"
    },
    {
     "name": "stdout",
     "output_type": "stream",
     "text": [
      "\n",
      "Downloading areacella for CESM2.r1i1p1f1.gn ...\n",
      "\n"
     ]
    },
    {
     "data": {
      "application/vnd.jupyter.widget-view+json": {
       "model_id": "00dd97afeda247a2ab9708a4c3afbbad",
       "version_major": 2,
       "version_minor": 0
      },
      "text/plain": [
       "areacella_fx_CESM2_ssp126_r10i1p1f1_g...:   0%|          |0.00/44.7k [?B/s]"
      ]
     },
     "metadata": {},
     "output_type": "display_data"
    },
    {
     "name": "stdout",
     "output_type": "stream",
     "text": [
      "\n",
      "Downloading areacella for CESM2-WACCM.r1i2p1f1.gn ...\n",
      "\n"
     ]
    },
    {
     "data": {
      "application/vnd.jupyter.widget-view+json": {
       "model_id": "f51d5db668c24ae7a4a598e4389898fa",
       "version_major": 2,
       "version_minor": 0
      },
      "text/plain": [
       "areacella_fx_CESM2-WACCM_ssp126_r1i1p...:   0%|          |0.00/44.7k [?B/s]"
      ]
     },
     "metadata": {},
     "output_type": "display_data"
    },
    {
     "name": "stdout",
     "output_type": "stream",
     "text": [
      "\n",
      "Downloading areacella for CNRM-CM6-1.r1i1p1f2.gr ...\n",
      "\n"
     ]
    },
    {
     "data": {
      "application/vnd.jupyter.widget-view+json": {
       "model_id": "f9fd34a218ad451b922229152ddf75ff",
       "version_major": 2,
       "version_minor": 0
      },
      "text/plain": [
       "areacella_fx_CNRM-CM6-1_amip_r1i1p1f2...:   0%|          |0.00/30.5k [?B/s]"
      ]
     },
     "metadata": {},
     "output_type": "display_data"
    },
    {
     "name": "stdout",
     "output_type": "stream",
     "text": [
      "\n",
      "Downloading areacella for CNRM-ESM2-1.r1i1p1f2.gr ...\n",
      "\n"
     ]
    },
    {
     "data": {
      "application/vnd.jupyter.widget-view+json": {
       "model_id": "3e18e1391d064c7b9d056a4c6574cc6c",
       "version_major": 2,
       "version_minor": 0
      },
      "text/plain": [
       "areacella_fx_CNRM-ESM2-1_historical_r...:   0%|          |0.00/30.5k [?B/s]"
      ]
     },
     "metadata": {},
     "output_type": "display_data"
    },
    {
     "name": "stdout",
     "output_type": "stream",
     "text": [
      "\n",
      "Downloading areacella for E3SM-2-0.r1i1p1f1.gr ...\n",
      "\n"
     ]
    },
    {
     "data": {
      "application/vnd.jupyter.widget-view+json": {
       "model_id": "5b4ccd60029841be9fb3f1c778be35df",
       "version_major": 2,
       "version_minor": 0
      },
      "text/plain": [
       "areacella_fx_E3SM-2-0_hist-GHG_r5i1p1...:   0%|          |0.00/52.2k [?B/s]"
      ]
     },
     "metadata": {},
     "output_type": "display_data"
    },
    {
     "name": "stdout",
     "output_type": "stream",
     "text": [
      "\n",
      "Downloading areacella for EC-Earth3.r1i1p1f1.gr ...\n",
      "\n"
     ]
    },
    {
     "data": {
      "application/vnd.jupyter.widget-view+json": {
       "model_id": "ab93fc67fbc8405ebc11b243dc10877c",
       "version_major": 2,
       "version_minor": 0
      },
      "text/plain": [
       "areacella_fx_EC-Earth3_ssp245_r1i1p1f...:   0%|          |0.00/57.9k [?B/s]"
      ]
     },
     "metadata": {},
     "output_type": "display_data"
    },
    {
     "name": "stdout",
     "output_type": "stream",
     "text": [
      "\n",
      "Downloading areacella for EC-Earth3.r2i1p1f1.gr ...\n",
      "\n",
      "\n",
      "Downloading areacella for EC-Earth3-AerChem.r1i1p1f1.gr ...\n",
      "\n"
     ]
    },
    {
     "data": {
      "application/vnd.jupyter.widget-view+json": {
       "model_id": "7564b85c183f44128aded3480f8fdee2",
       "version_major": 2,
       "version_minor": 0
      },
      "text/plain": [
       "areacella_fx_EC-Earth3-AerChem_histor...:   0%|          |0.00/57.7k [?B/s]"
      ]
     },
     "metadata": {},
     "output_type": "display_data"
    },
    {
     "name": "stdout",
     "output_type": "stream",
     "text": [
      "\n",
      "Downloading areacella for EC-Earth3-AerChem.r1i1p4f1.gr ...\n",
      "\n",
      "\n",
      "Downloading areacella for GFDL-CM4.r1i1p1f1.gr1 ...\n",
      "\n"
     ]
    },
    {
     "data": {
      "application/vnd.jupyter.widget-view+json": {
       "model_id": "e998438a24d74c51a65aadc58192ae9d",
       "version_major": 2,
       "version_minor": 0
      },
      "text/plain": [
       "areacella_fx_GFDL-CM4_ssp245_r1i1p1f1...:   0%|          |0.00/41.7k [?B/s]"
      ]
     },
     "metadata": {},
     "output_type": "display_data"
    },
    {
     "name": "stdout",
     "output_type": "stream",
     "text": [
      "\n",
      "Downloading areacella for GFDL-ESM4.r1i1p1f1.gr1 ...\n",
      "\n"
     ]
    },
    {
     "data": {
      "application/vnd.jupyter.widget-view+json": {
       "model_id": "c585f6f0724a47ecbc846601bea8e20f",
       "version_major": 2,
       "version_minor": 0
      },
      "text/plain": [
       "areacella_fx_GFDL-ESM4_ssp119_r1i1p1f...:   0%|          |0.00/41.8k [?B/s]"
      ]
     },
     "metadata": {},
     "output_type": "display_data"
    },
    {
     "name": "stdout",
     "output_type": "stream",
     "text": [
      "\n",
      "Downloading areacella for GISS-E2-1-G.r1i1p1f1.gn ...\n",
      "\n"
     ]
    },
    {
     "data": {
      "application/vnd.jupyter.widget-view+json": {
       "model_id": "45d9167366e94297aa39b5672372f361",
       "version_major": 2,
       "version_minor": 0
      },
      "text/plain": [
       "areacella_fx_GISS-E2-1-G_piControl_r1...:   0%|          |0.00/71.5k [?B/s]"
      ]
     },
     "metadata": {},
     "output_type": "display_data"
    },
    {
     "name": "stdout",
     "output_type": "stream",
     "text": [
      "\n",
      "Downloading areacella for GISS-E2-1-G.r1i1p1f2.gn ...\n",
      "\n",
      "\n",
      "Downloading areacella for GISS-E2-1-G.r1i1p3f1.gn ...\n",
      "\n",
      "\n",
      "Downloading areacella for GISS-E2-1-G.r1i1p3f2.gn ...\n",
      "\n",
      "\n",
      "Downloading areacella for HadGEM3-GC31-LL.r1i1p1f3.gn ...\n",
      "\n"
     ]
    },
    {
     "data": {
      "application/vnd.jupyter.widget-view+json": {
       "model_id": "bf6b4e346b224fdf8dfdf8d1cfb0defb",
       "version_major": 2,
       "version_minor": 0
      },
      "text/plain": [
       "areacella_fx_HadGEM3-GC31-LL_piContro...:   0%|          |0.00/65.5k [?B/s]"
      ]
     },
     "metadata": {},
     "output_type": "display_data"
    },
    {
     "name": "stdout",
     "output_type": "stream",
     "text": [
      "\n",
      "Downloading areacella for IPSL-CM6A-LR.r1i1p1f1.gr ...\n",
      "\n"
     ]
    },
    {
     "data": {
      "application/vnd.jupyter.widget-view+json": {
       "model_id": "024884c7946548b1a1ca5621f2c573f6",
       "version_major": 2,
       "version_minor": 0
      },
      "text/plain": [
       "areacella_fx_IPSL-CM6A-LR_historical_...:   0%|          |0.00/30.3k [?B/s]"
      ]
     },
     "metadata": {},
     "output_type": "display_data"
    },
    {
     "name": "stdout",
     "output_type": "stream",
     "text": [
      "\n",
      "Downloading areacella for IPSL-CM6A-LR.r2i1p1f1.gr ...\n",
      "\n",
      "\n",
      "Downloading areacella for IPSL-CM6A-LR.r3i1p1f1.gr ...\n",
      "\n",
      "\n",
      "Downloading areacella for IPSL-CM6A-LR.r4i1p1f1.gr ...\n",
      "\n",
      "\n",
      "Downloading areacella for IPSL-CM6A-LR.r5i1p1f1.gr ...\n",
      "\n"
     ]
    },
    {
     "ename": "KeyboardInterrupt",
     "evalue": "",
     "output_type": "error",
     "traceback": [
      "\u001b[31m---------------------------------------------------------------------------\u001b[39m",
      "\u001b[31mIndexError\u001b[39m                                Traceback (most recent call last)",
      "\u001b[36mFile \u001b[39m\u001b[32m~/my-conda-envs/cmip6-download/lib/python3.13/multiprocessing/pool.py:856\u001b[39m, in \u001b[36mIMapIterator.next\u001b[39m\u001b[34m(self, timeout)\u001b[39m\n\u001b[32m    855\u001b[39m \u001b[38;5;28;01mtry\u001b[39;00m:\n\u001b[32m--> \u001b[39m\u001b[32m856\u001b[39m     item = \u001b[38;5;28;43mself\u001b[39;49m\u001b[43m.\u001b[49m\u001b[43m_items\u001b[49m\u001b[43m.\u001b[49m\u001b[43mpopleft\u001b[49m\u001b[43m(\u001b[49m\u001b[43m)\u001b[49m\n\u001b[32m    857\u001b[39m \u001b[38;5;28;01mexcept\u001b[39;00m \u001b[38;5;167;01mIndexError\u001b[39;00m:\n",
      "\u001b[31mIndexError\u001b[39m: pop from an empty deque",
      "\nDuring handling of the above exception, another exception occurred:\n",
      "\u001b[31mKeyboardInterrupt\u001b[39m                         Traceback (most recent call last)",
      "\u001b[36mCell\u001b[39m\u001b[36m \u001b[39m\u001b[32mIn[27]\u001b[39m\u001b[32m, line 39\u001b[39m\n\u001b[32m     35\u001b[39m     source_id = \u001b[33m\"\u001b[39m\u001b[33mIPSL-CM6A-LR\u001b[39m\u001b[33m\"\u001b[39m\n\u001b[32m     37\u001b[39m \u001b[38;5;66;03m## Do the full search ##\u001b[39;00m\n\u001b[32m---> \u001b[39m\u001b[32m39\u001b[39m areacella_search_full = \u001b[43mcatalog\u001b[49m\u001b[43m.\u001b[49m\u001b[43msearch\u001b[49m\u001b[43m(\u001b[49m\n\u001b[32m     40\u001b[39m \u001b[43m    \u001b[49m\u001b[43msource_id\u001b[49m\u001b[43m=\u001b[49m\u001b[43msource_id\u001b[49m\u001b[43m,\u001b[49m\n\u001b[32m     41\u001b[39m \u001b[43m    \u001b[49m\u001b[43mgrid_label\u001b[49m\u001b[43m=\u001b[49m\u001b[43mgrid_label\u001b[49m\u001b[43m,\u001b[49m\n\u001b[32m     42\u001b[39m \u001b[43m    \u001b[49m\u001b[43mvariable_id\u001b[49m\u001b[43m=\u001b[49m\u001b[33;43m\"\u001b[39;49m\u001b[33;43mareacella\u001b[39;49m\u001b[33;43m\"\u001b[39;49m\u001b[43m,\u001b[49m\n\u001b[32m     43\u001b[39m \u001b[43m    \u001b[49m\u001b[43mquiet\u001b[49m\u001b[43m=\u001b[49m\u001b[38;5;28;43;01mTrue\u001b[39;49;00m\u001b[43m,\u001b[49m\n\u001b[32m     44\u001b[39m \u001b[43m\u001b[49m\u001b[43m)\u001b[49m.df  \u001b[38;5;66;03m# silence the progress bar\u001b[39;00m\n\u001b[32m     46\u001b[39m \u001b[38;5;66;03m## Extract the first experiment id that gives an areacella entry ##\u001b[39;00m\n\u001b[32m     48\u001b[39m only_first_exp_id = areacella_search_full.experiment_id.values[\u001b[32m0\u001b[39m]\n",
      "\u001b[36mFile \u001b[39m\u001b[32m~/my-conda-envs/cmip6-download/lib/python3.13/site-packages/intake_esgf/catalog.py:336\u001b[39m, in \u001b[36mESGFCatalog.search\u001b[39m\u001b[34m(self, quiet, **search)\u001b[39m\n\u001b[32m    334\u001b[39m search_time = time.time()\n\u001b[32m    335\u001b[39m dfs = ThreadPool(\u001b[38;5;28mlen\u001b[39m(\u001b[38;5;28mself\u001b[39m.indices)).imap_unordered(_search, \u001b[38;5;28mself\u001b[39m.indices)\n\u001b[32m--> \u001b[39m\u001b[32m336\u001b[39m \u001b[38;5;28mself\u001b[39m.df = \u001b[43mbase\u001b[49m\u001b[43m.\u001b[49m\u001b[43mcombine_results\u001b[49m\u001b[43m(\u001b[49m\n\u001b[32m    337\u001b[39m \u001b[43m    \u001b[49m\u001b[43mtqdm\u001b[49m\u001b[43m(\u001b[49m\n\u001b[32m    338\u001b[39m \u001b[43m        \u001b[49m\u001b[43mdfs\u001b[49m\u001b[43m,\u001b[49m\n\u001b[32m    339\u001b[39m \u001b[43m        \u001b[49m\u001b[43mdisable\u001b[49m\u001b[43m=\u001b[49m\u001b[43mquiet\u001b[49m\u001b[43m,\u001b[49m\n\u001b[32m    340\u001b[39m \u001b[43m        \u001b[49m\u001b[43mbar_format\u001b[49m\u001b[43m=\u001b[49m\u001b[43mbase\u001b[49m\u001b[43m.\u001b[49m\u001b[43mbar_format\u001b[49m\u001b[43m,\u001b[49m\n\u001b[32m    341\u001b[39m \u001b[43m        \u001b[49m\u001b[43munit\u001b[49m\u001b[43m=\u001b[49m\u001b[33;43m\"\u001b[39;49m\u001b[33;43mindex\u001b[39;49m\u001b[33;43m\"\u001b[39;49m\u001b[43m,\u001b[49m\n\u001b[32m    342\u001b[39m \u001b[43m        \u001b[49m\u001b[43munit_scale\u001b[49m\u001b[43m=\u001b[49m\u001b[38;5;28;43;01mFalse\u001b[39;49;00m\u001b[43m,\u001b[49m\n\u001b[32m    343\u001b[39m \u001b[43m        \u001b[49m\u001b[43mdesc\u001b[49m\u001b[43m=\u001b[49m\u001b[33;43m\"\u001b[39;49m\u001b[33;43mSearching indices\u001b[39;49m\u001b[33;43m\"\u001b[39;49m\u001b[43m,\u001b[49m\n\u001b[32m    344\u001b[39m \u001b[43m        \u001b[49m\u001b[43mascii\u001b[49m\u001b[43m=\u001b[49m\u001b[38;5;28;43;01mFalse\u001b[39;49;00m\u001b[43m,\u001b[49m\n\u001b[32m    345\u001b[39m \u001b[43m        \u001b[49m\u001b[43mtotal\u001b[49m\u001b[43m=\u001b[49m\u001b[38;5;28;43mlen\u001b[39;49m\u001b[43m(\u001b[49m\u001b[38;5;28;43mself\u001b[39;49m\u001b[43m.\u001b[49m\u001b[43mindices\u001b[49m\u001b[43m)\u001b[49m\u001b[43m,\u001b[49m\n\u001b[32m    346\u001b[39m \u001b[43m    \u001b[49m\u001b[43m)\u001b[49m\n\u001b[32m    347\u001b[39m \u001b[43m\u001b[49m\u001b[43m)\u001b[49m\n\u001b[32m    348\u001b[39m \u001b[38;5;28mself\u001b[39m._set_project()\n\u001b[32m    350\u001b[39m \u001b[38;5;66;03m# even though we are using latest=True, because the search is distributed, we\u001b[39;00m\n\u001b[32m    351\u001b[39m \u001b[38;5;66;03m# may have different versions from different indices.\u001b[39;00m\n",
      "\u001b[36mFile \u001b[39m\u001b[32m~/my-conda-envs/cmip6-download/lib/python3.13/site-packages/intake_esgf/base.py:210\u001b[39m, in \u001b[36mcombine_results\u001b[39m\u001b[34m(dfs)\u001b[39m\n\u001b[32m    208\u001b[39m \u001b[38;5;66;03m# combine and remove duplicate entries\u001b[39;00m\n\u001b[32m    209\u001b[39m logger = intake_esgf.conf.get_logger()\n\u001b[32m--> \u001b[39m\u001b[32m210\u001b[39m df = \u001b[43mpd\u001b[49m\u001b[43m.\u001b[49m\u001b[43mconcat\u001b[49m\u001b[43m(\u001b[49m\u001b[43mdfs\u001b[49m\u001b[43m)\u001b[49m\n\u001b[32m    211\u001b[39m \u001b[38;5;28;01mif\u001b[39;00m \u001b[38;5;28mlen\u001b[39m(df) == \u001b[32m0\u001b[39m:\n\u001b[32m    212\u001b[39m     logger.info(\u001b[33m\"\u001b[39m\u001b[38;5;130;01m\\x1b\u001b[39;00m\u001b[33m[36;32msearch end \u001b[39m\u001b[38;5;130;01m\\x1b\u001b[39;00m\u001b[33m[91;20mno results\u001b[39m\u001b[38;5;130;01m\\033\u001b[39;00m\u001b[33m[0m\u001b[39m\u001b[33m\"\u001b[39m)\n",
      "\u001b[36mFile \u001b[39m\u001b[32m~/my-conda-envs/cmip6-download/lib/python3.13/site-packages/pandas/core/reshape/concat.py:382\u001b[39m, in \u001b[36mconcat\u001b[39m\u001b[34m(objs, axis, join, ignore_index, keys, levels, names, verify_integrity, sort, copy)\u001b[39m\n\u001b[32m    379\u001b[39m \u001b[38;5;28;01melif\u001b[39;00m copy \u001b[38;5;129;01mand\u001b[39;00m using_copy_on_write():\n\u001b[32m    380\u001b[39m     copy = \u001b[38;5;28;01mFalse\u001b[39;00m\n\u001b[32m--> \u001b[39m\u001b[32m382\u001b[39m op = \u001b[43m_Concatenator\u001b[49m\u001b[43m(\u001b[49m\n\u001b[32m    383\u001b[39m \u001b[43m    \u001b[49m\u001b[43mobjs\u001b[49m\u001b[43m,\u001b[49m\n\u001b[32m    384\u001b[39m \u001b[43m    \u001b[49m\u001b[43maxis\u001b[49m\u001b[43m=\u001b[49m\u001b[43maxis\u001b[49m\u001b[43m,\u001b[49m\n\u001b[32m    385\u001b[39m \u001b[43m    \u001b[49m\u001b[43mignore_index\u001b[49m\u001b[43m=\u001b[49m\u001b[43mignore_index\u001b[49m\u001b[43m,\u001b[49m\n\u001b[32m    386\u001b[39m \u001b[43m    \u001b[49m\u001b[43mjoin\u001b[49m\u001b[43m=\u001b[49m\u001b[43mjoin\u001b[49m\u001b[43m,\u001b[49m\n\u001b[32m    387\u001b[39m \u001b[43m    \u001b[49m\u001b[43mkeys\u001b[49m\u001b[43m=\u001b[49m\u001b[43mkeys\u001b[49m\u001b[43m,\u001b[49m\n\u001b[32m    388\u001b[39m \u001b[43m    \u001b[49m\u001b[43mlevels\u001b[49m\u001b[43m=\u001b[49m\u001b[43mlevels\u001b[49m\u001b[43m,\u001b[49m\n\u001b[32m    389\u001b[39m \u001b[43m    \u001b[49m\u001b[43mnames\u001b[49m\u001b[43m=\u001b[49m\u001b[43mnames\u001b[49m\u001b[43m,\u001b[49m\n\u001b[32m    390\u001b[39m \u001b[43m    \u001b[49m\u001b[43mverify_integrity\u001b[49m\u001b[43m=\u001b[49m\u001b[43mverify_integrity\u001b[49m\u001b[43m,\u001b[49m\n\u001b[32m    391\u001b[39m \u001b[43m    \u001b[49m\u001b[43mcopy\u001b[49m\u001b[43m=\u001b[49m\u001b[43mcopy\u001b[49m\u001b[43m,\u001b[49m\n\u001b[32m    392\u001b[39m \u001b[43m    \u001b[49m\u001b[43msort\u001b[49m\u001b[43m=\u001b[49m\u001b[43msort\u001b[49m\u001b[43m,\u001b[49m\n\u001b[32m    393\u001b[39m \u001b[43m\u001b[49m\u001b[43m)\u001b[49m\n\u001b[32m    395\u001b[39m \u001b[38;5;28;01mreturn\u001b[39;00m op.get_result()\n",
      "\u001b[36mFile \u001b[39m\u001b[32m~/my-conda-envs/cmip6-download/lib/python3.13/site-packages/pandas/core/reshape/concat.py:445\u001b[39m, in \u001b[36m_Concatenator.__init__\u001b[39m\u001b[34m(self, objs, axis, join, keys, levels, names, ignore_index, verify_integrity, copy, sort)\u001b[39m\n\u001b[32m    442\u001b[39m \u001b[38;5;28mself\u001b[39m.verify_integrity = verify_integrity\n\u001b[32m    443\u001b[39m \u001b[38;5;28mself\u001b[39m.copy = copy\n\u001b[32m--> \u001b[39m\u001b[32m445\u001b[39m objs, keys = \u001b[38;5;28;43mself\u001b[39;49m\u001b[43m.\u001b[49m\u001b[43m_clean_keys_and_objs\u001b[49m\u001b[43m(\u001b[49m\u001b[43mobjs\u001b[49m\u001b[43m,\u001b[49m\u001b[43m \u001b[49m\u001b[43mkeys\u001b[49m\u001b[43m)\u001b[49m\n\u001b[32m    447\u001b[39m \u001b[38;5;66;03m# figure out what our result ndim is going to be\u001b[39;00m\n\u001b[32m    448\u001b[39m ndims = \u001b[38;5;28mself\u001b[39m._get_ndims(objs)\n",
      "\u001b[36mFile \u001b[39m\u001b[32m~/my-conda-envs/cmip6-download/lib/python3.13/site-packages/pandas/core/reshape/concat.py:504\u001b[39m, in \u001b[36m_Concatenator._clean_keys_and_objs\u001b[39m\u001b[34m(self, objs, keys)\u001b[39m\n\u001b[32m    502\u001b[39m     objs_list = [objs[k] \u001b[38;5;28;01mfor\u001b[39;00m k \u001b[38;5;129;01min\u001b[39;00m keys]\n\u001b[32m    503\u001b[39m \u001b[38;5;28;01melse\u001b[39;00m:\n\u001b[32m--> \u001b[39m\u001b[32m504\u001b[39m     objs_list = \u001b[38;5;28;43mlist\u001b[39;49m\u001b[43m(\u001b[49m\u001b[43mobjs\u001b[49m\u001b[43m)\u001b[49m\n\u001b[32m    506\u001b[39m \u001b[38;5;28;01mif\u001b[39;00m \u001b[38;5;28mlen\u001b[39m(objs_list) == \u001b[32m0\u001b[39m:\n\u001b[32m    507\u001b[39m     \u001b[38;5;28;01mraise\u001b[39;00m \u001b[38;5;167;01mValueError\u001b[39;00m(\u001b[33m\"\u001b[39m\u001b[33mNo objects to concatenate\u001b[39m\u001b[33m\"\u001b[39m)\n",
      "\u001b[36mFile \u001b[39m\u001b[32m~/my-conda-envs/cmip6-download/lib/python3.13/site-packages/tqdm/notebook.py:250\u001b[39m, in \u001b[36mtqdm_notebook.__iter__\u001b[39m\u001b[34m(self)\u001b[39m\n\u001b[32m    248\u001b[39m \u001b[38;5;28;01mtry\u001b[39;00m:\n\u001b[32m    249\u001b[39m     it = \u001b[38;5;28msuper\u001b[39m().\u001b[34m__iter__\u001b[39m()\n\u001b[32m--> \u001b[39m\u001b[32m250\u001b[39m \u001b[43m    \u001b[49m\u001b[38;5;28;43;01mfor\u001b[39;49;00m\u001b[43m \u001b[49m\u001b[43mobj\u001b[49m\u001b[43m \u001b[49m\u001b[38;5;129;43;01min\u001b[39;49;00m\u001b[43m \u001b[49m\u001b[43mit\u001b[49m\u001b[43m:\u001b[49m\n\u001b[32m    251\u001b[39m \u001b[43m        \u001b[49m\u001b[38;5;66;43;03m# return super(tqdm...) will not catch exception\u001b[39;49;00m\n\u001b[32m    252\u001b[39m \u001b[43m        \u001b[49m\u001b[38;5;28;43;01myield\u001b[39;49;00m\u001b[43m \u001b[49m\u001b[43mobj\u001b[49m\n\u001b[32m    253\u001b[39m \u001b[38;5;66;03m# NB: except ... [ as ...] breaks IPython async KeyboardInterrupt\u001b[39;00m\n",
      "\u001b[36mFile \u001b[39m\u001b[32m~/my-conda-envs/cmip6-download/lib/python3.13/site-packages/tqdm/std.py:1169\u001b[39m, in \u001b[36mtqdm.__iter__\u001b[39m\u001b[34m(self)\u001b[39m\n\u001b[32m   1166\u001b[39m \u001b[38;5;66;03m# If the bar is disabled, then just walk the iterable\u001b[39;00m\n\u001b[32m   1167\u001b[39m \u001b[38;5;66;03m# (note: keep this check outside the loop for performance)\u001b[39;00m\n\u001b[32m   1168\u001b[39m \u001b[38;5;28;01mif\u001b[39;00m \u001b[38;5;28mself\u001b[39m.disable:\n\u001b[32m-> \u001b[39m\u001b[32m1169\u001b[39m \u001b[43m    \u001b[49m\u001b[38;5;28;43;01mfor\u001b[39;49;00m\u001b[43m \u001b[49m\u001b[43mobj\u001b[49m\u001b[43m \u001b[49m\u001b[38;5;129;43;01min\u001b[39;49;00m\u001b[43m \u001b[49m\u001b[43miterable\u001b[49m\u001b[43m:\u001b[49m\n\u001b[32m   1170\u001b[39m \u001b[43m        \u001b[49m\u001b[38;5;28;43;01myield\u001b[39;49;00m\u001b[43m \u001b[49m\u001b[43mobj\u001b[49m\n\u001b[32m   1171\u001b[39m     \u001b[38;5;28;01mreturn\u001b[39;00m\n",
      "\u001b[36mFile \u001b[39m\u001b[32m~/my-conda-envs/cmip6-download/lib/python3.13/multiprocessing/pool.py:861\u001b[39m, in \u001b[36mIMapIterator.next\u001b[39m\u001b[34m(self, timeout)\u001b[39m\n\u001b[32m    859\u001b[39m     \u001b[38;5;28mself\u001b[39m._pool = \u001b[38;5;28;01mNone\u001b[39;00m\n\u001b[32m    860\u001b[39m     \u001b[38;5;28;01mraise\u001b[39;00m \u001b[38;5;167;01mStopIteration\u001b[39;00m \u001b[38;5;28;01mfrom\u001b[39;00m\u001b[38;5;250m \u001b[39m\u001b[38;5;28;01mNone\u001b[39;00m\n\u001b[32m--> \u001b[39m\u001b[32m861\u001b[39m \u001b[38;5;28;43mself\u001b[39;49m\u001b[43m.\u001b[49m\u001b[43m_cond\u001b[49m\u001b[43m.\u001b[49m\u001b[43mwait\u001b[49m\u001b[43m(\u001b[49m\u001b[43mtimeout\u001b[49m\u001b[43m)\u001b[49m\n\u001b[32m    862\u001b[39m \u001b[38;5;28;01mtry\u001b[39;00m:\n\u001b[32m    863\u001b[39m     item = \u001b[38;5;28mself\u001b[39m._items.popleft()\n",
      "\u001b[36mFile \u001b[39m\u001b[32m~/my-conda-envs/cmip6-download/lib/python3.13/threading.py:359\u001b[39m, in \u001b[36mCondition.wait\u001b[39m\u001b[34m(self, timeout)\u001b[39m\n\u001b[32m    357\u001b[39m \u001b[38;5;28;01mtry\u001b[39;00m:    \u001b[38;5;66;03m# restore state no matter what (e.g., KeyboardInterrupt)\u001b[39;00m\n\u001b[32m    358\u001b[39m     \u001b[38;5;28;01mif\u001b[39;00m timeout \u001b[38;5;129;01mis\u001b[39;00m \u001b[38;5;28;01mNone\u001b[39;00m:\n\u001b[32m--> \u001b[39m\u001b[32m359\u001b[39m         \u001b[43mwaiter\u001b[49m\u001b[43m.\u001b[49m\u001b[43macquire\u001b[49m\u001b[43m(\u001b[49m\u001b[43m)\u001b[49m\n\u001b[32m    360\u001b[39m         gotit = \u001b[38;5;28;01mTrue\u001b[39;00m\n\u001b[32m    361\u001b[39m     \u001b[38;5;28;01melse\u001b[39;00m:\n",
      "\u001b[31mKeyboardInterrupt\u001b[39m: "
     ]
    }
   ],
   "source": [
    "# ================ HOMEMADE ROUTINE TO GET AREACELLA GRIDS FASTER ================ #\n",
    "\n",
    "### INITIALISATION  ###\n",
    "\n",
    "## Initialise the full dictionary ##\n",
    "\n",
    "dict_areacella = {}\n",
    "\n",
    "## Number of rows ##\n",
    "\n",
    "n_rows = series_grouped_models.size\n",
    "\n",
    "### GO THROUGH EVERY ROW OF THE PANDA SERIES ###\n",
    "\n",
    "for ii in range(n_rows):\n",
    "\n",
    "    ## Get the SOURCE_ID | MEMBER_ID | GRID_LABEL of the row ##\n",
    "\n",
    "    # Retrieve the row ##\n",
    "\n",
    "    row_ii = series_grouped_models.index[ii]\n",
    "\n",
    "    # Extract the labels #\n",
    "\n",
    "    source_id, member_id, grid_label = row_ii\n",
    "\n",
    "    # Build the key for this dictionary entry ##\n",
    "\n",
    "    full_key = source_id + \".\" + member_id + \".\" + grid_label\n",
    "\n",
    "    ## Special case for the IPSL-CM6A-LR-INCA model ##\n",
    "\n",
    "    if source_id == \"IPSL-CM6A-LR-INCA\":\n",
    "\n",
    "        source_id = \"IPSL-CM6A-LR\"\n",
    "\n",
    "    ## Do the full search ##\n",
    "\n",
    "    areacella_search_full = catalog.search(\n",
    "        source_id=source_id,\n",
    "        grid_label=grid_label,\n",
    "        variable_id=\"areacella\",\n",
    "        quiet=True,\n",
    "    ).df  # silence the progress bar\n",
    "\n",
    "    ## Extract the first experiment id that gives an areacella entry ##\n",
    "\n",
    "    only_first_exp_id = areacella_search_full.experiment_id.values[0]\n",
    "\n",
    "    ## Extract the first member id that gives an areacella entry ##\n",
    "\n",
    "    only_first_member_id = areacella_search_full.member_id.values[0]\n",
    "\n",
    "    ## Get the areacella for the given row ##\n",
    "\n",
    "    # Search and download it #\n",
    "\n",
    "    print(\"\\nDownloading areacella for {} ...\\n\".format(full_key))\n",
    "\n",
    "    areacella_ii = catalog.search(\n",
    "        source_id=source_id,\n",
    "        grid_label=grid_label,\n",
    "        variable_id=\"areacella\",\n",
    "        experiment_id=only_first_exp_id,\n",
    "        member_id=only_first_member_id,\n",
    "        quiet=True\n",
    "    ).to_dataset_dict(\n",
    "        add_measures=False, \n",
    "        quiet=True\n",
    "    )  # silence the progress bar\n",
    "\n",
    "    # Store it in dictionary #\n",
    "\n",
    "    dict_areacella[full_key] = areacella_ii[\"areacella\"]"
   ]
  },
  {
   "cell_type": "markdown",
   "id": "4925f40d",
   "metadata": {},
   "source": [
    "---\n",
    "\n",
    "## Combine the extracted data into full xarray datasets and saves them on disk\n",
    "\n",
    "---"
   ]
  },
  {
   "cell_type": "markdown",
   "id": "fd6f6050",
   "metadata": {},
   "source": []
  }
 ],
 "metadata": {
  "kernelspec": {
   "display_name": "cmip6-download",
   "language": "python",
   "name": "cmip6-download"
  },
  "language_info": {
   "codemirror_mode": {
    "name": "ipython",
    "version": 3
   },
   "file_extension": ".py",
   "mimetype": "text/x-python",
   "name": "python",
   "nbconvert_exporter": "python",
   "pygments_lexer": "ipython3",
   "version": "3.13.2"
  }
 },
 "nbformat": 4,
 "nbformat_minor": 5
}
